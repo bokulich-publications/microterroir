{
 "cells": [
  {
   "attachments": {},
   "cell_type": "markdown",
   "id": "c133218d",
   "metadata": {},
   "source": [
    "# Lavaux Sensor Data: Temperature \n",
    "\n",
    "> LOCAL"
   ]
  },
  {
   "cell_type": "code",
   "execution_count": 21,
   "id": "219a13d1",
   "metadata": {},
   "outputs": [],
   "source": [
    "import pandas as pd\n",
    "import os\n",
    "import glob\n",
    "import numpy as np\n",
    "import re\n",
    "from scipy import stats\n",
    "import sklearn\n",
    "\n",
    "from sklearn.cluster import KMeans\n",
    "from sklearn.neighbors import LocalOutlierFactor\n",
    "from tslearn.clustering import TimeSeriesKMeans\n",
    "from scipy.stats import zscore\n",
    "from scipy.stats import mannwhitneyu\n",
    "import itertools\n",
    "from scipy.stats import kruskal, friedmanchisquare\n",
    "from statsmodels.formula.api import mixedlm\n",
    "\n",
    "import matplotlib.pyplot as plt\n",
    "import seaborn as sns\n",
    "\n",
    "%matplotlib inline"
   ]
  },
  {
   "attachments": {},
   "cell_type": "markdown",
   "id": "8369c097",
   "metadata": {},
   "source": [
    "# 0. Import Temperature of all files \n",
    "readout from HOBO sensors on these dates:\n",
    "1. 2022-03-08\n",
    "2. 2023-05-10\n",
    "3. 2023-09-20\n",
    "\n",
    "--> First column is temperature, second one RH"
   ]
  },
  {
   "cell_type": "code",
   "execution_count": 22,
   "id": "b83affa6",
   "metadata": {},
   "outputs": [],
   "source": [
    "# set the directory \n",
    "os.chdir('/Users/lfloerl/Desktop/MICROTERROIR/Data/Sensor_Data')"
   ]
  },
  {
   "attachments": {},
   "cell_type": "markdown",
   "id": "809ece68",
   "metadata": {},
   "source": [
    "### Sensor metadata "
   ]
  },
  {
   "cell_type": "code",
   "execution_count": null,
   "id": "472a3574",
   "metadata": {},
   "outputs": [],
   "source": [
    "md = pd.read_csv('sensors_metadata.tsv', sep='\\t', index_col=0)\n",
    "\n",
    "# make dict to rename the sensor names with the plot ID \n",
    "rename_columns_dict = dict(zip(md[\"Sensors\"], md.index))"
   ]
  },
  {
   "attachments": {},
   "cell_type": "markdown",
   "id": "c13c2693",
   "metadata": {},
   "source": [
    "### 1. 2021-2022\n",
    "\n",
    "> note Lavaux_003 measured all 15 min (consider subsampling with `df['Lavaux_003'].resample('1H').mean()`)\n",
    "\n",
    "> Sensors were installed on 2021-04-20 and read out 2022-03-08 "
   ]
  },
  {
   "cell_type": "code",
   "execution_count": null,
   "id": "de96dbce",
   "metadata": {},
   "outputs": [],
   "source": [
    "os.chdir('/Users/lfloerl/Desktop/MICROTERROIR/Data/Sensor_Data/2021')\n",
    "all_files = glob.glob(\"Lavaux_*.csv\")\n",
    "\n",
    "# get the names of the sensors \n",
    "names = []\n",
    "names = [x.split('.')[0] for x in all_files]\n",
    "\n",
    "# read in all csv files as a list of dataframes, only use the first 3 columns and set the date as index \n",
    "dfs = [pd.read_csv(f, skiprows=1, usecols=[1,2], index_col=0) for f in all_files]\n",
    "df_2022 = pd.concat(dfs, axis=1)\n",
    "df_2022.index = pd.to_datetime(df_2022.index)\n",
    "\n",
    "# sort by timestamp \n",
    "df_2022.sort_index(inplace=True)\n",
    "\n",
    "# name columns \n",
    "df_2022 = df_2022.set_axis(names, axis=1)\n",
    "df_2022.rename(columns=rename_columns_dict, inplace=True)\n",
    "\n",
    "# set appropriate time frame \n",
    "df_2022 = df_2022[(df_2022.index > '2021-04-21 00:30:00') & (df_2022.index < '2022-03-08 08:00:00')]"
   ]
  },
  {
   "attachments": {},
   "cell_type": "markdown",
   "id": "02fa4c60",
   "metadata": {},
   "source": [
    "### 2. 2022-2023 \n",
    "> note two sensors have gone missing when reading out the sensors in 2023!"
   ]
  },
  {
   "cell_type": "code",
   "execution_count": null,
   "id": "2d87bbe6",
   "metadata": {},
   "outputs": [],
   "source": [
    "os.chdir('/Users/lfloerl/Desktop/MICROTERROIR/Data/Sensor_Data/2023_1')\n",
    "all_files = glob.glob(\"Lavaux_*.csv\")\n",
    "\n",
    "# get the names of the sensors \n",
    "names = []\n",
    "names = [x.split('.')[0] for x in all_files]\n",
    "\n",
    "# read in all csv files as a list of dataframes, only use the first 3 columns and set the date as index \n",
    "dfs = [pd.read_csv(f, skiprows=1, usecols=[1,2], index_col=0) for f in all_files]\n",
    "df_2023 = pd.concat(dfs, axis=1)\n",
    "df_2023.index = pd.to_datetime(df_2023.index)\n",
    "\n",
    "# sort by timestamp \n",
    "df_2023.sort_index(inplace=True)\n",
    "\n",
    "# name columns \n",
    "df_2023 = df_2023.set_axis(names, axis=1)\n",
    "df_2023.rename(columns=rename_columns_dict, inplace=True)\n",
    "\n",
    "# set appropriate time frame \n",
    "df_2023_1 = df_2023[(df_2023.index > '2022-03-08 18:00:00') & (df_2023.index < '2023-05-10 08:00:00')]"
   ]
  },
  {
   "cell_type": "markdown",
   "id": "f246125d",
   "metadata": {},
   "source": [
    "### 3. 2023 \n",
    "growing season of 2023, sensors were collected at harvest (2023-09-20)"
   ]
  },
  {
   "cell_type": "code",
   "execution_count": null,
   "id": "d1080286",
   "metadata": {},
   "outputs": [],
   "source": [
    "os.chdir('/Users/lfloerl/Desktop/MICROTERROIR/Data/Sensor_Data/2023_2')\n",
    "all_files = glob.glob(\"Lavaux_*.csv\")\n",
    "\n",
    "# get the names of the sensors \n",
    "names = []\n",
    "names = [x.split('.')[0] for x in all_files]\n",
    "\n",
    "# read in all csv files as a list of dataframes, only use the first 3 columns and set the date as index \n",
    "dfs = [pd.read_csv(f, skiprows=1, usecols=[1,2], index_col=0) for f in all_files]\n",
    "df_2023 = pd.concat(dfs, axis=1)\n",
    "df_2023.index = pd.to_datetime(df_2023.index)\n",
    "\n",
    "# sort by timestamp \n",
    "df_2023.sort_index(inplace=True)\n",
    "\n",
    "# name columns \n",
    "df_2023 = df_2023.set_axis(names, axis=1)\n",
    "df_2023.rename(columns=rename_columns_dict, inplace=True)\n",
    "\n",
    "# set appropriate time frame \n",
    "df_2023_2 = df_2023[(df_2023.index > '2023-05-10 09:00:00') & (df_2023.index < '2023-09-20 08:00:00')]"
   ]
  },
  {
   "cell_type": "code",
   "execution_count": null,
   "id": "0cbce932",
   "metadata": {},
   "outputs": [],
   "source": [
    "df_2023_2.head()"
   ]
  },
  {
   "cell_type": "markdown",
   "id": "ed5ef5dd",
   "metadata": {},
   "source": [
    "### 4. Agrometeo Data for Plot 19\n",
    "downloaded from: https://www.agrometeo.ch/de/meteorologie/data?stations=98&sensors=1%3Aavg,1%3Amin,1%3Amax,1%3Acumsum%3A0,4%3Aavg,4%3Amin,4%3Amax,6%3Asum&from=2021-03-08&to=2023-09-30&scale=hour&groupBy=station&measured=0"
   ]
  },
  {
   "cell_type": "code",
   "execution_count": null,
   "id": "c41c5ce8",
   "metadata": {},
   "outputs": [],
   "source": [
    "agrometeo_data = pd.read_csv('/Users/lfloerl/Desktop/MICROTERROIR/Data/Sensor_Data/2021/Agrometeo_BEL_all.csv', index_col=0)\n",
    "agrometeo_data.index = pd.to_datetime(agrometeo_data.index, format=\"%d.%m.%Y %H:%M\")\n",
    "# Keep only the first column and rename it to 'Plot_18'\n",
    "agrometeo_data = agrometeo_data.iloc[:, [0]].rename(columns={agrometeo_data.columns[0]: 'Plot_19'})\n",
    "\n",
    "# set appropriate time frame \n",
    "agrometeo_data_time = agrometeo_data[(agrometeo_data.index > '2021-04-21 00:30:00') & (agrometeo_data.index < '2023-09-20 08:00:00')]"
   ]
  },
  {
   "cell_type": "code",
   "execution_count": null,
   "id": "2a802ee3",
   "metadata": {},
   "outputs": [],
   "source": [
    "agrometeo_data_time.head()"
   ]
  },
  {
   "attachments": {},
   "cell_type": "markdown",
   "id": "7f2bcc3b",
   "metadata": {},
   "source": [
    "### Merge all data"
   ]
  },
  {
   "cell_type": "code",
   "execution_count": null,
   "id": "bb9bc684",
   "metadata": {},
   "outputs": [],
   "source": [
    "df_temp_2 = pd.concat([df_2022,df_2023_1,df_2023_2], join='outer', axis=0)\n",
    "df_temp = pd.merge(df_temp, agrometeo_data_time, left_index=True, right_index=True, how='outer')"
   ]
  },
  {
   "cell_type": "code",
   "execution_count": null,
   "id": "18710796",
   "metadata": {},
   "outputs": [],
   "source": [
    "# set the directory \n",
    "os.chdir('/Users/lfloerl/Desktop/MICROTERROIR/Data/Sensor_Data')\n",
    "\n",
    "# save merged data \n",
    "df_temp.to_csv('Lavaux_all_Temp_raw.csv')"
   ]
  },
  {
   "cell_type": "code",
   "execution_count": null,
   "id": "8a55ecb5",
   "metadata": {},
   "outputs": [],
   "source": [
    "# plot monthly temperature over the 3 years \n",
    "plt.figure(figsize=(20, 6))\n",
    "\n",
    "# get mean temperature for each month\n",
    "show_temps = df_temp.resample('H').mean()\n",
    "\n",
    "# loop over columns and plot temperatures \n",
    "for column in show_temps.columns:\n",
    "    plt.plot(show_temps.index, show_temps[column], label=column)\n",
    "\n",
    "# some labeling \n",
    "plt.xlabel('Time')\n",
    "plt.ylabel('Temperature')\n",
    "plt.title('Temperature Over Time')\n",
    "plt.legend(loc='upper left', bbox_to_anchor=(1, 1))\n",
    "plt.grid(True)\n",
    "\n",
    "# save figure \n",
    "#plt.savefig('Graphs/all_sensors.png', format='png')\n",
    "\n",
    "plt.show()"
   ]
  },
  {
   "cell_type": "markdown",
   "id": "c706fc18",
   "metadata": {},
   "source": [
    "# 1. Outlier correction"
   ]
  },
  {
   "cell_type": "markdown",
   "id": "90a16d0f",
   "metadata": {},
   "source": [
    "### MAD \n",
    "Using  median absolute deviation (MAD) to detect outliers (maybe too stringent?). Compare each entry to 5 other entrie at the same timepoint and remove it if it is outside the specified variation.\n",
    "\n",
    "--> assuming normal distribution the scaling factor is 1.4826 \n",
    "\n",
    "https://en.wikipedia.org/wiki/Median_absolute_deviation"
   ]
  },
  {
   "cell_type": "code",
   "execution_count": null,
   "id": "a4113c8b",
   "metadata": {},
   "outputs": [],
   "source": [
    "MAD_threshold = 3.5\n",
    "\n",
    "MAD_window = 24\n",
    "MAD_neighbors = 5"
   ]
  },
  {
   "cell_type": "code",
   "execution_count": null,
   "id": "96c27192",
   "metadata": {},
   "outputs": [],
   "source": [
    "# function to compare each value to other values at this timestamp and to remove values outside of the specified threshold \n",
    "\n",
    "def remove_outliers(row, num_neighbors = MAD_neighbors, threshold = MAD_threshold):\n",
    "    # Find non-NaN values in the row\n",
    "    non_na_indices = row.dropna().index\n",
    "    \n",
    "    # If there are fewer than num_neighbors non-NaN values, return the original row\n",
    "    if len(non_na_indices) < num_neighbors:\n",
    "        return row\n",
    "    \n",
    "    # Extract values for comparison\n",
    "    values_to_compare = row[non_na_indices].values\n",
    "    \n",
    "    # Calculate the median and median absolute deviation (MAD)\n",
    "    median_value = np.median(values_to_compare)\n",
    "    mad = np.median(np.abs(values_to_compare - median_value))\n",
    "    \n",
    "    # Identify indices of outliers based on the MAD and threshold\n",
    "    outlier_indices = non_na_indices[np.abs(values_to_compare - median_value) > threshold * mad]\n",
    "    \n",
    "    # Replace outliers with NaN\n",
    "    row[outlier_indices] = pd.NA\n",
    "    \n",
    "    return row"
   ]
  },
  {
   "cell_type": "code",
   "execution_count": null,
   "id": "88f78fe7",
   "metadata": {},
   "outputs": [],
   "source": [
    "# Remove outliers using rolling Median Absolute Deviation (MAD) for each column.\n",
    "\n",
    "def remove_outliers_rolling(df, window_size = MAD_window, threshold = MAD_threshold):\n",
    "\n",
    "    result_df = df.copy()\n",
    "\n",
    "    for column in df.columns:\n",
    "        column_data = df[column]\n",
    "\n",
    "        # Use rolling median and rolling MAD\n",
    "        rolling_median = column_data.rolling(window=window_size, min_periods=1, center=True).median()\n",
    "        rolling_mad = column_data.rolling(window=window_size, min_periods=1, center=True).apply(lambda x: np.median(np.abs(x - np.median(x))))\n",
    "\n",
    "        # Identify outliers\n",
    "        outliers = np.abs(column_data - rolling_median) > threshold * rolling_mad\n",
    "\n",
    "        # Mark outliers in the result DataFrame with NaN\n",
    "        result_df.loc[outliers, column] = pd.NA\n",
    "\n",
    "    return result_df"
   ]
  },
  {
   "cell_type": "code",
   "execution_count": null,
   "id": "f6aa11fe",
   "metadata": {},
   "outputs": [],
   "source": [
    "# let's resample per hour \n",
    "df = df_temp.resample('H').mean()\n",
    "\n",
    "# Apply the remove_outliers function to each column in the DataFrame\n",
    "df_outliers_MAD = df.apply(remove_outliers, axis=1)\n",
    "\n",
    "# Set window size and apply the function\n",
    "df_outliers_rollingMAD = remove_outliers_rolling(df)"
   ]
  },
  {
   "cell_type": "code",
   "execution_count": null,
   "id": "4341590f",
   "metadata": {},
   "outputs": [],
   "source": [
    "## quickly show how many entries we \"loose\" from resampling \n",
    "\n",
    "original_counts = df_temp.count()\n",
    "resampled_counts = df_temp.resample('H').mean().count()\n",
    "MAD_counts = df_outliers_MAD.count()\n",
    "MADrolling_counts = df_outliers_rollingMAD.count()\n",
    "\n",
    "# Create a DataFrame for plotting\n",
    "plot_data = pd.DataFrame({'Original': original_counts, 'Resampled': resampled_counts, 'MAD_filtered' : MAD_counts, 'MADrolling_filtered' : MADrolling_counts})\n",
    "\n",
    "# Plot the grouped bar chart\n",
    "ax = plot_data.plot(kind='bar', figsize=(15, 6), color=['orange','skyblue','green', 'lightgreen'])\n",
    "\n",
    "# Set plot labels and title\n",
    "ax.set_ylabel('Count')\n",
    "ax.set_xlabel('Columns')\n",
    "ax.set_title('Sample Count - Original vs Resampled vs Filtered')\n",
    "\n",
    "# Display legend\n",
    "ax.legend()\n",
    "\n",
    "# Show the plot\n",
    "plt.show()\n"
   ]
  },
  {
   "cell_type": "code",
   "execution_count": null,
   "id": "67573353",
   "metadata": {},
   "outputs": [],
   "source": [
    "# plot monthly temperature over the 3 years \n",
    "plt.figure(figsize=(20, 6))\n",
    "\n",
    "\n",
    "# loop over columns and plot temperatures \n",
    "for column in df_outliers_MAD.columns:\n",
    "    plt.plot(df_outliers_MAD.index, df_outliers_MAD[column], label=column)\n",
    "\n",
    "# some labeling \n",
    "plt.xlabel('Time')\n",
    "plt.ylabel('Temperature')\n",
    "plt.title('Temperature Over Time - MAD outliers')\n",
    "plt.legend(loc='upper left', bbox_to_anchor=(1, 1))\n",
    "plt.grid(True)\n",
    "\n",
    "# save figure \n",
    "#plt.savefig('Graphs/all_sensors.png', format='png')\n",
    "\n",
    "plt.show()"
   ]
  },
  {
   "cell_type": "code",
   "execution_count": null,
   "id": "a56f77df",
   "metadata": {},
   "outputs": [],
   "source": [
    "# plot monthly temperature over the 3 years \n",
    "plt.figure(figsize=(20, 6))\n",
    "\n",
    "\n",
    "# loop over columns and plot temperatures \n",
    "for column in df_outliers_rollingMAD.columns:\n",
    "    plt.plot(df_outliers_rollingMAD.index, df_outliers_rollingMAD[column], label=column)\n",
    "\n",
    "# some labeling \n",
    "plt.xlabel('Time')\n",
    "plt.ylabel('Temperature')\n",
    "plt.title('Temperature Over Time - MAD rolling window')\n",
    "plt.legend(loc='upper left', bbox_to_anchor=(1, 1))\n",
    "plt.grid(True)\n",
    "\n",
    "# save figure \n",
    "#plt.savefig('Graphs/all_sensors.png', format='png')\n",
    "\n",
    "plt.show()"
   ]
  },
  {
   "cell_type": "code",
   "execution_count": null,
   "id": "3b477065",
   "metadata": {},
   "outputs": [],
   "source": [
    "# Save the outlier corrected data \n",
    "df_outliers_MAD.to_csv('Lavaux_all_Temp_OutliersRemoved.csv')\n",
    "df_outliers_MAD.tail()"
   ]
  },
  {
   "attachments": {},
   "cell_type": "markdown",
   "id": "79d73e62",
   "metadata": {},
   "source": [
    "# 2. Comparing the years \n",
    "\n",
    "--> 2021 was substantially colder and 2022 particularly hot "
   ]
  },
  {
   "cell_type": "code",
   "execution_count": 25,
   "id": "8ac5e1df",
   "metadata": {},
   "outputs": [],
   "source": [
    "os.chdir('/Users/lfloerl/Desktop/MICROTERROIR/Data/Sensor_Data')"
   ]
  },
  {
   "cell_type": "code",
   "execution_count": 30,
   "id": "01deebe9",
   "metadata": {},
   "outputs": [
    {
     "data": {
      "text/html": [
       "<div>\n",
       "<style scoped>\n",
       "    .dataframe tbody tr th:only-of-type {\n",
       "        vertical-align: middle;\n",
       "    }\n",
       "\n",
       "    .dataframe tbody tr th {\n",
       "        vertical-align: top;\n",
       "    }\n",
       "\n",
       "    .dataframe thead th {\n",
       "        text-align: right;\n",
       "    }\n",
       "</style>\n",
       "<table border=\"1\" class=\"dataframe\">\n",
       "  <thead>\n",
       "    <tr style=\"text-align: right;\">\n",
       "      <th></th>\n",
       "      <th>Plot_18</th>\n",
       "      <th>Plot_15_3</th>\n",
       "      <th>Plot_4</th>\n",
       "      <th>Plot_17_1</th>\n",
       "      <th>Plot_17_5</th>\n",
       "      <th>Plot_12</th>\n",
       "      <th>Plot_17_4</th>\n",
       "      <th>Plot_20_3</th>\n",
       "      <th>Plot_9</th>\n",
       "      <th>Plot_20_5</th>\n",
       "      <th>...</th>\n",
       "      <th>Plot_15_1</th>\n",
       "      <th>Plot_15_4</th>\n",
       "      <th>Plot_14</th>\n",
       "      <th>Plot_11</th>\n",
       "      <th>Plot_20_4</th>\n",
       "      <th>Plot_17_2</th>\n",
       "      <th>Plot_15_5</th>\n",
       "      <th>Plot_13</th>\n",
       "      <th>Plot_15_2</th>\n",
       "      <th>Plot_19</th>\n",
       "    </tr>\n",
       "  </thead>\n",
       "  <tbody>\n",
       "    <tr>\n",
       "      <th>2021-04-21 00:00:00</th>\n",
       "      <td>21.96300</td>\n",
       "      <td>NaN</td>\n",
       "      <td>NaN</td>\n",
       "      <td>NaN</td>\n",
       "      <td>NaN</td>\n",
       "      <td>NaN</td>\n",
       "      <td>NaN</td>\n",
       "      <td>NaN</td>\n",
       "      <td>NaN</td>\n",
       "      <td>NaN</td>\n",
       "      <td>...</td>\n",
       "      <td>NaN</td>\n",
       "      <td>NaN</td>\n",
       "      <td>NaN</td>\n",
       "      <td>NaN</td>\n",
       "      <td>NaN</td>\n",
       "      <td>NaN</td>\n",
       "      <td>NaN</td>\n",
       "      <td>NaN</td>\n",
       "      <td>NaN</td>\n",
       "      <td>NaN</td>\n",
       "    </tr>\n",
       "    <tr>\n",
       "      <th>2021-04-21 01:00:00</th>\n",
       "      <td>21.94500</td>\n",
       "      <td>21.843</td>\n",
       "      <td>21.891</td>\n",
       "      <td>21.939</td>\n",
       "      <td>22.011</td>\n",
       "      <td>22.034</td>\n",
       "      <td>21.915</td>\n",
       "      <td>22.106</td>\n",
       "      <td>21.963</td>\n",
       "      <td>22.034</td>\n",
       "      <td>...</td>\n",
       "      <td>22.082</td>\n",
       "      <td>22.034</td>\n",
       "      <td>21.939</td>\n",
       "      <td>21.891</td>\n",
       "      <td>22.034</td>\n",
       "      <td>22.058</td>\n",
       "      <td>21.963</td>\n",
       "      <td>22.058</td>\n",
       "      <td>21.987</td>\n",
       "      <td>NaN</td>\n",
       "    </tr>\n",
       "    <tr>\n",
       "      <th>2021-04-21 02:00:00</th>\n",
       "      <td>21.90300</td>\n",
       "      <td>21.819</td>\n",
       "      <td>21.819</td>\n",
       "      <td>21.915</td>\n",
       "      <td>21.939</td>\n",
       "      <td>22.011</td>\n",
       "      <td>21.867</td>\n",
       "      <td>22.058</td>\n",
       "      <td>21.891</td>\n",
       "      <td>21.987</td>\n",
       "      <td>...</td>\n",
       "      <td>21.987</td>\n",
       "      <td>21.939</td>\n",
       "      <td>21.891</td>\n",
       "      <td>21.819</td>\n",
       "      <td>21.987</td>\n",
       "      <td>21.987</td>\n",
       "      <td>21.915</td>\n",
       "      <td>21.963</td>\n",
       "      <td>21.939</td>\n",
       "      <td>NaN</td>\n",
       "    </tr>\n",
       "    <tr>\n",
       "      <th>2021-04-21 03:00:00</th>\n",
       "      <td>21.84300</td>\n",
       "      <td>21.795</td>\n",
       "      <td>21.748</td>\n",
       "      <td>21.891</td>\n",
       "      <td>21.867</td>\n",
       "      <td>21.963</td>\n",
       "      <td>21.795</td>\n",
       "      <td>22.011</td>\n",
       "      <td>21.843</td>\n",
       "      <td>21.915</td>\n",
       "      <td>...</td>\n",
       "      <td>21.915</td>\n",
       "      <td>21.819</td>\n",
       "      <td>21.819</td>\n",
       "      <td>21.748</td>\n",
       "      <td>21.891</td>\n",
       "      <td>21.915</td>\n",
       "      <td>21.891</td>\n",
       "      <td>21.867</td>\n",
       "      <td>21.891</td>\n",
       "      <td>NaN</td>\n",
       "    </tr>\n",
       "    <tr>\n",
       "      <th>2021-04-21 04:00:00</th>\n",
       "      <td>21.79525</td>\n",
       "      <td>21.748</td>\n",
       "      <td>21.652</td>\n",
       "      <td>21.843</td>\n",
       "      <td>21.795</td>\n",
       "      <td>21.939</td>\n",
       "      <td>21.748</td>\n",
       "      <td>21.939</td>\n",
       "      <td>21.772</td>\n",
       "      <td>21.843</td>\n",
       "      <td>...</td>\n",
       "      <td>21.819</td>\n",
       "      <td>21.700</td>\n",
       "      <td>21.748</td>\n",
       "      <td>21.652</td>\n",
       "      <td>21.795</td>\n",
       "      <td>21.819</td>\n",
       "      <td>21.819</td>\n",
       "      <td>21.772</td>\n",
       "      <td>21.843</td>\n",
       "      <td>NaN</td>\n",
       "    </tr>\n",
       "  </tbody>\n",
       "</table>\n",
       "<p>5 rows × 24 columns</p>\n",
       "</div>"
      ],
      "text/plain": [
       "                      Plot_18  Plot_15_3  Plot_4  Plot_17_1  Plot_17_5  \\\n",
       "2021-04-21 00:00:00  21.96300        NaN     NaN        NaN        NaN   \n",
       "2021-04-21 01:00:00  21.94500     21.843  21.891     21.939     22.011   \n",
       "2021-04-21 02:00:00  21.90300     21.819  21.819     21.915     21.939   \n",
       "2021-04-21 03:00:00  21.84300     21.795  21.748     21.891     21.867   \n",
       "2021-04-21 04:00:00  21.79525     21.748  21.652     21.843     21.795   \n",
       "\n",
       "                     Plot_12  Plot_17_4  Plot_20_3  Plot_9  Plot_20_5  ...  \\\n",
       "2021-04-21 00:00:00      NaN        NaN        NaN     NaN        NaN  ...   \n",
       "2021-04-21 01:00:00   22.034     21.915     22.106  21.963     22.034  ...   \n",
       "2021-04-21 02:00:00   22.011     21.867     22.058  21.891     21.987  ...   \n",
       "2021-04-21 03:00:00   21.963     21.795     22.011  21.843     21.915  ...   \n",
       "2021-04-21 04:00:00   21.939     21.748     21.939  21.772     21.843  ...   \n",
       "\n",
       "                     Plot_15_1  Plot_15_4  Plot_14  Plot_11  Plot_20_4  \\\n",
       "2021-04-21 00:00:00        NaN        NaN      NaN      NaN        NaN   \n",
       "2021-04-21 01:00:00     22.082     22.034   21.939   21.891     22.034   \n",
       "2021-04-21 02:00:00     21.987     21.939   21.891   21.819     21.987   \n",
       "2021-04-21 03:00:00     21.915     21.819   21.819   21.748     21.891   \n",
       "2021-04-21 04:00:00     21.819     21.700   21.748   21.652     21.795   \n",
       "\n",
       "                     Plot_17_2  Plot_15_5  Plot_13  Plot_15_2  Plot_19  \n",
       "2021-04-21 00:00:00        NaN        NaN      NaN        NaN      NaN  \n",
       "2021-04-21 01:00:00     22.058     21.963   22.058     21.987      NaN  \n",
       "2021-04-21 02:00:00     21.987     21.915   21.963     21.939      NaN  \n",
       "2021-04-21 03:00:00     21.915     21.891   21.867     21.891      NaN  \n",
       "2021-04-21 04:00:00     21.819     21.819   21.772     21.843      NaN  \n",
       "\n",
       "[5 rows x 24 columns]"
      ]
     },
     "execution_count": 30,
     "metadata": {},
     "output_type": "execute_result"
    }
   ],
   "source": [
    "df = pd.read_csv('Lavaux_all_Temp_OutliersRemoved.csv', index_col=0)\n",
    "df.index = pd.to_datetime(df.index)\n",
    "df.head()"
   ]
  },
  {
   "cell_type": "code",
   "execution_count": 38,
   "id": "c4bf68df",
   "metadata": {},
   "outputs": [
    {
     "name": "stderr",
     "output_type": "stream",
     "text": [
      "/var/folders/vs/cscnsm_n1pq4d37fdkylmm940000gq/T/ipykernel_96305/1718223472.py:13: FutureWarning: \n",
      "\n",
      "The `ci` parameter is deprecated. Use `errorbar='sd'` for the same effect.\n",
      "\n",
      "  sns.lineplot(x='month', y='temperature', hue='year', ci='sd', data=df_melted, palette=\"viridis\")\n",
      "/Users/lfloerl/miniconda3/envs/qiime2-amplicon-2024.10/lib/python3.10/site-packages/seaborn/_oldcore.py:1119: FutureWarning: use_inf_as_na option is deprecated and will be removed in a future version. Convert inf values to NaN before operating instead.\n",
      "  with pd.option_context('mode.use_inf_as_na', True):\n",
      "/Users/lfloerl/miniconda3/envs/qiime2-amplicon-2024.10/lib/python3.10/site-packages/seaborn/_oldcore.py:1119: FutureWarning: use_inf_as_na option is deprecated and will be removed in a future version. Convert inf values to NaN before operating instead.\n",
      "  with pd.option_context('mode.use_inf_as_na', True):\n",
      "/Users/lfloerl/miniconda3/envs/qiime2-amplicon-2024.10/lib/python3.10/site-packages/seaborn/_oldcore.py:1075: FutureWarning: When grouping with a length-1 list-like, you will need to pass a length-1 tuple to get_group in a future version of pandas. Pass `(name,)` instead of `name` to silence this warning.\n",
      "  data_subset = grouped_data.get_group(pd_key)\n",
      "/Users/lfloerl/miniconda3/envs/qiime2-amplicon-2024.10/lib/python3.10/site-packages/seaborn/_oldcore.py:1075: FutureWarning: When grouping with a length-1 list-like, you will need to pass a length-1 tuple to get_group in a future version of pandas. Pass `(name,)` instead of `name` to silence this warning.\n",
      "  data_subset = grouped_data.get_group(pd_key)\n",
      "/Users/lfloerl/miniconda3/envs/qiime2-amplicon-2024.10/lib/python3.10/site-packages/seaborn/_oldcore.py:1075: FutureWarning: When grouping with a length-1 list-like, you will need to pass a length-1 tuple to get_group in a future version of pandas. Pass `(name,)` instead of `name` to silence this warning.\n",
      "  data_subset = grouped_data.get_group(pd_key)\n"
     ]
    },
    {
     "data": {
      "image/png": "[encoded data removed]",
      "text/plain": [
       "<Figure size 400x250 with 1 Axes>"
      ]
     },
     "metadata": {},
     "output_type": "display_data"
    }
   ],
   "source": [
    "#df = df_outliers_MAD.copy()\n",
    "\n",
    "# Extract year and month from the timestamp\n",
    "df['year'] = df.index.year\n",
    "df['month'] = df.index.month\n",
    "df_melted = pd.melt(df, id_vars=['year', 'month'], var_name='temperature_type', value_name='temperature')\n",
    "\n",
    "# Create a line plot with shaded area using seaborn\n",
    "plt.figure(figsize=(4,2.5))\n",
    "\n",
    "sns.set_style(\"whitegrid\")\n",
    "\n",
    "sns.lineplot(x='month', y='temperature', hue='year', ci='sd', data=df_melted, palette=\"viridis\")\n",
    "#plt.title('Temperature Variation Over 12 Months (Min-Median-Max)')\n",
    "plt.xlabel('')\n",
    "plt.ylabel('Temperature (°C)')\n",
    "\n",
    "# Customize x-axis ticks for every month\n",
    "plt.xticks(range(1, 13), [pd.to_datetime(str(i), format='%m').strftime('%B') for i in range(1, 13)])\n",
    "plt.xticks(rotation=90)\n",
    "\n",
    "plt.show()"
   ]
  },
  {
   "cell_type": "markdown",
   "id": "822d58b8",
   "metadata": {},
   "source": [
    "# 3. Interplot variance"
   ]
  },
  {
   "attachments": {},
   "cell_type": "markdown",
   "id": "acd15404",
   "metadata": {},
   "source": [
    "### Statistical testing \n",
    "\n",
    "> mean temperatures of months / weeks **are not** statistically significant between each other "
   ]
  },
  {
   "cell_type": "code",
   "execution_count": null,
   "id": "7cc26f1d",
   "metadata": {},
   "outputs": [],
   "source": [
    "df = df_outliers_MAD"
   ]
  },
  {
   "cell_type": "code",
   "execution_count": null,
   "id": "f8701720",
   "metadata": {},
   "outputs": [],
   "source": [
    "# Perform Kruskal-Wallis test on each row\n",
    "p_values = []\n",
    "for _, row in df.iterrows():\n",
    "    _, p_value = stats.kruskal(*row.values)\n",
    "    p_values.append(p_value)\n",
    "\n",
    "# Create a new DataFrame with p-values\n",
    "p_value_df = pd.DataFrame({'P-Value': p_values}, index=df.index)\n",
    "\n",
    "# Filter and print rows with significant p-values\n",
    "significant_rows = p_value_df[p_value_df['P-Value'] < 0.05]\n",
    "print(significant_rows)"
   ]
  },
  {
   "attachments": {},
   "cell_type": "markdown",
   "id": "784b5286",
   "metadata": {},
   "source": [
    "### Add some metadata"
   ]
  },
  {
   "cell_type": "code",
   "execution_count": null,
   "id": "6acc4a13",
   "metadata": {},
   "outputs": [],
   "source": [
    "# Merge the dataframes based on the sensor name (reset the index first) and sort: first by altitude and then by plot \n",
    "ave_temp_new = df_outliers_MAD.reset_index() \n",
    "md_renamed = md.reset_index()\n",
    "merged_df = ave_temp_new.melt(id_vars='index', var_name='ID', value_name='Temperature').merge(md, on='ID').sort_values(by = ['Altitude', 'ID'])"
   ]
  },
  {
   "cell_type": "markdown",
   "id": "9a35aa4a",
   "metadata": {},
   "source": [
    "### Boxplots"
   ]
  },
  {
   "cell_type": "code",
   "execution_count": null,
   "id": "fa1312e5",
   "metadata": {},
   "outputs": [],
   "source": [
    "plt.figure(figsize=(10,5))\n",
    "\n",
    "plots_ordered_by_altitude = [17, 5, 14, 4, 18, 20, 18, 11, 19, 9, 12, 15, 13]\n",
    "\n",
    "ax = sns.boxplot(x='ID', y='Temperature', hue=\"Plots\", \n",
    "                 width=0.8, dodge=False,\n",
    "                 data=merged_df, palette=\"husl\", \n",
    "                 hue_order=plots_ordered_by_altitude,\n",
    "                 showfliers = False\n",
    "                 )\n",
    "\n",
    "sns.move_legend(ax, \"upper left\", bbox_to_anchor=(1, 1))\n",
    "\n",
    "plt.title('Box plots of temperatures for plots ordered by altitude')\n",
    "\n",
    "ax.set_xticklabels(\n",
    "    ax.get_xticklabels(), \n",
    "    rotation=90, \n",
    "    horizontalalignment='right',\n",
    "    fontweight='light',\n",
    "    fontsize='small'\n",
    ")\n",
    "None\n",
    "# the None is to not show the lables as output "
   ]
  },
  {
   "cell_type": "markdown",
   "id": "6df6e99e",
   "metadata": {},
   "source": [
    "### Heatmaps"
   ]
  },
  {
   "cell_type": "code",
   "execution_count": null,
   "id": "22448ee5",
   "metadata": {},
   "outputs": [],
   "source": [
    "df = df_outliers_MAD.copy()\n",
    "\n",
    "# Extract unique plot names\n",
    "plot_names = set('_'.join(col.split('_')[:2]) for col in df.columns)\n",
    "plot_names\n",
    "\n",
    "# Calculate median for each group of columns with the same plot name\n",
    "median_values = {}\n",
    "for plot_name in plot_names:\n",
    "    columns = [col for col in df.columns if plot_name in col]\n",
    "    median_values[plot_name] = df[columns].median(axis=1)\n",
    "\n",
    "# Concatenate median values into a new DataFrame\n",
    "df_median = pd.DataFrame(median_values)"
   ]
  },
  {
   "cell_type": "code",
   "execution_count": null,
   "id": "e0722a5a",
   "metadata": {},
   "outputs": [],
   "source": [
    "# Create heatmap\n",
    "df_heatmap = df_median.T\n",
    "\n",
    "# Get month names\n",
    "monthly = df_median.resample('M').mean()\n",
    "month_names = monthly.index.strftime('%B, %Y')\n",
    "\n",
    "# Heatmap \n",
    "plt.figure(figsize=(20, 5), dpi=1000)\n",
    "heatmap = sns.heatmap(data=df_heatmap, cmap='coolwarm', annot=None, \n",
    "                      cbar_kws={'label': 'Temperature [°C]', 'shrink': 0.7, 'aspect': 15, 'pad': 0.02})\n",
    "#plt.title('Heatmap of all plots over the years')\n",
    "\n",
    "# Set custom x-axis labels\n",
    "n = len(month_names)\n",
    "heatmap.set_xticks(np.linspace(0, n - 1, n))\n",
    "heatmap.set_xticklabels(month_names)\n",
    "\n",
    "# Calculate positions for the labels\n",
    "width = heatmap.get_xlim()[1] - heatmap.get_xlim()[0]\n",
    "positions = np.linspace(heatmap.get_xlim()[0], heatmap.get_xlim()[1], len(month_names))\n",
    "\n",
    "# Set label positions\n",
    "plt.xticks(positions, month_names)\n",
    "\n",
    "plt.tight_layout()\n",
    "plt.show()"
   ]
  },
  {
   "cell_type": "markdown",
   "id": "2a028c3b",
   "metadata": {},
   "source": [
    "# 4. Intraplot variance\n",
    "\n",
    "Plots 15, 17 and 20 have 5 sensors each and we can test whether the mean temperature per month is statistically significant between those sensors. \n",
    "\n",
    "> does not look like it"
   ]
  },
  {
   "cell_type": "code",
   "execution_count": null,
   "id": "e5266ef7",
   "metadata": {},
   "outputs": [],
   "source": [
    "# Get a list of sensors at a specific plot and subset the datafame to only contain data from these plots \n",
    "plot_of_interest = 17\n",
    "\n",
    "selected_plots = md.loc[md['Plots'] == plot_of_interest].index.to_list()\n",
    "df_subset = df_outliers_removed[selected_plots]\n",
    "\n",
    "# get mean temperature for each month (dropNA to do a significance test)\n",
    "average_temps_subset = df_subset.resample('D').mean() #.dropna()"
   ]
  },
  {
   "cell_type": "code",
   "execution_count": null,
   "id": "ad1280f3",
   "metadata": {},
   "outputs": [],
   "source": [
    "average_temps_subset.head(30)"
   ]
  },
  {
   "cell_type": "code",
   "execution_count": null,
   "id": "3a80cf12",
   "metadata": {},
   "outputs": [],
   "source": [
    "# plot monthly temperature over the 3 years \n",
    "plt.figure(figsize=(20, 6))\n",
    "\n",
    "for column in average_temps_subset.columns:\n",
    "    plt.plot(average_temps_subset.index, average_temps_subset[column], label=column)\n",
    "\n",
    "plt.xlabel('Time')\n",
    "plt.ylabel('Temperature')\n",
    "plt.title('Temperature Over Time')\n",
    "plt.legend()\n",
    "plt.grid(True)\n",
    "plt.show()"
   ]
  },
  {
   "cell_type": "code",
   "execution_count": null,
   "id": "6af78caf",
   "metadata": {},
   "outputs": [],
   "source": [
    "average_temps_subset.boxplot()\n",
    "\n",
    "plt.xticks(rotation=90)\n",
    "plt.xlabel('Sensor')\n",
    "plt.ylabel('Average Monthly Temperatures')\n",
    "title = 'Average Temperatures of the Sensors in Plot ' + str(plot_of_interest)\n",
    "plt.title(title)\n",
    "\n",
    "plt.show()\n"
   ]
  },
  {
   "cell_type": "code",
   "execution_count": null,
   "id": "c4d0276a",
   "metadata": {},
   "outputs": [],
   "source": [
    "# compare min and max temperatures \n",
    "daily_max = df_subset.resample('D').max().dropna()\n",
    "daily_min = df_subset.resample('D').min().dropna()\n",
    "\n",
    "# two plots next to each other \n",
    "fig, axs = plt.subplots(1, 2, figsize=(10, 5))\n",
    "\n",
    "# Create the first box plot on the first axes\n",
    "daily_max.boxplot(ax=axs[0])\n",
    "\n",
    "# Create the second box plot on the second axes\n",
    "daily_min.boxplot(ax=axs[1])\n",
    "\n",
    "# Set the title for each plot\n",
    "axs[0].set_title('Max Temp')\n",
    "axs[1].set_title('Min Temp')\n",
    "\n",
    "# Adjust the spacing between subplots\n",
    "plt.tight_layout()\n",
    "\n",
    "# Show the plots\n",
    "plt.show()"
   ]
  },
  {
   "attachments": {},
   "cell_type": "markdown",
   "id": "6eaefba5",
   "metadata": {},
   "source": [
    "# 5. Growing Degree Days \n",
    "\n",
    "\n",
    "2. filter for season (1. april - 30. sept)\n",
    "3. filter so samples have at least 90 % of measurements for that period \n",
    "4. GDD with max and min of each day \n"
   ]
  },
  {
   "cell_type": "code",
   "execution_count": null,
   "id": "1e7da897",
   "metadata": {},
   "outputs": [],
   "source": [
    "# subset to season\n",
    "df_21 = df_outliers_MAD[(df_outliers_MAD.index > '2021-04-01') & (df_outliers_MAD.index < '2021-09-30')]\n",
    "df_22 = df_outliers_MAD[(df_outliers_MAD.index > '2022-04-01') & (df_outliers_MAD.index < '2022-09-30')]\n",
    "df_23 = df_outliers_MAD[(df_outliers_MAD.index > '2023-04-01') & (df_outliers_MAD.index < '2023-09-30')]"
   ]
  },
  {
   "cell_type": "code",
   "execution_count": null,
   "id": "aa6ea112",
   "metadata": {},
   "outputs": [],
   "source": [
    "# Function to filter columns with >90% data coverage\n",
    "def filter_columns_with_data(df, start_date, end_date, threshold=0.9):\n",
    "    # Subset data for the growing season\n",
    "    df_season = df[(df.index >= start_date) & (df.index <= end_date)]\n",
    "    # Resample to daily counts\n",
    "    daily_counts = df_season.resample('D').count()\n",
    "    # Calculate the percentage of days with data for each column\n",
    "    days_in_season = len(daily_counts)\n",
    "    valid_columns = daily_counts.sum() / days_in_season > threshold\n",
    "    return df_season.loc[:, valid_columns]\n",
    "\n",
    "# Function to calculate GDD per plot using Tmin and Tmax\n",
    "def calculate_gdd_tmin_tmax(df_tmin, df_tmax, base_temp=10):\n",
    "    # Resample Tmin and Tmax to daily values\n",
    "    daily_tmin = df_tmin.resample('D').mean()\n",
    "    daily_tmax = df_tmax.resample('D').mean()\n",
    "    \n",
    "    # Calculate daily mean temperature using Tmin and Tmax\n",
    "    daily_mean_temp = (daily_tmin + daily_tmax) / 2\n",
    "    \n",
    "    # Calculate GDD for each plot\n",
    "    gdd = ((daily_mean_temp - base_temp).clip(lower=0)).sum(axis=0)\n",
    "    \n",
    "    # Replace plots without data (all NaN) with NaN GDD\n",
    "    gdd[daily_mean_temp.isna().all()] = None\n",
    "    \n",
    "    return gdd\n"
   ]
  },
  {
   "cell_type": "code",
   "execution_count": null,
   "id": "2e2f2d4f",
   "metadata": {},
   "outputs": [],
   "source": [
    "# Remove plots with insufficient data (90% of data)\n",
    "df_21_cleaned = filter_columns_with_data(df_21, '2021-04-01', '2021-09-30')\n",
    "df_22_cleaned = filter_columns_with_data(df_22, '2022-04-01', '2022-09-30')\n",
    "df_23_cleaned = filter_columns_with_data(df_23, '2023-04-01', '2023-09-30')\n",
    "\n",
    "\n",
    "# Calculate GDD per plot for each year\n",
    "gdd_21 = calculate_gdd(df_21_cleaned)\n",
    "gdd_22 = calculate_gdd(df_22_cleaned)\n",
    "gdd_23 = calculate_gdd(df_23_cleaned)\n",
    "\n",
    "# Convert GDD to DataFrames for each year\n",
    "gdd_21_df = gdd_21.to_frame(name='GDD_2021')\n",
    "gdd_22_df = gdd_22.to_frame(name='GDD_2022')\n",
    "gdd_23_df = gdd_23.to_frame(name='GDD_2023')\n",
    "\n",
    "# Combine GDDs into a single DataFrame (Format 1)\n",
    "gdd_combined = pd.DataFrame({\n",
    "    'GDD_2021': gdd_21,\n",
    "    'GDD_2022': gdd_22,\n",
    "    'GDD_2023': gdd_23})\n",
    "\n",
    "# Calculate Z-scores for all three years (GDD_2021, GDD_2022, GDD_2023)\n",
    "gdd_combined['zscore_2021'] = zscore(gdd_combined['GDD_2021'], nan_policy='omit')\n",
    "gdd_combined['zscore_2022'] = zscore(gdd_combined['GDD_2022'], nan_policy='omit')\n",
    "gdd_combined['zscore_2023'] = zscore(gdd_combined['GDD_2023'], nan_policy='omit')\n",
    "\n",
    "# Create a copy of the data to apply outlier filtering\n",
    "gdd_combined_filtered = gdd_combined.copy()\n",
    "\n",
    "# Apply outlier filtering to each column (year) individually\n",
    "gdd_combined_filtered.loc[abs(gdd_combined_filtered['zscore_2021']) > 3, 'GDD_2021'] = np.nan\n",
    "gdd_combined_filtered.loc[abs(gdd_combined_filtered['zscore_2022']) > 3, 'GDD_2022'] = np.nan\n",
    "gdd_combined_filtered.loc[abs(gdd_combined_filtered['zscore_2023']) > 3, 'GDD_2023'] = np.nan\n",
    "\n",
    "# Drop the Z-score columns if needed\n",
    "gdd_combined_filtered.drop(columns=['zscore_2021', 'zscore_2022', 'zscore_2023'], inplace=True)\n",
    "\n",
    "# Melt the DataFrame into a long format (Format 2)\n",
    "gdd_long = gdd_combined_filtered.reset_index().melt(\n",
    "    id_vars='index', \n",
    "    var_name='Year', \n",
    "    value_name='GDD')\n",
    "# Rename columns for clarity in long format\n",
    "gdd_long.rename(columns={'index': 'Plot'}, inplace=True)\n",
    "gdd_long['Year'] = gdd_long['Year'].str.replace('GDD_', '')  \n"
   ]
  },
  {
   "cell_type": "code",
   "execution_count": null,
   "id": "0f481f64",
   "metadata": {},
   "outputs": [],
   "source": [
    "gdd_combined_filtered"
   ]
  },
  {
   "cell_type": "code",
   "execution_count": null,
   "id": "c68c03fe",
   "metadata": {},
   "outputs": [],
   "source": [
    "gdd_long"
   ]
  },
  {
   "cell_type": "code",
   "execution_count": null,
   "id": "b544bef9",
   "metadata": {},
   "outputs": [],
   "source": [
    "plt.figure(figsize=(6, 6))\n",
    "sns.boxplot(data=gdd_combined_filtered, showfliers=True, palette='Blues') \n",
    "\n",
    "plt.xlabel('Years')\n",
    "plt.ylabel('Growing Degree Days')\n",
    "plt.title('')\n",
    "\n",
    "# Show the plot\n",
    "plt.show()"
   ]
  },
  {
   "cell_type": "code",
   "execution_count": null,
   "id": "c1b6f13f",
   "metadata": {},
   "outputs": [],
   "source": [
    "# Create a figure and axis\n",
    "plt.figure(figsize=(6, 6))\n",
    "\n",
    "# Plot the heatmap using imshow\n",
    "cax = plt.imshow(gdd_combined_filtered, cmap='coolwarm', aspect='auto')\n",
    "\n",
    "# Add colorbar\n",
    "plt.colorbar(cax)\n",
    "\n",
    "# Annotate the cells with the values\n",
    "for i in range(gdd_combined_filtered.shape[0]):\n",
    "    for j in range(gdd_combined_filtered.shape[1]):\n",
    "        value = gdd_combined_filtered.iloc[i, j]\n",
    "        if not np.isnan(value):\n",
    "            plt.text(j, i, f'{value:.0f}', ha='center', va='center', color='black')\n",
    "\n",
    "# Set axis labels (optional)\n",
    "plt.xticks(ticks=np.arange(gdd_combined_filtered.shape[1]), labels=gdd_combined_filtered.columns, rotation=45)\n",
    "plt.yticks(ticks=np.arange(gdd_combined_filtered.shape[0]), labels=gdd_combined_filtered.index)\n",
    "\n",
    "# Set labels and title\n",
    "plt.xlabel('Year')\n",
    "plt.ylabel('Plot')\n",
    "plt.title('GDD Heatmap')\n",
    "\n",
    "plt.grid(False)  # Disable grid\n",
    "plt.gca().set_facecolor('white')  # Set background to white\n",
    "\n",
    "# Show the plot\n",
    "plt.tight_layout()\n",
    "plt.show()"
   ]
  },
  {
   "cell_type": "markdown",
   "id": "a20614eb",
   "metadata": {},
   "source": [
    "# Get other metrics"
   ]
  },
  {
   "cell_type": "code",
   "execution_count": null,
   "id": "2b822965",
   "metadata": {},
   "outputs": [],
   "source": [
    "# drop the sensor for Plot17_3 from the 2023 dataset because it's flawed\n",
    "df_23_cleaned.drop(columns=['Plot_17_3'], inplace=True) \n"
   ]
  },
  {
   "cell_type": "code",
   "execution_count": null,
   "id": "da84bbcf",
   "metadata": {},
   "outputs": [],
   "source": [
    "# Helper function to calculate temperature metrics for each plot\n",
    "def calculate_temperature_metrics(df, year):\n",
    "    # Resample to daily data if needed (assumed hourly data for this example)\n",
    "    df_daily = df.resample('D').mean()  # Resampling to daily averages\n",
    "\n",
    "    # Calculate required metrics for each plot\n",
    "    metrics = pd.DataFrame(index=df.columns)  # Plot IDs as index\n",
    "    \n",
    "    #metrics['average_temperature'] = df_daily.mean()  # Daily average\n",
    "    metrics['median_temperature'] = df_daily.median()  # Daily average\n",
    "    metrics['maximum_temperature'] = df_daily.max()  # Maximum temperature\n",
    "    metrics['minimum_temperature'] = df_daily.min()  # Minimum temperature\n",
    "    metrics['accumulated_temperature'] = df_daily.sum()  # Accumulated temperature\n",
    "    \n",
    "     # Calculate coefficient of variation (CV)\n",
    "    metrics['cv_temperature'] = df_daily.std() / df_daily.mean() * 100  # CV as percentage\n",
    "    \n",
    "    metrics['Year'] = int(year)  # Add the year for each metric (useful for merging later)\n",
    "\n",
    "    # Reset index and rename the index to 'Plot'\n",
    "    metrics.reset_index(inplace=True)\n",
    "    metrics.rename(columns={'index': 'Plot'}, inplace=True)\n",
    "\n",
    "    return metrics\n",
    "\n",
    "# Calculate metrics for each year\n",
    "temp_metrics_21 = calculate_temperature_metrics(df_21_cleaned, 2021)\n",
    "temp_metrics_22 = calculate_temperature_metrics(df_22_cleaned, 2022)\n",
    "temp_metrics_23 = calculate_temperature_metrics(df_23_cleaned, 2023)\n"
   ]
  },
  {
   "cell_type": "code",
   "execution_count": null,
   "id": "a5f31805",
   "metadata": {},
   "outputs": [],
   "source": [
    "# combine the dfs for different years \n",
    "temp_metrics_combined = pd.concat([temp_metrics_21, temp_metrics_22, temp_metrics_23], ignore_index=True)\n",
    "temp_metrics_combined.tail()"
   ]
  },
  {
   "cell_type": "code",
   "execution_count": null,
   "id": "32841936",
   "metadata": {},
   "outputs": [],
   "source": [
    "# merge with GDD df \n",
    "gdd_long['Year'] = gdd_long['Year'].astype(int)\n",
    "Temp_all_metrics = pd.merge(gdd_long, temp_metrics_combined, on=['Plot', 'Year'], how='outer')"
   ]
  },
  {
   "cell_type": "code",
   "execution_count": null,
   "id": "a21afda7",
   "metadata": {},
   "outputs": [],
   "source": [
    "# get median of the replicate plots \n",
    "Temp_metrics_median = Temp_all_metrics.copy()\n",
    "\n",
    "Temp_metrics_median['Base_Plot'] = Temp_metrics_median['Plot'].str.extract(r'(Plot_\\d+)')\n",
    "Temp_metrics_median = Temp_metrics_median.drop(columns=('Plot'))\n",
    "\n",
    "grouped_df = Temp_metrics_median.groupby(['Base_Plot', 'Year']).median().reset_index()\n",
    "grouped_df = grouped_df.rename(columns={'Base_Plot': 'Plot'})\n",
    "\n",
    "grouped_df.to_csv('Lavaux_all_Temp_Metrics.csv')"
   ]
  },
  {
   "cell_type": "markdown",
   "id": "3f1b5e2f",
   "metadata": {},
   "source": [
    "#### some plotting"
   ]
  },
  {
   "cell_type": "code",
   "execution_count": null,
   "id": "f092e650",
   "metadata": {},
   "outputs": [],
   "source": [
    "\n",
    "# Assuming Temp_all_metrics is your DataFrame\n",
    "# Pivot the data to have years as columns and plots as rows\n",
    "temp_pivot = Temp_all_metrics.pivot(index='Plot', columns='Year', values='average_temperature')\n",
    "\n",
    "# Create a figure and axis\n",
    "plt.figure(figsize=(8, 10))  # Adjusted size for potentially more plots\n",
    "\n",
    "# Plot the heatmap using imshow\n",
    "cax = plt.imshow(temp_pivot, cmap='coolwarm', aspect='auto')\n",
    "\n",
    "# Add colorbar\n",
    "cbar = plt.colorbar(cax)\n",
    "cbar.set_label('Average Temperature (°C)', rotation=270, labelpad=15)\n",
    "\n",
    "# Annotate the cells with the values\n",
    "for i in range(temp_pivot.shape[0]):\n",
    "    for j in range(temp_pivot.shape[1]):\n",
    "        value = temp_pivot.iloc[i, j]\n",
    "        if not np.isnan(value):\n",
    "            plt.text(j, i, f'{value:.1f}', ha='center', va='center', color='black')\n",
    "\n",
    "# Set axis labels\n",
    "plt.xticks(ticks=np.arange(temp_pivot.shape[1]), labels=temp_pivot.columns, rotation=0)\n",
    "plt.yticks(ticks=np.arange(temp_pivot.shape[0]), labels=temp_pivot.index)\n",
    "\n",
    "# Set labels and title\n",
    "plt.xlabel('Year')\n",
    "plt.ylabel('Plot')\n",
    "plt.title('Average Temperature Heatmap')\n",
    "\n",
    "plt.grid(False)  # Disable grid\n",
    "plt.gca().set_facecolor('white')  # Set background to white\n",
    "\n",
    "# Show the plot\n",
    "plt.tight_layout()\n",
    "plt.show()\n"
   ]
  },
  {
   "cell_type": "code",
   "execution_count": null,
   "id": "2ea97784",
   "metadata": {},
   "outputs": [],
   "source": [
    "\n",
    "# Assuming Temp_all_metrics is your DataFrame\n",
    "# Pivot the data to have years as columns and plots as rows\n",
    "temp_pivot = Temp_all_metrics.pivot(index='Plot', columns='Year', values='median_temperature')\n",
    "\n",
    "# Create a figure and axis\n",
    "plt.figure(figsize=(8, 10))  # Adjusted size for potentially more plots\n",
    "\n",
    "# Plot the heatmap using imshow\n",
    "cax = plt.imshow(temp_pivot, cmap='coolwarm', aspect='auto')\n",
    "\n",
    "# Add colorbar\n",
    "cbar = plt.colorbar(cax)\n",
    "cbar.set_label('Average Temperature (°C)', rotation=270, labelpad=15)\n",
    "\n",
    "# Annotate the cells with the values\n",
    "for i in range(temp_pivot.shape[0]):\n",
    "    for j in range(temp_pivot.shape[1]):\n",
    "        value = temp_pivot.iloc[i, j]\n",
    "        if not np.isnan(value):\n",
    "            plt.text(j, i, f'{value:.1f}', ha='center', va='center', color='black')\n",
    "\n",
    "# Set axis labels\n",
    "plt.xticks(ticks=np.arange(temp_pivot.shape[1]), labels=temp_pivot.columns, rotation=0)\n",
    "plt.yticks(ticks=np.arange(temp_pivot.shape[0]), labels=temp_pivot.index)\n",
    "\n",
    "# Set labels and title\n",
    "plt.xlabel('Year')\n",
    "plt.ylabel('Plot')\n",
    "plt.title('Average Temperature Heatmap')\n",
    "\n",
    "plt.grid(False)  # Disable grid\n",
    "plt.gca().set_facecolor('white')  # Set background to white\n",
    "\n",
    "# Show the plot\n",
    "plt.tight_layout()\n",
    "plt.show()\n"
   ]
  },
  {
   "cell_type": "markdown",
   "id": "59c96726",
   "metadata": {},
   "source": [
    "# Statistical Testing of Temp metrics "
   ]
  },
  {
   "cell_type": "code",
   "execution_count": null,
   "id": "c2e2b781",
   "metadata": {},
   "outputs": [],
   "source": [
    "Temp_all_metrics.head()"
   ]
  },
  {
   "cell_type": "code",
   "execution_count": null,
   "id": "a6e8513a",
   "metadata": {},
   "outputs": [],
   "source": [
    "df = Temp_all_metrics.copy()\n",
    "\n",
    "# Ensure numeric columns\n",
    "numeric_cols = [\"GDD\", \"average_temperature\", \"median_temperature\", \"maximum_temperature\", \"minimum_temperature\", \"accumulated_temperature\", \"cv_temperature\"]\n",
    "df[numeric_cols] = df[numeric_cols].apply(pd.to_numeric, errors=\"coerce\")\n",
    "\n",
    "# Drop rows with NaN in metrics\n",
    "df = df.dropna(subset=numeric_cols)\n",
    "\n",
    "# Extract base plot\n",
    "df['Base_Plot'] = df['Plot'].str.extract(r'(Plot_\\d+)', expand=False)\n",
    "\n",
    "df.head()"
   ]
  },
  {
   "cell_type": "markdown",
   "id": "cc616e11",
   "metadata": {},
   "source": [
    "### Kruskal Wallis test to test inter-plot variation "
   ]
  },
  {
   "cell_type": "code",
   "execution_count": null,
   "id": "a8c9ef8f",
   "metadata": {},
   "outputs": [],
   "source": [
    "# Inter-plot variation: within a year\n",
    "inter_plot_results = {}\n",
    "for year, group in df.groupby(\"Year\"):\n",
    "    grouped = group.groupby(\"Base_Plot\")[numeric_cols].median()  # Median for plots with multiple measurements\n",
    "    for metric in numeric_cols:\n",
    "        stat, p = kruskal(*[grouped.loc[g][metric] for g in grouped.index])\n",
    "        inter_plot_results[(year, metric)] = p\n",
    "\n",
    "inter_plot_df = pd.DataFrame.from_dict(inter_plot_results, orient=\"index\", columns=[\"p-value\"])\n",
    "inter_plot_df"
   ]
  },
  {
   "cell_type": "markdown",
   "id": "f4548678",
   "metadata": {},
   "source": [
    "### Mixed-Effects Model Test for Inter-Plot Variation Across Years"
   ]
  },
  {
   "cell_type": "code",
   "execution_count": null,
   "id": "91d1bed5",
   "metadata": {},
   "outputs": [],
   "source": [
    "# 2. Inter-plot variation across years\n",
    "# Mixed-effects model: Plot as fixed, Year as random\n",
    "inter_year_results = {}\n",
    "\n",
    "for metric in [\"GDD\", \"average_temperature\", \"median_temperature\", \"maximum_temperature\", \"minimum_temperature\", \"accumulated_temperature\", \"cv_temperature\"]:\n",
    "    model = mixedlm(f\"{metric} ~ Base_Plot\", df, groups=df[\"Year\"])\n",
    "    result = model.fit()\n",
    "    inter_year_results[metric] = result.pvalues\n",
    "\n",
    "inter_year_df = pd.DataFrame(inter_year_results)\n",
    "# Format p-values to 4 decimal places\n",
    "inter_year_df = inter_year_df.applymap(lambda x: round(x, 4))\n",
    "\n",
    "inter_year_df"
   ]
  },
  {
   "cell_type": "markdown",
   "id": "3209e391",
   "metadata": {},
   "source": [
    "### Intra-plot variation "
   ]
  },
  {
   "cell_type": "code",
   "execution_count": null,
   "id": "b3576370",
   "metadata": {},
   "outputs": [],
   "source": [
    "# only for plots with multiple sensors\n",
    "filtered_df = df.groupby([\"Base_Plot\", \"Year\"]).filter(lambda x: len(x) > 1)\n",
    "print(filtered_df.groupby([\"Base_Plot\", \"Year\"]).size())"
   ]
  },
  {
   "cell_type": "code",
   "execution_count": null,
   "id": "705dc2e3",
   "metadata": {},
   "outputs": [],
   "source": [
    "filtered_df.head()"
   ]
  },
  {
   "cell_type": "code",
   "execution_count": null,
   "id": "bb4bb244",
   "metadata": {},
   "outputs": [],
   "source": [
    "\n",
    "# List of numeric columns to analyze\n",
    "numeric_cols = [\"GDD\", \"average_temperature\", \"median_temperature\", \"maximum_temperature\", \"minimum_temperature\", \"accumulated_temperature\", \"cv_temperature\"]\n",
    "\n",
    "intra_plot_results = {}\n",
    "for year, group in filtered_df.groupby(\"Year\"):\n",
    "    # Group by Base_Plot\n",
    "    grouped = group.groupby(\"Base_Plot\")\n",
    "    \n",
    "    for metric in numeric_cols:\n",
    "        p_values = []\n",
    "        \n",
    "        # Iterate over each Base_Plot group\n",
    "        for base_plot, data in grouped:\n",
    "            p_values.append(data[metric])\n",
    "        \n",
    "        # Apply Kruskal-Wallis test\n",
    "        stat, p = kruskal(*p_values)\n",
    "        \n",
    "        # Store p-value for each year and metric\n",
    "        intra_plot_results[(year, metric)] = p\n",
    "\n",
    "# Convert the results into a DataFrame\n",
    "intra_plot_df = pd.DataFrame.from_dict(intra_plot_results, orient=\"index\", columns=[\"p-value\"])\n",
    "\n",
    "# Display the results\n",
    "intra_plot_df\n"
   ]
  },
  {
   "cell_type": "code",
   "execution_count": null,
   "id": "4509d1e2",
   "metadata": {},
   "outputs": [],
   "source": [
    "def analyze_plot_per_year(plot_data, numeric_cols):\n",
    "    results = {}\n",
    "    for year in plot_data['Year'].unique():\n",
    "        year_data = plot_data[plot_data['Year'] == year]\n",
    "        for metric in numeric_cols:\n",
    "            # Perform Kruskal-Wallis test across replicate measurements for each metric and year\n",
    "            groups = [group[metric].dropna() for _, group in year_data.groupby('Plot')]\n",
    "            if len(groups) > 1 and all(len(g) > 0 for g in groups):  # Ensure we have at least 2 groups with data\n",
    "                stat, p = kruskal(*groups)\n",
    "                results[f\"{metric}_{year}\"] = p\n",
    "            else:\n",
    "                results[f\"{metric}_{year}\"] = None  # Not enough data for comparison\n",
    "    return results\n",
    "\n",
    "# Perform analysis for each Base_Plot\n",
    "for base_plot in filtered_df['Base_Plot'].unique():\n",
    "    plot_data = filtered_df[filtered_df['Base_Plot'] == base_plot]\n",
    "    \n",
    "    # Perform analysis\n",
    "    plot_results = analyze_plot_per_year(plot_data, numeric_cols)\n",
    "    \n",
    "    # Create DataFrame for this plot\n",
    "    plot_df = pd.DataFrame.from_dict(plot_results, orient=\"index\", columns=[\"p-value\"])\n",
    "    \n",
    "    # Round p-values to 4 decimal places\n",
    "    plot_df = plot_df.applymap(lambda x: round(x, 4) if x is not None else x)\n",
    "    \n",
    "    # Sort the index to group metrics by year\n",
    "    plot_df = plot_df.sort_index()\n",
    "    \n",
    "    # Assign the DataFrame to a dynamically named variable\n",
    "    globals()[f\"intra_Plot_{base_plot}\"] = plot_df\n",
    "    \n",
    "    # Print or display the results\n",
    "    print(f\"Results for Plot {base_plot}:\")\n",
    "    print(plot_df)\n",
    "    print(\"\\n\")\n"
   ]
  },
  {
   "cell_type": "code",
   "execution_count": null,
   "id": "23d409b4",
   "metadata": {},
   "outputs": [],
   "source": []
  }
 ],
 "metadata": {
  "kernelspec": {
   "display_name": "qiime2-amplicon-2024.10",
   "language": "python",
   "name": "python3"
  },
  "language_info": {
   "codemirror_mode": {
    "name": "ipython",
    "version": 3
   },
   "file_extension": ".py",
   "mimetype": "text/x-python",
   "name": "python",
   "nbconvert_exporter": "python",
   "pygments_lexer": "ipython3",
   "version": "3.10.14"
  }
 },
 "nbformat": 4,
 "nbformat_minor": 5
}
