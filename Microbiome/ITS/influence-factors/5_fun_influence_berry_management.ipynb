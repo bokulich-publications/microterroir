{
 "cells": [
  {
   "cell_type": "markdown",
   "id": "a8b92d8b",
   "metadata": {},
   "source": [
    "# 5. Influence factors: Vineyard management on berry microbiome"
   ]
  },
  {
   "cell_type": "code",
   "execution_count": 1,
   "id": "abc52439",
   "metadata": {},
   "outputs": [],
   "source": [
    "#!mkdir /home/lfloerl/cloud/lfloerl/Microterroir/artifacts/ITS/lavaux/management"
   ]
  },
  {
   "cell_type": "code",
   "execution_count": 2,
   "id": "cd670efc",
   "metadata": {},
   "outputs": [
    {
     "name": "stdout",
     "output_type": "stream",
     "text": [
      "/home/lfloerl/cloud/lfloerl/Microterroir/artifacts/ITS/lavaux/influence/management\n"
     ]
    }
   ],
   "source": [
    "workdir = '/home/lfloerl/cloud/lfloerl/Microterroir/artifacts/ITS/lavaux/influence/management'\n",
    "%cd $workdir"
   ]
  },
  {
   "cell_type": "code",
   "execution_count": 3,
   "id": "413c885b",
   "metadata": {},
   "outputs": [
    {
     "name": "stdout",
     "output_type": "stream",
     "text": [
      "env: TMPDIR=/scratch/lfloerl/tmpdata\n"
     ]
    }
   ],
   "source": [
    "%env TMPDIR=/scratch/lfloerl/tmpdata"
   ]
  },
  {
   "cell_type": "code",
   "execution_count": 4,
   "id": "18e20f86",
   "metadata": {},
   "outputs": [],
   "source": [
    "from qiime2 import Visualization\n",
    "import qiime2 as q2\n",
    "from qiime2 import Visualization\n",
    "from qiime2 import Artifact\n",
    "from qiime2 import Metadata\n",
    "import os\n",
    "import pandas as pd\n",
    "import matplotlib.pyplot as plt\n",
    "import seaborn as sns\n",
    "from qiime2.plugins.diversity.visualizers import alpha_group_significance\n",
    "from qiime2.plugins.feature_table.methods import (filter_samples, filter_seqs)\n",
    "from statsmodels.stats.outliers_influence import variance_inflation_factor\n",
    "from scipy import stats\n",
    "from scipy.stats import f_oneway, chi2_contingency\n",
    "import numpy as np\n",
    "\n",
    "from qiime2.plugins import diversity as q2d\n",
    "\n",
    "%matplotlib inline"
   ]
  },
  {
   "cell_type": "markdown",
   "id": "e514939f",
   "metadata": {},
   "source": [
    "# Colinearity between variables"
   ]
  },
  {
   "cell_type": "code",
   "execution_count": 56,
   "id": "a2ea4b39",
   "metadata": {
    "scrolled": false
   },
   "outputs": [
    {
     "data": {
      "text/html": [
       "<div>\n",
       "<style scoped>\n",
       "    .dataframe tbody tr th:only-of-type {\n",
       "        vertical-align: middle;\n",
       "    }\n",
       "\n",
       "    .dataframe tbody tr th {\n",
       "        vertical-align: top;\n",
       "    }\n",
       "\n",
       "    .dataframe thead th {\n",
       "        text-align: right;\n",
       "    }\n",
       "</style>\n",
       "<table border=\"1\" class=\"dataframe\">\n",
       "  <thead>\n",
       "    <tr style=\"text-align: right;\">\n",
       "      <th></th>\n",
       "      <th>id</th>\n",
       "      <th>SAMPLE_NAME</th>\n",
       "      <th>sample_type</th>\n",
       "      <th>Plot_ID</th>\n",
       "      <th>COLLECTION_DATE</th>\n",
       "      <th>Year</th>\n",
       "      <th>Plot</th>\n",
       "      <th>Altitude</th>\n",
       "      <th>Average_slope</th>\n",
       "      <th>Exposition</th>\n",
       "      <th>...</th>\n",
       "      <th>Hydromorphie</th>\n",
       "      <th>Hydromorphie_code</th>\n",
       "      <th>Geology</th>\n",
       "      <th>Phenology_BudBreak</th>\n",
       "      <th>Phenology_Flowering</th>\n",
       "      <th>Hail_Damage</th>\n",
       "      <th>Herbicide</th>\n",
       "      <th>Mildew</th>\n",
       "      <th>Grape_Yield_Estimate</th>\n",
       "      <th>Pruning_Weight</th>\n",
       "    </tr>\n",
       "  </thead>\n",
       "  <tbody>\n",
       "    <tr>\n",
       "      <th>0</th>\n",
       "      <td>364526_290-LP3-ITS-0866</td>\n",
       "      <td>Lavaux_2021-08-31_bark_Plot4</td>\n",
       "      <td>bark</td>\n",
       "      <td>Lavaux_Plot_4</td>\n",
       "      <td>2021-08-31 00:00:00 +0200</td>\n",
       "      <td>2021</td>\n",
       "      <td>4</td>\n",
       "      <td>450</td>\n",
       "      <td>30</td>\n",
       "      <td>South-West</td>\n",
       "      <td>...</td>\n",
       "      <td>Slightly_redox</td>\n",
       "      <td>1</td>\n",
       "      <td>Molasse</td>\n",
       "      <td>105</td>\n",
       "      <td>170</td>\n",
       "      <td>no</td>\n",
       "      <td>band</td>\n",
       "      <td>yes</td>\n",
       "      <td>medium</td>\n",
       "      <td>49.71</td>\n",
       "    </tr>\n",
       "    <tr>\n",
       "      <th>1</th>\n",
       "      <td>364526_289-LP3-ITS-0865</td>\n",
       "      <td>Lavaux_2021-08-31_bark_Plot5</td>\n",
       "      <td>bark</td>\n",
       "      <td>Lavaux_Plot_5</td>\n",
       "      <td>2021-08-31 00:00:00 +0200</td>\n",
       "      <td>2021</td>\n",
       "      <td>5</td>\n",
       "      <td>400</td>\n",
       "      <td>30</td>\n",
       "      <td>South-West</td>\n",
       "      <td>...</td>\n",
       "      <td>no_redox</td>\n",
       "      <td>0</td>\n",
       "      <td>Molasse</td>\n",
       "      <td>104</td>\n",
       "      <td>167</td>\n",
       "      <td>no</td>\n",
       "      <td>band</td>\n",
       "      <td>no</td>\n",
       "      <td>medium</td>\n",
       "      <td>57.41</td>\n",
       "    </tr>\n",
       "    <tr>\n",
       "      <th>2</th>\n",
       "      <td>364526_285-LP3-ITS-0861</td>\n",
       "      <td>Lavaux_2021-08-31_bark_Plot9</td>\n",
       "      <td>bark</td>\n",
       "      <td>Lavaux_Plot_9</td>\n",
       "      <td>2021-08-31 00:00:00 +0200</td>\n",
       "      <td>2021</td>\n",
       "      <td>9</td>\n",
       "      <td>520</td>\n",
       "      <td>35</td>\n",
       "      <td>South-West</td>\n",
       "      <td>...</td>\n",
       "      <td>no_redox</td>\n",
       "      <td>0</td>\n",
       "      <td>Molasse</td>\n",
       "      <td>111</td>\n",
       "      <td>172</td>\n",
       "      <td>no</td>\n",
       "      <td>almost_total</td>\n",
       "      <td>yes</td>\n",
       "      <td>low</td>\n",
       "      <td>38.99</td>\n",
       "    </tr>\n",
       "    <tr>\n",
       "      <th>3</th>\n",
       "      <td>364526_287-LP3-ITS-0863</td>\n",
       "      <td>Lavaux_2021-08-31_bark_Plot11</td>\n",
       "      <td>bark</td>\n",
       "      <td>Lavaux_Plot_11</td>\n",
       "      <td>2021-08-31 00:00:00 +0200</td>\n",
       "      <td>2021</td>\n",
       "      <td>11</td>\n",
       "      <td>490</td>\n",
       "      <td>20</td>\n",
       "      <td>South</td>\n",
       "      <td>...</td>\n",
       "      <td>Slightly_redox</td>\n",
       "      <td>1</td>\n",
       "      <td>Gravel_moraine</td>\n",
       "      <td>109</td>\n",
       "      <td>173</td>\n",
       "      <td>yes</td>\n",
       "      <td>band</td>\n",
       "      <td>yes</td>\n",
       "      <td>low</td>\n",
       "      <td>47.67</td>\n",
       "    </tr>\n",
       "    <tr>\n",
       "      <th>4</th>\n",
       "      <td>364526_282-LP3-ITS-0858</td>\n",
       "      <td>Lavaux_2021-08-31_bark_Plot12</td>\n",
       "      <td>bark</td>\n",
       "      <td>Lavaux_Plot_12</td>\n",
       "      <td>2021-08-31 00:00:00 +0200</td>\n",
       "      <td>2021</td>\n",
       "      <td>12</td>\n",
       "      <td>520</td>\n",
       "      <td>15</td>\n",
       "      <td>South-West</td>\n",
       "      <td>...</td>\n",
       "      <td>Slightly_redox</td>\n",
       "      <td>1</td>\n",
       "      <td>Colluvium</td>\n",
       "      <td>107</td>\n",
       "      <td>173</td>\n",
       "      <td>no</td>\n",
       "      <td>almost_total</td>\n",
       "      <td>yes</td>\n",
       "      <td>medium</td>\n",
       "      <td>54.09</td>\n",
       "    </tr>\n",
       "  </tbody>\n",
       "</table>\n",
       "<p>5 rows × 26 columns</p>\n",
       "</div>"
      ],
      "text/plain": [
       "                        id                    SAMPLE_NAME sample_type  \\\n",
       "0  364526_290-LP3-ITS-0866   Lavaux_2021-08-31_bark_Plot4        bark   \n",
       "1  364526_289-LP3-ITS-0865   Lavaux_2021-08-31_bark_Plot5        bark   \n",
       "2  364526_285-LP3-ITS-0861   Lavaux_2021-08-31_bark_Plot9        bark   \n",
       "3  364526_287-LP3-ITS-0863  Lavaux_2021-08-31_bark_Plot11        bark   \n",
       "4  364526_282-LP3-ITS-0858  Lavaux_2021-08-31_bark_Plot12        bark   \n",
       "\n",
       "          Plot_ID            COLLECTION_DATE  Year  Plot  Altitude  \\\n",
       "0   Lavaux_Plot_4  2021-08-31 00:00:00 +0200  2021     4       450   \n",
       "1   Lavaux_Plot_5  2021-08-31 00:00:00 +0200  2021     5       400   \n",
       "2   Lavaux_Plot_9  2021-08-31 00:00:00 +0200  2021     9       520   \n",
       "3  Lavaux_Plot_11  2021-08-31 00:00:00 +0200  2021    11       490   \n",
       "4  Lavaux_Plot_12  2021-08-31 00:00:00 +0200  2021    12       520   \n",
       "\n",
       "   Average_slope  Exposition  ...    Hydromorphie  Hydromorphie_code  \\\n",
       "0             30  South-West  ...  Slightly_redox                  1   \n",
       "1             30  South-West  ...        no_redox                  0   \n",
       "2             35  South-West  ...        no_redox                  0   \n",
       "3             20       South  ...  Slightly_redox                  1   \n",
       "4             15  South-West  ...  Slightly_redox                  1   \n",
       "\n",
       "          Geology Phenology_BudBreak Phenology_Flowering Hail_Damage  \\\n",
       "0         Molasse                105                 170          no   \n",
       "1         Molasse                104                 167          no   \n",
       "2         Molasse                111                 172          no   \n",
       "3  Gravel_moraine                109                 173         yes   \n",
       "4       Colluvium                107                 173          no   \n",
       "\n",
       "      Herbicide  Mildew Grape_Yield_Estimate  Pruning_Weight  \n",
       "0          band     yes               medium           49.71  \n",
       "1          band      no               medium           57.41  \n",
       "2  almost_total     yes                  low           38.99  \n",
       "3          band     yes                  low           47.67  \n",
       "4  almost_total     yes               medium           54.09  \n",
       "\n",
       "[5 rows x 26 columns]"
      ]
     },
     "execution_count": 56,
     "metadata": {},
     "output_type": "execute_result"
    }
   ],
   "source": [
    "md_df = pd.read_csv('/home/lfloerl/microterroir/Microbiome/Metadata/ITS_Lavaux_Management.tsv', sep='\\t')\n",
    "md_df.head()"
   ]
  },
  {
   "cell_type": "code",
   "execution_count": 61,
   "id": "97fb7a08",
   "metadata": {
    "scrolled": false
   },
   "outputs": [
    {
     "data": {
      "image/png": "[encoded data removed]",
      "text/plain": [
       "<Figure size 1000x800 with 2 Axes>"
      ]
     },
     "metadata": {},
     "output_type": "display_data"
    }
   ],
   "source": [
    "# Convert categorical variables to dummy variables\n",
    "encoded_md = pd.get_dummies(md_df[['Hail_Damage', 'Herbicide', 'Mildew', 'Grape_Yield_Estimate']], drop_first=True)\n",
    "\n",
    "# Compute and visualize correlation\n",
    "cor_matrix = encoded_md.corr()\n",
    "\n",
    "# Mask the upper triangle for clarity\n",
    "mask = np.triu(np.ones_like(cor_matrix, dtype=bool))\n",
    "\n",
    "# Set masked values to NaN for annotations\n",
    "annot_matrix = cor_matrix.mask(mask)\n",
    "\n",
    "# Create the heatmap\n",
    "plt.figure(figsize=(10, 8))\n",
    "sns.heatmap(cor_matrix, mask=mask, annot=annot_matrix, cmap='coolwarm',annot_kws={'size': 8}, fmt='.2f', cbar=True, linewidths=0.5)\n",
    "plt.show()"
   ]
  },
  {
   "cell_type": "markdown",
   "id": "57b701eb",
   "metadata": {},
   "source": [
    "> strong correlation between hail damage and mildew "
   ]
  },
  {
   "cell_type": "code",
   "execution_count": 63,
   "id": "60c7df79",
   "metadata": {},
   "outputs": [
    {
     "name": "stdout",
     "output_type": "stream",
     "text": [
      "ANOVA F-statistic: inf\n",
      "ANOVA p-value: 0.0\n"
     ]
    },
    {
     "name": "stderr",
     "output_type": "stream",
     "text": [
      "/scratch/lfloerl/.condaenvs/qiime2-amplicon-2024.10/lib/python3.10/site-packages/scipy/stats/_axis_nan_policy.py:531: ConstantInputWarning: Each of the input arrays is constant; the F statistic is not defined or infinite\n",
      "  res = hypotest_fun_out(*samples, **kwds)\n"
     ]
    }
   ],
   "source": [
    "# Extract the two columns you want to compare\n",
    "hail_damage = encoded_md['Hail_Damage_yes']\n",
    "mildew = encoded_md['Mildew_yes']\n",
    "\n",
    "# Perform one-way ANOVA\n",
    "anova_result = f_oneway(hail_damage[hail_damage == 0], hail_damage[hail_damage == 1], mildew[mildew == 0], mildew[mildew == 1])\n",
    "\n",
    "# Print the F-statistic and p-value\n",
    "print(\"ANOVA F-statistic:\", anova_result.statistic)\n",
    "print(\"ANOVA p-value:\", anova_result.pvalue)"
   ]
  },
  {
   "cell_type": "code",
   "execution_count": 66,
   "id": "231f918a",
   "metadata": {},
   "outputs": [
    {
     "name": "stdout",
     "output_type": "stream",
     "text": [
      "Chi-Square Statistic: 158.394198942897\n",
      "p-value: 2.5380914693392096e-36\n",
      "Degrees of Freedom: 1\n",
      "Expected Frequencies Table:\n",
      " [[252.78319328 226.21680672]\n",
      " [ 61.21680672  54.78319328]]\n"
     ]
    }
   ],
   "source": [
    "# Create a contingency table\n",
    "contingency_table = pd.crosstab(encoded_md['Hail_Damage_yes'], encoded_md['Mildew_yes'])\n",
    "\n",
    "# Perform the Chi-square test\n",
    "chi2_stat, p_val, dof, expected = chi2_contingency(contingency_table)\n",
    "\n",
    "# Print the results\n",
    "print(\"Chi-Square Statistic:\", chi2_stat)\n",
    "print(\"p-value:\", p_val)\n",
    "print(\"Degrees of Freedom:\", dof)\n",
    "print(\"Expected Frequencies Table:\\n\", expected)"
   ]
  },
  {
   "cell_type": "markdown",
   "id": "41de3c25",
   "metadata": {},
   "source": [
    "# Must "
   ]
  },
  {
   "cell_type": "code",
   "execution_count": 6,
   "id": "3060e4f0",
   "metadata": {
    "scrolled": true
   },
   "outputs": [
    {
     "name": "stdout",
     "output_type": "stream",
     "text": [
      "Saved FeatureTable[Frequency] to: cm5000/rarefied_table.qza\n",
      "Saved SampleData[AlphaDiversity] to: cm5000/observed_features_vector.qza\n",
      "Saved SampleData[AlphaDiversity] to: cm5000/shannon_vector.qza\n",
      "Saved SampleData[AlphaDiversity] to: cm5000/evenness_vector.qza\n",
      "Saved DistanceMatrix to: cm5000/jaccard_distance_matrix.qza\n",
      "Saved DistanceMatrix to: cm5000/bray_curtis_distance_matrix.qza\n",
      "Saved PCoAResults to: cm5000/jaccard_pcoa_results.qza\n",
      "Saved PCoAResults to: cm5000/bray_curtis_pcoa_results.qza\n",
      "Saved Visualization to: cm5000/jaccard_emperor.qzv\n",
      "Saved Visualization to: cm5000/bray_curtis_emperor.qzv\n",
      "Saved FeatureTable[Frequency] to: kmer_cm5000/rarefied_table.qza\n",
      "Saved FeatureTable[Frequency] to: kmer_cm5000/kmer_table.qza\n",
      "Saved SampleData[AlphaDiversity] to: kmer_cm5000/observed_features_vector.qza\n",
      "Saved SampleData[AlphaDiversity] to: kmer_cm5000/shannon_vector.qza\n",
      "Saved DistanceMatrix to: kmer_cm5000/jaccard_distance_matrix.qza\n",
      "Saved DistanceMatrix to: kmer_cm5000/bray_curtis_distance_matrix.qza\n",
      "Saved PCoAResults to: kmer_cm5000/jaccard_pcoa_results.qza\n",
      "Saved PCoAResults to: kmer_cm5000/bray_curtis_pcoa_results.qza\n",
      "Saved Visualization to: kmer_cm5000/scatterplot.qzv\n"
     ]
    }
   ],
   "source": [
    "%%bash \n",
    "\n",
    "mkdir management-on-berry\n",
    "cd management-on-berry\n",
    "\n",
    "# Core diversity metrics\n",
    "qiime diversity core-metrics \\\n",
    "        --i-table /home/lfloerl/cloud/lfloerl/Microterroir/artifacts/ITS/lavaux/must_filtered_table.qza \\\n",
    "        --p-sampling-depth 5000 \\\n",
    "        --m-metadata-file /home/lfloerl/microterroir/Microbiome/Metadata/ITS_Lavaux_Management.tsv \\\n",
    "        --p-n-jobs 5 \\\n",
    "        --output-dir cm5000/\n",
    "\n",
    "# Kmer diversity\n",
    "qiime kmerizer core-metrics \\\n",
    "        --i-sequences /home/lfloerl/cloud/lfloerl/Microterroir/artifacts/ITS/lavaux/must_filtered_rep_seqs.qza \\\n",
    "        --i-table /home/lfloerl/cloud/lfloerl/Microterroir/artifacts/ITS/lavaux/must_filtered_table.qza \\\n",
    "        --p-sampling-depth 5000 \\\n",
    "        --m-metadata-file /home/lfloerl/microterroir/Microbiome/Metadata/ITS_Lavaux_Management.tsv \\\n",
    "        --p-n-jobs auto \\\n",
    "        --p-max-features 5000 \\\n",
    "        --output-dir kmer_cm5000/\n"
   ]
  },
  {
   "cell_type": "markdown",
   "id": "38d1ba7b",
   "metadata": {},
   "source": [
    "## Alpha Diversity"
   ]
  },
  {
   "cell_type": "code",
   "execution_count": 14,
   "id": "dd8cf4d5",
   "metadata": {},
   "outputs": [
    {
     "name": "stdout",
     "output_type": "stream",
     "text": [
      "\u001b[32mSaved Visualization to: management-on-berry/cm5000/alpha_groupSig_shannon_vector.qzv\u001b[0m\n",
      "\u001b[0m\u001b[32mSaved Visualization to: management-on-berry/cm5000/alpha_groupSig_observed_features_vector.qzv\u001b[0m\n",
      "\u001b[0m\u001b[32mSaved Visualization to: management-on-berry/cm5000/alpha_groupSig_evenness_vector.qzv\u001b[0m\n",
      "\u001b[0m"
     ]
    }
   ],
   "source": [
    "alpha_metrics = ['shannon_vector', 'observed_features_vector', 'evenness_vector']\n",
    "\n",
    "output_dir = 'management-on-berry/cm5000'\n",
    "\n",
    "for metric in alpha_metrics:\n",
    "    !qiime diversity alpha-group-significance \\\n",
    "        --i-alpha-diversity {output_dir}/{metric}.qza \\\n",
    "        --m-metadata-file /home/lfloerl/microterroir/Microbiome/Metadata/ITS_Lavaux_Management.tsv \\\n",
    "        --o-visualization {output_dir}/alpha_groupSig_{metric}.qzv"
   ]
  },
  {
   "cell_type": "code",
   "execution_count": 5,
   "id": "fd079ab6",
   "metadata": {
    "scrolled": true
   },
   "outputs": [
    {
     "data": {
      "text/html": [
       "<div><img onload=\"(function(div, url){\n",
       "if (typeof require !== 'undefined') {\n",
       "    var baseURL = require.toUrl('').split('/').slice(0, -2).join('/');\n",
       "} else {\n",
       "    var baseURL = JSON.parse(\n",
       "        document.getElementById('jupyter-config-data').innerHTML\n",
       "    ).baseUrl.slice(0, -1);\n",
       "}\n",
       "url = baseURL + url;\n",
       "fetch(url).then(function(res) {\n",
       "    if (res.status === 404) {\n",
       "        div.innerHTML = 'Install QIIME 2 Jupyter extension with:<br />' +\n",
       "                        '<code>jupyter server extension enable --py qiime2' +\n",
       "                        ' --sys-prefix</code><br />then restart your server.' +\n",
       "                        '<br /><br />(Interactive output not available on ' +\n",
       "                        'static notebook viewer services like nbviewer.)';\n",
       "    } else if (res.status === 409) {\n",
       "        div.innerHTML = 'Visualization no longer in scope. Re-run this cell' +\n",
       "                        ' to see the visualization.';\n",
       "    } else if (res.ok) {\n",
       "        url = res.url;\n",
       "        div.innerHTML = '<iframe src=\\'' + url + '\\' style=\\'' +\n",
       "                        'width: 100%; height: 700px; border: 0;\\'>' +\n",
       "                        '</iframe><hr />Open in a: <a href=\\'' + url + '\\'' +\n",
       "                        ' target=\\'_blank\\'>new window</a>'\n",
       "    } else {\n",
       "        div.innerHTML = 'Something has gone wrong. Check notebook server for' +\n",
       "                        ' errors.';\n",
       "    }\n",
       "});\n",
       "})(this.parentElement, '/qiime2/redirect?location=/scratch/lfloerl/tmpdata/qiime2/lfloerl/data/5b751559-6760-4ea5-b288-f239c8cd7efd')\" src=\"data:image/gif;base64,R0lGODlhAQABAIAAAP///wAAACH5BAEAAAAALAAAAAABAAEAAAICRAEAOw==\" /></div>"
      ],
      "text/plain": [
       "<visualization: Visualization uuid: 5b751559-6760-4ea5-b288-f239c8cd7efd>"
      ]
     },
     "execution_count": 5,
     "metadata": {},
     "output_type": "execute_result"
    }
   ],
   "source": [
    "Visualization.load('management-on-berry/cm5000/alpha_groupSig_evenness_vector.qzv')"
   ]
  },
  {
   "cell_type": "code",
   "execution_count": 6,
   "id": "a475d39b",
   "metadata": {
    "scrolled": false
   },
   "outputs": [
    {
     "data": {
      "text/html": [
       "<div><img onload=\"(function(div, url){\n",
       "if (typeof require !== 'undefined') {\n",
       "    var baseURL = require.toUrl('').split('/').slice(0, -2).join('/');\n",
       "} else {\n",
       "    var baseURL = JSON.parse(\n",
       "        document.getElementById('jupyter-config-data').innerHTML\n",
       "    ).baseUrl.slice(0, -1);\n",
       "}\n",
       "url = baseURL + url;\n",
       "fetch(url).then(function(res) {\n",
       "    if (res.status === 404) {\n",
       "        div.innerHTML = 'Install QIIME 2 Jupyter extension with:<br />' +\n",
       "                        '<code>jupyter server extension enable --py qiime2' +\n",
       "                        ' --sys-prefix</code><br />then restart your server.' +\n",
       "                        '<br /><br />(Interactive output not available on ' +\n",
       "                        'static notebook viewer services like nbviewer.)';\n",
       "    } else if (res.status === 409) {\n",
       "        div.innerHTML = 'Visualization no longer in scope. Re-run this cell' +\n",
       "                        ' to see the visualization.';\n",
       "    } else if (res.ok) {\n",
       "        url = res.url;\n",
       "        div.innerHTML = '<iframe src=\\'' + url + '\\' style=\\'' +\n",
       "                        'width: 100%; height: 700px; border: 0;\\'>' +\n",
       "                        '</iframe><hr />Open in a: <a href=\\'' + url + '\\'' +\n",
       "                        ' target=\\'_blank\\'>new window</a>'\n",
       "    } else {\n",
       "        div.innerHTML = 'Something has gone wrong. Check notebook server for' +\n",
       "                        ' errors.';\n",
       "    }\n",
       "});\n",
       "})(this.parentElement, '/qiime2/redirect?location=/scratch/lfloerl/tmpdata/qiime2/lfloerl/data/adc774ba-95fe-41b3-8cfd-0af69ae420ca')\" src=\"data:image/gif;base64,R0lGODlhAQABAIAAAP///wAAACH5BAEAAAAALAAAAAABAAEAAAICRAEAOw==\" /></div>"
      ],
      "text/plain": [
       "<visualization: Visualization uuid: adc774ba-95fe-41b3-8cfd-0af69ae420ca>"
      ]
     },
     "execution_count": 6,
     "metadata": {},
     "output_type": "execute_result"
    }
   ],
   "source": [
    "Visualization.load('management-on-berry/cm5000/alpha_groupSig_observed_features_vector.qzv')"
   ]
  },
  {
   "cell_type": "code",
   "execution_count": 7,
   "id": "b9469709",
   "metadata": {},
   "outputs": [
    {
     "data": {
      "text/html": [
       "<div><img onload=\"(function(div, url){\n",
       "if (typeof require !== 'undefined') {\n",
       "    var baseURL = require.toUrl('').split('/').slice(0, -2).join('/');\n",
       "} else {\n",
       "    var baseURL = JSON.parse(\n",
       "        document.getElementById('jupyter-config-data').innerHTML\n",
       "    ).baseUrl.slice(0, -1);\n",
       "}\n",
       "url = baseURL + url;\n",
       "fetch(url).then(function(res) {\n",
       "    if (res.status === 404) {\n",
       "        div.innerHTML = 'Install QIIME 2 Jupyter extension with:<br />' +\n",
       "                        '<code>jupyter server extension enable --py qiime2' +\n",
       "                        ' --sys-prefix</code><br />then restart your server.' +\n",
       "                        '<br /><br />(Interactive output not available on ' +\n",
       "                        'static notebook viewer services like nbviewer.)';\n",
       "    } else if (res.status === 409) {\n",
       "        div.innerHTML = 'Visualization no longer in scope. Re-run this cell' +\n",
       "                        ' to see the visualization.';\n",
       "    } else if (res.ok) {\n",
       "        url = res.url;\n",
       "        div.innerHTML = '<iframe src=\\'' + url + '\\' style=\\'' +\n",
       "                        'width: 100%; height: 700px; border: 0;\\'>' +\n",
       "                        '</iframe><hr />Open in a: <a href=\\'' + url + '\\'' +\n",
       "                        ' target=\\'_blank\\'>new window</a>'\n",
       "    } else {\n",
       "        div.innerHTML = 'Something has gone wrong. Check notebook server for' +\n",
       "                        ' errors.';\n",
       "    }\n",
       "});\n",
       "})(this.parentElement, '/qiime2/redirect?location=/scratch/lfloerl/tmpdata/qiime2/lfloerl/data/ed59cc7b-43fd-4743-8888-3d6f66a43d9e')\" src=\"data:image/gif;base64,R0lGODlhAQABAIAAAP///wAAACH5BAEAAAAALAAAAAABAAEAAAICRAEAOw==\" /></div>"
      ],
      "text/plain": [
       "<visualization: Visualization uuid: ed59cc7b-43fd-4743-8888-3d6f66a43d9e>"
      ]
     },
     "execution_count": 7,
     "metadata": {},
     "output_type": "execute_result"
    }
   ],
   "source": [
    "Visualization.load('management-on-berry/cm5000/alpha_groupSig_shannon_vector.qzv')"
   ]
  },
  {
   "cell_type": "code",
   "execution_count": null,
   "id": "568e1e1f",
   "metadata": {},
   "outputs": [],
   "source": []
  },
  {
   "cell_type": "markdown",
   "id": "1ab49ddc",
   "metadata": {},
   "source": [
    "### PERMANOVA thereof"
   ]
  },
  {
   "cell_type": "code",
   "execution_count": 77,
   "id": "b82cebdc",
   "metadata": {},
   "outputs": [
    {
     "name": "stdout",
     "output_type": "stream",
     "text": [
      "\u001b[32mSaved Visualization to: management-on-berry/cm5000/adonis_bray_curtis.qzv\u001b[0m\n",
      "\u001b[0m\u001b[32mSaved Visualization to: management-on-berry/cm5000/adonis_jaccard.qzv\u001b[0m\n",
      "\u001b[0m\u001b[32mSaved Visualization to: management-on-berry/kmer_cm5000/adonis_bray_curtis.qzv\u001b[0m\n",
      "\u001b[0m\u001b[32mSaved Visualization to: management-on-berry/kmer_cm5000/adonis_jaccard.qzv\u001b[0m\n",
      "\u001b[0m"
     ]
    }
   ],
   "source": [
    "#formula='Year + Phenology_BudBreak + Phenology_Flowering + Year:Hail_Damage + Herbicide + Mildew + Grape_Yield_Estimate + Pruning_Weight'\n",
    "\n",
    "#formula='Year:Phenology_BudBreak + Year:Phenology_Flowering + Year:Hail_Damage + Year:Herbicide + Year:Mildew + Year:Grape_Yield_Estimate + Year:Pruning_Weight'\n",
    "\n",
    "formula='Mildew * Hail_Damage'\n",
    "\n",
    "\n",
    "beta_metrics = ['bray_curtis', 'jaccard']\n",
    "\n",
    "# PERMANOVA with core metrics \n",
    "div_dir = 'cm5000'\n",
    "for m in beta_metrics:\n",
    "    !qiime diversity adonis \\\n",
    "        --i-distance-matrix \"management-on-berry/{div_dir}/{m}_distance_matrix.qza\" \\\n",
    "        --m-metadata-file /home/lfloerl/microterroir/Microbiome/Metadata/ITS_Lavaux_Management.tsv \\\n",
    "        --p-formula \"{formula}\" \\\n",
    "        --p-n-jobs 5 \\\n",
    "        --o-visualization \"management-on-berry/{div_dir}/adonis_{m}.qzv\"\n",
    "    \n",
    "\n",
    "# PERMANOVA with kmer core metrics \n",
    "kmer_dir = 'kmer_cm5000'\n",
    "for m in beta_metrics:\n",
    "    !qiime diversity adonis \\\n",
    "        --i-distance-matrix \"management-on-berry/{kmer_dir}/{m}_distance_matrix.qza\" \\\n",
    "        --m-metadata-file /home/lfloerl/microterroir/Microbiome/Metadata/ITS_Lavaux_Management.tsv \\\n",
    "        --p-formula \"{formula}\" \\\n",
    "        --p-n-jobs 5 \\\n",
    "        --o-visualization \"management-on-berry/{kmer_dir}/adonis_{m}.qzv\""
   ]
  },
  {
   "cell_type": "code",
   "execution_count": 8,
   "id": "e5b7460e",
   "metadata": {
    "scrolled": true
   },
   "outputs": [
    {
     "data": {
      "text/html": [
       "<div><img onload=\"(function(div, url){\n",
       "if (typeof require !== 'undefined') {\n",
       "    var baseURL = require.toUrl('').split('/').slice(0, -2).join('/');\n",
       "} else {\n",
       "    var baseURL = JSON.parse(\n",
       "        document.getElementById('jupyter-config-data').innerHTML\n",
       "    ).baseUrl.slice(0, -1);\n",
       "}\n",
       "url = baseURL + url;\n",
       "fetch(url).then(function(res) {\n",
       "    if (res.status === 404) {\n",
       "        div.innerHTML = 'Install QIIME 2 Jupyter extension with:<br />' +\n",
       "                        '<code>jupyter server extension enable --py qiime2' +\n",
       "                        ' --sys-prefix</code><br />then restart your server.' +\n",
       "                        '<br /><br />(Interactive output not available on ' +\n",
       "                        'static notebook viewer services like nbviewer.)';\n",
       "    } else if (res.status === 409) {\n",
       "        div.innerHTML = 'Visualization no longer in scope. Re-run this cell' +\n",
       "                        ' to see the visualization.';\n",
       "    } else if (res.ok) {\n",
       "        url = res.url;\n",
       "        div.innerHTML = '<iframe src=\\'' + url + '\\' style=\\'' +\n",
       "                        'width: 100%; height: 700px; border: 0;\\'>' +\n",
       "                        '</iframe><hr />Open in a: <a href=\\'' + url + '\\'' +\n",
       "                        ' target=\\'_blank\\'>new window</a>'\n",
       "    } else {\n",
       "        div.innerHTML = 'Something has gone wrong. Check notebook server for' +\n",
       "                        ' errors.';\n",
       "    }\n",
       "});\n",
       "})(this.parentElement, '/qiime2/redirect?location=/scratch/lfloerl/tmpdata/qiime2/lfloerl/data/fc93e505-66f3-4080-9188-237afc915cad')\" src=\"data:image/gif;base64,R0lGODlhAQABAIAAAP///wAAACH5BAEAAAAALAAAAAABAAEAAAICRAEAOw==\" /></div>"
      ],
      "text/plain": [
       "<visualization: Visualization uuid: fc93e505-66f3-4080-9188-237afc915cad>"
      ]
     },
     "execution_count": 8,
     "metadata": {},
     "output_type": "execute_result"
    }
   ],
   "source": [
    "Visualization.load('management-on-berry/cm5000/adonis_bray_curtis.qzv')"
   ]
  },
  {
   "cell_type": "code",
   "execution_count": 9,
   "id": "ef588e27",
   "metadata": {
    "scrolled": true
   },
   "outputs": [
    {
     "data": {
      "text/html": [
       "<div><img onload=\"(function(div, url){\n",
       "if (typeof require !== 'undefined') {\n",
       "    var baseURL = require.toUrl('').split('/').slice(0, -2).join('/');\n",
       "} else {\n",
       "    var baseURL = JSON.parse(\n",
       "        document.getElementById('jupyter-config-data').innerHTML\n",
       "    ).baseUrl.slice(0, -1);\n",
       "}\n",
       "url = baseURL + url;\n",
       "fetch(url).then(function(res) {\n",
       "    if (res.status === 404) {\n",
       "        div.innerHTML = 'Install QIIME 2 Jupyter extension with:<br />' +\n",
       "                        '<code>jupyter server extension enable --py qiime2' +\n",
       "                        ' --sys-prefix</code><br />then restart your server.' +\n",
       "                        '<br /><br />(Interactive output not available on ' +\n",
       "                        'static notebook viewer services like nbviewer.)';\n",
       "    } else if (res.status === 409) {\n",
       "        div.innerHTML = 'Visualization no longer in scope. Re-run this cell' +\n",
       "                        ' to see the visualization.';\n",
       "    } else if (res.ok) {\n",
       "        url = res.url;\n",
       "        div.innerHTML = '<iframe src=\\'' + url + '\\' style=\\'' +\n",
       "                        'width: 100%; height: 700px; border: 0;\\'>' +\n",
       "                        '</iframe><hr />Open in a: <a href=\\'' + url + '\\'' +\n",
       "                        ' target=\\'_blank\\'>new window</a>'\n",
       "    } else {\n",
       "        div.innerHTML = 'Something has gone wrong. Check notebook server for' +\n",
       "                        ' errors.';\n",
       "    }\n",
       "});\n",
       "})(this.parentElement, '/qiime2/redirect?location=/scratch/lfloerl/tmpdata/qiime2/lfloerl/data/3199a3ea-2535-4a74-bde4-7b77c11d3593')\" src=\"data:image/gif;base64,R0lGODlhAQABAIAAAP///wAAACH5BAEAAAAALAAAAAABAAEAAAICRAEAOw==\" /></div>"
      ],
      "text/plain": [
       "<visualization: Visualization uuid: 3199a3ea-2535-4a74-bde4-7b77c11d3593>"
      ]
     },
     "execution_count": 9,
     "metadata": {},
     "output_type": "execute_result"
    }
   ],
   "source": [
    "Visualization.load('management-on-berry/cm5000/adonis_jaccard.qzv')"
   ]
  },
  {
   "cell_type": "code",
   "execution_count": 10,
   "id": "fe5a2b92",
   "metadata": {
    "scrolled": true
   },
   "outputs": [
    {
     "data": {
      "text/html": [
       "<div><img onload=\"(function(div, url){\n",
       "if (typeof require !== 'undefined') {\n",
       "    var baseURL = require.toUrl('').split('/').slice(0, -2).join('/');\n",
       "} else {\n",
       "    var baseURL = JSON.parse(\n",
       "        document.getElementById('jupyter-config-data').innerHTML\n",
       "    ).baseUrl.slice(0, -1);\n",
       "}\n",
       "url = baseURL + url;\n",
       "fetch(url).then(function(res) {\n",
       "    if (res.status === 404) {\n",
       "        div.innerHTML = 'Install QIIME 2 Jupyter extension with:<br />' +\n",
       "                        '<code>jupyter server extension enable --py qiime2' +\n",
       "                        ' --sys-prefix</code><br />then restart your server.' +\n",
       "                        '<br /><br />(Interactive output not available on ' +\n",
       "                        'static notebook viewer services like nbviewer.)';\n",
       "    } else if (res.status === 409) {\n",
       "        div.innerHTML = 'Visualization no longer in scope. Re-run this cell' +\n",
       "                        ' to see the visualization.';\n",
       "    } else if (res.ok) {\n",
       "        url = res.url;\n",
       "        div.innerHTML = '<iframe src=\\'' + url + '\\' style=\\'' +\n",
       "                        'width: 100%; height: 700px; border: 0;\\'>' +\n",
       "                        '</iframe><hr />Open in a: <a href=\\'' + url + '\\'' +\n",
       "                        ' target=\\'_blank\\'>new window</a>'\n",
       "    } else {\n",
       "        div.innerHTML = 'Something has gone wrong. Check notebook server for' +\n",
       "                        ' errors.';\n",
       "    }\n",
       "});\n",
       "})(this.parentElement, '/qiime2/redirect?location=/scratch/lfloerl/tmpdata/qiime2/lfloerl/data/52c93579-4884-4cc5-9590-3471c74e8149')\" src=\"data:image/gif;base64,R0lGODlhAQABAIAAAP///wAAACH5BAEAAAAALAAAAAABAAEAAAICRAEAOw==\" /></div>"
      ],
      "text/plain": [
       "<visualization: Visualization uuid: 52c93579-4884-4cc5-9590-3471c74e8149>"
      ]
     },
     "execution_count": 10,
     "metadata": {},
     "output_type": "execute_result"
    }
   ],
   "source": [
    "Visualization.load('management-on-berry/kmer_cm5000/adonis_bray_curtis.qzv')"
   ]
  },
  {
   "cell_type": "code",
   "execution_count": 11,
   "id": "3a6a5767",
   "metadata": {
    "scrolled": true
   },
   "outputs": [
    {
     "data": {
      "text/html": [
       "<div><img onload=\"(function(div, url){\n",
       "if (typeof require !== 'undefined') {\n",
       "    var baseURL = require.toUrl('').split('/').slice(0, -2).join('/');\n",
       "} else {\n",
       "    var baseURL = JSON.parse(\n",
       "        document.getElementById('jupyter-config-data').innerHTML\n",
       "    ).baseUrl.slice(0, -1);\n",
       "}\n",
       "url = baseURL + url;\n",
       "fetch(url).then(function(res) {\n",
       "    if (res.status === 404) {\n",
       "        div.innerHTML = 'Install QIIME 2 Jupyter extension with:<br />' +\n",
       "                        '<code>jupyter server extension enable --py qiime2' +\n",
       "                        ' --sys-prefix</code><br />then restart your server.' +\n",
       "                        '<br /><br />(Interactive output not available on ' +\n",
       "                        'static notebook viewer services like nbviewer.)';\n",
       "    } else if (res.status === 409) {\n",
       "        div.innerHTML = 'Visualization no longer in scope. Re-run this cell' +\n",
       "                        ' to see the visualization.';\n",
       "    } else if (res.ok) {\n",
       "        url = res.url;\n",
       "        div.innerHTML = '<iframe src=\\'' + url + '\\' style=\\'' +\n",
       "                        'width: 100%; height: 700px; border: 0;\\'>' +\n",
       "                        '</iframe><hr />Open in a: <a href=\\'' + url + '\\'' +\n",
       "                        ' target=\\'_blank\\'>new window</a>'\n",
       "    } else {\n",
       "        div.innerHTML = 'Something has gone wrong. Check notebook server for' +\n",
       "                        ' errors.';\n",
       "    }\n",
       "});\n",
       "})(this.parentElement, '/qiime2/redirect?location=/scratch/lfloerl/tmpdata/qiime2/lfloerl/data/52e25113-dfe4-40aa-a0a2-3b63aff9846d')\" src=\"data:image/gif;base64,R0lGODlhAQABAIAAAP///wAAACH5BAEAAAAALAAAAAABAAEAAAICRAEAOw==\" /></div>"
      ],
      "text/plain": [
       "<visualization: Visualization uuid: 52e25113-dfe4-40aa-a0a2-3b63aff9846d>"
      ]
     },
     "execution_count": 11,
     "metadata": {},
     "output_type": "execute_result"
    }
   ],
   "source": [
    "Visualization.load('management-on-berry/kmer_cm5000/adonis_jaccard.qzv')"
   ]
  },
  {
   "cell_type": "code",
   "execution_count": null,
   "id": "6e516ddd",
   "metadata": {},
   "outputs": [],
   "source": []
  },
  {
   "cell_type": "code",
   "execution_count": null,
   "id": "965c0e05",
   "metadata": {},
   "outputs": [],
   "source": []
  }
 ],
 "metadata": {
  "kernelspec": {
   "display_name": "Python 3 (ipykernel)",
   "language": "python",
   "name": "python3"
  },
  "language_info": {
   "codemirror_mode": {
    "name": "ipython",
    "version": 3
   },
   "file_extension": ".py",
   "mimetype": "text/x-python",
   "name": "python",
   "nbconvert_exporter": "python",
   "pygments_lexer": "ipython3",
   "version": "3.10.14"
  }
 },
 "nbformat": 4,
 "nbformat_minor": 5
}
