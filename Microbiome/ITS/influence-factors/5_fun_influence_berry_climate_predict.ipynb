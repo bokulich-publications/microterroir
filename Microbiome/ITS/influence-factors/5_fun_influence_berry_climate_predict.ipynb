{
 "cells": [
  {
   "cell_type": "markdown",
   "metadata": {},
   "source": [
    "# Predict climate from berry fungal communities\n",
    "\n",
    "> using `ritme` (https://github.com/adamovanja/ritme)\n",
    "\n",
    "note. use the **ritme_model** environment! \n"
   ]
  },
  {
   "cell_type": "code",
   "execution_count": 62,
   "metadata": {},
   "outputs": [
    {
     "name": "stdout",
     "output_type": "stream",
     "text": [
      "The autoreload extension is already loaded. To reload it, use:\n",
      "  %reload_ext autoreload\n"
     ]
    }
   ],
   "source": [
    "from ritme.find_best_model_config import (\n",
    "    _load_experiment_config,\n",
    "    _load_phylogeny,\n",
    "    _load_taxonomy,\n",
    "    find_best_model_config,\n",
    ")\n",
    "from ritme.split_train_test import _load_data, split_train_test\n",
    "from ritme.evaluate_tuned_models import evaluate_tuned_models\n",
    "\n",
    "import pandas as pd\n",
    "import seaborn as sns\n",
    "import matplotlib.pyplot as plt\n",
    "import matplotlib.patches as mpatches\n",
    "import mlflow\n",
    "import numpy as np\n",
    "\n",
    "%load_ext autoreload\n",
    "%autoreload 2\n",
    "\n",
    "%matplotlib inline"
   ]
  },
  {
   "cell_type": "code",
   "execution_count": 20,
   "metadata": {},
   "outputs": [
    {
     "name": "stdout",
     "output_type": "stream",
     "text": [
      "/home/lfloerl/cloud/lfloerl/Microterroir/artifacts/ITS/lavaux/climate-berries\n"
     ]
    }
   ],
   "source": [
    "workdir = '/home/lfloerl/cloud/lfloerl/Microterroir/artifacts/ITS/lavaux/climate-berries'\n",
    "%cd $workdir"
   ]
  },
  {
   "cell_type": "code",
   "execution_count": 3,
   "metadata": {},
   "outputs": [],
   "source": [
    "# set experiment configuration path - this is downloaded from the github repo\n",
    "# here we specify the column to be stratified by and the target! \n",
    "model_config_path = \"/home/lfloerl/microterroir/Microbiome/Other_scripts/config/r_local_linreg_py.json\"\n",
    "\n",
    "# define path to feature table, metadata, and taxonomy (no phylogeny)\n",
    "path_to_ft = \"climate_filtered_table.qza\"\n",
    "path_to_md = \"/home/lfloerl/microterroir/Microbiome/Metadata/ITS_Lavaux_Climate.tsv\"\n",
    "path_to_tax = \"/home/lfloerl/cloud/lfloerl/Microterroir/artifacts/ITS/taxonomy.qza\"\n",
    "\n",
    "# define train size\n",
    "train_size = 0.8"
   ]
  },
  {
   "cell_type": "code",
   "execution_count": 4,
   "metadata": {},
   "outputs": [],
   "source": [
    "config = _load_experiment_config(model_config_path)"
   ]
  },
  {
   "cell_type": "markdown",
   "metadata": {},
   "source": [
    "## Read & split data\n"
   ]
  },
  {
   "cell_type": "code",
   "execution_count": 5,
   "metadata": {},
   "outputs": [
    {
     "name": "stdout",
     "output_type": "stream",
     "text": [
      "(595, 36) (326, 6091)\n"
     ]
    }
   ],
   "source": [
    "md, ft = _load_data(path_to_md, path_to_ft)\n",
    "print(md.shape, ft.shape)"
   ]
  },
  {
   "cell_type": "code",
   "execution_count": 6,
   "metadata": {},
   "outputs": [
    {
     "name": "stdout",
     "output_type": "stream",
     "text": [
      "Train: (96, 6127), Test: (230, 6127)\n"
     ]
    },
    {
     "name": "stderr",
     "output_type": "stream",
     "text": [
      "/scratch/lfloerl/.condaenvs/ritme_model/lib/python3.10/site-packages/ritme/split_train_test.py:135: UserWarning: Provided feature table contains absolute instead of relative abundances. Hence, converting it to relative abundances...\n",
      "  warnings.warn(\n"
     ]
    }
   ],
   "source": [
    "train_val, test = split_train_test(\n",
    "    md,\n",
    "    ft,\n",
    "    stratify_by_column=config[\"stratify_by_column\"],\n",
    "    feature_prefix=config[\"feature_prefix\"],\n",
    "    train_size=train_size,\n",
    "    seed=config[\"seed_data\"],\n",
    ")"
   ]
  },
  {
   "cell_type": "markdown",
   "metadata": {},
   "source": [
    "## Find best model config\n",
    "\n",
    "View the results with navigating to the folder in the terminal (e.g. `cd /home/lfloerl/cloud/lfloerl/Microterroir/artifacts/ITS/lavaux/climate-berries/ritme_all_models`) and launching  mlflow (`mlflow ui --port 8080`) and opening _http://localhost:8080_ "
   ]
  },
  {
   "cell_type": "code",
   "execution_count": 7,
   "metadata": {},
   "outputs": [
    {
     "data": {
      "text/html": [
       "<div class=\"tuneStatus\">\n",
       "  <div style=\"display: flex;flex-direction: row\">\n",
       "    <div style=\"display: flex;flex-direction: column;\">\n",
       "      <h3>Tune Status</h3>\n",
       "      <table>\n",
       "<tbody>\n",
       "<tr><td>Current time:</td><td>2025-02-17 13:14:13</td></tr>\n",
       "<tr><td>Running for: </td><td>00:21:43.15        </td></tr>\n",
       "<tr><td>Memory:      </td><td>6.9/91.6 GiB       </td></tr>\n",
       "</tbody>\n",
       "</table>\n",
       "    </div>\n",
       "    <div class=\"vDivider\"></div>\n",
       "    <div class=\"systemInfo\">\n",
       "      <h3>System Info</h3>\n",
       "      Using AsyncHyperBand: num_stopped=0<br>Bracket: Iter 40.000: None | Iter 10.000: None<br>Logical resource usage: 1.0/12 CPUs, 0/0 GPUs\n",
       "    </div>\n",
       "    \n",
       "  </div>\n",
       "  <div class=\"hDivider\"></div>\n",
       "  <div class=\"trialStatus\">\n",
       "    <h3>Trial Status</h3>\n",
       "    <table>\n",
       "<thead>\n",
       "<tr><th>Trial name       </th><th>status    </th><th>loc                 </th><th>bootstrap  </th><th>data_aggregation  </th><th>data_selection    </th><th style=\"text-align: right;\">  data_selection_i</th><th style=\"text-align: right;\">  data_selection_t</th><th>data_transform  </th><th style=\"text-align: right;\">  max_depth</th><th>max_features  </th><th style=\"text-align: right;\">            min_impurity_decreas\n",
       "e</th><th style=\"text-align: right;\">  min_samples_leaf</th><th style=\"text-align: right;\">  min_samples_split</th><th style=\"text-align: right;\">            min_weight_fraction_\n",
       "leaf</th><th>model  </th><th style=\"text-align: right;\">  n_estimators</th><th style=\"text-align: right;\">  iter</th><th style=\"text-align: right;\">  total time (s)</th><th style=\"text-align: right;\">  rmse_val</th><th style=\"text-align: right;\">  rmse_train</th><th style=\"text-align: right;\">   r2_val</th></tr>\n",
       "</thead>\n",
       "<tbody>\n",
       "<tr><td>train_rf_4bc018fb</td><td>TERMINATED</td><td>172.31.181.85:227587</td><td>True       </td><td>                  </td><td>variance_threshold</td><td style=\"text-align: right;\">                  </td><td style=\"text-align: right;\">       6.16517e-05</td><td>                </td><td style=\"text-align: right;\">           </td><td>              </td><td style=\"text-align: right;\">0.0803584  </td><td style=\"text-align: right;\">        0.0162992 </td><td style=\"text-align: right;\">         0.00188113</td><td style=\"text-align: right;\">0.00283828 </td><td>rf     </td><td style=\"text-align: right;\">           120</td><td style=\"text-align: right;\">     1</td><td style=\"text-align: right;\">        0.317777</td><td style=\"text-align: right;\">  0.650443</td><td style=\"text-align: right;\">    0.374595</td><td style=\"text-align: right;\">-4.05066 </td></tr>\n",
       "<tr><td>train_rf_bcb86748</td><td>TERMINATED</td><td>172.31.181.85:227645</td><td>False      </td><td>                  </td><td>abundance_ith     </td><td style=\"text-align: right;\">                 7</td><td style=\"text-align: right;\">                  </td><td>                </td><td style=\"text-align: right;\">          8</td><td>sqrt          </td><td style=\"text-align: right;\">0.497569   </td><td style=\"text-align: right;\">        0.0903891 </td><td style=\"text-align: right;\">         0.00452001</td><td style=\"text-align: right;\">0.00334648 </td><td>rf     </td><td style=\"text-align: right;\">           160</td><td style=\"text-align: right;\">     1</td><td style=\"text-align: right;\">        0.479533</td><td style=\"text-align: right;\">  0.455818</td><td style=\"text-align: right;\">    0.328819</td><td style=\"text-align: right;\">-1.48034 </td></tr>\n",
       "<tr><td>train_rf_42c4f9e6</td><td>TERMINATED</td><td>172.31.181.85:227705</td><td>True       </td><td>                  </td><td>variance_threshold</td><td style=\"text-align: right;\">                  </td><td style=\"text-align: right;\">       0.000245158</td><td>                </td><td style=\"text-align: right;\">         32</td><td>0.3           </td><td style=\"text-align: right;\">0.138559   </td><td style=\"text-align: right;\">        0.00276506</td><td style=\"text-align: right;\">         0.00113714</td><td style=\"text-align: right;\">0.0030017  </td><td>rf     </td><td style=\"text-align: right;\">           100</td><td style=\"text-align: right;\">     1</td><td style=\"text-align: right;\">        0.288702</td><td style=\"text-align: right;\">  0.696086</td><td style=\"text-align: right;\">    0.371372</td><td style=\"text-align: right;\">-4.78436 </td></tr>\n",
       "<tr><td>train_rf_ca26fe9d</td><td>TERMINATED</td><td>172.31.181.85:227760</td><td>True       </td><td>                  </td><td>abundance_ith     </td><td style=\"text-align: right;\">                18</td><td style=\"text-align: right;\">                  </td><td>                </td><td style=\"text-align: right;\">         32</td><td>0.2           </td><td style=\"text-align: right;\">0.462165   </td><td style=\"text-align: right;\">        0.015499  </td><td style=\"text-align: right;\">         0.0774752 </td><td style=\"text-align: right;\">0.0007347  </td><td>rf     </td><td style=\"text-align: right;\">           140</td><td style=\"text-align: right;\">     1</td><td style=\"text-align: right;\">        0.508272</td><td style=\"text-align: right;\">  0.44329 </td><td style=\"text-align: right;\">    0.329327</td><td style=\"text-align: right;\">-1.34588 </td></tr>\n",
       "<tr><td>train_rf_af773cc2</td><td>TERMINATED</td><td>172.31.181.85:227816</td><td>False      </td><td>                  </td><td>abundance_ith     </td><td style=\"text-align: right;\">                20</td><td style=\"text-align: right;\">                  </td><td>                </td><td style=\"text-align: right;\">          4</td><td>0.5           </td><td style=\"text-align: right;\">0.455717   </td><td style=\"text-align: right;\">        0.0193131 </td><td style=\"text-align: right;\">         0.0691401 </td><td style=\"text-align: right;\">5.90936e-05</td><td>rf     </td><td style=\"text-align: right;\">           100</td><td style=\"text-align: right;\">     1</td><td style=\"text-align: right;\">        0.354875</td><td style=\"text-align: right;\">  0.422108</td><td style=\"text-align: right;\">    0.353861</td><td style=\"text-align: right;\">-1.12704 </td></tr>\n",
       "<tr><td>train_rf_c910822a</td><td>TERMINATED</td><td>172.31.181.85:228021</td><td>True       </td><td>                  </td><td>variance_threshold</td><td style=\"text-align: right;\">                  </td><td style=\"text-align: right;\">       0.00452411 </td><td>                </td><td style=\"text-align: right;\">           </td><td>0.1           </td><td style=\"text-align: right;\">0.313265   </td><td style=\"text-align: right;\">        0.00638526</td><td style=\"text-align: right;\">         0.00186582</td><td style=\"text-align: right;\">0.00191711 </td><td>rf     </td><td style=\"text-align: right;\">            60</td><td style=\"text-align: right;\">     1</td><td style=\"text-align: right;\">        0.240298</td><td style=\"text-align: right;\">  0.530632</td><td style=\"text-align: right;\">    0.376276</td><td style=\"text-align: right;\">-2.36137 </td></tr>\n",
       "<tr><td>train_rf_ff8a8d64</td><td>TERMINATED</td><td>172.31.181.85:228284</td><td>False      </td><td>                  </td><td>abundance_ith     </td><td style=\"text-align: right;\">                 4</td><td style=\"text-align: right;\">                  </td><td>                </td><td style=\"text-align: right;\">           </td><td>0.3           </td><td style=\"text-align: right;\">0.329672   </td><td style=\"text-align: right;\">        0.00218674</td><td style=\"text-align: right;\">         0.0558683 </td><td style=\"text-align: right;\">0.00912784 </td><td>rf     </td><td style=\"text-align: right;\">            40</td><td style=\"text-align: right;\">     1</td><td style=\"text-align: right;\">        0.241454</td><td style=\"text-align: right;\">  0.441208</td><td style=\"text-align: right;\">    0.317299</td><td style=\"text-align: right;\">-1.3239  </td></tr>\n",
       "<tr><td>train_rf_56825ce5</td><td>TERMINATED</td><td>172.31.181.85:228364</td><td>True       </td><td>                  </td><td>abundance_ith     </td><td style=\"text-align: right;\">                 8</td><td style=\"text-align: right;\">                  </td><td>                </td><td style=\"text-align: right;\">         32</td><td>              </td><td style=\"text-align: right;\">0.160984   </td><td style=\"text-align: right;\">        0.0793897 </td><td style=\"text-align: right;\">         0.0140885 </td><td style=\"text-align: right;\">0.00777679 </td><td>rf     </td><td style=\"text-align: right;\">           200</td><td style=\"text-align: right;\">     1</td><td style=\"text-align: right;\">        0.576209</td><td style=\"text-align: right;\">  0.457744</td><td style=\"text-align: right;\">    0.331171</td><td style=\"text-align: right;\">-1.50135 </td></tr>\n",
       "<tr><td>train_rf_6802d310</td><td>TERMINATED</td><td>172.31.181.85:228428</td><td>False      </td><td>                  </td><td>abundance_ith     </td><td style=\"text-align: right;\">                 4</td><td style=\"text-align: right;\">                  </td><td>                </td><td style=\"text-align: right;\">          4</td><td>0.3           </td><td style=\"text-align: right;\">0.212243   </td><td style=\"text-align: right;\">        0.0946628 </td><td style=\"text-align: right;\">         0.0646832 </td><td style=\"text-align: right;\">0.00587886 </td><td>rf     </td><td style=\"text-align: right;\">           200</td><td style=\"text-align: right;\">     1</td><td style=\"text-align: right;\">        0.438182</td><td style=\"text-align: right;\">  0.424251</td><td style=\"text-align: right;\">    0.368887</td><td style=\"text-align: right;\">-1.1487  </td></tr>\n",
       "<tr><td>train_rf_79fed6ca</td><td>TERMINATED</td><td>172.31.181.85:228487</td><td>False      </td><td>                  </td><td>abundance_ith     </td><td style=\"text-align: right;\">                16</td><td style=\"text-align: right;\">                  </td><td>                </td><td style=\"text-align: right;\">         16</td><td>0.3           </td><td style=\"text-align: right;\">0.132565   </td><td style=\"text-align: right;\">        0.00372723</td><td style=\"text-align: right;\">         0.0110613 </td><td style=\"text-align: right;\">0.00507432 </td><td>rf     </td><td style=\"text-align: right;\">           200</td><td style=\"text-align: right;\">     1</td><td style=\"text-align: right;\">        0.635029</td><td style=\"text-align: right;\">  0.460251</td><td style=\"text-align: right;\">    0.331455</td><td style=\"text-align: right;\">-1.52883 </td></tr>\n",
       "<tr><td>train_rf_7d7a9fb1</td><td>TERMINATED</td><td>172.31.181.85:228545</td><td>True       </td><td>                  </td><td>variance_threshold</td><td style=\"text-align: right;\">                  </td><td style=\"text-align: right;\">       0.0011438  </td><td>                </td><td style=\"text-align: right;\">          8</td><td>log2          </td><td style=\"text-align: right;\">0.370113   </td><td style=\"text-align: right;\">        0.00382866</td><td style=\"text-align: right;\">         0.00180462</td><td style=\"text-align: right;\">0.00547653 </td><td>rf     </td><td style=\"text-align: right;\">            80</td><td style=\"text-align: right;\">     1</td><td style=\"text-align: right;\">        0.268663</td><td style=\"text-align: right;\">  0.629197</td><td style=\"text-align: right;\">    0.392904</td><td style=\"text-align: right;\">-3.72609 </td></tr>\n",
       "<tr><td>train_rf_7e5eef23</td><td>TERMINATED</td><td>172.31.181.85:228604</td><td>False      </td><td>                  </td><td>variance_threshold</td><td style=\"text-align: right;\">                  </td><td style=\"text-align: right;\">       1.02499e-05</td><td>                </td><td style=\"text-align: right;\">          4</td><td>0.5           </td><td style=\"text-align: right;\">0.402619   </td><td style=\"text-align: right;\">        0.0417669 </td><td style=\"text-align: right;\">         0.0254001 </td><td style=\"text-align: right;\">0.000226836</td><td>rf     </td><td style=\"text-align: right;\">            80</td><td style=\"text-align: right;\">     1</td><td style=\"text-align: right;\">        0.273317</td><td style=\"text-align: right;\">  0.463173</td><td style=\"text-align: right;\">    0.457971</td><td style=\"text-align: right;\">-1.56104 </td></tr>\n",
       "<tr><td>train_rf_04cf4a9a</td><td>TERMINATED</td><td>172.31.181.85:228666</td><td>False      </td><td>                  </td><td>abundance_ith     </td><td style=\"text-align: right;\">                 1</td><td style=\"text-align: right;\">                  </td><td>                </td><td style=\"text-align: right;\">          4</td><td>0.5           </td><td style=\"text-align: right;\">0.254275   </td><td style=\"text-align: right;\">        0.0380708 </td><td style=\"text-align: right;\">         0.030721  </td><td style=\"text-align: right;\">0.00712641 </td><td>rf     </td><td style=\"text-align: right;\">           160</td><td style=\"text-align: right;\">     1</td><td style=\"text-align: right;\">        0.322243</td><td style=\"text-align: right;\">  0.614964</td><td style=\"text-align: right;\">    0.532508</td><td style=\"text-align: right;\">-3.51471 </td></tr>\n",
       "<tr><td>train_rf_4a262378</td><td>TERMINATED</td><td>172.31.181.85:228726</td><td>False      </td><td>                  </td><td>abundance_ith     </td><td style=\"text-align: right;\">                 1</td><td style=\"text-align: right;\">                  </td><td>                </td><td style=\"text-align: right;\">          4</td><td>0.5           </td><td style=\"text-align: right;\">0.261404   </td><td style=\"text-align: right;\">        0.00103606</td><td style=\"text-align: right;\">         0.036193  </td><td style=\"text-align: right;\">0.00683866 </td><td>rf     </td><td style=\"text-align: right;\">           160</td><td style=\"text-align: right;\">     1</td><td style=\"text-align: right;\">        0.321717</td><td style=\"text-align: right;\">  0.614964</td><td style=\"text-align: right;\">    0.532508</td><td style=\"text-align: right;\">-3.51471 </td></tr>\n",
       "<tr><td>train_rf_925078e3</td><td>TERMINATED</td><td>172.31.181.85:228786</td><td>False      </td><td>                  </td><td>abundance_ith     </td><td style=\"text-align: right;\">                13</td><td style=\"text-align: right;\">                  </td><td>                </td><td style=\"text-align: right;\">          4</td><td>0.5           </td><td style=\"text-align: right;\">0.00412867 </td><td style=\"text-align: right;\">        0.00124252</td><td style=\"text-align: right;\">         0.0958495 </td><td style=\"text-align: right;\">0.00604652 </td><td>rf     </td><td style=\"text-align: right;\">           120</td><td style=\"text-align: right;\">     1</td><td style=\"text-align: right;\">        0.375786</td><td style=\"text-align: right;\">  0.426098</td><td style=\"text-align: right;\">    0.360464</td><td style=\"text-align: right;\">-1.16744 </td></tr>\n",
       "<tr><td>train_rf_be51b0a0</td><td>TERMINATED</td><td>172.31.181.85:228844</td><td>False      </td><td>                  </td><td>abundance_ith     </td><td style=\"text-align: right;\">                13</td><td style=\"text-align: right;\">                  </td><td>                </td><td style=\"text-align: right;\">          4</td><td>0.2           </td><td style=\"text-align: right;\">0.200728   </td><td style=\"text-align: right;\">        0.0344005 </td><td style=\"text-align: right;\">         0.0906516 </td><td style=\"text-align: right;\">0.00400269 </td><td>rf     </td><td style=\"text-align: right;\">           120</td><td style=\"text-align: right;\">     1</td><td style=\"text-align: right;\">        0.383543</td><td style=\"text-align: right;\">  0.426098</td><td style=\"text-align: right;\">    0.360464</td><td style=\"text-align: right;\">-1.16744 </td></tr>\n",
       "<tr><td>train_rf_39e6a9c7</td><td>TERMINATED</td><td>172.31.181.85:228929</td><td>False      </td><td>                  </td><td>abundance_ith     </td><td style=\"text-align: right;\">                12</td><td style=\"text-align: right;\">                  </td><td>                </td><td style=\"text-align: right;\">          4</td><td>0.2           </td><td style=\"text-align: right;\">0.193917   </td><td style=\"text-align: right;\">        0.0386823 </td><td style=\"text-align: right;\">         0.00557305</td><td style=\"text-align: right;\">0.00967519 </td><td>rf     </td><td style=\"text-align: right;\">           180</td><td style=\"text-align: right;\">     1</td><td style=\"text-align: right;\">        0.465143</td><td style=\"text-align: right;\">  0.417093</td><td style=\"text-align: right;\">    0.358542</td><td style=\"text-align: right;\">-1.07681 </td></tr>\n",
       "<tr><td>train_rf_e559b97e</td><td>TERMINATED</td><td>172.31.181.85:228987</td><td>False      </td><td>                  </td><td>abundance_ith     </td><td style=\"text-align: right;\">                19</td><td style=\"text-align: right;\">                  </td><td>                </td><td style=\"text-align: right;\">         16</td><td>0.1           </td><td style=\"text-align: right;\">0.413661   </td><td style=\"text-align: right;\">        0.0189069 </td><td style=\"text-align: right;\">         0.0175189 </td><td style=\"text-align: right;\">0.00964795 </td><td>rf     </td><td style=\"text-align: right;\">           180</td><td style=\"text-align: right;\">     1</td><td style=\"text-align: right;\">        0.604723</td><td style=\"text-align: right;\">  0.452716</td><td style=\"text-align: right;\">    0.332108</td><td style=\"text-align: right;\">-1.4467  </td></tr>\n",
       "<tr><td>train_rf_56199494</td><td>TERMINATED</td><td>172.31.181.85:229050</td><td>False      </td><td>                  </td><td>abundance_ith     </td><td style=\"text-align: right;\">                20</td><td style=\"text-align: right;\">                  </td><td>                </td><td style=\"text-align: right;\">         16</td><td>0.2           </td><td style=\"text-align: right;\">0.420654   </td><td style=\"text-align: right;\">        0.0174211 </td><td style=\"text-align: right;\">         0.00485206</td><td style=\"text-align: right;\">0.00989424 </td><td>rf     </td><td style=\"text-align: right;\">           180</td><td style=\"text-align: right;\">     1</td><td style=\"text-align: right;\">        0.605808</td><td style=\"text-align: right;\">  0.463739</td><td style=\"text-align: right;\">    0.331232</td><td style=\"text-align: right;\">-1.5673  </td></tr>\n",
       "<tr><td>train_rf_736210bc</td><td>TERMINATED</td><td>172.31.181.85:229104</td><td>False      </td><td>                  </td><td>abundance_ith     </td><td style=\"text-align: right;\">                15</td><td style=\"text-align: right;\">                  </td><td>                </td><td style=\"text-align: right;\">          4</td><td>0.2           </td><td style=\"text-align: right;\">0.303716   </td><td style=\"text-align: right;\">        0.0089294 </td><td style=\"text-align: right;\">         0.00517611</td><td style=\"text-align: right;\">0.00162046 </td><td>rf     </td><td style=\"text-align: right;\">           100</td><td style=\"text-align: right;\">     1</td><td style=\"text-align: right;\">        0.350914</td><td style=\"text-align: right;\">  0.414018</td><td style=\"text-align: right;\">    0.362009</td><td style=\"text-align: right;\">-1.04629 </td></tr>\n",
       "<tr><td>train_rf_11a8be8d</td><td>TERMINATED</td><td>172.31.181.85:229159</td><td>False      </td><td>                  </td><td>abundance_ith     </td><td style=\"text-align: right;\">                15</td><td style=\"text-align: right;\">                  </td><td>                </td><td style=\"text-align: right;\">          4</td><td>sqrt          </td><td style=\"text-align: right;\">0.0726015  </td><td style=\"text-align: right;\">        0.0100474 </td><td style=\"text-align: right;\">         0.006295  </td><td style=\"text-align: right;\">0.00834267 </td><td>rf     </td><td style=\"text-align: right;\">           100</td><td style=\"text-align: right;\">     1</td><td style=\"text-align: right;\">        0.346315</td><td style=\"text-align: right;\">  0.414018</td><td style=\"text-align: right;\">    0.362009</td><td style=\"text-align: right;\">-1.04629 </td></tr>\n",
       "<tr><td>train_rf_eaa71686</td><td>TERMINATED</td><td>172.31.181.85:229255</td><td>False      </td><td>                  </td><td>abundance_ith     </td><td style=\"text-align: right;\">                13</td><td style=\"text-align: right;\">                  </td><td>                </td><td style=\"text-align: right;\">          4</td><td>0.2           </td><td style=\"text-align: right;\">0.307348   </td><td style=\"text-align: right;\">        0.00675851</td><td style=\"text-align: right;\">         0.00594747</td><td style=\"text-align: right;\">0.00164003 </td><td>rf     </td><td style=\"text-align: right;\">           140</td><td style=\"text-align: right;\">     1</td><td style=\"text-align: right;\">        0.40291 </td><td style=\"text-align: right;\">  0.42852 </td><td style=\"text-align: right;\">    0.364594</td><td style=\"text-align: right;\">-1.19215 </td></tr>\n",
       "<tr><td>train_rf_9b21da55</td><td>TERMINATED</td><td>172.31.181.85:229314</td><td>False      </td><td>                  </td><td>abundance_ith     </td><td style=\"text-align: right;\">                13</td><td style=\"text-align: right;\">                  </td><td>                </td><td style=\"text-align: right;\">          4</td><td>sqrt          </td><td style=\"text-align: right;\">0.064565   </td><td style=\"text-align: right;\">        0.00838705</td><td style=\"text-align: right;\">         0.00613427</td><td style=\"text-align: right;\">0.0082726  </td><td>rf     </td><td style=\"text-align: right;\">            80</td><td style=\"text-align: right;\">     1</td><td style=\"text-align: right;\">        0.305296</td><td style=\"text-align: right;\">  0.423756</td><td style=\"text-align: right;\">    0.357206</td><td style=\"text-align: right;\">-1.14368 </td></tr>\n",
       "<tr><td>train_rf_c4509688</td><td>TERMINATED</td><td>172.31.181.85:229377</td><td>False      </td><td>                  </td><td>abundance_ith     </td><td style=\"text-align: right;\">                15</td><td style=\"text-align: right;\">                  </td><td>                </td><td style=\"text-align: right;\">          4</td><td>sqrt          </td><td style=\"text-align: right;\">0.0661293  </td><td style=\"text-align: right;\">        0.00869837</td><td style=\"text-align: right;\">         0.00649978</td><td style=\"text-align: right;\">0.00845352 </td><td>rf     </td><td style=\"text-align: right;\">           100</td><td style=\"text-align: right;\">     1</td><td style=\"text-align: right;\">        0.347859</td><td style=\"text-align: right;\">  0.414018</td><td style=\"text-align: right;\">    0.362009</td><td style=\"text-align: right;\">-1.04629 </td></tr>\n",
       "<tr><td>train_rf_5b97cee7</td><td>TERMINATED</td><td>172.31.181.85:229435</td><td>False      </td><td>                  </td><td>abundance_ith     </td><td style=\"text-align: right;\">                16</td><td style=\"text-align: right;\">                  </td><td>                </td><td style=\"text-align: right;\">          4</td><td>sqrt          </td><td style=\"text-align: right;\">0.0596479  </td><td style=\"text-align: right;\">        0.010709  </td><td style=\"text-align: right;\">         0.00339437</td><td style=\"text-align: right;\">0.00867227 </td><td>rf     </td><td style=\"text-align: right;\">           100</td><td style=\"text-align: right;\">     1</td><td style=\"text-align: right;\">        0.344357</td><td style=\"text-align: right;\">  0.416393</td><td style=\"text-align: right;\">    0.365231</td><td style=\"text-align: right;\">-1.06983 </td></tr>\n",
       "<tr><td>train_rf_f79642b0</td><td>TERMINATED</td><td>172.31.181.85:229492</td><td>False      </td><td>                  </td><td>abundance_ith     </td><td style=\"text-align: right;\">                16</td><td style=\"text-align: right;\">                  </td><td>                </td><td style=\"text-align: right;\">          4</td><td>sqrt          </td><td style=\"text-align: right;\">0.00896131 </td><td style=\"text-align: right;\">        0.0115366 </td><td style=\"text-align: right;\">         0.00326236</td><td style=\"text-align: right;\">0.00853672 </td><td>rf     </td><td style=\"text-align: right;\">           100</td><td style=\"text-align: right;\">     1</td><td style=\"text-align: right;\">        0.347451</td><td style=\"text-align: right;\">  0.416393</td><td style=\"text-align: right;\">    0.365231</td><td style=\"text-align: right;\">-1.06983 </td></tr>\n",
       "<tr><td>train_rf_f08be09e</td><td>TERMINATED</td><td>172.31.181.85:229576</td><td>False      </td><td>                  </td><td>abundance_ith     </td><td style=\"text-align: right;\">                16</td><td style=\"text-align: right;\">                  </td><td>                </td><td style=\"text-align: right;\">          8</td><td>sqrt          </td><td style=\"text-align: right;\">0.0184309  </td><td style=\"text-align: right;\">        0.0109918 </td><td style=\"text-align: right;\">         0.00990809</td><td style=\"text-align: right;\">0.00435576 </td><td>rf     </td><td style=\"text-align: right;\">            60</td><td style=\"text-align: right;\">     1</td><td style=\"text-align: right;\">        0.317195</td><td style=\"text-align: right;\">  0.433263</td><td style=\"text-align: right;\">    0.321224</td><td style=\"text-align: right;\">-1.24095 </td></tr>\n",
       "<tr><td>train_rf_26567c15</td><td>TERMINATED</td><td>172.31.181.85:229631</td><td>False      </td><td>                  </td><td>abundance_ith     </td><td style=\"text-align: right;\">                10</td><td style=\"text-align: right;\">                  </td><td>                </td><td style=\"text-align: right;\">          8</td><td>sqrt          </td><td style=\"text-align: right;\">0.0881285  </td><td style=\"text-align: right;\">        0.0051834 </td><td style=\"text-align: right;\">         0.00844954</td><td style=\"text-align: right;\">0.00426447 </td><td>rf     </td><td style=\"text-align: right;\">            60</td><td style=\"text-align: right;\">     1</td><td style=\"text-align: right;\">        0.298364</td><td style=\"text-align: right;\">  0.406694</td><td style=\"text-align: right;\">    0.320633</td><td style=\"text-align: right;\">-0.974534</td></tr>\n",
       "<tr><td>train_rf_a9ef4cb5</td><td>TERMINATED</td><td>172.31.181.85:229693</td><td>False      </td><td>                  </td><td>variance_threshold</td><td style=\"text-align: right;\">                  </td><td style=\"text-align: right;\">       0.00813211 </td><td>                </td><td style=\"text-align: right;\">          4</td><td>log2          </td><td style=\"text-align: right;\">0.100734   </td><td style=\"text-align: right;\">        0.00559168</td><td style=\"text-align: right;\">         0.00924314</td><td style=\"text-align: right;\">0.00693464 </td><td>rf     </td><td style=\"text-align: right;\">            60</td><td style=\"text-align: right;\">     1</td><td style=\"text-align: right;\">        0.250778</td><td style=\"text-align: right;\">  0.576402</td><td style=\"text-align: right;\">    0.568589</td><td style=\"text-align: right;\">-2.96626 </td></tr>\n",
       "<tr><td>train_rf_0c80a456</td><td>TERMINATED</td><td>172.31.181.85:229753</td><td>False      </td><td>                  </td><td>variance_threshold</td><td style=\"text-align: right;\">                  </td><td style=\"text-align: right;\">       1.49374e-05</td><td>                </td><td style=\"text-align: right;\">          8</td><td>log2          </td><td style=\"text-align: right;\">0.102594   </td><td style=\"text-align: right;\">        0.00514492</td><td style=\"text-align: right;\">         0.00869895</td><td style=\"text-align: right;\">0.00413546 </td><td>rf     </td><td style=\"text-align: right;\">            40</td><td style=\"text-align: right;\">     1</td><td style=\"text-align: right;\">        0.228232</td><td style=\"text-align: right;\">  0.524436</td><td style=\"text-align: right;\">    0.370954</td><td style=\"text-align: right;\">-2.28332 </td></tr>\n",
       "<tr><td>train_rf_eb0bb60d</td><td>TERMINATED</td><td>172.31.181.85:229813</td><td>True       </td><td>                  </td><td>variance_threshold</td><td style=\"text-align: right;\">                  </td><td style=\"text-align: right;\">       1.148e-05  </td><td>                </td><td style=\"text-align: right;\">          8</td><td>sqrt          </td><td style=\"text-align: right;\">0.120495   </td><td style=\"text-align: right;\">        0.0046861 </td><td style=\"text-align: right;\">         0.00290112</td><td style=\"text-align: right;\">0.00182099 </td><td>rf     </td><td style=\"text-align: right;\">            40</td><td style=\"text-align: right;\">     1</td><td style=\"text-align: right;\">        0.248029</td><td style=\"text-align: right;\">  0.528054</td><td style=\"text-align: right;\">    0.371224</td><td style=\"text-align: right;\">-2.32879 </td></tr>\n",
       "<tr><td>train_rf_d80e4e14</td><td>TERMINATED</td><td>172.31.181.85:229871</td><td>True       </td><td>                  </td><td>abundance_ith     </td><td style=\"text-align: right;\">                10</td><td style=\"text-align: right;\">                  </td><td>                </td><td style=\"text-align: right;\">          8</td><td>              </td><td style=\"text-align: right;\">0.280823   </td><td style=\"text-align: right;\">        0.0247575 </td><td style=\"text-align: right;\">         0.00290643</td><td style=\"text-align: right;\">0.00204369 </td><td>rf     </td><td style=\"text-align: right;\">            80</td><td style=\"text-align: right;\">     1</td><td style=\"text-align: right;\">        0.338357</td><td style=\"text-align: right;\">  0.423987</td><td style=\"text-align: right;\">    0.332349</td><td style=\"text-align: right;\">-1.14603 </td></tr>\n",
       "<tr><td>train_rf_28dce2bd</td><td>TERMINATED</td><td>172.31.181.85:229930</td><td>False      </td><td>                  </td><td>abundance_ith     </td><td style=\"text-align: right;\">                 9</td><td style=\"text-align: right;\">                  </td><td>                </td><td style=\"text-align: right;\">           </td><td>sqrt          </td><td style=\"text-align: right;\">0.0450362  </td><td style=\"text-align: right;\">        0.00758667</td><td style=\"text-align: right;\">         0.0074294 </td><td style=\"text-align: right;\">0.00781784 </td><td>rf     </td><td style=\"text-align: right;\">            80</td><td style=\"text-align: right;\">     1</td><td style=\"text-align: right;\">        0.345056</td><td style=\"text-align: right;\">  0.438619</td><td style=\"text-align: right;\">    0.326623</td><td style=\"text-align: right;\">-1.2967  </td></tr>\n",
       "<tr><td>train_rf_7eb2d01b</td><td>TERMINATED</td><td>172.31.181.85:229993</td><td>False      </td><td>                  </td><td>abundance_ith     </td><td style=\"text-align: right;\">                10</td><td style=\"text-align: right;\">                  </td><td>                </td><td style=\"text-align: right;\">           </td><td>sqrt          </td><td style=\"text-align: right;\">0.0420338  </td><td style=\"text-align: right;\">        0.00794599</td><td style=\"text-align: right;\">         0.0069987 </td><td style=\"text-align: right;\">0.00739264 </td><td>rf     </td><td style=\"text-align: right;\">           120</td><td style=\"text-align: right;\">     1</td><td style=\"text-align: right;\">        0.428006</td><td style=\"text-align: right;\">  0.433572</td><td style=\"text-align: right;\">    0.341391</td><td style=\"text-align: right;\">-1.24415 </td></tr>\n",
       "<tr><td>train_rf_2b17b9aa</td><td>TERMINATED</td><td>172.31.181.85:230052</td><td>False      </td><td>                  </td><td>abundance_ith     </td><td style=\"text-align: right;\">                11</td><td style=\"text-align: right;\">                  </td><td>                </td><td style=\"text-align: right;\">          8</td><td>sqrt          </td><td style=\"text-align: right;\">0.158988   </td><td style=\"text-align: right;\">        0.00224532</td><td style=\"text-align: right;\">         0.0150538 </td><td style=\"text-align: right;\">0.00307115 </td><td>rf     </td><td style=\"text-align: right;\">           120</td><td style=\"text-align: right;\">     1</td><td style=\"text-align: right;\">        0.413737</td><td style=\"text-align: right;\">  0.430508</td><td style=\"text-align: right;\">    0.33317 </td><td style=\"text-align: right;\">-1.21254 </td></tr>\n",
       "<tr><td>train_rf_5e05a3d3</td><td>TERMINATED</td><td>172.31.181.85:230115</td><td>False      </td><td>                  </td><td>abundance_ith     </td><td style=\"text-align: right;\">                14</td><td style=\"text-align: right;\">                  </td><td>                </td><td style=\"text-align: right;\">         32</td><td>sqrt          </td><td style=\"text-align: right;\">0.164975   </td><td style=\"text-align: right;\">        0.00279707</td><td style=\"text-align: right;\">         0.00397292</td><td style=\"text-align: right;\">0.00264479 </td><td>rf     </td><td style=\"text-align: right;\">           100</td><td style=\"text-align: right;\">     1</td><td style=\"text-align: right;\">        0.400094</td><td style=\"text-align: right;\">  0.442021</td><td style=\"text-align: right;\">    0.32321 </td><td style=\"text-align: right;\">-1.33246 </td></tr>\n",
       "<tr><td>train_rf_3b4adbfa</td><td>TERMINATED</td><td>172.31.181.85:230205</td><td>False      </td><td>                  </td><td>abundance_ith     </td><td style=\"text-align: right;\">                15</td><td style=\"text-align: right;\">                  </td><td>                </td><td style=\"text-align: right;\">         32</td><td>sqrt          </td><td style=\"text-align: right;\">0.0749152  </td><td style=\"text-align: right;\">        0.0137399 </td><td style=\"text-align: right;\">         0.00378603</td><td style=\"text-align: right;\">0.00352539 </td><td>rf     </td><td style=\"text-align: right;\">           100</td><td style=\"text-align: right;\">     1</td><td style=\"text-align: right;\">        0.40946 </td><td style=\"text-align: right;\">  0.428008</td><td style=\"text-align: right;\">    0.326265</td><td style=\"text-align: right;\">-1.18692 </td></tr>\n",
       "<tr><td>train_rf_f701655a</td><td>TERMINATED</td><td>172.31.181.85:230264</td><td>False      </td><td>                  </td><td>abundance_ith     </td><td style=\"text-align: right;\">                18</td><td style=\"text-align: right;\">                  </td><td>                </td><td style=\"text-align: right;\">          4</td><td>sqrt          </td><td style=\"text-align: right;\">0.0834611  </td><td style=\"text-align: right;\">        0.0113144 </td><td style=\"text-align: right;\">         0.00239037</td><td style=\"text-align: right;\">0.00115057 </td><td>rf     </td><td style=\"text-align: right;\">           140</td><td style=\"text-align: right;\">     1</td><td style=\"text-align: right;\">        0.421315</td><td style=\"text-align: right;\">  0.424376</td><td style=\"text-align: right;\">    0.364325</td><td style=\"text-align: right;\">-1.14996 </td></tr>\n",
       "<tr><td>train_rf_f59eff7b</td><td>TERMINATED</td><td>172.31.181.85:230328</td><td>False      </td><td>                  </td><td>abundance_ith     </td><td style=\"text-align: right;\">                18</td><td style=\"text-align: right;\">                  </td><td>                </td><td style=\"text-align: right;\">          4</td><td>0.1           </td><td style=\"text-align: right;\">0.089639   </td><td style=\"text-align: right;\">        0.0255215 </td><td style=\"text-align: right;\">         0.00240632</td><td style=\"text-align: right;\">0.000934607</td><td>rf     </td><td style=\"text-align: right;\">           140</td><td style=\"text-align: right;\">     1</td><td style=\"text-align: right;\">        0.414012</td><td style=\"text-align: right;\">  0.424376</td><td style=\"text-align: right;\">    0.364325</td><td style=\"text-align: right;\">-1.14996 </td></tr>\n",
       "<tr><td>train_rf_75a2099e</td><td>TERMINATED</td><td>172.31.181.85:230387</td><td>True       </td><td>                  </td><td>abundance_ith     </td><td style=\"text-align: right;\">                 7</td><td style=\"text-align: right;\">                  </td><td>                </td><td style=\"text-align: right;\">          8</td><td>0.2           </td><td style=\"text-align: right;\">0.228508   </td><td style=\"text-align: right;\">        0.0262665 </td><td style=\"text-align: right;\">         0.00117265</td><td style=\"text-align: right;\">0.00622519 </td><td>rf     </td><td style=\"text-align: right;\">            60</td><td style=\"text-align: right;\">     1</td><td style=\"text-align: right;\">        0.324998</td><td style=\"text-align: right;\">  0.448474</td><td style=\"text-align: right;\">    0.312062</td><td style=\"text-align: right;\">-1.40106 </td></tr>\n",
       "<tr><td>train_rf_fbc432c3</td><td>TERMINATED</td><td>172.31.181.85:230450</td><td>True       </td><td>                  </td><td>abundance_ith     </td><td style=\"text-align: right;\">                 7</td><td style=\"text-align: right;\">                  </td><td>                </td><td style=\"text-align: right;\">          8</td><td>              </td><td style=\"text-align: right;\">0.368797   </td><td style=\"text-align: right;\">        0.00399669</td><td style=\"text-align: right;\">         0.0123556 </td><td style=\"text-align: right;\">0.00643248 </td><td>rf     </td><td style=\"text-align: right;\">            60</td><td style=\"text-align: right;\">     1</td><td style=\"text-align: right;\">        0.298723</td><td style=\"text-align: right;\">  0.448474</td><td style=\"text-align: right;\">    0.312062</td><td style=\"text-align: right;\">-1.40106 </td></tr>\n",
       "<tr><td>train_rf_a3cd6c96</td><td>TERMINATED</td><td>172.31.181.85:230509</td><td>True       </td><td>                  </td><td>variance_threshold</td><td style=\"text-align: right;\">                  </td><td style=\"text-align: right;\">       0.000318347</td><td>                </td><td style=\"text-align: right;\">         16</td><td>              </td><td style=\"text-align: right;\">0.348119   </td><td style=\"text-align: right;\">        0.00388425</td><td style=\"text-align: right;\">         0.0114737 </td><td style=\"text-align: right;\">0.00241757 </td><td>rf     </td><td style=\"text-align: right;\">           120</td><td style=\"text-align: right;\">     1</td><td style=\"text-align: right;\">        0.300367</td><td style=\"text-align: right;\">  0.676449</td><td style=\"text-align: right;\">    0.37854 </td><td style=\"text-align: right;\">-4.4626  </td></tr>\n",
       "<tr><td>train_rf_44a94794</td><td>TERMINATED</td><td>172.31.181.85:230568</td><td>False      </td><td>                  </td><td>abundance_ith     </td><td style=\"text-align: right;\">                15</td><td style=\"text-align: right;\">                  </td><td>                </td><td style=\"text-align: right;\">          4</td><td>sqrt          </td><td style=\"text-align: right;\">0.0373306  </td><td style=\"text-align: right;\">        0.0087201 </td><td style=\"text-align: right;\">         0.00467519</td><td style=\"text-align: right;\">0.00867539 </td><td>rf     </td><td style=\"text-align: right;\">           100</td><td style=\"text-align: right;\">     1</td><td style=\"text-align: right;\">        0.345055</td><td style=\"text-align: right;\">  0.414018</td><td style=\"text-align: right;\">    0.362009</td><td style=\"text-align: right;\">-1.04629 </td></tr>\n",
       "<tr><td>train_rf_b3020dbf</td><td>TERMINATED</td><td>172.31.181.85:230626</td><td>False      </td><td>                  </td><td>abundance_ith     </td><td style=\"text-align: right;\">                15</td><td style=\"text-align: right;\">                  </td><td>                </td><td style=\"text-align: right;\">          4</td><td>sqrt          </td><td style=\"text-align: right;\">0.0644398  </td><td style=\"text-align: right;\">        0.00879171</td><td style=\"text-align: right;\">         0.0047214 </td><td style=\"text-align: right;\">0.00908845 </td><td>rf     </td><td style=\"text-align: right;\">           100</td><td style=\"text-align: right;\">     1</td><td style=\"text-align: right;\">        0.34832 </td><td style=\"text-align: right;\">  0.414018</td><td style=\"text-align: right;\">    0.362009</td><td style=\"text-align: right;\">-1.04629 </td></tr>\n",
       "<tr><td>train_rf_2eaa0683</td><td>TERMINATED</td><td>172.31.181.85:230685</td><td>False      </td><td>                  </td><td>abundance_ith     </td><td style=\"text-align: right;\">                15</td><td style=\"text-align: right;\">                  </td><td>                </td><td style=\"text-align: right;\">          4</td><td>sqrt          </td><td style=\"text-align: right;\">0.0322031  </td><td style=\"text-align: right;\">        0.0144333 </td><td style=\"text-align: right;\">         0.00503845</td><td style=\"text-align: right;\">0.00902391 </td><td>rf     </td><td style=\"text-align: right;\">           100</td><td style=\"text-align: right;\">     1</td><td style=\"text-align: right;\">        0.354302</td><td style=\"text-align: right;\">  0.414018</td><td style=\"text-align: right;\">    0.362009</td><td style=\"text-align: right;\">-1.04629 </td></tr>\n",
       "<tr><td>train_rf_462742a0</td><td>TERMINATED</td><td>172.31.181.85:230749</td><td>False      </td><td>                  </td><td>abundance_ith     </td><td style=\"text-align: right;\">                17</td><td style=\"text-align: right;\">                  </td><td>                </td><td style=\"text-align: right;\">          4</td><td>sqrt          </td><td style=\"text-align: right;\">0.0411929  </td><td style=\"text-align: right;\">        0.0064178 </td><td style=\"text-align: right;\">         0.00794844</td><td style=\"text-align: right;\">0.00805872 </td><td>rf     </td><td style=\"text-align: right;\">            80</td><td style=\"text-align: right;\">     1</td><td style=\"text-align: right;\">        0.310478</td><td style=\"text-align: right;\">  0.415803</td><td style=\"text-align: right;\">    0.357384</td><td style=\"text-align: right;\">-1.06398 </td></tr>\n",
       "<tr><td>train_rf_f6adbf2e</td><td>TERMINATED</td><td>172.31.181.85:230837</td><td>False      </td><td>                  </td><td>abundance_ith     </td><td style=\"text-align: right;\">                17</td><td style=\"text-align: right;\">                  </td><td>                </td><td style=\"text-align: right;\">          4</td><td>0.3           </td><td style=\"text-align: right;\">0.129373   </td><td style=\"text-align: right;\">        0.00595006</td><td style=\"text-align: right;\">         0.00788305</td><td style=\"text-align: right;\">0.00791369 </td><td>rf     </td><td style=\"text-align: right;\">            80</td><td style=\"text-align: right;\">     1</td><td style=\"text-align: right;\">        0.314662</td><td style=\"text-align: right;\">  0.415803</td><td style=\"text-align: right;\">    0.357384</td><td style=\"text-align: right;\">-1.06398 </td></tr>\n",
       "<tr><td>train_rf_b1063c4d</td><td>TERMINATED</td><td>172.31.181.85:230895</td><td>False      </td><td>                  </td><td>abundance_ith     </td><td style=\"text-align: right;\">                12</td><td style=\"text-align: right;\">                  </td><td>                </td><td style=\"text-align: right;\">           </td><td>0.3           </td><td style=\"text-align: right;\">0.108922   </td><td style=\"text-align: right;\">        0.00283132</td><td style=\"text-align: right;\">         0.0213249 </td><td style=\"text-align: right;\">0.00487029 </td><td>rf     </td><td style=\"text-align: right;\">            80</td><td style=\"text-align: right;\">     1</td><td style=\"text-align: right;\">        0.355734</td><td style=\"text-align: right;\">  0.420447</td><td style=\"text-align: right;\">    0.325658</td><td style=\"text-align: right;\">-1.11034 </td></tr>\n",
       "<tr><td>train_rf_d3adf8b0</td><td>TERMINATED</td><td>172.31.181.85:230960</td><td>False      </td><td>                  </td><td>abundance_ith     </td><td style=\"text-align: right;\">                11</td><td style=\"text-align: right;\">                  </td><td>                </td><td style=\"text-align: right;\">           </td><td>0.2           </td><td style=\"text-align: right;\">0.283042   </td><td style=\"text-align: right;\">        0.0092353 </td><td style=\"text-align: right;\">         0.00655712</td><td style=\"text-align: right;\">0.00554004 </td><td>rf     </td><td style=\"text-align: right;\">           100</td><td style=\"text-align: right;\">     1</td><td style=\"text-align: right;\">        0.385506</td><td style=\"text-align: right;\">  0.417689</td><td style=\"text-align: right;\">    0.320922</td><td style=\"text-align: right;\">-1.08274 </td></tr>\n",
       "<tr><td>train_rf_152d6ef4</td><td>TERMINATED</td><td>172.31.181.85:231018</td><td>False      </td><td>                  </td><td>abundance_ith     </td><td style=\"text-align: right;\">                14</td><td style=\"text-align: right;\">                  </td><td>                </td><td style=\"text-align: right;\">         32</td><td>0.2           </td><td style=\"text-align: right;\">0.148889   </td><td style=\"text-align: right;\">        0.00934348</td><td style=\"text-align: right;\">         0.00594024</td><td style=\"text-align: right;\">0.00742445 </td><td>rf     </td><td style=\"text-align: right;\">           100</td><td style=\"text-align: right;\">     1</td><td style=\"text-align: right;\">        0.405517</td><td style=\"text-align: right;\">  0.442021</td><td style=\"text-align: right;\">    0.32321 </td><td style=\"text-align: right;\">-1.33246 </td></tr>\n",
       "<tr><td>train_rf_62ce2909</td><td>TERMINATED</td><td>172.31.181.85:231077</td><td>False      </td><td>                  </td><td>variance_threshold</td><td style=\"text-align: right;\">                  </td><td style=\"text-align: right;\">       0.00162746 </td><td>                </td><td style=\"text-align: right;\">         32</td><td>0.1           </td><td style=\"text-align: right;\">0.156821   </td><td style=\"text-align: right;\">        0.0136164 </td><td style=\"text-align: right;\">         0.00435134</td><td style=\"text-align: right;\">0.00743392 </td><td>rf     </td><td style=\"text-align: right;\">           120</td><td style=\"text-align: right;\">     1</td><td style=\"text-align: right;\">        0.299931</td><td style=\"text-align: right;\">  0.609983</td><td style=\"text-align: right;\">    0.391807</td><td style=\"text-align: right;\">-3.44186 </td></tr>\n",
       "<tr><td>train_rf_8131d141</td><td>TERMINATED</td><td>172.31.181.85:231178</td><td>False      </td><td>                  </td><td>variance_threshold</td><td style=\"text-align: right;\">                  </td><td style=\"text-align: right;\">       0.00158281 </td><td>                </td><td style=\"text-align: right;\">          4</td><td>0.1           </td><td style=\"text-align: right;\">0.17286    </td><td style=\"text-align: right;\">        0.0131984 </td><td style=\"text-align: right;\">         0.014342  </td><td style=\"text-align: right;\">0.00943145 </td><td>rf     </td><td style=\"text-align: right;\">           140</td><td style=\"text-align: right;\">     1</td><td style=\"text-align: right;\">        0.35427 </td><td style=\"text-align: right;\">  0.607959</td><td style=\"text-align: right;\">    0.530101</td><td style=\"text-align: right;\">-3.41243 </td></tr>\n",
       "<tr><td>train_rf_aa6885de</td><td>TERMINATED</td><td>172.31.181.85:231239</td><td>False      </td><td>                  </td><td>abundance_ith     </td><td style=\"text-align: right;\">                15</td><td style=\"text-align: right;\">                  </td><td>                </td><td style=\"text-align: right;\">          4</td><td>sqrt          </td><td style=\"text-align: right;\">0.0684006  </td><td style=\"text-align: right;\">        0.00746004</td><td style=\"text-align: right;\">         0.00465543</td><td style=\"text-align: right;\">0.00936734 </td><td>rf     </td><td style=\"text-align: right;\">           100</td><td style=\"text-align: right;\">     1</td><td style=\"text-align: right;\">        0.364021</td><td style=\"text-align: right;\">  0.414018</td><td style=\"text-align: right;\">    0.362009</td><td style=\"text-align: right;\">-1.04629 </td></tr>\n",
       "<tr><td>train_rf_f3661300</td><td>TERMINATED</td><td>172.31.181.85:231298</td><td>False      </td><td>                  </td><td>abundance_ith     </td><td style=\"text-align: right;\">                15</td><td style=\"text-align: right;\">                  </td><td>                </td><td style=\"text-align: right;\">          4</td><td>sqrt          </td><td style=\"text-align: right;\">0.063252   </td><td style=\"text-align: right;\">        0.0069645 </td><td style=\"text-align: right;\">         0.00451868</td><td style=\"text-align: right;\">0.00908595 </td><td>rf     </td><td style=\"text-align: right;\">           100</td><td style=\"text-align: right;\">     1</td><td style=\"text-align: right;\">        0.345971</td><td style=\"text-align: right;\">  0.414018</td><td style=\"text-align: right;\">    0.362009</td><td style=\"text-align: right;\">-1.04629 </td></tr>\n",
       "<tr><td>train_rf_3dce39ec</td><td>TERMINATED</td><td>172.31.181.85:231356</td><td>False      </td><td>                  </td><td>abundance_ith     </td><td style=\"text-align: right;\">                14</td><td style=\"text-align: right;\">                  </td><td>                </td><td style=\"text-align: right;\">          4</td><td>sqrt          </td><td style=\"text-align: right;\">0.0256556  </td><td style=\"text-align: right;\">        0.00933435</td><td style=\"text-align: right;\">         0.00527539</td><td style=\"text-align: right;\">0.00896739 </td><td>rf     </td><td style=\"text-align: right;\">           120</td><td style=\"text-align: right;\">     1</td><td style=\"text-align: right;\">        0.374618</td><td style=\"text-align: right;\">  0.428995</td><td style=\"text-align: right;\">    0.365542</td><td style=\"text-align: right;\">-1.19701 </td></tr>\n",
       "<tr><td>train_rf_af81e393</td><td>TERMINATED</td><td>172.31.181.85:231416</td><td>False      </td><td>                  </td><td>abundance_ith     </td><td style=\"text-align: right;\">                14</td><td style=\"text-align: right;\">                  </td><td>                </td><td style=\"text-align: right;\">          4</td><td>sqrt          </td><td style=\"text-align: right;\">0.230807   </td><td style=\"text-align: right;\">        0.0044369 </td><td style=\"text-align: right;\">         0.00528194</td><td style=\"text-align: right;\">0.00870934 </td><td>rf     </td><td style=\"text-align: right;\">           120</td><td style=\"text-align: right;\">     1</td><td style=\"text-align: right;\">        0.382897</td><td style=\"text-align: right;\">  0.428995</td><td style=\"text-align: right;\">    0.365542</td><td style=\"text-align: right;\">-1.19701 </td></tr>\n",
       "<tr><td>train_rf_5e8cdef8</td><td>TERMINATED</td><td>172.31.181.85:231482</td><td>False      </td><td>                  </td><td>abundance_ith     </td><td style=\"text-align: right;\">                17</td><td style=\"text-align: right;\">                  </td><td>                </td><td style=\"text-align: right;\">          4</td><td>sqrt          </td><td style=\"text-align: right;\">0.0521721  </td><td style=\"text-align: right;\">        0.00453201</td><td style=\"text-align: right;\">         0.00996492</td><td style=\"text-align: right;\">0.00851086 </td><td>rf     </td><td style=\"text-align: right;\">           120</td><td style=\"text-align: right;\">     1</td><td style=\"text-align: right;\">        0.38728 </td><td style=\"text-align: right;\">  0.420403</td><td style=\"text-align: right;\">    0.362046</td><td style=\"text-align: right;\">-1.10989 </td></tr>\n",
       "<tr><td>train_rf_0143a279</td><td>TERMINATED</td><td>172.31.181.85:231568</td><td>False      </td><td>                  </td><td>abundance_ith     </td><td style=\"text-align: right;\">                17</td><td style=\"text-align: right;\">                  </td><td>                </td><td style=\"text-align: right;\">          4</td><td>0.5           </td><td style=\"text-align: right;\">0.0898867  </td><td style=\"text-align: right;\">        0.0647553 </td><td style=\"text-align: right;\">         0.00147743</td><td style=\"text-align: right;\">0.000444898</td><td>rf     </td><td style=\"text-align: right;\">            80</td><td style=\"text-align: right;\">     1</td><td style=\"text-align: right;\">        0.31107 </td><td style=\"text-align: right;\">  0.415803</td><td style=\"text-align: right;\">    0.357384</td><td style=\"text-align: right;\">-1.06398 </td></tr>\n",
       "<tr><td>train_rf_717e6fdd</td><td>TERMINATED</td><td>172.31.181.85:231629</td><td>False      </td><td>                  </td><td>abundance_ith     </td><td style=\"text-align: right;\">                12</td><td style=\"text-align: right;\">                  </td><td>                </td><td style=\"text-align: right;\">         16</td><td>0.5           </td><td style=\"text-align: right;\">0.00174143 </td><td style=\"text-align: right;\">        0.0163813 </td><td style=\"text-align: right;\">         0.00156626</td><td style=\"text-align: right;\">0.00828193 </td><td>rf     </td><td style=\"text-align: right;\">            80</td><td style=\"text-align: right;\">     1</td><td style=\"text-align: right;\">        0.351743</td><td style=\"text-align: right;\">  0.420447</td><td style=\"text-align: right;\">    0.325658</td><td style=\"text-align: right;\">-1.11034 </td></tr>\n",
       "<tr><td>train_rf_5f1e03b4</td><td>TERMINATED</td><td>172.31.181.85:231684</td><td>False      </td><td>                  </td><td>abundance_ith     </td><td style=\"text-align: right;\">                12</td><td style=\"text-align: right;\">                  </td><td>                </td><td style=\"text-align: right;\">         16</td><td>sqrt          </td><td style=\"text-align: right;\">0.00118425 </td><td style=\"text-align: right;\">        0.00325607</td><td style=\"text-align: right;\">         0.003794  </td><td style=\"text-align: right;\">0.0099857  </td><td>rf     </td><td style=\"text-align: right;\">           100</td><td style=\"text-align: right;\">     1</td><td style=\"text-align: right;\">        0.40241 </td><td style=\"text-align: right;\">  0.412016</td><td style=\"text-align: right;\">    0.318   </td><td style=\"text-align: right;\">-1.02655 </td></tr>\n",
       "<tr><td>train_rf_d3e6fdf0</td><td>TERMINATED</td><td>172.31.181.85:231743</td><td>False      </td><td>                  </td><td>abundance_ith     </td><td style=\"text-align: right;\">                19</td><td style=\"text-align: right;\">                  </td><td>                </td><td style=\"text-align: right;\">          4</td><td>log2          </td><td style=\"text-align: right;\">0.309528   </td><td style=\"text-align: right;\">        0.00542157</td><td style=\"text-align: right;\">         0.0477063 </td><td style=\"text-align: right;\">0.00993572 </td><td>rf     </td><td style=\"text-align: right;\">           100</td><td style=\"text-align: right;\">     1</td><td style=\"text-align: right;\">        0.349556</td><td style=\"text-align: right;\">  0.430104</td><td style=\"text-align: right;\">    0.359171</td><td style=\"text-align: right;\">-1.20839 </td></tr>\n",
       "<tr><td>train_rf_0a8332f9</td><td>TERMINATED</td><td>172.31.181.85:231805</td><td>False      </td><td>                  </td><td>abundance_ith     </td><td style=\"text-align: right;\">                 4</td><td style=\"text-align: right;\">                  </td><td>                </td><td style=\"text-align: right;\">         16</td><td>log2          </td><td style=\"text-align: right;\">0.0197203  </td><td style=\"text-align: right;\">        0.00332193</td><td style=\"text-align: right;\">         0.00213021</td><td style=\"text-align: right;\">0.00995625 </td><td>rf     </td><td style=\"text-align: right;\">            40</td><td style=\"text-align: right;\">     1</td><td style=\"text-align: right;\">        0.24255 </td><td style=\"text-align: right;\">  0.441208</td><td style=\"text-align: right;\">    0.317299</td><td style=\"text-align: right;\">-1.3239  </td></tr>\n",
       "<tr><td>train_rf_b7237990</td><td>TERMINATED</td><td>172.31.181.85:231867</td><td>False      </td><td>                  </td><td>abundance_ith     </td><td style=\"text-align: right;\">                 8</td><td style=\"text-align: right;\">                  </td><td>                </td><td style=\"text-align: right;\">         16</td><td>sqrt          </td><td style=\"text-align: right;\">0.0220166  </td><td style=\"text-align: right;\">        0.00850996</td><td style=\"text-align: right;\">         0.00375833</td><td style=\"text-align: right;\">0.00954203 </td><td>rf     </td><td style=\"text-align: right;\">           100</td><td style=\"text-align: right;\">     1</td><td style=\"text-align: right;\">        0.380883</td><td style=\"text-align: right;\">  0.426386</td><td style=\"text-align: right;\">    0.321754</td><td style=\"text-align: right;\">-1.17038 </td></tr>\n",
       "<tr><td>train_rf_55a3e346</td><td>TERMINATED</td><td>172.31.181.85:231926</td><td>False      </td><td>                  </td><td>abundance_ith     </td><td style=\"text-align: right;\">                 9</td><td style=\"text-align: right;\">                  </td><td>                </td><td style=\"text-align: right;\">         16</td><td>sqrt          </td><td style=\"text-align: right;\">0.0278856  </td><td style=\"text-align: right;\">        0.00219144</td><td style=\"text-align: right;\">         0.003553  </td><td style=\"text-align: right;\">0.00950396 </td><td>rf     </td><td style=\"text-align: right;\">           100</td><td style=\"text-align: right;\">     1</td><td style=\"text-align: right;\">        0.379946</td><td style=\"text-align: right;\">  0.425602</td><td style=\"text-align: right;\">    0.322938</td><td style=\"text-align: right;\">-1.1624  </td></tr>\n",
       "<tr><td>train_rf_51a2aa35</td><td>TERMINATED</td><td>172.31.181.85:231984</td><td>False      </td><td>                  </td><td>abundance_ith     </td><td style=\"text-align: right;\">                13</td><td style=\"text-align: right;\">                  </td><td>                </td><td style=\"text-align: right;\">         16</td><td>sqrt          </td><td style=\"text-align: right;\">0.115672   </td><td style=\"text-align: right;\">        0.0021429 </td><td style=\"text-align: right;\">         0.00309506</td><td style=\"text-align: right;\">0.00881986 </td><td>rf     </td><td style=\"text-align: right;\">           100</td><td style=\"text-align: right;\">     1</td><td style=\"text-align: right;\">        0.407166</td><td style=\"text-align: right;\">  0.440188</td><td style=\"text-align: right;\">    0.319554</td><td style=\"text-align: right;\">-1.31317 </td></tr>\n",
       "<tr><td>train_rf_28518c39</td><td>TERMINATED</td><td>172.31.181.85:232044</td><td>False      </td><td>                  </td><td>abundance_ith     </td><td style=\"text-align: right;\">                13</td><td style=\"text-align: right;\">                  </td><td>                </td><td style=\"text-align: right;\">          4</td><td>sqrt          </td><td style=\"text-align: right;\">0.113477   </td><td style=\"text-align: right;\">        0.00332795</td><td style=\"text-align: right;\">         0.00679024</td><td style=\"text-align: right;\">0.00818611 </td><td>rf     </td><td style=\"text-align: right;\">            60</td><td style=\"text-align: right;\">     1</td><td style=\"text-align: right;\">        0.275293</td><td style=\"text-align: right;\">  0.425091</td><td style=\"text-align: right;\">    0.349586</td><td style=\"text-align: right;\">-1.15722 </td></tr>\n",
       "<tr><td>train_rf_661d1fdc</td><td>TERMINATED</td><td>172.31.181.85:232133</td><td>False      </td><td>                  </td><td>abundance_ith     </td><td style=\"text-align: right;\">                16</td><td style=\"text-align: right;\">                  </td><td>                </td><td style=\"text-align: right;\">          4</td><td>sqrt          </td><td style=\"text-align: right;\">0.000908463</td><td style=\"text-align: right;\">        0.021482  </td><td style=\"text-align: right;\">         0.00700333</td><td style=\"text-align: right;\">0.00471477 </td><td>rf     </td><td style=\"text-align: right;\">            60</td><td style=\"text-align: right;\">     1</td><td style=\"text-align: right;\">        0.28094 </td><td style=\"text-align: right;\">  0.422935</td><td style=\"text-align: right;\">    0.360002</td><td style=\"text-align: right;\">-1.13539 </td></tr>\n",
       "<tr><td>train_rf_51e1e11f</td><td>TERMINATED</td><td>172.31.181.85:232195</td><td>False      </td><td>                  </td><td>abundance_ith     </td><td style=\"text-align: right;\">                16</td><td style=\"text-align: right;\">                  </td><td>                </td><td style=\"text-align: right;\">          8</td><td>0.2           </td><td style=\"text-align: right;\">0.0527416  </td><td style=\"text-align: right;\">        0.0117966 </td><td style=\"text-align: right;\">         0.00268937</td><td style=\"text-align: right;\">0.00661883 </td><td>rf     </td><td style=\"text-align: right;\">            80</td><td style=\"text-align: right;\">     1</td><td style=\"text-align: right;\">        0.355009</td><td style=\"text-align: right;\">  0.441441</td><td style=\"text-align: right;\">    0.329227</td><td style=\"text-align: right;\">-1.32635 </td></tr>\n",
       "<tr><td>train_rf_3d038f16</td><td>TERMINATED</td><td>172.31.181.85:232260</td><td>True       </td><td>                  </td><td>abundance_ith     </td><td style=\"text-align: right;\">                12</td><td style=\"text-align: right;\">                  </td><td>                </td><td style=\"text-align: right;\">          8</td><td>0.2           </td><td style=\"text-align: right;\">0.0513687  </td><td style=\"text-align: right;\">        0.0120733 </td><td style=\"text-align: right;\">         0.00885197</td><td style=\"text-align: right;\">0.00358843 </td><td>rf     </td><td style=\"text-align: right;\">            80</td><td style=\"text-align: right;\">     1</td><td style=\"text-align: right;\">        0.350856</td><td style=\"text-align: right;\">  0.4153  </td><td style=\"text-align: right;\">    0.325233</td><td style=\"text-align: right;\">-1.05899 </td></tr>\n",
       "<tr><td>train_rf_3ea4e887</td><td>TERMINATED</td><td>172.31.181.85:232318</td><td>True       </td><td>                  </td><td>abundance_ith     </td><td style=\"text-align: right;\">                12</td><td style=\"text-align: right;\">                  </td><td>                </td><td style=\"text-align: right;\">          4</td><td>sqrt          </td><td style=\"text-align: right;\">0.0873635  </td><td style=\"text-align: right;\">        0.0100052 </td><td style=\"text-align: right;\">         0.00857631</td><td style=\"text-align: right;\">0.00378885 </td><td>rf     </td><td style=\"text-align: right;\">           120</td><td style=\"text-align: right;\">     1</td><td style=\"text-align: right;\">        0.373939</td><td style=\"text-align: right;\">  0.411409</td><td style=\"text-align: right;\">    0.357689</td><td style=\"text-align: right;\">-1.02059 </td></tr>\n",
       "<tr><td>train_rf_b07e93a0</td><td>TERMINATED</td><td>172.31.181.85:232377</td><td>False      </td><td>                  </td><td>abundance_ith     </td><td style=\"text-align: right;\">                15</td><td style=\"text-align: right;\">                  </td><td>                </td><td style=\"text-align: right;\">          4</td><td>sqrt          </td><td style=\"text-align: right;\">0.0851934  </td><td style=\"text-align: right;\">        0.00601214</td><td style=\"text-align: right;\">         0.0041819 </td><td style=\"text-align: right;\">0.0092222  </td><td>rf     </td><td style=\"text-align: right;\">           120</td><td style=\"text-align: right;\">     1</td><td style=\"text-align: right;\">        0.380142</td><td style=\"text-align: right;\">  0.424332</td><td style=\"text-align: right;\">    0.366913</td><td style=\"text-align: right;\">-1.14952 </td></tr>\n",
       "<tr><td>train_rf_c6bba9e3</td><td>TERMINATED</td><td>172.31.181.85:232440</td><td>True       </td><td>                  </td><td>abundance_ith     </td><td style=\"text-align: right;\">                11</td><td style=\"text-align: right;\">                  </td><td>                </td><td style=\"text-align: right;\">          4</td><td>sqrt          </td><td style=\"text-align: right;\">0.0904634  </td><td style=\"text-align: right;\">        0.00166867</td><td style=\"text-align: right;\">         0.0121157 </td><td style=\"text-align: right;\">0.00521872 </td><td>rf     </td><td style=\"text-align: right;\">           120</td><td style=\"text-align: right;\">     1</td><td style=\"text-align: right;\">        0.371067</td><td style=\"text-align: right;\">  0.416012</td><td style=\"text-align: right;\">    0.369961</td><td style=\"text-align: right;\">-1.06605 </td></tr>\n",
       "<tr><td>train_rf_18086c5f</td><td>TERMINATED</td><td>172.31.181.85:232499</td><td>True       </td><td>                  </td><td>abundance_ith     </td><td style=\"text-align: right;\">                11</td><td style=\"text-align: right;\">                  </td><td>                </td><td style=\"text-align: right;\">          4</td><td>sqrt          </td><td style=\"text-align: right;\">0.490821   </td><td style=\"text-align: right;\">        0.00171919</td><td style=\"text-align: right;\">         0.00585576</td><td style=\"text-align: right;\">0.00520561 </td><td>rf     </td><td style=\"text-align: right;\">           120</td><td style=\"text-align: right;\">     1</td><td style=\"text-align: right;\">        0.360226</td><td style=\"text-align: right;\">  0.416012</td><td style=\"text-align: right;\">    0.369961</td><td style=\"text-align: right;\">-1.06605 </td></tr>\n",
       "<tr><td>train_rf_9eccd72a</td><td>TERMINATED</td><td>172.31.181.85:232559</td><td>True       </td><td>                  </td><td>abundance_ith     </td><td style=\"text-align: right;\">                14</td><td style=\"text-align: right;\">                  </td><td>                </td><td style=\"text-align: right;\">          4</td><td>sqrt          </td><td style=\"text-align: right;\">0.0374327  </td><td style=\"text-align: right;\">        0.0104095 </td><td style=\"text-align: right;\">         0.005877  </td><td style=\"text-align: right;\">0.00389616 </td><td>rf     </td><td style=\"text-align: right;\">           140</td><td style=\"text-align: right;\">     1</td><td style=\"text-align: right;\">        0.409566</td><td style=\"text-align: right;\">  0.43238 </td><td style=\"text-align: right;\">    0.369988</td><td style=\"text-align: right;\">-1.23183 </td></tr>\n",
       "<tr><td>train_rf_d02ba967</td><td>TERMINATED</td><td>172.31.181.85:232618</td><td>True       </td><td>                  </td><td>abundance_ith     </td><td style=\"text-align: right;\">                14</td><td style=\"text-align: right;\">                  </td><td>                </td><td style=\"text-align: right;\">          4</td><td>sqrt          </td><td style=\"text-align: right;\">0.0736414  </td><td style=\"text-align: right;\">        0.0102834 </td><td style=\"text-align: right;\">         0.00820311</td><td style=\"text-align: right;\">0.0045057  </td><td>rf     </td><td style=\"text-align: right;\">           100</td><td style=\"text-align: right;\">     1</td><td style=\"text-align: right;\">        0.343518</td><td style=\"text-align: right;\">  0.42566 </td><td style=\"text-align: right;\">    0.360087</td><td style=\"text-align: right;\">-1.163   </td></tr>\n",
       "<tr><td>train_rf_1162b0f6</td><td>TERMINATED</td><td>172.31.181.85:232678</td><td>True       </td><td>                  </td><td>abundance_ith     </td><td style=\"text-align: right;\">                10</td><td style=\"text-align: right;\">                  </td><td>                </td><td style=\"text-align: right;\">          4</td><td>sqrt          </td><td style=\"text-align: right;\">0.0743847  </td><td style=\"text-align: right;\">        0.00793316</td><td style=\"text-align: right;\">         0.00814358</td><td style=\"text-align: right;\">0.00441685 </td><td>rf     </td><td style=\"text-align: right;\">           100</td><td style=\"text-align: right;\">     1</td><td style=\"text-align: right;\">        0.329895</td><td style=\"text-align: right;\">  0.407773</td><td style=\"text-align: right;\">    0.360485</td><td style=\"text-align: right;\">-0.985027</td></tr>\n",
       "<tr><td>train_rf_5fc966a7</td><td>TERMINATED</td><td>172.31.181.85:232773</td><td>True       </td><td>                  </td><td>abundance_ith     </td><td style=\"text-align: right;\">                10</td><td style=\"text-align: right;\">                  </td><td>                </td><td style=\"text-align: right;\">          4</td><td>sqrt          </td><td style=\"text-align: right;\">0.328348   </td><td style=\"text-align: right;\">        0.00687481</td><td style=\"text-align: right;\">         0.0104361 </td><td style=\"text-align: right;\">0.00277676 </td><td>rf     </td><td style=\"text-align: right;\">           100</td><td style=\"text-align: right;\">     1</td><td style=\"text-align: right;\">        0.339873</td><td style=\"text-align: right;\">  0.407773</td><td style=\"text-align: right;\">    0.360485</td><td style=\"text-align: right;\">-0.985027</td></tr>\n",
       "<tr><td>train_rf_60ca05b2</td><td>TERMINATED</td><td>172.31.181.85:232833</td><td>True       </td><td>                  </td><td>variance_threshold</td><td style=\"text-align: right;\">                  </td><td style=\"text-align: right;\">       6.12567e-05</td><td>                </td><td style=\"text-align: right;\">         16</td><td>              </td><td style=\"text-align: right;\">0.326724   </td><td style=\"text-align: right;\">        0.00701677</td><td style=\"text-align: right;\">         0.0106607 </td><td style=\"text-align: right;\">0.00331751 </td><td>rf     </td><td style=\"text-align: right;\">           160</td><td style=\"text-align: right;\">     1</td><td style=\"text-align: right;\">        0.364233</td><td style=\"text-align: right;\">  0.636327</td><td style=\"text-align: right;\">    0.377379</td><td style=\"text-align: right;\">-3.83382 </td></tr>\n",
       "<tr><td>train_rf_a5bd1270</td><td>TERMINATED</td><td>172.31.181.85:232900</td><td>True       </td><td>                  </td><td>variance_threshold</td><td style=\"text-align: right;\">                  </td><td style=\"text-align: right;\">       5.97977e-05</td><td>                </td><td style=\"text-align: right;\">         16</td><td>              </td><td style=\"text-align: right;\">0.326395   </td><td style=\"text-align: right;\">        0.00504457</td><td style=\"text-align: right;\">         0.0168083 </td><td style=\"text-align: right;\">0.00309795 </td><td>rf     </td><td style=\"text-align: right;\">           160</td><td style=\"text-align: right;\">     1</td><td style=\"text-align: right;\">        0.365072</td><td style=\"text-align: right;\">  0.636327</td><td style=\"text-align: right;\">    0.377379</td><td style=\"text-align: right;\">-3.83382 </td></tr>\n",
       "<tr><td>train_rf_e67e19a6</td><td>TERMINATED</td><td>172.31.181.85:232959</td><td>True       </td><td>                  </td><td>abundance_ith     </td><td style=\"text-align: right;\">                 9</td><td style=\"text-align: right;\">                  </td><td>                </td><td style=\"text-align: right;\">          8</td><td>0.3           </td><td style=\"text-align: right;\">0.279065   </td><td style=\"text-align: right;\">        0.00508868</td><td style=\"text-align: right;\">         0.0198066 </td><td style=\"text-align: right;\">0.00146235 </td><td>rf     </td><td style=\"text-align: right;\">            80</td><td style=\"text-align: right;\">     1</td><td style=\"text-align: right;\">        0.329056</td><td style=\"text-align: right;\">  0.432117</td><td style=\"text-align: right;\">    0.32646 </td><td style=\"text-align: right;\">-1.22911 </td></tr>\n",
       "<tr><td>train_rf_73ad247d</td><td>TERMINATED</td><td>172.31.181.85:233018</td><td>True       </td><td>                  </td><td>abundance_ith     </td><td style=\"text-align: right;\">                 9</td><td style=\"text-align: right;\">                  </td><td>                </td><td style=\"text-align: right;\">          8</td><td>0.3           </td><td style=\"text-align: right;\">0.285183   </td><td style=\"text-align: right;\">        0.00780865</td><td style=\"text-align: right;\">         0.00960312</td><td style=\"text-align: right;\">0.00251021 </td><td>rf     </td><td style=\"text-align: right;\">           100</td><td style=\"text-align: right;\">     1</td><td style=\"text-align: right;\">        0.376559</td><td style=\"text-align: right;\">  0.421194</td><td style=\"text-align: right;\">    0.323952</td><td style=\"text-align: right;\">-1.11785 </td></tr>\n",
       "<tr><td>train_rf_343f84f1</td><td>TERMINATED</td><td>172.31.181.85:233114</td><td>True       </td><td>                  </td><td>abundance_ith     </td><td style=\"text-align: right;\">                10</td><td style=\"text-align: right;\">                  </td><td>                </td><td style=\"text-align: right;\">           </td><td>sqrt          </td><td style=\"text-align: right;\">0.141423   </td><td style=\"text-align: right;\">        0.00785967</td><td style=\"text-align: right;\">         0.0135375 </td><td style=\"text-align: right;\">0.0023912  </td><td>rf     </td><td style=\"text-align: right;\">           120</td><td style=\"text-align: right;\">     1</td><td style=\"text-align: right;\">        0.433929</td><td style=\"text-align: right;\">  0.433572</td><td style=\"text-align: right;\">    0.341391</td><td style=\"text-align: right;\">-1.24415 </td></tr>\n",
       "<tr><td>train_rf_c10709fc</td><td>TERMINATED</td><td>172.31.181.85:233173</td><td>True       </td><td>                  </td><td>abundance_ith     </td><td style=\"text-align: right;\">                10</td><td style=\"text-align: right;\">                  </td><td>                </td><td style=\"text-align: right;\">          4</td><td>sqrt          </td><td style=\"text-align: right;\">0.352695   </td><td style=\"text-align: right;\">        0.00806523</td><td style=\"text-align: right;\">         0.0131562 </td><td style=\"text-align: right;\">0.00210553 </td><td>rf     </td><td style=\"text-align: right;\">           100</td><td style=\"text-align: right;\">     1</td><td style=\"text-align: right;\">        0.332979</td><td style=\"text-align: right;\">  0.407773</td><td style=\"text-align: right;\">    0.360485</td><td style=\"text-align: right;\">-0.985027</td></tr>\n",
       "<tr><td>train_rf_a889b451</td><td>TERMINATED</td><td>172.31.181.85:233232</td><td>True       </td><td>                  </td><td>abundance_ith     </td><td style=\"text-align: right;\">                 8</td><td style=\"text-align: right;\">                  </td><td>                </td><td style=\"text-align: right;\">          4</td><td>sqrt          </td><td style=\"text-align: right;\">0.348025   </td><td style=\"text-align: right;\">        0.00682074</td><td style=\"text-align: right;\">         0.00747297</td><td style=\"text-align: right;\">0.00420844 </td><td>rf     </td><td style=\"text-align: right;\">           100</td><td style=\"text-align: right;\">     1</td><td style=\"text-align: right;\">        0.335691</td><td style=\"text-align: right;\">  0.414292</td><td style=\"text-align: right;\">    0.358216</td><td style=\"text-align: right;\">-1.049   </td></tr>\n",
       "<tr><td>train_rf_f9647b25</td><td>TERMINATED</td><td>172.31.181.85:233296</td><td>True       </td><td>                  </td><td>abundance_ith     </td><td style=\"text-align: right;\">                 8</td><td style=\"text-align: right;\">                  </td><td>                </td><td style=\"text-align: right;\">          4</td><td>sqrt          </td><td style=\"text-align: right;\">0.363513   </td><td style=\"text-align: right;\">        0.00641213</td><td style=\"text-align: right;\">         0.00757442</td><td style=\"text-align: right;\">0.00285262 </td><td>rf     </td><td style=\"text-align: right;\">           100</td><td style=\"text-align: right;\">     1</td><td style=\"text-align: right;\">        0.328629</td><td style=\"text-align: right;\">  0.414292</td><td style=\"text-align: right;\">    0.358216</td><td style=\"text-align: right;\">-1.049   </td></tr>\n",
       "<tr><td>train_rf_3eeb5faa</td><td>TERMINATED</td><td>172.31.181.85:233397</td><td>True       </td><td>                  </td><td>abundance_ith     </td><td style=\"text-align: right;\">                10</td><td style=\"text-align: right;\">                  </td><td>                </td><td style=\"text-align: right;\">          4</td><td>sqrt          </td><td style=\"text-align: right;\">0.300647   </td><td style=\"text-align: right;\">        0.00614998</td><td style=\"text-align: right;\">         0.0106266 </td><td style=\"text-align: right;\">0.00381634 </td><td>rf     </td><td style=\"text-align: right;\">           100</td><td style=\"text-align: right;\">     1</td><td style=\"text-align: right;\">        0.327766</td><td style=\"text-align: right;\">  0.407773</td><td style=\"text-align: right;\">    0.360485</td><td style=\"text-align: right;\">-0.985027</td></tr>\n",
       "<tr><td>train_rf_9818b0d6</td><td>TERMINATED</td><td>172.31.181.85:233456</td><td>True       </td><td>                  </td><td>abundance_ith     </td><td style=\"text-align: right;\">                10</td><td style=\"text-align: right;\">                  </td><td>                </td><td style=\"text-align: right;\">          4</td><td>sqrt          </td><td style=\"text-align: right;\">0.394807   </td><td style=\"text-align: right;\">        0.00578247</td><td style=\"text-align: right;\">         0.0108922 </td><td style=\"text-align: right;\">0.00222549 </td><td>rf     </td><td style=\"text-align: right;\">            80</td><td style=\"text-align: right;\">     1</td><td style=\"text-align: right;\">        0.301993</td><td style=\"text-align: right;\">  0.413073</td><td style=\"text-align: right;\">    0.360706</td><td style=\"text-align: right;\">-1.03697 </td></tr>\n",
       "<tr><td>train_rf_d9323e84</td><td>TERMINATED</td><td>172.31.181.85:233521</td><td>True       </td><td>                  </td><td>abundance_ith     </td><td style=\"text-align: right;\">                10</td><td style=\"text-align: right;\">                  </td><td>                </td><td style=\"text-align: right;\">          4</td><td>sqrt          </td><td style=\"text-align: right;\">0.260646   </td><td style=\"text-align: right;\">        0.0057834 </td><td style=\"text-align: right;\">         0.0159849 </td><td style=\"text-align: right;\">0.00226495 </td><td>rf     </td><td style=\"text-align: right;\">            80</td><td style=\"text-align: right;\">     1</td><td style=\"text-align: right;\">        0.301479</td><td style=\"text-align: right;\">  0.413073</td><td style=\"text-align: right;\">    0.360706</td><td style=\"text-align: right;\">-1.03697 </td></tr>\n",
       "<tr><td>train_rf_4f744ed1</td><td>TERMINATED</td><td>172.31.181.85:233577</td><td>True       </td><td>                  </td><td>abundance_ith     </td><td style=\"text-align: right;\">                10</td><td style=\"text-align: right;\">                  </td><td>                </td><td style=\"text-align: right;\">          4</td><td>0.2           </td><td style=\"text-align: right;\">0.436695   </td><td style=\"text-align: right;\">        0.00414493</td><td style=\"text-align: right;\">         0.0131535 </td><td style=\"text-align: right;\">0.00384977 </td><td>rf     </td><td style=\"text-align: right;\">            60</td><td style=\"text-align: right;\">     1</td><td style=\"text-align: right;\">        0.278613</td><td style=\"text-align: right;\">  0.39597 </td><td style=\"text-align: right;\">    0.355237</td><td style=\"text-align: right;\">-0.871772</td></tr>\n",
       "<tr><td>train_rf_899d761d</td><td>TERMINATED</td><td>172.31.181.85:233631</td><td>True       </td><td>                  </td><td>abundance_ith     </td><td style=\"text-align: right;\">                10</td><td style=\"text-align: right;\">                  </td><td>                </td><td style=\"text-align: right;\">          4</td><td>sqrt          </td><td style=\"text-align: right;\">0.394581   </td><td style=\"text-align: right;\">        0.00339286</td><td style=\"text-align: right;\">         0.0160768 </td><td style=\"text-align: right;\">0.00214675 </td><td>rf     </td><td style=\"text-align: right;\">            60</td><td style=\"text-align: right;\">     1</td><td style=\"text-align: right;\">        0.271426</td><td style=\"text-align: right;\">  0.39597 </td><td style=\"text-align: right;\">    0.355237</td><td style=\"text-align: right;\">-0.871772</td></tr>\n",
       "<tr><td>train_rf_3b935945</td><td>TERMINATED</td><td>172.31.181.85:233686</td><td>True       </td><td>                  </td><td>abundance_ith     </td><td style=\"text-align: right;\">                11</td><td style=\"text-align: right;\">                  </td><td>                </td><td style=\"text-align: right;\">         32</td><td>sqrt          </td><td style=\"text-align: right;\">0.391414   </td><td style=\"text-align: right;\">        0.00344817</td><td style=\"text-align: right;\">         0.0128291 </td><td style=\"text-align: right;\">0.00383654 </td><td>rf     </td><td style=\"text-align: right;\">            60</td><td style=\"text-align: right;\">     1</td><td style=\"text-align: right;\">        0.339315</td><td style=\"text-align: right;\">  0.418773</td><td style=\"text-align: right;\">    0.314552</td><td style=\"text-align: right;\">-1.09357 </td></tr>\n",
       "<tr><td>train_rf_bcbe4dd6</td><td>TERMINATED</td><td>172.31.181.85:233745</td><td>True       </td><td>                  </td><td>abundance_ith     </td><td style=\"text-align: right;\">                11</td><td style=\"text-align: right;\">                  </td><td>                </td><td style=\"text-align: right;\">         32</td><td>0.1           </td><td style=\"text-align: right;\">0.431505   </td><td style=\"text-align: right;\">        0.00341023</td><td style=\"text-align: right;\">         0.0251135 </td><td style=\"text-align: right;\">0.00382376 </td><td>rf     </td><td style=\"text-align: right;\">            40</td><td style=\"text-align: right;\">     1</td><td style=\"text-align: right;\">        0.26724 </td><td style=\"text-align: right;\">  0.415336</td><td style=\"text-align: right;\">    0.31796 </td><td style=\"text-align: right;\">-1.05934 </td></tr>\n",
       "<tr><td>train_rf_58017331</td><td>TERMINATED</td><td>172.31.181.85:233799</td><td>True       </td><td>                  </td><td>abundance_ith     </td><td style=\"text-align: right;\">                10</td><td style=\"text-align: right;\">                  </td><td>                </td><td style=\"text-align: right;\">          4</td><td>sqrt          </td><td style=\"text-align: right;\">0.41454    </td><td style=\"text-align: right;\">        0.00407323</td><td style=\"text-align: right;\">         0.0201644 </td><td style=\"text-align: right;\">0.00359371 </td><td>rf     </td><td style=\"text-align: right;\">            60</td><td style=\"text-align: right;\">     1</td><td style=\"text-align: right;\">        0.273361</td><td style=\"text-align: right;\">  0.39597 </td><td style=\"text-align: right;\">    0.355237</td><td style=\"text-align: right;\">-0.871772</td></tr>\n",
       "<tr><td>train_rf_cf94dbac</td><td>TERMINATED</td><td>172.31.181.85:233925</td><td>True       </td><td>                  </td><td>abundance_ith     </td><td style=\"text-align: right;\">                10</td><td style=\"text-align: right;\">                  </td><td>                </td><td style=\"text-align: right;\">          4</td><td>sqrt          </td><td style=\"text-align: right;\">0.395204   </td><td style=\"text-align: right;\">        0.00373377</td><td style=\"text-align: right;\">         0.0109907 </td><td style=\"text-align: right;\">0.00207562 </td><td>rf     </td><td style=\"text-align: right;\">            60</td><td style=\"text-align: right;\">     1</td><td style=\"text-align: right;\">        0.274027</td><td style=\"text-align: right;\">  0.39597 </td><td style=\"text-align: right;\">    0.355237</td><td style=\"text-align: right;\">-0.871772</td></tr>\n",
       "<tr><td>train_rf_1457a494</td><td>TERMINATED</td><td>172.31.181.85:234046</td><td>True       </td><td>                  </td><td>abundance_ith     </td><td style=\"text-align: right;\">                 9</td><td style=\"text-align: right;\">                  </td><td>                </td><td style=\"text-align: right;\">          4</td><td>sqrt          </td><td style=\"text-align: right;\">0.451012   </td><td style=\"text-align: right;\">        0.00422683</td><td style=\"text-align: right;\">         0.0202493 </td><td style=\"text-align: right;\">0.00338278 </td><td>rf     </td><td style=\"text-align: right;\">            60</td><td style=\"text-align: right;\">     1</td><td style=\"text-align: right;\">        0.275852</td><td style=\"text-align: right;\">  0.4273  </td><td style=\"text-align: right;\">    0.354462</td><td style=\"text-align: right;\">-1.17969 </td></tr>\n",
       "<tr><td>train_rf_a08568b2</td><td>TERMINATED</td><td>172.31.181.85:234155</td><td>True       </td><td>                  </td><td>abundance_ith     </td><td style=\"text-align: right;\">                 6</td><td style=\"text-align: right;\">                  </td><td>                </td><td style=\"text-align: right;\">          4</td><td>sqrt          </td><td style=\"text-align: right;\">0.419899   </td><td style=\"text-align: right;\">        0.0042871 </td><td style=\"text-align: right;\">         0.0193543 </td><td style=\"text-align: right;\">0.00330881 </td><td>rf     </td><td style=\"text-align: right;\">            60</td><td style=\"text-align: right;\">     1</td><td style=\"text-align: right;\">        0.260641</td><td style=\"text-align: right;\">  0.42909 </td><td style=\"text-align: right;\">    0.361728</td><td style=\"text-align: right;\">-1.198   </td></tr>\n",
       "<tr><td>train_rf_29f3d379</td><td>TERMINATED</td><td>172.31.181.85:234210</td><td>True       </td><td>                  </td><td>abundance_ith     </td><td style=\"text-align: right;\">                10</td><td style=\"text-align: right;\">                  </td><td>                </td><td style=\"text-align: right;\">          4</td><td>0.2           </td><td style=\"text-align: right;\">0.384513   </td><td style=\"text-align: right;\">        0.00248678</td><td style=\"text-align: right;\">         0.017667  </td><td style=\"text-align: right;\">0.00273406 </td><td>rf     </td><td style=\"text-align: right;\">            60</td><td style=\"text-align: right;\">     1</td><td style=\"text-align: right;\">        0.275487</td><td style=\"text-align: right;\">  0.39597 </td><td style=\"text-align: right;\">    0.355237</td><td style=\"text-align: right;\">-0.871772</td></tr>\n",
       "<tr><td>train_rf_227dbf02</td><td>TERMINATED</td><td>172.31.181.85:234269</td><td>True       </td><td>                  </td><td>abundance_ith     </td><td style=\"text-align: right;\">                10</td><td style=\"text-align: right;\">                  </td><td>                </td><td style=\"text-align: right;\">          4</td><td>0.2           </td><td style=\"text-align: right;\">0.384014   </td><td style=\"text-align: right;\">        0.00297651</td><td style=\"text-align: right;\">         0.0237485 </td><td style=\"text-align: right;\">0.00272131 </td><td>rf     </td><td style=\"text-align: right;\">            60</td><td style=\"text-align: right;\">     1</td><td style=\"text-align: right;\">        0.271185</td><td style=\"text-align: right;\">  0.39597 </td><td style=\"text-align: right;\">    0.355237</td><td style=\"text-align: right;\">-0.871772</td></tr>\n",
       "<tr><td>train_rf_92d22c79</td><td>TERMINATED</td><td>172.31.181.85:234328</td><td>True       </td><td>                  </td><td>abundance_ith     </td><td style=\"text-align: right;\">                10</td><td style=\"text-align: right;\">                  </td><td>                </td><td style=\"text-align: right;\">          4</td><td>0.2           </td><td style=\"text-align: right;\">0.387807   </td><td style=\"text-align: right;\">        0.00271126</td><td style=\"text-align: right;\">         0.0237155 </td><td style=\"text-align: right;\">0.00283352 </td><td>rf     </td><td style=\"text-align: right;\">            40</td><td style=\"text-align: right;\">     1</td><td style=\"text-align: right;\">        0.239343</td><td style=\"text-align: right;\">  0.388908</td><td style=\"text-align: right;\">    0.35498 </td><td style=\"text-align: right;\">-0.80561 </td></tr>\n",
       "<tr><td>train_rf_c4a81c89</td><td>TERMINATED</td><td>172.31.181.85:234390</td><td>True       </td><td>                  </td><td>abundance_ith     </td><td style=\"text-align: right;\">                 9</td><td style=\"text-align: right;\">                  </td><td>                </td><td style=\"text-align: right;\">          4</td><td>0.2           </td><td style=\"text-align: right;\">0.440842   </td><td style=\"text-align: right;\">        0.00254374</td><td style=\"text-align: right;\">         0.0242812 </td><td style=\"text-align: right;\">0.00269214 </td><td>rf     </td><td style=\"text-align: right;\">            40</td><td style=\"text-align: right;\">     1</td><td style=\"text-align: right;\">        0.23807 </td><td style=\"text-align: right;\">  0.423113</td><td style=\"text-align: right;\">    0.355482</td><td style=\"text-align: right;\">-1.13718 </td></tr>\n",
       "<tr><td>train_rf_98f2503e</td><td>TERMINATED</td><td>172.31.181.85:234449</td><td>True       </td><td>                  </td><td>abundance_ith     </td><td style=\"text-align: right;\">                 9</td><td style=\"text-align: right;\">                  </td><td>                </td><td style=\"text-align: right;\">          4</td><td>0.2           </td><td style=\"text-align: right;\">0.38151    </td><td style=\"text-align: right;\">        0.00240586</td><td style=\"text-align: right;\">         0.0295342 </td><td style=\"text-align: right;\">0.00283367 </td><td>rf     </td><td style=\"text-align: right;\">            40</td><td style=\"text-align: right;\">     1</td><td style=\"text-align: right;\">        0.235678</td><td style=\"text-align: right;\">  0.423113</td><td style=\"text-align: right;\">    0.355482</td><td style=\"text-align: right;\">-1.13718 </td></tr>\n",
       "<tr><td>train_rf_f51cbcfb</td><td>TERMINATED</td><td>172.31.181.85:234508</td><td>True       </td><td>                  </td><td>abundance_ith     </td><td style=\"text-align: right;\">                 8</td><td style=\"text-align: right;\">                  </td><td>                </td><td style=\"text-align: right;\">          4</td><td>0.2           </td><td style=\"text-align: right;\">0.38495    </td><td style=\"text-align: right;\">        0.00257713</td><td style=\"text-align: right;\">         0.0304107 </td><td style=\"text-align: right;\">0.00185309 </td><td>rf     </td><td style=\"text-align: right;\">            60</td><td style=\"text-align: right;\">     1</td><td style=\"text-align: right;\">        0.272044</td><td style=\"text-align: right;\">  0.404067</td><td style=\"text-align: right;\">    0.354566</td><td style=\"text-align: right;\">-0.949105</td></tr>\n",
       "<tr><td>train_rf_a2bc4332</td><td>TERMINATED</td><td>172.31.181.85:234566</td><td>True       </td><td>                  </td><td>abundance_ith     </td><td style=\"text-align: right;\">                10</td><td style=\"text-align: right;\">                  </td><td>                </td><td style=\"text-align: right;\">          4</td><td>0.2           </td><td style=\"text-align: right;\">0.403962   </td><td style=\"text-align: right;\">        0.00297253</td><td style=\"text-align: right;\">         0.032608  </td><td style=\"text-align: right;\">0.00189798 </td><td>rf     </td><td style=\"text-align: right;\">            60</td><td style=\"text-align: right;\">     1</td><td style=\"text-align: right;\">        0.265507</td><td style=\"text-align: right;\">  0.39597 </td><td style=\"text-align: right;\">    0.355237</td><td style=\"text-align: right;\">-0.871772</td></tr>\n",
       "<tr><td>train_rf_82e4b701</td><td>TERMINATED</td><td>172.31.181.85:234630</td><td>True       </td><td>                  </td><td>abundance_ith     </td><td style=\"text-align: right;\">                 7</td><td style=\"text-align: right;\">                  </td><td>                </td><td style=\"text-align: right;\">          4</td><td>0.2           </td><td style=\"text-align: right;\">0.412008   </td><td style=\"text-align: right;\">        0.0030124 </td><td style=\"text-align: right;\">         0.0367012 </td><td style=\"text-align: right;\">0.0017764  </td><td>rf     </td><td style=\"text-align: right;\">            60</td><td style=\"text-align: right;\">     1</td><td style=\"text-align: right;\">        0.270203</td><td style=\"text-align: right;\">  0.430084</td><td style=\"text-align: right;\">    0.352129</td><td style=\"text-align: right;\">-1.20818 </td></tr>\n",
       "<tr><td>train_rf_74c63375</td><td>TERMINATED</td><td>172.31.181.85:234719</td><td>True       </td><td>                  </td><td>abundance_ith     </td><td style=\"text-align: right;\">                 8</td><td style=\"text-align: right;\">                  </td><td>                </td><td style=\"text-align: right;\">          4</td><td>0.2           </td><td style=\"text-align: right;\">0.407136   </td><td style=\"text-align: right;\">        0.00297285</td><td style=\"text-align: right;\">         0.0377123 </td><td style=\"text-align: right;\">0.00176182 </td><td>rf     </td><td style=\"text-align: right;\">            60</td><td style=\"text-align: right;\">     1</td><td style=\"text-align: right;\">        0.270502</td><td style=\"text-align: right;\">  0.404067</td><td style=\"text-align: right;\">    0.354566</td><td style=\"text-align: right;\">-0.949105</td></tr>\n",
       "<tr><td>train_rf_aed0d09f</td><td>TERMINATED</td><td>172.31.181.85:234778</td><td>True       </td><td>                  </td><td>abundance_ith     </td><td style=\"text-align: right;\">                11</td><td style=\"text-align: right;\">                  </td><td>                </td><td style=\"text-align: right;\">          4</td><td>0.2           </td><td style=\"text-align: right;\">0.402735   </td><td style=\"text-align: right;\">        0.00190251</td><td style=\"text-align: right;\">         0.0296043 </td><td style=\"text-align: right;\">0.001604   </td><td>rf     </td><td style=\"text-align: right;\">            60</td><td style=\"text-align: right;\">     1</td><td style=\"text-align: right;\">        0.268583</td><td style=\"text-align: right;\">  0.408898</td><td style=\"text-align: right;\">    0.353643</td><td style=\"text-align: right;\">-0.995993</td></tr>\n",
       "<tr><td>train_rf_f7cf13c3</td><td>TERMINATED</td><td>172.31.181.85:234844</td><td>True       </td><td>                  </td><td>abundance_ith     </td><td style=\"text-align: right;\">                 6</td><td style=\"text-align: right;\">                  </td><td>                </td><td style=\"text-align: right;\">          4</td><td>0.2           </td><td style=\"text-align: right;\">0.475833   </td><td style=\"text-align: right;\">        0.00261638</td><td style=\"text-align: right;\">         0.0366382 </td><td style=\"text-align: right;\">0.00133969 </td><td>rf     </td><td style=\"text-align: right;\">            60</td><td style=\"text-align: right;\">     1</td><td style=\"text-align: right;\">        0.262425</td><td style=\"text-align: right;\">  0.42909 </td><td style=\"text-align: right;\">    0.361728</td><td style=\"text-align: right;\">-1.198   </td></tr>\n",
       "<tr><td>train_rf_d64f6c90</td><td>TERMINATED</td><td>172.31.181.85:234922</td><td>True       </td><td>                  </td><td>abundance_ith     </td><td style=\"text-align: right;\">                 8</td><td style=\"text-align: right;\">                  </td><td>                </td><td style=\"text-align: right;\">          4</td><td>0.2           </td><td style=\"text-align: right;\">0.471853   </td><td style=\"text-align: right;\">        0.00376024</td><td style=\"text-align: right;\">         0.0407266 </td><td style=\"text-align: right;\">0.00133888 </td><td>rf     </td><td style=\"text-align: right;\">            60</td><td style=\"text-align: right;\">     1</td><td style=\"text-align: right;\">        0.280231</td><td style=\"text-align: right;\">  0.404067</td><td style=\"text-align: right;\">    0.354566</td><td style=\"text-align: right;\">-0.949105</td></tr>\n",
       "<tr><td>train_rf_f6aec9f4</td><td>TERMINATED</td><td>172.31.181.85:234985</td><td>True       </td><td>                  </td><td>abundance_ith     </td><td style=\"text-align: right;\">                 8</td><td style=\"text-align: right;\">                  </td><td>                </td><td style=\"text-align: right;\">          4</td><td>0.2           </td><td style=\"text-align: right;\">0.380806   </td><td style=\"text-align: right;\">        0.00294152</td><td style=\"text-align: right;\">         0.0433073 </td><td style=\"text-align: right;\">0.00189228 </td><td>rf     </td><td style=\"text-align: right;\">            40</td><td style=\"text-align: right;\">     1</td><td style=\"text-align: right;\">        0.238497</td><td style=\"text-align: right;\">  0.408723</td><td style=\"text-align: right;\">    0.360908</td><td style=\"text-align: right;\">-0.994286</td></tr>\n",
       "<tr><td>train_rf_8d75fbfb</td><td>TERMINATED</td><td>172.31.181.85:235078</td><td>True       </td><td>                  </td><td>abundance_ith     </td><td style=\"text-align: right;\">                 6</td><td style=\"text-align: right;\">                  </td><td>                </td><td style=\"text-align: right;\">          4</td><td>0.2           </td><td style=\"text-align: right;\">0.383651   </td><td style=\"text-align: right;\">        0.00135511</td><td style=\"text-align: right;\">         0.0442943 </td><td style=\"text-align: right;\">0.000869069</td><td>rf     </td><td style=\"text-align: right;\">            40</td><td style=\"text-align: right;\">     1</td><td style=\"text-align: right;\">        0.23338 </td><td style=\"text-align: right;\">  0.441646</td><td style=\"text-align: right;\">    0.357142</td><td style=\"text-align: right;\">-1.32851 </td></tr>\n",
       "<tr><td>train_rf_ea8c36c4</td><td>TERMINATED</td><td>172.31.181.85:235137</td><td>True       </td><td>                  </td><td>variance_threshold</td><td style=\"text-align: right;\">                  </td><td style=\"text-align: right;\">       0.000310166</td><td>                </td><td style=\"text-align: right;\">          4</td><td>0.2           </td><td style=\"text-align: right;\">0.432029   </td><td style=\"text-align: right;\">        0.0037649 </td><td style=\"text-align: right;\">         0.0615693 </td><td style=\"text-align: right;\">0.00125483 </td><td>rf     </td><td style=\"text-align: right;\">            60</td><td style=\"text-align: right;\">     1</td><td style=\"text-align: right;\">        0.236798</td><td style=\"text-align: right;\">  0.698826</td><td style=\"text-align: right;\">    0.477868</td><td style=\"text-align: right;\">-4.82999 </td></tr>\n",
       "<tr><td>train_rf_fb7560f9</td><td>TERMINATED</td><td>172.31.181.85:235196</td><td>True       </td><td>                  </td><td>variance_threshold</td><td style=\"text-align: right;\">                  </td><td style=\"text-align: right;\">       0.000331672</td><td>                </td><td style=\"text-align: right;\">          4</td><td>0.2           </td><td style=\"text-align: right;\">0.466692   </td><td style=\"text-align: right;\">        0.00375267</td><td style=\"text-align: right;\">         0.0531012 </td><td style=\"text-align: right;\">0.00107088 </td><td>rf     </td><td style=\"text-align: right;\">            60</td><td style=\"text-align: right;\">     1</td><td style=\"text-align: right;\">        0.243392</td><td style=\"text-align: right;\">  0.698826</td><td style=\"text-align: right;\">    0.477868</td><td style=\"text-align: right;\">-4.82999 </td></tr>\n",
       "<tr><td>train_rf_8a02669e</td><td>TERMINATED</td><td>172.31.181.85:235254</td><td>True       </td><td>                  </td><td>abundance_ith     </td><td style=\"text-align: right;\">                 8</td><td style=\"text-align: right;\">                  </td><td>                </td><td style=\"text-align: right;\">          4</td><td>0.2           </td><td style=\"text-align: right;\">0.466505   </td><td style=\"text-align: right;\">        0.0030194 </td><td style=\"text-align: right;\">         0.0221705 </td><td style=\"text-align: right;\">0.00303143 </td><td>rf     </td><td style=\"text-align: right;\">            60</td><td style=\"text-align: right;\">     1</td><td style=\"text-align: right;\">        0.269085</td><td style=\"text-align: right;\">  0.404067</td><td style=\"text-align: right;\">    0.354566</td><td style=\"text-align: right;\">-0.949105</td></tr>\n",
       "<tr><td>train_rf_b57581c6</td><td>TERMINATED</td><td>172.31.181.85:235321</td><td>True       </td><td>                  </td><td>abundance_ith     </td><td style=\"text-align: right;\">                 8</td><td style=\"text-align: right;\">                  </td><td>                </td><td style=\"text-align: right;\">          4</td><td>0.2           </td><td style=\"text-align: right;\">0.40754    </td><td style=\"text-align: right;\">        0.00242197</td><td style=\"text-align: right;\">         0.0316398 </td><td style=\"text-align: right;\">0.00306574 </td><td>rf     </td><td style=\"text-align: right;\">            60</td><td style=\"text-align: right;\">     1</td><td style=\"text-align: right;\">        0.274632</td><td style=\"text-align: right;\">  0.404067</td><td style=\"text-align: right;\">    0.354566</td><td style=\"text-align: right;\">-0.949105</td></tr>\n",
       "<tr><td>train_rf_f6c9b803</td><td>TERMINATED</td><td>172.31.181.85:235407</td><td>True       </td><td>                  </td><td>abundance_ith     </td><td style=\"text-align: right;\">                 8</td><td style=\"text-align: right;\">                  </td><td>                </td><td style=\"text-align: right;\">          4</td><td>0.2           </td><td style=\"text-align: right;\">0.406885   </td><td style=\"text-align: right;\">        0.00306458</td><td style=\"text-align: right;\">         0.033088  </td><td style=\"text-align: right;\">0.00200532 </td><td>rf     </td><td style=\"text-align: right;\">            60</td><td style=\"text-align: right;\">     1</td><td style=\"text-align: right;\">        0.271471</td><td style=\"text-align: right;\">  0.404067</td><td style=\"text-align: right;\">    0.354566</td><td style=\"text-align: right;\">-0.949105</td></tr>\n",
       "<tr><td>train_rf_427b9c92</td><td>TERMINATED</td><td>172.31.181.85:235467</td><td>True       </td><td>                  </td><td>abundance_ith     </td><td style=\"text-align: right;\">                 7</td><td style=\"text-align: right;\">                  </td><td>                </td><td style=\"text-align: right;\">          4</td><td>0.2           </td><td style=\"text-align: right;\">0.447314   </td><td style=\"text-align: right;\">        0.00198794</td><td style=\"text-align: right;\">         0.0219542 </td><td style=\"text-align: right;\">0.00201239 </td><td>rf     </td><td style=\"text-align: right;\">            60</td><td style=\"text-align: right;\">     1</td><td style=\"text-align: right;\">        0.264046</td><td style=\"text-align: right;\">  0.430084</td><td style=\"text-align: right;\">    0.352129</td><td style=\"text-align: right;\">-1.20818 </td></tr>\n",
       "<tr><td>train_rf_d2453fee</td><td>TERMINATED</td><td>172.31.181.85:235533</td><td>True       </td><td>                  </td><td>abundance_ith     </td><td style=\"text-align: right;\">                 7</td><td style=\"text-align: right;\">                  </td><td>                </td><td style=\"text-align: right;\">          4</td><td>0.2           </td><td style=\"text-align: right;\">0.432733   </td><td style=\"text-align: right;\">        0.00278999</td><td style=\"text-align: right;\">         0.0222342 </td><td style=\"text-align: right;\">0.000552489</td><td>rf     </td><td style=\"text-align: right;\">            60</td><td style=\"text-align: right;\">     1</td><td style=\"text-align: right;\">        0.2689  </td><td style=\"text-align: right;\">  0.430084</td><td style=\"text-align: right;\">    0.352129</td><td style=\"text-align: right;\">-1.20818 </td></tr>\n",
       "<tr><td>train_rf_d6237e1e</td><td>TERMINATED</td><td>172.31.181.85:235588</td><td>True       </td><td>                  </td><td>abundance_ith     </td><td style=\"text-align: right;\">                 9</td><td style=\"text-align: right;\">                  </td><td>                </td><td style=\"text-align: right;\">          4</td><td>0.2           </td><td style=\"text-align: right;\">0.429051   </td><td style=\"text-align: right;\">        0.00263119</td><td style=\"text-align: right;\">         0.0264327 </td><td style=\"text-align: right;\">0.0024989  </td><td>rf     </td><td style=\"text-align: right;\">            40</td><td style=\"text-align: right;\">     1</td><td style=\"text-align: right;\">        0.235308</td><td style=\"text-align: right;\">  0.423113</td><td style=\"text-align: right;\">    0.355482</td><td style=\"text-align: right;\">-1.13718 </td></tr>\n",
       "<tr><td>train_rf_bf47f59a</td><td>TERMINATED</td><td>172.31.181.85:235644</td><td>True       </td><td>                  </td><td>abundance_ith     </td><td style=\"text-align: right;\">                 9</td><td style=\"text-align: right;\">                  </td><td>                </td><td style=\"text-align: right;\">          4</td><td>0.2           </td><td style=\"text-align: right;\">0.467281   </td><td style=\"text-align: right;\">        0.00262058</td><td style=\"text-align: right;\">         0.0276814 </td><td style=\"text-align: right;\">0.00258755 </td><td>rf     </td><td style=\"text-align: right;\">            40</td><td style=\"text-align: right;\">     1</td><td style=\"text-align: right;\">        0.246097</td><td style=\"text-align: right;\">  0.423113</td><td style=\"text-align: right;\">    0.355482</td><td style=\"text-align: right;\">-1.13718 </td></tr>\n",
       "<tr><td>train_rf_4738dbdc</td><td>TERMINATED</td><td>172.31.181.85:235698</td><td>True       </td><td>                  </td><td>abundance_ith     </td><td style=\"text-align: right;\">                 9</td><td style=\"text-align: right;\">                  </td><td>                </td><td style=\"text-align: right;\">           </td><td>0.2           </td><td style=\"text-align: right;\">0.490042   </td><td style=\"text-align: right;\">        0.00364096</td><td style=\"text-align: right;\">         0.0176593 </td><td style=\"text-align: right;\">0.0016933  </td><td>rf     </td><td style=\"text-align: right;\">            60</td><td style=\"text-align: right;\">     1</td><td style=\"text-align: right;\">        0.301606</td><td style=\"text-align: right;\">  0.448392</td><td style=\"text-align: right;\">    0.318964</td><td style=\"text-align: right;\">-1.40019 </td></tr>\n",
       "<tr><td>train_rf_3a235185</td><td>TERMINATED</td><td>172.31.181.85:235757</td><td>True       </td><td>                  </td><td>abundance_ith     </td><td style=\"text-align: right;\">                 8</td><td style=\"text-align: right;\">                  </td><td>                </td><td style=\"text-align: right;\">           </td><td>0.2           </td><td style=\"text-align: right;\">0.420107   </td><td style=\"text-align: right;\">        0.00313222</td><td style=\"text-align: right;\">         0.0184238 </td><td style=\"text-align: right;\">0.00166469 </td><td>rf     </td><td style=\"text-align: right;\">            60</td><td style=\"text-align: right;\">     1</td><td style=\"text-align: right;\">        0.298057</td><td style=\"text-align: right;\">  0.420945</td><td style=\"text-align: right;\">    0.317673</td><td style=\"text-align: right;\">-1.11534 </td></tr>\n",
       "<tr><td>train_rf_8f67a410</td><td>TERMINATED</td><td>172.31.181.85:235820</td><td>True       </td><td>                  </td><td>abundance_ith     </td><td style=\"text-align: right;\">                 8</td><td style=\"text-align: right;\">                  </td><td>                </td><td style=\"text-align: right;\">          4</td><td>0.2           </td><td style=\"text-align: right;\">0.394653   </td><td style=\"text-align: right;\">        0.00313875</td><td style=\"text-align: right;\">         0.0396045 </td><td style=\"text-align: right;\">0.00294521 </td><td>rf     </td><td style=\"text-align: right;\">            60</td><td style=\"text-align: right;\">     1</td><td style=\"text-align: right;\">        0.294885</td><td style=\"text-align: right;\">  0.404067</td><td style=\"text-align: right;\">    0.354566</td><td style=\"text-align: right;\">-0.949105</td></tr>\n",
       "<tr><td>train_rf_e3c91c58</td><td>TERMINATED</td><td>172.31.181.85:235881</td><td>True       </td><td>                  </td><td>abundance_ith     </td><td style=\"text-align: right;\">                 8</td><td style=\"text-align: right;\">                  </td><td>                </td><td style=\"text-align: right;\">          4</td><td>0.2           </td><td style=\"text-align: right;\">0.395374   </td><td style=\"text-align: right;\">        0.00198221</td><td style=\"text-align: right;\">         0.0333163 </td><td style=\"text-align: right;\">0.0030666  </td><td>rf     </td><td style=\"text-align: right;\">            60</td><td style=\"text-align: right;\">     1</td><td style=\"text-align: right;\">        0.266391</td><td style=\"text-align: right;\">  0.404067</td><td style=\"text-align: right;\">    0.354566</td><td style=\"text-align: right;\">-0.949105</td></tr>\n",
       "<tr><td>train_rf_0f36f395</td><td>TERMINATED</td><td>172.31.181.85:235994</td><td>True       </td><td>                  </td><td>abundance_ith     </td><td style=\"text-align: right;\">                11</td><td style=\"text-align: right;\">                  </td><td>                </td><td style=\"text-align: right;\">          4</td><td>0.2           </td><td style=\"text-align: right;\">0.356942   </td><td style=\"text-align: right;\">        0.00192097</td><td style=\"text-align: right;\">         0.0155347 </td><td style=\"text-align: right;\">0.00221655 </td><td>rf     </td><td style=\"text-align: right;\">            60</td><td style=\"text-align: right;\">     1</td><td style=\"text-align: right;\">        0.279321</td><td style=\"text-align: right;\">  0.408898</td><td style=\"text-align: right;\">    0.353643</td><td style=\"text-align: right;\">-0.995993</td></tr>\n",
       "<tr><td>train_rf_0b3d3de7</td><td>TERMINATED</td><td>172.31.181.85:236053</td><td>True       </td><td>                  </td><td>abundance_ith     </td><td style=\"text-align: right;\">                 7</td><td style=\"text-align: right;\">                  </td><td>                </td><td style=\"text-align: right;\">          4</td><td>0.2           </td><td style=\"text-align: right;\">0.362981   </td><td style=\"text-align: right;\">        0.00238616</td><td style=\"text-align: right;\">         0.0152997 </td><td style=\"text-align: right;\">0.00353802 </td><td>rf     </td><td style=\"text-align: right;\">            60</td><td style=\"text-align: right;\">     1</td><td style=\"text-align: right;\">        0.268011</td><td style=\"text-align: right;\">  0.430084</td><td style=\"text-align: right;\">    0.352129</td><td style=\"text-align: right;\">-1.20818 </td></tr>\n",
       "<tr><td>train_rf_e8c9bfd4</td><td>TERMINATED</td><td>172.31.181.85:236138</td><td>True       </td><td>                  </td><td>abundance_ith     </td><td style=\"text-align: right;\">                10</td><td style=\"text-align: right;\">                  </td><td>                </td><td style=\"text-align: right;\">          4</td><td>0.2           </td><td style=\"text-align: right;\">0.371264   </td><td style=\"text-align: right;\">        0.00233829</td><td style=\"text-align: right;\">         0.023535  </td><td style=\"text-align: right;\">0.00315944 </td><td>rf     </td><td style=\"text-align: right;\">            60</td><td style=\"text-align: right;\">     1</td><td style=\"text-align: right;\">        0.265215</td><td style=\"text-align: right;\">  0.39597 </td><td style=\"text-align: right;\">    0.355237</td><td style=\"text-align: right;\">-0.871772</td></tr>\n",
       "<tr><td>train_rf_ea121b77</td><td>TERMINATED</td><td>172.31.181.85:236201</td><td>True       </td><td>                  </td><td>abundance_ith     </td><td style=\"text-align: right;\">                10</td><td style=\"text-align: right;\">                  </td><td>                </td><td style=\"text-align: right;\">          4</td><td>0.2           </td><td style=\"text-align: right;\">0.37183    </td><td style=\"text-align: right;\">        0.00163289</td><td style=\"text-align: right;\">         0.0243061 </td><td style=\"text-align: right;\">0.00318931 </td><td>rf     </td><td style=\"text-align: right;\">            40</td><td style=\"text-align: right;\">     1</td><td style=\"text-align: right;\">        0.296387</td><td style=\"text-align: right;\">  0.388908</td><td style=\"text-align: right;\">    0.35498 </td><td style=\"text-align: right;\">-0.80561 </td></tr>\n",
       "<tr><td>train_rf_03ead1b2</td><td>TERMINATED</td><td>172.31.181.85:236260</td><td>True       </td><td>                  </td><td>abundance_ith     </td><td style=\"text-align: right;\">                10</td><td style=\"text-align: right;\">                  </td><td>                </td><td style=\"text-align: right;\">          4</td><td>0.2           </td><td style=\"text-align: right;\">0.378456   </td><td style=\"text-align: right;\">        0.0015589 </td><td style=\"text-align: right;\">         0.0239318 </td><td style=\"text-align: right;\">0.00322799 </td><td>rf     </td><td style=\"text-align: right;\">            40</td><td style=\"text-align: right;\">     1</td><td style=\"text-align: right;\">        0.239288</td><td style=\"text-align: right;\">  0.388908</td><td style=\"text-align: right;\">    0.35498 </td><td style=\"text-align: right;\">-0.80561 </td></tr>\n",
       "<tr><td>train_rf_2a5d4c9a</td><td>TERMINATED</td><td>172.31.181.85:236314</td><td>True       </td><td>                  </td><td>abundance_ith     </td><td style=\"text-align: right;\">                10</td><td style=\"text-align: right;\">                  </td><td>                </td><td style=\"text-align: right;\">          4</td><td>0.5           </td><td style=\"text-align: right;\">0.374546   </td><td style=\"text-align: right;\">        0.00156549</td><td style=\"text-align: right;\">         0.0235926 </td><td style=\"text-align: right;\">0.00145938 </td><td>rf     </td><td style=\"text-align: right;\">            40</td><td style=\"text-align: right;\">     1</td><td style=\"text-align: right;\">        0.233911</td><td style=\"text-align: right;\">  0.388908</td><td style=\"text-align: right;\">    0.35498 </td><td style=\"text-align: right;\">-0.80561 </td></tr>\n",
       "<tr><td>train_rf_4aa9545d</td><td>TERMINATED</td><td>172.31.181.85:236369</td><td>True       </td><td>                  </td><td>abundance_ith     </td><td style=\"text-align: right;\">                10</td><td style=\"text-align: right;\">                  </td><td>                </td><td style=\"text-align: right;\">          4</td><td>0.2           </td><td style=\"text-align: right;\">0.38835    </td><td style=\"text-align: right;\">        0.00144061</td><td style=\"text-align: right;\">         0.0234897 </td><td style=\"text-align: right;\">0.00269932 </td><td>rf     </td><td style=\"text-align: right;\">            40</td><td style=\"text-align: right;\">     1</td><td style=\"text-align: right;\">        0.242824</td><td style=\"text-align: right;\">  0.388908</td><td style=\"text-align: right;\">    0.35498 </td><td style=\"text-align: right;\">-0.80561 </td></tr>\n",
       "<tr><td>train_rf_cf8748a2</td><td>TERMINATED</td><td>172.31.181.85:236424</td><td>True       </td><td>                  </td><td>abundance_ith     </td><td style=\"text-align: right;\">                10</td><td style=\"text-align: right;\">                  </td><td>                </td><td style=\"text-align: right;\">          4</td><td>0.5           </td><td style=\"text-align: right;\">0.339264   </td><td style=\"text-align: right;\">        0.00134127</td><td style=\"text-align: right;\">         0.0271605 </td><td style=\"text-align: right;\">0.00328943 </td><td>rf     </td><td style=\"text-align: right;\">            40</td><td style=\"text-align: right;\">     1</td><td style=\"text-align: right;\">        0.242069</td><td style=\"text-align: right;\">  0.388908</td><td style=\"text-align: right;\">    0.35498 </td><td style=\"text-align: right;\">-0.80561 </td></tr>\n",
       "<tr><td>train_rf_56ec8033</td><td>TERMINATED</td><td>172.31.181.85:236479</td><td>True       </td><td>                  </td><td>abundance_ith     </td><td style=\"text-align: right;\">                10</td><td style=\"text-align: right;\">                  </td><td>                </td><td style=\"text-align: right;\">          4</td><td>0.5           </td><td style=\"text-align: right;\">0.337938   </td><td style=\"text-align: right;\">        0.00114837</td><td style=\"text-align: right;\">         0.0239337 </td><td style=\"text-align: right;\">0.00331647 </td><td>rf     </td><td style=\"text-align: right;\">            40</td><td style=\"text-align: right;\">     1</td><td style=\"text-align: right;\">        0.238115</td><td style=\"text-align: right;\">  0.388908</td><td style=\"text-align: right;\">    0.35498 </td><td style=\"text-align: right;\">-0.80561 </td></tr>\n",
       "<tr><td>train_rf_7b09bfb0</td><td>TERMINATED</td><td>172.31.181.85:236568</td><td>True       </td><td>                  </td><td>abundance_ith     </td><td style=\"text-align: right;\">                10</td><td style=\"text-align: right;\">                  </td><td>                </td><td style=\"text-align: right;\">          4</td><td>0.5           </td><td style=\"text-align: right;\">0.341383   </td><td style=\"text-align: right;\">        0.00100068</td><td style=\"text-align: right;\">         0.0234804 </td><td style=\"text-align: right;\">0.00325066 </td><td>rf     </td><td style=\"text-align: right;\">            40</td><td style=\"text-align: right;\">     1</td><td style=\"text-align: right;\">        0.237688</td><td style=\"text-align: right;\">  0.388908</td><td style=\"text-align: right;\">    0.35498 </td><td style=\"text-align: right;\">-0.80561 </td></tr>\n",
       "<tr><td>train_rf_45b2ef28</td><td>TERMINATED</td><td>172.31.181.85:236633</td><td>True       </td><td>                  </td><td>abundance_ith     </td><td style=\"text-align: right;\">                11</td><td style=\"text-align: right;\">                  </td><td>                </td><td style=\"text-align: right;\">          4</td><td>0.5           </td><td style=\"text-align: right;\">0.373459   </td><td style=\"text-align: right;\">        0.00127475</td><td style=\"text-align: right;\">         0.0271986 </td><td style=\"text-align: right;\">0.00361309 </td><td>rf     </td><td style=\"text-align: right;\">            40</td><td style=\"text-align: right;\">     1</td><td style=\"text-align: right;\">        0.243829</td><td style=\"text-align: right;\">  0.397306</td><td style=\"text-align: right;\">    0.356707</td><td style=\"text-align: right;\">-0.884432</td></tr>\n",
       "<tr><td>train_rf_eb677461</td><td>TERMINATED</td><td>172.31.181.85:236695</td><td>True       </td><td>                  </td><td>abundance_ith     </td><td style=\"text-align: right;\">                11</td><td style=\"text-align: right;\">                  </td><td>                </td><td style=\"text-align: right;\">          4</td><td>0.5           </td><td style=\"text-align: right;\">0.347401   </td><td style=\"text-align: right;\">        0.00109108</td><td style=\"text-align: right;\">         0.0268077 </td><td style=\"text-align: right;\">0.00348261 </td><td>rf     </td><td style=\"text-align: right;\">            40</td><td style=\"text-align: right;\">     1</td><td style=\"text-align: right;\">        0.234699</td><td style=\"text-align: right;\">  0.397306</td><td style=\"text-align: right;\">    0.356707</td><td style=\"text-align: right;\">-0.884432</td></tr>\n",
       "<tr><td>train_rf_40b81290</td><td>TERMINATED</td><td>172.31.181.85:236754</td><td>True       </td><td>                  </td><td>abundance_ith     </td><td style=\"text-align: right;\">                10</td><td style=\"text-align: right;\">                  </td><td>                </td><td style=\"text-align: right;\">          4</td><td>0.5           </td><td style=\"text-align: right;\">0.340726   </td><td style=\"text-align: right;\">        0.00103876</td><td style=\"text-align: right;\">         0.0185135 </td><td style=\"text-align: right;\">0.00331101 </td><td>rf     </td><td style=\"text-align: right;\">            40</td><td style=\"text-align: right;\">     1</td><td style=\"text-align: right;\">        0.254874</td><td style=\"text-align: right;\">  0.388908</td><td style=\"text-align: right;\">    0.35498 </td><td style=\"text-align: right;\">-0.80561 </td></tr>\n",
       "<tr><td>train_rf_0f0de815</td><td>TERMINATED</td><td>172.31.181.85:236849</td><td>True       </td><td>                  </td><td>abundance_ith     </td><td style=\"text-align: right;\">                10</td><td style=\"text-align: right;\">                  </td><td>                </td><td style=\"text-align: right;\">          4</td><td>0.5           </td><td style=\"text-align: right;\">0.376452   </td><td style=\"text-align: right;\">        0.00144811</td><td style=\"text-align: right;\">         0.0204701 </td><td style=\"text-align: right;\">0.00325898 </td><td>rf     </td><td style=\"text-align: right;\">            40</td><td style=\"text-align: right;\">     1</td><td style=\"text-align: right;\">        0.245066</td><td style=\"text-align: right;\">  0.388908</td><td style=\"text-align: right;\">    0.35498 </td><td style=\"text-align: right;\">-0.80561 </td></tr>\n",
       "<tr><td>train_rf_ec520ef4</td><td>TERMINATED</td><td>172.31.181.85:236925</td><td>True       </td><td>                  </td><td>abundance_ith     </td><td style=\"text-align: right;\">                10</td><td style=\"text-align: right;\">                  </td><td>                </td><td style=\"text-align: right;\">          4</td><td>0.5           </td><td style=\"text-align: right;\">0.333506   </td><td style=\"text-align: right;\">        0.0014662 </td><td style=\"text-align: right;\">         0.0183929 </td><td style=\"text-align: right;\">0.00409408 </td><td>rf     </td><td style=\"text-align: right;\">            40</td><td style=\"text-align: right;\">     1</td><td style=\"text-align: right;\">        0.240024</td><td style=\"text-align: right;\">  0.388908</td><td style=\"text-align: right;\">    0.35498 </td><td style=\"text-align: right;\">-0.80561 </td></tr>\n",
       "<tr><td>train_rf_9e40bc47</td><td>TERMINATED</td><td>172.31.181.85:236980</td><td>True       </td><td>                  </td><td>abundance_ith     </td><td style=\"text-align: right;\">                12</td><td style=\"text-align: right;\">                  </td><td>                </td><td style=\"text-align: right;\">          4</td><td>0.5           </td><td style=\"text-align: right;\">0.339174   </td><td style=\"text-align: right;\">        0.00146703</td><td style=\"text-align: right;\">         0.0204554 </td><td style=\"text-align: right;\">0.00330477 </td><td>rf     </td><td style=\"text-align: right;\">            40</td><td style=\"text-align: right;\">     1</td><td style=\"text-align: right;\">        0.239605</td><td style=\"text-align: right;\">  0.392641</td><td style=\"text-align: right;\">    0.360507</td><td style=\"text-align: right;\">-0.840432</td></tr>\n",
       "<tr><td>train_rf_5075e214</td><td>TERMINATED</td><td>172.31.181.85:237035</td><td>True       </td><td>                  </td><td>abundance_ith     </td><td style=\"text-align: right;\">                12</td><td style=\"text-align: right;\">                  </td><td>                </td><td style=\"text-align: right;\">          4</td><td>0.5           </td><td style=\"text-align: right;\">0.335921   </td><td style=\"text-align: right;\">        0.00151634</td><td style=\"text-align: right;\">         0.0205023 </td><td style=\"text-align: right;\">0.00325345 </td><td>rf     </td><td style=\"text-align: right;\">            40</td><td style=\"text-align: right;\">     1</td><td style=\"text-align: right;\">        0.247336</td><td style=\"text-align: right;\">  0.392641</td><td style=\"text-align: right;\">    0.360507</td><td style=\"text-align: right;\">-0.840432</td></tr>\n",
       "<tr><td>train_rf_dcbe77c8</td><td>TERMINATED</td><td>172.31.181.85:237099</td><td>True       </td><td>                  </td><td>abundance_ith     </td><td style=\"text-align: right;\">                12</td><td style=\"text-align: right;\">                  </td><td>                </td><td style=\"text-align: right;\">          4</td><td>0.5           </td><td style=\"text-align: right;\">0.337935   </td><td style=\"text-align: right;\">        0.0014464 </td><td style=\"text-align: right;\">         0.018437  </td><td style=\"text-align: right;\">0.00402864 </td><td>rf     </td><td style=\"text-align: right;\">            40</td><td style=\"text-align: right;\">     1</td><td style=\"text-align: right;\">        0.238338</td><td style=\"text-align: right;\">  0.392641</td><td style=\"text-align: right;\">    0.360507</td><td style=\"text-align: right;\">-0.840432</td></tr>\n",
       "<tr><td>train_rf_9eccedac</td><td>TERMINATED</td><td>172.31.181.85:237188</td><td>True       </td><td>                  </td><td>abundance_ith     </td><td style=\"text-align: right;\">                12</td><td style=\"text-align: right;\">                  </td><td>                </td><td style=\"text-align: right;\">         32</td><td>0.5           </td><td style=\"text-align: right;\">0.338323   </td><td style=\"text-align: right;\">        0.00144847</td><td style=\"text-align: right;\">         0.018827  </td><td style=\"text-align: right;\">0.00413958 </td><td>rf     </td><td style=\"text-align: right;\">            40</td><td style=\"text-align: right;\">     1</td><td style=\"text-align: right;\">        0.262793</td><td style=\"text-align: right;\">  0.411774</td><td style=\"text-align: right;\">    0.325352</td><td style=\"text-align: right;\">-1.02417 </td></tr>\n",
       "<tr><td>train_rf_cb07b79f</td><td>TERMINATED</td><td>172.31.181.85:237252</td><td>True       </td><td>                  </td><td>abundance_ith     </td><td style=\"text-align: right;\">                12</td><td style=\"text-align: right;\">                  </td><td>                </td><td style=\"text-align: right;\">          4</td><td>0.5           </td><td style=\"text-align: right;\">0.336422   </td><td style=\"text-align: right;\">        0.00149501</td><td style=\"text-align: right;\">         0.018837  </td><td style=\"text-align: right;\">0.003264   </td><td>rf     </td><td style=\"text-align: right;\">            40</td><td style=\"text-align: right;\">     1</td><td style=\"text-align: right;\">        0.242735</td><td style=\"text-align: right;\">  0.392641</td><td style=\"text-align: right;\">    0.360507</td><td style=\"text-align: right;\">-0.840432</td></tr>\n",
       "<tr><td>train_rf_8ef3311f</td><td>TERMINATED</td><td>172.31.181.85:237307</td><td>True       </td><td>                  </td><td>abundance_ith     </td><td style=\"text-align: right;\">                12</td><td style=\"text-align: right;\">                  </td><td>                </td><td style=\"text-align: right;\">          4</td><td>0.5           </td><td style=\"text-align: right;\">0.336457   </td><td style=\"text-align: right;\">        0.00109904</td><td style=\"text-align: right;\">         0.0209119 </td><td style=\"text-align: right;\">0.0032844  </td><td>rf     </td><td style=\"text-align: right;\">            40</td><td style=\"text-align: right;\">     1</td><td style=\"text-align: right;\">        0.240046</td><td style=\"text-align: right;\">  0.392641</td><td style=\"text-align: right;\">    0.360507</td><td style=\"text-align: right;\">-0.840432</td></tr>\n",
       "<tr><td>train_rf_322a9c1e</td><td>TERMINATED</td><td>172.31.181.85:237366</td><td>True       </td><td>                  </td><td>abundance_ith     </td><td style=\"text-align: right;\">                12</td><td style=\"text-align: right;\">                  </td><td>                </td><td style=\"text-align: right;\">          4</td><td>0.5           </td><td style=\"text-align: right;\">0.338586   </td><td style=\"text-align: right;\">        0.00110849</td><td style=\"text-align: right;\">         0.0211962 </td><td style=\"text-align: right;\">0.00325544 </td><td>rf     </td><td style=\"text-align: right;\">            40</td><td style=\"text-align: right;\">     1</td><td style=\"text-align: right;\">        0.240376</td><td style=\"text-align: right;\">  0.392641</td><td style=\"text-align: right;\">    0.360507</td><td style=\"text-align: right;\">-0.840432</td></tr>\n",
       "<tr><td>train_rf_afb0bd70</td><td>TERMINATED</td><td>172.31.181.85:237425</td><td>True       </td><td>                  </td><td>abundance_ith     </td><td style=\"text-align: right;\">                12</td><td style=\"text-align: right;\">                  </td><td>                </td><td style=\"text-align: right;\">          4</td><td>0.5           </td><td style=\"text-align: right;\">0.314838   </td><td style=\"text-align: right;\">        0.00161215</td><td style=\"text-align: right;\">         0.0239181 </td><td style=\"text-align: right;\">0.00324527 </td><td>rf     </td><td style=\"text-align: right;\">            40</td><td style=\"text-align: right;\">     1</td><td style=\"text-align: right;\">        0.245608</td><td style=\"text-align: right;\">  0.392641</td><td style=\"text-align: right;\">    0.360507</td><td style=\"text-align: right;\">-0.840432</td></tr>\n",
       "<tr><td>train_rf_b1d8c962</td><td>TERMINATED</td><td>172.31.181.85:237483</td><td>True       </td><td>                  </td><td>abundance_ith     </td><td style=\"text-align: right;\">                13</td><td style=\"text-align: right;\">                  </td><td>                </td><td style=\"text-align: right;\">          4</td><td>0.5           </td><td style=\"text-align: right;\">0.317882   </td><td style=\"text-align: right;\">        0.00146522</td><td style=\"text-align: right;\">         0.0246598 </td><td style=\"text-align: right;\">0.00370994 </td><td>rf     </td><td style=\"text-align: right;\">            40</td><td style=\"text-align: right;\">     1</td><td style=\"text-align: right;\">        0.260045</td><td style=\"text-align: right;\">  0.443462</td><td style=\"text-align: right;\">    0.353197</td><td style=\"text-align: right;\">-1.3477  </td></tr>\n",
       "<tr><td>train_rf_7a4f8507</td><td>TERMINATED</td><td>172.31.181.85:237546</td><td>True       </td><td>                  </td><td>abundance_ith     </td><td style=\"text-align: right;\">                13</td><td style=\"text-align: right;\">                  </td><td>                </td><td style=\"text-align: right;\">          4</td><td>0.5           </td><td style=\"text-align: right;\">0.319619   </td><td style=\"text-align: right;\">        0.00149841</td><td style=\"text-align: right;\">         0.0256177 </td><td style=\"text-align: right;\">0.00405664 </td><td>rf     </td><td style=\"text-align: right;\">            40</td><td style=\"text-align: right;\">     1</td><td style=\"text-align: right;\">        0.246877</td><td style=\"text-align: right;\">  0.443462</td><td style=\"text-align: right;\">    0.353197</td><td style=\"text-align: right;\">-1.3477  </td></tr>\n",
       "<tr><td>train_rf_dd779c88</td><td>TERMINATED</td><td>172.31.181.85:237607</td><td>True       </td><td>                  </td><td>abundance_ith     </td><td style=\"text-align: right;\">                11</td><td style=\"text-align: right;\">                  </td><td>                </td><td style=\"text-align: right;\">          4</td><td>0.5           </td><td style=\"text-align: right;\">0.299215   </td><td style=\"text-align: right;\">        0.00123132</td><td style=\"text-align: right;\">         0.0176504 </td><td style=\"text-align: right;\">0.00401561 </td><td>rf     </td><td style=\"text-align: right;\">            40</td><td style=\"text-align: right;\">     1</td><td style=\"text-align: right;\">        0.2417  </td><td style=\"text-align: right;\">  0.397306</td><td style=\"text-align: right;\">    0.356707</td><td style=\"text-align: right;\">-0.884432</td></tr>\n",
       "<tr><td>train_rf_c2839be3</td><td>TERMINATED</td><td>172.31.181.85:237666</td><td>True       </td><td>                  </td><td>abundance_ith     </td><td style=\"text-align: right;\">                11</td><td style=\"text-align: right;\">                  </td><td>                </td><td style=\"text-align: right;\">          4</td><td>0.5           </td><td style=\"text-align: right;\">0.299589   </td><td style=\"text-align: right;\">        0.00120862</td><td style=\"text-align: right;\">         0.0170577 </td><td style=\"text-align: right;\">0.00352134 </td><td>rf     </td><td style=\"text-align: right;\">            40</td><td style=\"text-align: right;\">     1</td><td style=\"text-align: right;\">        0.234313</td><td style=\"text-align: right;\">  0.397306</td><td style=\"text-align: right;\">    0.356707</td><td style=\"text-align: right;\">-0.884432</td></tr>\n",
       "<tr><td>train_rf_be055865</td><td>TERMINATED</td><td>172.31.181.85:237755</td><td>True       </td><td>                  </td><td>abundance_ith     </td><td style=\"text-align: right;\">                11</td><td style=\"text-align: right;\">                  </td><td>                </td><td style=\"text-align: right;\">          4</td><td>0.5           </td><td style=\"text-align: right;\">0.360858   </td><td style=\"text-align: right;\">        0.00100696</td><td style=\"text-align: right;\">         0.0193762 </td><td style=\"text-align: right;\">0.00347116 </td><td>rf     </td><td style=\"text-align: right;\">            40</td><td style=\"text-align: right;\">     1</td><td style=\"text-align: right;\">        0.239081</td><td style=\"text-align: right;\">  0.397306</td><td style=\"text-align: right;\">    0.356707</td><td style=\"text-align: right;\">-0.884432</td></tr>\n",
       "<tr><td>train_rf_eb8e357f</td><td>TERMINATED</td><td>172.31.181.85:237820</td><td>True       </td><td>                  </td><td>abundance_ith     </td><td style=\"text-align: right;\">                11</td><td style=\"text-align: right;\">                  </td><td>                </td><td style=\"text-align: right;\">          4</td><td>0.5           </td><td style=\"text-align: right;\">0.355292   </td><td style=\"text-align: right;\">        0.00102755</td><td style=\"text-align: right;\">         0.0287329 </td><td style=\"text-align: right;\">0.00451973 </td><td>rf     </td><td style=\"text-align: right;\">            40</td><td style=\"text-align: right;\">     1</td><td style=\"text-align: right;\">        0.242046</td><td style=\"text-align: right;\">  0.397306</td><td style=\"text-align: right;\">    0.356707</td><td style=\"text-align: right;\">-0.884432</td></tr>\n",
       "<tr><td>train_rf_f90692e6</td><td>TERMINATED</td><td>172.31.181.85:237878</td><td>True       </td><td>                  </td><td>abundance_ith     </td><td style=\"text-align: right;\">                12</td><td style=\"text-align: right;\">                  </td><td>                </td><td style=\"text-align: right;\">          4</td><td>0.5           </td><td style=\"text-align: right;\">0.336486   </td><td style=\"text-align: right;\">        0.0017597 </td><td style=\"text-align: right;\">         0.0217445 </td><td style=\"text-align: right;\">0.00464633 </td><td>rf     </td><td style=\"text-align: right;\">            40</td><td style=\"text-align: right;\">     1</td><td style=\"text-align: right;\">        0.247362</td><td style=\"text-align: right;\">  0.392641</td><td style=\"text-align: right;\">    0.360507</td><td style=\"text-align: right;\">-0.840432</td></tr>\n",
       "<tr><td>train_rf_657dde6b</td><td>TERMINATED</td><td>172.31.181.85:237941</td><td>True       </td><td>                  </td><td>abundance_ith     </td><td style=\"text-align: right;\">                12</td><td style=\"text-align: right;\">                  </td><td>                </td><td style=\"text-align: right;\">          4</td><td>0.5           </td><td style=\"text-align: right;\">0.337512   </td><td style=\"text-align: right;\">        0.00173965</td><td style=\"text-align: right;\">         0.022161  </td><td style=\"text-align: right;\">0.00331372 </td><td>rf     </td><td style=\"text-align: right;\">            40</td><td style=\"text-align: right;\">     1</td><td style=\"text-align: right;\">        0.242746</td><td style=\"text-align: right;\">  0.392641</td><td style=\"text-align: right;\">    0.360507</td><td style=\"text-align: right;\">-0.840432</td></tr>\n",
       "<tr><td>train_rf_8b6617c7</td><td>TERMINATED</td><td>172.31.181.85:238001</td><td>True       </td><td>                  </td><td>abundance_ith     </td><td style=\"text-align: right;\">                12</td><td style=\"text-align: right;\">                  </td><td>                </td><td style=\"text-align: right;\">          4</td><td>0.5           </td><td style=\"text-align: right;\">0.344622   </td><td style=\"text-align: right;\">        0.00133127</td><td style=\"text-align: right;\">         0.020904  </td><td style=\"text-align: right;\">0.00294533 </td><td>rf     </td><td style=\"text-align: right;\">            40</td><td style=\"text-align: right;\">     1</td><td style=\"text-align: right;\">        0.254314</td><td style=\"text-align: right;\">  0.392641</td><td style=\"text-align: right;\">    0.360507</td><td style=\"text-align: right;\">-0.840432</td></tr>\n",
       "<tr><td>train_rf_14e587aa</td><td>TERMINATED</td><td>172.31.181.85:238059</td><td>True       </td><td>                  </td><td>abundance_ith     </td><td style=\"text-align: right;\">                 9</td><td style=\"text-align: right;\">                  </td><td>                </td><td style=\"text-align: right;\">          4</td><td>0.5           </td><td style=\"text-align: right;\">0.347939   </td><td style=\"text-align: right;\">        0.00134208</td><td style=\"text-align: right;\">         0.019285  </td><td style=\"text-align: right;\">0.00298301 </td><td>rf     </td><td style=\"text-align: right;\">            40</td><td style=\"text-align: right;\">     1</td><td style=\"text-align: right;\">        0.2367  </td><td style=\"text-align: right;\">  0.423113</td><td style=\"text-align: right;\">    0.355482</td><td style=\"text-align: right;\">-1.13718 </td></tr>\n",
       "<tr><td>train_rf_26c337b9</td><td>TERMINATED</td><td>172.31.181.85:238122</td><td>True       </td><td>                  </td><td>abundance_ith     </td><td style=\"text-align: right;\">                 9</td><td style=\"text-align: right;\">                  </td><td>                </td><td style=\"text-align: right;\">          4</td><td>0.5           </td><td style=\"text-align: right;\">0.370869   </td><td style=\"text-align: right;\">        0.00155606</td><td style=\"text-align: right;\">         0.0144448 </td><td style=\"text-align: right;\">0.00323263 </td><td>rf     </td><td style=\"text-align: right;\">            40</td><td style=\"text-align: right;\">     1</td><td style=\"text-align: right;\">        0.23416 </td><td style=\"text-align: right;\">  0.423113</td><td style=\"text-align: right;\">    0.355482</td><td style=\"text-align: right;\">-1.13718 </td></tr>\n",
       "<tr><td>train_rf_c2681ec3</td><td>TERMINATED</td><td>172.31.181.85:238182</td><td>True       </td><td>                  </td><td>variance_threshold</td><td style=\"text-align: right;\">                  </td><td style=\"text-align: right;\">       2.67422e-05</td><td>                </td><td style=\"text-align: right;\">          4</td><td>0.5           </td><td style=\"text-align: right;\">0.368214   </td><td style=\"text-align: right;\">        0.00113513</td><td style=\"text-align: right;\">         0.0144408 </td><td style=\"text-align: right;\">0.00322794 </td><td>rf     </td><td style=\"text-align: right;\">            40</td><td style=\"text-align: right;\">     1</td><td style=\"text-align: right;\">        0.224979</td><td style=\"text-align: right;\">  0.488088</td><td style=\"text-align: right;\">    0.553252</td><td style=\"text-align: right;\">-1.84398 </td></tr>\n",
       "<tr><td>train_rf_07204029</td><td>TERMINATED</td><td>172.31.181.85:238270</td><td>True       </td><td>                  </td><td>variance_threshold</td><td style=\"text-align: right;\">                  </td><td style=\"text-align: right;\">       0.000128978</td><td>                </td><td style=\"text-align: right;\">          4</td><td>0.5           </td><td style=\"text-align: right;\">0.330091   </td><td style=\"text-align: right;\">        0.00110895</td><td style=\"text-align: right;\">         0.0237209 </td><td style=\"text-align: right;\">0.00372211 </td><td>rf     </td><td style=\"text-align: right;\">            40</td><td style=\"text-align: right;\">     1</td><td style=\"text-align: right;\">        0.226398</td><td style=\"text-align: right;\">  0.620172</td><td style=\"text-align: right;\">    0.480997</td><td style=\"text-align: right;\">-3.59148 </td></tr>\n",
       "<tr><td>train_rf_6572f7dc</td><td>TERMINATED</td><td>172.31.181.85:238333</td><td>True       </td><td>                  </td><td>abundance_ith     </td><td style=\"text-align: right;\">                10</td><td style=\"text-align: right;\">                  </td><td>                </td><td style=\"text-align: right;\">          4</td><td>0.5           </td><td style=\"text-align: right;\">0.328191   </td><td style=\"text-align: right;\">        0.00117265</td><td style=\"text-align: right;\">         0.0232241 </td><td style=\"text-align: right;\">0.00279976 </td><td>rf     </td><td style=\"text-align: right;\">            40</td><td style=\"text-align: right;\">     1</td><td style=\"text-align: right;\">        0.243075</td><td style=\"text-align: right;\">  0.388908</td><td style=\"text-align: right;\">    0.35498 </td><td style=\"text-align: right;\">-0.80561 </td></tr>\n",
       "<tr><td>train_rf_c04b38b7</td><td>TERMINATED</td><td>172.31.181.85:238399</td><td>True       </td><td>                  </td><td>abundance_ith     </td><td style=\"text-align: right;\">                10</td><td style=\"text-align: right;\">                  </td><td>                </td><td style=\"text-align: right;\">          4</td><td>0.5           </td><td style=\"text-align: right;\">0.324946   </td><td style=\"text-align: right;\">        0.00119855</td><td style=\"text-align: right;\">         0.0269703 </td><td style=\"text-align: right;\">0.00280553 </td><td>rf     </td><td style=\"text-align: right;\">            40</td><td style=\"text-align: right;\">     1</td><td style=\"text-align: right;\">        0.242607</td><td style=\"text-align: right;\">  0.388908</td><td style=\"text-align: right;\">    0.35498 </td><td style=\"text-align: right;\">-0.80561 </td></tr>\n",
       "<tr><td>train_rf_17bd4161</td><td>TERMINATED</td><td>172.31.181.85:238457</td><td>True       </td><td>                  </td><td>abundance_ith     </td><td style=\"text-align: right;\">                10</td><td style=\"text-align: right;\">                  </td><td>                </td><td style=\"text-align: right;\">          4</td><td>0.5           </td><td style=\"text-align: right;\">0.327908   </td><td style=\"text-align: right;\">        0.0013917 </td><td style=\"text-align: right;\">         0.0265055 </td><td style=\"text-align: right;\">0.0024141  </td><td>rf     </td><td style=\"text-align: right;\">            40</td><td style=\"text-align: right;\">     1</td><td style=\"text-align: right;\">        0.235991</td><td style=\"text-align: right;\">  0.388908</td><td style=\"text-align: right;\">    0.35498 </td><td style=\"text-align: right;\">-0.80561 </td></tr>\n",
       "<tr><td>train_rf_2e86d8b7</td><td>TERMINATED</td><td>172.31.181.85:238558</td><td>True       </td><td>                  </td><td>abundance_ith     </td><td style=\"text-align: right;\">                10</td><td style=\"text-align: right;\">                  </td><td>                </td><td style=\"text-align: right;\">          4</td><td>0.5           </td><td style=\"text-align: right;\">0.326413   </td><td style=\"text-align: right;\">        0.00143969</td><td style=\"text-align: right;\">         0.02689   </td><td style=\"text-align: right;\">0.00288904 </td><td>rf     </td><td style=\"text-align: right;\">            40</td><td style=\"text-align: right;\">     1</td><td style=\"text-align: right;\">        0.238793</td><td style=\"text-align: right;\">  0.388908</td><td style=\"text-align: right;\">    0.35498 </td><td style=\"text-align: right;\">-0.80561 </td></tr>\n",
       "<tr><td>train_rf_eec3f866</td><td>TERMINATED</td><td>172.31.181.85:238617</td><td>True       </td><td>                  </td><td>abundance_ith     </td><td style=\"text-align: right;\">                10</td><td style=\"text-align: right;\">                  </td><td>                </td><td style=\"text-align: right;\">          4</td><td>0.5           </td><td style=\"text-align: right;\">0.322677   </td><td style=\"text-align: right;\">        0.0012361 </td><td style=\"text-align: right;\">         0.0278957 </td><td style=\"text-align: right;\">0.0025758  </td><td>rf     </td><td style=\"text-align: right;\">            40</td><td style=\"text-align: right;\">     1</td><td style=\"text-align: right;\">        0.239868</td><td style=\"text-align: right;\">  0.388908</td><td style=\"text-align: right;\">    0.35498 </td><td style=\"text-align: right;\">-0.80561 </td></tr>\n",
       "<tr><td>train_rf_b141a625</td><td>TERMINATED</td><td>172.31.181.85:238680</td><td>True       </td><td>                  </td><td>abundance_ith     </td><td style=\"text-align: right;\">                10</td><td style=\"text-align: right;\">                  </td><td>                </td><td style=\"text-align: right;\">          4</td><td>0.5           </td><td style=\"text-align: right;\">0.322432   </td><td style=\"text-align: right;\">        0.00120513</td><td style=\"text-align: right;\">         0.0282308 </td><td style=\"text-align: right;\">0.00265915 </td><td>rf     </td><td style=\"text-align: right;\">            40</td><td style=\"text-align: right;\">     1</td><td style=\"text-align: right;\">        0.242507</td><td style=\"text-align: right;\">  0.388908</td><td style=\"text-align: right;\">    0.35498 </td><td style=\"text-align: right;\">-0.80561 </td></tr>\n",
       "<tr><td>train_rf_2b8aef9b</td><td>TERMINATED</td><td>172.31.181.85:238740</td><td>True       </td><td>                  </td><td>abundance_ith     </td><td style=\"text-align: right;\">                10</td><td style=\"text-align: right;\">                  </td><td>                </td><td style=\"text-align: right;\">          4</td><td>0.5           </td><td style=\"text-align: right;\">0.322794   </td><td style=\"text-align: right;\">        0.00122715</td><td style=\"text-align: right;\">         0.0281655 </td><td style=\"text-align: right;\">0.00254455 </td><td>rf     </td><td style=\"text-align: right;\">            40</td><td style=\"text-align: right;\">     1</td><td style=\"text-align: right;\">        0.298765</td><td style=\"text-align: right;\">  0.388908</td><td style=\"text-align: right;\">    0.35498 </td><td style=\"text-align: right;\">-0.80561 </td></tr>\n",
       "<tr><td>train_rf_2239bc7f</td><td>TERMINATED</td><td>172.31.181.85:238837</td><td>True       </td><td>                  </td><td>abundance_ith     </td><td style=\"text-align: right;\">                10</td><td style=\"text-align: right;\">                  </td><td>                </td><td style=\"text-align: right;\">          4</td><td>0.5           </td><td style=\"text-align: right;\">0.322313   </td><td style=\"text-align: right;\">        0.00118675</td><td style=\"text-align: right;\">         0.0268921 </td><td style=\"text-align: right;\">0.00240155 </td><td>rf     </td><td style=\"text-align: right;\">            40</td><td style=\"text-align: right;\">     1</td><td style=\"text-align: right;\">        0.241545</td><td style=\"text-align: right;\">  0.388908</td><td style=\"text-align: right;\">    0.35498 </td><td style=\"text-align: right;\">-0.80561 </td></tr>\n",
       "<tr><td>train_rf_6776a09b</td><td>TERMINATED</td><td>172.31.181.85:238895</td><td>True       </td><td>                  </td><td>abundance_ith     </td><td style=\"text-align: right;\">                10</td><td style=\"text-align: right;\">                  </td><td>                </td><td style=\"text-align: right;\">          4</td><td>0.5           </td><td style=\"text-align: right;\">0.291108   </td><td style=\"text-align: right;\">        0.00119048</td><td style=\"text-align: right;\">         0.033896  </td><td style=\"text-align: right;\">0.00275759 </td><td>rf     </td><td style=\"text-align: right;\">            40</td><td style=\"text-align: right;\">     1</td><td style=\"text-align: right;\">        0.242977</td><td style=\"text-align: right;\">  0.388908</td><td style=\"text-align: right;\">    0.35498 </td><td style=\"text-align: right;\">-0.80561 </td></tr>\n",
       "<tr><td>train_rf_4964a740</td><td>TERMINATED</td><td>172.31.181.85:238967</td><td>True       </td><td>                  </td><td>abundance_ith     </td><td style=\"text-align: right;\">                10</td><td style=\"text-align: right;\">                  </td><td>                </td><td style=\"text-align: right;\">          4</td><td>0.5           </td><td style=\"text-align: right;\">0.354136   </td><td style=\"text-align: right;\">        0.00133427</td><td style=\"text-align: right;\">         0.0313132 </td><td style=\"text-align: right;\">0.00277995 </td><td>rf     </td><td style=\"text-align: right;\">            40</td><td style=\"text-align: right;\">     1</td><td style=\"text-align: right;\">        0.242498</td><td style=\"text-align: right;\">  0.388908</td><td style=\"text-align: right;\">    0.35498 </td><td style=\"text-align: right;\">-0.80561 </td></tr>\n",
       "<tr><td>train_rf_8a5fdd5b</td><td>TERMINATED</td><td>172.31.181.85:239028</td><td>True       </td><td>                  </td><td>abundance_ith     </td><td style=\"text-align: right;\">                 9</td><td style=\"text-align: right;\">                  </td><td>                </td><td style=\"text-align: right;\">         32</td><td>log2          </td><td style=\"text-align: right;\">0.309132   </td><td style=\"text-align: right;\">        0.00133289</td><td style=\"text-align: right;\">         0.0309157 </td><td style=\"text-align: right;\">0.00288726 </td><td>rf     </td><td style=\"text-align: right;\">            40</td><td style=\"text-align: right;\">     1</td><td style=\"text-align: right;\">        0.262235</td><td style=\"text-align: right;\">  0.446418</td><td style=\"text-align: right;\">    0.322891</td><td style=\"text-align: right;\">-1.3791  </td></tr>\n",
       "<tr><td>train_rf_3e11e99a</td><td>TERMINATED</td><td>172.31.181.85:239086</td><td>True       </td><td>                  </td><td>abundance_ith     </td><td style=\"text-align: right;\">                 9</td><td style=\"text-align: right;\">                  </td><td>                </td><td style=\"text-align: right;\">           </td><td>log2          </td><td style=\"text-align: right;\">0.355714   </td><td style=\"text-align: right;\">        0.00130494</td><td style=\"text-align: right;\">         0.0252035 </td><td style=\"text-align: right;\">0.00236351 </td><td>rf     </td><td style=\"text-align: right;\">            40</td><td style=\"text-align: right;\">     1</td><td style=\"text-align: right;\">        0.257299</td><td style=\"text-align: right;\">  0.446418</td><td style=\"text-align: right;\">    0.322891</td><td style=\"text-align: right;\">-1.3791  </td></tr>\n",
       "<tr><td>train_rf_addcadc1</td><td>TERMINATED</td><td>172.31.181.85:239150</td><td>True       </td><td>                  </td><td>abundance_ith     </td><td style=\"text-align: right;\">                 9</td><td style=\"text-align: right;\">                  </td><td>                </td><td style=\"text-align: right;\">          4</td><td>0.5           </td><td style=\"text-align: right;\">0.309547   </td><td style=\"text-align: right;\">        0.00166469</td><td style=\"text-align: right;\">         0.0250244 </td><td style=\"text-align: right;\">0.00269923 </td><td>rf     </td><td style=\"text-align: right;\">            40</td><td style=\"text-align: right;\">     1</td><td style=\"text-align: right;\">        0.24099 </td><td style=\"text-align: right;\">  0.423113</td><td style=\"text-align: right;\">    0.355482</td><td style=\"text-align: right;\">-1.13718 </td></tr>\n",
       "<tr><td>train_rf_5a98172d</td><td>TERMINATED</td><td>172.31.181.85:239209</td><td>True       </td><td>                  </td><td>abundance_ith     </td><td style=\"text-align: right;\">                10</td><td style=\"text-align: right;\">                  </td><td>                </td><td style=\"text-align: right;\">          4</td><td>0.5           </td><td style=\"text-align: right;\">0.311585   </td><td style=\"text-align: right;\">        0.0010256 </td><td style=\"text-align: right;\">         0.0286444 </td><td style=\"text-align: right;\">0.00256026 </td><td>rf     </td><td style=\"text-align: right;\">            40</td><td style=\"text-align: right;\">     1</td><td style=\"text-align: right;\">        0.23412 </td><td style=\"text-align: right;\">  0.388908</td><td style=\"text-align: right;\">    0.35498 </td><td style=\"text-align: right;\">-0.80561 </td></tr>\n",
       "<tr><td>train_rf_688be379</td><td>TERMINATED</td><td>172.31.181.85:239272</td><td>True       </td><td>                  </td><td>abundance_ith     </td><td style=\"text-align: right;\">                10</td><td style=\"text-align: right;\">                  </td><td>                </td><td style=\"text-align: right;\">          4</td><td>0.5           </td><td style=\"text-align: right;\">0.326171   </td><td style=\"text-align: right;\">        0.00124182</td><td style=\"text-align: right;\">         0.0276058 </td><td style=\"text-align: right;\">0.00256083 </td><td>rf     </td><td style=\"text-align: right;\">            40</td><td style=\"text-align: right;\">     1</td><td style=\"text-align: right;\">        0.240894</td><td style=\"text-align: right;\">  0.388908</td><td style=\"text-align: right;\">    0.35498 </td><td style=\"text-align: right;\">-0.80561 </td></tr>\n",
       "<tr><td>train_rf_b095ff58</td><td>TERMINATED</td><td>172.31.181.85:239333</td><td>True       </td><td>                  </td><td>abundance_ith     </td><td style=\"text-align: right;\">                10</td><td style=\"text-align: right;\">                  </td><td>                </td><td style=\"text-align: right;\">          4</td><td>0.5           </td><td style=\"text-align: right;\">0.326446   </td><td style=\"text-align: right;\">        0.00120373</td><td style=\"text-align: right;\">         0.0289108 </td><td style=\"text-align: right;\">0.00253254 </td><td>rf     </td><td style=\"text-align: right;\">            40</td><td style=\"text-align: right;\">     1</td><td style=\"text-align: right;\">        0.239566</td><td style=\"text-align: right;\">  0.388908</td><td style=\"text-align: right;\">    0.35498 </td><td style=\"text-align: right;\">-0.80561 </td></tr>\n",
       "<tr><td>train_rf_68b9b603</td><td>TERMINATED</td><td>172.31.181.85:239427</td><td>True       </td><td>                  </td><td>abundance_ith     </td><td style=\"text-align: right;\">                10</td><td style=\"text-align: right;\">                  </td><td>                </td><td style=\"text-align: right;\">          4</td><td>0.5           </td><td style=\"text-align: right;\">0.375995   </td><td style=\"text-align: right;\">        0.0018013 </td><td style=\"text-align: right;\">         0.0235282 </td><td style=\"text-align: right;\">0.00295844 </td><td>rf     </td><td style=\"text-align: right;\">            40</td><td style=\"text-align: right;\">     1</td><td style=\"text-align: right;\">        0.234947</td><td style=\"text-align: right;\">  0.388908</td><td style=\"text-align: right;\">    0.35498 </td><td style=\"text-align: right;\">-0.80561 </td></tr>\n",
       "<tr><td>train_rf_e28c047a</td><td>TERMINATED</td><td>172.31.181.85:239491</td><td>True       </td><td>                  </td><td>abundance_ith     </td><td style=\"text-align: right;\">                11</td><td style=\"text-align: right;\">                  </td><td>                </td><td style=\"text-align: right;\">          4</td><td>0.5           </td><td style=\"text-align: right;\">0.372264   </td><td style=\"text-align: right;\">        0.00175701</td><td style=\"text-align: right;\">         0.025599  </td><td style=\"text-align: right;\">0.0029268  </td><td>rf     </td><td style=\"text-align: right;\">            40</td><td style=\"text-align: right;\">     1</td><td style=\"text-align: right;\">        0.239599</td><td style=\"text-align: right;\">  0.397306</td><td style=\"text-align: right;\">    0.356707</td><td style=\"text-align: right;\">-0.884432</td></tr>\n",
       "<tr><td>train_rf_b1e0926c</td><td>TERMINATED</td><td>172.31.181.85:239550</td><td>True       </td><td>                  </td><td>abundance_ith     </td><td style=\"text-align: right;\">                11</td><td style=\"text-align: right;\">                  </td><td>                </td><td style=\"text-align: right;\">          4</td><td>0.5           </td><td style=\"text-align: right;\">0.291941   </td><td style=\"text-align: right;\">        0.00100334</td><td style=\"text-align: right;\">         0.0342063 </td><td style=\"text-align: right;\">0.00300436 </td><td>rf     </td><td style=\"text-align: right;\">            40</td><td style=\"text-align: right;\">     1</td><td style=\"text-align: right;\">        0.236339</td><td style=\"text-align: right;\">  0.397306</td><td style=\"text-align: right;\">    0.356707</td><td style=\"text-align: right;\">-0.884432</td></tr>\n",
       "<tr><td>train_rf_8ed960e7</td><td>TERMINATED</td><td>172.31.181.85:239613</td><td>True       </td><td>                  </td><td>abundance_ith     </td><td style=\"text-align: right;\">                10</td><td style=\"text-align: right;\">                  </td><td>                </td><td style=\"text-align: right;\">          4</td><td>0.5           </td><td style=\"text-align: right;\">0.290948   </td><td style=\"text-align: right;\">        0.00139893</td><td style=\"text-align: right;\">         0.0350749 </td><td style=\"text-align: right;\">0.00235358 </td><td>rf     </td><td style=\"text-align: right;\">            40</td><td style=\"text-align: right;\">     1</td><td style=\"text-align: right;\">        0.240151</td><td style=\"text-align: right;\">  0.388908</td><td style=\"text-align: right;\">    0.35498 </td><td style=\"text-align: right;\">-0.80561 </td></tr>\n",
       "<tr><td>train_rf_44544676</td><td>TERMINATED</td><td>172.31.181.85:239672</td><td>True       </td><td>                  </td><td>abundance_ith     </td><td style=\"text-align: right;\">                10</td><td style=\"text-align: right;\">                  </td><td>                </td><td style=\"text-align: right;\">          4</td><td>0.5           </td><td style=\"text-align: right;\">0.318932   </td><td style=\"text-align: right;\">        0.00137984</td><td style=\"text-align: right;\">         0.0233209 </td><td style=\"text-align: right;\">0.00231691 </td><td>rf     </td><td style=\"text-align: right;\">            40</td><td style=\"text-align: right;\">     1</td><td style=\"text-align: right;\">        0.24045 </td><td style=\"text-align: right;\">  0.388908</td><td style=\"text-align: right;\">    0.35498 </td><td style=\"text-align: right;\">-0.80561 </td></tr>\n",
       "<tr><td>train_rf_7b6f7707</td><td>TERMINATED</td><td>172.31.181.85:239730</td><td>True       </td><td>                  </td><td>abundance_ith     </td><td style=\"text-align: right;\">                10</td><td style=\"text-align: right;\">                  </td><td>                </td><td style=\"text-align: right;\">          4</td><td>0.1           </td><td style=\"text-align: right;\">0.362725   </td><td style=\"text-align: right;\">        0.00161011</td><td style=\"text-align: right;\">         0.0227406 </td><td style=\"text-align: right;\">0.0001618  </td><td>rf     </td><td style=\"text-align: right;\">            40</td><td style=\"text-align: right;\">     1</td><td style=\"text-align: right;\">        0.236465</td><td style=\"text-align: right;\">  0.388908</td><td style=\"text-align: right;\">    0.35498 </td><td style=\"text-align: right;\">-0.80561 </td></tr>\n",
       "<tr><td>train_rf_a64d46ef</td><td>TERMINATED</td><td>172.31.181.85:239793</td><td>True       </td><td>                  </td><td>abundance_ith     </td><td style=\"text-align: right;\">                 9</td><td style=\"text-align: right;\">                  </td><td>                </td><td style=\"text-align: right;\">          4</td><td>0.5           </td><td style=\"text-align: right;\">0.348737   </td><td style=\"text-align: right;\">        0.001608  </td><td style=\"text-align: right;\">         0.029747  </td><td style=\"text-align: right;\">0.00266593 </td><td>rf     </td><td style=\"text-align: right;\">            40</td><td style=\"text-align: right;\">     1</td><td style=\"text-align: right;\">        0.235344</td><td style=\"text-align: right;\">  0.423113</td><td style=\"text-align: right;\">    0.355482</td><td style=\"text-align: right;\">-1.13718 </td></tr>\n",
       "<tr><td>train_rf_23e632e3</td><td>TERMINATED</td><td>172.31.181.85:239853</td><td>True       </td><td>                  </td><td>abundance_ith     </td><td style=\"text-align: right;\">                 9</td><td style=\"text-align: right;\">                  </td><td>                </td><td style=\"text-align: right;\">          4</td><td>0.5           </td><td style=\"text-align: right;\">0.319222   </td><td style=\"text-align: right;\">        0.0011768 </td><td style=\"text-align: right;\">         0.0272947 </td><td style=\"text-align: right;\">0.00266663 </td><td>rf     </td><td style=\"text-align: right;\">            40</td><td style=\"text-align: right;\">     1</td><td style=\"text-align: right;\">        0.240022</td><td style=\"text-align: right;\">  0.423113</td><td style=\"text-align: right;\">    0.355482</td><td style=\"text-align: right;\">-1.13718 </td></tr>\n",
       "<tr><td>train_rf_b898686d</td><td>TERMINATED</td><td>172.31.181.85:239944</td><td>True       </td><td>                  </td><td>abundance_ith     </td><td style=\"text-align: right;\">                10</td><td style=\"text-align: right;\">                  </td><td>                </td><td style=\"text-align: right;\">          4</td><td>0.5           </td><td style=\"text-align: right;\">0.32867    </td><td style=\"text-align: right;\">        0.0011503 </td><td style=\"text-align: right;\">         0.0274084 </td><td style=\"text-align: right;\">0.00246364 </td><td>rf     </td><td style=\"text-align: right;\">            40</td><td style=\"text-align: right;\">     1</td><td style=\"text-align: right;\">        0.237998</td><td style=\"text-align: right;\">  0.388908</td><td style=\"text-align: right;\">    0.35498 </td><td style=\"text-align: right;\">-0.80561 </td></tr>\n",
       "<tr><td>train_rf_9f97c383</td><td>TERMINATED</td><td>172.31.181.85:240004</td><td>True       </td><td>                  </td><td>abundance_ith     </td><td style=\"text-align: right;\">                10</td><td style=\"text-align: right;\">                  </td><td>                </td><td style=\"text-align: right;\">          4</td><td>0.5           </td><td style=\"text-align: right;\">0.330206   </td><td style=\"text-align: right;\">        0.00115162</td><td style=\"text-align: right;\">         0.0269381 </td><td style=\"text-align: right;\">0.00240519 </td><td>rf     </td><td style=\"text-align: right;\">            40</td><td style=\"text-align: right;\">     1</td><td style=\"text-align: right;\">        0.237525</td><td style=\"text-align: right;\">  0.388908</td><td style=\"text-align: right;\">    0.35498 </td><td style=\"text-align: right;\">-0.80561 </td></tr>\n",
       "<tr><td>train_rf_0b30f7ba</td><td>TERMINATED</td><td>172.31.181.85:240068</td><td>True       </td><td>                  </td><td>abundance_ith     </td><td style=\"text-align: right;\">                10</td><td style=\"text-align: right;\">                  </td><td>                </td><td style=\"text-align: right;\">          4</td><td>0.5           </td><td style=\"text-align: right;\">0.272111   </td><td style=\"text-align: right;\">        0.00126175</td><td style=\"text-align: right;\">         0.026217  </td><td style=\"text-align: right;\">0.00282306 </td><td>rf     </td><td style=\"text-align: right;\">            40</td><td style=\"text-align: right;\">     1</td><td style=\"text-align: right;\">        0.244995</td><td style=\"text-align: right;\">  0.388908</td><td style=\"text-align: right;\">    0.35498 </td><td style=\"text-align: right;\">-0.80561 </td></tr>\n",
       "<tr><td>train_rf_30c6d41e</td><td>TERMINATED</td><td>172.31.181.85:240130</td><td>True       </td><td>                  </td><td>abundance_ith     </td><td style=\"text-align: right;\">                11</td><td style=\"text-align: right;\">                  </td><td>                </td><td style=\"text-align: right;\">          4</td><td>              </td><td style=\"text-align: right;\">0.305236   </td><td style=\"text-align: right;\">        0.00127433</td><td style=\"text-align: right;\">         0.0253394 </td><td style=\"text-align: right;\">0.0030315  </td><td>rf     </td><td style=\"text-align: right;\">            40</td><td style=\"text-align: right;\">     1</td><td style=\"text-align: right;\">        0.24034 </td><td style=\"text-align: right;\">  0.397306</td><td style=\"text-align: right;\">    0.356707</td><td style=\"text-align: right;\">-0.884432</td></tr>\n",
       "<tr><td>train_rf_6f0878f8</td><td>TERMINATED</td><td>172.31.181.85:240189</td><td>True       </td><td>                  </td><td>abundance_ith     </td><td style=\"text-align: right;\">                11</td><td style=\"text-align: right;\">                  </td><td>                </td><td style=\"text-align: right;\">          4</td><td>0.5           </td><td style=\"text-align: right;\">0.306543   </td><td style=\"text-align: right;\">        0.00108594</td><td style=\"text-align: right;\">         0.0312486 </td><td style=\"text-align: right;\">0.00306292 </td><td>rf     </td><td style=\"text-align: right;\">            40</td><td style=\"text-align: right;\">     1</td><td style=\"text-align: right;\">        0.237973</td><td style=\"text-align: right;\">  0.397306</td><td style=\"text-align: right;\">    0.356707</td><td style=\"text-align: right;\">-0.884432</td></tr>\n",
       "<tr><td>train_rf_58f29c3a</td><td>TERMINATED</td><td>172.31.181.85:240284</td><td>True       </td><td>                  </td><td>abundance_ith     </td><td style=\"text-align: right;\">                11</td><td style=\"text-align: right;\">                  </td><td>                </td><td style=\"text-align: right;\">          4</td><td>0.3           </td><td style=\"text-align: right;\">0.349578   </td><td style=\"text-align: right;\">        0.00108124</td><td style=\"text-align: right;\">         0.0318201 </td><td style=\"text-align: right;\">0.00215681 </td><td>rf     </td><td style=\"text-align: right;\">            40</td><td style=\"text-align: right;\">     1</td><td style=\"text-align: right;\">        0.244432</td><td style=\"text-align: right;\">  0.397306</td><td style=\"text-align: right;\">    0.356707</td><td style=\"text-align: right;\">-0.884432</td></tr>\n",
       "<tr><td>train_rf_e3aa3c6e</td><td>TERMINATED</td><td>172.31.181.85:240346</td><td>True       </td><td>                  </td><td>abundance_ith     </td><td style=\"text-align: right;\">                 9</td><td style=\"text-align: right;\">                  </td><td>                </td><td style=\"text-align: right;\">          8</td><td>0.5           </td><td style=\"text-align: right;\">0.347171   </td><td style=\"text-align: right;\">        0.00139526</td><td style=\"text-align: right;\">         0.0224619 </td><td style=\"text-align: right;\">0.00216707 </td><td>rf     </td><td style=\"text-align: right;\">            40</td><td style=\"text-align: right;\">     1</td><td style=\"text-align: right;\">        0.254356</td><td style=\"text-align: right;\">  0.436846</td><td style=\"text-align: right;\">    0.320591</td><td style=\"text-align: right;\">-1.27817 </td></tr>\n",
       "<tr><td>train_rf_6e15faa1</td><td>TERMINATED</td><td>172.31.181.85:240406</td><td>True       </td><td>                  </td><td>abundance_ith     </td><td style=\"text-align: right;\">                10</td><td style=\"text-align: right;\">                  </td><td>                </td><td style=\"text-align: right;\">          8</td><td>0.5           </td><td style=\"text-align: right;\">0.319481   </td><td style=\"text-align: right;\">        0.00142942</td><td style=\"text-align: right;\">         0.0227379 </td><td style=\"text-align: right;\">0.00344256 </td><td>rf     </td><td style=\"text-align: right;\">            40</td><td style=\"text-align: right;\">     1</td><td style=\"text-align: right;\">        0.25401 </td><td style=\"text-align: right;\">  0.398829</td><td style=\"text-align: right;\">    0.326375</td><td style=\"text-align: right;\">-0.898903</td></tr>\n",
       "<tr><td>train_rf_a025c000</td><td>TERMINATED</td><td>172.31.181.85:240465</td><td>True       </td><td>                  </td><td>abundance_ith     </td><td style=\"text-align: right;\">                10</td><td style=\"text-align: right;\">                  </td><td>                </td><td style=\"text-align: right;\">          4</td><td>0.5           </td><td style=\"text-align: right;\">0.318042   </td><td style=\"text-align: right;\">        0.00209852</td><td style=\"text-align: right;\">         0.0230334 </td><td style=\"text-align: right;\">0.00341248 </td><td>rf     </td><td style=\"text-align: right;\">            40</td><td style=\"text-align: right;\">     1</td><td style=\"text-align: right;\">        0.240157</td><td style=\"text-align: right;\">  0.388908</td><td style=\"text-align: right;\">    0.35498 </td><td style=\"text-align: right;\">-0.80561 </td></tr>\n",
       "<tr><td>train_rf_cf268b32</td><td>TERMINATED</td><td>172.31.181.85:240556</td><td>True       </td><td>                  </td><td>abundance_ith     </td><td style=\"text-align: right;\">                10</td><td style=\"text-align: right;\">                  </td><td>                </td><td style=\"text-align: right;\">          4</td><td>0.5           </td><td style=\"text-align: right;\">0.326042   </td><td style=\"text-align: right;\">        0.00120272</td><td style=\"text-align: right;\">         0.0347229 </td><td style=\"text-align: right;\">0.00275658 </td><td>rf     </td><td style=\"text-align: right;\">            40</td><td style=\"text-align: right;\">     1</td><td style=\"text-align: right;\">        0.244384</td><td style=\"text-align: right;\">  0.388908</td><td style=\"text-align: right;\">    0.35498 </td><td style=\"text-align: right;\">-0.80561 </td></tr>\n",
       "<tr><td>train_rf_1da1f49c</td><td>TERMINATED</td><td>172.31.181.85:240621</td><td>True       </td><td>                  </td><td>abundance_ith     </td><td style=\"text-align: right;\">                10</td><td style=\"text-align: right;\">                  </td><td>                </td><td style=\"text-align: right;\">          4</td><td>0.5           </td><td style=\"text-align: right;\">0.294551   </td><td style=\"text-align: right;\">        0.00119711</td><td style=\"text-align: right;\">         0.0337764 </td><td style=\"text-align: right;\">0.0027765  </td><td>rf     </td><td style=\"text-align: right;\">            40</td><td style=\"text-align: right;\">     1</td><td style=\"text-align: right;\">        0.248991</td><td style=\"text-align: right;\">  0.388908</td><td style=\"text-align: right;\">    0.35498 </td><td style=\"text-align: right;\">-0.80561 </td></tr>\n",
       "<tr><td>train_rf_bdf824ef</td><td>TERMINATED</td><td>172.31.181.85:240680</td><td>True       </td><td>                  </td><td>abundance_ith     </td><td style=\"text-align: right;\">                 9</td><td style=\"text-align: right;\">                  </td><td>                </td><td style=\"text-align: right;\">          4</td><td>0.5           </td><td style=\"text-align: right;\">0.36484    </td><td style=\"text-align: right;\">        0.00117115</td><td style=\"text-align: right;\">         0.0256055 </td><td style=\"text-align: right;\">0.00282845 </td><td>rf     </td><td style=\"text-align: right;\">            40</td><td style=\"text-align: right;\">     1</td><td style=\"text-align: right;\">        0.238095</td><td style=\"text-align: right;\">  0.423113</td><td style=\"text-align: right;\">    0.355482</td><td style=\"text-align: right;\">-1.13718 </td></tr>\n",
       "<tr><td>train_rf_b8d38519</td><td>TERMINATED</td><td>172.31.181.85:240744</td><td>True       </td><td>                  </td><td>abundance_ith     </td><td style=\"text-align: right;\">                 9</td><td style=\"text-align: right;\">                  </td><td>                </td><td style=\"text-align: right;\">          4</td><td>0.5           </td><td style=\"text-align: right;\">0.239632   </td><td style=\"text-align: right;\">        0.00100436</td><td style=\"text-align: right;\">         0.0293006 </td><td style=\"text-align: right;\">0.00312679 </td><td>rf     </td><td style=\"text-align: right;\">            40</td><td style=\"text-align: right;\">     1</td><td style=\"text-align: right;\">        0.23549 </td><td style=\"text-align: right;\">  0.423113</td><td style=\"text-align: right;\">    0.355482</td><td style=\"text-align: right;\">-1.13718 </td></tr>\n",
       "<tr><td>train_rf_427cb8cb</td><td>TERMINATED</td><td>172.31.181.85:240803</td><td>True       </td><td>                  </td><td>abundance_ith     </td><td style=\"text-align: right;\">                10</td><td style=\"text-align: right;\">                  </td><td>                </td><td style=\"text-align: right;\">          4</td><td>0.5           </td><td style=\"text-align: right;\">0.343584   </td><td style=\"text-align: right;\">        0.00156274</td><td style=\"text-align: right;\">         0.0298828 </td><td style=\"text-align: right;\">0.00309787 </td><td>rf     </td><td style=\"text-align: right;\">            40</td><td style=\"text-align: right;\">     1</td><td style=\"text-align: right;\">        0.234999</td><td style=\"text-align: right;\">  0.388908</td><td style=\"text-align: right;\">    0.35498 </td><td style=\"text-align: right;\">-0.80561 </td></tr>\n",
       "<tr><td>train_rf_c4c984a5</td><td>TERMINATED</td><td>172.31.181.85:240862</td><td>True       </td><td>                  </td><td>abundance_ith     </td><td style=\"text-align: right;\">                10</td><td style=\"text-align: right;\">                  </td><td>                </td><td style=\"text-align: right;\">          4</td><td>0.5           </td><td style=\"text-align: right;\">0.379739   </td><td style=\"text-align: right;\">        0.00155702</td><td style=\"text-align: right;\">         0.0280005 </td><td style=\"text-align: right;\">0.00249609 </td><td>rf     </td><td style=\"text-align: right;\">            40</td><td style=\"text-align: right;\">     1</td><td style=\"text-align: right;\">        0.238778</td><td style=\"text-align: right;\">  0.388908</td><td style=\"text-align: right;\">    0.35498 </td><td style=\"text-align: right;\">-0.80561 </td></tr>\n",
       "<tr><td>train_rf_e722c9b5</td><td>TERMINATED</td><td>172.31.181.85:240916</td><td>True       </td><td>                  </td><td>abundance_ith     </td><td style=\"text-align: right;\">                11</td><td style=\"text-align: right;\">                  </td><td>                </td><td style=\"text-align: right;\">          4</td><td>0.5           </td><td style=\"text-align: right;\">0.380029   </td><td style=\"text-align: right;\">        0.00125368</td><td style=\"text-align: right;\">         0.0274462 </td><td style=\"text-align: right;\">0.00254202 </td><td>rf     </td><td style=\"text-align: right;\">            40</td><td style=\"text-align: right;\">     1</td><td style=\"text-align: right;\">        0.238461</td><td style=\"text-align: right;\">  0.397306</td><td style=\"text-align: right;\">    0.356707</td><td style=\"text-align: right;\">-0.884432</td></tr>\n",
       "<tr><td>train_rf_5dae1f22</td><td>TERMINATED</td><td>172.31.181.85:240977</td><td>True       </td><td>                  </td><td>abundance_ith     </td><td style=\"text-align: right;\">                11</td><td style=\"text-align: right;\">                  </td><td>                </td><td style=\"text-align: right;\">          4</td><td>0.5           </td><td style=\"text-align: right;\">0.32733    </td><td style=\"text-align: right;\">        0.00131729</td><td style=\"text-align: right;\">         0.0255942 </td><td style=\"text-align: right;\">0.00263429 </td><td>rf     </td><td style=\"text-align: right;\">           180</td><td style=\"text-align: right;\">     1</td><td style=\"text-align: right;\">        0.44962 </td><td style=\"text-align: right;\">  0.421782</td><td style=\"text-align: right;\">    0.366665</td><td style=\"text-align: right;\">-1.12376 </td></tr>\n",
       "</tbody>\n",
       "</table>\n",
       "  </div>\n",
       "</div>\n",
       "<style>\n",
       ".tuneStatus {\n",
       "  color: var(--jp-ui-font-color1);\n",
       "}\n",
       ".tuneStatus .systemInfo {\n",
       "  display: flex;\n",
       "  flex-direction: column;\n",
       "}\n",
       ".tuneStatus td {\n",
       "  white-space: nowrap;\n",
       "}\n",
       ".tuneStatus .trialStatus {\n",
       "  display: flex;\n",
       "  flex-direction: column;\n",
       "}\n",
       ".tuneStatus h3 {\n",
       "  font-weight: bold;\n",
       "}\n",
       ".tuneStatus .hDivider {\n",
       "  border-bottom-width: var(--jp-border-width);\n",
       "  border-bottom-color: var(--jp-border-color0);\n",
       "  border-bottom-style: solid;\n",
       "}\n",
       ".tuneStatus .vDivider {\n",
       "  border-left-width: var(--jp-border-width);\n",
       "  border-left-color: var(--jp-border-color0);\n",
       "  border-left-style: solid;\n",
       "  margin: 0.5em 1em 0.5em 1em;\n",
       "}\n",
       "</style>\n"
      ],
      "text/plain": [
       "<IPython.core.display.HTML object>"
      ]
     },
     "metadata": {},
     "output_type": "display_data"
    },
    {
     "name": "stdout",
     "output_type": "stream",
     "text": [
      "\u001b[36m(train_rf pid=227587)\u001b[0m Train: (48, 57), Test: (48, 57)\n"
     ]
    },
    {
     "name": "stderr",
     "output_type": "stream",
     "text": [
      "2025-02-17 12:52:38,037\tWARNING util.py:201 -- The `callbacks.on_trial_result` operation took 1.266 s, which may be a performance bottleneck.\n",
      "2025-02-17 12:52:38,039\tWARNING util.py:201 -- The `process_trial_result` operation took 1.268 s, which may be a performance bottleneck.\n",
      "2025-02-17 12:52:38,040\tWARNING util.py:201 -- Processing trial results took 1.269 s, which may be a performance bottleneck. Please consider reporting results less frequently to Ray Tune.\n",
      "2025-02-17 12:52:38,040\tWARNING util.py:201 -- The `process_trial_result` operation took 1.269 s, which may be a performance bottleneck.\n"
     ]
    },
    {
     "name": "stdout",
     "output_type": "stream",
     "text": [
      "\u001b[36m(train_rf pid=227645)\u001b[0m Train: (48, 690), Test: (48, 690)\n"
     ]
    },
    {
     "name": "stderr",
     "output_type": "stream",
     "text": [
      "2025-02-17 12:52:44,098\tWARNING util.py:201 -- The `callbacks.on_trial_result` operation took 1.384 s, which may be a performance bottleneck.\n",
      "2025-02-17 12:52:44,100\tWARNING util.py:201 -- The `process_trial_result` operation took 1.386 s, which may be a performance bottleneck.\n",
      "2025-02-17 12:52:44,101\tWARNING util.py:201 -- Processing trial results took 1.387 s, which may be a performance bottleneck. Please consider reporting results less frequently to Ray Tune.\n",
      "2025-02-17 12:52:44,101\tWARNING util.py:201 -- The `process_trial_result` operation took 1.387 s, which may be a performance bottleneck.\n"
     ]
    },
    {
     "name": "stdout",
     "output_type": "stream",
     "text": [
      "\u001b[36m(train_rf pid=227705)\u001b[0m Train: (48, 46), Test: (48, 46)\n"
     ]
    },
    {
     "name": "stderr",
     "output_type": "stream",
     "text": [
      "2025-02-17 12:52:49,930\tWARNING util.py:201 -- The `callbacks.on_trial_result` operation took 1.520 s, which may be a performance bottleneck.\n",
      "2025-02-17 12:52:49,932\tWARNING util.py:201 -- The `process_trial_result` operation took 1.522 s, which may be a performance bottleneck.\n",
      "2025-02-17 12:52:49,932\tWARNING util.py:201 -- Processing trial results took 1.523 s, which may be a performance bottleneck. Please consider reporting results less frequently to Ray Tune.\n",
      "2025-02-17 12:52:49,933\tWARNING util.py:201 -- The `process_trial_result` operation took 1.524 s, which may be a performance bottleneck.\n"
     ]
    },
    {
     "name": "stdout",
     "output_type": "stream",
     "text": [
      "\u001b[36m(train_rf pid=227760)\u001b[0m Train: (48, 1263), Test: (48, 1263)\n"
     ]
    },
    {
     "name": "stderr",
     "output_type": "stream",
     "text": [
      "2025-02-17 12:52:55,685\tWARNING util.py:201 -- The `callbacks.on_trial_result` operation took 1.350 s, which may be a performance bottleneck.\n",
      "2025-02-17 12:52:55,687\tWARNING util.py:201 -- The `process_trial_result` operation took 1.352 s, which may be a performance bottleneck.\n",
      "2025-02-17 12:52:55,687\tWARNING util.py:201 -- Processing trial results took 1.352 s, which may be a performance bottleneck. Please consider reporting results less frequently to Ray Tune.\n",
      "2025-02-17 12:52:55,688\tWARNING util.py:201 -- The `process_trial_result` operation took 1.353 s, which may be a performance bottleneck.\n"
     ]
    },
    {
     "name": "stdout",
     "output_type": "stream",
     "text": [
      "\u001b[36m(train_rf pid=227816)\u001b[0m Train: (48, 1318), Test: (48, 1318)\n"
     ]
    },
    {
     "name": "stderr",
     "output_type": "stream",
     "text": [
      "2025-02-17 12:53:01,240\tWARNING util.py:201 -- The `callbacks.on_trial_result` operation took 1.332 s, which may be a performance bottleneck.\n",
      "2025-02-17 12:53:01,241\tWARNING util.py:201 -- The `process_trial_result` operation took 1.333 s, which may be a performance bottleneck.\n",
      "2025-02-17 12:53:01,242\tWARNING util.py:201 -- Processing trial results took 1.335 s, which may be a performance bottleneck. Please consider reporting results less frequently to Ray Tune.\n",
      "2025-02-17 12:53:01,243\tWARNING util.py:201 -- The `process_trial_result` operation took 1.335 s, which may be a performance bottleneck.\n"
     ]
    },
    {
     "name": "stdout",
     "output_type": "stream",
     "text": [
      "\u001b[36m(train_rf pid=228021)\u001b[0m Train: (48, 39), Test: (48, 39)\n"
     ]
    },
    {
     "name": "stderr",
     "output_type": "stream",
     "text": [
      "2025-02-17 12:53:06,937\tWARNING util.py:201 -- The `callbacks.on_trial_result` operation took 1.302 s, which may be a performance bottleneck.\n",
      "2025-02-17 12:53:06,938\tWARNING util.py:201 -- The `process_trial_result` operation took 1.304 s, which may be a performance bottleneck.\n",
      "2025-02-17 12:53:06,939\tWARNING util.py:201 -- Processing trial results took 1.305 s, which may be a performance bottleneck. Please consider reporting results less frequently to Ray Tune.\n",
      "2025-02-17 12:53:06,939\tWARNING util.py:201 -- The `process_trial_result` operation took 1.305 s, which may be a performance bottleneck.\n"
     ]
    },
    {
     "name": "stdout",
     "output_type": "stream",
     "text": [
      "\u001b[36m(train_rf pid=228284)\u001b[0m Train: (48, 312), Test: (48, 312)\n"
     ]
    },
    {
     "name": "stderr",
     "output_type": "stream",
     "text": [
      "2025-02-17 12:53:12,887\tWARNING util.py:201 -- The `callbacks.on_trial_result` operation took 1.340 s, which may be a performance bottleneck.\n",
      "2025-02-17 12:53:12,888\tWARNING util.py:201 -- The `process_trial_result` operation took 1.342 s, which may be a performance bottleneck.\n",
      "2025-02-17 12:53:12,889\tWARNING util.py:201 -- Processing trial results took 1.342 s, which may be a performance bottleneck. Please consider reporting results less frequently to Ray Tune.\n",
      "2025-02-17 12:53:12,889\tWARNING util.py:201 -- The `process_trial_result` operation took 1.343 s, which may be a performance bottleneck.\n"
     ]
    },
    {
     "name": "stdout",
     "output_type": "stream",
     "text": [
      "\u001b[36m(train_rf pid=228364)\u001b[0m Train: (48, 726), Test: (48, 726)\n"
     ]
    },
    {
     "name": "stderr",
     "output_type": "stream",
     "text": [
      "2025-02-17 12:53:19,385\tWARNING util.py:201 -- The `callbacks.on_trial_result` operation took 1.587 s, which may be a performance bottleneck.\n",
      "2025-02-17 12:53:19,387\tWARNING util.py:201 -- The `process_trial_result` operation took 1.590 s, which may be a performance bottleneck.\n",
      "2025-02-17 12:53:19,388\tWARNING util.py:201 -- Processing trial results took 1.590 s, which may be a performance bottleneck. Please consider reporting results less frequently to Ray Tune.\n",
      "2025-02-17 12:53:19,388\tWARNING util.py:201 -- The `process_trial_result` operation took 1.591 s, which may be a performance bottleneck.\n"
     ]
    },
    {
     "name": "stdout",
     "output_type": "stream",
     "text": [
      "\u001b[36m(train_rf pid=228428)\u001b[0m Train: (48, 312), Test: (48, 312)\n"
     ]
    },
    {
     "name": "stderr",
     "output_type": "stream",
     "text": [
      "2025-02-17 12:53:25,133\tWARNING util.py:201 -- The `callbacks.on_trial_result` operation took 1.459 s, which may be a performance bottleneck.\n",
      "2025-02-17 12:53:25,135\tWARNING util.py:201 -- The `process_trial_result` operation took 1.461 s, which may be a performance bottleneck.\n",
      "2025-02-17 12:53:25,135\tWARNING util.py:201 -- Processing trial results took 1.462 s, which may be a performance bottleneck. Please consider reporting results less frequently to Ray Tune.\n",
      "2025-02-17 12:53:25,136\tWARNING util.py:201 -- The `process_trial_result` operation took 1.462 s, which may be a performance bottleneck.\n"
     ]
    },
    {
     "name": "stdout",
     "output_type": "stream",
     "text": [
      "\u001b[36m(train_rf pid=228487)\u001b[0m Train: (48, 1203), Test: (48, 1203)\n"
     ]
    },
    {
     "name": "stderr",
     "output_type": "stream",
     "text": [
      "2025-02-17 12:53:30,906\tWARNING util.py:201 -- The `callbacks.on_trial_result` operation took 1.337 s, which may be a performance bottleneck.\n",
      "2025-02-17 12:53:30,907\tWARNING util.py:201 -- The `process_trial_result` operation took 1.339 s, which may be a performance bottleneck.\n",
      "2025-02-17 12:53:30,908\tWARNING util.py:201 -- Processing trial results took 1.339 s, which may be a performance bottleneck. Please consider reporting results less frequently to Ray Tune.\n",
      "2025-02-17 12:53:30,908\tWARNING util.py:201 -- The `process_trial_result` operation took 1.340 s, which may be a performance bottleneck.\n"
     ]
    },
    {
     "name": "stdout",
     "output_type": "stream",
     "text": [
      "\u001b[36m(train_rf pid=228545)\u001b[0m Train: (48, 40), Test: (48, 40)\n"
     ]
    },
    {
     "name": "stderr",
     "output_type": "stream",
     "text": [
      "2025-02-17 12:53:36,294\tWARNING util.py:201 -- The `callbacks.on_trial_result` operation took 1.341 s, which may be a performance bottleneck.\n",
      "2025-02-17 12:53:36,295\tWARNING util.py:201 -- The `process_trial_result` operation took 1.343 s, which may be a performance bottleneck.\n",
      "2025-02-17 12:53:36,296\tWARNING util.py:201 -- Processing trial results took 1.343 s, which may be a performance bottleneck. Please consider reporting results less frequently to Ray Tune.\n",
      "2025-02-17 12:53:36,297\tWARNING util.py:201 -- The `process_trial_result` operation took 1.344 s, which may be a performance bottleneck.\n"
     ]
    },
    {
     "name": "stdout",
     "output_type": "stream",
     "text": [
      "\u001b[36m(train_rf pid=228604)\u001b[0m Train: (48, 104), Test: (48, 104)\n"
     ]
    },
    {
     "name": "stderr",
     "output_type": "stream",
     "text": [
      "2025-02-17 12:53:42,062\tWARNING util.py:201 -- The `callbacks.on_trial_result` operation took 1.358 s, which may be a performance bottleneck.\n",
      "2025-02-17 12:53:42,064\tWARNING util.py:201 -- The `process_trial_result` operation took 1.360 s, which may be a performance bottleneck.\n",
      "2025-02-17 12:53:42,065\tWARNING util.py:201 -- Processing trial results took 1.361 s, which may be a performance bottleneck. Please consider reporting results less frequently to Ray Tune.\n",
      "2025-02-17 12:53:42,065\tWARNING util.py:201 -- The `process_trial_result` operation took 1.362 s, which may be a performance bottleneck.\n"
     ]
    },
    {
     "name": "stdout",
     "output_type": "stream",
     "text": [
      "\u001b[36m(train_rf pid=228666)\u001b[0m Train: (48, 38), Test: (48, 38)\n"
     ]
    },
    {
     "name": "stderr",
     "output_type": "stream",
     "text": [
      "2025-02-17 12:53:47,844\tWARNING util.py:201 -- The `callbacks.on_trial_result` operation took 1.354 s, which may be a performance bottleneck.\n",
      "2025-02-17 12:53:47,845\tWARNING util.py:201 -- The `process_trial_result` operation took 1.356 s, which may be a performance bottleneck.\n",
      "2025-02-17 12:53:47,847\tWARNING util.py:201 -- Processing trial results took 1.358 s, which may be a performance bottleneck. Please consider reporting results less frequently to Ray Tune.\n",
      "2025-02-17 12:53:47,847\tWARNING util.py:201 -- The `process_trial_result` operation took 1.358 s, which may be a performance bottleneck.\n"
     ]
    },
    {
     "name": "stdout",
     "output_type": "stream",
     "text": [
      "\u001b[36m(train_rf pid=228726)\u001b[0m Train: (48, 38), Test: (48, 38)\n"
     ]
    },
    {
     "name": "stderr",
     "output_type": "stream",
     "text": [
      "2025-02-17 12:53:53,825\tWARNING util.py:201 -- The `callbacks.on_trial_result` operation took 1.427 s, which may be a performance bottleneck.\n",
      "2025-02-17 12:53:53,827\tWARNING util.py:201 -- The `process_trial_result` operation took 1.429 s, which may be a performance bottleneck.\n",
      "2025-02-17 12:53:53,827\tWARNING util.py:201 -- Processing trial results took 1.430 s, which may be a performance bottleneck. Please consider reporting results less frequently to Ray Tune.\n",
      "2025-02-17 12:53:53,828\tWARNING util.py:201 -- The `process_trial_result` operation took 1.430 s, which may be a performance bottleneck.\n"
     ]
    },
    {
     "name": "stdout",
     "output_type": "stream",
     "text": [
      "\u001b[36m(train_rf pid=228786)\u001b[0m Train: (48, 1058), Test: (48, 1058)\n"
     ]
    },
    {
     "name": "stderr",
     "output_type": "stream",
     "text": [
      "2025-02-17 12:53:59,586\tWARNING util.py:201 -- The `callbacks.on_trial_result` operation took 1.399 s, which may be a performance bottleneck.\n",
      "2025-02-17 12:53:59,588\tWARNING util.py:201 -- The `process_trial_result` operation took 1.401 s, which may be a performance bottleneck.\n",
      "2025-02-17 12:53:59,590\tWARNING util.py:201 -- Processing trial results took 1.403 s, which may be a performance bottleneck. Please consider reporting results less frequently to Ray Tune.\n",
      "2025-02-17 12:53:59,590\tWARNING util.py:201 -- The `process_trial_result` operation took 1.403 s, which may be a performance bottleneck.\n"
     ]
    },
    {
     "name": "stdout",
     "output_type": "stream",
     "text": [
      "\u001b[36m(train_rf pid=228844)\u001b[0m Train: (48, 1058), Test: (48, 1058)\n"
     ]
    },
    {
     "name": "stderr",
     "output_type": "stream",
     "text": [
      "2025-02-17 12:54:05,776\tWARNING util.py:201 -- The `callbacks.on_trial_result` operation took 1.322 s, which may be a performance bottleneck.\n",
      "2025-02-17 12:54:05,777\tWARNING util.py:201 -- The `process_trial_result` operation took 1.323 s, which may be a performance bottleneck.\n",
      "2025-02-17 12:54:05,778\tWARNING util.py:201 -- Processing trial results took 1.324 s, which may be a performance bottleneck. Please consider reporting results less frequently to Ray Tune.\n",
      "2025-02-17 12:54:05,778\tWARNING util.py:201 -- The `process_trial_result` operation took 1.324 s, which may be a performance bottleneck.\n"
     ]
    },
    {
     "name": "stdout",
     "output_type": "stream",
     "text": [
      "\u001b[36m(train_rf pid=228929)\u001b[0m Train: (48, 990), Test: (48, 990)\n"
     ]
    },
    {
     "name": "stderr",
     "output_type": "stream",
     "text": [
      "2025-02-17 12:54:11,675\tWARNING util.py:201 -- The `callbacks.on_trial_result` operation took 1.374 s, which may be a performance bottleneck.\n",
      "2025-02-17 12:54:11,677\tWARNING util.py:201 -- The `process_trial_result` operation took 1.376 s, which may be a performance bottleneck.\n",
      "2025-02-17 12:54:11,678\tWARNING util.py:201 -- Processing trial results took 1.377 s, which may be a performance bottleneck. Please consider reporting results less frequently to Ray Tune.\n",
      "2025-02-17 12:54:11,678\tWARNING util.py:201 -- The `process_trial_result` operation took 1.378 s, which may be a performance bottleneck.\n"
     ]
    },
    {
     "name": "stdout",
     "output_type": "stream",
     "text": [
      "\u001b[36m(train_rf pid=228987)\u001b[0m Train: (48, 1304), Test: (48, 1304)\n"
     ]
    },
    {
     "name": "stderr",
     "output_type": "stream",
     "text": [
      "2025-02-17 12:54:17,464\tWARNING util.py:201 -- The `callbacks.on_trial_result` operation took 1.314 s, which may be a performance bottleneck.\n",
      "2025-02-17 12:54:17,465\tWARNING util.py:201 -- The `process_trial_result` operation took 1.316 s, which may be a performance bottleneck.\n",
      "2025-02-17 12:54:17,466\tWARNING util.py:201 -- Processing trial results took 1.316 s, which may be a performance bottleneck. Please consider reporting results less frequently to Ray Tune.\n",
      "2025-02-17 12:54:17,467\tWARNING util.py:201 -- The `process_trial_result` operation took 1.317 s, which may be a performance bottleneck.\n"
     ]
    },
    {
     "name": "stdout",
     "output_type": "stream",
     "text": [
      "\u001b[36m(train_rf pid=229050)\u001b[0m Train: (48, 1318), Test: (48, 1318)\n"
     ]
    },
    {
     "name": "stderr",
     "output_type": "stream",
     "text": [
      "2025-02-17 12:54:23,545\tWARNING util.py:201 -- The `callbacks.on_trial_result` operation took 1.514 s, which may be a performance bottleneck.\n",
      "2025-02-17 12:54:23,547\tWARNING util.py:201 -- The `process_trial_result` operation took 1.516 s, which may be a performance bottleneck.\n",
      "2025-02-17 12:54:23,547\tWARNING util.py:201 -- Processing trial results took 1.516 s, which may be a performance bottleneck. Please consider reporting results less frequently to Ray Tune.\n",
      "2025-02-17 12:54:23,547\tWARNING util.py:201 -- The `process_trial_result` operation took 1.517 s, which may be a performance bottleneck.\n"
     ]
    },
    {
     "name": "stdout",
     "output_type": "stream",
     "text": [
      "\u001b[36m(train_rf pid=229104)\u001b[0m Train: (48, 1199), Test: (48, 1199)\n"
     ]
    },
    {
     "name": "stderr",
     "output_type": "stream",
     "text": [
      "2025-02-17 12:54:29,049\tWARNING util.py:201 -- The `callbacks.on_trial_result` operation took 1.408 s, which may be a performance bottleneck.\n",
      "2025-02-17 12:54:29,051\tWARNING util.py:201 -- The `process_trial_result` operation took 1.410 s, which may be a performance bottleneck.\n",
      "2025-02-17 12:54:29,051\tWARNING util.py:201 -- Processing trial results took 1.410 s, which may be a performance bottleneck. Please consider reporting results less frequently to Ray Tune.\n",
      "2025-02-17 12:54:29,051\tWARNING util.py:201 -- The `process_trial_result` operation took 1.410 s, which may be a performance bottleneck.\n"
     ]
    },
    {
     "name": "stdout",
     "output_type": "stream",
     "text": [
      "\u001b[36m(train_rf pid=229159)\u001b[0m Train: (48, 1199), Test: (48, 1199)\n"
     ]
    },
    {
     "name": "stderr",
     "output_type": "stream",
     "text": [
      "2025-02-17 12:54:34,734\tWARNING util.py:201 -- The `callbacks.on_trial_result` operation took 1.309 s, which may be a performance bottleneck.\n",
      "2025-02-17 12:54:34,736\tWARNING util.py:201 -- The `process_trial_result` operation took 1.310 s, which may be a performance bottleneck.\n",
      "2025-02-17 12:54:34,737\tWARNING util.py:201 -- Processing trial results took 1.311 s, which may be a performance bottleneck. Please consider reporting results less frequently to Ray Tune.\n",
      "2025-02-17 12:54:34,737\tWARNING util.py:201 -- The `process_trial_result` operation took 1.311 s, which may be a performance bottleneck.\n"
     ]
    },
    {
     "name": "stdout",
     "output_type": "stream",
     "text": [
      "\u001b[36m(train_rf pid=229255)\u001b[0m Train: (48, 1058), Test: (48, 1058)\n"
     ]
    },
    {
     "name": "stderr",
     "output_type": "stream",
     "text": [
      "2025-02-17 12:54:40,705\tWARNING util.py:201 -- The `callbacks.on_trial_result` operation took 1.344 s, which may be a performance bottleneck.\n",
      "2025-02-17 12:54:40,707\tWARNING util.py:201 -- The `process_trial_result` operation took 1.346 s, which may be a performance bottleneck.\n",
      "2025-02-17 12:54:40,707\tWARNING util.py:201 -- Processing trial results took 1.347 s, which may be a performance bottleneck. Please consider reporting results less frequently to Ray Tune.\n",
      "2025-02-17 12:54:40,708\tWARNING util.py:201 -- The `process_trial_result` operation took 1.347 s, which may be a performance bottleneck.\n"
     ]
    },
    {
     "name": "stdout",
     "output_type": "stream",
     "text": [
      "\u001b[36m(train_rf pid=229314)\u001b[0m Train: (48, 1058), Test: (48, 1058)\n"
     ]
    },
    {
     "name": "stderr",
     "output_type": "stream",
     "text": [
      "2025-02-17 12:54:46,801\tWARNING util.py:201 -- The `callbacks.on_trial_result` operation took 1.662 s, which may be a performance bottleneck.\n",
      "2025-02-17 12:54:46,802\tWARNING util.py:201 -- The `process_trial_result` operation took 1.664 s, which may be a performance bottleneck.\n",
      "2025-02-17 12:54:46,803\tWARNING util.py:201 -- Processing trial results took 1.664 s, which may be a performance bottleneck. Please consider reporting results less frequently to Ray Tune.\n",
      "2025-02-17 12:54:46,803\tWARNING util.py:201 -- The `process_trial_result` operation took 1.665 s, which may be a performance bottleneck.\n"
     ]
    },
    {
     "name": "stdout",
     "output_type": "stream",
     "text": [
      "\u001b[36m(train_rf pid=229377)\u001b[0m Train: (48, 1199), Test: (48, 1199)\n"
     ]
    },
    {
     "name": "stderr",
     "output_type": "stream",
     "text": [
      "2025-02-17 12:54:52,438\tWARNING util.py:201 -- The `callbacks.on_trial_result` operation took 1.437 s, which may be a performance bottleneck.\n",
      "2025-02-17 12:54:52,439\tWARNING util.py:201 -- The `process_trial_result` operation took 1.439 s, which may be a performance bottleneck.\n",
      "2025-02-17 12:54:52,440\tWARNING util.py:201 -- Processing trial results took 1.440 s, which may be a performance bottleneck. Please consider reporting results less frequently to Ray Tune.\n",
      "2025-02-17 12:54:52,441\tWARNING util.py:201 -- The `process_trial_result` operation took 1.440 s, which may be a performance bottleneck.\n"
     ]
    },
    {
     "name": "stdout",
     "output_type": "stream",
     "text": [
      "\u001b[36m(train_rf pid=229435)\u001b[0m Train: (48, 1203), Test: (48, 1203)\n"
     ]
    },
    {
     "name": "stderr",
     "output_type": "stream",
     "text": [
      "2025-02-17 12:54:58,674\tWARNING util.py:201 -- The `callbacks.on_trial_result` operation took 1.550 s, which may be a performance bottleneck.\n",
      "2025-02-17 12:54:58,676\tWARNING util.py:201 -- The `process_trial_result` operation took 1.552 s, which may be a performance bottleneck.\n",
      "2025-02-17 12:54:58,677\tWARNING util.py:201 -- Processing trial results took 1.553 s, which may be a performance bottleneck. Please consider reporting results less frequently to Ray Tune.\n",
      "2025-02-17 12:54:58,677\tWARNING util.py:201 -- The `process_trial_result` operation took 1.554 s, which may be a performance bottleneck.\n"
     ]
    },
    {
     "name": "stdout",
     "output_type": "stream",
     "text": [
      "\u001b[36m(train_rf pid=229492)\u001b[0m Train: (48, 1203), Test: (48, 1203)\n"
     ]
    },
    {
     "name": "stderr",
     "output_type": "stream",
     "text": [
      "2025-02-17 12:55:04,479\tWARNING util.py:201 -- The `callbacks.on_trial_result` operation took 1.375 s, which may be a performance bottleneck.\n",
      "2025-02-17 12:55:04,481\tWARNING util.py:201 -- The `process_trial_result` operation took 1.376 s, which may be a performance bottleneck.\n",
      "2025-02-17 12:55:04,482\tWARNING util.py:201 -- Processing trial results took 1.377 s, which may be a performance bottleneck. Please consider reporting results less frequently to Ray Tune.\n",
      "2025-02-17 12:55:04,483\tWARNING util.py:201 -- The `process_trial_result` operation took 1.378 s, which may be a performance bottleneck.\n"
     ]
    },
    {
     "name": "stdout",
     "output_type": "stream",
     "text": [
      "\u001b[36m(train_rf pid=229576)\u001b[0m Train: (48, 1203), Test: (48, 1203)\n"
     ]
    },
    {
     "name": "stderr",
     "output_type": "stream",
     "text": [
      "2025-02-17 12:55:10,243\tWARNING util.py:201 -- The `callbacks.on_trial_result` operation took 1.380 s, which may be a performance bottleneck.\n",
      "2025-02-17 12:55:10,245\tWARNING util.py:201 -- The `process_trial_result` operation took 1.382 s, which may be a performance bottleneck.\n",
      "2025-02-17 12:55:10,246\tWARNING util.py:201 -- Processing trial results took 1.383 s, which may be a performance bottleneck. Please consider reporting results less frequently to Ray Tune.\n",
      "2025-02-17 12:55:10,246\tWARNING util.py:201 -- The `process_trial_result` operation took 1.383 s, which may be a performance bottleneck.\n"
     ]
    },
    {
     "name": "stdout",
     "output_type": "stream",
     "text": [
      "\u001b[36m(train_rf pid=229631)\u001b[0m Train: (48, 833), Test: (48, 833)\n"
     ]
    },
    {
     "name": "stderr",
     "output_type": "stream",
     "text": [
      "2025-02-17 12:55:15,922\tWARNING util.py:201 -- The `callbacks.on_trial_result` operation took 1.249 s, which may be a performance bottleneck.\n",
      "2025-02-17 12:55:15,924\tWARNING util.py:201 -- The `process_trial_result` operation took 1.251 s, which may be a performance bottleneck.\n",
      "2025-02-17 12:55:15,925\tWARNING util.py:201 -- Processing trial results took 1.252 s, which may be a performance bottleneck. Please consider reporting results less frequently to Ray Tune.\n",
      "2025-02-17 12:55:15,925\tWARNING util.py:201 -- The `process_trial_result` operation took 1.252 s, which may be a performance bottleneck.\n"
     ]
    },
    {
     "name": "stdout",
     "output_type": "stream",
     "text": [
      "\u001b[36m(train_rf pid=229693)\u001b[0m Train: (48, 38), Test: (48, 38)\n"
     ]
    },
    {
     "name": "stderr",
     "output_type": "stream",
     "text": [
      "2025-02-17 12:55:22,068\tWARNING util.py:201 -- The `callbacks.on_trial_result` operation took 1.407 s, which may be a performance bottleneck.\n",
      "2025-02-17 12:55:22,070\tWARNING util.py:201 -- The `process_trial_result` operation took 1.409 s, which may be a performance bottleneck.\n",
      "2025-02-17 12:55:22,070\tWARNING util.py:201 -- Processing trial results took 1.410 s, which may be a performance bottleneck. Please consider reporting results less frequently to Ray Tune.\n",
      "2025-02-17 12:55:22,071\tWARNING util.py:201 -- The `process_trial_result` operation took 1.410 s, which may be a performance bottleneck.\n"
     ]
    },
    {
     "name": "stdout",
     "output_type": "stream",
     "text": [
      "\u001b[36m(train_rf pid=229753)\u001b[0m Train: (48, 90), Test: (48, 90)\n"
     ]
    },
    {
     "name": "stderr",
     "output_type": "stream",
     "text": [
      "2025-02-17 12:55:28,185\tWARNING util.py:201 -- The `callbacks.on_trial_result` operation took 1.767 s, which may be a performance bottleneck.\n",
      "2025-02-17 12:55:28,187\tWARNING util.py:201 -- The `process_trial_result` operation took 1.769 s, which may be a performance bottleneck.\n",
      "2025-02-17 12:55:28,187\tWARNING util.py:201 -- Processing trial results took 1.770 s, which may be a performance bottleneck. Please consider reporting results less frequently to Ray Tune.\n",
      "2025-02-17 12:55:28,188\tWARNING util.py:201 -- The `process_trial_result` operation took 1.770 s, which may be a performance bottleneck.\n"
     ]
    },
    {
     "name": "stdout",
     "output_type": "stream",
     "text": [
      "\u001b[36m(train_rf pid=229813)\u001b[0m Train: (48, 101), Test: (48, 101)\n"
     ]
    },
    {
     "name": "stderr",
     "output_type": "stream",
     "text": [
      "2025-02-17 12:55:33,459\tWARNING util.py:201 -- The `callbacks.on_trial_result` operation took 1.244 s, which may be a performance bottleneck.\n",
      "2025-02-17 12:55:33,461\tWARNING util.py:201 -- The `process_trial_result` operation took 1.246 s, which may be a performance bottleneck.\n",
      "2025-02-17 12:55:33,461\tWARNING util.py:201 -- Processing trial results took 1.246 s, which may be a performance bottleneck. Please consider reporting results less frequently to Ray Tune.\n",
      "2025-02-17 12:55:33,461\tWARNING util.py:201 -- The `process_trial_result` operation took 1.246 s, which may be a performance bottleneck.\n"
     ]
    },
    {
     "name": "stdout",
     "output_type": "stream",
     "text": [
      "\u001b[36m(train_rf pid=229871)\u001b[0m Train: (48, 833), Test: (48, 833)\n"
     ]
    },
    {
     "name": "stderr",
     "output_type": "stream",
     "text": [
      "2025-02-17 12:55:39,771\tWARNING util.py:201 -- The `callbacks.on_trial_result` operation took 1.221 s, which may be a performance bottleneck.\n",
      "2025-02-17 12:55:39,772\tWARNING util.py:201 -- The `process_trial_result` operation took 1.223 s, which may be a performance bottleneck.\n",
      "2025-02-17 12:55:39,773\tWARNING util.py:201 -- Processing trial results took 1.224 s, which may be a performance bottleneck. Please consider reporting results less frequently to Ray Tune.\n",
      "2025-02-17 12:55:39,773\tWARNING util.py:201 -- The `process_trial_result` operation took 1.224 s, which may be a performance bottleneck.\n"
     ]
    },
    {
     "name": "stdout",
     "output_type": "stream",
     "text": [
      "\u001b[36m(train_rf pid=229930)\u001b[0m Train: (48, 734), Test: (48, 734)\n"
     ]
    },
    {
     "name": "stderr",
     "output_type": "stream",
     "text": [
      "2025-02-17 12:55:45,658\tWARNING util.py:201 -- The `callbacks.on_trial_result` operation took 1.219 s, which may be a performance bottleneck.\n",
      "2025-02-17 12:55:45,660\tWARNING util.py:201 -- The `process_trial_result` operation took 1.222 s, which may be a performance bottleneck.\n",
      "2025-02-17 12:55:45,661\tWARNING util.py:201 -- Processing trial results took 1.222 s, which may be a performance bottleneck. Please consider reporting results less frequently to Ray Tune.\n",
      "2025-02-17 12:55:45,661\tWARNING util.py:201 -- The `process_trial_result` operation took 1.223 s, which may be a performance bottleneck.\n"
     ]
    },
    {
     "name": "stdout",
     "output_type": "stream",
     "text": [
      "\u001b[36m(train_rf pid=229993)\u001b[0m Train: (48, 833), Test: (48, 833)\n"
     ]
    },
    {
     "name": "stderr",
     "output_type": "stream",
     "text": [
      "2025-02-17 12:55:51,558\tWARNING util.py:201 -- The `callbacks.on_trial_result` operation took 1.269 s, which may be a performance bottleneck.\n",
      "2025-02-17 12:55:51,560\tWARNING util.py:201 -- The `process_trial_result` operation took 1.271 s, which may be a performance bottleneck.\n",
      "2025-02-17 12:55:51,560\tWARNING util.py:201 -- Processing trial results took 1.271 s, which may be a performance bottleneck. Please consider reporting results less frequently to Ray Tune.\n",
      "2025-02-17 12:55:51,561\tWARNING util.py:201 -- The `process_trial_result` operation took 1.272 s, which may be a performance bottleneck.\n"
     ]
    },
    {
     "name": "stdout",
     "output_type": "stream",
     "text": [
      "\u001b[36m(train_rf pid=230052)\u001b[0m Train: (48, 858), Test: (48, 858)\n"
     ]
    },
    {
     "name": "stderr",
     "output_type": "stream",
     "text": [
      "2025-02-17 12:55:57,399\tWARNING util.py:201 -- The `callbacks.on_trial_result` operation took 1.305 s, which may be a performance bottleneck.\n",
      "2025-02-17 12:55:57,401\tWARNING util.py:201 -- The `process_trial_result` operation took 1.307 s, which may be a performance bottleneck.\n",
      "2025-02-17 12:55:57,402\tWARNING util.py:201 -- Processing trial results took 1.308 s, which may be a performance bottleneck. Please consider reporting results less frequently to Ray Tune.\n",
      "2025-02-17 12:55:57,403\tWARNING util.py:201 -- The `process_trial_result` operation took 1.309 s, which may be a performance bottleneck.\n"
     ]
    },
    {
     "name": "stdout",
     "output_type": "stream",
     "text": [
      "\u001b[36m(train_rf pid=230115)\u001b[0m Train: (48, 1078), Test: (48, 1078)\n"
     ]
    },
    {
     "name": "stderr",
     "output_type": "stream",
     "text": [
      "2025-02-17 12:56:03,246\tWARNING util.py:201 -- The `callbacks.on_trial_result` operation took 1.264 s, which may be a performance bottleneck.\n",
      "2025-02-17 12:56:03,248\tWARNING util.py:201 -- The `process_trial_result` operation took 1.266 s, which may be a performance bottleneck.\n",
      "2025-02-17 12:56:03,249\tWARNING util.py:201 -- Processing trial results took 1.267 s, which may be a performance bottleneck. Please consider reporting results less frequently to Ray Tune.\n",
      "2025-02-17 12:56:03,249\tWARNING util.py:201 -- The `process_trial_result` operation took 1.267 s, which may be a performance bottleneck.\n"
     ]
    },
    {
     "name": "stdout",
     "output_type": "stream",
     "text": [
      "\u001b[36m(train_rf pid=230205)\u001b[0m Train: (48, 1199), Test: (48, 1199)\n"
     ]
    },
    {
     "name": "stderr",
     "output_type": "stream",
     "text": [
      "2025-02-17 12:56:09,624\tWARNING util.py:201 -- The `callbacks.on_trial_result` operation took 1.864 s, which may be a performance bottleneck.\n",
      "2025-02-17 12:56:09,625\tWARNING util.py:201 -- The `process_trial_result` operation took 1.866 s, which may be a performance bottleneck.\n",
      "2025-02-17 12:56:09,626\tWARNING util.py:201 -- Processing trial results took 1.867 s, which may be a performance bottleneck. Please consider reporting results less frequently to Ray Tune.\n",
      "2025-02-17 12:56:09,626\tWARNING util.py:201 -- The `process_trial_result` operation took 1.867 s, which may be a performance bottleneck.\n"
     ]
    },
    {
     "name": "stdout",
     "output_type": "stream",
     "text": [
      "\u001b[36m(train_rf pid=230264)\u001b[0m Train: (48, 1263), Test: (48, 1263)\n"
     ]
    },
    {
     "name": "stderr",
     "output_type": "stream",
     "text": [
      "2025-02-17 12:56:14,736\tWARNING util.py:201 -- The `callbacks.on_trial_result` operation took 1.223 s, which may be a performance bottleneck.\n",
      "2025-02-17 12:56:14,737\tWARNING util.py:201 -- The `process_trial_result` operation took 1.225 s, which may be a performance bottleneck.\n",
      "2025-02-17 12:56:14,738\tWARNING util.py:201 -- Processing trial results took 1.226 s, which may be a performance bottleneck. Please consider reporting results less frequently to Ray Tune.\n",
      "2025-02-17 12:56:14,739\tWARNING util.py:201 -- The `process_trial_result` operation took 1.226 s, which may be a performance bottleneck.\n"
     ]
    },
    {
     "name": "stdout",
     "output_type": "stream",
     "text": [
      "\u001b[36m(train_rf pid=230328)\u001b[0m Train: (48, 1263), Test: (48, 1263)\n"
     ]
    },
    {
     "name": "stderr",
     "output_type": "stream",
     "text": [
      "2025-02-17 12:56:21,572\tWARNING util.py:201 -- The `callbacks.on_trial_result` operation took 1.343 s, which may be a performance bottleneck.\n",
      "2025-02-17 12:56:21,573\tWARNING util.py:201 -- The `process_trial_result` operation took 1.345 s, which may be a performance bottleneck.\n",
      "2025-02-17 12:56:21,574\tWARNING util.py:201 -- Processing trial results took 1.346 s, which may be a performance bottleneck. Please consider reporting results less frequently to Ray Tune.\n",
      "2025-02-17 12:56:21,575\tWARNING util.py:201 -- The `process_trial_result` operation took 1.347 s, which may be a performance bottleneck.\n"
     ]
    },
    {
     "name": "stdout",
     "output_type": "stream",
     "text": [
      "\u001b[36m(train_rf pid=230387)\u001b[0m Train: (48, 690), Test: (48, 690)\n"
     ]
    },
    {
     "name": "stderr",
     "output_type": "stream",
     "text": [
      "2025-02-17 12:56:27,595\tWARNING util.py:201 -- The `callbacks.on_trial_result` operation took 1.455 s, which may be a performance bottleneck.\n",
      "2025-02-17 12:56:27,597\tWARNING util.py:201 -- The `process_trial_result` operation took 1.457 s, which may be a performance bottleneck.\n",
      "2025-02-17 12:56:27,597\tWARNING util.py:201 -- Processing trial results took 1.458 s, which may be a performance bottleneck. Please consider reporting results less frequently to Ray Tune.\n",
      "2025-02-17 12:56:27,598\tWARNING util.py:201 -- The `process_trial_result` operation took 1.458 s, which may be a performance bottleneck.\n"
     ]
    },
    {
     "name": "stdout",
     "output_type": "stream",
     "text": [
      "\u001b[36m(train_rf pid=230450)\u001b[0m Train: (48, 690), Test: (48, 690)\n"
     ]
    },
    {
     "name": "stderr",
     "output_type": "stream",
     "text": [
      "2025-02-17 12:56:33,571\tWARNING util.py:201 -- The `callbacks.on_trial_result` operation took 1.270 s, which may be a performance bottleneck.\n",
      "2025-02-17 12:56:33,573\tWARNING util.py:201 -- The `process_trial_result` operation took 1.272 s, which may be a performance bottleneck.\n",
      "2025-02-17 12:56:33,574\tWARNING util.py:201 -- Processing trial results took 1.273 s, which may be a performance bottleneck. Please consider reporting results less frequently to Ray Tune.\n",
      "2025-02-17 12:56:33,575\tWARNING util.py:201 -- The `process_trial_result` operation took 1.273 s, which may be a performance bottleneck.\n"
     ]
    },
    {
     "name": "stdout",
     "output_type": "stream",
     "text": [
      "\u001b[36m(train_rf pid=230509)\u001b[0m Train: (48, 46), Test: (48, 46)\n"
     ]
    },
    {
     "name": "stderr",
     "output_type": "stream",
     "text": [
      "2025-02-17 12:56:40,473\tWARNING util.py:201 -- The `callbacks.on_trial_result` operation took 2.233 s, which may be a performance bottleneck.\n",
      "2025-02-17 12:56:40,475\tWARNING util.py:201 -- The `process_trial_result` operation took 2.235 s, which may be a performance bottleneck.\n",
      "2025-02-17 12:56:40,476\tWARNING util.py:201 -- Processing trial results took 2.236 s, which may be a performance bottleneck. Please consider reporting results less frequently to Ray Tune.\n",
      "2025-02-17 12:56:40,476\tWARNING util.py:201 -- The `process_trial_result` operation took 2.237 s, which may be a performance bottleneck.\n"
     ]
    },
    {
     "name": "stdout",
     "output_type": "stream",
     "text": [
      "\u001b[36m(train_rf pid=230568)\u001b[0m Train: (48, 1199), Test: (48, 1199)\n"
     ]
    },
    {
     "name": "stderr",
     "output_type": "stream",
     "text": [
      "2025-02-17 12:56:45,386\tWARNING util.py:201 -- The `callbacks.on_trial_result` operation took 1.284 s, which may be a performance bottleneck.\n",
      "2025-02-17 12:56:45,388\tWARNING util.py:201 -- The `process_trial_result` operation took 1.286 s, which may be a performance bottleneck.\n",
      "2025-02-17 12:56:45,388\tWARNING util.py:201 -- Processing trial results took 1.287 s, which may be a performance bottleneck. Please consider reporting results less frequently to Ray Tune.\n",
      "2025-02-17 12:56:45,389\tWARNING util.py:201 -- The `process_trial_result` operation took 1.287 s, which may be a performance bottleneck.\n"
     ]
    },
    {
     "name": "stdout",
     "output_type": "stream",
     "text": [
      "\u001b[36m(train_rf pid=230626)\u001b[0m Train: (48, 1199), Test: (48, 1199)\n"
     ]
    },
    {
     "name": "stderr",
     "output_type": "stream",
     "text": [
      "2025-02-17 12:56:51,934\tWARNING util.py:201 -- The `callbacks.on_trial_result` operation took 1.268 s, which may be a performance bottleneck.\n",
      "2025-02-17 12:56:51,936\tWARNING util.py:201 -- The `process_trial_result` operation took 1.270 s, which may be a performance bottleneck.\n",
      "2025-02-17 12:56:51,937\tWARNING util.py:201 -- Processing trial results took 1.271 s, which may be a performance bottleneck. Please consider reporting results less frequently to Ray Tune.\n",
      "2025-02-17 12:56:51,937\tWARNING util.py:201 -- The `process_trial_result` operation took 1.271 s, which may be a performance bottleneck.\n"
     ]
    },
    {
     "name": "stdout",
     "output_type": "stream",
     "text": [
      "\u001b[36m(train_rf pid=230685)\u001b[0m Train: (48, 1199), Test: (48, 1199)\n"
     ]
    },
    {
     "name": "stderr",
     "output_type": "stream",
     "text": [
      "2025-02-17 12:56:57,653\tWARNING util.py:201 -- The `callbacks.on_trial_result` operation took 1.263 s, which may be a performance bottleneck.\n",
      "2025-02-17 12:56:57,654\tWARNING util.py:201 -- The `process_trial_result` operation took 1.264 s, which may be a performance bottleneck.\n",
      "2025-02-17 12:56:57,655\tWARNING util.py:201 -- Processing trial results took 1.265 s, which may be a performance bottleneck. Please consider reporting results less frequently to Ray Tune.\n",
      "2025-02-17 12:56:57,655\tWARNING util.py:201 -- The `process_trial_result` operation took 1.265 s, which may be a performance bottleneck.\n"
     ]
    },
    {
     "name": "stdout",
     "output_type": "stream",
     "text": [
      "\u001b[36m(train_rf pid=230749)\u001b[0m Train: (48, 1240), Test: (48, 1240)\n"
     ]
    },
    {
     "name": "stderr",
     "output_type": "stream",
     "text": [
      "2025-02-17 12:57:03,650\tWARNING util.py:201 -- The `callbacks.on_trial_result` operation took 1.496 s, which may be a performance bottleneck.\n",
      "2025-02-17 12:57:03,652\tWARNING util.py:201 -- The `process_trial_result` operation took 1.498 s, which may be a performance bottleneck.\n",
      "2025-02-17 12:57:03,652\tWARNING util.py:201 -- Processing trial results took 1.498 s, which may be a performance bottleneck. Please consider reporting results less frequently to Ray Tune.\n",
      "2025-02-17 12:57:03,652\tWARNING util.py:201 -- The `process_trial_result` operation took 1.499 s, which may be a performance bottleneck.\n"
     ]
    },
    {
     "name": "stdout",
     "output_type": "stream",
     "text": [
      "\u001b[36m(train_rf pid=230837)\u001b[0m Train: (48, 1240), Test: (48, 1240)\n"
     ]
    },
    {
     "name": "stderr",
     "output_type": "stream",
     "text": [
      "2025-02-17 12:57:09,241\tWARNING util.py:201 -- The `callbacks.on_trial_result` operation took 1.313 s, which may be a performance bottleneck.\n",
      "2025-02-17 12:57:09,243\tWARNING util.py:201 -- The `process_trial_result` operation took 1.315 s, which may be a performance bottleneck.\n",
      "2025-02-17 12:57:09,244\tWARNING util.py:201 -- Processing trial results took 1.315 s, which may be a performance bottleneck. Please consider reporting results less frequently to Ray Tune.\n",
      "2025-02-17 12:57:09,244\tWARNING util.py:201 -- The `process_trial_result` operation took 1.316 s, which may be a performance bottleneck.\n"
     ]
    },
    {
     "name": "stdout",
     "output_type": "stream",
     "text": [
      "\u001b[36m(train_rf pid=230895)\u001b[0m Train: (48, 990), Test: (48, 990)\n"
     ]
    },
    {
     "name": "stderr",
     "output_type": "stream",
     "text": [
      "2025-02-17 12:57:15,117\tWARNING util.py:201 -- The `callbacks.on_trial_result` operation took 1.334 s, which may be a performance bottleneck.\n",
      "2025-02-17 12:57:15,118\tWARNING util.py:201 -- The `process_trial_result` operation took 1.336 s, which may be a performance bottleneck.\n",
      "2025-02-17 12:57:15,119\tWARNING util.py:201 -- Processing trial results took 1.336 s, which may be a performance bottleneck. Please consider reporting results less frequently to Ray Tune.\n",
      "2025-02-17 12:57:15,119\tWARNING util.py:201 -- The `process_trial_result` operation took 1.337 s, which may be a performance bottleneck.\n"
     ]
    },
    {
     "name": "stdout",
     "output_type": "stream",
     "text": [
      "\u001b[36m(train_rf pid=230960)\u001b[0m Train: (48, 858), Test: (48, 858)\n"
     ]
    },
    {
     "name": "stderr",
     "output_type": "stream",
     "text": [
      "2025-02-17 12:57:21,966\tWARNING util.py:201 -- The `callbacks.on_trial_result` operation took 2.344 s, which may be a performance bottleneck.\n",
      "2025-02-17 12:57:21,968\tWARNING util.py:201 -- The `process_trial_result` operation took 2.345 s, which may be a performance bottleneck.\n",
      "2025-02-17 12:57:21,969\tWARNING util.py:201 -- Processing trial results took 2.346 s, which may be a performance bottleneck. Please consider reporting results less frequently to Ray Tune.\n",
      "2025-02-17 12:57:21,970\tWARNING util.py:201 -- The `process_trial_result` operation took 2.347 s, which may be a performance bottleneck.\n"
     ]
    },
    {
     "name": "stdout",
     "output_type": "stream",
     "text": [
      "\u001b[36m(train_rf pid=231018)\u001b[0m Train: (48, 1078), Test: (48, 1078)\n"
     ]
    },
    {
     "name": "stderr",
     "output_type": "stream",
     "text": [
      "2025-02-17 12:57:27,084\tWARNING util.py:201 -- The `callbacks.on_trial_result` operation took 1.406 s, which may be a performance bottleneck.\n",
      "2025-02-17 12:57:27,086\tWARNING util.py:201 -- The `process_trial_result` operation took 1.408 s, which may be a performance bottleneck.\n",
      "2025-02-17 12:57:27,086\tWARNING util.py:201 -- Processing trial results took 1.408 s, which may be a performance bottleneck. Please consider reporting results less frequently to Ray Tune.\n",
      "2025-02-17 12:57:27,087\tWARNING util.py:201 -- The `process_trial_result` operation took 1.409 s, which may be a performance bottleneck.\n"
     ]
    },
    {
     "name": "stdout",
     "output_type": "stream",
     "text": [
      "\u001b[36m(train_rf pid=231077)\u001b[0m Train: (48, 40), Test: (48, 40)\n"
     ]
    },
    {
     "name": "stderr",
     "output_type": "stream",
     "text": [
      "2025-02-17 12:57:34,534\tWARNING util.py:201 -- The `callbacks.on_trial_result` operation took 1.724 s, which may be a performance bottleneck.\n",
      "2025-02-17 12:57:34,536\tWARNING util.py:201 -- The `process_trial_result` operation took 1.726 s, which may be a performance bottleneck.\n",
      "2025-02-17 12:57:34,537\tWARNING util.py:201 -- Processing trial results took 1.726 s, which may be a performance bottleneck. Please consider reporting results less frequently to Ray Tune.\n",
      "2025-02-17 12:57:34,537\tWARNING util.py:201 -- The `process_trial_result` operation took 1.727 s, which may be a performance bottleneck.\n"
     ]
    },
    {
     "name": "stdout",
     "output_type": "stream",
     "text": [
      "\u001b[36m(train_rf pid=231178)\u001b[0m Train: (48, 40), Test: (48, 40)\n"
     ]
    },
    {
     "name": "stderr",
     "output_type": "stream",
     "text": [
      "2025-02-17 12:57:39,931\tWARNING util.py:201 -- The `callbacks.on_trial_result` operation took 1.289 s, which may be a performance bottleneck.\n",
      "2025-02-17 12:57:39,933\tWARNING util.py:201 -- The `process_trial_result` operation took 1.291 s, which may be a performance bottleneck.\n",
      "2025-02-17 12:57:39,934\tWARNING util.py:201 -- Processing trial results took 1.292 s, which may be a performance bottleneck. Please consider reporting results less frequently to Ray Tune.\n",
      "2025-02-17 12:57:39,934\tWARNING util.py:201 -- The `process_trial_result` operation took 1.292 s, which may be a performance bottleneck.\n"
     ]
    },
    {
     "name": "stdout",
     "output_type": "stream",
     "text": [
      "\u001b[36m(train_rf pid=231239)\u001b[0m Train: (48, 1199), Test: (48, 1199)\n"
     ]
    },
    {
     "name": "stderr",
     "output_type": "stream",
     "text": [
      "2025-02-17 12:57:45,557\tWARNING util.py:201 -- The `callbacks.on_trial_result` operation took 1.266 s, which may be a performance bottleneck.\n",
      "2025-02-17 12:57:45,559\tWARNING util.py:201 -- The `process_trial_result` operation took 1.268 s, which may be a performance bottleneck.\n",
      "2025-02-17 12:57:45,559\tWARNING util.py:201 -- Processing trial results took 1.269 s, which may be a performance bottleneck. Please consider reporting results less frequently to Ray Tune.\n",
      "2025-02-17 12:57:45,559\tWARNING util.py:201 -- The `process_trial_result` operation took 1.269 s, which may be a performance bottleneck.\n"
     ]
    },
    {
     "name": "stdout",
     "output_type": "stream",
     "text": [
      "\u001b[36m(train_rf pid=231298)\u001b[0m Train: (48, 1199), Test: (48, 1199)\n"
     ]
    },
    {
     "name": "stderr",
     "output_type": "stream",
     "text": [
      "2025-02-17 12:57:52,675\tWARNING util.py:201 -- The `callbacks.on_trial_result` operation took 2.616 s, which may be a performance bottleneck.\n",
      "2025-02-17 12:57:52,677\tWARNING util.py:201 -- The `process_trial_result` operation took 2.618 s, which may be a performance bottleneck.\n",
      "2025-02-17 12:57:52,678\tWARNING util.py:201 -- Processing trial results took 2.619 s, which may be a performance bottleneck. Please consider reporting results less frequently to Ray Tune.\n",
      "2025-02-17 12:57:52,678\tWARNING util.py:201 -- The `process_trial_result` operation took 2.620 s, which may be a performance bottleneck.\n"
     ]
    },
    {
     "name": "stdout",
     "output_type": "stream",
     "text": [
      "\u001b[36m(train_rf pid=231356)\u001b[0m Train: (48, 1078), Test: (48, 1078)\n"
     ]
    },
    {
     "name": "stderr",
     "output_type": "stream",
     "text": [
      "2025-02-17 12:57:57,162\tWARNING util.py:201 -- The `callbacks.on_trial_result` operation took 1.308 s, which may be a performance bottleneck.\n",
      "2025-02-17 12:57:57,164\tWARNING util.py:201 -- The `process_trial_result` operation took 1.310 s, which may be a performance bottleneck.\n",
      "2025-02-17 12:57:57,164\tWARNING util.py:201 -- Processing trial results took 1.310 s, which may be a performance bottleneck. Please consider reporting results less frequently to Ray Tune.\n",
      "2025-02-17 12:57:57,165\tWARNING util.py:201 -- The `process_trial_result` operation took 1.311 s, which may be a performance bottleneck.\n"
     ]
    },
    {
     "name": "stdout",
     "output_type": "stream",
     "text": [
      "\u001b[36m(train_rf pid=231416)\u001b[0m Train: (48, 1078), Test: (48, 1078)\n"
     ]
    },
    {
     "name": "stderr",
     "output_type": "stream",
     "text": [
      "2025-02-17 12:58:04,053\tWARNING util.py:201 -- The `callbacks.on_trial_result` operation took 2.393 s, which may be a performance bottleneck.\n",
      "2025-02-17 12:58:04,055\tWARNING util.py:201 -- The `process_trial_result` operation took 2.395 s, which may be a performance bottleneck.\n",
      "2025-02-17 12:58:04,055\tWARNING util.py:201 -- Processing trial results took 2.396 s, which may be a performance bottleneck. Please consider reporting results less frequently to Ray Tune.\n",
      "2025-02-17 12:58:04,056\tWARNING util.py:201 -- The `process_trial_result` operation took 2.396 s, which may be a performance bottleneck.\n"
     ]
    },
    {
     "name": "stdout",
     "output_type": "stream",
     "text": [
      "\u001b[36m(train_rf pid=231482)\u001b[0m Train: (48, 1240), Test: (48, 1240)\n"
     ]
    },
    {
     "name": "stderr",
     "output_type": "stream",
     "text": [
      "2025-02-17 12:58:08,792\tWARNING util.py:201 -- The `callbacks.on_trial_result` operation took 1.307 s, which may be a performance bottleneck.\n",
      "2025-02-17 12:58:08,793\tWARNING util.py:201 -- The `process_trial_result` operation took 1.309 s, which may be a performance bottleneck.\n",
      "2025-02-17 12:58:08,794\tWARNING util.py:201 -- Processing trial results took 1.310 s, which may be a performance bottleneck. Please consider reporting results less frequently to Ray Tune.\n",
      "2025-02-17 12:58:08,794\tWARNING util.py:201 -- The `process_trial_result` operation took 1.310 s, which may be a performance bottleneck.\n"
     ]
    },
    {
     "name": "stdout",
     "output_type": "stream",
     "text": [
      "\u001b[36m(train_rf pid=231568)\u001b[0m Train: (48, 1240), Test: (48, 1240)\n"
     ]
    },
    {
     "name": "stderr",
     "output_type": "stream",
     "text": [
      "2025-02-17 12:58:15,686\tWARNING util.py:201 -- The `callbacks.on_trial_result` operation took 1.355 s, which may be a performance bottleneck.\n",
      "2025-02-17 12:58:15,687\tWARNING util.py:201 -- The `process_trial_result` operation took 1.357 s, which may be a performance bottleneck.\n",
      "2025-02-17 12:58:15,688\tWARNING util.py:201 -- Processing trial results took 1.358 s, which may be a performance bottleneck. Please consider reporting results less frequently to Ray Tune.\n",
      "2025-02-17 12:58:15,688\tWARNING util.py:201 -- The `process_trial_result` operation took 1.358 s, which may be a performance bottleneck.\n"
     ]
    },
    {
     "name": "stdout",
     "output_type": "stream",
     "text": [
      "\u001b[36m(train_rf pid=231629)\u001b[0m Train: (48, 990), Test: (48, 990)\n"
     ]
    },
    {
     "name": "stderr",
     "output_type": "stream",
     "text": [
      "2025-02-17 12:58:21,572\tWARNING util.py:201 -- The `callbacks.on_trial_result` operation took 1.452 s, which may be a performance bottleneck.\n",
      "2025-02-17 12:58:21,574\tWARNING util.py:201 -- The `process_trial_result` operation took 1.454 s, which may be a performance bottleneck.\n",
      "2025-02-17 12:58:21,574\tWARNING util.py:201 -- Processing trial results took 1.455 s, which may be a performance bottleneck. Please consider reporting results less frequently to Ray Tune.\n",
      "2025-02-17 12:58:21,575\tWARNING util.py:201 -- The `process_trial_result` operation took 1.455 s, which may be a performance bottleneck.\n"
     ]
    },
    {
     "name": "stdout",
     "output_type": "stream",
     "text": [
      "\u001b[36m(train_rf pid=231684)\u001b[0m Train: (48, 990), Test: (48, 990)\n"
     ]
    },
    {
     "name": "stderr",
     "output_type": "stream",
     "text": [
      "2025-02-17 12:58:27,478\tWARNING util.py:201 -- The `callbacks.on_trial_result` operation took 1.348 s, which may be a performance bottleneck.\n",
      "2025-02-17 12:58:27,480\tWARNING util.py:201 -- The `process_trial_result` operation took 1.350 s, which may be a performance bottleneck.\n",
      "2025-02-17 12:58:27,480\tWARNING util.py:201 -- Processing trial results took 1.351 s, which may be a performance bottleneck. Please consider reporting results less frequently to Ray Tune.\n",
      "2025-02-17 12:58:27,481\tWARNING util.py:201 -- The `process_trial_result` operation took 1.352 s, which may be a performance bottleneck.\n"
     ]
    },
    {
     "name": "stdout",
     "output_type": "stream",
     "text": [
      "\u001b[36m(train_rf pid=231743)\u001b[0m Train: (48, 1304), Test: (48, 1304)\n"
     ]
    },
    {
     "name": "stderr",
     "output_type": "stream",
     "text": [
      "2025-02-17 12:58:34,572\tWARNING util.py:201 -- The `callbacks.on_trial_result` operation took 2.706 s, which may be a performance bottleneck.\n",
      "2025-02-17 12:58:34,574\tWARNING util.py:201 -- The `process_trial_result` operation took 2.708 s, which may be a performance bottleneck.\n",
      "2025-02-17 12:58:34,574\tWARNING util.py:201 -- Processing trial results took 2.708 s, which may be a performance bottleneck. Please consider reporting results less frequently to Ray Tune.\n",
      "2025-02-17 12:58:34,574\tWARNING util.py:201 -- The `process_trial_result` operation took 2.709 s, which may be a performance bottleneck.\n"
     ]
    },
    {
     "name": "stdout",
     "output_type": "stream",
     "text": [
      "\u001b[36m(train_rf pid=231805)\u001b[0m Train: (48, 312), Test: (48, 312)\n"
     ]
    },
    {
     "name": "stderr",
     "output_type": "stream",
     "text": [
      "2025-02-17 12:58:38,852\tWARNING util.py:201 -- The `callbacks.on_trial_result` operation took 1.318 s, which may be a performance bottleneck.\n",
      "2025-02-17 12:58:38,854\tWARNING util.py:201 -- The `process_trial_result` operation took 1.320 s, which may be a performance bottleneck.\n",
      "2025-02-17 12:58:38,854\tWARNING util.py:201 -- Processing trial results took 1.320 s, which may be a performance bottleneck. Please consider reporting results less frequently to Ray Tune.\n",
      "2025-02-17 12:58:38,854\tWARNING util.py:201 -- The `process_trial_result` operation took 1.321 s, which may be a performance bottleneck.\n"
     ]
    },
    {
     "name": "stdout",
     "output_type": "stream",
     "text": [
      "\u001b[36m(train_rf pid=231867)\u001b[0m Train: (48, 726), Test: (48, 726)\n"
     ]
    },
    {
     "name": "stderr",
     "output_type": "stream",
     "text": [
      "2025-02-17 12:58:46,296\tWARNING util.py:201 -- The `callbacks.on_trial_result` operation took 1.311 s, which may be a performance bottleneck.\n",
      "2025-02-17 12:58:46,298\tWARNING util.py:201 -- The `process_trial_result` operation took 1.313 s, which may be a performance bottleneck.\n",
      "2025-02-17 12:58:46,298\tWARNING util.py:201 -- Processing trial results took 1.313 s, which may be a performance bottleneck. Please consider reporting results less frequently to Ray Tune.\n",
      "2025-02-17 12:58:46,299\tWARNING util.py:201 -- The `process_trial_result` operation took 1.314 s, which may be a performance bottleneck.\n"
     ]
    },
    {
     "name": "stdout",
     "output_type": "stream",
     "text": [
      "\u001b[36m(train_rf pid=231926)\u001b[0m Train: (48, 734), Test: (48, 734)\n"
     ]
    },
    {
     "name": "stderr",
     "output_type": "stream",
     "text": [
      "2025-02-17 12:58:52,087\tWARNING util.py:201 -- The `callbacks.on_trial_result` operation took 1.325 s, which may be a performance bottleneck.\n",
      "2025-02-17 12:58:52,089\tWARNING util.py:201 -- The `process_trial_result` operation took 1.328 s, which may be a performance bottleneck.\n",
      "2025-02-17 12:58:52,090\tWARNING util.py:201 -- Processing trial results took 1.328 s, which may be a performance bottleneck. Please consider reporting results less frequently to Ray Tune.\n",
      "2025-02-17 12:58:52,091\tWARNING util.py:201 -- The `process_trial_result` operation took 1.329 s, which may be a performance bottleneck.\n"
     ]
    },
    {
     "name": "stdout",
     "output_type": "stream",
     "text": [
      "\u001b[36m(train_rf pid=231984)\u001b[0m Train: (48, 1058), Test: (48, 1058)\n"
     ]
    },
    {
     "name": "stderr",
     "output_type": "stream",
     "text": [
      "2025-02-17 12:58:58,260\tWARNING util.py:201 -- The `callbacks.on_trial_result` operation took 1.376 s, which may be a performance bottleneck.\n",
      "2025-02-17 12:58:58,261\tWARNING util.py:201 -- The `process_trial_result` operation took 1.377 s, which may be a performance bottleneck.\n",
      "2025-02-17 12:58:58,262\tWARNING util.py:201 -- Processing trial results took 1.378 s, which may be a performance bottleneck. Please consider reporting results less frequently to Ray Tune.\n",
      "2025-02-17 12:58:58,263\tWARNING util.py:201 -- The `process_trial_result` operation took 1.379 s, which may be a performance bottleneck.\n"
     ]
    },
    {
     "name": "stdout",
     "output_type": "stream",
     "text": [
      "\u001b[36m(train_rf pid=232044)\u001b[0m Train: (48, 1058), Test: (48, 1058)\n"
     ]
    },
    {
     "name": "stderr",
     "output_type": "stream",
     "text": [
      "2025-02-17 12:59:05,296\tWARNING util.py:201 -- The `callbacks.on_trial_result` operation took 2.732 s, which may be a performance bottleneck.\n",
      "2025-02-17 12:59:05,298\tWARNING util.py:201 -- The `process_trial_result` operation took 2.735 s, which may be a performance bottleneck.\n",
      "2025-02-17 12:59:05,299\tWARNING util.py:201 -- Processing trial results took 2.736 s, which may be a performance bottleneck. Please consider reporting results less frequently to Ray Tune.\n",
      "2025-02-17 12:59:05,299\tWARNING util.py:201 -- The `process_trial_result` operation took 2.736 s, which may be a performance bottleneck.\n"
     ]
    },
    {
     "name": "stdout",
     "output_type": "stream",
     "text": [
      "\u001b[36m(train_rf pid=232133)\u001b[0m Train: (48, 1203), Test: (48, 1203)\n"
     ]
    },
    {
     "name": "stderr",
     "output_type": "stream",
     "text": [
      "2025-02-17 12:59:09,765\tWARNING util.py:201 -- The `callbacks.on_trial_result` operation took 1.366 s, which may be a performance bottleneck.\n",
      "2025-02-17 12:59:09,767\tWARNING util.py:201 -- The `process_trial_result` operation took 1.368 s, which may be a performance bottleneck.\n",
      "2025-02-17 12:59:09,767\tWARNING util.py:201 -- Processing trial results took 1.369 s, which may be a performance bottleneck. Please consider reporting results less frequently to Ray Tune.\n",
      "2025-02-17 12:59:09,768\tWARNING util.py:201 -- The `process_trial_result` operation took 1.369 s, which may be a performance bottleneck.\n"
     ]
    },
    {
     "name": "stdout",
     "output_type": "stream",
     "text": [
      "\u001b[36m(train_rf pid=232195)\u001b[0m Train: (48, 1203), Test: (48, 1203)\n"
     ]
    },
    {
     "name": "stderr",
     "output_type": "stream",
     "text": [
      "2025-02-17 12:59:17,132\tWARNING util.py:201 -- The `callbacks.on_trial_result` operation took 1.334 s, which may be a performance bottleneck.\n",
      "2025-02-17 12:59:17,133\tWARNING util.py:201 -- The `process_trial_result` operation took 1.336 s, which may be a performance bottleneck.\n",
      "2025-02-17 12:59:17,134\tWARNING util.py:201 -- Processing trial results took 1.337 s, which may be a performance bottleneck. Please consider reporting results less frequently to Ray Tune.\n",
      "2025-02-17 12:59:17,134\tWARNING util.py:201 -- The `process_trial_result` operation took 1.337 s, which may be a performance bottleneck.\n"
     ]
    },
    {
     "name": "stdout",
     "output_type": "stream",
     "text": [
      "\u001b[36m(train_rf pid=232260)\u001b[0m Train: (48, 990), Test: (48, 990)\n"
     ]
    },
    {
     "name": "stderr",
     "output_type": "stream",
     "text": [
      "2025-02-17 12:59:23,014\tWARNING util.py:201 -- The `callbacks.on_trial_result` operation took 1.393 s, which may be a performance bottleneck.\n",
      "2025-02-17 12:59:23,016\tWARNING util.py:201 -- The `process_trial_result` operation took 1.394 s, which may be a performance bottleneck.\n",
      "2025-02-17 12:59:23,016\tWARNING util.py:201 -- Processing trial results took 1.395 s, which may be a performance bottleneck. Please consider reporting results less frequently to Ray Tune.\n",
      "2025-02-17 12:59:23,017\tWARNING util.py:201 -- The `process_trial_result` operation took 1.395 s, which may be a performance bottleneck.\n"
     ]
    },
    {
     "name": "stdout",
     "output_type": "stream",
     "text": [
      "\u001b[36m(train_rf pid=232318)\u001b[0m Train: (48, 990), Test: (48, 990)\n"
     ]
    },
    {
     "name": "stderr",
     "output_type": "stream",
     "text": [
      "2025-02-17 12:59:29,224\tWARNING util.py:201 -- The `callbacks.on_trial_result` operation took 1.325 s, which may be a performance bottleneck.\n",
      "2025-02-17 12:59:29,225\tWARNING util.py:201 -- The `process_trial_result` operation took 1.327 s, which may be a performance bottleneck.\n",
      "2025-02-17 12:59:29,226\tWARNING util.py:201 -- Processing trial results took 1.327 s, which may be a performance bottleneck. Please consider reporting results less frequently to Ray Tune.\n",
      "2025-02-17 12:59:29,226\tWARNING util.py:201 -- The `process_trial_result` operation took 1.327 s, which may be a performance bottleneck.\n"
     ]
    },
    {
     "name": "stdout",
     "output_type": "stream",
     "text": [
      "\u001b[36m(train_rf pid=232377)\u001b[0m Train: (48, 1199), Test: (48, 1199)\n"
     ]
    },
    {
     "name": "stderr",
     "output_type": "stream",
     "text": [
      "2025-02-17 12:59:36,548\tWARNING util.py:201 -- The `callbacks.on_trial_result` operation took 2.863 s, which may be a performance bottleneck.\n",
      "2025-02-17 12:59:36,550\tWARNING util.py:201 -- The `process_trial_result` operation took 2.865 s, which may be a performance bottleneck.\n",
      "2025-02-17 12:59:36,550\tWARNING util.py:201 -- Processing trial results took 2.865 s, which may be a performance bottleneck. Please consider reporting results less frequently to Ray Tune.\n",
      "2025-02-17 12:59:36,551\tWARNING util.py:201 -- The `process_trial_result` operation took 2.866 s, which may be a performance bottleneck.\n"
     ]
    },
    {
     "name": "stdout",
     "output_type": "stream",
     "text": [
      "\u001b[36m(train_rf pid=232440)\u001b[0m Train: (48, 858), Test: (48, 858)\n"
     ]
    },
    {
     "name": "stderr",
     "output_type": "stream",
     "text": [
      "2025-02-17 12:59:40,832\tWARNING util.py:201 -- The `callbacks.on_trial_result` operation took 1.308 s, which may be a performance bottleneck.\n",
      "2025-02-17 12:59:40,834\tWARNING util.py:201 -- The `process_trial_result` operation took 1.309 s, which may be a performance bottleneck.\n",
      "2025-02-17 12:59:40,834\tWARNING util.py:201 -- Processing trial results took 1.310 s, which may be a performance bottleneck. Please consider reporting results less frequently to Ray Tune.\n",
      "2025-02-17 12:59:40,835\tWARNING util.py:201 -- The `process_trial_result` operation took 1.310 s, which may be a performance bottleneck.\n"
     ]
    },
    {
     "name": "stdout",
     "output_type": "stream",
     "text": [
      "\u001b[36m(train_rf pid=232499)\u001b[0m Train: (48, 858), Test: (48, 858)\n"
     ]
    },
    {
     "name": "stderr",
     "output_type": "stream",
     "text": [
      "2025-02-17 12:59:48,285\tWARNING util.py:201 -- The `callbacks.on_trial_result` operation took 1.312 s, which may be a performance bottleneck.\n",
      "2025-02-17 12:59:48,286\tWARNING util.py:201 -- The `process_trial_result` operation took 1.313 s, which may be a performance bottleneck.\n",
      "2025-02-17 12:59:48,287\tWARNING util.py:201 -- Processing trial results took 1.314 s, which may be a performance bottleneck. Please consider reporting results less frequently to Ray Tune.\n",
      "2025-02-17 12:59:48,287\tWARNING util.py:201 -- The `process_trial_result` operation took 1.314 s, which may be a performance bottleneck.\n"
     ]
    },
    {
     "name": "stdout",
     "output_type": "stream",
     "text": [
      "\u001b[36m(train_rf pid=232559)\u001b[0m Train: (48, 1078), Test: (48, 1078)\n"
     ]
    },
    {
     "name": "stderr",
     "output_type": "stream",
     "text": [
      "2025-02-17 12:59:54,178\tWARNING util.py:201 -- The `callbacks.on_trial_result` operation took 1.340 s, which may be a performance bottleneck.\n",
      "2025-02-17 12:59:54,179\tWARNING util.py:201 -- The `process_trial_result` operation took 1.342 s, which may be a performance bottleneck.\n",
      "2025-02-17 12:59:54,180\tWARNING util.py:201 -- Processing trial results took 1.342 s, which may be a performance bottleneck. Please consider reporting results less frequently to Ray Tune.\n",
      "2025-02-17 12:59:54,181\tWARNING util.py:201 -- The `process_trial_result` operation took 1.343 s, which may be a performance bottleneck.\n"
     ]
    },
    {
     "name": "stdout",
     "output_type": "stream",
     "text": [
      "\u001b[36m(train_rf pid=232618)\u001b[0m Train: (48, 1078), Test: (48, 1078)\n"
     ]
    },
    {
     "name": "stderr",
     "output_type": "stream",
     "text": [
      "2025-02-17 13:00:00,256\tWARNING util.py:201 -- The `callbacks.on_trial_result` operation took 1.378 s, which may be a performance bottleneck.\n",
      "2025-02-17 13:00:00,257\tWARNING util.py:201 -- The `process_trial_result` operation took 1.380 s, which may be a performance bottleneck.\n",
      "2025-02-17 13:00:00,258\tWARNING util.py:201 -- Processing trial results took 1.381 s, which may be a performance bottleneck. Please consider reporting results less frequently to Ray Tune.\n",
      "2025-02-17 13:00:00,259\tWARNING util.py:201 -- The `process_trial_result` operation took 1.382 s, which may be a performance bottleneck.\n"
     ]
    },
    {
     "name": "stdout",
     "output_type": "stream",
     "text": [
      "\u001b[36m(train_rf pid=232678)\u001b[0m Train: (48, 833), Test: (48, 833)\n"
     ]
    },
    {
     "name": "stderr",
     "output_type": "stream",
     "text": [
      "2025-02-17 13:00:09,255\tWARNING util.py:201 -- The `callbacks.on_trial_result` operation took 4.267 s, which may be a performance bottleneck.\n",
      "2025-02-17 13:00:09,257\tWARNING util.py:201 -- The `process_trial_result` operation took 4.269 s, which may be a performance bottleneck.\n",
      "2025-02-17 13:00:09,257\tWARNING util.py:201 -- Processing trial results took 4.269 s, which may be a performance bottleneck. Please consider reporting results less frequently to Ray Tune.\n",
      "2025-02-17 13:00:09,258\tWARNING util.py:201 -- The `process_trial_result` operation took 4.270 s, which may be a performance bottleneck.\n"
     ]
    },
    {
     "name": "stdout",
     "output_type": "stream",
     "text": [
      "\u001b[36m(train_rf pid=232773)\u001b[0m Train: (48, 833), Test: (48, 833)\n"
     ]
    },
    {
     "name": "stderr",
     "output_type": "stream",
     "text": [
      "2025-02-17 13:00:12,609\tWARNING util.py:201 -- The `callbacks.on_trial_result` operation took 1.392 s, which may be a performance bottleneck.\n",
      "2025-02-17 13:00:12,610\tWARNING util.py:201 -- The `process_trial_result` operation took 1.393 s, which may be a performance bottleneck.\n",
      "2025-02-17 13:00:12,611\tWARNING util.py:201 -- Processing trial results took 1.394 s, which may be a performance bottleneck. Please consider reporting results less frequently to Ray Tune.\n",
      "2025-02-17 13:00:12,612\tWARNING util.py:201 -- The `process_trial_result` operation took 1.395 s, which may be a performance bottleneck.\n"
     ]
    },
    {
     "name": "stdout",
     "output_type": "stream",
     "text": [
      "\u001b[36m(train_rf pid=232833)\u001b[0m Train: (48, 58), Test: (48, 58)\n"
     ]
    },
    {
     "name": "stderr",
     "output_type": "stream",
     "text": [
      "2025-02-17 13:00:20,354\tWARNING util.py:201 -- The `callbacks.on_trial_result` operation took 1.459 s, which may be a performance bottleneck.\n",
      "2025-02-17 13:00:20,356\tWARNING util.py:201 -- The `process_trial_result` operation took 1.461 s, which may be a performance bottleneck.\n",
      "2025-02-17 13:00:20,356\tWARNING util.py:201 -- Processing trial results took 1.462 s, which may be a performance bottleneck. Please consider reporting results less frequently to Ray Tune.\n",
      "2025-02-17 13:00:20,357\tWARNING util.py:201 -- The `process_trial_result` operation took 1.462 s, which may be a performance bottleneck.\n"
     ]
    },
    {
     "name": "stdout",
     "output_type": "stream",
     "text": [
      "\u001b[36m(train_rf pid=232900)\u001b[0m Train: (48, 58), Test: (48, 58)\n"
     ]
    },
    {
     "name": "stderr",
     "output_type": "stream",
     "text": [
      "2025-02-17 13:00:26,064\tWARNING util.py:201 -- The `callbacks.on_trial_result` operation took 1.371 s, which may be a performance bottleneck.\n",
      "2025-02-17 13:00:26,066\tWARNING util.py:201 -- The `process_trial_result` operation took 1.373 s, which may be a performance bottleneck.\n",
      "2025-02-17 13:00:26,067\tWARNING util.py:201 -- Processing trial results took 1.373 s, which may be a performance bottleneck. Please consider reporting results less frequently to Ray Tune.\n",
      "2025-02-17 13:00:26,067\tWARNING util.py:201 -- The `process_trial_result` operation took 1.374 s, which may be a performance bottleneck.\n"
     ]
    },
    {
     "name": "stdout",
     "output_type": "stream",
     "text": [
      "\u001b[36m(train_rf pid=232959)\u001b[0m Train: (48, 734), Test: (48, 734)\n"
     ]
    },
    {
     "name": "stderr",
     "output_type": "stream",
     "text": [
      "2025-02-17 13:00:32,202\tWARNING util.py:201 -- The `callbacks.on_trial_result` operation took 1.420 s, which may be a performance bottleneck.\n",
      "2025-02-17 13:00:32,204\tWARNING util.py:201 -- The `process_trial_result` operation took 1.422 s, which may be a performance bottleneck.\n",
      "2025-02-17 13:00:32,205\tWARNING util.py:201 -- Processing trial results took 1.422 s, which may be a performance bottleneck. Please consider reporting results less frequently to Ray Tune.\n",
      "2025-02-17 13:00:32,205\tWARNING util.py:201 -- The `process_trial_result` operation took 1.423 s, which may be a performance bottleneck.\n"
     ]
    },
    {
     "name": "stdout",
     "output_type": "stream",
     "text": [
      "\u001b[36m(train_rf pid=233018)\u001b[0m Train: (48, 734), Test: (48, 734)\n"
     ]
    },
    {
     "name": "stderr",
     "output_type": "stream",
     "text": [
      "2025-02-17 13:00:39,899\tWARNING util.py:201 -- The `callbacks.on_trial_result` operation took 3.302 s, which may be a performance bottleneck.\n",
      "2025-02-17 13:00:39,901\tWARNING util.py:201 -- The `process_trial_result` operation took 3.303 s, which may be a performance bottleneck.\n",
      "2025-02-17 13:00:39,901\tWARNING util.py:201 -- Processing trial results took 3.304 s, which may be a performance bottleneck. Please consider reporting results less frequently to Ray Tune.\n",
      "2025-02-17 13:00:39,902\tWARNING util.py:201 -- The `process_trial_result` operation took 3.304 s, which may be a performance bottleneck.\n"
     ]
    },
    {
     "name": "stdout",
     "output_type": "stream",
     "text": [
      "\u001b[36m(train_rf pid=233114)\u001b[0m Train: (48, 833), Test: (48, 833)\n"
     ]
    },
    {
     "name": "stderr",
     "output_type": "stream",
     "text": [
      "2025-02-17 13:00:43,844\tWARNING util.py:201 -- The `callbacks.on_trial_result` operation took 1.343 s, which may be a performance bottleneck.\n",
      "2025-02-17 13:00:43,846\tWARNING util.py:201 -- The `process_trial_result` operation took 1.344 s, which may be a performance bottleneck.\n",
      "2025-02-17 13:00:43,847\tWARNING util.py:201 -- Processing trial results took 1.345 s, which may be a performance bottleneck. Please consider reporting results less frequently to Ray Tune.\n",
      "2025-02-17 13:00:43,847\tWARNING util.py:201 -- The `process_trial_result` operation took 1.345 s, which may be a performance bottleneck.\n"
     ]
    },
    {
     "name": "stdout",
     "output_type": "stream",
     "text": [
      "\u001b[36m(train_rf pid=233173)\u001b[0m Train: (48, 833), Test: (48, 833)\n"
     ]
    },
    {
     "name": "stderr",
     "output_type": "stream",
     "text": [
      "2025-02-17 13:00:51,448\tWARNING util.py:201 -- The `callbacks.on_trial_result` operation took 1.368 s, which may be a performance bottleneck.\n",
      "2025-02-17 13:00:51,449\tWARNING util.py:201 -- The `process_trial_result` operation took 1.369 s, which may be a performance bottleneck.\n",
      "2025-02-17 13:00:51,451\tWARNING util.py:201 -- Processing trial results took 1.371 s, which may be a performance bottleneck. Please consider reporting results less frequently to Ray Tune.\n",
      "2025-02-17 13:00:51,452\tWARNING util.py:201 -- The `process_trial_result` operation took 1.372 s, which may be a performance bottleneck.\n"
     ]
    },
    {
     "name": "stdout",
     "output_type": "stream",
     "text": [
      "\u001b[36m(train_rf pid=233232)\u001b[0m Train: (48, 726), Test: (48, 726)\n"
     ]
    },
    {
     "name": "stderr",
     "output_type": "stream",
     "text": [
      "2025-02-17 13:00:57,161\tWARNING util.py:201 -- The `callbacks.on_trial_result` operation took 1.351 s, which may be a performance bottleneck.\n",
      "2025-02-17 13:00:57,163\tWARNING util.py:201 -- The `process_trial_result` operation took 1.353 s, which may be a performance bottleneck.\n",
      "2025-02-17 13:00:57,164\tWARNING util.py:201 -- Processing trial results took 1.354 s, which may be a performance bottleneck. Please consider reporting results less frequently to Ray Tune.\n",
      "2025-02-17 13:00:57,164\tWARNING util.py:201 -- The `process_trial_result` operation took 1.354 s, which may be a performance bottleneck.\n"
     ]
    },
    {
     "name": "stdout",
     "output_type": "stream",
     "text": [
      "\u001b[36m(train_rf pid=233296)\u001b[0m Train: (48, 726), Test: (48, 726)\n"
     ]
    },
    {
     "name": "stderr",
     "output_type": "stream",
     "text": [
      "2025-02-17 13:01:03,133\tWARNING util.py:201 -- The `callbacks.on_trial_result` operation took 1.343 s, which may be a performance bottleneck.\n",
      "2025-02-17 13:01:03,135\tWARNING util.py:201 -- The `process_trial_result` operation took 1.345 s, which may be a performance bottleneck.\n",
      "2025-02-17 13:01:03,135\tWARNING util.py:201 -- Processing trial results took 1.346 s, which may be a performance bottleneck. Please consider reporting results less frequently to Ray Tune.\n",
      "2025-02-17 13:01:03,136\tWARNING util.py:201 -- The `process_trial_result` operation took 1.346 s, which may be a performance bottleneck.\n"
     ]
    },
    {
     "name": "stdout",
     "output_type": "stream",
     "text": [
      "\u001b[36m(train_rf pid=233397)\u001b[0m Train: (48, 833), Test: (48, 833)\n"
     ]
    },
    {
     "name": "stderr",
     "output_type": "stream",
     "text": [
      "2025-02-17 13:01:10,763\tWARNING util.py:201 -- The `callbacks.on_trial_result` operation took 3.273 s, which may be a performance bottleneck.\n",
      "2025-02-17 13:01:10,765\tWARNING util.py:201 -- The `process_trial_result` operation took 3.275 s, which may be a performance bottleneck.\n",
      "2025-02-17 13:01:10,765\tWARNING util.py:201 -- Processing trial results took 3.276 s, which may be a performance bottleneck. Please consider reporting results less frequently to Ray Tune.\n",
      "2025-02-17 13:01:10,766\tWARNING util.py:201 -- The `process_trial_result` operation took 3.276 s, which may be a performance bottleneck.\n"
     ]
    },
    {
     "name": "stdout",
     "output_type": "stream",
     "text": [
      "\u001b[36m(train_rf pid=233456)\u001b[0m Train: (48, 833), Test: (48, 833)\n"
     ]
    },
    {
     "name": "stderr",
     "output_type": "stream",
     "text": [
      "2025-02-17 13:01:14,793\tWARNING util.py:201 -- The `callbacks.on_trial_result` operation took 1.318 s, which may be a performance bottleneck.\n",
      "2025-02-17 13:01:14,794\tWARNING util.py:201 -- The `process_trial_result` operation took 1.320 s, which may be a performance bottleneck.\n",
      "2025-02-17 13:01:14,795\tWARNING util.py:201 -- Processing trial results took 1.321 s, which may be a performance bottleneck. Please consider reporting results less frequently to Ray Tune.\n",
      "2025-02-17 13:01:14,796\tWARNING util.py:201 -- The `process_trial_result` operation took 1.321 s, which may be a performance bottleneck.\n"
     ]
    },
    {
     "name": "stdout",
     "output_type": "stream",
     "text": [
      "\u001b[36m(train_rf pid=233521)\u001b[0m Train: (48, 833), Test: (48, 833)\n"
     ]
    },
    {
     "name": "stderr",
     "output_type": "stream",
     "text": [
      "2025-02-17 13:01:22,435\tWARNING util.py:201 -- The `callbacks.on_trial_result` operation took 1.377 s, which may be a performance bottleneck.\n",
      "2025-02-17 13:01:22,436\tWARNING util.py:201 -- The `process_trial_result` operation took 1.379 s, which may be a performance bottleneck.\n",
      "2025-02-17 13:01:22,437\tWARNING util.py:201 -- Processing trial results took 1.380 s, which may be a performance bottleneck. Please consider reporting results less frequently to Ray Tune.\n",
      "2025-02-17 13:01:22,437\tWARNING util.py:201 -- The `process_trial_result` operation took 1.380 s, which may be a performance bottleneck.\n"
     ]
    },
    {
     "name": "stdout",
     "output_type": "stream",
     "text": [
      "\u001b[36m(train_rf pid=233577)\u001b[0m Train: (48, 833), Test: (48, 833)\n"
     ]
    },
    {
     "name": "stderr",
     "output_type": "stream",
     "text": [
      "2025-02-17 13:01:28,239\tWARNING util.py:201 -- The `callbacks.on_trial_result` operation took 1.418 s, which may be a performance bottleneck.\n",
      "2025-02-17 13:01:28,240\tWARNING util.py:201 -- The `process_trial_result` operation took 1.420 s, which may be a performance bottleneck.\n",
      "2025-02-17 13:01:28,241\tWARNING util.py:201 -- Processing trial results took 1.421 s, which may be a performance bottleneck. Please consider reporting results less frequently to Ray Tune.\n",
      "2025-02-17 13:01:28,242\tWARNING util.py:201 -- The `process_trial_result` operation took 1.421 s, which may be a performance bottleneck.\n"
     ]
    },
    {
     "name": "stdout",
     "output_type": "stream",
     "text": [
      "\u001b[36m(train_rf pid=233631)\u001b[0m Train: (48, 833), Test: (48, 833)\n"
     ]
    },
    {
     "name": "stderr",
     "output_type": "stream",
     "text": [
      "2025-02-17 13:01:34,173\tWARNING util.py:201 -- The `callbacks.on_trial_result` operation took 1.329 s, which may be a performance bottleneck.\n",
      "2025-02-17 13:01:34,175\tWARNING util.py:201 -- The `process_trial_result` operation took 1.330 s, which may be a performance bottleneck.\n",
      "2025-02-17 13:01:34,175\tWARNING util.py:201 -- Processing trial results took 1.331 s, which may be a performance bottleneck. Please consider reporting results less frequently to Ray Tune.\n",
      "2025-02-17 13:01:34,176\tWARNING util.py:201 -- The `process_trial_result` operation took 1.331 s, which may be a performance bottleneck.\n"
     ]
    },
    {
     "name": "stdout",
     "output_type": "stream",
     "text": [
      "\u001b[36m(train_rf pid=233686)\u001b[0m Train: (48, 858), Test: (48, 858)\n"
     ]
    },
    {
     "name": "stderr",
     "output_type": "stream",
     "text": [
      "2025-02-17 13:01:41,866\tWARNING util.py:201 -- The `callbacks.on_trial_result` operation took 3.056 s, which may be a performance bottleneck.\n",
      "2025-02-17 13:01:41,868\tWARNING util.py:201 -- The `process_trial_result` operation took 3.057 s, which may be a performance bottleneck.\n",
      "2025-02-17 13:01:41,868\tWARNING util.py:201 -- Processing trial results took 3.058 s, which may be a performance bottleneck. Please consider reporting results less frequently to Ray Tune.\n",
      "2025-02-17 13:01:41,869\tWARNING util.py:201 -- The `process_trial_result` operation took 3.058 s, which may be a performance bottleneck.\n"
     ]
    },
    {
     "name": "stdout",
     "output_type": "stream",
     "text": [
      "\u001b[36m(train_rf pid=233745)\u001b[0m Train: (48, 858), Test: (48, 858)\n"
     ]
    },
    {
     "name": "stderr",
     "output_type": "stream",
     "text": [
      "2025-02-17 13:01:46,118\tWARNING util.py:201 -- The `callbacks.on_trial_result` operation took 1.450 s, which may be a performance bottleneck.\n",
      "2025-02-17 13:01:46,119\tWARNING util.py:201 -- The `process_trial_result` operation took 1.452 s, which may be a performance bottleneck.\n",
      "2025-02-17 13:01:46,120\tWARNING util.py:201 -- Processing trial results took 1.452 s, which may be a performance bottleneck. Please consider reporting results less frequently to Ray Tune.\n",
      "2025-02-17 13:01:46,120\tWARNING util.py:201 -- The `process_trial_result` operation took 1.453 s, which may be a performance bottleneck.\n"
     ]
    },
    {
     "name": "stdout",
     "output_type": "stream",
     "text": [
      "\u001b[36m(train_rf pid=233799)\u001b[0m Train: (48, 833), Test: (48, 833)\n"
     ]
    },
    {
     "name": "stderr",
     "output_type": "stream",
     "text": [
      "2025-02-17 13:01:53,772\tWARNING util.py:201 -- The `callbacks.on_trial_result` operation took 1.416 s, which may be a performance bottleneck.\n",
      "2025-02-17 13:01:53,773\tWARNING util.py:201 -- The `process_trial_result` operation took 1.418 s, which may be a performance bottleneck.\n",
      "2025-02-17 13:01:53,774\tWARNING util.py:201 -- Processing trial results took 1.419 s, which may be a performance bottleneck. Please consider reporting results less frequently to Ray Tune.\n",
      "2025-02-17 13:01:53,774\tWARNING util.py:201 -- The `process_trial_result` operation took 1.419 s, which may be a performance bottleneck.\n"
     ]
    },
    {
     "name": "stdout",
     "output_type": "stream",
     "text": [
      "\u001b[36m(train_rf pid=233925)\u001b[0m Train: (48, 833), Test: (48, 833)\n"
     ]
    },
    {
     "name": "stderr",
     "output_type": "stream",
     "text": [
      "2025-02-17 13:01:59,961\tWARNING util.py:201 -- The `callbacks.on_trial_result` operation took 1.535 s, which may be a performance bottleneck.\n",
      "2025-02-17 13:01:59,963\tWARNING util.py:201 -- The `process_trial_result` operation took 1.536 s, which may be a performance bottleneck.\n",
      "2025-02-17 13:01:59,966\tWARNING util.py:201 -- Processing trial results took 1.540 s, which may be a performance bottleneck. Please consider reporting results less frequently to Ray Tune.\n",
      "2025-02-17 13:01:59,967\tWARNING util.py:201 -- The `process_trial_result` operation took 1.540 s, which may be a performance bottleneck.\n"
     ]
    },
    {
     "name": "stdout",
     "output_type": "stream",
     "text": [
      "\u001b[36m(train_rf pid=234046)\u001b[0m Train: (48, 734), Test: (48, 734)\n"
     ]
    },
    {
     "name": "stderr",
     "output_type": "stream",
     "text": [
      "2025-02-17 13:02:05,934\tWARNING util.py:201 -- The `callbacks.on_trial_result` operation took 1.355 s, which may be a performance bottleneck.\n",
      "2025-02-17 13:02:05,936\tWARNING util.py:201 -- The `process_trial_result` operation took 1.357 s, which may be a performance bottleneck.\n",
      "2025-02-17 13:02:05,937\tWARNING util.py:201 -- Processing trial results took 1.358 s, which may be a performance bottleneck. Please consider reporting results less frequently to Ray Tune.\n",
      "2025-02-17 13:02:05,937\tWARNING util.py:201 -- The `process_trial_result` operation took 1.358 s, which may be a performance bottleneck.\n"
     ]
    },
    {
     "name": "stdout",
     "output_type": "stream",
     "text": [
      "\u001b[36m(train_rf pid=234155)\u001b[0m Train: (48, 455), Test: (48, 455)\n"
     ]
    },
    {
     "name": "stderr",
     "output_type": "stream",
     "text": [
      "2025-02-17 13:02:13,659\tWARNING util.py:201 -- The `callbacks.on_trial_result` operation took 3.252 s, which may be a performance bottleneck.\n",
      "2025-02-17 13:02:13,660\tWARNING util.py:201 -- The `process_trial_result` operation took 3.253 s, which may be a performance bottleneck.\n",
      "2025-02-17 13:02:13,661\tWARNING util.py:201 -- Processing trial results took 3.254 s, which may be a performance bottleneck. Please consider reporting results less frequently to Ray Tune.\n",
      "2025-02-17 13:02:13,661\tWARNING util.py:201 -- The `process_trial_result` operation took 3.254 s, which may be a performance bottleneck.\n"
     ]
    },
    {
     "name": "stdout",
     "output_type": "stream",
     "text": [
      "\u001b[36m(train_rf pid=234210)\u001b[0m Train: (48, 833), Test: (48, 833)\n"
     ]
    },
    {
     "name": "stderr",
     "output_type": "stream",
     "text": [
      "2025-02-17 13:02:17,550\tWARNING util.py:201 -- The `callbacks.on_trial_result` operation took 1.348 s, which may be a performance bottleneck.\n",
      "2025-02-17 13:02:17,551\tWARNING util.py:201 -- The `process_trial_result` operation took 1.350 s, which may be a performance bottleneck.\n",
      "2025-02-17 13:02:17,552\tWARNING util.py:201 -- Processing trial results took 1.351 s, which may be a performance bottleneck. Please consider reporting results less frequently to Ray Tune.\n",
      "2025-02-17 13:02:17,552\tWARNING util.py:201 -- The `process_trial_result` operation took 1.351 s, which may be a performance bottleneck.\n"
     ]
    },
    {
     "name": "stdout",
     "output_type": "stream",
     "text": [
      "\u001b[36m(train_rf pid=234269)\u001b[0m Train: (48, 833), Test: (48, 833)\n"
     ]
    },
    {
     "name": "stderr",
     "output_type": "stream",
     "text": [
      "2025-02-17 13:02:25,430\tWARNING util.py:201 -- The `callbacks.on_trial_result` operation took 1.387 s, which may be a performance bottleneck.\n",
      "2025-02-17 13:02:25,431\tWARNING util.py:201 -- The `process_trial_result` operation took 1.389 s, which may be a performance bottleneck.\n",
      "2025-02-17 13:02:25,432\tWARNING util.py:201 -- Processing trial results took 1.390 s, which may be a performance bottleneck. Please consider reporting results less frequently to Ray Tune.\n",
      "2025-02-17 13:02:25,432\tWARNING util.py:201 -- The `process_trial_result` operation took 1.390 s, which may be a performance bottleneck.\n"
     ]
    },
    {
     "name": "stdout",
     "output_type": "stream",
     "text": [
      "\u001b[36m(train_rf pid=234328)\u001b[0m Train: (48, 833), Test: (48, 833)\n"
     ]
    },
    {
     "name": "stderr",
     "output_type": "stream",
     "text": [
      "2025-02-17 13:02:31,457\tWARNING util.py:201 -- The `callbacks.on_trial_result` operation took 1.427 s, which may be a performance bottleneck.\n",
      "2025-02-17 13:02:31,459\tWARNING util.py:201 -- The `process_trial_result` operation took 1.429 s, which may be a performance bottleneck.\n",
      "2025-02-17 13:02:31,460\tWARNING util.py:201 -- Processing trial results took 1.430 s, which may be a performance bottleneck. Please consider reporting results less frequently to Ray Tune.\n",
      "2025-02-17 13:02:31,460\tWARNING util.py:201 -- The `process_trial_result` operation took 1.431 s, which may be a performance bottleneck.\n"
     ]
    },
    {
     "name": "stdout",
     "output_type": "stream",
     "text": [
      "\u001b[36m(train_rf pid=234390)\u001b[0m Train: (48, 734), Test: (48, 734)\n"
     ]
    },
    {
     "name": "stderr",
     "output_type": "stream",
     "text": [
      "2025-02-17 13:02:37,513\tWARNING util.py:201 -- The `callbacks.on_trial_result` operation took 1.408 s, which may be a performance bottleneck.\n",
      "2025-02-17 13:02:37,515\tWARNING util.py:201 -- The `process_trial_result` operation took 1.410 s, which may be a performance bottleneck.\n",
      "2025-02-17 13:02:37,516\tWARNING util.py:201 -- Processing trial results took 1.411 s, which may be a performance bottleneck. Please consider reporting results less frequently to Ray Tune.\n",
      "2025-02-17 13:02:37,516\tWARNING util.py:201 -- The `process_trial_result` operation took 1.411 s, which may be a performance bottleneck.\n"
     ]
    },
    {
     "name": "stdout",
     "output_type": "stream",
     "text": [
      "\u001b[36m(train_rf pid=234449)\u001b[0m Train: (48, 734), Test: (48, 734)\n"
     ]
    },
    {
     "name": "stderr",
     "output_type": "stream",
     "text": [
      "2025-02-17 13:02:45,776\tWARNING util.py:201 -- The `callbacks.on_trial_result` operation took 3.837 s, which may be a performance bottleneck.\n",
      "2025-02-17 13:02:45,778\tWARNING util.py:201 -- The `process_trial_result` operation took 3.839 s, which may be a performance bottleneck.\n",
      "2025-02-17 13:02:45,778\tWARNING util.py:201 -- Processing trial results took 3.839 s, which may be a performance bottleneck. Please consider reporting results less frequently to Ray Tune.\n",
      "2025-02-17 13:02:45,779\tWARNING util.py:201 -- The `process_trial_result` operation took 3.840 s, which may be a performance bottleneck.\n"
     ]
    },
    {
     "name": "stdout",
     "output_type": "stream",
     "text": [
      "\u001b[36m(train_rf pid=234508)\u001b[0m Train: (48, 726), Test: (48, 726)\n"
     ]
    },
    {
     "name": "stderr",
     "output_type": "stream",
     "text": [
      "2025-02-17 13:02:49,432\tWARNING util.py:201 -- The `callbacks.on_trial_result` operation took 1.405 s, which may be a performance bottleneck.\n",
      "2025-02-17 13:02:49,433\tWARNING util.py:201 -- The `process_trial_result` operation took 1.407 s, which may be a performance bottleneck.\n",
      "2025-02-17 13:02:49,434\tWARNING util.py:201 -- Processing trial results took 1.408 s, which may be a performance bottleneck. Please consider reporting results less frequently to Ray Tune.\n",
      "2025-02-17 13:02:49,434\tWARNING util.py:201 -- The `process_trial_result` operation took 1.408 s, which may be a performance bottleneck.\n"
     ]
    },
    {
     "name": "stdout",
     "output_type": "stream",
     "text": [
      "\u001b[36m(train_rf pid=234566)\u001b[0m Train: (48, 833), Test: (48, 833)\n"
     ]
    },
    {
     "name": "stderr",
     "output_type": "stream",
     "text": [
      "2025-02-17 13:02:57,261\tWARNING util.py:201 -- The `callbacks.on_trial_result` operation took 1.456 s, which may be a performance bottleneck.\n",
      "2025-02-17 13:02:57,263\tWARNING util.py:201 -- The `process_trial_result` operation took 1.458 s, which may be a performance bottleneck.\n",
      "2025-02-17 13:02:57,263\tWARNING util.py:201 -- Processing trial results took 1.459 s, which may be a performance bottleneck. Please consider reporting results less frequently to Ray Tune.\n",
      "2025-02-17 13:02:57,264\tWARNING util.py:201 -- The `process_trial_result` operation took 1.459 s, which may be a performance bottleneck.\n"
     ]
    },
    {
     "name": "stdout",
     "output_type": "stream",
     "text": [
      "\u001b[36m(train_rf pid=234630)\u001b[0m Train: (48, 690), Test: (48, 690)\n"
     ]
    },
    {
     "name": "stderr",
     "output_type": "stream",
     "text": [
      "2025-02-17 13:03:03,112\tWARNING util.py:201 -- The `callbacks.on_trial_result` operation took 1.399 s, which may be a performance bottleneck.\n",
      "2025-02-17 13:03:03,113\tWARNING util.py:201 -- The `process_trial_result` operation took 1.401 s, which may be a performance bottleneck.\n",
      "2025-02-17 13:03:03,114\tWARNING util.py:201 -- Processing trial results took 1.401 s, which may be a performance bottleneck. Please consider reporting results less frequently to Ray Tune.\n",
      "2025-02-17 13:03:03,115\tWARNING util.py:201 -- The `process_trial_result` operation took 1.402 s, which may be a performance bottleneck.\n"
     ]
    },
    {
     "name": "stdout",
     "output_type": "stream",
     "text": [
      "\u001b[36m(train_rf pid=234719)\u001b[0m Train: (48, 726), Test: (48, 726)\n"
     ]
    },
    {
     "name": "stderr",
     "output_type": "stream",
     "text": [
      "2025-02-17 13:03:09,267\tWARNING util.py:201 -- The `callbacks.on_trial_result` operation took 1.427 s, which may be a performance bottleneck.\n",
      "2025-02-17 13:03:09,269\tWARNING util.py:201 -- The `process_trial_result` operation took 1.429 s, which may be a performance bottleneck.\n",
      "2025-02-17 13:03:09,269\tWARNING util.py:201 -- Processing trial results took 1.429 s, which may be a performance bottleneck. Please consider reporting results less frequently to Ray Tune.\n",
      "2025-02-17 13:03:09,270\tWARNING util.py:201 -- The `process_trial_result` operation took 1.430 s, which may be a performance bottleneck.\n"
     ]
    },
    {
     "name": "stdout",
     "output_type": "stream",
     "text": [
      "\u001b[36m(train_rf pid=234778)\u001b[0m Train: (48, 858), Test: (48, 858)\n"
     ]
    },
    {
     "name": "stderr",
     "output_type": "stream",
     "text": [
      "2025-02-17 13:03:17,274\tWARNING util.py:201 -- The `callbacks.on_trial_result` operation took 3.707 s, which may be a performance bottleneck.\n",
      "2025-02-17 13:03:17,275\tWARNING util.py:201 -- The `process_trial_result` operation took 3.709 s, which may be a performance bottleneck.\n",
      "2025-02-17 13:03:17,276\tWARNING util.py:201 -- Processing trial results took 3.710 s, which may be a performance bottleneck. Please consider reporting results less frequently to Ray Tune.\n",
      "2025-02-17 13:03:17,276\tWARNING util.py:201 -- The `process_trial_result` operation took 3.711 s, which may be a performance bottleneck.\n"
     ]
    },
    {
     "name": "stdout",
     "output_type": "stream",
     "text": [
      "\u001b[36m(train_rf pid=234844)\u001b[0m Train: (48, 455), Test: (48, 455)\n"
     ]
    },
    {
     "name": "stderr",
     "output_type": "stream",
     "text": [
      "2025-02-17 13:03:20,919\tWARNING util.py:201 -- The `callbacks.on_trial_result` operation took 1.527 s, which may be a performance bottleneck.\n",
      "2025-02-17 13:03:20,921\tWARNING util.py:201 -- The `process_trial_result` operation took 1.529 s, which may be a performance bottleneck.\n",
      "2025-02-17 13:03:20,921\tWARNING util.py:201 -- Processing trial results took 1.530 s, which may be a performance bottleneck. Please consider reporting results less frequently to Ray Tune.\n",
      "2025-02-17 13:03:20,922\tWARNING util.py:201 -- The `process_trial_result` operation took 1.530 s, which may be a performance bottleneck.\n"
     ]
    },
    {
     "name": "stdout",
     "output_type": "stream",
     "text": [
      "\u001b[36m(train_rf pid=234922)\u001b[0m Train: (48, 726), Test: (48, 726)\n"
     ]
    },
    {
     "name": "stderr",
     "output_type": "stream",
     "text": [
      "2025-02-17 13:03:28,896\tWARNING util.py:201 -- The `callbacks.on_trial_result` operation took 1.464 s, which may be a performance bottleneck.\n",
      "2025-02-17 13:03:28,898\tWARNING util.py:201 -- The `process_trial_result` operation took 1.466 s, which may be a performance bottleneck.\n",
      "2025-02-17 13:03:28,898\tWARNING util.py:201 -- Processing trial results took 1.467 s, which may be a performance bottleneck. Please consider reporting results less frequently to Ray Tune.\n",
      "2025-02-17 13:03:28,898\tWARNING util.py:201 -- The `process_trial_result` operation took 1.467 s, which may be a performance bottleneck.\n"
     ]
    },
    {
     "name": "stdout",
     "output_type": "stream",
     "text": [
      "\u001b[36m(train_rf pid=234985)\u001b[0m Train: (48, 726), Test: (48, 726)\n"
     ]
    },
    {
     "name": "stderr",
     "output_type": "stream",
     "text": [
      "2025-02-17 13:03:34,772\tWARNING util.py:201 -- The `callbacks.on_trial_result` operation took 1.451 s, which may be a performance bottleneck.\n",
      "2025-02-17 13:03:34,774\tWARNING util.py:201 -- The `process_trial_result` operation took 1.453 s, which may be a performance bottleneck.\n",
      "2025-02-17 13:03:34,775\tWARNING util.py:201 -- Processing trial results took 1.454 s, which may be a performance bottleneck. Please consider reporting results less frequently to Ray Tune.\n",
      "2025-02-17 13:03:34,776\tWARNING util.py:201 -- The `process_trial_result` operation took 1.455 s, which may be a performance bottleneck.\n"
     ]
    },
    {
     "name": "stdout",
     "output_type": "stream",
     "text": [
      "\u001b[36m(train_rf pid=235078)\u001b[0m Train: (48, 455), Test: (48, 455)\n"
     ]
    },
    {
     "name": "stderr",
     "output_type": "stream",
     "text": [
      "2025-02-17 13:03:41,006\tWARNING util.py:201 -- The `callbacks.on_trial_result` operation took 1.435 s, which may be a performance bottleneck.\n",
      "2025-02-17 13:03:41,008\tWARNING util.py:201 -- The `process_trial_result` operation took 1.437 s, which may be a performance bottleneck.\n",
      "2025-02-17 13:03:41,008\tWARNING util.py:201 -- Processing trial results took 1.438 s, which may be a performance bottleneck. Please consider reporting results less frequently to Ray Tune.\n",
      "2025-02-17 13:03:41,009\tWARNING util.py:201 -- The `process_trial_result` operation took 1.439 s, which may be a performance bottleneck.\n"
     ]
    },
    {
     "name": "stdout",
     "output_type": "stream",
     "text": [
      "\u001b[36m(train_rf pid=235137)\u001b[0m Train: (48, 46), Test: (48, 46)\n"
     ]
    },
    {
     "name": "stderr",
     "output_type": "stream",
     "text": [
      "2025-02-17 13:03:48,987\tWARNING util.py:201 -- The `callbacks.on_trial_result` operation took 3.463 s, which may be a performance bottleneck.\n",
      "2025-02-17 13:03:48,988\tWARNING util.py:201 -- The `process_trial_result` operation took 3.465 s, which may be a performance bottleneck.\n",
      "2025-02-17 13:03:48,989\tWARNING util.py:201 -- Processing trial results took 3.466 s, which may be a performance bottleneck. Please consider reporting results less frequently to Ray Tune.\n",
      "2025-02-17 13:03:48,990\tWARNING util.py:201 -- The `process_trial_result` operation took 3.466 s, which may be a performance bottleneck.\n"
     ]
    },
    {
     "name": "stdout",
     "output_type": "stream",
     "text": [
      "\u001b[36m(train_rf pid=235196)\u001b[0m Train: (48, 46), Test: (48, 46)\n"
     ]
    },
    {
     "name": "stderr",
     "output_type": "stream",
     "text": [
      "2025-02-17 13:03:52,866\tWARNING util.py:201 -- The `callbacks.on_trial_result` operation took 1.490 s, which may be a performance bottleneck.\n",
      "2025-02-17 13:03:52,868\tWARNING util.py:201 -- The `process_trial_result` operation took 1.492 s, which may be a performance bottleneck.\n",
      "2025-02-17 13:03:52,868\tWARNING util.py:201 -- Processing trial results took 1.493 s, which may be a performance bottleneck. Please consider reporting results less frequently to Ray Tune.\n",
      "2025-02-17 13:03:52,869\tWARNING util.py:201 -- The `process_trial_result` operation took 1.493 s, which may be a performance bottleneck.\n"
     ]
    },
    {
     "name": "stdout",
     "output_type": "stream",
     "text": [
      "\u001b[36m(train_rf pid=235254)\u001b[0m Train: (48, 726), Test: (48, 726)\n"
     ]
    },
    {
     "name": "stderr",
     "output_type": "stream",
     "text": [
      "2025-02-17 13:04:00,774\tWARNING util.py:201 -- The `callbacks.on_trial_result` operation took 1.459 s, which may be a performance bottleneck.\n",
      "2025-02-17 13:04:00,776\tWARNING util.py:201 -- The `process_trial_result` operation took 1.461 s, which may be a performance bottleneck.\n",
      "2025-02-17 13:04:00,776\tWARNING util.py:201 -- Processing trial results took 1.462 s, which may be a performance bottleneck. Please consider reporting results less frequently to Ray Tune.\n",
      "2025-02-17 13:04:00,777\tWARNING util.py:201 -- The `process_trial_result` operation took 1.462 s, which may be a performance bottleneck.\n"
     ]
    },
    {
     "name": "stdout",
     "output_type": "stream",
     "text": [
      "\u001b[36m(train_rf pid=235321)\u001b[0m Train: (48, 726), Test: (48, 726)\n"
     ]
    },
    {
     "name": "stderr",
     "output_type": "stream",
     "text": [
      "2025-02-17 13:04:06,607\tWARNING util.py:201 -- The `callbacks.on_trial_result` operation took 1.459 s, which may be a performance bottleneck.\n",
      "2025-02-17 13:04:06,609\tWARNING util.py:201 -- The `process_trial_result` operation took 1.461 s, which may be a performance bottleneck.\n",
      "2025-02-17 13:04:06,609\tWARNING util.py:201 -- Processing trial results took 1.462 s, which may be a performance bottleneck. Please consider reporting results less frequently to Ray Tune.\n",
      "2025-02-17 13:04:06,610\tWARNING util.py:201 -- The `process_trial_result` operation took 1.462 s, which may be a performance bottleneck.\n"
     ]
    },
    {
     "name": "stdout",
     "output_type": "stream",
     "text": [
      "\u001b[36m(train_rf pid=235407)\u001b[0m Train: (48, 726), Test: (48, 726)\n"
     ]
    },
    {
     "name": "stderr",
     "output_type": "stream",
     "text": [
      "2025-02-17 13:04:12,878\tWARNING util.py:201 -- The `callbacks.on_trial_result` operation took 1.412 s, which may be a performance bottleneck.\n",
      "2025-02-17 13:04:12,880\tWARNING util.py:201 -- The `process_trial_result` operation took 1.414 s, which may be a performance bottleneck.\n",
      "2025-02-17 13:04:12,880\tWARNING util.py:201 -- Processing trial results took 1.414 s, which may be a performance bottleneck. Please consider reporting results less frequently to Ray Tune.\n",
      "2025-02-17 13:04:12,881\tWARNING util.py:201 -- The `process_trial_result` operation took 1.415 s, which may be a performance bottleneck.\n"
     ]
    },
    {
     "name": "stdout",
     "output_type": "stream",
     "text": [
      "\u001b[36m(train_rf pid=235467)\u001b[0m Train: (48, 690), Test: (48, 690)\n"
     ]
    },
    {
     "name": "stderr",
     "output_type": "stream",
     "text": [
      "2025-02-17 13:04:20,744\tWARNING util.py:201 -- The `callbacks.on_trial_result` operation took 3.417 s, which may be a performance bottleneck.\n",
      "2025-02-17 13:04:20,746\tWARNING util.py:201 -- The `process_trial_result` operation took 3.419 s, which may be a performance bottleneck.\n",
      "2025-02-17 13:04:20,747\tWARNING util.py:201 -- Processing trial results took 3.420 s, which may be a performance bottleneck. Please consider reporting results less frequently to Ray Tune.\n",
      "2025-02-17 13:04:20,747\tWARNING util.py:201 -- The `process_trial_result` operation took 3.420 s, which may be a performance bottleneck.\n"
     ]
    },
    {
     "name": "stdout",
     "output_type": "stream",
     "text": [
      "\u001b[36m(train_rf pid=235533)\u001b[0m Train: (48, 690), Test: (48, 690)\n"
     ]
    },
    {
     "name": "stderr",
     "output_type": "stream",
     "text": [
      "2025-02-17 13:04:24,732\tWARNING util.py:201 -- The `callbacks.on_trial_result` operation took 1.407 s, which may be a performance bottleneck.\n",
      "2025-02-17 13:04:24,733\tWARNING util.py:201 -- The `process_trial_result` operation took 1.408 s, which may be a performance bottleneck.\n",
      "2025-02-17 13:04:24,734\tWARNING util.py:201 -- Processing trial results took 1.409 s, which may be a performance bottleneck. Please consider reporting results less frequently to Ray Tune.\n",
      "2025-02-17 13:04:24,734\tWARNING util.py:201 -- The `process_trial_result` operation took 1.409 s, which may be a performance bottleneck.\n"
     ]
    },
    {
     "name": "stdout",
     "output_type": "stream",
     "text": [
      "\u001b[36m(train_rf pid=235588)\u001b[0m Train: (48, 734), Test: (48, 734)\n"
     ]
    },
    {
     "name": "stderr",
     "output_type": "stream",
     "text": [
      "2025-02-17 13:04:32,469\tWARNING util.py:201 -- The `callbacks.on_trial_result` operation took 1.429 s, which may be a performance bottleneck.\n",
      "2025-02-17 13:04:32,470\tWARNING util.py:201 -- The `process_trial_result` operation took 1.431 s, which may be a performance bottleneck.\n",
      "2025-02-17 13:04:32,471\tWARNING util.py:201 -- Processing trial results took 1.431 s, which may be a performance bottleneck. Please consider reporting results less frequently to Ray Tune.\n",
      "2025-02-17 13:04:32,471\tWARNING util.py:201 -- The `process_trial_result` operation took 1.432 s, which may be a performance bottleneck.\n"
     ]
    },
    {
     "name": "stdout",
     "output_type": "stream",
     "text": [
      "\u001b[36m(train_rf pid=235644)\u001b[0m Train: (48, 734), Test: (48, 734)\n"
     ]
    },
    {
     "name": "stderr",
     "output_type": "stream",
     "text": [
      "2025-02-17 13:04:38,712\tWARNING util.py:201 -- The `callbacks.on_trial_result` operation took 1.739 s, which may be a performance bottleneck.\n",
      "2025-02-17 13:04:38,713\tWARNING util.py:201 -- The `process_trial_result` operation took 1.740 s, which may be a performance bottleneck.\n",
      "2025-02-17 13:04:38,714\tWARNING util.py:201 -- Processing trial results took 1.741 s, which may be a performance bottleneck. Please consider reporting results less frequently to Ray Tune.\n",
      "2025-02-17 13:04:38,714\tWARNING util.py:201 -- The `process_trial_result` operation took 1.741 s, which may be a performance bottleneck.\n"
     ]
    },
    {
     "name": "stdout",
     "output_type": "stream",
     "text": [
      "\u001b[36m(train_rf pid=235698)\u001b[0m Train: (48, 734), Test: (48, 734)\n"
     ]
    },
    {
     "name": "stderr",
     "output_type": "stream",
     "text": [
      "2025-02-17 13:04:45,090\tWARNING util.py:201 -- The `callbacks.on_trial_result` operation took 1.450 s, which may be a performance bottleneck.\n",
      "2025-02-17 13:04:45,092\tWARNING util.py:201 -- The `process_trial_result` operation took 1.451 s, which may be a performance bottleneck.\n",
      "2025-02-17 13:04:45,092\tWARNING util.py:201 -- Processing trial results took 1.452 s, which may be a performance bottleneck. Please consider reporting results less frequently to Ray Tune.\n",
      "2025-02-17 13:04:45,092\tWARNING util.py:201 -- The `process_trial_result` operation took 1.452 s, which may be a performance bottleneck.\n"
     ]
    },
    {
     "name": "stdout",
     "output_type": "stream",
     "text": [
      "\u001b[36m(train_rf pid=235757)\u001b[0m Train: (48, 726), Test: (48, 726)\n"
     ]
    },
    {
     "name": "stderr",
     "output_type": "stream",
     "text": [
      "2025-02-17 13:04:52,921\tWARNING util.py:201 -- The `callbacks.on_trial_result` operation took 3.410 s, which may be a performance bottleneck.\n",
      "2025-02-17 13:04:52,923\tWARNING util.py:201 -- The `process_trial_result` operation took 3.412 s, which may be a performance bottleneck.\n",
      "2025-02-17 13:04:52,923\tWARNING util.py:201 -- Processing trial results took 3.413 s, which may be a performance bottleneck. Please consider reporting results less frequently to Ray Tune.\n",
      "2025-02-17 13:04:52,924\tWARNING util.py:201 -- The `process_trial_result` operation took 3.414 s, which may be a performance bottleneck.\n"
     ]
    },
    {
     "name": "stdout",
     "output_type": "stream",
     "text": [
      "\u001b[36m(train_rf pid=235820)\u001b[0m Train: (48, 726), Test: (48, 726)\n"
     ]
    },
    {
     "name": "stderr",
     "output_type": "stream",
     "text": [
      "2025-02-17 13:04:57,235\tWARNING util.py:201 -- The `callbacks.on_trial_result` operation took 1.469 s, which may be a performance bottleneck.\n",
      "2025-02-17 13:04:57,237\tWARNING util.py:201 -- The `process_trial_result` operation took 1.471 s, which may be a performance bottleneck.\n",
      "2025-02-17 13:04:57,237\tWARNING util.py:201 -- Processing trial results took 1.471 s, which may be a performance bottleneck. Please consider reporting results less frequently to Ray Tune.\n",
      "2025-02-17 13:04:57,238\tWARNING util.py:201 -- The `process_trial_result` operation took 1.472 s, which may be a performance bottleneck.\n"
     ]
    },
    {
     "name": "stdout",
     "output_type": "stream",
     "text": [
      "\u001b[36m(train_rf pid=235881)\u001b[0m Train: (48, 726), Test: (48, 726)\n"
     ]
    },
    {
     "name": "stderr",
     "output_type": "stream",
     "text": [
      "2025-02-17 13:05:06,567\tWARNING util.py:201 -- The `callbacks.on_trial_result` operation took 1.934 s, which may be a performance bottleneck.\n",
      "2025-02-17 13:05:06,569\tWARNING util.py:201 -- The `process_trial_result` operation took 1.935 s, which may be a performance bottleneck.\n",
      "2025-02-17 13:05:06,569\tWARNING util.py:201 -- Processing trial results took 1.936 s, which may be a performance bottleneck. Please consider reporting results less frequently to Ray Tune.\n",
      "2025-02-17 13:05:06,570\tWARNING util.py:201 -- The `process_trial_result` operation took 1.937 s, which may be a performance bottleneck.\n"
     ]
    },
    {
     "name": "stdout",
     "output_type": "stream",
     "text": [
      "\u001b[36m(train_rf pid=235994)\u001b[0m Train: (48, 858), Test: (48, 858)\n"
     ]
    },
    {
     "name": "stderr",
     "output_type": "stream",
     "text": [
      "2025-02-17 13:05:15,294\tWARNING util.py:201 -- The `callbacks.on_trial_result` operation took 4.297 s, which may be a performance bottleneck.\n",
      "2025-02-17 13:05:15,296\tWARNING util.py:201 -- The `process_trial_result` operation took 4.299 s, which may be a performance bottleneck.\n",
      "2025-02-17 13:05:15,297\tWARNING util.py:201 -- Processing trial results took 4.299 s, which may be a performance bottleneck. Please consider reporting results less frequently to Ray Tune.\n",
      "2025-02-17 13:05:15,297\tWARNING util.py:201 -- The `process_trial_result` operation took 4.300 s, which may be a performance bottleneck.\n"
     ]
    },
    {
     "name": "stdout",
     "output_type": "stream",
     "text": [
      "\u001b[36m(train_rf pid=236053)\u001b[0m Train: (48, 690), Test: (48, 690)\n"
     ]
    },
    {
     "name": "stderr",
     "output_type": "stream",
     "text": [
      "2025-02-17 13:05:19,331\tWARNING util.py:201 -- The `callbacks.on_trial_result` operation took 1.515 s, which may be a performance bottleneck.\n",
      "2025-02-17 13:05:19,333\tWARNING util.py:201 -- The `process_trial_result` operation took 1.517 s, which may be a performance bottleneck.\n",
      "2025-02-17 13:05:19,334\tWARNING util.py:201 -- Processing trial results took 1.518 s, which may be a performance bottleneck. Please consider reporting results less frequently to Ray Tune.\n",
      "2025-02-17 13:05:19,335\tWARNING util.py:201 -- The `process_trial_result` operation took 1.518 s, which may be a performance bottleneck.\n"
     ]
    },
    {
     "name": "stdout",
     "output_type": "stream",
     "text": [
      "\u001b[36m(train_rf pid=236138)\u001b[0m Train: (48, 833), Test: (48, 833)\n"
     ]
    },
    {
     "name": "stderr",
     "output_type": "stream",
     "text": [
      "2025-02-17 13:05:27,275\tWARNING util.py:201 -- The `callbacks.on_trial_result` operation took 1.527 s, which may be a performance bottleneck.\n",
      "2025-02-17 13:05:27,277\tWARNING util.py:201 -- The `process_trial_result` operation took 1.529 s, which may be a performance bottleneck.\n",
      "2025-02-17 13:05:27,277\tWARNING util.py:201 -- Processing trial results took 1.529 s, which may be a performance bottleneck. Please consider reporting results less frequently to Ray Tune.\n",
      "2025-02-17 13:05:27,278\tWARNING util.py:201 -- The `process_trial_result` operation took 1.530 s, which may be a performance bottleneck.\n"
     ]
    },
    {
     "name": "stdout",
     "output_type": "stream",
     "text": [
      "\u001b[36m(train_rf pid=236201)\u001b[0m Train: (48, 833), Test: (48, 833)\n"
     ]
    },
    {
     "name": "stderr",
     "output_type": "stream",
     "text": [
      "2025-02-17 13:05:35,461\tWARNING util.py:201 -- The `callbacks.on_trial_result` operation took 3.750 s, which may be a performance bottleneck.\n",
      "2025-02-17 13:05:35,462\tWARNING util.py:201 -- The `process_trial_result` operation took 3.751 s, which may be a performance bottleneck.\n",
      "2025-02-17 13:05:35,463\tWARNING util.py:201 -- Processing trial results took 3.752 s, which may be a performance bottleneck. Please consider reporting results less frequently to Ray Tune.\n",
      "2025-02-17 13:05:35,463\tWARNING util.py:201 -- The `process_trial_result` operation took 3.753 s, which may be a performance bottleneck.\n"
     ]
    },
    {
     "name": "stdout",
     "output_type": "stream",
     "text": [
      "\u001b[36m(train_rf pid=236260)\u001b[0m Train: (48, 833), Test: (48, 833)\n"
     ]
    },
    {
     "name": "stderr",
     "output_type": "stream",
     "text": [
      "2025-02-17 13:05:39,462\tWARNING util.py:201 -- The `callbacks.on_trial_result` operation took 1.597 s, which may be a performance bottleneck.\n",
      "2025-02-17 13:05:39,463\tWARNING util.py:201 -- The `process_trial_result` operation took 1.599 s, which may be a performance bottleneck.\n",
      "2025-02-17 13:05:39,464\tWARNING util.py:201 -- Processing trial results took 1.600 s, which may be a performance bottleneck. Please consider reporting results less frequently to Ray Tune.\n",
      "2025-02-17 13:05:39,464\tWARNING util.py:201 -- The `process_trial_result` operation took 1.600 s, which may be a performance bottleneck.\n"
     ]
    },
    {
     "name": "stdout",
     "output_type": "stream",
     "text": [
      "\u001b[36m(train_rf pid=236314)\u001b[0m Train: (48, 833), Test: (48, 833)\n"
     ]
    },
    {
     "name": "stderr",
     "output_type": "stream",
     "text": [
      "2025-02-17 13:05:48,241\tWARNING util.py:201 -- The `callbacks.on_trial_result` operation took 1.745 s, which may be a performance bottleneck.\n",
      "2025-02-17 13:05:48,243\tWARNING util.py:201 -- The `process_trial_result` operation took 1.747 s, which may be a performance bottleneck.\n",
      "2025-02-17 13:05:48,244\tWARNING util.py:201 -- Processing trial results took 1.748 s, which may be a performance bottleneck. Please consider reporting results less frequently to Ray Tune.\n",
      "2025-02-17 13:05:48,244\tWARNING util.py:201 -- The `process_trial_result` operation took 1.749 s, which may be a performance bottleneck.\n"
     ]
    },
    {
     "name": "stdout",
     "output_type": "stream",
     "text": [
      "\u001b[36m(train_rf pid=236369)\u001b[0m Train: (48, 833), Test: (48, 833)\n"
     ]
    },
    {
     "name": "stderr",
     "output_type": "stream",
     "text": [
      "2025-02-17 13:05:56,501\tWARNING util.py:201 -- The `callbacks.on_trial_result` operation took 4.068 s, which may be a performance bottleneck.\n",
      "2025-02-17 13:05:56,503\tWARNING util.py:201 -- The `process_trial_result` operation took 4.070 s, which may be a performance bottleneck.\n",
      "2025-02-17 13:05:56,504\tWARNING util.py:201 -- Processing trial results took 4.071 s, which may be a performance bottleneck. Please consider reporting results less frequently to Ray Tune.\n",
      "2025-02-17 13:05:56,504\tWARNING util.py:201 -- The `process_trial_result` operation took 4.071 s, which may be a performance bottleneck.\n"
     ]
    },
    {
     "name": "stdout",
     "output_type": "stream",
     "text": [
      "\u001b[36m(train_rf pid=236424)\u001b[0m Train: (48, 833), Test: (48, 833)\n"
     ]
    },
    {
     "name": "stderr",
     "output_type": "stream",
     "text": [
      "2025-02-17 13:06:00,593\tWARNING util.py:201 -- The `callbacks.on_trial_result` operation took 1.592 s, which may be a performance bottleneck.\n",
      "2025-02-17 13:06:00,595\tWARNING util.py:201 -- The `process_trial_result` operation took 1.594 s, which may be a performance bottleneck.\n",
      "2025-02-17 13:06:00,595\tWARNING util.py:201 -- Processing trial results took 1.594 s, which may be a performance bottleneck. Please consider reporting results less frequently to Ray Tune.\n",
      "2025-02-17 13:06:00,596\tWARNING util.py:201 -- The `process_trial_result` operation took 1.595 s, which may be a performance bottleneck.\n"
     ]
    },
    {
     "name": "stdout",
     "output_type": "stream",
     "text": [
      "\u001b[36m(train_rf pid=236479)\u001b[0m Train: (48, 833), Test: (48, 833)\n"
     ]
    },
    {
     "name": "stderr",
     "output_type": "stream",
     "text": [
      "2025-02-17 13:06:08,751\tWARNING util.py:201 -- The `callbacks.on_trial_result` operation took 1.491 s, which may be a performance bottleneck.\n",
      "2025-02-17 13:06:08,753\tWARNING util.py:201 -- The `process_trial_result` operation took 1.493 s, which may be a performance bottleneck.\n",
      "2025-02-17 13:06:08,754\tWARNING util.py:201 -- Processing trial results took 1.493 s, which may be a performance bottleneck. Please consider reporting results less frequently to Ray Tune.\n",
      "2025-02-17 13:06:08,754\tWARNING util.py:201 -- The `process_trial_result` operation took 1.493 s, which may be a performance bottleneck.\n"
     ]
    },
    {
     "name": "stdout",
     "output_type": "stream",
     "text": [
      "\u001b[36m(train_rf pid=236568)\u001b[0m Train: (48, 833), Test: (48, 833)\n"
     ]
    },
    {
     "name": "stderr",
     "output_type": "stream",
     "text": [
      "2025-02-17 13:06:17,086\tWARNING util.py:201 -- The `callbacks.on_trial_result` operation took 3.698 s, which may be a performance bottleneck.\n",
      "2025-02-17 13:06:17,087\tWARNING util.py:201 -- The `process_trial_result` operation took 3.700 s, which may be a performance bottleneck.\n",
      "2025-02-17 13:06:17,088\tWARNING util.py:201 -- Processing trial results took 3.700 s, which may be a performance bottleneck. Please consider reporting results less frequently to Ray Tune.\n",
      "2025-02-17 13:06:17,088\tWARNING util.py:201 -- The `process_trial_result` operation took 3.701 s, which may be a performance bottleneck.\n"
     ]
    },
    {
     "name": "stdout",
     "output_type": "stream",
     "text": [
      "\u001b[36m(train_rf pid=236633)\u001b[0m Train: (48, 858), Test: (48, 858)\n"
     ]
    },
    {
     "name": "stderr",
     "output_type": "stream",
     "text": [
      "2025-02-17 13:06:21,101\tWARNING util.py:201 -- The `callbacks.on_trial_result` operation took 1.536 s, which may be a performance bottleneck.\n",
      "2025-02-17 13:06:21,102\tWARNING util.py:201 -- The `process_trial_result` operation took 1.538 s, which may be a performance bottleneck.\n",
      "2025-02-17 13:06:21,103\tWARNING util.py:201 -- Processing trial results took 1.538 s, which may be a performance bottleneck. Please consider reporting results less frequently to Ray Tune.\n",
      "2025-02-17 13:06:21,104\tWARNING util.py:201 -- The `process_trial_result` operation took 1.539 s, which may be a performance bottleneck.\n"
     ]
    },
    {
     "name": "stdout",
     "output_type": "stream",
     "text": [
      "\u001b[36m(train_rf pid=236695)\u001b[0m Train: (48, 858), Test: (48, 858)\n"
     ]
    },
    {
     "name": "stderr",
     "output_type": "stream",
     "text": [
      "2025-02-17 13:06:29,419\tWARNING util.py:201 -- The `callbacks.on_trial_result` operation took 1.827 s, which may be a performance bottleneck.\n",
      "2025-02-17 13:06:29,420\tWARNING util.py:201 -- The `process_trial_result` operation took 1.829 s, which may be a performance bottleneck.\n",
      "2025-02-17 13:06:29,421\tWARNING util.py:201 -- Processing trial results took 1.830 s, which may be a performance bottleneck. Please consider reporting results less frequently to Ray Tune.\n",
      "2025-02-17 13:06:29,421\tWARNING util.py:201 -- The `process_trial_result` operation took 1.830 s, which may be a performance bottleneck.\n"
     ]
    },
    {
     "name": "stdout",
     "output_type": "stream",
     "text": [
      "\u001b[36m(train_rf pid=236754)\u001b[0m Train: (48, 833), Test: (48, 833)\n"
     ]
    },
    {
     "name": "stderr",
     "output_type": "stream",
     "text": [
      "2025-02-17 13:06:37,395\tWARNING util.py:201 -- The `callbacks.on_trial_result` operation took 3.749 s, which may be a performance bottleneck.\n",
      "2025-02-17 13:06:37,397\tWARNING util.py:201 -- The `process_trial_result` operation took 3.751 s, which may be a performance bottleneck.\n",
      "2025-02-17 13:06:37,397\tWARNING util.py:201 -- Processing trial results took 3.751 s, which may be a performance bottleneck. Please consider reporting results less frequently to Ray Tune.\n",
      "2025-02-17 13:06:37,398\tWARNING util.py:201 -- The `process_trial_result` operation took 3.752 s, which may be a performance bottleneck.\n"
     ]
    },
    {
     "name": "stdout",
     "output_type": "stream",
     "text": [
      "\u001b[36m(train_rf pid=236849)\u001b[0m Train: (48, 833), Test: (48, 833)\n"
     ]
    },
    {
     "name": "stderr",
     "output_type": "stream",
     "text": [
      "2025-02-17 13:06:41,560\tWARNING util.py:201 -- The `callbacks.on_trial_result` operation took 1.586 s, which may be a performance bottleneck.\n",
      "2025-02-17 13:06:41,561\tWARNING util.py:201 -- The `process_trial_result` operation took 1.587 s, which may be a performance bottleneck.\n",
      "2025-02-17 13:06:41,562\tWARNING util.py:201 -- Processing trial results took 1.589 s, which may be a performance bottleneck. Please consider reporting results less frequently to Ray Tune.\n",
      "2025-02-17 13:06:41,563\tWARNING util.py:201 -- The `process_trial_result` operation took 1.589 s, which may be a performance bottleneck.\n"
     ]
    },
    {
     "name": "stdout",
     "output_type": "stream",
     "text": [
      "\u001b[36m(train_rf pid=236925)\u001b[0m Train: (48, 833), Test: (48, 833)\n"
     ]
    },
    {
     "name": "stderr",
     "output_type": "stream",
     "text": [
      "2025-02-17 13:06:49,324\tWARNING util.py:201 -- The `callbacks.on_trial_result` operation took 1.439 s, which may be a performance bottleneck.\n",
      "2025-02-17 13:06:49,325\tWARNING util.py:201 -- The `process_trial_result` operation took 1.441 s, which may be a performance bottleneck.\n",
      "2025-02-17 13:06:49,326\tWARNING util.py:201 -- Processing trial results took 1.441 s, which may be a performance bottleneck. Please consider reporting results less frequently to Ray Tune.\n",
      "2025-02-17 13:06:49,326\tWARNING util.py:201 -- The `process_trial_result` operation took 1.442 s, which may be a performance bottleneck.\n"
     ]
    },
    {
     "name": "stdout",
     "output_type": "stream",
     "text": [
      "\u001b[36m(train_rf pid=236980)\u001b[0m Train: (48, 990), Test: (48, 990)\n"
     ]
    },
    {
     "name": "stderr",
     "output_type": "stream",
     "text": [
      "2025-02-17 13:06:57,200\tWARNING util.py:201 -- The `callbacks.on_trial_result` operation took 3.552 s, which may be a performance bottleneck.\n",
      "2025-02-17 13:06:57,202\tWARNING util.py:201 -- The `process_trial_result` operation took 3.554 s, which may be a performance bottleneck.\n",
      "2025-02-17 13:06:57,202\tWARNING util.py:201 -- Processing trial results took 3.555 s, which may be a performance bottleneck. Please consider reporting results less frequently to Ray Tune.\n",
      "2025-02-17 13:06:57,203\tWARNING util.py:201 -- The `process_trial_result` operation took 3.555 s, which may be a performance bottleneck.\n"
     ]
    },
    {
     "name": "stdout",
     "output_type": "stream",
     "text": [
      "\u001b[36m(train_rf pid=237035)\u001b[0m Train: (48, 990), Test: (48, 990)\n"
     ]
    },
    {
     "name": "stderr",
     "output_type": "stream",
     "text": [
      "2025-02-17 13:07:01,522\tWARNING util.py:201 -- The `callbacks.on_trial_result` operation took 1.554 s, which may be a performance bottleneck.\n",
      "2025-02-17 13:07:01,524\tWARNING util.py:201 -- The `process_trial_result` operation took 1.556 s, which may be a performance bottleneck.\n",
      "2025-02-17 13:07:01,525\tWARNING util.py:201 -- Processing trial results took 1.557 s, which may be a performance bottleneck. Please consider reporting results less frequently to Ray Tune.\n",
      "2025-02-17 13:07:01,525\tWARNING util.py:201 -- The `process_trial_result` operation took 1.557 s, which may be a performance bottleneck.\n"
     ]
    },
    {
     "name": "stdout",
     "output_type": "stream",
     "text": [
      "\u001b[36m(train_rf pid=237099)\u001b[0m Train: (48, 990), Test: (48, 990)\n"
     ]
    },
    {
     "name": "stderr",
     "output_type": "stream",
     "text": [
      "2025-02-17 13:07:09,951\tWARNING util.py:201 -- The `callbacks.on_trial_result` operation took 1.898 s, which may be a performance bottleneck.\n",
      "2025-02-17 13:07:09,953\tWARNING util.py:201 -- The `process_trial_result` operation took 1.900 s, which may be a performance bottleneck.\n",
      "2025-02-17 13:07:09,953\tWARNING util.py:201 -- Processing trial results took 1.901 s, which may be a performance bottleneck. Please consider reporting results less frequently to Ray Tune.\n",
      "2025-02-17 13:07:09,954\tWARNING util.py:201 -- The `process_trial_result` operation took 1.901 s, which may be a performance bottleneck.\n"
     ]
    },
    {
     "name": "stdout",
     "output_type": "stream",
     "text": [
      "\u001b[36m(train_rf pid=237188)\u001b[0m Train: (48, 990), Test: (48, 990)\n"
     ]
    },
    {
     "name": "stderr",
     "output_type": "stream",
     "text": [
      "2025-02-17 13:07:18,037\tWARNING util.py:201 -- The `callbacks.on_trial_result` operation took 4.039 s, which may be a performance bottleneck.\n",
      "2025-02-17 13:07:18,039\tWARNING util.py:201 -- The `process_trial_result` operation took 4.041 s, which may be a performance bottleneck.\n",
      "2025-02-17 13:07:18,039\tWARNING util.py:201 -- Processing trial results took 4.042 s, which may be a performance bottleneck. Please consider reporting results less frequently to Ray Tune.\n",
      "2025-02-17 13:07:18,040\tWARNING util.py:201 -- The `process_trial_result` operation took 4.042 s, which may be a performance bottleneck.\n"
     ]
    },
    {
     "name": "stdout",
     "output_type": "stream",
     "text": [
      "\u001b[36m(train_rf pid=237252)\u001b[0m Train: (48, 990), Test: (48, 990)\n"
     ]
    },
    {
     "name": "stderr",
     "output_type": "stream",
     "text": [
      "2025-02-17 13:07:22,249\tWARNING util.py:201 -- The `callbacks.on_trial_result` operation took 1.550 s, which may be a performance bottleneck.\n",
      "2025-02-17 13:07:22,251\tWARNING util.py:201 -- The `process_trial_result` operation took 1.551 s, which may be a performance bottleneck.\n",
      "2025-02-17 13:07:22,251\tWARNING util.py:201 -- Processing trial results took 1.552 s, which may be a performance bottleneck. Please consider reporting results less frequently to Ray Tune.\n",
      "2025-02-17 13:07:22,252\tWARNING util.py:201 -- The `process_trial_result` operation took 1.552 s, which may be a performance bottleneck.\n"
     ]
    },
    {
     "name": "stdout",
     "output_type": "stream",
     "text": [
      "\u001b[36m(train_rf pid=237307)\u001b[0m Train: (48, 990), Test: (48, 990)\n"
     ]
    },
    {
     "name": "stderr",
     "output_type": "stream",
     "text": [
      "2025-02-17 13:07:30,392\tWARNING util.py:201 -- The `callbacks.on_trial_result` operation took 1.547 s, which may be a performance bottleneck.\n",
      "2025-02-17 13:07:30,394\tWARNING util.py:201 -- The `process_trial_result` operation took 1.549 s, which may be a performance bottleneck.\n",
      "2025-02-17 13:07:30,395\tWARNING util.py:201 -- Processing trial results took 1.549 s, which may be a performance bottleneck. Please consider reporting results less frequently to Ray Tune.\n",
      "2025-02-17 13:07:30,395\tWARNING util.py:201 -- The `process_trial_result` operation took 1.550 s, which may be a performance bottleneck.\n"
     ]
    },
    {
     "name": "stdout",
     "output_type": "stream",
     "text": [
      "\u001b[36m(train_rf pid=237366)\u001b[0m Train: (48, 990), Test: (48, 990)\n"
     ]
    },
    {
     "name": "stderr",
     "output_type": "stream",
     "text": [
      "2025-02-17 13:07:38,533\tWARNING util.py:201 -- The `callbacks.on_trial_result` operation took 3.733 s, which may be a performance bottleneck.\n",
      "2025-02-17 13:07:38,535\tWARNING util.py:201 -- The `process_trial_result` operation took 3.735 s, which may be a performance bottleneck.\n",
      "2025-02-17 13:07:38,535\tWARNING util.py:201 -- Processing trial results took 3.736 s, which may be a performance bottleneck. Please consider reporting results less frequently to Ray Tune.\n",
      "2025-02-17 13:07:38,536\tWARNING util.py:201 -- The `process_trial_result` operation took 3.736 s, which may be a performance bottleneck.\n"
     ]
    },
    {
     "name": "stdout",
     "output_type": "stream",
     "text": [
      "\u001b[36m(train_rf pid=237425)\u001b[0m Train: (48, 990), Test: (48, 990)\n"
     ]
    },
    {
     "name": "stderr",
     "output_type": "stream",
     "text": [
      "2025-02-17 13:07:42,703\tWARNING util.py:201 -- The `callbacks.on_trial_result` operation took 1.510 s, which may be a performance bottleneck.\n",
      "2025-02-17 13:07:42,705\tWARNING util.py:201 -- The `process_trial_result` operation took 1.511 s, which may be a performance bottleneck.\n",
      "2025-02-17 13:07:42,706\tWARNING util.py:201 -- Processing trial results took 1.512 s, which may be a performance bottleneck. Please consider reporting results less frequently to Ray Tune.\n",
      "2025-02-17 13:07:42,706\tWARNING util.py:201 -- The `process_trial_result` operation took 1.513 s, which may be a performance bottleneck.\n"
     ]
    },
    {
     "name": "stdout",
     "output_type": "stream",
     "text": [
      "\u001b[36m(train_rf pid=237483)\u001b[0m Train: (48, 1058), Test: (48, 1058)\n"
     ]
    },
    {
     "name": "stderr",
     "output_type": "stream",
     "text": [
      "2025-02-17 13:07:51,206\tWARNING util.py:201 -- The `callbacks.on_trial_result` operation took 1.938 s, which may be a performance bottleneck.\n",
      "2025-02-17 13:07:51,208\tWARNING util.py:201 -- The `process_trial_result` operation took 1.940 s, which may be a performance bottleneck.\n",
      "2025-02-17 13:07:51,208\tWARNING util.py:201 -- Processing trial results took 1.941 s, which may be a performance bottleneck. Please consider reporting results less frequently to Ray Tune.\n",
      "2025-02-17 13:07:51,209\tWARNING util.py:201 -- The `process_trial_result` operation took 1.941 s, which may be a performance bottleneck.\n"
     ]
    },
    {
     "name": "stdout",
     "output_type": "stream",
     "text": [
      "\u001b[36m(train_rf pid=237546)\u001b[0m Train: (48, 1058), Test: (48, 1058)\n"
     ]
    },
    {
     "name": "stderr",
     "output_type": "stream",
     "text": [
      "2025-02-17 13:07:58,845\tWARNING util.py:201 -- The `callbacks.on_trial_result` operation took 3.522 s, which may be a performance bottleneck.\n",
      "2025-02-17 13:07:58,847\tWARNING util.py:201 -- The `process_trial_result` operation took 3.524 s, which may be a performance bottleneck.\n",
      "2025-02-17 13:07:58,848\tWARNING util.py:201 -- Processing trial results took 3.525 s, which may be a performance bottleneck. Please consider reporting results less frequently to Ray Tune.\n",
      "2025-02-17 13:07:58,848\tWARNING util.py:201 -- The `process_trial_result` operation took 3.525 s, which may be a performance bottleneck.\n"
     ]
    },
    {
     "name": "stdout",
     "output_type": "stream",
     "text": [
      "\u001b[36m(train_rf pid=237607)\u001b[0m Train: (48, 858), Test: (48, 858)\n"
     ]
    },
    {
     "name": "stderr",
     "output_type": "stream",
     "text": [
      "2025-02-17 13:08:03,076\tWARNING util.py:201 -- The `callbacks.on_trial_result` operation took 1.481 s, which may be a performance bottleneck.\n",
      "2025-02-17 13:08:03,078\tWARNING util.py:201 -- The `process_trial_result` operation took 1.483 s, which may be a performance bottleneck.\n",
      "2025-02-17 13:08:03,079\tWARNING util.py:201 -- Processing trial results took 1.483 s, which may be a performance bottleneck. Please consider reporting results less frequently to Ray Tune.\n",
      "2025-02-17 13:08:03,079\tWARNING util.py:201 -- The `process_trial_result` operation took 1.484 s, which may be a performance bottleneck.\n"
     ]
    },
    {
     "name": "stdout",
     "output_type": "stream",
     "text": [
      "\u001b[36m(train_rf pid=237666)\u001b[0m Train: (48, 858), Test: (48, 858)\n"
     ]
    },
    {
     "name": "stderr",
     "output_type": "stream",
     "text": [
      "2025-02-17 13:08:11,409\tWARNING util.py:201 -- The `callbacks.on_trial_result` operation took 1.797 s, which may be a performance bottleneck.\n",
      "2025-02-17 13:08:11,411\tWARNING util.py:201 -- The `process_trial_result` operation took 1.798 s, which may be a performance bottleneck.\n",
      "2025-02-17 13:08:11,412\tWARNING util.py:201 -- Processing trial results took 1.799 s, which may be a performance bottleneck. Please consider reporting results less frequently to Ray Tune.\n",
      "2025-02-17 13:08:11,412\tWARNING util.py:201 -- The `process_trial_result` operation took 1.799 s, which may be a performance bottleneck.\n"
     ]
    },
    {
     "name": "stdout",
     "output_type": "stream",
     "text": [
      "\u001b[36m(train_rf pid=237755)\u001b[0m Train: (48, 858), Test: (48, 858)\n"
     ]
    },
    {
     "name": "stderr",
     "output_type": "stream",
     "text": [
      "2025-02-17 13:08:19,206\tWARNING util.py:201 -- The `callbacks.on_trial_result` operation took 3.792 s, which may be a performance bottleneck.\n",
      "2025-02-17 13:08:19,208\tWARNING util.py:201 -- The `process_trial_result` operation took 3.793 s, which may be a performance bottleneck.\n",
      "2025-02-17 13:08:19,209\tWARNING util.py:201 -- Processing trial results took 3.794 s, which may be a performance bottleneck. Please consider reporting results less frequently to Ray Tune.\n",
      "2025-02-17 13:08:19,209\tWARNING util.py:201 -- The `process_trial_result` operation took 3.795 s, which may be a performance bottleneck.\n"
     ]
    },
    {
     "name": "stdout",
     "output_type": "stream",
     "text": [
      "\u001b[36m(train_rf pid=237820)\u001b[0m Train: (48, 858), Test: (48, 858)\n"
     ]
    },
    {
     "name": "stderr",
     "output_type": "stream",
     "text": [
      "2025-02-17 13:08:23,586\tWARNING util.py:201 -- The `callbacks.on_trial_result` operation took 1.509 s, which may be a performance bottleneck.\n",
      "2025-02-17 13:08:23,588\tWARNING util.py:201 -- The `process_trial_result` operation took 1.510 s, which may be a performance bottleneck.\n",
      "2025-02-17 13:08:23,588\tWARNING util.py:201 -- Processing trial results took 1.511 s, which may be a performance bottleneck. Please consider reporting results less frequently to Ray Tune.\n",
      "2025-02-17 13:08:23,589\tWARNING util.py:201 -- The `process_trial_result` operation took 1.512 s, which may be a performance bottleneck.\n"
     ]
    },
    {
     "name": "stdout",
     "output_type": "stream",
     "text": [
      "\u001b[36m(train_rf pid=237878)\u001b[0m Train: (48, 990), Test: (48, 990)\n"
     ]
    },
    {
     "name": "stderr",
     "output_type": "stream",
     "text": [
      "2025-02-17 13:08:31,852\tWARNING util.py:201 -- The `callbacks.on_trial_result` operation took 1.578 s, which may be a performance bottleneck.\n",
      "2025-02-17 13:08:31,853\tWARNING util.py:201 -- The `process_trial_result` operation took 1.580 s, which may be a performance bottleneck.\n",
      "2025-02-17 13:08:31,854\tWARNING util.py:201 -- Processing trial results took 1.580 s, which may be a performance bottleneck. Please consider reporting results less frequently to Ray Tune.\n",
      "2025-02-17 13:08:31,854\tWARNING util.py:201 -- The `process_trial_result` operation took 1.581 s, which may be a performance bottleneck.\n"
     ]
    },
    {
     "name": "stdout",
     "output_type": "stream",
     "text": [
      "\u001b[36m(train_rf pid=237941)\u001b[0m Train: (48, 990), Test: (48, 990)\n"
     ]
    },
    {
     "name": "stderr",
     "output_type": "stream",
     "text": [
      "2025-02-17 13:08:39,919\tWARNING util.py:201 -- The `callbacks.on_trial_result` operation took 3.617 s, which may be a performance bottleneck.\n",
      "2025-02-17 13:08:39,920\tWARNING util.py:201 -- The `process_trial_result` operation took 3.619 s, which may be a performance bottleneck.\n",
      "2025-02-17 13:08:39,922\tWARNING util.py:201 -- Processing trial results took 3.620 s, which may be a performance bottleneck. Please consider reporting results less frequently to Ray Tune.\n",
      "2025-02-17 13:08:39,923\tWARNING util.py:201 -- The `process_trial_result` operation took 3.622 s, which may be a performance bottleneck.\n"
     ]
    },
    {
     "name": "stdout",
     "output_type": "stream",
     "text": [
      "\u001b[36m(train_rf pid=238001)\u001b[0m Train: (48, 990), Test: (48, 990)\n"
     ]
    },
    {
     "name": "stderr",
     "output_type": "stream",
     "text": [
      "2025-02-17 13:08:44,252\tWARNING util.py:201 -- The `callbacks.on_trial_result` operation took 1.465 s, which may be a performance bottleneck.\n",
      "2025-02-17 13:08:44,253\tWARNING util.py:201 -- The `process_trial_result` operation took 1.467 s, which may be a performance bottleneck.\n",
      "2025-02-17 13:08:44,254\tWARNING util.py:201 -- Processing trial results took 1.467 s, which may be a performance bottleneck. Please consider reporting results less frequently to Ray Tune.\n",
      "2025-02-17 13:08:44,255\tWARNING util.py:201 -- The `process_trial_result` operation took 1.468 s, which may be a performance bottleneck.\n"
     ]
    },
    {
     "name": "stdout",
     "output_type": "stream",
     "text": [
      "\u001b[36m(train_rf pid=238059)\u001b[0m Train: (48, 734), Test: (48, 734)\n"
     ]
    },
    {
     "name": "stderr",
     "output_type": "stream",
     "text": [
      "2025-02-17 13:08:52,721\tWARNING util.py:201 -- The `callbacks.on_trial_result` operation took 1.827 s, which may be a performance bottleneck.\n",
      "2025-02-17 13:08:52,722\tWARNING util.py:201 -- The `process_trial_result` operation took 1.829 s, which may be a performance bottleneck.\n",
      "2025-02-17 13:08:52,723\tWARNING util.py:201 -- Processing trial results took 1.830 s, which may be a performance bottleneck. Please consider reporting results less frequently to Ray Tune.\n",
      "2025-02-17 13:08:52,724\tWARNING util.py:201 -- The `process_trial_result` operation took 1.830 s, which may be a performance bottleneck.\n"
     ]
    },
    {
     "name": "stdout",
     "output_type": "stream",
     "text": [
      "\u001b[36m(train_rf pid=238122)\u001b[0m Train: (48, 734), Test: (48, 734)\n"
     ]
    },
    {
     "name": "stderr",
     "output_type": "stream",
     "text": [
      "2025-02-17 13:09:00,641\tWARNING util.py:201 -- The `callbacks.on_trial_result` operation took 3.767 s, which may be a performance bottleneck.\n",
      "2025-02-17 13:09:00,642\tWARNING util.py:201 -- The `process_trial_result` operation took 3.768 s, which may be a performance bottleneck.\n",
      "2025-02-17 13:09:00,643\tWARNING util.py:201 -- Processing trial results took 3.769 s, which may be a performance bottleneck. Please consider reporting results less frequently to Ray Tune.\n",
      "2025-02-17 13:09:00,643\tWARNING util.py:201 -- The `process_trial_result` operation took 3.769 s, which may be a performance bottleneck.\n"
     ]
    },
    {
     "name": "stdout",
     "output_type": "stream",
     "text": [
      "\u001b[36m(train_rf pid=238182)\u001b[0m Train: (48, 68), Test: (48, 68)\n"
     ]
    },
    {
     "name": "stderr",
     "output_type": "stream",
     "text": [
      "2025-02-17 13:09:05,138\tWARNING util.py:201 -- The `callbacks.on_trial_result` operation took 1.521 s, which may be a performance bottleneck.\n",
      "2025-02-17 13:09:05,139\tWARNING util.py:201 -- The `process_trial_result` operation took 1.522 s, which may be a performance bottleneck.\n",
      "2025-02-17 13:09:05,140\tWARNING util.py:201 -- Processing trial results took 1.523 s, which may be a performance bottleneck. Please consider reporting results less frequently to Ray Tune.\n",
      "2025-02-17 13:09:05,140\tWARNING util.py:201 -- The `process_trial_result` operation took 1.523 s, which may be a performance bottleneck.\n"
     ]
    },
    {
     "name": "stdout",
     "output_type": "stream",
     "text": [
      "\u001b[36m(train_rf pid=238270)\u001b[0m Train: (48, 49), Test: (48, 49)\n"
     ]
    },
    {
     "name": "stderr",
     "output_type": "stream",
     "text": [
      "2025-02-17 13:09:13,505\tWARNING util.py:201 -- The `callbacks.on_trial_result` operation took 1.863 s, which may be a performance bottleneck.\n",
      "2025-02-17 13:09:13,506\tWARNING util.py:201 -- The `process_trial_result` operation took 1.865 s, which may be a performance bottleneck.\n",
      "2025-02-17 13:09:13,507\tWARNING util.py:201 -- Processing trial results took 1.865 s, which may be a performance bottleneck. Please consider reporting results less frequently to Ray Tune.\n",
      "2025-02-17 13:09:13,507\tWARNING util.py:201 -- The `process_trial_result` operation took 1.866 s, which may be a performance bottleneck.\n"
     ]
    },
    {
     "name": "stdout",
     "output_type": "stream",
     "text": [
      "\u001b[36m(train_rf pid=238333)\u001b[0m Train: (48, 833), Test: (48, 833)\n"
     ]
    },
    {
     "name": "stderr",
     "output_type": "stream",
     "text": [
      "2025-02-17 13:09:21,568\tWARNING util.py:201 -- The `callbacks.on_trial_result` operation took 3.998 s, which may be a performance bottleneck.\n",
      "2025-02-17 13:09:21,570\tWARNING util.py:201 -- The `process_trial_result` operation took 4.000 s, which may be a performance bottleneck.\n",
      "2025-02-17 13:09:21,571\tWARNING util.py:201 -- Processing trial results took 4.000 s, which may be a performance bottleneck. Please consider reporting results less frequently to Ray Tune.\n",
      "2025-02-17 13:09:21,571\tWARNING util.py:201 -- The `process_trial_result` operation took 4.001 s, which may be a performance bottleneck.\n"
     ]
    },
    {
     "name": "stdout",
     "output_type": "stream",
     "text": [
      "\u001b[36m(train_rf pid=238399)\u001b[0m Train: (48, 833), Test: (48, 833)\n"
     ]
    },
    {
     "name": "stderr",
     "output_type": "stream",
     "text": [
      "2025-02-17 13:09:26,212\tWARNING util.py:201 -- The `callbacks.on_trial_result` operation took 1.510 s, which may be a performance bottleneck.\n",
      "2025-02-17 13:09:26,214\tWARNING util.py:201 -- The `process_trial_result` operation took 1.512 s, which may be a performance bottleneck.\n",
      "2025-02-17 13:09:26,214\tWARNING util.py:201 -- Processing trial results took 1.512 s, which may be a performance bottleneck. Please consider reporting results less frequently to Ray Tune.\n",
      "2025-02-17 13:09:26,215\tWARNING util.py:201 -- The `process_trial_result` operation took 1.513 s, which may be a performance bottleneck.\n"
     ]
    },
    {
     "name": "stdout",
     "output_type": "stream",
     "text": [
      "\u001b[36m(train_rf pid=238457)\u001b[0m Train: (48, 833), Test: (48, 833)\n"
     ]
    },
    {
     "name": "stderr",
     "output_type": "stream",
     "text": [
      "2025-02-17 13:09:34,284\tWARNING util.py:201 -- The `callbacks.on_trial_result` operation took 1.530 s, which may be a performance bottleneck.\n",
      "2025-02-17 13:09:34,286\tWARNING util.py:201 -- The `process_trial_result` operation took 1.533 s, which may be a performance bottleneck.\n",
      "2025-02-17 13:09:34,286\tWARNING util.py:201 -- Processing trial results took 1.533 s, which may be a performance bottleneck. Please consider reporting results less frequently to Ray Tune.\n",
      "2025-02-17 13:09:34,287\tWARNING util.py:201 -- The `process_trial_result` operation took 1.533 s, which may be a performance bottleneck.\n"
     ]
    },
    {
     "name": "stdout",
     "output_type": "stream",
     "text": [
      "\u001b[36m(train_rf pid=238558)\u001b[0m Train: (48, 833), Test: (48, 833)\n"
     ]
    },
    {
     "name": "stderr",
     "output_type": "stream",
     "text": [
      "2025-02-17 13:09:42,823\tWARNING util.py:201 -- The `callbacks.on_trial_result` operation took 3.885 s, which may be a performance bottleneck.\n",
      "2025-02-17 13:09:42,825\tWARNING util.py:201 -- The `process_trial_result` operation took 3.886 s, which may be a performance bottleneck.\n",
      "2025-02-17 13:09:42,826\tWARNING util.py:201 -- Processing trial results took 3.887 s, which may be a performance bottleneck. Please consider reporting results less frequently to Ray Tune.\n",
      "2025-02-17 13:09:42,826\tWARNING util.py:201 -- The `process_trial_result` operation took 3.887 s, which may be a performance bottleneck.\n"
     ]
    },
    {
     "name": "stdout",
     "output_type": "stream",
     "text": [
      "\u001b[36m(train_rf pid=238617)\u001b[0m Train: (48, 833), Test: (48, 833)\n"
     ]
    },
    {
     "name": "stderr",
     "output_type": "stream",
     "text": [
      "2025-02-17 13:09:47,545\tWARNING util.py:201 -- The `callbacks.on_trial_result` operation took 1.484 s, which may be a performance bottleneck.\n",
      "2025-02-17 13:09:47,546\tWARNING util.py:201 -- The `process_trial_result` operation took 1.485 s, which may be a performance bottleneck.\n",
      "2025-02-17 13:09:47,547\tWARNING util.py:201 -- Processing trial results took 1.486 s, which may be a performance bottleneck. Please consider reporting results less frequently to Ray Tune.\n",
      "2025-02-17 13:09:47,547\tWARNING util.py:201 -- The `process_trial_result` operation took 1.486 s, which may be a performance bottleneck.\n"
     ]
    },
    {
     "name": "stdout",
     "output_type": "stream",
     "text": [
      "\u001b[36m(train_rf pid=238680)\u001b[0m Train: (48, 833), Test: (48, 833)\n"
     ]
    },
    {
     "name": "stderr",
     "output_type": "stream",
     "text": [
      "2025-02-17 13:09:56,385\tWARNING util.py:201 -- The `callbacks.on_trial_result` operation took 1.681 s, which may be a performance bottleneck.\n",
      "2025-02-17 13:09:56,387\tWARNING util.py:201 -- The `process_trial_result` operation took 1.682 s, which may be a performance bottleneck.\n",
      "2025-02-17 13:09:56,387\tWARNING util.py:201 -- Processing trial results took 1.683 s, which may be a performance bottleneck. Please consider reporting results less frequently to Ray Tune.\n",
      "2025-02-17 13:09:56,387\tWARNING util.py:201 -- The `process_trial_result` operation took 1.683 s, which may be a performance bottleneck.\n"
     ]
    },
    {
     "name": "stdout",
     "output_type": "stream",
     "text": [
      "\u001b[36m(train_rf pid=238740)\u001b[0m Train: (48, 833), Test: (48, 833)\n"
     ]
    },
    {
     "name": "stderr",
     "output_type": "stream",
     "text": [
      "2025-02-17 13:10:05,959\tWARNING util.py:201 -- The `callbacks.on_trial_result` operation took 3.103 s, which may be a performance bottleneck.\n",
      "2025-02-17 13:10:05,961\tWARNING util.py:201 -- The `process_trial_result` operation took 3.105 s, which may be a performance bottleneck.\n",
      "2025-02-17 13:10:05,961\tWARNING util.py:201 -- Processing trial results took 3.106 s, which may be a performance bottleneck. Please consider reporting results less frequently to Ray Tune.\n",
      "2025-02-17 13:10:05,962\tWARNING util.py:201 -- The `process_trial_result` operation took 3.106 s, which may be a performance bottleneck.\n"
     ]
    },
    {
     "name": "stdout",
     "output_type": "stream",
     "text": [
      "\u001b[36m(train_rf pid=238837)\u001b[0m Train: (48, 833), Test: (48, 833)\n"
     ]
    },
    {
     "name": "stderr",
     "output_type": "stream",
     "text": [
      "2025-02-17 13:10:10,516\tWARNING util.py:201 -- The `callbacks.on_trial_result` operation took 1.784 s, which may be a performance bottleneck.\n",
      "2025-02-17 13:10:10,517\tWARNING util.py:201 -- The `process_trial_result` operation took 1.786 s, which may be a performance bottleneck.\n",
      "2025-02-17 13:10:10,518\tWARNING util.py:201 -- Processing trial results took 1.786 s, which may be a performance bottleneck. Please consider reporting results less frequently to Ray Tune.\n",
      "2025-02-17 13:10:10,518\tWARNING util.py:201 -- The `process_trial_result` operation took 1.787 s, which may be a performance bottleneck.\n"
     ]
    },
    {
     "name": "stdout",
     "output_type": "stream",
     "text": [
      "\u001b[36m(train_rf pid=238895)\u001b[0m Train: (48, 833), Test: (48, 833)\n"
     ]
    },
    {
     "name": "stderr",
     "output_type": "stream",
     "text": [
      "2025-02-17 13:10:17,813\tWARNING util.py:201 -- The `callbacks.on_trial_result` operation took 1.484 s, which may be a performance bottleneck.\n",
      "2025-02-17 13:10:17,815\tWARNING util.py:201 -- The `process_trial_result` operation took 1.485 s, which may be a performance bottleneck.\n",
      "2025-02-17 13:10:17,815\tWARNING util.py:201 -- Processing trial results took 1.486 s, which may be a performance bottleneck. Please consider reporting results less frequently to Ray Tune.\n",
      "2025-02-17 13:10:17,816\tWARNING util.py:201 -- The `process_trial_result` operation took 1.486 s, which may be a performance bottleneck.\n"
     ]
    },
    {
     "name": "stdout",
     "output_type": "stream",
     "text": [
      "\u001b[36m(train_rf pid=238967)\u001b[0m Train: (48, 833), Test: (48, 833)\n"
     ]
    },
    {
     "name": "stderr",
     "output_type": "stream",
     "text": [
      "2025-02-17 13:10:27,156\tWARNING util.py:201 -- The `callbacks.on_trial_result` operation took 2.987 s, which may be a performance bottleneck.\n",
      "2025-02-17 13:10:27,158\tWARNING util.py:201 -- The `process_trial_result` operation took 2.989 s, which may be a performance bottleneck.\n",
      "2025-02-17 13:10:27,158\tWARNING util.py:201 -- Processing trial results took 2.990 s, which may be a performance bottleneck. Please consider reporting results less frequently to Ray Tune.\n",
      "2025-02-17 13:10:27,159\tWARNING util.py:201 -- The `process_trial_result` operation took 2.990 s, which may be a performance bottleneck.\n"
     ]
    },
    {
     "name": "stdout",
     "output_type": "stream",
     "text": [
      "\u001b[36m(train_rf pid=239028)\u001b[0m Train: (48, 734), Test: (48, 734)\n"
     ]
    },
    {
     "name": "stderr",
     "output_type": "stream",
     "text": [
      "2025-02-17 13:10:31,803\tWARNING util.py:201 -- The `callbacks.on_trial_result` operation took 1.576 s, which may be a performance bottleneck.\n",
      "2025-02-17 13:10:31,804\tWARNING util.py:201 -- The `process_trial_result` operation took 1.578 s, which may be a performance bottleneck.\n",
      "2025-02-17 13:10:31,805\tWARNING util.py:201 -- Processing trial results took 1.579 s, which may be a performance bottleneck. Please consider reporting results less frequently to Ray Tune.\n",
      "2025-02-17 13:10:31,805\tWARNING util.py:201 -- The `process_trial_result` operation took 1.579 s, which may be a performance bottleneck.\n"
     ]
    },
    {
     "name": "stdout",
     "output_type": "stream",
     "text": [
      "\u001b[36m(train_rf pid=239086)\u001b[0m Train: (48, 734), Test: (48, 734)\n"
     ]
    },
    {
     "name": "stderr",
     "output_type": "stream",
     "text": [
      "2025-02-17 13:10:39,502\tWARNING util.py:201 -- The `callbacks.on_trial_result` operation took 1.428 s, which may be a performance bottleneck.\n",
      "2025-02-17 13:10:39,504\tWARNING util.py:201 -- The `process_trial_result` operation took 1.429 s, which may be a performance bottleneck.\n",
      "2025-02-17 13:10:39,504\tWARNING util.py:201 -- Processing trial results took 1.430 s, which may be a performance bottleneck. Please consider reporting results less frequently to Ray Tune.\n",
      "2025-02-17 13:10:39,505\tWARNING util.py:201 -- The `process_trial_result` operation took 1.430 s, which may be a performance bottleneck.\n"
     ]
    },
    {
     "name": "stdout",
     "output_type": "stream",
     "text": [
      "\u001b[36m(train_rf pid=239150)\u001b[0m Train: (48, 734), Test: (48, 734)\n"
     ]
    },
    {
     "name": "stderr",
     "output_type": "stream",
     "text": [
      "2025-02-17 13:10:48,679\tWARNING util.py:201 -- The `callbacks.on_trial_result` operation took 2.470 s, which may be a performance bottleneck.\n",
      "2025-02-17 13:10:48,681\tWARNING util.py:201 -- The `process_trial_result` operation took 2.472 s, which may be a performance bottleneck.\n",
      "2025-02-17 13:10:48,681\tWARNING util.py:201 -- Processing trial results took 2.473 s, which may be a performance bottleneck. Please consider reporting results less frequently to Ray Tune.\n",
      "2025-02-17 13:10:48,682\tWARNING util.py:201 -- The `process_trial_result` operation took 2.473 s, which may be a performance bottleneck.\n"
     ]
    },
    {
     "name": "stdout",
     "output_type": "stream",
     "text": [
      "\u001b[36m(train_rf pid=239209)\u001b[0m Train: (48, 833), Test: (48, 833)\n"
     ]
    },
    {
     "name": "stderr",
     "output_type": "stream",
     "text": [
      "2025-02-17 13:10:56,221\tWARNING util.py:201 -- The `callbacks.on_trial_result` operation took 4.018 s, which may be a performance bottleneck.\n",
      "2025-02-17 13:10:56,223\tWARNING util.py:201 -- The `process_trial_result` operation took 4.021 s, which may be a performance bottleneck.\n",
      "2025-02-17 13:10:56,224\tWARNING util.py:201 -- Processing trial results took 4.021 s, which may be a performance bottleneck. Please consider reporting results less frequently to Ray Tune.\n",
      "2025-02-17 13:10:56,224\tWARNING util.py:201 -- The `process_trial_result` operation took 4.022 s, which may be a performance bottleneck.\n"
     ]
    },
    {
     "name": "stdout",
     "output_type": "stream",
     "text": [
      "\u001b[36m(train_rf pid=239272)\u001b[0m Train: (48, 833), Test: (48, 833)\n"
     ]
    },
    {
     "name": "stderr",
     "output_type": "stream",
     "text": [
      "2025-02-17 13:11:00,911\tWARNING util.py:201 -- The `callbacks.on_trial_result` operation took 1.500 s, which may be a performance bottleneck.\n",
      "2025-02-17 13:11:00,913\tWARNING util.py:201 -- The `process_trial_result` operation took 1.502 s, which may be a performance bottleneck.\n",
      "2025-02-17 13:11:00,914\tWARNING util.py:201 -- Processing trial results took 1.503 s, which may be a performance bottleneck. Please consider reporting results less frequently to Ray Tune.\n",
      "2025-02-17 13:11:00,914\tWARNING util.py:201 -- The `process_trial_result` operation took 1.503 s, which may be a performance bottleneck.\n"
     ]
    },
    {
     "name": "stdout",
     "output_type": "stream",
     "text": [
      "\u001b[36m(train_rf pid=239333)\u001b[0m Train: (48, 833), Test: (48, 833)\n"
     ]
    },
    {
     "name": "stderr",
     "output_type": "stream",
     "text": [
      "2025-02-17 13:11:09,163\tWARNING util.py:201 -- The `callbacks.on_trial_result` operation took 1.641 s, which may be a performance bottleneck.\n",
      "2025-02-17 13:11:09,164\tWARNING util.py:201 -- The `process_trial_result` operation took 1.643 s, which may be a performance bottleneck.\n",
      "2025-02-17 13:11:09,165\tWARNING util.py:201 -- Processing trial results took 1.644 s, which may be a performance bottleneck. Please consider reporting results less frequently to Ray Tune.\n",
      "2025-02-17 13:11:09,165\tWARNING util.py:201 -- The `process_trial_result` operation took 1.644 s, which may be a performance bottleneck.\n"
     ]
    },
    {
     "name": "stdout",
     "output_type": "stream",
     "text": [
      "\u001b[36m(train_rf pid=239427)\u001b[0m Train: (48, 833), Test: (48, 833)\n"
     ]
    },
    {
     "name": "stderr",
     "output_type": "stream",
     "text": [
      "2025-02-17 13:11:17,210\tWARNING util.py:201 -- The `callbacks.on_trial_result` operation took 3.834 s, which may be a performance bottleneck.\n",
      "2025-02-17 13:11:17,212\tWARNING util.py:201 -- The `process_trial_result` operation took 3.836 s, which may be a performance bottleneck.\n",
      "2025-02-17 13:11:17,213\tWARNING util.py:201 -- Processing trial results took 3.836 s, which may be a performance bottleneck. Please consider reporting results less frequently to Ray Tune.\n",
      "2025-02-17 13:11:17,213\tWARNING util.py:201 -- The `process_trial_result` operation took 3.837 s, which may be a performance bottleneck.\n"
     ]
    },
    {
     "name": "stdout",
     "output_type": "stream",
     "text": [
      "\u001b[36m(train_rf pid=239491)\u001b[0m Train: (48, 858), Test: (48, 858)\n"
     ]
    },
    {
     "name": "stderr",
     "output_type": "stream",
     "text": [
      "2025-02-17 13:11:22,032\tWARNING util.py:201 -- The `callbacks.on_trial_result` operation took 1.485 s, which may be a performance bottleneck.\n",
      "2025-02-17 13:11:22,033\tWARNING util.py:201 -- The `process_trial_result` operation took 1.487 s, which may be a performance bottleneck.\n",
      "2025-02-17 13:11:22,034\tWARNING util.py:201 -- Processing trial results took 1.488 s, which may be a performance bottleneck. Please consider reporting results less frequently to Ray Tune.\n",
      "2025-02-17 13:11:22,035\tWARNING util.py:201 -- The `process_trial_result` operation took 1.488 s, which may be a performance bottleneck.\n"
     ]
    },
    {
     "name": "stdout",
     "output_type": "stream",
     "text": [
      "\u001b[36m(train_rf pid=239550)\u001b[0m Train: (48, 858), Test: (48, 858)\n"
     ]
    },
    {
     "name": "stderr",
     "output_type": "stream",
     "text": [
      "2025-02-17 13:11:30,303\tWARNING util.py:201 -- The `callbacks.on_trial_result` operation took 1.720 s, which may be a performance bottleneck.\n",
      "2025-02-17 13:11:30,305\tWARNING util.py:201 -- The `process_trial_result` operation took 1.723 s, which may be a performance bottleneck.\n",
      "2025-02-17 13:11:30,305\tWARNING util.py:201 -- Processing trial results took 1.723 s, which may be a performance bottleneck. Please consider reporting results less frequently to Ray Tune.\n",
      "2025-02-17 13:11:30,307\tWARNING util.py:201 -- The `process_trial_result` operation took 1.725 s, which may be a performance bottleneck.\n"
     ]
    },
    {
     "name": "stdout",
     "output_type": "stream",
     "text": [
      "\u001b[36m(train_rf pid=239613)\u001b[0m Train: (48, 833), Test: (48, 833)\n"
     ]
    },
    {
     "name": "stderr",
     "output_type": "stream",
     "text": [
      "2025-02-17 13:11:38,321\tWARNING util.py:201 -- The `callbacks.on_trial_result` operation took 3.804 s, which may be a performance bottleneck.\n",
      "2025-02-17 13:11:38,322\tWARNING util.py:201 -- The `process_trial_result` operation took 3.805 s, which may be a performance bottleneck.\n",
      "2025-02-17 13:11:38,323\tWARNING util.py:201 -- Processing trial results took 3.806 s, which may be a performance bottleneck. Please consider reporting results less frequently to Ray Tune.\n",
      "2025-02-17 13:11:38,323\tWARNING util.py:201 -- The `process_trial_result` operation took 3.806 s, which may be a performance bottleneck.\n"
     ]
    },
    {
     "name": "stdout",
     "output_type": "stream",
     "text": [
      "\u001b[36m(train_rf pid=239672)\u001b[0m Train: (48, 833), Test: (48, 833)\n"
     ]
    },
    {
     "name": "stderr",
     "output_type": "stream",
     "text": [
      "2025-02-17 13:11:43,285\tWARNING util.py:201 -- The `callbacks.on_trial_result` operation took 1.599 s, which may be a performance bottleneck.\n",
      "2025-02-17 13:11:43,287\tWARNING util.py:201 -- The `process_trial_result` operation took 1.601 s, which may be a performance bottleneck.\n",
      "2025-02-17 13:11:43,288\tWARNING util.py:201 -- Processing trial results took 1.602 s, which may be a performance bottleneck. Please consider reporting results less frequently to Ray Tune.\n",
      "2025-02-17 13:11:43,288\tWARNING util.py:201 -- The `process_trial_result` operation took 1.603 s, which may be a performance bottleneck.\n"
     ]
    },
    {
     "name": "stdout",
     "output_type": "stream",
     "text": [
      "\u001b[36m(train_rf pid=239730)\u001b[0m Train: (48, 833), Test: (48, 833)\n"
     ]
    },
    {
     "name": "stderr",
     "output_type": "stream",
     "text": [
      "2025-02-17 13:11:51,624\tWARNING util.py:201 -- The `callbacks.on_trial_result` operation took 1.949 s, which may be a performance bottleneck.\n",
      "2025-02-17 13:11:51,625\tWARNING util.py:201 -- The `process_trial_result` operation took 1.951 s, which may be a performance bottleneck.\n",
      "2025-02-17 13:11:51,626\tWARNING util.py:201 -- Processing trial results took 1.951 s, which may be a performance bottleneck. Please consider reporting results less frequently to Ray Tune.\n",
      "2025-02-17 13:11:51,626\tWARNING util.py:201 -- The `process_trial_result` operation took 1.952 s, which may be a performance bottleneck.\n"
     ]
    },
    {
     "name": "stdout",
     "output_type": "stream",
     "text": [
      "\u001b[36m(train_rf pid=239793)\u001b[0m Train: (48, 734), Test: (48, 734)\n"
     ]
    },
    {
     "name": "stderr",
     "output_type": "stream",
     "text": [
      "2025-02-17 13:11:59,631\tWARNING util.py:201 -- The `callbacks.on_trial_result` operation took 3.768 s, which may be a performance bottleneck.\n",
      "2025-02-17 13:11:59,633\tWARNING util.py:201 -- The `process_trial_result` operation took 3.770 s, which may be a performance bottleneck.\n",
      "2025-02-17 13:11:59,633\tWARNING util.py:201 -- Processing trial results took 3.771 s, which may be a performance bottleneck. Please consider reporting results less frequently to Ray Tune.\n",
      "2025-02-17 13:11:59,634\tWARNING util.py:201 -- The `process_trial_result` operation took 3.771 s, which may be a performance bottleneck.\n"
     ]
    },
    {
     "name": "stdout",
     "output_type": "stream",
     "text": [
      "\u001b[36m(train_rf pid=239853)\u001b[0m Train: (48, 734), Test: (48, 734)\n"
     ]
    },
    {
     "name": "stderr",
     "output_type": "stream",
     "text": [
      "2025-02-17 13:12:04,637\tWARNING util.py:201 -- The `callbacks.on_trial_result` operation took 1.473 s, which may be a performance bottleneck.\n",
      "2025-02-17 13:12:04,638\tWARNING util.py:201 -- The `process_trial_result` operation took 1.474 s, which may be a performance bottleneck.\n",
      "2025-02-17 13:12:04,639\tWARNING util.py:201 -- Processing trial results took 1.475 s, which may be a performance bottleneck. Please consider reporting results less frequently to Ray Tune.\n",
      "2025-02-17 13:12:04,639\tWARNING util.py:201 -- The `process_trial_result` operation took 1.476 s, which may be a performance bottleneck.\n"
     ]
    },
    {
     "name": "stdout",
     "output_type": "stream",
     "text": [
      "\u001b[36m(train_rf pid=239944)\u001b[0m Train: (48, 833), Test: (48, 833)\n"
     ]
    },
    {
     "name": "stderr",
     "output_type": "stream",
     "text": [
      "2025-02-17 13:12:12,915\tWARNING util.py:201 -- The `callbacks.on_trial_result` operation took 1.927 s, which may be a performance bottleneck.\n",
      "2025-02-17 13:12:12,917\tWARNING util.py:201 -- The `process_trial_result` operation took 1.930 s, which may be a performance bottleneck.\n",
      "2025-02-17 13:12:12,918\tWARNING util.py:201 -- Processing trial results took 1.930 s, which may be a performance bottleneck. Please consider reporting results less frequently to Ray Tune.\n",
      "2025-02-17 13:12:12,918\tWARNING util.py:201 -- The `process_trial_result` operation took 1.931 s, which may be a performance bottleneck.\n"
     ]
    },
    {
     "name": "stdout",
     "output_type": "stream",
     "text": [
      "\u001b[36m(train_rf pid=240004)\u001b[0m Train: (48, 833), Test: (48, 833)\n"
     ]
    },
    {
     "name": "stderr",
     "output_type": "stream",
     "text": [
      "2025-02-17 13:12:20,746\tWARNING util.py:201 -- The `callbacks.on_trial_result` operation took 3.820 s, which may be a performance bottleneck.\n",
      "2025-02-17 13:12:20,748\tWARNING util.py:201 -- The `process_trial_result` operation took 3.822 s, which may be a performance bottleneck.\n",
      "2025-02-17 13:12:20,749\tWARNING util.py:201 -- Processing trial results took 3.823 s, which may be a performance bottleneck. Please consider reporting results less frequently to Ray Tune.\n",
      "2025-02-17 13:12:20,749\tWARNING util.py:201 -- The `process_trial_result` operation took 3.824 s, which may be a performance bottleneck.\n"
     ]
    },
    {
     "name": "stdout",
     "output_type": "stream",
     "text": [
      "\u001b[36m(train_rf pid=240068)\u001b[0m Train: (48, 833), Test: (48, 833)\n"
     ]
    },
    {
     "name": "stderr",
     "output_type": "stream",
     "text": [
      "2025-02-17 13:12:26,072\tWARNING util.py:201 -- The `callbacks.on_trial_result` operation took 1.777 s, which may be a performance bottleneck.\n",
      "2025-02-17 13:12:26,073\tWARNING util.py:201 -- The `process_trial_result` operation took 1.779 s, which may be a performance bottleneck.\n",
      "2025-02-17 13:12:26,074\tWARNING util.py:201 -- Processing trial results took 1.780 s, which may be a performance bottleneck. Please consider reporting results less frequently to Ray Tune.\n",
      "2025-02-17 13:12:26,074\tWARNING util.py:201 -- The `process_trial_result` operation took 1.780 s, which may be a performance bottleneck.\n"
     ]
    },
    {
     "name": "stdout",
     "output_type": "stream",
     "text": [
      "\u001b[36m(train_rf pid=240130)\u001b[0m Train: (48, 858), Test: (48, 858)\n"
     ]
    },
    {
     "name": "stderr",
     "output_type": "stream",
     "text": [
      "2025-02-17 13:12:34,156\tWARNING util.py:201 -- The `callbacks.on_trial_result` operation took 1.810 s, which may be a performance bottleneck.\n",
      "2025-02-17 13:12:34,158\tWARNING util.py:201 -- The `process_trial_result` operation took 1.813 s, which may be a performance bottleneck.\n",
      "2025-02-17 13:12:34,159\tWARNING util.py:201 -- Processing trial results took 1.813 s, which may be a performance bottleneck. Please consider reporting results less frequently to Ray Tune.\n",
      "2025-02-17 13:12:34,159\tWARNING util.py:201 -- The `process_trial_result` operation took 1.814 s, which may be a performance bottleneck.\n"
     ]
    },
    {
     "name": "stdout",
     "output_type": "stream",
     "text": [
      "\u001b[36m(train_rf pid=240189)\u001b[0m Train: (48, 858), Test: (48, 858)\n"
     ]
    },
    {
     "name": "stderr",
     "output_type": "stream",
     "text": [
      "2025-02-17 13:12:41,991\tWARNING util.py:201 -- The `callbacks.on_trial_result` operation took 3.743 s, which may be a performance bottleneck.\n",
      "2025-02-17 13:12:41,993\tWARNING util.py:201 -- The `process_trial_result` operation took 3.745 s, which may be a performance bottleneck.\n",
      "2025-02-17 13:12:41,994\tWARNING util.py:201 -- Processing trial results took 3.745 s, which may be a performance bottleneck. Please consider reporting results less frequently to Ray Tune.\n",
      "2025-02-17 13:12:41,994\tWARNING util.py:201 -- The `process_trial_result` operation took 3.746 s, which may be a performance bottleneck.\n"
     ]
    },
    {
     "name": "stdout",
     "output_type": "stream",
     "text": [
      "\u001b[36m(train_rf pid=240284)\u001b[0m Train: (48, 858), Test: (48, 858)\n"
     ]
    },
    {
     "name": "stderr",
     "output_type": "stream",
     "text": [
      "2025-02-17 13:12:47,039\tWARNING util.py:201 -- The `callbacks.on_trial_result` operation took 1.497 s, which may be a performance bottleneck.\n",
      "2025-02-17 13:12:47,041\tWARNING util.py:201 -- The `process_trial_result` operation took 1.499 s, which may be a performance bottleneck.\n",
      "2025-02-17 13:12:47,042\tWARNING util.py:201 -- Processing trial results took 1.500 s, which may be a performance bottleneck. Please consider reporting results less frequently to Ray Tune.\n",
      "2025-02-17 13:12:47,042\tWARNING util.py:201 -- The `process_trial_result` operation took 1.500 s, which may be a performance bottleneck.\n"
     ]
    },
    {
     "name": "stdout",
     "output_type": "stream",
     "text": [
      "\u001b[36m(train_rf pid=240346)\u001b[0m Train: (48, 734), Test: (48, 734)\n"
     ]
    },
    {
     "name": "stderr",
     "output_type": "stream",
     "text": [
      "2025-02-17 13:12:55,223\tWARNING util.py:201 -- The `callbacks.on_trial_result` operation took 1.880 s, which may be a performance bottleneck.\n",
      "2025-02-17 13:12:55,225\tWARNING util.py:201 -- The `process_trial_result` operation took 1.882 s, which may be a performance bottleneck.\n",
      "2025-02-17 13:12:55,225\tWARNING util.py:201 -- Processing trial results took 1.883 s, which may be a performance bottleneck. Please consider reporting results less frequently to Ray Tune.\n",
      "2025-02-17 13:12:55,226\tWARNING util.py:201 -- The `process_trial_result` operation took 1.883 s, which may be a performance bottleneck.\n"
     ]
    },
    {
     "name": "stdout",
     "output_type": "stream",
     "text": [
      "\u001b[36m(train_rf pid=240406)\u001b[0m Train: (48, 833), Test: (48, 833)\n"
     ]
    },
    {
     "name": "stderr",
     "output_type": "stream",
     "text": [
      "2025-02-17 13:13:02,861\tWARNING util.py:201 -- The `callbacks.on_trial_result` operation took 3.617 s, which may be a performance bottleneck.\n",
      "2025-02-17 13:13:02,863\tWARNING util.py:201 -- The `process_trial_result` operation took 3.619 s, which may be a performance bottleneck.\n",
      "2025-02-17 13:13:02,864\tWARNING util.py:201 -- Processing trial results took 3.620 s, which may be a performance bottleneck. Please consider reporting results less frequently to Ray Tune.\n",
      "2025-02-17 13:13:02,865\tWARNING util.py:201 -- The `process_trial_result` operation took 3.621 s, which may be a performance bottleneck.\n"
     ]
    },
    {
     "name": "stdout",
     "output_type": "stream",
     "text": [
      "\u001b[36m(train_rf pid=240465)\u001b[0m Train: (48, 833), Test: (48, 833)\n"
     ]
    },
    {
     "name": "stderr",
     "output_type": "stream",
     "text": [
      "2025-02-17 13:13:08,005\tWARNING util.py:201 -- The `callbacks.on_trial_result` operation took 1.505 s, which may be a performance bottleneck.\n",
      "2025-02-17 13:13:08,007\tWARNING util.py:201 -- The `process_trial_result` operation took 1.507 s, which may be a performance bottleneck.\n",
      "2025-02-17 13:13:08,007\tWARNING util.py:201 -- Processing trial results took 1.507 s, which may be a performance bottleneck. Please consider reporting results less frequently to Ray Tune.\n",
      "2025-02-17 13:13:08,009\tWARNING util.py:201 -- The `process_trial_result` operation took 1.509 s, which may be a performance bottleneck.\n"
     ]
    },
    {
     "name": "stdout",
     "output_type": "stream",
     "text": [
      "\u001b[36m(train_rf pid=240556)\u001b[0m Train: (48, 833), Test: (48, 833)\n"
     ]
    },
    {
     "name": "stderr",
     "output_type": "stream",
     "text": [
      "2025-02-17 13:13:16,128\tWARNING util.py:201 -- The `callbacks.on_trial_result` operation took 1.829 s, which may be a performance bottleneck.\n",
      "2025-02-17 13:13:16,130\tWARNING util.py:201 -- The `process_trial_result` operation took 1.831 s, which may be a performance bottleneck.\n",
      "2025-02-17 13:13:16,130\tWARNING util.py:201 -- Processing trial results took 1.832 s, which may be a performance bottleneck. Please consider reporting results less frequently to Ray Tune.\n",
      "2025-02-17 13:13:16,131\tWARNING util.py:201 -- The `process_trial_result` operation took 1.832 s, which may be a performance bottleneck.\n"
     ]
    },
    {
     "name": "stdout",
     "output_type": "stream",
     "text": [
      "\u001b[36m(train_rf pid=240621)\u001b[0m Train: (48, 833), Test: (48, 833)\n"
     ]
    },
    {
     "name": "stderr",
     "output_type": "stream",
     "text": [
      "2025-02-17 13:13:23,811\tWARNING util.py:201 -- The `callbacks.on_trial_result` operation took 3.654 s, which may be a performance bottleneck.\n",
      "2025-02-17 13:13:23,813\tWARNING util.py:201 -- The `process_trial_result` operation took 3.655 s, which may be a performance bottleneck.\n",
      "2025-02-17 13:13:23,814\tWARNING util.py:201 -- Processing trial results took 3.656 s, which may be a performance bottleneck. Please consider reporting results less frequently to Ray Tune.\n",
      "2025-02-17 13:13:23,814\tWARNING util.py:201 -- The `process_trial_result` operation took 3.656 s, which may be a performance bottleneck.\n"
     ]
    },
    {
     "name": "stdout",
     "output_type": "stream",
     "text": [
      "\u001b[36m(train_rf pid=240680)\u001b[0m Train: (48, 734), Test: (48, 734)\n"
     ]
    },
    {
     "name": "stderr",
     "output_type": "stream",
     "text": [
      "2025-02-17 13:13:29,499\tWARNING util.py:201 -- The `callbacks.on_trial_result` operation took 1.924 s, which may be a performance bottleneck.\n",
      "2025-02-17 13:13:29,500\tWARNING util.py:201 -- The `process_trial_result` operation took 1.926 s, which may be a performance bottleneck.\n",
      "2025-02-17 13:13:29,501\tWARNING util.py:201 -- Processing trial results took 1.927 s, which may be a performance bottleneck. Please consider reporting results less frequently to Ray Tune.\n",
      "2025-02-17 13:13:29,501\tWARNING util.py:201 -- The `process_trial_result` operation took 1.927 s, which may be a performance bottleneck.\n"
     ]
    },
    {
     "name": "stdout",
     "output_type": "stream",
     "text": [
      "\u001b[36m(train_rf pid=240744)\u001b[0m Train: (48, 734), Test: (48, 734)\n"
     ]
    },
    {
     "name": "stderr",
     "output_type": "stream",
     "text": [
      "2025-02-17 13:13:37,322\tWARNING util.py:201 -- The `callbacks.on_trial_result` operation took 1.965 s, which may be a performance bottleneck.\n",
      "2025-02-17 13:13:37,324\tWARNING util.py:201 -- The `process_trial_result` operation took 1.968 s, which may be a performance bottleneck.\n",
      "2025-02-17 13:13:37,324\tWARNING util.py:201 -- Processing trial results took 1.968 s, which may be a performance bottleneck. Please consider reporting results less frequently to Ray Tune.\n",
      "2025-02-17 13:13:37,324\tWARNING util.py:201 -- The `process_trial_result` operation took 1.969 s, which may be a performance bottleneck.\n"
     ]
    },
    {
     "name": "stdout",
     "output_type": "stream",
     "text": [
      "\u001b[36m(train_rf pid=240803)\u001b[0m Train: (48, 833), Test: (48, 833)\n"
     ]
    },
    {
     "name": "stderr",
     "output_type": "stream",
     "text": [
      "2025-02-17 13:13:44,998\tWARNING util.py:201 -- The `callbacks.on_trial_result` operation took 3.600 s, which may be a performance bottleneck.\n",
      "2025-02-17 13:13:44,999\tWARNING util.py:201 -- The `process_trial_result` operation took 3.602 s, which may be a performance bottleneck.\n",
      "2025-02-17 13:13:45,000\tWARNING util.py:201 -- Processing trial results took 3.603 s, which may be a performance bottleneck. Please consider reporting results less frequently to Ray Tune.\n",
      "2025-02-17 13:13:45,000\tWARNING util.py:201 -- The `process_trial_result` operation took 3.603 s, which may be a performance bottleneck.\n"
     ]
    },
    {
     "name": "stdout",
     "output_type": "stream",
     "text": [
      "\u001b[36m(train_rf pid=240862)\u001b[0m Train: (48, 833), Test: (48, 833)\n"
     ]
    },
    {
     "name": "stderr",
     "output_type": "stream",
     "text": [
      "2025-02-17 13:13:50,140\tWARNING util.py:201 -- The `callbacks.on_trial_result` operation took 1.477 s, which may be a performance bottleneck.\n",
      "2025-02-17 13:13:50,142\tWARNING util.py:201 -- The `process_trial_result` operation took 1.479 s, which may be a performance bottleneck.\n",
      "2025-02-17 13:13:50,142\tWARNING util.py:201 -- Processing trial results took 1.480 s, which may be a performance bottleneck. Please consider reporting results less frequently to Ray Tune.\n",
      "2025-02-17 13:13:50,142\tWARNING util.py:201 -- The `process_trial_result` operation took 1.480 s, which may be a performance bottleneck.\n"
     ]
    },
    {
     "name": "stdout",
     "output_type": "stream",
     "text": [
      "\u001b[36m(train_rf pid=240916)\u001b[0m Train: (48, 858), Test: (48, 858)\n"
     ]
    },
    {
     "name": "stderr",
     "output_type": "stream",
     "text": [
      "2025-02-17 13:13:58,935\tWARNING util.py:201 -- The `callbacks.on_trial_result` operation took 2.319 s, which may be a performance bottleneck.\n",
      "2025-02-17 13:13:58,937\tWARNING util.py:201 -- The `process_trial_result` operation took 2.321 s, which may be a performance bottleneck.\n",
      "2025-02-17 13:13:58,937\tWARNING util.py:201 -- Processing trial results took 2.321 s, which may be a performance bottleneck. Please consider reporting results less frequently to Ray Tune.\n",
      "2025-02-17 13:13:58,938\tWARNING util.py:201 -- The `process_trial_result` operation took 2.322 s, which may be a performance bottleneck.\n"
     ]
    },
    {
     "name": "stdout",
     "output_type": "stream",
     "text": [
      "\u001b[36m(train_rf pid=240977)\u001b[0m Train: (48, 858), Test: (48, 858)\n"
     ]
    },
    {
     "name": "stderr",
     "output_type": "stream",
     "text": [
      "2025-02-17 13:14:06,568\tWARNING util.py:201 -- The `callbacks.on_trial_result` operation took 3.732 s, which may be a performance bottleneck.\n",
      "2025-02-17 13:14:06,571\tWARNING util.py:201 -- The `process_trial_result` operation took 3.735 s, which may be a performance bottleneck.\n",
      "2025-02-17 13:14:06,572\tWARNING util.py:201 -- Processing trial results took 3.736 s, which may be a performance bottleneck. Please consider reporting results less frequently to Ray Tune.\n",
      "2025-02-17 13:14:06,572\tWARNING util.py:201 -- The `process_trial_result` operation took 3.736 s, which may be a performance bottleneck.\n",
      "2025-02-17 13:14:13,671\tINFO tune.py:1009 -- Wrote the latest version of all result files and experiment state to '/home/lfloerl/cloud/lfloerl/Microterroir/artifacts/ITS/lavaux/climate-berries/ritme_linreg_xgb_rf/ all_models_extended_config/rf' in 6.3062s.\n",
      "2025-02-17 13:14:13,718\tINFO tune.py:1041 -- Total run time: 1303.37 seconds (1296.85 seconds for the tuning loop).\n"
     ]
    }
   ],
   "source": [
    "tax = _load_taxonomy(path_to_tax)\n",
    "\n",
    "best_model_dict, path_to_exp = find_best_model_config(\n",
    "    config, train_val, tax, path_store_model_logs=\"ritme_linreg_xgb_rf\")"
   ]
  },
  {
   "cell_type": "markdown",
   "metadata": {},
   "source": [
    "## Evaluate best models\n",
    "\n",
    "**Key Metrics** for Model Assessment\n",
    "1. Root Mean Square Error (RMSE)\n",
    "    * Measures the standard deviation of the residuals (prediction errors)\n",
    "    * Lower values indicate better performance\n",
    "2. R-squared (R2)\n",
    "    * Represents the proportion of variance in the dependent variable explained by the model\n",
    "    * Higher values indicate better performance\n",
    "\n",
    "\n",
    "We compare these metrics for the **training and test set** to \n",
    "* evaluate the model fit\n",
    "* Detect overfitting: A significant discrepancy between training and test set performance can indicate overfitting. If the model performs much better on the training set than the test set, it may have memorized the training data rather than learning generalizable patterns\n",
    "* Compare model stability: Consistent performance across both sets suggests a stable model that generalizes well"
   ]
  },
  {
   "cell_type": "code",
   "execution_count": 8,
   "metadata": {},
   "outputs": [
    {
     "data": {
      "text/html": [
       "<div>\n",
       "<style scoped>\n",
       "    .dataframe tbody tr th:only-of-type {\n",
       "        vertical-align: middle;\n",
       "    }\n",
       "\n",
       "    .dataframe tbody tr th {\n",
       "        vertical-align: top;\n",
       "    }\n",
       "\n",
       "    .dataframe thead th {\n",
       "        text-align: right;\n",
       "    }\n",
       "</style>\n",
       "<table border=\"1\" class=\"dataframe\">\n",
       "  <thead>\n",
       "    <tr style=\"text-align: right;\">\n",
       "      <th></th>\n",
       "      <th>rmse_train</th>\n",
       "      <th>r2_train</th>\n",
       "      <th>rmse_test</th>\n",
       "      <th>r2_test</th>\n",
       "    </tr>\n",
       "  </thead>\n",
       "  <tbody>\n",
       "    <tr>\n",
       "      <th>linreg</th>\n",
       "      <td>0.693226</td>\n",
       "      <td>-0.037383</td>\n",
       "      <td>1.131022</td>\n",
       "      <td>-17.861706</td>\n",
       "    </tr>\n",
       "    <tr>\n",
       "      <th>xgb</th>\n",
       "      <td>0.525444</td>\n",
       "      <td>0.404004</td>\n",
       "      <td>1.041375</td>\n",
       "      <td>-14.990188</td>\n",
       "    </tr>\n",
       "    <tr>\n",
       "      <th>rf</th>\n",
       "      <td>0.372331</td>\n",
       "      <td>0.700740</td>\n",
       "      <td>1.209580</td>\n",
       "      <td>-20.572892</td>\n",
       "    </tr>\n",
       "  </tbody>\n",
       "</table>\n",
       "</div>"
      ],
      "text/plain": [
       "        rmse_train  r2_train  rmse_test    r2_test\n",
       "linreg    0.693226 -0.037383   1.131022 -17.861706\n",
       "xgb       0.525444  0.404004   1.041375 -14.990188\n",
       "rf        0.372331  0.700740   1.209580 -20.572892"
      ]
     },
     "execution_count": 8,
     "metadata": {},
     "output_type": "execute_result"
    }
   ],
   "source": [
    "metrics = evaluate_tuned_models(best_model_dict, config, train_val, test)\n",
    "metrics"
   ]
  },
  {
   "cell_type": "markdown",
   "metadata": {},
   "source": [
    "# Visualizations"
   ]
  },
  {
   "cell_type": "code",
   "execution_count": 5,
   "metadata": {},
   "outputs": [],
   "source": [
    "# specify the location of the MLruns files \n",
    "log_folder_location = \"/home/lfloerl/cloud/lfloerl/Microterroir/artifacts/ITS/lavaux/climate-berries/ritme_linreg_xgb_rf/mlruns\"\n",
    "\n",
    "mlflow.set_tracking_uri(log_folder_location)\n",
    "\n",
    "df_all_runs = mlflow.search_runs(\n",
    "    order_by=[\"metrics.rmse_val ASC\"], search_all_experiments=True)"
   ]
  },
  {
   "cell_type": "code",
   "execution_count": null,
   "metadata": {},
   "outputs": [],
   "source": [
    "# save output\n",
    "#df_all_runs.to_csv('MLflow_output.csv')"
   ]
  },
  {
   "cell_type": "code",
   "execution_count": 74,
   "metadata": {},
   "outputs": [
    {
     "name": "stderr",
     "output_type": "stream",
     "text": [
      "/scratch/lfloerl/tmpdata/ipykernel_306088/3472766812.py:2: SettingWithCopyWarning: \n",
      "A value is trying to be set on a copy of a slice from a DataFrame.\n",
      "Try using .loc[row_indexer,col_indexer] = value instead\n",
      "\n",
      "See the caveats in the documentation: https://pandas.pydata.org/pandas-docs/stable/user_guide/indexing.html#returning-a-view-versus-a-copy\n",
      "  df_metrics['data_type'] = (\n"
     ]
    },
    {
     "data": {
      "text/html": [
       "<div>\n",
       "<style scoped>\n",
       "    .dataframe tbody tr th:only-of-type {\n",
       "        vertical-align: middle;\n",
       "    }\n",
       "\n",
       "    .dataframe tbody tr th {\n",
       "        vertical-align: top;\n",
       "    }\n",
       "\n",
       "    .dataframe thead th {\n",
       "        text-align: right;\n",
       "    }\n",
       "</style>\n",
       "<table border=\"1\" class=\"dataframe\">\n",
       "  <thead>\n",
       "    <tr style=\"text-align: right;\">\n",
       "      <th></th>\n",
       "      <th>tags.trial_name</th>\n",
       "      <th>params.data_transform</th>\n",
       "      <th>params.data_aggregation</th>\n",
       "      <th>params.data_selection</th>\n",
       "      <th>params.model</th>\n",
       "      <th>metrics.r2_train</th>\n",
       "      <th>metrics.rmse_train</th>\n",
       "      <th>metrics.r2_val</th>\n",
       "      <th>metrics.rmse_val</th>\n",
       "      <th>data_type</th>\n",
       "    </tr>\n",
       "  </thead>\n",
       "  <tbody>\n",
       "    <tr>\n",
       "      <th>595</th>\n",
       "      <td>train_rf_4bc018fb</td>\n",
       "      <td>None</td>\n",
       "      <td>None</td>\n",
       "      <td>variance_threshold</td>\n",
       "      <td>rf</td>\n",
       "      <td>0.826354</td>\n",
       "      <td>0.374595</td>\n",
       "      <td>-4.050664</td>\n",
       "      <td>0.650443</td>\n",
       "      <td>rf_variance_threshold</td>\n",
       "    </tr>\n",
       "    <tr>\n",
       "      <th>596</th>\n",
       "      <td>train_rf_a3cd6c96</td>\n",
       "      <td>None</td>\n",
       "      <td>None</td>\n",
       "      <td>variance_threshold</td>\n",
       "      <td>rf</td>\n",
       "      <td>0.822677</td>\n",
       "      <td>0.378540</td>\n",
       "      <td>-4.462598</td>\n",
       "      <td>0.676449</td>\n",
       "      <td>rf_variance_threshold</td>\n",
       "    </tr>\n",
       "    <tr>\n",
       "      <th>597</th>\n",
       "      <td>train_rf_42c4f9e6</td>\n",
       "      <td>None</td>\n",
       "      <td>None</td>\n",
       "      <td>variance_threshold</td>\n",
       "      <td>rf</td>\n",
       "      <td>0.829329</td>\n",
       "      <td>0.371372</td>\n",
       "      <td>-4.784355</td>\n",
       "      <td>0.696086</td>\n",
       "      <td>rf_variance_threshold</td>\n",
       "    </tr>\n",
       "    <tr>\n",
       "      <th>598</th>\n",
       "      <td>train_rf_fb7560f9</td>\n",
       "      <td>None</td>\n",
       "      <td>None</td>\n",
       "      <td>variance_threshold</td>\n",
       "      <td>rf</td>\n",
       "      <td>0.717409</td>\n",
       "      <td>0.477868</td>\n",
       "      <td>-4.829989</td>\n",
       "      <td>0.698826</td>\n",
       "      <td>rf_variance_threshold</td>\n",
       "    </tr>\n",
       "    <tr>\n",
       "      <th>599</th>\n",
       "      <td>train_rf_ea8c36c4</td>\n",
       "      <td>None</td>\n",
       "      <td>None</td>\n",
       "      <td>variance_threshold</td>\n",
       "      <td>rf</td>\n",
       "      <td>0.717409</td>\n",
       "      <td>0.477868</td>\n",
       "      <td>-4.829989</td>\n",
       "      <td>0.698826</td>\n",
       "      <td>rf_variance_threshold</td>\n",
       "    </tr>\n",
       "  </tbody>\n",
       "</table>\n",
       "</div>"
      ],
      "text/plain": [
       "       tags.trial_name params.data_transform params.data_aggregation  \\\n",
       "595  train_rf_4bc018fb                  None                    None   \n",
       "596  train_rf_a3cd6c96                  None                    None   \n",
       "597  train_rf_42c4f9e6                  None                    None   \n",
       "598  train_rf_fb7560f9                  None                    None   \n",
       "599  train_rf_ea8c36c4                  None                    None   \n",
       "\n",
       "    params.data_selection params.model  metrics.r2_train  metrics.rmse_train  \\\n",
       "595    variance_threshold           rf          0.826354            0.374595   \n",
       "596    variance_threshold           rf          0.822677            0.378540   \n",
       "597    variance_threshold           rf          0.829329            0.371372   \n",
       "598    variance_threshold           rf          0.717409            0.477868   \n",
       "599    variance_threshold           rf          0.717409            0.477868   \n",
       "\n",
       "     metrics.r2_val  metrics.rmse_val              data_type  \n",
       "595       -4.050664          0.650443  rf_variance_threshold  \n",
       "596       -4.462598          0.676449  rf_variance_threshold  \n",
       "597       -4.784355          0.696086  rf_variance_threshold  \n",
       "598       -4.829989          0.698826  rf_variance_threshold  \n",
       "599       -4.829989          0.698826  rf_variance_threshold  "
      ]
     },
     "execution_count": 74,
     "metadata": {},
     "output_type": "execute_result"
    }
   ],
   "source": [
    "df_metrics = df_all_runs[['tags.trial_name', \"params.data_transform\", \"params.data_aggregation\", \"params.data_selection\", \"params.model\", 'metrics.r2_train', 'metrics.rmse_train', 'metrics.r2_val', 'metrics.rmse_val' ]]\n",
    "df_metrics['data_type'] = (\n",
    "    df_metrics[\"params.model\"] + \"_\" + df_metrics[\"params.data_selection\"]\n",
    ")\n",
    "df_metrics.tail()"
   ]
  },
  {
   "cell_type": "code",
   "execution_count": 94,
   "metadata": {},
   "outputs": [
    {
     "name": "stderr",
     "output_type": "stream",
     "text": [
      "/scratch/lfloerl/tmpdata/ipykernel_306088/2827008491.py:10: SettingWithCopyWarning: \n",
      "A value is trying to be set on a copy of a slice from a DataFrame.\n",
      "Try using .loc[row_indexer,col_indexer] = value instead\n",
      "\n",
      "See the caveats in the documentation: https://pandas.pydata.org/pandas-docs/stable/user_guide/indexing.html#returning-a-view-versus-a-copy\n",
      "  df_metrics[\"color\"] = df_metrics[\"data_type\"].map(model_colors).fillna(\"gray\")\n",
      "/scratch/lfloerl/.condaenvs/ritme_model/lib/python3.10/site-packages/seaborn/_oldcore.py:1119: FutureWarning: use_inf_as_na option is deprecated and will be removed in a future version. Convert inf values to NaN before operating instead.\n",
      "  with pd.option_context('mode.use_inf_as_na', True):\n",
      "/scratch/lfloerl/.condaenvs/ritme_model/lib/python3.10/site-packages/seaborn/_oldcore.py:1075: FutureWarning: When grouping with a length-1 list-like, you will need to pass a length-1 tuple to get_group in a future version of pandas. Pass `(name,)` instead of `name` to silence this warning.\n",
      "  data_subset = grouped_data.get_group(pd_key)\n",
      "/scratch/lfloerl/.condaenvs/ritme_model/lib/python3.10/site-packages/seaborn/_oldcore.py:1075: FutureWarning: When grouping with a length-1 list-like, you will need to pass a length-1 tuple to get_group in a future version of pandas. Pass `(name,)` instead of `name` to silence this warning.\n",
      "  data_subset = grouped_data.get_group(pd_key)\n",
      "/scratch/lfloerl/.condaenvs/ritme_model/lib/python3.10/site-packages/seaborn/_oldcore.py:1075: FutureWarning: When grouping with a length-1 list-like, you will need to pass a length-1 tuple to get_group in a future version of pandas. Pass `(name,)` instead of `name` to silence this warning.\n",
      "  data_subset = grouped_data.get_group(pd_key)\n",
      "/scratch/lfloerl/.condaenvs/ritme_model/lib/python3.10/site-packages/seaborn/_oldcore.py:1075: FutureWarning: When grouping with a length-1 list-like, you will need to pass a length-1 tuple to get_group in a future version of pandas. Pass `(name,)` instead of `name` to silence this warning.\n",
      "  data_subset = grouped_data.get_group(pd_key)\n",
      "/scratch/lfloerl/.condaenvs/ritme_model/lib/python3.10/site-packages/seaborn/_oldcore.py:1075: FutureWarning: When grouping with a length-1 list-like, you will need to pass a length-1 tuple to get_group in a future version of pandas. Pass `(name,)` instead of `name` to silence this warning.\n",
      "  data_subset = grouped_data.get_group(pd_key)\n",
      "/scratch/lfloerl/.condaenvs/ritme_model/lib/python3.10/site-packages/seaborn/_oldcore.py:1075: FutureWarning: When grouping with a length-1 list-like, you will need to pass a length-1 tuple to get_group in a future version of pandas. Pass `(name,)` instead of `name` to silence this warning.\n",
      "  data_subset = grouped_data.get_group(pd_key)\n",
      "/scratch/lfloerl/.condaenvs/ritme_model/lib/python3.10/site-packages/seaborn/_oldcore.py:1075: FutureWarning: When grouping with a length-1 list-like, you will need to pass a length-1 tuple to get_group in a future version of pandas. Pass `(name,)` instead of `name` to silence this warning.\n",
      "  data_subset = grouped_data.get_group(pd_key)\n",
      "/scratch/lfloerl/.condaenvs/ritme_model/lib/python3.10/site-packages/seaborn/_oldcore.py:1075: FutureWarning: When grouping with a length-1 list-like, you will need to pass a length-1 tuple to get_group in a future version of pandas. Pass `(name,)` instead of `name` to silence this warning.\n",
      "  data_subset = grouped_data.get_group(pd_key)\n",
      "/scratch/lfloerl/.condaenvs/ritme_model/lib/python3.10/site-packages/seaborn/_oldcore.py:1075: FutureWarning: When grouping with a length-1 list-like, you will need to pass a length-1 tuple to get_group in a future version of pandas. Pass `(name,)` instead of `name` to silence this warning.\n",
      "  data_subset = grouped_data.get_group(pd_key)\n",
      "/scratch/lfloerl/.condaenvs/ritme_model/lib/python3.10/site-packages/seaborn/_oldcore.py:1075: FutureWarning: When grouping with a length-1 list-like, you will need to pass a length-1 tuple to get_group in a future version of pandas. Pass `(name,)` instead of `name` to silence this warning.\n",
      "  data_subset = grouped_data.get_group(pd_key)\n",
      "/scratch/lfloerl/.condaenvs/ritme_model/lib/python3.10/site-packages/seaborn/_oldcore.py:1075: FutureWarning: When grouping with a length-1 list-like, you will need to pass a length-1 tuple to get_group in a future version of pandas. Pass `(name,)` instead of `name` to silence this warning.\n",
      "  data_subset = grouped_data.get_group(pd_key)\n",
      "/scratch/lfloerl/.condaenvs/ritme_model/lib/python3.10/site-packages/seaborn/_oldcore.py:1075: FutureWarning: When grouping with a length-1 list-like, you will need to pass a length-1 tuple to get_group in a future version of pandas. Pass `(name,)` instead of `name` to silence this warning.\n",
      "  data_subset = grouped_data.get_group(pd_key)\n"
     ]
    },
    {
     "data": {
      "image/png": "[encoded data removed]",
      "text/plain": [
       "<Figure size 1200x300 with 1 Axes>"
      ]
     },
     "metadata": {},
     "output_type": "display_data"
    }
   ],
   "source": [
    "# Define a color palette for each model\n",
    "model_colors = {'xgb_variance_threshold' : \"#440154FF\" ,\n",
    "       'xgb_abundance_ith' : \"#482677FF\" ,\n",
    "       'rf_abundance_ith' : \"#39558CFF\",\n",
    "       'rf_variance_threshold' : \"#2D718EFF\",\n",
    "       'linreg_variance_threshold' : \"#29AF7FFF\",\n",
    "       'linreg_abundance_ith' : \"#74D055FF\"}\n",
    "\n",
    "# Ensure all models have a color, assign a default if not in the list\n",
    "df_metrics[\"color\"] = df_metrics[\"data_type\"].map(model_colors).fillna(\"gray\")\n",
    "\n",
    "plt.figure(figsize=(12, 3))\n",
    "sns.histplot(\n",
    "    data=df_metrics,\n",
    "    x=df_metrics.index,\n",
    "    weights=df_metrics[\"metrics.r2_val\"],\n",
    "    bins=len(df_metrics),  \n",
    "    hue=df_metrics[\"data_type\"],\n",
    "    palette=model_colors,\n",
    "    element=\"bars\",\n",
    "    multiple=\"stack\"  \n",
    ")\n",
    "\n",
    "plt.xlim(df_metrics.index.min(), df_metrics.index.max())\n",
    "plt.xlabel(\"\")\n",
    "plt.ylabel(\"R²\")\n",
    "plt.xticks([], [])  # Hide x-axis labels\n",
    "plt.grid(axis=\"y\", linestyle=\"--\", alpha=0.7)\n",
    "\n",
    "# Show legend\n",
    "handles = [plt.Rectangle((0,0),1,1, color=color) for color in model_colors.values()]\n",
    "plt.legend(handles, model_colors.keys(), title=\"Model Type\", loc=\"lower left\")\n",
    "\n",
    "plt.tight_layout()\n",
    "plt.savefig('/home/lfloerl/cloud/lfloerl/Microterroir/Figures/RITME-test-R2.png', dpi=1000)\n",
    "plt.show()"
   ]
  },
  {
   "cell_type": "code",
   "execution_count": 95,
   "metadata": {},
   "outputs": [
    {
     "name": "stderr",
     "output_type": "stream",
     "text": [
      "/scratch/lfloerl/.condaenvs/ritme_model/lib/python3.10/site-packages/seaborn/_oldcore.py:1119: FutureWarning: use_inf_as_na option is deprecated and will be removed in a future version. Convert inf values to NaN before operating instead.\n",
      "  with pd.option_context('mode.use_inf_as_na', True):\n",
      "/scratch/lfloerl/.condaenvs/ritme_model/lib/python3.10/site-packages/seaborn/_oldcore.py:1075: FutureWarning: When grouping with a length-1 list-like, you will need to pass a length-1 tuple to get_group in a future version of pandas. Pass `(name,)` instead of `name` to silence this warning.\n",
      "  data_subset = grouped_data.get_group(pd_key)\n",
      "/scratch/lfloerl/.condaenvs/ritme_model/lib/python3.10/site-packages/seaborn/_oldcore.py:1075: FutureWarning: When grouping with a length-1 list-like, you will need to pass a length-1 tuple to get_group in a future version of pandas. Pass `(name,)` instead of `name` to silence this warning.\n",
      "  data_subset = grouped_data.get_group(pd_key)\n",
      "/scratch/lfloerl/.condaenvs/ritme_model/lib/python3.10/site-packages/seaborn/_oldcore.py:1075: FutureWarning: When grouping with a length-1 list-like, you will need to pass a length-1 tuple to get_group in a future version of pandas. Pass `(name,)` instead of `name` to silence this warning.\n",
      "  data_subset = grouped_data.get_group(pd_key)\n",
      "/scratch/lfloerl/.condaenvs/ritme_model/lib/python3.10/site-packages/seaborn/_oldcore.py:1075: FutureWarning: When grouping with a length-1 list-like, you will need to pass a length-1 tuple to get_group in a future version of pandas. Pass `(name,)` instead of `name` to silence this warning.\n",
      "  data_subset = grouped_data.get_group(pd_key)\n",
      "/scratch/lfloerl/.condaenvs/ritme_model/lib/python3.10/site-packages/seaborn/_oldcore.py:1075: FutureWarning: When grouping with a length-1 list-like, you will need to pass a length-1 tuple to get_group in a future version of pandas. Pass `(name,)` instead of `name` to silence this warning.\n",
      "  data_subset = grouped_data.get_group(pd_key)\n",
      "/scratch/lfloerl/.condaenvs/ritme_model/lib/python3.10/site-packages/seaborn/_oldcore.py:1075: FutureWarning: When grouping with a length-1 list-like, you will need to pass a length-1 tuple to get_group in a future version of pandas. Pass `(name,)` instead of `name` to silence this warning.\n",
      "  data_subset = grouped_data.get_group(pd_key)\n",
      "/scratch/lfloerl/.condaenvs/ritme_model/lib/python3.10/site-packages/seaborn/_oldcore.py:1075: FutureWarning: When grouping with a length-1 list-like, you will need to pass a length-1 tuple to get_group in a future version of pandas. Pass `(name,)` instead of `name` to silence this warning.\n",
      "  data_subset = grouped_data.get_group(pd_key)\n",
      "/scratch/lfloerl/.condaenvs/ritme_model/lib/python3.10/site-packages/seaborn/_oldcore.py:1075: FutureWarning: When grouping with a length-1 list-like, you will need to pass a length-1 tuple to get_group in a future version of pandas. Pass `(name,)` instead of `name` to silence this warning.\n",
      "  data_subset = grouped_data.get_group(pd_key)\n",
      "/scratch/lfloerl/.condaenvs/ritme_model/lib/python3.10/site-packages/seaborn/_oldcore.py:1075: FutureWarning: When grouping with a length-1 list-like, you will need to pass a length-1 tuple to get_group in a future version of pandas. Pass `(name,)` instead of `name` to silence this warning.\n",
      "  data_subset = grouped_data.get_group(pd_key)\n",
      "/scratch/lfloerl/.condaenvs/ritme_model/lib/python3.10/site-packages/seaborn/_oldcore.py:1075: FutureWarning: When grouping with a length-1 list-like, you will need to pass a length-1 tuple to get_group in a future version of pandas. Pass `(name,)` instead of `name` to silence this warning.\n",
      "  data_subset = grouped_data.get_group(pd_key)\n",
      "/scratch/lfloerl/.condaenvs/ritme_model/lib/python3.10/site-packages/seaborn/_oldcore.py:1075: FutureWarning: When grouping with a length-1 list-like, you will need to pass a length-1 tuple to get_group in a future version of pandas. Pass `(name,)` instead of `name` to silence this warning.\n",
      "  data_subset = grouped_data.get_group(pd_key)\n",
      "/scratch/lfloerl/.condaenvs/ritme_model/lib/python3.10/site-packages/seaborn/_oldcore.py:1075: FutureWarning: When grouping with a length-1 list-like, you will need to pass a length-1 tuple to get_group in a future version of pandas. Pass `(name,)` instead of `name` to silence this warning.\n",
      "  data_subset = grouped_data.get_group(pd_key)\n"
     ]
    },
    {
     "data": {
      "image/png": "[encoded data removed]",
      "text/plain": [
       "<Figure size 1200x300 with 1 Axes>"
      ]
     },
     "metadata": {},
     "output_type": "display_data"
    }
   ],
   "source": [
    "plt.figure(figsize=(12, 3))\n",
    "sns.histplot(\n",
    "    data=df_metrics,\n",
    "    x=df_metrics.index,\n",
    "    weights=df_metrics[\"metrics.rmse_val\"],\n",
    "    bins=len(df_metrics),  \n",
    "    hue=df_metrics[\"data_type\"],\n",
    "    palette=model_colors,\n",
    "    element=\"bars\",\n",
    "    multiple=\"stack\"  \n",
    ")\n",
    "\n",
    "plt.xlim(df_metrics.index.min(), df_metrics.index.max())\n",
    "plt.xlabel(\"\")\n",
    "plt.ylabel(\"MSE\")\n",
    "plt.xticks([], [])  # Hide x-axis labels\n",
    "plt.grid(axis=\"y\", linestyle=\"--\", alpha=0.7)\n",
    "\n",
    "plt.legend([], [], frameon=False)\n",
    "\n",
    "plt.tight_layout()\n",
    "plt.savefig('/home/lfloerl/cloud/lfloerl/Microterroir/Figures/RITME-test-MSE.png', dpi=1000)\n",
    "plt.show()"
   ]
  },
  {
   "cell_type": "code",
   "execution_count": null,
   "metadata": {},
   "outputs": [],
   "source": []
  },
  {
   "cell_type": "code",
   "execution_count": null,
   "metadata": {},
   "outputs": [],
   "source": []
  }
 ],
 "metadata": {
  "kernelspec": {
   "display_name": "ritme_model",
   "language": "python",
   "name": "python3"
  },
  "language_info": {
   "codemirror_mode": {
    "name": "ipython",
    "version": 3
   },
   "file_extension": ".py",
   "mimetype": "text/x-python",
   "name": "python",
   "nbconvert_exporter": "python",
   "pygments_lexer": "ipython3",
   "version": "3.10.16"
  }
 },
 "nbformat": 4,
 "nbformat_minor": 2
}
