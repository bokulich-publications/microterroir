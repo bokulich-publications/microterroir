{
 "cells": [
  {
   "cell_type": "markdown",
   "metadata": {},
   "source": [
    "# Predict climate from berry fungal communities\n",
    "\n",
    "> using `ritme` (https://github.com/adamovanja/ritme)\n",
    "\n",
    "note. use the **ritme_model** environment! \n",
    "\n",
    "\n",
    "**Try with only the 2021 harvest samples**"
   ]
  },
  {
   "cell_type": "code",
   "execution_count": 65,
   "metadata": {},
   "outputs": [
    {
     "name": "stdout",
     "output_type": "stream",
     "text": [
      "The autoreload extension is already loaded. To reload it, use:\n",
      "  %reload_ext autoreload\n"
     ]
    }
   ],
   "source": [
    "from ritme.find_best_model_config import (\n",
    "    _load_experiment_config,\n",
    "    _load_phylogeny,\n",
    "    _load_taxonomy,\n",
    "    find_best_model_config,\n",
    "    save_best_models,\n",
    ")\n",
    "from ritme.split_train_test import _load_data, split_train_test\n",
    "from ritme.evaluate_tuned_models import evaluate_tuned_models\n",
    "\n",
    "import pandas as pd\n",
    "import seaborn as sns\n",
    "import matplotlib.pyplot as plt\n",
    "import matplotlib.patches as mpatches\n",
    "import mlflow\n",
    "import numpy as np\n",
    "import os\n",
    "\n",
    "from sklearn.metrics import r2_score\n",
    "\n",
    "%load_ext autoreload\n",
    "%autoreload 2\n",
    "\n",
    "%matplotlib inline"
   ]
  },
  {
   "cell_type": "code",
   "execution_count": null,
   "metadata": {},
   "outputs": [],
   "source": [
    "#!mkdir /home/lfloerl/cloud/lfloerl/Microterroir/artifacts/ITS/lavaux/climate-berries/harvest21"
   ]
  },
  {
   "cell_type": "code",
   "execution_count": 5,
   "metadata": {},
   "outputs": [
    {
     "name": "stdout",
     "output_type": "stream",
     "text": [
      "/home/lfloerl/cloud/lfloerl/Microterroir/artifacts/ITS/lavaux/climate-berries/harvest21\n"
     ]
    }
   ],
   "source": [
    "workdir = '/home/lfloerl/cloud/lfloerl/Microterroir/artifacts/ITS/lavaux/climate-berries/harvest21'\n",
    "%cd $workdir"
   ]
  },
  {
   "cell_type": "code",
   "execution_count": 66,
   "metadata": {},
   "outputs": [],
   "source": [
    "# set experiment configuration path \n",
    "model_config_path = \"/home/lfloerl/microterroir/Microbiome/Other_scripts/config/r_local_linreg_py_noGroup.json\"\n",
    "\n",
    "# define path to feature table, metadata, and taxonomy (no phylogeny)\n",
    "path_to_ft = \"/home/lfloerl/cloud/lfloerl/Microterroir/artifacts/ITS/lavaux/must_harvest21_filtered_table.qza\"\n",
    "path_to_md = \"/home/lfloerl/microterroir/Microbiome/Metadata/ITS_Lavaux_Climate.tsv\"\n",
    "path_to_tax = \"/home/lfloerl/cloud/lfloerl/Microterroir/artifacts/ITS/taxonomy.qza\"\n",
    "\n",
    "# define train size\n",
    "train_size = 0.8\n",
    "\n",
    "\n",
    "# if you want to store the best models, define path where you want to store\n",
    "# them, else set None\n",
    "path_to_store_best_models = \"Temp_Harvest21_best_models\""
   ]
  },
  {
   "cell_type": "code",
   "execution_count": 7,
   "metadata": {},
   "outputs": [],
   "source": [
    "config = _load_experiment_config(model_config_path)"
   ]
  },
  {
   "cell_type": "markdown",
   "metadata": {},
   "source": [
    "# Read & Split data"
   ]
  },
  {
   "cell_type": "code",
   "execution_count": 8,
   "metadata": {},
   "outputs": [
    {
     "name": "stdout",
     "output_type": "stream",
     "text": [
      "(595, 36) (223, 4603)\n"
     ]
    }
   ],
   "source": [
    "md, ft = _load_data(path_to_md, path_to_ft)\n",
    "print(md.shape, ft.shape)"
   ]
  },
  {
   "cell_type": "code",
   "execution_count": 9,
   "metadata": {},
   "outputs": [
    {
     "name": "stdout",
     "output_type": "stream",
     "text": [
      "Train: (178, 4639), Test: (45, 4639)\n"
     ]
    },
    {
     "name": "stderr",
     "output_type": "stream",
     "text": [
      "/scratch/lfloerl/.condaenvs/ritme_model/lib/python3.10/site-packages/ritme/split_train_test.py:139: UserWarning: Provided feature table contains absolute instead of relative abundances. Hence, converting it to relative abundances...\n",
      "  warnings.warn(\n"
     ]
    }
   ],
   "source": [
    "train_val, test = split_train_test(\n",
    "    md,\n",
    "    ft,\n",
    "    group_by_column=config[\"group_by_column\"],\n",
    "    train_size=train_size,\n",
    "    seed=config[\"seed_data\"],\n",
    ")"
   ]
  },
  {
   "cell_type": "markdown",
   "metadata": {},
   "source": [
    "## Find best model config\n",
    "\n",
    "View the results with navigating to the folder in the terminal (e.g. `cd /home/lfloerl/cloud/lfloerl/Microterroir/artifacts/ITS/lavaux/climate-berries/ritme_all_models`) and launching  mlflow (`mlflow ui --port 8080`) and opening _http://localhost:8080_ \n",
    "\n",
    "\n",
    "**Try different configs** (`experiment_tag`)\n",
    "\n",
    "* `all_models_noGroup` --> Train: (178, 4639), Test: (45, 4639)\n",
    "    * \"linreg\", \"xgb\", \"rf\" \n",
    "    * no grouping, seed 14 (larger test set)\n",
    "    * test_mode = true (use entire search space)\n"
   ]
  },
  {
   "cell_type": "code",
   "execution_count": 10,
   "metadata": {},
   "outputs": [
    {
     "data": {
      "text/html": [
       "<div class=\"tuneStatus\">\n",
       "  <div style=\"display: flex;flex-direction: row\">\n",
       "    <div style=\"display: flex;flex-direction: column;\">\n",
       "      <h3>Tune Status</h3>\n",
       "      <table>\n",
       "<tbody>\n",
       "<tr><td>Current time:</td><td>2025-02-25 16:51:27</td></tr>\n",
       "<tr><td>Running for: </td><td>00:30:42.48        </td></tr>\n",
       "<tr><td>Memory:      </td><td>13.7/91.6 GiB      </td></tr>\n",
       "</tbody>\n",
       "</table>\n",
       "    </div>\n",
       "    <div class=\"vDivider\"></div>\n",
       "    <div class=\"systemInfo\">\n",
       "      <h3>System Info</h3>\n",
       "      Using AsyncHyperBand: num_stopped=0<br>Bracket: Iter 40.000: None | Iter 10.000: None<br>Logical resource usage: 1.0/12 CPUs, 0/0 GPUs\n",
       "    </div>\n",
       "    \n",
       "  </div>\n",
       "  <div class=\"hDivider\"></div>\n",
       "  <div class=\"trialStatus\">\n",
       "    <h3>Trial Status</h3>\n",
       "    <table>\n",
       "<thead>\n",
       "<tr><th>Trial name       </th><th>status    </th><th>loc                  </th><th>bootstrap  </th><th>data_aggregation  </th><th>data_selection     </th><th style=\"text-align: right;\">  data_selection_i</th><th style=\"text-align: right;\">  data_selection_q</th><th style=\"text-align: right;\">  data_selection_t</th><th>data_transform  </th><th style=\"text-align: right;\">  max_depth</th><th>max_features  </th><th style=\"text-align: right;\">           min_impurity_decreas\n",
       "e</th><th style=\"text-align: right;\">  min_samples_leaf</th><th style=\"text-align: right;\">  min_samples_split</th><th style=\"text-align: right;\">            min_weight_fraction_\n",
       "leaf</th><th>model  </th><th style=\"text-align: right;\">  n_estimators</th><th style=\"text-align: right;\">  iter</th><th style=\"text-align: right;\">  total time (s)</th><th style=\"text-align: right;\">  rmse_val</th><th style=\"text-align: right;\">  rmse_train</th><th style=\"text-align: right;\">     r2_val</th></tr>\n",
       "</thead>\n",
       "<tbody>\n",
       "<tr><td>train_rf_70956b17</td><td>TERMINATED</td><td>172.31.181.85:1058564</td><td>True       </td><td>tax_class         </td><td>abundance_topi     </td><td style=\"text-align: right;\">                 1</td><td style=\"text-align: right;\">                  </td><td style=\"text-align: right;\">                  </td><td>alr             </td><td style=\"text-align: right;\">           </td><td>0.2           </td><td style=\"text-align: right;\">0.383738  </td><td style=\"text-align: right;\">        0.00379467</td><td style=\"text-align: right;\">         0.0087591 </td><td style=\"text-align: right;\">0.00816168 </td><td>rf     </td><td style=\"text-align: right;\">           160</td><td style=\"text-align: right;\">     1</td><td style=\"text-align: right;\">        0.482891</td><td style=\"text-align: right;\">  0.423673</td><td style=\"text-align: right;\">    0.188462</td><td style=\"text-align: right;\">-1.96636   </td></tr>\n",
       "<tr><td>train_rf_b9d73147</td><td>TERMINATED</td><td>172.31.181.85:1058689</td><td>False      </td><td>tax_order         </td><td>abundance_threshold</td><td style=\"text-align: right;\">                  </td><td style=\"text-align: right;\">                  </td><td style=\"text-align: right;\">       1.21262e-05</td><td>alr             </td><td style=\"text-align: right;\">          8</td><td>              </td><td style=\"text-align: right;\">0.472291  </td><td style=\"text-align: right;\">        0.00837299</td><td style=\"text-align: right;\">         0.00967107</td><td style=\"text-align: right;\">0.00506556 </td><td>rf     </td><td style=\"text-align: right;\">            40</td><td style=\"text-align: right;\">     1</td><td style=\"text-align: right;\">        0.554894</td><td style=\"text-align: right;\">  0.288263</td><td style=\"text-align: right;\">    0.191593</td><td style=\"text-align: right;\">-0.373222  </td></tr>\n",
       "<tr><td>train_rf_0d947816</td><td>TERMINATED</td><td>172.31.181.85:1058800</td><td>True       </td><td>tax_genus         </td><td>abundance_threshold</td><td style=\"text-align: right;\">                  </td><td style=\"text-align: right;\">                  </td><td style=\"text-align: right;\">       0.00691301 </td><td>pa              </td><td style=\"text-align: right;\">          4</td><td>              </td><td style=\"text-align: right;\">0.209507  </td><td style=\"text-align: right;\">        0.0399456 </td><td style=\"text-align: right;\">         0.00421277</td><td style=\"text-align: right;\">0.000698737</td><td>rf     </td><td style=\"text-align: right;\">            40</td><td style=\"text-align: right;\">     1</td><td style=\"text-align: right;\">        0.368835</td><td style=\"text-align: right;\">  0.277584</td><td style=\"text-align: right;\">    0.256928</td><td style=\"text-align: right;\">-0.273359  </td></tr>\n",
       "<tr><td>train_rf_eabc8b86</td><td>TERMINATED</td><td>172.31.181.85:1058938</td><td>True       </td><td>tax_class         </td><td>abundance_topi     </td><td style=\"text-align: right;\">                 2</td><td style=\"text-align: right;\">                  </td><td style=\"text-align: right;\">                  </td><td>                </td><td style=\"text-align: right;\">         16</td><td>0.1           </td><td style=\"text-align: right;\">0.373292  </td><td style=\"text-align: right;\">        0.00304481</td><td style=\"text-align: right;\">         0.00218674</td><td style=\"text-align: right;\">0.00316808 </td><td>rf     </td><td style=\"text-align: right;\">           140</td><td style=\"text-align: right;\">     1</td><td style=\"text-align: right;\">        0.476462</td><td style=\"text-align: right;\">  0.330054</td><td style=\"text-align: right;\">    0.188154</td><td style=\"text-align: right;\">-0.800245  </td></tr>\n",
       "<tr><td>train_rf_8ff267a5</td><td>TERMINATED</td><td>172.31.181.85:1059054</td><td>True       </td><td>tax_class         </td><td>variance_topi      </td><td style=\"text-align: right;\">                13</td><td style=\"text-align: right;\">                  </td><td style=\"text-align: right;\">                  </td><td>alr             </td><td style=\"text-align: right;\">         16</td><td>log2          </td><td style=\"text-align: right;\">0.319457  </td><td style=\"text-align: right;\">        0.00162851</td><td style=\"text-align: right;\">         0.00126496</td><td style=\"text-align: right;\">0.0077494  </td><td>rf     </td><td style=\"text-align: right;\">           160</td><td style=\"text-align: right;\">     1</td><td style=\"text-align: right;\">        0.61532 </td><td style=\"text-align: right;\">  0.312426</td><td style=\"text-align: right;\">    0.181419</td><td style=\"text-align: right;\">-0.613077  </td></tr>\n",
       "<tr><td>train_rf_7a53a338</td><td>TERMINATED</td><td>172.31.181.85:1059163</td><td>True       </td><td>tax_family        </td><td>abundance_ith      </td><td style=\"text-align: right;\">                 6</td><td style=\"text-align: right;\">                  </td><td style=\"text-align: right;\">                  </td><td>pa              </td><td style=\"text-align: right;\">          4</td><td>sqrt          </td><td style=\"text-align: right;\">0.145762  </td><td style=\"text-align: right;\">        0.00397545</td><td style=\"text-align: right;\">         0.0123369 </td><td style=\"text-align: right;\">0.00686117 </td><td>rf     </td><td style=\"text-align: right;\">           180</td><td style=\"text-align: right;\">     1</td><td style=\"text-align: right;\">        0.480795</td><td style=\"text-align: right;\">  0.24736 </td><td style=\"text-align: right;\">    0.42283 </td><td style=\"text-align: right;\">-0.0111607 </td></tr>\n",
       "<tr><td>train_rf_dfd5dc83</td><td>TERMINATED</td><td>172.31.181.85:1059273</td><td>True       </td><td>                  </td><td>variance_threshold </td><td style=\"text-align: right;\">                  </td><td style=\"text-align: right;\">                  </td><td style=\"text-align: right;\">       0.000157241</td><td>clr             </td><td style=\"text-align: right;\">          4</td><td>0.2           </td><td style=\"text-align: right;\">0.173747  </td><td style=\"text-align: right;\">        0.0043607 </td><td style=\"text-align: right;\">         0.0287641 </td><td style=\"text-align: right;\">0.00123012 </td><td>rf     </td><td style=\"text-align: right;\">           100</td><td style=\"text-align: right;\">     1</td><td style=\"text-align: right;\">        0.284051</td><td style=\"text-align: right;\">  0.310876</td><td style=\"text-align: right;\">    0.272867</td><td style=\"text-align: right;\">-0.597118  </td></tr>\n",
       "<tr><td>train_rf_52820d20</td><td>TERMINATED</td><td>172.31.181.85:1059386</td><td>True       </td><td>tax_order         </td><td>abundance_quantile </td><td style=\"text-align: right;\">                  </td><td style=\"text-align: right;\">               0.5</td><td style=\"text-align: right;\">                  </td><td>                </td><td style=\"text-align: right;\">         32</td><td>0.3           </td><td style=\"text-align: right;\">0.257345  </td><td style=\"text-align: right;\">        0.00304587</td><td style=\"text-align: right;\">         0.00219842</td><td style=\"text-align: right;\">0.00526433 </td><td>rf     </td><td style=\"text-align: right;\">           120</td><td style=\"text-align: right;\">     1</td><td style=\"text-align: right;\">        0.619375</td><td style=\"text-align: right;\">  0.256476</td><td style=\"text-align: right;\">    0.182223</td><td style=\"text-align: right;\">-0.0870647 </td></tr>\n",
       "<tr><td>train_rf_a285a11e</td><td>TERMINATED</td><td>172.31.181.85:1059623</td><td>False      </td><td>tax_family        </td><td>abundance_ith      </td><td style=\"text-align: right;\">                 1</td><td style=\"text-align: right;\">                  </td><td style=\"text-align: right;\">                  </td><td>                </td><td style=\"text-align: right;\">          8</td><td>0.5           </td><td style=\"text-align: right;\">0.20558   </td><td style=\"text-align: right;\">        0.00163846</td><td style=\"text-align: right;\">         0.0028218 </td><td style=\"text-align: right;\">0.00270603 </td><td>rf     </td><td style=\"text-align: right;\">            60</td><td style=\"text-align: right;\">     1</td><td style=\"text-align: right;\">        0.387252</td><td style=\"text-align: right;\">  0.418573</td><td style=\"text-align: right;\">    0.231303</td><td style=\"text-align: right;\">-1.89537   </td></tr>\n",
       "<tr><td>train_rf_558d5673</td><td>TERMINATED</td><td>172.31.181.85:1059756</td><td>True       </td><td>tax_family        </td><td>variance_threshold </td><td style=\"text-align: right;\">                  </td><td style=\"text-align: right;\">                  </td><td style=\"text-align: right;\">       0.000732174</td><td>clr             </td><td style=\"text-align: right;\">          4</td><td>0.3           </td><td style=\"text-align: right;\">0.477867  </td><td style=\"text-align: right;\">        0.00225565</td><td style=\"text-align: right;\">         0.00388078</td><td style=\"text-align: right;\">0.00614796 </td><td>rf     </td><td style=\"text-align: right;\">           200</td><td style=\"text-align: right;\">     1</td><td style=\"text-align: right;\">        0.560266</td><td style=\"text-align: right;\">  0.225375</td><td style=\"text-align: right;\">    0.262204</td><td style=\"text-align: right;\"> 0.160592  </td></tr>\n",
       "<tr><td>train_rf_a9fb7f8b</td><td>TERMINATED</td><td>172.31.181.85:1059920</td><td>False      </td><td>tax_family        </td><td>abundance_topi     </td><td style=\"text-align: right;\">                12</td><td style=\"text-align: right;\">                  </td><td style=\"text-align: right;\">                  </td><td>                </td><td style=\"text-align: right;\">           </td><td>0.1           </td><td style=\"text-align: right;\">0.440275  </td><td style=\"text-align: right;\">        0.0031806 </td><td style=\"text-align: right;\">         0.0149123 </td><td style=\"text-align: right;\">0.00813136 </td><td>rf     </td><td style=\"text-align: right;\">           180</td><td style=\"text-align: right;\">     1</td><td style=\"text-align: right;\">        0.611704</td><td style=\"text-align: right;\">  0.216268</td><td style=\"text-align: right;\">    0.169942</td><td style=\"text-align: right;\"> 0.227058  </td></tr>\n",
       "<tr><td>train_rf_2724bd4c</td><td>TERMINATED</td><td>172.31.181.85:1060084</td><td>False      </td><td>tax_family        </td><td>variance_threshold </td><td style=\"text-align: right;\">                  </td><td style=\"text-align: right;\">                  </td><td style=\"text-align: right;\">       0.00233382 </td><td>clr             </td><td style=\"text-align: right;\">         32</td><td>0.3           </td><td style=\"text-align: right;\">0.0556359 </td><td style=\"text-align: right;\">        0.0295539 </td><td style=\"text-align: right;\">         0.0962897 </td><td style=\"text-align: right;\">0.00998685 </td><td>rf     </td><td style=\"text-align: right;\">           200</td><td style=\"text-align: right;\">     1</td><td style=\"text-align: right;\">        0.594533</td><td style=\"text-align: right;\">  0.22743 </td><td style=\"text-align: right;\">    0.165793</td><td style=\"text-align: right;\"> 0.145213  </td></tr>\n",
       "<tr><td>train_rf_3f3ddc0b</td><td>TERMINATED</td><td>172.31.181.85:1060205</td><td>False      </td><td>tax_family        </td><td>variance_threshold </td><td style=\"text-align: right;\">                  </td><td style=\"text-align: right;\">                  </td><td style=\"text-align: right;\">       0.00161355 </td><td>ilr             </td><td style=\"text-align: right;\">           </td><td>0.1           </td><td style=\"text-align: right;\">0.499467  </td><td style=\"text-align: right;\">        0.00102946</td><td style=\"text-align: right;\">         0.0569071 </td><td style=\"text-align: right;\">0.00922809 </td><td>rf     </td><td style=\"text-align: right;\">           200</td><td style=\"text-align: right;\">     1</td><td style=\"text-align: right;\">        0.602307</td><td style=\"text-align: right;\">  0.273842</td><td style=\"text-align: right;\">    0.172975</td><td style=\"text-align: right;\">-0.239256  </td></tr>\n",
       "<tr><td>train_rf_12cd0926</td><td>TERMINATED</td><td>172.31.181.85:1060380</td><td>False      </td><td>tax_family        </td><td>variance_quantile  </td><td style=\"text-align: right;\">                  </td><td style=\"text-align: right;\">               0.9</td><td style=\"text-align: right;\">                  </td><td>ilr             </td><td style=\"text-align: right;\">           </td><td>0.1           </td><td style=\"text-align: right;\">0.49594   </td><td style=\"text-align: right;\">        0.00104172</td><td style=\"text-align: right;\">         0.0271499 </td><td style=\"text-align: right;\">0.00656969 </td><td>rf     </td><td style=\"text-align: right;\">           200</td><td style=\"text-align: right;\">     1</td><td style=\"text-align: right;\">        0.869335</td><td style=\"text-align: right;\">  0.337447</td><td style=\"text-align: right;\">    0.178309</td><td style=\"text-align: right;\">-0.881797  </td></tr>\n",
       "<tr><td>train_rf_1aceb4fb</td><td>TERMINATED</td><td>172.31.181.85:1060503</td><td>False      </td><td>tax_family        </td><td>                   </td><td style=\"text-align: right;\">                  </td><td style=\"text-align: right;\">                  </td><td style=\"text-align: right;\">                  </td><td>clr             </td><td style=\"text-align: right;\">           </td><td>0.1           </td><td style=\"text-align: right;\">0.4275    </td><td style=\"text-align: right;\">        0.0159011 </td><td style=\"text-align: right;\">         0.0267054 </td><td style=\"text-align: right;\">0.00662303 </td><td>rf     </td><td style=\"text-align: right;\">           200</td><td style=\"text-align: right;\">     1</td><td style=\"text-align: right;\">        3.47922 </td><td style=\"text-align: right;\">  0.338564</td><td style=\"text-align: right;\">    0.17277 </td><td style=\"text-align: right;\">-0.894271  </td></tr>\n",
       "<tr><td>train_rf_0c9fe179</td><td>TERMINATED</td><td>172.31.181.85:1060623</td><td>False      </td><td>                  </td><td>variance_ith       </td><td style=\"text-align: right;\">                19</td><td style=\"text-align: right;\">                  </td><td style=\"text-align: right;\">                  </td><td>clr             </td><td style=\"text-align: right;\">           </td><td>0.3           </td><td style=\"text-align: right;\">0.409611  </td><td style=\"text-align: right;\">        0.0112164 </td><td style=\"text-align: right;\">         0.0054912 </td><td style=\"text-align: right;\">0.0061933  </td><td>rf     </td><td style=\"text-align: right;\">           160</td><td style=\"text-align: right;\">     1</td><td style=\"text-align: right;\">        6.8216  </td><td style=\"text-align: right;\">  0.237172</td><td style=\"text-align: right;\">    0.16168 </td><td style=\"text-align: right;\"> 0.0704188 </td></tr>\n",
       "<tr><td>train_rf_fa99e35c</td><td>TERMINATED</td><td>172.31.181.85:1060754</td><td>False      </td><td>                  </td><td>variance_ith       </td><td style=\"text-align: right;\">                20</td><td style=\"text-align: right;\">                  </td><td style=\"text-align: right;\">                  </td><td>clr             </td><td style=\"text-align: right;\">           </td><td>0.3           </td><td style=\"text-align: right;\">0.401142  </td><td style=\"text-align: right;\">        0.011699  </td><td style=\"text-align: right;\">         0.00677612</td><td style=\"text-align: right;\">0.00630021 </td><td>rf     </td><td style=\"text-align: right;\">           160</td><td style=\"text-align: right;\">     1</td><td style=\"text-align: right;\">        7.41082 </td><td style=\"text-align: right;\">  0.237877</td><td style=\"text-align: right;\">    0.163066</td><td style=\"text-align: right;\"> 0.0648826 </td></tr>\n",
       "<tr><td>train_rf_de6204c5</td><td>TERMINATED</td><td>172.31.181.85:1060931</td><td>False      </td><td>tax_genus         </td><td>variance_ith       </td><td style=\"text-align: right;\">                19</td><td style=\"text-align: right;\">                  </td><td style=\"text-align: right;\">                  </td><td>                </td><td style=\"text-align: right;\">          4</td><td>0.3           </td><td style=\"text-align: right;\">0.305233  </td><td style=\"text-align: right;\">        0.00993228</td><td style=\"text-align: right;\">         0.00546715</td><td style=\"text-align: right;\">0.00385467 </td><td>rf     </td><td style=\"text-align: right;\">           160</td><td style=\"text-align: right;\">     1</td><td style=\"text-align: right;\">        0.557616</td><td style=\"text-align: right;\">  0.255399</td><td style=\"text-align: right;\">    0.235727</td><td style=\"text-align: right;\">-0.07795   </td></tr>\n",
       "<tr><td>train_rf_ac012447</td><td>TERMINATED</td><td>172.31.181.85:1061046</td><td>False      </td><td>tax_genus         </td><td>abundance_topi     </td><td style=\"text-align: right;\">                13</td><td style=\"text-align: right;\">                  </td><td style=\"text-align: right;\">                  </td><td>                </td><td style=\"text-align: right;\">          4</td><td>log2          </td><td style=\"text-align: right;\">0.312393  </td><td style=\"text-align: right;\">        0.0836004 </td><td style=\"text-align: right;\">         0.00100667</td><td style=\"text-align: right;\">0.00369361 </td><td>rf     </td><td style=\"text-align: right;\">           100</td><td style=\"text-align: right;\">     1</td><td style=\"text-align: right;\">        0.449529</td><td style=\"text-align: right;\">  0.216665</td><td style=\"text-align: right;\">    0.26097 </td><td style=\"text-align: right;\"> 0.22422   </td></tr>\n",
       "<tr><td>train_rf_7865128b</td><td>TERMINATED</td><td>172.31.181.85:1061189</td><td>True       </td><td>tax_family        </td><td>abundance_topi     </td><td style=\"text-align: right;\">                12</td><td style=\"text-align: right;\">                  </td><td style=\"text-align: right;\">                  </td><td>                </td><td style=\"text-align: right;\">          4</td><td>0.5           </td><td style=\"text-align: right;\">0.33113   </td><td style=\"text-align: right;\">        0.0896219 </td><td style=\"text-align: right;\">         0.0145095 </td><td style=\"text-align: right;\">0.00815009 </td><td>rf     </td><td style=\"text-align: right;\">           100</td><td style=\"text-align: right;\">     1</td><td style=\"text-align: right;\">        0.459558</td><td style=\"text-align: right;\">  0.211155</td><td style=\"text-align: right;\">    0.25813 </td><td style=\"text-align: right;\"> 0.263176  </td></tr>\n",
       "<tr><td>train_rf_e97286e3</td><td>TERMINATED</td><td>172.31.181.85:1061307</td><td>False      </td><td>tax_genus         </td><td>abundance_topi     </td><td style=\"text-align: right;\">                12</td><td style=\"text-align: right;\">                  </td><td style=\"text-align: right;\">                  </td><td>                </td><td style=\"text-align: right;\">         16</td><td>log2          </td><td style=\"text-align: right;\">0.318746  </td><td style=\"text-align: right;\">        0.0991668 </td><td style=\"text-align: right;\">         0.00106887</td><td style=\"text-align: right;\">0.0041177  </td><td>rf     </td><td style=\"text-align: right;\">            80</td><td style=\"text-align: right;\">     1</td><td style=\"text-align: right;\">        0.449333</td><td style=\"text-align: right;\">  0.213782</td><td style=\"text-align: right;\">    0.175967</td><td style=\"text-align: right;\"> 0.244726  </td></tr>\n",
       "<tr><td>train_rf_3af7f260</td><td>TERMINATED</td><td>172.31.181.85:1061414</td><td>True       </td><td>tax_family        </td><td>abundance_topi     </td><td style=\"text-align: right;\">                 9</td><td style=\"text-align: right;\">                  </td><td style=\"text-align: right;\">                  </td><td>                </td><td style=\"text-align: right;\">         16</td><td>0.5           </td><td style=\"text-align: right;\">0.333973  </td><td style=\"text-align: right;\">        0.0596102 </td><td style=\"text-align: right;\">         0.0156437 </td><td style=\"text-align: right;\">0.008456   </td><td>rf     </td><td style=\"text-align: right;\">            80</td><td style=\"text-align: right;\">     1</td><td style=\"text-align: right;\">        0.445367</td><td style=\"text-align: right;\">  0.210006</td><td style=\"text-align: right;\">    0.183113</td><td style=\"text-align: right;\"> 0.271174  </td></tr>\n",
       "<tr><td>train_rf_52c1e4db</td><td>TERMINATED</td><td>172.31.181.85:1061531</td><td>False      </td><td>tax_genus         </td><td>abundance_topi     </td><td style=\"text-align: right;\">                10</td><td style=\"text-align: right;\">                  </td><td style=\"text-align: right;\">                  </td><td>                </td><td style=\"text-align: right;\">         16</td><td>0.5           </td><td style=\"text-align: right;\">0.347399  </td><td style=\"text-align: right;\">        0.0828946 </td><td style=\"text-align: right;\">         0.0154556 </td><td style=\"text-align: right;\">0.00815017 </td><td>rf     </td><td style=\"text-align: right;\">            80</td><td style=\"text-align: right;\">     1</td><td style=\"text-align: right;\">        0.443486</td><td style=\"text-align: right;\">  0.204222</td><td style=\"text-align: right;\">    0.172772</td><td style=\"text-align: right;\"> 0.310765  </td></tr>\n",
       "<tr><td>train_rf_23e963af</td><td>TERMINATED</td><td>172.31.181.85:1061685</td><td>True       </td><td>tax_genus         </td><td>abundance_topi     </td><td style=\"text-align: right;\">                 9</td><td style=\"text-align: right;\">                  </td><td style=\"text-align: right;\">                  </td><td>                </td><td style=\"text-align: right;\">         16</td><td>0.5           </td><td style=\"text-align: right;\">0.346591  </td><td style=\"text-align: right;\">        0.0941835 </td><td style=\"text-align: right;\">         0.0183266 </td><td style=\"text-align: right;\">0.00942311 </td><td>rf     </td><td style=\"text-align: right;\">            80</td><td style=\"text-align: right;\">     1</td><td style=\"text-align: right;\">        0.441898</td><td style=\"text-align: right;\">  0.211182</td><td style=\"text-align: right;\">    0.182021</td><td style=\"text-align: right;\"> 0.262986  </td></tr>\n",
       "<tr><td>train_rf_6f480974</td><td>TERMINATED</td><td>172.31.181.85:1061793</td><td>True       </td><td>tax_genus         </td><td>abundance_topi     </td><td style=\"text-align: right;\">                 9</td><td style=\"text-align: right;\">                  </td><td style=\"text-align: right;\">                  </td><td>                </td><td style=\"text-align: right;\">         16</td><td>0.5           </td><td style=\"text-align: right;\">0.270624  </td><td style=\"text-align: right;\">        0.0539128 </td><td style=\"text-align: right;\">         0.0182689 </td><td style=\"text-align: right;\">0.00921652 </td><td>rf     </td><td style=\"text-align: right;\">            80</td><td style=\"text-align: right;\">     1</td><td style=\"text-align: right;\">        0.44175 </td><td style=\"text-align: right;\">  0.211182</td><td style=\"text-align: right;\">    0.182021</td><td style=\"text-align: right;\"> 0.262986  </td></tr>\n",
       "<tr><td>train_rf_f587ba3c</td><td>TERMINATED</td><td>172.31.181.85:1061904</td><td>True       </td><td>tax_order         </td><td>abundance_topi     </td><td style=\"text-align: right;\">                 8</td><td style=\"text-align: right;\">                  </td><td style=\"text-align: right;\">                  </td><td>                </td><td style=\"text-align: right;\">         16</td><td>0.5           </td><td style=\"text-align: right;\">0.266175  </td><td style=\"text-align: right;\">        0.0542708 </td><td style=\"text-align: right;\">         0.0412127 </td><td style=\"text-align: right;\">0.00867977 </td><td>rf     </td><td style=\"text-align: right;\">            80</td><td style=\"text-align: right;\">     1</td><td style=\"text-align: right;\">        0.445001</td><td style=\"text-align: right;\">  0.199292</td><td style=\"text-align: right;\">    0.180221</td><td style=\"text-align: right;\"> 0.343644  </td></tr>\n",
       "<tr><td>train_rf_ed718d2d</td><td>TERMINATED</td><td>172.31.181.85:1062070</td><td>True       </td><td>tax_order         </td><td>                   </td><td style=\"text-align: right;\">                  </td><td style=\"text-align: right;\">                  </td><td style=\"text-align: right;\">                  </td><td>                </td><td style=\"text-align: right;\">         16</td><td>0.5           </td><td style=\"text-align: right;\">0.358403  </td><td style=\"text-align: right;\">        0.0598245 </td><td style=\"text-align: right;\">         0.0436501 </td><td style=\"text-align: right;\">0.0077033  </td><td>rf     </td><td style=\"text-align: right;\">           100</td><td style=\"text-align: right;\">     1</td><td style=\"text-align: right;\">        0.601713</td><td style=\"text-align: right;\">  0.270795</td><td style=\"text-align: right;\">    0.181709</td><td style=\"text-align: right;\">-0.211835  </td></tr>\n",
       "<tr><td>train_rf_f20644d4</td><td>TERMINATED</td><td>172.31.181.85:1062270</td><td>True       </td><td>tax_order         </td><td>variance_quantile  </td><td style=\"text-align: right;\">                  </td><td style=\"text-align: right;\">               0.7</td><td style=\"text-align: right;\">                  </td><td>                </td><td style=\"text-align: right;\">         16</td><td>0.5           </td><td style=\"text-align: right;\">0.274329  </td><td style=\"text-align: right;\">        0.0263536 </td><td style=\"text-align: right;\">         0.0426095 </td><td style=\"text-align: right;\">0.00740543 </td><td>rf     </td><td style=\"text-align: right;\">            60</td><td style=\"text-align: right;\">     1</td><td style=\"text-align: right;\">        0.44503 </td><td style=\"text-align: right;\">  0.283425</td><td style=\"text-align: right;\">    0.195029</td><td style=\"text-align: right;\">-0.327512  </td></tr>\n",
       "<tr><td>train_rf_703791d9</td><td>TERMINATED</td><td>172.31.181.85:1062389</td><td>True       </td><td>tax_order         </td><td>abundance_quantile </td><td style=\"text-align: right;\">                  </td><td style=\"text-align: right;\">               0.7</td><td style=\"text-align: right;\">                  </td><td>ilr             </td><td style=\"text-align: right;\">         16</td><td>0.5           </td><td style=\"text-align: right;\">0.0899414 </td><td style=\"text-align: right;\">        0.0243487 </td><td style=\"text-align: right;\">         0.0457116 </td><td style=\"text-align: right;\">0.00863797 </td><td>rf     </td><td style=\"text-align: right;\">            60</td><td style=\"text-align: right;\">     1</td><td style=\"text-align: right;\">        0.498679</td><td style=\"text-align: right;\">  0.412877</td><td style=\"text-align: right;\">    0.178242</td><td style=\"text-align: right;\">-1.8171    </td></tr>\n",
       "<tr><td>train_rf_bee3c33e</td><td>TERMINATED</td><td>172.31.181.85:1062500</td><td>True       </td><td>tax_order         </td><td>variance_topi      </td><td style=\"text-align: right;\">                 6</td><td style=\"text-align: right;\">                  </td><td style=\"text-align: right;\">                  </td><td>ilr             </td><td style=\"text-align: right;\">         16</td><td>0.5           </td><td style=\"text-align: right;\">0.215412  </td><td style=\"text-align: right;\">        0.0563394 </td><td style=\"text-align: right;\">         0.0838434 </td><td style=\"text-align: right;\">0.00911147 </td><td>rf     </td><td style=\"text-align: right;\">            60</td><td style=\"text-align: right;\">     1</td><td style=\"text-align: right;\">        0.400968</td><td style=\"text-align: right;\">  0.291069</td><td style=\"text-align: right;\">    0.184145</td><td style=\"text-align: right;\">-0.400079  </td></tr>\n",
       "<tr><td>train_rf_9ae563d0</td><td>TERMINATED</td><td>172.31.181.85:1062609</td><td>True       </td><td>tax_class         </td><td>abundance_topi     </td><td style=\"text-align: right;\">                 6</td><td style=\"text-align: right;\">                  </td><td style=\"text-align: right;\">                  </td><td>pa              </td><td style=\"text-align: right;\">         16</td><td>sqrt          </td><td style=\"text-align: right;\">0.248891  </td><td style=\"text-align: right;\">        0.0581209 </td><td style=\"text-align: right;\">         0.0933063 </td><td style=\"text-align: right;\">0.00877916 </td><td>rf     </td><td style=\"text-align: right;\">           120</td><td style=\"text-align: right;\">     1</td><td style=\"text-align: right;\">        0.429202</td><td style=\"text-align: right;\">  0.246666</td><td style=\"text-align: right;\">    0.428375</td><td style=\"text-align: right;\">-0.00549245</td></tr>\n",
       "<tr><td>train_rf_4f08e620</td><td>TERMINATED</td><td>172.31.181.85:1062725</td><td>True       </td><td>tax_class         </td><td>abundance_topi     </td><td style=\"text-align: right;\">                 6</td><td style=\"text-align: right;\">                  </td><td style=\"text-align: right;\">                  </td><td>pa              </td><td style=\"text-align: right;\">         16</td><td>sqrt          </td><td style=\"text-align: right;\">0.239889  </td><td style=\"text-align: right;\">        0.0362252 </td><td style=\"text-align: right;\">         0.00832474</td><td style=\"text-align: right;\">0.00861627 </td><td>rf     </td><td style=\"text-align: right;\">           120</td><td style=\"text-align: right;\">     1</td><td style=\"text-align: right;\">        0.44901 </td><td style=\"text-align: right;\">  0.246666</td><td style=\"text-align: right;\">    0.428375</td><td style=\"text-align: right;\">-0.00549245</td></tr>\n",
       "<tr><td>train_rf_23415de4</td><td>TERMINATED</td><td>172.31.181.85:1062875</td><td>True       </td><td>tax_family        </td><td>abundance_topi     </td><td style=\"text-align: right;\">                 9</td><td style=\"text-align: right;\">                  </td><td style=\"text-align: right;\">                  </td><td>                </td><td style=\"text-align: right;\">          8</td><td>0.5           </td><td style=\"text-align: right;\">0.348393  </td><td style=\"text-align: right;\">        0.039526  </td><td style=\"text-align: right;\">         0.0117661 </td><td style=\"text-align: right;\">0.0099941  </td><td>rf     </td><td style=\"text-align: right;\">            80</td><td style=\"text-align: right;\">     1</td><td style=\"text-align: right;\">        0.441547</td><td style=\"text-align: right;\">  0.206021</td><td style=\"text-align: right;\">    0.187371</td><td style=\"text-align: right;\"> 0.298568  </td></tr>\n",
       "<tr><td>train_rf_fddb1f36</td><td>TERMINATED</td><td>172.31.181.85:1062989</td><td>True       </td><td>tax_family        </td><td>abundance_topi     </td><td style=\"text-align: right;\">                 9</td><td style=\"text-align: right;\">                  </td><td style=\"text-align: right;\">                  </td><td>alr             </td><td style=\"text-align: right;\">          8</td><td>0.5           </td><td style=\"text-align: right;\">0.371601  </td><td style=\"text-align: right;\">        0.0785321 </td><td style=\"text-align: right;\">         0.0116665 </td><td style=\"text-align: right;\">0.00983784 </td><td>rf     </td><td style=\"text-align: right;\">            80</td><td style=\"text-align: right;\">     1</td><td style=\"text-align: right;\">        0.439032</td><td style=\"text-align: right;\">  0.205865</td><td style=\"text-align: right;\">    0.185792</td><td style=\"text-align: right;\"> 0.299633  </td></tr>\n",
       "<tr><td>train_rf_5a814395</td><td>TERMINATED</td><td>172.31.181.85:1063202</td><td>True       </td><td>tax_order         </td><td>abundance_threshold</td><td style=\"text-align: right;\">                  </td><td style=\"text-align: right;\">                  </td><td style=\"text-align: right;\">       7.47838e-05</td><td>alr             </td><td style=\"text-align: right;\">          8</td><td>0.5           </td><td style=\"text-align: right;\">0.385286  </td><td style=\"text-align: right;\">        0.018866  </td><td style=\"text-align: right;\">         0.00991263</td><td style=\"text-align: right;\">0.00990705 </td><td>rf     </td><td style=\"text-align: right;\">            40</td><td style=\"text-align: right;\">     1</td><td style=\"text-align: right;\">        0.556118</td><td style=\"text-align: right;\">  0.2954  </td><td style=\"text-align: right;\">    0.190272</td><td style=\"text-align: right;\">-0.44206   </td></tr>\n",
       "<tr><td>train_rf_95618e1e</td><td>TERMINATED</td><td>172.31.181.85:1063347</td><td>True       </td><td>tax_order         </td><td>abundance_threshold</td><td style=\"text-align: right;\">                  </td><td style=\"text-align: right;\">                  </td><td style=\"text-align: right;\">       7.71437e-05</td><td>alr             </td><td style=\"text-align: right;\">          8</td><td>0.2           </td><td style=\"text-align: right;\">0.358826  </td><td style=\"text-align: right;\">        0.0405377 </td><td style=\"text-align: right;\">         0.0100608 </td><td style=\"text-align: right;\">0.00997586 </td><td>rf     </td><td style=\"text-align: right;\">            40</td><td style=\"text-align: right;\">     1</td><td style=\"text-align: right;\">        0.580082</td><td style=\"text-align: right;\">  0.279941</td><td style=\"text-align: right;\">    0.189796</td><td style=\"text-align: right;\">-0.29507   </td></tr>\n",
       "<tr><td>train_rf_88ee9392</td><td>TERMINATED</td><td>172.31.181.85:1063463</td><td>True       </td><td>tax_genus         </td><td>abundance_topi     </td><td style=\"text-align: right;\">                 8</td><td style=\"text-align: right;\">                  </td><td style=\"text-align: right;\">                  </td><td>alr             </td><td style=\"text-align: right;\">          8</td><td>              </td><td style=\"text-align: right;\">0.294921  </td><td style=\"text-align: right;\">        0.042726  </td><td style=\"text-align: right;\">         0.021778  </td><td style=\"text-align: right;\">0.00997806 </td><td>rf     </td><td style=\"text-align: right;\">            40</td><td style=\"text-align: right;\">     1</td><td style=\"text-align: right;\">        0.386622</td><td style=\"text-align: right;\">  0.281085</td><td style=\"text-align: right;\">    0.189023</td><td style=\"text-align: right;\">-0.305678  </td></tr>\n",
       "<tr><td>train_rf_9ff0bd5c</td><td>TERMINATED</td><td>172.31.181.85:1063575</td><td>True       </td><td>tax_genus         </td><td>abundance_topi     </td><td style=\"text-align: right;\">                10</td><td style=\"text-align: right;\">                  </td><td style=\"text-align: right;\">                  </td><td>alr             </td><td style=\"text-align: right;\">          8</td><td>              </td><td style=\"text-align: right;\">0.294469  </td><td style=\"text-align: right;\">        0.0729186 </td><td style=\"text-align: right;\">         0.0193535 </td><td style=\"text-align: right;\">0.00719612 </td><td>rf     </td><td style=\"text-align: right;\">            80</td><td style=\"text-align: right;\">     1</td><td style=\"text-align: right;\">        0.451848</td><td style=\"text-align: right;\">  0.191533</td><td style=\"text-align: right;\">    0.184045</td><td style=\"text-align: right;\"> 0.393755  </td></tr>\n",
       "<tr><td>train_rf_505e6222</td><td>TERMINATED</td><td>172.31.181.85:1063728</td><td>True       </td><td>                  </td><td>abundance_topi     </td><td style=\"text-align: right;\">                10</td><td style=\"text-align: right;\">                  </td><td style=\"text-align: right;\">                  </td><td>alr             </td><td style=\"text-align: right;\">          8</td><td>0.5           </td><td style=\"text-align: right;\">0.383311  </td><td style=\"text-align: right;\">        0.0763878 </td><td style=\"text-align: right;\">         0.0117994 </td><td style=\"text-align: right;\">0.00722649 </td><td>rf     </td><td style=\"text-align: right;\">            80</td><td style=\"text-align: right;\">     1</td><td style=\"text-align: right;\">        0.252078</td><td style=\"text-align: right;\">  0.345326</td><td style=\"text-align: right;\">    0.188416</td><td style=\"text-align: right;\">-0.970702  </td></tr>\n",
       "<tr><td>train_rf_3ea7853b</td><td>TERMINATED</td><td>172.31.181.85:1063840</td><td>True       </td><td>tax_genus         </td><td>abundance_ith      </td><td style=\"text-align: right;\">                15</td><td style=\"text-align: right;\">                  </td><td style=\"text-align: right;\">                  </td><td>alr             </td><td style=\"text-align: right;\">          8</td><td>              </td><td style=\"text-align: right;\">0.149774  </td><td style=\"text-align: right;\">        0.0759418 </td><td style=\"text-align: right;\">         0.0373605 </td><td style=\"text-align: right;\">0.00717226 </td><td>rf     </td><td style=\"text-align: right;\">           140</td><td style=\"text-align: right;\">     1</td><td style=\"text-align: right;\">        1.00327 </td><td style=\"text-align: right;\">  0.315535</td><td style=\"text-align: right;\">    0.178391</td><td style=\"text-align: right;\">-0.645348  </td></tr>\n",
       "<tr><td>train_rf_6f07901f</td><td>TERMINATED</td><td>172.31.181.85:1063949</td><td>True       </td><td>tax_genus         </td><td>variance_topi      </td><td style=\"text-align: right;\">                16</td><td style=\"text-align: right;\">                  </td><td style=\"text-align: right;\">                  </td><td>alr             </td><td style=\"text-align: right;\">          8</td><td>              </td><td style=\"text-align: right;\">0.446818  </td><td style=\"text-align: right;\">        0.0742119 </td><td style=\"text-align: right;\">         0.0356903 </td><td style=\"text-align: right;\">0.00540722 </td><td>rf     </td><td style=\"text-align: right;\">            60</td><td style=\"text-align: right;\">     1</td><td style=\"text-align: right;\">        0.474334</td><td style=\"text-align: right;\">  0.208691</td><td style=\"text-align: right;\">    0.187787</td><td style=\"text-align: right;\"> 0.280268  </td></tr>\n",
       "<tr><td>train_rf_398238f7</td><td>TERMINATED</td><td>172.31.181.85:1064059</td><td>True       </td><td>tax_genus         </td><td>variance_topi      </td><td style=\"text-align: right;\">                 4</td><td style=\"text-align: right;\">                  </td><td style=\"text-align: right;\">                  </td><td>alr             </td><td style=\"text-align: right;\">         32</td><td>              </td><td style=\"text-align: right;\">0.28365   </td><td style=\"text-align: right;\">        0.0701424 </td><td style=\"text-align: right;\">         0.0323095 </td><td style=\"text-align: right;\">0.00550011 </td><td>rf     </td><td style=\"text-align: right;\">            60</td><td style=\"text-align: right;\">     1</td><td style=\"text-align: right;\">        0.430948</td><td style=\"text-align: right;\">  0.261852</td><td style=\"text-align: right;\">    0.189999</td><td style=\"text-align: right;\">-0.133117  </td></tr>\n",
       "<tr><td>train_rf_100af4bb</td><td>TERMINATED</td><td>172.31.181.85:1064287</td><td>True       </td><td>tax_genus         </td><td>abundance_topi     </td><td style=\"text-align: right;\">                 8</td><td style=\"text-align: right;\">                  </td><td style=\"text-align: right;\">                  </td><td>alr             </td><td style=\"text-align: right;\">          8</td><td>              </td><td style=\"text-align: right;\">0.292459  </td><td style=\"text-align: right;\">        0.00663528</td><td style=\"text-align: right;\">         0.0118341 </td><td style=\"text-align: right;\">0.00787917 </td><td>rf     </td><td style=\"text-align: right;\">           100</td><td style=\"text-align: right;\">     1</td><td style=\"text-align: right;\">        0.461768</td><td style=\"text-align: right;\">  0.274247</td><td style=\"text-align: right;\">    0.18047 </td><td style=\"text-align: right;\">-0.242927  </td></tr>\n",
       "<tr><td>train_rf_0bfa31c8</td><td>TERMINATED</td><td>172.31.181.85:1064425</td><td>True       </td><td>tax_family        </td><td>abundance_topi     </td><td style=\"text-align: right;\">                 8</td><td style=\"text-align: right;\">                  </td><td style=\"text-align: right;\">                  </td><td>alr             </td><td style=\"text-align: right;\">          8</td><td>0.2           </td><td style=\"text-align: right;\">0.363594  </td><td style=\"text-align: right;\">        0.0458422 </td><td style=\"text-align: right;\">         0.0227006 </td><td style=\"text-align: right;\">0.00797838 </td><td>rf     </td><td style=\"text-align: right;\">           100</td><td style=\"text-align: right;\">     1</td><td style=\"text-align: right;\">        0.459855</td><td style=\"text-align: right;\">  0.205644</td><td style=\"text-align: right;\">    0.178185</td><td style=\"text-align: right;\"> 0.301135  </td></tr>\n",
       "<tr><td>train_rf_ac8b3d9f</td><td>TERMINATED</td><td>172.31.181.85:1064543</td><td>True       </td><td>tax_family        </td><td>abundance_topi     </td><td style=\"text-align: right;\">                11</td><td style=\"text-align: right;\">                  </td><td style=\"text-align: right;\">                  </td><td>                </td><td style=\"text-align: right;\">          8</td><td>0.2           </td><td style=\"text-align: right;\">0.219603  </td><td style=\"text-align: right;\">        0.0496395 </td><td style=\"text-align: right;\">         0.00773485</td><td style=\"text-align: right;\">0.00949301 </td><td>rf     </td><td style=\"text-align: right;\">            80</td><td style=\"text-align: right;\">     1</td><td style=\"text-align: right;\">        0.445628</td><td style=\"text-align: right;\">  0.206114</td><td style=\"text-align: right;\">    0.181328</td><td style=\"text-align: right;\"> 0.297939  </td></tr>\n",
       "<tr><td>train_rf_ee42fb2e</td><td>TERMINATED</td><td>172.31.181.85:1064652</td><td>True       </td><td>tax_class         </td><td>abundance_quantile </td><td style=\"text-align: right;\">                  </td><td style=\"text-align: right;\">               0.5</td><td style=\"text-align: right;\">                  </td><td>alr             </td><td style=\"text-align: right;\">          8</td><td>0.2           </td><td style=\"text-align: right;\">0.222442  </td><td style=\"text-align: right;\">        0.0474585 </td><td style=\"text-align: right;\">         0.0227418 </td><td style=\"text-align: right;\">0.000286281</td><td>rf     </td><td style=\"text-align: right;\">           100</td><td style=\"text-align: right;\">     1</td><td style=\"text-align: right;\">        0.518278</td><td style=\"text-align: right;\">  0.325644</td><td style=\"text-align: right;\">    0.190332</td><td style=\"text-align: right;\">-0.752454  </td></tr>\n",
       "<tr><td>train_rf_3c1b91e2</td><td>TERMINATED</td><td>172.31.181.85:1064762</td><td>True       </td><td>tax_class         </td><td>abundance_topi     </td><td style=\"text-align: right;\">                 7</td><td style=\"text-align: right;\">                  </td><td style=\"text-align: right;\">                  </td><td>alr             </td><td style=\"text-align: right;\">          8</td><td>0.2           </td><td style=\"text-align: right;\">0.369504  </td><td style=\"text-align: right;\">        0.0312047 </td><td style=\"text-align: right;\">         0.0213018 </td><td style=\"text-align: right;\">0.00822639 </td><td>rf     </td><td style=\"text-align: right;\">           100</td><td style=\"text-align: right;\">     1</td><td style=\"text-align: right;\">        0.44821 </td><td style=\"text-align: right;\">  0.281071</td><td style=\"text-align: right;\">    0.185829</td><td style=\"text-align: right;\">-0.305547  </td></tr>\n",
       "<tr><td>train_rf_a557b8ef</td><td>TERMINATED</td><td>172.31.181.85:1064879</td><td>False      </td><td>tax_family        </td><td>abundance_topi     </td><td style=\"text-align: right;\">                 7</td><td style=\"text-align: right;\">                  </td><td style=\"text-align: right;\">                  </td><td>alr             </td><td style=\"text-align: right;\">         32</td><td>0.2           </td><td style=\"text-align: right;\">0.37011   </td><td style=\"text-align: right;\">        0.033965  </td><td style=\"text-align: right;\">         0.0578054 </td><td style=\"text-align: right;\">0.00774047 </td><td>rf     </td><td style=\"text-align: right;\">           120</td><td style=\"text-align: right;\">     1</td><td style=\"text-align: right;\">        0.512664</td><td style=\"text-align: right;\">  0.220628</td><td style=\"text-align: right;\">    0.179968</td><td style=\"text-align: right;\"> 0.195581  </td></tr>\n",
       "<tr><td>train_rf_03bbbe84</td><td>TERMINATED</td><td>172.31.181.85:1065031</td><td>False      </td><td>tax_family        </td><td>variance_quantile  </td><td style=\"text-align: right;\">                  </td><td style=\"text-align: right;\">               0.9</td><td style=\"text-align: right;\">                  </td><td>alr             </td><td style=\"text-align: right;\">         32</td><td>0.2           </td><td style=\"text-align: right;\">0.409631  </td><td style=\"text-align: right;\">        0.0204568 </td><td style=\"text-align: right;\">         0.0178002 </td><td style=\"text-align: right;\">0.0076473  </td><td>rf     </td><td style=\"text-align: right;\">           120</td><td style=\"text-align: right;\">     1</td><td style=\"text-align: right;\">        0.617465</td><td style=\"text-align: right;\">  0.243685</td><td style=\"text-align: right;\">    0.174244</td><td style=\"text-align: right;\"> 0.0186631 </td></tr>\n",
       "<tr><td>train_rf_b386f33b</td><td>TERMINATED</td><td>172.31.181.85:1065143</td><td>False      </td><td>tax_family        </td><td>variance_quantile  </td><td style=\"text-align: right;\">                  </td><td style=\"text-align: right;\">               0.9</td><td style=\"text-align: right;\">                  </td><td>pa              </td><td style=\"text-align: right;\">          8</td><td>log2          </td><td style=\"text-align: right;\">0.407033  </td><td style=\"text-align: right;\">        0.0186004 </td><td style=\"text-align: right;\">         0.06314   </td><td style=\"text-align: right;\">0.00887768 </td><td>rf     </td><td style=\"text-align: right;\">            80</td><td style=\"text-align: right;\">     1</td><td style=\"text-align: right;\">        0.40723 </td><td style=\"text-align: right;\">  0.434781</td><td style=\"text-align: right;\">    0.218829</td><td style=\"text-align: right;\">-2.12395   </td></tr>\n",
       "<tr><td>train_rf_07cb2af3</td><td>TERMINATED</td><td>172.31.181.85:1065358</td><td>True       </td><td>                  </td><td>abundance_ith      </td><td style=\"text-align: right;\">                10</td><td style=\"text-align: right;\">                  </td><td style=\"text-align: right;\">                  </td><td>pa              </td><td style=\"text-align: right;\">          8</td><td>log2          </td><td style=\"text-align: right;\">0.444977  </td><td style=\"text-align: right;\">        0.0671185 </td><td style=\"text-align: right;\">         0.0554613 </td><td style=\"text-align: right;\">0.00182589 </td><td>rf     </td><td style=\"text-align: right;\">            80</td><td style=\"text-align: right;\">     1</td><td style=\"text-align: right;\">        0.539713</td><td style=\"text-align: right;\">  0.363563</td><td style=\"text-align: right;\">    0.180697</td><td style=\"text-align: right;\">-1.18434   </td></tr>\n",
       "<tr><td>train_rf_58c1a327</td><td>TERMINATED</td><td>172.31.181.85:1065497</td><td>True       </td><td>                  </td><td>abundance_ith      </td><td style=\"text-align: right;\">                11</td><td style=\"text-align: right;\">                  </td><td style=\"text-align: right;\">                  </td><td>alr             </td><td style=\"text-align: right;\">          8</td><td>sqrt          </td><td style=\"text-align: right;\">0.178731  </td><td style=\"text-align: right;\">        0.0660802 </td><td style=\"text-align: right;\">         0.0271187 </td><td style=\"text-align: right;\">0.00689445 </td><td>rf     </td><td style=\"text-align: right;\">           140</td><td style=\"text-align: right;\">     1</td><td style=\"text-align: right;\">       10.9601  </td><td style=\"text-align: right;\">  0.342789</td><td style=\"text-align: right;\">    0.169513</td><td style=\"text-align: right;\">-0.941852  </td></tr>\n",
       "<tr><td>train_rf_1a609f55</td><td>TERMINATED</td><td>172.31.181.85:1065613</td><td>True       </td><td>tax_family        </td><td>abundance_topi     </td><td style=\"text-align: right;\">                10</td><td style=\"text-align: right;\">                  </td><td style=\"text-align: right;\">                  </td><td>                </td><td style=\"text-align: right;\">          8</td><td>0.5           </td><td style=\"text-align: right;\">0.336167  </td><td style=\"text-align: right;\">        0.0447536 </td><td style=\"text-align: right;\">         0.0127561 </td><td style=\"text-align: right;\">0.00959019 </td><td>rf     </td><td style=\"text-align: right;\">            80</td><td style=\"text-align: right;\">     1</td><td style=\"text-align: right;\">        0.444264</td><td style=\"text-align: right;\">  0.209309</td><td style=\"text-align: right;\">    0.183234</td><td style=\"text-align: right;\"> 0.276     </td></tr>\n",
       "<tr><td>train_rf_680e532d</td><td>TERMINATED</td><td>172.31.181.85:1065810</td><td>True       </td><td>tax_family        </td><td>abundance_topi     </td><td style=\"text-align: right;\">                10</td><td style=\"text-align: right;\">                  </td><td style=\"text-align: right;\">                  </td><td>                </td><td style=\"text-align: right;\">          8</td><td>0.5           </td><td style=\"text-align: right;\">0.339087  </td><td style=\"text-align: right;\">        0.047642  </td><td style=\"text-align: right;\">         0.0129865 </td><td style=\"text-align: right;\">0.00949938 </td><td>rf     </td><td style=\"text-align: right;\">            80</td><td style=\"text-align: right;\">     1</td><td style=\"text-align: right;\">        0.438774</td><td style=\"text-align: right;\">  0.209309</td><td style=\"text-align: right;\">    0.183234</td><td style=\"text-align: right;\"> 0.276     </td></tr>\n",
       "<tr><td>train_rf_dc8b47be</td><td>TERMINATED</td><td>172.31.181.85:1065987</td><td>True       </td><td>tax_family        </td><td>abundance_topi     </td><td style=\"text-align: right;\">                 8</td><td style=\"text-align: right;\">                  </td><td style=\"text-align: right;\">                  </td><td>                </td><td style=\"text-align: right;\">          8</td><td>0.5           </td><td style=\"text-align: right;\">0.315174  </td><td style=\"text-align: right;\">        0.0373835 </td><td style=\"text-align: right;\">         0.0276239 </td><td style=\"text-align: right;\">0.00895864 </td><td>rf     </td><td style=\"text-align: right;\">            60</td><td style=\"text-align: right;\">     1</td><td style=\"text-align: right;\">        0.408379</td><td style=\"text-align: right;\">  0.212291</td><td style=\"text-align: right;\">    0.18926 </td><td style=\"text-align: right;\"> 0.255228  </td></tr>\n",
       "<tr><td>train_rf_aec35201</td><td>TERMINATED</td><td>172.31.181.85:1066111</td><td>True       </td><td>tax_family        </td><td>                   </td><td style=\"text-align: right;\">                  </td><td style=\"text-align: right;\">                  </td><td style=\"text-align: right;\">                  </td><td>                </td><td style=\"text-align: right;\">          8</td><td>0.5           </td><td style=\"text-align: right;\">0.316389  </td><td style=\"text-align: right;\">        0.0970419 </td><td style=\"text-align: right;\">         0.00705922</td><td style=\"text-align: right;\">0.00899435 </td><td>rf     </td><td style=\"text-align: right;\">            60</td><td style=\"text-align: right;\">     1</td><td style=\"text-align: right;\">        0.503738</td><td style=\"text-align: right;\">  0.323812</td><td style=\"text-align: right;\">    0.181712</td><td style=\"text-align: right;\">-0.732796  </td></tr>\n",
       "<tr><td>train_rf_025a205a</td><td>TERMINATED</td><td>172.31.181.85:1066239</td><td>True       </td><td>tax_family        </td><td>                   </td><td style=\"text-align: right;\">                  </td><td style=\"text-align: right;\">                  </td><td style=\"text-align: right;\">                  </td><td>alr             </td><td style=\"text-align: right;\">          8</td><td>0.5           </td><td style=\"text-align: right;\">0.25741   </td><td style=\"text-align: right;\">        0.0836738 </td><td style=\"text-align: right;\">         0.00513915</td><td style=\"text-align: right;\">0.00826409 </td><td>rf     </td><td style=\"text-align: right;\">           100</td><td style=\"text-align: right;\">     1</td><td style=\"text-align: right;\">        1.61652 </td><td style=\"text-align: right;\">  0.249671</td><td style=\"text-align: right;\">    0.178574</td><td style=\"text-align: right;\">-0.0301414 </td></tr>\n",
       "<tr><td>train_rf_37670eab</td><td>TERMINATED</td><td>172.31.181.85:1066364</td><td>False      </td><td>tax_genus         </td><td>variance_threshold </td><td style=\"text-align: right;\">                  </td><td style=\"text-align: right;\">                  </td><td style=\"text-align: right;\">       1.01557e-05</td><td>clr             </td><td style=\"text-align: right;\">         16</td><td>0.1           </td><td style=\"text-align: right;\">0.258452  </td><td style=\"text-align: right;\">        0.0836428 </td><td style=\"text-align: right;\">         0.0153739 </td><td style=\"text-align: right;\">0.00831281 </td><td>rf     </td><td style=\"text-align: right;\">           100</td><td style=\"text-align: right;\">     1</td><td style=\"text-align: right;\">        0.607136</td><td style=\"text-align: right;\">  0.343423</td><td style=\"text-align: right;\">    0.170633</td><td style=\"text-align: right;\">-0.949041  </td></tr>\n",
       "<tr><td>train_rf_bf088f2a</td><td>TERMINATED</td><td>172.31.181.85:1066484</td><td>False      </td><td>tax_genus         </td><td>variance_threshold </td><td style=\"text-align: right;\">                  </td><td style=\"text-align: right;\">                  </td><td style=\"text-align: right;\">       1.72139e-05</td><td>clr             </td><td style=\"text-align: right;\">         16</td><td>              </td><td style=\"text-align: right;\">0.390213  </td><td style=\"text-align: right;\">        0.0636083 </td><td style=\"text-align: right;\">         0.0172342 </td><td style=\"text-align: right;\">0.00492002 </td><td>rf     </td><td style=\"text-align: right;\">           100</td><td style=\"text-align: right;\">     1</td><td style=\"text-align: right;\">        0.641296</td><td style=\"text-align: right;\">  0.387497</td><td style=\"text-align: right;\">    0.17006 </td><td style=\"text-align: right;\">-1.4814    </td></tr>\n",
       "<tr><td>train_rf_2c1f8ffa</td><td>TERMINATED</td><td>172.31.181.85:1066647</td><td>False      </td><td>tax_order         </td><td>abundance_topi     </td><td style=\"text-align: right;\">                 4</td><td style=\"text-align: right;\">                  </td><td style=\"text-align: right;\">                  </td><td>ilr             </td><td style=\"text-align: right;\">          4</td><td>              </td><td style=\"text-align: right;\">0.424892  </td><td style=\"text-align: right;\">        0.00567398</td><td style=\"text-align: right;\">         0.0098972 </td><td style=\"text-align: right;\">0.00583243 </td><td>rf     </td><td style=\"text-align: right;\">            80</td><td style=\"text-align: right;\">     1</td><td style=\"text-align: right;\">        0.40208 </td><td style=\"text-align: right;\">  0.23631 </td><td style=\"text-align: right;\">    0.286364</td><td style=\"text-align: right;\"> 0.0771629 </td></tr>\n",
       "<tr><td>train_rf_a6054910</td><td>TERMINATED</td><td>172.31.181.85:1066778</td><td>True       </td><td>tax_order         </td><td>abundance_topi     </td><td style=\"text-align: right;\">                 4</td><td style=\"text-align: right;\">                  </td><td style=\"text-align: right;\">                  </td><td>ilr             </td><td style=\"text-align: right;\">          4</td><td>0.5           </td><td style=\"text-align: right;\">0.353983  </td><td style=\"text-align: right;\">        0.028776  </td><td style=\"text-align: right;\">         0.0213882 </td><td style=\"text-align: right;\">0.00963167 </td><td>rf     </td><td style=\"text-align: right;\">            80</td><td style=\"text-align: right;\">     1</td><td style=\"text-align: right;\">        0.401745</td><td style=\"text-align: right;\">  0.23631 </td><td style=\"text-align: right;\">    0.286364</td><td style=\"text-align: right;\"> 0.0771629 </td></tr>\n",
       "<tr><td>train_rf_2e9690d9</td><td>TERMINATED</td><td>172.31.181.85:1066903</td><td>True       </td><td>tax_family        </td><td>variance_ith       </td><td style=\"text-align: right;\">                 8</td><td style=\"text-align: right;\">                  </td><td style=\"text-align: right;\">                  </td><td>                </td><td style=\"text-align: right;\">           </td><td>0.5           </td><td style=\"text-align: right;\">0.350377  </td><td style=\"text-align: right;\">        0.0312496 </td><td style=\"text-align: right;\">         0.0231169 </td><td style=\"text-align: right;\">0.00967882 </td><td>rf     </td><td style=\"text-align: right;\">            80</td><td style=\"text-align: right;\">     1</td><td style=\"text-align: right;\">        0.443957</td><td style=\"text-align: right;\">  0.21548 </td><td style=\"text-align: right;\">    0.180278</td><td style=\"text-align: right;\"> 0.232679  </td></tr>\n",
       "<tr><td>train_rf_ac31b439</td><td>TERMINATED</td><td>172.31.181.85:1067032</td><td>True       </td><td>tax_family        </td><td>abundance_topi     </td><td style=\"text-align: right;\">                 9</td><td style=\"text-align: right;\">                  </td><td style=\"text-align: right;\">                  </td><td>                </td><td style=\"text-align: right;\">          8</td><td>0.2           </td><td style=\"text-align: right;\">0.240506  </td><td style=\"text-align: right;\">        0.0505539 </td><td style=\"text-align: right;\">         0.00786732</td><td style=\"text-align: right;\">0.00958245 </td><td>rf     </td><td style=\"text-align: right;\">            80</td><td style=\"text-align: right;\">     1</td><td style=\"text-align: right;\">        0.436179</td><td style=\"text-align: right;\">  0.206021</td><td style=\"text-align: right;\">    0.187371</td><td style=\"text-align: right;\"> 0.298568  </td></tr>\n",
       "<tr><td>train_rf_14667663</td><td>TERMINATED</td><td>172.31.181.85:1067202</td><td>True       </td><td>tax_family        </td><td>abundance_topi     </td><td style=\"text-align: right;\">                11</td><td style=\"text-align: right;\">                  </td><td style=\"text-align: right;\">                  </td><td>                </td><td style=\"text-align: right;\">          8</td><td>0.2           </td><td style=\"text-align: right;\">0.190125  </td><td style=\"text-align: right;\">        0.053121  </td><td style=\"text-align: right;\">         0.00808308</td><td style=\"text-align: right;\">0.00927134 </td><td>rf     </td><td style=\"text-align: right;\">           100</td><td style=\"text-align: right;\">     1</td><td style=\"text-align: right;\">        0.477785</td><td style=\"text-align: right;\">  0.211332</td><td style=\"text-align: right;\">    0.177668</td><td style=\"text-align: right;\"> 0.261938  </td></tr>\n",
       "<tr><td>train_rf_edcc24d4</td><td>TERMINATED</td><td>172.31.181.85:1067329</td><td>True       </td><td>tax_family        </td><td>abundance_topi     </td><td style=\"text-align: right;\">                11</td><td style=\"text-align: right;\">                  </td><td style=\"text-align: right;\">                  </td><td>                </td><td style=\"text-align: right;\">          8</td><td>0.2           </td><td style=\"text-align: right;\">0.231975  </td><td style=\"text-align: right;\">        0.0494841 </td><td style=\"text-align: right;\">         0.00776905</td><td style=\"text-align: right;\">0.0094491  </td><td>rf     </td><td style=\"text-align: right;\">           100</td><td style=\"text-align: right;\">     1</td><td style=\"text-align: right;\">        0.475191</td><td style=\"text-align: right;\">  0.211332</td><td style=\"text-align: right;\">    0.177668</td><td style=\"text-align: right;\"> 0.261938  </td></tr>\n",
       "<tr><td>train_rf_2c32bb35</td><td>TERMINATED</td><td>172.31.181.85:1067454</td><td>True       </td><td>tax_family        </td><td>abundance_topi     </td><td style=\"text-align: right;\">                 9</td><td style=\"text-align: right;\">                  </td><td style=\"text-align: right;\">                  </td><td>                </td><td style=\"text-align: right;\">          8</td><td>0.2           </td><td style=\"text-align: right;\">0.302464  </td><td style=\"text-align: right;\">        0.014611  </td><td style=\"text-align: right;\">         0.00310647</td><td style=\"text-align: right;\">0.00851707 </td><td>rf     </td><td style=\"text-align: right;\">            60</td><td style=\"text-align: right;\">     1</td><td style=\"text-align: right;\">        0.406388</td><td style=\"text-align: right;\">  0.213544</td><td style=\"text-align: right;\">    0.189943</td><td style=\"text-align: right;\"> 0.246406  </td></tr>\n",
       "<tr><td>train_rf_ace43110</td><td>TERMINATED</td><td>172.31.181.85:1067616</td><td>True       </td><td>tax_family        </td><td>abundance_topi     </td><td style=\"text-align: right;\">                 9</td><td style=\"text-align: right;\">                  </td><td style=\"text-align: right;\">                  </td><td>                </td><td style=\"text-align: right;\">         16</td><td>0.2           </td><td style=\"text-align: right;\">0.299715  </td><td style=\"text-align: right;\">        0.0406674 </td><td style=\"text-align: right;\">         0.00658057</td><td style=\"text-align: right;\">0.00869385 </td><td>rf     </td><td style=\"text-align: right;\">            60</td><td style=\"text-align: right;\">     1</td><td style=\"text-align: right;\">        0.42762 </td><td style=\"text-align: right;\">  0.217342</td><td style=\"text-align: right;\">    0.183547</td><td style=\"text-align: right;\"> 0.219361  </td></tr>\n",
       "<tr><td>train_rf_9dc9dc1b</td><td>TERMINATED</td><td>172.31.181.85:1067745</td><td>True       </td><td>tax_family        </td><td>abundance_topi     </td><td style=\"text-align: right;\">                 9</td><td style=\"text-align: right;\">                  </td><td style=\"text-align: right;\">                  </td><td>                </td><td style=\"text-align: right;\">         16</td><td>0.3           </td><td style=\"text-align: right;\">0.00669002</td><td style=\"text-align: right;\">        0.0604523 </td><td style=\"text-align: right;\">         0.00316758</td><td style=\"text-align: right;\">0.00789776 </td><td>rf     </td><td style=\"text-align: right;\">            60</td><td style=\"text-align: right;\">     1</td><td style=\"text-align: right;\">        0.414081</td><td style=\"text-align: right;\">  0.217342</td><td style=\"text-align: right;\">    0.183547</td><td style=\"text-align: right;\"> 0.219361  </td></tr>\n",
       "<tr><td>train_rf_c4dd5b93</td><td>TERMINATED</td><td>172.31.181.85:1067882</td><td>True       </td><td>tax_genus         </td><td>abundance_threshold</td><td style=\"text-align: right;\">                  </td><td style=\"text-align: right;\">                  </td><td style=\"text-align: right;\">       0.00831673 </td><td>                </td><td style=\"text-align: right;\">          8</td><td>0.3           </td><td style=\"text-align: right;\">0.282397  </td><td style=\"text-align: right;\">        0.0565487 </td><td style=\"text-align: right;\">         0.0110129 </td><td style=\"text-align: right;\">0.00794788 </td><td>rf     </td><td style=\"text-align: right;\">            80</td><td style=\"text-align: right;\">     1</td><td style=\"text-align: right;\">        0.529043</td><td style=\"text-align: right;\">  0.248616</td><td style=\"text-align: right;\">    0.175835</td><td style=\"text-align: right;\">-0.0214594 </td></tr>\n",
       "<tr><td>train_rf_f76c96ae</td><td>TERMINATED</td><td>172.31.181.85:1068014</td><td>True       </td><td>tax_genus         </td><td>abundance_quantile </td><td style=\"text-align: right;\">                  </td><td style=\"text-align: right;\">               0.6</td><td style=\"text-align: right;\">                  </td><td>alr             </td><td style=\"text-align: right;\">          8</td><td>0.5           </td><td style=\"text-align: right;\">0.280995  </td><td style=\"text-align: right;\">        0.0225104 </td><td style=\"text-align: right;\">         0.0112469 </td><td style=\"text-align: right;\">0.00467058 </td><td>rf     </td><td style=\"text-align: right;\">            80</td><td style=\"text-align: right;\">     1</td><td style=\"text-align: right;\">        1.15043 </td><td style=\"text-align: right;\">  0.281123</td><td style=\"text-align: right;\">    0.165683</td><td style=\"text-align: right;\">-0.306035  </td></tr>\n",
       "<tr><td>train_rf_0dc3fd2e</td><td>TERMINATED</td><td>172.31.181.85:1068156</td><td>True       </td><td>tax_order         </td><td>abundance_quantile </td><td style=\"text-align: right;\">                  </td><td style=\"text-align: right;\">               0.6</td><td style=\"text-align: right;\">                  </td><td>alr             </td><td style=\"text-align: right;\">           </td><td>0.5           </td><td style=\"text-align: right;\">0.37382   </td><td style=\"text-align: right;\">        0.0814002 </td><td style=\"text-align: right;\">         0.013692  </td><td style=\"text-align: right;\">0.00742457 </td><td>rf     </td><td style=\"text-align: right;\">            80</td><td style=\"text-align: right;\">     1</td><td style=\"text-align: right;\">        0.605883</td><td style=\"text-align: right;\">  0.292923</td><td style=\"text-align: right;\">    0.186264</td><td style=\"text-align: right;\">-0.417979  </td></tr>\n",
       "<tr><td>train_rf_0e424614</td><td>TERMINATED</td><td>172.31.181.85:1068331</td><td>True       </td><td>tax_order         </td><td>abundance_quantile </td><td style=\"text-align: right;\">                  </td><td style=\"text-align: right;\">               0.6</td><td style=\"text-align: right;\">                  </td><td>alr             </td><td style=\"text-align: right;\">           </td><td>0.5           </td><td style=\"text-align: right;\">0.322559  </td><td style=\"text-align: right;\">        0.0824434 </td><td style=\"text-align: right;\">         0.0139938 </td><td style=\"text-align: right;\">0.00913304 </td><td>rf     </td><td style=\"text-align: right;\">            80</td><td style=\"text-align: right;\">     1</td><td style=\"text-align: right;\">        0.601377</td><td style=\"text-align: right;\">  0.292923</td><td style=\"text-align: right;\">    0.186264</td><td style=\"text-align: right;\">-0.417979  </td></tr>\n",
       "<tr><td>train_rf_d05bf837</td><td>TERMINATED</td><td>172.31.181.85:1068450</td><td>True       </td><td>tax_family        </td><td>abundance_topi     </td><td style=\"text-align: right;\">                13</td><td style=\"text-align: right;\">                  </td><td style=\"text-align: right;\">                  </td><td>                </td><td style=\"text-align: right;\">          8</td><td>0.2           </td><td style=\"text-align: right;\">0.324813  </td><td style=\"text-align: right;\">        0.0499377 </td><td style=\"text-align: right;\">         0.0060161 </td><td style=\"text-align: right;\">0.00913484 </td><td>rf     </td><td style=\"text-align: right;\">            80</td><td style=\"text-align: right;\">     1</td><td style=\"text-align: right;\">        0.454706</td><td style=\"text-align: right;\">  0.219065</td><td style=\"text-align: right;\">    0.181799</td><td style=\"text-align: right;\"> 0.206939  </td></tr>\n",
       "<tr><td>train_rf_a2b0ce37</td><td>TERMINATED</td><td>172.31.181.85:1068587</td><td>True       </td><td>tax_family        </td><td>abundance_topi     </td><td style=\"text-align: right;\">                13</td><td style=\"text-align: right;\">                  </td><td style=\"text-align: right;\">                  </td><td>                </td><td style=\"text-align: right;\">          8</td><td>0.2           </td><td style=\"text-align: right;\">0.193402  </td><td style=\"text-align: right;\">        0.0677462 </td><td style=\"text-align: right;\">         0.00914511</td><td style=\"text-align: right;\">0.00981441 </td><td>rf     </td><td style=\"text-align: right;\">            80</td><td style=\"text-align: right;\">     1</td><td style=\"text-align: right;\">        0.4514  </td><td style=\"text-align: right;\">  0.219065</td><td style=\"text-align: right;\">    0.181799</td><td style=\"text-align: right;\"> 0.206939  </td></tr>\n",
       "<tr><td>train_rf_9d71b9d8</td><td>TERMINATED</td><td>172.31.181.85:1068773</td><td>True       </td><td>tax_family        </td><td>abundance_topi     </td><td style=\"text-align: right;\">                 7</td><td style=\"text-align: right;\">                  </td><td style=\"text-align: right;\">                  </td><td>                </td><td style=\"text-align: right;\">          8</td><td>0.2           </td><td style=\"text-align: right;\">0.198808  </td><td style=\"text-align: right;\">        0.050345  </td><td style=\"text-align: right;\">         0.00939505</td><td style=\"text-align: right;\">0.00974554 </td><td>rf     </td><td style=\"text-align: right;\">            80</td><td style=\"text-align: right;\">     1</td><td style=\"text-align: right;\">        0.4363  </td><td style=\"text-align: right;\">  0.217245</td><td style=\"text-align: right;\">    0.185386</td><td style=\"text-align: right;\"> 0.220063  </td></tr>\n",
       "<tr><td>train_rf_6ca1c1a8</td><td>TERMINATED</td><td>172.31.181.85:1068911</td><td>True       </td><td>tax_family        </td><td>abundance_topi     </td><td style=\"text-align: right;\">                 7</td><td style=\"text-align: right;\">                  </td><td style=\"text-align: right;\">                  </td><td>                </td><td style=\"text-align: right;\">          8</td><td>0.1           </td><td style=\"text-align: right;\">0.238288  </td><td style=\"text-align: right;\">        0.0418334 </td><td style=\"text-align: right;\">         0.0193607 </td><td style=\"text-align: right;\">0.00933429 </td><td>rf     </td><td style=\"text-align: right;\">           100</td><td style=\"text-align: right;\">     1</td><td style=\"text-align: right;\">        0.454642</td><td style=\"text-align: right;\">  0.220062</td><td style=\"text-align: right;\">    0.181845</td><td style=\"text-align: right;\"> 0.199705  </td></tr>\n",
       "<tr><td>train_rf_05115ddf</td><td>TERMINATED</td><td>172.31.181.85:1069075</td><td>True       </td><td>tax_family        </td><td>abundance_topi     </td><td style=\"text-align: right;\">                11</td><td style=\"text-align: right;\">                  </td><td style=\"text-align: right;\">                  </td><td>                </td><td style=\"text-align: right;\">          8</td><td>0.1           </td><td style=\"text-align: right;\">0.241369  </td><td style=\"text-align: right;\">        0.099508  </td><td style=\"text-align: right;\">         0.00468672</td><td style=\"text-align: right;\">0.0087776  </td><td>rf     </td><td style=\"text-align: right;\">           100</td><td style=\"text-align: right;\">     1</td><td style=\"text-align: right;\">        0.475066</td><td style=\"text-align: right;\">  0.211332</td><td style=\"text-align: right;\">    0.177668</td><td style=\"text-align: right;\"> 0.261938  </td></tr>\n",
       "<tr><td>train_rf_5d16e2f1</td><td>TERMINATED</td><td>172.31.181.85:1069219</td><td>False      </td><td>tax_family        </td><td>abundance_topi     </td><td style=\"text-align: right;\">                11</td><td style=\"text-align: right;\">                  </td><td style=\"text-align: right;\">                  </td><td>                </td><td style=\"text-align: right;\">         16</td><td>sqrt          </td><td style=\"text-align: right;\">0.146614  </td><td style=\"text-align: right;\">        0.0963658 </td><td style=\"text-align: right;\">         0.00479239</td><td style=\"text-align: right;\">0.00875382 </td><td>rf     </td><td style=\"text-align: right;\">           180</td><td style=\"text-align: right;\">     1</td><td style=\"text-align: right;\">        0.605299</td><td style=\"text-align: right;\">  0.213465</td><td style=\"text-align: right;\">    0.169938</td><td style=\"text-align: right;\"> 0.246964  </td></tr>\n",
       "<tr><td>train_rf_5d0d64e8</td><td>TERMINATED</td><td>172.31.181.85:1069394</td><td>False      </td><td>tax_family        </td><td>abundance_topi     </td><td style=\"text-align: right;\">                11</td><td style=\"text-align: right;\">                  </td><td style=\"text-align: right;\">                  </td><td>                </td><td style=\"text-align: right;\">         16</td><td>sqrt          </td><td style=\"text-align: right;\">0.226175  </td><td style=\"text-align: right;\">        0.0980821 </td><td style=\"text-align: right;\">         0.00463304</td><td style=\"text-align: right;\">0.00872617 </td><td>rf     </td><td style=\"text-align: right;\">            60</td><td style=\"text-align: right;\">     1</td><td style=\"text-align: right;\">        0.420076</td><td style=\"text-align: right;\">  0.215075</td><td style=\"text-align: right;\">    0.182755</td><td style=\"text-align: right;\"> 0.235564  </td></tr>\n",
       "<tr><td>train_rf_53f0dd65</td><td>TERMINATED</td><td>172.31.181.85:1069476</td><td>True       </td><td>tax_class         </td><td>variance_ith       </td><td style=\"text-align: right;\">                12</td><td style=\"text-align: right;\">                  </td><td style=\"text-align: right;\">                  </td><td>pa              </td><td style=\"text-align: right;\">         32</td><td>0.2           </td><td style=\"text-align: right;\">0.270399  </td><td style=\"text-align: right;\">        0.00230358</td><td style=\"text-align: right;\">         0.0163215 </td><td style=\"text-align: right;\">0.00694311 </td><td>rf     </td><td style=\"text-align: right;\">            60</td><td style=\"text-align: right;\">     1</td><td style=\"text-align: right;\">        0.389409</td><td style=\"text-align: right;\">  0.348269</td><td style=\"text-align: right;\">    0.333102</td><td style=\"text-align: right;\">-1.00443   </td></tr>\n",
       "<tr><td>train_rf_48bb351b</td><td>TERMINATED</td><td>172.31.181.85:1069654</td><td>True       </td><td>tax_class         </td><td>variance_ith       </td><td style=\"text-align: right;\">                12</td><td style=\"text-align: right;\">                  </td><td style=\"text-align: right;\">                  </td><td>pa              </td><td style=\"text-align: right;\">         32</td><td>0.2           </td><td style=\"text-align: right;\">0.161284  </td><td style=\"text-align: right;\">        0.0346406 </td><td style=\"text-align: right;\">         0.0160343 </td><td style=\"text-align: right;\">0.00698008 </td><td>rf     </td><td style=\"text-align: right;\">           100</td><td style=\"text-align: right;\">     1</td><td style=\"text-align: right;\">        0.418439</td><td style=\"text-align: right;\">  0.353543</td><td style=\"text-align: right;\">    0.332027</td><td style=\"text-align: right;\">-1.0656    </td></tr>\n",
       "<tr><td>train_rf_01e8c8d4</td><td>TERMINATED</td><td>172.31.181.85:1069783</td><td>True       </td><td>tax_class         </td><td>variance_ith       </td><td style=\"text-align: right;\">                12</td><td style=\"text-align: right;\">                  </td><td style=\"text-align: right;\">                  </td><td>pa              </td><td style=\"text-align: right;\">         32</td><td>0.2           </td><td style=\"text-align: right;\">0.264894  </td><td style=\"text-align: right;\">        0.0730253 </td><td style=\"text-align: right;\">         0.00150185</td><td style=\"text-align: right;\">0.00840326 </td><td>rf     </td><td style=\"text-align: right;\">           100</td><td style=\"text-align: right;\">     1</td><td style=\"text-align: right;\">        0.416579</td><td style=\"text-align: right;\">  0.353543</td><td style=\"text-align: right;\">    0.332027</td><td style=\"text-align: right;\">-1.0656    </td></tr>\n",
       "<tr><td>train_rf_dc2dc5e7</td><td>TERMINATED</td><td>172.31.181.85:1069938</td><td>True       </td><td>tax_genus         </td><td>variance_topi      </td><td style=\"text-align: right;\">                17</td><td style=\"text-align: right;\">                  </td><td style=\"text-align: right;\">                  </td><td>alr             </td><td style=\"text-align: right;\">          8</td><td>              </td><td style=\"text-align: right;\">0.47431   </td><td style=\"text-align: right;\">        0.0729733 </td><td style=\"text-align: right;\">         0.0367461 </td><td style=\"text-align: right;\">0.00644584 </td><td>rf     </td><td style=\"text-align: right;\">            40</td><td style=\"text-align: right;\">     1</td><td style=\"text-align: right;\">        0.397614</td><td style=\"text-align: right;\">  0.205858</td><td style=\"text-align: right;\">    0.194744</td><td style=\"text-align: right;\"> 0.299679  </td></tr>\n",
       "<tr><td>train_rf_2c429cdb</td><td>TERMINATED</td><td>172.31.181.85:1070071</td><td>True       </td><td>tax_genus         </td><td>variance_topi      </td><td style=\"text-align: right;\">                18</td><td style=\"text-align: right;\">                  </td><td style=\"text-align: right;\">                  </td><td>alr             </td><td style=\"text-align: right;\">          8</td><td>              </td><td style=\"text-align: right;\">0.465341  </td><td style=\"text-align: right;\">        0.0707791 </td><td style=\"text-align: right;\">         0.0318361 </td><td style=\"text-align: right;\">0.00298236 </td><td>rf     </td><td style=\"text-align: right;\">            40</td><td style=\"text-align: right;\">     1</td><td style=\"text-align: right;\">        0.410182</td><td style=\"text-align: right;\">  0.265632</td><td style=\"text-align: right;\">    0.189536</td><td style=\"text-align: right;\">-0.166067  </td></tr>\n",
       "<tr><td>train_rf_3be40986</td><td>TERMINATED</td><td>172.31.181.85:1070265</td><td>True       </td><td>tax_genus         </td><td>abundance_topi     </td><td style=\"text-align: right;\">                17</td><td style=\"text-align: right;\">                  </td><td style=\"text-align: right;\">                  </td><td>alr             </td><td style=\"text-align: right;\">          8</td><td>              </td><td style=\"text-align: right;\">0.449299  </td><td style=\"text-align: right;\">        0.0726351 </td><td style=\"text-align: right;\">         0.0311415 </td><td style=\"text-align: right;\">0.00750042 </td><td>rf     </td><td style=\"text-align: right;\">            40</td><td style=\"text-align: right;\">     1</td><td style=\"text-align: right;\">        0.401486</td><td style=\"text-align: right;\">  0.223069</td><td style=\"text-align: right;\">    0.192028</td><td style=\"text-align: right;\"> 0.177679  </td></tr>\n",
       "<tr><td>train_rf_d826bf90</td><td>TERMINATED</td><td>172.31.181.85:1070389</td><td>True       </td><td>tax_genus         </td><td>variance_topi      </td><td style=\"text-align: right;\">                 8</td><td style=\"text-align: right;\">                  </td><td style=\"text-align: right;\">                  </td><td>alr             </td><td style=\"text-align: right;\">          8</td><td>              </td><td style=\"text-align: right;\">0.489214  </td><td style=\"text-align: right;\">        0.0580584 </td><td style=\"text-align: right;\">         0.0249288 </td><td style=\"text-align: right;\">0.00764105 </td><td>rf     </td><td style=\"text-align: right;\">            40</td><td style=\"text-align: right;\">     1</td><td style=\"text-align: right;\">        0.387284</td><td style=\"text-align: right;\">  0.270842</td><td style=\"text-align: right;\">    0.199127</td><td style=\"text-align: right;\">-0.212256  </td></tr>\n",
       "<tr><td>train_rf_fcd86885</td><td>TERMINATED</td><td>172.31.181.85:1070511</td><td>True       </td><td>tax_genus         </td><td>variance_topi      </td><td style=\"text-align: right;\">                 8</td><td style=\"text-align: right;\">                  </td><td style=\"text-align: right;\">                  </td><td>alr             </td><td style=\"text-align: right;\">          8</td><td>              </td><td style=\"text-align: right;\">0.423055  </td><td style=\"text-align: right;\">        0.0571391 </td><td style=\"text-align: right;\">         0.0386207 </td><td style=\"text-align: right;\">0.00657956 </td><td>rf     </td><td style=\"text-align: right;\">            80</td><td style=\"text-align: right;\">     1</td><td style=\"text-align: right;\">        0.448366</td><td style=\"text-align: right;\">  0.26307 </td><td style=\"text-align: right;\">    0.189163</td><td style=\"text-align: right;\">-0.143682  </td></tr>\n",
       "<tr><td>train_rf_32fb2df0</td><td>TERMINATED</td><td>172.31.181.85:1070632</td><td>True       </td><td>tax_genus         </td><td>variance_topi      </td><td style=\"text-align: right;\">                 9</td><td style=\"text-align: right;\">                  </td><td style=\"text-align: right;\">                  </td><td>alr             </td><td style=\"text-align: right;\">          8</td><td>log2          </td><td style=\"text-align: right;\">0.212209  </td><td style=\"text-align: right;\">        0.0437908 </td><td style=\"text-align: right;\">         0.0375101 </td><td style=\"text-align: right;\">0.00659148 </td><td>rf     </td><td style=\"text-align: right;\">            80</td><td style=\"text-align: right;\">     1</td><td style=\"text-align: right;\">        0.446046</td><td style=\"text-align: right;\">  0.266571</td><td style=\"text-align: right;\">    0.185551</td><td style=\"text-align: right;\">-0.174324  </td></tr>\n",
       "<tr><td>train_rf_d2893a56</td><td>TERMINATED</td><td>172.31.181.85:1070767</td><td>True       </td><td>                  </td><td>variance_topi      </td><td style=\"text-align: right;\">                 5</td><td style=\"text-align: right;\">                  </td><td style=\"text-align: right;\">                  </td><td>alr             </td><td style=\"text-align: right;\">          8</td><td>log2          </td><td style=\"text-align: right;\">0.207207  </td><td style=\"text-align: right;\">        0.0464941 </td><td style=\"text-align: right;\">         0.0479799 </td><td style=\"text-align: right;\">0.00998798 </td><td>rf     </td><td style=\"text-align: right;\">           120</td><td style=\"text-align: right;\">     1</td><td style=\"text-align: right;\">        0.306187</td><td style=\"text-align: right;\">  0.319758</td><td style=\"text-align: right;\">    0.200895</td><td style=\"text-align: right;\">-0.689681  </td></tr>\n",
       "<tr><td>train_rf_14e8374e</td><td>TERMINATED</td><td>172.31.181.85:1070915</td><td>True       </td><td>                  </td><td>variance_quantile  </td><td style=\"text-align: right;\">                  </td><td style=\"text-align: right;\">               0.8</td><td style=\"text-align: right;\">                  </td><td>alr             </td><td style=\"text-align: right;\">          8</td><td>0.5           </td><td style=\"text-align: right;\">0.39639   </td><td style=\"text-align: right;\">        0.0375814 </td><td style=\"text-align: right;\">         0.053072  </td><td style=\"text-align: right;\">0.00802275 </td><td>rf     </td><td style=\"text-align: right;\">           120</td><td style=\"text-align: right;\">     1</td><td style=\"text-align: right;\">        5.24283 </td><td style=\"text-align: right;\">  0.243276</td><td style=\"text-align: right;\">    0.187532</td><td style=\"text-align: right;\"> 0.0219552 </td></tr>\n",
       "<tr><td>train_rf_7f02db7f</td><td>TERMINATED</td><td>172.31.181.85:1071074</td><td>False      </td><td>tax_genus         </td><td>abundance_topi     </td><td style=\"text-align: right;\">                20</td><td style=\"text-align: right;\">                  </td><td style=\"text-align: right;\">                  </td><td>clr             </td><td style=\"text-align: right;\">          4</td><td>0.5           </td><td style=\"text-align: right;\">0.341608  </td><td style=\"text-align: right;\">        0.0364061 </td><td style=\"text-align: right;\">         0.0196189 </td><td style=\"text-align: right;\">0.00594458 </td><td>rf     </td><td style=\"text-align: right;\">            60</td><td style=\"text-align: right;\">     1</td><td style=\"text-align: right;\">        0.436813</td><td style=\"text-align: right;\">  0.286495</td><td style=\"text-align: right;\">    0.270576</td><td style=\"text-align: right;\">-0.356425  </td></tr>\n",
       "<tr><td>train_rf_1c2de57c</td><td>TERMINATED</td><td>172.31.181.85:1071183</td><td>False      </td><td>tax_genus         </td><td>variance_quantile  </td><td style=\"text-align: right;\">                  </td><td style=\"text-align: right;\">               0.8</td><td style=\"text-align: right;\">                  </td><td>clr             </td><td style=\"text-align: right;\">          4</td><td>0.5           </td><td style=\"text-align: right;\">0.342776  </td><td style=\"text-align: right;\">        0.0381634 </td><td style=\"text-align: right;\">         0.00752992</td><td style=\"text-align: right;\">0.0060892  </td><td>rf     </td><td style=\"text-align: right;\">            60</td><td style=\"text-align: right;\">     1</td><td style=\"text-align: right;\">        0.557067</td><td style=\"text-align: right;\">  0.345669</td><td style=\"text-align: right;\">    0.198765</td><td style=\"text-align: right;\">-0.974614  </td></tr>\n",
       "<tr><td>train_rf_33b63711</td><td>TERMINATED</td><td>172.31.181.85:1071292</td><td>True       </td><td>tax_genus         </td><td>variance_topi      </td><td style=\"text-align: right;\">                17</td><td style=\"text-align: right;\">                  </td><td style=\"text-align: right;\">                  </td><td>alr             </td><td style=\"text-align: right;\">          8</td><td>              </td><td style=\"text-align: right;\">0.461286  </td><td style=\"text-align: right;\">        0.0876185 </td><td style=\"text-align: right;\">         0.0666816 </td><td style=\"text-align: right;\">0.00428706 </td><td>rf     </td><td style=\"text-align: right;\">            60</td><td style=\"text-align: right;\">     1</td><td style=\"text-align: right;\">        0.438308</td><td style=\"text-align: right;\">  0.194553</td><td style=\"text-align: right;\">    0.188265</td><td style=\"text-align: right;\"> 0.374484  </td></tr>\n",
       "<tr><td>train_rf_066cc54e</td><td>TERMINATED</td><td>172.31.181.85:1071402</td><td>True       </td><td>tax_genus         </td><td>variance_topi      </td><td style=\"text-align: right;\">                15</td><td style=\"text-align: right;\">                  </td><td style=\"text-align: right;\">                  </td><td>alr             </td><td style=\"text-align: right;\">          8</td><td>              </td><td style=\"text-align: right;\">0.462822  </td><td style=\"text-align: right;\">        0.0852685 </td><td style=\"text-align: right;\">         0.0331571 </td><td style=\"text-align: right;\">0.00531443 </td><td>rf     </td><td style=\"text-align: right;\">            60</td><td style=\"text-align: right;\">     1</td><td style=\"text-align: right;\">        0.440332</td><td style=\"text-align: right;\">  0.225394</td><td style=\"text-align: right;\">    0.183209</td><td style=\"text-align: right;\"> 0.160448  </td></tr>\n",
       "<tr><td>train_rf_b9a9d4c9</td><td>TERMINATED</td><td>172.31.181.85:1071510</td><td>True       </td><td>tax_genus         </td><td>variance_topi      </td><td style=\"text-align: right;\">                15</td><td style=\"text-align: right;\">                  </td><td style=\"text-align: right;\">                  </td><td>alr             </td><td style=\"text-align: right;\">          8</td><td>              </td><td style=\"text-align: right;\">0.466634  </td><td style=\"text-align: right;\">        0.0880545 </td><td style=\"text-align: right;\">         0.0635988 </td><td style=\"text-align: right;\">0.00433003 </td><td>rf     </td><td style=\"text-align: right;\">            80</td><td style=\"text-align: right;\">     1</td><td style=\"text-align: right;\">        0.471627</td><td style=\"text-align: right;\">  0.221492</td><td style=\"text-align: right;\">    0.180074</td><td style=\"text-align: right;\"> 0.189269  </td></tr>\n",
       "<tr><td>train_rf_198dcee9</td><td>TERMINATED</td><td>172.31.181.85:1071620</td><td>True       </td><td>tax_genus         </td><td>abundance_threshold</td><td style=\"text-align: right;\">                  </td><td style=\"text-align: right;\">                  </td><td style=\"text-align: right;\">       0.000371488</td><td>ilr             </td><td style=\"text-align: right;\">          8</td><td>              </td><td style=\"text-align: right;\">0.360397  </td><td style=\"text-align: right;\">        0.0623122 </td><td style=\"text-align: right;\">         0.0839091 </td><td style=\"text-align: right;\">0.00418501 </td><td>rf     </td><td style=\"text-align: right;\">            80</td><td style=\"text-align: right;\">     1</td><td style=\"text-align: right;\">        1.50661 </td><td style=\"text-align: right;\">  0.363206</td><td style=\"text-align: right;\">    0.127173</td><td style=\"text-align: right;\">-1.18006   </td></tr>\n",
       "<tr><td>train_rf_7fdf4f33</td><td>TERMINATED</td><td>172.31.181.85:1071810</td><td>True       </td><td>tax_order         </td><td>abundance_ith      </td><td style=\"text-align: right;\">                18</td><td style=\"text-align: right;\">                  </td><td style=\"text-align: right;\">                  </td><td>ilr             </td><td style=\"text-align: right;\">          8</td><td>              </td><td style=\"text-align: right;\">0.36133   </td><td style=\"text-align: right;\">        0.0625886 </td><td style=\"text-align: right;\">         0.0889515 </td><td style=\"text-align: right;\">0.00945111 </td><td>rf     </td><td style=\"text-align: right;\">            40</td><td style=\"text-align: right;\">     1</td><td style=\"text-align: right;\">        0.462473</td><td style=\"text-align: right;\">  0.352667</td><td style=\"text-align: right;\">    0.179127</td><td style=\"text-align: right;\">-1.05537   </td></tr>\n",
       "<tr><td>train_rf_d1a93a1e</td><td>TERMINATED</td><td>172.31.181.85:1071976</td><td>True       </td><td>tax_order         </td><td>abundance_threshold</td><td style=\"text-align: right;\">                  </td><td style=\"text-align: right;\">                  </td><td style=\"text-align: right;\">       0.000399499</td><td>                </td><td style=\"text-align: right;\">          8</td><td>              </td><td style=\"text-align: right;\">0.368532  </td><td style=\"text-align: right;\">        0.0630668 </td><td style=\"text-align: right;\">         0.0633185 </td><td style=\"text-align: right;\">0.00724997 </td><td>rf     </td><td style=\"text-align: right;\">            40</td><td style=\"text-align: right;\">     1</td><td style=\"text-align: right;\">        0.410433</td><td style=\"text-align: right;\">  0.270369</td><td style=\"text-align: right;\">    0.189259</td><td style=\"text-align: right;\">-0.208024  </td></tr>\n",
       "<tr><td>train_rf_34b8efea</td><td>TERMINATED</td><td>172.31.181.85:1072133</td><td>True       </td><td>tax_family        </td><td>                   </td><td style=\"text-align: right;\">                  </td><td style=\"text-align: right;\">                  </td><td style=\"text-align: right;\">                  </td><td>                </td><td style=\"text-align: right;\">         16</td><td>              </td><td style=\"text-align: right;\">0.248669  </td><td style=\"text-align: right;\">        0.0791707 </td><td style=\"text-align: right;\">         0.0728078 </td><td style=\"text-align: right;\">0.00720873 </td><td>rf     </td><td style=\"text-align: right;\">            80</td><td style=\"text-align: right;\">     1</td><td style=\"text-align: right;\">        0.580794</td><td style=\"text-align: right;\">  0.307925</td><td style=\"text-align: right;\">    0.173429</td><td style=\"text-align: right;\">-0.566941  </td></tr>\n",
       "<tr><td>train_rf_a01db243</td><td>TERMINATED</td><td>172.31.181.85:1072244</td><td>True       </td><td>tax_family        </td><td>                   </td><td style=\"text-align: right;\">                  </td><td style=\"text-align: right;\">                  </td><td style=\"text-align: right;\">                  </td><td>alr             </td><td style=\"text-align: right;\">         16</td><td>0.5           </td><td style=\"text-align: right;\">0.480307  </td><td style=\"text-align: right;\">        0.0768148 </td><td style=\"text-align: right;\">         0.0713854 </td><td style=\"text-align: right;\">0.00366372 </td><td>rf     </td><td style=\"text-align: right;\">            60</td><td style=\"text-align: right;\">     1</td><td style=\"text-align: right;\">        1.23363 </td><td style=\"text-align: right;\">  0.240077</td><td style=\"text-align: right;\">    0.176335</td><td style=\"text-align: right;\"> 0.0475024 </td></tr>\n",
       "<tr><td>train_rf_66b41437</td><td>TERMINATED</td><td>172.31.181.85:1072355</td><td>True       </td><td>tax_family        </td><td>abundance_topi     </td><td style=\"text-align: right;\">                10</td><td style=\"text-align: right;\">                  </td><td style=\"text-align: right;\">                  </td><td>alr             </td><td style=\"text-align: right;\">         16</td><td>0.5           </td><td style=\"text-align: right;\">0.486311  </td><td style=\"text-align: right;\">        0.0532785 </td><td style=\"text-align: right;\">         0.0107265 </td><td style=\"text-align: right;\">0.00900263 </td><td>rf     </td><td style=\"text-align: right;\">            60</td><td style=\"text-align: right;\">     1</td><td style=\"text-align: right;\">        0.439862</td><td style=\"text-align: right;\">  0.227649</td><td style=\"text-align: right;\">    0.182718</td><td style=\"text-align: right;\"> 0.14357   </td></tr>\n",
       "<tr><td>train_rf_258368c6</td><td>TERMINATED</td><td>172.31.181.85:1072468</td><td>True       </td><td>tax_genus         </td><td>abundance_topi     </td><td style=\"text-align: right;\">                10</td><td style=\"text-align: right;\">                  </td><td style=\"text-align: right;\">                  </td><td>alr             </td><td style=\"text-align: right;\">          8</td><td>0.2           </td><td style=\"text-align: right;\">0.430977  </td><td style=\"text-align: right;\">        0.0685056 </td><td style=\"text-align: right;\">         0.0489513 </td><td style=\"text-align: right;\">0.00894113 </td><td>rf     </td><td style=\"text-align: right;\">            80</td><td style=\"text-align: right;\">     1</td><td style=\"text-align: right;\">        0.453862</td><td style=\"text-align: right;\">  0.191533</td><td style=\"text-align: right;\">    0.184045</td><td style=\"text-align: right;\"> 0.393755  </td></tr>\n",
       "<tr><td>train_rf_c518c868</td><td>TERMINATED</td><td>172.31.181.85:1072579</td><td>True       </td><td>tax_genus         </td><td>abundance_topi     </td><td style=\"text-align: right;\">                10</td><td style=\"text-align: right;\">                  </td><td style=\"text-align: right;\">                  </td><td>alr             </td><td style=\"text-align: right;\">          8</td><td>0.2           </td><td style=\"text-align: right;\">0.412622  </td><td style=\"text-align: right;\">        0.0539386 </td><td style=\"text-align: right;\">         0.00614202</td><td style=\"text-align: right;\">0.00899878 </td><td>rf     </td><td style=\"text-align: right;\">            80</td><td style=\"text-align: right;\">     1</td><td style=\"text-align: right;\">        0.439521</td><td style=\"text-align: right;\">  0.191533</td><td style=\"text-align: right;\">    0.184045</td><td style=\"text-align: right;\"> 0.393755  </td></tr>\n",
       "<tr><td>train_rf_4e262d68</td><td>TERMINATED</td><td>172.31.181.85:1072843</td><td>True       </td><td>tax_genus         </td><td>abundance_topi     </td><td style=\"text-align: right;\">                10</td><td style=\"text-align: right;\">                  </td><td style=\"text-align: right;\">                  </td><td>alr             </td><td style=\"text-align: right;\">          8</td><td>0.2           </td><td style=\"text-align: right;\">0.408454  </td><td style=\"text-align: right;\">        0.0682406 </td><td style=\"text-align: right;\">         0.0478141 </td><td style=\"text-align: right;\">0.00850723 </td><td>rf     </td><td style=\"text-align: right;\">            80</td><td style=\"text-align: right;\">     1</td><td style=\"text-align: right;\">        0.451184</td><td style=\"text-align: right;\">  0.191533</td><td style=\"text-align: right;\">    0.184045</td><td style=\"text-align: right;\"> 0.393755  </td></tr>\n",
       "<tr><td>train_rf_ad9d2bdb</td><td>TERMINATED</td><td>172.31.181.85:1073004</td><td>True       </td><td>tax_genus         </td><td>abundance_topi     </td><td style=\"text-align: right;\">                10</td><td style=\"text-align: right;\">                  </td><td style=\"text-align: right;\">                  </td><td>alr             </td><td style=\"text-align: right;\">          8</td><td>0.2           </td><td style=\"text-align: right;\">0.432389  </td><td style=\"text-align: right;\">        0.0888884 </td><td style=\"text-align: right;\">         0.0244317 </td><td style=\"text-align: right;\">0.00854043 </td><td>rf     </td><td style=\"text-align: right;\">            80</td><td style=\"text-align: right;\">     1</td><td style=\"text-align: right;\">        0.444028</td><td style=\"text-align: right;\">  0.191533</td><td style=\"text-align: right;\">    0.184045</td><td style=\"text-align: right;\"> 0.393755  </td></tr>\n",
       "<tr><td>train_rf_4f3bb516</td><td>TERMINATED</td><td>172.31.181.85:1073126</td><td>True       </td><td>tax_genus         </td><td>abundance_topi     </td><td style=\"text-align: right;\">                10</td><td style=\"text-align: right;\">                  </td><td style=\"text-align: right;\">                  </td><td>alr             </td><td style=\"text-align: right;\">          8</td><td>0.2           </td><td style=\"text-align: right;\">0.418747  </td><td style=\"text-align: right;\">        0.0886994 </td><td style=\"text-align: right;\">         0.0483404 </td><td style=\"text-align: right;\">0.00809656 </td><td>rf     </td><td style=\"text-align: right;\">            80</td><td style=\"text-align: right;\">     1</td><td style=\"text-align: right;\">        0.445494</td><td style=\"text-align: right;\">  0.191533</td><td style=\"text-align: right;\">    0.184045</td><td style=\"text-align: right;\"> 0.393755  </td></tr>\n",
       "<tr><td>train_rf_79bb3254</td><td>TERMINATED</td><td>172.31.181.85:1073253</td><td>True       </td><td>tax_genus         </td><td>variance_threshold </td><td style=\"text-align: right;\">                  </td><td style=\"text-align: right;\">                  </td><td style=\"text-align: right;\">       3.69822e-05</td><td>alr             </td><td style=\"text-align: right;\">          8</td><td>0.2           </td><td style=\"text-align: right;\">0.432353  </td><td style=\"text-align: right;\">        0.068408  </td><td style=\"text-align: right;\">         0.0498695 </td><td style=\"text-align: right;\">0.00807577 </td><td>rf     </td><td style=\"text-align: right;\">            80</td><td style=\"text-align: right;\">     1</td><td style=\"text-align: right;\">        0.476818</td><td style=\"text-align: right;\">  0.202744</td><td style=\"text-align: right;\">    0.183928</td><td style=\"text-align: right;\"> 0.320707  </td></tr>\n",
       "<tr><td>train_rf_d9518e23</td><td>TERMINATED</td><td>172.31.181.85:1073367</td><td>True       </td><td>tax_genus         </td><td>variance_threshold </td><td style=\"text-align: right;\">                  </td><td style=\"text-align: right;\">                  </td><td style=\"text-align: right;\">       3.70438e-05</td><td>alr             </td><td style=\"text-align: right;\">          8</td><td>0.2           </td><td style=\"text-align: right;\">0.435193  </td><td style=\"text-align: right;\">        0.0906363 </td><td style=\"text-align: right;\">         0.0415924 </td><td style=\"text-align: right;\">0.00835826 </td><td>rf     </td><td style=\"text-align: right;\">            80</td><td style=\"text-align: right;\">     1</td><td style=\"text-align: right;\">        0.476261</td><td style=\"text-align: right;\">  0.202744</td><td style=\"text-align: right;\">    0.183928</td><td style=\"text-align: right;\"> 0.320707  </td></tr>\n",
       "<tr><td>train_rf_c64bf4d5</td><td>TERMINATED</td><td>172.31.181.85:1073494</td><td>True       </td><td>tax_genus         </td><td>variance_threshold </td><td style=\"text-align: right;\">                  </td><td style=\"text-align: right;\">                  </td><td style=\"text-align: right;\">       2.95181e-05</td><td>alr             </td><td style=\"text-align: right;\">          8</td><td>0.2           </td><td style=\"text-align: right;\">0.418596  </td><td style=\"text-align: right;\">        0.0877966 </td><td style=\"text-align: right;\">         0.0489777 </td><td style=\"text-align: right;\">0.00814072 </td><td>rf     </td><td style=\"text-align: right;\">            80</td><td style=\"text-align: right;\">     1</td><td style=\"text-align: right;\">        0.486661</td><td style=\"text-align: right;\">  0.250253</td><td style=\"text-align: right;\">    0.180034</td><td style=\"text-align: right;\">-0.0349515 </td></tr>\n",
       "<tr><td>train_rf_d2d678af</td><td>TERMINATED</td><td>172.31.181.85:1073624</td><td>True       </td><td>tax_genus         </td><td>variance_threshold </td><td style=\"text-align: right;\">                  </td><td style=\"text-align: right;\">                  </td><td style=\"text-align: right;\">       3.93829e-05</td><td>alr             </td><td style=\"text-align: right;\">          8</td><td>0.2           </td><td style=\"text-align: right;\">0.433386  </td><td style=\"text-align: right;\">        0.0865854 </td><td style=\"text-align: right;\">         0.0487649 </td><td style=\"text-align: right;\">0.00811025 </td><td>rf     </td><td style=\"text-align: right;\">            80</td><td style=\"text-align: right;\">     1</td><td style=\"text-align: right;\">        0.476885</td><td style=\"text-align: right;\">  0.202744</td><td style=\"text-align: right;\">    0.183928</td><td style=\"text-align: right;\"> 0.320707  </td></tr>\n",
       "<tr><td>train_rf_4a98f6b3</td><td>TERMINATED</td><td>172.31.181.85:1073763</td><td>True       </td><td>tax_genus         </td><td>variance_threshold </td><td style=\"text-align: right;\">                  </td><td style=\"text-align: right;\">                  </td><td style=\"text-align: right;\">       4.76743e-05</td><td>alr             </td><td style=\"text-align: right;\">          8</td><td>0.2           </td><td style=\"text-align: right;\">0.435723  </td><td style=\"text-align: right;\">        0.0915358 </td><td style=\"text-align: right;\">         0.0409269 </td><td style=\"text-align: right;\">0.00849567 </td><td>rf     </td><td style=\"text-align: right;\">            80</td><td style=\"text-align: right;\">     1</td><td style=\"text-align: right;\">        0.476159</td><td style=\"text-align: right;\">  0.202744</td><td style=\"text-align: right;\">    0.183928</td><td style=\"text-align: right;\"> 0.320707  </td></tr>\n",
       "<tr><td>train_rf_c436ab45</td><td>TERMINATED</td><td>172.31.181.85:1073875</td><td>True       </td><td>tax_genus         </td><td>variance_threshold </td><td style=\"text-align: right;\">                  </td><td style=\"text-align: right;\">                  </td><td style=\"text-align: right;\">       4.23278e-05</td><td>alr             </td><td style=\"text-align: right;\">          8</td><td>0.2           </td><td style=\"text-align: right;\">0.43424   </td><td style=\"text-align: right;\">        0.0901207 </td><td style=\"text-align: right;\">         0.0445321 </td><td style=\"text-align: right;\">0.00849946 </td><td>rf     </td><td style=\"text-align: right;\">            80</td><td style=\"text-align: right;\">     1</td><td style=\"text-align: right;\">        0.473046</td><td style=\"text-align: right;\">  0.202744</td><td style=\"text-align: right;\">    0.183928</td><td style=\"text-align: right;\"> 0.320707  </td></tr>\n",
       "<tr><td>train_rf_55d1d636</td><td>TERMINATED</td><td>172.31.181.85:1074039</td><td>True       </td><td>tax_genus         </td><td>variance_threshold </td><td style=\"text-align: right;\">                  </td><td style=\"text-align: right;\">                  </td><td style=\"text-align: right;\">       4.35891e-05</td><td>alr             </td><td style=\"text-align: right;\">          8</td><td>0.2           </td><td style=\"text-align: right;\">0.439625  </td><td style=\"text-align: right;\">        0.0906675 </td><td style=\"text-align: right;\">         0.041139  </td><td style=\"text-align: right;\">0.00841159 </td><td>rf     </td><td style=\"text-align: right;\">            80</td><td style=\"text-align: right;\">     1</td><td style=\"text-align: right;\">        0.472679</td><td style=\"text-align: right;\">  0.202744</td><td style=\"text-align: right;\">    0.183928</td><td style=\"text-align: right;\"> 0.320707  </td></tr>\n",
       "<tr><td>train_rf_8259e279</td><td>TERMINATED</td><td>172.31.181.85:1074148</td><td>True       </td><td>tax_genus         </td><td>variance_threshold </td><td style=\"text-align: right;\">                  </td><td style=\"text-align: right;\">                  </td><td style=\"text-align: right;\">       3.90502e-05</td><td>alr             </td><td style=\"text-align: right;\">          8</td><td>0.2           </td><td style=\"text-align: right;\">0.455328  </td><td style=\"text-align: right;\">        0.0675407 </td><td style=\"text-align: right;\">         0.0421512 </td><td style=\"text-align: right;\">0.00831531 </td><td>rf     </td><td style=\"text-align: right;\">            80</td><td style=\"text-align: right;\">     1</td><td style=\"text-align: right;\">        0.474886</td><td style=\"text-align: right;\">  0.202744</td><td style=\"text-align: right;\">    0.183928</td><td style=\"text-align: right;\"> 0.320707  </td></tr>\n",
       "<tr><td>train_rf_b33019d5</td><td>TERMINATED</td><td>172.31.181.85:1074260</td><td>True       </td><td>tax_genus         </td><td>variance_threshold </td><td style=\"text-align: right;\">                  </td><td style=\"text-align: right;\">                  </td><td style=\"text-align: right;\">       8.68871e-05</td><td>alr             </td><td style=\"text-align: right;\">          8</td><td>0.2           </td><td style=\"text-align: right;\">0.454935  </td><td style=\"text-align: right;\">        0.0686561 </td><td style=\"text-align: right;\">         0.0515316 </td><td style=\"text-align: right;\">0.00814217 </td><td>rf     </td><td style=\"text-align: right;\">            80</td><td style=\"text-align: right;\">     1</td><td style=\"text-align: right;\">        0.465043</td><td style=\"text-align: right;\">  0.221492</td><td style=\"text-align: right;\">    0.180074</td><td style=\"text-align: right;\"> 0.189269  </td></tr>\n",
       "<tr><td>train_rf_a7f6592c</td><td>TERMINATED</td><td>172.31.181.85:1074370</td><td>True       </td><td>tax_genus         </td><td>variance_threshold </td><td style=\"text-align: right;\">                  </td><td style=\"text-align: right;\">                  </td><td style=\"text-align: right;\">       0.000124255</td><td>alr             </td><td style=\"text-align: right;\">          8</td><td>0.2           </td><td style=\"text-align: right;\">0.417956  </td><td style=\"text-align: right;\">        0.0674443 </td><td style=\"text-align: right;\">         0.0498713 </td><td style=\"text-align: right;\">0.00780495 </td><td>rf     </td><td style=\"text-align: right;\">            80</td><td style=\"text-align: right;\">     1</td><td style=\"text-align: right;\">        0.447413</td><td style=\"text-align: right;\">  0.226048</td><td style=\"text-align: right;\">    0.184424</td><td style=\"text-align: right;\"> 0.15557   </td></tr>\n",
       "<tr><td>train_rf_a56b93d0</td><td>TERMINATED</td><td>172.31.181.85:1074484</td><td>True       </td><td>tax_genus         </td><td>variance_threshold </td><td style=\"text-align: right;\">                  </td><td style=\"text-align: right;\">                  </td><td style=\"text-align: right;\">       2.24739e-05</td><td>alr             </td><td style=\"text-align: right;\">          8</td><td>0.2           </td><td style=\"text-align: right;\">0.43333   </td><td style=\"text-align: right;\">        0.0780745 </td><td style=\"text-align: right;\">         0.058586  </td><td style=\"text-align: right;\">0.00851602 </td><td>rf     </td><td style=\"text-align: right;\">            80</td><td style=\"text-align: right;\">     1</td><td style=\"text-align: right;\">        0.49311 </td><td style=\"text-align: right;\">  0.242308</td><td style=\"text-align: right;\">    0.176285</td><td style=\"text-align: right;\"> 0.0297224 </td></tr>\n",
       "<tr><td>train_rf_894a919b</td><td>TERMINATED</td><td>172.31.181.85:1074730</td><td>True       </td><td>tax_genus         </td><td>variance_threshold </td><td style=\"text-align: right;\">                  </td><td style=\"text-align: right;\">                  </td><td style=\"text-align: right;\">       0.000158062</td><td>alr             </td><td style=\"text-align: right;\">          8</td><td>0.2           </td><td style=\"text-align: right;\">0.416545  </td><td style=\"text-align: right;\">        0.0777826 </td><td style=\"text-align: right;\">         0.0593559 </td><td style=\"text-align: right;\">0.00857753 </td><td>rf     </td><td style=\"text-align: right;\">            80</td><td style=\"text-align: right;\">     1</td><td style=\"text-align: right;\">        0.478301</td><td style=\"text-align: right;\">  0.226048</td><td style=\"text-align: right;\">    0.184424</td><td style=\"text-align: right;\"> 0.15557   </td></tr>\n",
       "<tr><td>train_rf_a011f3d1</td><td>TERMINATED</td><td>172.31.181.85:1074841</td><td>True       </td><td>tax_genus         </td><td>variance_threshold </td><td style=\"text-align: right;\">                  </td><td style=\"text-align: right;\">                  </td><td style=\"text-align: right;\">       0.000229676</td><td>alr             </td><td style=\"text-align: right;\">          8</td><td>0.2           </td><td style=\"text-align: right;\">0.392849  </td><td style=\"text-align: right;\">        0.0888703 </td><td style=\"text-align: right;\">         0.0459265 </td><td style=\"text-align: right;\">0.0088721  </td><td>rf     </td><td style=\"text-align: right;\">            60</td><td style=\"text-align: right;\">     1</td><td style=\"text-align: right;\">        0.420615</td><td style=\"text-align: right;\">  0.224018</td><td style=\"text-align: right;\">    0.19013 </td><td style=\"text-align: right;\"> 0.170673  </td></tr>\n",
       "<tr><td>train_rf_01cca397</td><td>TERMINATED</td><td>172.31.181.85:1075002</td><td>True       </td><td>tax_genus         </td><td>variance_threshold </td><td style=\"text-align: right;\">                  </td><td style=\"text-align: right;\">                  </td><td style=\"text-align: right;\">       2.07796e-05</td><td>alr             </td><td style=\"text-align: right;\">          8</td><td>0.2           </td><td style=\"text-align: right;\">0.401959  </td><td style=\"text-align: right;\">        0.0924708 </td><td style=\"text-align: right;\">         0.0696701 </td><td style=\"text-align: right;\">0.00887778 </td><td>rf     </td><td style=\"text-align: right;\">           100</td><td style=\"text-align: right;\">     1</td><td style=\"text-align: right;\">        0.541231</td><td style=\"text-align: right;\">  0.233312</td><td style=\"text-align: right;\">    0.175698</td><td style=\"text-align: right;\"> 0.100431  </td></tr>\n",
       "<tr><td>train_rf_781721a0</td><td>TERMINATED</td><td>172.31.181.85:1075112</td><td>True       </td><td>tax_genus         </td><td>variance_threshold </td><td style=\"text-align: right;\">                  </td><td style=\"text-align: right;\">                  </td><td style=\"text-align: right;\">       5.10073e-05</td><td>alr             </td><td style=\"text-align: right;\">          8</td><td>0.2           </td><td style=\"text-align: right;\">0.405609  </td><td style=\"text-align: right;\">        0.0934321 </td><td style=\"text-align: right;\">         0.0704696 </td><td style=\"text-align: right;\">0.00760683 </td><td>rf     </td><td style=\"text-align: right;\">           100</td><td style=\"text-align: right;\">     1</td><td style=\"text-align: right;\">        0.50761 </td><td style=\"text-align: right;\">  0.20913 </td><td style=\"text-align: right;\">    0.182435</td><td style=\"text-align: right;\"> 0.277242  </td></tr>\n",
       "<tr><td>train_rf_cb83b068</td><td>TERMINATED</td><td>172.31.181.85:1075226</td><td>True       </td><td>tax_genus         </td><td>variance_threshold </td><td style=\"text-align: right;\">                  </td><td style=\"text-align: right;\">                  </td><td style=\"text-align: right;\">       5.87816e-05</td><td>alr             </td><td style=\"text-align: right;\">           </td><td>0.2           </td><td style=\"text-align: right;\">0.43116   </td><td style=\"text-align: right;\">        0.00120228</td><td style=\"text-align: right;\">         0.0296412 </td><td style=\"text-align: right;\">0.00760833 </td><td>rf     </td><td style=\"text-align: right;\">           100</td><td style=\"text-align: right;\">     1</td><td style=\"text-align: right;\">        0.525592</td><td style=\"text-align: right;\">  0.211747</td><td style=\"text-align: right;\">    0.178265</td><td style=\"text-align: right;\"> 0.259036  </td></tr>\n",
       "<tr><td>train_rf_04368192</td><td>TERMINATED</td><td>172.31.181.85:1075335</td><td>True       </td><td>tax_genus         </td><td>variance_threshold </td><td style=\"text-align: right;\">                  </td><td style=\"text-align: right;\">                  </td><td style=\"text-align: right;\">       5.05817e-05</td><td>alr             </td><td style=\"text-align: right;\">          8</td><td>0.2           </td><td style=\"text-align: right;\">0.430963  </td><td style=\"text-align: right;\">        0.0999824 </td><td style=\"text-align: right;\">         0.0440432 </td><td style=\"text-align: right;\">0.00851859 </td><td>rf     </td><td style=\"text-align: right;\">            80</td><td style=\"text-align: right;\">     1</td><td style=\"text-align: right;\">        0.483944</td><td style=\"text-align: right;\">  0.208658</td><td style=\"text-align: right;\">    0.184408</td><td style=\"text-align: right;\"> 0.280498  </td></tr>\n",
       "<tr><td>train_rf_107b79c5</td><td>TERMINATED</td><td>172.31.181.85:1075519</td><td>True       </td><td>tax_genus         </td><td>variance_threshold </td><td style=\"text-align: right;\">                  </td><td style=\"text-align: right;\">                  </td><td style=\"text-align: right;\">       3.10278e-05</td><td>alr             </td><td style=\"text-align: right;\">          8</td><td>0.2           </td><td style=\"text-align: right;\">0.437254  </td><td style=\"text-align: right;\">        0.09996   </td><td style=\"text-align: right;\">         0.043859  </td><td style=\"text-align: right;\">0.00845378 </td><td>rf     </td><td style=\"text-align: right;\">            80</td><td style=\"text-align: right;\">     1</td><td style=\"text-align: right;\">        0.49357 </td><td style=\"text-align: right;\">  0.250253</td><td style=\"text-align: right;\">    0.180034</td><td style=\"text-align: right;\">-0.0349515 </td></tr>\n",
       "<tr><td>train_rf_36b48b1e</td><td>TERMINATED</td><td>172.31.181.85:1075721</td><td>True       </td><td>tax_genus         </td><td>variance_threshold </td><td style=\"text-align: right;\">                  </td><td style=\"text-align: right;\">                  </td><td style=\"text-align: right;\">       3.19941e-05</td><td>alr             </td><td style=\"text-align: right;\">          8</td><td>0.2           </td><td style=\"text-align: right;\">0.435179  </td><td style=\"text-align: right;\">        0.0854347 </td><td style=\"text-align: right;\">         0.0447876 </td><td style=\"text-align: right;\">0.00859788 </td><td>rf     </td><td style=\"text-align: right;\">            80</td><td style=\"text-align: right;\">     1</td><td style=\"text-align: right;\">        0.482736</td><td style=\"text-align: right;\">  0.250253</td><td style=\"text-align: right;\">    0.180034</td><td style=\"text-align: right;\">-0.0349515 </td></tr>\n",
       "<tr><td>train_rf_e6358023</td><td>TERMINATED</td><td>172.31.181.85:1075835</td><td>True       </td><td>tax_genus         </td><td>variance_threshold </td><td style=\"text-align: right;\">                  </td><td style=\"text-align: right;\">                  </td><td style=\"text-align: right;\">       3.42689e-05</td><td>alr             </td><td style=\"text-align: right;\">          8</td><td>0.2           </td><td style=\"text-align: right;\">0.440865  </td><td style=\"text-align: right;\">        0.084302  </td><td style=\"text-align: right;\">         0.0403192 </td><td style=\"text-align: right;\">0.00803887 </td><td>rf     </td><td style=\"text-align: right;\">            80</td><td style=\"text-align: right;\">     1</td><td style=\"text-align: right;\">        0.471669</td><td style=\"text-align: right;\">  0.202744</td><td style=\"text-align: right;\">    0.183928</td><td style=\"text-align: right;\"> 0.320707  </td></tr>\n",
       "<tr><td>train_rf_4bdb012c</td><td>TERMINATED</td><td>172.31.181.85:1075944</td><td>True       </td><td>tax_genus         </td><td>variance_threshold </td><td style=\"text-align: right;\">                  </td><td style=\"text-align: right;\">                  </td><td style=\"text-align: right;\">       1.65429e-05</td><td>alr             </td><td style=\"text-align: right;\">          8</td><td>0.2           </td><td style=\"text-align: right;\">0.44883   </td><td style=\"text-align: right;\">        0.0738204 </td><td style=\"text-align: right;\">         0.0409539 </td><td style=\"text-align: right;\">0.00796334 </td><td>rf     </td><td style=\"text-align: right;\">            80</td><td style=\"text-align: right;\">     1</td><td style=\"text-align: right;\">        0.504165</td><td style=\"text-align: right;\">  0.236118</td><td style=\"text-align: right;\">    0.1774  </td><td style=\"text-align: right;\"> 0.0786602 </td></tr>\n",
       "<tr><td>train_rf_55c703ed</td><td>TERMINATED</td><td>172.31.181.85:1076058</td><td>True       </td><td>tax_genus         </td><td>variance_threshold </td><td style=\"text-align: right;\">                  </td><td style=\"text-align: right;\">                  </td><td style=\"text-align: right;\">       1.66643e-05</td><td>alr             </td><td style=\"text-align: right;\">          8</td><td>0.2           </td><td style=\"text-align: right;\">0.453551  </td><td style=\"text-align: right;\">        0.0737004 </td><td style=\"text-align: right;\">         0.034571  </td><td style=\"text-align: right;\">0.00921491 </td><td>rf     </td><td style=\"text-align: right;\">            80</td><td style=\"text-align: right;\">     1</td><td style=\"text-align: right;\">        0.491893</td><td style=\"text-align: right;\">  0.236118</td><td style=\"text-align: right;\">    0.1774  </td><td style=\"text-align: right;\"> 0.0786602 </td></tr>\n",
       "<tr><td>train_rf_347f293a</td><td>TERMINATED</td><td>172.31.181.85:1076217</td><td>True       </td><td>tax_genus         </td><td>abundance_topi     </td><td style=\"text-align: right;\">                10</td><td style=\"text-align: right;\">                  </td><td style=\"text-align: right;\">                  </td><td>alr             </td><td style=\"text-align: right;\">          8</td><td>0.2           </td><td style=\"text-align: right;\">0.411661  </td><td style=\"text-align: right;\">        0.0545799 </td><td style=\"text-align: right;\">         0.0354453 </td><td style=\"text-align: right;\">0.00906512 </td><td>rf     </td><td style=\"text-align: right;\">            60</td><td style=\"text-align: right;\">     1</td><td style=\"text-align: right;\">        0.453179</td><td style=\"text-align: right;\">  0.191842</td><td style=\"text-align: right;\">    0.19007 </td><td style=\"text-align: right;\"> 0.391795  </td></tr>\n",
       "<tr><td>train_rf_4ba87764</td><td>TERMINATED</td><td>172.31.181.85:1076417</td><td>True       </td><td>tax_genus         </td><td>abundance_topi     </td><td style=\"text-align: right;\">                14</td><td style=\"text-align: right;\">                  </td><td style=\"text-align: right;\">                  </td><td>alr             </td><td style=\"text-align: right;\">          8</td><td>0.2           </td><td style=\"text-align: right;\">0.49743   </td><td style=\"text-align: right;\">        0.0548801 </td><td style=\"text-align: right;\">         0.0544582 </td><td style=\"text-align: right;\">0.00900469 </td><td>rf     </td><td style=\"text-align: right;\">            60</td><td style=\"text-align: right;\">     1</td><td style=\"text-align: right;\">        0.422326</td><td style=\"text-align: right;\">  0.208399</td><td style=\"text-align: right;\">    0.186324</td><td style=\"text-align: right;\"> 0.282286  </td></tr>\n",
       "<tr><td>train_rf_636a2dd3</td><td>TERMINATED</td><td>172.31.181.85:1076561</td><td>True       </td><td>tax_genus         </td><td>abundance_topi     </td><td style=\"text-align: right;\">                14</td><td style=\"text-align: right;\">                  </td><td style=\"text-align: right;\">                  </td><td>alr             </td><td style=\"text-align: right;\">          8</td><td>0.3           </td><td style=\"text-align: right;\">0.411455  </td><td style=\"text-align: right;\">        0.0563956 </td><td style=\"text-align: right;\">         0.025343  </td><td style=\"text-align: right;\">0.00899026 </td><td>rf     </td><td style=\"text-align: right;\">            60</td><td style=\"text-align: right;\">     1</td><td style=\"text-align: right;\">        0.431931</td><td style=\"text-align: right;\">  0.208399</td><td style=\"text-align: right;\">    0.186324</td><td style=\"text-align: right;\"> 0.282286  </td></tr>\n",
       "<tr><td>train_rf_4707f8d5</td><td>TERMINATED</td><td>172.31.181.85:1076683</td><td>True       </td><td>tax_genus         </td><td>abundance_topi     </td><td style=\"text-align: right;\">                10</td><td style=\"text-align: right;\">                  </td><td style=\"text-align: right;\">                  </td><td>alr             </td><td style=\"text-align: right;\">          8</td><td>0.3           </td><td style=\"text-align: right;\">0.383603  </td><td style=\"text-align: right;\">        0.0595287 </td><td style=\"text-align: right;\">         0.0259959 </td><td style=\"text-align: right;\">0.00449568 </td><td>rf     </td><td style=\"text-align: right;\">            60</td><td style=\"text-align: right;\">     1</td><td style=\"text-align: right;\">        0.413647</td><td style=\"text-align: right;\">  0.191842</td><td style=\"text-align: right;\">    0.19007 </td><td style=\"text-align: right;\"> 0.391795  </td></tr>\n",
       "<tr><td>train_rf_cdfc7e44</td><td>TERMINATED</td><td>172.31.181.85:1076836</td><td>True       </td><td>tax_genus         </td><td>abundance_topi     </td><td style=\"text-align: right;\">                10</td><td style=\"text-align: right;\">                  </td><td style=\"text-align: right;\">                  </td><td>alr             </td><td style=\"text-align: right;\">          8</td><td>0.2           </td><td style=\"text-align: right;\">0.109614  </td><td style=\"text-align: right;\">        0.0621967 </td><td style=\"text-align: right;\">         0.0356021 </td><td style=\"text-align: right;\">0.0081653  </td><td>rf     </td><td style=\"text-align: right;\">            80</td><td style=\"text-align: right;\">     1</td><td style=\"text-align: right;\">        0.443356</td><td style=\"text-align: right;\">  0.191533</td><td style=\"text-align: right;\">    0.184045</td><td style=\"text-align: right;\"> 0.393755  </td></tr>\n",
       "<tr><td>train_rf_48968876</td><td>TERMINATED</td><td>172.31.181.85:1076946</td><td>True       </td><td>tax_genus         </td><td>abundance_topi     </td><td style=\"text-align: right;\">                10</td><td style=\"text-align: right;\">                  </td><td style=\"text-align: right;\">                  </td><td>alr             </td><td style=\"text-align: right;\">          8</td><td>0.2           </td><td style=\"text-align: right;\">0.125202  </td><td style=\"text-align: right;\">        0.0626094 </td><td style=\"text-align: right;\">         0.0283106 </td><td style=\"text-align: right;\">0.00480586 </td><td>rf     </td><td style=\"text-align: right;\">            60</td><td style=\"text-align: right;\">     1</td><td style=\"text-align: right;\">        0.414491</td><td style=\"text-align: right;\">  0.191842</td><td style=\"text-align: right;\">    0.19007 </td><td style=\"text-align: right;\"> 0.391795  </td></tr>\n",
       "<tr><td>train_rf_6a0f77ad</td><td>TERMINATED</td><td>172.31.181.85:1077060</td><td>True       </td><td>tax_genus         </td><td>abundance_topi     </td><td style=\"text-align: right;\">                10</td><td style=\"text-align: right;\">                  </td><td style=\"text-align: right;\">                  </td><td>alr             </td><td style=\"text-align: right;\">          8</td><td>0.3           </td><td style=\"text-align: right;\">0.115004  </td><td style=\"text-align: right;\">        0.061763  </td><td style=\"text-align: right;\">         0.0300949 </td><td style=\"text-align: right;\">0.00476533 </td><td>rf     </td><td style=\"text-align: right;\">            60</td><td style=\"text-align: right;\">     1</td><td style=\"text-align: right;\">        0.444268</td><td style=\"text-align: right;\">  0.191842</td><td style=\"text-align: right;\">    0.19007 </td><td style=\"text-align: right;\"> 0.391795  </td></tr>\n",
       "<tr><td>train_rf_07977e84</td><td>TERMINATED</td><td>172.31.181.85:1077257</td><td>True       </td><td>tax_genus         </td><td>abundance_topi     </td><td style=\"text-align: right;\">                10</td><td style=\"text-align: right;\">                  </td><td style=\"text-align: right;\">                  </td><td>alr             </td><td style=\"text-align: right;\">          8</td><td>0.2           </td><td style=\"text-align: right;\">0.0863446 </td><td style=\"text-align: right;\">        0.0609405 </td><td style=\"text-align: right;\">         0.02958   </td><td style=\"text-align: right;\">0.00491074 </td><td>rf     </td><td style=\"text-align: right;\">            60</td><td style=\"text-align: right;\">     1</td><td style=\"text-align: right;\">        0.424413</td><td style=\"text-align: right;\">  0.191842</td><td style=\"text-align: right;\">    0.19007 </td><td style=\"text-align: right;\"> 0.391795  </td></tr>\n",
       "<tr><td>train_rf_1d6622aa</td><td>TERMINATED</td><td>172.31.181.85:1077442</td><td>True       </td><td>tax_genus         </td><td>abundance_topi     </td><td style=\"text-align: right;\">                10</td><td style=\"text-align: right;\">                  </td><td style=\"text-align: right;\">                  </td><td>alr             </td><td style=\"text-align: right;\">          8</td><td>0.3           </td><td style=\"text-align: right;\">0.101291  </td><td style=\"text-align: right;\">        0.0599019 </td><td style=\"text-align: right;\">         0.0293441 </td><td style=\"text-align: right;\">0.00500466 </td><td>rf     </td><td style=\"text-align: right;\">            60</td><td style=\"text-align: right;\">     1</td><td style=\"text-align: right;\">        0.417934</td><td style=\"text-align: right;\">  0.191842</td><td style=\"text-align: right;\">    0.19007 </td><td style=\"text-align: right;\"> 0.391795  </td></tr>\n",
       "<tr><td>train_rf_b14cdc69</td><td>TERMINATED</td><td>172.31.181.85:1077562</td><td>True       </td><td>tax_genus         </td><td>abundance_topi     </td><td style=\"text-align: right;\">                10</td><td style=\"text-align: right;\">                  </td><td style=\"text-align: right;\">                  </td><td>alr             </td><td style=\"text-align: right;\">          8</td><td>0.3           </td><td style=\"text-align: right;\">0.103387  </td><td style=\"text-align: right;\">        0.060746  </td><td style=\"text-align: right;\">         0.029207  </td><td style=\"text-align: right;\">0.0050325  </td><td>rf     </td><td style=\"text-align: right;\">            60</td><td style=\"text-align: right;\">     1</td><td style=\"text-align: right;\">        0.426955</td><td style=\"text-align: right;\">  0.191842</td><td style=\"text-align: right;\">    0.19007 </td><td style=\"text-align: right;\"> 0.391795  </td></tr>\n",
       "<tr><td>train_rf_9b8e1281</td><td>TERMINATED</td><td>172.31.181.85:1077672</td><td>True       </td><td>tax_genus         </td><td>abundance_topi     </td><td style=\"text-align: right;\">                10</td><td style=\"text-align: right;\">                  </td><td style=\"text-align: right;\">                  </td><td>alr             </td><td style=\"text-align: right;\">          8</td><td>0.3           </td><td style=\"text-align: right;\">0.0539627 </td><td style=\"text-align: right;\">        0.0604775 </td><td style=\"text-align: right;\">         0.0296437 </td><td style=\"text-align: right;\">0.0049592  </td><td>rf     </td><td style=\"text-align: right;\">            60</td><td style=\"text-align: right;\">     1</td><td style=\"text-align: right;\">        0.419756</td><td style=\"text-align: right;\">  0.191842</td><td style=\"text-align: right;\">    0.19007 </td><td style=\"text-align: right;\"> 0.391795  </td></tr>\n",
       "<tr><td>train_rf_b9b2fc97</td><td>TERMINATED</td><td>172.31.181.85:1077787</td><td>True       </td><td>tax_genus         </td><td>abundance_topi     </td><td style=\"text-align: right;\">                10</td><td style=\"text-align: right;\">                  </td><td style=\"text-align: right;\">                  </td><td>alr             </td><td style=\"text-align: right;\">          8</td><td>0.3           </td><td style=\"text-align: right;\">0.115421  </td><td style=\"text-align: right;\">        0.0528847 </td><td style=\"text-align: right;\">         0.0278802 </td><td style=\"text-align: right;\">0.00503061 </td><td>rf     </td><td style=\"text-align: right;\">            60</td><td style=\"text-align: right;\">     1</td><td style=\"text-align: right;\">        0.413556</td><td style=\"text-align: right;\">  0.191842</td><td style=\"text-align: right;\">    0.19007 </td><td style=\"text-align: right;\"> 0.391795  </td></tr>\n",
       "<tr><td>train_rf_23f21b7b</td><td>TERMINATED</td><td>172.31.181.85:1077902</td><td>True       </td><td>tax_genus         </td><td>abundance_topi     </td><td style=\"text-align: right;\">                10</td><td style=\"text-align: right;\">                  </td><td style=\"text-align: right;\">                  </td><td>alr             </td><td style=\"text-align: right;\">          8</td><td>0.3           </td><td style=\"text-align: right;\">0.116838  </td><td style=\"text-align: right;\">        0.0523052 </td><td style=\"text-align: right;\">         0.0245997 </td><td style=\"text-align: right;\">0.00465065 </td><td>rf     </td><td style=\"text-align: right;\">            60</td><td style=\"text-align: right;\">     1</td><td style=\"text-align: right;\">        0.412134</td><td style=\"text-align: right;\">  0.191842</td><td style=\"text-align: right;\">    0.19007 </td><td style=\"text-align: right;\"> 0.391795  </td></tr>\n",
       "<tr><td>train_rf_da133330</td><td>TERMINATED</td><td>172.31.181.85:1078139</td><td>True       </td><td>tax_genus         </td><td>abundance_topi     </td><td style=\"text-align: right;\">                10</td><td style=\"text-align: right;\">                  </td><td style=\"text-align: right;\">                  </td><td>alr             </td><td style=\"text-align: right;\">          8</td><td>0.3           </td><td style=\"text-align: right;\">0.113728  </td><td style=\"text-align: right;\">        0.0611968 </td><td style=\"text-align: right;\">         0.0243616 </td><td style=\"text-align: right;\">0.00462924 </td><td>rf     </td><td style=\"text-align: right;\">            60</td><td style=\"text-align: right;\">     1</td><td style=\"text-align: right;\">        0.419425</td><td style=\"text-align: right;\">  0.191842</td><td style=\"text-align: right;\">    0.19007 </td><td style=\"text-align: right;\"> 0.391795  </td></tr>\n",
       "<tr><td>train_rf_42ac00ce</td><td>TERMINATED</td><td>172.31.181.85:1078316</td><td>True       </td><td>tax_genus         </td><td>abundance_topi     </td><td style=\"text-align: right;\">                10</td><td style=\"text-align: right;\">                  </td><td style=\"text-align: right;\">                  </td><td>alr             </td><td style=\"text-align: right;\">          8</td><td>0.3           </td><td style=\"text-align: right;\">0.0558008 </td><td style=\"text-align: right;\">        0.0625182 </td><td style=\"text-align: right;\">         0.0309446 </td><td style=\"text-align: right;\">0.00559689 </td><td>rf     </td><td style=\"text-align: right;\">            60</td><td style=\"text-align: right;\">     1</td><td style=\"text-align: right;\">        0.416465</td><td style=\"text-align: right;\">  0.191842</td><td style=\"text-align: right;\">    0.19007 </td><td style=\"text-align: right;\"> 0.391795  </td></tr>\n",
       "<tr><td>train_rf_d3806020</td><td>TERMINATED</td><td>172.31.181.85:1078431</td><td>True       </td><td>tax_genus         </td><td>abundance_topi     </td><td style=\"text-align: right;\">                10</td><td style=\"text-align: right;\">                  </td><td style=\"text-align: right;\">                  </td><td>alr             </td><td style=\"text-align: right;\">          8</td><td>0.3           </td><td style=\"text-align: right;\">0.0780667 </td><td style=\"text-align: right;\">        0.0584407 </td><td style=\"text-align: right;\">         0.0296423 </td><td style=\"text-align: right;\">0.00474648 </td><td>rf     </td><td style=\"text-align: right;\">            60</td><td style=\"text-align: right;\">     1</td><td style=\"text-align: right;\">        0.419926</td><td style=\"text-align: right;\">  0.191842</td><td style=\"text-align: right;\">    0.19007 </td><td style=\"text-align: right;\"> 0.391795  </td></tr>\n",
       "<tr><td>train_rf_640a7e04</td><td>TERMINATED</td><td>172.31.181.85:1078551</td><td>True       </td><td>tax_genus         </td><td>abundance_topi     </td><td style=\"text-align: right;\">                10</td><td style=\"text-align: right;\">                  </td><td style=\"text-align: right;\">                  </td><td>alr             </td><td style=\"text-align: right;\">          8</td><td>0.3           </td><td style=\"text-align: right;\">0.0855083 </td><td style=\"text-align: right;\">        0.0609235 </td><td style=\"text-align: right;\">         0.0278378 </td><td style=\"text-align: right;\">0.00480697 </td><td>rf     </td><td style=\"text-align: right;\">            60</td><td style=\"text-align: right;\">     1</td><td style=\"text-align: right;\">        0.414122</td><td style=\"text-align: right;\">  0.191842</td><td style=\"text-align: right;\">    0.19007 </td><td style=\"text-align: right;\"> 0.391795  </td></tr>\n",
       "<tr><td>train_rf_d0fcedd8</td><td>TERMINATED</td><td>172.31.181.85:1078706</td><td>True       </td><td>tax_genus         </td><td>abundance_topi     </td><td style=\"text-align: right;\">                10</td><td style=\"text-align: right;\">                  </td><td style=\"text-align: right;\">                  </td><td>alr             </td><td style=\"text-align: right;\">          8</td><td>0.3           </td><td style=\"text-align: right;\">0.0843411 </td><td style=\"text-align: right;\">        0.0465361 </td><td style=\"text-align: right;\">         0.0340217 </td><td style=\"text-align: right;\">0.00515043 </td><td>rf     </td><td style=\"text-align: right;\">            60</td><td style=\"text-align: right;\">     1</td><td style=\"text-align: right;\">        0.421126</td><td style=\"text-align: right;\">  0.191842</td><td style=\"text-align: right;\">    0.19007 </td><td style=\"text-align: right;\"> 0.391795  </td></tr>\n",
       "<tr><td>train_rf_26a919da</td><td>TERMINATED</td><td>172.31.181.85:1078833</td><td>True       </td><td>tax_genus         </td><td>abundance_topi     </td><td style=\"text-align: right;\">                11</td><td style=\"text-align: right;\">                  </td><td style=\"text-align: right;\">                  </td><td>alr             </td><td style=\"text-align: right;\">          8</td><td>0.3           </td><td style=\"text-align: right;\">0.128541  </td><td style=\"text-align: right;\">        0.0447799 </td><td style=\"text-align: right;\">         0.0365366 </td><td style=\"text-align: right;\">0.00517555 </td><td>rf     </td><td style=\"text-align: right;\">            60</td><td style=\"text-align: right;\">     1</td><td style=\"text-align: right;\">        0.423399</td><td style=\"text-align: right;\">  0.209167</td><td style=\"text-align: right;\">    0.185652</td><td style=\"text-align: right;\"> 0.276986  </td></tr>\n",
       "<tr><td>train_rf_410fcd0a</td><td>TERMINATED</td><td>172.31.181.85:1079049</td><td>True       </td><td>tax_genus         </td><td>abundance_topi     </td><td style=\"text-align: right;\">                11</td><td style=\"text-align: right;\">                  </td><td style=\"text-align: right;\">                  </td><td>alr             </td><td style=\"text-align: right;\">          8</td><td>0.3           </td><td style=\"text-align: right;\">0.132232  </td><td style=\"text-align: right;\">        0.0437947 </td><td style=\"text-align: right;\">         0.0354447 </td><td style=\"text-align: right;\">0.00451048 </td><td>rf     </td><td style=\"text-align: right;\">            60</td><td style=\"text-align: right;\">     1</td><td style=\"text-align: right;\">        0.42459 </td><td style=\"text-align: right;\">  0.209167</td><td style=\"text-align: right;\">    0.185652</td><td style=\"text-align: right;\"> 0.276986  </td></tr>\n",
       "<tr><td>train_rf_baa43d09</td><td>TERMINATED</td><td>172.31.181.85:1079211</td><td>True       </td><td>tax_genus         </td><td>abundance_topi     </td><td style=\"text-align: right;\">                11</td><td style=\"text-align: right;\">                  </td><td style=\"text-align: right;\">                  </td><td>alr             </td><td style=\"text-align: right;\">          8</td><td>0.3           </td><td style=\"text-align: right;\">0.125665  </td><td style=\"text-align: right;\">        0.0643959 </td><td style=\"text-align: right;\">         0.0206331 </td><td style=\"text-align: right;\">0.00397777 </td><td>rf     </td><td style=\"text-align: right;\">            60</td><td style=\"text-align: right;\">     1</td><td style=\"text-align: right;\">        0.425958</td><td style=\"text-align: right;\">  0.209167</td><td style=\"text-align: right;\">    0.185652</td><td style=\"text-align: right;\"> 0.276986  </td></tr>\n",
       "<tr><td>train_rf_58b45e36</td><td>TERMINATED</td><td>172.31.181.85:1079325</td><td>True       </td><td>tax_genus         </td><td>abundance_topi     </td><td style=\"text-align: right;\">                 9</td><td style=\"text-align: right;\">                  </td><td style=\"text-align: right;\">                  </td><td>alr             </td><td style=\"text-align: right;\">          4</td><td>0.3           </td><td style=\"text-align: right;\">0.0500186 </td><td style=\"text-align: right;\">        0.0657598 </td><td style=\"text-align: right;\">         0.0208085 </td><td style=\"text-align: right;\">0.00561577 </td><td>rf     </td><td style=\"text-align: right;\">            60</td><td style=\"text-align: right;\">     1</td><td style=\"text-align: right;\">        0.403187</td><td style=\"text-align: right;\">  0.230897</td><td style=\"text-align: right;\">    0.275398</td><td style=\"text-align: right;\"> 0.118951  </td></tr>\n",
       "<tr><td>train_rf_d95156da</td><td>TERMINATED</td><td>172.31.181.85:1079438</td><td>True       </td><td>tax_genus         </td><td>abundance_topi     </td><td style=\"text-align: right;\">                 9</td><td style=\"text-align: right;\">                  </td><td style=\"text-align: right;\">                  </td><td>alr             </td><td style=\"text-align: right;\">          4</td><td>0.3           </td><td style=\"text-align: right;\">0.064449  </td><td style=\"text-align: right;\">        0.0542165 </td><td style=\"text-align: right;\">         0.0270724 </td><td style=\"text-align: right;\">0.00351458 </td><td>rf     </td><td style=\"text-align: right;\">            40</td><td style=\"text-align: right;\">     1</td><td style=\"text-align: right;\">        0.383792</td><td style=\"text-align: right;\">  0.235626</td><td style=\"text-align: right;\">    0.281254</td><td style=\"text-align: right;\"> 0.0824952 </td></tr>\n",
       "<tr><td>train_rf_f101b4f1</td><td>TERMINATED</td><td>172.31.181.85:1079592</td><td>True       </td><td>tax_genus         </td><td>abundance_topi     </td><td style=\"text-align: right;\">                 9</td><td style=\"text-align: right;\">                  </td><td style=\"text-align: right;\">                  </td><td>alr             </td><td style=\"text-align: right;\">         32</td><td>0.3           </td><td style=\"text-align: right;\">0.0643857 </td><td style=\"text-align: right;\">        0.0495946 </td><td style=\"text-align: right;\">         0.026254  </td><td style=\"text-align: right;\">0.00446748 </td><td>rf     </td><td style=\"text-align: right;\">            40</td><td style=\"text-align: right;\">     1</td><td style=\"text-align: right;\">        0.396174</td><td style=\"text-align: right;\">  0.223726</td><td style=\"text-align: right;\">    0.1861  </td><td style=\"text-align: right;\"> 0.172833  </td></tr>\n",
       "<tr><td>train_rf_b879f99f</td><td>TERMINATED</td><td>172.31.181.85:1079826</td><td>True       </td><td>tax_genus         </td><td>abundance_topi     </td><td style=\"text-align: right;\">                10</td><td style=\"text-align: right;\">                  </td><td style=\"text-align: right;\">                  </td><td>alr             </td><td style=\"text-align: right;\">          8</td><td>0.3           </td><td style=\"text-align: right;\">0.102945  </td><td style=\"text-align: right;\">        0.0495038 </td><td style=\"text-align: right;\">         0.0289116 </td><td style=\"text-align: right;\">0.00495067 </td><td>rf     </td><td style=\"text-align: right;\">            60</td><td style=\"text-align: right;\">     1</td><td style=\"text-align: right;\">        0.413429</td><td style=\"text-align: right;\">  0.191842</td><td style=\"text-align: right;\">    0.19007 </td><td style=\"text-align: right;\"> 0.391795  </td></tr>\n",
       "<tr><td>train_rf_13b93e7b</td><td>TERMINATED</td><td>172.31.181.85:1079960</td><td>True       </td><td>tax_genus         </td><td>abundance_topi     </td><td style=\"text-align: right;\">                10</td><td style=\"text-align: right;\">                  </td><td style=\"text-align: right;\">                  </td><td>alr             </td><td style=\"text-align: right;\">          8</td><td>0.3           </td><td style=\"text-align: right;\">0.0963199 </td><td style=\"text-align: right;\">        0.0503604 </td><td style=\"text-align: right;\">         0.0281975 </td><td style=\"text-align: right;\">0.00488313 </td><td>rf     </td><td style=\"text-align: right;\">            60</td><td style=\"text-align: right;\">     1</td><td style=\"text-align: right;\">        0.41444 </td><td style=\"text-align: right;\">  0.191842</td><td style=\"text-align: right;\">    0.19007 </td><td style=\"text-align: right;\"> 0.391795  </td></tr>\n",
       "<tr><td>train_rf_2a5cfd4d</td><td>TERMINATED</td><td>172.31.181.85:1080084</td><td>True       </td><td>tax_genus         </td><td>abundance_topi     </td><td style=\"text-align: right;\">                10</td><td style=\"text-align: right;\">                  </td><td style=\"text-align: right;\">                  </td><td>alr             </td><td style=\"text-align: right;\">          8</td><td>0.3           </td><td style=\"text-align: right;\">0.102484  </td><td style=\"text-align: right;\">        0.0551309 </td><td style=\"text-align: right;\">         0.0229756 </td><td style=\"text-align: right;\">0.00532658 </td><td>rf     </td><td style=\"text-align: right;\">            60</td><td style=\"text-align: right;\">     1</td><td style=\"text-align: right;\">        0.430071</td><td style=\"text-align: right;\">  0.191842</td><td style=\"text-align: right;\">    0.19007 </td><td style=\"text-align: right;\"> 0.391795  </td></tr>\n",
       "<tr><td>train_rf_5ae953f3</td><td>TERMINATED</td><td>172.31.181.85:1080259</td><td>True       </td><td>tax_genus         </td><td>abundance_topi     </td><td style=\"text-align: right;\">                11</td><td style=\"text-align: right;\">                  </td><td style=\"text-align: right;\">                  </td><td>alr             </td><td style=\"text-align: right;\">          8</td><td>0.3           </td><td style=\"text-align: right;\">0.0260677 </td><td style=\"text-align: right;\">        0.0559734 </td><td style=\"text-align: right;\">         0.02305   </td><td style=\"text-align: right;\">0.00224849 </td><td>rf     </td><td style=\"text-align: right;\">            60</td><td style=\"text-align: right;\">     1</td><td style=\"text-align: right;\">        0.425968</td><td style=\"text-align: right;\">  0.209167</td><td style=\"text-align: right;\">    0.185652</td><td style=\"text-align: right;\"> 0.276986  </td></tr>\n",
       "<tr><td>train_rf_957fb662</td><td>TERMINATED</td><td>172.31.181.85:1080380</td><td>True       </td><td>tax_genus         </td><td>abundance_topi     </td><td style=\"text-align: right;\">                11</td><td style=\"text-align: right;\">                  </td><td style=\"text-align: right;\">                  </td><td>alr             </td><td style=\"text-align: right;\">          8</td><td>0.3           </td><td style=\"text-align: right;\">0.106341  </td><td style=\"text-align: right;\">        0.0573936 </td><td style=\"text-align: right;\">         0.0324457 </td><td style=\"text-align: right;\">0.00510568 </td><td>rf     </td><td style=\"text-align: right;\">            60</td><td style=\"text-align: right;\">     1</td><td style=\"text-align: right;\">        0.447493</td><td style=\"text-align: right;\">  0.209167</td><td style=\"text-align: right;\">    0.185652</td><td style=\"text-align: right;\"> 0.276986  </td></tr>\n",
       "<tr><td>train_rf_125445eb</td><td>TERMINATED</td><td>172.31.181.85:1080500</td><td>True       </td><td>tax_genus         </td><td>abundance_topi     </td><td style=\"text-align: right;\">                 9</td><td style=\"text-align: right;\">                  </td><td style=\"text-align: right;\">                  </td><td>alr             </td><td style=\"text-align: right;\">          8</td><td>0.3           </td><td style=\"text-align: right;\">0.114067  </td><td style=\"text-align: right;\">        0.00919399</td><td style=\"text-align: right;\">         0.0335354 </td><td style=\"text-align: right;\">0.00505758 </td><td>rf     </td><td style=\"text-align: right;\">            60</td><td style=\"text-align: right;\">     1</td><td style=\"text-align: right;\">        0.459533</td><td style=\"text-align: right;\">  0.216001</td><td style=\"text-align: right;\">    0.192138</td><td style=\"text-align: right;\"> 0.228967  </td></tr>\n",
       "<tr><td>train_rf_b6cd846a</td><td>TERMINATED</td><td>172.31.181.85:1080647</td><td>True       </td><td>tax_genus         </td><td>abundance_topi     </td><td style=\"text-align: right;\">                 9</td><td style=\"text-align: right;\">                  </td><td style=\"text-align: right;\">                  </td><td>clr             </td><td style=\"text-align: right;\">          8</td><td>0.1           </td><td style=\"text-align: right;\">0.134664  </td><td style=\"text-align: right;\">        0.069712  </td><td style=\"text-align: right;\">         0.0312666 </td><td style=\"text-align: right;\">0.00498544 </td><td>rf     </td><td style=\"text-align: right;\">            60</td><td style=\"text-align: right;\">     1</td><td style=\"text-align: right;\">        0.415421</td><td style=\"text-align: right;\">  0.294067</td><td style=\"text-align: right;\">    0.185551</td><td style=\"text-align: right;\">-0.429073  </td></tr>\n",
       "<tr><td>train_rf_f754e0f2</td><td>TERMINATED</td><td>172.31.181.85:1080801</td><td>True       </td><td>tax_genus         </td><td>abundance_topi     </td><td style=\"text-align: right;\">                 9</td><td style=\"text-align: right;\">                  </td><td style=\"text-align: right;\">                  </td><td>clr             </td><td style=\"text-align: right;\">           </td><td>sqrt          </td><td style=\"text-align: right;\">0.140704  </td><td style=\"text-align: right;\">        0.00440685</td><td style=\"text-align: right;\">         0.0335927 </td><td style=\"text-align: right;\">0.00574431 </td><td>rf     </td><td style=\"text-align: right;\">            60</td><td style=\"text-align: right;\">     1</td><td style=\"text-align: right;\">        0.425539</td><td style=\"text-align: right;\">  0.301467</td><td style=\"text-align: right;\">    0.175502</td><td style=\"text-align: right;\">-0.501898  </td></tr>\n",
       "<tr><td>train_rf_76d353f6</td><td>TERMINATED</td><td>172.31.181.85:1080914</td><td>True       </td><td>                  </td><td>abundance_topi     </td><td style=\"text-align: right;\">                10</td><td style=\"text-align: right;\">                  </td><td style=\"text-align: right;\">                  </td><td>alr             </td><td style=\"text-align: right;\">           </td><td>log2          </td><td style=\"text-align: right;\">0.380398  </td><td style=\"text-align: right;\">        0.00439061</td><td style=\"text-align: right;\">         0.0256411 </td><td style=\"text-align: right;\">0.00407081 </td><td>rf     </td><td style=\"text-align: right;\">            60</td><td style=\"text-align: right;\">     1</td><td style=\"text-align: right;\">        0.228606</td><td style=\"text-align: right;\">  0.352898</td><td style=\"text-align: right;\">    0.182841</td><td style=\"text-align: right;\">-1.05806   </td></tr>\n",
       "<tr><td>train_rf_3f10030f</td><td>TERMINATED</td><td>172.31.181.85:1081023</td><td>True       </td><td>                  </td><td>abundance_topi     </td><td style=\"text-align: right;\">                10</td><td style=\"text-align: right;\">                  </td><td style=\"text-align: right;\">                  </td><td>alr             </td><td style=\"text-align: right;\">          8</td><td>log2          </td><td style=\"text-align: right;\">0.383991  </td><td style=\"text-align: right;\">        0.0774775 </td><td style=\"text-align: right;\">         0.029547  </td><td style=\"text-align: right;\">0.00449131 </td><td>rf     </td><td style=\"text-align: right;\">            60</td><td style=\"text-align: right;\">     1</td><td style=\"text-align: right;\">        0.349597</td><td style=\"text-align: right;\">  0.353926</td><td style=\"text-align: right;\">    0.19164 </td><td style=\"text-align: right;\">-1.07007   </td></tr>\n",
       "<tr><td>train_rf_3051b307</td><td>TERMINATED</td><td>172.31.181.85:1081136</td><td>True       </td><td>tax_genus         </td><td>abundance_topi     </td><td style=\"text-align: right;\">                10</td><td style=\"text-align: right;\">                  </td><td style=\"text-align: right;\">                  </td><td>alr             </td><td style=\"text-align: right;\">          8</td><td>0.3           </td><td style=\"text-align: right;\">0.111939  </td><td style=\"text-align: right;\">        0.0622441 </td><td style=\"text-align: right;\">         0.0237466 </td><td style=\"text-align: right;\">0.00449274 </td><td>rf     </td><td style=\"text-align: right;\">            60</td><td style=\"text-align: right;\">     1</td><td style=\"text-align: right;\">        0.452017</td><td style=\"text-align: right;\">  0.191842</td><td style=\"text-align: right;\">    0.19007 </td><td style=\"text-align: right;\"> 0.391795  </td></tr>\n",
       "<tr><td>train_rf_7c9ec678</td><td>TERMINATED</td><td>172.31.181.85:1081385</td><td>True       </td><td>tax_genus         </td><td>abundance_topi     </td><td style=\"text-align: right;\">                10</td><td style=\"text-align: right;\">                  </td><td style=\"text-align: right;\">                  </td><td>alr             </td><td style=\"text-align: right;\">          8</td><td>0.3           </td><td style=\"text-align: right;\">0.118619  </td><td style=\"text-align: right;\">        0.0637305 </td><td style=\"text-align: right;\">         0.0242248 </td><td style=\"text-align: right;\">0.00467541 </td><td>rf     </td><td style=\"text-align: right;\">            60</td><td style=\"text-align: right;\">     1</td><td style=\"text-align: right;\">        0.536526</td><td style=\"text-align: right;\">  0.191842</td><td style=\"text-align: right;\">    0.19007 </td><td style=\"text-align: right;\"> 0.391795  </td></tr>\n",
       "<tr><td>train_rf_1fcace6b</td><td>TERMINATED</td><td>172.31.181.85:1081549</td><td>True       </td><td>tax_genus         </td><td>abundance_topi     </td><td style=\"text-align: right;\">                10</td><td style=\"text-align: right;\">                  </td><td style=\"text-align: right;\">                  </td><td>alr             </td><td style=\"text-align: right;\">          8</td><td>0.3           </td><td style=\"text-align: right;\">0.122534  </td><td style=\"text-align: right;\">        0.0523142 </td><td style=\"text-align: right;\">         0.0267459 </td><td style=\"text-align: right;\">0.00472124 </td><td>rf     </td><td style=\"text-align: right;\">            60</td><td style=\"text-align: right;\">     1</td><td style=\"text-align: right;\">        0.419735</td><td style=\"text-align: right;\">  0.191842</td><td style=\"text-align: right;\">    0.19007 </td><td style=\"text-align: right;\"> 0.391795  </td></tr>\n",
       "<tr><td>train_rf_5e59dde3</td><td>TERMINATED</td><td>172.31.181.85:1081660</td><td>True       </td><td>tax_genus         </td><td>abundance_topi     </td><td style=\"text-align: right;\">                10</td><td style=\"text-align: right;\">                  </td><td style=\"text-align: right;\">                  </td><td>alr             </td><td style=\"text-align: right;\">          8</td><td>0.3           </td><td style=\"text-align: right;\">0.075874  </td><td style=\"text-align: right;\">        0.0691143 </td><td style=\"text-align: right;\">         0.0256604 </td><td style=\"text-align: right;\">0.00542155 </td><td>rf     </td><td style=\"text-align: right;\">           140</td><td style=\"text-align: right;\">     1</td><td style=\"text-align: right;\">        0.610348</td><td style=\"text-align: right;\">  0.204932</td><td style=\"text-align: right;\">    0.180112</td><td style=\"text-align: right;\"> 0.305965  </td></tr>\n",
       "<tr><td>train_rf_c890b5c6</td><td>TERMINATED</td><td>172.31.181.85:1081770</td><td>True       </td><td>tax_genus         </td><td>abundance_topi     </td><td style=\"text-align: right;\">                11</td><td style=\"text-align: right;\">                  </td><td style=\"text-align: right;\">                  </td><td>alr             </td><td style=\"text-align: right;\">          8</td><td>0.3           </td><td style=\"text-align: right;\">0.153654  </td><td style=\"text-align: right;\">        0.0712404 </td><td style=\"text-align: right;\">         0.0373404 </td><td style=\"text-align: right;\">0.00537516 </td><td>rf     </td><td style=\"text-align: right;\">            60</td><td style=\"text-align: right;\">     1</td><td style=\"text-align: right;\">        0.423565</td><td style=\"text-align: right;\">  0.209167</td><td style=\"text-align: right;\">    0.185652</td><td style=\"text-align: right;\"> 0.276986  </td></tr>\n",
       "<tr><td>train_rf_be3a165d</td><td>TERMINATED</td><td>172.31.181.85:1081883</td><td>True       </td><td>tax_genus         </td><td>abundance_ith      </td><td style=\"text-align: right;\">                11</td><td style=\"text-align: right;\">                  </td><td style=\"text-align: right;\">                  </td><td>ilr             </td><td style=\"text-align: right;\">          8</td><td>0.2           </td><td style=\"text-align: right;\">0.0400626 </td><td style=\"text-align: right;\">        0.0420971 </td><td style=\"text-align: right;\">         0.0186546 </td><td style=\"text-align: right;\">0.0042034  </td><td>rf     </td><td style=\"text-align: right;\">            40</td><td style=\"text-align: right;\">     1</td><td style=\"text-align: right;\">        0.454862</td><td style=\"text-align: right;\">  0.216916</td><td style=\"text-align: right;\">    0.19278 </td><td style=\"text-align: right;\"> 0.222418  </td></tr>\n",
       "<tr><td>train_rf_e7742eec</td><td>TERMINATED</td><td>172.31.181.85:1082039</td><td>True       </td><td>tax_genus         </td><td>abundance_ith      </td><td style=\"text-align: right;\">                11</td><td style=\"text-align: right;\">                  </td><td style=\"text-align: right;\">                  </td><td>ilr             </td><td style=\"text-align: right;\">          8</td><td>0.2           </td><td style=\"text-align: right;\">0.0348966 </td><td style=\"text-align: right;\">        0.0406363 </td><td style=\"text-align: right;\">         0.0298564 </td><td style=\"text-align: right;\">0.00439932 </td><td>rf     </td><td style=\"text-align: right;\">            40</td><td style=\"text-align: right;\">     1</td><td style=\"text-align: right;\">        0.48842 </td><td style=\"text-align: right;\">  0.216916</td><td style=\"text-align: right;\">    0.19278 </td><td style=\"text-align: right;\"> 0.222418  </td></tr>\n",
       "<tr><td>train_rf_28c9d829</td><td>TERMINATED</td><td>172.31.181.85:1082253</td><td>True       </td><td>tax_genus         </td><td>abundance_topi     </td><td style=\"text-align: right;\">                 9</td><td style=\"text-align: right;\">                  </td><td style=\"text-align: right;\">                  </td><td>pa              </td><td style=\"text-align: right;\">          8</td><td>0.2           </td><td style=\"text-align: right;\">0.0944775 </td><td style=\"text-align: right;\">        0.0584138 </td><td style=\"text-align: right;\">         0.0213366 </td><td style=\"text-align: right;\">0.00377502 </td><td>rf     </td><td style=\"text-align: right;\">            40</td><td style=\"text-align: right;\">     1</td><td style=\"text-align: right;\">        0.589038</td><td style=\"text-align: right;\">  0.247762</td><td style=\"text-align: right;\">    0.420287</td><td style=\"text-align: right;\">-0.0144537 </td></tr>\n",
       "<tr><td>train_rf_80ebf54e</td><td>TERMINATED</td><td>172.31.181.85:1082370</td><td>True       </td><td>tax_genus         </td><td>abundance_topi     </td><td style=\"text-align: right;\">                 9</td><td style=\"text-align: right;\">                  </td><td style=\"text-align: right;\">                  </td><td>alr             </td><td style=\"text-align: right;\">          8</td><td>0.2           </td><td style=\"text-align: right;\">0.0912483 </td><td style=\"text-align: right;\">        0.0581878 </td><td style=\"text-align: right;\">         0.00392762</td><td style=\"text-align: right;\">0.00433167 </td><td>rf     </td><td style=\"text-align: right;\">            40</td><td style=\"text-align: right;\">     1</td><td style=\"text-align: right;\">        0.385279</td><td style=\"text-align: right;\">  0.215147</td><td style=\"text-align: right;\">    0.193127</td><td style=\"text-align: right;\"> 0.235049  </td></tr>\n",
       "<tr><td>train_rf_62d03872</td><td>TERMINATED</td><td>172.31.181.85:1082483</td><td>True       </td><td>tax_class         </td><td>abundance_topi     </td><td style=\"text-align: right;\">                12</td><td style=\"text-align: right;\">                  </td><td style=\"text-align: right;\">                  </td><td>alr             </td><td style=\"text-align: right;\">          8</td><td>0.3           </td><td style=\"text-align: right;\">0.0947643 </td><td style=\"text-align: right;\">        0.0772569 </td><td style=\"text-align: right;\">         0.0382791 </td><td style=\"text-align: right;\">0.00492442 </td><td>rf     </td><td style=\"text-align: right;\">            60</td><td style=\"text-align: right;\">     1</td><td style=\"text-align: right;\">        0.445033</td><td style=\"text-align: right;\">  0.250435</td><td style=\"text-align: right;\">    0.197219</td><td style=\"text-align: right;\">-0.0364578 </td></tr>\n",
       "<tr><td>train_rf_0566c202</td><td>TERMINATED</td><td>172.31.181.85:1082594</td><td>True       </td><td>tax_genus         </td><td>abundance_topi     </td><td style=\"text-align: right;\">                10</td><td style=\"text-align: right;\">                  </td><td style=\"text-align: right;\">                  </td><td>alr             </td><td style=\"text-align: right;\">          8</td><td>0.3           </td><td style=\"text-align: right;\">0.109551  </td><td style=\"text-align: right;\">        0.0648033 </td><td style=\"text-align: right;\">         0.0244115 </td><td style=\"text-align: right;\">0.004647   </td><td>rf     </td><td style=\"text-align: right;\">            60</td><td style=\"text-align: right;\">     1</td><td style=\"text-align: right;\">        0.453284</td><td style=\"text-align: right;\">  0.191842</td><td style=\"text-align: right;\">    0.19007 </td><td style=\"text-align: right;\"> 0.391795  </td></tr>\n",
       "<tr><td>train_rf_080b3c32</td><td>TERMINATED</td><td>172.31.181.85:1082710</td><td>True       </td><td>tax_genus         </td><td>abundance_topi     </td><td style=\"text-align: right;\">                10</td><td style=\"text-align: right;\">                  </td><td style=\"text-align: right;\">                  </td><td>alr             </td><td style=\"text-align: right;\">          8</td><td>0.3           </td><td style=\"text-align: right;\">0.109669  </td><td style=\"text-align: right;\">        0.0520773 </td><td style=\"text-align: right;\">         0.024034  </td><td style=\"text-align: right;\">0.00463221 </td><td>rf     </td><td style=\"text-align: right;\">            60</td><td style=\"text-align: right;\">     1</td><td style=\"text-align: right;\">        0.43486 </td><td style=\"text-align: right;\">  0.191842</td><td style=\"text-align: right;\">    0.19007 </td><td style=\"text-align: right;\"> 0.391795  </td></tr>\n",
       "<tr><td>train_rf_96e0c07f</td><td>TERMINATED</td><td>172.31.181.85:1082976</td><td>True       </td><td>tax_genus         </td><td>abundance_topi     </td><td style=\"text-align: right;\">                10</td><td style=\"text-align: right;\">                  </td><td style=\"text-align: right;\">                  </td><td>alr             </td><td style=\"text-align: right;\">          8</td><td>0.3           </td><td style=\"text-align: right;\">0.11849   </td><td style=\"text-align: right;\">        0.0531284 </td><td style=\"text-align: right;\">         0.0286743 </td><td style=\"text-align: right;\">0.00460708 </td><td>rf     </td><td style=\"text-align: right;\">            60</td><td style=\"text-align: right;\">     1</td><td style=\"text-align: right;\">        0.609047</td><td style=\"text-align: right;\">  0.191842</td><td style=\"text-align: right;\">    0.19007 </td><td style=\"text-align: right;\"> 0.391795  </td></tr>\n",
       "<tr><td>train_rf_9107c8bd</td><td>TERMINATED</td><td>172.31.181.85:1083098</td><td>True       </td><td>tax_genus         </td><td>abundance_topi     </td><td style=\"text-align: right;\">                10</td><td style=\"text-align: right;\">                  </td><td style=\"text-align: right;\">                  </td><td>alr             </td><td style=\"text-align: right;\">          8</td><td>0.3           </td><td style=\"text-align: right;\">0.401448  </td><td style=\"text-align: right;\">        0.0608657 </td><td style=\"text-align: right;\">         0.0278272 </td><td style=\"text-align: right;\">0.00516779 </td><td>rf     </td><td style=\"text-align: right;\">            60</td><td style=\"text-align: right;\">     1</td><td style=\"text-align: right;\">        0.428606</td><td style=\"text-align: right;\">  0.191842</td><td style=\"text-align: right;\">    0.19007 </td><td style=\"text-align: right;\"> 0.391795  </td></tr>\n",
       "<tr><td>train_rf_30ed2df5</td><td>TERMINATED</td><td>172.31.181.85:1083207</td><td>True       </td><td>tax_genus         </td><td>abundance_topi     </td><td style=\"text-align: right;\">                 9</td><td style=\"text-align: right;\">                  </td><td style=\"text-align: right;\">                  </td><td>alr             </td><td style=\"text-align: right;\">          8</td><td>0.3           </td><td style=\"text-align: right;\">0.0750618 </td><td style=\"text-align: right;\">        0.0603684 </td><td style=\"text-align: right;\">         0.0312566 </td><td style=\"text-align: right;\">0.00484944 </td><td>rf     </td><td style=\"text-align: right;\">            60</td><td style=\"text-align: right;\">     1</td><td style=\"text-align: right;\">        0.41772 </td><td style=\"text-align: right;\">  0.216001</td><td style=\"text-align: right;\">    0.192138</td><td style=\"text-align: right;\"> 0.228967  </td></tr>\n",
       "<tr><td>train_rf_2e527828</td><td>TERMINATED</td><td>172.31.181.85:1083365</td><td>True       </td><td>tax_genus         </td><td>abundance_quantile </td><td style=\"text-align: right;\">                  </td><td style=\"text-align: right;\">               0.8</td><td style=\"text-align: right;\">                  </td><td>alr             </td><td style=\"text-align: right;\">          8</td><td>0.3           </td><td style=\"text-align: right;\">0.0715069 </td><td style=\"text-align: right;\">        0.0467085 </td><td style=\"text-align: right;\">         0.0317054 </td><td style=\"text-align: right;\">0.00112035 </td><td>rf     </td><td style=\"text-align: right;\">            60</td><td style=\"text-align: right;\">     1</td><td style=\"text-align: right;\">        0.692372</td><td style=\"text-align: right;\">  0.266022</td><td style=\"text-align: right;\">    0.168069</td><td style=\"text-align: right;\">-0.16949   </td></tr>\n",
       "<tr><td>train_rf_4997ad12</td><td>TERMINATED</td><td>172.31.181.85:1083477</td><td>True       </td><td>tax_genus         </td><td>abundance_quantile </td><td style=\"text-align: right;\">                  </td><td style=\"text-align: right;\">               0.8</td><td style=\"text-align: right;\">                  </td><td>alr             </td><td style=\"text-align: right;\">          8</td><td>0.3           </td><td style=\"text-align: right;\">0.0727303 </td><td style=\"text-align: right;\">        0.0470581 </td><td style=\"text-align: right;\">         0.0316814 </td><td style=\"text-align: right;\">0.0049252  </td><td>rf     </td><td style=\"text-align: right;\">            60</td><td style=\"text-align: right;\">     1</td><td style=\"text-align: right;\">        0.765162</td><td style=\"text-align: right;\">  0.266022</td><td style=\"text-align: right;\">    0.168069</td><td style=\"text-align: right;\">-0.16949   </td></tr>\n",
       "<tr><td>train_rf_f7425d71</td><td>TERMINATED</td><td>172.31.181.85:1083664</td><td>True       </td><td>tax_genus         </td><td>abundance_topi     </td><td style=\"text-align: right;\">                11</td><td style=\"text-align: right;\">                  </td><td style=\"text-align: right;\">                  </td><td>alr             </td><td style=\"text-align: right;\">          8</td><td>0.2           </td><td style=\"text-align: right;\">0.140628  </td><td style=\"text-align: right;\">        0.0690749 </td><td style=\"text-align: right;\">         0.0197489 </td><td style=\"text-align: right;\">0.0050472  </td><td>rf     </td><td style=\"text-align: right;\">           160</td><td style=\"text-align: right;\">     1</td><td style=\"text-align: right;\">        0.581577</td><td style=\"text-align: right;\">  0.214325</td><td style=\"text-align: right;\">    0.178135</td><td style=\"text-align: right;\"> 0.240886  </td></tr>\n",
       "<tr><td>train_rf_ce0b22bd</td><td>TERMINATED</td><td>172.31.181.85:1083808</td><td>True       </td><td>tax_genus         </td><td>abundance_topi     </td><td style=\"text-align: right;\">                11</td><td style=\"text-align: right;\">                  </td><td style=\"text-align: right;\">                  </td><td>alr             </td><td style=\"text-align: right;\">          8</td><td>0.2           </td><td style=\"text-align: right;\">0.162629  </td><td style=\"text-align: right;\">        0.0718655 </td><td style=\"text-align: right;\">         0.0358857 </td><td style=\"text-align: right;\">0.00400877 </td><td>rf     </td><td style=\"text-align: right;\">            80</td><td style=\"text-align: right;\">     1</td><td style=\"text-align: right;\">        0.457579</td><td style=\"text-align: right;\">  0.212411</td><td style=\"text-align: right;\">    0.180945</td><td style=\"text-align: right;\"> 0.254385  </td></tr>\n",
       "<tr><td>train_rf_2e4a831f</td><td>TERMINATED</td><td>172.31.181.85:1083972</td><td>True       </td><td>tax_genus         </td><td>abundance_topi     </td><td style=\"text-align: right;\">                11</td><td style=\"text-align: right;\">                  </td><td style=\"text-align: right;\">                  </td><td>alr             </td><td style=\"text-align: right;\">          8</td><td>0.2           </td><td style=\"text-align: right;\">0.160755  </td><td style=\"text-align: right;\">        0.013166  </td><td style=\"text-align: right;\">         0.00243195</td><td style=\"text-align: right;\">0.0051381  </td><td>rf     </td><td style=\"text-align: right;\">            80</td><td style=\"text-align: right;\">     1</td><td style=\"text-align: right;\">        0.449713</td><td style=\"text-align: right;\">  0.212411</td><td style=\"text-align: right;\">    0.180945</td><td style=\"text-align: right;\"> 0.254385  </td></tr>\n",
       "<tr><td>train_rf_08f7e3aa</td><td>TERMINATED</td><td>172.31.181.85:1084084</td><td>True       </td><td>tax_genus         </td><td>abundance_topi     </td><td style=\"text-align: right;\">                10</td><td style=\"text-align: right;\">                  </td><td style=\"text-align: right;\">                  </td><td>alr             </td><td style=\"text-align: right;\">          8</td><td>0.3           </td><td style=\"text-align: right;\">0.0480296 </td><td style=\"text-align: right;\">        0.0127642 </td><td style=\"text-align: right;\">         0.0222983 </td><td style=\"text-align: right;\">0.00523354 </td><td>rf     </td><td style=\"text-align: right;\">            60</td><td style=\"text-align: right;\">     1</td><td style=\"text-align: right;\">        0.413605</td><td style=\"text-align: right;\">  0.191842</td><td style=\"text-align: right;\">    0.19007 </td><td style=\"text-align: right;\"> 0.391795  </td></tr>\n",
       "<tr><td>train_rf_c311f328</td><td>TERMINATED</td><td>172.31.181.85:1084193</td><td>True       </td><td>tax_genus         </td><td>abundance_topi     </td><td style=\"text-align: right;\">                10</td><td style=\"text-align: right;\">                  </td><td style=\"text-align: right;\">                  </td><td>alr             </td><td style=\"text-align: right;\">          8</td><td>0.3           </td><td style=\"text-align: right;\">0.0620803 </td><td style=\"text-align: right;\">        0.062723  </td><td style=\"text-align: right;\">         0.0263449 </td><td style=\"text-align: right;\">0.00479198 </td><td>rf     </td><td style=\"text-align: right;\">            60</td><td style=\"text-align: right;\">     1</td><td style=\"text-align: right;\">        0.41645 </td><td style=\"text-align: right;\">  0.191842</td><td style=\"text-align: right;\">    0.19007 </td><td style=\"text-align: right;\"> 0.391795  </td></tr>\n",
       "<tr><td>train_rf_b48c3dc0</td><td>TERMINATED</td><td>172.31.181.85:1084303</td><td>True       </td><td>tax_genus         </td><td>abundance_topi     </td><td style=\"text-align: right;\">                10</td><td style=\"text-align: right;\">                  </td><td style=\"text-align: right;\">                  </td><td>alr             </td><td style=\"text-align: right;\">          8</td><td>0.3           </td><td style=\"text-align: right;\">0.0607756 </td><td style=\"text-align: right;\">        0.0631141 </td><td style=\"text-align: right;\">         0.0248931 </td><td style=\"text-align: right;\">0.00555411 </td><td>rf     </td><td style=\"text-align: right;\">            60</td><td style=\"text-align: right;\">     1</td><td style=\"text-align: right;\">        0.425097</td><td style=\"text-align: right;\">  0.191842</td><td style=\"text-align: right;\">    0.19007 </td><td style=\"text-align: right;\"> 0.391795  </td></tr>\n",
       "<tr><td>train_rf_163e4c9b</td><td>TERMINATED</td><td>172.31.181.85:1084532</td><td>True       </td><td>tax_genus         </td><td>abundance_topi     </td><td style=\"text-align: right;\">                10</td><td style=\"text-align: right;\">                  </td><td style=\"text-align: right;\">                  </td><td>alr             </td><td style=\"text-align: right;\">          8</td><td>0.3           </td><td style=\"text-align: right;\">0.0184718 </td><td style=\"text-align: right;\">        0.063032  </td><td style=\"text-align: right;\">         0.0251672 </td><td style=\"text-align: right;\">0.00559681 </td><td>rf     </td><td style=\"text-align: right;\">            60</td><td style=\"text-align: right;\">     1</td><td style=\"text-align: right;\">        0.412466</td><td style=\"text-align: right;\">  0.191842</td><td style=\"text-align: right;\">    0.19007 </td><td style=\"text-align: right;\"> 0.391795  </td></tr>\n",
       "<tr><td>train_rf_42c600b3</td><td>TERMINATED</td><td>172.31.181.85:1084655</td><td>True       </td><td>tax_genus         </td><td>variance_quantile  </td><td style=\"text-align: right;\">                  </td><td style=\"text-align: right;\">               0.5</td><td style=\"text-align: right;\">                  </td><td>alr             </td><td style=\"text-align: right;\">          8</td><td>0.1           </td><td style=\"text-align: right;\">0.418628  </td><td style=\"text-align: right;\">        0.0807372 </td><td style=\"text-align: right;\">         0.0298034 </td><td style=\"text-align: right;\">0.00558034 </td><td>rf     </td><td style=\"text-align: right;\">            60</td><td style=\"text-align: right;\">     1</td><td style=\"text-align: right;\">        1.10407 </td><td style=\"text-align: right;\">  0.260065</td><td style=\"text-align: right;\">    0.165763</td><td style=\"text-align: right;\">-0.117701  </td></tr>\n",
       "<tr><td>train_rf_7533903e</td><td>TERMINATED</td><td>172.31.181.85:1084880</td><td>True       </td><td>tax_genus         </td><td>abundance_topi     </td><td style=\"text-align: right;\">                10</td><td style=\"text-align: right;\">                  </td><td style=\"text-align: right;\">                  </td><td>alr             </td><td style=\"text-align: right;\">         32</td><td>0.1           </td><td style=\"text-align: right;\">0.421775  </td><td style=\"text-align: right;\">        0.079597  </td><td style=\"text-align: right;\">         0.0343378 </td><td style=\"text-align: right;\">0.00929329 </td><td>rf     </td><td style=\"text-align: right;\">            60</td><td style=\"text-align: right;\">     1</td><td style=\"text-align: right;\">        0.417754</td><td style=\"text-align: right;\">  0.196179</td><td style=\"text-align: right;\">    0.185279</td><td style=\"text-align: right;\"> 0.363989  </td></tr>\n",
       "<tr><td>train_rf_26bde753</td><td>TERMINATED</td><td>172.31.181.85:1085007</td><td>True       </td><td>tax_genus         </td><td>abundance_topi     </td><td style=\"text-align: right;\">                 9</td><td style=\"text-align: right;\">                  </td><td style=\"text-align: right;\">                  </td><td>alr             </td><td style=\"text-align: right;\">         32</td><td>0.2           </td><td style=\"text-align: right;\">0.0873975 </td><td style=\"text-align: right;\">        0.0531028 </td><td style=\"text-align: right;\">         0.0345129 </td><td style=\"text-align: right;\">0.00924209 </td><td>rf     </td><td style=\"text-align: right;\">            60</td><td style=\"text-align: right;\">     1</td><td style=\"text-align: right;\">        0.419259</td><td style=\"text-align: right;\">  0.221854</td><td style=\"text-align: right;\">    0.183596</td><td style=\"text-align: right;\"> 0.186615  </td></tr>\n",
       "<tr><td>train_rf_20525d45</td><td>TERMINATED</td><td>172.31.181.85:1085138</td><td>True       </td><td>tax_genus         </td><td>abundance_topi     </td><td style=\"text-align: right;\">                 9</td><td style=\"text-align: right;\">                  </td><td style=\"text-align: right;\">                  </td><td>alr             </td><td style=\"text-align: right;\">         32</td><td>sqrt          </td><td style=\"text-align: right;\">0.101157  </td><td style=\"text-align: right;\">        0.0558769 </td><td style=\"text-align: right;\">         0.0348159 </td><td style=\"text-align: right;\">0.00606875 </td><td>rf     </td><td style=\"text-align: right;\">            60</td><td style=\"text-align: right;\">     1</td><td style=\"text-align: right;\">        0.415357</td><td style=\"text-align: right;\">  0.221854</td><td style=\"text-align: right;\">    0.183596</td><td style=\"text-align: right;\"> 0.186615  </td></tr>\n",
       "<tr><td>train_rf_eee6678d</td><td>TERMINATED</td><td>172.31.181.85:1085337</td><td>True       </td><td>tax_genus         </td><td>abundance_topi     </td><td style=\"text-align: right;\">                 9</td><td style=\"text-align: right;\">                  </td><td style=\"text-align: right;\">                  </td><td>alr             </td><td style=\"text-align: right;\">          8</td><td>0.2           </td><td style=\"text-align: right;\">0.100774  </td><td style=\"text-align: right;\">        0.0546332 </td><td style=\"text-align: right;\">         0.0221261 </td><td style=\"text-align: right;\">0.00878346 </td><td>rf     </td><td style=\"text-align: right;\">            80</td><td style=\"text-align: right;\">     1</td><td style=\"text-align: right;\">        0.484311</td><td style=\"text-align: right;\">  0.22586 </td><td style=\"text-align: right;\">    0.187114</td><td style=\"text-align: right;\"> 0.156977  </td></tr>\n",
       "<tr><td>train_rf_7805d2ad</td><td>TERMINATED</td><td>172.31.181.85:1085472</td><td>True       </td><td>tax_genus         </td><td>abundance_threshold</td><td style=\"text-align: right;\">                  </td><td style=\"text-align: right;\">                  </td><td style=\"text-align: right;\">       0.00496576 </td><td>alr             </td><td style=\"text-align: right;\">          8</td><td>sqrt          </td><td style=\"text-align: right;\">0.0985961 </td><td style=\"text-align: right;\">        0.0576623 </td><td style=\"text-align: right;\">         0.0278637 </td><td style=\"text-align: right;\">0.00877968 </td><td>rf     </td><td style=\"text-align: right;\">            80</td><td style=\"text-align: right;\">     1</td><td style=\"text-align: right;\">        0.773764</td><td style=\"text-align: right;\">  0.267407</td><td style=\"text-align: right;\">    0.165619</td><td style=\"text-align: right;\">-0.181702  </td></tr>\n",
       "<tr><td>train_rf_dd8ddd0f</td><td>TERMINATED</td><td>172.31.181.85:1085597</td><td>False      </td><td>tax_genus         </td><td>abundance_threshold</td><td style=\"text-align: right;\">                  </td><td style=\"text-align: right;\">                  </td><td style=\"text-align: right;\">       0.00402388 </td><td>alr             </td><td style=\"text-align: right;\">          8</td><td>0.3           </td><td style=\"text-align: right;\">0.405949  </td><td style=\"text-align: right;\">        0.0750367 </td><td style=\"text-align: right;\">         0.0280031 </td><td style=\"text-align: right;\">0.00431456 </td><td>rf     </td><td style=\"text-align: right;\">            80</td><td style=\"text-align: right;\">     1</td><td style=\"text-align: right;\">        0.819316</td><td style=\"text-align: right;\">  0.273125</td><td style=\"text-align: right;\">    0.165622</td><td style=\"text-align: right;\">-0.232774  </td></tr>\n",
       "<tr><td>train_rf_86969ba8</td><td>TERMINATED</td><td>172.31.181.85:1085723</td><td>True       </td><td>tax_genus         </td><td>abundance_topi     </td><td style=\"text-align: right;\">                10</td><td style=\"text-align: right;\">                  </td><td style=\"text-align: right;\">                  </td><td>alr             </td><td style=\"text-align: right;\">          8</td><td>0.3           </td><td style=\"text-align: right;\">0.0801431 </td><td style=\"text-align: right;\">        0.0672583 </td><td style=\"text-align: right;\">         0.0296783 </td><td style=\"text-align: right;\">0.00466343 </td><td>rf     </td><td style=\"text-align: right;\">            60</td><td style=\"text-align: right;\">     1</td><td style=\"text-align: right;\">        0.437893</td><td style=\"text-align: right;\">  0.191842</td><td style=\"text-align: right;\">    0.19007 </td><td style=\"text-align: right;\"> 0.391795  </td></tr>\n",
       "<tr><td>train_rf_703a88a6</td><td>TERMINATED</td><td>172.31.181.85:1085898</td><td>True       </td><td>tax_genus         </td><td>abundance_topi     </td><td style=\"text-align: right;\">                10</td><td style=\"text-align: right;\">                  </td><td style=\"text-align: right;\">                  </td><td>alr             </td><td style=\"text-align: right;\">          8</td><td>0.3           </td><td style=\"text-align: right;\">0.0780732 </td><td style=\"text-align: right;\">        0.0680486 </td><td style=\"text-align: right;\">         0.0274975 </td><td style=\"text-align: right;\">0.00473954 </td><td>rf     </td><td style=\"text-align: right;\">            60</td><td style=\"text-align: right;\">     1</td><td style=\"text-align: right;\">        0.430151</td><td style=\"text-align: right;\">  0.191842</td><td style=\"text-align: right;\">    0.19007 </td><td style=\"text-align: right;\"> 0.391795  </td></tr>\n",
       "<tr><td>train_rf_a2018b99</td><td>TERMINATED</td><td>172.31.181.85:1086075</td><td>True       </td><td>tax_genus         </td><td>abundance_topi     </td><td style=\"text-align: right;\">                10</td><td style=\"text-align: right;\">                  </td><td style=\"text-align: right;\">                  </td><td>alr             </td><td style=\"text-align: right;\">          8</td><td>0.3           </td><td style=\"text-align: right;\">0.127686  </td><td style=\"text-align: right;\">        0.0602591 </td><td style=\"text-align: right;\">         0.0392459 </td><td style=\"text-align: right;\">0.00483308 </td><td>rf     </td><td style=\"text-align: right;\">            60</td><td style=\"text-align: right;\">     1</td><td style=\"text-align: right;\">        0.420539</td><td style=\"text-align: right;\">  0.191842</td><td style=\"text-align: right;\">    0.19007 </td><td style=\"text-align: right;\"> 0.391795  </td></tr>\n",
       "<tr><td>train_rf_b7f4a543</td><td>TERMINATED</td><td>172.31.181.85:1086188</td><td>True       </td><td>tax_genus         </td><td>variance_ith       </td><td style=\"text-align: right;\">                11</td><td style=\"text-align: right;\">                  </td><td style=\"text-align: right;\">                  </td><td>alr             </td><td style=\"text-align: right;\">          8</td><td>0.3           </td><td style=\"text-align: right;\">0.12434   </td><td style=\"text-align: right;\">        0.0605335 </td><td style=\"text-align: right;\">         0.0389334 </td><td style=\"text-align: right;\">0.00482715 </td><td>rf     </td><td style=\"text-align: right;\">            60</td><td style=\"text-align: right;\">     1</td><td style=\"text-align: right;\">        0.474782</td><td style=\"text-align: right;\">  0.208691</td><td style=\"text-align: right;\">    0.187787</td><td style=\"text-align: right;\"> 0.280268  </td></tr>\n",
       "<tr><td>train_rf_2923d432</td><td>TERMINATED</td><td>172.31.181.85:1086354</td><td>True       </td><td>tax_genus         </td><td>variance_ith       </td><td style=\"text-align: right;\">                11</td><td style=\"text-align: right;\">                  </td><td style=\"text-align: right;\">                  </td><td>alr             </td><td style=\"text-align: right;\">          8</td><td>0.3           </td><td style=\"text-align: right;\">0.125167  </td><td style=\"text-align: right;\">        0.0613888 </td><td style=\"text-align: right;\">         0.0389826 </td><td style=\"text-align: right;\">0.00487878 </td><td>rf     </td><td style=\"text-align: right;\">            60</td><td style=\"text-align: right;\">     1</td><td style=\"text-align: right;\">        0.467775</td><td style=\"text-align: right;\">  0.208691</td><td style=\"text-align: right;\">    0.187787</td><td style=\"text-align: right;\"> 0.280268  </td></tr>\n",
       "<tr><td>train_rf_d3cf8d4b</td><td>TERMINATED</td><td>172.31.181.85:1086464</td><td>True       </td><td>tax_genus         </td><td>                   </td><td style=\"text-align: right;\">                  </td><td style=\"text-align: right;\">                  </td><td style=\"text-align: right;\">                  </td><td>alr             </td><td style=\"text-align: right;\">          8</td><td>0.3           </td><td style=\"text-align: right;\">0.394297  </td><td style=\"text-align: right;\">        0.0067558 </td><td style=\"text-align: right;\">         0.0307275 </td><td style=\"text-align: right;\">0.00454225 </td><td>rf     </td><td style=\"text-align: right;\">            60</td><td style=\"text-align: right;\">     1</td><td style=\"text-align: right;\">        1.72597 </td><td style=\"text-align: right;\">  0.259072</td><td style=\"text-align: right;\">    0.166534</td><td style=\"text-align: right;\">-0.109177  </td></tr>\n",
       "<tr><td>train_rf_f0ad9690</td><td>TERMINATED</td><td>172.31.181.85:1086575</td><td>True       </td><td>tax_genus         </td><td>                   </td><td style=\"text-align: right;\">                  </td><td style=\"text-align: right;\">                  </td><td style=\"text-align: right;\">                  </td><td>alr             </td><td style=\"text-align: right;\">          8</td><td>0.2           </td><td style=\"text-align: right;\">0.0462718 </td><td style=\"text-align: right;\">        0.0482238 </td><td style=\"text-align: right;\">         0.0303736 </td><td style=\"text-align: right;\">0.00448252 </td><td>rf     </td><td style=\"text-align: right;\">            60</td><td style=\"text-align: right;\">     1</td><td style=\"text-align: right;\">        1.69426 </td><td style=\"text-align: right;\">  0.259072</td><td style=\"text-align: right;\">    0.166534</td><td style=\"text-align: right;\">-0.109177  </td></tr>\n",
       "</tbody>\n",
       "</table>\n",
       "  </div>\n",
       "</div>\n",
       "<style>\n",
       ".tuneStatus {\n",
       "  color: var(--jp-ui-font-color1);\n",
       "}\n",
       ".tuneStatus .systemInfo {\n",
       "  display: flex;\n",
       "  flex-direction: column;\n",
       "}\n",
       ".tuneStatus td {\n",
       "  white-space: nowrap;\n",
       "}\n",
       ".tuneStatus .trialStatus {\n",
       "  display: flex;\n",
       "  flex-direction: column;\n",
       "}\n",
       ".tuneStatus h3 {\n",
       "  font-weight: bold;\n",
       "}\n",
       ".tuneStatus .hDivider {\n",
       "  border-bottom-width: var(--jp-border-width);\n",
       "  border-bottom-color: var(--jp-border-color0);\n",
       "  border-bottom-style: solid;\n",
       "}\n",
       ".tuneStatus .vDivider {\n",
       "  border-left-width: var(--jp-border-width);\n",
       "  border-left-color: var(--jp-border-color0);\n",
       "  border-left-style: solid;\n",
       "  margin: 0.5em 1em 0.5em 1em;\n",
       "}\n",
       "</style>\n"
      ],
      "text/plain": [
       "<IPython.core.display.HTML object>"
      ]
     },
     "metadata": {},
     "output_type": "display_data"
    },
    {
     "name": "stdout",
     "output_type": "stream",
     "text": [
      "\u001b[36m(train_rf pid=1058564)\u001b[0m Train: (142, 36), Test: (36, 36)\n"
     ]
    },
    {
     "name": "stderr",
     "output_type": "stream",
     "text": [
      "\u001b[36m(train_rf pid=1058564)\u001b[0m /scratch/lfloerl/.condaenvs/ritme_model/lib/python3.10/site-packages/ritme/feature_space/aggregate_features.py:78: UserWarning: These features were not found in taxonomy and are hence disregarded: ['Fermentation_Timepoint'].\n",
      "\u001b[36m(train_rf pid=1058564)\u001b[0m   warnings.warn(\n",
      "2025-02-25 16:20:54,982\tWARNING util.py:201 -- The `callbacks.on_trial_result` operation took 1.992 s, which may be a performance bottleneck.\n",
      "2025-02-25 16:20:54,984\tWARNING util.py:201 -- The `process_trial_result` operation took 1.994 s, which may be a performance bottleneck.\n",
      "2025-02-25 16:20:54,985\tWARNING util.py:201 -- Processing trial results took 1.995 s, which may be a performance bottleneck. Please consider reporting results less frequently to Ray Tune.\n",
      "2025-02-25 16:20:54,986\tWARNING util.py:201 -- The `process_trial_result` operation took 1.996 s, which may be a performance bottleneck.\n",
      "\u001b[36m(train_rf pid=1058689)\u001b[0m /scratch/lfloerl/.condaenvs/ritme_model/lib/python3.10/site-packages/ritme/feature_space/aggregate_features.py:78: UserWarning: These features were not found in taxonomy and are hence disregarded: ['Fermentation_Timepoint'].\n",
      "\u001b[36m(train_rf pid=1058689)\u001b[0m   warnings.warn(\n"
     ]
    },
    {
     "name": "stdout",
     "output_type": "stream",
     "text": [
      "\u001b[36m(train_rf pid=1058689)\u001b[0m Train: (142, 132), Test: (36, 132)\n"
     ]
    },
    {
     "name": "stderr",
     "output_type": "stream",
     "text": [
      "2025-02-25 16:21:02,342\tWARNING util.py:201 -- The `callbacks.on_trial_result` operation took 2.364 s, which may be a performance bottleneck.\n",
      "2025-02-25 16:21:02,344\tWARNING util.py:201 -- The `process_trial_result` operation took 2.366 s, which may be a performance bottleneck.\n",
      "2025-02-25 16:21:02,345\tWARNING util.py:201 -- Processing trial results took 2.367 s, which may be a performance bottleneck. Please consider reporting results less frequently to Ray Tune.\n",
      "2025-02-25 16:21:02,345\tWARNING util.py:201 -- The `process_trial_result` operation took 2.368 s, which may be a performance bottleneck.\n"
     ]
    },
    {
     "name": "stdout",
     "output_type": "stream",
     "text": [
      "\u001b[36m(train_rf pid=1058800)\u001b[0m Train: (142, 112), Test: (36, 112)\n"
     ]
    },
    {
     "name": "stderr",
     "output_type": "stream",
     "text": [
      "\u001b[36m(train_rf pid=1058800)\u001b[0m /scratch/lfloerl/.condaenvs/ritme_model/lib/python3.10/site-packages/ritme/feature_space/aggregate_features.py:78: UserWarning: These features were not found in taxonomy and are hence disregarded: ['Fermentation_Timepoint'].\n",
      "\u001b[36m(train_rf pid=1058800)\u001b[0m   warnings.warn(\n",
      "2025-02-25 16:21:06,430\tWARNING util.py:201 -- The `callbacks.on_trial_result` operation took 0.794 s, which may be a performance bottleneck.\n",
      "2025-02-25 16:21:06,432\tWARNING util.py:201 -- The `process_trial_result` operation took 0.795 s, which may be a performance bottleneck.\n",
      "2025-02-25 16:21:06,433\tWARNING util.py:201 -- Processing trial results took 0.796 s, which may be a performance bottleneck. Please consider reporting results less frequently to Ray Tune.\n",
      "2025-02-25 16:21:06,433\tWARNING util.py:201 -- The `process_trial_result` operation took 0.796 s, which may be a performance bottleneck.\n"
     ]
    },
    {
     "name": "stdout",
     "output_type": "stream",
     "text": [
      "\u001b[36m(train_rf pid=1058938)\u001b[0m Train: (142, 38), Test: (36, 38)\n"
     ]
    },
    {
     "name": "stderr",
     "output_type": "stream",
     "text": [
      "\u001b[36m(train_rf pid=1058938)\u001b[0m /scratch/lfloerl/.condaenvs/ritme_model/lib/python3.10/site-packages/ritme/feature_space/aggregate_features.py:78: UserWarning: These features were not found in taxonomy and are hence disregarded: ['Fermentation_Timepoint'].\n",
      "\u001b[36m(train_rf pid=1058938)\u001b[0m   warnings.warn(\n",
      "2025-02-25 16:21:14,914\tWARNING util.py:201 -- The `callbacks.on_trial_result` operation took 2.289 s, which may be a performance bottleneck.\n",
      "2025-02-25 16:21:14,916\tWARNING util.py:201 -- The `process_trial_result` operation took 2.291 s, which may be a performance bottleneck.\n",
      "2025-02-25 16:21:14,917\tWARNING util.py:201 -- Processing trial results took 2.292 s, which may be a performance bottleneck. Please consider reporting results less frequently to Ray Tune.\n",
      "2025-02-25 16:21:14,917\tWARNING util.py:201 -- The `process_trial_result` operation took 2.293 s, which may be a performance bottleneck.\n",
      "\u001b[36m(train_rf pid=1059054)\u001b[0m /scratch/lfloerl/.condaenvs/ritme_model/lib/python3.10/site-packages/ritme/feature_space/aggregate_features.py:78: UserWarning: These features were not found in taxonomy and are hence disregarded: ['Fermentation_Timepoint'].\n",
      "\u001b[36m(train_rf pid=1059054)\u001b[0m   warnings.warn(\n"
     ]
    },
    {
     "name": "stdout",
     "output_type": "stream",
     "text": [
      "\u001b[36m(train_rf pid=1059054)\u001b[0m Train: (142, 48), Test: (36, 48)\n"
     ]
    },
    {
     "name": "stderr",
     "output_type": "stream",
     "text": [
      "2025-02-25 16:21:20,538\tWARNING util.py:201 -- The `callbacks.on_trial_result` operation took 2.352 s, which may be a performance bottleneck.\n",
      "2025-02-25 16:21:20,539\tWARNING util.py:201 -- The `process_trial_result` operation took 2.354 s, which may be a performance bottleneck.\n",
      "2025-02-25 16:21:20,540\tWARNING util.py:201 -- Processing trial results took 2.355 s, which may be a performance bottleneck. Please consider reporting results less frequently to Ray Tune.\n",
      "2025-02-25 16:21:20,540\tWARNING util.py:201 -- The `process_trial_result` operation took 2.355 s, which may be a performance bottleneck.\n",
      "\u001b[36m(train_rf pid=1059163)\u001b[0m /scratch/lfloerl/.condaenvs/ritme_model/lib/python3.10/site-packages/ritme/feature_space/aggregate_features.py:78: UserWarning: These features were not found in taxonomy and are hence disregarded: ['Fermentation_Timepoint'].\n",
      "\u001b[36m(train_rf pid=1059163)\u001b[0m   warnings.warn(\n"
     ]
    },
    {
     "name": "stdout",
     "output_type": "stream",
     "text": [
      "\u001b[36m(train_rf pid=1059163)\u001b[0m Train: (142, 45), Test: (36, 45)\n"
     ]
    },
    {
     "name": "stderr",
     "output_type": "stream",
     "text": [
      "2025-02-25 16:21:25,857\tWARNING util.py:201 -- The `callbacks.on_trial_result` operation took 0.693 s, which may be a performance bottleneck.\n",
      "2025-02-25 16:21:25,859\tWARNING util.py:201 -- The `process_trial_result` operation took 0.695 s, which may be a performance bottleneck.\n",
      "2025-02-25 16:21:25,860\tWARNING util.py:201 -- Processing trial results took 0.696 s, which may be a performance bottleneck. Please consider reporting results less frequently to Ray Tune.\n",
      "2025-02-25 16:21:25,860\tWARNING util.py:201 -- The `process_trial_result` operation took 0.696 s, which may be a performance bottleneck.\n"
     ]
    },
    {
     "name": "stdout",
     "output_type": "stream",
     "text": [
      "\u001b[36m(train_rf pid=1059273)\u001b[0m Train: (142, 55), Test: (36, 55)\n"
     ]
    },
    {
     "name": "stderr",
     "output_type": "stream",
     "text": [
      "2025-02-25 16:21:34,856\tWARNING util.py:201 -- The `callbacks.on_trial_result` operation took 2.714 s, which may be a performance bottleneck.\n",
      "2025-02-25 16:21:34,858\tWARNING util.py:201 -- The `process_trial_result` operation took 2.716 s, which may be a performance bottleneck.\n",
      "2025-02-25 16:21:34,859\tWARNING util.py:201 -- Processing trial results took 2.717 s, which may be a performance bottleneck. Please consider reporting results less frequently to Ray Tune.\n",
      "2025-02-25 16:21:34,859\tWARNING util.py:201 -- The `process_trial_result` operation took 2.718 s, which may be a performance bottleneck.\n",
      "\u001b[36m(train_rf pid=1059386)\u001b[0m /scratch/lfloerl/.condaenvs/ritme_model/lib/python3.10/site-packages/ritme/feature_space/aggregate_features.py:78: UserWarning: These features were not found in taxonomy and are hence disregarded: ['Fermentation_Timepoint'].\n",
      "\u001b[36m(train_rf pid=1059386)\u001b[0m   warnings.warn(\n"
     ]
    },
    {
     "name": "stdout",
     "output_type": "stream",
     "text": [
      "\u001b[36m(train_rf pid=1059386)\u001b[0m Train: (142, 86), Test: (36, 86)\n"
     ]
    },
    {
     "name": "stderr",
     "output_type": "stream",
     "text": [
      "2025-02-25 16:21:41,358\tWARNING util.py:201 -- The `callbacks.on_trial_result` operation took 2.940 s, which may be a performance bottleneck.\n",
      "2025-02-25 16:21:41,359\tWARNING util.py:201 -- The `process_trial_result` operation took 2.942 s, which may be a performance bottleneck.\n",
      "2025-02-25 16:21:41,360\tWARNING util.py:201 -- Processing trial results took 2.942 s, which may be a performance bottleneck. Please consider reporting results less frequently to Ray Tune.\n",
      "2025-02-25 16:21:41,360\tWARNING util.py:201 -- The `process_trial_result` operation took 2.943 s, which may be a performance bottleneck.\n"
     ]
    },
    {
     "name": "stdout",
     "output_type": "stream",
     "text": [
      "\u001b[36m(train_rf pid=1059623)\u001b[0m Train: (142, 37), Test: (36, 37)\n"
     ]
    },
    {
     "name": "stderr",
     "output_type": "stream",
     "text": [
      "\u001b[36m(train_rf pid=1059623)\u001b[0m /scratch/lfloerl/.condaenvs/ritme_model/lib/python3.10/site-packages/ritme/feature_space/aggregate_features.py:78: UserWarning: These features were not found in taxonomy and are hence disregarded: ['Fermentation_Timepoint'].\n",
      "\u001b[36m(train_rf pid=1059623)\u001b[0m   warnings.warn(\n",
      "2025-02-25 16:21:47,365\tWARNING util.py:201 -- The `callbacks.on_trial_result` operation took 1.724 s, which may be a performance bottleneck.\n",
      "2025-02-25 16:21:47,366\tWARNING util.py:201 -- The `process_trial_result` operation took 1.726 s, which may be a performance bottleneck.\n",
      "2025-02-25 16:21:47,368\tWARNING util.py:201 -- Processing trial results took 1.727 s, which may be a performance bottleneck. Please consider reporting results less frequently to Ray Tune.\n",
      "2025-02-25 16:21:47,369\tWARNING util.py:201 -- The `process_trial_result` operation took 1.728 s, which may be a performance bottleneck.\n"
     ]
    },
    {
     "name": "stdout",
     "output_type": "stream",
     "text": [
      "\u001b[36m(train_rf pid=1059756)\u001b[0m Train: (142, 44), Test: (36, 44)\n"
     ]
    },
    {
     "name": "stderr",
     "output_type": "stream",
     "text": [
      "\u001b[36m(train_rf pid=1059756)\u001b[0m /scratch/lfloerl/.condaenvs/ritme_model/lib/python3.10/site-packages/ritme/feature_space/aggregate_features.py:78: UserWarning: These features were not found in taxonomy and are hence disregarded: ['Fermentation_Timepoint'].\n",
      "\u001b[36m(train_rf pid=1059756)\u001b[0m   warnings.warn(\n",
      "2025-02-25 16:21:56,989\tWARNING util.py:201 -- The `callbacks.on_trial_result` operation took 2.758 s, which may be a performance bottleneck.\n",
      "2025-02-25 16:21:56,991\tWARNING util.py:201 -- The `process_trial_result` operation took 2.760 s, which may be a performance bottleneck.\n",
      "2025-02-25 16:21:56,992\tWARNING util.py:201 -- Processing trial results took 2.761 s, which may be a performance bottleneck. Please consider reporting results less frequently to Ray Tune.\n",
      "2025-02-25 16:21:56,992\tWARNING util.py:201 -- The `process_trial_result` operation took 2.761 s, which may be a performance bottleneck.\n"
     ]
    },
    {
     "name": "stdout",
     "output_type": "stream",
     "text": [
      "\u001b[36m(train_rf pid=1059920)\u001b[0m Train: (142, 48), Test: (36, 48)\n"
     ]
    },
    {
     "name": "stderr",
     "output_type": "stream",
     "text": [
      "\u001b[36m(train_rf pid=1059920)\u001b[0m /scratch/lfloerl/.condaenvs/ritme_model/lib/python3.10/site-packages/ritme/feature_space/aggregate_features.py:78: UserWarning: These features were not found in taxonomy and are hence disregarded: ['Fermentation_Timepoint'].\n",
      "\u001b[36m(train_rf pid=1059920)\u001b[0m   warnings.warn(\n",
      "2025-02-25 16:22:05,606\tWARNING util.py:201 -- The `callbacks.on_trial_result` operation took 2.868 s, which may be a performance bottleneck.\n",
      "2025-02-25 16:22:05,608\tWARNING util.py:201 -- The `process_trial_result` operation took 2.870 s, which may be a performance bottleneck.\n",
      "2025-02-25 16:22:05,609\tWARNING util.py:201 -- Processing trial results took 2.871 s, which may be a performance bottleneck. Please consider reporting results less frequently to Ray Tune.\n",
      "2025-02-25 16:22:05,609\tWARNING util.py:201 -- The `process_trial_result` operation took 2.871 s, which may be a performance bottleneck.\n",
      "\u001b[36m(train_rf pid=1060084)\u001b[0m /scratch/lfloerl/.condaenvs/ritme_model/lib/python3.10/site-packages/ritme/feature_space/aggregate_features.py:78: UserWarning: These features were not found in taxonomy and are hence disregarded: ['Fermentation_Timepoint'].\n",
      "\u001b[36m(train_rf pid=1060084)\u001b[0m   warnings.warn(\n"
     ]
    },
    {
     "name": "stdout",
     "output_type": "stream",
     "text": [
      "\u001b[36m(train_rf pid=1060084)\u001b[0m Train: (142, 42), Test: (36, 42)\n"
     ]
    },
    {
     "name": "stderr",
     "output_type": "stream",
     "text": [
      "2025-02-25 16:22:10,934\tWARNING util.py:201 -- The `callbacks.on_trial_result` operation took 1.745 s, which may be a performance bottleneck.\n",
      "2025-02-25 16:22:10,936\tWARNING util.py:201 -- The `process_trial_result` operation took 1.747 s, which may be a performance bottleneck.\n",
      "2025-02-25 16:22:10,937\tWARNING util.py:201 -- Processing trial results took 1.748 s, which may be a performance bottleneck. Please consider reporting results less frequently to Ray Tune.\n",
      "2025-02-25 16:22:10,937\tWARNING util.py:201 -- The `process_trial_result` operation took 1.748 s, which may be a performance bottleneck.\n"
     ]
    },
    {
     "name": "stdout",
     "output_type": "stream",
     "text": [
      "\u001b[36m(train_rf pid=1060205)\u001b[0m Train: (142, 43), Test: (36, 43)\n"
     ]
    },
    {
     "name": "stderr",
     "output_type": "stream",
     "text": [
      "\u001b[36m(train_rf pid=1060205)\u001b[0m /scratch/lfloerl/.condaenvs/ritme_model/lib/python3.10/site-packages/ritme/feature_space/aggregate_features.py:78: UserWarning: These features were not found in taxonomy and are hence disregarded: ['Fermentation_Timepoint'].\n",
      "\u001b[36m(train_rf pid=1060205)\u001b[0m   warnings.warn(\n",
      "2025-02-25 16:22:19,627\tWARNING util.py:201 -- The `callbacks.on_trial_result` operation took 1.929 s, which may be a performance bottleneck.\n",
      "2025-02-25 16:22:19,629\tWARNING util.py:201 -- The `process_trial_result` operation took 1.931 s, which may be a performance bottleneck.\n",
      "2025-02-25 16:22:19,629\tWARNING util.py:201 -- Processing trial results took 1.931 s, which may be a performance bottleneck. Please consider reporting results less frequently to Ray Tune.\n",
      "2025-02-25 16:22:19,629\tWARNING util.py:201 -- The `process_trial_result` operation took 1.932 s, which may be a performance bottleneck.\n",
      "\u001b[36m(train_rf pid=1060380)\u001b[0m /scratch/lfloerl/.condaenvs/ritme_model/lib/python3.10/site-packages/ritme/feature_space/aggregate_features.py:78: UserWarning: These features were not found in taxonomy and are hence disregarded: ['Fermentation_Timepoint'].\n",
      "\u001b[36m(train_rf pid=1060380)\u001b[0m   warnings.warn(\n"
     ]
    },
    {
     "name": "stdout",
     "output_type": "stream",
     "text": [
      "\u001b[36m(train_rf pid=1060380)\u001b[0m Train: (142, 61), Test: (36, 61)\n"
     ]
    },
    {
     "name": "stderr",
     "output_type": "stream",
     "text": [
      "2025-02-25 16:22:28,122\tWARNING util.py:201 -- The `callbacks.on_trial_result` operation took 2.481 s, which may be a performance bottleneck.\n",
      "2025-02-25 16:22:28,123\tWARNING util.py:201 -- The `process_trial_result` operation took 2.483 s, which may be a performance bottleneck.\n",
      "2025-02-25 16:22:28,125\tWARNING util.py:201 -- Processing trial results took 2.484 s, which may be a performance bottleneck. Please consider reporting results less frequently to Ray Tune.\n",
      "2025-02-25 16:22:28,125\tWARNING util.py:201 -- The `process_trial_result` operation took 2.485 s, which may be a performance bottleneck.\n"
     ]
    },
    {
     "name": "stdout",
     "output_type": "stream",
     "text": [
      "\u001b[36m(train_rf pid=1060503)\u001b[0m Train: (142, 286), Test: (36, 286)\n"
     ]
    },
    {
     "name": "stderr",
     "output_type": "stream",
     "text": [
      "\u001b[36m(train_rf pid=1060503)\u001b[0m /scratch/lfloerl/.condaenvs/ritme_model/lib/python3.10/site-packages/ritme/feature_space/aggregate_features.py:78: UserWarning: These features were not found in taxonomy and are hence disregarded: ['Fermentation_Timepoint'].\n",
      "\u001b[36m(train_rf pid=1060503)\u001b[0m   warnings.warn(\n",
      "2025-02-25 16:22:37,722\tWARNING util.py:201 -- The `callbacks.on_trial_result` operation took 2.845 s, which may be a performance bottleneck.\n",
      "2025-02-25 16:22:37,724\tWARNING util.py:201 -- The `process_trial_result` operation took 2.847 s, which may be a performance bottleneck.\n",
      "2025-02-25 16:22:37,725\tWARNING util.py:201 -- Processing trial results took 2.848 s, which may be a performance bottleneck. Please consider reporting results less frequently to Ray Tune.\n",
      "2025-02-25 16:22:37,725\tWARNING util.py:201 -- The `process_trial_result` operation took 2.849 s, which may be a performance bottleneck.\n"
     ]
    },
    {
     "name": "stdout",
     "output_type": "stream",
     "text": [
      "\u001b[36m(train_rf pid=1060623)\u001b[0m Train: (142, 656), Test: (36, 656)\n",
      "\u001b[36m(train_rf pid=1060754)\u001b[0m Train: (142, 689), Test: (36, 689)\n"
     ]
    },
    {
     "name": "stderr",
     "output_type": "stream",
     "text": [
      "2025-02-25 16:22:50,331\tWARNING util.py:201 -- The `callbacks.on_trial_result` operation took 1.939 s, which may be a performance bottleneck.\n",
      "2025-02-25 16:22:50,333\tWARNING util.py:201 -- The `process_trial_result` operation took 1.941 s, which may be a performance bottleneck.\n",
      "2025-02-25 16:22:50,334\tWARNING util.py:201 -- Processing trial results took 1.942 s, which may be a performance bottleneck. Please consider reporting results less frequently to Ray Tune.\n",
      "2025-02-25 16:22:50,334\tWARNING util.py:201 -- The `process_trial_result` operation took 1.942 s, which may be a performance bottleneck.\n"
     ]
    },
    {
     "name": "stdout",
     "output_type": "stream",
     "text": [
      "\u001b[36m(train_rf pid=1060931)\u001b[0m Train: (142, 64), Test: (36, 64)\n"
     ]
    },
    {
     "name": "stderr",
     "output_type": "stream",
     "text": [
      "\u001b[36m(train_rf pid=1060931)\u001b[0m /scratch/lfloerl/.condaenvs/ritme_model/lib/python3.10/site-packages/ritme/feature_space/aggregate_features.py:78: UserWarning: These features were not found in taxonomy and are hence disregarded: ['Fermentation_Timepoint'].\n",
      "\u001b[36m(train_rf pid=1060931)\u001b[0m   warnings.warn(\n",
      "2025-02-25 16:22:59,130\tWARNING util.py:201 -- The `callbacks.on_trial_result` operation took 1.340 s, which may be a performance bottleneck.\n",
      "2025-02-25 16:22:59,132\tWARNING util.py:201 -- The `process_trial_result` operation took 1.342 s, which may be a performance bottleneck.\n",
      "2025-02-25 16:22:59,132\tWARNING util.py:201 -- Processing trial results took 1.342 s, which may be a performance bottleneck. Please consider reporting results less frequently to Ray Tune.\n",
      "2025-02-25 16:22:59,133\tWARNING util.py:201 -- The `process_trial_result` operation took 1.343 s, which may be a performance bottleneck.\n",
      "2025-02-25 16:23:00,097\tWARNING util.py:201 -- The `callbacks.on_trial_result` operation took 0.771 s, which may be a performance bottleneck.\n",
      "2025-02-25 16:23:00,100\tWARNING util.py:201 -- The `process_trial_result` operation took 0.774 s, which may be a performance bottleneck.\n",
      "2025-02-25 16:23:00,101\tWARNING util.py:201 -- Processing trial results took 0.774 s, which may be a performance bottleneck. Please consider reporting results less frequently to Ray Tune.\n",
      "2025-02-25 16:23:00,101\tWARNING util.py:201 -- The `process_trial_result` operation took 0.775 s, which may be a performance bottleneck.\n",
      "\u001b[36m(train_rf pid=1061046)\u001b[0m /scratch/lfloerl/.condaenvs/ritme_model/lib/python3.10/site-packages/ritme/feature_space/aggregate_features.py:78: UserWarning: These features were not found in taxonomy and are hence disregarded: ['Fermentation_Timepoint'].\n",
      "\u001b[36m(train_rf pid=1061046)\u001b[0m   warnings.warn(\n"
     ]
    },
    {
     "name": "stdout",
     "output_type": "stream",
     "text": [
      "\u001b[36m(train_rf pid=1061046)\u001b[0m Train: (142, 49), Test: (36, 49)\n"
     ]
    },
    {
     "name": "stderr",
     "output_type": "stream",
     "text": [
      "2025-02-25 16:23:09,315\tWARNING util.py:201 -- The `callbacks.on_trial_result` operation took 2.479 s, which may be a performance bottleneck.\n",
      "2025-02-25 16:23:09,317\tWARNING util.py:201 -- The `process_trial_result` operation took 2.481 s, which may be a performance bottleneck.\n",
      "2025-02-25 16:23:09,318\tWARNING util.py:201 -- Processing trial results took 2.483 s, which may be a performance bottleneck. Please consider reporting results less frequently to Ray Tune.\n",
      "2025-02-25 16:23:09,318\tWARNING util.py:201 -- The `process_trial_result` operation took 2.483 s, which may be a performance bottleneck.\n",
      "\u001b[36m(train_rf pid=1061189)\u001b[0m /scratch/lfloerl/.condaenvs/ritme_model/lib/python3.10/site-packages/ritme/feature_space/aggregate_features.py:78: UserWarning: These features were not found in taxonomy and are hence disregarded: ['Fermentation_Timepoint'].\n",
      "\u001b[36m(train_rf pid=1061189)\u001b[0m   warnings.warn(\n"
     ]
    },
    {
     "name": "stdout",
     "output_type": "stream",
     "text": [
      "\u001b[36m(train_rf pid=1061189)\u001b[0m Train: (142, 48), Test: (36, 48)\n"
     ]
    },
    {
     "name": "stderr",
     "output_type": "stream",
     "text": [
      "2025-02-25 16:23:16,671\tWARNING util.py:201 -- The `callbacks.on_trial_result` operation took 2.851 s, which may be a performance bottleneck.\n",
      "2025-02-25 16:23:16,673\tWARNING util.py:201 -- The `process_trial_result` operation took 2.853 s, which may be a performance bottleneck.\n",
      "2025-02-25 16:23:16,673\tWARNING util.py:201 -- Processing trial results took 2.854 s, which may be a performance bottleneck. Please consider reporting results less frequently to Ray Tune.\n",
      "2025-02-25 16:23:16,674\tWARNING util.py:201 -- The `process_trial_result` operation took 2.854 s, which may be a performance bottleneck.\n"
     ]
    },
    {
     "name": "stdout",
     "output_type": "stream",
     "text": [
      "\u001b[36m(train_rf pid=1061307)\u001b[0m Train: (142, 48), Test: (36, 48)\n"
     ]
    },
    {
     "name": "stderr",
     "output_type": "stream",
     "text": [
      "\u001b[36m(train_rf pid=1061307)\u001b[0m /scratch/lfloerl/.condaenvs/ritme_model/lib/python3.10/site-packages/ritme/feature_space/aggregate_features.py:78: UserWarning: These features were not found in taxonomy and are hence disregarded: ['Fermentation_Timepoint'].\n",
      "\u001b[36m(train_rf pid=1061307)\u001b[0m   warnings.warn(\n",
      "2025-02-25 16:23:21,426\tWARNING util.py:201 -- The `callbacks.on_trial_result` operation took 1.258 s, which may be a performance bottleneck.\n",
      "2025-02-25 16:23:21,427\tWARNING util.py:201 -- The `process_trial_result` operation took 1.260 s, which may be a performance bottleneck.\n",
      "2025-02-25 16:23:21,428\tWARNING util.py:201 -- Processing trial results took 1.261 s, which may be a performance bottleneck. Please consider reporting results less frequently to Ray Tune.\n",
      "2025-02-25 16:23:21,429\tWARNING util.py:201 -- The `process_trial_result` operation took 1.261 s, which may be a performance bottleneck.\n",
      "\u001b[36m(train_rf pid=1061414)\u001b[0m /scratch/lfloerl/.condaenvs/ritme_model/lib/python3.10/site-packages/ritme/feature_space/aggregate_features.py:78: UserWarning: These features were not found in taxonomy and are hence disregarded: ['Fermentation_Timepoint'].\n",
      "\u001b[36m(train_rf pid=1061414)\u001b[0m   warnings.warn(\n"
     ]
    },
    {
     "name": "stdout",
     "output_type": "stream",
     "text": [
      "\u001b[36m(train_rf pid=1061414)\u001b[0m Train: (142, 45), Test: (36, 45)\n"
     ]
    },
    {
     "name": "stderr",
     "output_type": "stream",
     "text": [
      "2025-02-25 16:23:30,156\tWARNING util.py:201 -- The `callbacks.on_trial_result` operation took 2.283 s, which may be a performance bottleneck.\n",
      "2025-02-25 16:23:30,158\tWARNING util.py:201 -- The `process_trial_result` operation took 2.286 s, which may be a performance bottleneck.\n",
      "2025-02-25 16:23:30,158\tWARNING util.py:201 -- Processing trial results took 2.286 s, which may be a performance bottleneck. Please consider reporting results less frequently to Ray Tune.\n",
      "2025-02-25 16:23:30,159\tWARNING util.py:201 -- The `process_trial_result` operation took 2.287 s, which may be a performance bottleneck.\n",
      "\u001b[36m(train_rf pid=1061531)\u001b[0m /scratch/lfloerl/.condaenvs/ritme_model/lib/python3.10/site-packages/ritme/feature_space/aggregate_features.py:78: UserWarning: These features were not found in taxonomy and are hence disregarded: ['Fermentation_Timepoint'].\n",
      "\u001b[36m(train_rf pid=1061531)\u001b[0m   warnings.warn(\n"
     ]
    },
    {
     "name": "stdout",
     "output_type": "stream",
     "text": [
      "\u001b[36m(train_rf pid=1061531)\u001b[0m Train: (142, 46), Test: (36, 46)\n"
     ]
    },
    {
     "name": "stderr",
     "output_type": "stream",
     "text": [
      "2025-02-25 16:23:37,454\tWARNING util.py:201 -- The `callbacks.on_trial_result` operation took 2.649 s, which may be a performance bottleneck.\n",
      "2025-02-25 16:23:37,455\tWARNING util.py:201 -- The `process_trial_result` operation took 2.651 s, which may be a performance bottleneck.\n",
      "2025-02-25 16:23:37,456\tWARNING util.py:201 -- Processing trial results took 2.652 s, which may be a performance bottleneck. Please consider reporting results less frequently to Ray Tune.\n",
      "2025-02-25 16:23:37,457\tWARNING util.py:201 -- The `process_trial_result` operation took 2.653 s, which may be a performance bottleneck.\n",
      "\u001b[36m(train_rf pid=1061685)\u001b[0m /scratch/lfloerl/.condaenvs/ritme_model/lib/python3.10/site-packages/ritme/feature_space/aggregate_features.py:78: UserWarning: These features were not found in taxonomy and are hence disregarded: ['Fermentation_Timepoint'].\n",
      "\u001b[36m(train_rf pid=1061685)\u001b[0m   warnings.warn(\n"
     ]
    },
    {
     "name": "stdout",
     "output_type": "stream",
     "text": [
      "\u001b[36m(train_rf pid=1061685)\u001b[0m Train: (142, 45), Test: (36, 45)\n"
     ]
    },
    {
     "name": "stderr",
     "output_type": "stream",
     "text": [
      "2025-02-25 16:23:43,648\tWARNING util.py:201 -- The `callbacks.on_trial_result` operation took 1.553 s, which may be a performance bottleneck.\n",
      "2025-02-25 16:23:43,650\tWARNING util.py:201 -- The `process_trial_result` operation took 1.555 s, which may be a performance bottleneck.\n",
      "2025-02-25 16:23:43,651\tWARNING util.py:201 -- Processing trial results took 1.555 s, which may be a performance bottleneck. Please consider reporting results less frequently to Ray Tune.\n",
      "2025-02-25 16:23:43,651\tWARNING util.py:201 -- The `process_trial_result` operation took 1.556 s, which may be a performance bottleneck.\n"
     ]
    },
    {
     "name": "stdout",
     "output_type": "stream",
     "text": [
      "\u001b[36m(train_rf pid=1061793)\u001b[0m Train: (142, 45), Test: (36, 45)\n"
     ]
    },
    {
     "name": "stderr",
     "output_type": "stream",
     "text": [
      "\u001b[36m(train_rf pid=1061793)\u001b[0m /scratch/lfloerl/.condaenvs/ritme_model/lib/python3.10/site-packages/ritme/feature_space/aggregate_features.py:78: UserWarning: These features were not found in taxonomy and are hence disregarded: ['Fermentation_Timepoint'].\n",
      "\u001b[36m(train_rf pid=1061793)\u001b[0m   warnings.warn(\n",
      "2025-02-25 16:23:51,836\tWARNING util.py:201 -- The `callbacks.on_trial_result` operation took 2.384 s, which may be a performance bottleneck.\n",
      "2025-02-25 16:23:51,838\tWARNING util.py:201 -- The `process_trial_result` operation took 2.386 s, which may be a performance bottleneck.\n",
      "2025-02-25 16:23:51,839\tWARNING util.py:201 -- Processing trial results took 2.387 s, which may be a performance bottleneck. Please consider reporting results less frequently to Ray Tune.\n",
      "2025-02-25 16:23:51,839\tWARNING util.py:201 -- The `process_trial_result` operation took 2.387 s, which may be a performance bottleneck.\n"
     ]
    },
    {
     "name": "stdout",
     "output_type": "stream",
     "text": [
      "\u001b[36m(train_rf pid=1061904)\u001b[0m Train: (142, 44), Test: (36, 44)\n"
     ]
    },
    {
     "name": "stderr",
     "output_type": "stream",
     "text": [
      "\u001b[36m(train_rf pid=1061904)\u001b[0m /scratch/lfloerl/.condaenvs/ritme_model/lib/python3.10/site-packages/ritme/feature_space/aggregate_features.py:78: UserWarning: These features were not found in taxonomy and are hence disregarded: ['Fermentation_Timepoint'].\n",
      "\u001b[36m(train_rf pid=1061904)\u001b[0m   warnings.warn(\n",
      "2025-02-25 16:24:00,480\tWARNING util.py:201 -- The `callbacks.on_trial_result` operation took 3.486 s, which may be a performance bottleneck.\n",
      "2025-02-25 16:24:00,481\tWARNING util.py:201 -- The `process_trial_result` operation took 3.488 s, which may be a performance bottleneck.\n",
      "2025-02-25 16:24:00,482\tWARNING util.py:201 -- Processing trial results took 3.489 s, which may be a performance bottleneck. Please consider reporting results less frequently to Ray Tune.\n",
      "2025-02-25 16:24:00,482\tWARNING util.py:201 -- The `process_trial_result` operation took 3.489 s, which may be a performance bottleneck.\n",
      "\u001b[36m(train_rf pid=1062070)\u001b[0m /scratch/lfloerl/.condaenvs/ritme_model/lib/python3.10/site-packages/ritme/feature_space/aggregate_features.py:78: UserWarning: These features were not found in taxonomy and are hence disregarded: ['Fermentation_Timepoint'].\n",
      "\u001b[36m(train_rf pid=1062070)\u001b[0m   warnings.warn(\n"
     ]
    },
    {
     "name": "stdout",
     "output_type": "stream",
     "text": [
      "\u001b[36m(train_rf pid=1062070)\u001b[0m Train: (142, 134), Test: (36, 134)\n"
     ]
    },
    {
     "name": "stderr",
     "output_type": "stream",
     "text": [
      "2025-02-25 16:24:08,014\tWARNING util.py:201 -- The `callbacks.on_trial_result` operation took 3.801 s, which may be a performance bottleneck.\n",
      "2025-02-25 16:24:08,016\tWARNING util.py:201 -- The `process_trial_result` operation took 3.804 s, which may be a performance bottleneck.\n",
      "2025-02-25 16:24:08,017\tWARNING util.py:201 -- Processing trial results took 3.804 s, which may be a performance bottleneck. Please consider reporting results less frequently to Ray Tune.\n",
      "2025-02-25 16:24:08,017\tWARNING util.py:201 -- The `process_trial_result` operation took 3.805 s, which may be a performance bottleneck.\n",
      "\u001b[36m(train_rf pid=1062270)\u001b[0m /scratch/lfloerl/.condaenvs/ritme_model/lib/python3.10/site-packages/ritme/feature_space/aggregate_features.py:78: UserWarning: These features were not found in taxonomy and are hence disregarded: ['Fermentation_Timepoint'].\n",
      "\u001b[36m(train_rf pid=1062270)\u001b[0m   warnings.warn(\n"
     ]
    },
    {
     "name": "stdout",
     "output_type": "stream",
     "text": [
      "\u001b[36m(train_rf pid=1062270)\u001b[0m Train: (142, 66), Test: (36, 66)\n"
     ]
    },
    {
     "name": "stderr",
     "output_type": "stream",
     "text": [
      "2025-02-25 16:24:16,019\tWARNING util.py:201 -- The `callbacks.on_trial_result` operation took 2.268 s, which may be a performance bottleneck.\n",
      "2025-02-25 16:24:16,022\tWARNING util.py:201 -- The `process_trial_result` operation took 2.271 s, which may be a performance bottleneck.\n",
      "2025-02-25 16:24:16,022\tWARNING util.py:201 -- Processing trial results took 2.272 s, which may be a performance bottleneck. Please consider reporting results less frequently to Ray Tune.\n",
      "2025-02-25 16:24:16,023\tWARNING util.py:201 -- The `process_trial_result` operation took 2.273 s, which may be a performance bottleneck.\n",
      "\u001b[36m(train_rf pid=1062389)\u001b[0m /scratch/lfloerl/.condaenvs/ritme_model/lib/python3.10/site-packages/ritme/feature_space/aggregate_features.py:78: UserWarning: These features were not found in taxonomy and are hence disregarded: ['Fermentation_Timepoint'].\n",
      "\u001b[36m(train_rf pid=1062389)\u001b[0m   warnings.warn(\n"
     ]
    },
    {
     "name": "stdout",
     "output_type": "stream",
     "text": [
      "\u001b[36m(train_rf pid=1062389)\u001b[0m Train: (142, 65), Test: (36, 65)\n"
     ]
    },
    {
     "name": "stderr",
     "output_type": "stream",
     "text": [
      "2025-02-25 16:24:24,506\tWARNING util.py:201 -- The `callbacks.on_trial_result` operation took 3.190 s, which may be a performance bottleneck.\n",
      "2025-02-25 16:24:24,507\tWARNING util.py:201 -- The `process_trial_result` operation took 3.191 s, which may be a performance bottleneck.\n",
      "2025-02-25 16:24:24,508\tWARNING util.py:201 -- Processing trial results took 3.192 s, which may be a performance bottleneck. Please consider reporting results less frequently to Ray Tune.\n",
      "2025-02-25 16:24:24,508\tWARNING util.py:201 -- The `process_trial_result` operation took 3.192 s, which may be a performance bottleneck.\n",
      "\u001b[36m(train_rf pid=1062500)\u001b[0m /scratch/lfloerl/.condaenvs/ritme_model/lib/python3.10/site-packages/ritme/feature_space/aggregate_features.py:78: UserWarning: These features were not found in taxonomy and are hence disregarded: ['Fermentation_Timepoint'].\n",
      "\u001b[36m(train_rf pid=1062500)\u001b[0m   warnings.warn(\n"
     ]
    },
    {
     "name": "stdout",
     "output_type": "stream",
     "text": [
      "\u001b[36m(train_rf pid=1062500)\u001b[0m Train: (142, 41), Test: (36, 41)\n"
     ]
    },
    {
     "name": "stderr",
     "output_type": "stream",
     "text": [
      "2025-02-25 16:24:31,623\tWARNING util.py:201 -- The `callbacks.on_trial_result` operation took 2.772 s, which may be a performance bottleneck.\n",
      "2025-02-25 16:24:31,624\tWARNING util.py:201 -- The `process_trial_result` operation took 2.774 s, which may be a performance bottleneck.\n",
      "2025-02-25 16:24:31,625\tWARNING util.py:201 -- Processing trial results took 2.775 s, which may be a performance bottleneck. Please consider reporting results less frequently to Ray Tune.\n",
      "2025-02-25 16:24:31,627\tWARNING util.py:201 -- The `process_trial_result` operation took 2.776 s, which may be a performance bottleneck.\n"
     ]
    },
    {
     "name": "stdout",
     "output_type": "stream",
     "text": [
      "\u001b[36m(train_rf pid=1062609)\u001b[0m Train: (142, 42), Test: (36, 42)\n"
     ]
    },
    {
     "name": "stderr",
     "output_type": "stream",
     "text": [
      "\u001b[36m(train_rf pid=1062609)\u001b[0m /scratch/lfloerl/.condaenvs/ritme_model/lib/python3.10/site-packages/ritme/feature_space/aggregate_features.py:78: UserWarning: These features were not found in taxonomy and are hence disregarded: ['Fermentation_Timepoint'].\n",
      "\u001b[36m(train_rf pid=1062609)\u001b[0m   warnings.warn(\n",
      "2025-02-25 16:24:38,702\tWARNING util.py:201 -- The `callbacks.on_trial_result` operation took 2.666 s, which may be a performance bottleneck.\n",
      "2025-02-25 16:24:38,703\tWARNING util.py:201 -- The `process_trial_result` operation took 2.668 s, which may be a performance bottleneck.\n",
      "2025-02-25 16:24:38,704\tWARNING util.py:201 -- Processing trial results took 2.668 s, which may be a performance bottleneck. Please consider reporting results less frequently to Ray Tune.\n",
      "2025-02-25 16:24:38,705\tWARNING util.py:201 -- The `process_trial_result` operation took 2.669 s, which may be a performance bottleneck.\n",
      "\u001b[36m(train_rf pid=1062725)\u001b[0m /scratch/lfloerl/.condaenvs/ritme_model/lib/python3.10/site-packages/ritme/feature_space/aggregate_features.py:78: UserWarning: These features were not found in taxonomy and are hence disregarded: ['Fermentation_Timepoint'].\n",
      "\u001b[36m(train_rf pid=1062725)\u001b[0m   warnings.warn(\n"
     ]
    },
    {
     "name": "stdout",
     "output_type": "stream",
     "text": [
      "\u001b[36m(train_rf pid=1062725)\u001b[0m Train: (142, 42), Test: (36, 42)\n"
     ]
    },
    {
     "name": "stderr",
     "output_type": "stream",
     "text": [
      "2025-02-25 16:24:46,381\tWARNING util.py:201 -- The `callbacks.on_trial_result` operation took 2.809 s, which may be a performance bottleneck.\n",
      "2025-02-25 16:24:46,383\tWARNING util.py:201 -- The `process_trial_result` operation took 2.811 s, which may be a performance bottleneck.\n",
      "2025-02-25 16:24:46,384\tWARNING util.py:201 -- Processing trial results took 2.812 s, which may be a performance bottleneck. Please consider reporting results less frequently to Ray Tune.\n",
      "2025-02-25 16:24:46,384\tWARNING util.py:201 -- The `process_trial_result` operation took 2.812 s, which may be a performance bottleneck.\n"
     ]
    },
    {
     "name": "stdout",
     "output_type": "stream",
     "text": [
      "\u001b[36m(train_rf pid=1062875)\u001b[0m Train: (142, 45), Test: (36, 45)\n"
     ]
    },
    {
     "name": "stderr",
     "output_type": "stream",
     "text": [
      "\u001b[36m(train_rf pid=1062875)\u001b[0m /scratch/lfloerl/.condaenvs/ritme_model/lib/python3.10/site-packages/ritme/feature_space/aggregate_features.py:78: UserWarning: These features were not found in taxonomy and are hence disregarded: ['Fermentation_Timepoint'].\n",
      "\u001b[36m(train_rf pid=1062875)\u001b[0m   warnings.warn(\n",
      "2025-02-25 16:24:54,651\tWARNING util.py:201 -- The `callbacks.on_trial_result` operation took 2.393 s, which may be a performance bottleneck.\n",
      "2025-02-25 16:24:54,653\tWARNING util.py:201 -- The `process_trial_result` operation took 2.395 s, which may be a performance bottleneck.\n",
      "2025-02-25 16:24:54,654\tWARNING util.py:201 -- Processing trial results took 2.396 s, which may be a performance bottleneck. Please consider reporting results less frequently to Ray Tune.\n",
      "2025-02-25 16:24:54,654\tWARNING util.py:201 -- The `process_trial_result` operation took 2.396 s, which may be a performance bottleneck.\n"
     ]
    },
    {
     "name": "stdout",
     "output_type": "stream",
     "text": [
      "\u001b[36m(train_rf pid=1062989)\u001b[0m Train: (142, 44), Test: (36, 44)\n"
     ]
    },
    {
     "name": "stderr",
     "output_type": "stream",
     "text": [
      "\u001b[36m(train_rf pid=1062989)\u001b[0m /scratch/lfloerl/.condaenvs/ritme_model/lib/python3.10/site-packages/ritme/feature_space/aggregate_features.py:78: UserWarning: These features were not found in taxonomy and are hence disregarded: ['Fermentation_Timepoint'].\n",
      "\u001b[36m(train_rf pid=1062989)\u001b[0m   warnings.warn(\n",
      "2025-02-25 16:25:03,726\tWARNING util.py:201 -- The `callbacks.on_trial_result` operation took 3.627 s, which may be a performance bottleneck.\n",
      "2025-02-25 16:25:03,728\tWARNING util.py:201 -- The `process_trial_result` operation took 3.629 s, which may be a performance bottleneck.\n",
      "2025-02-25 16:25:03,728\tWARNING util.py:201 -- Processing trial results took 3.629 s, which may be a performance bottleneck. Please consider reporting results less frequently to Ray Tune.\n",
      "2025-02-25 16:25:03,728\tWARNING util.py:201 -- The `process_trial_result` operation took 3.630 s, which may be a performance bottleneck.\n"
     ]
    },
    {
     "name": "stdout",
     "output_type": "stream",
     "text": [
      "\u001b[36m(train_rf pid=1063202)\u001b[0m Train: (142, 130), Test: (36, 130)\n"
     ]
    },
    {
     "name": "stderr",
     "output_type": "stream",
     "text": [
      "\u001b[36m(train_rf pid=1063202)\u001b[0m /scratch/lfloerl/.condaenvs/ritme_model/lib/python3.10/site-packages/ritme/feature_space/aggregate_features.py:78: UserWarning: These features were not found in taxonomy and are hence disregarded: ['Fermentation_Timepoint'].\n",
      "\u001b[36m(train_rf pid=1063202)\u001b[0m   warnings.warn(\n",
      "2025-02-25 16:25:11,276\tWARNING util.py:201 -- The `callbacks.on_trial_result` operation took 1.839 s, which may be a performance bottleneck.\n",
      "2025-02-25 16:25:11,277\tWARNING util.py:201 -- The `process_trial_result` operation took 1.841 s, which may be a performance bottleneck.\n",
      "2025-02-25 16:25:11,278\tWARNING util.py:201 -- Processing trial results took 1.841 s, which may be a performance bottleneck. Please consider reporting results less frequently to Ray Tune.\n",
      "2025-02-25 16:25:11,279\tWARNING util.py:201 -- The `process_trial_result` operation took 1.842 s, which may be a performance bottleneck.\n"
     ]
    },
    {
     "name": "stdout",
     "output_type": "stream",
     "text": [
      "\u001b[36m(train_rf pid=1063347)\u001b[0m Train: (142, 128), Test: (36, 128)\n"
     ]
    },
    {
     "name": "stderr",
     "output_type": "stream",
     "text": [
      "\u001b[36m(train_rf pid=1063347)\u001b[0m /scratch/lfloerl/.condaenvs/ritme_model/lib/python3.10/site-packages/ritme/feature_space/aggregate_features.py:78: UserWarning: These features were not found in taxonomy and are hence disregarded: ['Fermentation_Timepoint'].\n",
      "\u001b[36m(train_rf pid=1063347)\u001b[0m   warnings.warn(\n",
      "2025-02-25 16:25:18,167\tWARNING util.py:201 -- The `callbacks.on_trial_result` operation took 2.321 s, which may be a performance bottleneck.\n",
      "2025-02-25 16:25:18,168\tWARNING util.py:201 -- The `process_trial_result` operation took 2.323 s, which may be a performance bottleneck.\n",
      "2025-02-25 16:25:18,169\tWARNING util.py:201 -- Processing trial results took 2.323 s, which may be a performance bottleneck. Please consider reporting results less frequently to Ray Tune.\n",
      "2025-02-25 16:25:18,169\tWARNING util.py:201 -- The `process_trial_result` operation took 2.323 s, which may be a performance bottleneck.\n"
     ]
    },
    {
     "name": "stdout",
     "output_type": "stream",
     "text": [
      "\u001b[36m(train_rf pid=1063463)\u001b[0m Train: (142, 43), Test: (36, 43)\n"
     ]
    },
    {
     "name": "stderr",
     "output_type": "stream",
     "text": [
      "\u001b[36m(train_rf pid=1063463)\u001b[0m /scratch/lfloerl/.condaenvs/ritme_model/lib/python3.10/site-packages/ritme/feature_space/aggregate_features.py:78: UserWarning: These features were not found in taxonomy and are hence disregarded: ['Fermentation_Timepoint'].\n",
      "\u001b[36m(train_rf pid=1063463)\u001b[0m   warnings.warn(\n",
      "2025-02-25 16:25:26,399\tWARNING util.py:201 -- The `callbacks.on_trial_result` operation took 3.093 s, which may be a performance bottleneck.\n",
      "2025-02-25 16:25:26,401\tWARNING util.py:201 -- The `process_trial_result` operation took 3.095 s, which may be a performance bottleneck.\n",
      "2025-02-25 16:25:26,402\tWARNING util.py:201 -- Processing trial results took 3.096 s, which may be a performance bottleneck. Please consider reporting results less frequently to Ray Tune.\n",
      "2025-02-25 16:25:26,402\tWARNING util.py:201 -- The `process_trial_result` operation took 3.096 s, which may be a performance bottleneck.\n"
     ]
    },
    {
     "name": "stdout",
     "output_type": "stream",
     "text": [
      "\u001b[36m(train_rf pid=1063575)\u001b[0m Train: (142, 45), Test: (36, 45)\n"
     ]
    },
    {
     "name": "stderr",
     "output_type": "stream",
     "text": [
      "\u001b[36m(train_rf pid=1063575)\u001b[0m /scratch/lfloerl/.condaenvs/ritme_model/lib/python3.10/site-packages/ritme/feature_space/aggregate_features.py:78: UserWarning: These features were not found in taxonomy and are hence disregarded: ['Fermentation_Timepoint'].\n",
      "\u001b[36m(train_rf pid=1063575)\u001b[0m   warnings.warn(\n",
      "2025-02-25 16:25:32,638\tWARNING util.py:201 -- The `callbacks.on_trial_result` operation took 2.714 s, which may be a performance bottleneck.\n",
      "2025-02-25 16:25:32,640\tWARNING util.py:201 -- The `process_trial_result` operation took 2.716 s, which may be a performance bottleneck.\n",
      "2025-02-25 16:25:32,640\tWARNING util.py:201 -- Processing trial results took 2.716 s, which may be a performance bottleneck. Please consider reporting results less frequently to Ray Tune.\n",
      "2025-02-25 16:25:32,641\tWARNING util.py:201 -- The `process_trial_result` operation took 2.717 s, which may be a performance bottleneck.\n"
     ]
    },
    {
     "name": "stdout",
     "output_type": "stream",
     "text": [
      "\u001b[36m(train_rf pid=1063728)\u001b[0m Train: (142, 45), Test: (36, 45)\n"
     ]
    },
    {
     "name": "stderr",
     "output_type": "stream",
     "text": [
      "2025-02-25 16:25:40,780\tWARNING util.py:201 -- The `callbacks.on_trial_result` operation took 3.391 s, which may be a performance bottleneck.\n",
      "2025-02-25 16:25:40,782\tWARNING util.py:201 -- The `process_trial_result` operation took 3.393 s, which may be a performance bottleneck.\n",
      "2025-02-25 16:25:40,782\tWARNING util.py:201 -- Processing trial results took 3.394 s, which may be a performance bottleneck. Please consider reporting results less frequently to Ray Tune.\n",
      "2025-02-25 16:25:40,783\tWARNING util.py:201 -- The `process_trial_result` operation took 3.394 s, which may be a performance bottleneck.\n",
      "\u001b[36m(train_rf pid=1063840)\u001b[0m /scratch/lfloerl/.condaenvs/ritme_model/lib/python3.10/site-packages/ritme/feature_space/aggregate_features.py:78: UserWarning: These features were not found in taxonomy and are hence disregarded: ['Fermentation_Timepoint'].\n",
      "\u001b[36m(train_rf pid=1063840)\u001b[0m   warnings.warn(\n"
     ]
    },
    {
     "name": "stdout",
     "output_type": "stream",
     "text": [
      "\u001b[36m(train_rf pid=1063840)\u001b[0m Train: (142, 104), Test: (36, 104)\n"
     ]
    },
    {
     "name": "stderr",
     "output_type": "stream",
     "text": [
      "2025-02-25 16:25:45,183\tWARNING util.py:201 -- The `callbacks.on_trial_result` operation took 0.784 s, which may be a performance bottleneck.\n",
      "2025-02-25 16:25:45,185\tWARNING util.py:201 -- The `process_trial_result` operation took 0.786 s, which may be a performance bottleneck.\n",
      "2025-02-25 16:25:45,186\tWARNING util.py:201 -- Processing trial results took 0.787 s, which may be a performance bottleneck. Please consider reporting results less frequently to Ray Tune.\n",
      "2025-02-25 16:25:45,186\tWARNING util.py:201 -- The `process_trial_result` operation took 0.787 s, which may be a performance bottleneck.\n"
     ]
    },
    {
     "name": "stdout",
     "output_type": "stream",
     "text": [
      "\u001b[36m(train_rf pid=1063949)\u001b[0m Train: (142, 51), Test: (36, 51)\n"
     ]
    },
    {
     "name": "stderr",
     "output_type": "stream",
     "text": [
      "\u001b[36m(train_rf pid=1063949)\u001b[0m /scratch/lfloerl/.condaenvs/ritme_model/lib/python3.10/site-packages/ritme/feature_space/aggregate_features.py:78: UserWarning: These features were not found in taxonomy and are hence disregarded: ['Fermentation_Timepoint'].\n",
      "\u001b[36m(train_rf pid=1063949)\u001b[0m   warnings.warn(\n",
      "2025-02-25 16:25:53,674\tWARNING util.py:201 -- The `callbacks.on_trial_result` operation took 2.734 s, which may be a performance bottleneck.\n",
      "2025-02-25 16:25:53,676\tWARNING util.py:201 -- The `process_trial_result` operation took 2.736 s, which may be a performance bottleneck.\n",
      "2025-02-25 16:25:53,676\tWARNING util.py:201 -- Processing trial results took 2.736 s, which may be a performance bottleneck. Please consider reporting results less frequently to Ray Tune.\n",
      "2025-02-25 16:25:53,677\tWARNING util.py:201 -- The `process_trial_result` operation took 2.737 s, which may be a performance bottleneck.\n",
      "\u001b[36m(train_rf pid=1064059)\u001b[0m /scratch/lfloerl/.condaenvs/ritme_model/lib/python3.10/site-packages/ritme/feature_space/aggregate_features.py:78: UserWarning: These features were not found in taxonomy and are hence disregarded: ['Fermentation_Timepoint'].\n",
      "\u001b[36m(train_rf pid=1064059)\u001b[0m   warnings.warn(\n"
     ]
    },
    {
     "name": "stdout",
     "output_type": "stream",
     "text": [
      "\u001b[36m(train_rf pid=1064059)\u001b[0m Train: (142, 39), Test: (36, 39)\n"
     ]
    },
    {
     "name": "stderr",
     "output_type": "stream",
     "text": [
      "2025-02-25 16:26:02,530\tWARNING util.py:201 -- The `callbacks.on_trial_result` operation took 3.688 s, which may be a performance bottleneck.\n",
      "2025-02-25 16:26:02,531\tWARNING util.py:201 -- The `process_trial_result` operation took 3.690 s, which may be a performance bottleneck.\n",
      "2025-02-25 16:26:02,532\tWARNING util.py:201 -- Processing trial results took 3.691 s, which may be a performance bottleneck. Please consider reporting results less frequently to Ray Tune.\n",
      "2025-02-25 16:26:02,533\tWARNING util.py:201 -- The `process_trial_result` operation took 3.691 s, which may be a performance bottleneck.\n",
      "\u001b[36m(train_rf pid=1064287)\u001b[0m /scratch/lfloerl/.condaenvs/ritme_model/lib/python3.10/site-packages/ritme/feature_space/aggregate_features.py:78: UserWarning: These features were not found in taxonomy and are hence disregarded: ['Fermentation_Timepoint'].\n",
      "\u001b[36m(train_rf pid=1064287)\u001b[0m   warnings.warn(\n"
     ]
    },
    {
     "name": "stdout",
     "output_type": "stream",
     "text": [
      "\u001b[36m(train_rf pid=1064287)\u001b[0m Train: (142, 43), Test: (36, 43)\n"
     ]
    },
    {
     "name": "stderr",
     "output_type": "stream",
     "text": [
      "2025-02-25 16:26:10,204\tWARNING util.py:201 -- The `callbacks.on_trial_result` operation took 3.112 s, which may be a performance bottleneck.\n",
      "2025-02-25 16:26:10,205\tWARNING util.py:201 -- The `process_trial_result` operation took 3.113 s, which may be a performance bottleneck.\n",
      "2025-02-25 16:26:10,206\tWARNING util.py:201 -- Processing trial results took 3.114 s, which may be a performance bottleneck. Please consider reporting results less frequently to Ray Tune.\n",
      "2025-02-25 16:26:10,206\tWARNING util.py:201 -- The `process_trial_result` operation took 3.115 s, which may be a performance bottleneck.\n"
     ]
    },
    {
     "name": "stdout",
     "output_type": "stream",
     "text": [
      "\u001b[36m(train_rf pid=1064425)\u001b[0m Train: (142, 43), Test: (36, 43)\n"
     ]
    },
    {
     "name": "stderr",
     "output_type": "stream",
     "text": [
      "\u001b[36m(train_rf pid=1064425)\u001b[0m /scratch/lfloerl/.condaenvs/ritme_model/lib/python3.10/site-packages/ritme/feature_space/aggregate_features.py:78: UserWarning: These features were not found in taxonomy and are hence disregarded: ['Fermentation_Timepoint'].\n",
      "\u001b[36m(train_rf pid=1064425)\u001b[0m   warnings.warn(\n",
      "2025-02-25 16:26:16,993\tWARNING util.py:201 -- The `callbacks.on_trial_result` operation took 1.688 s, which may be a performance bottleneck.\n",
      "2025-02-25 16:26:16,995\tWARNING util.py:201 -- The `process_trial_result` operation took 1.690 s, which may be a performance bottleneck.\n",
      "2025-02-25 16:26:16,996\tWARNING util.py:201 -- Processing trial results took 1.691 s, which may be a performance bottleneck. Please consider reporting results less frequently to Ray Tune.\n",
      "2025-02-25 16:26:16,996\tWARNING util.py:201 -- The `process_trial_result` operation took 1.692 s, which may be a performance bottleneck.\n",
      "\u001b[36m(train_rf pid=1064543)\u001b[0m /scratch/lfloerl/.condaenvs/ritme_model/lib/python3.10/site-packages/ritme/feature_space/aggregate_features.py:78: UserWarning: These features were not found in taxonomy and are hence disregarded: ['Fermentation_Timepoint'].\n",
      "\u001b[36m(train_rf pid=1064543)\u001b[0m   warnings.warn(\n"
     ]
    },
    {
     "name": "stdout",
     "output_type": "stream",
     "text": [
      "\u001b[36m(train_rf pid=1064543)\u001b[0m Train: (142, 47), Test: (36, 47)\n"
     ]
    },
    {
     "name": "stderr",
     "output_type": "stream",
     "text": [
      "2025-02-25 16:26:23,680\tWARNING util.py:201 -- The `callbacks.on_trial_result` operation took 2.391 s, which may be a performance bottleneck.\n",
      "2025-02-25 16:26:23,681\tWARNING util.py:201 -- The `process_trial_result` operation took 2.393 s, which may be a performance bottleneck.\n",
      "2025-02-25 16:26:23,682\tWARNING util.py:201 -- Processing trial results took 2.394 s, which may be a performance bottleneck. Please consider reporting results less frequently to Ray Tune.\n",
      "2025-02-25 16:26:23,682\tWARNING util.py:201 -- The `process_trial_result` operation took 2.394 s, which may be a performance bottleneck.\n",
      "\u001b[36m(train_rf pid=1064652)\u001b[0m /scratch/lfloerl/.condaenvs/ritme_model/lib/python3.10/site-packages/ritme/feature_space/aggregate_features.py:78: UserWarning: These features were not found in taxonomy and are hence disregarded: ['Fermentation_Timepoint'].\n",
      "\u001b[36m(train_rf pid=1064652)\u001b[0m   warnings.warn(\n"
     ]
    },
    {
     "name": "stdout",
     "output_type": "stream",
     "text": [
      "\u001b[36m(train_rf pid=1064652)\u001b[0m Train: (142, 53), Test: (36, 53)\n"
     ]
    },
    {
     "name": "stderr",
     "output_type": "stream",
     "text": [
      "2025-02-25 16:26:31,402\tWARNING util.py:201 -- The `callbacks.on_trial_result` operation took 2.671 s, which may be a performance bottleneck.\n",
      "2025-02-25 16:26:31,404\tWARNING util.py:201 -- The `process_trial_result` operation took 2.673 s, which may be a performance bottleneck.\n",
      "2025-02-25 16:26:31,404\tWARNING util.py:201 -- Processing trial results took 2.673 s, which may be a performance bottleneck. Please consider reporting results less frequently to Ray Tune.\n",
      "2025-02-25 16:26:31,405\tWARNING util.py:201 -- The `process_trial_result` operation took 2.674 s, which may be a performance bottleneck.\n"
     ]
    },
    {
     "name": "stdout",
     "output_type": "stream",
     "text": [
      "\u001b[36m(train_rf pid=1064762)\u001b[0m Train: (142, 42), Test: (36, 42)\n"
     ]
    },
    {
     "name": "stderr",
     "output_type": "stream",
     "text": [
      "\u001b[36m(train_rf pid=1064762)\u001b[0m /scratch/lfloerl/.condaenvs/ritme_model/lib/python3.10/site-packages/ritme/feature_space/aggregate_features.py:78: UserWarning: These features were not found in taxonomy and are hence disregarded: ['Fermentation_Timepoint'].\n",
      "\u001b[36m(train_rf pid=1064762)\u001b[0m   warnings.warn(\n",
      "2025-02-25 16:26:38,374\tWARNING util.py:201 -- The `callbacks.on_trial_result` operation took 2.893 s, which may be a performance bottleneck.\n",
      "2025-02-25 16:26:38,377\tWARNING util.py:201 -- The `process_trial_result` operation took 2.895 s, which may be a performance bottleneck.\n",
      "2025-02-25 16:26:38,377\tWARNING util.py:201 -- Processing trial results took 2.896 s, which may be a performance bottleneck. Please consider reporting results less frequently to Ray Tune.\n",
      "2025-02-25 16:26:38,378\tWARNING util.py:201 -- The `process_trial_result` operation took 2.897 s, which may be a performance bottleneck.\n"
     ]
    },
    {
     "name": "stdout",
     "output_type": "stream",
     "text": [
      "\u001b[36m(train_rf pid=1064879)\u001b[0m Train: (142, 42), Test: (36, 42)\n"
     ]
    },
    {
     "name": "stderr",
     "output_type": "stream",
     "text": [
      "\u001b[36m(train_rf pid=1064879)\u001b[0m /scratch/lfloerl/.condaenvs/ritme_model/lib/python3.10/site-packages/ritme/feature_space/aggregate_features.py:78: UserWarning: These features were not found in taxonomy and are hence disregarded: ['Fermentation_Timepoint'].\n",
      "\u001b[36m(train_rf pid=1064879)\u001b[0m   warnings.warn(\n",
      "2025-02-25 16:26:46,427\tWARNING util.py:201 -- The `callbacks.on_trial_result` operation took 3.357 s, which may be a performance bottleneck.\n",
      "2025-02-25 16:26:46,429\tWARNING util.py:201 -- The `process_trial_result` operation took 3.359 s, which may be a performance bottleneck.\n",
      "2025-02-25 16:26:46,430\tWARNING util.py:201 -- Processing trial results took 3.360 s, which may be a performance bottleneck. Please consider reporting results less frequently to Ray Tune.\n",
      "2025-02-25 16:26:46,430\tWARNING util.py:201 -- The `process_trial_result` operation took 3.360 s, which may be a performance bottleneck.\n"
     ]
    },
    {
     "name": "stdout",
     "output_type": "stream",
     "text": [
      "\u001b[36m(train_rf pid=1065031)\u001b[0m Train: (142, 61), Test: (36, 61)\n"
     ]
    },
    {
     "name": "stderr",
     "output_type": "stream",
     "text": [
      "\u001b[36m(train_rf pid=1065031)\u001b[0m /scratch/lfloerl/.condaenvs/ritme_model/lib/python3.10/site-packages/ritme/feature_space/aggregate_features.py:78: UserWarning: These features were not found in taxonomy and are hence disregarded: ['Fermentation_Timepoint'].\n",
      "\u001b[36m(train_rf pid=1065031)\u001b[0m   warnings.warn(\n",
      "2025-02-25 16:26:53,040\tWARNING util.py:201 -- The `callbacks.on_trial_result` operation took 2.276 s, which may be a performance bottleneck.\n",
      "2025-02-25 16:26:53,042\tWARNING util.py:201 -- The `process_trial_result` operation took 2.277 s, which may be a performance bottleneck.\n",
      "2025-02-25 16:26:53,043\tWARNING util.py:201 -- Processing trial results took 2.279 s, which may be a performance bottleneck. Please consider reporting results less frequently to Ray Tune.\n",
      "2025-02-25 16:26:53,044\tWARNING util.py:201 -- The `process_trial_result` operation took 2.279 s, which may be a performance bottleneck.\n"
     ]
    },
    {
     "name": "stdout",
     "output_type": "stream",
     "text": [
      "\u001b[36m(train_rf pid=1065143)\u001b[0m Train: (142, 62), Test: (36, 62)\n"
     ]
    },
    {
     "name": "stderr",
     "output_type": "stream",
     "text": [
      "\u001b[36m(train_rf pid=1065143)\u001b[0m /scratch/lfloerl/.condaenvs/ritme_model/lib/python3.10/site-packages/ritme/feature_space/aggregate_features.py:78: UserWarning: These features were not found in taxonomy and are hence disregarded: ['Fermentation_Timepoint'].\n",
      "\u001b[36m(train_rf pid=1065143)\u001b[0m   warnings.warn(\n",
      "2025-02-25 16:27:01,236\tWARNING util.py:201 -- The `callbacks.on_trial_result` operation took 2.882 s, which may be a performance bottleneck.\n",
      "2025-02-25 16:27:01,238\tWARNING util.py:201 -- The `process_trial_result` operation took 2.884 s, which may be a performance bottleneck.\n",
      "2025-02-25 16:27:01,238\tWARNING util.py:201 -- Processing trial results took 2.884 s, which may be a performance bottleneck. Please consider reporting results less frequently to Ray Tune.\n",
      "2025-02-25 16:27:01,239\tWARNING util.py:201 -- The `process_trial_result` operation took 2.885 s, which may be a performance bottleneck.\n"
     ]
    },
    {
     "name": "stdout",
     "output_type": "stream",
     "text": [
      "\u001b[36m(train_rf pid=1065358)\u001b[0m Train: (142, 1716), Test: (36, 1716)\n"
     ]
    },
    {
     "name": "stderr",
     "output_type": "stream",
     "text": [
      "2025-02-25 16:27:10,826\tWARNING util.py:201 -- The `callbacks.on_trial_result` operation took 2.228 s, which may be a performance bottleneck.\n",
      "2025-02-25 16:27:10,828\tWARNING util.py:201 -- The `process_trial_result` operation took 2.230 s, which may be a performance bottleneck.\n",
      "2025-02-25 16:27:10,829\tWARNING util.py:201 -- Processing trial results took 2.231 s, which may be a performance bottleneck. Please consider reporting results less frequently to Ray Tune.\n",
      "2025-02-25 16:27:10,829\tWARNING util.py:201 -- The `process_trial_result` operation took 2.231 s, which may be a performance bottleneck.\n"
     ]
    },
    {
     "name": "stdout",
     "output_type": "stream",
     "text": [
      "\u001b[36m(train_rf pid=1065497)\u001b[0m Train: (142, 1731), Test: (36, 1731)\n",
      "\u001b[36m(train_rf pid=1065613)\u001b[0m Train: (142, 46), Test: (36, 46)\n"
     ]
    },
    {
     "name": "stderr",
     "output_type": "stream",
     "text": [
      "\u001b[36m(train_rf pid=1065613)\u001b[0m /scratch/lfloerl/.condaenvs/ritme_model/lib/python3.10/site-packages/ritme/feature_space/aggregate_features.py:78: UserWarning: These features were not found in taxonomy and are hence disregarded: ['Fermentation_Timepoint'].\n",
      "\u001b[36m(train_rf pid=1065613)\u001b[0m   warnings.warn(\n",
      "2025-02-25 16:27:25,094\tWARNING util.py:201 -- The `callbacks.on_trial_result` operation took 2.958 s, which may be a performance bottleneck.\n",
      "2025-02-25 16:27:25,095\tWARNING util.py:201 -- The `process_trial_result` operation took 2.960 s, which may be a performance bottleneck.\n",
      "2025-02-25 16:27:25,096\tWARNING util.py:201 -- Processing trial results took 2.961 s, which may be a performance bottleneck. Please consider reporting results less frequently to Ray Tune.\n",
      "2025-02-25 16:27:25,096\tWARNING util.py:201 -- The `process_trial_result` operation took 2.961 s, which may be a performance bottleneck.\n"
     ]
    },
    {
     "name": "stdout",
     "output_type": "stream",
     "text": [
      "\u001b[36m(train_rf pid=1065810)\u001b[0m Train: (142, 46), Test: (36, 46)\n"
     ]
    },
    {
     "name": "stderr",
     "output_type": "stream",
     "text": [
      "\u001b[36m(train_rf pid=1065810)\u001b[0m /scratch/lfloerl/.condaenvs/ritme_model/lib/python3.10/site-packages/ritme/feature_space/aggregate_features.py:78: UserWarning: These features were not found in taxonomy and are hence disregarded: ['Fermentation_Timepoint'].\n",
      "\u001b[36m(train_rf pid=1065810)\u001b[0m   warnings.warn(\n",
      "2025-02-25 16:27:31,072\tWARNING util.py:201 -- The `callbacks.on_trial_result` operation took 1.783 s, which may be a performance bottleneck.\n",
      "2025-02-25 16:27:31,074\tWARNING util.py:201 -- The `process_trial_result` operation took 1.785 s, which may be a performance bottleneck.\n",
      "2025-02-25 16:27:31,075\tWARNING util.py:201 -- Processing trial results took 1.786 s, which may be a performance bottleneck. Please consider reporting results less frequently to Ray Tune.\n",
      "2025-02-25 16:27:31,076\tWARNING util.py:201 -- The `process_trial_result` operation took 1.786 s, which may be a performance bottleneck.\n",
      "2025-02-25 16:27:32,494\tWARNING util.py:201 -- The `callbacks.on_trial_result` operation took 1.414 s, which may be a performance bottleneck.\n",
      "2025-02-25 16:27:32,496\tWARNING util.py:201 -- The `process_trial_result` operation took 1.416 s, which may be a performance bottleneck.\n",
      "2025-02-25 16:27:32,497\tWARNING util.py:201 -- Processing trial results took 1.417 s, which may be a performance bottleneck. Please consider reporting results less frequently to Ray Tune.\n",
      "2025-02-25 16:27:32,497\tWARNING util.py:201 -- The `process_trial_result` operation took 1.418 s, which may be a performance bottleneck.\n"
     ]
    },
    {
     "name": "stdout",
     "output_type": "stream",
     "text": [
      "\u001b[36m(train_rf pid=1065987)\u001b[0m Train: (142, 44), Test: (36, 44)\n"
     ]
    },
    {
     "name": "stderr",
     "output_type": "stream",
     "text": [
      "\u001b[36m(train_rf pid=1065987)\u001b[0m /scratch/lfloerl/.condaenvs/ritme_model/lib/python3.10/site-packages/ritme/feature_space/aggregate_features.py:78: UserWarning: These features were not found in taxonomy and are hence disregarded: ['Fermentation_Timepoint'].\n",
      "\u001b[36m(train_rf pid=1065987)\u001b[0m   warnings.warn(\n",
      "2025-02-25 16:27:41,727\tWARNING util.py:201 -- The `callbacks.on_trial_result` operation took 3.219 s, which may be a performance bottleneck.\n",
      "2025-02-25 16:27:41,728\tWARNING util.py:201 -- The `process_trial_result` operation took 3.221 s, which may be a performance bottleneck.\n",
      "2025-02-25 16:27:41,729\tWARNING util.py:201 -- Processing trial results took 3.222 s, which may be a performance bottleneck. Please consider reporting results less frequently to Ray Tune.\n",
      "2025-02-25 16:27:41,729\tWARNING util.py:201 -- The `process_trial_result` operation took 3.222 s, which may be a performance bottleneck.\n"
     ]
    },
    {
     "name": "stdout",
     "output_type": "stream",
     "text": [
      "\u001b[36m(train_rf pid=1066111)\u001b[0m Train: (142, 286), Test: (36, 286)\n"
     ]
    },
    {
     "name": "stderr",
     "output_type": "stream",
     "text": [
      "\u001b[36m(train_rf pid=1066111)\u001b[0m /scratch/lfloerl/.condaenvs/ritme_model/lib/python3.10/site-packages/ritme/feature_space/aggregate_features.py:78: UserWarning: These features were not found in taxonomy and are hence disregarded: ['Fermentation_Timepoint'].\n",
      "\u001b[36m(train_rf pid=1066111)\u001b[0m   warnings.warn(\n",
      "2025-02-25 16:27:50,533\tWARNING util.py:201 -- The `callbacks.on_trial_result` operation took 3.989 s, which may be a performance bottleneck.\n",
      "2025-02-25 16:27:50,535\tWARNING util.py:201 -- The `process_trial_result` operation took 3.992 s, which may be a performance bottleneck.\n",
      "2025-02-25 16:27:50,536\tWARNING util.py:201 -- Processing trial results took 3.993 s, which may be a performance bottleneck. Please consider reporting results less frequently to Ray Tune.\n",
      "2025-02-25 16:27:50,537\tWARNING util.py:201 -- The `process_trial_result` operation took 3.993 s, which may be a performance bottleneck.\n"
     ]
    },
    {
     "name": "stdout",
     "output_type": "stream",
     "text": [
      "\u001b[36m(train_rf pid=1066239)\u001b[0m Train: (142, 285), Test: (36, 285)\n"
     ]
    },
    {
     "name": "stderr",
     "output_type": "stream",
     "text": [
      "\u001b[36m(train_rf pid=1066239)\u001b[0m /scratch/lfloerl/.condaenvs/ritme_model/lib/python3.10/site-packages/ritme/feature_space/aggregate_features.py:78: UserWarning: These features were not found in taxonomy and are hence disregarded: ['Fermentation_Timepoint'].\n",
      "\u001b[36m(train_rf pid=1066239)\u001b[0m   warnings.warn(\n",
      "2025-02-25 16:27:55,644\tWARNING util.py:201 -- The `callbacks.on_trial_result` operation took 1.258 s, which may be a performance bottleneck.\n",
      "2025-02-25 16:27:55,646\tWARNING util.py:201 -- The `process_trial_result` operation took 1.260 s, which may be a performance bottleneck.\n",
      "2025-02-25 16:27:55,646\tWARNING util.py:201 -- Processing trial results took 1.260 s, which may be a performance bottleneck. Please consider reporting results less frequently to Ray Tune.\n",
      "2025-02-25 16:27:55,647\tWARNING util.py:201 -- The `process_trial_result` operation took 1.261 s, which may be a performance bottleneck.\n",
      "\u001b[36m(train_rf pid=1066364)\u001b[0m /scratch/lfloerl/.condaenvs/ritme_model/lib/python3.10/site-packages/ritme/feature_space/aggregate_features.py:78: UserWarning: These features were not found in taxonomy and are hence disregarded: ['Fermentation_Timepoint'].\n",
      "\u001b[36m(train_rf pid=1066364)\u001b[0m   warnings.warn(\n"
     ]
    },
    {
     "name": "stdout",
     "output_type": "stream",
     "text": [
      "\u001b[36m(train_rf pid=1066364)\u001b[0m Train: (142, 60), Test: (36, 60)\n"
     ]
    },
    {
     "name": "stderr",
     "output_type": "stream",
     "text": [
      "2025-02-25 16:28:02,781\tWARNING util.py:201 -- The `callbacks.on_trial_result` operation took 2.660 s, which may be a performance bottleneck.\n",
      "2025-02-25 16:28:02,783\tWARNING util.py:201 -- The `process_trial_result` operation took 2.662 s, which may be a performance bottleneck.\n",
      "2025-02-25 16:28:02,784\tWARNING util.py:201 -- Processing trial results took 2.663 s, which may be a performance bottleneck. Please consider reporting results less frequently to Ray Tune.\n",
      "2025-02-25 16:28:02,785\tWARNING util.py:201 -- The `process_trial_result` operation took 2.663 s, which may be a performance bottleneck.\n"
     ]
    },
    {
     "name": "stdout",
     "output_type": "stream",
     "text": [
      "\u001b[36m(train_rf pid=1066484)\u001b[0m Train: (142, 58), Test: (36, 58)\n"
     ]
    },
    {
     "name": "stderr",
     "output_type": "stream",
     "text": [
      "\u001b[36m(train_rf pid=1066484)\u001b[0m /scratch/lfloerl/.condaenvs/ritme_model/lib/python3.10/site-packages/ritme/feature_space/aggregate_features.py:78: UserWarning: These features were not found in taxonomy and are hence disregarded: ['Fermentation_Timepoint'].\n",
      "\u001b[36m(train_rf pid=1066484)\u001b[0m   warnings.warn(\n",
      "2025-02-25 16:28:11,777\tWARNING util.py:201 -- The `callbacks.on_trial_result` operation took 3.356 s, which may be a performance bottleneck.\n",
      "2025-02-25 16:28:11,779\tWARNING util.py:201 -- The `process_trial_result` operation took 3.358 s, which may be a performance bottleneck.\n",
      "2025-02-25 16:28:11,780\tWARNING util.py:201 -- Processing trial results took 3.359 s, which may be a performance bottleneck. Please consider reporting results less frequently to Ray Tune.\n",
      "2025-02-25 16:28:11,781\tWARNING util.py:201 -- The `process_trial_result` operation took 3.360 s, which may be a performance bottleneck.\n"
     ]
    },
    {
     "name": "stdout",
     "output_type": "stream",
     "text": [
      "\u001b[36m(train_rf pid=1066647)\u001b[0m Train: (142, 39), Test: (36, 39)\n"
     ]
    },
    {
     "name": "stderr",
     "output_type": "stream",
     "text": [
      "\u001b[36m(train_rf pid=1066647)\u001b[0m /scratch/lfloerl/.condaenvs/ritme_model/lib/python3.10/site-packages/ritme/feature_space/aggregate_features.py:78: UserWarning: These features were not found in taxonomy and are hence disregarded: ['Fermentation_Timepoint'].\n",
      "\u001b[36m(train_rf pid=1066647)\u001b[0m   warnings.warn(\n",
      "2025-02-25 16:28:19,058\tWARNING util.py:201 -- The `callbacks.on_trial_result` operation took 2.844 s, which may be a performance bottleneck.\n",
      "2025-02-25 16:28:19,060\tWARNING util.py:201 -- The `process_trial_result` operation took 2.846 s, which may be a performance bottleneck.\n",
      "2025-02-25 16:28:19,062\tWARNING util.py:201 -- Processing trial results took 2.848 s, which may be a performance bottleneck. Please consider reporting results less frequently to Ray Tune.\n",
      "2025-02-25 16:28:19,063\tWARNING util.py:201 -- The `process_trial_result` operation took 2.849 s, which may be a performance bottleneck.\n"
     ]
    },
    {
     "name": "stdout",
     "output_type": "stream",
     "text": [
      "\u001b[36m(train_rf pid=1066778)\u001b[0m Train: (142, 39), Test: (36, 39)\n"
     ]
    },
    {
     "name": "stderr",
     "output_type": "stream",
     "text": [
      "\u001b[36m(train_rf pid=1066778)\u001b[0m /scratch/lfloerl/.condaenvs/ritme_model/lib/python3.10/site-packages/ritme/feature_space/aggregate_features.py:78: UserWarning: These features were not found in taxonomy and are hence disregarded: ['Fermentation_Timepoint'].\n",
      "\u001b[36m(train_rf pid=1066778)\u001b[0m   warnings.warn(\n",
      "2025-02-25 16:28:26,478\tWARNING util.py:201 -- The `callbacks.on_trial_result` operation took 1.494 s, which may be a performance bottleneck.\n",
      "2025-02-25 16:28:26,479\tWARNING util.py:201 -- The `process_trial_result` operation took 1.496 s, which may be a performance bottleneck.\n",
      "2025-02-25 16:28:26,480\tWARNING util.py:201 -- Processing trial results took 1.497 s, which may be a performance bottleneck. Please consider reporting results less frequently to Ray Tune.\n",
      "2025-02-25 16:28:26,481\tWARNING util.py:201 -- The `process_trial_result` operation took 1.498 s, which may be a performance bottleneck.\n",
      "\u001b[36m(train_rf pid=1066903)\u001b[0m /scratch/lfloerl/.condaenvs/ritme_model/lib/python3.10/site-packages/ritme/feature_space/aggregate_features.py:78: UserWarning: These features were not found in taxonomy and are hence disregarded: ['Fermentation_Timepoint'].\n",
      "\u001b[36m(train_rf pid=1066903)\u001b[0m   warnings.warn(\n"
     ]
    },
    {
     "name": "stdout",
     "output_type": "stream",
     "text": [
      "\u001b[36m(train_rf pid=1066903)\u001b[0m Train: (142, 45), Test: (36, 45)\n"
     ]
    },
    {
     "name": "stderr",
     "output_type": "stream",
     "text": [
      "2025-02-25 16:28:33,410\tWARNING util.py:201 -- The `callbacks.on_trial_result` operation took 1.325 s, which may be a performance bottleneck.\n",
      "2025-02-25 16:28:33,411\tWARNING util.py:201 -- The `process_trial_result` operation took 1.327 s, which may be a performance bottleneck.\n",
      "2025-02-25 16:28:33,412\tWARNING util.py:201 -- Processing trial results took 1.327 s, which may be a performance bottleneck. Please consider reporting results less frequently to Ray Tune.\n",
      "2025-02-25 16:28:33,413\tWARNING util.py:201 -- The `process_trial_result` operation took 1.328 s, which may be a performance bottleneck.\n",
      "\u001b[36m(train_rf pid=1067032)\u001b[0m /scratch/lfloerl/.condaenvs/ritme_model/lib/python3.10/site-packages/ritme/feature_space/aggregate_features.py:78: UserWarning: These features were not found in taxonomy and are hence disregarded: ['Fermentation_Timepoint'].\n",
      "\u001b[36m(train_rf pid=1067032)\u001b[0m   warnings.warn(\n"
     ]
    },
    {
     "name": "stdout",
     "output_type": "stream",
     "text": [
      "\u001b[36m(train_rf pid=1067032)\u001b[0m Train: (142, 45), Test: (36, 45)\n"
     ]
    },
    {
     "name": "stderr",
     "output_type": "stream",
     "text": [
      "2025-02-25 16:28:44,961\tWARNING util.py:201 -- The `callbacks.on_trial_result` operation took 4.875 s, which may be a performance bottleneck.\n",
      "2025-02-25 16:28:44,963\tWARNING util.py:201 -- The `process_trial_result` operation took 4.877 s, which may be a performance bottleneck.\n",
      "2025-02-25 16:28:44,964\tWARNING util.py:201 -- Processing trial results took 4.877 s, which may be a performance bottleneck. Please consider reporting results less frequently to Ray Tune.\n",
      "2025-02-25 16:28:44,964\tWARNING util.py:201 -- The `process_trial_result` operation took 4.878 s, which may be a performance bottleneck.\n"
     ]
    },
    {
     "name": "stdout",
     "output_type": "stream",
     "text": [
      "\u001b[36m(train_rf pid=1067202)\u001b[0m Train: (142, 47), Test: (36, 47)\n"
     ]
    },
    {
     "name": "stderr",
     "output_type": "stream",
     "text": [
      "\u001b[36m(train_rf pid=1067202)\u001b[0m /scratch/lfloerl/.condaenvs/ritme_model/lib/python3.10/site-packages/ritme/feature_space/aggregate_features.py:78: UserWarning: These features were not found in taxonomy and are hence disregarded: ['Fermentation_Timepoint'].\n",
      "\u001b[36m(train_rf pid=1067202)\u001b[0m   warnings.warn(\n",
      "2025-02-25 16:28:48,368\tWARNING util.py:201 -- The `callbacks.on_trial_result` operation took 1.251 s, which may be a performance bottleneck.\n",
      "2025-02-25 16:28:48,369\tWARNING util.py:201 -- The `process_trial_result` operation took 1.253 s, which may be a performance bottleneck.\n",
      "2025-02-25 16:28:48,370\tWARNING util.py:201 -- Processing trial results took 1.254 s, which may be a performance bottleneck. Please consider reporting results less frequently to Ray Tune.\n",
      "2025-02-25 16:28:48,370\tWARNING util.py:201 -- The `process_trial_result` operation took 1.254 s, which may be a performance bottleneck.\n"
     ]
    },
    {
     "name": "stdout",
     "output_type": "stream",
     "text": [
      "\u001b[36m(train_rf pid=1067329)\u001b[0m Train: (142, 47), Test: (36, 47)\n"
     ]
    },
    {
     "name": "stderr",
     "output_type": "stream",
     "text": [
      "\u001b[36m(train_rf pid=1067329)\u001b[0m /scratch/lfloerl/.condaenvs/ritme_model/lib/python3.10/site-packages/ritme/feature_space/aggregate_features.py:78: UserWarning: These features were not found in taxonomy and are hence disregarded: ['Fermentation_Timepoint'].\n",
      "\u001b[36m(train_rf pid=1067329)\u001b[0m   warnings.warn(\n",
      "2025-02-25 16:28:55,897\tWARNING util.py:201 -- The `callbacks.on_trial_result` operation took 1.936 s, which may be a performance bottleneck.\n",
      "2025-02-25 16:28:55,899\tWARNING util.py:201 -- The `process_trial_result` operation took 1.937 s, which may be a performance bottleneck.\n",
      "2025-02-25 16:28:55,900\tWARNING util.py:201 -- Processing trial results took 1.939 s, which may be a performance bottleneck. Please consider reporting results less frequently to Ray Tune.\n",
      "2025-02-25 16:28:55,901\tWARNING util.py:201 -- The `process_trial_result` operation took 1.939 s, which may be a performance bottleneck.\n",
      "\u001b[36m(train_rf pid=1067454)\u001b[0m /scratch/lfloerl/.condaenvs/ritme_model/lib/python3.10/site-packages/ritme/feature_space/aggregate_features.py:78: UserWarning: These features were not found in taxonomy and are hence disregarded: ['Fermentation_Timepoint'].\n",
      "\u001b[36m(train_rf pid=1067454)\u001b[0m   warnings.warn(\n"
     ]
    },
    {
     "name": "stdout",
     "output_type": "stream",
     "text": [
      "\u001b[36m(train_rf pid=1067454)\u001b[0m Train: (142, 45), Test: (36, 45)\n"
     ]
    },
    {
     "name": "stderr",
     "output_type": "stream",
     "text": [
      "2025-02-25 16:29:06,849\tWARNING util.py:201 -- The `callbacks.on_trial_result` operation took 4.634 s, which may be a performance bottleneck.\n",
      "2025-02-25 16:29:06,850\tWARNING util.py:201 -- The `process_trial_result` operation took 4.636 s, which may be a performance bottleneck.\n",
      "2025-02-25 16:29:06,851\tWARNING util.py:201 -- Processing trial results took 4.637 s, which may be a performance bottleneck. Please consider reporting results less frequently to Ray Tune.\n",
      "2025-02-25 16:29:06,852\tWARNING util.py:201 -- The `process_trial_result` operation took 4.637 s, which may be a performance bottleneck.\n",
      "\u001b[36m(train_rf pid=1067616)\u001b[0m /scratch/lfloerl/.condaenvs/ritme_model/lib/python3.10/site-packages/ritme/feature_space/aggregate_features.py:78: UserWarning: These features were not found in taxonomy and are hence disregarded: ['Fermentation_Timepoint'].\n",
      "\u001b[36m(train_rf pid=1067616)\u001b[0m   warnings.warn(\n"
     ]
    },
    {
     "name": "stdout",
     "output_type": "stream",
     "text": [
      "\u001b[36m(train_rf pid=1067616)\u001b[0m Train: (142, 45), Test: (36, 45)\n"
     ]
    },
    {
     "name": "stderr",
     "output_type": "stream",
     "text": [
      "2025-02-25 16:29:13,357\tWARNING util.py:201 -- The `callbacks.on_trial_result` operation took 3.117 s, which may be a performance bottleneck.\n",
      "2025-02-25 16:29:13,358\tWARNING util.py:201 -- The `process_trial_result` operation took 3.118 s, which may be a performance bottleneck.\n",
      "2025-02-25 16:29:13,359\tWARNING util.py:201 -- Processing trial results took 3.120 s, which may be a performance bottleneck. Please consider reporting results less frequently to Ray Tune.\n",
      "2025-02-25 16:29:13,360\tWARNING util.py:201 -- The `process_trial_result` operation took 3.120 s, which may be a performance bottleneck.\n",
      "\u001b[36m(train_rf pid=1067745)\u001b[0m /scratch/lfloerl/.condaenvs/ritme_model/lib/python3.10/site-packages/ritme/feature_space/aggregate_features.py:78: UserWarning: These features were not found in taxonomy and are hence disregarded: ['Fermentation_Timepoint'].\n",
      "\u001b[36m(train_rf pid=1067745)\u001b[0m   warnings.warn(\n"
     ]
    },
    {
     "name": "stdout",
     "output_type": "stream",
     "text": [
      "\u001b[36m(train_rf pid=1067745)\u001b[0m Train: (142, 45), Test: (36, 45)\n"
     ]
    },
    {
     "name": "stderr",
     "output_type": "stream",
     "text": [
      "2025-02-25 16:29:21,962\tWARNING util.py:201 -- The `callbacks.on_trial_result` operation took 2.098 s, which may be a performance bottleneck.\n",
      "2025-02-25 16:29:21,964\tWARNING util.py:201 -- The `process_trial_result` operation took 2.099 s, which may be a performance bottleneck.\n",
      "2025-02-25 16:29:21,964\tWARNING util.py:201 -- Processing trial results took 2.100 s, which may be a performance bottleneck. Please consider reporting results less frequently to Ray Tune.\n",
      "2025-02-25 16:29:21,965\tWARNING util.py:201 -- The `process_trial_result` operation took 2.101 s, which may be a performance bottleneck.\n"
     ]
    },
    {
     "name": "stdout",
     "output_type": "stream",
     "text": [
      "\u001b[36m(train_rf pid=1067882)\u001b[0m Train: (142, 106), Test: (36, 106)\n"
     ]
    },
    {
     "name": "stderr",
     "output_type": "stream",
     "text": [
      "\u001b[36m(train_rf pid=1067882)\u001b[0m /scratch/lfloerl/.condaenvs/ritme_model/lib/python3.10/site-packages/ritme/feature_space/aggregate_features.py:78: UserWarning: These features were not found in taxonomy and are hence disregarded: ['Fermentation_Timepoint'].\n",
      "\u001b[36m(train_rf pid=1067882)\u001b[0m   warnings.warn(\n",
      "2025-02-25 16:29:28,382\tWARNING util.py:201 -- The `callbacks.on_trial_result` operation took 1.250 s, which may be a performance bottleneck.\n",
      "2025-02-25 16:29:28,384\tWARNING util.py:201 -- The `process_trial_result` operation took 1.252 s, which may be a performance bottleneck.\n",
      "2025-02-25 16:29:28,385\tWARNING util.py:201 -- Processing trial results took 1.253 s, which may be a performance bottleneck. Please consider reporting results less frequently to Ray Tune.\n",
      "2025-02-25 16:29:28,386\tWARNING util.py:201 -- The `process_trial_result` operation took 1.254 s, which may be a performance bottleneck.\n"
     ]
    },
    {
     "name": "stdout",
     "output_type": "stream",
     "text": [
      "\u001b[36m(train_rf pid=1068014)\u001b[0m Train: (142, 225), Test: (36, 225)\n"
     ]
    },
    {
     "name": "stderr",
     "output_type": "stream",
     "text": [
      "\u001b[36m(train_rf pid=1068014)\u001b[0m /scratch/lfloerl/.condaenvs/ritme_model/lib/python3.10/site-packages/ritme/feature_space/aggregate_features.py:78: UserWarning: These features were not found in taxonomy and are hence disregarded: ['Fermentation_Timepoint'].\n",
      "\u001b[36m(train_rf pid=1068014)\u001b[0m   warnings.warn(\n",
      "2025-02-25 16:29:40,119\tWARNING util.py:201 -- The `callbacks.on_trial_result` operation took 4.714 s, which may be a performance bottleneck.\n",
      "2025-02-25 16:29:40,121\tWARNING util.py:201 -- The `process_trial_result` operation took 4.716 s, which may be a performance bottleneck.\n",
      "2025-02-25 16:29:40,121\tWARNING util.py:201 -- Processing trial results took 4.717 s, which may be a performance bottleneck. Please consider reporting results less frequently to Ray Tune.\n",
      "2025-02-25 16:29:40,122\tWARNING util.py:201 -- The `process_trial_result` operation took 4.718 s, which may be a performance bottleneck.\n"
     ]
    },
    {
     "name": "stdout",
     "output_type": "stream",
     "text": [
      "\u001b[36m(train_rf pid=1068156)\u001b[0m Train: (142, 75), Test: (36, 75)\n"
     ]
    },
    {
     "name": "stderr",
     "output_type": "stream",
     "text": [
      "\u001b[36m(train_rf pid=1068156)\u001b[0m /scratch/lfloerl/.condaenvs/ritme_model/lib/python3.10/site-packages/ritme/feature_space/aggregate_features.py:78: UserWarning: These features were not found in taxonomy and are hence disregarded: ['Fermentation_Timepoint'].\n",
      "\u001b[36m(train_rf pid=1068156)\u001b[0m   warnings.warn(\n",
      "2025-02-25 16:29:43,903\tWARNING util.py:201 -- The `callbacks.on_trial_result` operation took 1.392 s, which may be a performance bottleneck.\n",
      "2025-02-25 16:29:43,905\tWARNING util.py:201 -- The `process_trial_result` operation took 1.394 s, which may be a performance bottleneck.\n",
      "2025-02-25 16:29:43,906\tWARNING util.py:201 -- Processing trial results took 1.395 s, which may be a performance bottleneck. Please consider reporting results less frequently to Ray Tune.\n",
      "2025-02-25 16:29:43,907\tWARNING util.py:201 -- The `process_trial_result` operation took 1.396 s, which may be a performance bottleneck.\n"
     ]
    },
    {
     "name": "stdout",
     "output_type": "stream",
     "text": [
      "\u001b[36m(train_rf pid=1068331)\u001b[0m Train: (142, 75), Test: (36, 75)\n"
     ]
    },
    {
     "name": "stderr",
     "output_type": "stream",
     "text": [
      "\u001b[36m(train_rf pid=1068331)\u001b[0m /scratch/lfloerl/.condaenvs/ritme_model/lib/python3.10/site-packages/ritme/feature_space/aggregate_features.py:78: UserWarning: These features were not found in taxonomy and are hence disregarded: ['Fermentation_Timepoint'].\n",
      "\u001b[36m(train_rf pid=1068331)\u001b[0m   warnings.warn(\n",
      "2025-02-25 16:29:49,760\tWARNING util.py:201 -- The `callbacks.on_trial_result` operation took 0.982 s, which may be a performance bottleneck.\n",
      "2025-02-25 16:29:49,761\tWARNING util.py:201 -- The `process_trial_result` operation took 0.984 s, which may be a performance bottleneck.\n",
      "2025-02-25 16:29:49,762\tWARNING util.py:201 -- Processing trial results took 0.985 s, which may be a performance bottleneck. Please consider reporting results less frequently to Ray Tune.\n",
      "2025-02-25 16:29:49,762\tWARNING util.py:201 -- The `process_trial_result` operation took 0.985 s, which may be a performance bottleneck.\n"
     ]
    },
    {
     "name": "stdout",
     "output_type": "stream",
     "text": [
      "\u001b[36m(train_rf pid=1068450)\u001b[0m Train: (142, 49), Test: (36, 49)\n"
     ]
    },
    {
     "name": "stderr",
     "output_type": "stream",
     "text": [
      "\u001b[36m(train_rf pid=1068450)\u001b[0m /scratch/lfloerl/.condaenvs/ritme_model/lib/python3.10/site-packages/ritme/feature_space/aggregate_features.py:78: UserWarning: These features were not found in taxonomy and are hence disregarded: ['Fermentation_Timepoint'].\n",
      "\u001b[36m(train_rf pid=1068450)\u001b[0m   warnings.warn(\n",
      "2025-02-25 16:30:01,314\tWARNING util.py:201 -- The `callbacks.on_trial_result` operation took 4.868 s, which may be a performance bottleneck.\n",
      "2025-02-25 16:30:01,316\tWARNING util.py:201 -- The `process_trial_result` operation took 4.870 s, which may be a performance bottleneck.\n",
      "2025-02-25 16:30:01,317\tWARNING util.py:201 -- Processing trial results took 4.870 s, which may be a performance bottleneck. Please consider reporting results less frequently to Ray Tune.\n",
      "2025-02-25 16:30:01,317\tWARNING util.py:201 -- The `process_trial_result` operation took 4.871 s, which may be a performance bottleneck.\n"
     ]
    },
    {
     "name": "stdout",
     "output_type": "stream",
     "text": [
      "\u001b[36m(train_rf pid=1068587)\u001b[0m Train: (142, 49), Test: (36, 49)\n"
     ]
    },
    {
     "name": "stderr",
     "output_type": "stream",
     "text": [
      "\u001b[36m(train_rf pid=1068587)\u001b[0m /scratch/lfloerl/.condaenvs/ritme_model/lib/python3.10/site-packages/ritme/feature_space/aggregate_features.py:78: UserWarning: These features were not found in taxonomy and are hence disregarded: ['Fermentation_Timepoint'].\n",
      "\u001b[36m(train_rf pid=1068587)\u001b[0m   warnings.warn(\n",
      "2025-02-25 16:30:07,963\tWARNING util.py:201 -- The `callbacks.on_trial_result` operation took 3.398 s, which may be a performance bottleneck.\n",
      "2025-02-25 16:30:07,965\tWARNING util.py:201 -- The `process_trial_result` operation took 3.400 s, which may be a performance bottleneck.\n",
      "2025-02-25 16:30:07,966\tWARNING util.py:201 -- Processing trial results took 3.401 s, which may be a performance bottleneck. Please consider reporting results less frequently to Ray Tune.\n",
      "2025-02-25 16:30:07,966\tWARNING util.py:201 -- The `process_trial_result` operation took 3.401 s, which may be a performance bottleneck.\n"
     ]
    },
    {
     "name": "stdout",
     "output_type": "stream",
     "text": [
      "\u001b[36m(train_rf pid=1068773)\u001b[0m Train: (142, 43), Test: (36, 43)\n"
     ]
    },
    {
     "name": "stderr",
     "output_type": "stream",
     "text": [
      "\u001b[36m(train_rf pid=1068773)\u001b[0m /scratch/lfloerl/.condaenvs/ritme_model/lib/python3.10/site-packages/ritme/feature_space/aggregate_features.py:78: UserWarning: These features were not found in taxonomy and are hence disregarded: ['Fermentation_Timepoint'].\n",
      "\u001b[36m(train_rf pid=1068773)\u001b[0m   warnings.warn(\n",
      "2025-02-25 16:30:16,339\tWARNING util.py:201 -- The `callbacks.on_trial_result` operation took 1.986 s, which may be a performance bottleneck.\n",
      "2025-02-25 16:30:16,341\tWARNING util.py:201 -- The `process_trial_result` operation took 1.988 s, which may be a performance bottleneck.\n",
      "2025-02-25 16:30:16,341\tWARNING util.py:201 -- Processing trial results took 1.989 s, which may be a performance bottleneck. Please consider reporting results less frequently to Ray Tune.\n",
      "2025-02-25 16:30:16,342\tWARNING util.py:201 -- The `process_trial_result` operation took 1.989 s, which may be a performance bottleneck.\n"
     ]
    },
    {
     "name": "stdout",
     "output_type": "stream",
     "text": [
      "\u001b[36m(train_rf pid=1068911)\u001b[0m Train: (142, 43), Test: (36, 43)\n"
     ]
    },
    {
     "name": "stderr",
     "output_type": "stream",
     "text": [
      "\u001b[36m(train_rf pid=1068911)\u001b[0m /scratch/lfloerl/.condaenvs/ritme_model/lib/python3.10/site-packages/ritme/feature_space/aggregate_features.py:78: UserWarning: These features were not found in taxonomy and are hence disregarded: ['Fermentation_Timepoint'].\n",
      "\u001b[36m(train_rf pid=1068911)\u001b[0m   warnings.warn(\n",
      "2025-02-25 16:30:23,652\tWARNING util.py:201 -- The `callbacks.on_trial_result` operation took 1.536 s, which may be a performance bottleneck.\n",
      "2025-02-25 16:30:23,654\tWARNING util.py:201 -- The `process_trial_result` operation took 1.538 s, which may be a performance bottleneck.\n",
      "2025-02-25 16:30:23,654\tWARNING util.py:201 -- Processing trial results took 1.539 s, which may be a performance bottleneck. Please consider reporting results less frequently to Ray Tune.\n",
      "2025-02-25 16:30:23,655\tWARNING util.py:201 -- The `process_trial_result` operation took 1.539 s, which may be a performance bottleneck.\n"
     ]
    },
    {
     "name": "stdout",
     "output_type": "stream",
     "text": [
      "\u001b[36m(train_rf pid=1069075)\u001b[0m Train: (142, 47), Test: (36, 47)\n"
     ]
    },
    {
     "name": "stderr",
     "output_type": "stream",
     "text": [
      "\u001b[36m(train_rf pid=1069075)\u001b[0m /scratch/lfloerl/.condaenvs/ritme_model/lib/python3.10/site-packages/ritme/feature_space/aggregate_features.py:78: UserWarning: These features were not found in taxonomy and are hence disregarded: ['Fermentation_Timepoint'].\n",
      "\u001b[36m(train_rf pid=1069075)\u001b[0m   warnings.warn(\n",
      "2025-02-25 16:30:34,986\tWARNING util.py:201 -- The `callbacks.on_trial_result` operation took 4.862 s, which may be a performance bottleneck.\n",
      "2025-02-25 16:30:34,988\tWARNING util.py:201 -- The `process_trial_result` operation took 4.864 s, which may be a performance bottleneck.\n",
      "2025-02-25 16:30:34,988\tWARNING util.py:201 -- Processing trial results took 4.865 s, which may be a performance bottleneck. Please consider reporting results less frequently to Ray Tune.\n",
      "2025-02-25 16:30:34,989\tWARNING util.py:201 -- The `process_trial_result` operation took 4.865 s, which may be a performance bottleneck.\n"
     ]
    },
    {
     "name": "stdout",
     "output_type": "stream",
     "text": [
      "\u001b[36m(train_rf pid=1069219)\u001b[0m Train: (142, 47), Test: (36, 47)\n"
     ]
    },
    {
     "name": "stderr",
     "output_type": "stream",
     "text": [
      "\u001b[36m(train_rf pid=1069219)\u001b[0m /scratch/lfloerl/.condaenvs/ritme_model/lib/python3.10/site-packages/ritme/feature_space/aggregate_features.py:78: UserWarning: These features were not found in taxonomy and are hence disregarded: ['Fermentation_Timepoint'].\n",
      "\u001b[36m(train_rf pid=1069219)\u001b[0m   warnings.warn(\n",
      "2025-02-25 16:30:39,047\tWARNING util.py:201 -- The `callbacks.on_trial_result` operation took 1.191 s, which may be a performance bottleneck.\n",
      "2025-02-25 16:30:39,049\tWARNING util.py:201 -- The `process_trial_result` operation took 1.193 s, which may be a performance bottleneck.\n",
      "2025-02-25 16:30:39,049\tWARNING util.py:201 -- Processing trial results took 1.193 s, which may be a performance bottleneck. Please consider reporting results less frequently to Ray Tune.\n",
      "2025-02-25 16:30:39,050\tWARNING util.py:201 -- The `process_trial_result` operation took 1.194 s, which may be a performance bottleneck.\n"
     ]
    },
    {
     "name": "stdout",
     "output_type": "stream",
     "text": [
      "\u001b[36m(train_rf pid=1069394)\u001b[0m Train: (142, 47), Test: (36, 47)\n"
     ]
    },
    {
     "name": "stderr",
     "output_type": "stream",
     "text": [
      "\u001b[36m(train_rf pid=1069394)\u001b[0m /scratch/lfloerl/.condaenvs/ritme_model/lib/python3.10/site-packages/ritme/feature_space/aggregate_features.py:78: UserWarning: These features were not found in taxonomy and are hence disregarded: ['Fermentation_Timepoint'].\n",
      "\u001b[36m(train_rf pid=1069394)\u001b[0m   warnings.warn(\n",
      "2025-02-25 16:30:45,870\tWARNING util.py:201 -- The `callbacks.on_trial_result` operation took 1.430 s, which may be a performance bottleneck.\n",
      "2025-02-25 16:30:45,872\tWARNING util.py:201 -- The `process_trial_result` operation took 1.433 s, which may be a performance bottleneck.\n",
      "2025-02-25 16:30:45,873\tWARNING util.py:201 -- Processing trial results took 1.434 s, which may be a performance bottleneck. Please consider reporting results less frequently to Ray Tune.\n",
      "2025-02-25 16:30:45,873\tWARNING util.py:201 -- The `process_trial_result` operation took 1.434 s, which may be a performance bottleneck.\n",
      "\u001b[36m(train_rf pid=1069476)\u001b[0m /scratch/lfloerl/.condaenvs/ritme_model/lib/python3.10/site-packages/ritme/feature_space/aggregate_features.py:78: UserWarning: These features were not found in taxonomy and are hence disregarded: ['Fermentation_Timepoint'].\n",
      "\u001b[36m(train_rf pid=1069476)\u001b[0m   warnings.warn(\n"
     ]
    },
    {
     "name": "stdout",
     "output_type": "stream",
     "text": [
      "\u001b[36m(train_rf pid=1069476)\u001b[0m Train: (142, 48), Test: (36, 48)\n"
     ]
    },
    {
     "name": "stderr",
     "output_type": "stream",
     "text": [
      "2025-02-25 16:30:56,965\tWARNING util.py:201 -- The `callbacks.on_trial_result` operation took 4.955 s, which may be a performance bottleneck.\n",
      "2025-02-25 16:30:56,966\tWARNING util.py:201 -- The `process_trial_result` operation took 4.956 s, which may be a performance bottleneck.\n",
      "2025-02-25 16:30:56,967\tWARNING util.py:201 -- Processing trial results took 4.957 s, which may be a performance bottleneck. Please consider reporting results less frequently to Ray Tune.\n",
      "2025-02-25 16:30:56,968\tWARNING util.py:201 -- The `process_trial_result` operation took 4.957 s, which may be a performance bottleneck.\n"
     ]
    },
    {
     "name": "stdout",
     "output_type": "stream",
     "text": [
      "\u001b[36m(train_rf pid=1069654)\u001b[0m Train: (142, 48), Test: (36, 48)\n"
     ]
    },
    {
     "name": "stderr",
     "output_type": "stream",
     "text": [
      "\u001b[36m(train_rf pid=1069654)\u001b[0m /scratch/lfloerl/.condaenvs/ritme_model/lib/python3.10/site-packages/ritme/feature_space/aggregate_features.py:78: UserWarning: These features were not found in taxonomy and are hence disregarded: ['Fermentation_Timepoint'].\n",
      "\u001b[36m(train_rf pid=1069654)\u001b[0m   warnings.warn(\n",
      "2025-02-25 16:31:00,854\tWARNING util.py:201 -- The `callbacks.on_trial_result` operation took 1.192 s, which may be a performance bottleneck.\n",
      "2025-02-25 16:31:00,856\tWARNING util.py:201 -- The `process_trial_result` operation took 1.194 s, which may be a performance bottleneck.\n",
      "2025-02-25 16:31:00,857\tWARNING util.py:201 -- Processing trial results took 1.195 s, which may be a performance bottleneck. Please consider reporting results less frequently to Ray Tune.\n",
      "2025-02-25 16:31:00,857\tWARNING util.py:201 -- The `process_trial_result` operation took 1.196 s, which may be a performance bottleneck.\n"
     ]
    },
    {
     "name": "stdout",
     "output_type": "stream",
     "text": [
      "\u001b[36m(train_rf pid=1069783)\u001b[0m Train: (142, 48), Test: (36, 48)\n"
     ]
    },
    {
     "name": "stderr",
     "output_type": "stream",
     "text": [
      "\u001b[36m(train_rf pid=1069783)\u001b[0m /scratch/lfloerl/.condaenvs/ritme_model/lib/python3.10/site-packages/ritme/feature_space/aggregate_features.py:78: UserWarning: These features were not found in taxonomy and are hence disregarded: ['Fermentation_Timepoint'].\n",
      "\u001b[36m(train_rf pid=1069783)\u001b[0m   warnings.warn(\n",
      "2025-02-25 16:31:09,009\tWARNING util.py:201 -- The `callbacks.on_trial_result` operation took 2.333 s, which may be a performance bottleneck.\n",
      "2025-02-25 16:31:09,011\tWARNING util.py:201 -- The `process_trial_result` operation took 2.335 s, which may be a performance bottleneck.\n",
      "2025-02-25 16:31:09,011\tWARNING util.py:201 -- Processing trial results took 2.335 s, which may be a performance bottleneck. Please consider reporting results less frequently to Ray Tune.\n",
      "2025-02-25 16:31:09,012\tWARNING util.py:201 -- The `process_trial_result` operation took 2.336 s, which may be a performance bottleneck.\n"
     ]
    },
    {
     "name": "stdout",
     "output_type": "stream",
     "text": [
      "\u001b[36m(train_rf pid=1069938)\u001b[0m Train: (142, 52), Test: (36, 52)\n"
     ]
    },
    {
     "name": "stderr",
     "output_type": "stream",
     "text": [
      "\u001b[36m(train_rf pid=1069938)\u001b[0m /scratch/lfloerl/.condaenvs/ritme_model/lib/python3.10/site-packages/ritme/feature_space/aggregate_features.py:78: UserWarning: These features were not found in taxonomy and are hence disregarded: ['Fermentation_Timepoint'].\n",
      "\u001b[36m(train_rf pid=1069938)\u001b[0m   warnings.warn(\n",
      "2025-02-25 16:31:20,024\tWARNING util.py:201 -- The `callbacks.on_trial_result` operation took 4.963 s, which may be a performance bottleneck.\n",
      "2025-02-25 16:31:20,027\tWARNING util.py:201 -- The `process_trial_result` operation took 4.966 s, which may be a performance bottleneck.\n",
      "2025-02-25 16:31:20,027\tWARNING util.py:201 -- Processing trial results took 4.967 s, which may be a performance bottleneck. Please consider reporting results less frequently to Ray Tune.\n",
      "2025-02-25 16:31:20,028\tWARNING util.py:201 -- The `process_trial_result` operation took 4.968 s, which may be a performance bottleneck.\n"
     ]
    },
    {
     "name": "stdout",
     "output_type": "stream",
     "text": [
      "\u001b[36m(train_rf pid=1070071)\u001b[0m Train: (142, 53), Test: (36, 53)\n"
     ]
    },
    {
     "name": "stderr",
     "output_type": "stream",
     "text": [
      "\u001b[36m(train_rf pid=1070071)\u001b[0m /scratch/lfloerl/.condaenvs/ritme_model/lib/python3.10/site-packages/ritme/feature_space/aggregate_features.py:78: UserWarning: These features were not found in taxonomy and are hence disregarded: ['Fermentation_Timepoint'].\n",
      "\u001b[36m(train_rf pid=1070071)\u001b[0m   warnings.warn(\n",
      "2025-02-25 16:31:23,349\tWARNING util.py:201 -- The `callbacks.on_trial_result` operation took 1.222 s, which may be a performance bottleneck.\n",
      "2025-02-25 16:31:23,350\tWARNING util.py:201 -- The `process_trial_result` operation took 1.224 s, which may be a performance bottleneck.\n",
      "2025-02-25 16:31:23,351\tWARNING util.py:201 -- Processing trial results took 1.225 s, which may be a performance bottleneck. Please consider reporting results less frequently to Ray Tune.\n",
      "2025-02-25 16:31:23,351\tWARNING util.py:201 -- The `process_trial_result` operation took 1.225 s, which may be a performance bottleneck.\n"
     ]
    },
    {
     "name": "stdout",
     "output_type": "stream",
     "text": [
      "\u001b[36m(train_rf pid=1070265)\u001b[0m Train: (142, 52), Test: (36, 52)\n"
     ]
    },
    {
     "name": "stderr",
     "output_type": "stream",
     "text": [
      "\u001b[36m(train_rf pid=1070265)\u001b[0m /scratch/lfloerl/.condaenvs/ritme_model/lib/python3.10/site-packages/ritme/feature_space/aggregate_features.py:78: UserWarning: These features were not found in taxonomy and are hence disregarded: ['Fermentation_Timepoint'].\n",
      "\u001b[36m(train_rf pid=1070265)\u001b[0m   warnings.warn(\n",
      "2025-02-25 16:31:32,393\tWARNING util.py:201 -- The `callbacks.on_trial_result` operation took 2.544 s, which may be a performance bottleneck.\n",
      "2025-02-25 16:31:32,396\tWARNING util.py:201 -- The `process_trial_result` operation took 2.548 s, which may be a performance bottleneck.\n",
      "2025-02-25 16:31:32,397\tWARNING util.py:201 -- Processing trial results took 2.549 s, which may be a performance bottleneck. Please consider reporting results less frequently to Ray Tune.\n",
      "2025-02-25 16:31:32,397\tWARNING util.py:201 -- The `process_trial_result` operation took 2.549 s, which may be a performance bottleneck.\n",
      "\u001b[36m(train_rf pid=1070389)\u001b[0m /scratch/lfloerl/.condaenvs/ritme_model/lib/python3.10/site-packages/ritme/feature_space/aggregate_features.py:78: UserWarning: These features were not found in taxonomy and are hence disregarded: ['Fermentation_Timepoint'].\n",
      "\u001b[36m(train_rf pid=1070389)\u001b[0m   warnings.warn(\n"
     ]
    },
    {
     "name": "stdout",
     "output_type": "stream",
     "text": [
      "\u001b[36m(train_rf pid=1070389)\u001b[0m Train: (142, 43), Test: (36, 43)\n"
     ]
    },
    {
     "name": "stderr",
     "output_type": "stream",
     "text": [
      "2025-02-25 16:31:42,301\tWARNING util.py:201 -- The `callbacks.on_trial_result` operation took 3.814 s, which may be a performance bottleneck.\n",
      "2025-02-25 16:31:42,303\tWARNING util.py:201 -- The `process_trial_result` operation took 3.816 s, which may be a performance bottleneck.\n",
      "2025-02-25 16:31:42,304\tWARNING util.py:201 -- Processing trial results took 3.816 s, which may be a performance bottleneck. Please consider reporting results less frequently to Ray Tune.\n",
      "2025-02-25 16:31:42,304\tWARNING util.py:201 -- The `process_trial_result` operation took 3.817 s, which may be a performance bottleneck.\n"
     ]
    },
    {
     "name": "stdout",
     "output_type": "stream",
     "text": [
      "\u001b[36m(train_rf pid=1070511)\u001b[0m Train: (142, 43), Test: (36, 43)\n"
     ]
    },
    {
     "name": "stderr",
     "output_type": "stream",
     "text": [
      "\u001b[36m(train_rf pid=1070511)\u001b[0m /scratch/lfloerl/.condaenvs/ritme_model/lib/python3.10/site-packages/ritme/feature_space/aggregate_features.py:78: UserWarning: These features were not found in taxonomy and are hence disregarded: ['Fermentation_Timepoint'].\n",
      "\u001b[36m(train_rf pid=1070511)\u001b[0m   warnings.warn(\n",
      "2025-02-25 16:31:45,722\tWARNING util.py:201 -- The `callbacks.on_trial_result` operation took 0.971 s, which may be a performance bottleneck.\n",
      "2025-02-25 16:31:45,724\tWARNING util.py:201 -- The `process_trial_result` operation took 0.973 s, which may be a performance bottleneck.\n",
      "2025-02-25 16:31:45,726\tWARNING util.py:201 -- Processing trial results took 0.974 s, which may be a performance bottleneck. Please consider reporting results less frequently to Ray Tune.\n",
      "2025-02-25 16:31:45,726\tWARNING util.py:201 -- The `process_trial_result` operation took 0.975 s, which may be a performance bottleneck.\n"
     ]
    },
    {
     "name": "stdout",
     "output_type": "stream",
     "text": [
      "\u001b[36m(train_rf pid=1070632)\u001b[0m Train: (142, 44), Test: (36, 44)\n"
     ]
    },
    {
     "name": "stderr",
     "output_type": "stream",
     "text": [
      "\u001b[36m(train_rf pid=1070632)\u001b[0m /scratch/lfloerl/.condaenvs/ritme_model/lib/python3.10/site-packages/ritme/feature_space/aggregate_features.py:78: UserWarning: These features were not found in taxonomy and are hence disregarded: ['Fermentation_Timepoint'].\n",
      "\u001b[36m(train_rf pid=1070632)\u001b[0m   warnings.warn(\n",
      "2025-02-25 16:31:57,715\tWARNING util.py:201 -- The `callbacks.on_trial_result` operation took 3.330 s, which may be a performance bottleneck.\n",
      "2025-02-25 16:31:57,717\tWARNING util.py:201 -- The `process_trial_result` operation took 3.332 s, which may be a performance bottleneck.\n",
      "2025-02-25 16:31:57,718\tWARNING util.py:201 -- Processing trial results took 3.333 s, which may be a performance bottleneck. Please consider reporting results less frequently to Ray Tune.\n",
      "2025-02-25 16:31:57,718\tWARNING util.py:201 -- The `process_trial_result` operation took 3.333 s, which may be a performance bottleneck.\n"
     ]
    },
    {
     "name": "stdout",
     "output_type": "stream",
     "text": [
      "\u001b[36m(train_rf pid=1070767)\u001b[0m Train: (142, 40), Test: (36, 40)\n"
     ]
    },
    {
     "name": "stderr",
     "output_type": "stream",
     "text": [
      "2025-02-25 16:32:05,713\tWARNING util.py:201 -- The `callbacks.on_trial_result` operation took 1.678 s, which may be a performance bottleneck.\n",
      "2025-02-25 16:32:05,715\tWARNING util.py:201 -- The `process_trial_result` operation took 1.679 s, which may be a performance bottleneck.\n",
      "2025-02-25 16:32:05,715\tWARNING util.py:201 -- Processing trial results took 1.680 s, which may be a performance bottleneck. Please consider reporting results less frequently to Ray Tune.\n",
      "2025-02-25 16:32:05,716\tWARNING util.py:201 -- The `process_trial_result` operation took 1.681 s, which may be a performance bottleneck.\n"
     ]
    },
    {
     "name": "stdout",
     "output_type": "stream",
     "text": [
      "\u001b[36m(train_rf pid=1070915)\u001b[0m Train: (142, 956), Test: (36, 956)\n"
     ]
    },
    {
     "name": "stderr",
     "output_type": "stream",
     "text": [
      "\u001b[36m(train_rf pid=1071074)\u001b[0m /scratch/lfloerl/.condaenvs/ritme_model/lib/python3.10/site-packages/ritme/feature_space/aggregate_features.py:78: UserWarning: These features were not found in taxonomy and are hence disregarded: ['Fermentation_Timepoint'].\n",
      "\u001b[36m(train_rf pid=1071074)\u001b[0m   warnings.warn(\n"
     ]
    },
    {
     "name": "stdout",
     "output_type": "stream",
     "text": [
      "\u001b[36m(train_rf pid=1071074)\u001b[0m Train: (142, 56), Test: (36, 56)\n"
     ]
    },
    {
     "name": "stderr",
     "output_type": "stream",
     "text": [
      "2025-02-25 16:32:21,496\tWARNING util.py:201 -- The `callbacks.on_trial_result` operation took 2.042 s, which may be a performance bottleneck.\n",
      "2025-02-25 16:32:21,497\tWARNING util.py:201 -- The `process_trial_result` operation took 2.044 s, which may be a performance bottleneck.\n",
      "2025-02-25 16:32:21,498\tWARNING util.py:201 -- Processing trial results took 2.045 s, which may be a performance bottleneck. Please consider reporting results less frequently to Ray Tune.\n",
      "2025-02-25 16:32:21,499\tWARNING util.py:201 -- The `process_trial_result` operation took 2.045 s, which may be a performance bottleneck.\n",
      "2025-02-25 16:32:22,388\tWARNING util.py:201 -- The `callbacks.on_trial_result` operation took 0.886 s, which may be a performance bottleneck.\n",
      "2025-02-25 16:32:22,390\tWARNING util.py:201 -- The `process_trial_result` operation took 0.888 s, which may be a performance bottleneck.\n",
      "2025-02-25 16:32:22,390\tWARNING util.py:201 -- Processing trial results took 0.888 s, which may be a performance bottleneck. Please consider reporting results less frequently to Ray Tune.\n",
      "2025-02-25 16:32:22,391\tWARNING util.py:201 -- The `process_trial_result` operation took 0.889 s, which may be a performance bottleneck.\n",
      "\u001b[36m(train_rf pid=1071183)\u001b[0m /scratch/lfloerl/.condaenvs/ritme_model/lib/python3.10/site-packages/ritme/feature_space/aggregate_features.py:78: UserWarning: These features were not found in taxonomy and are hence disregarded: ['Fermentation_Timepoint'].\n",
      "\u001b[36m(train_rf pid=1071183)\u001b[0m   warnings.warn(\n"
     ]
    },
    {
     "name": "stdout",
     "output_type": "stream",
     "text": [
      "\u001b[36m(train_rf pid=1071183)\u001b[0m Train: (142, 131), Test: (36, 131)\n"
     ]
    },
    {
     "name": "stderr",
     "output_type": "stream",
     "text": [
      "2025-02-25 16:32:28,994\tWARNING util.py:201 -- The `callbacks.on_trial_result` operation took 1.332 s, which may be a performance bottleneck.\n",
      "2025-02-25 16:32:28,996\tWARNING util.py:201 -- The `process_trial_result` operation took 1.334 s, which may be a performance bottleneck.\n",
      "2025-02-25 16:32:28,996\tWARNING util.py:201 -- Processing trial results took 1.334 s, which may be a performance bottleneck. Please consider reporting results less frequently to Ray Tune.\n",
      "2025-02-25 16:32:28,996\tWARNING util.py:201 -- The `process_trial_result` operation took 1.335 s, which may be a performance bottleneck.\n",
      "\u001b[36m(train_rf pid=1071292)\u001b[0m /scratch/lfloerl/.condaenvs/ritme_model/lib/python3.10/site-packages/ritme/feature_space/aggregate_features.py:78: UserWarning: These features were not found in taxonomy and are hence disregarded: ['Fermentation_Timepoint'].\n",
      "\u001b[36m(train_rf pid=1071292)\u001b[0m   warnings.warn(\n"
     ]
    },
    {
     "name": "stdout",
     "output_type": "stream",
     "text": [
      "\u001b[36m(train_rf pid=1071292)\u001b[0m Train: (142, 52), Test: (36, 52)\n"
     ]
    },
    {
     "name": "stderr",
     "output_type": "stream",
     "text": [
      "2025-02-25 16:32:40,320\tWARNING util.py:201 -- The `callbacks.on_trial_result` operation took 4.801 s, which may be a performance bottleneck.\n",
      "2025-02-25 16:32:40,321\tWARNING util.py:201 -- The `process_trial_result` operation took 4.803 s, which may be a performance bottleneck.\n",
      "2025-02-25 16:32:40,322\tWARNING util.py:201 -- Processing trial results took 4.803 s, which may be a performance bottleneck. Please consider reporting results less frequently to Ray Tune.\n",
      "2025-02-25 16:32:40,322\tWARNING util.py:201 -- The `process_trial_result` operation took 4.804 s, which may be a performance bottleneck.\n"
     ]
    },
    {
     "name": "stdout",
     "output_type": "stream",
     "text": [
      "\u001b[36m(train_rf pid=1071402)\u001b[0m Train: (142, 50), Test: (36, 50)\n"
     ]
    },
    {
     "name": "stderr",
     "output_type": "stream",
     "text": [
      "\u001b[36m(train_rf pid=1071402)\u001b[0m /scratch/lfloerl/.condaenvs/ritme_model/lib/python3.10/site-packages/ritme/feature_space/aggregate_features.py:78: UserWarning: These features were not found in taxonomy and are hence disregarded: ['Fermentation_Timepoint'].\n",
      "\u001b[36m(train_rf pid=1071402)\u001b[0m   warnings.warn(\n",
      "2025-02-25 16:32:44,187\tWARNING util.py:201 -- The `callbacks.on_trial_result` operation took 0.849 s, which may be a performance bottleneck.\n",
      "2025-02-25 16:32:44,189\tWARNING util.py:201 -- The `process_trial_result` operation took 0.851 s, which may be a performance bottleneck.\n",
      "2025-02-25 16:32:44,190\tWARNING util.py:201 -- Processing trial results took 0.851 s, which may be a performance bottleneck. Please consider reporting results less frequently to Ray Tune.\n",
      "2025-02-25 16:32:44,190\tWARNING util.py:201 -- The `process_trial_result` operation took 0.852 s, which may be a performance bottleneck.\n"
     ]
    },
    {
     "name": "stdout",
     "output_type": "stream",
     "text": [
      "\u001b[36m(train_rf pid=1071510)\u001b[0m Train: (142, 50), Test: (36, 50)\n"
     ]
    },
    {
     "name": "stderr",
     "output_type": "stream",
     "text": [
      "\u001b[36m(train_rf pid=1071510)\u001b[0m /scratch/lfloerl/.condaenvs/ritme_model/lib/python3.10/site-packages/ritme/feature_space/aggregate_features.py:78: UserWarning: These features were not found in taxonomy and are hence disregarded: ['Fermentation_Timepoint'].\n",
      "\u001b[36m(train_rf pid=1071510)\u001b[0m   warnings.warn(\n",
      "2025-02-25 16:32:51,402\tWARNING util.py:201 -- The `callbacks.on_trial_result` operation took 1.678 s, which may be a performance bottleneck.\n",
      "2025-02-25 16:32:51,404\tWARNING util.py:201 -- The `process_trial_result` operation took 1.680 s, which may be a performance bottleneck.\n",
      "2025-02-25 16:32:51,404\tWARNING util.py:201 -- Processing trial results took 1.681 s, which may be a performance bottleneck. Please consider reporting results less frequently to Ray Tune.\n",
      "2025-02-25 16:32:51,405\tWARNING util.py:201 -- The `process_trial_result` operation took 1.681 s, which may be a performance bottleneck.\n",
      "\u001b[36m(train_rf pid=1071620)\u001b[0m /scratch/lfloerl/.condaenvs/ritme_model/lib/python3.10/site-packages/ritme/feature_space/aggregate_features.py:78: UserWarning: These features were not found in taxonomy and are hence disregarded: ['Fermentation_Timepoint'].\n",
      "\u001b[36m(train_rf pid=1071620)\u001b[0m   warnings.warn(\n"
     ]
    },
    {
     "name": "stdout",
     "output_type": "stream",
     "text": [
      "\u001b[36m(train_rf pid=1071620)\u001b[0m Train: (142, 291), Test: (36, 291)\n"
     ]
    },
    {
     "name": "stderr",
     "output_type": "stream",
     "text": [
      "2025-02-25 16:33:04,245\tWARNING util.py:201 -- The `callbacks.on_trial_result` operation took 4.924 s, which may be a performance bottleneck.\n",
      "2025-02-25 16:33:04,247\tWARNING util.py:201 -- The `process_trial_result` operation took 4.925 s, which may be a performance bottleneck.\n",
      "2025-02-25 16:33:04,247\tWARNING util.py:201 -- Processing trial results took 4.926 s, which may be a performance bottleneck. Please consider reporting results less frequently to Ray Tune.\n",
      "2025-02-25 16:33:04,248\tWARNING util.py:201 -- The `process_trial_result` operation took 4.927 s, which may be a performance bottleneck.\n"
     ]
    },
    {
     "name": "stdout",
     "output_type": "stream",
     "text": [
      "\u001b[36m(train_rf pid=1071810)\u001b[0m Train: (142, 69), Test: (36, 69)\n"
     ]
    },
    {
     "name": "stderr",
     "output_type": "stream",
     "text": [
      "\u001b[36m(train_rf pid=1071810)\u001b[0m /scratch/lfloerl/.condaenvs/ritme_model/lib/python3.10/site-packages/ritme/feature_space/aggregate_features.py:78: UserWarning: These features were not found in taxonomy and are hence disregarded: ['Fermentation_Timepoint'].\n",
      "\u001b[36m(train_rf pid=1071810)\u001b[0m   warnings.warn(\n",
      "2025-02-25 16:33:09,036\tWARNING util.py:201 -- The `callbacks.on_trial_result` operation took 1.904 s, which may be a performance bottleneck.\n",
      "2025-02-25 16:33:09,038\tWARNING util.py:201 -- The `process_trial_result` operation took 1.906 s, which may be a performance bottleneck.\n",
      "2025-02-25 16:33:09,038\tWARNING util.py:201 -- Processing trial results took 1.906 s, which may be a performance bottleneck. Please consider reporting results less frequently to Ray Tune.\n",
      "2025-02-25 16:33:09,039\tWARNING util.py:201 -- The `process_trial_result` operation took 1.907 s, which may be a performance bottleneck.\n"
     ]
    },
    {
     "name": "stdout",
     "output_type": "stream",
     "text": [
      "\u001b[36m(train_rf pid=1071976)\u001b[0m Train: (142, 107), Test: (36, 107)\n"
     ]
    },
    {
     "name": "stderr",
     "output_type": "stream",
     "text": [
      "\u001b[36m(train_rf pid=1071976)\u001b[0m /scratch/lfloerl/.condaenvs/ritme_model/lib/python3.10/site-packages/ritme/feature_space/aggregate_features.py:78: UserWarning: These features were not found in taxonomy and are hence disregarded: ['Fermentation_Timepoint'].\n",
      "\u001b[36m(train_rf pid=1071976)\u001b[0m   warnings.warn(\n",
      "2025-02-25 16:33:18,965\tWARNING util.py:201 -- The `callbacks.on_trial_result` operation took 2.789 s, which may be a performance bottleneck.\n",
      "2025-02-25 16:33:18,967\tWARNING util.py:201 -- The `process_trial_result` operation took 2.790 s, which may be a performance bottleneck.\n",
      "2025-02-25 16:33:18,967\tWARNING util.py:201 -- Processing trial results took 2.791 s, which may be a performance bottleneck. Please consider reporting results less frequently to Ray Tune.\n",
      "2025-02-25 16:33:18,968\tWARNING util.py:201 -- The `process_trial_result` operation took 2.791 s, which may be a performance bottleneck.\n",
      "\u001b[36m(train_rf pid=1072133)\u001b[0m /scratch/lfloerl/.condaenvs/ritme_model/lib/python3.10/site-packages/ritme/feature_space/aggregate_features.py:78: UserWarning: These features were not found in taxonomy and are hence disregarded: ['Fermentation_Timepoint'].\n",
      "\u001b[36m(train_rf pid=1072133)\u001b[0m   warnings.warn(\n"
     ]
    },
    {
     "name": "stdout",
     "output_type": "stream",
     "text": [
      "\u001b[36m(train_rf pid=1072133)\u001b[0m Train: (142, 286), Test: (36, 286)\n"
     ]
    },
    {
     "name": "stderr",
     "output_type": "stream",
     "text": [
      "2025-02-25 16:33:28,930\tWARNING util.py:201 -- The `callbacks.on_trial_result` operation took 2.224 s, which may be a performance bottleneck.\n",
      "2025-02-25 16:33:28,933\tWARNING util.py:201 -- The `process_trial_result` operation took 2.227 s, which may be a performance bottleneck.\n",
      "2025-02-25 16:33:28,933\tWARNING util.py:201 -- Processing trial results took 2.227 s, which may be a performance bottleneck. Please consider reporting results less frequently to Ray Tune.\n",
      "2025-02-25 16:33:28,934\tWARNING util.py:201 -- The `process_trial_result` operation took 2.228 s, which may be a performance bottleneck.\n"
     ]
    },
    {
     "name": "stdout",
     "output_type": "stream",
     "text": [
      "\u001b[36m(train_rf pid=1072244)\u001b[0m Train: (142, 285), Test: (36, 285)\n"
     ]
    },
    {
     "name": "stderr",
     "output_type": "stream",
     "text": [
      "\u001b[36m(train_rf pid=1072244)\u001b[0m /scratch/lfloerl/.condaenvs/ritme_model/lib/python3.10/site-packages/ritme/feature_space/aggregate_features.py:78: UserWarning: These features were not found in taxonomy and are hence disregarded: ['Fermentation_Timepoint'].\n",
      "\u001b[36m(train_rf pid=1072244)\u001b[0m   warnings.warn(\n",
      "2025-02-25 16:33:38,563\tWARNING util.py:201 -- The `callbacks.on_trial_result` operation took 2.717 s, which may be a performance bottleneck.\n",
      "2025-02-25 16:33:38,564\tWARNING util.py:201 -- The `process_trial_result` operation took 2.719 s, which may be a performance bottleneck.\n",
      "2025-02-25 16:33:38,566\tWARNING util.py:201 -- Processing trial results took 2.720 s, which may be a performance bottleneck. Please consider reporting results less frequently to Ray Tune.\n",
      "2025-02-25 16:33:38,566\tWARNING util.py:201 -- The `process_trial_result` operation took 2.721 s, which may be a performance bottleneck.\n",
      "\u001b[36m(train_rf pid=1072355)\u001b[0m /scratch/lfloerl/.condaenvs/ritme_model/lib/python3.10/site-packages/ritme/feature_space/aggregate_features.py:78: UserWarning: These features were not found in taxonomy and are hence disregarded: ['Fermentation_Timepoint'].\n",
      "\u001b[36m(train_rf pid=1072355)\u001b[0m   warnings.warn(\n"
     ]
    },
    {
     "name": "stdout",
     "output_type": "stream",
     "text": [
      "\u001b[36m(train_rf pid=1072355)\u001b[0m Train: (142, 45), Test: (36, 45)\n"
     ]
    },
    {
     "name": "stderr",
     "output_type": "stream",
     "text": [
      "2025-02-25 16:33:48,872\tWARNING util.py:201 -- The `callbacks.on_trial_result` operation took 6.192 s, which may be a performance bottleneck.\n",
      "2025-02-25 16:33:48,874\tWARNING util.py:201 -- The `process_trial_result` operation took 6.194 s, which may be a performance bottleneck.\n",
      "2025-02-25 16:33:48,874\tWARNING util.py:201 -- Processing trial results took 6.195 s, which may be a performance bottleneck. Please consider reporting results less frequently to Ray Tune.\n",
      "2025-02-25 16:33:48,875\tWARNING util.py:201 -- The `process_trial_result` operation took 6.195 s, which may be a performance bottleneck.\n",
      "\u001b[36m(train_rf pid=1072468)\u001b[0m /scratch/lfloerl/.condaenvs/ritme_model/lib/python3.10/site-packages/ritme/feature_space/aggregate_features.py:78: UserWarning: These features were not found in taxonomy and are hence disregarded: ['Fermentation_Timepoint'].\n",
      "\u001b[36m(train_rf pid=1072468)\u001b[0m   warnings.warn(\n"
     ]
    },
    {
     "name": "stdout",
     "output_type": "stream",
     "text": [
      "\u001b[36m(train_rf pid=1072468)\u001b[0m Train: (142, 45), Test: (36, 45)\n"
     ]
    },
    {
     "name": "stderr",
     "output_type": "stream",
     "text": [
      "2025-02-25 16:33:52,616\tWARNING util.py:201 -- The `callbacks.on_trial_result` operation took 1.409 s, which may be a performance bottleneck.\n",
      "2025-02-25 16:33:52,618\tWARNING util.py:201 -- The `process_trial_result` operation took 1.410 s, which may be a performance bottleneck.\n",
      "2025-02-25 16:33:52,618\tWARNING util.py:201 -- Processing trial results took 1.411 s, which may be a performance bottleneck. Please consider reporting results less frequently to Ray Tune.\n",
      "2025-02-25 16:33:52,619\tWARNING util.py:201 -- The `process_trial_result` operation took 1.412 s, which may be a performance bottleneck.\n"
     ]
    },
    {
     "name": "stdout",
     "output_type": "stream",
     "text": [
      "\u001b[36m(train_rf pid=1072579)\u001b[0m Train: (142, 45), Test: (36, 45)\n"
     ]
    },
    {
     "name": "stderr",
     "output_type": "stream",
     "text": [
      "\u001b[36m(train_rf pid=1072579)\u001b[0m /scratch/lfloerl/.condaenvs/ritme_model/lib/python3.10/site-packages/ritme/feature_space/aggregate_features.py:78: UserWarning: These features were not found in taxonomy and are hence disregarded: ['Fermentation_Timepoint'].\n",
      "\u001b[36m(train_rf pid=1072579)\u001b[0m   warnings.warn(\n",
      "2025-02-25 16:34:04,428\tWARNING util.py:201 -- The `callbacks.on_trial_result` operation took 3.165 s, which may be a performance bottleneck.\n",
      "2025-02-25 16:34:04,430\tWARNING util.py:201 -- The `process_trial_result` operation took 3.167 s, which may be a performance bottleneck.\n",
      "2025-02-25 16:34:04,431\tWARNING util.py:201 -- Processing trial results took 3.169 s, which may be a performance bottleneck. Please consider reporting results less frequently to Ray Tune.\n",
      "2025-02-25 16:34:04,432\tWARNING util.py:201 -- The `process_trial_result` operation took 3.169 s, which may be a performance bottleneck.\n",
      "\u001b[36m(train_rf pid=1072843)\u001b[0m /scratch/lfloerl/.condaenvs/ritme_model/lib/python3.10/site-packages/ritme/feature_space/aggregate_features.py:78: UserWarning: These features were not found in taxonomy and are hence disregarded: ['Fermentation_Timepoint'].\n",
      "\u001b[36m(train_rf pid=1072843)\u001b[0m   warnings.warn(\n"
     ]
    },
    {
     "name": "stdout",
     "output_type": "stream",
     "text": [
      "\u001b[36m(train_rf pid=1072843)\u001b[0m Train: (142, 45), Test: (36, 45)\n"
     ]
    },
    {
     "name": "stderr",
     "output_type": "stream",
     "text": [
      "2025-02-25 16:34:14,640\tWARNING util.py:201 -- The `callbacks.on_trial_result` operation took 2.304 s, which may be a performance bottleneck.\n",
      "2025-02-25 16:34:14,642\tWARNING util.py:201 -- The `process_trial_result` operation took 2.306 s, which may be a performance bottleneck.\n",
      "2025-02-25 16:34:14,643\tWARNING util.py:201 -- Processing trial results took 2.307 s, which may be a performance bottleneck. Please consider reporting results less frequently to Ray Tune.\n",
      "2025-02-25 16:34:14,643\tWARNING util.py:201 -- The `process_trial_result` operation took 2.307 s, which may be a performance bottleneck.\n"
     ]
    },
    {
     "name": "stdout",
     "output_type": "stream",
     "text": [
      "\u001b[36m(train_rf pid=1073004)\u001b[0m Train: (142, 45), Test: (36, 45)\n"
     ]
    },
    {
     "name": "stderr",
     "output_type": "stream",
     "text": [
      "\u001b[36m(train_rf pid=1073004)\u001b[0m /scratch/lfloerl/.condaenvs/ritme_model/lib/python3.10/site-packages/ritme/feature_space/aggregate_features.py:78: UserWarning: These features were not found in taxonomy and are hence disregarded: ['Fermentation_Timepoint'].\n",
      "\u001b[36m(train_rf pid=1073004)\u001b[0m   warnings.warn(\n",
      "2025-02-25 16:34:22,816\tWARNING util.py:201 -- The `callbacks.on_trial_result` operation took 2.779 s, which may be a performance bottleneck.\n",
      "2025-02-25 16:34:22,818\tWARNING util.py:201 -- The `process_trial_result` operation took 2.781 s, which may be a performance bottleneck.\n",
      "2025-02-25 16:34:22,819\tWARNING util.py:201 -- Processing trial results took 2.782 s, which may be a performance bottleneck. Please consider reporting results less frequently to Ray Tune.\n",
      "2025-02-25 16:34:22,820\tWARNING util.py:201 -- The `process_trial_result` operation took 2.782 s, which may be a performance bottleneck.\n",
      "\u001b[36m(train_rf pid=1073126)\u001b[0m /scratch/lfloerl/.condaenvs/ritme_model/lib/python3.10/site-packages/ritme/feature_space/aggregate_features.py:78: UserWarning: These features were not found in taxonomy and are hence disregarded: ['Fermentation_Timepoint'].\n",
      "\u001b[36m(train_rf pid=1073126)\u001b[0m   warnings.warn(\n"
     ]
    },
    {
     "name": "stdout",
     "output_type": "stream",
     "text": [
      "\u001b[36m(train_rf pid=1073126)\u001b[0m Train: (142, 45), Test: (36, 45)\n"
     ]
    },
    {
     "name": "stderr",
     "output_type": "stream",
     "text": [
      "2025-02-25 16:34:33,401\tWARNING util.py:201 -- The `callbacks.on_trial_result` operation took 5.438 s, which may be a performance bottleneck.\n",
      "2025-02-25 16:34:33,403\tWARNING util.py:201 -- The `process_trial_result` operation took 5.440 s, which may be a performance bottleneck.\n",
      "2025-02-25 16:34:33,404\tWARNING util.py:201 -- Processing trial results took 5.441 s, which may be a performance bottleneck. Please consider reporting results less frequently to Ray Tune.\n",
      "2025-02-25 16:34:33,405\tWARNING util.py:201 -- The `process_trial_result` operation took 5.442 s, which may be a performance bottleneck.\n"
     ]
    },
    {
     "name": "stdout",
     "output_type": "stream",
     "text": [
      "\u001b[36m(train_rf pid=1073253)\u001b[0m Train: (142, 52), Test: (36, 52)\n"
     ]
    },
    {
     "name": "stderr",
     "output_type": "stream",
     "text": [
      "\u001b[36m(train_rf pid=1073253)\u001b[0m /scratch/lfloerl/.condaenvs/ritme_model/lib/python3.10/site-packages/ritme/feature_space/aggregate_features.py:78: UserWarning: These features were not found in taxonomy and are hence disregarded: ['Fermentation_Timepoint'].\n",
      "\u001b[36m(train_rf pid=1073253)\u001b[0m   warnings.warn(\n",
      "2025-02-25 16:34:37,986\tWARNING util.py:201 -- The `callbacks.on_trial_result` operation took 1.347 s, which may be a performance bottleneck.\n",
      "2025-02-25 16:34:37,988\tWARNING util.py:201 -- The `process_trial_result` operation took 1.349 s, which may be a performance bottleneck.\n",
      "2025-02-25 16:34:37,989\tWARNING util.py:201 -- Processing trial results took 1.350 s, which may be a performance bottleneck. Please consider reporting results less frequently to Ray Tune.\n",
      "2025-02-25 16:34:37,989\tWARNING util.py:201 -- The `process_trial_result` operation took 1.351 s, which may be a performance bottleneck.\n"
     ]
    },
    {
     "name": "stdout",
     "output_type": "stream",
     "text": [
      "\u001b[36m(train_rf pid=1073367)\u001b[0m Train: (142, 52), Test: (36, 52)\n"
     ]
    },
    {
     "name": "stderr",
     "output_type": "stream",
     "text": [
      "\u001b[36m(train_rf pid=1073367)\u001b[0m /scratch/lfloerl/.condaenvs/ritme_model/lib/python3.10/site-packages/ritme/feature_space/aggregate_features.py:78: UserWarning: These features were not found in taxonomy and are hence disregarded: ['Fermentation_Timepoint'].\n",
      "\u001b[36m(train_rf pid=1073367)\u001b[0m   warnings.warn(\n",
      "2025-02-25 16:34:46,917\tWARNING util.py:201 -- The `callbacks.on_trial_result` operation took 3.157 s, which may be a performance bottleneck.\n",
      "2025-02-25 16:34:46,918\tWARNING util.py:201 -- The `process_trial_result` operation took 3.159 s, which may be a performance bottleneck.\n",
      "2025-02-25 16:34:46,919\tWARNING util.py:201 -- Processing trial results took 3.160 s, which may be a performance bottleneck. Please consider reporting results less frequently to Ray Tune.\n",
      "2025-02-25 16:34:46,919\tWARNING util.py:201 -- The `process_trial_result` operation took 3.160 s, which may be a performance bottleneck.\n"
     ]
    },
    {
     "name": "stdout",
     "output_type": "stream",
     "text": [
      "\u001b[36m(train_rf pid=1073494)\u001b[0m Train: (142, 53), Test: (36, 53)\n"
     ]
    },
    {
     "name": "stderr",
     "output_type": "stream",
     "text": [
      "\u001b[36m(train_rf pid=1073494)\u001b[0m /scratch/lfloerl/.condaenvs/ritme_model/lib/python3.10/site-packages/ritme/feature_space/aggregate_features.py:78: UserWarning: These features were not found in taxonomy and are hence disregarded: ['Fermentation_Timepoint'].\n",
      "\u001b[36m(train_rf pid=1073494)\u001b[0m   warnings.warn(\n",
      "2025-02-25 16:34:58,157\tWARNING util.py:201 -- The `callbacks.on_trial_result` operation took 3.635 s, which may be a performance bottleneck.\n",
      "2025-02-25 16:34:58,159\tWARNING util.py:201 -- The `process_trial_result` operation took 3.637 s, which may be a performance bottleneck.\n",
      "2025-02-25 16:34:58,160\tWARNING util.py:201 -- Processing trial results took 3.638 s, which may be a performance bottleneck. Please consider reporting results less frequently to Ray Tune.\n",
      "2025-02-25 16:34:58,160\tWARNING util.py:201 -- The `process_trial_result` operation took 3.638 s, which may be a performance bottleneck.\n"
     ]
    },
    {
     "name": "stdout",
     "output_type": "stream",
     "text": [
      "\u001b[36m(train_rf pid=1073624)\u001b[0m Train: (142, 52), Test: (36, 52)\n"
     ]
    },
    {
     "name": "stderr",
     "output_type": "stream",
     "text": [
      "\u001b[36m(train_rf pid=1073624)\u001b[0m /scratch/lfloerl/.condaenvs/ritme_model/lib/python3.10/site-packages/ritme/feature_space/aggregate_features.py:78: UserWarning: These features were not found in taxonomy and are hence disregarded: ['Fermentation_Timepoint'].\n",
      "\u001b[36m(train_rf pid=1073624)\u001b[0m   warnings.warn(\n",
      "2025-02-25 16:35:05,849\tWARNING util.py:201 -- The `callbacks.on_trial_result` operation took 3.020 s, which may be a performance bottleneck.\n",
      "2025-02-25 16:35:05,851\tWARNING util.py:201 -- The `process_trial_result` operation took 3.022 s, which may be a performance bottleneck.\n",
      "2025-02-25 16:35:05,851\tWARNING util.py:201 -- Processing trial results took 3.023 s, which may be a performance bottleneck. Please consider reporting results less frequently to Ray Tune.\n",
      "2025-02-25 16:35:05,852\tWARNING util.py:201 -- The `process_trial_result` operation took 3.023 s, which may be a performance bottleneck.\n",
      "\u001b[36m(train_rf pid=1073763)\u001b[0m /scratch/lfloerl/.condaenvs/ritme_model/lib/python3.10/site-packages/ritme/feature_space/aggregate_features.py:78: UserWarning: These features were not found in taxonomy and are hence disregarded: ['Fermentation_Timepoint'].\n",
      "\u001b[36m(train_rf pid=1073763)\u001b[0m   warnings.warn(\n"
     ]
    },
    {
     "name": "stdout",
     "output_type": "stream",
     "text": [
      "\u001b[36m(train_rf pid=1073763)\u001b[0m Train: (142, 52), Test: (36, 52)\n"
     ]
    },
    {
     "name": "stderr",
     "output_type": "stream",
     "text": [
      "2025-02-25 16:35:15,514\tWARNING util.py:201 -- The `callbacks.on_trial_result` operation took 5.229 s, which may be a performance bottleneck.\n",
      "2025-02-25 16:35:15,516\tWARNING util.py:201 -- The `process_trial_result` operation took 5.231 s, which may be a performance bottleneck.\n",
      "2025-02-25 16:35:15,517\tWARNING util.py:201 -- Processing trial results took 5.231 s, which may be a performance bottleneck. Please consider reporting results less frequently to Ray Tune.\n",
      "2025-02-25 16:35:15,517\tWARNING util.py:201 -- The `process_trial_result` operation took 5.232 s, which may be a performance bottleneck.\n"
     ]
    },
    {
     "name": "stdout",
     "output_type": "stream",
     "text": [
      "\u001b[36m(train_rf pid=1073875)\u001b[0m Train: (142, 52), Test: (36, 52)\n"
     ]
    },
    {
     "name": "stderr",
     "output_type": "stream",
     "text": [
      "\u001b[36m(train_rf pid=1073875)\u001b[0m /scratch/lfloerl/.condaenvs/ritme_model/lib/python3.10/site-packages/ritme/feature_space/aggregate_features.py:78: UserWarning: These features were not found in taxonomy and are hence disregarded: ['Fermentation_Timepoint'].\n",
      "\u001b[36m(train_rf pid=1073875)\u001b[0m   warnings.warn(\n",
      "2025-02-25 16:35:23,193\tWARNING util.py:201 -- The `callbacks.on_trial_result` operation took 3.233 s, which may be a performance bottleneck.\n",
      "2025-02-25 16:35:23,195\tWARNING util.py:201 -- The `process_trial_result` operation took 3.235 s, which may be a performance bottleneck.\n",
      "2025-02-25 16:35:23,196\tWARNING util.py:201 -- Processing trial results took 3.236 s, which may be a performance bottleneck. Please consider reporting results less frequently to Ray Tune.\n",
      "2025-02-25 16:35:23,196\tWARNING util.py:201 -- The `process_trial_result` operation took 3.236 s, which may be a performance bottleneck.\n",
      "\u001b[36m(train_rf pid=1074039)\u001b[0m /scratch/lfloerl/.condaenvs/ritme_model/lib/python3.10/site-packages/ritme/feature_space/aggregate_features.py:78: UserWarning: These features were not found in taxonomy and are hence disregarded: ['Fermentation_Timepoint'].\n",
      "\u001b[36m(train_rf pid=1074039)\u001b[0m   warnings.warn(\n"
     ]
    },
    {
     "name": "stdout",
     "output_type": "stream",
     "text": [
      "\u001b[36m(train_rf pid=1074039)\u001b[0m Train: (142, 52), Test: (36, 52)\n"
     ]
    },
    {
     "name": "stderr",
     "output_type": "stream",
     "text": [
      "2025-02-25 16:35:27,706\tWARNING util.py:201 -- The `callbacks.on_trial_result` operation took 1.585 s, which may be a performance bottleneck.\n",
      "2025-02-25 16:35:27,708\tWARNING util.py:201 -- The `process_trial_result` operation took 1.586 s, which may be a performance bottleneck.\n",
      "2025-02-25 16:35:27,708\tWARNING util.py:201 -- Processing trial results took 1.587 s, which may be a performance bottleneck. Please consider reporting results less frequently to Ray Tune.\n",
      "2025-02-25 16:35:27,710\tWARNING util.py:201 -- The `process_trial_result` operation took 1.588 s, which may be a performance bottleneck.\n",
      "\u001b[36m(train_rf pid=1074148)\u001b[0m /scratch/lfloerl/.condaenvs/ritme_model/lib/python3.10/site-packages/ritme/feature_space/aggregate_features.py:78: UserWarning: These features were not found in taxonomy and are hence disregarded: ['Fermentation_Timepoint'].\n",
      "\u001b[36m(train_rf pid=1074148)\u001b[0m   warnings.warn(\n"
     ]
    },
    {
     "name": "stdout",
     "output_type": "stream",
     "text": [
      "\u001b[36m(train_rf pid=1074148)\u001b[0m Train: (142, 52), Test: (36, 52)\n"
     ]
    },
    {
     "name": "stderr",
     "output_type": "stream",
     "text": [
      "2025-02-25 16:35:39,442\tWARNING util.py:201 -- The `callbacks.on_trial_result` operation took 3.278 s, which may be a performance bottleneck.\n",
      "2025-02-25 16:35:39,444\tWARNING util.py:201 -- The `process_trial_result` operation took 3.280 s, which may be a performance bottleneck.\n",
      "2025-02-25 16:35:39,445\tWARNING util.py:201 -- Processing trial results took 3.281 s, which may be a performance bottleneck. Please consider reporting results less frequently to Ray Tune.\n",
      "2025-02-25 16:35:39,445\tWARNING util.py:201 -- The `process_trial_result` operation took 3.281 s, which may be a performance bottleneck.\n",
      "\u001b[36m(train_rf pid=1074260)\u001b[0m /scratch/lfloerl/.condaenvs/ritme_model/lib/python3.10/site-packages/ritme/feature_space/aggregate_features.py:78: UserWarning: These features were not found in taxonomy and are hence disregarded: ['Fermentation_Timepoint'].\n",
      "\u001b[36m(train_rf pid=1074260)\u001b[0m   warnings.warn(\n"
     ]
    },
    {
     "name": "stdout",
     "output_type": "stream",
     "text": [
      "\u001b[36m(train_rf pid=1074260)\u001b[0m Train: (142, 50), Test: (36, 50)\n"
     ]
    },
    {
     "name": "stderr",
     "output_type": "stream",
     "text": [
      "2025-02-25 16:35:46,386\tWARNING util.py:201 -- The `callbacks.on_trial_result` operation took 1.986 s, which may be a performance bottleneck.\n",
      "2025-02-25 16:35:46,388\tWARNING util.py:201 -- The `process_trial_result` operation took 1.988 s, which may be a performance bottleneck.\n",
      "2025-02-25 16:35:46,389\tWARNING util.py:201 -- Processing trial results took 1.989 s, which may be a performance bottleneck. Please consider reporting results less frequently to Ray Tune.\n",
      "2025-02-25 16:35:46,389\tWARNING util.py:201 -- The `process_trial_result` operation took 1.989 s, which may be a performance bottleneck.\n"
     ]
    },
    {
     "name": "stdout",
     "output_type": "stream",
     "text": [
      "\u001b[36m(train_rf pid=1074370)\u001b[0m Train: (142, 47), Test: (36, 47)\n"
     ]
    },
    {
     "name": "stderr",
     "output_type": "stream",
     "text": [
      "\u001b[36m(train_rf pid=1074370)\u001b[0m /scratch/lfloerl/.condaenvs/ritme_model/lib/python3.10/site-packages/ritme/feature_space/aggregate_features.py:78: UserWarning: These features were not found in taxonomy and are hence disregarded: ['Fermentation_Timepoint'].\n",
      "\u001b[36m(train_rf pid=1074370)\u001b[0m   warnings.warn(\n",
      "2025-02-25 16:35:57,551\tWARNING util.py:201 -- The `callbacks.on_trial_result` operation took 5.614 s, which may be a performance bottleneck.\n",
      "2025-02-25 16:35:57,553\tWARNING util.py:201 -- The `process_trial_result` operation took 5.617 s, which may be a performance bottleneck.\n",
      "2025-02-25 16:35:57,554\tWARNING util.py:201 -- Processing trial results took 5.618 s, which may be a performance bottleneck. Please consider reporting results less frequently to Ray Tune.\n",
      "2025-02-25 16:35:57,555\tWARNING util.py:201 -- The `process_trial_result` operation took 5.618 s, which may be a performance bottleneck.\n",
      "\u001b[36m(train_rf pid=1074484)\u001b[0m /scratch/lfloerl/.condaenvs/ritme_model/lib/python3.10/site-packages/ritme/feature_space/aggregate_features.py:78: UserWarning: These features were not found in taxonomy and are hence disregarded: ['Fermentation_Timepoint'].\n",
      "\u001b[36m(train_rf pid=1074484)\u001b[0m   warnings.warn(\n"
     ]
    },
    {
     "name": "stdout",
     "output_type": "stream",
     "text": [
      "\u001b[36m(train_rf pid=1074484)\u001b[0m Train: (142, 55), Test: (36, 55)\n"
     ]
    },
    {
     "name": "stderr",
     "output_type": "stream",
     "text": [
      "2025-02-25 16:36:07,585\tWARNING util.py:201 -- The `callbacks.on_trial_result` operation took 4.416 s, which may be a performance bottleneck.\n",
      "2025-02-25 16:36:07,587\tWARNING util.py:201 -- The `process_trial_result` operation took 4.418 s, which may be a performance bottleneck.\n",
      "2025-02-25 16:36:07,588\tWARNING util.py:201 -- Processing trial results took 4.419 s, which may be a performance bottleneck. Please consider reporting results less frequently to Ray Tune.\n",
      "2025-02-25 16:36:07,588\tWARNING util.py:201 -- The `process_trial_result` operation took 4.420 s, which may be a performance bottleneck.\n",
      "\u001b[36m(train_rf pid=1074730)\u001b[0m /scratch/lfloerl/.condaenvs/ritme_model/lib/python3.10/site-packages/ritme/feature_space/aggregate_features.py:78: UserWarning: These features were not found in taxonomy and are hence disregarded: ['Fermentation_Timepoint'].\n",
      "\u001b[36m(train_rf pid=1074730)\u001b[0m   warnings.warn(\n"
     ]
    },
    {
     "name": "stdout",
     "output_type": "stream",
     "text": [
      "\u001b[36m(train_rf pid=1074730)\u001b[0m Train: (142, 47), Test: (36, 47)\n"
     ]
    },
    {
     "name": "stderr",
     "output_type": "stream",
     "text": [
      "2025-02-25 16:36:14,010\tWARNING util.py:201 -- The `callbacks.on_trial_result` operation took 3.649 s, which may be a performance bottleneck.\n",
      "2025-02-25 16:36:14,012\tWARNING util.py:201 -- The `process_trial_result` operation took 3.651 s, which may be a performance bottleneck.\n",
      "2025-02-25 16:36:14,013\tWARNING util.py:201 -- Processing trial results took 3.652 s, which may be a performance bottleneck. Please consider reporting results less frequently to Ray Tune.\n",
      "2025-02-25 16:36:14,013\tWARNING util.py:201 -- The `process_trial_result` operation took 3.652 s, which may be a performance bottleneck.\n"
     ]
    },
    {
     "name": "stdout",
     "output_type": "stream",
     "text": [
      "\u001b[36m(train_rf pid=1074841)\u001b[0m Train: (142, 47), Test: (36, 47)\n"
     ]
    },
    {
     "name": "stderr",
     "output_type": "stream",
     "text": [
      "\u001b[36m(train_rf pid=1074841)\u001b[0m /scratch/lfloerl/.condaenvs/ritme_model/lib/python3.10/site-packages/ritme/feature_space/aggregate_features.py:78: UserWarning: These features were not found in taxonomy and are hence disregarded: ['Fermentation_Timepoint'].\n",
      "\u001b[36m(train_rf pid=1074841)\u001b[0m   warnings.warn(\n",
      "2025-02-25 16:36:24,222\tWARNING util.py:201 -- The `callbacks.on_trial_result` operation took 3.430 s, which may be a performance bottleneck.\n",
      "2025-02-25 16:36:24,223\tWARNING util.py:201 -- The `process_trial_result` operation took 3.432 s, which may be a performance bottleneck.\n",
      "2025-02-25 16:36:24,224\tWARNING util.py:201 -- Processing trial results took 3.432 s, which may be a performance bottleneck. Please consider reporting results less frequently to Ray Tune.\n",
      "2025-02-25 16:36:24,224\tWARNING util.py:201 -- The `process_trial_result` operation took 3.433 s, which may be a performance bottleneck.\n",
      "\u001b[36m(train_rf pid=1075002)\u001b[0m /scratch/lfloerl/.condaenvs/ritme_model/lib/python3.10/site-packages/ritme/feature_space/aggregate_features.py:78: UserWarning: These features were not found in taxonomy and are hence disregarded: ['Fermentation_Timepoint'].\n",
      "\u001b[36m(train_rf pid=1075002)\u001b[0m   warnings.warn(\n"
     ]
    },
    {
     "name": "stdout",
     "output_type": "stream",
     "text": [
      "\u001b[36m(train_rf pid=1075002)\u001b[0m Train: (142, 57), Test: (36, 57)\n"
     ]
    },
    {
     "name": "stderr",
     "output_type": "stream",
     "text": [
      "2025-02-25 16:36:31,936\tWARNING util.py:201 -- The `callbacks.on_trial_result` operation took 1.636 s, which may be a performance bottleneck.\n",
      "2025-02-25 16:36:31,938\tWARNING util.py:201 -- The `process_trial_result` operation took 1.638 s, which may be a performance bottleneck.\n",
      "2025-02-25 16:36:31,939\tWARNING util.py:201 -- Processing trial results took 1.639 s, which may be a performance bottleneck. Please consider reporting results less frequently to Ray Tune.\n",
      "2025-02-25 16:36:31,939\tWARNING util.py:201 -- The `process_trial_result` operation took 1.639 s, which may be a performance bottleneck.\n",
      "\u001b[36m(train_rf pid=1075112)\u001b[0m /scratch/lfloerl/.condaenvs/ritme_model/lib/python3.10/site-packages/ritme/feature_space/aggregate_features.py:78: UserWarning: These features were not found in taxonomy and are hence disregarded: ['Fermentation_Timepoint'].\n",
      "\u001b[36m(train_rf pid=1075112)\u001b[0m   warnings.warn(\n"
     ]
    },
    {
     "name": "stdout",
     "output_type": "stream",
     "text": [
      "\u001b[36m(train_rf pid=1075112)\u001b[0m Train: (142, 51), Test: (36, 51)\n"
     ]
    },
    {
     "name": "stderr",
     "output_type": "stream",
     "text": [
      "2025-02-25 16:36:43,534\tWARNING util.py:201 -- The `callbacks.on_trial_result` operation took 3.510 s, which may be a performance bottleneck.\n",
      "2025-02-25 16:36:43,536\tWARNING util.py:201 -- The `process_trial_result` operation took 3.511 s, which may be a performance bottleneck.\n",
      "2025-02-25 16:36:43,536\tWARNING util.py:201 -- Processing trial results took 3.512 s, which may be a performance bottleneck. Please consider reporting results less frequently to Ray Tune.\n",
      "2025-02-25 16:36:43,537\tWARNING util.py:201 -- The `process_trial_result` operation took 3.512 s, which may be a performance bottleneck.\n",
      "\u001b[36m(train_rf pid=1075226)\u001b[0m /scratch/lfloerl/.condaenvs/ritme_model/lib/python3.10/site-packages/ritme/feature_space/aggregate_features.py:78: UserWarning: These features were not found in taxonomy and are hence disregarded: ['Fermentation_Timepoint'].\n",
      "\u001b[36m(train_rf pid=1075226)\u001b[0m   warnings.warn(\n"
     ]
    },
    {
     "name": "stdout",
     "output_type": "stream",
     "text": [
      "\u001b[36m(train_rf pid=1075226)\u001b[0m Train: (142, 51), Test: (36, 51)\n"
     ]
    },
    {
     "name": "stderr",
     "output_type": "stream",
     "text": [
      "2025-02-25 16:36:52,674\tWARNING util.py:201 -- The `callbacks.on_trial_result` operation took 2.562 s, which may be a performance bottleneck.\n",
      "2025-02-25 16:36:52,676\tWARNING util.py:201 -- The `process_trial_result` operation took 2.564 s, which may be a performance bottleneck.\n",
      "2025-02-25 16:36:52,676\tWARNING util.py:201 -- Processing trial results took 2.564 s, which may be a performance bottleneck. Please consider reporting results less frequently to Ray Tune.\n",
      "2025-02-25 16:36:52,677\tWARNING util.py:201 -- The `process_trial_result` operation took 2.565 s, which may be a performance bottleneck.\n"
     ]
    },
    {
     "name": "stdout",
     "output_type": "stream",
     "text": [
      "\u001b[36m(train_rf pid=1075335)\u001b[0m Train: (142, 51), Test: (36, 51)\n"
     ]
    },
    {
     "name": "stderr",
     "output_type": "stream",
     "text": [
      "\u001b[36m(train_rf pid=1075335)\u001b[0m /scratch/lfloerl/.condaenvs/ritme_model/lib/python3.10/site-packages/ritme/feature_space/aggregate_features.py:78: UserWarning: These features were not found in taxonomy and are hence disregarded: ['Fermentation_Timepoint'].\n",
      "\u001b[36m(train_rf pid=1075335)\u001b[0m   warnings.warn(\n",
      "2025-02-25 16:37:03,957\tWARNING util.py:201 -- The `callbacks.on_trial_result` operation took 6.042 s, which may be a performance bottleneck.\n",
      "2025-02-25 16:37:03,959\tWARNING util.py:201 -- The `process_trial_result` operation took 6.045 s, which may be a performance bottleneck.\n",
      "2025-02-25 16:37:03,960\tWARNING util.py:201 -- Processing trial results took 6.045 s, which may be a performance bottleneck. Please consider reporting results less frequently to Ray Tune.\n",
      "2025-02-25 16:37:03,961\tWARNING util.py:201 -- The `process_trial_result` operation took 6.047 s, which may be a performance bottleneck.\n",
      "\u001b[36m(train_rf pid=1075519)\u001b[0m /scratch/lfloerl/.condaenvs/ritme_model/lib/python3.10/site-packages/ritme/feature_space/aggregate_features.py:78: UserWarning: These features were not found in taxonomy and are hence disregarded: ['Fermentation_Timepoint'].\n",
      "\u001b[36m(train_rf pid=1075519)\u001b[0m   warnings.warn(\n"
     ]
    },
    {
     "name": "stdout",
     "output_type": "stream",
     "text": [
      "\u001b[36m(train_rf pid=1075519)\u001b[0m Train: (142, 53), Test: (36, 53)\n"
     ]
    },
    {
     "name": "stderr",
     "output_type": "stream",
     "text": [
      "2025-02-25 16:37:15,413\tWARNING util.py:201 -- The `callbacks.on_trial_result` operation took 5.693 s, which may be a performance bottleneck.\n",
      "2025-02-25 16:37:15,415\tWARNING util.py:201 -- The `process_trial_result` operation took 5.696 s, which may be a performance bottleneck.\n",
      "2025-02-25 16:37:15,416\tWARNING util.py:201 -- Processing trial results took 5.696 s, which may be a performance bottleneck. Please consider reporting results less frequently to Ray Tune.\n",
      "2025-02-25 16:37:15,416\tWARNING util.py:201 -- The `process_trial_result` operation took 5.697 s, which may be a performance bottleneck.\n"
     ]
    },
    {
     "name": "stdout",
     "output_type": "stream",
     "text": [
      "\u001b[36m(train_rf pid=1075721)\u001b[0m Train: (142, 53), Test: (36, 53)\n"
     ]
    },
    {
     "name": "stderr",
     "output_type": "stream",
     "text": [
      "\u001b[36m(train_rf pid=1075721)\u001b[0m /scratch/lfloerl/.condaenvs/ritme_model/lib/python3.10/site-packages/ritme/feature_space/aggregate_features.py:78: UserWarning: These features were not found in taxonomy and are hence disregarded: ['Fermentation_Timepoint'].\n",
      "\u001b[36m(train_rf pid=1075721)\u001b[0m   warnings.warn(\n",
      "2025-02-25 16:37:23,880\tWARNING util.py:201 -- The `callbacks.on_trial_result` operation took 5.060 s, which may be a performance bottleneck.\n",
      "2025-02-25 16:37:23,882\tWARNING util.py:201 -- The `process_trial_result` operation took 5.062 s, which may be a performance bottleneck.\n",
      "2025-02-25 16:37:23,883\tWARNING util.py:201 -- Processing trial results took 5.063 s, which may be a performance bottleneck. Please consider reporting results less frequently to Ray Tune.\n",
      "2025-02-25 16:37:23,883\tWARNING util.py:201 -- The `process_trial_result` operation took 5.064 s, which may be a performance bottleneck.\n",
      "\u001b[36m(train_rf pid=1075835)\u001b[0m /scratch/lfloerl/.condaenvs/ritme_model/lib/python3.10/site-packages/ritme/feature_space/aggregate_features.py:78: UserWarning: These features were not found in taxonomy and are hence disregarded: ['Fermentation_Timepoint'].\n",
      "\u001b[36m(train_rf pid=1075835)\u001b[0m   warnings.warn(\n"
     ]
    },
    {
     "name": "stdout",
     "output_type": "stream",
     "text": [
      "\u001b[36m(train_rf pid=1075835)\u001b[0m Train: (142, 52), Test: (36, 52)\n"
     ]
    },
    {
     "name": "stderr",
     "output_type": "stream",
     "text": [
      "2025-02-25 16:37:34,531\tWARNING util.py:201 -- The `callbacks.on_trial_result` operation took 5.411 s, which may be a performance bottleneck.\n",
      "2025-02-25 16:37:34,533\tWARNING util.py:201 -- The `process_trial_result` operation took 5.413 s, which may be a performance bottleneck.\n",
      "2025-02-25 16:37:34,533\tWARNING util.py:201 -- Processing trial results took 5.414 s, which may be a performance bottleneck. Please consider reporting results less frequently to Ray Tune.\n",
      "2025-02-25 16:37:34,534\tWARNING util.py:201 -- The `process_trial_result` operation took 5.414 s, which may be a performance bottleneck.\n",
      "\u001b[36m(train_rf pid=1075944)\u001b[0m /scratch/lfloerl/.condaenvs/ritme_model/lib/python3.10/site-packages/ritme/feature_space/aggregate_features.py:78: UserWarning: These features were not found in taxonomy and are hence disregarded: ['Fermentation_Timepoint'].\n",
      "\u001b[36m(train_rf pid=1075944)\u001b[0m   warnings.warn(\n"
     ]
    },
    {
     "name": "stdout",
     "output_type": "stream",
     "text": [
      "\u001b[36m(train_rf pid=1075944)\u001b[0m Train: (142, 57), Test: (36, 57)\n"
     ]
    },
    {
     "name": "stderr",
     "output_type": "stream",
     "text": [
      "2025-02-25 16:37:42,116\tWARNING util.py:201 -- The `callbacks.on_trial_result` operation took 3.173 s, which may be a performance bottleneck.\n",
      "2025-02-25 16:37:42,118\tWARNING util.py:201 -- The `process_trial_result` operation took 3.175 s, which may be a performance bottleneck.\n",
      "2025-02-25 16:37:42,119\tWARNING util.py:201 -- Processing trial results took 3.176 s, which may be a performance bottleneck. Please consider reporting results less frequently to Ray Tune.\n",
      "2025-02-25 16:37:42,120\tWARNING util.py:201 -- The `process_trial_result` operation took 3.177 s, which may be a performance bottleneck.\n",
      "\u001b[36m(train_rf pid=1076058)\u001b[0m /scratch/lfloerl/.condaenvs/ritme_model/lib/python3.10/site-packages/ritme/feature_space/aggregate_features.py:78: UserWarning: These features were not found in taxonomy and are hence disregarded: ['Fermentation_Timepoint'].\n",
      "\u001b[36m(train_rf pid=1076058)\u001b[0m   warnings.warn(\n"
     ]
    },
    {
     "name": "stdout",
     "output_type": "stream",
     "text": [
      "\u001b[36m(train_rf pid=1076058)\u001b[0m Train: (142, 57), Test: (36, 57)\n"
     ]
    },
    {
     "name": "stderr",
     "output_type": "stream",
     "text": [
      "2025-02-25 16:37:52,162\tWARNING util.py:201 -- The `callbacks.on_trial_result` operation took 3.260 s, which may be a performance bottleneck.\n",
      "2025-02-25 16:37:52,164\tWARNING util.py:201 -- The `process_trial_result` operation took 3.262 s, which may be a performance bottleneck.\n",
      "2025-02-25 16:37:52,164\tWARNING util.py:201 -- Processing trial results took 3.262 s, which may be a performance bottleneck. Please consider reporting results less frequently to Ray Tune.\n",
      "2025-02-25 16:37:52,166\tWARNING util.py:201 -- The `process_trial_result` operation took 3.264 s, which may be a performance bottleneck.\n",
      "\u001b[36m(train_rf pid=1076217)\u001b[0m /scratch/lfloerl/.condaenvs/ritme_model/lib/python3.10/site-packages/ritme/feature_space/aggregate_features.py:78: UserWarning: These features were not found in taxonomy and are hence disregarded: ['Fermentation_Timepoint'].\n",
      "\u001b[36m(train_rf pid=1076217)\u001b[0m   warnings.warn(\n"
     ]
    },
    {
     "name": "stdout",
     "output_type": "stream",
     "text": [
      "\u001b[36m(train_rf pid=1076217)\u001b[0m Train: (142, 45), Test: (36, 45)\n"
     ]
    },
    {
     "name": "stderr",
     "output_type": "stream",
     "text": [
      "2025-02-25 16:38:00,514\tWARNING util.py:201 -- The `callbacks.on_trial_result` operation took 1.796 s, which may be a performance bottleneck.\n",
      "2025-02-25 16:38:00,516\tWARNING util.py:201 -- The `process_trial_result` operation took 1.798 s, which may be a performance bottleneck.\n",
      "2025-02-25 16:38:00,517\tWARNING util.py:201 -- Processing trial results took 1.798 s, which may be a performance bottleneck. Please consider reporting results less frequently to Ray Tune.\n",
      "2025-02-25 16:38:00,517\tWARNING util.py:201 -- The `process_trial_result` operation took 1.799 s, which may be a performance bottleneck.\n",
      "\u001b[36m(train_rf pid=1076417)\u001b[0m /scratch/lfloerl/.condaenvs/ritme_model/lib/python3.10/site-packages/ritme/feature_space/aggregate_features.py:78: UserWarning: These features were not found in taxonomy and are hence disregarded: ['Fermentation_Timepoint'].\n",
      "\u001b[36m(train_rf pid=1076417)\u001b[0m   warnings.warn(\n"
     ]
    },
    {
     "name": "stdout",
     "output_type": "stream",
     "text": [
      "\u001b[36m(train_rf pid=1076417)\u001b[0m Train: (142, 49), Test: (36, 49)\n"
     ]
    },
    {
     "name": "stderr",
     "output_type": "stream",
     "text": [
      "2025-02-25 16:38:13,766\tWARNING util.py:201 -- The `callbacks.on_trial_result` operation took 4.456 s, which may be a performance bottleneck.\n",
      "2025-02-25 16:38:13,768\tWARNING util.py:201 -- The `process_trial_result` operation took 4.458 s, which may be a performance bottleneck.\n",
      "2025-02-25 16:38:13,768\tWARNING util.py:201 -- Processing trial results took 4.458 s, which may be a performance bottleneck. Please consider reporting results less frequently to Ray Tune.\n",
      "2025-02-25 16:38:13,769\tWARNING util.py:201 -- The `process_trial_result` operation took 4.459 s, which may be a performance bottleneck.\n"
     ]
    },
    {
     "name": "stdout",
     "output_type": "stream",
     "text": [
      "\u001b[36m(train_rf pid=1076561)\u001b[0m Train: (142, 49), Test: (36, 49)\n"
     ]
    },
    {
     "name": "stderr",
     "output_type": "stream",
     "text": [
      "\u001b[36m(train_rf pid=1076561)\u001b[0m /scratch/lfloerl/.condaenvs/ritme_model/lib/python3.10/site-packages/ritme/feature_space/aggregate_features.py:78: UserWarning: These features were not found in taxonomy and are hence disregarded: ['Fermentation_Timepoint'].\n",
      "\u001b[36m(train_rf pid=1076561)\u001b[0m   warnings.warn(\n",
      "2025-02-25 16:38:23,469\tWARNING util.py:201 -- The `callbacks.on_trial_result` operation took 2.814 s, which may be a performance bottleneck.\n",
      "2025-02-25 16:38:23,471\tWARNING util.py:201 -- The `process_trial_result` operation took 2.817 s, which may be a performance bottleneck.\n",
      "2025-02-25 16:38:23,471\tWARNING util.py:201 -- Processing trial results took 2.817 s, which may be a performance bottleneck. Please consider reporting results less frequently to Ray Tune.\n",
      "2025-02-25 16:38:23,472\tWARNING util.py:201 -- The `process_trial_result` operation took 2.818 s, which may be a performance bottleneck.\n",
      "\u001b[36m(train_rf pid=1076683)\u001b[0m /scratch/lfloerl/.condaenvs/ritme_model/lib/python3.10/site-packages/ritme/feature_space/aggregate_features.py:78: UserWarning: These features were not found in taxonomy and are hence disregarded: ['Fermentation_Timepoint'].\n",
      "\u001b[36m(train_rf pid=1076683)\u001b[0m   warnings.warn(\n"
     ]
    },
    {
     "name": "stdout",
     "output_type": "stream",
     "text": [
      "\u001b[36m(train_rf pid=1076683)\u001b[0m Train: (142, 45), Test: (36, 45)\n"
     ]
    },
    {
     "name": "stderr",
     "output_type": "stream",
     "text": [
      "2025-02-25 16:38:34,337\tWARNING util.py:201 -- The `callbacks.on_trial_result` operation took 3.416 s, which may be a performance bottleneck.\n",
      "2025-02-25 16:38:34,338\tWARNING util.py:201 -- The `process_trial_result` operation took 3.418 s, which may be a performance bottleneck.\n",
      "2025-02-25 16:38:34,340\tWARNING util.py:201 -- Processing trial results took 3.419 s, which may be a performance bottleneck. Please consider reporting results less frequently to Ray Tune.\n",
      "2025-02-25 16:38:34,340\tWARNING util.py:201 -- The `process_trial_result` operation took 3.419 s, which may be a performance bottleneck.\n"
     ]
    },
    {
     "name": "stdout",
     "output_type": "stream",
     "text": [
      "\u001b[36m(train_rf pid=1076836)\u001b[0m Train: (142, 45), Test: (36, 45)\n"
     ]
    },
    {
     "name": "stderr",
     "output_type": "stream",
     "text": [
      "\u001b[36m(train_rf pid=1076836)\u001b[0m /scratch/lfloerl/.condaenvs/ritme_model/lib/python3.10/site-packages/ritme/feature_space/aggregate_features.py:78: UserWarning: These features were not found in taxonomy and are hence disregarded: ['Fermentation_Timepoint'].\n",
      "\u001b[36m(train_rf pid=1076836)\u001b[0m   warnings.warn(\n",
      "2025-02-25 16:38:45,245\tWARNING util.py:201 -- The `callbacks.on_trial_result` operation took 3.376 s, which may be a performance bottleneck.\n",
      "2025-02-25 16:38:45,246\tWARNING util.py:201 -- The `process_trial_result` operation took 3.378 s, which may be a performance bottleneck.\n",
      "2025-02-25 16:38:45,247\tWARNING util.py:201 -- Processing trial results took 3.379 s, which may be a performance bottleneck. Please consider reporting results less frequently to Ray Tune.\n",
      "2025-02-25 16:38:45,248\tWARNING util.py:201 -- The `process_trial_result` operation took 3.379 s, which may be a performance bottleneck.\n",
      "\u001b[36m(train_rf pid=1076946)\u001b[0m /scratch/lfloerl/.condaenvs/ritme_model/lib/python3.10/site-packages/ritme/feature_space/aggregate_features.py:78: UserWarning: These features were not found in taxonomy and are hence disregarded: ['Fermentation_Timepoint'].\n",
      "\u001b[36m(train_rf pid=1076946)\u001b[0m   warnings.warn(\n"
     ]
    },
    {
     "name": "stdout",
     "output_type": "stream",
     "text": [
      "\u001b[36m(train_rf pid=1076946)\u001b[0m Train: (142, 45), Test: (36, 45)\n"
     ]
    },
    {
     "name": "stderr",
     "output_type": "stream",
     "text": [
      "2025-02-25 16:38:53,651\tWARNING util.py:201 -- The `callbacks.on_trial_result` operation took 3.301 s, which may be a performance bottleneck.\n",
      "2025-02-25 16:38:53,653\tWARNING util.py:201 -- The `process_trial_result` operation took 3.303 s, which may be a performance bottleneck.\n",
      "2025-02-25 16:38:53,654\tWARNING util.py:201 -- Processing trial results took 3.304 s, which may be a performance bottleneck. Please consider reporting results less frequently to Ray Tune.\n",
      "2025-02-25 16:38:53,654\tWARNING util.py:201 -- The `process_trial_result` operation took 3.304 s, which may be a performance bottleneck.\n",
      "\u001b[36m(train_rf pid=1077060)\u001b[0m /scratch/lfloerl/.condaenvs/ritme_model/lib/python3.10/site-packages/ritme/feature_space/aggregate_features.py:78: UserWarning: These features were not found in taxonomy and are hence disregarded: ['Fermentation_Timepoint'].\n",
      "\u001b[36m(train_rf pid=1077060)\u001b[0m   warnings.warn(\n"
     ]
    },
    {
     "name": "stdout",
     "output_type": "stream",
     "text": [
      "\u001b[36m(train_rf pid=1077060)\u001b[0m Train: (142, 45), Test: (36, 45)\n"
     ]
    },
    {
     "name": "stderr",
     "output_type": "stream",
     "text": [
      "2025-02-25 16:39:05,068\tWARNING util.py:201 -- The `callbacks.on_trial_result` operation took 5.711 s, which may be a performance bottleneck.\n",
      "2025-02-25 16:39:05,069\tWARNING util.py:201 -- The `process_trial_result` operation took 5.712 s, which may be a performance bottleneck.\n",
      "2025-02-25 16:39:05,070\tWARNING util.py:201 -- Processing trial results took 5.713 s, which may be a performance bottleneck. Please consider reporting results less frequently to Ray Tune.\n",
      "2025-02-25 16:39:05,070\tWARNING util.py:201 -- The `process_trial_result` operation took 5.713 s, which may be a performance bottleneck.\n",
      "\u001b[36m(train_rf pid=1077257)\u001b[0m /scratch/lfloerl/.condaenvs/ritme_model/lib/python3.10/site-packages/ritme/feature_space/aggregate_features.py:78: UserWarning: These features were not found in taxonomy and are hence disregarded: ['Fermentation_Timepoint'].\n",
      "\u001b[36m(train_rf pid=1077257)\u001b[0m   warnings.warn(\n"
     ]
    },
    {
     "name": "stdout",
     "output_type": "stream",
     "text": [
      "\u001b[36m(train_rf pid=1077257)\u001b[0m Train: (142, 45), Test: (36, 45)\n"
     ]
    },
    {
     "name": "stderr",
     "output_type": "stream",
     "text": [
      "2025-02-25 16:39:14,091\tWARNING util.py:201 -- The `callbacks.on_trial_result` operation took 4.414 s, which may be a performance bottleneck.\n",
      "2025-02-25 16:39:14,093\tWARNING util.py:201 -- The `process_trial_result` operation took 4.416 s, which may be a performance bottleneck.\n",
      "2025-02-25 16:39:14,093\tWARNING util.py:201 -- Processing trial results took 4.416 s, which may be a performance bottleneck. Please consider reporting results less frequently to Ray Tune.\n",
      "2025-02-25 16:39:14,094\tWARNING util.py:201 -- The `process_trial_result` operation took 4.417 s, which may be a performance bottleneck.\n"
     ]
    },
    {
     "name": "stdout",
     "output_type": "stream",
     "text": [
      "\u001b[36m(train_rf pid=1077442)\u001b[0m Train: (142, 45), Test: (36, 45)\n"
     ]
    },
    {
     "name": "stderr",
     "output_type": "stream",
     "text": [
      "\u001b[36m(train_rf pid=1077442)\u001b[0m /scratch/lfloerl/.condaenvs/ritme_model/lib/python3.10/site-packages/ritme/feature_space/aggregate_features.py:78: UserWarning: These features were not found in taxonomy and are hence disregarded: ['Fermentation_Timepoint'].\n",
      "\u001b[36m(train_rf pid=1077442)\u001b[0m   warnings.warn(\n",
      "2025-02-25 16:39:24,620\tWARNING util.py:201 -- The `callbacks.on_trial_result` operation took 5.112 s, which may be a performance bottleneck.\n",
      "2025-02-25 16:39:24,622\tWARNING util.py:201 -- The `process_trial_result` operation took 5.114 s, which may be a performance bottleneck.\n",
      "2025-02-25 16:39:24,622\tWARNING util.py:201 -- Processing trial results took 5.114 s, which may be a performance bottleneck. Please consider reporting results less frequently to Ray Tune.\n",
      "2025-02-25 16:39:24,623\tWARNING util.py:201 -- The `process_trial_result` operation took 5.115 s, which may be a performance bottleneck.\n"
     ]
    },
    {
     "name": "stdout",
     "output_type": "stream",
     "text": [
      "\u001b[36m(train_rf pid=1077562)\u001b[0m Train: (142, 45), Test: (36, 45)\n"
     ]
    },
    {
     "name": "stderr",
     "output_type": "stream",
     "text": [
      "\u001b[36m(train_rf pid=1077562)\u001b[0m /scratch/lfloerl/.condaenvs/ritme_model/lib/python3.10/site-packages/ritme/feature_space/aggregate_features.py:78: UserWarning: These features were not found in taxonomy and are hence disregarded: ['Fermentation_Timepoint'].\n",
      "\u001b[36m(train_rf pid=1077562)\u001b[0m   warnings.warn(\n",
      "2025-02-25 16:39:34,144\tWARNING util.py:201 -- The `callbacks.on_trial_result` operation took 3.591 s, which may be a performance bottleneck.\n",
      "2025-02-25 16:39:34,146\tWARNING util.py:201 -- The `process_trial_result` operation took 3.593 s, which may be a performance bottleneck.\n",
      "2025-02-25 16:39:34,146\tWARNING util.py:201 -- Processing trial results took 3.593 s, which may be a performance bottleneck. Please consider reporting results less frequently to Ray Tune.\n",
      "2025-02-25 16:39:34,147\tWARNING util.py:201 -- The `process_trial_result` operation took 3.594 s, which may be a performance bottleneck.\n"
     ]
    },
    {
     "name": "stdout",
     "output_type": "stream",
     "text": [
      "\u001b[36m(train_rf pid=1077672)\u001b[0m Train: (142, 45), Test: (36, 45)\n"
     ]
    },
    {
     "name": "stderr",
     "output_type": "stream",
     "text": [
      "\u001b[36m(train_rf pid=1077672)\u001b[0m /scratch/lfloerl/.condaenvs/ritme_model/lib/python3.10/site-packages/ritme/feature_space/aggregate_features.py:78: UserWarning: These features were not found in taxonomy and are hence disregarded: ['Fermentation_Timepoint'].\n",
      "\u001b[36m(train_rf pid=1077672)\u001b[0m   warnings.warn(\n",
      "2025-02-25 16:39:43,202\tWARNING util.py:201 -- The `callbacks.on_trial_result` operation took 3.800 s, which may be a performance bottleneck.\n",
      "2025-02-25 16:39:43,204\tWARNING util.py:201 -- The `process_trial_result` operation took 3.803 s, which may be a performance bottleneck.\n",
      "2025-02-25 16:39:43,205\tWARNING util.py:201 -- Processing trial results took 3.804 s, which may be a performance bottleneck. Please consider reporting results less frequently to Ray Tune.\n",
      "2025-02-25 16:39:43,206\tWARNING util.py:201 -- The `process_trial_result` operation took 3.804 s, which may be a performance bottleneck.\n"
     ]
    },
    {
     "name": "stdout",
     "output_type": "stream",
     "text": [
      "\u001b[36m(train_rf pid=1077787)\u001b[0m Train: (142, 45), Test: (36, 45)\n"
     ]
    },
    {
     "name": "stderr",
     "output_type": "stream",
     "text": [
      "\u001b[36m(train_rf pid=1077787)\u001b[0m /scratch/lfloerl/.condaenvs/ritme_model/lib/python3.10/site-packages/ritme/feature_space/aggregate_features.py:78: UserWarning: These features were not found in taxonomy and are hence disregarded: ['Fermentation_Timepoint'].\n",
      "\u001b[36m(train_rf pid=1077787)\u001b[0m   warnings.warn(\n",
      "2025-02-25 16:39:53,464\tWARNING util.py:201 -- The `callbacks.on_trial_result` operation took 3.559 s, which may be a performance bottleneck.\n",
      "2025-02-25 16:39:53,466\tWARNING util.py:201 -- The `process_trial_result` operation took 3.561 s, which may be a performance bottleneck.\n",
      "2025-02-25 16:39:53,466\tWARNING util.py:201 -- Processing trial results took 3.561 s, which may be a performance bottleneck. Please consider reporting results less frequently to Ray Tune.\n",
      "2025-02-25 16:39:53,467\tWARNING util.py:201 -- The `process_trial_result` operation took 3.562 s, which may be a performance bottleneck.\n"
     ]
    },
    {
     "name": "stdout",
     "output_type": "stream",
     "text": [
      "\u001b[36m(train_rf pid=1077902)\u001b[0m Train: (142, 45), Test: (36, 45)\n"
     ]
    },
    {
     "name": "stderr",
     "output_type": "stream",
     "text": [
      "\u001b[36m(train_rf pid=1077902)\u001b[0m /scratch/lfloerl/.condaenvs/ritme_model/lib/python3.10/site-packages/ritme/feature_space/aggregate_features.py:78: UserWarning: These features were not found in taxonomy and are hence disregarded: ['Fermentation_Timepoint'].\n",
      "\u001b[36m(train_rf pid=1077902)\u001b[0m   warnings.warn(\n",
      "2025-02-25 16:40:03,920\tWARNING util.py:201 -- The `callbacks.on_trial_result` operation took 4.242 s, which may be a performance bottleneck.\n",
      "2025-02-25 16:40:03,921\tWARNING util.py:201 -- The `process_trial_result` operation took 4.244 s, which may be a performance bottleneck.\n",
      "2025-02-25 16:40:03,922\tWARNING util.py:201 -- Processing trial results took 4.245 s, which may be a performance bottleneck. Please consider reporting results less frequently to Ray Tune.\n",
      "2025-02-25 16:40:03,923\tWARNING util.py:201 -- The `process_trial_result` operation took 4.246 s, which may be a performance bottleneck.\n",
      "\u001b[36m(train_rf pid=1078139)\u001b[0m /scratch/lfloerl/.condaenvs/ritme_model/lib/python3.10/site-packages/ritme/feature_space/aggregate_features.py:78: UserWarning: These features were not found in taxonomy and are hence disregarded: ['Fermentation_Timepoint'].\n",
      "\u001b[36m(train_rf pid=1078139)\u001b[0m   warnings.warn(\n"
     ]
    },
    {
     "name": "stdout",
     "output_type": "stream",
     "text": [
      "\u001b[36m(train_rf pid=1078139)\u001b[0m Train: (142, 45), Test: (36, 45)\n"
     ]
    },
    {
     "name": "stderr",
     "output_type": "stream",
     "text": [
      "2025-02-25 16:40:17,449\tWARNING util.py:201 -- The `callbacks.on_trial_result` operation took 4.931 s, which may be a performance bottleneck.\n",
      "2025-02-25 16:40:17,451\tWARNING util.py:201 -- The `process_trial_result` operation took 4.934 s, which may be a performance bottleneck.\n",
      "2025-02-25 16:40:17,452\tWARNING util.py:201 -- Processing trial results took 4.934 s, which may be a performance bottleneck. Please consider reporting results less frequently to Ray Tune.\n",
      "2025-02-25 16:40:17,452\tWARNING util.py:201 -- The `process_trial_result` operation took 4.935 s, which may be a performance bottleneck.\n"
     ]
    },
    {
     "name": "stdout",
     "output_type": "stream",
     "text": [
      "\u001b[36m(train_rf pid=1078316)\u001b[0m Train: (142, 45), Test: (36, 45)\n"
     ]
    },
    {
     "name": "stderr",
     "output_type": "stream",
     "text": [
      "\u001b[36m(train_rf pid=1078316)\u001b[0m /scratch/lfloerl/.condaenvs/ritme_model/lib/python3.10/site-packages/ritme/feature_space/aggregate_features.py:78: UserWarning: These features were not found in taxonomy and are hence disregarded: ['Fermentation_Timepoint'].\n",
      "\u001b[36m(train_rf pid=1078316)\u001b[0m   warnings.warn(\n",
      "2025-02-25 16:40:27,433\tWARNING util.py:201 -- The `callbacks.on_trial_result` operation took 4.335 s, which may be a performance bottleneck.\n",
      "2025-02-25 16:40:27,435\tWARNING util.py:201 -- The `process_trial_result` operation took 4.337 s, which may be a performance bottleneck.\n",
      "2025-02-25 16:40:27,436\tWARNING util.py:201 -- Processing trial results took 4.338 s, which may be a performance bottleneck. Please consider reporting results less frequently to Ray Tune.\n",
      "2025-02-25 16:40:27,436\tWARNING util.py:201 -- The `process_trial_result` operation took 4.338 s, which may be a performance bottleneck.\n"
     ]
    },
    {
     "name": "stdout",
     "output_type": "stream",
     "text": [
      "\u001b[36m(train_rf pid=1078431)\u001b[0m Train: (142, 45), Test: (36, 45)\n"
     ]
    },
    {
     "name": "stderr",
     "output_type": "stream",
     "text": [
      "\u001b[36m(train_rf pid=1078431)\u001b[0m /scratch/lfloerl/.condaenvs/ritme_model/lib/python3.10/site-packages/ritme/feature_space/aggregate_features.py:78: UserWarning: These features were not found in taxonomy and are hence disregarded: ['Fermentation_Timepoint'].\n",
      "\u001b[36m(train_rf pid=1078431)\u001b[0m   warnings.warn(\n",
      "2025-02-25 16:40:39,530\tWARNING util.py:201 -- The `callbacks.on_trial_result` operation took 4.828 s, which may be a performance bottleneck.\n",
      "2025-02-25 16:40:39,532\tWARNING util.py:201 -- The `process_trial_result` operation took 4.830 s, which may be a performance bottleneck.\n",
      "2025-02-25 16:40:39,532\tWARNING util.py:201 -- Processing trial results took 4.830 s, which may be a performance bottleneck. Please consider reporting results less frequently to Ray Tune.\n",
      "2025-02-25 16:40:39,533\tWARNING util.py:201 -- The `process_trial_result` operation took 4.831 s, which may be a performance bottleneck.\n"
     ]
    },
    {
     "name": "stdout",
     "output_type": "stream",
     "text": [
      "\u001b[36m(train_rf pid=1078551)\u001b[0m Train: (142, 45), Test: (36, 45)\n"
     ]
    },
    {
     "name": "stderr",
     "output_type": "stream",
     "text": [
      "\u001b[36m(train_rf pid=1078551)\u001b[0m /scratch/lfloerl/.condaenvs/ritme_model/lib/python3.10/site-packages/ritme/feature_space/aggregate_features.py:78: UserWarning: These features were not found in taxonomy and are hence disregarded: ['Fermentation_Timepoint'].\n",
      "\u001b[36m(train_rf pid=1078551)\u001b[0m   warnings.warn(\n",
      "2025-02-25 16:40:48,963\tWARNING util.py:201 -- The `callbacks.on_trial_result` operation took 2.635 s, which may be a performance bottleneck.\n",
      "2025-02-25 16:40:48,965\tWARNING util.py:201 -- The `process_trial_result` operation took 2.636 s, which may be a performance bottleneck.\n",
      "2025-02-25 16:40:48,966\tWARNING util.py:201 -- Processing trial results took 2.637 s, which may be a performance bottleneck. Please consider reporting results less frequently to Ray Tune.\n",
      "2025-02-25 16:40:48,966\tWARNING util.py:201 -- The `process_trial_result` operation took 2.638 s, which may be a performance bottleneck.\n"
     ]
    },
    {
     "name": "stdout",
     "output_type": "stream",
     "text": [
      "\u001b[36m(train_rf pid=1078706)\u001b[0m Train: (142, 45), Test: (36, 45)\n"
     ]
    },
    {
     "name": "stderr",
     "output_type": "stream",
     "text": [
      "\u001b[36m(train_rf pid=1078706)\u001b[0m /scratch/lfloerl/.condaenvs/ritme_model/lib/python3.10/site-packages/ritme/feature_space/aggregate_features.py:78: UserWarning: These features were not found in taxonomy and are hence disregarded: ['Fermentation_Timepoint'].\n",
      "\u001b[36m(train_rf pid=1078706)\u001b[0m   warnings.warn(\n",
      "2025-02-25 16:40:59,912\tWARNING util.py:201 -- The `callbacks.on_trial_result` operation took 4.058 s, which may be a performance bottleneck.\n",
      "2025-02-25 16:40:59,914\tWARNING util.py:201 -- The `process_trial_result` operation took 4.060 s, which may be a performance bottleneck.\n",
      "2025-02-25 16:40:59,914\tWARNING util.py:201 -- Processing trial results took 4.061 s, which may be a performance bottleneck. Please consider reporting results less frequently to Ray Tune.\n",
      "2025-02-25 16:40:59,915\tWARNING util.py:201 -- The `process_trial_result` operation took 4.062 s, which may be a performance bottleneck.\n"
     ]
    },
    {
     "name": "stdout",
     "output_type": "stream",
     "text": [
      "\u001b[36m(train_rf pid=1078833)\u001b[0m Train: (142, 46), Test: (36, 46)\n"
     ]
    },
    {
     "name": "stderr",
     "output_type": "stream",
     "text": [
      "\u001b[36m(train_rf pid=1078833)\u001b[0m /scratch/lfloerl/.condaenvs/ritme_model/lib/python3.10/site-packages/ritme/feature_space/aggregate_features.py:78: UserWarning: These features were not found in taxonomy and are hence disregarded: ['Fermentation_Timepoint'].\n",
      "\u001b[36m(train_rf pid=1078833)\u001b[0m   warnings.warn(\n",
      "2025-02-25 16:41:13,009\tWARNING util.py:201 -- The `callbacks.on_trial_result` operation took 4.783 s, which may be a performance bottleneck.\n",
      "2025-02-25 16:41:13,010\tWARNING util.py:201 -- The `process_trial_result` operation took 4.785 s, which may be a performance bottleneck.\n",
      "2025-02-25 16:41:13,011\tWARNING util.py:201 -- Processing trial results took 4.786 s, which may be a performance bottleneck. Please consider reporting results less frequently to Ray Tune.\n",
      "2025-02-25 16:41:13,012\tWARNING util.py:201 -- The `process_trial_result` operation took 4.786 s, which may be a performance bottleneck.\n"
     ]
    },
    {
     "name": "stdout",
     "output_type": "stream",
     "text": [
      "\u001b[36m(train_rf pid=1079049)\u001b[0m Train: (142, 46), Test: (36, 46)\n"
     ]
    },
    {
     "name": "stderr",
     "output_type": "stream",
     "text": [
      "\u001b[36m(train_rf pid=1079049)\u001b[0m /scratch/lfloerl/.condaenvs/ritme_model/lib/python3.10/site-packages/ritme/feature_space/aggregate_features.py:78: UserWarning: These features were not found in taxonomy and are hence disregarded: ['Fermentation_Timepoint'].\n",
      "\u001b[36m(train_rf pid=1079049)\u001b[0m   warnings.warn(\n",
      "2025-02-25 16:41:23,372\tWARNING util.py:201 -- The `callbacks.on_trial_result` operation took 3.542 s, which may be a performance bottleneck.\n",
      "2025-02-25 16:41:23,374\tWARNING util.py:201 -- The `process_trial_result` operation took 3.544 s, which may be a performance bottleneck.\n",
      "2025-02-25 16:41:23,374\tWARNING util.py:201 -- Processing trial results took 3.545 s, which may be a performance bottleneck. Please consider reporting results less frequently to Ray Tune.\n",
      "2025-02-25 16:41:23,375\tWARNING util.py:201 -- The `process_trial_result` operation took 3.545 s, which may be a performance bottleneck.\n"
     ]
    },
    {
     "name": "stdout",
     "output_type": "stream",
     "text": [
      "\u001b[36m(train_rf pid=1079211)\u001b[0m Train: (142, 46), Test: (36, 46)\n"
     ]
    },
    {
     "name": "stderr",
     "output_type": "stream",
     "text": [
      "\u001b[36m(train_rf pid=1079211)\u001b[0m /scratch/lfloerl/.condaenvs/ritme_model/lib/python3.10/site-packages/ritme/feature_space/aggregate_features.py:78: UserWarning: These features were not found in taxonomy and are hence disregarded: ['Fermentation_Timepoint'].\n",
      "\u001b[36m(train_rf pid=1079211)\u001b[0m   warnings.warn(\n",
      "2025-02-25 16:41:36,293\tWARNING util.py:201 -- The `callbacks.on_trial_result` operation took 4.318 s, which may be a performance bottleneck.\n",
      "2025-02-25 16:41:36,295\tWARNING util.py:201 -- The `process_trial_result` operation took 4.319 s, which may be a performance bottleneck.\n",
      "2025-02-25 16:41:36,296\tWARNING util.py:201 -- Processing trial results took 4.320 s, which may be a performance bottleneck. Please consider reporting results less frequently to Ray Tune.\n",
      "2025-02-25 16:41:36,296\tWARNING util.py:201 -- The `process_trial_result` operation took 4.320 s, which may be a performance bottleneck.\n"
     ]
    },
    {
     "name": "stdout",
     "output_type": "stream",
     "text": [
      "\u001b[36m(train_rf pid=1079325)\u001b[0m Train: (142, 44), Test: (36, 44)\n"
     ]
    },
    {
     "name": "stderr",
     "output_type": "stream",
     "text": [
      "\u001b[36m(train_rf pid=1079325)\u001b[0m /scratch/lfloerl/.condaenvs/ritme_model/lib/python3.10/site-packages/ritme/feature_space/aggregate_features.py:78: UserWarning: These features were not found in taxonomy and are hence disregarded: ['Fermentation_Timepoint'].\n",
      "\u001b[36m(train_rf pid=1079325)\u001b[0m   warnings.warn(\n",
      "2025-02-25 16:41:48,347\tWARNING util.py:201 -- The `callbacks.on_trial_result` operation took 3.595 s, which may be a performance bottleneck.\n",
      "2025-02-25 16:41:48,348\tWARNING util.py:201 -- The `process_trial_result` operation took 3.597 s, which may be a performance bottleneck.\n",
      "2025-02-25 16:41:48,349\tWARNING util.py:201 -- Processing trial results took 3.597 s, which may be a performance bottleneck. Please consider reporting results less frequently to Ray Tune.\n",
      "2025-02-25 16:41:48,349\tWARNING util.py:201 -- The `process_trial_result` operation took 3.598 s, which may be a performance bottleneck.\n"
     ]
    },
    {
     "name": "stdout",
     "output_type": "stream",
     "text": [
      "\u001b[36m(train_rf pid=1079438)\u001b[0m Train: (142, 44), Test: (36, 44)\n"
     ]
    },
    {
     "name": "stderr",
     "output_type": "stream",
     "text": [
      "\u001b[36m(train_rf pid=1079438)\u001b[0m /scratch/lfloerl/.condaenvs/ritme_model/lib/python3.10/site-packages/ritme/feature_space/aggregate_features.py:78: UserWarning: These features were not found in taxonomy and are hence disregarded: ['Fermentation_Timepoint'].\n",
      "\u001b[36m(train_rf pid=1079438)\u001b[0m   warnings.warn(\n",
      "2025-02-25 16:41:56,279\tWARNING util.py:201 -- The `callbacks.on_trial_result` operation took 2.586 s, which may be a performance bottleneck.\n",
      "2025-02-25 16:41:56,280\tWARNING util.py:201 -- The `process_trial_result` operation took 2.588 s, which may be a performance bottleneck.\n",
      "2025-02-25 16:41:56,281\tWARNING util.py:201 -- Processing trial results took 2.589 s, which may be a performance bottleneck. Please consider reporting results less frequently to Ray Tune.\n",
      "2025-02-25 16:41:56,281\tWARNING util.py:201 -- The `process_trial_result` operation took 2.589 s, which may be a performance bottleneck.\n",
      "\u001b[36m(train_rf pid=1079592)\u001b[0m /scratch/lfloerl/.condaenvs/ritme_model/lib/python3.10/site-packages/ritme/feature_space/aggregate_features.py:78: UserWarning: These features were not found in taxonomy and are hence disregarded: ['Fermentation_Timepoint'].\n",
      "\u001b[36m(train_rf pid=1079592)\u001b[0m   warnings.warn(\n"
     ]
    },
    {
     "name": "stdout",
     "output_type": "stream",
     "text": [
      "\u001b[36m(train_rf pid=1079592)\u001b[0m Train: (142, 44), Test: (36, 44)\n"
     ]
    },
    {
     "name": "stderr",
     "output_type": "stream",
     "text": [
      "2025-02-25 16:42:09,594\tWARNING util.py:201 -- The `callbacks.on_trial_result` operation took 6.933 s, which may be a performance bottleneck.\n",
      "2025-02-25 16:42:09,596\tWARNING util.py:201 -- The `process_trial_result` operation took 6.935 s, which may be a performance bottleneck.\n",
      "2025-02-25 16:42:09,596\tWARNING util.py:201 -- Processing trial results took 6.936 s, which may be a performance bottleneck. Please consider reporting results less frequently to Ray Tune.\n",
      "2025-02-25 16:42:09,597\tWARNING util.py:201 -- The `process_trial_result` operation took 6.936 s, which may be a performance bottleneck.\n",
      "\u001b[36m(train_rf pid=1079826)\u001b[0m /scratch/lfloerl/.condaenvs/ritme_model/lib/python3.10/site-packages/ritme/feature_space/aggregate_features.py:78: UserWarning: These features were not found in taxonomy and are hence disregarded: ['Fermentation_Timepoint'].\n",
      "\u001b[36m(train_rf pid=1079826)\u001b[0m   warnings.warn(\n"
     ]
    },
    {
     "name": "stdout",
     "output_type": "stream",
     "text": [
      "\u001b[36m(train_rf pid=1079826)\u001b[0m Train: (142, 45), Test: (36, 45)\n"
     ]
    },
    {
     "name": "stderr",
     "output_type": "stream",
     "text": [
      "2025-02-25 16:42:21,636\tWARNING util.py:201 -- The `callbacks.on_trial_result` operation took 4.361 s, which may be a performance bottleneck.\n",
      "2025-02-25 16:42:21,638\tWARNING util.py:201 -- The `process_trial_result` operation took 4.363 s, which may be a performance bottleneck.\n",
      "2025-02-25 16:42:21,639\tWARNING util.py:201 -- Processing trial results took 4.363 s, which may be a performance bottleneck. Please consider reporting results less frequently to Ray Tune.\n",
      "2025-02-25 16:42:21,639\tWARNING util.py:201 -- The `process_trial_result` operation took 4.364 s, which may be a performance bottleneck.\n"
     ]
    },
    {
     "name": "stdout",
     "output_type": "stream",
     "text": [
      "\u001b[36m(train_rf pid=1079960)\u001b[0m Train: (142, 45), Test: (36, 45)\n"
     ]
    },
    {
     "name": "stderr",
     "output_type": "stream",
     "text": [
      "\u001b[36m(train_rf pid=1079960)\u001b[0m /scratch/lfloerl/.condaenvs/ritme_model/lib/python3.10/site-packages/ritme/feature_space/aggregate_features.py:78: UserWarning: These features were not found in taxonomy and are hence disregarded: ['Fermentation_Timepoint'].\n",
      "\u001b[36m(train_rf pid=1079960)\u001b[0m   warnings.warn(\n",
      "2025-02-25 16:42:32,944\tWARNING util.py:201 -- The `callbacks.on_trial_result` operation took 5.836 s, which may be a performance bottleneck.\n",
      "2025-02-25 16:42:32,946\tWARNING util.py:201 -- The `process_trial_result` operation took 5.838 s, which may be a performance bottleneck.\n",
      "2025-02-25 16:42:32,947\tWARNING util.py:201 -- Processing trial results took 5.839 s, which may be a performance bottleneck. Please consider reporting results less frequently to Ray Tune.\n",
      "2025-02-25 16:42:32,948\tWARNING util.py:201 -- The `process_trial_result` operation took 5.840 s, which may be a performance bottleneck.\n",
      "\u001b[36m(train_rf pid=1080084)\u001b[0m /scratch/lfloerl/.condaenvs/ritme_model/lib/python3.10/site-packages/ritme/feature_space/aggregate_features.py:78: UserWarning: These features were not found in taxonomy and are hence disregarded: ['Fermentation_Timepoint'].\n",
      "\u001b[36m(train_rf pid=1080084)\u001b[0m   warnings.warn(\n"
     ]
    },
    {
     "name": "stdout",
     "output_type": "stream",
     "text": [
      "\u001b[36m(train_rf pid=1080084)\u001b[0m Train: (142, 45), Test: (36, 45)\n"
     ]
    },
    {
     "name": "stderr",
     "output_type": "stream",
     "text": [
      "2025-02-25 16:42:45,575\tWARNING util.py:201 -- The `callbacks.on_trial_result` operation took 5.290 s, which may be a performance bottleneck.\n",
      "2025-02-25 16:42:45,576\tWARNING util.py:201 -- The `process_trial_result` operation took 5.292 s, which may be a performance bottleneck.\n",
      "2025-02-25 16:42:45,577\tWARNING util.py:201 -- Processing trial results took 5.293 s, which may be a performance bottleneck. Please consider reporting results less frequently to Ray Tune.\n",
      "2025-02-25 16:42:45,577\tWARNING util.py:201 -- The `process_trial_result` operation took 5.293 s, which may be a performance bottleneck.\n"
     ]
    },
    {
     "name": "stdout",
     "output_type": "stream",
     "text": [
      "\u001b[36m(train_rf pid=1080259)\u001b[0m Train: (142, 46), Test: (36, 46)\n"
     ]
    },
    {
     "name": "stderr",
     "output_type": "stream",
     "text": [
      "\u001b[36m(train_rf pid=1080259)\u001b[0m /scratch/lfloerl/.condaenvs/ritme_model/lib/python3.10/site-packages/ritme/feature_space/aggregate_features.py:78: UserWarning: These features were not found in taxonomy and are hence disregarded: ['Fermentation_Timepoint'].\n",
      "\u001b[36m(train_rf pid=1080259)\u001b[0m   warnings.warn(\n",
      "2025-02-25 16:42:54,129\tWARNING util.py:201 -- The `callbacks.on_trial_result` operation took 3.931 s, which may be a performance bottleneck.\n",
      "2025-02-25 16:42:54,131\tWARNING util.py:201 -- The `process_trial_result` operation took 3.933 s, which may be a performance bottleneck.\n",
      "2025-02-25 16:42:54,131\tWARNING util.py:201 -- Processing trial results took 3.934 s, which may be a performance bottleneck. Please consider reporting results less frequently to Ray Tune.\n",
      "2025-02-25 16:42:54,132\tWARNING util.py:201 -- The `process_trial_result` operation took 3.934 s, which may be a performance bottleneck.\n"
     ]
    },
    {
     "name": "stdout",
     "output_type": "stream",
     "text": [
      "\u001b[36m(train_rf pid=1080380)\u001b[0m Train: (142, 46), Test: (36, 46)\n"
     ]
    },
    {
     "name": "stderr",
     "output_type": "stream",
     "text": [
      "\u001b[36m(train_rf pid=1080380)\u001b[0m /scratch/lfloerl/.condaenvs/ritme_model/lib/python3.10/site-packages/ritme/feature_space/aggregate_features.py:78: UserWarning: These features were not found in taxonomy and are hence disregarded: ['Fermentation_Timepoint'].\n",
      "\u001b[36m(train_rf pid=1080380)\u001b[0m   warnings.warn(\n",
      "2025-02-25 16:43:05,795\tWARNING util.py:201 -- The `callbacks.on_trial_result` operation took 5.456 s, which may be a performance bottleneck.\n",
      "2025-02-25 16:43:05,797\tWARNING util.py:201 -- The `process_trial_result` operation took 5.458 s, which may be a performance bottleneck.\n",
      "2025-02-25 16:43:05,798\tWARNING util.py:201 -- Processing trial results took 5.459 s, which may be a performance bottleneck. Please consider reporting results less frequently to Ray Tune.\n",
      "2025-02-25 16:43:05,798\tWARNING util.py:201 -- The `process_trial_result` operation took 5.459 s, which may be a performance bottleneck.\n"
     ]
    },
    {
     "name": "stdout",
     "output_type": "stream",
     "text": [
      "\u001b[36m(train_rf pid=1080500)\u001b[0m Train: (142, 44), Test: (36, 44)\n"
     ]
    },
    {
     "name": "stderr",
     "output_type": "stream",
     "text": [
      "\u001b[36m(train_rf pid=1080500)\u001b[0m /scratch/lfloerl/.condaenvs/ritme_model/lib/python3.10/site-packages/ritme/feature_space/aggregate_features.py:78: UserWarning: These features were not found in taxonomy and are hence disregarded: ['Fermentation_Timepoint'].\n",
      "\u001b[36m(train_rf pid=1080500)\u001b[0m   warnings.warn(\n",
      "2025-02-25 16:43:18,338\tWARNING util.py:201 -- The `callbacks.on_trial_result` operation took 5.244 s, which may be a performance bottleneck.\n",
      "2025-02-25 16:43:18,341\tWARNING util.py:201 -- The `process_trial_result` operation took 5.247 s, which may be a performance bottleneck.\n",
      "2025-02-25 16:43:18,341\tWARNING util.py:201 -- Processing trial results took 5.247 s, which may be a performance bottleneck. Please consider reporting results less frequently to Ray Tune.\n",
      "2025-02-25 16:43:18,341\tWARNING util.py:201 -- The `process_trial_result` operation took 5.248 s, which may be a performance bottleneck.\n"
     ]
    },
    {
     "name": "stdout",
     "output_type": "stream",
     "text": [
      "\u001b[36m(train_rf pid=1080647)\u001b[0m Train: (142, 45), Test: (36, 45)\n"
     ]
    },
    {
     "name": "stderr",
     "output_type": "stream",
     "text": [
      "\u001b[36m(train_rf pid=1080647)\u001b[0m /scratch/lfloerl/.condaenvs/ritme_model/lib/python3.10/site-packages/ritme/feature_space/aggregate_features.py:78: UserWarning: These features were not found in taxonomy and are hence disregarded: ['Fermentation_Timepoint'].\n",
      "\u001b[36m(train_rf pid=1080647)\u001b[0m   warnings.warn(\n",
      "2025-02-25 16:43:23,391\tWARNING util.py:201 -- The `callbacks.on_trial_result` operation took 1.778 s, which may be a performance bottleneck.\n",
      "2025-02-25 16:43:23,393\tWARNING util.py:201 -- The `process_trial_result` operation took 1.781 s, which may be a performance bottleneck.\n",
      "2025-02-25 16:43:23,394\tWARNING util.py:201 -- Processing trial results took 1.782 s, which may be a performance bottleneck. Please consider reporting results less frequently to Ray Tune.\n",
      "2025-02-25 16:43:23,394\tWARNING util.py:201 -- The `process_trial_result` operation took 1.782 s, which may be a performance bottleneck.\n"
     ]
    },
    {
     "name": "stdout",
     "output_type": "stream",
     "text": [
      "\u001b[36m(train_rf pid=1080801)\u001b[0m Train: (142, 45), Test: (36, 45)\n"
     ]
    },
    {
     "name": "stderr",
     "output_type": "stream",
     "text": [
      "\u001b[36m(train_rf pid=1080801)\u001b[0m /scratch/lfloerl/.condaenvs/ritme_model/lib/python3.10/site-packages/ritme/feature_space/aggregate_features.py:78: UserWarning: These features were not found in taxonomy and are hence disregarded: ['Fermentation_Timepoint'].\n",
      "\u001b[36m(train_rf pid=1080801)\u001b[0m   warnings.warn(\n",
      "2025-02-25 16:43:32,526\tWARNING util.py:201 -- The `callbacks.on_trial_result` operation took 2.816 s, which may be a performance bottleneck.\n",
      "2025-02-25 16:43:32,528\tWARNING util.py:201 -- The `process_trial_result` operation took 2.819 s, which may be a performance bottleneck.\n",
      "2025-02-25 16:43:32,529\tWARNING util.py:201 -- Processing trial results took 2.820 s, which may be a performance bottleneck. Please consider reporting results less frequently to Ray Tune.\n",
      "2025-02-25 16:43:32,530\tWARNING util.py:201 -- The `process_trial_result` operation took 2.820 s, which may be a performance bottleneck.\n"
     ]
    },
    {
     "name": "stdout",
     "output_type": "stream",
     "text": [
      "\u001b[36m(train_rf pid=1080914)\u001b[0m Train: (142, 45), Test: (36, 45)\n"
     ]
    },
    {
     "name": "stderr",
     "output_type": "stream",
     "text": [
      "2025-02-25 16:43:44,952\tWARNING util.py:201 -- The `callbacks.on_trial_result` operation took 4.881 s, which may be a performance bottleneck.\n",
      "2025-02-25 16:43:44,954\tWARNING util.py:201 -- The `process_trial_result` operation took 4.883 s, which may be a performance bottleneck.\n",
      "2025-02-25 16:43:44,955\tWARNING util.py:201 -- Processing trial results took 4.885 s, which may be a performance bottleneck. Please consider reporting results less frequently to Ray Tune.\n",
      "2025-02-25 16:43:44,956\tWARNING util.py:201 -- The `process_trial_result` operation took 4.886 s, which may be a performance bottleneck.\n"
     ]
    },
    {
     "name": "stdout",
     "output_type": "stream",
     "text": [
      "\u001b[36m(train_rf pid=1081023)\u001b[0m Train: (142, 45), Test: (36, 45)\n"
     ]
    },
    {
     "name": "stderr",
     "output_type": "stream",
     "text": [
      "2025-02-25 16:43:55,241\tWARNING util.py:201 -- The `callbacks.on_trial_result` operation took 3.677 s, which may be a performance bottleneck.\n",
      "2025-02-25 16:43:55,243\tWARNING util.py:201 -- The `process_trial_result` operation took 3.679 s, which may be a performance bottleneck.\n",
      "2025-02-25 16:43:55,243\tWARNING util.py:201 -- Processing trial results took 3.680 s, which may be a performance bottleneck. Please consider reporting results less frequently to Ray Tune.\n",
      "2025-02-25 16:43:55,244\tWARNING util.py:201 -- The `process_trial_result` operation took 3.680 s, which may be a performance bottleneck.\n"
     ]
    },
    {
     "name": "stdout",
     "output_type": "stream",
     "text": [
      "\u001b[36m(train_rf pid=1081136)\u001b[0m Train: (142, 45), Test: (36, 45)\n"
     ]
    },
    {
     "name": "stderr",
     "output_type": "stream",
     "text": [
      "\u001b[36m(train_rf pid=1081136)\u001b[0m /scratch/lfloerl/.condaenvs/ritme_model/lib/python3.10/site-packages/ritme/feature_space/aggregate_features.py:78: UserWarning: These features were not found in taxonomy and are hence disregarded: ['Fermentation_Timepoint'].\n",
      "\u001b[36m(train_rf pid=1081136)\u001b[0m   warnings.warn(\n",
      "2025-02-25 16:44:09,029\tWARNING util.py:201 -- The `callbacks.on_trial_result` operation took 5.427 s, which may be a performance bottleneck.\n",
      "2025-02-25 16:44:09,030\tWARNING util.py:201 -- The `process_trial_result` operation took 5.429 s, which may be a performance bottleneck.\n",
      "2025-02-25 16:44:09,031\tWARNING util.py:201 -- Processing trial results took 5.429 s, which may be a performance bottleneck. Please consider reporting results less frequently to Ray Tune.\n",
      "2025-02-25 16:44:09,031\tWARNING util.py:201 -- The `process_trial_result` operation took 5.430 s, which may be a performance bottleneck.\n"
     ]
    },
    {
     "name": "stdout",
     "output_type": "stream",
     "text": [
      "\u001b[36m(train_rf pid=1081385)\u001b[0m Train: (142, 45), Test: (36, 45)\n"
     ]
    },
    {
     "name": "stderr",
     "output_type": "stream",
     "text": [
      "\u001b[36m(train_rf pid=1081385)\u001b[0m /scratch/lfloerl/.condaenvs/ritme_model/lib/python3.10/site-packages/ritme/feature_space/aggregate_features.py:78: UserWarning: These features were not found in taxonomy and are hence disregarded: ['Fermentation_Timepoint'].\n",
      "\u001b[36m(train_rf pid=1081385)\u001b[0m   warnings.warn(\n",
      "2025-02-25 16:44:21,884\tWARNING util.py:201 -- The `callbacks.on_trial_result` operation took 4.949 s, which may be a performance bottleneck.\n",
      "2025-02-25 16:44:21,886\tWARNING util.py:201 -- The `process_trial_result` operation took 4.951 s, which may be a performance bottleneck.\n",
      "2025-02-25 16:44:21,887\tWARNING util.py:201 -- Processing trial results took 4.952 s, which may be a performance bottleneck. Please consider reporting results less frequently to Ray Tune.\n",
      "2025-02-25 16:44:21,887\tWARNING util.py:201 -- The `process_trial_result` operation took 4.952 s, which may be a performance bottleneck.\n"
     ]
    },
    {
     "name": "stdout",
     "output_type": "stream",
     "text": [
      "\u001b[36m(train_rf pid=1081549)\u001b[0m Train: (142, 45), Test: (36, 45)\n"
     ]
    },
    {
     "name": "stderr",
     "output_type": "stream",
     "text": [
      "\u001b[36m(train_rf pid=1081549)\u001b[0m /scratch/lfloerl/.condaenvs/ritme_model/lib/python3.10/site-packages/ritme/feature_space/aggregate_features.py:78: UserWarning: These features were not found in taxonomy and are hence disregarded: ['Fermentation_Timepoint'].\n",
      "\u001b[36m(train_rf pid=1081549)\u001b[0m   warnings.warn(\n",
      "2025-02-25 16:44:30,514\tWARNING util.py:201 -- The `callbacks.on_trial_result` operation took 4.210 s, which may be a performance bottleneck.\n",
      "2025-02-25 16:44:30,516\tWARNING util.py:201 -- The `process_trial_result` operation took 4.212 s, which may be a performance bottleneck.\n",
      "2025-02-25 16:44:30,516\tWARNING util.py:201 -- Processing trial results took 4.212 s, which may be a performance bottleneck. Please consider reporting results less frequently to Ray Tune.\n",
      "2025-02-25 16:44:30,517\tWARNING util.py:201 -- The `process_trial_result` operation took 4.213 s, which may be a performance bottleneck.\n"
     ]
    },
    {
     "name": "stdout",
     "output_type": "stream",
     "text": [
      "\u001b[36m(train_rf pid=1081660)\u001b[0m Train: (142, 45), Test: (36, 45)\n"
     ]
    },
    {
     "name": "stderr",
     "output_type": "stream",
     "text": [
      "\u001b[36m(train_rf pid=1081660)\u001b[0m /scratch/lfloerl/.condaenvs/ritme_model/lib/python3.10/site-packages/ritme/feature_space/aggregate_features.py:78: UserWarning: These features were not found in taxonomy and are hence disregarded: ['Fermentation_Timepoint'].\n",
      "\u001b[36m(train_rf pid=1081660)\u001b[0m   warnings.warn(\n",
      "2025-02-25 16:44:41,843\tWARNING util.py:201 -- The `callbacks.on_trial_result` operation took 5.956 s, which may be a performance bottleneck.\n",
      "2025-02-25 16:44:41,844\tWARNING util.py:201 -- The `process_trial_result` operation took 5.958 s, which may be a performance bottleneck.\n",
      "2025-02-25 16:44:41,845\tWARNING util.py:201 -- Processing trial results took 5.958 s, which may be a performance bottleneck. Please consider reporting results less frequently to Ray Tune.\n",
      "2025-02-25 16:44:41,846\tWARNING util.py:201 -- The `process_trial_result` operation took 5.959 s, which may be a performance bottleneck.\n",
      "\u001b[36m(train_rf pid=1081770)\u001b[0m /scratch/lfloerl/.condaenvs/ritme_model/lib/python3.10/site-packages/ritme/feature_space/aggregate_features.py:78: UserWarning: These features were not found in taxonomy and are hence disregarded: ['Fermentation_Timepoint'].\n",
      "\u001b[36m(train_rf pid=1081770)\u001b[0m   warnings.warn(\n"
     ]
    },
    {
     "name": "stdout",
     "output_type": "stream",
     "text": [
      "\u001b[36m(train_rf pid=1081770)\u001b[0m Train: (142, 46), Test: (36, 46)\n"
     ]
    },
    {
     "name": "stderr",
     "output_type": "stream",
     "text": [
      "2025-02-25 16:44:52,033\tWARNING util.py:201 -- The `callbacks.on_trial_result` operation took 3.750 s, which may be a performance bottleneck.\n",
      "2025-02-25 16:44:52,035\tWARNING util.py:201 -- The `process_trial_result` operation took 3.752 s, which may be a performance bottleneck.\n",
      "2025-02-25 16:44:52,036\tWARNING util.py:201 -- Processing trial results took 3.753 s, which may be a performance bottleneck. Please consider reporting results less frequently to Ray Tune.\n",
      "2025-02-25 16:44:52,037\tWARNING util.py:201 -- The `process_trial_result` operation took 3.754 s, which may be a performance bottleneck.\n"
     ]
    },
    {
     "name": "stdout",
     "output_type": "stream",
     "text": [
      "\u001b[36m(train_rf pid=1081883)\u001b[0m Train: (142, 69), Test: (36, 69)\n"
     ]
    },
    {
     "name": "stderr",
     "output_type": "stream",
     "text": [
      "\u001b[36m(train_rf pid=1081883)\u001b[0m /scratch/lfloerl/.condaenvs/ritme_model/lib/python3.10/site-packages/ritme/feature_space/aggregate_features.py:78: UserWarning: These features were not found in taxonomy and are hence disregarded: ['Fermentation_Timepoint'].\n",
      "\u001b[36m(train_rf pid=1081883)\u001b[0m   warnings.warn(\n",
      "2025-02-25 16:44:58,663\tWARNING util.py:201 -- The `callbacks.on_trial_result` operation took 2.335 s, which may be a performance bottleneck.\n",
      "2025-02-25 16:44:58,665\tWARNING util.py:201 -- The `process_trial_result` operation took 2.337 s, which may be a performance bottleneck.\n",
      "2025-02-25 16:44:58,667\tWARNING util.py:201 -- Processing trial results took 2.340 s, which may be a performance bottleneck. Please consider reporting results less frequently to Ray Tune.\n",
      "2025-02-25 16:44:58,669\tWARNING util.py:201 -- The `process_trial_result` operation took 2.341 s, which may be a performance bottleneck.\n"
     ]
    },
    {
     "name": "stdout",
     "output_type": "stream",
     "text": [
      "\u001b[36m(train_rf pid=1082039)\u001b[0m Train: (142, 69), Test: (36, 69)\n"
     ]
    },
    {
     "name": "stderr",
     "output_type": "stream",
     "text": [
      "\u001b[36m(train_rf pid=1082039)\u001b[0m /scratch/lfloerl/.condaenvs/ritme_model/lib/python3.10/site-packages/ritme/feature_space/aggregate_features.py:78: UserWarning: These features were not found in taxonomy and are hence disregarded: ['Fermentation_Timepoint'].\n",
      "\u001b[36m(train_rf pid=1082039)\u001b[0m   warnings.warn(\n",
      "2025-02-25 16:45:13,581\tWARNING util.py:201 -- The `callbacks.on_trial_result` operation took 4.956 s, which may be a performance bottleneck.\n",
      "2025-02-25 16:45:13,583\tWARNING util.py:201 -- The `process_trial_result` operation took 4.958 s, which may be a performance bottleneck.\n",
      "2025-02-25 16:45:13,584\tWARNING util.py:201 -- Processing trial results took 4.959 s, which may be a performance bottleneck. Please consider reporting results less frequently to Ray Tune.\n",
      "2025-02-25 16:45:13,584\tWARNING util.py:201 -- The `process_trial_result` operation took 4.959 s, which may be a performance bottleneck.\n"
     ]
    },
    {
     "name": "stdout",
     "output_type": "stream",
     "text": [
      "\u001b[36m(train_rf pid=1082253)\u001b[0m Train: (142, 45), Test: (36, 45)\n"
     ]
    },
    {
     "name": "stderr",
     "output_type": "stream",
     "text": [
      "\u001b[36m(train_rf pid=1082253)\u001b[0m /scratch/lfloerl/.condaenvs/ritme_model/lib/python3.10/site-packages/ritme/feature_space/aggregate_features.py:78: UserWarning: These features were not found in taxonomy and are hence disregarded: ['Fermentation_Timepoint'].\n",
      "\u001b[36m(train_rf pid=1082253)\u001b[0m   warnings.warn(\n",
      "2025-02-25 16:45:25,849\tWARNING util.py:201 -- The `callbacks.on_trial_result` operation took 4.599 s, which may be a performance bottleneck.\n",
      "2025-02-25 16:45:25,851\tWARNING util.py:201 -- The `process_trial_result` operation took 4.602 s, which may be a performance bottleneck.\n",
      "2025-02-25 16:45:25,852\tWARNING util.py:201 -- Processing trial results took 4.603 s, which may be a performance bottleneck. Please consider reporting results less frequently to Ray Tune.\n",
      "2025-02-25 16:45:25,853\tWARNING util.py:201 -- The `process_trial_result` operation took 4.603 s, which may be a performance bottleneck.\n"
     ]
    },
    {
     "name": "stdout",
     "output_type": "stream",
     "text": [
      "\u001b[36m(train_rf pid=1082370)\u001b[0m Train: (142, 44), Test: (36, 44)\n"
     ]
    },
    {
     "name": "stderr",
     "output_type": "stream",
     "text": [
      "\u001b[36m(train_rf pid=1082370)\u001b[0m /scratch/lfloerl/.condaenvs/ritme_model/lib/python3.10/site-packages/ritme/feature_space/aggregate_features.py:78: UserWarning: These features were not found in taxonomy and are hence disregarded: ['Fermentation_Timepoint'].\n",
      "\u001b[36m(train_rf pid=1082370)\u001b[0m   warnings.warn(\n",
      "2025-02-25 16:45:34,710\tWARNING util.py:201 -- The `callbacks.on_trial_result` operation took 3.881 s, which may be a performance bottleneck.\n",
      "2025-02-25 16:45:34,712\tWARNING util.py:201 -- The `process_trial_result` operation took 3.884 s, which may be a performance bottleneck.\n",
      "2025-02-25 16:45:34,713\tWARNING util.py:201 -- Processing trial results took 3.884 s, which may be a performance bottleneck. Please consider reporting results less frequently to Ray Tune.\n",
      "2025-02-25 16:45:34,714\tWARNING util.py:201 -- The `process_trial_result` operation took 3.885 s, which may be a performance bottleneck.\n",
      "\u001b[36m(train_rf pid=1082483)\u001b[0m /scratch/lfloerl/.condaenvs/ritme_model/lib/python3.10/site-packages/ritme/feature_space/aggregate_features.py:78: UserWarning: These features were not found in taxonomy and are hence disregarded: ['Fermentation_Timepoint'].\n",
      "\u001b[36m(train_rf pid=1082483)\u001b[0m   warnings.warn(\n"
     ]
    },
    {
     "name": "stdout",
     "output_type": "stream",
     "text": [
      "\u001b[36m(train_rf pid=1082483)\u001b[0m Train: (142, 47), Test: (36, 47)\n"
     ]
    },
    {
     "name": "stderr",
     "output_type": "stream",
     "text": [
      "2025-02-25 16:45:45,350\tWARNING util.py:201 -- The `callbacks.on_trial_result` operation took 5.384 s, which may be a performance bottleneck.\n",
      "2025-02-25 16:45:45,353\tWARNING util.py:201 -- The `process_trial_result` operation took 5.387 s, which may be a performance bottleneck.\n",
      "2025-02-25 16:45:45,353\tWARNING util.py:201 -- Processing trial results took 5.387 s, which may be a performance bottleneck. Please consider reporting results less frequently to Ray Tune.\n",
      "2025-02-25 16:45:45,354\tWARNING util.py:201 -- The `process_trial_result` operation took 5.388 s, which may be a performance bottleneck.\n",
      "\u001b[36m(train_rf pid=1082594)\u001b[0m /scratch/lfloerl/.condaenvs/ritme_model/lib/python3.10/site-packages/ritme/feature_space/aggregate_features.py:78: UserWarning: These features were not found in taxonomy and are hence disregarded: ['Fermentation_Timepoint'].\n",
      "\u001b[36m(train_rf pid=1082594)\u001b[0m   warnings.warn(\n"
     ]
    },
    {
     "name": "stdout",
     "output_type": "stream",
     "text": [
      "\u001b[36m(train_rf pid=1082594)\u001b[0m Train: (142, 45), Test: (36, 45)\n"
     ]
    },
    {
     "name": "stderr",
     "output_type": "stream",
     "text": [
      "2025-02-25 16:45:55,847\tWARNING util.py:201 -- The `callbacks.on_trial_result` operation took 4.157 s, which may be a performance bottleneck.\n",
      "2025-02-25 16:45:55,849\tWARNING util.py:201 -- The `process_trial_result` operation took 4.159 s, which may be a performance bottleneck.\n",
      "2025-02-25 16:45:55,850\tWARNING util.py:201 -- Processing trial results took 4.160 s, which may be a performance bottleneck. Please consider reporting results less frequently to Ray Tune.\n",
      "2025-02-25 16:45:55,850\tWARNING util.py:201 -- The `process_trial_result` operation took 4.160 s, which may be a performance bottleneck.\n",
      "\u001b[36m(train_rf pid=1082710)\u001b[0m /scratch/lfloerl/.condaenvs/ritme_model/lib/python3.10/site-packages/ritme/feature_space/aggregate_features.py:78: UserWarning: These features were not found in taxonomy and are hence disregarded: ['Fermentation_Timepoint'].\n",
      "\u001b[36m(train_rf pid=1082710)\u001b[0m   warnings.warn(\n"
     ]
    },
    {
     "name": "stdout",
     "output_type": "stream",
     "text": [
      "\u001b[36m(train_rf pid=1082710)\u001b[0m Train: (142, 45), Test: (36, 45)\n"
     ]
    },
    {
     "name": "stderr",
     "output_type": "stream",
     "text": [
      "2025-02-25 16:46:08,351\tWARNING util.py:201 -- The `callbacks.on_trial_result` operation took 5.817 s, which may be a performance bottleneck.\n",
      "2025-02-25 16:46:08,354\tWARNING util.py:201 -- The `process_trial_result` operation took 5.820 s, which may be a performance bottleneck.\n",
      "2025-02-25 16:46:08,356\tWARNING util.py:201 -- Processing trial results took 5.822 s, which may be a performance bottleneck. Please consider reporting results less frequently to Ray Tune.\n",
      "2025-02-25 16:46:08,356\tWARNING util.py:201 -- The `process_trial_result` operation took 5.822 s, which may be a performance bottleneck.\n"
     ]
    },
    {
     "name": "stdout",
     "output_type": "stream",
     "text": [
      "\u001b[36m(train_rf pid=1082976)\u001b[0m Train: (142, 45), Test: (36, 45)\n"
     ]
    },
    {
     "name": "stderr",
     "output_type": "stream",
     "text": [
      "\u001b[36m(train_rf pid=1082976)\u001b[0m /scratch/lfloerl/.condaenvs/ritme_model/lib/python3.10/site-packages/ritme/feature_space/aggregate_features.py:78: UserWarning: These features were not found in taxonomy and are hence disregarded: ['Fermentation_Timepoint'].\n",
      "\u001b[36m(train_rf pid=1082976)\u001b[0m   warnings.warn(\n",
      "2025-02-25 16:46:21,309\tWARNING util.py:201 -- The `callbacks.on_trial_result` operation took 5.197 s, which may be a performance bottleneck.\n",
      "2025-02-25 16:46:21,311\tWARNING util.py:201 -- The `process_trial_result` operation took 5.200 s, which may be a performance bottleneck.\n",
      "2025-02-25 16:46:21,313\tWARNING util.py:201 -- Processing trial results took 5.201 s, which may be a performance bottleneck. Please consider reporting results less frequently to Ray Tune.\n",
      "2025-02-25 16:46:21,314\tWARNING util.py:201 -- The `process_trial_result` operation took 5.202 s, which may be a performance bottleneck.\n"
     ]
    },
    {
     "name": "stdout",
     "output_type": "stream",
     "text": [
      "\u001b[36m(train_rf pid=1083098)\u001b[0m Train: (142, 45), Test: (36, 45)\n"
     ]
    },
    {
     "name": "stderr",
     "output_type": "stream",
     "text": [
      "\u001b[36m(train_rf pid=1083098)\u001b[0m /scratch/lfloerl/.condaenvs/ritme_model/lib/python3.10/site-packages/ritme/feature_space/aggregate_features.py:78: UserWarning: These features were not found in taxonomy and are hence disregarded: ['Fermentation_Timepoint'].\n",
      "\u001b[36m(train_rf pid=1083098)\u001b[0m   warnings.warn(\n",
      "2025-02-25 16:46:30,658\tWARNING util.py:201 -- The `callbacks.on_trial_result` operation took 4.548 s, which may be a performance bottleneck.\n",
      "2025-02-25 16:46:30,660\tWARNING util.py:201 -- The `process_trial_result` operation took 4.550 s, which may be a performance bottleneck.\n",
      "2025-02-25 16:46:30,660\tWARNING util.py:201 -- Processing trial results took 4.551 s, which may be a performance bottleneck. Please consider reporting results less frequently to Ray Tune.\n",
      "2025-02-25 16:46:30,661\tWARNING util.py:201 -- The `process_trial_result` operation took 4.551 s, which may be a performance bottleneck.\n",
      "\u001b[36m(train_rf pid=1083207)\u001b[0m /scratch/lfloerl/.condaenvs/ritme_model/lib/python3.10/site-packages/ritme/feature_space/aggregate_features.py:78: UserWarning: These features were not found in taxonomy and are hence disregarded: ['Fermentation_Timepoint'].\n",
      "\u001b[36m(train_rf pid=1083207)\u001b[0m   warnings.warn(\n"
     ]
    },
    {
     "name": "stdout",
     "output_type": "stream",
     "text": [
      "\u001b[36m(train_rf pid=1083207)\u001b[0m Train: (142, 44), Test: (36, 44)\n"
     ]
    },
    {
     "name": "stderr",
     "output_type": "stream",
     "text": [
      "2025-02-25 16:46:43,068\tWARNING util.py:201 -- The `callbacks.on_trial_result` operation took 5.696 s, which may be a performance bottleneck.\n",
      "2025-02-25 16:46:43,070\tWARNING util.py:201 -- The `process_trial_result` operation took 5.698 s, which may be a performance bottleneck.\n",
      "2025-02-25 16:46:43,070\tWARNING util.py:201 -- Processing trial results took 5.699 s, which may be a performance bottleneck. Please consider reporting results less frequently to Ray Tune.\n",
      "2025-02-25 16:46:43,072\tWARNING util.py:201 -- The `process_trial_result` operation took 5.701 s, which may be a performance bottleneck.\n"
     ]
    },
    {
     "name": "stdout",
     "output_type": "stream",
     "text": [
      "\u001b[36m(train_rf pid=1083365)\u001b[0m Train: (142, 130), Test: (36, 130)\n"
     ]
    },
    {
     "name": "stderr",
     "output_type": "stream",
     "text": [
      "\u001b[36m(train_rf pid=1083365)\u001b[0m /scratch/lfloerl/.condaenvs/ritme_model/lib/python3.10/site-packages/ritme/feature_space/aggregate_features.py:78: UserWarning: These features were not found in taxonomy and are hence disregarded: ['Fermentation_Timepoint'].\n",
      "\u001b[36m(train_rf pid=1083365)\u001b[0m   warnings.warn(\n",
      "2025-02-25 16:46:54,966\tWARNING util.py:201 -- The `callbacks.on_trial_result` operation took 5.044 s, which may be a performance bottleneck.\n",
      "2025-02-25 16:46:54,968\tWARNING util.py:201 -- The `process_trial_result` operation took 5.046 s, which may be a performance bottleneck.\n",
      "2025-02-25 16:46:54,968\tWARNING util.py:201 -- Processing trial results took 5.047 s, which may be a performance bottleneck. Please consider reporting results less frequently to Ray Tune.\n",
      "2025-02-25 16:46:54,969\tWARNING util.py:201 -- The `process_trial_result` operation took 5.047 s, which may be a performance bottleneck.\n"
     ]
    },
    {
     "name": "stdout",
     "output_type": "stream",
     "text": [
      "\u001b[36m(train_rf pid=1083477)\u001b[0m Train: (142, 130), Test: (36, 130)\n"
     ]
    },
    {
     "name": "stderr",
     "output_type": "stream",
     "text": [
      "\u001b[36m(train_rf pid=1083477)\u001b[0m /scratch/lfloerl/.condaenvs/ritme_model/lib/python3.10/site-packages/ritme/feature_space/aggregate_features.py:78: UserWarning: These features were not found in taxonomy and are hence disregarded: ['Fermentation_Timepoint'].\n",
      "\u001b[36m(train_rf pid=1083477)\u001b[0m   warnings.warn(\n",
      "2025-02-25 16:47:03,842\tWARNING util.py:201 -- The `callbacks.on_trial_result` operation took 4.014 s, which may be a performance bottleneck.\n",
      "2025-02-25 16:47:03,844\tWARNING util.py:201 -- The `process_trial_result` operation took 4.016 s, which may be a performance bottleneck.\n",
      "2025-02-25 16:47:03,845\tWARNING util.py:201 -- Processing trial results took 4.017 s, which may be a performance bottleneck. Please consider reporting results less frequently to Ray Tune.\n",
      "2025-02-25 16:47:03,845\tWARNING util.py:201 -- The `process_trial_result` operation took 4.017 s, which may be a performance bottleneck.\n",
      "\u001b[36m(train_rf pid=1083664)\u001b[0m /scratch/lfloerl/.condaenvs/ritme_model/lib/python3.10/site-packages/ritme/feature_space/aggregate_features.py:78: UserWarning: These features were not found in taxonomy and are hence disregarded: ['Fermentation_Timepoint'].\n",
      "\u001b[36m(train_rf pid=1083664)\u001b[0m   warnings.warn(\n"
     ]
    },
    {
     "name": "stdout",
     "output_type": "stream",
     "text": [
      "\u001b[36m(train_rf pid=1083664)\u001b[0m Train: (142, 46), Test: (36, 46)\n"
     ]
    },
    {
     "name": "stderr",
     "output_type": "stream",
     "text": [
      "2025-02-25 16:47:15,639\tWARNING util.py:201 -- The `callbacks.on_trial_result` operation took 5.396 s, which may be a performance bottleneck.\n",
      "2025-02-25 16:47:15,641\tWARNING util.py:201 -- The `process_trial_result` operation took 5.398 s, which may be a performance bottleneck.\n",
      "2025-02-25 16:47:15,642\tWARNING util.py:201 -- Processing trial results took 5.399 s, which may be a performance bottleneck. Please consider reporting results less frequently to Ray Tune.\n",
      "2025-02-25 16:47:15,642\tWARNING util.py:201 -- The `process_trial_result` operation took 5.399 s, which may be a performance bottleneck.\n"
     ]
    },
    {
     "name": "stdout",
     "output_type": "stream",
     "text": [
      "\u001b[36m(train_rf pid=1083808)\u001b[0m Train: (142, 46), Test: (36, 46)\n"
     ]
    },
    {
     "name": "stderr",
     "output_type": "stream",
     "text": [
      "\u001b[36m(train_rf pid=1083808)\u001b[0m /scratch/lfloerl/.condaenvs/ritme_model/lib/python3.10/site-packages/ritme/feature_space/aggregate_features.py:78: UserWarning: These features were not found in taxonomy and are hence disregarded: ['Fermentation_Timepoint'].\n",
      "\u001b[36m(train_rf pid=1083808)\u001b[0m   warnings.warn(\n",
      "2025-02-25 16:47:28,152\tWARNING util.py:201 -- The `callbacks.on_trial_result` operation took 5.616 s, which may be a performance bottleneck.\n",
      "2025-02-25 16:47:28,153\tWARNING util.py:201 -- The `process_trial_result` operation took 5.618 s, which may be a performance bottleneck.\n",
      "2025-02-25 16:47:28,154\tWARNING util.py:201 -- Processing trial results took 5.618 s, which may be a performance bottleneck. Please consider reporting results less frequently to Ray Tune.\n",
      "2025-02-25 16:47:28,155\tWARNING util.py:201 -- The `process_trial_result` operation took 5.619 s, which may be a performance bottleneck.\n",
      "\u001b[36m(train_rf pid=1083972)\u001b[0m /scratch/lfloerl/.condaenvs/ritme_model/lib/python3.10/site-packages/ritme/feature_space/aggregate_features.py:78: UserWarning: These features were not found in taxonomy and are hence disregarded: ['Fermentation_Timepoint'].\n",
      "\u001b[36m(train_rf pid=1083972)\u001b[0m   warnings.warn(\n"
     ]
    },
    {
     "name": "stdout",
     "output_type": "stream",
     "text": [
      "\u001b[36m(train_rf pid=1083972)\u001b[0m Train: (142, 46), Test: (36, 46)\n"
     ]
    },
    {
     "name": "stderr",
     "output_type": "stream",
     "text": [
      "2025-02-25 16:47:36,898\tWARNING util.py:201 -- The `callbacks.on_trial_result` operation took 3.428 s, which may be a performance bottleneck.\n",
      "2025-02-25 16:47:36,900\tWARNING util.py:201 -- The `process_trial_result` operation took 3.430 s, which may be a performance bottleneck.\n",
      "2025-02-25 16:47:36,901\tWARNING util.py:201 -- Processing trial results took 3.431 s, which may be a performance bottleneck. Please consider reporting results less frequently to Ray Tune.\n",
      "2025-02-25 16:47:36,901\tWARNING util.py:201 -- The `process_trial_result` operation took 3.432 s, which may be a performance bottleneck.\n"
     ]
    },
    {
     "name": "stdout",
     "output_type": "stream",
     "text": [
      "\u001b[36m(train_rf pid=1084084)\u001b[0m Train: (142, 45), Test: (36, 45)\n"
     ]
    },
    {
     "name": "stderr",
     "output_type": "stream",
     "text": [
      "\u001b[36m(train_rf pid=1084084)\u001b[0m /scratch/lfloerl/.condaenvs/ritme_model/lib/python3.10/site-packages/ritme/feature_space/aggregate_features.py:78: UserWarning: These features were not found in taxonomy and are hence disregarded: ['Fermentation_Timepoint'].\n",
      "\u001b[36m(train_rf pid=1084084)\u001b[0m   warnings.warn(\n",
      "2025-02-25 16:47:44,150\tWARNING util.py:201 -- The `callbacks.on_trial_result` operation took 2.932 s, which may be a performance bottleneck.\n",
      "2025-02-25 16:47:44,152\tWARNING util.py:201 -- The `process_trial_result` operation took 2.934 s, which may be a performance bottleneck.\n",
      "2025-02-25 16:47:44,154\tWARNING util.py:201 -- Processing trial results took 2.936 s, which may be a performance bottleneck. Please consider reporting results less frequently to Ray Tune.\n",
      "2025-02-25 16:47:44,154\tWARNING util.py:201 -- The `process_trial_result` operation took 2.936 s, which may be a performance bottleneck.\n"
     ]
    },
    {
     "name": "stdout",
     "output_type": "stream",
     "text": [
      "\u001b[36m(train_rf pid=1084193)\u001b[0m Train: (142, 45), Test: (36, 45)\n"
     ]
    },
    {
     "name": "stderr",
     "output_type": "stream",
     "text": [
      "\u001b[36m(train_rf pid=1084193)\u001b[0m /scratch/lfloerl/.condaenvs/ritme_model/lib/python3.10/site-packages/ritme/feature_space/aggregate_features.py:78: UserWarning: These features were not found in taxonomy and are hence disregarded: ['Fermentation_Timepoint'].\n",
      "\u001b[36m(train_rf pid=1084193)\u001b[0m   warnings.warn(\n",
      "2025-02-25 16:47:56,296\tWARNING util.py:201 -- The `callbacks.on_trial_result` operation took 5.056 s, which may be a performance bottleneck.\n",
      "2025-02-25 16:47:56,298\tWARNING util.py:201 -- The `process_trial_result` operation took 5.058 s, which may be a performance bottleneck.\n",
      "2025-02-25 16:47:56,299\tWARNING util.py:201 -- Processing trial results took 5.059 s, which may be a performance bottleneck. Please consider reporting results less frequently to Ray Tune.\n",
      "2025-02-25 16:47:56,299\tWARNING util.py:201 -- The `process_trial_result` operation took 5.059 s, which may be a performance bottleneck.\n"
     ]
    },
    {
     "name": "stdout",
     "output_type": "stream",
     "text": [
      "\u001b[36m(train_rf pid=1084303)\u001b[0m Train: (142, 45), Test: (36, 45)\n"
     ]
    },
    {
     "name": "stderr",
     "output_type": "stream",
     "text": [
      "\u001b[36m(train_rf pid=1084303)\u001b[0m /scratch/lfloerl/.condaenvs/ritme_model/lib/python3.10/site-packages/ritme/feature_space/aggregate_features.py:78: UserWarning: These features were not found in taxonomy and are hence disregarded: ['Fermentation_Timepoint'].\n",
      "\u001b[36m(train_rf pid=1084303)\u001b[0m   warnings.warn(\n",
      "2025-02-25 16:48:08,048\tWARNING util.py:201 -- The `callbacks.on_trial_result` operation took 3.730 s, which may be a performance bottleneck.\n",
      "2025-02-25 16:48:08,050\tWARNING util.py:201 -- The `process_trial_result` operation took 3.732 s, which may be a performance bottleneck.\n",
      "2025-02-25 16:48:08,050\tWARNING util.py:201 -- Processing trial results took 3.733 s, which may be a performance bottleneck. Please consider reporting results less frequently to Ray Tune.\n",
      "2025-02-25 16:48:08,051\tWARNING util.py:201 -- The `process_trial_result` operation took 3.733 s, which may be a performance bottleneck.\n"
     ]
    },
    {
     "name": "stdout",
     "output_type": "stream",
     "text": [
      "\u001b[36m(train_rf pid=1084532)\u001b[0m Train: (142, 45), Test: (36, 45)\n"
     ]
    },
    {
     "name": "stderr",
     "output_type": "stream",
     "text": [
      "\u001b[36m(train_rf pid=1084532)\u001b[0m /scratch/lfloerl/.condaenvs/ritme_model/lib/python3.10/site-packages/ritme/feature_space/aggregate_features.py:78: UserWarning: These features were not found in taxonomy and are hence disregarded: ['Fermentation_Timepoint'].\n",
      "\u001b[36m(train_rf pid=1084532)\u001b[0m   warnings.warn(\n",
      "2025-02-25 16:48:21,479\tWARNING util.py:201 -- The `callbacks.on_trial_result` operation took 5.469 s, which may be a performance bottleneck.\n",
      "2025-02-25 16:48:21,481\tWARNING util.py:201 -- The `process_trial_result` operation took 5.471 s, which may be a performance bottleneck.\n",
      "2025-02-25 16:48:21,482\tWARNING util.py:201 -- Processing trial results took 5.472 s, which may be a performance bottleneck. Please consider reporting results less frequently to Ray Tune.\n",
      "2025-02-25 16:48:21,483\tWARNING util.py:201 -- The `process_trial_result` operation took 5.473 s, which may be a performance bottleneck.\n",
      "\u001b[36m(train_rf pid=1084655)\u001b[0m /scratch/lfloerl/.condaenvs/ritme_model/lib/python3.10/site-packages/ritme/feature_space/aggregate_features.py:78: UserWarning: These features were not found in taxonomy and are hence disregarded: ['Fermentation_Timepoint'].\n",
      "\u001b[36m(train_rf pid=1084655)\u001b[0m   warnings.warn(\n"
     ]
    },
    {
     "name": "stdout",
     "output_type": "stream",
     "text": [
      "\u001b[36m(train_rf pid=1084655)\u001b[0m Train: (142, 273), Test: (36, 273)\n"
     ]
    },
    {
     "name": "stderr",
     "output_type": "stream",
     "text": [
      "2025-02-25 16:48:34,207\tWARNING util.py:201 -- The `callbacks.on_trial_result` operation took 4.841 s, which may be a performance bottleneck.\n",
      "2025-02-25 16:48:34,209\tWARNING util.py:201 -- The `process_trial_result` operation took 4.842 s, which may be a performance bottleneck.\n",
      "2025-02-25 16:48:34,210\tWARNING util.py:201 -- Processing trial results took 4.844 s, which may be a performance bottleneck. Please consider reporting results less frequently to Ray Tune.\n",
      "2025-02-25 16:48:34,210\tWARNING util.py:201 -- The `process_trial_result` operation took 4.844 s, which may be a performance bottleneck.\n"
     ]
    },
    {
     "name": "stdout",
     "output_type": "stream",
     "text": [
      "\u001b[36m(train_rf pid=1084880)\u001b[0m Train: (142, 45), Test: (36, 45)\n"
     ]
    },
    {
     "name": "stderr",
     "output_type": "stream",
     "text": [
      "\u001b[36m(train_rf pid=1084880)\u001b[0m /scratch/lfloerl/.condaenvs/ritme_model/lib/python3.10/site-packages/ritme/feature_space/aggregate_features.py:78: UserWarning: These features were not found in taxonomy and are hence disregarded: ['Fermentation_Timepoint'].\n",
      "\u001b[36m(train_rf pid=1084880)\u001b[0m   warnings.warn(\n",
      "2025-02-25 16:48:44,647\tWARNING util.py:201 -- The `callbacks.on_trial_result` operation took 4.932 s, which may be a performance bottleneck.\n",
      "2025-02-25 16:48:44,649\tWARNING util.py:201 -- The `process_trial_result` operation took 4.934 s, which may be a performance bottleneck.\n",
      "2025-02-25 16:48:44,650\tWARNING util.py:201 -- Processing trial results took 4.935 s, which may be a performance bottleneck. Please consider reporting results less frequently to Ray Tune.\n",
      "2025-02-25 16:48:44,650\tWARNING util.py:201 -- The `process_trial_result` operation took 4.936 s, which may be a performance bottleneck.\n"
     ]
    },
    {
     "name": "stdout",
     "output_type": "stream",
     "text": [
      "\u001b[36m(train_rf pid=1085007)\u001b[0m Train: (142, 44), Test: (36, 44)\n"
     ]
    },
    {
     "name": "stderr",
     "output_type": "stream",
     "text": [
      "\u001b[36m(train_rf pid=1085007)\u001b[0m /scratch/lfloerl/.condaenvs/ritme_model/lib/python3.10/site-packages/ritme/feature_space/aggregate_features.py:78: UserWarning: These features were not found in taxonomy and are hence disregarded: ['Fermentation_Timepoint'].\n",
      "\u001b[36m(train_rf pid=1085007)\u001b[0m   warnings.warn(\n",
      "2025-02-25 16:48:58,313\tWARNING util.py:201 -- The `callbacks.on_trial_result` operation took 5.533 s, which may be a performance bottleneck.\n",
      "2025-02-25 16:48:58,315\tWARNING util.py:201 -- The `process_trial_result` operation took 5.535 s, which may be a performance bottleneck.\n",
      "2025-02-25 16:48:58,316\tWARNING util.py:201 -- Processing trial results took 5.536 s, which may be a performance bottleneck. Please consider reporting results less frequently to Ray Tune.\n",
      "2025-02-25 16:48:58,317\tWARNING util.py:201 -- The `process_trial_result` operation took 5.537 s, which may be a performance bottleneck.\n",
      "\u001b[36m(train_rf pid=1085138)\u001b[0m /scratch/lfloerl/.condaenvs/ritme_model/lib/python3.10/site-packages/ritme/feature_space/aggregate_features.py:78: UserWarning: These features were not found in taxonomy and are hence disregarded: ['Fermentation_Timepoint'].\n",
      "\u001b[36m(train_rf pid=1085138)\u001b[0m   warnings.warn(\n"
     ]
    },
    {
     "name": "stdout",
     "output_type": "stream",
     "text": [
      "\u001b[36m(train_rf pid=1085138)\u001b[0m Train: (142, 44), Test: (36, 44)\n"
     ]
    },
    {
     "name": "stderr",
     "output_type": "stream",
     "text": [
      "2025-02-25 16:49:11,985\tWARNING util.py:201 -- The `callbacks.on_trial_result` operation took 5.706 s, which may be a performance bottleneck.\n",
      "2025-02-25 16:49:11,986\tWARNING util.py:201 -- The `process_trial_result` operation took 5.708 s, which may be a performance bottleneck.\n",
      "2025-02-25 16:49:11,987\tWARNING util.py:201 -- Processing trial results took 5.709 s, which may be a performance bottleneck. Please consider reporting results less frequently to Ray Tune.\n",
      "2025-02-25 16:49:11,987\tWARNING util.py:201 -- The `process_trial_result` operation took 5.709 s, which may be a performance bottleneck.\n"
     ]
    },
    {
     "name": "stdout",
     "output_type": "stream",
     "text": [
      "\u001b[36m(train_rf pid=1085337)\u001b[0m Train: (142, 44), Test: (36, 44)\n"
     ]
    },
    {
     "name": "stderr",
     "output_type": "stream",
     "text": [
      "\u001b[36m(train_rf pid=1085337)\u001b[0m /scratch/lfloerl/.condaenvs/ritme_model/lib/python3.10/site-packages/ritme/feature_space/aggregate_features.py:78: UserWarning: These features were not found in taxonomy and are hence disregarded: ['Fermentation_Timepoint'].\n",
      "\u001b[36m(train_rf pid=1085337)\u001b[0m   warnings.warn(\n",
      "2025-02-25 16:49:24,333\tWARNING util.py:201 -- The `callbacks.on_trial_result` operation took 6.326 s, which may be a performance bottleneck.\n",
      "2025-02-25 16:49:24,335\tWARNING util.py:201 -- The `process_trial_result` operation took 6.328 s, which may be a performance bottleneck.\n",
      "2025-02-25 16:49:24,335\tWARNING util.py:201 -- Processing trial results took 6.328 s, which may be a performance bottleneck. Please consider reporting results less frequently to Ray Tune.\n",
      "2025-02-25 16:49:24,335\tWARNING util.py:201 -- The `process_trial_result` operation took 6.328 s, which may be a performance bottleneck.\n"
     ]
    },
    {
     "name": "stdout",
     "output_type": "stream",
     "text": [
      "\u001b[36m(train_rf pid=1085472)\u001b[0m Train: (142, 121), Test: (36, 121)\n"
     ]
    },
    {
     "name": "stderr",
     "output_type": "stream",
     "text": [
      "\u001b[36m(train_rf pid=1085472)\u001b[0m /scratch/lfloerl/.condaenvs/ritme_model/lib/python3.10/site-packages/ritme/feature_space/aggregate_features.py:78: UserWarning: These features were not found in taxonomy and are hence disregarded: ['Fermentation_Timepoint'].\n",
      "\u001b[36m(train_rf pid=1085472)\u001b[0m   warnings.warn(\n",
      "2025-02-25 16:49:37,293\tWARNING util.py:201 -- The `callbacks.on_trial_result` operation took 5.851 s, which may be a performance bottleneck.\n",
      "2025-02-25 16:49:37,295\tWARNING util.py:201 -- The `process_trial_result` operation took 5.853 s, which may be a performance bottleneck.\n",
      "2025-02-25 16:49:37,296\tWARNING util.py:201 -- Processing trial results took 5.854 s, which may be a performance bottleneck. Please consider reporting results less frequently to Ray Tune.\n",
      "2025-02-25 16:49:37,296\tWARNING util.py:201 -- The `process_trial_result` operation took 5.855 s, which may be a performance bottleneck.\n"
     ]
    },
    {
     "name": "stdout",
     "output_type": "stream",
     "text": [
      "\u001b[36m(train_rf pid=1085597)\u001b[0m Train: (142, 133), Test: (36, 133)\n"
     ]
    },
    {
     "name": "stderr",
     "output_type": "stream",
     "text": [
      "\u001b[36m(train_rf pid=1085597)\u001b[0m /scratch/lfloerl/.condaenvs/ritme_model/lib/python3.10/site-packages/ritme/feature_space/aggregate_features.py:78: UserWarning: These features were not found in taxonomy and are hence disregarded: ['Fermentation_Timepoint'].\n",
      "\u001b[36m(train_rf pid=1085597)\u001b[0m   warnings.warn(\n",
      "2025-02-25 16:49:49,939\tWARNING util.py:201 -- The `callbacks.on_trial_result` operation took 4.806 s, which may be a performance bottleneck.\n",
      "2025-02-25 16:49:49,941\tWARNING util.py:201 -- The `process_trial_result` operation took 4.808 s, which may be a performance bottleneck.\n",
      "2025-02-25 16:49:49,941\tWARNING util.py:201 -- Processing trial results took 4.809 s, which may be a performance bottleneck. Please consider reporting results less frequently to Ray Tune.\n",
      "2025-02-25 16:49:49,942\tWARNING util.py:201 -- The `process_trial_result` operation took 4.809 s, which may be a performance bottleneck.\n",
      "\u001b[36m(train_rf pid=1085723)\u001b[0m /scratch/lfloerl/.condaenvs/ritme_model/lib/python3.10/site-packages/ritme/feature_space/aggregate_features.py:78: UserWarning: These features were not found in taxonomy and are hence disregarded: ['Fermentation_Timepoint'].\n",
      "\u001b[36m(train_rf pid=1085723)\u001b[0m   warnings.warn(\n"
     ]
    },
    {
     "name": "stdout",
     "output_type": "stream",
     "text": [
      "\u001b[36m(train_rf pid=1085723)\u001b[0m Train: (142, 45), Test: (36, 45)\n"
     ]
    },
    {
     "name": "stderr",
     "output_type": "stream",
     "text": [
      "2025-02-25 16:50:03,539\tWARNING util.py:201 -- The `callbacks.on_trial_result` operation took 6.250 s, which may be a performance bottleneck.\n",
      "2025-02-25 16:50:03,541\tWARNING util.py:201 -- The `process_trial_result` operation took 6.253 s, which may be a performance bottleneck.\n",
      "2025-02-25 16:50:03,542\tWARNING util.py:201 -- Processing trial results took 6.253 s, which may be a performance bottleneck. Please consider reporting results less frequently to Ray Tune.\n",
      "2025-02-25 16:50:03,542\tWARNING util.py:201 -- The `process_trial_result` operation took 6.253 s, which may be a performance bottleneck.\n",
      "\u001b[36m(train_rf pid=1085898)\u001b[0m /scratch/lfloerl/.condaenvs/ritme_model/lib/python3.10/site-packages/ritme/feature_space/aggregate_features.py:78: UserWarning: These features were not found in taxonomy and are hence disregarded: ['Fermentation_Timepoint'].\n",
      "\u001b[36m(train_rf pid=1085898)\u001b[0m   warnings.warn(\n"
     ]
    },
    {
     "name": "stdout",
     "output_type": "stream",
     "text": [
      "\u001b[36m(train_rf pid=1085898)\u001b[0m Train: (142, 45), Test: (36, 45)\n"
     ]
    },
    {
     "name": "stderr",
     "output_type": "stream",
     "text": [
      "2025-02-25 16:50:19,131\tWARNING util.py:201 -- The `callbacks.on_trial_result` operation took 6.180 s, which may be a performance bottleneck.\n",
      "2025-02-25 16:50:19,132\tWARNING util.py:201 -- The `process_trial_result` operation took 6.181 s, which may be a performance bottleneck.\n",
      "2025-02-25 16:50:19,133\tWARNING util.py:201 -- Processing trial results took 6.182 s, which may be a performance bottleneck. Please consider reporting results less frequently to Ray Tune.\n",
      "2025-02-25 16:50:19,134\tWARNING util.py:201 -- The `process_trial_result` operation took 6.182 s, which may be a performance bottleneck.\n"
     ]
    },
    {
     "name": "stdout",
     "output_type": "stream",
     "text": [
      "\u001b[36m(train_rf pid=1086075)\u001b[0m Train: (142, 45), Test: (36, 45)\n"
     ]
    },
    {
     "name": "stderr",
     "output_type": "stream",
     "text": [
      "\u001b[36m(train_rf pid=1086075)\u001b[0m /scratch/lfloerl/.condaenvs/ritme_model/lib/python3.10/site-packages/ritme/feature_space/aggregate_features.py:78: UserWarning: These features were not found in taxonomy and are hence disregarded: ['Fermentation_Timepoint'].\n",
      "\u001b[36m(train_rf pid=1086075)\u001b[0m   warnings.warn(\n",
      "2025-02-25 16:50:30,945\tWARNING util.py:201 -- The `callbacks.on_trial_result` operation took 5.001 s, which may be a performance bottleneck.\n",
      "2025-02-25 16:50:30,946\tWARNING util.py:201 -- The `process_trial_result` operation took 5.002 s, which may be a performance bottleneck.\n",
      "2025-02-25 16:50:30,948\tWARNING util.py:201 -- Processing trial results took 5.003 s, which may be a performance bottleneck. Please consider reporting results less frequently to Ray Tune.\n",
      "2025-02-25 16:50:30,948\tWARNING util.py:201 -- The `process_trial_result` operation took 5.004 s, which may be a performance bottleneck.\n"
     ]
    },
    {
     "name": "stdout",
     "output_type": "stream",
     "text": [
      "\u001b[36m(train_rf pid=1086188)\u001b[0m Train: (142, 51), Test: (36, 51)\n"
     ]
    },
    {
     "name": "stderr",
     "output_type": "stream",
     "text": [
      "\u001b[36m(train_rf pid=1086188)\u001b[0m /scratch/lfloerl/.condaenvs/ritme_model/lib/python3.10/site-packages/ritme/feature_space/aggregate_features.py:78: UserWarning: These features were not found in taxonomy and are hence disregarded: ['Fermentation_Timepoint'].\n",
      "\u001b[36m(train_rf pid=1086188)\u001b[0m   warnings.warn(\n",
      "2025-02-25 16:50:42,794\tWARNING util.py:201 -- The `callbacks.on_trial_result` operation took 5.160 s, which may be a performance bottleneck.\n",
      "2025-02-25 16:50:42,796\tWARNING util.py:201 -- The `process_trial_result` operation took 5.162 s, which may be a performance bottleneck.\n",
      "2025-02-25 16:50:42,796\tWARNING util.py:201 -- Processing trial results took 5.163 s, which may be a performance bottleneck. Please consider reporting results less frequently to Ray Tune.\n",
      "2025-02-25 16:50:42,797\tWARNING util.py:201 -- The `process_trial_result` operation took 5.163 s, which may be a performance bottleneck.\n",
      "\u001b[36m(train_rf pid=1086354)\u001b[0m /scratch/lfloerl/.condaenvs/ritme_model/lib/python3.10/site-packages/ritme/feature_space/aggregate_features.py:78: UserWarning: These features were not found in taxonomy and are hence disregarded: ['Fermentation_Timepoint'].\n",
      "\u001b[36m(train_rf pid=1086354)\u001b[0m   warnings.warn(\n"
     ]
    },
    {
     "name": "stdout",
     "output_type": "stream",
     "text": [
      "\u001b[36m(train_rf pid=1086354)\u001b[0m Train: (142, 51), Test: (36, 51)\n"
     ]
    },
    {
     "name": "stderr",
     "output_type": "stream",
     "text": [
      "2025-02-25 16:50:48,835\tWARNING util.py:201 -- The `callbacks.on_trial_result` operation took 1.436 s, which may be a performance bottleneck.\n",
      "2025-02-25 16:50:48,837\tWARNING util.py:201 -- The `process_trial_result` operation took 1.438 s, which may be a performance bottleneck.\n",
      "2025-02-25 16:50:48,837\tWARNING util.py:201 -- Processing trial results took 1.438 s, which may be a performance bottleneck. Please consider reporting results less frequently to Ray Tune.\n",
      "2025-02-25 16:50:48,838\tWARNING util.py:201 -- The `process_trial_result` operation took 1.439 s, which may be a performance bottleneck.\n"
     ]
    },
    {
     "name": "stdout",
     "output_type": "stream",
     "text": [
      "\u001b[36m(train_rf pid=1086464)\u001b[0m Train: (142, 509), Test: (36, 509)\n"
     ]
    },
    {
     "name": "stderr",
     "output_type": "stream",
     "text": [
      "\u001b[36m(train_rf pid=1086464)\u001b[0m /scratch/lfloerl/.condaenvs/ritme_model/lib/python3.10/site-packages/ritme/feature_space/aggregate_features.py:78: UserWarning: These features were not found in taxonomy and are hence disregarded: ['Fermentation_Timepoint'].\n",
      "\u001b[36m(train_rf pid=1086464)\u001b[0m   warnings.warn(\n",
      "2025-02-25 16:50:59,856\tWARNING util.py:201 -- The `callbacks.on_trial_result` operation took 4.836 s, which may be a performance bottleneck.\n",
      "2025-02-25 16:50:59,858\tWARNING util.py:201 -- The `process_trial_result` operation took 4.838 s, which may be a performance bottleneck.\n",
      "2025-02-25 16:50:59,859\tWARNING util.py:201 -- Processing trial results took 4.839 s, which may be a performance bottleneck. Please consider reporting results less frequently to Ray Tune.\n",
      "2025-02-25 16:50:59,859\tWARNING util.py:201 -- The `process_trial_result` operation took 4.839 s, which may be a performance bottleneck.\n"
     ]
    },
    {
     "name": "stdout",
     "output_type": "stream",
     "text": [
      "\u001b[36m(train_rf pid=1086575)\u001b[0m Train: (142, 509), Test: (36, 509)\n"
     ]
    },
    {
     "name": "stderr",
     "output_type": "stream",
     "text": [
      "\u001b[36m(train_rf pid=1086575)\u001b[0m /scratch/lfloerl/.condaenvs/ritme_model/lib/python3.10/site-packages/ritme/feature_space/aggregate_features.py:78: UserWarning: These features were not found in taxonomy and are hence disregarded: ['Fermentation_Timepoint'].\n",
      "\u001b[36m(train_rf pid=1086575)\u001b[0m   warnings.warn(\n",
      "2025-02-25 16:51:12,225\tWARNING util.py:201 -- The `callbacks.on_trial_result` operation took 5.600 s, which may be a performance bottleneck.\n",
      "2025-02-25 16:51:12,227\tWARNING util.py:201 -- The `process_trial_result` operation took 5.601 s, which may be a performance bottleneck.\n",
      "2025-02-25 16:51:12,227\tWARNING util.py:201 -- Processing trial results took 5.602 s, which may be a performance bottleneck. Please consider reporting results less frequently to Ray Tune.\n",
      "2025-02-25 16:51:12,228\tWARNING util.py:201 -- The `process_trial_result` operation took 5.602 s, which may be a performance bottleneck.\n",
      "2025-02-25 16:51:27,366\tINFO tune.py:1009 -- Wrote the latest version of all result files and experiment state to '/home/lfloerl/cloud/lfloerl/Microterroir/artifacts/ITS/lavaux/climate-berries/harvest21/ritme_linreg_xgb_rf/ all_models_noGroup/rf' in 13.5057s.\n",
      "2025-02-25 16:51:27,419\tINFO tune.py:1041 -- Total run time: 1842.69 seconds (1828.98 seconds for the tuning loop).\n",
      "/scratch/lfloerl/.condaenvs/ritme_model/lib/python3.10/site-packages/ritme/feature_space/aggregate_features.py:78: UserWarning: These features were not found in taxonomy and are hence disregarded: ['Fermentation_Timepoint'].\n",
      "  warnings.warn(\n",
      "/scratch/lfloerl/.condaenvs/ritme_model/lib/python3.10/site-packages/ritme/feature_space/aggregate_features.py:78: UserWarning: These features were not found in taxonomy and are hence disregarded: ['Fermentation_Timepoint'].\n",
      "  warnings.warn(\n",
      "/scratch/lfloerl/.condaenvs/ritme_model/lib/python3.10/site-packages/ritme/feature_space/aggregate_features.py:78: UserWarning: These features were not found in taxonomy and are hence disregarded: ['Fermentation_Timepoint'].\n",
      "  warnings.warn(\n"
     ]
    }
   ],
   "source": [
    "tax = _load_taxonomy(path_to_tax)\n",
    "\n",
    "best_model_dict, path_to_exp = find_best_model_config(\n",
    "    config, train_val, tax, path_store_model_logs=\"ritme_linreg_xgb_rf\")"
   ]
  },
  {
   "cell_type": "markdown",
   "metadata": {},
   "source": [
    "# Evaluate best models\n",
    "\n",
    "**Key Metrics** for Model Assessment\n",
    "1. Root Mean Square Error (RMSE)\n",
    "    * Measures the standard deviation of the residuals (prediction errors)\n",
    "    * Lower values indicate better performance\n",
    "2. R-squared (R2)\n",
    "    * Represents the proportion of variance in the dependent variable explained by the model\n",
    "    * Higher values indicate better performance\n",
    "\n",
    "\n",
    "We compare these metrics for the **training and test set** to \n",
    "* evaluate the model fit\n",
    "* Detect overfitting: A significant discrepancy between training and test set performance can indicate overfitting. If the model performs much better on the training set than the test set, it may have memorized the training data rather than learning generalizable patterns\n",
    "* Compare model stability: Consistent performance across both sets suggests a stable model that generalizes well"
   ]
  },
  {
   "cell_type": "code",
   "execution_count": 11,
   "metadata": {},
   "outputs": [
    {
     "name": "stderr",
     "output_type": "stream",
     "text": [
      "/scratch/lfloerl/.condaenvs/ritme_model/lib/python3.10/site-packages/ritme/feature_space/aggregate_features.py:78: UserWarning: These features were not found in taxonomy and are hence disregarded: ['Fermentation_Timepoint'].\n",
      "  warnings.warn(\n",
      "/scratch/lfloerl/.condaenvs/ritme_model/lib/python3.10/site-packages/ritme/feature_space/aggregate_features.py:78: UserWarning: These features were not found in taxonomy and are hence disregarded: ['Fermentation_Timepoint'].\n",
      "  warnings.warn(\n",
      "/scratch/lfloerl/.condaenvs/ritme_model/lib/python3.10/site-packages/ritme/feature_space/aggregate_features.py:78: UserWarning: These features were not found in taxonomy and are hence disregarded: ['Fermentation_Timepoint'].\n",
      "  warnings.warn(\n",
      "/scratch/lfloerl/.condaenvs/ritme_model/lib/python3.10/site-packages/ritme/feature_space/aggregate_features.py:78: UserWarning: These features were not found in taxonomy and are hence disregarded: ['Fermentation_Timepoint'].\n",
      "  warnings.warn(\n",
      "/scratch/lfloerl/.condaenvs/ritme_model/lib/python3.10/site-packages/ritme/feature_space/aggregate_features.py:78: UserWarning: These features were not found in taxonomy and are hence disregarded: ['Fermentation_Timepoint'].\n",
      "  warnings.warn(\n",
      "/scratch/lfloerl/.condaenvs/ritme_model/lib/python3.10/site-packages/ritme/feature_space/aggregate_features.py:78: UserWarning: These features were not found in taxonomy and are hence disregarded: ['Fermentation_Timepoint'].\n",
      "  warnings.warn(\n"
     ]
    },
    {
     "data": {
      "text/html": [
       "<div>\n",
       "<style scoped>\n",
       "    .dataframe tbody tr th:only-of-type {\n",
       "        vertical-align: middle;\n",
       "    }\n",
       "\n",
       "    .dataframe tbody tr th {\n",
       "        vertical-align: top;\n",
       "    }\n",
       "\n",
       "    .dataframe thead th {\n",
       "        text-align: right;\n",
       "    }\n",
       "</style>\n",
       "<table border=\"1\" class=\"dataframe\">\n",
       "  <thead>\n",
       "    <tr style=\"text-align: right;\">\n",
       "      <th></th>\n",
       "      <th>rmse_train</th>\n",
       "      <th>r2_train</th>\n",
       "      <th>rmse_test</th>\n",
       "      <th>r2_test</th>\n",
       "    </tr>\n",
       "  </thead>\n",
       "  <tbody>\n",
       "    <tr>\n",
       "      <th>linreg</th>\n",
       "      <td>0.327640</td>\n",
       "      <td>0.344421</td>\n",
       "      <td>0.273186</td>\n",
       "      <td>-0.123185</td>\n",
       "    </tr>\n",
       "    <tr>\n",
       "      <th>xgb</th>\n",
       "      <td>0.167289</td>\n",
       "      <td>0.829091</td>\n",
       "      <td>0.232833</td>\n",
       "      <td>0.184125</td>\n",
       "    </tr>\n",
       "    <tr>\n",
       "      <th>rf</th>\n",
       "      <td>0.185584</td>\n",
       "      <td>0.789665</td>\n",
       "      <td>0.295701</td>\n",
       "      <td>-0.315955</td>\n",
       "    </tr>\n",
       "  </tbody>\n",
       "</table>\n",
       "</div>"
      ],
      "text/plain": [
       "        rmse_train  r2_train  rmse_test   r2_test\n",
       "linreg    0.327640  0.344421   0.273186 -0.123185\n",
       "xgb       0.167289  0.829091   0.232833  0.184125\n",
       "rf        0.185584  0.789665   0.295701 -0.315955"
      ]
     },
     "execution_count": 11,
     "metadata": {},
     "output_type": "execute_result"
    }
   ],
   "source": [
    "metrics = evaluate_tuned_models(best_model_dict, config, train_val, test)\n",
    "metrics"
   ]
  },
  {
   "cell_type": "markdown",
   "metadata": {},
   "source": [
    "# Visualizations"
   ]
  },
  {
   "cell_type": "code",
   "execution_count": 14,
   "metadata": {},
   "outputs": [],
   "source": [
    "# specify the location of the MLruns files \n",
    "log_folder_location = \"ritme_linreg_xgb_rf/mlruns\"\n",
    "\n",
    "mlflow.set_tracking_uri(log_folder_location)\n",
    "\n",
    "df_all_runs = mlflow.search_runs(\n",
    "    order_by=[\"metrics.rmse_val ASC\"], search_all_experiments=True)"
   ]
  },
  {
   "cell_type": "code",
   "execution_count": 15,
   "metadata": {},
   "outputs": [],
   "source": [
    "# save output\n",
    "df_all_runs.to_csv('MLflow_output.csv')"
   ]
  },
  {
   "cell_type": "code",
   "execution_count": 16,
   "metadata": {},
   "outputs": [
    {
     "data": {
      "text/html": [
       "<div>\n",
       "<style scoped>\n",
       "    .dataframe tbody tr th:only-of-type {\n",
       "        vertical-align: middle;\n",
       "    }\n",
       "\n",
       "    .dataframe tbody tr th {\n",
       "        vertical-align: top;\n",
       "    }\n",
       "\n",
       "    .dataframe thead th {\n",
       "        text-align: right;\n",
       "    }\n",
       "</style>\n",
       "<table border=\"1\" class=\"dataframe\">\n",
       "  <thead>\n",
       "    <tr style=\"text-align: right;\">\n",
       "      <th></th>\n",
       "      <th>tags.trial_name</th>\n",
       "      <th>params.data_transform</th>\n",
       "      <th>params.data_aggregation</th>\n",
       "      <th>params.data_selection</th>\n",
       "      <th>params.model</th>\n",
       "      <th>metrics.r2_train</th>\n",
       "      <th>metrics.rmse_train</th>\n",
       "      <th>metrics.r2_val</th>\n",
       "      <th>metrics.rmse_val</th>\n",
       "    </tr>\n",
       "  </thead>\n",
       "  <tbody>\n",
       "    <tr>\n",
       "      <th>595</th>\n",
       "      <td>train_rf_b386f33b</td>\n",
       "      <td>pa</td>\n",
       "      <td>tax_family</td>\n",
       "      <td>variance_quantile</td>\n",
       "      <td>rf</td>\n",
       "      <td>0.747845</td>\n",
       "      <td>0.218829</td>\n",
       "      <td>-2.123945</td>\n",
       "      <td>0.434781</td>\n",
       "    </tr>\n",
       "    <tr>\n",
       "      <th>596</th>\n",
       "      <td>train_xgb_14d134f8</td>\n",
       "      <td>alr</td>\n",
       "      <td>None</td>\n",
       "      <td>None</td>\n",
       "      <td>xgb</td>\n",
       "      <td>0.934522</td>\n",
       "      <td>0.111511</td>\n",
       "      <td>-2.188484</td>\n",
       "      <td>0.439250</td>\n",
       "    </tr>\n",
       "    <tr>\n",
       "      <th>597</th>\n",
       "      <td>train_linreg_8cbeaffd</td>\n",
       "      <td>alr</td>\n",
       "      <td>tax_class</td>\n",
       "      <td>abundance_topi</td>\n",
       "      <td>linreg</td>\n",
       "      <td>0.006017</td>\n",
       "      <td>0.434471</td>\n",
       "      <td>-2.234679</td>\n",
       "      <td>0.442420</td>\n",
       "    </tr>\n",
       "    <tr>\n",
       "      <th>598</th>\n",
       "      <td>train_xgb_2de7262d</td>\n",
       "      <td>alr</td>\n",
       "      <td>None</td>\n",
       "      <td>None</td>\n",
       "      <td>xgb</td>\n",
       "      <td>0.939511</td>\n",
       "      <td>0.107179</td>\n",
       "      <td>-2.582790</td>\n",
       "      <td>0.465618</td>\n",
       "    </tr>\n",
       "    <tr>\n",
       "      <th>599</th>\n",
       "      <td>train_linreg_79fd4c98</td>\n",
       "      <td>pa</td>\n",
       "      <td>tax_genus</td>\n",
       "      <td>abundance_ith</td>\n",
       "      <td>linreg</td>\n",
       "      <td>0.780421</td>\n",
       "      <td>0.204205</td>\n",
       "      <td>-6.247169</td>\n",
       "      <td>0.662222</td>\n",
       "    </tr>\n",
       "  </tbody>\n",
       "</table>\n",
       "</div>"
      ],
      "text/plain": [
       "           tags.trial_name params.data_transform params.data_aggregation  \\\n",
       "595      train_rf_b386f33b                    pa              tax_family   \n",
       "596     train_xgb_14d134f8                   alr                    None   \n",
       "597  train_linreg_8cbeaffd                   alr               tax_class   \n",
       "598     train_xgb_2de7262d                   alr                    None   \n",
       "599  train_linreg_79fd4c98                    pa               tax_genus   \n",
       "\n",
       "    params.data_selection params.model  metrics.r2_train  metrics.rmse_train  \\\n",
       "595     variance_quantile           rf          0.747845            0.218829   \n",
       "596                  None          xgb          0.934522            0.111511   \n",
       "597        abundance_topi       linreg          0.006017            0.434471   \n",
       "598                  None          xgb          0.939511            0.107179   \n",
       "599         abundance_ith       linreg          0.780421            0.204205   \n",
       "\n",
       "     metrics.r2_val  metrics.rmse_val  \n",
       "595       -2.123945          0.434781  \n",
       "596       -2.188484          0.439250  \n",
       "597       -2.234679          0.442420  \n",
       "598       -2.582790          0.465618  \n",
       "599       -6.247169          0.662222  "
      ]
     },
     "execution_count": 16,
     "metadata": {},
     "output_type": "execute_result"
    }
   ],
   "source": [
    "df_metrics = df_all_runs[['tags.trial_name', \"params.data_transform\", \"params.data_aggregation\", \"params.data_selection\", \"params.model\", 'metrics.r2_train', 'metrics.rmse_train', 'metrics.r2_val', 'metrics.rmse_val' ]]\n",
    "df_metrics.tail()"
   ]
  },
  {
   "cell_type": "code",
   "execution_count": 17,
   "metadata": {},
   "outputs": [
    {
     "name": "stderr",
     "output_type": "stream",
     "text": [
      "/scratch/lfloerl/.condaenvs/ritme_model/lib/python3.10/site-packages/seaborn/_oldcore.py:1119: FutureWarning: use_inf_as_na option is deprecated and will be removed in a future version. Convert inf values to NaN before operating instead.\n",
      "  with pd.option_context('mode.use_inf_as_na', True):\n",
      "/scratch/lfloerl/.condaenvs/ritme_model/lib/python3.10/site-packages/seaborn/_oldcore.py:1075: FutureWarning: When grouping with a length-1 list-like, you will need to pass a length-1 tuple to get_group in a future version of pandas. Pass `(name,)` instead of `name` to silence this warning.\n",
      "  data_subset = grouped_data.get_group(pd_key)\n",
      "/scratch/lfloerl/.condaenvs/ritme_model/lib/python3.10/site-packages/seaborn/_oldcore.py:1075: FutureWarning: When grouping with a length-1 list-like, you will need to pass a length-1 tuple to get_group in a future version of pandas. Pass `(name,)` instead of `name` to silence this warning.\n",
      "  data_subset = grouped_data.get_group(pd_key)\n",
      "/scratch/lfloerl/.condaenvs/ritme_model/lib/python3.10/site-packages/seaborn/_oldcore.py:1075: FutureWarning: When grouping with a length-1 list-like, you will need to pass a length-1 tuple to get_group in a future version of pandas. Pass `(name,)` instead of `name` to silence this warning.\n",
      "  data_subset = grouped_data.get_group(pd_key)\n",
      "/scratch/lfloerl/.condaenvs/ritme_model/lib/python3.10/site-packages/seaborn/_oldcore.py:1075: FutureWarning: When grouping with a length-1 list-like, you will need to pass a length-1 tuple to get_group in a future version of pandas. Pass `(name,)` instead of `name` to silence this warning.\n",
      "  data_subset = grouped_data.get_group(pd_key)\n",
      "/scratch/lfloerl/.condaenvs/ritme_model/lib/python3.10/site-packages/seaborn/_oldcore.py:1075: FutureWarning: When grouping with a length-1 list-like, you will need to pass a length-1 tuple to get_group in a future version of pandas. Pass `(name,)` instead of `name` to silence this warning.\n",
      "  data_subset = grouped_data.get_group(pd_key)\n",
      "/scratch/lfloerl/.condaenvs/ritme_model/lib/python3.10/site-packages/seaborn/_oldcore.py:1075: FutureWarning: When grouping with a length-1 list-like, you will need to pass a length-1 tuple to get_group in a future version of pandas. Pass `(name,)` instead of `name` to silence this warning.\n",
      "  data_subset = grouped_data.get_group(pd_key)\n"
     ]
    },
    {
     "data": {
      "image/png": "[encoded data removed]",
      "text/plain": [
       "<Figure size 1200x300 with 1 Axes>"
      ]
     },
     "metadata": {},
     "output_type": "display_data"
    }
   ],
   "source": [
    "plt.figure(figsize=(12, 3))\n",
    "sns.histplot(\n",
    "    data=df_metrics,\n",
    "    x=df_metrics.index,\n",
    "    weights=df_metrics[\"metrics.r2_val\"],\n",
    "    bins=len(df_metrics),  \n",
    "    hue=df_metrics[\"params.model\"],\n",
    "    #palette=model_colors,\n",
    "    palette='viridis',\n",
    "    element=\"bars\",\n",
    "    multiple=\"stack\"  \n",
    ")\n",
    "\n",
    "plt.xlim(df_metrics.index.min(), df_metrics.index.max())\n",
    "plt.xlabel(\"\")\n",
    "plt.ylabel(\"R²\")\n",
    "plt.xticks([], [])  # Hide x-axis labels\n",
    "plt.grid(axis=\"y\", linestyle=\"--\", alpha=0.7)\n",
    "\n",
    "# Show legend\n",
    "\n",
    "plt.tight_layout()\n",
    "#plt.savefig('/home/lfloerl/cloud/lfloerl/Microterroir/Figures/RITME-test-R2.png', dpi=1000)\n",
    "plt.show()"
   ]
  },
  {
   "cell_type": "code",
   "execution_count": 18,
   "metadata": {},
   "outputs": [
    {
     "name": "stderr",
     "output_type": "stream",
     "text": [
      "/scratch/lfloerl/.condaenvs/ritme_model/lib/python3.10/site-packages/seaborn/_oldcore.py:1119: FutureWarning: use_inf_as_na option is deprecated and will be removed in a future version. Convert inf values to NaN before operating instead.\n",
      "  with pd.option_context('mode.use_inf_as_na', True):\n",
      "/scratch/lfloerl/.condaenvs/ritme_model/lib/python3.10/site-packages/seaborn/_oldcore.py:1075: FutureWarning: When grouping with a length-1 list-like, you will need to pass a length-1 tuple to get_group in a future version of pandas. Pass `(name,)` instead of `name` to silence this warning.\n",
      "  data_subset = grouped_data.get_group(pd_key)\n",
      "/scratch/lfloerl/.condaenvs/ritme_model/lib/python3.10/site-packages/seaborn/_oldcore.py:1075: FutureWarning: When grouping with a length-1 list-like, you will need to pass a length-1 tuple to get_group in a future version of pandas. Pass `(name,)` instead of `name` to silence this warning.\n",
      "  data_subset = grouped_data.get_group(pd_key)\n",
      "/scratch/lfloerl/.condaenvs/ritme_model/lib/python3.10/site-packages/seaborn/_oldcore.py:1075: FutureWarning: When grouping with a length-1 list-like, you will need to pass a length-1 tuple to get_group in a future version of pandas. Pass `(name,)` instead of `name` to silence this warning.\n",
      "  data_subset = grouped_data.get_group(pd_key)\n",
      "/scratch/lfloerl/.condaenvs/ritme_model/lib/python3.10/site-packages/seaborn/_oldcore.py:1075: FutureWarning: When grouping with a length-1 list-like, you will need to pass a length-1 tuple to get_group in a future version of pandas. Pass `(name,)` instead of `name` to silence this warning.\n",
      "  data_subset = grouped_data.get_group(pd_key)\n",
      "/scratch/lfloerl/.condaenvs/ritme_model/lib/python3.10/site-packages/seaborn/_oldcore.py:1075: FutureWarning: When grouping with a length-1 list-like, you will need to pass a length-1 tuple to get_group in a future version of pandas. Pass `(name,)` instead of `name` to silence this warning.\n",
      "  data_subset = grouped_data.get_group(pd_key)\n",
      "/scratch/lfloerl/.condaenvs/ritme_model/lib/python3.10/site-packages/seaborn/_oldcore.py:1075: FutureWarning: When grouping with a length-1 list-like, you will need to pass a length-1 tuple to get_group in a future version of pandas. Pass `(name,)` instead of `name` to silence this warning.\n",
      "  data_subset = grouped_data.get_group(pd_key)\n"
     ]
    },
    {
     "data": {
      "image/png": "[encoded data removed]",
      "text/plain": [
       "<Figure size 1200x300 with 1 Axes>"
      ]
     },
     "metadata": {},
     "output_type": "display_data"
    }
   ],
   "source": [
    "plt.figure(figsize=(12, 3))\n",
    "sns.histplot(\n",
    "    data=df_metrics,\n",
    "    x=df_metrics.index,\n",
    "    weights=df_metrics[\"metrics.rmse_val\"],\n",
    "    bins=len(df_metrics),  \n",
    "    hue=df_metrics[\"params.model\"],\n",
    "    #palette=model_colors,\n",
    "    palette='viridis',\n",
    "    element=\"bars\",\n",
    "    multiple=\"stack\"  \n",
    ")\n",
    "\n",
    "plt.xlim(df_metrics.index.min(), df_metrics.index.max())\n",
    "plt.xlabel(\"\")\n",
    "plt.ylabel(\"MSE\")\n",
    "plt.xticks([], [])  # Hide x-axis labels\n",
    "plt.grid(axis=\"y\", linestyle=\"--\", alpha=0.7)\n",
    "\n",
    "plt.legend([], [], frameon=False)\n",
    "\n",
    "plt.tight_layout()\n",
    "#plt.savefig('/home/lfloerl/cloud/lfloerl/Microterroir/Figures/RITME-test-MSE.png', dpi=1000)\n",
    "plt.show()"
   ]
  },
  {
   "cell_type": "markdown",
   "metadata": {},
   "source": [
    "# Extracting trained best models\n",
    "Get best models for further usage\n",
    "\n",
    "The best models are stored in Python dictionary best_model_dict with model_type as keys and TunedModel objects as values. To extract a given best model and perform predictions with it, see below code excerpt:"
   ]
  },
  {
   "cell_type": "code",
   "execution_count": 67,
   "metadata": {},
   "outputs": [
    {
     "name": "stdout",
     "output_type": "stream",
     "text": [
      "Saving best models to Temp_Harvest21_best_models...\n"
     ]
    }
   ],
   "source": [
    "if path_to_store_best_models is not None:\n",
    "    print(f\"Saving best models to {path_to_store_best_models}...\")\n",
    "    if not os.path.exists(path_to_store_best_models):\n",
    "        os.makedirs(path_to_store_best_models)\n",
    "\n",
    "    save_best_models(best_model_dict, path_to_store_best_models)"
   ]
  },
  {
   "cell_type": "code",
   "execution_count": 68,
   "metadata": {},
   "outputs": [],
   "source": [
    "# get best model\n",
    "best_xgb_model = best_model_dict[\"xgb\"]"
   ]
  },
  {
   "cell_type": "code",
   "execution_count": 69,
   "metadata": {},
   "outputs": [
    {
     "name": "stderr",
     "output_type": "stream",
     "text": [
      "/scratch/lfloerl/.condaenvs/ritme_model/lib/python3.10/site-packages/ritme/feature_space/aggregate_features.py:78: UserWarning: These features were not found in taxonomy and are hence disregarded: ['Fermentation_Timepoint'].\n",
      "  warnings.warn(\n",
      "/scratch/lfloerl/.condaenvs/ritme_model/lib/python3.10/site-packages/ritme/feature_space/aggregate_features.py:78: UserWarning: These features were not found in taxonomy and are hence disregarded: ['Fermentation_Timepoint'].\n",
      "  warnings.warn(\n"
     ]
    }
   ],
   "source": [
    "# perform prediction with best linreg model\n",
    "test_predictions = best_xgb_model.predict(test, \"test\")\n",
    "train_predictions = best_xgb_model.predict(train_val, \"train\")"
   ]
  },
  {
   "cell_type": "code",
   "execution_count": 70,
   "metadata": {},
   "outputs": [],
   "source": [
    "# get true values \n",
    "md_df = pd.read_csv(path_to_md, sep='\\t', index_col=0)\n",
    "\n",
    "# subset to only contain the samples in the test dataset \n",
    "md_test = md_df.loc[test.index]\n",
    "md_train = md_df.loc[train_val.index]\n",
    "\n",
    "true_values_test = md_test['average_temperature'].values\n",
    "true_values_train = md_train['average_temperature'].values"
   ]
  },
  {
   "cell_type": "markdown",
   "metadata": {},
   "source": [
    "## Plot"
   ]
  },
  {
   "cell_type": "code",
   "execution_count": 71,
   "metadata": {},
   "outputs": [
    {
     "data": {
      "image/png": "[encoded data removed]",
      "text/plain": [
       "<Figure size 400x400 with 1 Axes>"
      ]
     },
     "metadata": {},
     "output_type": "display_data"
    }
   ],
   "source": [
    "# Create scatterplot\n",
    "plt.figure(figsize=(4, 4))\n",
    "sns.regplot(x=true_values_test, y=test_predictions, ci=None, \n",
    "            scatter_kws={'s': 10, 'color': '#29AF7FFF', 'alpha':0.4}, \n",
    "            line_kws={'color': '#3F4788FF'})\n",
    "\n",
    "# Compute R² score \n",
    "r2 = r2_score(true_values_test, test_predictions)\n",
    "r2_text = f\"R² = {r2:.2f}\" if r2 >= 0 else \"R² < 0\"\n",
    "\n",
    "# Adjust text position\n",
    "y_text_position = np.percentile(test_predictions, 95)\n",
    "plt.text(np.min(true_values_test), y_text_position, r2_text, \n",
    "         fontsize=12, color=\"#3F4788FF\", fontweight='bold')\n",
    "\n",
    "# Labels\n",
    "plt.xlabel(\"True Temperature\", fontsize=12)\n",
    "plt.ylabel(\"Predicted Temperature\", fontsize=12)\n",
    "plt.title('Test Set')\n",
    "# Show plot\n",
    "plt.show()"
   ]
  },
  {
   "cell_type": "code",
   "execution_count": 72,
   "metadata": {},
   "outputs": [
    {
     "data": {
      "image/png": "[encoded data removed]",
      "text/plain": [
       "<Figure size 400x400 with 1 Axes>"
      ]
     },
     "metadata": {},
     "output_type": "display_data"
    }
   ],
   "source": [
    "# Create scatterplot\n",
    "plt.figure(figsize=(4, 4))\n",
    "sns.regplot(x=true_values_train, y=train_predictions, ci=None, \n",
    "            scatter_kws={'s': 10, 'color': '#29AF7FFF', 'alpha':0.4}, \n",
    "            line_kws={'color': '#3F4788FF'})\n",
    "\n",
    "# Compute R² score \n",
    "r2 = r2_score(true_values_train, train_predictions)\n",
    "r2_text = f\"R² = {r2:.2f}\" if r2 >= 0 else \"R² < 0\"\n",
    "\n",
    "# Adjust text position\n",
    "y_text_position = np.percentile(train_predictions, 95)\n",
    "plt.text(np.min(true_values_train), y_text_position, r2_text, \n",
    "         fontsize=12, color=\"#3F4788FF\", fontweight='bold')\n",
    "\n",
    "# Labels\n",
    "plt.xlabel(\"True Temperature\", fontsize=12)\n",
    "plt.ylabel(\"Predicted Temperature\", fontsize=12)\n",
    "\n",
    "plt.title('Train Set')\n",
    "\n",
    "# Show plot\n",
    "plt.show()"
   ]
  },
  {
   "cell_type": "code",
   "execution_count": null,
   "metadata": {},
   "outputs": [],
   "source": []
  }
 ],
 "metadata": {
  "kernelspec": {
   "display_name": "ritme_model",
   "language": "python",
   "name": "python3"
  },
  "language_info": {
   "codemirror_mode": {
    "name": "ipython",
    "version": 3
   },
   "file_extension": ".py",
   "mimetype": "text/x-python",
   "name": "python",
   "nbconvert_exporter": "python",
   "pygments_lexer": "ipython3",
   "version": "3.10.16"
  }
 },
 "nbformat": 4,
 "nbformat_minor": 2
}
