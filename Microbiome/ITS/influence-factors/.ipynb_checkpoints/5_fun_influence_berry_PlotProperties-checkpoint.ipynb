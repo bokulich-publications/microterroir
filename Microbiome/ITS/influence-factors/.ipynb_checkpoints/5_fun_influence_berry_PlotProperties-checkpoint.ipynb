{
 "cells": [
  {
   "cell_type": "markdown",
   "id": "a8b92d8b",
   "metadata": {},
   "source": [
    "# 5. Influence factors: Vineyard management on berry microbiome"
   ]
  },
  {
   "cell_type": "code",
   "execution_count": 6,
   "id": "abc52439",
   "metadata": {},
   "outputs": [],
   "source": [
    "#!mkdir /home/lfloerl/cloud/lfloerl/Microterroir/artifacts/ITS/lavaux/influence/plot-properties"
   ]
  },
  {
   "cell_type": "code",
   "execution_count": 7,
   "id": "cd670efc",
   "metadata": {},
   "outputs": [
    {
     "name": "stdout",
     "output_type": "stream",
     "text": [
      "/home/lfloerl/cloud/lfloerl/Microterroir/artifacts/ITS/lavaux/influence/plot-properties\n"
     ]
    }
   ],
   "source": [
    "workdir = '/home/lfloerl/cloud/lfloerl/Microterroir/artifacts/ITS/lavaux/influence/plot-properties'\n",
    "%cd $workdir"
   ]
  },
  {
   "cell_type": "code",
   "execution_count": 8,
   "id": "413c885b",
   "metadata": {},
   "outputs": [
    {
     "name": "stdout",
     "output_type": "stream",
     "text": [
      "env: TMPDIR=/scratch/lfloerl/tmpdata\n"
     ]
    }
   ],
   "source": [
    "%env TMPDIR=/scratch/lfloerl/tmpdata"
   ]
  },
  {
   "cell_type": "code",
   "execution_count": 9,
   "id": "18e20f86",
   "metadata": {},
   "outputs": [],
   "source": [
    "from qiime2 import Visualization\n",
    "import qiime2 as q2\n",
    "from qiime2 import Visualization\n",
    "from qiime2 import Artifact\n",
    "from qiime2 import Metadata\n",
    "import os\n",
    "import pandas as pd\n",
    "import matplotlib.pyplot as plt\n",
    "import seaborn as sns\n",
    "from qiime2.plugins.diversity.visualizers import alpha_group_significance\n",
    "from qiime2.plugins.feature_table.methods import (filter_samples, filter_seqs)\n",
    "from statsmodels.stats.outliers_influence import variance_inflation_factor\n",
    "from scipy import stats\n",
    "from scipy.stats import f_oneway, chi2_contingency\n",
    "import numpy as np\n",
    "\n",
    "from qiime2.plugins import diversity as q2d\n",
    "\n",
    "%matplotlib inline"
   ]
  },
  {
   "cell_type": "markdown",
   "id": "e514939f",
   "metadata": {},
   "source": [
    "# Colinearity between variables"
   ]
  },
  {
   "cell_type": "code",
   "execution_count": 13,
   "id": "a2ea4b39",
   "metadata": {
    "scrolled": true
   },
   "outputs": [
    {
     "data": {
      "text/html": [
       "<div>\n",
       "<style scoped>\n",
       "    .dataframe tbody tr th:only-of-type {\n",
       "        vertical-align: middle;\n",
       "    }\n",
       "\n",
       "    .dataframe tbody tr th {\n",
       "        vertical-align: top;\n",
       "    }\n",
       "\n",
       "    .dataframe thead th {\n",
       "        text-align: right;\n",
       "    }\n",
       "</style>\n",
       "<table border=\"1\" class=\"dataframe\">\n",
       "  <thead>\n",
       "    <tr style=\"text-align: right;\">\n",
       "      <th></th>\n",
       "      <th>id</th>\n",
       "      <th>SAMPLE_NAME</th>\n",
       "      <th>sample_type</th>\n",
       "      <th>Plot_ID</th>\n",
       "      <th>COLLECTION_DATE</th>\n",
       "      <th>Year</th>\n",
       "      <th>Year_Cat</th>\n",
       "      <th>Plot</th>\n",
       "      <th>Altitude</th>\n",
       "      <th>Average_slope</th>\n",
       "      <th>...</th>\n",
       "      <th>Quadrant</th>\n",
       "      <th>Cluster</th>\n",
       "      <th>Plot_PCA_kMeans_Cluster</th>\n",
       "      <th>Phenology_BudBreak</th>\n",
       "      <th>Phenology_Flowering</th>\n",
       "      <th>Hail_Damage</th>\n",
       "      <th>Herbicide</th>\n",
       "      <th>Mildew</th>\n",
       "      <th>Grape_Yield_Estimate</th>\n",
       "      <th>Pruning_Weight</th>\n",
       "    </tr>\n",
       "  </thead>\n",
       "  <tbody>\n",
       "    <tr>\n",
       "      <th>0</th>\n",
       "      <td>364526_290-LP3-ITS-0866</td>\n",
       "      <td>Lavaux_2021-08-31_bark_Plot4</td>\n",
       "      <td>bark</td>\n",
       "      <td>Lavaux_Plot_4</td>\n",
       "      <td>2021-08-31 00:00:00 +0200</td>\n",
       "      <td>2021</td>\n",
       "      <td>Year2021</td>\n",
       "      <td>4</td>\n",
       "      <td>450</td>\n",
       "      <td>30</td>\n",
       "      <td>...</td>\n",
       "      <td>NW</td>\n",
       "      <td>Cluster3</td>\n",
       "      <td>Cluster1</td>\n",
       "      <td>105</td>\n",
       "      <td>170</td>\n",
       "      <td>no</td>\n",
       "      <td>band</td>\n",
       "      <td>yes</td>\n",
       "      <td>medium</td>\n",
       "      <td>49.71</td>\n",
       "    </tr>\n",
       "    <tr>\n",
       "      <th>1</th>\n",
       "      <td>364526_289-LP3-ITS-0865</td>\n",
       "      <td>Lavaux_2021-08-31_bark_Plot5</td>\n",
       "      <td>bark</td>\n",
       "      <td>Lavaux_Plot_5</td>\n",
       "      <td>2021-08-31 00:00:00 +0200</td>\n",
       "      <td>2021</td>\n",
       "      <td>Year2021</td>\n",
       "      <td>5</td>\n",
       "      <td>400</td>\n",
       "      <td>30</td>\n",
       "      <td>...</td>\n",
       "      <td>SW</td>\n",
       "      <td>Cluster3</td>\n",
       "      <td>Cluster3</td>\n",
       "      <td>104</td>\n",
       "      <td>167</td>\n",
       "      <td>no</td>\n",
       "      <td>band</td>\n",
       "      <td>no</td>\n",
       "      <td>medium</td>\n",
       "      <td>57.41</td>\n",
       "    </tr>\n",
       "    <tr>\n",
       "      <th>2</th>\n",
       "      <td>364526_285-LP3-ITS-0861</td>\n",
       "      <td>Lavaux_2021-08-31_bark_Plot9</td>\n",
       "      <td>bark</td>\n",
       "      <td>Lavaux_Plot_9</td>\n",
       "      <td>2021-08-31 00:00:00 +0200</td>\n",
       "      <td>2021</td>\n",
       "      <td>Year2021</td>\n",
       "      <td>9</td>\n",
       "      <td>520</td>\n",
       "      <td>35</td>\n",
       "      <td>...</td>\n",
       "      <td>NE</td>\n",
       "      <td>Cluster3</td>\n",
       "      <td>Cluster2</td>\n",
       "      <td>111</td>\n",
       "      <td>172</td>\n",
       "      <td>no</td>\n",
       "      <td>almost_total</td>\n",
       "      <td>yes</td>\n",
       "      <td>low</td>\n",
       "      <td>38.99</td>\n",
       "    </tr>\n",
       "    <tr>\n",
       "      <th>3</th>\n",
       "      <td>364526_287-LP3-ITS-0863</td>\n",
       "      <td>Lavaux_2021-08-31_bark_Plot11</td>\n",
       "      <td>bark</td>\n",
       "      <td>Lavaux_Plot_11</td>\n",
       "      <td>2021-08-31 00:00:00 +0200</td>\n",
       "      <td>2021</td>\n",
       "      <td>Year2021</td>\n",
       "      <td>11</td>\n",
       "      <td>490</td>\n",
       "      <td>20</td>\n",
       "      <td>...</td>\n",
       "      <td>NW</td>\n",
       "      <td>Cluster3</td>\n",
       "      <td>Cluster1</td>\n",
       "      <td>109</td>\n",
       "      <td>173</td>\n",
       "      <td>yes</td>\n",
       "      <td>band</td>\n",
       "      <td>yes</td>\n",
       "      <td>low</td>\n",
       "      <td>47.67</td>\n",
       "    </tr>\n",
       "    <tr>\n",
       "      <th>4</th>\n",
       "      <td>364526_282-LP3-ITS-0858</td>\n",
       "      <td>Lavaux_2021-08-31_bark_Plot12</td>\n",
       "      <td>bark</td>\n",
       "      <td>Lavaux_Plot_12</td>\n",
       "      <td>2021-08-31 00:00:00 +0200</td>\n",
       "      <td>2021</td>\n",
       "      <td>Year2021</td>\n",
       "      <td>12</td>\n",
       "      <td>520</td>\n",
       "      <td>15</td>\n",
       "      <td>...</td>\n",
       "      <td>NW</td>\n",
       "      <td>Cluster1</td>\n",
       "      <td>Cluster1</td>\n",
       "      <td>107</td>\n",
       "      <td>173</td>\n",
       "      <td>no</td>\n",
       "      <td>almost_total</td>\n",
       "      <td>yes</td>\n",
       "      <td>medium</td>\n",
       "      <td>54.09</td>\n",
       "    </tr>\n",
       "  </tbody>\n",
       "</table>\n",
       "<p>5 rows × 30 columns</p>\n",
       "</div>"
      ],
      "text/plain": [
       "                        id                    SAMPLE_NAME sample_type  \\\n",
       "0  364526_290-LP3-ITS-0866   Lavaux_2021-08-31_bark_Plot4        bark   \n",
       "1  364526_289-LP3-ITS-0865   Lavaux_2021-08-31_bark_Plot5        bark   \n",
       "2  364526_285-LP3-ITS-0861   Lavaux_2021-08-31_bark_Plot9        bark   \n",
       "3  364526_287-LP3-ITS-0863  Lavaux_2021-08-31_bark_Plot11        bark   \n",
       "4  364526_282-LP3-ITS-0858  Lavaux_2021-08-31_bark_Plot12        bark   \n",
       "\n",
       "          Plot_ID            COLLECTION_DATE  Year  Year_Cat  Plot  Altitude  \\\n",
       "0   Lavaux_Plot_4  2021-08-31 00:00:00 +0200  2021  Year2021     4       450   \n",
       "1   Lavaux_Plot_5  2021-08-31 00:00:00 +0200  2021  Year2021     5       400   \n",
       "2   Lavaux_Plot_9  2021-08-31 00:00:00 +0200  2021  Year2021     9       520   \n",
       "3  Lavaux_Plot_11  2021-08-31 00:00:00 +0200  2021  Year2021    11       490   \n",
       "4  Lavaux_Plot_12  2021-08-31 00:00:00 +0200  2021  Year2021    12       520   \n",
       "\n",
       "   Average_slope  ... Quadrant   Cluster  Plot_PCA_kMeans_Cluster  \\\n",
       "0             30  ...       NW  Cluster3                 Cluster1   \n",
       "1             30  ...       SW  Cluster3                 Cluster3   \n",
       "2             35  ...       NE  Cluster3                 Cluster2   \n",
       "3             20  ...       NW  Cluster3                 Cluster1   \n",
       "4             15  ...       NW  Cluster1                 Cluster1   \n",
       "\n",
       "   Phenology_BudBreak Phenology_Flowering Hail_Damage     Herbicide Mildew  \\\n",
       "0                 105                 170          no          band    yes   \n",
       "1                 104                 167          no          band     no   \n",
       "2                 111                 172          no  almost_total    yes   \n",
       "3                 109                 173         yes          band    yes   \n",
       "4                 107                 173          no  almost_total    yes   \n",
       "\n",
       "   Grape_Yield_Estimate Pruning_Weight  \n",
       "0                medium          49.71  \n",
       "1                medium          57.41  \n",
       "2                   low          38.99  \n",
       "3                   low          47.67  \n",
       "4                medium          54.09  \n",
       "\n",
       "[5 rows x 30 columns]"
      ]
     },
     "execution_count": 13,
     "metadata": {},
     "output_type": "execute_result"
    }
   ],
   "source": [
    "md_df = pd.read_csv('/home/lfloerl/microterroir/Microbiome/Metadata/ITS_Lavaux_Management.tsv', sep='\\t')\n",
    "md_df.head()"
   ]
  },
  {
   "cell_type": "code",
   "execution_count": 18,
   "id": "b8da13df",
   "metadata": {},
   "outputs": [
    {
     "data": {
      "text/html": [
       "<div>\n",
       "<style scoped>\n",
       "    .dataframe tbody tr th:only-of-type {\n",
       "        vertical-align: middle;\n",
       "    }\n",
       "\n",
       "    .dataframe tbody tr th {\n",
       "        vertical-align: top;\n",
       "    }\n",
       "\n",
       "    .dataframe thead th {\n",
       "        text-align: right;\n",
       "    }\n",
       "</style>\n",
       "<table border=\"1\" class=\"dataframe\">\n",
       "  <thead>\n",
       "    <tr style=\"text-align: right;\">\n",
       "      <th></th>\n",
       "      <th>Altitude</th>\n",
       "      <th>Average_slope</th>\n",
       "      <th>Average_radiation</th>\n",
       "      <th>Exposition_South-West</th>\n",
       "    </tr>\n",
       "  </thead>\n",
       "  <tbody>\n",
       "    <tr>\n",
       "      <th>0</th>\n",
       "      <td>450</td>\n",
       "      <td>30</td>\n",
       "      <td>937.5</td>\n",
       "      <td>1</td>\n",
       "    </tr>\n",
       "    <tr>\n",
       "      <th>1</th>\n",
       "      <td>400</td>\n",
       "      <td>30</td>\n",
       "      <td>912.5</td>\n",
       "      <td>1</td>\n",
       "    </tr>\n",
       "    <tr>\n",
       "      <th>2</th>\n",
       "      <td>520</td>\n",
       "      <td>35</td>\n",
       "      <td>887.5</td>\n",
       "      <td>1</td>\n",
       "    </tr>\n",
       "    <tr>\n",
       "      <th>3</th>\n",
       "      <td>490</td>\n",
       "      <td>20</td>\n",
       "      <td>937.5</td>\n",
       "      <td>0</td>\n",
       "    </tr>\n",
       "    <tr>\n",
       "      <th>4</th>\n",
       "      <td>520</td>\n",
       "      <td>15</td>\n",
       "      <td>937.5</td>\n",
       "      <td>1</td>\n",
       "    </tr>\n",
       "  </tbody>\n",
       "</table>\n",
       "</div>"
      ],
      "text/plain": [
       "   Altitude  Average_slope  Average_radiation  Exposition_South-West\n",
       "0       450             30              937.5                      1\n",
       "1       400             30              912.5                      1\n",
       "2       520             35              887.5                      1\n",
       "3       490             20              937.5                      0\n",
       "4       520             15              937.5                      1"
      ]
     },
     "execution_count": 18,
     "metadata": {},
     "output_type": "execute_result"
    }
   ],
   "source": [
    "md_plots_subset = md_df[['Altitude', 'Average_slope', 'Exposition', 'Average_radiation']]\n",
    "\n",
    "categorical_cols = ['Exposition']\n",
    "md_plots_subset_dummies = pd.get_dummies(md_plots_subset, columns=categorical_cols, drop_first=True)\n",
    "boolean_columns = md_plots_subset_dummies.select_dtypes(include='bool').columns\n",
    "md_plots_subset_dummies[boolean_columns] = md_plots_subset_dummies[boolean_columns].astype(int)\n",
    "\n",
    "md_plots_subset_dummies.head()"
   ]
  },
  {
   "cell_type": "code",
   "execution_count": 29,
   "id": "97fb7a08",
   "metadata": {
    "scrolled": false
   },
   "outputs": [
    {
     "data": {
      "image/png": "[encoded data removed]",
      "text/plain": [
       "<Figure size 300x250 with 2 Axes>"
      ]
     },
     "metadata": {},
     "output_type": "display_data"
    }
   ],
   "source": [
    "# Compute and visualize correlation\n",
    "cor_matrix = md_plots_subset_dummies.corr()\n",
    "\n",
    "# Mask the upper triangle for clarity\n",
    "mask = np.triu(np.ones_like(cor_matrix, dtype=bool))\n",
    "\n",
    "# Set masked values to NaN for annotations\n",
    "annot_matrix = cor_matrix.mask(mask)\n",
    "\n",
    "# Create the heatmap\n",
    "plt.figure(figsize=(3,2.5))\n",
    "sns.heatmap(cor_matrix, mask=mask, annot=annot_matrix, cmap='viridis',annot_kws={'size': 8}, fmt='.2f', cbar=True, linewidths=0.5)\n",
    "plt.show()"
   ]
  },
  {
   "cell_type": "code",
   "execution_count": 22,
   "id": "231f918a",
   "metadata": {},
   "outputs": [
    {
     "name": "stdout",
     "output_type": "stream",
     "text": [
      "Chi-Square Statistic: 770.1798718773645\n",
      "p-value: 5.298171464528013e-159\n",
      "Degrees of Freedom: 10\n",
      "Expected Frequencies Table:\n",
      " [[  4.54285714  25.62857143  20.82857143]\n",
      " [ 14.60840336  82.41344538  66.97815126]\n",
      " [  6.41344538  36.18151261  29.40504202]\n",
      " [ 19.24033613 108.54453782  88.21512605]\n",
      " [  4.7210084   26.63361345  21.64537815]\n",
      " [  3.47394958  19.59831933  15.92773109]]\n"
     ]
    }
   ],
   "source": [
    "# Create a contingency table\n",
    "contingency_table = pd.crosstab(md_plots_subset_dummies['Average_slope'], md_plots_subset_dummies['Average_radiation'])\n",
    "\n",
    "# Perform the Chi-square test\n",
    "chi2_stat, p_val, dof, expected = chi2_contingency(contingency_table)\n",
    "\n",
    "# Print the results\n",
    "print(\"Chi-Square Statistic:\", chi2_stat)\n",
    "print(\"p-value:\", p_val)\n",
    "print(\"Degrees of Freedom:\", dof)\n",
    "print(\"Expected Frequencies Table:\\n\", expected)"
   ]
  },
  {
   "cell_type": "markdown",
   "id": "41de3c25",
   "metadata": {},
   "source": [
    "# Must "
   ]
  },
  {
   "cell_type": "code",
   "execution_count": 23,
   "id": "3060e4f0",
   "metadata": {
    "scrolled": true
   },
   "outputs": [
    {
     "name": "stdout",
     "output_type": "stream",
     "text": [
      "Saved FeatureTable[Frequency] to: cm10000/rarefied_table.qza\n",
      "Saved SampleData[AlphaDiversity] to: cm10000/observed_features_vector.qza\n",
      "Saved SampleData[AlphaDiversity] to: cm10000/shannon_vector.qza\n",
      "Saved SampleData[AlphaDiversity] to: cm10000/evenness_vector.qza\n",
      "Saved DistanceMatrix to: cm10000/jaccard_distance_matrix.qza\n",
      "Saved DistanceMatrix to: cm10000/bray_curtis_distance_matrix.qza\n",
      "Saved PCoAResults to: cm10000/jaccard_pcoa_results.qza\n",
      "Saved PCoAResults to: cm10000/bray_curtis_pcoa_results.qza\n",
      "Saved Visualization to: cm10000/jaccard_emperor.qzv\n",
      "Saved Visualization to: cm10000/bray_curtis_emperor.qzv\n",
      "Saved FeatureTable[Frequency] to: kmer_cm10000/rarefied_table.qza\n",
      "Saved FeatureTable[Frequency] to: kmer_cm10000/kmer_table.qza\n",
      "Saved SampleData[AlphaDiversity] to: kmer_cm10000/observed_features_vector.qza\n",
      "Saved SampleData[AlphaDiversity] to: kmer_cm10000/shannon_vector.qza\n",
      "Saved DistanceMatrix to: kmer_cm10000/jaccard_distance_matrix.qza\n",
      "Saved DistanceMatrix to: kmer_cm10000/bray_curtis_distance_matrix.qza\n",
      "Saved PCoAResults to: kmer_cm10000/jaccard_pcoa_results.qza\n",
      "Saved PCoAResults to: kmer_cm10000/bray_curtis_pcoa_results.qza\n",
      "Saved Visualization to: kmer_cm10000/scatterplot.qzv\n"
     ]
    }
   ],
   "source": [
    "%%bash \n",
    "\n",
    "# Core diversity metrics\n",
    "qiime diversity core-metrics \\\n",
    "        --i-table /home/lfloerl/cloud/lfloerl/Microterroir/artifacts/ITS/lavaux/must_filtered_table.qza \\\n",
    "        --p-sampling-depth 10000 \\\n",
    "        --m-metadata-file /home/lfloerl/microterroir/Microbiome/Metadata/ITS_Lavaux_Management.tsv \\\n",
    "        --p-n-jobs 5 \\\n",
    "        --output-dir cm10000/\n",
    "\n",
    "# Kmer diversity\n",
    "qiime kmerizer core-metrics \\\n",
    "        --i-sequences /home/lfloerl/cloud/lfloerl/Microterroir/artifacts/ITS/lavaux/must_filtered_rep_seqs.qza \\\n",
    "        --i-table /home/lfloerl/cloud/lfloerl/Microterroir/artifacts/ITS/lavaux/must_filtered_table.qza \\\n",
    "        --p-sampling-depth 10000 \\\n",
    "        --m-metadata-file /home/lfloerl/microterroir/Microbiome/Metadata/ITS_Lavaux_Management.tsv \\\n",
    "        --p-n-jobs auto \\\n",
    "        --output-dir kmer_cm10000/\n"
   ]
  },
  {
   "cell_type": "markdown",
   "id": "38d1ba7b",
   "metadata": {},
   "source": [
    "## Alpha Diversity"
   ]
  },
  {
   "cell_type": "code",
   "execution_count": 25,
   "id": "dd8cf4d5",
   "metadata": {},
   "outputs": [
    {
     "name": "stdout",
     "output_type": "stream",
     "text": [
      "\u001b[32mSaved Visualization to: cm10000/alpha_groupSig_shannon_vector.qzv\u001b[0m\n",
      "\u001b[0m\u001b[32mSaved Visualization to: cm10000/alpha_groupSig_observed_features_vector.qzv\u001b[0m\n",
      "\u001b[0m\u001b[32mSaved Visualization to: cm10000/alpha_groupSig_evenness_vector.qzv\u001b[0m\n",
      "\u001b[0m"
     ]
    }
   ],
   "source": [
    "alpha_metrics = ['shannon_vector', 'observed_features_vector', 'evenness_vector']\n",
    "\n",
    "output_dir = 'cm10000'\n",
    "\n",
    "for metric in alpha_metrics:\n",
    "    !qiime diversity alpha-group-significance \\\n",
    "        --i-alpha-diversity {output_dir}/{metric}.qza \\\n",
    "        --m-metadata-file /home/lfloerl/microterroir/Microbiome/Metadata/ITS_Lavaux_Management.tsv \\\n",
    "        --o-visualization {output_dir}/alpha_groupSig_{metric}.qzv"
   ]
  },
  {
   "cell_type": "code",
   "execution_count": 26,
   "id": "fd079ab6",
   "metadata": {
    "scrolled": false
   },
   "outputs": [
    {
     "data": {
      "text/html": [
       "<div><img onload=\"(function(div, url){\n",
       "if (typeof require !== 'undefined') {\n",
       "    var baseURL = require.toUrl('').split('/').slice(0, -2).join('/');\n",
       "} else {\n",
       "    var baseURL = JSON.parse(\n",
       "        document.getElementById('jupyter-config-data').innerHTML\n",
       "    ).baseUrl.slice(0, -1);\n",
       "}\n",
       "url = baseURL + url;\n",
       "fetch(url).then(function(res) {\n",
       "    if (res.status === 404) {\n",
       "        div.innerHTML = 'Install QIIME 2 Jupyter extension with:<br />' +\n",
       "                        '<code>jupyter server extension enable --py qiime2' +\n",
       "                        ' --sys-prefix</code><br />then restart your server.' +\n",
       "                        '<br /><br />(Interactive output not available on ' +\n",
       "                        'static notebook viewer services like nbviewer.)';\n",
       "    } else if (res.status === 409) {\n",
       "        div.innerHTML = 'Visualization no longer in scope. Re-run this cell' +\n",
       "                        ' to see the visualization.';\n",
       "    } else if (res.ok) {\n",
       "        url = res.url;\n",
       "        div.innerHTML = '<iframe src=\\'' + url + '\\' style=\\'' +\n",
       "                        'width: 100%; height: 700px; border: 0;\\'>' +\n",
       "                        '</iframe><hr />Open in a: <a href=\\'' + url + '\\'' +\n",
       "                        ' target=\\'_blank\\'>new window</a>'\n",
       "    } else {\n",
       "        div.innerHTML = 'Something has gone wrong. Check notebook server for' +\n",
       "                        ' errors.';\n",
       "    }\n",
       "});\n",
       "})(this.parentElement, '/qiime2/redirect?location=/scratch/lfloerl/tmpdata/qiime2/lfloerl/data/98ad04df-212c-4596-a100-962fcf22284a')\" src=\"data:image/gif;base64,R0lGODlhAQABAIAAAP///wAAACH5BAEAAAAALAAAAAABAAEAAAICRAEAOw==\" /></div>"
      ],
      "text/plain": [
       "<visualization: Visualization uuid: 98ad04df-212c-4596-a100-962fcf22284a>"
      ]
     },
     "execution_count": 26,
     "metadata": {},
     "output_type": "execute_result"
    }
   ],
   "source": [
    "Visualization.load('cm10000/alpha_groupSig_evenness_vector.qzv')"
   ]
  },
  {
   "cell_type": "code",
   "execution_count": 27,
   "id": "a475d39b",
   "metadata": {
    "scrolled": false
   },
   "outputs": [
    {
     "data": {
      "text/html": [
       "<div><img onload=\"(function(div, url){\n",
       "if (typeof require !== 'undefined') {\n",
       "    var baseURL = require.toUrl('').split('/').slice(0, -2).join('/');\n",
       "} else {\n",
       "    var baseURL = JSON.parse(\n",
       "        document.getElementById('jupyter-config-data').innerHTML\n",
       "    ).baseUrl.slice(0, -1);\n",
       "}\n",
       "url = baseURL + url;\n",
       "fetch(url).then(function(res) {\n",
       "    if (res.status === 404) {\n",
       "        div.innerHTML = 'Install QIIME 2 Jupyter extension with:<br />' +\n",
       "                        '<code>jupyter server extension enable --py qiime2' +\n",
       "                        ' --sys-prefix</code><br />then restart your server.' +\n",
       "                        '<br /><br />(Interactive output not available on ' +\n",
       "                        'static notebook viewer services like nbviewer.)';\n",
       "    } else if (res.status === 409) {\n",
       "        div.innerHTML = 'Visualization no longer in scope. Re-run this cell' +\n",
       "                        ' to see the visualization.';\n",
       "    } else if (res.ok) {\n",
       "        url = res.url;\n",
       "        div.innerHTML = '<iframe src=\\'' + url + '\\' style=\\'' +\n",
       "                        'width: 100%; height: 700px; border: 0;\\'>' +\n",
       "                        '</iframe><hr />Open in a: <a href=\\'' + url + '\\'' +\n",
       "                        ' target=\\'_blank\\'>new window</a>'\n",
       "    } else {\n",
       "        div.innerHTML = 'Something has gone wrong. Check notebook server for' +\n",
       "                        ' errors.';\n",
       "    }\n",
       "});\n",
       "})(this.parentElement, '/qiime2/redirect?location=/scratch/lfloerl/tmpdata/qiime2/lfloerl/data/2d1fbe9a-e6e9-4a4b-a2f0-dcc27343ae8f')\" src=\"data:image/gif;base64,R0lGODlhAQABAIAAAP///wAAACH5BAEAAAAALAAAAAABAAEAAAICRAEAOw==\" /></div>"
      ],
      "text/plain": [
       "<visualization: Visualization uuid: 2d1fbe9a-e6e9-4a4b-a2f0-dcc27343ae8f>"
      ]
     },
     "execution_count": 27,
     "metadata": {},
     "output_type": "execute_result"
    }
   ],
   "source": [
    "Visualization.load('cm10000/alpha_groupSig_observed_features_vector.qzv')"
   ]
  },
  {
   "cell_type": "code",
   "execution_count": 28,
   "id": "b9469709",
   "metadata": {},
   "outputs": [
    {
     "data": {
      "text/html": [
       "<div><img onload=\"(function(div, url){\n",
       "if (typeof require !== 'undefined') {\n",
       "    var baseURL = require.toUrl('').split('/').slice(0, -2).join('/');\n",
       "} else {\n",
       "    var baseURL = JSON.parse(\n",
       "        document.getElementById('jupyter-config-data').innerHTML\n",
       "    ).baseUrl.slice(0, -1);\n",
       "}\n",
       "url = baseURL + url;\n",
       "fetch(url).then(function(res) {\n",
       "    if (res.status === 404) {\n",
       "        div.innerHTML = 'Install QIIME 2 Jupyter extension with:<br />' +\n",
       "                        '<code>jupyter server extension enable --py qiime2' +\n",
       "                        ' --sys-prefix</code><br />then restart your server.' +\n",
       "                        '<br /><br />(Interactive output not available on ' +\n",
       "                        'static notebook viewer services like nbviewer.)';\n",
       "    } else if (res.status === 409) {\n",
       "        div.innerHTML = 'Visualization no longer in scope. Re-run this cell' +\n",
       "                        ' to see the visualization.';\n",
       "    } else if (res.ok) {\n",
       "        url = res.url;\n",
       "        div.innerHTML = '<iframe src=\\'' + url + '\\' style=\\'' +\n",
       "                        'width: 100%; height: 700px; border: 0;\\'>' +\n",
       "                        '</iframe><hr />Open in a: <a href=\\'' + url + '\\'' +\n",
       "                        ' target=\\'_blank\\'>new window</a>'\n",
       "    } else {\n",
       "        div.innerHTML = 'Something has gone wrong. Check notebook server for' +\n",
       "                        ' errors.';\n",
       "    }\n",
       "});\n",
       "})(this.parentElement, '/qiime2/redirect?location=/scratch/lfloerl/tmpdata/qiime2/lfloerl/data/dcc434d3-12d0-4edf-82f7-1d67738885cb')\" src=\"data:image/gif;base64,R0lGODlhAQABAIAAAP///wAAACH5BAEAAAAALAAAAAABAAEAAAICRAEAOw==\" /></div>"
      ],
      "text/plain": [
       "<visualization: Visualization uuid: dcc434d3-12d0-4edf-82f7-1d67738885cb>"
      ]
     },
     "execution_count": 28,
     "metadata": {},
     "output_type": "execute_result"
    }
   ],
   "source": [
    "Visualization.load('cm10000/alpha_groupSig_shannon_vector.qzv')"
   ]
  },
  {
   "cell_type": "markdown",
   "id": "1ab49ddc",
   "metadata": {},
   "source": [
    "### PERMANOVA thereof"
   ]
  },
  {
   "cell_type": "code",
   "execution_count": 31,
   "id": "b82cebdc",
   "metadata": {},
   "outputs": [
    {
     "name": "stdout",
     "output_type": "stream",
     "text": [
      "\u001b[32mSaved Visualization to: cm10000/adonis_bray_curtis.qzv\u001b[0m\n",
      "\u001b[0m\u001b[32mSaved Visualization to: cm10000/adonis_jaccard.qzv\u001b[0m\n",
      "\u001b[0m\u001b[32mSaved Visualization to: kmer_cm10000/adonis_bray_curtis.qzv\u001b[0m\n",
      "\u001b[0m\u001b[32mSaved Visualization to: kmer_cm10000/adonis_jaccard.qzv\u001b[0m\n",
      "\u001b[0m"
     ]
    }
   ],
   "source": [
    "formula='Altitude + Average_slope + Exposition'\n",
    "\n",
    "beta_metrics = ['bray_curtis', 'jaccard']\n",
    "\n",
    "# PERMANOVA with core metrics \n",
    "div_dir = 'cm10000'\n",
    "for m in beta_metrics:\n",
    "    !qiime diversity adonis \\\n",
    "        --i-distance-matrix \"{div_dir}/{m}_distance_matrix.qza\" \\\n",
    "        --m-metadata-file /home/lfloerl/microterroir/Microbiome/Metadata/ITS_Lavaux_Management.tsv \\\n",
    "        --p-formula \"{formula}\" \\\n",
    "        --p-n-jobs 5 \\\n",
    "        --o-visualization \"{div_dir}/adonis_{m}.qzv\"\n",
    "\n",
    "# PERMANOVA with kmer core metrics \n",
    "kmer_dir = 'kmer_cm10000'\n",
    "for m in beta_metrics:\n",
    "    !qiime diversity adonis \\\n",
    "        --i-distance-matrix \"{kmer_dir}/{m}_distance_matrix.qza\" \\\n",
    "        --m-metadata-file /home/lfloerl/microterroir/Microbiome/Metadata/ITS_Lavaux_Management.tsv \\\n",
    "        --p-formula \"{formula}\" \\\n",
    "        --p-n-jobs 5 \\\n",
    "        --o-visualization \"{kmer_dir}/adonis_{m}.qzv\""
   ]
  },
  {
   "cell_type": "code",
   "execution_count": 32,
   "id": "e5b7460e",
   "metadata": {
    "scrolled": true
   },
   "outputs": [
    {
     "data": {
      "text/html": [
       "<div><img onload=\"(function(div, url){\n",
       "if (typeof require !== 'undefined') {\n",
       "    var baseURL = require.toUrl('').split('/').slice(0, -2).join('/');\n",
       "} else {\n",
       "    var baseURL = JSON.parse(\n",
       "        document.getElementById('jupyter-config-data').innerHTML\n",
       "    ).baseUrl.slice(0, -1);\n",
       "}\n",
       "url = baseURL + url;\n",
       "fetch(url).then(function(res) {\n",
       "    if (res.status === 404) {\n",
       "        div.innerHTML = 'Install QIIME 2 Jupyter extension with:<br />' +\n",
       "                        '<code>jupyter server extension enable --py qiime2' +\n",
       "                        ' --sys-prefix</code><br />then restart your server.' +\n",
       "                        '<br /><br />(Interactive output not available on ' +\n",
       "                        'static notebook viewer services like nbviewer.)';\n",
       "    } else if (res.status === 409) {\n",
       "        div.innerHTML = 'Visualization no longer in scope. Re-run this cell' +\n",
       "                        ' to see the visualization.';\n",
       "    } else if (res.ok) {\n",
       "        url = res.url;\n",
       "        div.innerHTML = '<iframe src=\\'' + url + '\\' style=\\'' +\n",
       "                        'width: 100%; height: 700px; border: 0;\\'>' +\n",
       "                        '</iframe><hr />Open in a: <a href=\\'' + url + '\\'' +\n",
       "                        ' target=\\'_blank\\'>new window</a>'\n",
       "    } else {\n",
       "        div.innerHTML = 'Something has gone wrong. Check notebook server for' +\n",
       "                        ' errors.';\n",
       "    }\n",
       "});\n",
       "})(this.parentElement, '/qiime2/redirect?location=/scratch/lfloerl/tmpdata/qiime2/lfloerl/data/40bdafee-f68f-4da7-b71f-0a917a928028')\" src=\"data:image/gif;base64,R0lGODlhAQABAIAAAP///wAAACH5BAEAAAAALAAAAAABAAEAAAICRAEAOw==\" /></div>"
      ],
      "text/plain": [
       "<visualization: Visualization uuid: 40bdafee-f68f-4da7-b71f-0a917a928028>"
      ]
     },
     "execution_count": 32,
     "metadata": {},
     "output_type": "execute_result"
    }
   ],
   "source": [
    "Visualization.load('cm10000/adonis_bray_curtis.qzv')"
   ]
  },
  {
   "cell_type": "code",
   "execution_count": 33,
   "id": "ef588e27",
   "metadata": {
    "scrolled": true
   },
   "outputs": [
    {
     "data": {
      "text/html": [
       "<div><img onload=\"(function(div, url){\n",
       "if (typeof require !== 'undefined') {\n",
       "    var baseURL = require.toUrl('').split('/').slice(0, -2).join('/');\n",
       "} else {\n",
       "    var baseURL = JSON.parse(\n",
       "        document.getElementById('jupyter-config-data').innerHTML\n",
       "    ).baseUrl.slice(0, -1);\n",
       "}\n",
       "url = baseURL + url;\n",
       "fetch(url).then(function(res) {\n",
       "    if (res.status === 404) {\n",
       "        div.innerHTML = 'Install QIIME 2 Jupyter extension with:<br />' +\n",
       "                        '<code>jupyter server extension enable --py qiime2' +\n",
       "                        ' --sys-prefix</code><br />then restart your server.' +\n",
       "                        '<br /><br />(Interactive output not available on ' +\n",
       "                        'static notebook viewer services like nbviewer.)';\n",
       "    } else if (res.status === 409) {\n",
       "        div.innerHTML = 'Visualization no longer in scope. Re-run this cell' +\n",
       "                        ' to see the visualization.';\n",
       "    } else if (res.ok) {\n",
       "        url = res.url;\n",
       "        div.innerHTML = '<iframe src=\\'' + url + '\\' style=\\'' +\n",
       "                        'width: 100%; height: 700px; border: 0;\\'>' +\n",
       "                        '</iframe><hr />Open in a: <a href=\\'' + url + '\\'' +\n",
       "                        ' target=\\'_blank\\'>new window</a>'\n",
       "    } else {\n",
       "        div.innerHTML = 'Something has gone wrong. Check notebook server for' +\n",
       "                        ' errors.';\n",
       "    }\n",
       "});\n",
       "})(this.parentElement, '/qiime2/redirect?location=/scratch/lfloerl/tmpdata/qiime2/lfloerl/data/bfff2b86-0c83-4ccc-95c4-2e474386187f')\" src=\"data:image/gif;base64,R0lGODlhAQABAIAAAP///wAAACH5BAEAAAAALAAAAAABAAEAAAICRAEAOw==\" /></div>"
      ],
      "text/plain": [
       "<visualization: Visualization uuid: bfff2b86-0c83-4ccc-95c4-2e474386187f>"
      ]
     },
     "execution_count": 33,
     "metadata": {},
     "output_type": "execute_result"
    }
   ],
   "source": [
    "Visualization.load('cm10000/adonis_jaccard.qzv')"
   ]
  },
  {
   "cell_type": "code",
   "execution_count": 34,
   "id": "fe5a2b92",
   "metadata": {
    "scrolled": true
   },
   "outputs": [
    {
     "data": {
      "text/html": [
       "<div><img onload=\"(function(div, url){\n",
       "if (typeof require !== 'undefined') {\n",
       "    var baseURL = require.toUrl('').split('/').slice(0, -2).join('/');\n",
       "} else {\n",
       "    var baseURL = JSON.parse(\n",
       "        document.getElementById('jupyter-config-data').innerHTML\n",
       "    ).baseUrl.slice(0, -1);\n",
       "}\n",
       "url = baseURL + url;\n",
       "fetch(url).then(function(res) {\n",
       "    if (res.status === 404) {\n",
       "        div.innerHTML = 'Install QIIME 2 Jupyter extension with:<br />' +\n",
       "                        '<code>jupyter server extension enable --py qiime2' +\n",
       "                        ' --sys-prefix</code><br />then restart your server.' +\n",
       "                        '<br /><br />(Interactive output not available on ' +\n",
       "                        'static notebook viewer services like nbviewer.)';\n",
       "    } else if (res.status === 409) {\n",
       "        div.innerHTML = 'Visualization no longer in scope. Re-run this cell' +\n",
       "                        ' to see the visualization.';\n",
       "    } else if (res.ok) {\n",
       "        url = res.url;\n",
       "        div.innerHTML = '<iframe src=\\'' + url + '\\' style=\\'' +\n",
       "                        'width: 100%; height: 700px; border: 0;\\'>' +\n",
       "                        '</iframe><hr />Open in a: <a href=\\'' + url + '\\'' +\n",
       "                        ' target=\\'_blank\\'>new window</a>'\n",
       "    } else {\n",
       "        div.innerHTML = 'Something has gone wrong. Check notebook server for' +\n",
       "                        ' errors.';\n",
       "    }\n",
       "});\n",
       "})(this.parentElement, '/qiime2/redirect?location=/scratch/lfloerl/tmpdata/qiime2/lfloerl/data/d913d56e-3e73-441f-9645-d56c8f3c7afd')\" src=\"data:image/gif;base64,R0lGODlhAQABAIAAAP///wAAACH5BAEAAAAALAAAAAABAAEAAAICRAEAOw==\" /></div>"
      ],
      "text/plain": [
       "<visualization: Visualization uuid: d913d56e-3e73-441f-9645-d56c8f3c7afd>"
      ]
     },
     "execution_count": 34,
     "metadata": {},
     "output_type": "execute_result"
    }
   ],
   "source": [
    "Visualization.load('kmer_cm10000/adonis_bray_curtis.qzv')"
   ]
  },
  {
   "cell_type": "code",
   "execution_count": 35,
   "id": "3a6a5767",
   "metadata": {
    "scrolled": true
   },
   "outputs": [
    {
     "data": {
      "text/html": [
       "<div><img onload=\"(function(div, url){\n",
       "if (typeof require !== 'undefined') {\n",
       "    var baseURL = require.toUrl('').split('/').slice(0, -2).join('/');\n",
       "} else {\n",
       "    var baseURL = JSON.parse(\n",
       "        document.getElementById('jupyter-config-data').innerHTML\n",
       "    ).baseUrl.slice(0, -1);\n",
       "}\n",
       "url = baseURL + url;\n",
       "fetch(url).then(function(res) {\n",
       "    if (res.status === 404) {\n",
       "        div.innerHTML = 'Install QIIME 2 Jupyter extension with:<br />' +\n",
       "                        '<code>jupyter server extension enable --py qiime2' +\n",
       "                        ' --sys-prefix</code><br />then restart your server.' +\n",
       "                        '<br /><br />(Interactive output not available on ' +\n",
       "                        'static notebook viewer services like nbviewer.)';\n",
       "    } else if (res.status === 409) {\n",
       "        div.innerHTML = 'Visualization no longer in scope. Re-run this cell' +\n",
       "                        ' to see the visualization.';\n",
       "    } else if (res.ok) {\n",
       "        url = res.url;\n",
       "        div.innerHTML = '<iframe src=\\'' + url + '\\' style=\\'' +\n",
       "                        'width: 100%; height: 700px; border: 0;\\'>' +\n",
       "                        '</iframe><hr />Open in a: <a href=\\'' + url + '\\'' +\n",
       "                        ' target=\\'_blank\\'>new window</a>'\n",
       "    } else {\n",
       "        div.innerHTML = 'Something has gone wrong. Check notebook server for' +\n",
       "                        ' errors.';\n",
       "    }\n",
       "});\n",
       "})(this.parentElement, '/qiime2/redirect?location=/scratch/lfloerl/tmpdata/qiime2/lfloerl/data/cf18da7f-86e1-471b-9dc0-2fa24a0ee44a')\" src=\"data:image/gif;base64,R0lGODlhAQABAIAAAP///wAAACH5BAEAAAAALAAAAAABAAEAAAICRAEAOw==\" /></div>"
      ],
      "text/plain": [
       "<visualization: Visualization uuid: cf18da7f-86e1-471b-9dc0-2fa24a0ee44a>"
      ]
     },
     "execution_count": 35,
     "metadata": {},
     "output_type": "execute_result"
    }
   ],
   "source": [
    "Visualization.load('kmer_cm10000/adonis_jaccard.qzv')"
   ]
  }
 ],
 "metadata": {
  "kernelspec": {
   "display_name": "Python 3 (ipykernel)",
   "language": "python",
   "name": "python3"
  },
  "language_info": {
   "codemirror_mode": {
    "name": "ipython",
    "version": 3
   },
   "file_extension": ".py",
   "mimetype": "text/x-python",
   "name": "python",
   "nbconvert_exporter": "python",
   "pygments_lexer": "ipython3",
   "version": "3.10.14"
  }
 },
 "nbformat": 4,
 "nbformat_minor": 5
}
