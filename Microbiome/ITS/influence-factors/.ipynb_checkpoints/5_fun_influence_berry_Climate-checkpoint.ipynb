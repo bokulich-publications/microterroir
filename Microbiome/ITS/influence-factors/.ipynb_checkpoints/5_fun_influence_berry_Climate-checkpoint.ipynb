{
 "cells": [
  {
   "cell_type": "markdown",
   "id": "a8b92d8b",
   "metadata": {},
   "source": [
    "# 5. Influence factors: Climate on Berry Microbiome "
   ]
  },
  {
   "cell_type": "code",
   "execution_count": 1,
   "id": "abc52439",
   "metadata": {},
   "outputs": [],
   "source": [
    "#!mkdir /home/lfloerl/cloud/lfloerl/Microterroir/artifacts/ITS/lavaux/climate-berries"
   ]
  },
  {
   "cell_type": "code",
   "execution_count": 2,
   "id": "cd670efc",
   "metadata": {},
   "outputs": [
    {
     "name": "stdout",
     "output_type": "stream",
     "text": [
      "/home/lfloerl/cloud/lfloerl/Microterroir/artifacts/ITS/lavaux/climate-berries\n"
     ]
    }
   ],
   "source": [
    "workdir = '/home/lfloerl/cloud/lfloerl/Microterroir/artifacts/ITS/lavaux/climate-berries'\n",
    "%cd $workdir"
   ]
  },
  {
   "cell_type": "code",
   "execution_count": 3,
   "id": "413c885b",
   "metadata": {},
   "outputs": [
    {
     "name": "stdout",
     "output_type": "stream",
     "text": [
      "env: TMPDIR=/scratch/lfloerl/tmpdata\n"
     ]
    }
   ],
   "source": [
    "%env TMPDIR=/scratch/lfloerl/tmpdata"
   ]
  },
  {
   "cell_type": "code",
   "execution_count": 4,
   "id": "18e20f86",
   "metadata": {},
   "outputs": [],
   "source": [
    "from qiime2 import Visualization\n",
    "import qiime2 as q2\n",
    "from qiime2 import Visualization\n",
    "from qiime2 import Artifact\n",
    "from qiime2 import Metadata\n",
    "import os\n",
    "import pandas as pd\n",
    "import matplotlib.pyplot as plt\n",
    "import seaborn as sns\n",
    "from qiime2.plugins.diversity.visualizers import alpha_group_significance\n",
    "from qiime2.plugins.feature_table.methods import (filter_samples, filter_seqs)\n",
    "\n",
    "from sklearn.metrics import r2_score\n",
    "import numpy as np\n",
    "\n",
    "\n",
    "from qiime2.plugins import diversity as q2d\n",
    "\n",
    "%matplotlib inline"
   ]
  },
  {
   "cell_type": "code",
   "execution_count": 52,
   "id": "6611697d",
   "metadata": {},
   "outputs": [
    {
     "data": {
      "text/html": [
       "<div>\n",
       "<style scoped>\n",
       "    .dataframe tbody tr th:only-of-type {\n",
       "        vertical-align: middle;\n",
       "    }\n",
       "\n",
       "    .dataframe tbody tr th {\n",
       "        vertical-align: top;\n",
       "    }\n",
       "\n",
       "    .dataframe thead th {\n",
       "        text-align: right;\n",
       "    }\n",
       "</style>\n",
       "<table border=\"1\" class=\"dataframe\">\n",
       "  <thead>\n",
       "    <tr style=\"text-align: right;\">\n",
       "      <th></th>\n",
       "      <th>SAMPLE_NAME</th>\n",
       "      <th>sample_type</th>\n",
       "      <th>Plot_ID</th>\n",
       "      <th>COLLECTION_DATE</th>\n",
       "      <th>Year</th>\n",
       "      <th>Year_Cat</th>\n",
       "      <th>Fermentation_Timepoint</th>\n",
       "      <th>Plot</th>\n",
       "      <th>Altitude</th>\n",
       "      <th>Average_slope</th>\n",
       "      <th>...</th>\n",
       "      <th>maximum_rh</th>\n",
       "      <th>minimum_rh</th>\n",
       "      <th>cv_rh</th>\n",
       "      <th>GDD</th>\n",
       "      <th>average_temperature</th>\n",
       "      <th>median_temperature</th>\n",
       "      <th>maximum_temperature</th>\n",
       "      <th>minimum_temperature</th>\n",
       "      <th>accumulated_temperature</th>\n",
       "      <th>cv_temperature</th>\n",
       "    </tr>\n",
       "    <tr>\n",
       "      <th>id</th>\n",
       "      <th></th>\n",
       "      <th></th>\n",
       "      <th></th>\n",
       "      <th></th>\n",
       "      <th></th>\n",
       "      <th></th>\n",
       "      <th></th>\n",
       "      <th></th>\n",
       "      <th></th>\n",
       "      <th></th>\n",
       "      <th></th>\n",
       "      <th></th>\n",
       "      <th></th>\n",
       "      <th></th>\n",
       "      <th></th>\n",
       "      <th></th>\n",
       "      <th></th>\n",
       "      <th></th>\n",
       "      <th></th>\n",
       "      <th></th>\n",
       "      <th></th>\n",
       "    </tr>\n",
       "  </thead>\n",
       "  <tbody>\n",
       "    <tr>\n",
       "      <th>364526_290-LP3-ITS-0866</th>\n",
       "      <td>Lavaux_2021-08-31_bark_Plot4</td>\n",
       "      <td>bark</td>\n",
       "      <td>Lavaux_Plot_4</td>\n",
       "      <td>2021-08-31 00:00:00 +0200</td>\n",
       "      <td>2021.0</td>\n",
       "      <td>Year2021</td>\n",
       "      <td>NaN</td>\n",
       "      <td>4.0</td>\n",
       "      <td>450.0</td>\n",
       "      <td>30.0</td>\n",
       "      <td>...</td>\n",
       "      <td>99.036583</td>\n",
       "      <td>33.078261</td>\n",
       "      <td>16.567322</td>\n",
       "      <td>1325.721843</td>\n",
       "      <td>18.154261</td>\n",
       "      <td>18.650958</td>\n",
       "      <td>26.689636</td>\n",
       "      <td>8.401750</td>\n",
       "      <td>2940.990343</td>\n",
       "      <td>22.587667</td>\n",
       "    </tr>\n",
       "    <tr>\n",
       "      <th>364526_289-LP3-ITS-0865</th>\n",
       "      <td>Lavaux_2021-08-31_bark_Plot5</td>\n",
       "      <td>bark</td>\n",
       "      <td>Lavaux_Plot_5</td>\n",
       "      <td>2021-08-31 00:00:00 +0200</td>\n",
       "      <td>2021.0</td>\n",
       "      <td>Year2021</td>\n",
       "      <td>NaN</td>\n",
       "      <td>5.0</td>\n",
       "      <td>400.0</td>\n",
       "      <td>30.0</td>\n",
       "      <td>...</td>\n",
       "      <td>95.964333</td>\n",
       "      <td>32.830458</td>\n",
       "      <td>16.331714</td>\n",
       "      <td>1379.347141</td>\n",
       "      <td>18.494554</td>\n",
       "      <td>19.047366</td>\n",
       "      <td>26.351409</td>\n",
       "      <td>8.816375</td>\n",
       "      <td>2996.117777</td>\n",
       "      <td>22.104867</td>\n",
       "    </tr>\n",
       "    <tr>\n",
       "      <th>364526_285-LP3-ITS-0861</th>\n",
       "      <td>Lavaux_2021-08-31_bark_Plot9</td>\n",
       "      <td>bark</td>\n",
       "      <td>Lavaux_Plot_9</td>\n",
       "      <td>2021-08-31 00:00:00 +0200</td>\n",
       "      <td>2021.0</td>\n",
       "      <td>Year2021</td>\n",
       "      <td>NaN</td>\n",
       "      <td>9.0</td>\n",
       "      <td>520.0</td>\n",
       "      <td>35.0</td>\n",
       "      <td>...</td>\n",
       "      <td>98.181542</td>\n",
       "      <td>32.794125</td>\n",
       "      <td>16.570451</td>\n",
       "      <td>1286.254021</td>\n",
       "      <td>17.902585</td>\n",
       "      <td>18.256629</td>\n",
       "      <td>25.850773</td>\n",
       "      <td>8.052083</td>\n",
       "      <td>2900.218734</td>\n",
       "      <td>22.831881</td>\n",
       "    </tr>\n",
       "    <tr>\n",
       "      <th>364526_287-LP3-ITS-0863</th>\n",
       "      <td>Lavaux_2021-08-31_bark_Plot11</td>\n",
       "      <td>bark</td>\n",
       "      <td>Lavaux_Plot_11</td>\n",
       "      <td>2021-08-31 00:00:00 +0200</td>\n",
       "      <td>2021.0</td>\n",
       "      <td>Year2021</td>\n",
       "      <td>NaN</td>\n",
       "      <td>11.0</td>\n",
       "      <td>490.0</td>\n",
       "      <td>20.0</td>\n",
       "      <td>...</td>\n",
       "      <td>96.437167</td>\n",
       "      <td>32.357792</td>\n",
       "      <td>16.118351</td>\n",
       "      <td>1297.271087</td>\n",
       "      <td>17.964399</td>\n",
       "      <td>18.541438</td>\n",
       "      <td>26.775286</td>\n",
       "      <td>7.966542</td>\n",
       "      <td>2910.232671</td>\n",
       "      <td>23.246939</td>\n",
       "    </tr>\n",
       "    <tr>\n",
       "      <th>364526_282-LP3-ITS-0858</th>\n",
       "      <td>Lavaux_2021-08-31_bark_Plot12</td>\n",
       "      <td>bark</td>\n",
       "      <td>Lavaux_Plot_12</td>\n",
       "      <td>2021-08-31 00:00:00 +0200</td>\n",
       "      <td>2021.0</td>\n",
       "      <td>Year2021</td>\n",
       "      <td>NaN</td>\n",
       "      <td>12.0</td>\n",
       "      <td>520.0</td>\n",
       "      <td>15.0</td>\n",
       "      <td>...</td>\n",
       "      <td>97.113875</td>\n",
       "      <td>32.104636</td>\n",
       "      <td>16.661423</td>\n",
       "      <td>1286.822875</td>\n",
       "      <td>17.897069</td>\n",
       "      <td>18.244984</td>\n",
       "      <td>27.509143</td>\n",
       "      <td>7.779875</td>\n",
       "      <td>2899.325119</td>\n",
       "      <td>23.615955</td>\n",
       "    </tr>\n",
       "    <tr>\n",
       "      <th>...</th>\n",
       "      <td>...</td>\n",
       "      <td>...</td>\n",
       "      <td>...</td>\n",
       "      <td>...</td>\n",
       "      <td>...</td>\n",
       "      <td>...</td>\n",
       "      <td>...</td>\n",
       "      <td>...</td>\n",
       "      <td>...</td>\n",
       "      <td>...</td>\n",
       "      <td>...</td>\n",
       "      <td>...</td>\n",
       "      <td>...</td>\n",
       "      <td>...</td>\n",
       "      <td>...</td>\n",
       "      <td>...</td>\n",
       "      <td>...</td>\n",
       "      <td>...</td>\n",
       "      <td>...</td>\n",
       "      <td>...</td>\n",
       "      <td>...</td>\n",
       "    </tr>\n",
       "    <tr>\n",
       "      <th>364526_497-LP3-ITS-1073</th>\n",
       "      <td>Lavaux_2022-08-10_leaf_Plot11_washed</td>\n",
       "      <td>leaf</td>\n",
       "      <td>Lavaux_Plot_11</td>\n",
       "      <td>10.08.2022</td>\n",
       "      <td>2022.0</td>\n",
       "      <td>Year2022</td>\n",
       "      <td>NaN</td>\n",
       "      <td>11.0</td>\n",
       "      <td>490.0</td>\n",
       "      <td>20.0</td>\n",
       "      <td>...</td>\n",
       "      <td>NaN</td>\n",
       "      <td>NaN</td>\n",
       "      <td>NaN</td>\n",
       "      <td>NaN</td>\n",
       "      <td>NaN</td>\n",
       "      <td>NaN</td>\n",
       "      <td>NaN</td>\n",
       "      <td>NaN</td>\n",
       "      <td>NaN</td>\n",
       "      <td>NaN</td>\n",
       "    </tr>\n",
       "    <tr>\n",
       "      <th>364526_500-LP3-ITS-1076</th>\n",
       "      <td>Lavaux_2022-08-10_leaf_Plot13_washed</td>\n",
       "      <td>leaf</td>\n",
       "      <td>Lavaux_Plot_13</td>\n",
       "      <td>10.08.2022</td>\n",
       "      <td>2022.0</td>\n",
       "      <td>Year2022</td>\n",
       "      <td>NaN</td>\n",
       "      <td>13.0</td>\n",
       "      <td>580.0</td>\n",
       "      <td>30.0</td>\n",
       "      <td>...</td>\n",
       "      <td>91.051500</td>\n",
       "      <td>40.365391</td>\n",
       "      <td>18.779441</td>\n",
       "      <td>1667.574092</td>\n",
       "      <td>18.907507</td>\n",
       "      <td>20.375625</td>\n",
       "      <td>29.587261</td>\n",
       "      <td>0.558542</td>\n",
       "      <td>3441.166191</td>\n",
       "      <td>30.472148</td>\n",
       "    </tr>\n",
       "    <tr>\n",
       "      <th>364526_505-LP3-ITS-1081</th>\n",
       "      <td>Lavaux_2022-08-10_leaf_Plot9_washed</td>\n",
       "      <td>leaf</td>\n",
       "      <td>Lavaux_Plot_9</td>\n",
       "      <td>10.08.2022</td>\n",
       "      <td>2022.0</td>\n",
       "      <td>Year2022</td>\n",
       "      <td>NaN</td>\n",
       "      <td>9.0</td>\n",
       "      <td>520.0</td>\n",
       "      <td>35.0</td>\n",
       "      <td>...</td>\n",
       "      <td>95.741000</td>\n",
       "      <td>39.977136</td>\n",
       "      <td>19.630812</td>\n",
       "      <td>1742.827110</td>\n",
       "      <td>19.343256</td>\n",
       "      <td>20.624395</td>\n",
       "      <td>29.494636</td>\n",
       "      <td>1.002917</td>\n",
       "      <td>3520.472663</td>\n",
       "      <td>29.641663</td>\n",
       "    </tr>\n",
       "    <tr>\n",
       "      <th>364526_507-LP3-ITS-1083</th>\n",
       "      <td>Lavaux_2023-08-24_leaf_Plot4_washed</td>\n",
       "      <td>leaf</td>\n",
       "      <td>Lavaux_Plot_4</td>\n",
       "      <td>24.08.2023</td>\n",
       "      <td>2023.0</td>\n",
       "      <td>Year2023</td>\n",
       "      <td>NaN</td>\n",
       "      <td>4.0</td>\n",
       "      <td>450.0</td>\n",
       "      <td>30.0</td>\n",
       "      <td>...</td>\n",
       "      <td>NaN</td>\n",
       "      <td>NaN</td>\n",
       "      <td>NaN</td>\n",
       "      <td>NaN</td>\n",
       "      <td>NaN</td>\n",
       "      <td>NaN</td>\n",
       "      <td>NaN</td>\n",
       "      <td>NaN</td>\n",
       "      <td>NaN</td>\n",
       "      <td>NaN</td>\n",
       "    </tr>\n",
       "    <tr>\n",
       "      <th>364525_273-LP3-ITS-0273</th>\n",
       "      <td>Lavaux_2021-09-30_must_Plot5_Row6/Vine30_ID37</td>\n",
       "      <td>must</td>\n",
       "      <td>Lavaux_Plot_5</td>\n",
       "      <td>2021-09-30 00:00:00 +0200</td>\n",
       "      <td>2021.0</td>\n",
       "      <td>Year2021</td>\n",
       "      <td>0.0</td>\n",
       "      <td>5.0</td>\n",
       "      <td>400.0</td>\n",
       "      <td>30.0</td>\n",
       "      <td>...</td>\n",
       "      <td>95.964333</td>\n",
       "      <td>32.830458</td>\n",
       "      <td>16.331714</td>\n",
       "      <td>1379.347141</td>\n",
       "      <td>18.494554</td>\n",
       "      <td>19.047366</td>\n",
       "      <td>26.351409</td>\n",
       "      <td>8.816375</td>\n",
       "      <td>2996.117777</td>\n",
       "      <td>22.104867</td>\n",
       "    </tr>\n",
       "  </tbody>\n",
       "</table>\n",
       "<p>595 rows × 36 columns</p>\n",
       "</div>"
      ],
      "text/plain": [
       "                                                           SAMPLE_NAME  \\\n",
       "id                                                                       \n",
       "364526_290-LP3-ITS-0866                   Lavaux_2021-08-31_bark_Plot4   \n",
       "364526_289-LP3-ITS-0865                   Lavaux_2021-08-31_bark_Plot5   \n",
       "364526_285-LP3-ITS-0861                   Lavaux_2021-08-31_bark_Plot9   \n",
       "364526_287-LP3-ITS-0863                  Lavaux_2021-08-31_bark_Plot11   \n",
       "364526_282-LP3-ITS-0858                  Lavaux_2021-08-31_bark_Plot12   \n",
       "...                                                                ...   \n",
       "364526_497-LP3-ITS-1073           Lavaux_2022-08-10_leaf_Plot11_washed   \n",
       "364526_500-LP3-ITS-1076           Lavaux_2022-08-10_leaf_Plot13_washed   \n",
       "364526_505-LP3-ITS-1081            Lavaux_2022-08-10_leaf_Plot9_washed   \n",
       "364526_507-LP3-ITS-1083            Lavaux_2023-08-24_leaf_Plot4_washed   \n",
       "364525_273-LP3-ITS-0273  Lavaux_2021-09-30_must_Plot5_Row6/Vine30_ID37   \n",
       "\n",
       "                        sample_type         Plot_ID  \\\n",
       "id                                                    \n",
       "364526_290-LP3-ITS-0866        bark   Lavaux_Plot_4   \n",
       "364526_289-LP3-ITS-0865        bark   Lavaux_Plot_5   \n",
       "364526_285-LP3-ITS-0861        bark   Lavaux_Plot_9   \n",
       "364526_287-LP3-ITS-0863        bark  Lavaux_Plot_11   \n",
       "364526_282-LP3-ITS-0858        bark  Lavaux_Plot_12   \n",
       "...                             ...             ...   \n",
       "364526_497-LP3-ITS-1073        leaf  Lavaux_Plot_11   \n",
       "364526_500-LP3-ITS-1076        leaf  Lavaux_Plot_13   \n",
       "364526_505-LP3-ITS-1081        leaf   Lavaux_Plot_9   \n",
       "364526_507-LP3-ITS-1083        leaf   Lavaux_Plot_4   \n",
       "364525_273-LP3-ITS-0273        must   Lavaux_Plot_5   \n",
       "\n",
       "                                   COLLECTION_DATE    Year  Year_Cat  \\\n",
       "id                                                                     \n",
       "364526_290-LP3-ITS-0866  2021-08-31 00:00:00 +0200  2021.0  Year2021   \n",
       "364526_289-LP3-ITS-0865  2021-08-31 00:00:00 +0200  2021.0  Year2021   \n",
       "364526_285-LP3-ITS-0861  2021-08-31 00:00:00 +0200  2021.0  Year2021   \n",
       "364526_287-LP3-ITS-0863  2021-08-31 00:00:00 +0200  2021.0  Year2021   \n",
       "364526_282-LP3-ITS-0858  2021-08-31 00:00:00 +0200  2021.0  Year2021   \n",
       "...                                            ...     ...       ...   \n",
       "364526_497-LP3-ITS-1073                 10.08.2022  2022.0  Year2022   \n",
       "364526_500-LP3-ITS-1076                 10.08.2022  2022.0  Year2022   \n",
       "364526_505-LP3-ITS-1081                 10.08.2022  2022.0  Year2022   \n",
       "364526_507-LP3-ITS-1083                 24.08.2023  2023.0  Year2023   \n",
       "364525_273-LP3-ITS-0273  2021-09-30 00:00:00 +0200  2021.0  Year2021   \n",
       "\n",
       "                         Fermentation_Timepoint  Plot  Altitude  \\\n",
       "id                                                                \n",
       "364526_290-LP3-ITS-0866                     NaN   4.0     450.0   \n",
       "364526_289-LP3-ITS-0865                     NaN   5.0     400.0   \n",
       "364526_285-LP3-ITS-0861                     NaN   9.0     520.0   \n",
       "364526_287-LP3-ITS-0863                     NaN  11.0     490.0   \n",
       "364526_282-LP3-ITS-0858                     NaN  12.0     520.0   \n",
       "...                                         ...   ...       ...   \n",
       "364526_497-LP3-ITS-1073                     NaN  11.0     490.0   \n",
       "364526_500-LP3-ITS-1076                     NaN  13.0     580.0   \n",
       "364526_505-LP3-ITS-1081                     NaN   9.0     520.0   \n",
       "364526_507-LP3-ITS-1083                     NaN   4.0     450.0   \n",
       "364525_273-LP3-ITS-0273                     0.0   5.0     400.0   \n",
       "\n",
       "                         Average_slope  ... maximum_rh  minimum_rh      cv_rh  \\\n",
       "id                                      ...                                     \n",
       "364526_290-LP3-ITS-0866           30.0  ...  99.036583   33.078261  16.567322   \n",
       "364526_289-LP3-ITS-0865           30.0  ...  95.964333   32.830458  16.331714   \n",
       "364526_285-LP3-ITS-0861           35.0  ...  98.181542   32.794125  16.570451   \n",
       "364526_287-LP3-ITS-0863           20.0  ...  96.437167   32.357792  16.118351   \n",
       "364526_282-LP3-ITS-0858           15.0  ...  97.113875   32.104636  16.661423   \n",
       "...                                ...  ...        ...         ...        ...   \n",
       "364526_497-LP3-ITS-1073           20.0  ...        NaN         NaN        NaN   \n",
       "364526_500-LP3-ITS-1076           30.0  ...  91.051500   40.365391  18.779441   \n",
       "364526_505-LP3-ITS-1081           35.0  ...  95.741000   39.977136  19.630812   \n",
       "364526_507-LP3-ITS-1083           30.0  ...        NaN         NaN        NaN   \n",
       "364525_273-LP3-ITS-0273           30.0  ...  95.964333   32.830458  16.331714   \n",
       "\n",
       "                                 GDD average_temperature median_temperature  \\\n",
       "id                                                                            \n",
       "364526_290-LP3-ITS-0866  1325.721843           18.154261          18.650958   \n",
       "364526_289-LP3-ITS-0865  1379.347141           18.494554          19.047366   \n",
       "364526_285-LP3-ITS-0861  1286.254021           17.902585          18.256629   \n",
       "364526_287-LP3-ITS-0863  1297.271087           17.964399          18.541438   \n",
       "364526_282-LP3-ITS-0858  1286.822875           17.897069          18.244984   \n",
       "...                              ...                 ...                ...   \n",
       "364526_497-LP3-ITS-1073          NaN                 NaN                NaN   \n",
       "364526_500-LP3-ITS-1076  1667.574092           18.907507          20.375625   \n",
       "364526_505-LP3-ITS-1081  1742.827110           19.343256          20.624395   \n",
       "364526_507-LP3-ITS-1083          NaN                 NaN                NaN   \n",
       "364525_273-LP3-ITS-0273  1379.347141           18.494554          19.047366   \n",
       "\n",
       "                        maximum_temperature minimum_temperature  \\\n",
       "id                                                                \n",
       "364526_290-LP3-ITS-0866           26.689636            8.401750   \n",
       "364526_289-LP3-ITS-0865           26.351409            8.816375   \n",
       "364526_285-LP3-ITS-0861           25.850773            8.052083   \n",
       "364526_287-LP3-ITS-0863           26.775286            7.966542   \n",
       "364526_282-LP3-ITS-0858           27.509143            7.779875   \n",
       "...                                     ...                 ...   \n",
       "364526_497-LP3-ITS-1073                 NaN                 NaN   \n",
       "364526_500-LP3-ITS-1076           29.587261            0.558542   \n",
       "364526_505-LP3-ITS-1081           29.494636            1.002917   \n",
       "364526_507-LP3-ITS-1083                 NaN                 NaN   \n",
       "364525_273-LP3-ITS-0273           26.351409            8.816375   \n",
       "\n",
       "                         accumulated_temperature cv_temperature  \n",
       "id                                                               \n",
       "364526_290-LP3-ITS-0866              2940.990343      22.587667  \n",
       "364526_289-LP3-ITS-0865              2996.117777      22.104867  \n",
       "364526_285-LP3-ITS-0861              2900.218734      22.831881  \n",
       "364526_287-LP3-ITS-0863              2910.232671      23.246939  \n",
       "364526_282-LP3-ITS-0858              2899.325119      23.615955  \n",
       "...                                          ...            ...  \n",
       "364526_497-LP3-ITS-1073                      NaN            NaN  \n",
       "364526_500-LP3-ITS-1076              3441.166191      30.472148  \n",
       "364526_505-LP3-ITS-1081              3520.472663      29.641663  \n",
       "364526_507-LP3-ITS-1083                      NaN            NaN  \n",
       "364525_273-LP3-ITS-0273              2996.117777      22.104867  \n",
       "\n",
       "[595 rows x 36 columns]"
      ]
     },
     "execution_count": 52,
     "metadata": {},
     "output_type": "execute_result"
    }
   ],
   "source": [
    "md = Metadata.load('/home/lfloerl/microterroir/Microbiome/Metadata/ITS_Lavaux_Climate.tsv')\n",
    "md.to_dataframe()"
   ]
  },
  {
   "cell_type": "markdown",
   "id": "38153468",
   "metadata": {},
   "source": [
    "# Diversity"
   ]
  },
  {
   "cell_type": "code",
   "execution_count": 57,
   "id": "9cd3cc3f",
   "metadata": {},
   "outputs": [],
   "source": [
    "!rm -r cm10000 kmer_cm10000"
   ]
  },
  {
   "cell_type": "code",
   "execution_count": 58,
   "id": "7e9e1970",
   "metadata": {
    "scrolled": true
   },
   "outputs": [
    {
     "data": {
      "text/html": [
       "<div><img onload=\"(function(div, url){\n",
       "if (typeof require !== 'undefined') {\n",
       "    var baseURL = require.toUrl('').split('/').slice(0, -2).join('/');\n",
       "} else {\n",
       "    var baseURL = JSON.parse(\n",
       "        document.getElementById('jupyter-config-data').innerHTML\n",
       "    ).baseUrl.slice(0, -1);\n",
       "}\n",
       "url = baseURL + url;\n",
       "fetch(url).then(function(res) {\n",
       "    if (res.status === 404) {\n",
       "        div.innerHTML = 'Install QIIME 2 Jupyter extension with:<br />' +\n",
       "                        '<code>jupyter server extension enable --py qiime2' +\n",
       "                        ' --sys-prefix</code><br />then restart your server.' +\n",
       "                        '<br /><br />(Interactive output not available on ' +\n",
       "                        'static notebook viewer services like nbviewer.)';\n",
       "    } else if (res.status === 409) {\n",
       "        div.innerHTML = 'Visualization no longer in scope. Re-run this cell' +\n",
       "                        ' to see the visualization.';\n",
       "    } else if (res.ok) {\n",
       "        url = res.url;\n",
       "        div.innerHTML = '<iframe src=\\'' + url + '\\' style=\\'' +\n",
       "                        'width: 100%; height: 700px; border: 0;\\'>' +\n",
       "                        '</iframe><hr />Open in a: <a href=\\'' + url + '\\'' +\n",
       "                        ' target=\\'_blank\\'>new window</a>'\n",
       "    } else {\n",
       "        div.innerHTML = 'Something has gone wrong. Check notebook server for' +\n",
       "                        ' errors.';\n",
       "    }\n",
       "});\n",
       "})(this.parentElement, '/qiime2/redirect?location=/scratch/lfloerl/tmpdata/qiime2/lfloerl/data/3a3480e1-3ded-4aeb-9b61-6ce3afc75f11')\" src=\"data:image/gif;base64,R0lGODlhAQABAIAAAP///wAAACH5BAEAAAAALAAAAAABAAEAAAICRAEAOw==\" /></div>"
      ],
      "text/plain": [
       "<visualization: Visualization uuid: 3a3480e1-3ded-4aeb-9b61-6ce3afc75f11>"
      ]
     },
     "execution_count": 58,
     "metadata": {},
     "output_type": "execute_result"
    }
   ],
   "source": [
    "Visualization.load('/home/lfloerl/cloud/lfloerl/Microterroir/artifacts/ITS/lavaux/must_filtered_table.qzv')"
   ]
  },
  {
   "cell_type": "code",
   "execution_count": 59,
   "id": "866eb0ce",
   "metadata": {
    "scrolled": false
   },
   "outputs": [
    {
     "name": "stdout",
     "output_type": "stream",
     "text": [
      "Saved FeatureTable[Frequency] to: climate_filtered_table.qza\n",
      "Saved FeatureData[Sequence] to: climate_filtered_rep_seqs.qza\n",
      "Saved FeatureTable[Frequency] to: cm10000/rarefied_table.qza\n",
      "Saved SampleData[AlphaDiversity] to: cm10000/observed_features_vector.qza\n",
      "Saved SampleData[AlphaDiversity] to: cm10000/shannon_vector.qza\n",
      "Saved SampleData[AlphaDiversity] to: cm10000/evenness_vector.qza\n",
      "Saved DistanceMatrix to: cm10000/jaccard_distance_matrix.qza\n",
      "Saved DistanceMatrix to: cm10000/bray_curtis_distance_matrix.qza\n",
      "Saved PCoAResults to: cm10000/jaccard_pcoa_results.qza\n",
      "Saved PCoAResults to: cm10000/bray_curtis_pcoa_results.qza\n",
      "Saved Visualization to: cm10000/jaccard_emperor.qzv\n",
      "Saved Visualization to: cm10000/bray_curtis_emperor.qzv\n",
      "Saved FeatureTable[Frequency] to: kmer_cm10000/rarefied_table.qza\n",
      "Saved FeatureTable[Frequency] to: kmer_cm10000/kmer_table.qza\n",
      "Saved SampleData[AlphaDiversity] to: kmer_cm10000/observed_features_vector.qza\n",
      "Saved SampleData[AlphaDiversity] to: kmer_cm10000/shannon_vector.qza\n",
      "Saved DistanceMatrix to: kmer_cm10000/jaccard_distance_matrix.qza\n",
      "Saved DistanceMatrix to: kmer_cm10000/bray_curtis_distance_matrix.qza\n",
      "Saved PCoAResults to: kmer_cm10000/jaccard_pcoa_results.qza\n",
      "Saved PCoAResults to: kmer_cm10000/bray_curtis_pcoa_results.qza\n",
      "Saved Visualization to: kmer_cm10000/scatterplot.qzv\n"
     ]
    }
   ],
   "source": [
    "%%bash \n",
    "\n",
    "# subset to make sure that all samples have climate measurements\n",
    "qiime feature-table filter-samples \\\n",
    "      --i-table /home/lfloerl/cloud/lfloerl/Microterroir/artifacts/ITS/lavaux/must_filtered_table.qza \\\n",
    "      --m-metadata-file /home/lfloerl/microterroir/Microbiome/Metadata/ITS_Lavaux_Climate.tsv \\\n",
    "      --p-where \"[median_rh] IS NOT NULL AND [median_temperature] IS NOT NULL\" \\\n",
    "      --o-filtered-table climate_filtered_table.qza\n",
    "\n",
    "qiime feature-table filter-seqs \\\n",
    "        --i-data /home/lfloerl/cloud/lfloerl/Microterroir/artifacts/Sven-denoising-test/ITS/revcomp-trimmed-denoised/with-adjusted-parameters/ITS-revcomp-trimmed-ER-0.05-denoised-trunc-190-PFA-4.0-maxee-4.0-rep-seqs.qza \\\n",
    "        --i-table climate_filtered_table.qza \\\n",
    "        --o-filtered-data climate_filtered_rep_seqs.qza\n",
    "\n",
    "\n",
    "# Core diversity metrics\n",
    "qiime diversity core-metrics \\\n",
    "        --i-table climate_filtered_table.qza \\\n",
    "        --p-sampling-depth 10000 \\\n",
    "        --m-metadata-file /home/lfloerl/microterroir/Microbiome/Metadata/ITS_Lavaux_Climate.tsv \\\n",
    "        --p-n-jobs 5 \\\n",
    "        --output-dir cm10000/\n",
    "\n",
    "# Kmer diversity\n",
    "qiime kmerizer core-metrics \\\n",
    "    --i-sequences climate_filtered_rep_seqs.qza \\\n",
    "    --i-table climate_filtered_table.qza \\\n",
    "    --p-sampling-depth 10000 \\\n",
    "    --m-metadata-file /home/lfloerl/microterroir/Microbiome/Metadata/ITS_Lavaux_Climate.tsv \\\n",
    "    --p-n-jobs 'auto' \\\n",
    "    --output-dir kmer_cm10000/"
   ]
  },
  {
   "cell_type": "code",
   "execution_count": 21,
   "id": "70f29a93",
   "metadata": {
    "scrolled": true
   },
   "outputs": [
    {
     "data": {
      "text/html": [
       "<div><img onload=\"(function(div, url){\n",
       "if (typeof require !== 'undefined') {\n",
       "    var baseURL = require.toUrl('').split('/').slice(0, -2).join('/');\n",
       "} else {\n",
       "    var baseURL = JSON.parse(\n",
       "        document.getElementById('jupyter-config-data').innerHTML\n",
       "    ).baseUrl.slice(0, -1);\n",
       "}\n",
       "url = baseURL + url;\n",
       "fetch(url).then(function(res) {\n",
       "    if (res.status === 404) {\n",
       "        div.innerHTML = 'Install QIIME 2 Jupyter extension with:<br />' +\n",
       "                        '<code>jupyter server extension enable --py qiime2' +\n",
       "                        ' --sys-prefix</code><br />then restart your server.' +\n",
       "                        '<br /><br />(Interactive output not available on ' +\n",
       "                        'static notebook viewer services like nbviewer.)';\n",
       "    } else if (res.status === 409) {\n",
       "        div.innerHTML = 'Visualization no longer in scope. Re-run this cell' +\n",
       "                        ' to see the visualization.';\n",
       "    } else if (res.ok) {\n",
       "        url = res.url;\n",
       "        div.innerHTML = '<iframe src=\\'' + url + '\\' style=\\'' +\n",
       "                        'width: 100%; height: 700px; border: 0;\\'>' +\n",
       "                        '</iframe><hr />Open in a: <a href=\\'' + url + '\\'' +\n",
       "                        ' target=\\'_blank\\'>new window</a>'\n",
       "    } else {\n",
       "        div.innerHTML = 'Something has gone wrong. Check notebook server for' +\n",
       "                        ' errors.';\n",
       "    }\n",
       "});\n",
       "})(this.parentElement, '/qiime2/redirect?location=/scratch/lfloerl/tmpdata/qiime2/lfloerl/data/e3ec976c-bdf4-4523-b674-083ef2ab10ad')\" src=\"data:image/gif;base64,R0lGODlhAQABAIAAAP///wAAACH5BAEAAAAALAAAAAABAAEAAAICRAEAOw==\" /></div>"
      ],
      "text/plain": [
       "<visualization: Visualization uuid: e3ec976c-bdf4-4523-b674-083ef2ab10ad>"
      ]
     },
     "execution_count": 21,
     "metadata": {},
     "output_type": "execute_result"
    }
   ],
   "source": [
    "Visualization.load('cm10000/jaccard_emperor.qzv')"
   ]
  },
  {
   "cell_type": "markdown",
   "id": "4086cf18",
   "metadata": {},
   "source": [
    "# Mantel test with climate euclidian distance\n",
    "\n",
    "### 1. Median temperature & RH "
   ]
  },
  {
   "cell_type": "code",
   "execution_count": 37,
   "id": "8930627f",
   "metadata": {},
   "outputs": [
    {
     "name": "stdout",
     "output_type": "stream",
     "text": [
      "Exported cm10000/bray_curtis_distance_matrix.qza as DistanceMatrixDirectoryFormat to directory cm10000/bray_curtis_distance_matrix\n",
      "Exported cm10000/jaccard_distance_matrix.qza as DistanceMatrixDirectoryFormat to directory cm10000/jaccard_distance_matrix\n",
      "Exported kmer_cm10000/bray_curtis_distance_matrix.qza as DistanceMatrixDirectoryFormat to directory kmer_cm10000/bray_curtis_distance_matrix\n",
      "Exported kmer_cm10000/jaccard_distance_matrix.qza as DistanceMatrixDirectoryFormat to directory kmer_cm10000/jaccard_distance_matrix\n"
     ]
    }
   ],
   "source": [
    "%%bash \n",
    "\n",
    "div_dir='cm10000'\n",
    "kmer_dir='kmer_cm10000'\n",
    "\n",
    "# geodisic distance\n",
    "#qiime tools export --input-path /home/lfloerl/cloud/lfloerl/Microterroir/artifacts/ITS/ITS_euclidian_Temp_RH.qza --output-path ITS_euclidian_Temp_RH\n",
    "\n",
    "# distance matrices \n",
    "qiime tools export --input-path $div_dir/bray_curtis_distance_matrix.qza --output-path $div_dir/bray_curtis_distance_matrix\n",
    "qiime tools export --input-path $div_dir/jaccard_distance_matrix.qza --output-path $div_dir/jaccard_distance_matrix\n",
    "qiime tools export --input-path $kmer_dir/bray_curtis_distance_matrix.qza --output-path $kmer_dir/bray_curtis_distance_matrix\n",
    "qiime tools export --input-path $kmer_dir/jaccard_distance_matrix.qza --output-path $kmer_dir/jaccard_distance_matrix"
   ]
  },
  {
   "cell_type": "code",
   "execution_count": 39,
   "id": "ff5db945",
   "metadata": {},
   "outputs": [
    {
     "name": "stdout",
     "output_type": "stream",
     "text": [
      "                                      Test Mantel_statistic_r Significance\n",
      "1      cm10000-bray_curtis_distance_matrix        -0.05791837        0.972\n",
      "2          cm10000-jaccard_distance_matrix        -0.08927916        1.000\n",
      "3 kmer_cm10000-bray_curtis_distance_matrix         0.01611997        0.257\n",
      "4     kmer_cm10000-jaccard_distance_matrix         0.33150639        0.001\n"
     ]
    }
   ],
   "source": [
    "%%bash\n",
    "\n",
    "geodesic_path='ITS_euclidian_Temp_RH/distance-matrix.tsv'\n",
    "\n",
    "folder_path_1=\"cm10000\"\n",
    "folder_path_2=\"kmer_cm10000\"\n",
    "\n",
    "# Call the R script and pass folder paths and geodesic matrix\n",
    "Rscript /home/lfloerl/microterroir/Microbiome/Other_scripts/mantel_test.R \"$folder_path_1\" \"$folder_path_2\" \"$geodesic_path\""
   ]
  },
  {
   "cell_type": "code",
   "execution_count": 41,
   "id": "6b97c829",
   "metadata": {},
   "outputs": [
    {
     "data": {
      "text/html": [
       "<div>\n",
       "<style scoped>\n",
       "    .dataframe tbody tr th:only-of-type {\n",
       "        vertical-align: middle;\n",
       "    }\n",
       "\n",
       "    .dataframe tbody tr th {\n",
       "        vertical-align: top;\n",
       "    }\n",
       "\n",
       "    .dataframe thead th {\n",
       "        text-align: right;\n",
       "    }\n",
       "</style>\n",
       "<table border=\"1\" class=\"dataframe\">\n",
       "  <thead>\n",
       "    <tr style=\"text-align: right;\">\n",
       "      <th></th>\n",
       "      <th>Test</th>\n",
       "      <th>Mantel_statistic_r</th>\n",
       "      <th>Significance</th>\n",
       "    </tr>\n",
       "  </thead>\n",
       "  <tbody>\n",
       "    <tr>\n",
       "      <th>0</th>\n",
       "      <td>cm10000-bray_curtis_distance_matrix</td>\n",
       "      <td>-0.057918</td>\n",
       "      <td>0.972</td>\n",
       "    </tr>\n",
       "    <tr>\n",
       "      <th>1</th>\n",
       "      <td>cm10000-jaccard_distance_matrix</td>\n",
       "      <td>-0.089279</td>\n",
       "      <td>1.000</td>\n",
       "    </tr>\n",
       "    <tr>\n",
       "      <th>2</th>\n",
       "      <td>kmer_cm10000-bray_curtis_distance_matrix</td>\n",
       "      <td>0.016120</td>\n",
       "      <td>0.257</td>\n",
       "    </tr>\n",
       "    <tr>\n",
       "      <th>3</th>\n",
       "      <td>kmer_cm10000-jaccard_distance_matrix</td>\n",
       "      <td>0.331506</td>\n",
       "      <td>0.001</td>\n",
       "    </tr>\n",
       "  </tbody>\n",
       "</table>\n",
       "</div>"
      ],
      "text/plain": [
       "                                       Test  Mantel_statistic_r  Significance\n",
       "0       cm10000-bray_curtis_distance_matrix           -0.057918         0.972\n",
       "1           cm10000-jaccard_distance_matrix           -0.089279         1.000\n",
       "2  kmer_cm10000-bray_curtis_distance_matrix            0.016120         0.257\n",
       "3      kmer_cm10000-jaccard_distance_matrix            0.331506         0.001"
      ]
     },
     "execution_count": 41,
     "metadata": {},
     "output_type": "execute_result"
    }
   ],
   "source": [
    "mantel = pd.read_csv('kmer_cm10000/mantel_results.tsv', sep='\\t')\n",
    "mantel"
   ]
  },
  {
   "cell_type": "markdown",
   "id": "9fa9fef0",
   "metadata": {},
   "source": [
    "### 2. Median, min and max temperature "
   ]
  },
  {
   "cell_type": "code",
   "execution_count": 25,
   "id": "ca394f81",
   "metadata": {},
   "outputs": [
    {
     "name": "stdout",
     "output_type": "stream",
     "text": [
      "\u001b[32mExported /home/lfloerl/cloud/lfloerl/Microterroir/artifacts/ITS/ITS_euclidian_Temp.qza as DistanceMatrixDirectoryFormat to directory ITS_euclidian_Temp\u001b[0m\r\n",
      "\u001b[0m"
     ]
    }
   ],
   "source": [
    "# export temp dist \n",
    "!qiime tools export --input-path /home/lfloerl/cloud/lfloerl/Microterroir/artifacts/ITS/ITS_euclidian_Temp.qza --output-path ITS_euclidian_Temp"
   ]
  },
  {
   "cell_type": "code",
   "execution_count": 42,
   "id": "2ca36452",
   "metadata": {},
   "outputs": [
    {
     "name": "stdout",
     "output_type": "stream",
     "text": [
      "                                      Test Mantel_statistic_r Significance\n",
      "1      cm10000-bray_curtis_distance_matrix        -0.02823783        0.809\n",
      "2          cm10000-jaccard_distance_matrix        -0.09626193        1.000\n",
      "3 kmer_cm10000-bray_curtis_distance_matrix         0.05166130        0.044\n",
      "4     kmer_cm10000-jaccard_distance_matrix         0.34475694        0.001\n"
     ]
    }
   ],
   "source": [
    "%%bash\n",
    "\n",
    "geodesic_path='ITS_euclidian_Temp/distance-matrix.tsv'\n",
    "\n",
    "folder_path_1=\"cm10000\"\n",
    "folder_path_2=\"kmer_cm10000\"\n",
    "\n",
    "# Call the R script and pass folder paths and geodesic matrix\n",
    "Rscript /home/lfloerl/microterroir/Microbiome/Other_scripts/mantel_test.R \"$folder_path_1\" \"$folder_path_2\" \"$geodesic_path\""
   ]
  },
  {
   "cell_type": "code",
   "execution_count": 43,
   "id": "54097b78",
   "metadata": {},
   "outputs": [
    {
     "data": {
      "text/html": [
       "<div>\n",
       "<style scoped>\n",
       "    .dataframe tbody tr th:only-of-type {\n",
       "        vertical-align: middle;\n",
       "    }\n",
       "\n",
       "    .dataframe tbody tr th {\n",
       "        vertical-align: top;\n",
       "    }\n",
       "\n",
       "    .dataframe thead th {\n",
       "        text-align: right;\n",
       "    }\n",
       "</style>\n",
       "<table border=\"1\" class=\"dataframe\">\n",
       "  <thead>\n",
       "    <tr style=\"text-align: right;\">\n",
       "      <th></th>\n",
       "      <th>Test</th>\n",
       "      <th>Mantel_statistic_r</th>\n",
       "      <th>Significance</th>\n",
       "    </tr>\n",
       "  </thead>\n",
       "  <tbody>\n",
       "    <tr>\n",
       "      <th>0</th>\n",
       "      <td>cm10000-bray_curtis_distance_matrix</td>\n",
       "      <td>-0.028238</td>\n",
       "      <td>0.809</td>\n",
       "    </tr>\n",
       "    <tr>\n",
       "      <th>1</th>\n",
       "      <td>cm10000-jaccard_distance_matrix</td>\n",
       "      <td>-0.096262</td>\n",
       "      <td>1.000</td>\n",
       "    </tr>\n",
       "    <tr>\n",
       "      <th>2</th>\n",
       "      <td>kmer_cm10000-bray_curtis_distance_matrix</td>\n",
       "      <td>0.051661</td>\n",
       "      <td>0.044</td>\n",
       "    </tr>\n",
       "    <tr>\n",
       "      <th>3</th>\n",
       "      <td>kmer_cm10000-jaccard_distance_matrix</td>\n",
       "      <td>0.344757</td>\n",
       "      <td>0.001</td>\n",
       "    </tr>\n",
       "  </tbody>\n",
       "</table>\n",
       "</div>"
      ],
      "text/plain": [
       "                                       Test  Mantel_statistic_r  Significance\n",
       "0       cm10000-bray_curtis_distance_matrix           -0.028238         0.809\n",
       "1           cm10000-jaccard_distance_matrix           -0.096262         1.000\n",
       "2  kmer_cm10000-bray_curtis_distance_matrix            0.051661         0.044\n",
       "3      kmer_cm10000-jaccard_distance_matrix            0.344757         0.001"
      ]
     },
     "execution_count": 43,
     "metadata": {},
     "output_type": "execute_result"
    }
   ],
   "source": [
    "mantel = pd.read_csv('kmer_cm10000/mantel_results.tsv', sep='\\t')\n",
    "mantel"
   ]
  },
  {
   "cell_type": "markdown",
   "id": "e4632fbc",
   "metadata": {},
   "source": [
    "### 3. Median, min and max RH "
   ]
  },
  {
   "cell_type": "code",
   "execution_count": 44,
   "id": "57433034",
   "metadata": {},
   "outputs": [
    {
     "name": "stdout",
     "output_type": "stream",
     "text": [
      "\u001b[32mExported /home/lfloerl/cloud/lfloerl/Microterroir/artifacts/ITS/ITS_euclidian_RH.qza as DistanceMatrixDirectoryFormat to directory ITS_euclidian_RH\u001b[0m\r\n",
      "\u001b[0m"
     ]
    }
   ],
   "source": [
    "# export RH dist \n",
    "!qiime tools export --input-path /home/lfloerl/cloud/lfloerl/Microterroir/artifacts/ITS/ITS_euclidian_RH.qza --output-path ITS_euclidian_RH"
   ]
  },
  {
   "cell_type": "code",
   "execution_count": 45,
   "id": "9664d38c",
   "metadata": {},
   "outputs": [
    {
     "name": "stdout",
     "output_type": "stream",
     "text": [
      "                                      Test Mantel_statistic_r Significance\n",
      "1      cm10000-bray_curtis_distance_matrix        -0.06011606        0.981\n",
      "2          cm10000-jaccard_distance_matrix        -0.11124819        1.000\n",
      "3 kmer_cm10000-bray_curtis_distance_matrix         0.01707299        0.288\n",
      "4     kmer_cm10000-jaccard_distance_matrix         0.32267349        0.001\n"
     ]
    }
   ],
   "source": [
    "%%bash\n",
    "\n",
    "geodesic_path='ITS_euclidian_RH/distance-matrix.tsv'\n",
    "\n",
    "folder_path_1=\"cm10000\"\n",
    "folder_path_2=\"kmer_cm10000\"\n",
    "\n",
    "# Call the R script and pass folder paths and geodesic matrix\n",
    "Rscript /home/lfloerl/microterroir/Microbiome/Other_scripts/mantel_test.R \"$folder_path_1\" \"$folder_path_2\" \"$geodesic_path\""
   ]
  },
  {
   "cell_type": "code",
   "execution_count": 46,
   "id": "89254f5d",
   "metadata": {},
   "outputs": [
    {
     "data": {
      "text/html": [
       "<div>\n",
       "<style scoped>\n",
       "    .dataframe tbody tr th:only-of-type {\n",
       "        vertical-align: middle;\n",
       "    }\n",
       "\n",
       "    .dataframe tbody tr th {\n",
       "        vertical-align: top;\n",
       "    }\n",
       "\n",
       "    .dataframe thead th {\n",
       "        text-align: right;\n",
       "    }\n",
       "</style>\n",
       "<table border=\"1\" class=\"dataframe\">\n",
       "  <thead>\n",
       "    <tr style=\"text-align: right;\">\n",
       "      <th></th>\n",
       "      <th>Test</th>\n",
       "      <th>Mantel_statistic_r</th>\n",
       "      <th>Significance</th>\n",
       "    </tr>\n",
       "  </thead>\n",
       "  <tbody>\n",
       "    <tr>\n",
       "      <th>0</th>\n",
       "      <td>cm10000-bray_curtis_distance_matrix</td>\n",
       "      <td>-0.060116</td>\n",
       "      <td>0.981</td>\n",
       "    </tr>\n",
       "    <tr>\n",
       "      <th>1</th>\n",
       "      <td>cm10000-jaccard_distance_matrix</td>\n",
       "      <td>-0.111248</td>\n",
       "      <td>1.000</td>\n",
       "    </tr>\n",
       "    <tr>\n",
       "      <th>2</th>\n",
       "      <td>kmer_cm10000-bray_curtis_distance_matrix</td>\n",
       "      <td>0.017073</td>\n",
       "      <td>0.288</td>\n",
       "    </tr>\n",
       "    <tr>\n",
       "      <th>3</th>\n",
       "      <td>kmer_cm10000-jaccard_distance_matrix</td>\n",
       "      <td>0.322673</td>\n",
       "      <td>0.001</td>\n",
       "    </tr>\n",
       "  </tbody>\n",
       "</table>\n",
       "</div>"
      ],
      "text/plain": [
       "                                       Test  Mantel_statistic_r  Significance\n",
       "0       cm10000-bray_curtis_distance_matrix           -0.060116         0.981\n",
       "1           cm10000-jaccard_distance_matrix           -0.111248         1.000\n",
       "2  kmer_cm10000-bray_curtis_distance_matrix            0.017073         0.288\n",
       "3      kmer_cm10000-jaccard_distance_matrix            0.322673         0.001"
      ]
     },
     "execution_count": 46,
     "metadata": {},
     "output_type": "execute_result"
    }
   ],
   "source": [
    "mantel = pd.read_csv('kmer_cm10000/mantel_results.tsv', sep='\\t')\n",
    "mantel"
   ]
  },
  {
   "cell_type": "markdown",
   "id": "055e22fd",
   "metadata": {},
   "source": [
    "# Nicer visualisations! "
   ]
  },
  {
   "cell_type": "code",
   "execution_count": 47,
   "id": "61aef984",
   "metadata": {},
   "outputs": [
    {
     "name": "stdout",
     "output_type": "stream",
     "text": [
      "\u001b[32mExported cm10000/jaccard_pcoa_results.qza as OrdinationDirectoryFormat to directory cm10000/jaccard_pcoa_results\u001b[0m\n",
      "\u001b[0m\u001b[32mExported cm10000/bray_curtis_pcoa_results.qza as OrdinationDirectoryFormat to directory cm10000/bray_curtis_pcoa_results\u001b[0m\n",
      "\u001b[0m\u001b[32mExported kmer_cm10000/jaccard_pcoa_results.qza as OrdinationDirectoryFormat to directory kmer_cm10000/jaccard_pcoa_results\u001b[0m\n",
      "\u001b[0m\u001b[32mExported kmer_cm10000/bray_curtis_pcoa_results.qza as OrdinationDirectoryFormat to directory kmer_cm10000/bray_curtis_pcoa_results\u001b[0m\n",
      "\u001b[0m"
     ]
    }
   ],
   "source": [
    "!qiime tools export --input-path cm10000/jaccard_pcoa_results.qza --output-path cm10000/jaccard_pcoa_results\n",
    "!qiime tools export --input-path cm10000/bray_curtis_pcoa_results.qza --output-path cm10000/bray_curtis_pcoa_results\n",
    "!qiime tools export --input-path kmer_cm10000/jaccard_pcoa_results.qza --output-path kmer_cm10000/jaccard_pcoa_results\n",
    "!qiime tools export --input-path kmer_cm10000/bray_curtis_pcoa_results.qza --output-path kmer_cm10000/bray_curtis_pcoa_results"
   ]
  },
  {
   "cell_type": "code",
   "execution_count": 48,
   "id": "2422a2d8",
   "metadata": {},
   "outputs": [],
   "source": [
    "# reimport \n",
    "bc_pcoa = pd.read_csv('cm10000/bray_curtis_pcoa_results/ordination.txt', sep='\\t', skiprows=9, header=None)\n",
    "jaccard_pcoa = pd.read_csv('cm10000/jaccard_pcoa_results/ordination.txt', sep='\\t', skiprows=9, header=None)\n",
    "bc_kmer_pcoa = pd.read_csv('kmer_cm10000/bray_curtis_pcoa_results/ordination.txt', sep='\\t', skiprows=9, header=None)\n",
    "jaccard__kmer_pcoa = pd.read_csv('kmer_cm10000/jaccard_pcoa_results/ordination.txt', sep='\\t', skiprows=9, header=None)\n",
    "\n",
    "\n",
    "# function to get components \n",
    "def select_components(df):\n",
    "    # Drop the last 2 rows\n",
    "    df = df.iloc[:-2]\n",
    "    # Select specific columns\n",
    "    df = df.iloc[:, [0, 1, 2]]\n",
    "    # Rename columns and set index\n",
    "    df = df.rename(columns={0: 'ID', 1: 'PC1', 2: 'PC2'}).set_index('ID')\n",
    "    return df\n",
    "\n",
    "bc_pcoa_df = select_components(bc_pcoa)\n",
    "jaccard_pcoa_df = select_components(jaccard_pcoa)\n",
    "bc_pcoa_kmer_df = select_components(bc_kmer_pcoa)\n",
    "jaccard_pcoa_kmer_df = select_components(jaccard__kmer_pcoa)"
   ]
  },
  {
   "cell_type": "code",
   "execution_count": 49,
   "id": "e947b9fd",
   "metadata": {},
   "outputs": [],
   "source": [
    "md = pd.read_csv('/home/lfloerl/microterroir/Microbiome/Metadata/ITS_Lavaux_Climate.tsv', sep='\\t', index_col=0)\n",
    "\n",
    "# merge with metadata\n",
    "bc_pcoa_df_merged = bc_pcoa_df.merge(md, left_on='ID', right_on='id', how='left')\n",
    "jaccard_pcoa_df_merged = jaccard_pcoa_df.merge(md, left_on='ID', right_on='id', how='left')\n",
    "bc_pcoa_kmer_df_merged = bc_pcoa_kmer_df.merge(md, left_on='ID', right_on='id', how='left')\n",
    "jaccard_pcoa_kmer_df_merged = jaccard_pcoa_kmer_df.merge(md, left_on='ID', right_on='id', how='left')"
   ]
  },
  {
   "cell_type": "code",
   "execution_count": 81,
   "id": "071a5571",
   "metadata": {},
   "outputs": [
    {
     "data": {
      "image/png": "[encoded data removed]",
      "text/plain": [
       "<Figure size 300x300 with 1 Axes>"
      ]
     },
     "metadata": {},
     "output_type": "display_data"
    }
   ],
   "source": [
    "plt.figure(figsize=(3, 3)) \n",
    "\n",
    "# Define marker styles for each year\n",
    "marker_styles = {2021: 'o', 2022: '^', 2023: 's'}\n",
    "\n",
    "sns.scatterplot(\n",
    "    x='PC1', y='PC2',\n",
    "    data=jaccard_pcoa_df_merged,\n",
    "    hue='median_rh',\n",
    "    palette='Blues',\n",
    "    style='Year',  # Map 'Year' to marker styles\n",
    "    markers=marker_styles,  # Assign specific markers\n",
    "    s=60, edgecolor='none', alpha=0.8, legend=False)\n",
    "\n",
    "plt.savefig('/home/lfloerl/cloud/lfloerl/Microterroir/Figures/PCoA_RH_Jaccard.png', dpi=1000, bbox_inches='tight')\n",
    "\n",
    "plt.show()"
   ]
  },
  {
   "cell_type": "code",
   "execution_count": 82,
   "id": "a2416794",
   "metadata": {},
   "outputs": [
    {
     "data": {
      "image/png": "[encoded data removed]",
      "text/plain": [
       "<Figure size 300x300 with 1 Axes>"
      ]
     },
     "metadata": {},
     "output_type": "display_data"
    }
   ],
   "source": [
    "plt.figure(figsize=(3, 3)) \n",
    "\n",
    "# Define marker styles for each year\n",
    "marker_styles = {2021: 'o', 2022: '^', 2023: 's'}\n",
    "\n",
    "sns.scatterplot(\n",
    "    x='PC1', y='PC2',\n",
    "    data=jaccard_pcoa_kmer_df_merged,\n",
    "    hue='median_rh',\n",
    "    palette='Blues',\n",
    "    style='Year',  # Map 'Year' to marker styles\n",
    "    markers=marker_styles,  # Assign specific markers\n",
    "    s=60, edgecolor='none', alpha=0.8, legend=False)\n",
    "\n",
    "plt.savefig('/home/lfloerl/cloud/lfloerl/Microterroir/Figures/PCoA_RH_Jaccardkmer.png', dpi=1000, bbox_inches='tight')\n",
    "\n",
    "plt.show()"
   ]
  },
  {
   "cell_type": "code",
   "execution_count": 83,
   "id": "4e7fb1ec",
   "metadata": {},
   "outputs": [
    {
     "data": {
      "image/png": "[encoded data removed]",
      "text/plain": [
       "<Figure size 300x300 with 1 Axes>"
      ]
     },
     "metadata": {},
     "output_type": "display_data"
    }
   ],
   "source": [
    "plt.figure(figsize=(3, 3)) \n",
    "\n",
    "# Define marker styles for each year\n",
    "marker_styles = {2021: 'o', 2022: '^', 2023: 's'}\n",
    "\n",
    "sns.scatterplot(\n",
    "    x='PC1', y='PC2',\n",
    "    data=bc_pcoa_df_merged,\n",
    "    hue='median_rh',\n",
    "    palette='Blues',\n",
    "    style='Year',  # Map 'Year' to marker styles\n",
    "    markers=marker_styles,  # Assign specific markers\n",
    "    s=60, edgecolor='none', alpha=0.8, legend=False)\n",
    "\n",
    "plt.savefig('/home/lfloerl/cloud/lfloerl/Microterroir/Figures/PCoA_RH_BC.png', dpi=1000, bbox_inches='tight')\n",
    "\n",
    "plt.show()"
   ]
  },
  {
   "cell_type": "code",
   "execution_count": 95,
   "id": "cab953b4",
   "metadata": {},
   "outputs": [
    {
     "data": {
      "image/png": "[encoded data removed]",
      "text/plain": [
       "<Figure size 370x300 with 1 Axes>"
      ]
     },
     "metadata": {},
     "output_type": "display_data"
    }
   ],
   "source": [
    "plt.figure(figsize=(3.7, 3))  # Increase figure width to fit legend\n",
    "\n",
    "# Define marker styles for each year\n",
    "marker_styles = {2021: 'o', 2022: '^', 2023: 's'}\n",
    "\n",
    "ax = plt.gca()\n",
    "\n",
    "sns.scatterplot(\n",
    "    x='PC1', y='PC2',\n",
    "    data=bc_pcoa_kmer_df_merged,\n",
    "    hue='median_rh',\n",
    "    palette='Blues',\n",
    "    style='Year',  # Map 'Year' to marker styles\n",
    "    markers=marker_styles,  # Assign specific markers\n",
    "    s=60, edgecolor='none', alpha=0.8, legend=True)\n",
    "\n",
    "# Adjust plot position to make space for the legend\n",
    "box = ax.get_position()\n",
    "ax.set_position([box.x0, box.y0, box.width * 0.8, box.height])  # Shrink plot width\n",
    "\n",
    "# Place the legend outside\n",
    "ax.legend(loc='center left', bbox_to_anchor=(1, 0.5))\n",
    "\n",
    "plt.savefig('/home/lfloerl/cloud/lfloerl/Microterroir/Figures/PCoA_RH_BCkmer.png', dpi=1000, bbox_inches='tight')\n",
    "\n",
    "plt.show()"
   ]
  },
  {
   "cell_type": "code",
   "execution_count": 85,
   "id": "30927e2f",
   "metadata": {},
   "outputs": [
    {
     "data": {
      "image/png": "[encoded data removed]",
      "text/plain": [
       "<Figure size 300x300 with 1 Axes>"
      ]
     },
     "metadata": {},
     "output_type": "display_data"
    }
   ],
   "source": [
    "plt.figure(figsize=(3, 3)) \n",
    "\n",
    "# Define marker styles for each year\n",
    "marker_styles = {2021: 'o', 2022: '^', 2023: 's'}\n",
    "\n",
    "sns.scatterplot(\n",
    "    x='PC1', y='PC2',\n",
    "    data=jaccard_pcoa_df_merged,\n",
    "    hue='median_temperature',\n",
    "    palette='Purples',\n",
    "    style='Year',  # Map 'Year' to marker styles\n",
    "    markers=marker_styles,  # Assign specific markers\n",
    "    s=60, edgecolor='none', alpha=0.8, legend=False)\n",
    "\n",
    "plt.savefig('/home/lfloerl/cloud/lfloerl/Microterroir/Figures/PCoA_Temp_Jaccard.png', dpi=1000, bbox_inches='tight')\n",
    "\n",
    "plt.show()"
   ]
  },
  {
   "cell_type": "code",
   "execution_count": 86,
   "id": "8c7551e6",
   "metadata": {},
   "outputs": [
    {
     "data": {
      "image/png": "[encoded data removed]",
      "text/plain": [
       "<Figure size 300x300 with 1 Axes>"
      ]
     },
     "metadata": {},
     "output_type": "display_data"
    }
   ],
   "source": [
    "plt.figure(figsize=(3, 3)) \n",
    "\n",
    "# Define marker styles for each year\n",
    "marker_styles = {2021: 'o', 2022: '^', 2023: 's'}\n",
    "\n",
    "sns.scatterplot(\n",
    "    x='PC1', y='PC2',\n",
    "    data=jaccard_pcoa_kmer_df_merged,\n",
    "    hue='median_temperature',\n",
    "    palette='Purples',\n",
    "    style='Year',  # Map 'Year' to marker styles\n",
    "    markers=marker_styles,  # Assign specific markers\n",
    "    s=60, edgecolor='none', alpha=0.8, legend=False)\n",
    "\n",
    "plt.savefig('/home/lfloerl/cloud/lfloerl/Microterroir/Figures/PCoA_Temp_Jaccardkmer.png', dpi=1000, bbox_inches='tight')\n",
    "\n",
    "plt.show()"
   ]
  },
  {
   "cell_type": "code",
   "execution_count": 87,
   "id": "9c21b6f1",
   "metadata": {},
   "outputs": [
    {
     "data": {
      "image/png": "[encoded data removed]",
      "text/plain": [
       "<Figure size 300x300 with 1 Axes>"
      ]
     },
     "metadata": {},
     "output_type": "display_data"
    }
   ],
   "source": [
    "plt.figure(figsize=(3, 3)) \n",
    "\n",
    "# Define marker styles for each year\n",
    "marker_styles = {2021: 'o', 2022: '^', 2023: 's'}\n",
    "\n",
    "sns.scatterplot(\n",
    "    x='PC1', y='PC2',\n",
    "    data=bc_pcoa_df_merged,\n",
    "    hue='median_temperature',\n",
    "    palette='Purples',\n",
    "    style='Year',  # Map 'Year' to marker styles\n",
    "    markers=marker_styles,  # Assign specific markers\n",
    "    s=60, edgecolor='none', alpha=0.8, legend=False)\n",
    "\n",
    "plt.savefig('/home/lfloerl/cloud/lfloerl/Microterroir/Figures/PCoA_Temp_BC.png', dpi=1000, bbox_inches='tight')\n",
    "\n",
    "plt.show()"
   ]
  },
  {
   "cell_type": "code",
   "execution_count": 93,
   "id": "6de36754",
   "metadata": {},
   "outputs": [
    {
     "data": {
      "image/png": "[encoded data removed]",
      "text/plain": [
       "<Figure size 370x300 with 1 Axes>"
      ]
     },
     "metadata": {},
     "output_type": "display_data"
    }
   ],
   "source": [
    "plt.figure(figsize=(3.7, 3))  # Increase figure width to fit legend\n",
    "\n",
    "# Define marker styles for each year\n",
    "marker_styles = {2021: 'o', 2022: '^', 2023: 's'}\n",
    "\n",
    "ax = plt.gca()\n",
    "\n",
    "sns.scatterplot(\n",
    "    x='PC1', y='PC2',\n",
    "    data=bc_pcoa_kmer_df_merged,\n",
    "    hue='median_temperature',\n",
    "    palette='Purples',\n",
    "    style='Year',  # Map 'Year' to marker styles\n",
    "    markers=marker_styles,  # Assign specific markers\n",
    "    s=60, edgecolor='none', alpha=0.8, legend=True)\n",
    "\n",
    "# Adjust plot position to make space for the legend\n",
    "box = ax.get_position()\n",
    "ax.set_position([box.x0, box.y0, box.width * 0.8, box.height])  # Shrink plot width\n",
    "\n",
    "# Place the legend outside\n",
    "ax.legend(loc='center left', bbox_to_anchor=(1, 0.5))\n",
    "\n",
    "\n",
    "plt.savefig('/home/lfloerl/cloud/lfloerl/Microterroir/Figures/PCoA_Temp_BCkmer.png', dpi=1000, bbox_inches='tight')\n",
    "\n",
    "plt.show()"
   ]
  },
  {
   "cell_type": "code",
   "execution_count": null,
   "id": "58d99f2c",
   "metadata": {},
   "outputs": [],
   "source": []
  },
  {
   "cell_type": "markdown",
   "id": "f221d63c",
   "metadata": {},
   "source": [
    "# PERMANOVA"
   ]
  },
  {
   "cell_type": "code",
   "execution_count": 56,
   "id": "d7fb4421",
   "metadata": {},
   "outputs": [
    {
     "data": {
      "text/plain": [
       "Index(['SAMPLE_NAME', 'sample_type', 'Plot_ID', 'COLLECTION_DATE', 'Year',\n",
       "       'Year_Cat', 'Fermentation_Timepoint', 'Plot', 'Altitude',\n",
       "       'Average_slope', 'Exposition', 'Min_radiation', 'Max_radiation',\n",
       "       'Average_radiation', 'Soil_thickness', 'Soil_type', 'Soil_depth',\n",
       "       'Hydromorphie', 'Hydromorphie_code', 'Geology', 'Quadrant', 'Cluster',\n",
       "       'Plot_PCA_kMeans_Cluster', 'Unnamed: 0', 'average_rh', 'median_rh',\n",
       "       'maximum_rh', 'minimum_rh', 'cv_rh', 'GDD', 'average_temperature',\n",
       "       'median_temperature', 'maximum_temperature', 'minimum_temperature',\n",
       "       'accumulated_temperature', 'cv_temperature'],\n",
       "      dtype='object')"
      ]
     },
     "execution_count": 56,
     "metadata": {},
     "output_type": "execute_result"
    }
   ],
   "source": [
    "md.to_dataframe().columns"
   ]
  },
  {
   "cell_type": "code",
   "execution_count": 65,
   "id": "1aec1a74",
   "metadata": {
    "scrolled": false
   },
   "outputs": [
    {
     "name": "stdout",
     "output_type": "stream",
     "text": [
      "\u001b[32mSaved Visualization to: cm10000/adonis_bray_curtis.qzv\u001b[0m\n",
      "\u001b[0m\u001b[32mSaved Visualization to: cm10000/adonis_jaccard.qzv\u001b[0m\n",
      "\u001b[0m\u001b[32mSaved Visualization to: kmer_cm10000/adonis_bray_curtis.qzv\u001b[0m\n",
      "\u001b[0m\u001b[32mSaved Visualization to: kmer_cm10000/adonis_jaccard.qzv\u001b[0m\n",
      "\u001b[0m"
     ]
    }
   ],
   "source": [
    "formula = 'median_rh + median_temperature'\n",
    "\n",
    "beta_metrics = ['bray_curtis', 'jaccard']\n",
    "\n",
    "# PERMANOVA with core metrics \n",
    "div_dir = 'cm10000'\n",
    "for m in beta_metrics:\n",
    "    !qiime diversity adonis \\\n",
    "        --i-distance-matrix \"{div_dir}/{m}_distance_matrix.qza\" \\\n",
    "        --m-metadata-file /home/lfloerl/microterroir/Microbiome/Metadata/ITS_Lavaux_Climate.tsv \\\n",
    "        --p-formula \"{formula}\" \\\n",
    "        --p-n-jobs 5 \\\n",
    "        --o-visualization \"{div_dir}/adonis_{m}.qzv\"\n",
    "    \n",
    "\n",
    "# PERMANOVA with kmer core metrics \n",
    "kmer_dir = 'kmer_cm10000'\n",
    "for m in beta_metrics:\n",
    "    !qiime diversity adonis \\\n",
    "        --i-distance-matrix \"{kmer_dir}/{m}_distance_matrix.qza\" \\\n",
    "        --m-metadata-file /home/lfloerl/microterroir/Microbiome/Metadata/ITS_Lavaux_Climate.tsv \\\n",
    "        --p-formula \"{formula}\" \\\n",
    "        --p-n-jobs 5 \\\n",
    "        --o-visualization \"{kmer_dir}/adonis_{m}.qzv\""
   ]
  },
  {
   "cell_type": "code",
   "execution_count": 66,
   "id": "e5b7460e",
   "metadata": {
    "scrolled": false
   },
   "outputs": [
    {
     "data": {
      "text/html": [
       "<div><img onload=\"(function(div, url){\n",
       "if (typeof require !== 'undefined') {\n",
       "    var baseURL = require.toUrl('').split('/').slice(0, -2).join('/');\n",
       "} else {\n",
       "    var baseURL = JSON.parse(\n",
       "        document.getElementById('jupyter-config-data').innerHTML\n",
       "    ).baseUrl.slice(0, -1);\n",
       "}\n",
       "url = baseURL + url;\n",
       "fetch(url).then(function(res) {\n",
       "    if (res.status === 404) {\n",
       "        div.innerHTML = 'Install QIIME 2 Jupyter extension with:<br />' +\n",
       "                        '<code>jupyter server extension enable --py qiime2' +\n",
       "                        ' --sys-prefix</code><br />then restart your server.' +\n",
       "                        '<br /><br />(Interactive output not available on ' +\n",
       "                        'static notebook viewer services like nbviewer.)';\n",
       "    } else if (res.status === 409) {\n",
       "        div.innerHTML = 'Visualization no longer in scope. Re-run this cell' +\n",
       "                        ' to see the visualization.';\n",
       "    } else if (res.ok) {\n",
       "        url = res.url;\n",
       "        div.innerHTML = '<iframe src=\\'' + url + '\\' style=\\'' +\n",
       "                        'width: 100%; height: 700px; border: 0;\\'>' +\n",
       "                        '</iframe><hr />Open in a: <a href=\\'' + url + '\\'' +\n",
       "                        ' target=\\'_blank\\'>new window</a>'\n",
       "    } else {\n",
       "        div.innerHTML = 'Something has gone wrong. Check notebook server for' +\n",
       "                        ' errors.';\n",
       "    }\n",
       "});\n",
       "})(this.parentElement, '/qiime2/redirect?location=/scratch/lfloerl/tmpdata/qiime2/lfloerl/data/cd4967cc-0cb0-4457-923b-d7fa60421590')\" src=\"data:image/gif;base64,R0lGODlhAQABAIAAAP///wAAACH5BAEAAAAALAAAAAABAAEAAAICRAEAOw==\" /></div>"
      ],
      "text/plain": [
       "<visualization: Visualization uuid: cd4967cc-0cb0-4457-923b-d7fa60421590>"
      ]
     },
     "execution_count": 66,
     "metadata": {},
     "output_type": "execute_result"
    }
   ],
   "source": [
    "Visualization.load('cm10000/adonis_bray_curtis.qzv')"
   ]
  },
  {
   "cell_type": "code",
   "execution_count": 67,
   "id": "ef588e27",
   "metadata": {},
   "outputs": [
    {
     "data": {
      "text/html": [
       "<div><img onload=\"(function(div, url){\n",
       "if (typeof require !== 'undefined') {\n",
       "    var baseURL = require.toUrl('').split('/').slice(0, -2).join('/');\n",
       "} else {\n",
       "    var baseURL = JSON.parse(\n",
       "        document.getElementById('jupyter-config-data').innerHTML\n",
       "    ).baseUrl.slice(0, -1);\n",
       "}\n",
       "url = baseURL + url;\n",
       "fetch(url).then(function(res) {\n",
       "    if (res.status === 404) {\n",
       "        div.innerHTML = 'Install QIIME 2 Jupyter extension with:<br />' +\n",
       "                        '<code>jupyter server extension enable --py qiime2' +\n",
       "                        ' --sys-prefix</code><br />then restart your server.' +\n",
       "                        '<br /><br />(Interactive output not available on ' +\n",
       "                        'static notebook viewer services like nbviewer.)';\n",
       "    } else if (res.status === 409) {\n",
       "        div.innerHTML = 'Visualization no longer in scope. Re-run this cell' +\n",
       "                        ' to see the visualization.';\n",
       "    } else if (res.ok) {\n",
       "        url = res.url;\n",
       "        div.innerHTML = '<iframe src=\\'' + url + '\\' style=\\'' +\n",
       "                        'width: 100%; height: 700px; border: 0;\\'>' +\n",
       "                        '</iframe><hr />Open in a: <a href=\\'' + url + '\\'' +\n",
       "                        ' target=\\'_blank\\'>new window</a>'\n",
       "    } else {\n",
       "        div.innerHTML = 'Something has gone wrong. Check notebook server for' +\n",
       "                        ' errors.';\n",
       "    }\n",
       "});\n",
       "})(this.parentElement, '/qiime2/redirect?location=/scratch/lfloerl/tmpdata/qiime2/lfloerl/data/26dc2450-d68a-4bb0-8578-ce3e7a2ae113')\" src=\"data:image/gif;base64,R0lGODlhAQABAIAAAP///wAAACH5BAEAAAAALAAAAAABAAEAAAICRAEAOw==\" /></div>"
      ],
      "text/plain": [
       "<visualization: Visualization uuid: 26dc2450-d68a-4bb0-8578-ce3e7a2ae113>"
      ]
     },
     "execution_count": 67,
     "metadata": {},
     "output_type": "execute_result"
    }
   ],
   "source": [
    "Visualization.load('cm10000/adonis_jaccard.qzv')"
   ]
  },
  {
   "cell_type": "code",
   "execution_count": 68,
   "id": "fe5a2b92",
   "metadata": {},
   "outputs": [
    {
     "data": {
      "text/html": [
       "<div><img onload=\"(function(div, url){\n",
       "if (typeof require !== 'undefined') {\n",
       "    var baseURL = require.toUrl('').split('/').slice(0, -2).join('/');\n",
       "} else {\n",
       "    var baseURL = JSON.parse(\n",
       "        document.getElementById('jupyter-config-data').innerHTML\n",
       "    ).baseUrl.slice(0, -1);\n",
       "}\n",
       "url = baseURL + url;\n",
       "fetch(url).then(function(res) {\n",
       "    if (res.status === 404) {\n",
       "        div.innerHTML = 'Install QIIME 2 Jupyter extension with:<br />' +\n",
       "                        '<code>jupyter server extension enable --py qiime2' +\n",
       "                        ' --sys-prefix</code><br />then restart your server.' +\n",
       "                        '<br /><br />(Interactive output not available on ' +\n",
       "                        'static notebook viewer services like nbviewer.)';\n",
       "    } else if (res.status === 409) {\n",
       "        div.innerHTML = 'Visualization no longer in scope. Re-run this cell' +\n",
       "                        ' to see the visualization.';\n",
       "    } else if (res.ok) {\n",
       "        url = res.url;\n",
       "        div.innerHTML = '<iframe src=\\'' + url + '\\' style=\\'' +\n",
       "                        'width: 100%; height: 700px; border: 0;\\'>' +\n",
       "                        '</iframe><hr />Open in a: <a href=\\'' + url + '\\'' +\n",
       "                        ' target=\\'_blank\\'>new window</a>'\n",
       "    } else {\n",
       "        div.innerHTML = 'Something has gone wrong. Check notebook server for' +\n",
       "                        ' errors.';\n",
       "    }\n",
       "});\n",
       "})(this.parentElement, '/qiime2/redirect?location=/scratch/lfloerl/tmpdata/qiime2/lfloerl/data/0727ff28-9dc5-42dd-8357-428899af926c')\" src=\"data:image/gif;base64,R0lGODlhAQABAIAAAP///wAAACH5BAEAAAAALAAAAAABAAEAAAICRAEAOw==\" /></div>"
      ],
      "text/plain": [
       "<visualization: Visualization uuid: 0727ff28-9dc5-42dd-8357-428899af926c>"
      ]
     },
     "execution_count": 68,
     "metadata": {},
     "output_type": "execute_result"
    }
   ],
   "source": [
    "Visualization.load('kmer_cm10000/adonis_bray_curtis.qzv')"
   ]
  },
  {
   "cell_type": "code",
   "execution_count": 69,
   "id": "3a6a5767",
   "metadata": {},
   "outputs": [
    {
     "data": {
      "text/html": [
       "<div><img onload=\"(function(div, url){\n",
       "if (typeof require !== 'undefined') {\n",
       "    var baseURL = require.toUrl('').split('/').slice(0, -2).join('/');\n",
       "} else {\n",
       "    var baseURL = JSON.parse(\n",
       "        document.getElementById('jupyter-config-data').innerHTML\n",
       "    ).baseUrl.slice(0, -1);\n",
       "}\n",
       "url = baseURL + url;\n",
       "fetch(url).then(function(res) {\n",
       "    if (res.status === 404) {\n",
       "        div.innerHTML = 'Install QIIME 2 Jupyter extension with:<br />' +\n",
       "                        '<code>jupyter server extension enable --py qiime2' +\n",
       "                        ' --sys-prefix</code><br />then restart your server.' +\n",
       "                        '<br /><br />(Interactive output not available on ' +\n",
       "                        'static notebook viewer services like nbviewer.)';\n",
       "    } else if (res.status === 409) {\n",
       "        div.innerHTML = 'Visualization no longer in scope. Re-run this cell' +\n",
       "                        ' to see the visualization.';\n",
       "    } else if (res.ok) {\n",
       "        url = res.url;\n",
       "        div.innerHTML = '<iframe src=\\'' + url + '\\' style=\\'' +\n",
       "                        'width: 100%; height: 700px; border: 0;\\'>' +\n",
       "                        '</iframe><hr />Open in a: <a href=\\'' + url + '\\'' +\n",
       "                        ' target=\\'_blank\\'>new window</a>'\n",
       "    } else {\n",
       "        div.innerHTML = 'Something has gone wrong. Check notebook server for' +\n",
       "                        ' errors.';\n",
       "    }\n",
       "});\n",
       "})(this.parentElement, '/qiime2/redirect?location=/scratch/lfloerl/tmpdata/qiime2/lfloerl/data/72ec89a4-09e9-423b-bdc9-908dc000968c')\" src=\"data:image/gif;base64,R0lGODlhAQABAIAAAP///wAAACH5BAEAAAAALAAAAAABAAEAAAICRAEAOw==\" /></div>"
      ],
      "text/plain": [
       "<visualization: Visualization uuid: 72ec89a4-09e9-423b-bdc9-908dc000968c>"
      ]
     },
     "execution_count": 69,
     "metadata": {},
     "output_type": "execute_result"
    }
   ],
   "source": [
    "Visualization.load('kmer_cm10000/adonis_jaccard.qzv')"
   ]
  },
  {
   "cell_type": "markdown",
   "id": "06b481c8",
   "metadata": {},
   "source": [
    "<hr>\n",
    "\n",
    "\n",
    "# OLD: Regression to predict climate from berry microbiome\n",
    "\n",
    "--> now we use RITME!"
   ]
  },
  {
   "cell_type": "code",
   "execution_count": 21,
   "id": "733ad8bf",
   "metadata": {},
   "outputs": [],
   "source": [
    "#!mkdir Climate-Regression"
   ]
  },
  {
   "cell_type": "code",
   "execution_count": 3,
   "id": "5352bfaa",
   "metadata": {},
   "outputs": [
    {
     "name": "stdout",
     "output_type": "stream",
     "text": [
      "/home/lfloerl/cloud/lfloerl/Microterroir/artifacts/ITS/lavaux/climate-berries\n"
     ]
    }
   ],
   "source": [
    "workdir = '/home/lfloerl/cloud/lfloerl/Microterroir/artifacts/ITS/lavaux/climate-berries'\n",
    "%cd $workdir"
   ]
  },
  {
   "cell_type": "code",
   "execution_count": 22,
   "id": "b3ea81d1",
   "metadata": {
    "scrolled": true
   },
   "outputs": [
    {
     "data": {
      "text/html": [
       "<div>\n",
       "<style scoped>\n",
       "    .dataframe tbody tr th:only-of-type {\n",
       "        vertical-align: middle;\n",
       "    }\n",
       "\n",
       "    .dataframe tbody tr th {\n",
       "        vertical-align: top;\n",
       "    }\n",
       "\n",
       "    .dataframe thead th {\n",
       "        text-align: right;\n",
       "    }\n",
       "</style>\n",
       "<table border=\"1\" class=\"dataframe\">\n",
       "  <thead>\n",
       "    <tr style=\"text-align: right;\">\n",
       "      <th></th>\n",
       "      <th>SAMPLE_NAME</th>\n",
       "      <th>sample_type</th>\n",
       "      <th>Plot_ID</th>\n",
       "      <th>COLLECTION_DATE</th>\n",
       "      <th>Year</th>\n",
       "      <th>Year_Cat</th>\n",
       "      <th>Plot</th>\n",
       "      <th>Altitude</th>\n",
       "      <th>Average_slope</th>\n",
       "      <th>Exposition</th>\n",
       "      <th>...</th>\n",
       "      <th>maximum_rh</th>\n",
       "      <th>minimum_rh</th>\n",
       "      <th>cv_rh</th>\n",
       "      <th>GDD</th>\n",
       "      <th>average_temperature</th>\n",
       "      <th>median_temperature</th>\n",
       "      <th>maximum_temperature</th>\n",
       "      <th>minimum_temperature</th>\n",
       "      <th>accumulated_temperature</th>\n",
       "      <th>cv_temperature</th>\n",
       "    </tr>\n",
       "    <tr>\n",
       "      <th>id</th>\n",
       "      <th></th>\n",
       "      <th></th>\n",
       "      <th></th>\n",
       "      <th></th>\n",
       "      <th></th>\n",
       "      <th></th>\n",
       "      <th></th>\n",
       "      <th></th>\n",
       "      <th></th>\n",
       "      <th></th>\n",
       "      <th></th>\n",
       "      <th></th>\n",
       "      <th></th>\n",
       "      <th></th>\n",
       "      <th></th>\n",
       "      <th></th>\n",
       "      <th></th>\n",
       "      <th></th>\n",
       "      <th></th>\n",
       "      <th></th>\n",
       "      <th></th>\n",
       "    </tr>\n",
       "  </thead>\n",
       "  <tbody>\n",
       "    <tr>\n",
       "      <th>364526_290-LP3-ITS-0866</th>\n",
       "      <td>Lavaux_2021-08-31_bark_Plot4</td>\n",
       "      <td>bark</td>\n",
       "      <td>Lavaux_Plot_4</td>\n",
       "      <td>2021-08-31 00:00:00 +0200</td>\n",
       "      <td>2021.0</td>\n",
       "      <td>Year2021</td>\n",
       "      <td>4.0</td>\n",
       "      <td>450.0</td>\n",
       "      <td>30.0</td>\n",
       "      <td>South-West</td>\n",
       "      <td>...</td>\n",
       "      <td>99.036583</td>\n",
       "      <td>33.078261</td>\n",
       "      <td>16.567322</td>\n",
       "      <td>1325.721843</td>\n",
       "      <td>18.154261</td>\n",
       "      <td>18.650958</td>\n",
       "      <td>26.689636</td>\n",
       "      <td>8.401750</td>\n",
       "      <td>2940.990343</td>\n",
       "      <td>22.587667</td>\n",
       "    </tr>\n",
       "    <tr>\n",
       "      <th>364526_289-LP3-ITS-0865</th>\n",
       "      <td>Lavaux_2021-08-31_bark_Plot5</td>\n",
       "      <td>bark</td>\n",
       "      <td>Lavaux_Plot_5</td>\n",
       "      <td>2021-08-31 00:00:00 +0200</td>\n",
       "      <td>2021.0</td>\n",
       "      <td>Year2021</td>\n",
       "      <td>5.0</td>\n",
       "      <td>400.0</td>\n",
       "      <td>30.0</td>\n",
       "      <td>South-West</td>\n",
       "      <td>...</td>\n",
       "      <td>95.964333</td>\n",
       "      <td>32.830458</td>\n",
       "      <td>16.331714</td>\n",
       "      <td>1379.347141</td>\n",
       "      <td>18.494554</td>\n",
       "      <td>19.047366</td>\n",
       "      <td>26.351409</td>\n",
       "      <td>8.816375</td>\n",
       "      <td>2996.117777</td>\n",
       "      <td>22.104867</td>\n",
       "    </tr>\n",
       "    <tr>\n",
       "      <th>364526_285-LP3-ITS-0861</th>\n",
       "      <td>Lavaux_2021-08-31_bark_Plot9</td>\n",
       "      <td>bark</td>\n",
       "      <td>Lavaux_Plot_9</td>\n",
       "      <td>2021-08-31 00:00:00 +0200</td>\n",
       "      <td>2021.0</td>\n",
       "      <td>Year2021</td>\n",
       "      <td>9.0</td>\n",
       "      <td>520.0</td>\n",
       "      <td>35.0</td>\n",
       "      <td>South-West</td>\n",
       "      <td>...</td>\n",
       "      <td>98.181542</td>\n",
       "      <td>32.794125</td>\n",
       "      <td>16.570451</td>\n",
       "      <td>1286.254021</td>\n",
       "      <td>17.902585</td>\n",
       "      <td>18.256629</td>\n",
       "      <td>25.850773</td>\n",
       "      <td>8.052083</td>\n",
       "      <td>2900.218734</td>\n",
       "      <td>22.831881</td>\n",
       "    </tr>\n",
       "    <tr>\n",
       "      <th>364526_287-LP3-ITS-0863</th>\n",
       "      <td>Lavaux_2021-08-31_bark_Plot11</td>\n",
       "      <td>bark</td>\n",
       "      <td>Lavaux_Plot_11</td>\n",
       "      <td>2021-08-31 00:00:00 +0200</td>\n",
       "      <td>2021.0</td>\n",
       "      <td>Year2021</td>\n",
       "      <td>11.0</td>\n",
       "      <td>490.0</td>\n",
       "      <td>20.0</td>\n",
       "      <td>South</td>\n",
       "      <td>...</td>\n",
       "      <td>96.437167</td>\n",
       "      <td>32.357792</td>\n",
       "      <td>16.118351</td>\n",
       "      <td>1297.271087</td>\n",
       "      <td>17.964399</td>\n",
       "      <td>18.541438</td>\n",
       "      <td>26.775286</td>\n",
       "      <td>7.966542</td>\n",
       "      <td>2910.232671</td>\n",
       "      <td>23.246939</td>\n",
       "    </tr>\n",
       "    <tr>\n",
       "      <th>364526_282-LP3-ITS-0858</th>\n",
       "      <td>Lavaux_2021-08-31_bark_Plot12</td>\n",
       "      <td>bark</td>\n",
       "      <td>Lavaux_Plot_12</td>\n",
       "      <td>2021-08-31 00:00:00 +0200</td>\n",
       "      <td>2021.0</td>\n",
       "      <td>Year2021</td>\n",
       "      <td>12.0</td>\n",
       "      <td>520.0</td>\n",
       "      <td>15.0</td>\n",
       "      <td>South-West</td>\n",
       "      <td>...</td>\n",
       "      <td>97.113875</td>\n",
       "      <td>32.104636</td>\n",
       "      <td>16.661423</td>\n",
       "      <td>1286.822875</td>\n",
       "      <td>17.897069</td>\n",
       "      <td>18.244984</td>\n",
       "      <td>27.509143</td>\n",
       "      <td>7.779875</td>\n",
       "      <td>2899.325119</td>\n",
       "      <td>23.615955</td>\n",
       "    </tr>\n",
       "    <tr>\n",
       "      <th>...</th>\n",
       "      <td>...</td>\n",
       "      <td>...</td>\n",
       "      <td>...</td>\n",
       "      <td>...</td>\n",
       "      <td>...</td>\n",
       "      <td>...</td>\n",
       "      <td>...</td>\n",
       "      <td>...</td>\n",
       "      <td>...</td>\n",
       "      <td>...</td>\n",
       "      <td>...</td>\n",
       "      <td>...</td>\n",
       "      <td>...</td>\n",
       "      <td>...</td>\n",
       "      <td>...</td>\n",
       "      <td>...</td>\n",
       "      <td>...</td>\n",
       "      <td>...</td>\n",
       "      <td>...</td>\n",
       "      <td>...</td>\n",
       "      <td>...</td>\n",
       "    </tr>\n",
       "    <tr>\n",
       "      <th>364526_497-LP3-ITS-1073</th>\n",
       "      <td>Lavaux_2022-08-10_leaf_Plot11_washed</td>\n",
       "      <td>leaf</td>\n",
       "      <td>Lavaux_Plot_11</td>\n",
       "      <td>10.08.2022</td>\n",
       "      <td>2022.0</td>\n",
       "      <td>Year2022</td>\n",
       "      <td>11.0</td>\n",
       "      <td>490.0</td>\n",
       "      <td>20.0</td>\n",
       "      <td>South</td>\n",
       "      <td>...</td>\n",
       "      <td>NaN</td>\n",
       "      <td>NaN</td>\n",
       "      <td>NaN</td>\n",
       "      <td>NaN</td>\n",
       "      <td>NaN</td>\n",
       "      <td>NaN</td>\n",
       "      <td>NaN</td>\n",
       "      <td>NaN</td>\n",
       "      <td>NaN</td>\n",
       "      <td>NaN</td>\n",
       "    </tr>\n",
       "    <tr>\n",
       "      <th>364526_500-LP3-ITS-1076</th>\n",
       "      <td>Lavaux_2022-08-10_leaf_Plot13_washed</td>\n",
       "      <td>leaf</td>\n",
       "      <td>Lavaux_Plot_13</td>\n",
       "      <td>10.08.2022</td>\n",
       "      <td>2022.0</td>\n",
       "      <td>Year2022</td>\n",
       "      <td>13.0</td>\n",
       "      <td>580.0</td>\n",
       "      <td>30.0</td>\n",
       "      <td>South-West</td>\n",
       "      <td>...</td>\n",
       "      <td>91.051500</td>\n",
       "      <td>40.365391</td>\n",
       "      <td>18.779441</td>\n",
       "      <td>1667.574092</td>\n",
       "      <td>18.907507</td>\n",
       "      <td>20.375625</td>\n",
       "      <td>29.587261</td>\n",
       "      <td>0.558542</td>\n",
       "      <td>3441.166191</td>\n",
       "      <td>30.472148</td>\n",
       "    </tr>\n",
       "    <tr>\n",
       "      <th>364526_505-LP3-ITS-1081</th>\n",
       "      <td>Lavaux_2022-08-10_leaf_Plot9_washed</td>\n",
       "      <td>leaf</td>\n",
       "      <td>Lavaux_Plot_9</td>\n",
       "      <td>10.08.2022</td>\n",
       "      <td>2022.0</td>\n",
       "      <td>Year2022</td>\n",
       "      <td>9.0</td>\n",
       "      <td>520.0</td>\n",
       "      <td>35.0</td>\n",
       "      <td>South-West</td>\n",
       "      <td>...</td>\n",
       "      <td>95.741000</td>\n",
       "      <td>39.977136</td>\n",
       "      <td>19.630812</td>\n",
       "      <td>1742.827110</td>\n",
       "      <td>19.343256</td>\n",
       "      <td>20.624395</td>\n",
       "      <td>29.494636</td>\n",
       "      <td>1.002917</td>\n",
       "      <td>3520.472663</td>\n",
       "      <td>29.641663</td>\n",
       "    </tr>\n",
       "    <tr>\n",
       "      <th>364526_507-LP3-ITS-1083</th>\n",
       "      <td>Lavaux_2023-08-24_leaf_Plot4_washed</td>\n",
       "      <td>leaf</td>\n",
       "      <td>Lavaux_Plot_4</td>\n",
       "      <td>24.08.2023</td>\n",
       "      <td>2023.0</td>\n",
       "      <td>Year2023</td>\n",
       "      <td>4.0</td>\n",
       "      <td>450.0</td>\n",
       "      <td>30.0</td>\n",
       "      <td>South-West</td>\n",
       "      <td>...</td>\n",
       "      <td>NaN</td>\n",
       "      <td>NaN</td>\n",
       "      <td>NaN</td>\n",
       "      <td>NaN</td>\n",
       "      <td>NaN</td>\n",
       "      <td>NaN</td>\n",
       "      <td>NaN</td>\n",
       "      <td>NaN</td>\n",
       "      <td>NaN</td>\n",
       "      <td>NaN</td>\n",
       "    </tr>\n",
       "    <tr>\n",
       "      <th>364525_273-LP3-ITS-0273</th>\n",
       "      <td>Lavaux_2021-09-30_must_Plot5_Row6/Vine30_ID37</td>\n",
       "      <td>must</td>\n",
       "      <td>Lavaux_Plot_5</td>\n",
       "      <td>2021-09-30 00:00:00 +0200</td>\n",
       "      <td>2021.0</td>\n",
       "      <td>Year2021</td>\n",
       "      <td>5.0</td>\n",
       "      <td>400.0</td>\n",
       "      <td>30.0</td>\n",
       "      <td>South-West</td>\n",
       "      <td>...</td>\n",
       "      <td>95.964333</td>\n",
       "      <td>32.830458</td>\n",
       "      <td>16.331714</td>\n",
       "      <td>1379.347141</td>\n",
       "      <td>18.494554</td>\n",
       "      <td>19.047366</td>\n",
       "      <td>26.351409</td>\n",
       "      <td>8.816375</td>\n",
       "      <td>2996.117777</td>\n",
       "      <td>22.104867</td>\n",
       "    </tr>\n",
       "  </tbody>\n",
       "</table>\n",
       "<p>595 rows × 35 columns</p>\n",
       "</div>"
      ],
      "text/plain": [
       "                                                           SAMPLE_NAME  \\\n",
       "id                                                                       \n",
       "364526_290-LP3-ITS-0866                   Lavaux_2021-08-31_bark_Plot4   \n",
       "364526_289-LP3-ITS-0865                   Lavaux_2021-08-31_bark_Plot5   \n",
       "364526_285-LP3-ITS-0861                   Lavaux_2021-08-31_bark_Plot9   \n",
       "364526_287-LP3-ITS-0863                  Lavaux_2021-08-31_bark_Plot11   \n",
       "364526_282-LP3-ITS-0858                  Lavaux_2021-08-31_bark_Plot12   \n",
       "...                                                                ...   \n",
       "364526_497-LP3-ITS-1073           Lavaux_2022-08-10_leaf_Plot11_washed   \n",
       "364526_500-LP3-ITS-1076           Lavaux_2022-08-10_leaf_Plot13_washed   \n",
       "364526_505-LP3-ITS-1081            Lavaux_2022-08-10_leaf_Plot9_washed   \n",
       "364526_507-LP3-ITS-1083            Lavaux_2023-08-24_leaf_Plot4_washed   \n",
       "364525_273-LP3-ITS-0273  Lavaux_2021-09-30_must_Plot5_Row6/Vine30_ID37   \n",
       "\n",
       "                        sample_type         Plot_ID  \\\n",
       "id                                                    \n",
       "364526_290-LP3-ITS-0866        bark   Lavaux_Plot_4   \n",
       "364526_289-LP3-ITS-0865        bark   Lavaux_Plot_5   \n",
       "364526_285-LP3-ITS-0861        bark   Lavaux_Plot_9   \n",
       "364526_287-LP3-ITS-0863        bark  Lavaux_Plot_11   \n",
       "364526_282-LP3-ITS-0858        bark  Lavaux_Plot_12   \n",
       "...                             ...             ...   \n",
       "364526_497-LP3-ITS-1073        leaf  Lavaux_Plot_11   \n",
       "364526_500-LP3-ITS-1076        leaf  Lavaux_Plot_13   \n",
       "364526_505-LP3-ITS-1081        leaf   Lavaux_Plot_9   \n",
       "364526_507-LP3-ITS-1083        leaf   Lavaux_Plot_4   \n",
       "364525_273-LP3-ITS-0273        must   Lavaux_Plot_5   \n",
       "\n",
       "                                   COLLECTION_DATE    Year  Year_Cat  Plot  \\\n",
       "id                                                                           \n",
       "364526_290-LP3-ITS-0866  2021-08-31 00:00:00 +0200  2021.0  Year2021   4.0   \n",
       "364526_289-LP3-ITS-0865  2021-08-31 00:00:00 +0200  2021.0  Year2021   5.0   \n",
       "364526_285-LP3-ITS-0861  2021-08-31 00:00:00 +0200  2021.0  Year2021   9.0   \n",
       "364526_287-LP3-ITS-0863  2021-08-31 00:00:00 +0200  2021.0  Year2021  11.0   \n",
       "364526_282-LP3-ITS-0858  2021-08-31 00:00:00 +0200  2021.0  Year2021  12.0   \n",
       "...                                            ...     ...       ...   ...   \n",
       "364526_497-LP3-ITS-1073                 10.08.2022  2022.0  Year2022  11.0   \n",
       "364526_500-LP3-ITS-1076                 10.08.2022  2022.0  Year2022  13.0   \n",
       "364526_505-LP3-ITS-1081                 10.08.2022  2022.0  Year2022   9.0   \n",
       "364526_507-LP3-ITS-1083                 24.08.2023  2023.0  Year2023   4.0   \n",
       "364525_273-LP3-ITS-0273  2021-09-30 00:00:00 +0200  2021.0  Year2021   5.0   \n",
       "\n",
       "                         Altitude  Average_slope  Exposition  ...  maximum_rh  \\\n",
       "id                                                            ...               \n",
       "364526_290-LP3-ITS-0866     450.0           30.0  South-West  ...   99.036583   \n",
       "364526_289-LP3-ITS-0865     400.0           30.0  South-West  ...   95.964333   \n",
       "364526_285-LP3-ITS-0861     520.0           35.0  South-West  ...   98.181542   \n",
       "364526_287-LP3-ITS-0863     490.0           20.0       South  ...   96.437167   \n",
       "364526_282-LP3-ITS-0858     520.0           15.0  South-West  ...   97.113875   \n",
       "...                           ...            ...         ...  ...         ...   \n",
       "364526_497-LP3-ITS-1073     490.0           20.0       South  ...         NaN   \n",
       "364526_500-LP3-ITS-1076     580.0           30.0  South-West  ...   91.051500   \n",
       "364526_505-LP3-ITS-1081     520.0           35.0  South-West  ...   95.741000   \n",
       "364526_507-LP3-ITS-1083     450.0           30.0  South-West  ...         NaN   \n",
       "364525_273-LP3-ITS-0273     400.0           30.0  South-West  ...   95.964333   \n",
       "\n",
       "                         minimum_rh      cv_rh          GDD  \\\n",
       "id                                                            \n",
       "364526_290-LP3-ITS-0866   33.078261  16.567322  1325.721843   \n",
       "364526_289-LP3-ITS-0865   32.830458  16.331714  1379.347141   \n",
       "364526_285-LP3-ITS-0861   32.794125  16.570451  1286.254021   \n",
       "364526_287-LP3-ITS-0863   32.357792  16.118351  1297.271087   \n",
       "364526_282-LP3-ITS-0858   32.104636  16.661423  1286.822875   \n",
       "...                             ...        ...          ...   \n",
       "364526_497-LP3-ITS-1073         NaN        NaN          NaN   \n",
       "364526_500-LP3-ITS-1076   40.365391  18.779441  1667.574092   \n",
       "364526_505-LP3-ITS-1081   39.977136  19.630812  1742.827110   \n",
       "364526_507-LP3-ITS-1083         NaN        NaN          NaN   \n",
       "364525_273-LP3-ITS-0273   32.830458  16.331714  1379.347141   \n",
       "\n",
       "                        average_temperature median_temperature  \\\n",
       "id                                                               \n",
       "364526_290-LP3-ITS-0866           18.154261          18.650958   \n",
       "364526_289-LP3-ITS-0865           18.494554          19.047366   \n",
       "364526_285-LP3-ITS-0861           17.902585          18.256629   \n",
       "364526_287-LP3-ITS-0863           17.964399          18.541438   \n",
       "364526_282-LP3-ITS-0858           17.897069          18.244984   \n",
       "...                                     ...                ...   \n",
       "364526_497-LP3-ITS-1073                 NaN                NaN   \n",
       "364526_500-LP3-ITS-1076           18.907507          20.375625   \n",
       "364526_505-LP3-ITS-1081           19.343256          20.624395   \n",
       "364526_507-LP3-ITS-1083                 NaN                NaN   \n",
       "364525_273-LP3-ITS-0273           18.494554          19.047366   \n",
       "\n",
       "                        maximum_temperature  minimum_temperature  \\\n",
       "id                                                                 \n",
       "364526_290-LP3-ITS-0866           26.689636             8.401750   \n",
       "364526_289-LP3-ITS-0865           26.351409             8.816375   \n",
       "364526_285-LP3-ITS-0861           25.850773             8.052083   \n",
       "364526_287-LP3-ITS-0863           26.775286             7.966542   \n",
       "364526_282-LP3-ITS-0858           27.509143             7.779875   \n",
       "...                                     ...                  ...   \n",
       "364526_497-LP3-ITS-1073                 NaN                  NaN   \n",
       "364526_500-LP3-ITS-1076           29.587261             0.558542   \n",
       "364526_505-LP3-ITS-1081           29.494636             1.002917   \n",
       "364526_507-LP3-ITS-1083                 NaN                  NaN   \n",
       "364525_273-LP3-ITS-0273           26.351409             8.816375   \n",
       "\n",
       "                        accumulated_temperature cv_temperature  \n",
       "id                                                              \n",
       "364526_290-LP3-ITS-0866             2940.990343      22.587667  \n",
       "364526_289-LP3-ITS-0865             2996.117777      22.104867  \n",
       "364526_285-LP3-ITS-0861             2900.218734      22.831881  \n",
       "364526_287-LP3-ITS-0863             2910.232671      23.246939  \n",
       "364526_282-LP3-ITS-0858             2899.325119      23.615955  \n",
       "...                                         ...            ...  \n",
       "364526_497-LP3-ITS-1073                     NaN            NaN  \n",
       "364526_500-LP3-ITS-1076             3441.166191      30.472148  \n",
       "364526_505-LP3-ITS-1081             3520.472663      29.641663  \n",
       "364526_507-LP3-ITS-1083                     NaN            NaN  \n",
       "364525_273-LP3-ITS-0273             2996.117777      22.104867  \n",
       "\n",
       "[595 rows x 35 columns]"
      ]
     },
     "execution_count": 22,
     "metadata": {},
     "output_type": "execute_result"
    }
   ],
   "source": [
    "md.to_dataframe()"
   ]
  },
  {
   "cell_type": "code",
   "execution_count": 27,
   "id": "90f6dd0b",
   "metadata": {},
   "outputs": [
    {
     "name": "stdout",
     "output_type": "stream",
     "text": [
      "Processing regression for average_rh\n"
     ]
    },
    {
     "name": "stderr",
     "output_type": "stream",
     "text": [
      "Usage: qiime sample-classifier regress-samples [OPTIONS]\n",
      "\n",
      "  Predicts a continuous sample metadata column using a supervised learning\n",
      "  regressor. Splits input data into training and test sets. The training set\n",
      "  is used to train and test the estimator using a stratified k-fold cross-\n",
      "  validation scheme. This includes optional steps for automated feature\n",
      "  extraction and hyperparameter optimization. The test set validates\n",
      "  classification accuracy of the optimized estimator. Outputs classification\n",
      "  results for test set. For more details on the learning algorithm, see\n",
      "  http://scikit-learn.org/stable/supervised_learning.html\n",
      "\n",
      "Inputs:\n",
      "  --i-table ARTIFACT FeatureTable[Frequency | RelativeFrequency |\n",
      "    PresenceAbsence | Composition]\n",
      "                          Feature table containing all features that should\n",
      "                          be used for target prediction.            [required]\n",
      "Parameters:\n",
      "  --m-metadata-file METADATA\n",
      "  --m-metadata-column COLUMN  MetadataColumn[Numeric]\n",
      "                          Numeric metadata column to use as prediction\n",
      "                          target.                                   [required]\n",
      "  --p-test-size PROPORTION\n",
      "    Range(0.0, 1.0)       Fraction of input samples to exclude from training\n",
      "                          set and use for classifier testing.   [default: 0.2]\n",
      "  --p-step PROPORTION Range(0.0, 1.0, inclusive_start=False)\n",
      "                          If optimize-feature-selection is True, step is the\n",
      "                          percentage of features to remove at each iteration.\n",
      "                                                               [default: 0.05]\n",
      "  --p-cv INTEGER          Number of k-fold cross-validations to perform.\n",
      "    Range(1, None)                                                [default: 5]\n",
      "  --p-random-state INTEGER\n",
      "                          Seed used by random number generator.     [optional]\n",
      "  --p-n-jobs NTHREADS     Number of jobs to run in parallel.      [default: 1]\n",
      "  --p-n-estimators INTEGER\n",
      "    Range(1, None)        Number of trees to grow for estimation. More trees\n",
      "                          will improve predictive accuracy up to a threshold\n",
      "                          level, but will also increase time and memory\n",
      "                          requirements. This parameter only affects ensemble\n",
      "                          estimators, such as Random Forest, AdaBoost,\n",
      "                          ExtraTrees, and GradientBoosting.     [default: 100]\n",
      "  --p-estimator TEXT Choices('RandomForestRegressor',\n",
      "    'ExtraTreesRegressor', 'GradientBoostingRegressor',\n",
      "    'AdaBoostRegressor[DecisionTree]', 'AdaBoostRegressor[ExtraTrees]',\n",
      "    'ElasticNet', 'Ridge', 'Lasso', 'KNeighborsRegressor', 'LinearSVR', 'SVR')\n",
      "                          Estimator method to use for sample prediction.\n",
      "                                            [default: 'RandomForestRegressor']\n",
      "  --p-optimize-feature-selection / --p-no-optimize-feature-selection\n",
      "                          Automatically optimize input feature selection\n",
      "                          using recursive feature elimination.\n",
      "                                                              [default: False]\n",
      "  --p-stratify / --p-no-stratify\n",
      "                          Evenly stratify training and test data among\n",
      "                          metadata categories. If True, all values in column\n",
      "                          must match at least two samples.    [default: False]\n",
      "  --p-parameter-tuning / --p-no-parameter-tuning\n",
      "                          Automatically tune hyperparameters using random\n",
      "                          grid search.                        [default: False]\n",
      "  --p-missing-samples TEXT Choices('error', 'ignore')\n",
      "                          How to handle missing samples in metadata. \"error\"\n",
      "                          will fail if missing samples are detected. \"ignore\"\n",
      "                          will cause the feature table and metadata to be\n",
      "                          filtered, so that only samples found in both files\n",
      "                          are retained.                     [default: 'error']\n",
      "Outputs:\n",
      "  --o-sample-estimator ARTIFACT SampleEstimator[Regressor]\n",
      "                          Trained sample estimator.                 [required]\n",
      "  --o-feature-importance ARTIFACT FeatureData[Importance]\n",
      "                          Importance of each input feature to model accuracy.\n",
      "                                                                    [required]\n",
      "  --o-predictions ARTIFACT SampleData[RegressorPredictions]\n",
      "                          Predicted target values for each input sample.\n",
      "                                                                    [required]\n",
      "  --o-model-summary VISUALIZATION\n",
      "                          Summarized parameter and (if enabled) feature\n",
      "                          selection information for the trained estimator.\n",
      "                                                                    [required]\n",
      "  --o-accuracy-results VISUALIZATION\n",
      "                          Accuracy results visualization.           [required]\n",
      "Miscellaneous:\n",
      "  --output-dir PATH       Output unspecified results to a directory\n",
      "  --verbose / --quiet     Display verbose output to stdout and/or stderr\n",
      "                          during execution of this action. Or silence output\n",
      "                          if execution is successful (silence is golden).\n",
      "  --recycle-pool TEXT     Use a cache pool for pipeline resumption. QIIME 2\n",
      "                          will cache your results in this pool for reuse by\n",
      "                          future invocations. These pool are retained until\n",
      "                          deleted by the user. If not provided, QIIME 2 will\n",
      "                          create a pool which is automatically reused by\n",
      "                          invocations of the same action and removed if the\n",
      "                          action is successful. Note: these pools are local to\n",
      "                          the cache you are using.\n",
      "  --no-recycle            Do not recycle results from a previous failed\n",
      "                          pipeline run or save the results from this run for\n",
      "                          future recycling.\n",
      "  --parallel              Execute your action in parallel. This flag will use\n",
      "                          your default parallel config.\n",
      "  --parallel-config FILE  Execute your action in parallel using a config at\n",
      "                          the indicated path.\n",
      "  --example-data PATH     Write example data and exit.\n",
      "  --citations             Show citations and exit.\n",
      "  --use-cache DIRECTORY   Specify the cache to be used for the intermediate\n",
      "                          work of this action. If not provided, the default\n",
      "                          cache under $TMP/qiime2/<uname> will be used.\n",
      "                          IMPORTANT FOR HPC USERS: If you are on an HPC system\n",
      "                          and are using parallel execution it is important to\n",
      "                          set this to a location that is globally accessible\n",
      "                          to all nodes in the cluster.\n",
      "  --help                  Show this message and exit.\n",
      "\n",
      "                  There were some problems with the command:                  \n",
      " (1/6) Invalid value for '--output-dir': 'Climate-Regression/average_rh'\n",
      "  already exists, will not overwrite.\n",
      " (2/6) Missing option '--o-sample-estimator'. (\"--output-dir\" may also be\n",
      "  used)\n",
      " (3/6) Missing option '--o-feature-importance'. (\"--output-dir\" may also be\n",
      "  used)\n",
      " (4/6) Missing option '--o-predictions'. (\"--output-dir\" may also be used)\n",
      " (5/6) Missing option '--o-model-summary'. (\"--output-dir\" may also be used)\n",
      " (6/6) Missing option '--o-accuracy-results'. (\"--output-dir\" may also be\n",
      "  used)\n"
     ]
    },
    {
     "name": "stdout",
     "output_type": "stream",
     "text": [
      "Processing regression for median_rh\n",
      "Saved SampleEstimator[Regressor] to: Climate-Regression/median_rh/sample_estimator.qza\n",
      "Saved FeatureData[Importance] to: Climate-Regression/median_rh/feature_importance.qza\n",
      "Saved SampleData[RegressorPredictions] to: Climate-Regression/median_rh/predictions.qza\n",
      "Saved Visualization to: Climate-Regression/median_rh/model_summary.qzv\n",
      "Saved Visualization to: Climate-Regression/median_rh/accuracy_results.qzv\n",
      "Processing regression for maximum_rh\n",
      "Saved SampleEstimator[Regressor] to: Climate-Regression/maximum_rh/sample_estimator.qza\n",
      "Saved FeatureData[Importance] to: Climate-Regression/maximum_rh/feature_importance.qza\n",
      "Saved SampleData[RegressorPredictions] to: Climate-Regression/maximum_rh/predictions.qza\n",
      "Saved Visualization to: Climate-Regression/maximum_rh/model_summary.qzv\n",
      "Saved Visualization to: Climate-Regression/maximum_rh/accuracy_results.qzv\n",
      "Processing regression for minimum_rh\n",
      "Saved SampleEstimator[Regressor] to: Climate-Regression/minimum_rh/sample_estimator.qza\n",
      "Saved FeatureData[Importance] to: Climate-Regression/minimum_rh/feature_importance.qza\n",
      "Saved SampleData[RegressorPredictions] to: Climate-Regression/minimum_rh/predictions.qza\n",
      "Saved Visualization to: Climate-Regression/minimum_rh/model_summary.qzv\n",
      "Saved Visualization to: Climate-Regression/minimum_rh/accuracy_results.qzv\n",
      "Processing regression for cv_rh\n",
      "Saved SampleEstimator[Regressor] to: Climate-Regression/cv_rh/sample_estimator.qza\n",
      "Saved FeatureData[Importance] to: Climate-Regression/cv_rh/feature_importance.qza\n",
      "Saved SampleData[RegressorPredictions] to: Climate-Regression/cv_rh/predictions.qza\n",
      "Saved Visualization to: Climate-Regression/cv_rh/model_summary.qzv\n",
      "Saved Visualization to: Climate-Regression/cv_rh/accuracy_results.qzv\n",
      "Processing regression for GDD\n",
      "Saved SampleEstimator[Regressor] to: Climate-Regression/GDD/sample_estimator.qza\n",
      "Saved FeatureData[Importance] to: Climate-Regression/GDD/feature_importance.qza\n",
      "Saved SampleData[RegressorPredictions] to: Climate-Regression/GDD/predictions.qza\n",
      "Saved Visualization to: Climate-Regression/GDD/model_summary.qzv\n",
      "Saved Visualization to: Climate-Regression/GDD/accuracy_results.qzv\n",
      "Processing regression for average_temperature\n",
      "Saved SampleEstimator[Regressor] to: Climate-Regression/average_temperature/sample_estimator.qza\n",
      "Saved FeatureData[Importance] to: Climate-Regression/average_temperature/feature_importance.qza\n",
      "Saved SampleData[RegressorPredictions] to: Climate-Regression/average_temperature/predictions.qza\n",
      "Saved Visualization to: Climate-Regression/average_temperature/model_summary.qzv\n",
      "Saved Visualization to: Climate-Regression/average_temperature/accuracy_results.qzv\n",
      "Processing regression for median_temperature\n",
      "Saved SampleEstimator[Regressor] to: Climate-Regression/median_temperature/sample_estimator.qza\n",
      "Saved FeatureData[Importance] to: Climate-Regression/median_temperature/feature_importance.qza\n",
      "Saved SampleData[RegressorPredictions] to: Climate-Regression/median_temperature/predictions.qza\n",
      "Saved Visualization to: Climate-Regression/median_temperature/model_summary.qzv\n",
      "Saved Visualization to: Climate-Regression/median_temperature/accuracy_results.qzv\n",
      "Processing regression for maximum_temperature\n",
      "Saved SampleEstimator[Regressor] to: Climate-Regression/maximum_temperature/sample_estimator.qza\n",
      "Saved FeatureData[Importance] to: Climate-Regression/maximum_temperature/feature_importance.qza\n",
      "Saved SampleData[RegressorPredictions] to: Climate-Regression/maximum_temperature/predictions.qza\n",
      "Saved Visualization to: Climate-Regression/maximum_temperature/model_summary.qzv\n",
      "Saved Visualization to: Climate-Regression/maximum_temperature/accuracy_results.qzv\n",
      "Processing regression for minimum_temperature\n",
      "Saved SampleEstimator[Regressor] to: Climate-Regression/minimum_temperature/sample_estimator.qza\n",
      "Saved FeatureData[Importance] to: Climate-Regression/minimum_temperature/feature_importance.qza\n",
      "Saved SampleData[RegressorPredictions] to: Climate-Regression/minimum_temperature/predictions.qza\n",
      "Saved Visualization to: Climate-Regression/minimum_temperature/model_summary.qzv\n",
      "Saved Visualization to: Climate-Regression/minimum_temperature/accuracy_results.qzv\n",
      "Processing regression for accumulated_temperature\n",
      "Saved SampleEstimator[Regressor] to: Climate-Regression/accumulated_temperature/sample_estimator.qza\n",
      "Saved FeatureData[Importance] to: Climate-Regression/accumulated_temperature/feature_importance.qza\n",
      "Saved SampleData[RegressorPredictions] to: Climate-Regression/accumulated_temperature/predictions.qza\n",
      "Saved Visualization to: Climate-Regression/accumulated_temperature/model_summary.qzv\n",
      "Saved Visualization to: Climate-Regression/accumulated_temperature/accuracy_results.qzv\n",
      "Processing regression for cv_temperature\n"
     ]
    },
    {
     "name": "stderr",
     "output_type": "stream",
     "text": [
      "Usage: qiime sample-classifier regress-samples [OPTIONS]\n",
      "\n",
      "  Predicts a continuous sample metadata column using a supervised learning\n",
      "  regressor. Splits input data into training and test sets. The training set\n",
      "  is used to train and test the estimator using a stratified k-fold cross-\n",
      "  validation scheme. This includes optional steps for automated feature\n",
      "  extraction and hyperparameter optimization. The test set validates\n",
      "  classification accuracy of the optimized estimator. Outputs classification\n",
      "  results for test set. For more details on the learning algorithm, see\n",
      "  http://scikit-learn.org/stable/supervised_learning.html\n",
      "\n",
      "Inputs:\n",
      "  --i-table ARTIFACT FeatureTable[Frequency | RelativeFrequency |\n",
      "    PresenceAbsence | Composition]\n",
      "                          Feature table containing all features that should\n",
      "                          be used for target prediction.            [required]\n",
      "Parameters:\n",
      "  --m-metadata-file METADATA\n",
      "  --m-metadata-column COLUMN  MetadataColumn[Numeric]\n",
      "                          Numeric metadata column to use as prediction\n",
      "                          target.                                   [required]\n",
      "  --p-test-size PROPORTION\n",
      "    Range(0.0, 1.0)       Fraction of input samples to exclude from training\n",
      "                          set and use for classifier testing.   [default: 0.2]\n",
      "  --p-step PROPORTION Range(0.0, 1.0, inclusive_start=False)\n",
      "                          If optimize-feature-selection is True, step is the\n",
      "                          percentage of features to remove at each iteration.\n",
      "                                                               [default: 0.05]\n",
      "  --p-cv INTEGER          Number of k-fold cross-validations to perform.\n",
      "    Range(1, None)                                                [default: 5]\n",
      "  --p-random-state INTEGER\n",
      "                          Seed used by random number generator.     [optional]\n",
      "  --p-n-jobs NTHREADS     Number of jobs to run in parallel.      [default: 1]\n",
      "  --p-n-estimators INTEGER\n",
      "    Range(1, None)        Number of trees to grow for estimation. More trees\n",
      "                          will improve predictive accuracy up to a threshold\n",
      "                          level, but will also increase time and memory\n",
      "                          requirements. This parameter only affects ensemble\n",
      "                          estimators, such as Random Forest, AdaBoost,\n",
      "                          ExtraTrees, and GradientBoosting.     [default: 100]\n",
      "  --p-estimator TEXT Choices('RandomForestRegressor',\n",
      "    'ExtraTreesRegressor', 'GradientBoostingRegressor',\n",
      "    'AdaBoostRegressor[DecisionTree]', 'AdaBoostRegressor[ExtraTrees]',\n",
      "    'ElasticNet', 'Ridge', 'Lasso', 'KNeighborsRegressor', 'LinearSVR', 'SVR')\n",
      "                          Estimator method to use for sample prediction.\n",
      "                                            [default: 'RandomForestRegressor']\n",
      "  --p-optimize-feature-selection / --p-no-optimize-feature-selection\n",
      "                          Automatically optimize input feature selection\n",
      "                          using recursive feature elimination.\n",
      "                                                              [default: False]\n",
      "  --p-stratify / --p-no-stratify\n",
      "                          Evenly stratify training and test data among\n",
      "                          metadata categories. If True, all values in column\n",
      "                          must match at least two samples.    [default: False]\n",
      "  --p-parameter-tuning / --p-no-parameter-tuning\n",
      "                          Automatically tune hyperparameters using random\n",
      "                          grid search.                        [default: False]\n",
      "  --p-missing-samples TEXT Choices('error', 'ignore')\n",
      "                          How to handle missing samples in metadata. \"error\"\n",
      "                          will fail if missing samples are detected. \"ignore\"\n",
      "                          will cause the feature table and metadata to be\n",
      "                          filtered, so that only samples found in both files\n",
      "                          are retained.                     [default: 'error']\n",
      "Outputs:\n",
      "  --o-sample-estimator ARTIFACT SampleEstimator[Regressor]\n",
      "                          Trained sample estimator.                 [required]\n",
      "  --o-feature-importance ARTIFACT FeatureData[Importance]\n",
      "                          Importance of each input feature to model accuracy.\n",
      "                                                                    [required]\n",
      "  --o-predictions ARTIFACT SampleData[RegressorPredictions]\n",
      "                          Predicted target values for each input sample.\n",
      "                                                                    [required]\n",
      "  --o-model-summary VISUALIZATION\n",
      "                          Summarized parameter and (if enabled) feature\n",
      "                          selection information for the trained estimator.\n",
      "                                                                    [required]\n",
      "  --o-accuracy-results VISUALIZATION\n",
      "                          Accuracy results visualization.           [required]\n",
      "Miscellaneous:\n",
      "  --output-dir PATH       Output unspecified results to a directory\n",
      "  --verbose / --quiet     Display verbose output to stdout and/or stderr\n",
      "                          during execution of this action. Or silence output\n",
      "                          if execution is successful (silence is golden).\n",
      "  --recycle-pool TEXT     Use a cache pool for pipeline resumption. QIIME 2\n",
      "                          will cache your results in this pool for reuse by\n",
      "                          future invocations. These pool are retained until\n",
      "                          deleted by the user. If not provided, QIIME 2 will\n",
      "                          create a pool which is automatically reused by\n",
      "                          invocations of the same action and removed if the\n",
      "                          action is successful. Note: these pools are local to\n",
      "                          the cache you are using.\n",
      "  --no-recycle            Do not recycle results from a previous failed\n",
      "                          pipeline run or save the results from this run for\n",
      "                          future recycling.\n",
      "  --parallel              Execute your action in parallel. This flag will use\n",
      "                          your default parallel config.\n",
      "  --parallel-config FILE  Execute your action in parallel using a config at\n",
      "                          the indicated path.\n",
      "  --example-data PATH     Write example data and exit.\n",
      "  --citations             Show citations and exit.\n",
      "  --use-cache DIRECTORY   Specify the cache to be used for the intermediate\n",
      "                          work of this action. If not provided, the default\n",
      "                          cache under $TMP/qiime2/<uname> will be used.\n",
      "                          IMPORTANT FOR HPC USERS: If you are on an HPC system\n",
      "                          and are using parallel execution it is important to\n",
      "                          set this to a location that is globally accessible\n",
      "                          to all nodes in the cluster.\n",
      "  --help                  Show this message and exit.\n",
      "\n",
      "                  There were some problems with the command:                  \n",
      " (1/6) Invalid value for '--output-dir': 'Climate-Regression/cv_temperature'\n",
      "  already exists, will not overwrite.\n",
      " (2/6) Missing option '--o-sample-estimator'. (\"--output-dir\" may also be\n",
      "  used)\n",
      " (3/6) Missing option '--o-feature-importance'. (\"--output-dir\" may also be\n",
      "  used)\n",
      " (4/6) Missing option '--o-predictions'. (\"--output-dir\" may also be used)\n",
      " (5/6) Missing option '--o-model-summary'. (\"--output-dir\" may also be used)\n",
      " (6/6) Missing option '--o-accuracy-results'. (\"--output-dir\" may also be\n",
      "  used)\n"
     ]
    },
    {
     "ename": "CalledProcessError",
     "evalue": "Command 'b'\\n# Define the list of metadata columns for regression\\ncolumns=(\\'average_rh\\' \\'median_rh\\' \\'maximum_rh\\' \\'minimum_rh\\' \\'cv_rh\\' \\'GDD\\'\\n        \\'average_temperature\\' \\'median_temperature\\' \\'maximum_temperature\\' \\n        \\'minimum_temperature\\' \\'accumulated_temperature\\' \\'cv_temperature\\')\\n\\n# Loop through each column\\nfor column in \"${columns[@]}\"\\ndo\\n    echo \"Processing regression for $column\"\\n    \\n    # Run the sample-classifier regress-samples command\\n    qiime sample-classifier regress-samples \\\\\\n        --i-table climate_filtered_table.qza \\\\\\n        --m-metadata-file /home/lfloerl/microterroir/Microbiome/Metadata/ITS_Lavaux_Climate.tsv \\\\\\n        --m-metadata-column $column \\\\\\n        --p-n-jobs 10 \\\\\\n        --output-dir Climate-Regression/$column\\ndone\\n'' returned non-zero exit status 1.",
     "output_type": "error",
     "traceback": [
      "\u001b[0;31m---------------------------------------------------------------------------\u001b[0m",
      "\u001b[0;31mCalledProcessError\u001b[0m                        Traceback (most recent call last)",
      "Cell \u001b[0;32mIn[27], line 1\u001b[0m\n\u001b[0;32m----> 1\u001b[0m \u001b[43mget_ipython\u001b[49m\u001b[43m(\u001b[49m\u001b[43m)\u001b[49m\u001b[38;5;241;43m.\u001b[39;49m\u001b[43mrun_cell_magic\u001b[49m\u001b[43m(\u001b[49m\u001b[38;5;124;43m'\u001b[39;49m\u001b[38;5;124;43mbash\u001b[39;49m\u001b[38;5;124;43m'\u001b[39;49m\u001b[43m,\u001b[49m\u001b[43m \u001b[49m\u001b[38;5;124;43m'\u001b[39;49m\u001b[38;5;124;43m'\u001b[39;49m\u001b[43m,\u001b[49m\u001b[43m \u001b[49m\u001b[38;5;124;43m'\u001b[39;49m\u001b[38;5;130;43;01m\\n\u001b[39;49;00m\u001b[38;5;124;43m# Define the list of metadata columns for regression\u001b[39;49m\u001b[38;5;130;43;01m\\n\u001b[39;49;00m\u001b[38;5;124;43mcolumns=(\u001b[39;49m\u001b[38;5;130;43;01m\\'\u001b[39;49;00m\u001b[38;5;124;43maverage_rh\u001b[39;49m\u001b[38;5;130;43;01m\\'\u001b[39;49;00m\u001b[38;5;124;43m \u001b[39;49m\u001b[38;5;130;43;01m\\'\u001b[39;49;00m\u001b[38;5;124;43mmedian_rh\u001b[39;49m\u001b[38;5;130;43;01m\\'\u001b[39;49;00m\u001b[38;5;124;43m \u001b[39;49m\u001b[38;5;130;43;01m\\'\u001b[39;49;00m\u001b[38;5;124;43mmaximum_rh\u001b[39;49m\u001b[38;5;130;43;01m\\'\u001b[39;49;00m\u001b[38;5;124;43m \u001b[39;49m\u001b[38;5;130;43;01m\\'\u001b[39;49;00m\u001b[38;5;124;43mminimum_rh\u001b[39;49m\u001b[38;5;130;43;01m\\'\u001b[39;49;00m\u001b[38;5;124;43m \u001b[39;49m\u001b[38;5;130;43;01m\\'\u001b[39;49;00m\u001b[38;5;124;43mcv_rh\u001b[39;49m\u001b[38;5;130;43;01m\\'\u001b[39;49;00m\u001b[38;5;124;43m \u001b[39;49m\u001b[38;5;130;43;01m\\'\u001b[39;49;00m\u001b[38;5;124;43mGDD\u001b[39;49m\u001b[38;5;130;43;01m\\'\u001b[39;49;00m\u001b[38;5;130;43;01m\\n\u001b[39;49;00m\u001b[38;5;124;43m        \u001b[39;49m\u001b[38;5;130;43;01m\\'\u001b[39;49;00m\u001b[38;5;124;43maverage_temperature\u001b[39;49m\u001b[38;5;130;43;01m\\'\u001b[39;49;00m\u001b[38;5;124;43m \u001b[39;49m\u001b[38;5;130;43;01m\\'\u001b[39;49;00m\u001b[38;5;124;43mmedian_temperature\u001b[39;49m\u001b[38;5;130;43;01m\\'\u001b[39;49;00m\u001b[38;5;124;43m \u001b[39;49m\u001b[38;5;130;43;01m\\'\u001b[39;49;00m\u001b[38;5;124;43mmaximum_temperature\u001b[39;49m\u001b[38;5;130;43;01m\\'\u001b[39;49;00m\u001b[38;5;124;43m \u001b[39;49m\u001b[38;5;130;43;01m\\n\u001b[39;49;00m\u001b[38;5;124;43m        \u001b[39;49m\u001b[38;5;130;43;01m\\'\u001b[39;49;00m\u001b[38;5;124;43mminimum_temperature\u001b[39;49m\u001b[38;5;130;43;01m\\'\u001b[39;49;00m\u001b[38;5;124;43m \u001b[39;49m\u001b[38;5;130;43;01m\\'\u001b[39;49;00m\u001b[38;5;124;43maccumulated_temperature\u001b[39;49m\u001b[38;5;130;43;01m\\'\u001b[39;49;00m\u001b[38;5;124;43m \u001b[39;49m\u001b[38;5;130;43;01m\\'\u001b[39;49;00m\u001b[38;5;124;43mcv_temperature\u001b[39;49m\u001b[38;5;130;43;01m\\'\u001b[39;49;00m\u001b[38;5;124;43m)\u001b[39;49m\u001b[38;5;130;43;01m\\n\u001b[39;49;00m\u001b[38;5;130;43;01m\\n\u001b[39;49;00m\u001b[38;5;124;43m# Loop through each column\u001b[39;49m\u001b[38;5;130;43;01m\\n\u001b[39;49;00m\u001b[38;5;124;43mfor column in \u001b[39;49m\u001b[38;5;124;43m\"\u001b[39;49m\u001b[38;5;124;43m$\u001b[39;49m\u001b[38;5;132;43;01m{columns[@]}\u001b[39;49;00m\u001b[38;5;124;43m\"\u001b[39;49m\u001b[38;5;130;43;01m\\n\u001b[39;49;00m\u001b[38;5;124;43mdo\u001b[39;49m\u001b[38;5;130;43;01m\\n\u001b[39;49;00m\u001b[38;5;124;43m    echo \u001b[39;49m\u001b[38;5;124;43m\"\u001b[39;49m\u001b[38;5;124;43mProcessing regression for $column\u001b[39;49m\u001b[38;5;124;43m\"\u001b[39;49m\u001b[38;5;130;43;01m\\n\u001b[39;49;00m\u001b[38;5;124;43m    \u001b[39;49m\u001b[38;5;130;43;01m\\n\u001b[39;49;00m\u001b[38;5;124;43m    # Run the sample-classifier regress-samples command\u001b[39;49m\u001b[38;5;130;43;01m\\n\u001b[39;49;00m\u001b[38;5;124;43m    qiime sample-classifier regress-samples \u001b[39;49m\u001b[38;5;130;43;01m\\\\\u001b[39;49;00m\u001b[38;5;130;43;01m\\n\u001b[39;49;00m\u001b[38;5;124;43m        --i-table climate_filtered_table.qza \u001b[39;49m\u001b[38;5;130;43;01m\\\\\u001b[39;49;00m\u001b[38;5;130;43;01m\\n\u001b[39;49;00m\u001b[38;5;124;43m        --m-metadata-file /home/lfloerl/microterroir/Microbiome/Metadata/ITS_Lavaux_Climate.tsv \u001b[39;49m\u001b[38;5;130;43;01m\\\\\u001b[39;49;00m\u001b[38;5;130;43;01m\\n\u001b[39;49;00m\u001b[38;5;124;43m        --m-metadata-column $column \u001b[39;49m\u001b[38;5;130;43;01m\\\\\u001b[39;49;00m\u001b[38;5;130;43;01m\\n\u001b[39;49;00m\u001b[38;5;124;43m        --p-n-jobs 10 \u001b[39;49m\u001b[38;5;130;43;01m\\\\\u001b[39;49;00m\u001b[38;5;130;43;01m\\n\u001b[39;49;00m\u001b[38;5;124;43m        --output-dir Climate-Regression/$column\u001b[39;49m\u001b[38;5;130;43;01m\\n\u001b[39;49;00m\u001b[38;5;124;43mdone\u001b[39;49m\u001b[38;5;130;43;01m\\n\u001b[39;49;00m\u001b[38;5;124;43m'\u001b[39;49m\u001b[43m)\u001b[49m\n",
      "File \u001b[0;32m/scratch/lfloerl/.condaenvs/qiime2-amplicon-2024.10/lib/python3.10/site-packages/IPython/core/interactiveshell.py:2517\u001b[0m, in \u001b[0;36mInteractiveShell.run_cell_magic\u001b[0;34m(self, magic_name, line, cell)\u001b[0m\n\u001b[1;32m   2515\u001b[0m \u001b[38;5;28;01mwith\u001b[39;00m \u001b[38;5;28mself\u001b[39m\u001b[38;5;241m.\u001b[39mbuiltin_trap:\n\u001b[1;32m   2516\u001b[0m     args \u001b[38;5;241m=\u001b[39m (magic_arg_s, cell)\n\u001b[0;32m-> 2517\u001b[0m     result \u001b[38;5;241m=\u001b[39m \u001b[43mfn\u001b[49m\u001b[43m(\u001b[49m\u001b[38;5;241;43m*\u001b[39;49m\u001b[43margs\u001b[49m\u001b[43m,\u001b[49m\u001b[43m \u001b[49m\u001b[38;5;241;43m*\u001b[39;49m\u001b[38;5;241;43m*\u001b[39;49m\u001b[43mkwargs\u001b[49m\u001b[43m)\u001b[49m\n\u001b[1;32m   2519\u001b[0m \u001b[38;5;66;03m# The code below prevents the output from being displayed\u001b[39;00m\n\u001b[1;32m   2520\u001b[0m \u001b[38;5;66;03m# when using magics with decorator @output_can_be_silenced\u001b[39;00m\n\u001b[1;32m   2521\u001b[0m \u001b[38;5;66;03m# when the last Python token in the expression is a ';'.\u001b[39;00m\n\u001b[1;32m   2522\u001b[0m \u001b[38;5;28;01mif\u001b[39;00m \u001b[38;5;28mgetattr\u001b[39m(fn, magic\u001b[38;5;241m.\u001b[39mMAGIC_OUTPUT_CAN_BE_SILENCED, \u001b[38;5;28;01mFalse\u001b[39;00m):\n",
      "File \u001b[0;32m/scratch/lfloerl/.condaenvs/qiime2-amplicon-2024.10/lib/python3.10/site-packages/IPython/core/magics/script.py:154\u001b[0m, in \u001b[0;36mScriptMagics._make_script_magic.<locals>.named_script_magic\u001b[0;34m(line, cell)\u001b[0m\n\u001b[1;32m    152\u001b[0m \u001b[38;5;28;01melse\u001b[39;00m:\n\u001b[1;32m    153\u001b[0m     line \u001b[38;5;241m=\u001b[39m script\n\u001b[0;32m--> 154\u001b[0m \u001b[38;5;28;01mreturn\u001b[39;00m \u001b[38;5;28;43mself\u001b[39;49m\u001b[38;5;241;43m.\u001b[39;49m\u001b[43mshebang\u001b[49m\u001b[43m(\u001b[49m\u001b[43mline\u001b[49m\u001b[43m,\u001b[49m\u001b[43m \u001b[49m\u001b[43mcell\u001b[49m\u001b[43m)\u001b[49m\n",
      "File \u001b[0;32m/scratch/lfloerl/.condaenvs/qiime2-amplicon-2024.10/lib/python3.10/site-packages/IPython/core/magics/script.py:314\u001b[0m, in \u001b[0;36mScriptMagics.shebang\u001b[0;34m(self, line, cell)\u001b[0m\n\u001b[1;32m    309\u001b[0m \u001b[38;5;28;01mif\u001b[39;00m args\u001b[38;5;241m.\u001b[39mraise_error \u001b[38;5;129;01mand\u001b[39;00m p\u001b[38;5;241m.\u001b[39mreturncode \u001b[38;5;241m!=\u001b[39m \u001b[38;5;241m0\u001b[39m:\n\u001b[1;32m    310\u001b[0m     \u001b[38;5;66;03m# If we get here and p.returncode is still None, we must have\u001b[39;00m\n\u001b[1;32m    311\u001b[0m     \u001b[38;5;66;03m# killed it but not yet seen its return code. We don't wait for it,\u001b[39;00m\n\u001b[1;32m    312\u001b[0m     \u001b[38;5;66;03m# in case it's stuck in uninterruptible sleep. -9 = SIGKILL\u001b[39;00m\n\u001b[1;32m    313\u001b[0m     rc \u001b[38;5;241m=\u001b[39m p\u001b[38;5;241m.\u001b[39mreturncode \u001b[38;5;129;01mor\u001b[39;00m \u001b[38;5;241m-\u001b[39m\u001b[38;5;241m9\u001b[39m\n\u001b[0;32m--> 314\u001b[0m     \u001b[38;5;28;01mraise\u001b[39;00m CalledProcessError(rc, cell)\n",
      "\u001b[0;31mCalledProcessError\u001b[0m: Command 'b'\\n# Define the list of metadata columns for regression\\ncolumns=(\\'average_rh\\' \\'median_rh\\' \\'maximum_rh\\' \\'minimum_rh\\' \\'cv_rh\\' \\'GDD\\'\\n        \\'average_temperature\\' \\'median_temperature\\' \\'maximum_temperature\\' \\n        \\'minimum_temperature\\' \\'accumulated_temperature\\' \\'cv_temperature\\')\\n\\n# Loop through each column\\nfor column in \"${columns[@]}\"\\ndo\\n    echo \"Processing regression for $column\"\\n    \\n    # Run the sample-classifier regress-samples command\\n    qiime sample-classifier regress-samples \\\\\\n        --i-table climate_filtered_table.qza \\\\\\n        --m-metadata-file /home/lfloerl/microterroir/Microbiome/Metadata/ITS_Lavaux_Climate.tsv \\\\\\n        --m-metadata-column $column \\\\\\n        --p-n-jobs 10 \\\\\\n        --output-dir Climate-Regression/$column\\ndone\\n'' returned non-zero exit status 1."
     ]
    }
   ],
   "source": [
    "%%bash \n",
    "\n",
    "# Define the list of metadata columns for regression\n",
    "columns=('average_rh' 'median_rh' 'maximum_rh' 'minimum_rh' 'cv_rh' 'GDD'\n",
    "        'average_temperature' 'median_temperature' 'maximum_temperature' \n",
    "        'minimum_temperature' 'accumulated_temperature' 'cv_temperature')\n",
    "\n",
    "# Loop through each column\n",
    "for column in \"${columns[@]}\"\n",
    "do\n",
    "    echo \"Processing regression for $column\"\n",
    "    \n",
    "    # Run the sample-classifier regress-samples command\n",
    "    qiime sample-classifier regress-samples \\\n",
    "        --i-table climate_filtered_table.qza \\\n",
    "        --m-metadata-file /home/lfloerl/microterroir/Microbiome/Metadata/ITS_Lavaux_Climate.tsv \\\n",
    "        --m-metadata-column $column \\\n",
    "        --p-n-jobs 10 \\\n",
    "        --output-dir Climate-Regression/$column\n",
    "done\n"
   ]
  },
  {
   "cell_type": "code",
   "execution_count": 17,
   "id": "e4ed0cb8",
   "metadata": {},
   "outputs": [
    {
     "name": "stdout",
     "output_type": "stream",
     "text": [
      "accuracy_results.qzv\tmodel_summary.qzv  sample_estimator.qza\r\n",
      "feature_importance.qza\tpredictions.qza\r\n"
     ]
    }
   ],
   "source": [
    "!ls Climate-Regression/median_rh"
   ]
  },
  {
   "cell_type": "code",
   "execution_count": 18,
   "id": "43adc868",
   "metadata": {},
   "outputs": [
    {
     "data": {
      "text/html": [
       "<div><img onload=\"(function(div, url){\n",
       "if (typeof require !== 'undefined') {\n",
       "    var baseURL = require.toUrl('').split('/').slice(0, -2).join('/');\n",
       "} else {\n",
       "    var baseURL = JSON.parse(\n",
       "        document.getElementById('jupyter-config-data').innerHTML\n",
       "    ).baseUrl.slice(0, -1);\n",
       "}\n",
       "url = baseURL + url;\n",
       "fetch(url).then(function(res) {\n",
       "    if (res.status === 404) {\n",
       "        div.innerHTML = 'Install QIIME 2 Jupyter extension with:<br />' +\n",
       "                        '<code>jupyter server extension enable --py qiime2' +\n",
       "                        ' --sys-prefix</code><br />then restart your server.' +\n",
       "                        '<br /><br />(Interactive output not available on ' +\n",
       "                        'static notebook viewer services like nbviewer.)';\n",
       "    } else if (res.status === 409) {\n",
       "        div.innerHTML = 'Visualization no longer in scope. Re-run this cell' +\n",
       "                        ' to see the visualization.';\n",
       "    } else if (res.ok) {\n",
       "        url = res.url;\n",
       "        div.innerHTML = '<iframe src=\\'' + url + '\\' style=\\'' +\n",
       "                        'width: 100%; height: 700px; border: 0;\\'>' +\n",
       "                        '</iframe><hr />Open in a: <a href=\\'' + url + '\\'' +\n",
       "                        ' target=\\'_blank\\'>new window</a>'\n",
       "    } else {\n",
       "        div.innerHTML = 'Something has gone wrong. Check notebook server for' +\n",
       "                        ' errors.';\n",
       "    }\n",
       "});\n",
       "})(this.parentElement, '/qiime2/redirect?location=/scratch/lfloerl/tmpdata/qiime2/lfloerl/data/0ca9c6c6-d1dc-4b68-8a43-540a3bcacb34')\" src=\"data:image/gif;base64,R0lGODlhAQABAIAAAP///wAAACH5BAEAAAAALAAAAAABAAEAAAICRAEAOw==\" /></div>"
      ],
      "text/plain": [
       "<visualization: Visualization uuid: 0ca9c6c6-d1dc-4b68-8a43-540a3bcacb34>"
      ]
     },
     "execution_count": 18,
     "metadata": {},
     "output_type": "execute_result"
    }
   ],
   "source": [
    "Visualization.load('Climate-Regression/average_rh/accuracy_results.qzv')"
   ]
  },
  {
   "cell_type": "code",
   "execution_count": 6,
   "id": "ee5d2bcc",
   "metadata": {},
   "outputs": [
    {
     "data": {
      "text/html": [
       "<div><img onload=\"(function(div, url){\n",
       "if (typeof require !== 'undefined') {\n",
       "    var baseURL = require.toUrl('').split('/').slice(0, -2).join('/');\n",
       "} else {\n",
       "    var baseURL = JSON.parse(\n",
       "        document.getElementById('jupyter-config-data').innerHTML\n",
       "    ).baseUrl.slice(0, -1);\n",
       "}\n",
       "url = baseURL + url;\n",
       "fetch(url).then(function(res) {\n",
       "    if (res.status === 404) {\n",
       "        div.innerHTML = 'Install QIIME 2 Jupyter extension with:<br />' +\n",
       "                        '<code>jupyter server extension enable --py qiime2' +\n",
       "                        ' --sys-prefix</code><br />then restart your server.' +\n",
       "                        '<br /><br />(Interactive output not available on ' +\n",
       "                        'static notebook viewer services like nbviewer.)';\n",
       "    } else if (res.status === 409) {\n",
       "        div.innerHTML = 'Visualization no longer in scope. Re-run this cell' +\n",
       "                        ' to see the visualization.';\n",
       "    } else if (res.ok) {\n",
       "        url = res.url;\n",
       "        div.innerHTML = '<iframe src=\\'' + url + '\\' style=\\'' +\n",
       "                        'width: 100%; height: 700px; border: 0;\\'>' +\n",
       "                        '</iframe><hr />Open in a: <a href=\\'' + url + '\\'' +\n",
       "                        ' target=\\'_blank\\'>new window</a>'\n",
       "    } else {\n",
       "        div.innerHTML = 'Something has gone wrong. Check notebook server for' +\n",
       "                        ' errors.';\n",
       "    }\n",
       "});\n",
       "})(this.parentElement, '/qiime2/redirect?location=/scratch/lfloerl/tmpdata/qiime2/lfloerl/data/e0789389-9fd8-43cc-b726-099fbc7975d1')\" src=\"data:image/gif;base64,R0lGODlhAQABAIAAAP///wAAACH5BAEAAAAALAAAAAABAAEAAAICRAEAOw==\" /></div>"
      ],
      "text/plain": [
       "<visualization: Visualization uuid: e0789389-9fd8-43cc-b726-099fbc7975d1>"
      ]
     },
     "execution_count": 6,
     "metadata": {},
     "output_type": "execute_result"
    }
   ],
   "source": [
    "Visualization.load('Climate-Regression/median_rh/accuracy_results.qzv')"
   ]
  },
  {
   "cell_type": "code",
   "execution_count": 7,
   "id": "28d18050",
   "metadata": {},
   "outputs": [
    {
     "data": {
      "text/html": [
       "<div><img onload=\"(function(div, url){\n",
       "if (typeof require !== 'undefined') {\n",
       "    var baseURL = require.toUrl('').split('/').slice(0, -2).join('/');\n",
       "} else {\n",
       "    var baseURL = JSON.parse(\n",
       "        document.getElementById('jupyter-config-data').innerHTML\n",
       "    ).baseUrl.slice(0, -1);\n",
       "}\n",
       "url = baseURL + url;\n",
       "fetch(url).then(function(res) {\n",
       "    if (res.status === 404) {\n",
       "        div.innerHTML = 'Install QIIME 2 Jupyter extension with:<br />' +\n",
       "                        '<code>jupyter server extension enable --py qiime2' +\n",
       "                        ' --sys-prefix</code><br />then restart your server.' +\n",
       "                        '<br /><br />(Interactive output not available on ' +\n",
       "                        'static notebook viewer services like nbviewer.)';\n",
       "    } else if (res.status === 409) {\n",
       "        div.innerHTML = 'Visualization no longer in scope. Re-run this cell' +\n",
       "                        ' to see the visualization.';\n",
       "    } else if (res.ok) {\n",
       "        url = res.url;\n",
       "        div.innerHTML = '<iframe src=\\'' + url + '\\' style=\\'' +\n",
       "                        'width: 100%; height: 700px; border: 0;\\'>' +\n",
       "                        '</iframe><hr />Open in a: <a href=\\'' + url + '\\'' +\n",
       "                        ' target=\\'_blank\\'>new window</a>'\n",
       "    } else {\n",
       "        div.innerHTML = 'Something has gone wrong. Check notebook server for' +\n",
       "                        ' errors.';\n",
       "    }\n",
       "});\n",
       "})(this.parentElement, '/qiime2/redirect?location=/scratch/lfloerl/tmpdata/qiime2/lfloerl/data/3869faae-8f00-4b61-933d-b63e97e97fcc')\" src=\"data:image/gif;base64,R0lGODlhAQABAIAAAP///wAAACH5BAEAAAAALAAAAAABAAEAAAICRAEAOw==\" /></div>"
      ],
      "text/plain": [
       "<visualization: Visualization uuid: 3869faae-8f00-4b61-933d-b63e97e97fcc>"
      ]
     },
     "execution_count": 7,
     "metadata": {},
     "output_type": "execute_result"
    }
   ],
   "source": [
    "Visualization.load('Climate-Regression/maximum_rh/accuracy_results.qzv')"
   ]
  },
  {
   "cell_type": "code",
   "execution_count": 8,
   "id": "8338d773",
   "metadata": {},
   "outputs": [
    {
     "data": {
      "text/html": [
       "<div><img onload=\"(function(div, url){\n",
       "if (typeof require !== 'undefined') {\n",
       "    var baseURL = require.toUrl('').split('/').slice(0, -2).join('/');\n",
       "} else {\n",
       "    var baseURL = JSON.parse(\n",
       "        document.getElementById('jupyter-config-data').innerHTML\n",
       "    ).baseUrl.slice(0, -1);\n",
       "}\n",
       "url = baseURL + url;\n",
       "fetch(url).then(function(res) {\n",
       "    if (res.status === 404) {\n",
       "        div.innerHTML = 'Install QIIME 2 Jupyter extension with:<br />' +\n",
       "                        '<code>jupyter server extension enable --py qiime2' +\n",
       "                        ' --sys-prefix</code><br />then restart your server.' +\n",
       "                        '<br /><br />(Interactive output not available on ' +\n",
       "                        'static notebook viewer services like nbviewer.)';\n",
       "    } else if (res.status === 409) {\n",
       "        div.innerHTML = 'Visualization no longer in scope. Re-run this cell' +\n",
       "                        ' to see the visualization.';\n",
       "    } else if (res.ok) {\n",
       "        url = res.url;\n",
       "        div.innerHTML = '<iframe src=\\'' + url + '\\' style=\\'' +\n",
       "                        'width: 100%; height: 700px; border: 0;\\'>' +\n",
       "                        '</iframe><hr />Open in a: <a href=\\'' + url + '\\'' +\n",
       "                        ' target=\\'_blank\\'>new window</a>'\n",
       "    } else {\n",
       "        div.innerHTML = 'Something has gone wrong. Check notebook server for' +\n",
       "                        ' errors.';\n",
       "    }\n",
       "});\n",
       "})(this.parentElement, '/qiime2/redirect?location=/scratch/lfloerl/tmpdata/qiime2/lfloerl/data/f0267375-30e2-47d5-a85e-2086f2c832df')\" src=\"data:image/gif;base64,R0lGODlhAQABAIAAAP///wAAACH5BAEAAAAALAAAAAABAAEAAAICRAEAOw==\" /></div>"
      ],
      "text/plain": [
       "<visualization: Visualization uuid: f0267375-30e2-47d5-a85e-2086f2c832df>"
      ]
     },
     "execution_count": 8,
     "metadata": {},
     "output_type": "execute_result"
    }
   ],
   "source": [
    "Visualization.load('Climate-Regression/minimum_rh/accuracy_results.qzv')"
   ]
  },
  {
   "cell_type": "code",
   "execution_count": 9,
   "id": "2b674315",
   "metadata": {},
   "outputs": [
    {
     "data": {
      "text/html": [
       "<div><img onload=\"(function(div, url){\n",
       "if (typeof require !== 'undefined') {\n",
       "    var baseURL = require.toUrl('').split('/').slice(0, -2).join('/');\n",
       "} else {\n",
       "    var baseURL = JSON.parse(\n",
       "        document.getElementById('jupyter-config-data').innerHTML\n",
       "    ).baseUrl.slice(0, -1);\n",
       "}\n",
       "url = baseURL + url;\n",
       "fetch(url).then(function(res) {\n",
       "    if (res.status === 404) {\n",
       "        div.innerHTML = 'Install QIIME 2 Jupyter extension with:<br />' +\n",
       "                        '<code>jupyter server extension enable --py qiime2' +\n",
       "                        ' --sys-prefix</code><br />then restart your server.' +\n",
       "                        '<br /><br />(Interactive output not available on ' +\n",
       "                        'static notebook viewer services like nbviewer.)';\n",
       "    } else if (res.status === 409) {\n",
       "        div.innerHTML = 'Visualization no longer in scope. Re-run this cell' +\n",
       "                        ' to see the visualization.';\n",
       "    } else if (res.ok) {\n",
       "        url = res.url;\n",
       "        div.innerHTML = '<iframe src=\\'' + url + '\\' style=\\'' +\n",
       "                        'width: 100%; height: 700px; border: 0;\\'>' +\n",
       "                        '</iframe><hr />Open in a: <a href=\\'' + url + '\\'' +\n",
       "                        ' target=\\'_blank\\'>new window</a>'\n",
       "    } else {\n",
       "        div.innerHTML = 'Something has gone wrong. Check notebook server for' +\n",
       "                        ' errors.';\n",
       "    }\n",
       "});\n",
       "})(this.parentElement, '/qiime2/redirect?location=/scratch/lfloerl/tmpdata/qiime2/lfloerl/data/fe48d121-cc9b-4a6a-9358-ecfcd92a2c42')\" src=\"data:image/gif;base64,R0lGODlhAQABAIAAAP///wAAACH5BAEAAAAALAAAAAABAAEAAAICRAEAOw==\" /></div>"
      ],
      "text/plain": [
       "<visualization: Visualization uuid: fe48d121-cc9b-4a6a-9358-ecfcd92a2c42>"
      ]
     },
     "execution_count": 9,
     "metadata": {},
     "output_type": "execute_result"
    }
   ],
   "source": [
    "Visualization.load('Climate-Regression/cv_rh/accuracy_results.qzv')"
   ]
  },
  {
   "cell_type": "code",
   "execution_count": 10,
   "id": "3c37c00e",
   "metadata": {},
   "outputs": [
    {
     "data": {
      "text/html": [
       "<div><img onload=\"(function(div, url){\n",
       "if (typeof require !== 'undefined') {\n",
       "    var baseURL = require.toUrl('').split('/').slice(0, -2).join('/');\n",
       "} else {\n",
       "    var baseURL = JSON.parse(\n",
       "        document.getElementById('jupyter-config-data').innerHTML\n",
       "    ).baseUrl.slice(0, -1);\n",
       "}\n",
       "url = baseURL + url;\n",
       "fetch(url).then(function(res) {\n",
       "    if (res.status === 404) {\n",
       "        div.innerHTML = 'Install QIIME 2 Jupyter extension with:<br />' +\n",
       "                        '<code>jupyter server extension enable --py qiime2' +\n",
       "                        ' --sys-prefix</code><br />then restart your server.' +\n",
       "                        '<br /><br />(Interactive output not available on ' +\n",
       "                        'static notebook viewer services like nbviewer.)';\n",
       "    } else if (res.status === 409) {\n",
       "        div.innerHTML = 'Visualization no longer in scope. Re-run this cell' +\n",
       "                        ' to see the visualization.';\n",
       "    } else if (res.ok) {\n",
       "        url = res.url;\n",
       "        div.innerHTML = '<iframe src=\\'' + url + '\\' style=\\'' +\n",
       "                        'width: 100%; height: 700px; border: 0;\\'>' +\n",
       "                        '</iframe><hr />Open in a: <a href=\\'' + url + '\\'' +\n",
       "                        ' target=\\'_blank\\'>new window</a>'\n",
       "    } else {\n",
       "        div.innerHTML = 'Something has gone wrong. Check notebook server for' +\n",
       "                        ' errors.';\n",
       "    }\n",
       "});\n",
       "})(this.parentElement, '/qiime2/redirect?location=/scratch/lfloerl/tmpdata/qiime2/lfloerl/data/8d14bad5-9e1a-4e0c-90d7-f8f05efbdfbb')\" src=\"data:image/gif;base64,R0lGODlhAQABAIAAAP///wAAACH5BAEAAAAALAAAAAABAAEAAAICRAEAOw==\" /></div>"
      ],
      "text/plain": [
       "<visualization: Visualization uuid: 8d14bad5-9e1a-4e0c-90d7-f8f05efbdfbb>"
      ]
     },
     "execution_count": 10,
     "metadata": {},
     "output_type": "execute_result"
    }
   ],
   "source": [
    "Visualization.load('Climate-Regression/GDD/accuracy_results.qzv')"
   ]
  },
  {
   "cell_type": "code",
   "execution_count": 11,
   "id": "dc04b0d1",
   "metadata": {},
   "outputs": [
    {
     "data": {
      "text/html": [
       "<div><img onload=\"(function(div, url){\n",
       "if (typeof require !== 'undefined') {\n",
       "    var baseURL = require.toUrl('').split('/').slice(0, -2).join('/');\n",
       "} else {\n",
       "    var baseURL = JSON.parse(\n",
       "        document.getElementById('jupyter-config-data').innerHTML\n",
       "    ).baseUrl.slice(0, -1);\n",
       "}\n",
       "url = baseURL + url;\n",
       "fetch(url).then(function(res) {\n",
       "    if (res.status === 404) {\n",
       "        div.innerHTML = 'Install QIIME 2 Jupyter extension with:<br />' +\n",
       "                        '<code>jupyter server extension enable --py qiime2' +\n",
       "                        ' --sys-prefix</code><br />then restart your server.' +\n",
       "                        '<br /><br />(Interactive output not available on ' +\n",
       "                        'static notebook viewer services like nbviewer.)';\n",
       "    } else if (res.status === 409) {\n",
       "        div.innerHTML = 'Visualization no longer in scope. Re-run this cell' +\n",
       "                        ' to see the visualization.';\n",
       "    } else if (res.ok) {\n",
       "        url = res.url;\n",
       "        div.innerHTML = '<iframe src=\\'' + url + '\\' style=\\'' +\n",
       "                        'width: 100%; height: 700px; border: 0;\\'>' +\n",
       "                        '</iframe><hr />Open in a: <a href=\\'' + url + '\\'' +\n",
       "                        ' target=\\'_blank\\'>new window</a>'\n",
       "    } else {\n",
       "        div.innerHTML = 'Something has gone wrong. Check notebook server for' +\n",
       "                        ' errors.';\n",
       "    }\n",
       "});\n",
       "})(this.parentElement, '/qiime2/redirect?location=/scratch/lfloerl/tmpdata/qiime2/lfloerl/data/e59febe3-ec06-4f21-b8e7-fcac9c9ce8e1')\" src=\"data:image/gif;base64,R0lGODlhAQABAIAAAP///wAAACH5BAEAAAAALAAAAAABAAEAAAICRAEAOw==\" /></div>"
      ],
      "text/plain": [
       "<visualization: Visualization uuid: e59febe3-ec06-4f21-b8e7-fcac9c9ce8e1>"
      ]
     },
     "execution_count": 11,
     "metadata": {},
     "output_type": "execute_result"
    }
   ],
   "source": [
    "Visualization.load('Climate-Regression/average_temperature/accuracy_results.qzv')"
   ]
  },
  {
   "cell_type": "code",
   "execution_count": 12,
   "id": "196c642f",
   "metadata": {},
   "outputs": [
    {
     "data": {
      "text/html": [
       "<div><img onload=\"(function(div, url){\n",
       "if (typeof require !== 'undefined') {\n",
       "    var baseURL = require.toUrl('').split('/').slice(0, -2).join('/');\n",
       "} else {\n",
       "    var baseURL = JSON.parse(\n",
       "        document.getElementById('jupyter-config-data').innerHTML\n",
       "    ).baseUrl.slice(0, -1);\n",
       "}\n",
       "url = baseURL + url;\n",
       "fetch(url).then(function(res) {\n",
       "    if (res.status === 404) {\n",
       "        div.innerHTML = 'Install QIIME 2 Jupyter extension with:<br />' +\n",
       "                        '<code>jupyter server extension enable --py qiime2' +\n",
       "                        ' --sys-prefix</code><br />then restart your server.' +\n",
       "                        '<br /><br />(Interactive output not available on ' +\n",
       "                        'static notebook viewer services like nbviewer.)';\n",
       "    } else if (res.status === 409) {\n",
       "        div.innerHTML = 'Visualization no longer in scope. Re-run this cell' +\n",
       "                        ' to see the visualization.';\n",
       "    } else if (res.ok) {\n",
       "        url = res.url;\n",
       "        div.innerHTML = '<iframe src=\\'' + url + '\\' style=\\'' +\n",
       "                        'width: 100%; height: 700px; border: 0;\\'>' +\n",
       "                        '</iframe><hr />Open in a: <a href=\\'' + url + '\\'' +\n",
       "                        ' target=\\'_blank\\'>new window</a>'\n",
       "    } else {\n",
       "        div.innerHTML = 'Something has gone wrong. Check notebook server for' +\n",
       "                        ' errors.';\n",
       "    }\n",
       "});\n",
       "})(this.parentElement, '/qiime2/redirect?location=/scratch/lfloerl/tmpdata/qiime2/lfloerl/data/0c3bb9ae-811f-4071-8172-50d392083c26')\" src=\"data:image/gif;base64,R0lGODlhAQABAIAAAP///wAAACH5BAEAAAAALAAAAAABAAEAAAICRAEAOw==\" /></div>"
      ],
      "text/plain": [
       "<visualization: Visualization uuid: 0c3bb9ae-811f-4071-8172-50d392083c26>"
      ]
     },
     "execution_count": 12,
     "metadata": {},
     "output_type": "execute_result"
    }
   ],
   "source": [
    "Visualization.load('Climate-Regression/median_temperature/accuracy_results.qzv')"
   ]
  },
  {
   "cell_type": "code",
   "execution_count": 13,
   "id": "153a439c",
   "metadata": {},
   "outputs": [
    {
     "data": {
      "text/html": [
       "<div><img onload=\"(function(div, url){\n",
       "if (typeof require !== 'undefined') {\n",
       "    var baseURL = require.toUrl('').split('/').slice(0, -2).join('/');\n",
       "} else {\n",
       "    var baseURL = JSON.parse(\n",
       "        document.getElementById('jupyter-config-data').innerHTML\n",
       "    ).baseUrl.slice(0, -1);\n",
       "}\n",
       "url = baseURL + url;\n",
       "fetch(url).then(function(res) {\n",
       "    if (res.status === 404) {\n",
       "        div.innerHTML = 'Install QIIME 2 Jupyter extension with:<br />' +\n",
       "                        '<code>jupyter server extension enable --py qiime2' +\n",
       "                        ' --sys-prefix</code><br />then restart your server.' +\n",
       "                        '<br /><br />(Interactive output not available on ' +\n",
       "                        'static notebook viewer services like nbviewer.)';\n",
       "    } else if (res.status === 409) {\n",
       "        div.innerHTML = 'Visualization no longer in scope. Re-run this cell' +\n",
       "                        ' to see the visualization.';\n",
       "    } else if (res.ok) {\n",
       "        url = res.url;\n",
       "        div.innerHTML = '<iframe src=\\'' + url + '\\' style=\\'' +\n",
       "                        'width: 100%; height: 700px; border: 0;\\'>' +\n",
       "                        '</iframe><hr />Open in a: <a href=\\'' + url + '\\'' +\n",
       "                        ' target=\\'_blank\\'>new window</a>'\n",
       "    } else {\n",
       "        div.innerHTML = 'Something has gone wrong. Check notebook server for' +\n",
       "                        ' errors.';\n",
       "    }\n",
       "});\n",
       "})(this.parentElement, '/qiime2/redirect?location=/scratch/lfloerl/tmpdata/qiime2/lfloerl/data/d3800fb8-333b-4c8e-8310-e874dea69ded')\" src=\"data:image/gif;base64,R0lGODlhAQABAIAAAP///wAAACH5BAEAAAAALAAAAAABAAEAAAICRAEAOw==\" /></div>"
      ],
      "text/plain": [
       "<visualization: Visualization uuid: d3800fb8-333b-4c8e-8310-e874dea69ded>"
      ]
     },
     "execution_count": 13,
     "metadata": {},
     "output_type": "execute_result"
    }
   ],
   "source": [
    "Visualization.load('Climate-Regression/maximum_temperature/accuracy_results.qzv')"
   ]
  },
  {
   "cell_type": "code",
   "execution_count": 14,
   "id": "2308e386",
   "metadata": {},
   "outputs": [
    {
     "data": {
      "text/html": [
       "<div><img onload=\"(function(div, url){\n",
       "if (typeof require !== 'undefined') {\n",
       "    var baseURL = require.toUrl('').split('/').slice(0, -2).join('/');\n",
       "} else {\n",
       "    var baseURL = JSON.parse(\n",
       "        document.getElementById('jupyter-config-data').innerHTML\n",
       "    ).baseUrl.slice(0, -1);\n",
       "}\n",
       "url = baseURL + url;\n",
       "fetch(url).then(function(res) {\n",
       "    if (res.status === 404) {\n",
       "        div.innerHTML = 'Install QIIME 2 Jupyter extension with:<br />' +\n",
       "                        '<code>jupyter server extension enable --py qiime2' +\n",
       "                        ' --sys-prefix</code><br />then restart your server.' +\n",
       "                        '<br /><br />(Interactive output not available on ' +\n",
       "                        'static notebook viewer services like nbviewer.)';\n",
       "    } else if (res.status === 409) {\n",
       "        div.innerHTML = 'Visualization no longer in scope. Re-run this cell' +\n",
       "                        ' to see the visualization.';\n",
       "    } else if (res.ok) {\n",
       "        url = res.url;\n",
       "        div.innerHTML = '<iframe src=\\'' + url + '\\' style=\\'' +\n",
       "                        'width: 100%; height: 700px; border: 0;\\'>' +\n",
       "                        '</iframe><hr />Open in a: <a href=\\'' + url + '\\'' +\n",
       "                        ' target=\\'_blank\\'>new window</a>'\n",
       "    } else {\n",
       "        div.innerHTML = 'Something has gone wrong. Check notebook server for' +\n",
       "                        ' errors.';\n",
       "    }\n",
       "});\n",
       "})(this.parentElement, '/qiime2/redirect?location=/scratch/lfloerl/tmpdata/qiime2/lfloerl/data/355afc14-f7cf-498b-839e-14e92b401a51')\" src=\"data:image/gif;base64,R0lGODlhAQABAIAAAP///wAAACH5BAEAAAAALAAAAAABAAEAAAICRAEAOw==\" /></div>"
      ],
      "text/plain": [
       "<visualization: Visualization uuid: 355afc14-f7cf-498b-839e-14e92b401a51>"
      ]
     },
     "execution_count": 14,
     "metadata": {},
     "output_type": "execute_result"
    }
   ],
   "source": [
    "Visualization.load('Climate-Regression/minimum_temperature/accuracy_results.qzv')"
   ]
  },
  {
   "cell_type": "code",
   "execution_count": 15,
   "id": "0179bc60",
   "metadata": {},
   "outputs": [
    {
     "data": {
      "text/html": [
       "<div><img onload=\"(function(div, url){\n",
       "if (typeof require !== 'undefined') {\n",
       "    var baseURL = require.toUrl('').split('/').slice(0, -2).join('/');\n",
       "} else {\n",
       "    var baseURL = JSON.parse(\n",
       "        document.getElementById('jupyter-config-data').innerHTML\n",
       "    ).baseUrl.slice(0, -1);\n",
       "}\n",
       "url = baseURL + url;\n",
       "fetch(url).then(function(res) {\n",
       "    if (res.status === 404) {\n",
       "        div.innerHTML = 'Install QIIME 2 Jupyter extension with:<br />' +\n",
       "                        '<code>jupyter server extension enable --py qiime2' +\n",
       "                        ' --sys-prefix</code><br />then restart your server.' +\n",
       "                        '<br /><br />(Interactive output not available on ' +\n",
       "                        'static notebook viewer services like nbviewer.)';\n",
       "    } else if (res.status === 409) {\n",
       "        div.innerHTML = 'Visualization no longer in scope. Re-run this cell' +\n",
       "                        ' to see the visualization.';\n",
       "    } else if (res.ok) {\n",
       "        url = res.url;\n",
       "        div.innerHTML = '<iframe src=\\'' + url + '\\' style=\\'' +\n",
       "                        'width: 100%; height: 700px; border: 0;\\'>' +\n",
       "                        '</iframe><hr />Open in a: <a href=\\'' + url + '\\'' +\n",
       "                        ' target=\\'_blank\\'>new window</a>'\n",
       "    } else {\n",
       "        div.innerHTML = 'Something has gone wrong. Check notebook server for' +\n",
       "                        ' errors.';\n",
       "    }\n",
       "});\n",
       "})(this.parentElement, '/qiime2/redirect?location=/scratch/lfloerl/tmpdata/qiime2/lfloerl/data/d0d209f3-f715-4fe0-a850-13737f44b324')\" src=\"data:image/gif;base64,R0lGODlhAQABAIAAAP///wAAACH5BAEAAAAALAAAAAABAAEAAAICRAEAOw==\" /></div>"
      ],
      "text/plain": [
       "<visualization: Visualization uuid: d0d209f3-f715-4fe0-a850-13737f44b324>"
      ]
     },
     "execution_count": 15,
     "metadata": {},
     "output_type": "execute_result"
    }
   ],
   "source": [
    "Visualization.load('Climate-Regression/accumulated_temperature/accuracy_results.qzv')"
   ]
  },
  {
   "cell_type": "code",
   "execution_count": 39,
   "id": "5c9fc354",
   "metadata": {},
   "outputs": [
    {
     "data": {
      "text/html": [
       "<div><img onload=\"(function(div, url){\n",
       "if (typeof require !== 'undefined') {\n",
       "    var baseURL = require.toUrl('').split('/').slice(0, -2).join('/');\n",
       "} else {\n",
       "    var baseURL = JSON.parse(\n",
       "        document.getElementById('jupyter-config-data').innerHTML\n",
       "    ).baseUrl.slice(0, -1);\n",
       "}\n",
       "url = baseURL + url;\n",
       "fetch(url).then(function(res) {\n",
       "    if (res.status === 404) {\n",
       "        div.innerHTML = 'Install QIIME 2 Jupyter extension with:<br />' +\n",
       "                        '<code>jupyter server extension enable --py qiime2' +\n",
       "                        ' --sys-prefix</code><br />then restart your server.' +\n",
       "                        '<br /><br />(Interactive output not available on ' +\n",
       "                        'static notebook viewer services like nbviewer.)';\n",
       "    } else if (res.status === 409) {\n",
       "        div.innerHTML = 'Visualization no longer in scope. Re-run this cell' +\n",
       "                        ' to see the visualization.';\n",
       "    } else if (res.ok) {\n",
       "        url = res.url;\n",
       "        div.innerHTML = '<iframe src=\\'' + url + '\\' style=\\'' +\n",
       "                        'width: 100%; height: 700px; border: 0;\\'>' +\n",
       "                        '</iframe><hr />Open in a: <a href=\\'' + url + '\\'' +\n",
       "                        ' target=\\'_blank\\'>new window</a>'\n",
       "    } else {\n",
       "        div.innerHTML = 'Something has gone wrong. Check notebook server for' +\n",
       "                        ' errors.';\n",
       "    }\n",
       "});\n",
       "})(this.parentElement, '/qiime2/redirect?location=/scratch/lfloerl/tmpdata/qiime2/lfloerl/data/684efba8-1434-4a76-9e93-b1a796a607c1')\" src=\"data:image/gif;base64,R0lGODlhAQABAIAAAP///wAAACH5BAEAAAAALAAAAAABAAEAAAICRAEAOw==\" /></div>"
      ],
      "text/plain": [
       "<visualization: Visualization uuid: 684efba8-1434-4a76-9e93-b1a796a607c1>"
      ]
     },
     "execution_count": 39,
     "metadata": {},
     "output_type": "execute_result"
    }
   ],
   "source": [
    "Visualization.load('Climate-Regression/cv_temperature/accuracy_results.qzv')"
   ]
  },
  {
   "cell_type": "markdown",
   "id": "0d8b9a9a",
   "metadata": {},
   "source": [
    "### Nicer visualizations!"
   ]
  },
  {
   "cell_type": "code",
   "execution_count": 7,
   "id": "a682a62c",
   "metadata": {},
   "outputs": [],
   "source": [
    "# Load true values from metadata\n",
    "metadata = pd.read_csv(\"/home/lfloerl/microterroir/Microbiome/Metadata/ITS_Lavaux_Climate.tsv\", sep=\"\\t\", index_col=0)"
   ]
  },
  {
   "cell_type": "code",
   "execution_count": 25,
   "id": "b3a0b7df",
   "metadata": {},
   "outputs": [],
   "source": [
    "#!mkdir Figures"
   ]
  },
  {
   "cell_type": "code",
   "execution_count": 28,
   "id": "071e25d8",
   "metadata": {},
   "outputs": [
    {
     "name": "stdout",
     "output_type": "stream",
     "text": [
      "/home/lfloerl/cloud/lfloerl/Microterroir/artifacts/ITS/lavaux/climate-berries\r\n"
     ]
    }
   ],
   "source": [
    "!pwd"
   ]
  },
  {
   "cell_type": "code",
   "execution_count": 29,
   "id": "ba3f18c0",
   "metadata": {},
   "outputs": [
    {
     "name": "stderr",
     "output_type": "stream",
     "text": [
      "/scratch/lfloerl/.condaenvs/qiime2-amplicon-2024.10/lib/python3.10/site-packages/q2_sample_classifier/_transformer.py:69: FutureWarning: errors='ignore' is deprecated and will raise in a future version. Use to_numeric without passing `errors` and catch exceptions explicitly instead\n",
      "  return pd.to_numeric(df.iloc[:, 0], errors='ignore')\n"
     ]
    },
    {
     "data": {
      "image/png": "[encoded data removed]",
      "text/plain": [
       "<Figure size 400x400 with 1 Axes>"
      ]
     },
     "metadata": {},
     "output_type": "display_data"
    }
   ],
   "source": [
    "## RH median \n",
    "\n",
    "# Load predictions from QIIME2\n",
    "predictions = Artifact.load(\"Climate-Regression/median_rh/predictions.qza\").view(pd.Series)\n",
    "\n",
    "# Extract true values (ensure indices match)\n",
    "true_values = metadata.loc[predictions.index, \"median_rh\"] \n",
    "\n",
    "# Create scatterplot\n",
    "plt.figure(figsize=(4, 4))\n",
    "sns.regplot(x=true_values, y=predictions, \n",
    "            scatter_kws={'s': 10, 'color': '#29AF7FFF', 'alpha':0.4}, \n",
    "            line_kws={'color': '#3F4788FF'})\n",
    "\n",
    "# Compute R² score\n",
    "r2 = r2_score(true_values, predictions)\n",
    "\n",
    "# Adjust text position slightly down\n",
    "y_text_position = np.max(predictions) - 0.03 * (np.max(predictions) - np.min(predictions))\n",
    "\n",
    "plt.text(np.min(true_values), y_text_position, f\"R² = {r2:.2f}\", \n",
    "         fontsize=12, color=\"#3F4788FF\")\n",
    "\n",
    "# Labels and title\n",
    "plt.xlabel(\"True RH\", fontsize=12)\n",
    "plt.ylabel(\"Predicted RH\", fontsize=12)\n",
    "#plt.title(\"Predicted vs. True Values (Regression)\")\n",
    "\n",
    "plt.savefig('Figures/Predicted_RH.png', dpi=1000, bbox_inches='tight')  \n",
    "plt.show()"
   ]
  },
  {
   "cell_type": "code",
   "execution_count": 30,
   "id": "252c6150",
   "metadata": {},
   "outputs": [
    {
     "name": "stderr",
     "output_type": "stream",
     "text": [
      "/scratch/lfloerl/.condaenvs/qiime2-amplicon-2024.10/lib/python3.10/site-packages/q2_sample_classifier/_transformer.py:69: FutureWarning: errors='ignore' is deprecated and will raise in a future version. Use to_numeric without passing `errors` and catch exceptions explicitly instead\n",
      "  return pd.to_numeric(df.iloc[:, 0], errors='ignore')\n"
     ]
    },
    {
     "data": {
      "image/png": "[encoded data removed]",
      "text/plain": [
       "<Figure size 400x400 with 1 Axes>"
      ]
     },
     "metadata": {},
     "output_type": "display_data"
    }
   ],
   "source": [
    "## median_temperature \n",
    "\n",
    "# Load predictions from QIIME2\n",
    "predictions = Artifact.load(\"Climate-Regression/median_temperature/predictions.qza\").view(pd.Series)\n",
    "\n",
    "# Extract true values (ensure indices match)\n",
    "true_values = metadata.loc[predictions.index, \"median_temperature\"] \n",
    "\n",
    "# Create scatterplot\n",
    "plt.figure(figsize=(4, 4))\n",
    "sns.regplot(x=true_values, y=predictions, \n",
    "            scatter_kws={'s': 10, 'color': '#29AF7FFF', 'alpha':0.4}, \n",
    "            line_kws={'color': '#3F4788FF'})\n",
    "\n",
    "# Compute R² score\n",
    "r2 = r2_score(true_values, predictions)\n",
    "\n",
    "# Adjust text position slightly down\n",
    "y_text_position = np.max(predictions) - 0.03 * (np.max(predictions) - np.min(predictions))\n",
    "\n",
    "plt.text(np.min(true_values), y_text_position, f\"R² = {r2:.2f}\", \n",
    "         fontsize=12, color=\"#3F4788FF\")\n",
    "\n",
    "# Labels and title\n",
    "plt.xlabel(\"True Temperature\", fontsize=12)\n",
    "plt.ylabel(\"Predicted Temperature\", fontsize=12)\n",
    "#plt.title(\"Predicted vs. True Values (Regression)\")\n",
    "\n",
    "plt.savefig('Figures/Predicted_Temp.png', dpi=1000, bbox_inches='tight')  \n",
    "\n",
    "plt.show()"
   ]
  },
  {
   "cell_type": "code",
   "execution_count": 31,
   "id": "8b864ce5",
   "metadata": {},
   "outputs": [
    {
     "name": "stderr",
     "output_type": "stream",
     "text": [
      "/scratch/lfloerl/.condaenvs/qiime2-amplicon-2024.10/lib/python3.10/site-packages/q2_sample_classifier/_transformer.py:69: FutureWarning: errors='ignore' is deprecated and will raise in a future version. Use to_numeric without passing `errors` and catch exceptions explicitly instead\n",
      "  return pd.to_numeric(df.iloc[:, 0], errors='ignore')\n"
     ]
    },
    {
     "data": {
      "image/png": "[encoded data removed]",
      "text/plain": [
       "<Figure size 400x400 with 1 Axes>"
      ]
     },
     "metadata": {},
     "output_type": "display_data"
    }
   ],
   "source": [
    "## RH min  \n",
    "\n",
    "# Load predictions from QIIME2\n",
    "predictions = Artifact.load(\"Climate-Regression/minimum_rh/predictions.qza\").view(pd.Series)\n",
    "\n",
    "# Extract true values (ensure indices match)\n",
    "true_values = metadata.loc[predictions.index, \"minimum_rh\"] \n",
    "\n",
    "# Create scatterplot\n",
    "plt.figure(figsize=(4, 4))\n",
    "sns.regplot(x=true_values, y=predictions, \n",
    "            scatter_kws={'s': 10, 'color': '#29AF7FFF', 'alpha':0.4}, \n",
    "            line_kws={'color': '#3F4788FF'})\n",
    "\n",
    "# Compute R² score\n",
    "r2 = r2_score(true_values, predictions)\n",
    "\n",
    "# Adjust text position slightly down\n",
    "y_text_position = np.max(predictions) - 0.03 * (np.max(predictions) - np.min(predictions))\n",
    "\n",
    "plt.text(np.min(true_values), y_text_position, f\"R² = {r2:.2f}\", \n",
    "         fontsize=12, color=\"#3F4788FF\")\n",
    "\n",
    "# Labels and title\n",
    "plt.xlabel(\"True Values\", fontsize=12)\n",
    "plt.ylabel(\"Predicted Values\", fontsize=12)\n",
    "#plt.title(\"Predicted vs. True Values (Regression)\")\n",
    "\n",
    "plt.show()"
   ]
  },
  {
   "cell_type": "code",
   "execution_count": null,
   "id": "28d45e70",
   "metadata": {},
   "outputs": [],
   "source": []
  }
 ],
 "metadata": {
  "kernelspec": {
   "display_name": "Python 3 (ipykernel)",
   "language": "python",
   "name": "python3"
  },
  "language_info": {
   "codemirror_mode": {
    "name": "ipython",
    "version": 3
   },
   "file_extension": ".py",
   "mimetype": "text/x-python",
   "name": "python",
   "nbconvert_exporter": "python",
   "pygments_lexer": "ipython3",
   "version": "3.10.14"
  }
 },
 "nbformat": 4,
 "nbformat_minor": 5
}
