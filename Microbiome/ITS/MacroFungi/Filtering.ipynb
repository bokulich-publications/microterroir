{
 "cells": [
  {
   "cell_type": "markdown",
   "id": "f5d69ee2",
   "metadata": {},
   "source": [
    "# Does spatial heterogeneity change when we don't filter Macrofungi? "
   ]
  },
  {
   "cell_type": "code",
   "execution_count": 25,
   "id": "5645eab5",
   "metadata": {},
   "outputs": [],
   "source": [
    "from qiime2 import Visualization\n",
    "from qiime2 import Metadata, Artifact\n",
    "\n",
    "from qiime2.plugins.feature_table.methods import filter_samples\n",
    "\n",
    "%matplotlib inline"
   ]
  },
  {
   "cell_type": "code",
   "execution_count": 4,
   "id": "d5c8209c",
   "metadata": {},
   "outputs": [],
   "source": [
    "#!mkdir /home/lfloerl/cloud/lfloerl/Microterroir/artifacts/ITS/macrofungi"
   ]
  },
  {
   "cell_type": "code",
   "execution_count": 5,
   "id": "274b5355",
   "metadata": {},
   "outputs": [
    {
     "name": "stdout",
     "output_type": "stream",
     "text": [
      "/home/lfloerl/cloud/lfloerl/Microterroir/artifacts/ITS/macrofungi\n"
     ]
    }
   ],
   "source": [
    "wd = '/home/lfloerl/cloud/lfloerl/Microterroir/artifacts/ITS/macrofungi'\n",
    "%cd $wd "
   ]
  },
  {
   "cell_type": "code",
   "execution_count": 2,
   "id": "f3917d02",
   "metadata": {},
   "outputs": [
    {
     "name": "stdout",
     "output_type": "stream",
     "text": [
      "env: TMPDIR=/scratch/lfloerl/tmpdata\n"
     ]
    }
   ],
   "source": [
    "%env TMPDIR=/scratch/lfloerl/tmpdata"
   ]
  },
  {
   "cell_type": "markdown",
   "id": "5fc98552",
   "metadata": {},
   "source": [
    "## Filtering - same from Decontam but without removing Mushrooms "
   ]
  },
  {
   "cell_type": "code",
   "execution_count": 8,
   "id": "ace8624d",
   "metadata": {
    "scrolled": false
   },
   "outputs": [
    {
     "name": "stdout",
     "output_type": "stream",
     "text": [
      "Saved FeatureTable[Frequency] to: fungi_filtered_table.qza\n",
      "Saved FeatureTable[Frequency] to: phylum_filtered_table.qza\n",
      "Saved FeatureTable[Frequency] to: taxa_filtered_table.qza\n",
      "Saved Visualization to: taxa_filtered_table.qzv\n"
     ]
    }
   ],
   "source": [
    "%%bash\n",
    "\n",
    "# filter fungi\n",
    "qiime taxa filter-table \\\n",
    "  --i-table /home/lfloerl/cloud/lfloerl/Microterroir/artifacts/ITS/decontam-table.qza \\\n",
    "  --i-taxonomy /home/lfloerl/cloud/lfloerl/Microterroir/artifacts/ITS/taxonomy.qza \\\n",
    "  --p-include 'k__Fung' \\\n",
    "  --o-filtered-table fungi_filtered_table.qza\n",
    "\n",
    "# classified to feature level\n",
    "qiime taxa filter-table \\\n",
    "  --i-table fungi_filtered_table.qza \\\n",
    "  --i-taxonomy /home/lfloerl/cloud/lfloerl/Microterroir/artifacts/ITS/taxonomy.qza \\\n",
    "  --p-include 'p__' \\\n",
    "  --o-filtered-table phylum_filtered_table.qza\n",
    "  \n",
    "# my metadata\n",
    "qiime feature-table filter-samples \\\n",
    "  --i-table phylum_filtered_table.qza \\\n",
    "  --m-metadata-file /home/lfloerl/microterroir/Microbiome/Metadata/ITS_md.tsv \\\n",
    "  --o-filtered-table taxa_filtered_table.qza\n",
    "\n",
    "qiime feature-table summarize --i-table taxa_filtered_table.qza --o-visualization taxa_filtered_table.qzv"
   ]
  },
  {
   "cell_type": "markdown",
   "id": "e85dd29e",
   "metadata": {},
   "source": [
    "# Check how many samples/reads per project"
   ]
  },
  {
   "cell_type": "code",
   "execution_count": 9,
   "id": "38405108",
   "metadata": {},
   "outputs": [
    {
     "name": "stdout",
     "output_type": "stream",
     "text": [
      "Saved FeatureTable[Frequency] to: projects/WINE_filtered_table.qza\n",
      "Saved FeatureTable[Frequency] to: projects/BotrytizedWine_filtered_table.qza\n",
      "Saved FeatureTable[Frequency] to: projects/Lavaux_filtered_table.qza\n",
      "Saved FeatureTable[Frequency] to: projects/SoilColonialization_filtered_table.qza\n",
      "Saved FeatureTable[Frequency] to: projects/SamplingBenchmarking_filtered_table.qza\n",
      "Saved FeatureTable[Frequency] to: projects/Valais_filtered_table.qza\n",
      "Saved Visualization to: projects/WINE_filtered_table.qzv\n",
      "Saved Visualization to: projects/BotrytizedWine_filtered_table.qzv\n",
      "Saved Visualization to: projects/Lavaux_filtered_table.qzv\n",
      "Saved Visualization to: projects/SoilColonialization_filtered_table.qzv\n",
      "Saved Visualization to: projects/SamplingBenchmarking_filtered_table.qzv\n",
      "Saved Visualization to: projects/Valais_filtered_table.qzv\n"
     ]
    }
   ],
   "source": [
    "%%bash \n",
    "\n",
    "mkdir projects\n",
    "\n",
    "qiime feature-table filter-samples \\\n",
    "  --i-table taxa_filtered_table.qza \\\n",
    "  --m-metadata-file /home/lfloerl/microterroir/Microbiome/Metadata/ITS_md.tsv \\\n",
    "  --p-where \"[Project]='WINE' AND [CTRL]='Sample'\" \\\n",
    "  --o-filtered-table projects/WINE_filtered_table.qza\n",
    "  \n",
    "qiime feature-table filter-samples \\\n",
    "  --i-table taxa_filtered_table.qza \\\n",
    "  --m-metadata-file /home/lfloerl/microterroir/Microbiome/Metadata/ITS_md.tsv \\\n",
    "  --p-where \"[Project]='BotrytizedWine' AND [CTRL]='Sample'\" \\\n",
    "  --o-filtered-table projects/BotrytizedWine_filtered_table.qza\n",
    "  \n",
    "qiime feature-table filter-samples \\\n",
    "  --i-table taxa_filtered_table.qza \\\n",
    "  --m-metadata-file /home/lfloerl/microterroir/Microbiome/Metadata/ITS_md.tsv \\\n",
    "  --p-where \"[Project]='Lavaux' AND [CTRL]='Sample'\" \\\n",
    "  --o-filtered-table projects/Lavaux_filtered_table.qza\n",
    "\n",
    "qiime feature-table filter-samples \\\n",
    "  --i-table taxa_filtered_table.qza \\\n",
    "  --m-metadata-file /home/lfloerl/microterroir/Microbiome/Metadata/ITS_md.tsv \\\n",
    "  --p-where \"[Project]='SoilColonialization' AND [CTRL]='Sample'\" \\\n",
    "  --o-filtered-table projects/SoilColonialization_filtered_table.qza\n",
    "\n",
    "qiime feature-table filter-samples \\\n",
    "  --i-table taxa_filtered_table.qza \\\n",
    "  --m-metadata-file /home/lfloerl/microterroir/Microbiome/Metadata/ITS_md.tsv \\\n",
    "  --p-where \"[Project]='SamplingBenchmarking' AND [CTRL]='Sample'\" \\\n",
    "  --o-filtered-table projects/SamplingBenchmarking_filtered_table.qza\n",
    "\n",
    "qiime feature-table filter-samples \\\n",
    "  --i-table taxa_filtered_table.qza \\\n",
    "  --m-metadata-file /home/lfloerl/microterroir/Microbiome/Metadata/ITS_md.tsv \\\n",
    "  --p-where \"[Project]='Valais' AND [CTRL]='Sample'\" \\\n",
    "  --o-filtered-table projects/Valais_filtered_table.qza\n",
    "\n",
    "qiime feature-table summarize --i-table projects/WINE_filtered_table.qza --o-visualization projects/WINE_filtered_table.qzv\n",
    "qiime feature-table summarize --i-table projects/BotrytizedWine_filtered_table.qza --o-visualization projects/BotrytizedWine_filtered_table.qzv\n",
    "qiime feature-table summarize --i-table projects/Lavaux_filtered_table.qza --o-visualization projects/Lavaux_filtered_table.qzv\n",
    "qiime feature-table summarize --i-table projects/SoilColonialization_filtered_table.qza --o-visualization projects/SoilColonialization_filtered_table.qzv\n",
    "qiime feature-table summarize --i-table projects/SamplingBenchmarking_filtered_table.qza --o-visualization projects/SamplingBenchmarking_filtered_table.qzv\n",
    "qiime feature-table summarize --i-table projects/Valais_filtered_table.qza --o-visualization projects/Valais_filtered_table.qzv"
   ]
  },
  {
   "cell_type": "code",
   "execution_count": 12,
   "id": "e2bd3d1d",
   "metadata": {},
   "outputs": [
    {
     "data": {
      "text/html": [
       "<div><img onload=\"(function(div, url){\n",
       "if (typeof require !== 'undefined') {\n",
       "    var baseURL = require.toUrl('').split('/').slice(0, -2).join('/');\n",
       "} else {\n",
       "    var baseURL = JSON.parse(\n",
       "        document.getElementById('jupyter-config-data').innerHTML\n",
       "    ).baseUrl.slice(0, -1);\n",
       "}\n",
       "url = baseURL + url;\n",
       "fetch(url).then(function(res) {\n",
       "    if (res.status === 404) {\n",
       "        div.innerHTML = 'Install QIIME 2 Jupyter extension with:<br />' +\n",
       "                        '<code>jupyter server extension enable --py qiime2' +\n",
       "                        ' --sys-prefix</code><br />then restart your server.' +\n",
       "                        '<br /><br />(Interactive output not available on ' +\n",
       "                        'static notebook viewer services like nbviewer.)';\n",
       "    } else if (res.status === 409) {\n",
       "        div.innerHTML = 'Visualization no longer in scope. Re-run this cell' +\n",
       "                        ' to see the visualization.';\n",
       "    } else if (res.ok) {\n",
       "        url = res.url;\n",
       "        div.innerHTML = '<iframe src=\\'' + url + '\\' style=\\'' +\n",
       "                        'width: 100%; height: 700px; border: 0;\\'>' +\n",
       "                        '</iframe><hr />Open in a: <a href=\\'' + url + '\\'' +\n",
       "                        ' target=\\'_blank\\'>new window</a>'\n",
       "    } else {\n",
       "        div.innerHTML = 'Something has gone wrong. Check notebook server for' +\n",
       "                        ' errors.';\n",
       "    }\n",
       "});\n",
       "})(this.parentElement, '/qiime2/redirect?location=/scratch/lfloerl/tmpdata/qiime2/lfloerl/data/e70283cc-4de0-4b63-a15d-b212af24a3f7')\" src=\"data:image/gif;base64,R0lGODlhAQABAIAAAP///wAAACH5BAEAAAAALAAAAAABAAEAAAICRAEAOw==\" /></div>"
      ],
      "text/plain": [
       "<visualization: Visualization uuid: e70283cc-4de0-4b63-a15d-b212af24a3f7>"
      ]
     },
     "execution_count": 12,
     "metadata": {},
     "output_type": "execute_result"
    }
   ],
   "source": [
    "Visualization.load('taxa_filtered_table.qzv')"
   ]
  },
  {
   "cell_type": "code",
   "execution_count": 13,
   "id": "a8690f4d",
   "metadata": {},
   "outputs": [
    {
     "data": {
      "text/html": [
       "<div><img onload=\"(function(div, url){\n",
       "if (typeof require !== 'undefined') {\n",
       "    var baseURL = require.toUrl('').split('/').slice(0, -2).join('/');\n",
       "} else {\n",
       "    var baseURL = JSON.parse(\n",
       "        document.getElementById('jupyter-config-data').innerHTML\n",
       "    ).baseUrl.slice(0, -1);\n",
       "}\n",
       "url = baseURL + url;\n",
       "fetch(url).then(function(res) {\n",
       "    if (res.status === 404) {\n",
       "        div.innerHTML = 'Install QIIME 2 Jupyter extension with:<br />' +\n",
       "                        '<code>jupyter server extension enable --py qiime2' +\n",
       "                        ' --sys-prefix</code><br />then restart your server.' +\n",
       "                        '<br /><br />(Interactive output not available on ' +\n",
       "                        'static notebook viewer services like nbviewer.)';\n",
       "    } else if (res.status === 409) {\n",
       "        div.innerHTML = 'Visualization no longer in scope. Re-run this cell' +\n",
       "                        ' to see the visualization.';\n",
       "    } else if (res.ok) {\n",
       "        url = res.url;\n",
       "        div.innerHTML = '<iframe src=\\'' + url + '\\' style=\\'' +\n",
       "                        'width: 100%; height: 700px; border: 0;\\'>' +\n",
       "                        '</iframe><hr />Open in a: <a href=\\'' + url + '\\'' +\n",
       "                        ' target=\\'_blank\\'>new window</a>'\n",
       "    } else {\n",
       "        div.innerHTML = 'Something has gone wrong. Check notebook server for' +\n",
       "                        ' errors.';\n",
       "    }\n",
       "});\n",
       "})(this.parentElement, '/qiime2/redirect?location=/scratch/lfloerl/tmpdata/qiime2/lfloerl/data/4e77e45c-5216-4a67-acaa-ad996fa6bffb')\" src=\"data:image/gif;base64,R0lGODlhAQABAIAAAP///wAAACH5BAEAAAAALAAAAAABAAEAAAICRAEAOw==\" /></div>"
      ],
      "text/plain": [
       "<visualization: Visualization uuid: 4e77e45c-5216-4a67-acaa-ad996fa6bffb>"
      ]
     },
     "execution_count": 13,
     "metadata": {},
     "output_type": "execute_result"
    }
   ],
   "source": [
    "Visualization.load('projects/WINE_filtered_table.qzv')"
   ]
  },
  {
   "cell_type": "code",
   "execution_count": 14,
   "id": "0af3ad5a",
   "metadata": {},
   "outputs": [
    {
     "data": {
      "text/html": [
       "<div><img onload=\"(function(div, url){\n",
       "if (typeof require !== 'undefined') {\n",
       "    var baseURL = require.toUrl('').split('/').slice(0, -2).join('/');\n",
       "} else {\n",
       "    var baseURL = JSON.parse(\n",
       "        document.getElementById('jupyter-config-data').innerHTML\n",
       "    ).baseUrl.slice(0, -1);\n",
       "}\n",
       "url = baseURL + url;\n",
       "fetch(url).then(function(res) {\n",
       "    if (res.status === 404) {\n",
       "        div.innerHTML = 'Install QIIME 2 Jupyter extension with:<br />' +\n",
       "                        '<code>jupyter server extension enable --py qiime2' +\n",
       "                        ' --sys-prefix</code><br />then restart your server.' +\n",
       "                        '<br /><br />(Interactive output not available on ' +\n",
       "                        'static notebook viewer services like nbviewer.)';\n",
       "    } else if (res.status === 409) {\n",
       "        div.innerHTML = 'Visualization no longer in scope. Re-run this cell' +\n",
       "                        ' to see the visualization.';\n",
       "    } else if (res.ok) {\n",
       "        url = res.url;\n",
       "        div.innerHTML = '<iframe src=\\'' + url + '\\' style=\\'' +\n",
       "                        'width: 100%; height: 700px; border: 0;\\'>' +\n",
       "                        '</iframe><hr />Open in a: <a href=\\'' + url + '\\'' +\n",
       "                        ' target=\\'_blank\\'>new window</a>'\n",
       "    } else {\n",
       "        div.innerHTML = 'Something has gone wrong. Check notebook server for' +\n",
       "                        ' errors.';\n",
       "    }\n",
       "});\n",
       "})(this.parentElement, '/qiime2/redirect?location=/scratch/lfloerl/tmpdata/qiime2/lfloerl/data/67c1c43a-4bae-483d-b538-9ece2b825e58')\" src=\"data:image/gif;base64,R0lGODlhAQABAIAAAP///wAAACH5BAEAAAAALAAAAAABAAEAAAICRAEAOw==\" /></div>"
      ],
      "text/plain": [
       "<visualization: Visualization uuid: 67c1c43a-4bae-483d-b538-9ece2b825e58>"
      ]
     },
     "execution_count": 14,
     "metadata": {},
     "output_type": "execute_result"
    }
   ],
   "source": [
    "Visualization.load('projects/BotrytizedWine_filtered_table.qzv')"
   ]
  },
  {
   "cell_type": "code",
   "execution_count": 15,
   "id": "b14885b0",
   "metadata": {},
   "outputs": [
    {
     "data": {
      "text/html": [
       "<div><img onload=\"(function(div, url){\n",
       "if (typeof require !== 'undefined') {\n",
       "    var baseURL = require.toUrl('').split('/').slice(0, -2).join('/');\n",
       "} else {\n",
       "    var baseURL = JSON.parse(\n",
       "        document.getElementById('jupyter-config-data').innerHTML\n",
       "    ).baseUrl.slice(0, -1);\n",
       "}\n",
       "url = baseURL + url;\n",
       "fetch(url).then(function(res) {\n",
       "    if (res.status === 404) {\n",
       "        div.innerHTML = 'Install QIIME 2 Jupyter extension with:<br />' +\n",
       "                        '<code>jupyter server extension enable --py qiime2' +\n",
       "                        ' --sys-prefix</code><br />then restart your server.' +\n",
       "                        '<br /><br />(Interactive output not available on ' +\n",
       "                        'static notebook viewer services like nbviewer.)';\n",
       "    } else if (res.status === 409) {\n",
       "        div.innerHTML = 'Visualization no longer in scope. Re-run this cell' +\n",
       "                        ' to see the visualization.';\n",
       "    } else if (res.ok) {\n",
       "        url = res.url;\n",
       "        div.innerHTML = '<iframe src=\\'' + url + '\\' style=\\'' +\n",
       "                        'width: 100%; height: 700px; border: 0;\\'>' +\n",
       "                        '</iframe><hr />Open in a: <a href=\\'' + url + '\\'' +\n",
       "                        ' target=\\'_blank\\'>new window</a>'\n",
       "    } else {\n",
       "        div.innerHTML = 'Something has gone wrong. Check notebook server for' +\n",
       "                        ' errors.';\n",
       "    }\n",
       "});\n",
       "})(this.parentElement, '/qiime2/redirect?location=/scratch/lfloerl/tmpdata/qiime2/lfloerl/data/a7905699-3500-45ea-8316-24b9daa76911')\" src=\"data:image/gif;base64,R0lGODlhAQABAIAAAP///wAAACH5BAEAAAAALAAAAAABAAEAAAICRAEAOw==\" /></div>"
      ],
      "text/plain": [
       "<visualization: Visualization uuid: a7905699-3500-45ea-8316-24b9daa76911>"
      ]
     },
     "execution_count": 15,
     "metadata": {},
     "output_type": "execute_result"
    }
   ],
   "source": [
    "Visualization.load('projects/Lavaux_filtered_table.qzv')"
   ]
  },
  {
   "cell_type": "code",
   "execution_count": 16,
   "id": "03dfa53c",
   "metadata": {},
   "outputs": [
    {
     "data": {
      "text/html": [
       "<div><img onload=\"(function(div, url){\n",
       "if (typeof require !== 'undefined') {\n",
       "    var baseURL = require.toUrl('').split('/').slice(0, -2).join('/');\n",
       "} else {\n",
       "    var baseURL = JSON.parse(\n",
       "        document.getElementById('jupyter-config-data').innerHTML\n",
       "    ).baseUrl.slice(0, -1);\n",
       "}\n",
       "url = baseURL + url;\n",
       "fetch(url).then(function(res) {\n",
       "    if (res.status === 404) {\n",
       "        div.innerHTML = 'Install QIIME 2 Jupyter extension with:<br />' +\n",
       "                        '<code>jupyter server extension enable --py qiime2' +\n",
       "                        ' --sys-prefix</code><br />then restart your server.' +\n",
       "                        '<br /><br />(Interactive output not available on ' +\n",
       "                        'static notebook viewer services like nbviewer.)';\n",
       "    } else if (res.status === 409) {\n",
       "        div.innerHTML = 'Visualization no longer in scope. Re-run this cell' +\n",
       "                        ' to see the visualization.';\n",
       "    } else if (res.ok) {\n",
       "        url = res.url;\n",
       "        div.innerHTML = '<iframe src=\\'' + url + '\\' style=\\'' +\n",
       "                        'width: 100%; height: 700px; border: 0;\\'>' +\n",
       "                        '</iframe><hr />Open in a: <a href=\\'' + url + '\\'' +\n",
       "                        ' target=\\'_blank\\'>new window</a>'\n",
       "    } else {\n",
       "        div.innerHTML = 'Something has gone wrong. Check notebook server for' +\n",
       "                        ' errors.';\n",
       "    }\n",
       "});\n",
       "})(this.parentElement, '/qiime2/redirect?location=/scratch/lfloerl/tmpdata/qiime2/lfloerl/data/ff4affec-6d41-425d-9a69-5a850a69a176')\" src=\"data:image/gif;base64,R0lGODlhAQABAIAAAP///wAAACH5BAEAAAAALAAAAAABAAEAAAICRAEAOw==\" /></div>"
      ],
      "text/plain": [
       "<visualization: Visualization uuid: ff4affec-6d41-425d-9a69-5a850a69a176>"
      ]
     },
     "execution_count": 16,
     "metadata": {},
     "output_type": "execute_result"
    }
   ],
   "source": [
    "Visualization.load('projects/SoilColonialization_filtered_table.qzv')"
   ]
  },
  {
   "cell_type": "code",
   "execution_count": 17,
   "id": "efd277e2",
   "metadata": {},
   "outputs": [
    {
     "data": {
      "text/html": [
       "<div><img onload=\"(function(div, url){\n",
       "if (typeof require !== 'undefined') {\n",
       "    var baseURL = require.toUrl('').split('/').slice(0, -2).join('/');\n",
       "} else {\n",
       "    var baseURL = JSON.parse(\n",
       "        document.getElementById('jupyter-config-data').innerHTML\n",
       "    ).baseUrl.slice(0, -1);\n",
       "}\n",
       "url = baseURL + url;\n",
       "fetch(url).then(function(res) {\n",
       "    if (res.status === 404) {\n",
       "        div.innerHTML = 'Install QIIME 2 Jupyter extension with:<br />' +\n",
       "                        '<code>jupyter server extension enable --py qiime2' +\n",
       "                        ' --sys-prefix</code><br />then restart your server.' +\n",
       "                        '<br /><br />(Interactive output not available on ' +\n",
       "                        'static notebook viewer services like nbviewer.)';\n",
       "    } else if (res.status === 409) {\n",
       "        div.innerHTML = 'Visualization no longer in scope. Re-run this cell' +\n",
       "                        ' to see the visualization.';\n",
       "    } else if (res.ok) {\n",
       "        url = res.url;\n",
       "        div.innerHTML = '<iframe src=\\'' + url + '\\' style=\\'' +\n",
       "                        'width: 100%; height: 700px; border: 0;\\'>' +\n",
       "                        '</iframe><hr />Open in a: <a href=\\'' + url + '\\'' +\n",
       "                        ' target=\\'_blank\\'>new window</a>'\n",
       "    } else {\n",
       "        div.innerHTML = 'Something has gone wrong. Check notebook server for' +\n",
       "                        ' errors.';\n",
       "    }\n",
       "});\n",
       "})(this.parentElement, '/qiime2/redirect?location=/scratch/lfloerl/tmpdata/qiime2/lfloerl/data/e7b7920b-ba9a-4fa0-ac46-f660a86cecfd')\" src=\"data:image/gif;base64,R0lGODlhAQABAIAAAP///wAAACH5BAEAAAAALAAAAAABAAEAAAICRAEAOw==\" /></div>"
      ],
      "text/plain": [
       "<visualization: Visualization uuid: e7b7920b-ba9a-4fa0-ac46-f660a86cecfd>"
      ]
     },
     "execution_count": 17,
     "metadata": {},
     "output_type": "execute_result"
    }
   ],
   "source": [
    "Visualization.load('projects/SamplingBenchmarking_filtered_table.qzv')"
   ]
  },
  {
   "cell_type": "code",
   "execution_count": 18,
   "id": "c22b06cc",
   "metadata": {},
   "outputs": [
    {
     "data": {
      "text/html": [
       "<div><img onload=\"(function(div, url){\n",
       "if (typeof require !== 'undefined') {\n",
       "    var baseURL = require.toUrl('').split('/').slice(0, -2).join('/');\n",
       "} else {\n",
       "    var baseURL = JSON.parse(\n",
       "        document.getElementById('jupyter-config-data').innerHTML\n",
       "    ).baseUrl.slice(0, -1);\n",
       "}\n",
       "url = baseURL + url;\n",
       "fetch(url).then(function(res) {\n",
       "    if (res.status === 404) {\n",
       "        div.innerHTML = 'Install QIIME 2 Jupyter extension with:<br />' +\n",
       "                        '<code>jupyter server extension enable --py qiime2' +\n",
       "                        ' --sys-prefix</code><br />then restart your server.' +\n",
       "                        '<br /><br />(Interactive output not available on ' +\n",
       "                        'static notebook viewer services like nbviewer.)';\n",
       "    } else if (res.status === 409) {\n",
       "        div.innerHTML = 'Visualization no longer in scope. Re-run this cell' +\n",
       "                        ' to see the visualization.';\n",
       "    } else if (res.ok) {\n",
       "        url = res.url;\n",
       "        div.innerHTML = '<iframe src=\\'' + url + '\\' style=\\'' +\n",
       "                        'width: 100%; height: 700px; border: 0;\\'>' +\n",
       "                        '</iframe><hr />Open in a: <a href=\\'' + url + '\\'' +\n",
       "                        ' target=\\'_blank\\'>new window</a>'\n",
       "    } else {\n",
       "        div.innerHTML = 'Something has gone wrong. Check notebook server for' +\n",
       "                        ' errors.';\n",
       "    }\n",
       "});\n",
       "})(this.parentElement, '/qiime2/redirect?location=/scratch/lfloerl/tmpdata/qiime2/lfloerl/data/91c5ab57-b80a-4021-95a6-2e225d8ecb61')\" src=\"data:image/gif;base64,R0lGODlhAQABAIAAAP///wAAACH5BAEAAAAALAAAAAABAAEAAAICRAEAOw==\" /></div>"
      ],
      "text/plain": [
       "<visualization: Visualization uuid: 91c5ab57-b80a-4021-95a6-2e225d8ecb61>"
      ]
     },
     "execution_count": 18,
     "metadata": {},
     "output_type": "execute_result"
    }
   ],
   "source": [
    "Visualization.load('projects/Valais_filtered_table.qzv')"
   ]
  },
  {
   "cell_type": "markdown",
   "id": "2cbbd248",
   "metadata": {},
   "source": [
    "# Check how many samples/reads per sample type in Lavaux"
   ]
  },
  {
   "cell_type": "code",
   "execution_count": 19,
   "id": "265f6ec4",
   "metadata": {},
   "outputs": [],
   "source": [
    "!mkdir lavaux"
   ]
  },
  {
   "cell_type": "code",
   "execution_count": 22,
   "id": "ba368659",
   "metadata": {
    "scrolled": true
   },
   "outputs": [],
   "source": [
    "md = Metadata.load('/home/lfloerl/microterroir/Microbiome/Metadata/ITS_lavaux.tsv')\n",
    "table = Artifact.load('projects/Lavaux_filtered_table.qza')"
   ]
  },
  {
   "cell_type": "code",
   "execution_count": 29,
   "id": "b2e5f0f2",
   "metadata": {},
   "outputs": [
    {
     "name": "stdout",
     "output_type": "stream",
     "text": [
      "\u001b[32mSaved Visualization to: lavaux/must_filtered_table.qzv\u001b[0m\n",
      "\u001b[0m\u001b[32mSaved Visualization to: lavaux/mv_filtered_table.qzv\u001b[0m\n",
      "\u001b[0m\u001b[32mSaved Visualization to: lavaux/soil_filtered_table.qzv\u001b[0m\n",
      "\u001b[0m\u001b[32mSaved Visualization to: lavaux/leaf_filtered_table.qzv\u001b[0m\n",
      "\u001b[0m\u001b[32mSaved Visualization to: lavaux/bark_filtered_table.qzv\u001b[0m\n",
      "\u001b[0m"
     ]
    }
   ],
   "source": [
    "# berry samples \n",
    "must_filtered_table, = filter_samples(table=table, metadata=md, where=\"[sample_type]='must'\")\n",
    "must_filtered_table.save('lavaux/must_filtered_table.qza')\n",
    "!qiime feature-table summarize --i-table lavaux/must_filtered_table.qza --o-visualization lavaux/must_filtered_table.qzv\n",
    "\n",
    "# microvinification samples \n",
    "mv_filtered_table, = filter_samples(table=table, metadata=md, \n",
    "                                    where=\"[sample_type]='Post-AF' OR [sample_type]='Post-MLF' OR [sample_type]='MV-must'\")\n",
    "mv_filtered_table.save('lavaux/mv_filtered_table.qza')\n",
    "!qiime feature-table summarize --i-table lavaux/mv_filtered_table.qza --o-visualization lavaux/mv_filtered_table.qzv\n",
    "\n",
    "# soil samples \n",
    "soil_filtered_table, = filter_samples(table=table, metadata=md, where=\"[sample_type]='soil'\")\n",
    "soil_filtered_table.save('lavaux/soil_filtered_table.qza')\n",
    "!qiime feature-table summarize --i-table lavaux/soil_filtered_table.qza --o-visualization lavaux/soil_filtered_table.qzv\n",
    "\n",
    "# leaf samples \n",
    "leaf_filtered_table, = filter_samples(table=table, metadata=md, where=\"[sample_type]='leaf'\")\n",
    "leaf_filtered_table.save('lavaux/leaf_filtered_table.qza')\n",
    "!qiime feature-table summarize --i-table lavaux/leaf_filtered_table.qza --o-visualization lavaux/leaf_filtered_table.qzv\n",
    "\n",
    "# bark samples \n",
    "bark_filtered_table, = filter_samples(table=table, metadata=md, where=\"[sample_type]='bark'\")\n",
    "bark_filtered_table.save('lavaux/bark_filtered_table.qza')\n",
    "!qiime feature-table summarize --i-table lavaux/bark_filtered_table.qza --o-visualization lavaux/bark_filtered_table.qzv"
   ]
  },
  {
   "cell_type": "code",
   "execution_count": 30,
   "id": "87d87e0f",
   "metadata": {},
   "outputs": [
    {
     "data": {
      "text/html": [
       "<div><img onload=\"(function(div, url){\n",
       "if (typeof require !== 'undefined') {\n",
       "    var baseURL = require.toUrl('').split('/').slice(0, -2).join('/');\n",
       "} else {\n",
       "    var baseURL = JSON.parse(\n",
       "        document.getElementById('jupyter-config-data').innerHTML\n",
       "    ).baseUrl.slice(0, -1);\n",
       "}\n",
       "url = baseURL + url;\n",
       "fetch(url).then(function(res) {\n",
       "    if (res.status === 404) {\n",
       "        div.innerHTML = 'Install QIIME 2 Jupyter extension with:<br />' +\n",
       "                        '<code>jupyter server extension enable --py qiime2' +\n",
       "                        ' --sys-prefix</code><br />then restart your server.' +\n",
       "                        '<br /><br />(Interactive output not available on ' +\n",
       "                        'static notebook viewer services like nbviewer.)';\n",
       "    } else if (res.status === 409) {\n",
       "        div.innerHTML = 'Visualization no longer in scope. Re-run this cell' +\n",
       "                        ' to see the visualization.';\n",
       "    } else if (res.ok) {\n",
       "        url = res.url;\n",
       "        div.innerHTML = '<iframe src=\\'' + url + '\\' style=\\'' +\n",
       "                        'width: 100%; height: 700px; border: 0;\\'>' +\n",
       "                        '</iframe><hr />Open in a: <a href=\\'' + url + '\\'' +\n",
       "                        ' target=\\'_blank\\'>new window</a>'\n",
       "    } else {\n",
       "        div.innerHTML = 'Something has gone wrong. Check notebook server for' +\n",
       "                        ' errors.';\n",
       "    }\n",
       "});\n",
       "})(this.parentElement, '/qiime2/redirect?location=/scratch/lfloerl/tmpdata/qiime2/lfloerl/data/2589a44c-545a-4201-8668-9cbc454920bd')\" src=\"data:image/gif;base64,R0lGODlhAQABAIAAAP///wAAACH5BAEAAAAALAAAAAABAAEAAAICRAEAOw==\" /></div>"
      ],
      "text/plain": [
       "<visualization: Visualization uuid: 2589a44c-545a-4201-8668-9cbc454920bd>"
      ]
     },
     "execution_count": 30,
     "metadata": {},
     "output_type": "execute_result"
    }
   ],
   "source": [
    "Visualization.load('lavaux/must_filtered_table.qzv')"
   ]
  },
  {
   "cell_type": "code",
   "execution_count": 31,
   "id": "9ba0ccb2",
   "metadata": {},
   "outputs": [
    {
     "data": {
      "text/html": [
       "<div><img onload=\"(function(div, url){\n",
       "if (typeof require !== 'undefined') {\n",
       "    var baseURL = require.toUrl('').split('/').slice(0, -2).join('/');\n",
       "} else {\n",
       "    var baseURL = JSON.parse(\n",
       "        document.getElementById('jupyter-config-data').innerHTML\n",
       "    ).baseUrl.slice(0, -1);\n",
       "}\n",
       "url = baseURL + url;\n",
       "fetch(url).then(function(res) {\n",
       "    if (res.status === 404) {\n",
       "        div.innerHTML = 'Install QIIME 2 Jupyter extension with:<br />' +\n",
       "                        '<code>jupyter server extension enable --py qiime2' +\n",
       "                        ' --sys-prefix</code><br />then restart your server.' +\n",
       "                        '<br /><br />(Interactive output not available on ' +\n",
       "                        'static notebook viewer services like nbviewer.)';\n",
       "    } else if (res.status === 409) {\n",
       "        div.innerHTML = 'Visualization no longer in scope. Re-run this cell' +\n",
       "                        ' to see the visualization.';\n",
       "    } else if (res.ok) {\n",
       "        url = res.url;\n",
       "        div.innerHTML = '<iframe src=\\'' + url + '\\' style=\\'' +\n",
       "                        'width: 100%; height: 700px; border: 0;\\'>' +\n",
       "                        '</iframe><hr />Open in a: <a href=\\'' + url + '\\'' +\n",
       "                        ' target=\\'_blank\\'>new window</a>'\n",
       "    } else {\n",
       "        div.innerHTML = 'Something has gone wrong. Check notebook server for' +\n",
       "                        ' errors.';\n",
       "    }\n",
       "});\n",
       "})(this.parentElement, '/qiime2/redirect?location=/scratch/lfloerl/tmpdata/qiime2/lfloerl/data/68d37109-65a4-41e6-8f05-2dd25f458f25')\" src=\"data:image/gif;base64,R0lGODlhAQABAIAAAP///wAAACH5BAEAAAAALAAAAAABAAEAAAICRAEAOw==\" /></div>"
      ],
      "text/plain": [
       "<visualization: Visualization uuid: 68d37109-65a4-41e6-8f05-2dd25f458f25>"
      ]
     },
     "execution_count": 31,
     "metadata": {},
     "output_type": "execute_result"
    }
   ],
   "source": [
    "Visualization.load('lavaux/mv_filtered_table.qzv')"
   ]
  },
  {
   "cell_type": "code",
   "execution_count": 32,
   "id": "f22faf1f",
   "metadata": {},
   "outputs": [
    {
     "data": {
      "text/html": [
       "<div><img onload=\"(function(div, url){\n",
       "if (typeof require !== 'undefined') {\n",
       "    var baseURL = require.toUrl('').split('/').slice(0, -2).join('/');\n",
       "} else {\n",
       "    var baseURL = JSON.parse(\n",
       "        document.getElementById('jupyter-config-data').innerHTML\n",
       "    ).baseUrl.slice(0, -1);\n",
       "}\n",
       "url = baseURL + url;\n",
       "fetch(url).then(function(res) {\n",
       "    if (res.status === 404) {\n",
       "        div.innerHTML = 'Install QIIME 2 Jupyter extension with:<br />' +\n",
       "                        '<code>jupyter server extension enable --py qiime2' +\n",
       "                        ' --sys-prefix</code><br />then restart your server.' +\n",
       "                        '<br /><br />(Interactive output not available on ' +\n",
       "                        'static notebook viewer services like nbviewer.)';\n",
       "    } else if (res.status === 409) {\n",
       "        div.innerHTML = 'Visualization no longer in scope. Re-run this cell' +\n",
       "                        ' to see the visualization.';\n",
       "    } else if (res.ok) {\n",
       "        url = res.url;\n",
       "        div.innerHTML = '<iframe src=\\'' + url + '\\' style=\\'' +\n",
       "                        'width: 100%; height: 700px; border: 0;\\'>' +\n",
       "                        '</iframe><hr />Open in a: <a href=\\'' + url + '\\'' +\n",
       "                        ' target=\\'_blank\\'>new window</a>'\n",
       "    } else {\n",
       "        div.innerHTML = 'Something has gone wrong. Check notebook server for' +\n",
       "                        ' errors.';\n",
       "    }\n",
       "});\n",
       "})(this.parentElement, '/qiime2/redirect?location=/scratch/lfloerl/tmpdata/qiime2/lfloerl/data/41d6f979-0c9b-4ec0-8ddb-6f8e1a7db5cd')\" src=\"data:image/gif;base64,R0lGODlhAQABAIAAAP///wAAACH5BAEAAAAALAAAAAABAAEAAAICRAEAOw==\" /></div>"
      ],
      "text/plain": [
       "<visualization: Visualization uuid: 41d6f979-0c9b-4ec0-8ddb-6f8e1a7db5cd>"
      ]
     },
     "execution_count": 32,
     "metadata": {},
     "output_type": "execute_result"
    }
   ],
   "source": [
    "Visualization.load('lavaux/soil_filtered_table.qzv')"
   ]
  },
  {
   "cell_type": "code",
   "execution_count": 33,
   "id": "8e045460",
   "metadata": {},
   "outputs": [
    {
     "data": {
      "text/html": [
       "<div><img onload=\"(function(div, url){\n",
       "if (typeof require !== 'undefined') {\n",
       "    var baseURL = require.toUrl('').split('/').slice(0, -2).join('/');\n",
       "} else {\n",
       "    var baseURL = JSON.parse(\n",
       "        document.getElementById('jupyter-config-data').innerHTML\n",
       "    ).baseUrl.slice(0, -1);\n",
       "}\n",
       "url = baseURL + url;\n",
       "fetch(url).then(function(res) {\n",
       "    if (res.status === 404) {\n",
       "        div.innerHTML = 'Install QIIME 2 Jupyter extension with:<br />' +\n",
       "                        '<code>jupyter server extension enable --py qiime2' +\n",
       "                        ' --sys-prefix</code><br />then restart your server.' +\n",
       "                        '<br /><br />(Interactive output not available on ' +\n",
       "                        'static notebook viewer services like nbviewer.)';\n",
       "    } else if (res.status === 409) {\n",
       "        div.innerHTML = 'Visualization no longer in scope. Re-run this cell' +\n",
       "                        ' to see the visualization.';\n",
       "    } else if (res.ok) {\n",
       "        url = res.url;\n",
       "        div.innerHTML = '<iframe src=\\'' + url + '\\' style=\\'' +\n",
       "                        'width: 100%; height: 700px; border: 0;\\'>' +\n",
       "                        '</iframe><hr />Open in a: <a href=\\'' + url + '\\'' +\n",
       "                        ' target=\\'_blank\\'>new window</a>'\n",
       "    } else {\n",
       "        div.innerHTML = 'Something has gone wrong. Check notebook server for' +\n",
       "                        ' errors.';\n",
       "    }\n",
       "});\n",
       "})(this.parentElement, '/qiime2/redirect?location=/scratch/lfloerl/tmpdata/qiime2/lfloerl/data/1739f3ae-7674-4b06-9e85-049314af98c3')\" src=\"data:image/gif;base64,R0lGODlhAQABAIAAAP///wAAACH5BAEAAAAALAAAAAABAAEAAAICRAEAOw==\" /></div>"
      ],
      "text/plain": [
       "<visualization: Visualization uuid: 1739f3ae-7674-4b06-9e85-049314af98c3>"
      ]
     },
     "execution_count": 33,
     "metadata": {},
     "output_type": "execute_result"
    }
   ],
   "source": [
    "Visualization.load('lavaux/leaf_filtered_table.qzv')"
   ]
  },
  {
   "cell_type": "code",
   "execution_count": 34,
   "id": "4baef495",
   "metadata": {},
   "outputs": [
    {
     "data": {
      "text/html": [
       "<div><img onload=\"(function(div, url){\n",
       "if (typeof require !== 'undefined') {\n",
       "    var baseURL = require.toUrl('').split('/').slice(0, -2).join('/');\n",
       "} else {\n",
       "    var baseURL = JSON.parse(\n",
       "        document.getElementById('jupyter-config-data').innerHTML\n",
       "    ).baseUrl.slice(0, -1);\n",
       "}\n",
       "url = baseURL + url;\n",
       "fetch(url).then(function(res) {\n",
       "    if (res.status === 404) {\n",
       "        div.innerHTML = 'Install QIIME 2 Jupyter extension with:<br />' +\n",
       "                        '<code>jupyter server extension enable --py qiime2' +\n",
       "                        ' --sys-prefix</code><br />then restart your server.' +\n",
       "                        '<br /><br />(Interactive output not available on ' +\n",
       "                        'static notebook viewer services like nbviewer.)';\n",
       "    } else if (res.status === 409) {\n",
       "        div.innerHTML = 'Visualization no longer in scope. Re-run this cell' +\n",
       "                        ' to see the visualization.';\n",
       "    } else if (res.ok) {\n",
       "        url = res.url;\n",
       "        div.innerHTML = '<iframe src=\\'' + url + '\\' style=\\'' +\n",
       "                        'width: 100%; height: 700px; border: 0;\\'>' +\n",
       "                        '</iframe><hr />Open in a: <a href=\\'' + url + '\\'' +\n",
       "                        ' target=\\'_blank\\'>new window</a>'\n",
       "    } else {\n",
       "        div.innerHTML = 'Something has gone wrong. Check notebook server for' +\n",
       "                        ' errors.';\n",
       "    }\n",
       "});\n",
       "})(this.parentElement, '/qiime2/redirect?location=/scratch/lfloerl/tmpdata/qiime2/lfloerl/data/bd21937e-8e1b-4b20-b3e3-be215412c678')\" src=\"data:image/gif;base64,R0lGODlhAQABAIAAAP///wAAACH5BAEAAAAALAAAAAABAAEAAAICRAEAOw==\" /></div>"
      ],
      "text/plain": [
       "<visualization: Visualization uuid: bd21937e-8e1b-4b20-b3e3-be215412c678>"
      ]
     },
     "execution_count": 34,
     "metadata": {},
     "output_type": "execute_result"
    }
   ],
   "source": [
    "Visualization.load('lavaux/bark_filtered_table.qzv')"
   ]
  },
  {
   "cell_type": "code",
   "execution_count": null,
   "id": "ef1c3fc9",
   "metadata": {},
   "outputs": [],
   "source": []
  },
  {
   "cell_type": "code",
   "execution_count": null,
   "id": "e5df9ee4",
   "metadata": {},
   "outputs": [],
   "source": []
  }
 ],
 "metadata": {
  "kernelspec": {
   "display_name": "Python 3 (ipykernel)",
   "language": "python",
   "name": "python3"
  },
  "language_info": {
   "codemirror_mode": {
    "name": "ipython",
    "version": 3
   },
   "file_extension": ".py",
   "mimetype": "text/x-python",
   "name": "python",
   "nbconvert_exporter": "python",
   "pygments_lexer": "ipython3",
   "version": "3.10.14"
  }
 },
 "nbformat": 4,
 "nbformat_minor": 5
}
