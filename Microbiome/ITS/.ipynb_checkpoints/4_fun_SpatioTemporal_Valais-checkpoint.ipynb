{
 "cells": [
  {
   "cell_type": "markdown",
   "id": "a8b92d8b",
   "metadata": {},
   "source": [
    "# 4. Spatio-temporal diversity of Valais and Lavaux 2023 must "
   ]
  },
  {
   "cell_type": "code",
   "execution_count": 1,
   "id": "abc52439",
   "metadata": {},
   "outputs": [],
   "source": [
    "#!mkdir /home/lfloerl/cloud/lfloerl/Microterroir/artifacts/ITS/lavaux/spatio-temporal"
   ]
  },
  {
   "cell_type": "code",
   "execution_count": 2,
   "id": "cd670efc",
   "metadata": {},
   "outputs": [
    {
     "name": "stdout",
     "output_type": "stream",
     "text": [
      "/home/lfloerl/cloud/lfloerl/Microterroir/artifacts/ITS/lavaux/spatio-temporal\n"
     ]
    }
   ],
   "source": [
    "workdir = '/home/lfloerl/cloud/lfloerl/Microterroir/artifacts/ITS/lavaux/spatio-temporal'\n",
    "%cd $workdir"
   ]
  },
  {
   "cell_type": "code",
   "execution_count": 3,
   "id": "413c885b",
   "metadata": {},
   "outputs": [
    {
     "name": "stdout",
     "output_type": "stream",
     "text": [
      "env: TMPDIR=/scratch/lfloerl/tmpdata\n"
     ]
    }
   ],
   "source": [
    "%env TMPDIR=/scratch/lfloerl/tmpdata"
   ]
  },
  {
   "cell_type": "code",
   "execution_count": 4,
   "id": "18e20f86",
   "metadata": {},
   "outputs": [],
   "source": [
    "from qiime2 import Visualization\n",
    "import qiime2 as q2\n",
    "from qiime2 import Visualization\n",
    "from qiime2 import Artifact\n",
    "from qiime2 import Metadata\n",
    "import os\n",
    "import pandas as pd\n",
    "import matplotlib.pyplot as plt\n",
    "import seaborn as sns\n",
    "from qiime2.plugins.diversity.visualizers import alpha_group_significance\n",
    "\n",
    "\n",
    "from qiime2.plugins import diversity as q2d\n",
    "\n",
    "%matplotlib inline"
   ]
  },
  {
   "cell_type": "code",
   "execution_count": 5,
   "id": "eff46f25",
   "metadata": {
    "scrolled": true
   },
   "outputs": [],
   "source": [
    "md = Metadata.load('/home/lfloerl/microterroir/Microbiome/Metadata/ITS_Valais_and_Lavaux23.tsv')\n",
    "taxonomy = q2.Artifact.load('/home/lfloerl/cloud/lfloerl/Microterroir/artifacts/ITS/taxonomy.qza')"
   ]
  },
  {
   "cell_type": "code",
   "execution_count": 6,
   "id": "e1175bf0",
   "metadata": {},
   "outputs": [],
   "source": [
    "# just use the same rarefaction depth for all sample types\n",
    "depth = 5000 \n",
    "threads = 5"
   ]
  },
  {
   "cell_type": "code",
   "execution_count": 7,
   "id": "cd6563d4",
   "metadata": {},
   "outputs": [
    {
     "name": "stdout",
     "output_type": "stream",
     "text": [
      "Saved FeatureTable[Frequency] to: /home/lfloerl/cloud/lfloerl/Microterroir/artifacts/ITS/lavaux/Valais_Lavaux23_filtered_table.qza\n",
      "Saved Visualization to: /home/lfloerl/cloud/lfloerl/Microterroir/artifacts/ITS/lavaux/Valais_Lavaux23_filtered_table.qzv\n"
     ]
    }
   ],
   "source": [
    "%%bash \n",
    "\n",
    "# filter the Feature Table to contain the Valais and Lavaux 2023 must samples \n",
    "qiime feature-table filter-samples \\\n",
    "    --i-table /home/lfloerl/cloud/lfloerl/Microterroir/artifacts/ITS/phylum_filtered_table.qza \\\n",
    "    --m-metadata-file /home/lfloerl/microterroir/Microbiome/Metadata/ITS_Valais_and_Lavaux23.tsv \\\n",
    "    --o-filtered-table /home/lfloerl/cloud/lfloerl/Microterroir/artifacts/ITS/lavaux/Valais_Lavaux23_filtered_table.qza\n",
    "\n",
    "qiime feature-table summarize \\\n",
    "    --i-table /home/lfloerl/cloud/lfloerl/Microterroir/artifacts/ITS/lavaux/Valais_Lavaux23_filtered_table.qza \\\n",
    "    --o-visualization /home/lfloerl/cloud/lfloerl/Microterroir/artifacts/ITS/lavaux/Valais_Lavaux23_filtered_table.qzv"
   ]
  },
  {
   "cell_type": "markdown",
   "id": "08d5b315",
   "metadata": {},
   "source": [
    "depth of 5000: Retained 630’000 (24.93%) features in 126 (98.44%) samples\n"
   ]
  },
  {
   "cell_type": "code",
   "execution_count": 8,
   "id": "b15a0b71",
   "metadata": {
    "scrolled": true
   },
   "outputs": [
    {
     "data": {
      "text/html": [
       "<div><img onload=\"(function(div, url){\n",
       "if (typeof require !== 'undefined') {\n",
       "    var baseURL = require.toUrl('').split('/').slice(0, -2).join('/');\n",
       "} else {\n",
       "    var baseURL = JSON.parse(\n",
       "        document.getElementById('jupyter-config-data').innerHTML\n",
       "    ).baseUrl.slice(0, -1);\n",
       "}\n",
       "url = baseURL + url;\n",
       "fetch(url).then(function(res) {\n",
       "    if (res.status === 404) {\n",
       "        div.innerHTML = 'Install QIIME 2 Jupyter extension with:<br />' +\n",
       "                        '<code>jupyter server extension enable --py qiime2' +\n",
       "                        ' --sys-prefix</code><br />then restart your server.' +\n",
       "                        '<br /><br />(Interactive output not available on ' +\n",
       "                        'static notebook viewer services like nbviewer.)';\n",
       "    } else if (res.status === 409) {\n",
       "        div.innerHTML = 'Visualization no longer in scope. Re-run this cell' +\n",
       "                        ' to see the visualization.';\n",
       "    } else if (res.ok) {\n",
       "        url = res.url;\n",
       "        div.innerHTML = '<iframe src=\\'' + url + '\\' style=\\'' +\n",
       "                        'width: 100%; height: 700px; border: 0;\\'>' +\n",
       "                        '</iframe><hr />Open in a: <a href=\\'' + url + '\\'' +\n",
       "                        ' target=\\'_blank\\'>new window</a>'\n",
       "    } else {\n",
       "        div.innerHTML = 'Something has gone wrong. Check notebook server for' +\n",
       "                        ' errors.';\n",
       "    }\n",
       "});\n",
       "})(this.parentElement, '/qiime2/redirect?location=/scratch/lfloerl/tmpdata/qiime2/lfloerl/data/342af413-1161-49f7-97ea-4b12272e8e13')\" src=\"data:image/gif;base64,R0lGODlhAQABAIAAAP///wAAACH5BAEAAAAALAAAAAABAAEAAAICRAEAOw==\" /></div>"
      ],
      "text/plain": [
       "<visualization: Visualization uuid: 342af413-1161-49f7-97ea-4b12272e8e13>"
      ]
     },
     "execution_count": 8,
     "metadata": {},
     "output_type": "execute_result"
    }
   ],
   "source": [
    "Visualization.load('/home/lfloerl/cloud/lfloerl/Microterroir/artifacts/ITS/lavaux/Valais_Lavaux23_filtered_table.qzv')"
   ]
  },
  {
   "cell_type": "markdown",
   "id": "2914f57c",
   "metadata": {},
   "source": [
    "# Diversity "
   ]
  },
  {
   "cell_type": "code",
   "execution_count": 10,
   "id": "57999d3b",
   "metadata": {},
   "outputs": [],
   "source": [
    "table = q2.Artifact.load('/home/lfloerl/cloud/lfloerl/Microterroir/artifacts/ITS/lavaux/Valais_Lavaux23_filtered_table.qza')"
   ]
  },
  {
   "cell_type": "code",
   "execution_count": 19,
   "id": "d91c7235",
   "metadata": {
    "scrolled": true
   },
   "outputs": [
    {
     "name": "stderr",
     "output_type": "stream",
     "text": [
      "/scratch/lfloerl/.condaenvs/qiime2-amplicon-2024.10/lib/python3.10/site-packages/qiime2/metadata/metadata.py:610: FutureWarning: Setting an item of incompatible dtype is deprecated and will raise an error in a future version of pandas. Value '[nan nan nan nan nan nan nan nan nan nan nan nan nan nan nan nan nan nan\n",
      " nan nan nan nan nan nan nan nan nan nan nan nan nan nan nan nan nan nan\n",
      " nan nan nan nan nan nan nan nan nan nan nan nan nan nan nan nan nan nan\n",
      " nan nan]' has dtype incompatible with float64, please explicitly cast to a compatible dtype first.\n",
      "  series[missing.index] = missing\n",
      "/scratch/lfloerl/.condaenvs/qiime2-amplicon-2024.10/lib/python3.10/site-packages/qiime2/metadata/metadata.py:610: FutureWarning: Setting an item of incompatible dtype is deprecated and will raise an error in a future version of pandas. Value '[nan nan nan nan nan nan nan nan nan nan nan nan nan nan nan nan nan nan\n",
      " nan nan nan nan nan nan nan nan nan nan nan nan nan nan nan nan nan nan\n",
      " nan nan nan nan nan nan nan nan nan nan nan nan nan nan nan nan nan nan\n",
      " nan nan]' has dtype incompatible with float64, please explicitly cast to a compatible dtype first.\n",
      "  series[missing.index] = missing\n",
      "/scratch/lfloerl/.condaenvs/qiime2-amplicon-2024.10/lib/python3.10/site-packages/skbio/stats/ordination/_principal_coordinate_analysis.py:146: RuntimeWarning: The result contains negative eigenvalues. Please compare their magnitude with the magnitude of some of the largest positive eigenvalues. If the negative ones are smaller, it's probably safe to ignore them, but if they are large in magnitude, the results won't be useful. See the Notes section for more details. The smallest eigenvalue is -0.23389572047985357 and the largest is 9.000960162144489.\n",
      "  warn(\n",
      "/scratch/lfloerl/.condaenvs/qiime2-amplicon-2024.10/lib/python3.10/site-packages/qiime2/metadata/metadata.py:610: FutureWarning: Setting an item of incompatible dtype is deprecated and will raise an error in a future version of pandas. Value '[nan nan nan nan nan nan nan nan nan nan nan nan nan nan nan nan nan nan\n",
      " nan nan nan nan nan nan nan nan nan nan nan nan nan nan nan nan nan nan\n",
      " nan nan nan nan nan nan nan nan nan nan nan nan nan nan nan nan nan nan\n",
      " nan nan]' has dtype incompatible with float64, please explicitly cast to a compatible dtype first.\n",
      "  series[missing.index] = missing\n",
      "/scratch/lfloerl/.condaenvs/qiime2-amplicon-2024.10/lib/python3.10/site-packages/qiime2/metadata/metadata.py:610: FutureWarning: Setting an item of incompatible dtype is deprecated and will raise an error in a future version of pandas. Value '[nan nan nan nan nan nan nan nan nan nan nan nan nan nan nan nan nan nan\n",
      " nan nan nan nan nan nan nan nan nan nan nan nan nan nan nan nan nan nan\n",
      " nan nan nan nan nan nan nan nan nan nan nan nan nan nan nan nan nan nan\n",
      " nan nan]' has dtype incompatible with float64, please explicitly cast to a compatible dtype first.\n",
      "  series[missing.index] = missing\n",
      "/scratch/lfloerl/.condaenvs/qiime2-amplicon-2024.10/lib/python3.10/site-packages/qiime2/metadata/metadata.py:610: FutureWarning: Setting an item of incompatible dtype is deprecated and will raise an error in a future version of pandas. Value '[nan nan nan nan nan nan nan nan nan nan nan nan nan nan nan nan nan nan\n",
      " nan nan nan nan nan nan nan nan nan nan nan nan nan nan nan nan nan nan\n",
      " nan nan nan nan nan nan nan nan nan nan nan nan nan nan nan nan nan nan\n",
      " nan nan]' has dtype incompatible with float64, please explicitly cast to a compatible dtype first.\n",
      "  series[missing.index] = missing\n",
      "/scratch/lfloerl/.condaenvs/qiime2-amplicon-2024.10/lib/python3.10/site-packages/qiime2/metadata/metadata.py:610: FutureWarning: Setting an item of incompatible dtype is deprecated and will raise an error in a future version of pandas. Value '[nan nan nan nan nan nan nan nan nan nan nan nan nan nan nan nan nan nan\n",
      " nan nan nan nan nan nan nan nan nan nan nan nan nan nan nan nan nan nan\n",
      " nan nan nan nan nan nan nan nan nan nan nan nan nan nan nan nan nan nan\n",
      " nan nan]' has dtype incompatible with float64, please explicitly cast to a compatible dtype first.\n",
      "  series[missing.index] = missing\n"
     ]
    }
   ],
   "source": [
    "core_div_dict = {}\n",
    "core_div = q2d.actions.core_metrics(table=table,\n",
    "                                    sampling_depth=depth,\n",
    "                                    metadata=md, \n",
    "                                    n_jobs=threads)\n",
    "# save outputs\n",
    "output_dir='Valais_cm{0}/'.format(depth)\n",
    "if not os.path.exists(output_dir):\n",
    "    os.makedirs(output_dir)\n",
    "for k, v in core_div.__dict__.items():\n",
    "    if k != '_fields':\n",
    "        v.save(output_dir + k)\n",
    "        core_div_dict[k] = v"
   ]
  },
  {
   "cell_type": "code",
   "execution_count": 20,
   "id": "010456c4",
   "metadata": {
    "scrolled": true
   },
   "outputs": [
    {
     "data": {
      "text/html": [
       "<div><img onload=\"(function(div, url){\n",
       "if (typeof require !== 'undefined') {\n",
       "    var baseURL = require.toUrl('').split('/').slice(0, -2).join('/');\n",
       "} else {\n",
       "    var baseURL = JSON.parse(\n",
       "        document.getElementById('jupyter-config-data').innerHTML\n",
       "    ).baseUrl.slice(0, -1);\n",
       "}\n",
       "url = baseURL + url;\n",
       "fetch(url).then(function(res) {\n",
       "    if (res.status === 404) {\n",
       "        div.innerHTML = 'Install QIIME 2 Jupyter extension with:<br />' +\n",
       "                        '<code>jupyter server extension enable --py qiime2' +\n",
       "                        ' --sys-prefix</code><br />then restart your server.' +\n",
       "                        '<br /><br />(Interactive output not available on ' +\n",
       "                        'static notebook viewer services like nbviewer.)';\n",
       "    } else if (res.status === 409) {\n",
       "        div.innerHTML = 'Visualization no longer in scope. Re-run this cell' +\n",
       "                        ' to see the visualization.';\n",
       "    } else if (res.ok) {\n",
       "        url = res.url;\n",
       "        div.innerHTML = '<iframe src=\\'' + url + '\\' style=\\'' +\n",
       "                        'width: 100%; height: 700px; border: 0;\\'>' +\n",
       "                        '</iframe><hr />Open in a: <a href=\\'' + url + '\\'' +\n",
       "                        ' target=\\'_blank\\'>new window</a>'\n",
       "    } else {\n",
       "        div.innerHTML = 'Something has gone wrong. Check notebook server for' +\n",
       "                        ' errors.';\n",
       "    }\n",
       "});\n",
       "})(this.parentElement, '/qiime2/redirect?location=/scratch/lfloerl/tmpdata/qiime2/lfloerl/data/7d930102-b3c4-4ef4-89f0-d1fd2c43e2b6')\" src=\"data:image/gif;base64,R0lGODlhAQABAIAAAP///wAAACH5BAEAAAAALAAAAAABAAEAAAICRAEAOw==\" /></div>"
      ],
      "text/plain": [
       "<visualization: Visualization uuid: 7d930102-b3c4-4ef4-89f0-d1fd2c43e2b6>"
      ]
     },
     "execution_count": 20,
     "metadata": {},
     "output_type": "execute_result"
    }
   ],
   "source": [
    "Visualization.load(f'{workdir}/{output_dir}/bray_curtis_emperor.qzv')"
   ]
  },
  {
   "cell_type": "code",
   "execution_count": 21,
   "id": "1aff2c07",
   "metadata": {},
   "outputs": [
    {
     "data": {
      "text/html": [
       "<div><img onload=\"(function(div, url){\n",
       "if (typeof require !== 'undefined') {\n",
       "    var baseURL = require.toUrl('').split('/').slice(0, -2).join('/');\n",
       "} else {\n",
       "    var baseURL = JSON.parse(\n",
       "        document.getElementById('jupyter-config-data').innerHTML\n",
       "    ).baseUrl.slice(0, -1);\n",
       "}\n",
       "url = baseURL + url;\n",
       "fetch(url).then(function(res) {\n",
       "    if (res.status === 404) {\n",
       "        div.innerHTML = 'Install QIIME 2 Jupyter extension with:<br />' +\n",
       "                        '<code>jupyter server extension enable --py qiime2' +\n",
       "                        ' --sys-prefix</code><br />then restart your server.' +\n",
       "                        '<br /><br />(Interactive output not available on ' +\n",
       "                        'static notebook viewer services like nbviewer.)';\n",
       "    } else if (res.status === 409) {\n",
       "        div.innerHTML = 'Visualization no longer in scope. Re-run this cell' +\n",
       "                        ' to see the visualization.';\n",
       "    } else if (res.ok) {\n",
       "        url = res.url;\n",
       "        div.innerHTML = '<iframe src=\\'' + url + '\\' style=\\'' +\n",
       "                        'width: 100%; height: 700px; border: 0;\\'>' +\n",
       "                        '</iframe><hr />Open in a: <a href=\\'' + url + '\\'' +\n",
       "                        ' target=\\'_blank\\'>new window</a>'\n",
       "    } else {\n",
       "        div.innerHTML = 'Something has gone wrong. Check notebook server for' +\n",
       "                        ' errors.';\n",
       "    }\n",
       "});\n",
       "})(this.parentElement, '/qiime2/redirect?location=/scratch/lfloerl/tmpdata/qiime2/lfloerl/data/3330f5bc-ff21-4b0b-b69c-e4fd8e012e9e')\" src=\"data:image/gif;base64,R0lGODlhAQABAIAAAP///wAAACH5BAEAAAAALAAAAAABAAEAAAICRAEAOw==\" /></div>"
      ],
      "text/plain": [
       "<visualization: Visualization uuid: 3330f5bc-ff21-4b0b-b69c-e4fd8e012e9e>"
      ]
     },
     "execution_count": 21,
     "metadata": {},
     "output_type": "execute_result"
    }
   ],
   "source": [
    "Visualization.load(f'{workdir}/{output_dir}/jaccard_emperor.qzv')"
   ]
  },
  {
   "cell_type": "markdown",
   "id": "27e37ac4",
   "metadata": {},
   "source": [
    "## Kmerizer "
   ]
  },
  {
   "cell_type": "code",
   "execution_count": 29,
   "id": "449282b2",
   "metadata": {},
   "outputs": [],
   "source": [
    "#!rm -r kmer-core-metrics"
   ]
  },
  {
   "cell_type": "code",
   "execution_count": 22,
   "id": "7c480b75",
   "metadata": {},
   "outputs": [
    {
     "name": "stdout",
     "output_type": "stream",
     "text": [
      "Saved FeatureData[Sequence] to: /home/lfloerl/cloud/lfloerl/Microterroir/artifacts/ITS/lavaux/Valais_Lavaux23_filtered_rep_seqs.qza\n",
      "Saved FeatureTable[Frequency] to: valais_kmer_cm5000/rarefied_table.qza\n",
      "Saved FeatureTable[Frequency] to: valais_kmer_cm5000/kmer_table.qza\n",
      "Saved SampleData[AlphaDiversity] to: valais_kmer_cm5000/observed_features_vector.qza\n",
      "Saved SampleData[AlphaDiversity] to: valais_kmer_cm5000/shannon_vector.qza\n",
      "Saved DistanceMatrix to: valais_kmer_cm5000/jaccard_distance_matrix.qza\n",
      "Saved DistanceMatrix to: valais_kmer_cm5000/bray_curtis_distance_matrix.qza\n",
      "Saved PCoAResults to: valais_kmer_cm5000/jaccard_pcoa_results.qza\n",
      "Saved PCoAResults to: valais_kmer_cm5000/bray_curtis_pcoa_results.qza\n",
      "Saved Visualization to: valais_kmer_cm5000/scatterplot.qzv\n"
     ]
    }
   ],
   "source": [
    "%%bash\n",
    "\n",
    "qiime feature-table filter-seqs \\\n",
    "    --i-data /home/lfloerl/cloud/lfloerl/Microterroir/artifacts/Sven-denoising-test/ITS/revcomp-trimmed-denoised/with-adjusted-parameters/ITS-revcomp-trimmed-ER-0.05-denoised-trunc-190-PFA-4.0-maxee-4.0-rep-seqs.qza \\\n",
    "    --i-table /home/lfloerl/cloud/lfloerl/Microterroir/artifacts/ITS/lavaux/Valais_Lavaux23_filtered_table.qza \\\n",
    "    --o-filtered-data /home/lfloerl/cloud/lfloerl/Microterroir/artifacts/ITS/lavaux/Valais_Lavaux23_filtered_rep_seqs.qza\n",
    "\n",
    "qiime kmerizer core-metrics \\\n",
    "    --i-sequences /home/lfloerl/cloud/lfloerl/Microterroir/artifacts/ITS/lavaux/Valais_Lavaux23_filtered_rep_seqs.qza \\\n",
    "    --i-table /home/lfloerl/cloud/lfloerl/Microterroir/artifacts/ITS/lavaux/Valais_Lavaux23_filtered_table.qza \\\n",
    "    --p-sampling-depth 5000 \\\n",
    "    --m-metadata-file /home/lfloerl/microterroir/Microbiome/Metadata/ITS_Valais_and_Lavaux23.tsv \\\n",
    "    --p-n-jobs 'auto' \\\n",
    "    --p-max-features 5000 \\\n",
    "    --output-dir valais_kmer_cm5000/"
   ]
  },
  {
   "cell_type": "code",
   "execution_count": 23,
   "id": "e90b9c36",
   "metadata": {},
   "outputs": [
    {
     "data": {
      "text/html": [
       "<div><img onload=\"(function(div, url){\n",
       "if (typeof require !== 'undefined') {\n",
       "    var baseURL = require.toUrl('').split('/').slice(0, -2).join('/');\n",
       "} else {\n",
       "    var baseURL = JSON.parse(\n",
       "        document.getElementById('jupyter-config-data').innerHTML\n",
       "    ).baseUrl.slice(0, -1);\n",
       "}\n",
       "url = baseURL + url;\n",
       "fetch(url).then(function(res) {\n",
       "    if (res.status === 404) {\n",
       "        div.innerHTML = 'Install QIIME 2 Jupyter extension with:<br />' +\n",
       "                        '<code>jupyter server extension enable --py qiime2' +\n",
       "                        ' --sys-prefix</code><br />then restart your server.' +\n",
       "                        '<br /><br />(Interactive output not available on ' +\n",
       "                        'static notebook viewer services like nbviewer.)';\n",
       "    } else if (res.status === 409) {\n",
       "        div.innerHTML = 'Visualization no longer in scope. Re-run this cell' +\n",
       "                        ' to see the visualization.';\n",
       "    } else if (res.ok) {\n",
       "        url = res.url;\n",
       "        div.innerHTML = '<iframe src=\\'' + url + '\\' style=\\'' +\n",
       "                        'width: 100%; height: 700px; border: 0;\\'>' +\n",
       "                        '</iframe><hr />Open in a: <a href=\\'' + url + '\\'' +\n",
       "                        ' target=\\'_blank\\'>new window</a>'\n",
       "    } else {\n",
       "        div.innerHTML = 'Something has gone wrong. Check notebook server for' +\n",
       "                        ' errors.';\n",
       "    }\n",
       "});\n",
       "})(this.parentElement, '/qiime2/redirect?location=/scratch/lfloerl/tmpdata/qiime2/lfloerl/data/853f6ff4-f668-4dad-8182-5e965447ad60')\" src=\"data:image/gif;base64,R0lGODlhAQABAIAAAP///wAAACH5BAEAAAAALAAAAAABAAEAAAICRAEAOw==\" /></div>"
      ],
      "text/plain": [
       "<visualization: Visualization uuid: 853f6ff4-f668-4dad-8182-5e965447ad60>"
      ]
     },
     "execution_count": 23,
     "metadata": {},
     "output_type": "execute_result"
    }
   ],
   "source": [
    "Visualization.load('valais_kmer_cm5000/scatterplot.qzv')"
   ]
  },
  {
   "cell_type": "markdown",
   "id": "fb6c27ed",
   "metadata": {},
   "source": [
    "### Alpha Group Significance "
   ]
  },
  {
   "cell_type": "code",
   "execution_count": 24,
   "id": "dd8cf4d5",
   "metadata": {
    "scrolled": true
   },
   "outputs": [
    {
     "name": "stderr",
     "output_type": "stream",
     "text": [
      "/scratch/lfloerl/.condaenvs/qiime2-amplicon-2024.10/lib/python3.10/site-packages/q2_types/sample_data/_deferred_setup/_transformers.py:28: FutureWarning: errors='ignore' is deprecated and will raise in a future version. Use to_numeric without passing `errors` and catch exceptions explicitly instead\n",
      "  df[cols] = df[cols].apply(pd.to_numeric, errors='ignore')\n",
      "/scratch/lfloerl/.condaenvs/qiime2-amplicon-2024.10/lib/python3.10/site-packages/qiime2/metadata/metadata.py:610: FutureWarning: Setting an item of incompatible dtype is deprecated and will raise an error in a future version of pandas. Value '[nan nan nan nan nan nan nan nan nan nan nan nan nan nan nan nan nan nan\n",
      " nan nan nan nan nan nan nan nan nan nan nan nan nan nan nan nan nan nan\n",
      " nan nan nan nan nan nan nan nan nan nan nan nan nan nan nan nan nan nan\n",
      " nan nan]' has dtype incompatible with float64, please explicitly cast to a compatible dtype first.\n",
      "  series[missing.index] = missing\n",
      "/scratch/lfloerl/.condaenvs/qiime2-amplicon-2024.10/lib/python3.10/site-packages/qiime2/metadata/metadata.py:610: FutureWarning: Setting an item of incompatible dtype is deprecated and will raise an error in a future version of pandas. Value '[nan nan nan nan nan nan nan nan nan nan nan nan nan nan nan nan nan nan\n",
      " nan nan nan nan nan nan nan nan nan nan nan nan nan nan nan nan nan nan\n",
      " nan nan nan nan nan nan nan nan nan nan nan nan nan nan nan nan nan nan\n",
      " nan nan]' has dtype incompatible with float64, please explicitly cast to a compatible dtype first.\n",
      "  series[missing.index] = missing\n",
      "/scratch/lfloerl/.condaenvs/qiime2-amplicon-2024.10/lib/python3.10/site-packages/q2_types/sample_data/_deferred_setup/_transformers.py:28: FutureWarning: errors='ignore' is deprecated and will raise in a future version. Use to_numeric without passing `errors` and catch exceptions explicitly instead\n",
      "  df[cols] = df[cols].apply(pd.to_numeric, errors='ignore')\n",
      "/scratch/lfloerl/.condaenvs/qiime2-amplicon-2024.10/lib/python3.10/site-packages/qiime2/metadata/metadata.py:610: FutureWarning: Setting an item of incompatible dtype is deprecated and will raise an error in a future version of pandas. Value '[nan nan nan nan nan nan nan nan nan nan nan nan nan nan nan nan nan nan\n",
      " nan nan nan nan nan nan nan nan nan nan nan nan nan nan nan nan nan nan\n",
      " nan nan nan nan nan nan nan nan nan nan nan nan nan nan nan nan nan nan\n",
      " nan nan]' has dtype incompatible with float64, please explicitly cast to a compatible dtype first.\n",
      "  series[missing.index] = missing\n",
      "/scratch/lfloerl/.condaenvs/qiime2-amplicon-2024.10/lib/python3.10/site-packages/qiime2/metadata/metadata.py:610: FutureWarning: Setting an item of incompatible dtype is deprecated and will raise an error in a future version of pandas. Value '[nan nan nan nan nan nan nan nan nan nan nan nan nan nan nan nan nan nan\n",
      " nan nan nan nan nan nan nan nan nan nan nan nan nan nan nan nan nan nan\n",
      " nan nan nan nan nan nan nan nan nan nan nan nan nan nan nan nan nan nan\n",
      " nan nan]' has dtype incompatible with float64, please explicitly cast to a compatible dtype first.\n",
      "  series[missing.index] = missing\n",
      "/scratch/lfloerl/.condaenvs/qiime2-amplicon-2024.10/lib/python3.10/site-packages/q2_types/sample_data/_deferred_setup/_transformers.py:28: FutureWarning: errors='ignore' is deprecated and will raise in a future version. Use to_numeric without passing `errors` and catch exceptions explicitly instead\n",
      "  df[cols] = df[cols].apply(pd.to_numeric, errors='ignore')\n",
      "/scratch/lfloerl/.condaenvs/qiime2-amplicon-2024.10/lib/python3.10/site-packages/qiime2/metadata/metadata.py:610: FutureWarning: Setting an item of incompatible dtype is deprecated and will raise an error in a future version of pandas. Value '[nan nan nan nan nan nan nan nan nan nan nan nan nan nan nan nan nan nan\n",
      " nan nan nan nan nan nan nan nan nan nan nan nan nan nan nan nan nan nan\n",
      " nan nan nan nan nan nan nan nan nan nan nan nan nan nan nan nan nan nan\n",
      " nan nan]' has dtype incompatible with float64, please explicitly cast to a compatible dtype first.\n",
      "  series[missing.index] = missing\n",
      "/scratch/lfloerl/.condaenvs/qiime2-amplicon-2024.10/lib/python3.10/site-packages/qiime2/metadata/metadata.py:610: FutureWarning: Setting an item of incompatible dtype is deprecated and will raise an error in a future version of pandas. Value '[nan nan nan nan nan nan nan nan nan nan nan nan nan nan nan nan nan nan\n",
      " nan nan nan nan nan nan nan nan nan nan nan nan nan nan nan nan nan nan\n",
      " nan nan nan nan nan nan nan nan nan nan nan nan nan nan nan nan nan nan\n",
      " nan nan]' has dtype incompatible with float64, please explicitly cast to a compatible dtype first.\n",
      "  series[missing.index] = missing\n"
     ]
    }
   ],
   "source": [
    "# metrics: \n",
    "alpha_metrics = ['shannon_vector', 'observed_features_vector', 'evenness_vector']\n",
    "\n",
    "for m in alpha_metrics:\n",
    "    ags, = alpha_group_significance(alpha_diversity = core_div_dict[m],\n",
    "                               metadata = md)\n",
    "    ags.save(output_dir + 'alpha_groupSig_{0}.qzv'.format(m))"
   ]
  },
  {
   "cell_type": "code",
   "execution_count": 25,
   "id": "fd079ab6",
   "metadata": {
    "scrolled": true
   },
   "outputs": [
    {
     "data": {
      "text/html": [
       "<div><img onload=\"(function(div, url){\n",
       "if (typeof require !== 'undefined') {\n",
       "    var baseURL = require.toUrl('').split('/').slice(0, -2).join('/');\n",
       "} else {\n",
       "    var baseURL = JSON.parse(\n",
       "        document.getElementById('jupyter-config-data').innerHTML\n",
       "    ).baseUrl.slice(0, -1);\n",
       "}\n",
       "url = baseURL + url;\n",
       "fetch(url).then(function(res) {\n",
       "    if (res.status === 404) {\n",
       "        div.innerHTML = 'Install QIIME 2 Jupyter extension with:<br />' +\n",
       "                        '<code>jupyter server extension enable --py qiime2' +\n",
       "                        ' --sys-prefix</code><br />then restart your server.' +\n",
       "                        '<br /><br />(Interactive output not available on ' +\n",
       "                        'static notebook viewer services like nbviewer.)';\n",
       "    } else if (res.status === 409) {\n",
       "        div.innerHTML = 'Visualization no longer in scope. Re-run this cell' +\n",
       "                        ' to see the visualization.';\n",
       "    } else if (res.ok) {\n",
       "        url = res.url;\n",
       "        div.innerHTML = '<iframe src=\\'' + url + '\\' style=\\'' +\n",
       "                        'width: 100%; height: 700px; border: 0;\\'>' +\n",
       "                        '</iframe><hr />Open in a: <a href=\\'' + url + '\\'' +\n",
       "                        ' target=\\'_blank\\'>new window</a>'\n",
       "    } else {\n",
       "        div.innerHTML = 'Something has gone wrong. Check notebook server for' +\n",
       "                        ' errors.';\n",
       "    }\n",
       "});\n",
       "})(this.parentElement, '/qiime2/redirect?location=/scratch/lfloerl/tmpdata/qiime2/lfloerl/data/102b2e14-e4db-4cff-a6d4-b9c040a5fb20')\" src=\"data:image/gif;base64,R0lGODlhAQABAIAAAP///wAAACH5BAEAAAAALAAAAAABAAEAAAICRAEAOw==\" /></div>"
      ],
      "text/plain": [
       "<visualization: Visualization uuid: 102b2e14-e4db-4cff-a6d4-b9c040a5fb20>"
      ]
     },
     "execution_count": 25,
     "metadata": {},
     "output_type": "execute_result"
    }
   ],
   "source": [
    "Visualization.load(f'{output_dir}/alpha_groupSig_evenness_vector.qzv')"
   ]
  },
  {
   "cell_type": "code",
   "execution_count": 26,
   "id": "a475d39b",
   "metadata": {
    "scrolled": false
   },
   "outputs": [
    {
     "data": {
      "text/html": [
       "<div><img onload=\"(function(div, url){\n",
       "if (typeof require !== 'undefined') {\n",
       "    var baseURL = require.toUrl('').split('/').slice(0, -2).join('/');\n",
       "} else {\n",
       "    var baseURL = JSON.parse(\n",
       "        document.getElementById('jupyter-config-data').innerHTML\n",
       "    ).baseUrl.slice(0, -1);\n",
       "}\n",
       "url = baseURL + url;\n",
       "fetch(url).then(function(res) {\n",
       "    if (res.status === 404) {\n",
       "        div.innerHTML = 'Install QIIME 2 Jupyter extension with:<br />' +\n",
       "                        '<code>jupyter server extension enable --py qiime2' +\n",
       "                        ' --sys-prefix</code><br />then restart your server.' +\n",
       "                        '<br /><br />(Interactive output not available on ' +\n",
       "                        'static notebook viewer services like nbviewer.)';\n",
       "    } else if (res.status === 409) {\n",
       "        div.innerHTML = 'Visualization no longer in scope. Re-run this cell' +\n",
       "                        ' to see the visualization.';\n",
       "    } else if (res.ok) {\n",
       "        url = res.url;\n",
       "        div.innerHTML = '<iframe src=\\'' + url + '\\' style=\\'' +\n",
       "                        'width: 100%; height: 700px; border: 0;\\'>' +\n",
       "                        '</iframe><hr />Open in a: <a href=\\'' + url + '\\'' +\n",
       "                        ' target=\\'_blank\\'>new window</a>'\n",
       "    } else {\n",
       "        div.innerHTML = 'Something has gone wrong. Check notebook server for' +\n",
       "                        ' errors.';\n",
       "    }\n",
       "});\n",
       "})(this.parentElement, '/qiime2/redirect?location=/scratch/lfloerl/tmpdata/qiime2/lfloerl/data/10b408ff-53a0-443b-830b-789dc9710379')\" src=\"data:image/gif;base64,R0lGODlhAQABAIAAAP///wAAACH5BAEAAAAALAAAAAABAAEAAAICRAEAOw==\" /></div>"
      ],
      "text/plain": [
       "<visualization: Visualization uuid: 10b408ff-53a0-443b-830b-789dc9710379>"
      ]
     },
     "execution_count": 26,
     "metadata": {},
     "output_type": "execute_result"
    }
   ],
   "source": [
    "Visualization.load(f'{output_dir}/alpha_groupSig_observed_features_vector.qzv')"
   ]
  },
  {
   "cell_type": "code",
   "execution_count": 27,
   "id": "b9469709",
   "metadata": {},
   "outputs": [
    {
     "data": {
      "text/html": [
       "<div><img onload=\"(function(div, url){\n",
       "if (typeof require !== 'undefined') {\n",
       "    var baseURL = require.toUrl('').split('/').slice(0, -2).join('/');\n",
       "} else {\n",
       "    var baseURL = JSON.parse(\n",
       "        document.getElementById('jupyter-config-data').innerHTML\n",
       "    ).baseUrl.slice(0, -1);\n",
       "}\n",
       "url = baseURL + url;\n",
       "fetch(url).then(function(res) {\n",
       "    if (res.status === 404) {\n",
       "        div.innerHTML = 'Install QIIME 2 Jupyter extension with:<br />' +\n",
       "                        '<code>jupyter server extension enable --py qiime2' +\n",
       "                        ' --sys-prefix</code><br />then restart your server.' +\n",
       "                        '<br /><br />(Interactive output not available on ' +\n",
       "                        'static notebook viewer services like nbviewer.)';\n",
       "    } else if (res.status === 409) {\n",
       "        div.innerHTML = 'Visualization no longer in scope. Re-run this cell' +\n",
       "                        ' to see the visualization.';\n",
       "    } else if (res.ok) {\n",
       "        url = res.url;\n",
       "        div.innerHTML = '<iframe src=\\'' + url + '\\' style=\\'' +\n",
       "                        'width: 100%; height: 700px; border: 0;\\'>' +\n",
       "                        '</iframe><hr />Open in a: <a href=\\'' + url + '\\'' +\n",
       "                        ' target=\\'_blank\\'>new window</a>'\n",
       "    } else {\n",
       "        div.innerHTML = 'Something has gone wrong. Check notebook server for' +\n",
       "                        ' errors.';\n",
       "    }\n",
       "});\n",
       "})(this.parentElement, '/qiime2/redirect?location=/scratch/lfloerl/tmpdata/qiime2/lfloerl/data/bc5c4610-d5a9-471f-9702-ae9883b584a4')\" src=\"data:image/gif;base64,R0lGODlhAQABAIAAAP///wAAACH5BAEAAAAALAAAAAABAAEAAAICRAEAOw==\" /></div>"
      ],
      "text/plain": [
       "<visualization: Visualization uuid: bc5c4610-d5a9-471f-9702-ae9883b584a4>"
      ]
     },
     "execution_count": 27,
     "metadata": {},
     "output_type": "execute_result"
    }
   ],
   "source": [
    "Visualization.load(f'{output_dir}/alpha_groupSig_shannon_vector.qzv')"
   ]
  },
  {
   "cell_type": "markdown",
   "id": "c0c19d61",
   "metadata": {},
   "source": [
    "### PERMANOVA"
   ]
  },
  {
   "cell_type": "code",
   "execution_count": 52,
   "id": "024d876f",
   "metadata": {
    "scrolled": true
   },
   "outputs": [
    {
     "data": {
      "text/plain": [
       "31"
      ]
     },
     "execution_count": 52,
     "metadata": {},
     "output_type": "execute_result"
    }
   ],
   "source": [
    "md_df = md.to_dataframe()\n",
    "md_df['Location'].nunique()"
   ]
  },
  {
   "cell_type": "code",
   "execution_count": 47,
   "id": "1239daba",
   "metadata": {
    "scrolled": true
   },
   "outputs": [
    {
     "name": "stderr",
     "output_type": "stream",
     "text": [
      "/scratch/lfloerl/.condaenvs/qiime2-amplicon-2024.10/lib/python3.10/site-packages/qiime2/metadata/metadata.py:610: FutureWarning: Setting an item of incompatible dtype is deprecated and will raise an error in a future version of pandas. Value '[nan nan nan nan nan nan nan nan nan nan nan nan nan nan nan nan nan nan\n",
      " nan nan nan nan nan nan nan nan nan nan nan nan nan nan nan nan nan nan\n",
      " nan nan nan nan nan nan nan nan nan nan nan nan nan nan nan nan nan nan\n",
      " nan nan]' has dtype incompatible with float64, please explicitly cast to a compatible dtype first.\n",
      "  series[missing.index] = missing\n",
      "/scratch/lfloerl/.condaenvs/qiime2-amplicon-2024.10/lib/python3.10/site-packages/qiime2/metadata/metadata.py:610: FutureWarning: Setting an item of incompatible dtype is deprecated and will raise an error in a future version of pandas. Value '[nan nan nan nan nan nan nan nan nan nan nan nan nan nan nan nan nan nan\n",
      " nan nan nan nan nan nan nan nan nan nan nan nan nan nan nan nan nan nan\n",
      " nan nan nan nan nan nan nan nan nan nan nan nan nan nan nan nan nan nan\n",
      " nan nan]' has dtype incompatible with float64, please explicitly cast to a compatible dtype first.\n",
      "  series[missing.index] = missing\n",
      "/scratch/lfloerl/.condaenvs/qiime2-amplicon-2024.10/lib/python3.10/site-packages/qiime2/metadata/metadata.py:610: FutureWarning: Setting an item of incompatible dtype is deprecated and will raise an error in a future version of pandas. Value '[nan nan nan nan nan nan nan nan nan nan nan nan nan nan nan nan nan nan\n",
      " nan nan nan nan nan nan nan nan nan nan nan nan nan nan nan nan nan nan\n",
      " nan nan nan nan nan nan nan nan nan nan nan nan nan nan nan nan nan nan]' has dtype incompatible with float64, please explicitly cast to a compatible dtype first.\n",
      "  series[missing.index] = missing\n",
      "/scratch/lfloerl/.condaenvs/qiime2-amplicon-2024.10/lib/python3.10/site-packages/qiime2/metadata/metadata.py:610: FutureWarning: Setting an item of incompatible dtype is deprecated and will raise an error in a future version of pandas. Value '[nan nan nan nan nan nan nan nan nan nan nan nan nan nan nan nan nan nan\n",
      " nan nan nan nan nan nan nan nan nan nan nan nan nan nan nan nan nan nan\n",
      " nan nan nan nan nan nan nan nan nan nan nan nan nan nan nan nan nan nan]' has dtype incompatible with float64, please explicitly cast to a compatible dtype first.\n",
      "  series[missing.index] = missing\n",
      "Lade nötiges Paket: permute\n",
      "Lade nötiges Paket: lattice\n"
     ]
    },
    {
     "name": "stdout",
     "output_type": "stream",
     "text": [
      "Running external command line application. This may print messages to stdout and/or stderr.\n",
      "The command being run is below. This command cannot be manually re-run as it will depend on temporary files that no longer exist.\n",
      "\n",
      "Command: run_adonis.R /scratch/lfloerl/tmpdata/tmp8n_8rdld/dm.tsv /scratch/lfloerl/tmpdata/tmp8n_8rdld/md.tsv Location * Variety 999 3 /scratch/lfloerl/tmpdata/qiime2-temp-1rtdtfce/adonis.tsv\n",
      "\n",
      "R version 4.3.3 (2024-02-29) \n"
     ]
    },
    {
     "name": "stderr",
     "output_type": "stream",
     "text": [
      "This is vegan 2.6-8\n",
      "Warnmeldung:\n",
      "'adonis' ist veraltet.\n",
      "Benutzen Sie stattdessen 'adonis2'\n",
      "Siehe help(\"Deprecated\") und help(\"vegan-deprecated\"). \n",
      "/scratch/lfloerl/.condaenvs/qiime2-amplicon-2024.10/lib/python3.10/site-packages/qiime2/metadata/metadata.py:610: FutureWarning: Setting an item of incompatible dtype is deprecated and will raise an error in a future version of pandas. Value '[nan nan nan nan nan nan nan nan nan nan nan nan nan nan nan nan nan nan\n",
      " nan nan nan nan nan nan nan nan nan nan nan nan nan nan nan nan nan nan\n",
      " nan nan nan nan nan nan nan nan nan nan nan nan nan nan nan nan nan nan\n",
      " nan nan]' has dtype incompatible with float64, please explicitly cast to a compatible dtype first.\n",
      "  series[missing.index] = missing\n",
      "/scratch/lfloerl/.condaenvs/qiime2-amplicon-2024.10/lib/python3.10/site-packages/qiime2/metadata/metadata.py:610: FutureWarning: Setting an item of incompatible dtype is deprecated and will raise an error in a future version of pandas. Value '[nan nan nan nan nan nan nan nan nan nan nan nan nan nan nan nan nan nan\n",
      " nan nan nan nan nan nan nan nan nan nan nan nan nan nan nan nan nan nan\n",
      " nan nan nan nan nan nan nan nan nan nan nan nan nan nan nan nan nan nan\n",
      " nan nan]' has dtype incompatible with float64, please explicitly cast to a compatible dtype first.\n",
      "  series[missing.index] = missing\n",
      "/scratch/lfloerl/.condaenvs/qiime2-amplicon-2024.10/lib/python3.10/site-packages/qiime2/metadata/metadata.py:610: FutureWarning: Setting an item of incompatible dtype is deprecated and will raise an error in a future version of pandas. Value '[nan nan nan nan nan nan nan nan nan nan nan nan nan nan nan nan nan nan\n",
      " nan nan nan nan nan nan nan nan nan nan nan nan nan nan nan nan nan nan\n",
      " nan nan nan nan nan nan nan nan nan nan nan nan nan nan nan nan nan nan]' has dtype incompatible with float64, please explicitly cast to a compatible dtype first.\n",
      "  series[missing.index] = missing\n",
      "/scratch/lfloerl/.condaenvs/qiime2-amplicon-2024.10/lib/python3.10/site-packages/qiime2/metadata/metadata.py:610: FutureWarning: Setting an item of incompatible dtype is deprecated and will raise an error in a future version of pandas. Value '[nan nan nan nan nan nan nan nan nan nan nan nan nan nan nan nan nan nan\n",
      " nan nan nan nan nan nan nan nan nan nan nan nan nan nan nan nan nan nan\n",
      " nan nan nan nan nan nan nan nan nan nan nan nan nan nan nan nan nan nan]' has dtype incompatible with float64, please explicitly cast to a compatible dtype first.\n",
      "  series[missing.index] = missing\n",
      "Lade nötiges Paket: permute\n",
      "Lade nötiges Paket: lattice\n"
     ]
    },
    {
     "name": "stdout",
     "output_type": "stream",
     "text": [
      "Running external command line application. This may print messages to stdout and/or stderr.\n",
      "The command being run is below. This command cannot be manually re-run as it will depend on temporary files that no longer exist.\n",
      "\n",
      "Command: run_adonis.R /scratch/lfloerl/tmpdata/tmp_jffeqse/dm.tsv /scratch/lfloerl/tmpdata/tmp_jffeqse/md.tsv Location * Variety 999 3 /scratch/lfloerl/tmpdata/qiime2-temp-o6phgiet/adonis.tsv\n",
      "\n",
      "R version 4.3.3 (2024-02-29) \n"
     ]
    },
    {
     "name": "stderr",
     "output_type": "stream",
     "text": [
      "This is vegan 2.6-8\n",
      "Warnmeldung:\n",
      "'adonis' ist veraltet.\n",
      "Benutzen Sie stattdessen 'adonis2'\n",
      "Siehe help(\"Deprecated\") und help(\"vegan-deprecated\"). \n"
     ]
    },
    {
     "name": "stdout",
     "output_type": "stream",
     "text": [
      "\u001b[32mSaved Visualization to: valais_kmer_cm5000/adonis_bray_curtis.qzv\u001b[0m\n",
      "\u001b[0m\u001b[32mSaved Visualization to: valais_kmer_cm5000/adonis_jaccard.qzv\u001b[0m\n",
      "\u001b[0m"
     ]
    }
   ],
   "source": [
    "formula = 'Location * Variety'\n",
    "\n",
    "beta_metrics = ['bray_curtis', 'jaccard']\n",
    "\n",
    "# PERMANOVA with core metrics \n",
    "for m in beta_metrics:\n",
    "    adonis_res, = q2d.actions.adonis(\n",
    "        distance_matrix=core_div_dict[m + '_distance_matrix'],\n",
    "        metadata=md,\n",
    "        formula=formula,\n",
    "        n_jobs=3)\n",
    "    adonis_res.save(output_dir + 'adonis_{0}.qzv'.format(m))\n",
    "    \n",
    "\n",
    "# PERMANOVA with kmer core metrics \n",
    "kmer_dir = 'valais_kmer_cm5000'\n",
    "    \n",
    "for m in beta_metrics:\n",
    "    !qiime diversity adonis \\\n",
    "        --i-distance-matrix \"{kmer_dir}/{m}_distance_matrix.qza\" \\\n",
    "        --m-metadata-file /home/lfloerl/microterroir/Microbiome/Metadata/ITS_Valais_and_Lavaux23.tsv \\\n",
    "        --p-formula \"{formula}\" \\\n",
    "        --p-n-jobs 5 \\\n",
    "        --o-visualization \"{kmer_dir}/adonis_{m}.qzv\""
   ]
  },
  {
   "cell_type": "code",
   "execution_count": 48,
   "id": "03924c1f",
   "metadata": {
    "scrolled": true
   },
   "outputs": [
    {
     "data": {
      "text/html": [
       "<div><img onload=\"(function(div, url){\n",
       "if (typeof require !== 'undefined') {\n",
       "    var baseURL = require.toUrl('').split('/').slice(0, -2).join('/');\n",
       "} else {\n",
       "    var baseURL = JSON.parse(\n",
       "        document.getElementById('jupyter-config-data').innerHTML\n",
       "    ).baseUrl.slice(0, -1);\n",
       "}\n",
       "url = baseURL + url;\n",
       "fetch(url).then(function(res) {\n",
       "    if (res.status === 404) {\n",
       "        div.innerHTML = 'Install QIIME 2 Jupyter extension with:<br />' +\n",
       "                        '<code>jupyter server extension enable --py qiime2' +\n",
       "                        ' --sys-prefix</code><br />then restart your server.' +\n",
       "                        '<br /><br />(Interactive output not available on ' +\n",
       "                        'static notebook viewer services like nbviewer.)';\n",
       "    } else if (res.status === 409) {\n",
       "        div.innerHTML = 'Visualization no longer in scope. Re-run this cell' +\n",
       "                        ' to see the visualization.';\n",
       "    } else if (res.ok) {\n",
       "        url = res.url;\n",
       "        div.innerHTML = '<iframe src=\\'' + url + '\\' style=\\'' +\n",
       "                        'width: 100%; height: 700px; border: 0;\\'>' +\n",
       "                        '</iframe><hr />Open in a: <a href=\\'' + url + '\\'' +\n",
       "                        ' target=\\'_blank\\'>new window</a>'\n",
       "    } else {\n",
       "        div.innerHTML = 'Something has gone wrong. Check notebook server for' +\n",
       "                        ' errors.';\n",
       "    }\n",
       "});\n",
       "})(this.parentElement, '/qiime2/redirect?location=/scratch/lfloerl/tmpdata/qiime2/lfloerl/data/6d912c56-96f6-46a7-ad58-33f578ac1e57')\" src=\"data:image/gif;base64,R0lGODlhAQABAIAAAP///wAAACH5BAEAAAAALAAAAAABAAEAAAICRAEAOw==\" /></div>"
      ],
      "text/plain": [
       "<visualization: Visualization uuid: 6d912c56-96f6-46a7-ad58-33f578ac1e57>"
      ]
     },
     "execution_count": 48,
     "metadata": {},
     "output_type": "execute_result"
    }
   ],
   "source": [
    "Visualization.load(f'{output_dir}/adonis_bray_curtis.qzv')"
   ]
  },
  {
   "cell_type": "code",
   "execution_count": 49,
   "id": "56e82da0",
   "metadata": {
    "scrolled": true
   },
   "outputs": [
    {
     "data": {
      "text/html": [
       "<div><img onload=\"(function(div, url){\n",
       "if (typeof require !== 'undefined') {\n",
       "    var baseURL = require.toUrl('').split('/').slice(0, -2).join('/');\n",
       "} else {\n",
       "    var baseURL = JSON.parse(\n",
       "        document.getElementById('jupyter-config-data').innerHTML\n",
       "    ).baseUrl.slice(0, -1);\n",
       "}\n",
       "url = baseURL + url;\n",
       "fetch(url).then(function(res) {\n",
       "    if (res.status === 404) {\n",
       "        div.innerHTML = 'Install QIIME 2 Jupyter extension with:<br />' +\n",
       "                        '<code>jupyter server extension enable --py qiime2' +\n",
       "                        ' --sys-prefix</code><br />then restart your server.' +\n",
       "                        '<br /><br />(Interactive output not available on ' +\n",
       "                        'static notebook viewer services like nbviewer.)';\n",
       "    } else if (res.status === 409) {\n",
       "        div.innerHTML = 'Visualization no longer in scope. Re-run this cell' +\n",
       "                        ' to see the visualization.';\n",
       "    } else if (res.ok) {\n",
       "        url = res.url;\n",
       "        div.innerHTML = '<iframe src=\\'' + url + '\\' style=\\'' +\n",
       "                        'width: 100%; height: 700px; border: 0;\\'>' +\n",
       "                        '</iframe><hr />Open in a: <a href=\\'' + url + '\\'' +\n",
       "                        ' target=\\'_blank\\'>new window</a>'\n",
       "    } else {\n",
       "        div.innerHTML = 'Something has gone wrong. Check notebook server for' +\n",
       "                        ' errors.';\n",
       "    }\n",
       "});\n",
       "})(this.parentElement, '/qiime2/redirect?location=/scratch/lfloerl/tmpdata/qiime2/lfloerl/data/6027b137-dfce-4d57-bf9a-10a42a10d730')\" src=\"data:image/gif;base64,R0lGODlhAQABAIAAAP///wAAACH5BAEAAAAALAAAAAABAAEAAAICRAEAOw==\" /></div>"
      ],
      "text/plain": [
       "<visualization: Visualization uuid: 6027b137-dfce-4d57-bf9a-10a42a10d730>"
      ]
     },
     "execution_count": 49,
     "metadata": {},
     "output_type": "execute_result"
    }
   ],
   "source": [
    "Visualization.load(f'{output_dir}/adonis_jaccard.qzv')"
   ]
  },
  {
   "cell_type": "code",
   "execution_count": 50,
   "id": "6e32f2ce",
   "metadata": {
    "scrolled": true
   },
   "outputs": [
    {
     "data": {
      "text/html": [
       "<div><img onload=\"(function(div, url){\n",
       "if (typeof require !== 'undefined') {\n",
       "    var baseURL = require.toUrl('').split('/').slice(0, -2).join('/');\n",
       "} else {\n",
       "    var baseURL = JSON.parse(\n",
       "        document.getElementById('jupyter-config-data').innerHTML\n",
       "    ).baseUrl.slice(0, -1);\n",
       "}\n",
       "url = baseURL + url;\n",
       "fetch(url).then(function(res) {\n",
       "    if (res.status === 404) {\n",
       "        div.innerHTML = 'Install QIIME 2 Jupyter extension with:<br />' +\n",
       "                        '<code>jupyter server extension enable --py qiime2' +\n",
       "                        ' --sys-prefix</code><br />then restart your server.' +\n",
       "                        '<br /><br />(Interactive output not available on ' +\n",
       "                        'static notebook viewer services like nbviewer.)';\n",
       "    } else if (res.status === 409) {\n",
       "        div.innerHTML = 'Visualization no longer in scope. Re-run this cell' +\n",
       "                        ' to see the visualization.';\n",
       "    } else if (res.ok) {\n",
       "        url = res.url;\n",
       "        div.innerHTML = '<iframe src=\\'' + url + '\\' style=\\'' +\n",
       "                        'width: 100%; height: 700px; border: 0;\\'>' +\n",
       "                        '</iframe><hr />Open in a: <a href=\\'' + url + '\\'' +\n",
       "                        ' target=\\'_blank\\'>new window</a>'\n",
       "    } else {\n",
       "        div.innerHTML = 'Something has gone wrong. Check notebook server for' +\n",
       "                        ' errors.';\n",
       "    }\n",
       "});\n",
       "})(this.parentElement, '/qiime2/redirect?location=/scratch/lfloerl/tmpdata/qiime2/lfloerl/data/a8c2e198-3689-43e5-859a-1afb30ec453d')\" src=\"data:image/gif;base64,R0lGODlhAQABAIAAAP///wAAACH5BAEAAAAALAAAAAABAAEAAAICRAEAOw==\" /></div>"
      ],
      "text/plain": [
       "<visualization: Visualization uuid: a8c2e198-3689-43e5-859a-1afb30ec453d>"
      ]
     },
     "execution_count": 50,
     "metadata": {},
     "output_type": "execute_result"
    }
   ],
   "source": [
    "Visualization.load(f'{kmer_dir}/adonis_bray_curtis.qzv')"
   ]
  },
  {
   "cell_type": "code",
   "execution_count": 51,
   "id": "46ea1f80",
   "metadata": {
    "scrolled": true
   },
   "outputs": [
    {
     "data": {
      "text/html": [
       "<div><img onload=\"(function(div, url){\n",
       "if (typeof require !== 'undefined') {\n",
       "    var baseURL = require.toUrl('').split('/').slice(0, -2).join('/');\n",
       "} else {\n",
       "    var baseURL = JSON.parse(\n",
       "        document.getElementById('jupyter-config-data').innerHTML\n",
       "    ).baseUrl.slice(0, -1);\n",
       "}\n",
       "url = baseURL + url;\n",
       "fetch(url).then(function(res) {\n",
       "    if (res.status === 404) {\n",
       "        div.innerHTML = 'Install QIIME 2 Jupyter extension with:<br />' +\n",
       "                        '<code>jupyter server extension enable --py qiime2' +\n",
       "                        ' --sys-prefix</code><br />then restart your server.' +\n",
       "                        '<br /><br />(Interactive output not available on ' +\n",
       "                        'static notebook viewer services like nbviewer.)';\n",
       "    } else if (res.status === 409) {\n",
       "        div.innerHTML = 'Visualization no longer in scope. Re-run this cell' +\n",
       "                        ' to see the visualization.';\n",
       "    } else if (res.ok) {\n",
       "        url = res.url;\n",
       "        div.innerHTML = '<iframe src=\\'' + url + '\\' style=\\'' +\n",
       "                        'width: 100%; height: 700px; border: 0;\\'>' +\n",
       "                        '</iframe><hr />Open in a: <a href=\\'' + url + '\\'' +\n",
       "                        ' target=\\'_blank\\'>new window</a>'\n",
       "    } else {\n",
       "        div.innerHTML = 'Something has gone wrong. Check notebook server for' +\n",
       "                        ' errors.';\n",
       "    }\n",
       "});\n",
       "})(this.parentElement, '/qiime2/redirect?location=/scratch/lfloerl/tmpdata/qiime2/lfloerl/data/d7843b30-9b7a-4a98-b8e2-bbf5a4f1289d')\" src=\"data:image/gif;base64,R0lGODlhAQABAIAAAP///wAAACH5BAEAAAAALAAAAAABAAEAAAICRAEAOw==\" /></div>"
      ],
      "text/plain": [
       "<visualization: Visualization uuid: d7843b30-9b7a-4a98-b8e2-bbf5a4f1289d>"
      ]
     },
     "execution_count": 51,
     "metadata": {},
     "output_type": "execute_result"
    }
   ],
   "source": [
    "Visualization.load(f'{kmer_dir}/adonis_jaccard.qzv')"
   ]
  },
  {
   "cell_type": "markdown",
   "id": "ab557f5c",
   "metadata": {},
   "source": [
    "## Mantel "
   ]
  },
  {
   "cell_type": "code",
   "execution_count": 53,
   "id": "5e9b3635",
   "metadata": {},
   "outputs": [
    {
     "name": "stdout",
     "output_type": "stream",
     "text": [
      "Saved Visualization to: valais_mantel/bray_curtis_mantel.qzv\n",
      "Saved Visualization to: valais_mantel/jaccard_mantel.qzv\n",
      "Saved Visualization to: valais_mantel/bray_curtis_kmer_mantel.qzv\n",
      "Saved Visualization to: valais_mantel/jaccard_kmer_mantel.qzv\n"
     ]
    }
   ],
   "source": [
    "%%bash \n",
    "\n",
    "div_dir='valais_cm5000'\n",
    "kmer_dir='valais_kmer_cm5000'\n",
    "output_dir=\"valais_mantel\"\n",
    "\n",
    "mkdir -p $output_dir\n",
    "\n",
    "qiime diversity mantel \\\n",
    "    --i-dm1 /home/lfloerl/cloud/lfloerl/Microterroir/artifacts/ITS/geodesic_distance_ITS.qza \\\n",
    "    --i-dm2 $div_dir/bray_curtis_distance_matrix.qza \\\n",
    "    --p-intersect-ids \\\n",
    "    --o-visualization $output_dir/bray_curtis_mantel.qzv\n",
    "    \n",
    "qiime diversity mantel \\\n",
    "    --i-dm1 /home/lfloerl/cloud/lfloerl/Microterroir/artifacts/ITS/geodesic_distance_ITS.qza \\\n",
    "    --i-dm2 $div_dir/jaccard_distance_matrix.qza \\\n",
    "    --p-intersect-ids \\\n",
    "    --o-visualization $output_dir/jaccard_mantel.qzv\n",
    "    \n",
    "qiime diversity mantel \\\n",
    "    --i-dm1 /home/lfloerl/cloud/lfloerl/Microterroir/artifacts/ITS/geodesic_distance_ITS.qza \\\n",
    "    --i-dm2 $kmer_dir/bray_curtis_distance_matrix.qza \\\n",
    "    --p-intersect-ids \\\n",
    "    --o-visualization $output_dir/bray_curtis_kmer_mantel.qzv\n",
    "    \n",
    "qiime diversity mantel \\\n",
    "    --i-dm1 /home/lfloerl/cloud/lfloerl/Microterroir/artifacts/ITS/geodesic_distance_ITS.qza \\\n",
    "    --i-dm2 $kmer_dir/jaccard_distance_matrix.qza \\\n",
    "    --p-intersect-ids \\\n",
    "    --o-visualization $output_dir/jaccard_kmer_mantel.qzv"
   ]
  },
  {
   "cell_type": "code",
   "execution_count": 54,
   "id": "7e1e390c",
   "metadata": {
    "scrolled": true
   },
   "outputs": [
    {
     "data": {
      "text/html": [
       "<div><img onload=\"(function(div, url){\n",
       "if (typeof require !== 'undefined') {\n",
       "    var baseURL = require.toUrl('').split('/').slice(0, -2).join('/');\n",
       "} else {\n",
       "    var baseURL = JSON.parse(\n",
       "        document.getElementById('jupyter-config-data').innerHTML\n",
       "    ).baseUrl.slice(0, -1);\n",
       "}\n",
       "url = baseURL + url;\n",
       "fetch(url).then(function(res) {\n",
       "    if (res.status === 404) {\n",
       "        div.innerHTML = 'Install QIIME 2 Jupyter extension with:<br />' +\n",
       "                        '<code>jupyter server extension enable --py qiime2' +\n",
       "                        ' --sys-prefix</code><br />then restart your server.' +\n",
       "                        '<br /><br />(Interactive output not available on ' +\n",
       "                        'static notebook viewer services like nbviewer.)';\n",
       "    } else if (res.status === 409) {\n",
       "        div.innerHTML = 'Visualization no longer in scope. Re-run this cell' +\n",
       "                        ' to see the visualization.';\n",
       "    } else if (res.ok) {\n",
       "        url = res.url;\n",
       "        div.innerHTML = '<iframe src=\\'' + url + '\\' style=\\'' +\n",
       "                        'width: 100%; height: 700px; border: 0;\\'>' +\n",
       "                        '</iframe><hr />Open in a: <a href=\\'' + url + '\\'' +\n",
       "                        ' target=\\'_blank\\'>new window</a>'\n",
       "    } else {\n",
       "        div.innerHTML = 'Something has gone wrong. Check notebook server for' +\n",
       "                        ' errors.';\n",
       "    }\n",
       "});\n",
       "})(this.parentElement, '/qiime2/redirect?location=/scratch/lfloerl/tmpdata/qiime2/lfloerl/data/a43ad935-0ce3-46b5-a080-63ed139699e6')\" src=\"data:image/gif;base64,R0lGODlhAQABAIAAAP///wAAACH5BAEAAAAALAAAAAABAAEAAAICRAEAOw==\" /></div>"
      ],
      "text/plain": [
       "<visualization: Visualization uuid: a43ad935-0ce3-46b5-a080-63ed139699e6>"
      ]
     },
     "execution_count": 54,
     "metadata": {},
     "output_type": "execute_result"
    }
   ],
   "source": [
    "Visualization.load('must_mantel/bray_curtis_mantel.qzv')"
   ]
  },
  {
   "cell_type": "code",
   "execution_count": 55,
   "id": "1907843d",
   "metadata": {},
   "outputs": [
    {
     "data": {
      "text/html": [
       "<div><img onload=\"(function(div, url){\n",
       "if (typeof require !== 'undefined') {\n",
       "    var baseURL = require.toUrl('').split('/').slice(0, -2).join('/');\n",
       "} else {\n",
       "    var baseURL = JSON.parse(\n",
       "        document.getElementById('jupyter-config-data').innerHTML\n",
       "    ).baseUrl.slice(0, -1);\n",
       "}\n",
       "url = baseURL + url;\n",
       "fetch(url).then(function(res) {\n",
       "    if (res.status === 404) {\n",
       "        div.innerHTML = 'Install QIIME 2 Jupyter extension with:<br />' +\n",
       "                        '<code>jupyter server extension enable --py qiime2' +\n",
       "                        ' --sys-prefix</code><br />then restart your server.' +\n",
       "                        '<br /><br />(Interactive output not available on ' +\n",
       "                        'static notebook viewer services like nbviewer.)';\n",
       "    } else if (res.status === 409) {\n",
       "        div.innerHTML = 'Visualization no longer in scope. Re-run this cell' +\n",
       "                        ' to see the visualization.';\n",
       "    } else if (res.ok) {\n",
       "        url = res.url;\n",
       "        div.innerHTML = '<iframe src=\\'' + url + '\\' style=\\'' +\n",
       "                        'width: 100%; height: 700px; border: 0;\\'>' +\n",
       "                        '</iframe><hr />Open in a: <a href=\\'' + url + '\\'' +\n",
       "                        ' target=\\'_blank\\'>new window</a>'\n",
       "    } else {\n",
       "        div.innerHTML = 'Something has gone wrong. Check notebook server for' +\n",
       "                        ' errors.';\n",
       "    }\n",
       "});\n",
       "})(this.parentElement, '/qiime2/redirect?location=/scratch/lfloerl/tmpdata/qiime2/lfloerl/data/84619478-fb62-4766-a0ad-92b67ca9589c')\" src=\"data:image/gif;base64,R0lGODlhAQABAIAAAP///wAAACH5BAEAAAAALAAAAAABAAEAAAICRAEAOw==\" /></div>"
      ],
      "text/plain": [
       "<visualization: Visualization uuid: 84619478-fb62-4766-a0ad-92b67ca9589c>"
      ]
     },
     "execution_count": 55,
     "metadata": {},
     "output_type": "execute_result"
    }
   ],
   "source": [
    "Visualization.load('must_mantel/jaccard_mantel.qzv')"
   ]
  },
  {
   "cell_type": "code",
   "execution_count": 56,
   "id": "0c91e1ea",
   "metadata": {},
   "outputs": [
    {
     "data": {
      "text/html": [
       "<div><img onload=\"(function(div, url){\n",
       "if (typeof require !== 'undefined') {\n",
       "    var baseURL = require.toUrl('').split('/').slice(0, -2).join('/');\n",
       "} else {\n",
       "    var baseURL = JSON.parse(\n",
       "        document.getElementById('jupyter-config-data').innerHTML\n",
       "    ).baseUrl.slice(0, -1);\n",
       "}\n",
       "url = baseURL + url;\n",
       "fetch(url).then(function(res) {\n",
       "    if (res.status === 404) {\n",
       "        div.innerHTML = 'Install QIIME 2 Jupyter extension with:<br />' +\n",
       "                        '<code>jupyter server extension enable --py qiime2' +\n",
       "                        ' --sys-prefix</code><br />then restart your server.' +\n",
       "                        '<br /><br />(Interactive output not available on ' +\n",
       "                        'static notebook viewer services like nbviewer.)';\n",
       "    } else if (res.status === 409) {\n",
       "        div.innerHTML = 'Visualization no longer in scope. Re-run this cell' +\n",
       "                        ' to see the visualization.';\n",
       "    } else if (res.ok) {\n",
       "        url = res.url;\n",
       "        div.innerHTML = '<iframe src=\\'' + url + '\\' style=\\'' +\n",
       "                        'width: 100%; height: 700px; border: 0;\\'>' +\n",
       "                        '</iframe><hr />Open in a: <a href=\\'' + url + '\\'' +\n",
       "                        ' target=\\'_blank\\'>new window</a>'\n",
       "    } else {\n",
       "        div.innerHTML = 'Something has gone wrong. Check notebook server for' +\n",
       "                        ' errors.';\n",
       "    }\n",
       "});\n",
       "})(this.parentElement, '/qiime2/redirect?location=/scratch/lfloerl/tmpdata/qiime2/lfloerl/data/aebe0b3e-828c-42ef-8853-4c81221077ef')\" src=\"data:image/gif;base64,R0lGODlhAQABAIAAAP///wAAACH5BAEAAAAALAAAAAABAAEAAAICRAEAOw==\" /></div>"
      ],
      "text/plain": [
       "<visualization: Visualization uuid: aebe0b3e-828c-42ef-8853-4c81221077ef>"
      ]
     },
     "execution_count": 56,
     "metadata": {},
     "output_type": "execute_result"
    }
   ],
   "source": [
    "Visualization.load('must_mantel/bray_curtis_kmer_mantel.qzv')"
   ]
  },
  {
   "cell_type": "code",
   "execution_count": 57,
   "id": "7abdd1f0",
   "metadata": {
    "scrolled": false
   },
   "outputs": [
    {
     "data": {
      "text/html": [
       "<div><img onload=\"(function(div, url){\n",
       "if (typeof require !== 'undefined') {\n",
       "    var baseURL = require.toUrl('').split('/').slice(0, -2).join('/');\n",
       "} else {\n",
       "    var baseURL = JSON.parse(\n",
       "        document.getElementById('jupyter-config-data').innerHTML\n",
       "    ).baseUrl.slice(0, -1);\n",
       "}\n",
       "url = baseURL + url;\n",
       "fetch(url).then(function(res) {\n",
       "    if (res.status === 404) {\n",
       "        div.innerHTML = 'Install QIIME 2 Jupyter extension with:<br />' +\n",
       "                        '<code>jupyter server extension enable --py qiime2' +\n",
       "                        ' --sys-prefix</code><br />then restart your server.' +\n",
       "                        '<br /><br />(Interactive output not available on ' +\n",
       "                        'static notebook viewer services like nbviewer.)';\n",
       "    } else if (res.status === 409) {\n",
       "        div.innerHTML = 'Visualization no longer in scope. Re-run this cell' +\n",
       "                        ' to see the visualization.';\n",
       "    } else if (res.ok) {\n",
       "        url = res.url;\n",
       "        div.innerHTML = '<iframe src=\\'' + url + '\\' style=\\'' +\n",
       "                        'width: 100%; height: 700px; border: 0;\\'>' +\n",
       "                        '</iframe><hr />Open in a: <a href=\\'' + url + '\\'' +\n",
       "                        ' target=\\'_blank\\'>new window</a>'\n",
       "    } else {\n",
       "        div.innerHTML = 'Something has gone wrong. Check notebook server for' +\n",
       "                        ' errors.';\n",
       "    }\n",
       "});\n",
       "})(this.parentElement, '/qiime2/redirect?location=/scratch/lfloerl/tmpdata/qiime2/lfloerl/data/454efe15-c736-40f5-8444-7a265115c946')\" src=\"data:image/gif;base64,R0lGODlhAQABAIAAAP///wAAACH5BAEAAAAALAAAAAABAAEAAAICRAEAOw==\" /></div>"
      ],
      "text/plain": [
       "<visualization: Visualization uuid: 454efe15-c736-40f5-8444-7a265115c946>"
      ]
     },
     "execution_count": 57,
     "metadata": {},
     "output_type": "execute_result"
    }
   ],
   "source": [
    "Visualization.load('must_mantel/jaccard_kmer_mantel.qzv')"
   ]
  },
  {
   "cell_type": "markdown",
   "id": "517e6fee",
   "metadata": {},
   "source": [
    "## Random Forest"
   ]
  },
  {
   "cell_type": "code",
   "execution_count": 63,
   "id": "65b19f2d",
   "metadata": {
    "scrolled": true
   },
   "outputs": [
    {
     "name": "stdout",
     "output_type": "stream",
     "text": [
      "Saved SampleEstimator[Classifier] to: ./Valais-classify-Variety/sample_estimator.qza\n",
      "Saved FeatureData[Importance] to: ./Valais-classify-Variety/feature_importance.qza\n",
      "Saved SampleData[ClassifierPredictions] to: ./Valais-classify-Variety/predictions.qza\n",
      "Saved Visualization to: ./Valais-classify-Variety/model_summary.qzv\n",
      "Saved Visualization to: ./Valais-classify-Variety/accuracy_results.qzv\n",
      "Saved SampleData[Probabilities] to: ./Valais-classify-Variety/probabilities.qza\n",
      "Saved Visualization to: ./Valais-classify-Variety/heatmap.qzv\n",
      "Saved SampleData[TrueTargets] to: ./Valais-classify-Variety/training_targets.qza\n",
      "Saved SampleData[TrueTargets] to: ./Valais-classify-Variety/test_targets.qza\n"
     ]
    }
   ],
   "source": [
    "%%bash \n",
    "\n",
    "# classify variety \n",
    "qiime sample-classifier classify-samples \\\n",
    "  --i-table /home/lfloerl/cloud/lfloerl/Microterroir/artifacts/ITS/lavaux/Valais_Lavaux23_filtered_table.qza \\\n",
    "  --m-metadata-file /home/lfloerl/microterroir/Microbiome/Metadata/ITS_Valais_and_Lavaux23.tsv \\\n",
    "  --m-metadata-column Variety \\\n",
    "  --p-random-state 666 \\\n",
    "  --p-n-jobs 6 \\\n",
    "  --output-dir ./Valais-classify-Variety/"
   ]
  },
  {
   "cell_type": "code",
   "execution_count": 64,
   "id": "7155c19f",
   "metadata": {},
   "outputs": [
    {
     "data": {
      "text/html": [
       "<div><img onload=\"(function(div, url){\n",
       "if (typeof require !== 'undefined') {\n",
       "    var baseURL = require.toUrl('').split('/').slice(0, -2).join('/');\n",
       "} else {\n",
       "    var baseURL = JSON.parse(\n",
       "        document.getElementById('jupyter-config-data').innerHTML\n",
       "    ).baseUrl.slice(0, -1);\n",
       "}\n",
       "url = baseURL + url;\n",
       "fetch(url).then(function(res) {\n",
       "    if (res.status === 404) {\n",
       "        div.innerHTML = 'Install QIIME 2 Jupyter extension with:<br />' +\n",
       "                        '<code>jupyter server extension enable --py qiime2' +\n",
       "                        ' --sys-prefix</code><br />then restart your server.' +\n",
       "                        '<br /><br />(Interactive output not available on ' +\n",
       "                        'static notebook viewer services like nbviewer.)';\n",
       "    } else if (res.status === 409) {\n",
       "        div.innerHTML = 'Visualization no longer in scope. Re-run this cell' +\n",
       "                        ' to see the visualization.';\n",
       "    } else if (res.ok) {\n",
       "        url = res.url;\n",
       "        div.innerHTML = '<iframe src=\\'' + url + '\\' style=\\'' +\n",
       "                        'width: 100%; height: 700px; border: 0;\\'>' +\n",
       "                        '</iframe><hr />Open in a: <a href=\\'' + url + '\\'' +\n",
       "                        ' target=\\'_blank\\'>new window</a>'\n",
       "    } else {\n",
       "        div.innerHTML = 'Something has gone wrong. Check notebook server for' +\n",
       "                        ' errors.';\n",
       "    }\n",
       "});\n",
       "})(this.parentElement, '/qiime2/redirect?location=/scratch/lfloerl/tmpdata/qiime2/lfloerl/data/35963127-b12c-4083-acea-0934726935d5')\" src=\"data:image/gif;base64,R0lGODlhAQABAIAAAP///wAAACH5BAEAAAAALAAAAAABAAEAAAICRAEAOw==\" /></div>"
      ],
      "text/plain": [
       "<visualization: Visualization uuid: 35963127-b12c-4083-acea-0934726935d5>"
      ]
     },
     "execution_count": 64,
     "metadata": {},
     "output_type": "execute_result"
    }
   ],
   "source": [
    "Visualization.load('Valais-classify-Variety/accuracy_results.qzv')"
   ]
  },
  {
   "cell_type": "code",
   "execution_count": 65,
   "id": "fcf84ab9",
   "metadata": {
    "scrolled": true
   },
   "outputs": [
    {
     "data": {
      "text/html": [
       "<div><img onload=\"(function(div, url){\n",
       "if (typeof require !== 'undefined') {\n",
       "    var baseURL = require.toUrl('').split('/').slice(0, -2).join('/');\n",
       "} else {\n",
       "    var baseURL = JSON.parse(\n",
       "        document.getElementById('jupyter-config-data').innerHTML\n",
       "    ).baseUrl.slice(0, -1);\n",
       "}\n",
       "url = baseURL + url;\n",
       "fetch(url).then(function(res) {\n",
       "    if (res.status === 404) {\n",
       "        div.innerHTML = 'Install QIIME 2 Jupyter extension with:<br />' +\n",
       "                        '<code>jupyter server extension enable --py qiime2' +\n",
       "                        ' --sys-prefix</code><br />then restart your server.' +\n",
       "                        '<br /><br />(Interactive output not available on ' +\n",
       "                        'static notebook viewer services like nbviewer.)';\n",
       "    } else if (res.status === 409) {\n",
       "        div.innerHTML = 'Visualization no longer in scope. Re-run this cell' +\n",
       "                        ' to see the visualization.';\n",
       "    } else if (res.ok) {\n",
       "        url = res.url;\n",
       "        div.innerHTML = '<iframe src=\\'' + url + '\\' style=\\'' +\n",
       "                        'width: 100%; height: 700px; border: 0;\\'>' +\n",
       "                        '</iframe><hr />Open in a: <a href=\\'' + url + '\\'' +\n",
       "                        ' target=\\'_blank\\'>new window</a>'\n",
       "    } else {\n",
       "        div.innerHTML = 'Something has gone wrong. Check notebook server for' +\n",
       "                        ' errors.';\n",
       "    }\n",
       "});\n",
       "})(this.parentElement, '/qiime2/redirect?location=/scratch/lfloerl/tmpdata/qiime2/lfloerl/data/6438484b-eee7-4c15-96f7-57911f9859b9')\" src=\"data:image/gif;base64,R0lGODlhAQABAIAAAP///wAAACH5BAEAAAAALAAAAAABAAEAAAICRAEAOw==\" /></div>"
      ],
      "text/plain": [
       "<visualization: Visualization uuid: 6438484b-eee7-4c15-96f7-57911f9859b9>"
      ]
     },
     "execution_count": 65,
     "metadata": {},
     "output_type": "execute_result"
    }
   ],
   "source": [
    "Visualization.load('Valais-classify-Variety/heatmap.qzv')"
   ]
  },
  {
   "cell_type": "code",
   "execution_count": 66,
   "id": "6435dd93",
   "metadata": {
    "scrolled": true
   },
   "outputs": [
    {
     "name": "stdout",
     "output_type": "stream",
     "text": [
      "Saved SampleEstimator[Classifier] to: ./Valais-classify-Region/sample_estimator.qza\n",
      "Saved FeatureData[Importance] to: ./Valais-classify-Region/feature_importance.qza\n",
      "Saved SampleData[ClassifierPredictions] to: ./Valais-classify-Region/predictions.qza\n",
      "Saved Visualization to: ./Valais-classify-Region/model_summary.qzv\n",
      "Saved Visualization to: ./Valais-classify-Region/accuracy_results.qzv\n",
      "Saved SampleData[Probabilities] to: ./Valais-classify-Region/probabilities.qza\n",
      "Saved Visualization to: ./Valais-classify-Region/heatmap.qzv\n",
      "Saved SampleData[TrueTargets] to: ./Valais-classify-Region/training_targets.qza\n",
      "Saved SampleData[TrueTargets] to: ./Valais-classify-Region/test_targets.qza\n"
     ]
    }
   ],
   "source": [
    "%%bash \n",
    "\n",
    "# classify region \n",
    "qiime sample-classifier classify-samples \\\n",
    "  --i-table /home/lfloerl/cloud/lfloerl/Microterroir/artifacts/ITS/lavaux/Valais_Lavaux23_filtered_table.qza \\\n",
    "  --m-metadata-file /home/lfloerl/microterroir/Microbiome/Metadata/ITS_Valais_and_Lavaux23.tsv \\\n",
    "  --m-metadata-column Region \\\n",
    "  --p-random-state 666 \\\n",
    "  --p-n-jobs 6 \\\n",
    "  --output-dir ./Valais-classify-Region/"
   ]
  },
  {
   "cell_type": "code",
   "execution_count": 67,
   "id": "12868ac1",
   "metadata": {},
   "outputs": [
    {
     "data": {
      "text/html": [
       "<div><img onload=\"(function(div, url){\n",
       "if (typeof require !== 'undefined') {\n",
       "    var baseURL = require.toUrl('').split('/').slice(0, -2).join('/');\n",
       "} else {\n",
       "    var baseURL = JSON.parse(\n",
       "        document.getElementById('jupyter-config-data').innerHTML\n",
       "    ).baseUrl.slice(0, -1);\n",
       "}\n",
       "url = baseURL + url;\n",
       "fetch(url).then(function(res) {\n",
       "    if (res.status === 404) {\n",
       "        div.innerHTML = 'Install QIIME 2 Jupyter extension with:<br />' +\n",
       "                        '<code>jupyter server extension enable --py qiime2' +\n",
       "                        ' --sys-prefix</code><br />then restart your server.' +\n",
       "                        '<br /><br />(Interactive output not available on ' +\n",
       "                        'static notebook viewer services like nbviewer.)';\n",
       "    } else if (res.status === 409) {\n",
       "        div.innerHTML = 'Visualization no longer in scope. Re-run this cell' +\n",
       "                        ' to see the visualization.';\n",
       "    } else if (res.ok) {\n",
       "        url = res.url;\n",
       "        div.innerHTML = '<iframe src=\\'' + url + '\\' style=\\'' +\n",
       "                        'width: 100%; height: 700px; border: 0;\\'>' +\n",
       "                        '</iframe><hr />Open in a: <a href=\\'' + url + '\\'' +\n",
       "                        ' target=\\'_blank\\'>new window</a>'\n",
       "    } else {\n",
       "        div.innerHTML = 'Something has gone wrong. Check notebook server for' +\n",
       "                        ' errors.';\n",
       "    }\n",
       "});\n",
       "})(this.parentElement, '/qiime2/redirect?location=/scratch/lfloerl/tmpdata/qiime2/lfloerl/data/3379c858-7ef8-471e-9673-3b1d2f0f54eb')\" src=\"data:image/gif;base64,R0lGODlhAQABAIAAAP///wAAACH5BAEAAAAALAAAAAABAAEAAAICRAEAOw==\" /></div>"
      ],
      "text/plain": [
       "<visualization: Visualization uuid: 3379c858-7ef8-471e-9673-3b1d2f0f54eb>"
      ]
     },
     "execution_count": 67,
     "metadata": {},
     "output_type": "execute_result"
    }
   ],
   "source": [
    "Visualization.load('Valais-classify-Region/accuracy_results.qzv')"
   ]
  },
  {
   "cell_type": "code",
   "execution_count": 68,
   "id": "d2dc5d0d",
   "metadata": {
    "scrolled": true
   },
   "outputs": [
    {
     "data": {
      "text/html": [
       "<div><img onload=\"(function(div, url){\n",
       "if (typeof require !== 'undefined') {\n",
       "    var baseURL = require.toUrl('').split('/').slice(0, -2).join('/');\n",
       "} else {\n",
       "    var baseURL = JSON.parse(\n",
       "        document.getElementById('jupyter-config-data').innerHTML\n",
       "    ).baseUrl.slice(0, -1);\n",
       "}\n",
       "url = baseURL + url;\n",
       "fetch(url).then(function(res) {\n",
       "    if (res.status === 404) {\n",
       "        div.innerHTML = 'Install QIIME 2 Jupyter extension with:<br />' +\n",
       "                        '<code>jupyter server extension enable --py qiime2' +\n",
       "                        ' --sys-prefix</code><br />then restart your server.' +\n",
       "                        '<br /><br />(Interactive output not available on ' +\n",
       "                        'static notebook viewer services like nbviewer.)';\n",
       "    } else if (res.status === 409) {\n",
       "        div.innerHTML = 'Visualization no longer in scope. Re-run this cell' +\n",
       "                        ' to see the visualization.';\n",
       "    } else if (res.ok) {\n",
       "        url = res.url;\n",
       "        div.innerHTML = '<iframe src=\\'' + url + '\\' style=\\'' +\n",
       "                        'width: 100%; height: 700px; border: 0;\\'>' +\n",
       "                        '</iframe><hr />Open in a: <a href=\\'' + url + '\\'' +\n",
       "                        ' target=\\'_blank\\'>new window</a>'\n",
       "    } else {\n",
       "        div.innerHTML = 'Something has gone wrong. Check notebook server for' +\n",
       "                        ' errors.';\n",
       "    }\n",
       "});\n",
       "})(this.parentElement, '/qiime2/redirect?location=/scratch/lfloerl/tmpdata/qiime2/lfloerl/data/cee5d152-f18c-4869-8456-58c8dde1948f')\" src=\"data:image/gif;base64,R0lGODlhAQABAIAAAP///wAAACH5BAEAAAAALAAAAAABAAEAAAICRAEAOw==\" /></div>"
      ],
      "text/plain": [
       "<visualization: Visualization uuid: cee5d152-f18c-4869-8456-58c8dde1948f>"
      ]
     },
     "execution_count": 68,
     "metadata": {},
     "output_type": "execute_result"
    }
   ],
   "source": [
    "Visualization.load('Valais-classify-Region/heatmap.qzv')"
   ]
  },
  {
   "cell_type": "markdown",
   "id": "cf6f5624",
   "metadata": {},
   "source": [
    "<hr>\n",
    "\n",
    "# Compare only Chasselas samples\n"
   ]
  },
  {
   "cell_type": "code",
   "execution_count": 22,
   "id": "6bd4401e",
   "metadata": {},
   "outputs": [],
   "source": [
    "#!rm -r Valais_Chasselas"
   ]
  },
  {
   "cell_type": "code",
   "execution_count": 23,
   "id": "70fddb2e",
   "metadata": {
    "scrolled": true
   },
   "outputs": [
    {
     "name": "stdout",
     "output_type": "stream",
     "text": [
      "Processing variety: Chasselas\n",
      "Saved FeatureTable[Frequency] to: must_harvest21_Chasselas_filtered_table.qza\n",
      "Saved FeatureData[Sequence] to: must_harvest21_Chasselas_filtered_rep_seqs.qza\n",
      "Saved FeatureTable[Frequency] to: cm5000/rarefied_table.qza\n",
      "Saved SampleData[AlphaDiversity] to: cm5000/observed_features_vector.qza\n",
      "Saved SampleData[AlphaDiversity] to: cm5000/shannon_vector.qza\n",
      "Saved SampleData[AlphaDiversity] to: cm5000/evenness_vector.qza\n",
      "Saved DistanceMatrix to: cm5000/jaccard_distance_matrix.qza\n",
      "Saved DistanceMatrix to: cm5000/bray_curtis_distance_matrix.qza\n",
      "Saved PCoAResults to: cm5000/jaccard_pcoa_results.qza\n",
      "Saved PCoAResults to: cm5000/bray_curtis_pcoa_results.qza\n",
      "Saved Visualization to: cm5000/jaccard_emperor.qzv\n",
      "Saved Visualization to: cm5000/bray_curtis_emperor.qzv\n",
      "Saved FeatureTable[Frequency] to: kmer_cm5000/rarefied_table.qza\n",
      "Saved FeatureTable[Frequency] to: kmer_cm5000/kmer_table.qza\n",
      "Saved SampleData[AlphaDiversity] to: kmer_cm5000/observed_features_vector.qza\n",
      "Saved SampleData[AlphaDiversity] to: kmer_cm5000/shannon_vector.qza\n",
      "Saved DistanceMatrix to: kmer_cm5000/jaccard_distance_matrix.qza\n",
      "Saved DistanceMatrix to: kmer_cm5000/bray_curtis_distance_matrix.qza\n",
      "Saved PCoAResults to: kmer_cm5000/jaccard_pcoa_results.qza\n",
      "Saved PCoAResults to: kmer_cm5000/bray_curtis_pcoa_results.qza\n",
      "Saved Visualization to: kmer_cm5000/scatterplot.qzv\n",
      "Saved Visualization to: mantel/bray_curtis_mantel.qzv\n",
      "Saved Visualization to: mantel/jaccard_mantel.qzv\n",
      "Saved Visualization to: mantel/bray_curtis_kmer_mantel.qzv\n",
      "Saved Visualization to: mantel/jaccard_kmer_mantel.qzv\n"
     ]
    }
   ],
   "source": [
    "%%bash \n",
    "\n",
    "# Define the variable for the variety\n",
    "variety=\"Chasselas\"\n",
    "\n",
    "# Define the plot directory based on the variety\n",
    "plot_dir=\"./Valais_Chasselas\"\n",
    "echo \"Processing variety: $variety\"\n",
    "\n",
    "# Create directory for the variety and navigate into it\n",
    "mkdir -p \"$plot_dir\"\n",
    "pushd \"$plot_dir\" > /dev/null\n",
    "\n",
    "# Filter table and rep seqs for the specified variety\n",
    "qiime feature-table filter-samples \\\n",
    "  --i-table /home/lfloerl/cloud/lfloerl/Microterroir/artifacts/ITS/lavaux/Valais_Lavaux23_filtered_table.qza \\\n",
    "  --m-metadata-file /home/lfloerl/microterroir/Microbiome/Metadata/ITS_Valais_and_Lavaux23.tsv \\\n",
    "  --p-where \"[Variety]='$variety'\" \\\n",
    "  --o-filtered-table must_harvest21_${variety}_filtered_table.qza\n",
    "\n",
    "qiime feature-table filter-seqs \\\n",
    "  --i-data /home/lfloerl/cloud/lfloerl/Microterroir/artifacts/Sven-denoising-test/ITS/revcomp-trimmed-denoised/with-adjusted-parameters/ITS-revcomp-trimmed-ER-0.05-denoised-trunc-190-PFA-4.0-maxee-4.0-rep-seqs.qza \\\n",
    "  --i-table must_harvest21_${variety}_filtered_table.qza \\\n",
    "  --o-filtered-data must_harvest21_${variety}_filtered_rep_seqs.qza\n",
    "\n",
    "# Core diversity metrics\n",
    "qiime diversity core-metrics \\\n",
    "  --i-table must_harvest21_${variety}_filtered_table.qza \\\n",
    "  --p-sampling-depth 5000 \\\n",
    "  --m-metadata-file /home/lfloerl/microterroir/Microbiome/Metadata/ITS_Valais_and_Lavaux23.tsv \\\n",
    "  --p-n-jobs 5 \\\n",
    "  --output-dir cm5000/\n",
    "\n",
    "# Kmer diversity\n",
    "qiime kmerizer core-metrics \\\n",
    "  --i-sequences must_harvest21_${variety}_filtered_rep_seqs.qza \\\n",
    "  --i-table must_harvest21_${variety}_filtered_table.qza \\\n",
    "  --p-sampling-depth 5000 \\\n",
    "  --m-metadata-file /home/lfloerl/microterroir/Microbiome/Metadata/ITS_Valais_and_Lavaux23.tsv \\\n",
    "  --p-n-jobs auto \\\n",
    "  --p-max-features 5000 \\\n",
    "  --output-dir kmer_cm5000/\n",
    "\n",
    "# Perform Mantel tests and create mantel directory\n",
    "mkdir -p mantel\n",
    "\n",
    "qiime diversity mantel \\\n",
    "  --i-dm1 /home/lfloerl/cloud/lfloerl/Microterroir/artifacts/ITS/geodesic_distance_Valais_ITS.qza \\\n",
    "  --i-dm2 cm5000/bray_curtis_distance_matrix.qza \\\n",
    "  --p-intersect-ids \\\n",
    "  --o-visualization mantel/bray_curtis_mantel.qzv\n",
    "\n",
    "qiime diversity mantel \\\n",
    "  --i-dm1 /home/lfloerl/cloud/lfloerl/Microterroir/artifacts/ITS/geodesic_distance_Valais_ITS.qza \\\n",
    "  --i-dm2 cm5000/jaccard_distance_matrix.qza \\\n",
    "  --p-intersect-ids \\\n",
    "  --o-visualization mantel/jaccard_mantel.qzv\n",
    "\n",
    "qiime diversity mantel \\\n",
    "  --i-dm1 /home/lfloerl/cloud/lfloerl/Microterroir/artifacts/ITS/geodesic_distance_Valais_ITS.qza \\\n",
    "  --i-dm2 kmer_cm5000/bray_curtis_distance_matrix.qza \\\n",
    "  --p-intersect-ids \\\n",
    "  --o-visualization mantel/bray_curtis_kmer_mantel.qzv\n",
    "\n",
    "qiime diversity mantel \\\n",
    "  --i-dm1 /home/lfloerl/cloud/lfloerl/Microterroir/artifacts/ITS/geodesic_distance_Valais_ITS.qza \\\n",
    "  --i-dm2 kmer_cm5000/jaccard_distance_matrix.qza \\\n",
    "  --p-intersect-ids \\\n",
    "  --o-visualization mantel/jaccard_kmer_mantel.qzv\n",
    "\n",
    "# Return to the parent directory\n",
    "popd > /dev/null\n"
   ]
  },
  {
   "cell_type": "code",
   "execution_count": 24,
   "id": "c4f32855",
   "metadata": {
    "scrolled": true
   },
   "outputs": [
    {
     "data": {
      "text/html": [
       "<div><img onload=\"(function(div, url){\n",
       "if (typeof require !== 'undefined') {\n",
       "    var baseURL = require.toUrl('').split('/').slice(0, -2).join('/');\n",
       "} else {\n",
       "    var baseURL = JSON.parse(\n",
       "        document.getElementById('jupyter-config-data').innerHTML\n",
       "    ).baseUrl.slice(0, -1);\n",
       "}\n",
       "url = baseURL + url;\n",
       "fetch(url).then(function(res) {\n",
       "    if (res.status === 404) {\n",
       "        div.innerHTML = 'Install QIIME 2 Jupyter extension with:<br />' +\n",
       "                        '<code>jupyter server extension enable --py qiime2' +\n",
       "                        ' --sys-prefix</code><br />then restart your server.' +\n",
       "                        '<br /><br />(Interactive output not available on ' +\n",
       "                        'static notebook viewer services like nbviewer.)';\n",
       "    } else if (res.status === 409) {\n",
       "        div.innerHTML = 'Visualization no longer in scope. Re-run this cell' +\n",
       "                        ' to see the visualization.';\n",
       "    } else if (res.ok) {\n",
       "        url = res.url;\n",
       "        div.innerHTML = '<iframe src=\\'' + url + '\\' style=\\'' +\n",
       "                        'width: 100%; height: 700px; border: 0;\\'>' +\n",
       "                        '</iframe><hr />Open in a: <a href=\\'' + url + '\\'' +\n",
       "                        ' target=\\'_blank\\'>new window</a>'\n",
       "    } else {\n",
       "        div.innerHTML = 'Something has gone wrong. Check notebook server for' +\n",
       "                        ' errors.';\n",
       "    }\n",
       "});\n",
       "})(this.parentElement, '/qiime2/redirect?location=/scratch/lfloerl/tmpdata/qiime2/lfloerl/data/9cc833eb-4964-42f7-b702-3b787eacd981')\" src=\"data:image/gif;base64,R0lGODlhAQABAIAAAP///wAAACH5BAEAAAAALAAAAAABAAEAAAICRAEAOw==\" /></div>"
      ],
      "text/plain": [
       "<visualization: Visualization uuid: 9cc833eb-4964-42f7-b702-3b787eacd981>"
      ]
     },
     "execution_count": 24,
     "metadata": {},
     "output_type": "execute_result"
    }
   ],
   "source": [
    "Visualization.load('Valais_Chasselas/mantel/bray_curtis_mantel.qzv')"
   ]
  },
  {
   "cell_type": "code",
   "execution_count": 25,
   "id": "e61fa3b5",
   "metadata": {},
   "outputs": [
    {
     "data": {
      "text/html": [
       "<div><img onload=\"(function(div, url){\n",
       "if (typeof require !== 'undefined') {\n",
       "    var baseURL = require.toUrl('').split('/').slice(0, -2).join('/');\n",
       "} else {\n",
       "    var baseURL = JSON.parse(\n",
       "        document.getElementById('jupyter-config-data').innerHTML\n",
       "    ).baseUrl.slice(0, -1);\n",
       "}\n",
       "url = baseURL + url;\n",
       "fetch(url).then(function(res) {\n",
       "    if (res.status === 404) {\n",
       "        div.innerHTML = 'Install QIIME 2 Jupyter extension with:<br />' +\n",
       "                        '<code>jupyter server extension enable --py qiime2' +\n",
       "                        ' --sys-prefix</code><br />then restart your server.' +\n",
       "                        '<br /><br />(Interactive output not available on ' +\n",
       "                        'static notebook viewer services like nbviewer.)';\n",
       "    } else if (res.status === 409) {\n",
       "        div.innerHTML = 'Visualization no longer in scope. Re-run this cell' +\n",
       "                        ' to see the visualization.';\n",
       "    } else if (res.ok) {\n",
       "        url = res.url;\n",
       "        div.innerHTML = '<iframe src=\\'' + url + '\\' style=\\'' +\n",
       "                        'width: 100%; height: 700px; border: 0;\\'>' +\n",
       "                        '</iframe><hr />Open in a: <a href=\\'' + url + '\\'' +\n",
       "                        ' target=\\'_blank\\'>new window</a>'\n",
       "    } else {\n",
       "        div.innerHTML = 'Something has gone wrong. Check notebook server for' +\n",
       "                        ' errors.';\n",
       "    }\n",
       "});\n",
       "})(this.parentElement, '/qiime2/redirect?location=/scratch/lfloerl/tmpdata/qiime2/lfloerl/data/3e48b093-cfd6-485c-a200-7b95f3859a94')\" src=\"data:image/gif;base64,R0lGODlhAQABAIAAAP///wAAACH5BAEAAAAALAAAAAABAAEAAAICRAEAOw==\" /></div>"
      ],
      "text/plain": [
       "<visualization: Visualization uuid: 3e48b093-cfd6-485c-a200-7b95f3859a94>"
      ]
     },
     "execution_count": 25,
     "metadata": {},
     "output_type": "execute_result"
    }
   ],
   "source": [
    "Visualization.load('Valais_Chasselas/mantel/jaccard_mantel.qzv')"
   ]
  },
  {
   "cell_type": "code",
   "execution_count": 26,
   "id": "3f49e1d6",
   "metadata": {},
   "outputs": [
    {
     "data": {
      "text/html": [
       "<div><img onload=\"(function(div, url){\n",
       "if (typeof require !== 'undefined') {\n",
       "    var baseURL = require.toUrl('').split('/').slice(0, -2).join('/');\n",
       "} else {\n",
       "    var baseURL = JSON.parse(\n",
       "        document.getElementById('jupyter-config-data').innerHTML\n",
       "    ).baseUrl.slice(0, -1);\n",
       "}\n",
       "url = baseURL + url;\n",
       "fetch(url).then(function(res) {\n",
       "    if (res.status === 404) {\n",
       "        div.innerHTML = 'Install QIIME 2 Jupyter extension with:<br />' +\n",
       "                        '<code>jupyter server extension enable --py qiime2' +\n",
       "                        ' --sys-prefix</code><br />then restart your server.' +\n",
       "                        '<br /><br />(Interactive output not available on ' +\n",
       "                        'static notebook viewer services like nbviewer.)';\n",
       "    } else if (res.status === 409) {\n",
       "        div.innerHTML = 'Visualization no longer in scope. Re-run this cell' +\n",
       "                        ' to see the visualization.';\n",
       "    } else if (res.ok) {\n",
       "        url = res.url;\n",
       "        div.innerHTML = '<iframe src=\\'' + url + '\\' style=\\'' +\n",
       "                        'width: 100%; height: 700px; border: 0;\\'>' +\n",
       "                        '</iframe><hr />Open in a: <a href=\\'' + url + '\\'' +\n",
       "                        ' target=\\'_blank\\'>new window</a>'\n",
       "    } else {\n",
       "        div.innerHTML = 'Something has gone wrong. Check notebook server for' +\n",
       "                        ' errors.';\n",
       "    }\n",
       "});\n",
       "})(this.parentElement, '/qiime2/redirect?location=/scratch/lfloerl/tmpdata/qiime2/lfloerl/data/39a8c503-d82d-4f8a-a13b-f0d72fadd644')\" src=\"data:image/gif;base64,R0lGODlhAQABAIAAAP///wAAACH5BAEAAAAALAAAAAABAAEAAAICRAEAOw==\" /></div>"
      ],
      "text/plain": [
       "<visualization: Visualization uuid: 39a8c503-d82d-4f8a-a13b-f0d72fadd644>"
      ]
     },
     "execution_count": 26,
     "metadata": {},
     "output_type": "execute_result"
    }
   ],
   "source": [
    "Visualization.load('Valais_Chasselas/mantel/bray_curtis_kmer_mantel.qzv')"
   ]
  },
  {
   "cell_type": "code",
   "execution_count": 27,
   "id": "135a127b",
   "metadata": {
    "scrolled": false
   },
   "outputs": [
    {
     "data": {
      "text/html": [
       "<div><img onload=\"(function(div, url){\n",
       "if (typeof require !== 'undefined') {\n",
       "    var baseURL = require.toUrl('').split('/').slice(0, -2).join('/');\n",
       "} else {\n",
       "    var baseURL = JSON.parse(\n",
       "        document.getElementById('jupyter-config-data').innerHTML\n",
       "    ).baseUrl.slice(0, -1);\n",
       "}\n",
       "url = baseURL + url;\n",
       "fetch(url).then(function(res) {\n",
       "    if (res.status === 404) {\n",
       "        div.innerHTML = 'Install QIIME 2 Jupyter extension with:<br />' +\n",
       "                        '<code>jupyter server extension enable --py qiime2' +\n",
       "                        ' --sys-prefix</code><br />then restart your server.' +\n",
       "                        '<br /><br />(Interactive output not available on ' +\n",
       "                        'static notebook viewer services like nbviewer.)';\n",
       "    } else if (res.status === 409) {\n",
       "        div.innerHTML = 'Visualization no longer in scope. Re-run this cell' +\n",
       "                        ' to see the visualization.';\n",
       "    } else if (res.ok) {\n",
       "        url = res.url;\n",
       "        div.innerHTML = '<iframe src=\\'' + url + '\\' style=\\'' +\n",
       "                        'width: 100%; height: 700px; border: 0;\\'>' +\n",
       "                        '</iframe><hr />Open in a: <a href=\\'' + url + '\\'' +\n",
       "                        ' target=\\'_blank\\'>new window</a>'\n",
       "    } else {\n",
       "        div.innerHTML = 'Something has gone wrong. Check notebook server for' +\n",
       "                        ' errors.';\n",
       "    }\n",
       "});\n",
       "})(this.parentElement, '/qiime2/redirect?location=/scratch/lfloerl/tmpdata/qiime2/lfloerl/data/d455bc0c-38ab-421d-8058-c1c1c4ec31b9')\" src=\"data:image/gif;base64,R0lGODlhAQABAIAAAP///wAAACH5BAEAAAAALAAAAAABAAEAAAICRAEAOw==\" /></div>"
      ],
      "text/plain": [
       "<visualization: Visualization uuid: d455bc0c-38ab-421d-8058-c1c1c4ec31b9>"
      ]
     },
     "execution_count": 27,
     "metadata": {},
     "output_type": "execute_result"
    }
   ],
   "source": [
    "Visualization.load('Valais_Chasselas/mantel/jaccard_kmer_mantel.qzv')"
   ]
  },
  {
   "cell_type": "code",
   "execution_count": null,
   "id": "4a712df7",
   "metadata": {},
   "outputs": [],
   "source": []
  },
  {
   "cell_type": "code",
   "execution_count": null,
   "id": "7586fa53",
   "metadata": {},
   "outputs": [],
   "source": []
  }
 ],
 "metadata": {
  "kernelspec": {
   "display_name": "Python 3 (ipykernel)",
   "language": "python",
   "name": "python3"
  },
  "language_info": {
   "codemirror_mode": {
    "name": "ipython",
    "version": 3
   },
   "file_extension": ".py",
   "mimetype": "text/x-python",
   "name": "python",
   "nbconvert_exporter": "python",
   "pygments_lexer": "ipython3",
   "version": "3.10.14"
  }
 },
 "nbformat": 4,
 "nbformat_minor": 5
}
