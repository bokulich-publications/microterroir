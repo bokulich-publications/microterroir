{
 "cells": [
  {
   "cell_type": "markdown",
   "id": "a8b92d8b",
   "metadata": {},
   "source": [
    "# 4. Spatio-temporal diversity of BARK "
   ]
  },
  {
   "cell_type": "code",
   "execution_count": 3,
   "id": "abc52439",
   "metadata": {},
   "outputs": [],
   "source": [
    "#!mkdir /home/lfloerl/cloud/lfloerl/Microterroir/artifacts/ITS/lavaux/spatio-temporal/bark"
   ]
  },
  {
   "cell_type": "code",
   "execution_count": 4,
   "id": "cd670efc",
   "metadata": {},
   "outputs": [
    {
     "name": "stdout",
     "output_type": "stream",
     "text": [
      "/home/lfloerl/cloud/lfloerl/Microterroir/artifacts/ITS/lavaux/spatio-temporal/bark\n"
     ]
    }
   ],
   "source": [
    "workdir = '/home/lfloerl/cloud/lfloerl/Microterroir/artifacts/ITS/lavaux/spatio-temporal/bark'\n",
    "%cd $workdir"
   ]
  },
  {
   "cell_type": "code",
   "execution_count": 5,
   "id": "413c885b",
   "metadata": {},
   "outputs": [
    {
     "name": "stdout",
     "output_type": "stream",
     "text": [
      "env: TMPDIR=/scratch/lfloerl/tmpdata\n"
     ]
    }
   ],
   "source": [
    "%env TMPDIR=/scratch/lfloerl/tmpdata"
   ]
  },
  {
   "cell_type": "code",
   "execution_count": 6,
   "id": "18e20f86",
   "metadata": {},
   "outputs": [],
   "source": [
    "from qiime2 import Visualization\n",
    "import qiime2 as q2\n",
    "from qiime2 import Visualization\n",
    "from qiime2 import Artifact\n",
    "from qiime2 import Metadata\n",
    "import os\n",
    "import pandas as pd\n",
    "import matplotlib.pyplot as plt\n",
    "import seaborn as sns\n",
    "from qiime2.plugins.diversity.visualizers import alpha_group_significance\n",
    "\n",
    "\n",
    "from qiime2.plugins import diversity as q2d\n",
    "\n",
    "%matplotlib inline"
   ]
  },
  {
   "cell_type": "code",
   "execution_count": 7,
   "id": "eff46f25",
   "metadata": {
    "scrolled": true
   },
   "outputs": [],
   "source": [
    "md = Metadata.load('/home/lfloerl/microterroir/Microbiome/Metadata/ITS_lavaux.tsv')\n",
    "taxonomy = q2.Artifact.load('/home/lfloerl/cloud/lfloerl/Microterroir/artifacts/ITS/taxonomy.qza')"
   ]
  },
  {
   "cell_type": "code",
   "execution_count": 8,
   "id": "e1175bf0",
   "metadata": {},
   "outputs": [],
   "source": [
    "# just use the same rarefaction depth for all sample types\n",
    "depth = 15000 \n",
    "threads = 5"
   ]
  },
  {
   "cell_type": "markdown",
   "id": "2914f57c",
   "metadata": {},
   "source": [
    "# Diversity "
   ]
  },
  {
   "cell_type": "code",
   "execution_count": 15,
   "id": "57999d3b",
   "metadata": {},
   "outputs": [],
   "source": [
    "table = q2.Artifact.load('/home/lfloerl/cloud/lfloerl/Microterroir/artifacts/ITS/lavaux/bark_filtered_table.qza')"
   ]
  },
  {
   "cell_type": "markdown",
   "id": "32df7d95",
   "metadata": {},
   "source": [
    "depth of 5000: Retained 165’000 (16.55%) features in 33 (100.00%) samples\n",
    "\n",
    "--> could go much higher! even with 15000: Retained 450’000 (45.13%) features in 30 (90.91%) samples"
   ]
  },
  {
   "cell_type": "code",
   "execution_count": 16,
   "id": "ad617760",
   "metadata": {
    "scrolled": true
   },
   "outputs": [
    {
     "data": {
      "text/html": [
       "<div><img onload=\"(function(div, url){\n",
       "if (typeof require !== 'undefined') {\n",
       "    var baseURL = require.toUrl('').split('/').slice(0, -2).join('/');\n",
       "} else {\n",
       "    var baseURL = JSON.parse(\n",
       "        document.getElementById('jupyter-config-data').innerHTML\n",
       "    ).baseUrl.slice(0, -1);\n",
       "}\n",
       "url = baseURL + url;\n",
       "fetch(url).then(function(res) {\n",
       "    if (res.status === 404) {\n",
       "        div.innerHTML = 'Install QIIME 2 Jupyter extension with:<br />' +\n",
       "                        '<code>jupyter server extension enable --py qiime2' +\n",
       "                        ' --sys-prefix</code><br />then restart your server.' +\n",
       "                        '<br /><br />(Interactive output not available on ' +\n",
       "                        'static notebook viewer services like nbviewer.)';\n",
       "    } else if (res.status === 409) {\n",
       "        div.innerHTML = 'Visualization no longer in scope. Re-run this cell' +\n",
       "                        ' to see the visualization.';\n",
       "    } else if (res.ok) {\n",
       "        url = res.url;\n",
       "        div.innerHTML = '<iframe src=\\'' + url + '\\' style=\\'' +\n",
       "                        'width: 100%; height: 700px; border: 0;\\'>' +\n",
       "                        '</iframe><hr />Open in a: <a href=\\'' + url + '\\'' +\n",
       "                        ' target=\\'_blank\\'>new window</a>'\n",
       "    } else {\n",
       "        div.innerHTML = 'Something has gone wrong. Check notebook server for' +\n",
       "                        ' errors.';\n",
       "    }\n",
       "});\n",
       "})(this.parentElement, '/qiime2/redirect?location=/scratch/lfloerl/tmpdata/qiime2/lfloerl/data/a5cfb3fa-aecf-452e-b216-3462f72723d4')\" src=\"data:image/gif;base64,R0lGODlhAQABAIAAAP///wAAACH5BAEAAAAALAAAAAABAAEAAAICRAEAOw==\" /></div>"
      ],
      "text/plain": [
       "<visualization: Visualization uuid: a5cfb3fa-aecf-452e-b216-3462f72723d4>"
      ]
     },
     "execution_count": 16,
     "metadata": {},
     "output_type": "execute_result"
    }
   ],
   "source": [
    "Visualization.load('/home/lfloerl/cloud/lfloerl/Microterroir/artifacts/ITS/lavaux/bark_filtered_table.qzv')"
   ]
  },
  {
   "cell_type": "code",
   "execution_count": 17,
   "id": "d91c7235",
   "metadata": {
    "scrolled": true
   },
   "outputs": [
    {
     "name": "stderr",
     "output_type": "stream",
     "text": [
      "/scratch/lfloerl/.condaenvs/qiime2-amplicon-2024.10/lib/python3.10/site-packages/skbio/util/_warning.py:60: UserWarning: observed_otus is deprecated as of 0.6.0.\n",
      "  warn(f\"{func.__name__} is deprecated as of {ver}.\")\n"
     ]
    }
   ],
   "source": [
    "core_div_dict = {}\n",
    "core_div = q2d.actions.core_metrics(table=table,\n",
    "                                    sampling_depth=depth,\n",
    "                                    metadata=md, \n",
    "                                    n_jobs=threads)\n",
    "# save outputs\n",
    "output_dir='bark_cm{0}/'.format(depth)\n",
    "if not os.path.exists(output_dir):\n",
    "    os.makedirs(output_dir)\n",
    "for k, v in core_div.__dict__.items():\n",
    "    if k != '_fields':\n",
    "        v.save(output_dir + k)\n",
    "        core_div_dict[k] = v"
   ]
  },
  {
   "cell_type": "code",
   "execution_count": 12,
   "id": "010456c4",
   "metadata": {
    "scrolled": true
   },
   "outputs": [
    {
     "data": {
      "text/html": [
       "<div><img onload=\"(function(div, url){\n",
       "if (typeof require !== 'undefined') {\n",
       "    var baseURL = require.toUrl('').split('/').slice(0, -2).join('/');\n",
       "} else {\n",
       "    var baseURL = JSON.parse(\n",
       "        document.getElementById('jupyter-config-data').innerHTML\n",
       "    ).baseUrl.slice(0, -1);\n",
       "}\n",
       "url = baseURL + url;\n",
       "fetch(url).then(function(res) {\n",
       "    if (res.status === 404) {\n",
       "        div.innerHTML = 'Install QIIME 2 Jupyter extension with:<br />' +\n",
       "                        '<code>jupyter server extension enable --py qiime2' +\n",
       "                        ' --sys-prefix</code><br />then restart your server.' +\n",
       "                        '<br /><br />(Interactive output not available on ' +\n",
       "                        'static notebook viewer services like nbviewer.)';\n",
       "    } else if (res.status === 409) {\n",
       "        div.innerHTML = 'Visualization no longer in scope. Re-run this cell' +\n",
       "                        ' to see the visualization.';\n",
       "    } else if (res.ok) {\n",
       "        url = res.url;\n",
       "        div.innerHTML = '<iframe src=\\'' + url + '\\' style=\\'' +\n",
       "                        'width: 100%; height: 700px; border: 0;\\'>' +\n",
       "                        '</iframe><hr />Open in a: <a href=\\'' + url + '\\'' +\n",
       "                        ' target=\\'_blank\\'>new window</a>'\n",
       "    } else {\n",
       "        div.innerHTML = 'Something has gone wrong. Check notebook server for' +\n",
       "                        ' errors.';\n",
       "    }\n",
       "});\n",
       "})(this.parentElement, '/qiime2/redirect?location=/scratch/lfloerl/tmpdata/qiime2/lfloerl/data/94bd9b43-8a85-40cd-904b-cdfbc2458d60')\" src=\"data:image/gif;base64,R0lGODlhAQABAIAAAP///wAAACH5BAEAAAAALAAAAAABAAEAAAICRAEAOw==\" /></div>"
      ],
      "text/plain": [
       "<visualization: Visualization uuid: 94bd9b43-8a85-40cd-904b-cdfbc2458d60>"
      ]
     },
     "execution_count": 12,
     "metadata": {},
     "output_type": "execute_result"
    }
   ],
   "source": [
    "Visualization.load(f'{workdir}/{output_dir}/bray_curtis_emperor.qzv')"
   ]
  },
  {
   "cell_type": "code",
   "execution_count": 13,
   "id": "1aff2c07",
   "metadata": {},
   "outputs": [
    {
     "data": {
      "text/html": [
       "<div><img onload=\"(function(div, url){\n",
       "if (typeof require !== 'undefined') {\n",
       "    var baseURL = require.toUrl('').split('/').slice(0, -2).join('/');\n",
       "} else {\n",
       "    var baseURL = JSON.parse(\n",
       "        document.getElementById('jupyter-config-data').innerHTML\n",
       "    ).baseUrl.slice(0, -1);\n",
       "}\n",
       "url = baseURL + url;\n",
       "fetch(url).then(function(res) {\n",
       "    if (res.status === 404) {\n",
       "        div.innerHTML = 'Install QIIME 2 Jupyter extension with:<br />' +\n",
       "                        '<code>jupyter server extension enable --py qiime2' +\n",
       "                        ' --sys-prefix</code><br />then restart your server.' +\n",
       "                        '<br /><br />(Interactive output not available on ' +\n",
       "                        'static notebook viewer services like nbviewer.)';\n",
       "    } else if (res.status === 409) {\n",
       "        div.innerHTML = 'Visualization no longer in scope. Re-run this cell' +\n",
       "                        ' to see the visualization.';\n",
       "    } else if (res.ok) {\n",
       "        url = res.url;\n",
       "        div.innerHTML = '<iframe src=\\'' + url + '\\' style=\\'' +\n",
       "                        'width: 100%; height: 700px; border: 0;\\'>' +\n",
       "                        '</iframe><hr />Open in a: <a href=\\'' + url + '\\'' +\n",
       "                        ' target=\\'_blank\\'>new window</a>'\n",
       "    } else {\n",
       "        div.innerHTML = 'Something has gone wrong. Check notebook server for' +\n",
       "                        ' errors.';\n",
       "    }\n",
       "});\n",
       "})(this.parentElement, '/qiime2/redirect?location=/scratch/lfloerl/tmpdata/qiime2/lfloerl/data/78a4d7b5-4510-4c7f-9e8c-a6a2b31a7445')\" src=\"data:image/gif;base64,R0lGODlhAQABAIAAAP///wAAACH5BAEAAAAALAAAAAABAAEAAAICRAEAOw==\" /></div>"
      ],
      "text/plain": [
       "<visualization: Visualization uuid: 78a4d7b5-4510-4c7f-9e8c-a6a2b31a7445>"
      ]
     },
     "execution_count": 13,
     "metadata": {},
     "output_type": "execute_result"
    }
   ],
   "source": [
    "Visualization.load(f'{workdir}/{output_dir}/jaccard_emperor.qzv')"
   ]
  },
  {
   "cell_type": "markdown",
   "id": "27e37ac4",
   "metadata": {},
   "source": [
    "## Kmerizer "
   ]
  },
  {
   "cell_type": "code",
   "execution_count": 29,
   "id": "449282b2",
   "metadata": {},
   "outputs": [],
   "source": [
    "#!rm -r kmer-core-metrics"
   ]
  },
  {
   "cell_type": "code",
   "execution_count": 18,
   "id": "7c480b75",
   "metadata": {},
   "outputs": [
    {
     "name": "stdout",
     "output_type": "stream",
     "text": [
      "Saved FeatureData[Sequence] to: /home/lfloerl/cloud/lfloerl/Microterroir/artifacts/ITS/lavaux/bark_filtered_rep_seqs.qza\n",
      "Saved FeatureTable[Frequency] to: bark_kmer_cm15000/rarefied_table.qza\n",
      "Saved FeatureTable[Frequency] to: bark_kmer_cm15000/kmer_table.qza\n",
      "Saved SampleData[AlphaDiversity] to: bark_kmer_cm15000/observed_features_vector.qza\n",
      "Saved SampleData[AlphaDiversity] to: bark_kmer_cm15000/shannon_vector.qza\n",
      "Saved DistanceMatrix to: bark_kmer_cm15000/jaccard_distance_matrix.qza\n",
      "Saved DistanceMatrix to: bark_kmer_cm15000/bray_curtis_distance_matrix.qza\n",
      "Saved PCoAResults to: bark_kmer_cm15000/jaccard_pcoa_results.qza\n",
      "Saved PCoAResults to: bark_kmer_cm15000/bray_curtis_pcoa_results.qza\n",
      "Saved Visualization to: bark_kmer_cm15000/scatterplot.qzv\n"
     ]
    }
   ],
   "source": [
    "%%bash\n",
    "\n",
    "qiime feature-table filter-seqs \\\n",
    "    --i-data /home/lfloerl/cloud/lfloerl/Microterroir/artifacts/Sven-denoising-test/ITS/revcomp-trimmed-denoised/with-adjusted-parameters/ITS-revcomp-trimmed-ER-0.05-denoised-trunc-190-PFA-4.0-maxee-4.0-rep-seqs.qza \\\n",
    "    --i-table /home/lfloerl/cloud/lfloerl/Microterroir/artifacts/ITS/lavaux/bark_filtered_table.qza \\\n",
    "    --o-filtered-data /home/lfloerl/cloud/lfloerl/Microterroir/artifacts/ITS/lavaux/bark_filtered_rep_seqs.qza\n",
    "\n",
    "qiime kmerizer core-metrics \\\n",
    "    --i-sequences /home/lfloerl/cloud/lfloerl/Microterroir/artifacts/ITS/lavaux/bark_filtered_rep_seqs.qza \\\n",
    "    --i-table /home/lfloerl/cloud/lfloerl/Microterroir/artifacts/ITS/lavaux/bark_filtered_table.qza \\\n",
    "    --p-sampling-depth 15000 \\\n",
    "    --m-metadata-file /home/lfloerl/microterroir/Microbiome/Metadata/ITS_lavaux.tsv \\\n",
    "    --p-n-jobs 'auto' \\\n",
    "    --output-dir bark_kmer_cm15000/"
   ]
  },
  {
   "cell_type": "code",
   "execution_count": 24,
   "id": "e90b9c36",
   "metadata": {},
   "outputs": [
    {
     "data": {
      "text/html": [
       "<div><img onload=\"(function(div, url){\n",
       "if (typeof require !== 'undefined') {\n",
       "    var baseURL = require.toUrl('').split('/').slice(0, -2).join('/');\n",
       "} else {\n",
       "    var baseURL = JSON.parse(\n",
       "        document.getElementById('jupyter-config-data').innerHTML\n",
       "    ).baseUrl.slice(0, -1);\n",
       "}\n",
       "url = baseURL + url;\n",
       "fetch(url).then(function(res) {\n",
       "    if (res.status === 404) {\n",
       "        div.innerHTML = 'Install QIIME 2 Jupyter extension with:<br />' +\n",
       "                        '<code>jupyter server extension enable --py qiime2' +\n",
       "                        ' --sys-prefix</code><br />then restart your server.' +\n",
       "                        '<br /><br />(Interactive output not available on ' +\n",
       "                        'static notebook viewer services like nbviewer.)';\n",
       "    } else if (res.status === 409) {\n",
       "        div.innerHTML = 'Visualization no longer in scope. Re-run this cell' +\n",
       "                        ' to see the visualization.';\n",
       "    } else if (res.ok) {\n",
       "        url = res.url;\n",
       "        div.innerHTML = '<iframe src=\\'' + url + '\\' style=\\'' +\n",
       "                        'width: 100%; height: 700px; border: 0;\\'>' +\n",
       "                        '</iframe><hr />Open in a: <a href=\\'' + url + '\\'' +\n",
       "                        ' target=\\'_blank\\'>new window</a>'\n",
       "    } else {\n",
       "        div.innerHTML = 'Something has gone wrong. Check notebook server for' +\n",
       "                        ' errors.';\n",
       "    }\n",
       "});\n",
       "})(this.parentElement, '/qiime2/redirect?location=/scratch/lfloerl/tmpdata/qiime2/lfloerl/data/46958b4d-d858-4d4c-a20f-94fbda4d59de')\" src=\"data:image/gif;base64,R0lGODlhAQABAIAAAP///wAAACH5BAEAAAAALAAAAAABAAEAAAICRAEAOw==\" /></div>"
      ],
      "text/plain": [
       "<visualization: Visualization uuid: 46958b4d-d858-4d4c-a20f-94fbda4d59de>"
      ]
     },
     "execution_count": 24,
     "metadata": {},
     "output_type": "execute_result"
    }
   ],
   "source": [
    "Visualization.load('bark_kmer_cm15000/scatterplot.qzv')"
   ]
  },
  {
   "cell_type": "markdown",
   "id": "fb6c27ed",
   "metadata": {},
   "source": [
    "### Alpha Group Significance "
   ]
  },
  {
   "cell_type": "code",
   "execution_count": 25,
   "id": "dd8cf4d5",
   "metadata": {},
   "outputs": [
    {
     "name": "stderr",
     "output_type": "stream",
     "text": [
      "/scratch/lfloerl/.condaenvs/qiime2-amplicon-2024.10/lib/python3.10/site-packages/q2_types/sample_data/_deferred_setup/_transformers.py:28: FutureWarning: errors='ignore' is deprecated and will raise in a future version. Use to_numeric without passing `errors` and catch exceptions explicitly instead\n",
      "  df[cols] = df[cols].apply(pd.to_numeric, errors='ignore')\n",
      "/scratch/lfloerl/.condaenvs/qiime2-amplicon-2024.10/lib/python3.10/site-packages/q2_types/sample_data/_deferred_setup/_transformers.py:28: FutureWarning: errors='ignore' is deprecated and will raise in a future version. Use to_numeric without passing `errors` and catch exceptions explicitly instead\n",
      "  df[cols] = df[cols].apply(pd.to_numeric, errors='ignore')\n",
      "/scratch/lfloerl/.condaenvs/qiime2-amplicon-2024.10/lib/python3.10/site-packages/q2_types/sample_data/_deferred_setup/_transformers.py:28: FutureWarning: errors='ignore' is deprecated and will raise in a future version. Use to_numeric without passing `errors` and catch exceptions explicitly instead\n",
      "  df[cols] = df[cols].apply(pd.to_numeric, errors='ignore')\n"
     ]
    }
   ],
   "source": [
    "# metrics: \n",
    "alpha_metrics = ['shannon_vector', 'observed_features_vector', 'evenness_vector']\n",
    "\n",
    "for m in alpha_metrics:\n",
    "    ags, = alpha_group_significance(alpha_diversity = core_div_dict[m],\n",
    "                               metadata = md)\n",
    "    ags.save(output_dir + 'alpha_groupSig_{0}.qzv'.format(m))"
   ]
  },
  {
   "cell_type": "code",
   "execution_count": 26,
   "id": "fd079ab6",
   "metadata": {
    "scrolled": false
   },
   "outputs": [
    {
     "data": {
      "text/html": [
       "<div><img onload=\"(function(div, url){\n",
       "if (typeof require !== 'undefined') {\n",
       "    var baseURL = require.toUrl('').split('/').slice(0, -2).join('/');\n",
       "} else {\n",
       "    var baseURL = JSON.parse(\n",
       "        document.getElementById('jupyter-config-data').innerHTML\n",
       "    ).baseUrl.slice(0, -1);\n",
       "}\n",
       "url = baseURL + url;\n",
       "fetch(url).then(function(res) {\n",
       "    if (res.status === 404) {\n",
       "        div.innerHTML = 'Install QIIME 2 Jupyter extension with:<br />' +\n",
       "                        '<code>jupyter server extension enable --py qiime2' +\n",
       "                        ' --sys-prefix</code><br />then restart your server.' +\n",
       "                        '<br /><br />(Interactive output not available on ' +\n",
       "                        'static notebook viewer services like nbviewer.)';\n",
       "    } else if (res.status === 409) {\n",
       "        div.innerHTML = 'Visualization no longer in scope. Re-run this cell' +\n",
       "                        ' to see the visualization.';\n",
       "    } else if (res.ok) {\n",
       "        url = res.url;\n",
       "        div.innerHTML = '<iframe src=\\'' + url + '\\' style=\\'' +\n",
       "                        'width: 100%; height: 700px; border: 0;\\'>' +\n",
       "                        '</iframe><hr />Open in a: <a href=\\'' + url + '\\'' +\n",
       "                        ' target=\\'_blank\\'>new window</a>'\n",
       "    } else {\n",
       "        div.innerHTML = 'Something has gone wrong. Check notebook server for' +\n",
       "                        ' errors.';\n",
       "    }\n",
       "});\n",
       "})(this.parentElement, '/qiime2/redirect?location=/scratch/lfloerl/tmpdata/qiime2/lfloerl/data/c1d47ff2-ec51-45bb-be8d-3159c62b6fa2')\" src=\"data:image/gif;base64,R0lGODlhAQABAIAAAP///wAAACH5BAEAAAAALAAAAAABAAEAAAICRAEAOw==\" /></div>"
      ],
      "text/plain": [
       "<visualization: Visualization uuid: c1d47ff2-ec51-45bb-be8d-3159c62b6fa2>"
      ]
     },
     "execution_count": 26,
     "metadata": {},
     "output_type": "execute_result"
    }
   ],
   "source": [
    "Visualization.load(f'{output_dir}/alpha_groupSig_evenness_vector.qzv')"
   ]
  },
  {
   "cell_type": "code",
   "execution_count": 27,
   "id": "a475d39b",
   "metadata": {
    "scrolled": false
   },
   "outputs": [
    {
     "data": {
      "text/html": [
       "<div><img onload=\"(function(div, url){\n",
       "if (typeof require !== 'undefined') {\n",
       "    var baseURL = require.toUrl('').split('/').slice(0, -2).join('/');\n",
       "} else {\n",
       "    var baseURL = JSON.parse(\n",
       "        document.getElementById('jupyter-config-data').innerHTML\n",
       "    ).baseUrl.slice(0, -1);\n",
       "}\n",
       "url = baseURL + url;\n",
       "fetch(url).then(function(res) {\n",
       "    if (res.status === 404) {\n",
       "        div.innerHTML = 'Install QIIME 2 Jupyter extension with:<br />' +\n",
       "                        '<code>jupyter server extension enable --py qiime2' +\n",
       "                        ' --sys-prefix</code><br />then restart your server.' +\n",
       "                        '<br /><br />(Interactive output not available on ' +\n",
       "                        'static notebook viewer services like nbviewer.)';\n",
       "    } else if (res.status === 409) {\n",
       "        div.innerHTML = 'Visualization no longer in scope. Re-run this cell' +\n",
       "                        ' to see the visualization.';\n",
       "    } else if (res.ok) {\n",
       "        url = res.url;\n",
       "        div.innerHTML = '<iframe src=\\'' + url + '\\' style=\\'' +\n",
       "                        'width: 100%; height: 700px; border: 0;\\'>' +\n",
       "                        '</iframe><hr />Open in a: <a href=\\'' + url + '\\'' +\n",
       "                        ' target=\\'_blank\\'>new window</a>'\n",
       "    } else {\n",
       "        div.innerHTML = 'Something has gone wrong. Check notebook server for' +\n",
       "                        ' errors.';\n",
       "    }\n",
       "});\n",
       "})(this.parentElement, '/qiime2/redirect?location=/scratch/lfloerl/tmpdata/qiime2/lfloerl/data/0142ebe9-999c-438b-93d4-5f3233f954ad')\" src=\"data:image/gif;base64,R0lGODlhAQABAIAAAP///wAAACH5BAEAAAAALAAAAAABAAEAAAICRAEAOw==\" /></div>"
      ],
      "text/plain": [
       "<visualization: Visualization uuid: 0142ebe9-999c-438b-93d4-5f3233f954ad>"
      ]
     },
     "execution_count": 27,
     "metadata": {},
     "output_type": "execute_result"
    }
   ],
   "source": [
    "Visualization.load(f'{output_dir}/alpha_groupSig_observed_features_vector.qzv')"
   ]
  },
  {
   "cell_type": "code",
   "execution_count": 28,
   "id": "b9469709",
   "metadata": {},
   "outputs": [
    {
     "data": {
      "text/html": [
       "<div><img onload=\"(function(div, url){\n",
       "if (typeof require !== 'undefined') {\n",
       "    var baseURL = require.toUrl('').split('/').slice(0, -2).join('/');\n",
       "} else {\n",
       "    var baseURL = JSON.parse(\n",
       "        document.getElementById('jupyter-config-data').innerHTML\n",
       "    ).baseUrl.slice(0, -1);\n",
       "}\n",
       "url = baseURL + url;\n",
       "fetch(url).then(function(res) {\n",
       "    if (res.status === 404) {\n",
       "        div.innerHTML = 'Install QIIME 2 Jupyter extension with:<br />' +\n",
       "                        '<code>jupyter server extension enable --py qiime2' +\n",
       "                        ' --sys-prefix</code><br />then restart your server.' +\n",
       "                        '<br /><br />(Interactive output not available on ' +\n",
       "                        'static notebook viewer services like nbviewer.)';\n",
       "    } else if (res.status === 409) {\n",
       "        div.innerHTML = 'Visualization no longer in scope. Re-run this cell' +\n",
       "                        ' to see the visualization.';\n",
       "    } else if (res.ok) {\n",
       "        url = res.url;\n",
       "        div.innerHTML = '<iframe src=\\'' + url + '\\' style=\\'' +\n",
       "                        'width: 100%; height: 700px; border: 0;\\'>' +\n",
       "                        '</iframe><hr />Open in a: <a href=\\'' + url + '\\'' +\n",
       "                        ' target=\\'_blank\\'>new window</a>'\n",
       "    } else {\n",
       "        div.innerHTML = 'Something has gone wrong. Check notebook server for' +\n",
       "                        ' errors.';\n",
       "    }\n",
       "});\n",
       "})(this.parentElement, '/qiime2/redirect?location=/scratch/lfloerl/tmpdata/qiime2/lfloerl/data/a62b9be7-0c54-4f3f-9d5f-4b8733fe254f')\" src=\"data:image/gif;base64,R0lGODlhAQABAIAAAP///wAAACH5BAEAAAAALAAAAAABAAEAAAICRAEAOw==\" /></div>"
      ],
      "text/plain": [
       "<visualization: Visualization uuid: a62b9be7-0c54-4f3f-9d5f-4b8733fe254f>"
      ]
     },
     "execution_count": 28,
     "metadata": {},
     "output_type": "execute_result"
    }
   ],
   "source": [
    "Visualization.load(f'{output_dir}/alpha_groupSig_shannon_vector.qzv')"
   ]
  },
  {
   "cell_type": "markdown",
   "id": "c0c19d61",
   "metadata": {},
   "source": [
    "### PERMANOVA\n",
    "\n",
    "-> note bark was only collected once per year (veraison) "
   ]
  },
  {
   "cell_type": "code",
   "execution_count": 19,
   "id": "1239daba",
   "metadata": {
    "scrolled": true
   },
   "outputs": [
    {
     "name": "stdout",
     "output_type": "stream",
     "text": [
      "Running external command line application. This may print messages to stdout and/or stderr.\n",
      "The command being run is below. This command cannot be manually re-run as it will depend on temporary files that no longer exist.\n",
      "\n",
      "Command: run_adonis.R /scratch/lfloerl/tmpdata/tmph84ph6hj/dm.tsv /scratch/lfloerl/tmpdata/tmph84ph6hj/md.tsv Plot_ID * Year 999 3 /scratch/lfloerl/tmpdata/qiime2-temp-yb2vg_d7/adonis.tsv\n",
      "\n",
      "R version 4.3.3 (2024-02-29) \n"
     ]
    },
    {
     "name": "stderr",
     "output_type": "stream",
     "text": [
      "Lade nötiges Paket: permute\n",
      "Lade nötiges Paket: lattice\n",
      "This is vegan 2.6-8\n",
      "Warnmeldung:\n",
      "'adonis' ist veraltet.\n",
      "Benutzen Sie stattdessen 'adonis2'\n",
      "Siehe help(\"Deprecated\") und help(\"vegan-deprecated\"). \n"
     ]
    },
    {
     "name": "stdout",
     "output_type": "stream",
     "text": [
      "Running external command line application. This may print messages to stdout and/or stderr.\n",
      "The command being run is below. This command cannot be manually re-run as it will depend on temporary files that no longer exist.\n",
      "\n",
      "Command: run_adonis.R /scratch/lfloerl/tmpdata/tmpvfmtw_pa/dm.tsv /scratch/lfloerl/tmpdata/tmpvfmtw_pa/md.tsv Plot_ID * Year 999 3 /scratch/lfloerl/tmpdata/qiime2-temp-ckopy2vs/adonis.tsv\n",
      "\n",
      "R version 4.3.3 (2024-02-29) \n"
     ]
    },
    {
     "name": "stderr",
     "output_type": "stream",
     "text": [
      "Lade nötiges Paket: permute\n",
      "Lade nötiges Paket: lattice\n",
      "This is vegan 2.6-8\n",
      "Warnmeldung:\n",
      "'adonis' ist veraltet.\n",
      "Benutzen Sie stattdessen 'adonis2'\n",
      "Siehe help(\"Deprecated\") und help(\"vegan-deprecated\"). \n"
     ]
    },
    {
     "name": "stdout",
     "output_type": "stream",
     "text": [
      "\u001b[32mSaved Visualization to: bark_kmer_cm15000/adonis_bray_curtis.qzv\u001b[0m\n",
      "\u001b[0m\u001b[32mSaved Visualization to: bark_kmer_cm15000/adonis_jaccard.qzv\u001b[0m\n",
      "\u001b[0m"
     ]
    }
   ],
   "source": [
    "formula = 'Plot_ID * Year'\n",
    "\n",
    "beta_metrics = ['bray_curtis', 'jaccard']\n",
    "\n",
    "# PERMANOVA with core metrics \n",
    "for m in beta_metrics:\n",
    "    adonis_res, = q2d.actions.adonis(\n",
    "        distance_matrix=core_div_dict[m + '_distance_matrix'],\n",
    "        metadata=md,\n",
    "        formula=formula,\n",
    "        n_jobs=3)\n",
    "    adonis_res.save(output_dir + 'adonis_{0}.qzv'.format(m))\n",
    "    \n",
    "\n",
    "# PERMANOVA with kmer core metrics \n",
    "kmer_dir = 'bark_kmer_cm15000'\n",
    "    \n",
    "for m in beta_metrics:\n",
    "    !qiime diversity adonis \\\n",
    "        --i-distance-matrix \"{kmer_dir}/{m}_distance_matrix.qza\" \\\n",
    "        --m-metadata-file /home/lfloerl/microterroir/Microbiome/Metadata/ITS_lavaux.tsv \\\n",
    "        --p-formula \"{formula}\" \\\n",
    "        --p-n-jobs 5 \\\n",
    "        --o-visualization \"{kmer_dir}/adonis_{m}.qzv\""
   ]
  },
  {
   "cell_type": "code",
   "execution_count": 30,
   "id": "03924c1f",
   "metadata": {
    "scrolled": false
   },
   "outputs": [
    {
     "data": {
      "text/html": [
       "<div><img onload=\"(function(div, url){\n",
       "if (typeof require !== 'undefined') {\n",
       "    var baseURL = require.toUrl('').split('/').slice(0, -2).join('/');\n",
       "} else {\n",
       "    var baseURL = JSON.parse(\n",
       "        document.getElementById('jupyter-config-data').innerHTML\n",
       "    ).baseUrl.slice(0, -1);\n",
       "}\n",
       "url = baseURL + url;\n",
       "fetch(url).then(function(res) {\n",
       "    if (res.status === 404) {\n",
       "        div.innerHTML = 'Install QIIME 2 Jupyter extension with:<br />' +\n",
       "                        '<code>jupyter server extension enable --py qiime2' +\n",
       "                        ' --sys-prefix</code><br />then restart your server.' +\n",
       "                        '<br /><br />(Interactive output not available on ' +\n",
       "                        'static notebook viewer services like nbviewer.)';\n",
       "    } else if (res.status === 409) {\n",
       "        div.innerHTML = 'Visualization no longer in scope. Re-run this cell' +\n",
       "                        ' to see the visualization.';\n",
       "    } else if (res.ok) {\n",
       "        url = res.url;\n",
       "        div.innerHTML = '<iframe src=\\'' + url + '\\' style=\\'' +\n",
       "                        'width: 100%; height: 700px; border: 0;\\'>' +\n",
       "                        '</iframe><hr />Open in a: <a href=\\'' + url + '\\'' +\n",
       "                        ' target=\\'_blank\\'>new window</a>'\n",
       "    } else {\n",
       "        div.innerHTML = 'Something has gone wrong. Check notebook server for' +\n",
       "                        ' errors.';\n",
       "    }\n",
       "});\n",
       "})(this.parentElement, '/qiime2/redirect?location=/scratch/lfloerl/tmpdata/qiime2/lfloerl/data/f0d9a075-8977-41ee-a4c8-45bf7dd4a23c')\" src=\"data:image/gif;base64,R0lGODlhAQABAIAAAP///wAAACH5BAEAAAAALAAAAAABAAEAAAICRAEAOw==\" /></div>"
      ],
      "text/plain": [
       "<visualization: Visualization uuid: f0d9a075-8977-41ee-a4c8-45bf7dd4a23c>"
      ]
     },
     "execution_count": 30,
     "metadata": {},
     "output_type": "execute_result"
    }
   ],
   "source": [
    "Visualization.load(f'{output_dir}/adonis_bray_curtis.qzv')"
   ]
  },
  {
   "cell_type": "code",
   "execution_count": 31,
   "id": "56e82da0",
   "metadata": {
    "scrolled": false
   },
   "outputs": [
    {
     "data": {
      "text/html": [
       "<div><img onload=\"(function(div, url){\n",
       "if (typeof require !== 'undefined') {\n",
       "    var baseURL = require.toUrl('').split('/').slice(0, -2).join('/');\n",
       "} else {\n",
       "    var baseURL = JSON.parse(\n",
       "        document.getElementById('jupyter-config-data').innerHTML\n",
       "    ).baseUrl.slice(0, -1);\n",
       "}\n",
       "url = baseURL + url;\n",
       "fetch(url).then(function(res) {\n",
       "    if (res.status === 404) {\n",
       "        div.innerHTML = 'Install QIIME 2 Jupyter extension with:<br />' +\n",
       "                        '<code>jupyter server extension enable --py qiime2' +\n",
       "                        ' --sys-prefix</code><br />then restart your server.' +\n",
       "                        '<br /><br />(Interactive output not available on ' +\n",
       "                        'static notebook viewer services like nbviewer.)';\n",
       "    } else if (res.status === 409) {\n",
       "        div.innerHTML = 'Visualization no longer in scope. Re-run this cell' +\n",
       "                        ' to see the visualization.';\n",
       "    } else if (res.ok) {\n",
       "        url = res.url;\n",
       "        div.innerHTML = '<iframe src=\\'' + url + '\\' style=\\'' +\n",
       "                        'width: 100%; height: 700px; border: 0;\\'>' +\n",
       "                        '</iframe><hr />Open in a: <a href=\\'' + url + '\\'' +\n",
       "                        ' target=\\'_blank\\'>new window</a>'\n",
       "    } else {\n",
       "        div.innerHTML = 'Something has gone wrong. Check notebook server for' +\n",
       "                        ' errors.';\n",
       "    }\n",
       "});\n",
       "})(this.parentElement, '/qiime2/redirect?location=/scratch/lfloerl/tmpdata/qiime2/lfloerl/data/9c33dfed-6960-41b9-9d2e-a79caef55f5d')\" src=\"data:image/gif;base64,R0lGODlhAQABAIAAAP///wAAACH5BAEAAAAALAAAAAABAAEAAAICRAEAOw==\" /></div>"
      ],
      "text/plain": [
       "<visualization: Visualization uuid: 9c33dfed-6960-41b9-9d2e-a79caef55f5d>"
      ]
     },
     "execution_count": 31,
     "metadata": {},
     "output_type": "execute_result"
    }
   ],
   "source": [
    "Visualization.load(f'{output_dir}/adonis_jaccard.qzv')"
   ]
  },
  {
   "cell_type": "code",
   "execution_count": 32,
   "id": "6e32f2ce",
   "metadata": {
    "scrolled": false
   },
   "outputs": [
    {
     "data": {
      "text/html": [
       "<div><img onload=\"(function(div, url){\n",
       "if (typeof require !== 'undefined') {\n",
       "    var baseURL = require.toUrl('').split('/').slice(0, -2).join('/');\n",
       "} else {\n",
       "    var baseURL = JSON.parse(\n",
       "        document.getElementById('jupyter-config-data').innerHTML\n",
       "    ).baseUrl.slice(0, -1);\n",
       "}\n",
       "url = baseURL + url;\n",
       "fetch(url).then(function(res) {\n",
       "    if (res.status === 404) {\n",
       "        div.innerHTML = 'Install QIIME 2 Jupyter extension with:<br />' +\n",
       "                        '<code>jupyter server extension enable --py qiime2' +\n",
       "                        ' --sys-prefix</code><br />then restart your server.' +\n",
       "                        '<br /><br />(Interactive output not available on ' +\n",
       "                        'static notebook viewer services like nbviewer.)';\n",
       "    } else if (res.status === 409) {\n",
       "        div.innerHTML = 'Visualization no longer in scope. Re-run this cell' +\n",
       "                        ' to see the visualization.';\n",
       "    } else if (res.ok) {\n",
       "        url = res.url;\n",
       "        div.innerHTML = '<iframe src=\\'' + url + '\\' style=\\'' +\n",
       "                        'width: 100%; height: 700px; border: 0;\\'>' +\n",
       "                        '</iframe><hr />Open in a: <a href=\\'' + url + '\\'' +\n",
       "                        ' target=\\'_blank\\'>new window</a>'\n",
       "    } else {\n",
       "        div.innerHTML = 'Something has gone wrong. Check notebook server for' +\n",
       "                        ' errors.';\n",
       "    }\n",
       "});\n",
       "})(this.parentElement, '/qiime2/redirect?location=/scratch/lfloerl/tmpdata/qiime2/lfloerl/data/50ace067-0d9f-4211-88c7-f7e42cbb24de')\" src=\"data:image/gif;base64,R0lGODlhAQABAIAAAP///wAAACH5BAEAAAAALAAAAAABAAEAAAICRAEAOw==\" /></div>"
      ],
      "text/plain": [
       "<visualization: Visualization uuid: 50ace067-0d9f-4211-88c7-f7e42cbb24de>"
      ]
     },
     "execution_count": 32,
     "metadata": {},
     "output_type": "execute_result"
    }
   ],
   "source": [
    "Visualization.load(f'{kmer_dir}/adonis_bray_curtis.qzv')"
   ]
  },
  {
   "cell_type": "code",
   "execution_count": 33,
   "id": "46ea1f80",
   "metadata": {
    "scrolled": true
   },
   "outputs": [
    {
     "data": {
      "text/html": [
       "<div><img onload=\"(function(div, url){\n",
       "if (typeof require !== 'undefined') {\n",
       "    var baseURL = require.toUrl('').split('/').slice(0, -2).join('/');\n",
       "} else {\n",
       "    var baseURL = JSON.parse(\n",
       "        document.getElementById('jupyter-config-data').innerHTML\n",
       "    ).baseUrl.slice(0, -1);\n",
       "}\n",
       "url = baseURL + url;\n",
       "fetch(url).then(function(res) {\n",
       "    if (res.status === 404) {\n",
       "        div.innerHTML = 'Install QIIME 2 Jupyter extension with:<br />' +\n",
       "                        '<code>jupyter server extension enable --py qiime2' +\n",
       "                        ' --sys-prefix</code><br />then restart your server.' +\n",
       "                        '<br /><br />(Interactive output not available on ' +\n",
       "                        'static notebook viewer services like nbviewer.)';\n",
       "    } else if (res.status === 409) {\n",
       "        div.innerHTML = 'Visualization no longer in scope. Re-run this cell' +\n",
       "                        ' to see the visualization.';\n",
       "    } else if (res.ok) {\n",
       "        url = res.url;\n",
       "        div.innerHTML = '<iframe src=\\'' + url + '\\' style=\\'' +\n",
       "                        'width: 100%; height: 700px; border: 0;\\'>' +\n",
       "                        '</iframe><hr />Open in a: <a href=\\'' + url + '\\'' +\n",
       "                        ' target=\\'_blank\\'>new window</a>'\n",
       "    } else {\n",
       "        div.innerHTML = 'Something has gone wrong. Check notebook server for' +\n",
       "                        ' errors.';\n",
       "    }\n",
       "});\n",
       "})(this.parentElement, '/qiime2/redirect?location=/scratch/lfloerl/tmpdata/qiime2/lfloerl/data/f314c4cd-e1db-4dce-8830-da17baac730d')\" src=\"data:image/gif;base64,R0lGODlhAQABAIAAAP///wAAACH5BAEAAAAALAAAAAABAAEAAAICRAEAOw==\" /></div>"
      ],
      "text/plain": [
       "<visualization: Visualization uuid: f314c4cd-e1db-4dce-8830-da17baac730d>"
      ]
     },
     "execution_count": 33,
     "metadata": {},
     "output_type": "execute_result"
    }
   ],
   "source": [
    "Visualization.load(f'{kmer_dir}/adonis_jaccard.qzv')"
   ]
  },
  {
   "cell_type": "markdown",
   "id": "c3eb4599",
   "metadata": {},
   "source": [
    "#  Mantel tests - Geographic "
   ]
  },
  {
   "cell_type": "code",
   "execution_count": 20,
   "id": "95a51549",
   "metadata": {},
   "outputs": [
    {
     "name": "stdout",
     "output_type": "stream",
     "text": [
      "bark_cm15000\t   bark_mantel\t\t    bark_veraison21_kmer_cm15000\r\n",
      "bark_kmer_cm15000  bark_veraison21_cm15000\r\n"
     ]
    }
   ],
   "source": [
    "!ls"
   ]
  },
  {
   "cell_type": "code",
   "execution_count": 21,
   "id": "7d2da626",
   "metadata": {},
   "outputs": [
    {
     "name": "stdout",
     "output_type": "stream",
     "text": [
      "Exported bark_cm15000/bray_curtis_distance_matrix.qza as DistanceMatrixDirectoryFormat to directory bark_cm15000/bray_curtis_distance_matrix\n",
      "Exported bark_cm15000/jaccard_distance_matrix.qza as DistanceMatrixDirectoryFormat to directory bark_cm15000/jaccard_distance_matrix\n",
      "Exported bark_kmer_cm15000/bray_curtis_distance_matrix.qza as DistanceMatrixDirectoryFormat to directory bark_kmer_cm15000/bray_curtis_distance_matrix\n",
      "Exported bark_kmer_cm15000/jaccard_distance_matrix.qza as DistanceMatrixDirectoryFormat to directory bark_kmer_cm15000/jaccard_distance_matrix\n"
     ]
    }
   ],
   "source": [
    "%%bash \n",
    "\n",
    "div_dir='bark_cm15000'\n",
    "kmer_dir='bark_kmer_cm15000'\n",
    "\n",
    "# geodisic distance\n",
    "#qiime tools export --input-path /home/lfloerl/cloud/lfloerl/Microterroir/artifacts/ITS/geodesic_distance_ITS.qza --output-path geodesic_distance_ITS\n",
    "\n",
    "# distance matrices \n",
    "qiime tools export --input-path $div_dir/bray_curtis_distance_matrix.qza --output-path $div_dir/bray_curtis_distance_matrix\n",
    "qiime tools export --input-path $div_dir/jaccard_distance_matrix.qza --output-path $div_dir/jaccard_distance_matrix\n",
    "qiime tools export --input-path $kmer_dir/bray_curtis_distance_matrix.qza --output-path $kmer_dir/bray_curtis_distance_matrix\n",
    "qiime tools export --input-path $kmer_dir/jaccard_distance_matrix.qza --output-path $kmer_dir/jaccard_distance_matrix"
   ]
  },
  {
   "cell_type": "code",
   "execution_count": 26,
   "id": "ce506bc9",
   "metadata": {
    "scrolled": true
   },
   "outputs": [
    {
     "name": "stdout",
     "output_type": "stream",
     "text": [
      "                                           Test Mantel_statistic_r Significance\n",
      "1      bark_cm15000-bray_curtis_distance_matrix         0.07074344        0.179\n",
      "2          bark_cm15000-jaccard_distance_matrix         0.02064559        0.386\n",
      "3 bark_kmer_cm15000-bray_curtis_distance_matrix         0.08967257        0.116\n",
      "4     bark_kmer_cm15000-jaccard_distance_matrix         0.06932938        0.201\n"
     ]
    }
   ],
   "source": [
    "%%bash\n",
    "geodesic_path='/home/lfloerl/cloud/lfloerl/Microterroir/artifacts/ITS/lavaux/spatio-temporal/geodesic_distance_ITS/distance-matrix.tsv'\n",
    "\n",
    "folder_path_1=\"bark_cm15000\"\n",
    "folder_path_2=\"bark_kmer_cm15000\"\n",
    "\n",
    "# Call the R script and pass folder paths and geodesic matrix\n",
    "Rscript /home/lfloerl/microterroir/Microbiome/Other_scripts/mantel_test.R \"$folder_path_1\" \"$folder_path_2\" \"$geodesic_path\""
   ]
  },
  {
   "cell_type": "code",
   "execution_count": 28,
   "id": "da3c7f77",
   "metadata": {},
   "outputs": [
    {
     "data": {
      "text/html": [
       "<div>\n",
       "<style scoped>\n",
       "    .dataframe tbody tr th:only-of-type {\n",
       "        vertical-align: middle;\n",
       "    }\n",
       "\n",
       "    .dataframe tbody tr th {\n",
       "        vertical-align: top;\n",
       "    }\n",
       "\n",
       "    .dataframe thead th {\n",
       "        text-align: right;\n",
       "    }\n",
       "</style>\n",
       "<table border=\"1\" class=\"dataframe\">\n",
       "  <thead>\n",
       "    <tr style=\"text-align: right;\">\n",
       "      <th></th>\n",
       "      <th>Test</th>\n",
       "      <th>Mantel_statistic_r</th>\n",
       "      <th>Significance</th>\n",
       "    </tr>\n",
       "  </thead>\n",
       "  <tbody>\n",
       "    <tr>\n",
       "      <th>0</th>\n",
       "      <td>bark_cm15000-bray_curtis_distance_matrix</td>\n",
       "      <td>0.070743</td>\n",
       "      <td>0.179</td>\n",
       "    </tr>\n",
       "    <tr>\n",
       "      <th>1</th>\n",
       "      <td>bark_cm15000-jaccard_distance_matrix</td>\n",
       "      <td>0.020646</td>\n",
       "      <td>0.386</td>\n",
       "    </tr>\n",
       "    <tr>\n",
       "      <th>2</th>\n",
       "      <td>bark_kmer_cm15000-bray_curtis_distance_matrix</td>\n",
       "      <td>0.089673</td>\n",
       "      <td>0.116</td>\n",
       "    </tr>\n",
       "    <tr>\n",
       "      <th>3</th>\n",
       "      <td>bark_kmer_cm15000-jaccard_distance_matrix</td>\n",
       "      <td>0.069329</td>\n",
       "      <td>0.201</td>\n",
       "    </tr>\n",
       "  </tbody>\n",
       "</table>\n",
       "</div>"
      ],
      "text/plain": [
       "                                            Test  Mantel_statistic_r  \\\n",
       "0       bark_cm15000-bray_curtis_distance_matrix            0.070743   \n",
       "1           bark_cm15000-jaccard_distance_matrix            0.020646   \n",
       "2  bark_kmer_cm15000-bray_curtis_distance_matrix            0.089673   \n",
       "3      bark_kmer_cm15000-jaccard_distance_matrix            0.069329   \n",
       "\n",
       "   Significance  \n",
       "0         0.179  \n",
       "1         0.386  \n",
       "2         0.116  \n",
       "3         0.201  "
      ]
     },
     "execution_count": 28,
     "metadata": {},
     "output_type": "execute_result"
    }
   ],
   "source": [
    "mantel = pd.read_csv(\"bark_kmer_cm15000/mantel_results.tsv\", sep=\"\\t\")\n",
    "mantel"
   ]
  },
  {
   "cell_type": "markdown",
   "id": "d6cba6ce",
   "metadata": {},
   "source": [
    "## Visualize"
   ]
  },
  {
   "cell_type": "code",
   "execution_count": 12,
   "id": "cbb5cb14",
   "metadata": {
    "scrolled": false
   },
   "outputs": [
    {
     "data": {
      "image/png": "[encoded data removed]",
      "text/plain": [
       "<Figure size 600x400 with 1 Axes>"
      ]
     },
     "metadata": {},
     "output_type": "display_data"
    },
    {
     "data": {
      "image/png": "[encoded data removed]",
      "text/plain": [
       "<Figure size 600x400 with 1 Axes>"
      ]
     },
     "metadata": {},
     "output_type": "display_data"
    },
    {
     "data": {
      "image/png": "[encoded data removed]",
      "text/plain": [
       "<Figure size 600x400 with 1 Axes>"
      ]
     },
     "metadata": {},
     "output_type": "display_data"
    },
    {
     "data": {
      "image/png": "[encoded data removed]",
      "text/plain": [
       "<Figure size 600x400 with 1 Axes>"
      ]
     },
     "metadata": {},
     "output_type": "display_data"
    }
   ],
   "source": [
    "folder = 'MV-must_Year2022'\n",
    "\n",
    "dir_prefix = 'cm4500'\n",
    "kmer_dir_prefix = 'kmer_cm4500'\n",
    "\n",
    "geodesic_path = '/home/lfloerl/cloud/lfloerl/Microterroir/artifacts/ITS/lavaux/spatio-temporal/geodesic_distance_ITS/distance-matrix.tsv'\n",
    "\n",
    "# Define paths for distance matrices\n",
    "bray_curtis_path = os.path.join(folder, dir_prefix, 'bray_curtis_distance_matrix', 'distance-matrix.tsv')\n",
    "jaccard_path = os.path.join(folder, dir_prefix, 'jaccard_distance_matrix', 'distance-matrix.tsv')\n",
    "bray_curtis_kmer_path = os.path.join(folder, kmer_dir_prefix, 'bray_curtis_distance_matrix', 'distance-matrix.tsv')\n",
    "jaccard_kmer_path = os.path.join(folder, kmer_dir_prefix, 'jaccard_distance_matrix', 'distance-matrix.tsv')\n",
    "\n",
    "metrics = [bray_curtis_path, jaccard_path, bray_curtis_kmer_path, jaccard_kmer_path]\n",
    "\n",
    "# Labels for the scatter plots\n",
    "labels = [ ('Geodesic Distance', 'Bray-Curtis Distance'),\n",
    "    ('Geodesic Distance', 'Jaccard Distance'),\n",
    "    ('Geodesic Distance', 'Kmer Bray-Curtis Distance'),\n",
    "    ('Geodesic Distance', 'Kmer Jaccard Distance')]\n",
    "\n",
    "for metric, (x_label, y_label) in zip(metrics, labels):\n",
    "\n",
    "    # Load the geodesic distance matrix\n",
    "    dm1 = pd.read_csv(geodesic_path, sep='\\t', index_col=0)\n",
    "\n",
    "    # Load the other distance matrix\n",
    "    dm2 = pd.read_csv(metric, sep='\\t', index_col=0)\n",
    "\n",
    "    # Align matrices by common indices\n",
    "    common_ids = dm1.index.intersection(dm2.index)\n",
    "    if len(common_ids) == 0:\n",
    "        raise ValueError(f\"No common IDs found between {geodesic_path} and {metric}.\")\n",
    "\n",
    "    dm1 = dm1.loc[common_ids, common_ids]\n",
    "    dm2 = dm2.loc[common_ids, common_ids]\n",
    "\n",
    "    # Extract upper triangular values (excluding diagonal)\n",
    "    dm1_flat = dm1.where(np.triu(np.ones(dm1.shape), k=1).astype(bool)).stack()\n",
    "    dm2_flat = dm2.where(np.triu(np.ones(dm2.shape), k=1).astype(bool)).stack()\n",
    "\n",
    "    # Create scatter plot with regression line\n",
    "    plt.figure(figsize=(6, 4))\n",
    "    sns.regplot(x=dm1_flat, y=dm2_flat, scatter_kws={'s': 10, 'color': '#56C667FF'}, line_kws={'color': '#3F4788FF'})\n",
    "    plt.xlabel(x_label)\n",
    "    plt.ylabel(y_label)\n",
    "    plt.tight_layout()\n",
    "    plt.show()\n"
   ]
  },
  {
   "cell_type": "markdown",
   "id": "c97bf8dc",
   "metadata": {},
   "source": [
    "# SUBSET TO SINGLE TIME POINT "
   ]
  },
  {
   "cell_type": "code",
   "execution_count": 38,
   "id": "705e8afd",
   "metadata": {},
   "outputs": [
    {
     "name": "stdout",
     "output_type": "stream",
     "text": [
      "Saved FeatureTable[Frequency] to: /home/lfloerl/cloud/lfloerl/Microterroir/artifacts/ITS/lavaux/bark_veraison21_filtered_table.qza\n",
      "Saved FeatureData[Sequence] to: /home/lfloerl/cloud/lfloerl/Microterroir/artifacts/ITS/lavaux/bark_veraison21_filtered_rep_seqs.qza\n"
     ]
    }
   ],
   "source": [
    "%%bash \n",
    "\n",
    "# subset to only harvest samples before fitting \n",
    "qiime feature-table filter-samples \\\n",
    "  --i-table /home/lfloerl/cloud/lfloerl/Microterroir/artifacts/ITS/lavaux/bark_filtered_table.qza \\\n",
    "  --m-metadata-file /home/lfloerl/microterroir/Microbiome/Metadata/ITS_lavaux.tsv \\\n",
    "  --p-where \"[Collection_ID]='Veraison_2021'\" \\\n",
    "  --o-filtered-table /home/lfloerl/cloud/lfloerl/Microterroir/artifacts/ITS/lavaux/bark_veraison21_filtered_table.qza\n",
    "\n",
    "qiime feature-table filter-seqs \\\n",
    "    --i-data /home/lfloerl/cloud/lfloerl/Microterroir/artifacts/Sven-denoising-test/ITS/revcomp-trimmed-denoised/with-adjusted-parameters/ITS-revcomp-trimmed-ER-0.05-denoised-trunc-190-PFA-4.0-maxee-4.0-rep-seqs.qza \\\n",
    "    --i-table /home/lfloerl/cloud/lfloerl/Microterroir/artifacts/ITS/lavaux/bark_veraison21_filtered_table.qza \\\n",
    "    --o-filtered-data /home/lfloerl/cloud/lfloerl/Microterroir/artifacts/ITS/lavaux/bark_veraison21_filtered_rep_seqs.qza"
   ]
  },
  {
   "cell_type": "code",
   "execution_count": 61,
   "id": "dd645281",
   "metadata": {},
   "outputs": [],
   "source": [
    "table = q2.Artifact.load('/home/lfloerl/cloud/lfloerl/Microterroir/artifacts/ITS/lavaux/bark_veraison21_filtered_table.qza')\n",
    "\n",
    "core_div_dict = {}\n",
    "core_div = q2d.actions.core_metrics(table=table,\n",
    "                                    sampling_depth=depth,\n",
    "                                    metadata=md, \n",
    "                                    n_jobs=threads)\n",
    "# save outputs\n",
    "output_dir='bark_veraison21_cm{0}/'.format(depth)\n",
    "if not os.path.exists(output_dir):\n",
    "    os.makedirs(output_dir)\n",
    "for k, v in core_div.__dict__.items():\n",
    "    if k != '_fields':\n",
    "        v.save(output_dir + k)\n",
    "        core_div_dict[k] = v"
   ]
  },
  {
   "cell_type": "markdown",
   "id": "17b022b5",
   "metadata": {},
   "source": [
    "## Kmerizer "
   ]
  },
  {
   "cell_type": "code",
   "execution_count": 59,
   "id": "7a88c6fe",
   "metadata": {},
   "outputs": [],
   "source": [
    "#!rm -r kmer-core-metrics"
   ]
  },
  {
   "cell_type": "code",
   "execution_count": 62,
   "id": "786c1fc0",
   "metadata": {},
   "outputs": [
    {
     "name": "stdout",
     "output_type": "stream",
     "text": [
      "Saved FeatureTable[Frequency] to: bark_veraison21_kmer_cm15000/rarefied_table.qza\n",
      "Saved FeatureTable[Frequency] to: bark_veraison21_kmer_cm15000/kmer_table.qza\n",
      "Saved SampleData[AlphaDiversity] to: bark_veraison21_kmer_cm15000/observed_features_vector.qza\n",
      "Saved SampleData[AlphaDiversity] to: bark_veraison21_kmer_cm15000/shannon_vector.qza\n",
      "Saved DistanceMatrix to: bark_veraison21_kmer_cm15000/jaccard_distance_matrix.qza\n",
      "Saved DistanceMatrix to: bark_veraison21_kmer_cm15000/bray_curtis_distance_matrix.qza\n",
      "Saved PCoAResults to: bark_veraison21_kmer_cm15000/jaccard_pcoa_results.qza\n",
      "Saved PCoAResults to: bark_veraison21_kmer_cm15000/bray_curtis_pcoa_results.qza\n",
      "Saved Visualization to: bark_veraison21_kmer_cm15000/scatterplot.qzv\n"
     ]
    }
   ],
   "source": [
    "%%bash\n",
    "\n",
    "qiime kmerizer core-metrics \\\n",
    "    --i-sequences /home/lfloerl/cloud/lfloerl/Microterroir/artifacts/ITS/lavaux/bark_veraison21_filtered_rep_seqs.qza \\\n",
    "    --i-table /home/lfloerl/cloud/lfloerl/Microterroir/artifacts/ITS/lavaux/bark_veraison21_filtered_table.qza \\\n",
    "    --p-sampling-depth 15000 \\\n",
    "    --m-metadata-file /home/lfloerl/microterroir/Microbiome/Metadata/ITS_lavaux.tsv \\\n",
    "    --p-n-jobs 'auto' \\\n",
    "    --output-dir bark_veraison21_kmer_cm15000/"
   ]
  },
  {
   "cell_type": "code",
   "execution_count": 44,
   "id": "efba48a9",
   "metadata": {
    "scrolled": true
   },
   "outputs": [
    {
     "data": {
      "text/html": [
       "<div><img onload=\"(function(div, url){\n",
       "if (typeof require !== 'undefined') {\n",
       "    var baseURL = require.toUrl('').split('/').slice(0, -2).join('/');\n",
       "} else {\n",
       "    var baseURL = JSON.parse(\n",
       "        document.getElementById('jupyter-config-data').innerHTML\n",
       "    ).baseUrl.slice(0, -1);\n",
       "}\n",
       "url = baseURL + url;\n",
       "fetch(url).then(function(res) {\n",
       "    if (res.status === 404) {\n",
       "        div.innerHTML = 'Install QIIME 2 Jupyter extension with:<br />' +\n",
       "                        '<code>jupyter server extension enable --py qiime2' +\n",
       "                        ' --sys-prefix</code><br />then restart your server.' +\n",
       "                        '<br /><br />(Interactive output not available on ' +\n",
       "                        'static notebook viewer services like nbviewer.)';\n",
       "    } else if (res.status === 409) {\n",
       "        div.innerHTML = 'Visualization no longer in scope. Re-run this cell' +\n",
       "                        ' to see the visualization.';\n",
       "    } else if (res.ok) {\n",
       "        url = res.url;\n",
       "        div.innerHTML = '<iframe src=\\'' + url + '\\' style=\\'' +\n",
       "                        'width: 100%; height: 700px; border: 0;\\'>' +\n",
       "                        '</iframe><hr />Open in a: <a href=\\'' + url + '\\'' +\n",
       "                        ' target=\\'_blank\\'>new window</a>'\n",
       "    } else {\n",
       "        div.innerHTML = 'Something has gone wrong. Check notebook server for' +\n",
       "                        ' errors.';\n",
       "    }\n",
       "});\n",
       "})(this.parentElement, '/qiime2/redirect?location=/scratch/lfloerl/tmpdata/qiime2/lfloerl/data/04325220-1b35-4c5a-81e3-f1ff54c68527')\" src=\"data:image/gif;base64,R0lGODlhAQABAIAAAP///wAAACH5BAEAAAAALAAAAAABAAEAAAICRAEAOw==\" /></div>"
      ],
      "text/plain": [
       "<visualization: Visualization uuid: 04325220-1b35-4c5a-81e3-f1ff54c68527>"
      ]
     },
     "execution_count": 44,
     "metadata": {},
     "output_type": "execute_result"
    }
   ],
   "source": [
    "Visualization.load('bark_veraison21_kmer_cm15000/scatterplot.qzv')"
   ]
  },
  {
   "cell_type": "markdown",
   "id": "fc2ab744",
   "metadata": {},
   "source": [
    "### Mantel "
   ]
  },
  {
   "cell_type": "code",
   "execution_count": 63,
   "id": "eee6f15d",
   "metadata": {
    "scrolled": true
   },
   "outputs": [
    {
     "name": "stdout",
     "output_type": "stream",
     "text": [
      "Exported bark_veraison21_cm15000/bray_curtis_distance_matrix.qza as DistanceMatrixDirectoryFormat to directory bark_veraison21_cm15000/bray_curtis_distance_matrix\n",
      "Exported bark_veraison21_cm15000/jaccard_distance_matrix.qza as DistanceMatrixDirectoryFormat to directory bark_veraison21_cm15000/jaccard_distance_matrix\n",
      "Exported bark_veraison21_kmer_cm15000/bray_curtis_distance_matrix.qza as DistanceMatrixDirectoryFormat to directory bark_veraison21_kmer_cm15000/bray_curtis_distance_matrix\n",
      "Exported bark_veraison21_kmer_cm15000/jaccard_distance_matrix.qza as DistanceMatrixDirectoryFormat to directory bark_veraison21_kmer_cm15000/jaccard_distance_matrix\n"
     ]
    }
   ],
   "source": [
    "%%bash \n",
    "\n",
    "div_dir='bark_veraison21_cm15000'\n",
    "kmer_dir='bark_veraison21_kmer_cm15000'\n",
    "\n",
    "# geodisic distance\n",
    "#qiime tools export --input-path /home/lfloerl/cloud/lfloerl/Microterroir/artifacts/ITS/geodesic_distance_ITS.qza --output-path geodesic_distance_ITS\n",
    "\n",
    "# distance matrices \n",
    "qiime tools export --input-path $div_dir/bray_curtis_distance_matrix.qza --output-path $div_dir/bray_curtis_distance_matrix\n",
    "qiime tools export --input-path $div_dir/jaccard_distance_matrix.qza --output-path $div_dir/jaccard_distance_matrix\n",
    "qiime tools export --input-path $kmer_dir/bray_curtis_distance_matrix.qza --output-path $kmer_dir/bray_curtis_distance_matrix\n",
    "qiime tools export --input-path $kmer_dir/jaccard_distance_matrix.qza --output-path $kmer_dir/jaccard_distance_matrix"
   ]
  },
  {
   "cell_type": "code",
   "execution_count": 29,
   "id": "6084d4a4",
   "metadata": {
    "scrolled": true
   },
   "outputs": [
    {
     "name": "stdout",
     "output_type": "stream",
     "text": [
      "                                                      Test Mantel_statistic_r\n",
      "1      bark_veraison21_cm15000-bray_curtis_distance_matrix        0.006554776\n",
      "2          bark_veraison21_cm15000-jaccard_distance_matrix       -0.002337985\n",
      "3 bark_veraison21_kmer_cm15000-bray_curtis_distance_matrix        0.072915145\n",
      "4     bark_veraison21_kmer_cm15000-jaccard_distance_matrix       -0.003068573\n",
      "  Significance\n",
      "1        0.482\n",
      "2        0.493\n",
      "3        0.355\n",
      "4        0.440\n"
     ]
    }
   ],
   "source": [
    "%%bash\n",
    "geodesic_path='/home/lfloerl/cloud/lfloerl/Microterroir/artifacts/ITS/lavaux/spatio-temporal/geodesic_distance_ITS/distance-matrix.tsv'\n",
    "\n",
    "folder_path_1=\"bark_veraison21_cm15000\"\n",
    "folder_path_2=\"bark_veraison21_kmer_cm15000\"\n",
    "\n",
    "# Call the R script and pass folder paths and geodesic matrix\n",
    "Rscript /home/lfloerl/microterroir/Microbiome/Other_scripts/mantel_test.R \"$folder_path_1\" \"$folder_path_2\" \"$geodesic_path\""
   ]
  },
  {
   "cell_type": "code",
   "execution_count": 30,
   "id": "8fe70283",
   "metadata": {},
   "outputs": [
    {
     "data": {
      "text/html": [
       "<div>\n",
       "<style scoped>\n",
       "    .dataframe tbody tr th:only-of-type {\n",
       "        vertical-align: middle;\n",
       "    }\n",
       "\n",
       "    .dataframe tbody tr th {\n",
       "        vertical-align: top;\n",
       "    }\n",
       "\n",
       "    .dataframe thead th {\n",
       "        text-align: right;\n",
       "    }\n",
       "</style>\n",
       "<table border=\"1\" class=\"dataframe\">\n",
       "  <thead>\n",
       "    <tr style=\"text-align: right;\">\n",
       "      <th></th>\n",
       "      <th>Test</th>\n",
       "      <th>Mantel_statistic_r</th>\n",
       "      <th>Significance</th>\n",
       "    </tr>\n",
       "  </thead>\n",
       "  <tbody>\n",
       "    <tr>\n",
       "      <th>0</th>\n",
       "      <td>bark_veraison21_cm15000-bray_curtis_distance_m...</td>\n",
       "      <td>0.006555</td>\n",
       "      <td>0.482</td>\n",
       "    </tr>\n",
       "    <tr>\n",
       "      <th>1</th>\n",
       "      <td>bark_veraison21_cm15000-jaccard_distance_matrix</td>\n",
       "      <td>-0.002338</td>\n",
       "      <td>0.493</td>\n",
       "    </tr>\n",
       "    <tr>\n",
       "      <th>2</th>\n",
       "      <td>bark_veraison21_kmer_cm15000-bray_curtis_dista...</td>\n",
       "      <td>0.072915</td>\n",
       "      <td>0.355</td>\n",
       "    </tr>\n",
       "    <tr>\n",
       "      <th>3</th>\n",
       "      <td>bark_veraison21_kmer_cm15000-jaccard_distance_...</td>\n",
       "      <td>-0.003069</td>\n",
       "      <td>0.440</td>\n",
       "    </tr>\n",
       "  </tbody>\n",
       "</table>\n",
       "</div>"
      ],
      "text/plain": [
       "                                                Test  Mantel_statistic_r  \\\n",
       "0  bark_veraison21_cm15000-bray_curtis_distance_m...            0.006555   \n",
       "1    bark_veraison21_cm15000-jaccard_distance_matrix           -0.002338   \n",
       "2  bark_veraison21_kmer_cm15000-bray_curtis_dista...            0.072915   \n",
       "3  bark_veraison21_kmer_cm15000-jaccard_distance_...           -0.003069   \n",
       "\n",
       "   Significance  \n",
       "0         0.482  \n",
       "1         0.493  \n",
       "2         0.355  \n",
       "3         0.440  "
      ]
     },
     "execution_count": 30,
     "metadata": {},
     "output_type": "execute_result"
    }
   ],
   "source": [
    "mantel = pd.read_csv(\"bark_veraison21_kmer_cm15000/mantel_results.tsv\", sep=\"\\t\")\n",
    "mantel"
   ]
  }
 ],
 "metadata": {
  "kernelspec": {
   "display_name": "Python 3 (ipykernel)",
   "language": "python",
   "name": "python3"
  },
  "language_info": {
   "codemirror_mode": {
    "name": "ipython",
    "version": 3
   },
   "file_extension": ".py",
   "mimetype": "text/x-python",
   "name": "python",
   "nbconvert_exporter": "python",
   "pygments_lexer": "ipython3",
   "version": "3.10.14"
  }
 },
 "nbformat": 4,
 "nbformat_minor": 5
}
