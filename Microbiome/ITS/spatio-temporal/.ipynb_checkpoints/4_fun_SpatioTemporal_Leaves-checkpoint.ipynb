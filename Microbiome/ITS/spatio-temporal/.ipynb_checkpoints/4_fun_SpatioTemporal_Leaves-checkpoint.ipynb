{
 "cells": [
  {
   "cell_type": "markdown",
   "id": "a8b92d8b",
   "metadata": {},
   "source": [
    "# 4. Spatio-temporal diversity of LEAVES"
   ]
  },
  {
   "cell_type": "code",
   "execution_count": 18,
   "id": "413c885b",
   "metadata": {},
   "outputs": [
    {
     "name": "stdout",
     "output_type": "stream",
     "text": [
      "env: TMPDIR=/scratch/lfloerl/tmpdata\n"
     ]
    }
   ],
   "source": [
    "%env TMPDIR=/scratch/lfloerl/tmpdata"
   ]
  },
  {
   "cell_type": "code",
   "execution_count": 27,
   "id": "18e20f86",
   "metadata": {},
   "outputs": [],
   "source": [
    "from qiime2 import Visualization\n",
    "import qiime2 as q2\n",
    "from qiime2 import Visualization\n",
    "from qiime2 import Artifact\n",
    "from qiime2 import Metadata\n",
    "import os\n",
    "import pandas as pd\n",
    "import numpy as np\n",
    "import matplotlib.pyplot as plt\n",
    "import seaborn as sns\n",
    "from qiime2.plugins.diversity.visualizers import alpha_group_significance, beta_group_significance\n",
    "from matplotlib.patches import Ellipse\n",
    "from qiime2.plugins.feature_table.methods import (filter_seqs, filter_samples, filter_features) \n",
    "\n",
    "from qiime2.plugins import diversity as q2d\n",
    "\n",
    "%matplotlib inline"
   ]
  },
  {
   "cell_type": "code",
   "execution_count": 20,
   "id": "eff46f25",
   "metadata": {
    "scrolled": true
   },
   "outputs": [],
   "source": [
    "md = Metadata.load('/home/lfloerl/microterroir/Microbiome/Metadata/ITS_lavaux.tsv')\n",
    "taxonomy = q2.Artifact.load('/home/lfloerl/cloud/lfloerl/Microterroir/artifacts/ITS/taxonomy.qza')"
   ]
  },
  {
   "cell_type": "markdown",
   "id": "893977c8",
   "metadata": {},
   "source": [
    "# FIRST: check whether we want to use the washed leaf samples"
   ]
  },
  {
   "cell_type": "code",
   "execution_count": 9,
   "id": "c807cc5c",
   "metadata": {},
   "outputs": [
    {
     "name": "stdout",
     "output_type": "stream",
     "text": [
      "/home/lfloerl/cloud/lfloerl/Microterroir/artifacts/ITS/lavaux\n"
     ]
    }
   ],
   "source": [
    "workdir = '/home/lfloerl/cloud/lfloerl/Microterroir/artifacts/ITS/lavaux'\n",
    "%cd $workdir"
   ]
  },
  {
   "cell_type": "code",
   "execution_count": 29,
   "id": "57999d3b",
   "metadata": {},
   "outputs": [],
   "source": [
    "table = q2.Artifact.load('leaf_filtered_table.qza')"
   ]
  },
  {
   "cell_type": "code",
   "execution_count": 30,
   "id": "4c368c96",
   "metadata": {},
   "outputs": [
    {
     "name": "stderr",
     "output_type": "stream",
     "text": [
      "/scratch/lfloerl/.condaenvs/qiime2-amplicon-2024.10/lib/python3.10/site-packages/q2_types/sample_data/_deferred_setup/_transformers.py:28: FutureWarning: errors='ignore' is deprecated and will raise in a future version. Use to_numeric without passing `errors` and catch exceptions explicitly instead\n",
      "  df[cols] = df[cols].apply(pd.to_numeric, errors='ignore')\n",
      "/scratch/lfloerl/.condaenvs/qiime2-amplicon-2024.10/lib/python3.10/site-packages/skbio/util/_warning.py:60: UserWarning: observed_otus is deprecated as of 0.6.0.\n",
      "  warn(f\"{func.__name__} is deprecated as of {ver}.\")\n",
      "/scratch/lfloerl/.condaenvs/qiime2-amplicon-2024.10/lib/python3.10/site-packages/q2_types/sample_data/_deferred_setup/_transformers.py:28: FutureWarning: errors='ignore' is deprecated and will raise in a future version. Use to_numeric without passing `errors` and catch exceptions explicitly instead\n",
      "  df[cols] = df[cols].apply(pd.to_numeric, errors='ignore')\n",
      "/scratch/lfloerl/.condaenvs/qiime2-amplicon-2024.10/lib/python3.10/site-packages/q2_types/sample_data/_deferred_setup/_transformers.py:28: FutureWarning: errors='ignore' is deprecated and will raise in a future version. Use to_numeric without passing `errors` and catch exceptions explicitly instead\n",
      "  df[cols] = df[cols].apply(pd.to_numeric, errors='ignore')\n",
      "/scratch/lfloerl/.condaenvs/qiime2-amplicon-2024.10/lib/python3.10/site-packages/q2_types/sample_data/_deferred_setup/_transformers.py:28: FutureWarning: errors='ignore' is deprecated and will raise in a future version. Use to_numeric without passing `errors` and catch exceptions explicitly instead\n",
      "  df[cols] = df[cols].apply(pd.to_numeric, errors='ignore')\n",
      "/scratch/lfloerl/.condaenvs/qiime2-amplicon-2024.10/lib/python3.10/site-packages/q2_types/sample_data/_deferred_setup/_transformers.py:28: FutureWarning: errors='ignore' is deprecated and will raise in a future version. Use to_numeric without passing `errors` and catch exceptions explicitly instead\n",
      "  df[cols] = df[cols].apply(pd.to_numeric, errors='ignore')\n",
      "/scratch/lfloerl/.condaenvs/qiime2-amplicon-2024.10/lib/python3.10/site-packages/q2_types/sample_data/_deferred_setup/_transformers.py:28: FutureWarning: errors='ignore' is deprecated and will raise in a future version. Use to_numeric without passing `errors` and catch exceptions explicitly instead\n",
      "  df[cols] = df[cols].apply(pd.to_numeric, errors='ignore')\n",
      "/scratch/lfloerl/.condaenvs/qiime2-amplicon-2024.10/lib/python3.10/site-packages/q2_types/sample_data/_deferred_setup/_transformers.py:28: FutureWarning: errors='ignore' is deprecated and will raise in a future version. Use to_numeric without passing `errors` and catch exceptions explicitly instead\n",
      "  df[cols] = df[cols].apply(pd.to_numeric, errors='ignore')\n",
      "/scratch/lfloerl/.condaenvs/qiime2-amplicon-2024.10/lib/python3.10/site-packages/q2_types/sample_data/_deferred_setup/_transformers.py:28: FutureWarning: errors='ignore' is deprecated and will raise in a future version. Use to_numeric without passing `errors` and catch exceptions explicitly instead\n",
      "  df[cols] = df[cols].apply(pd.to_numeric, errors='ignore')\n",
      "/scratch/lfloerl/.condaenvs/qiime2-amplicon-2024.10/lib/python3.10/site-packages/q2_types/sample_data/_deferred_setup/_transformers.py:28: FutureWarning: errors='ignore' is deprecated and will raise in a future version. Use to_numeric without passing `errors` and catch exceptions explicitly instead\n",
      "  df[cols] = df[cols].apply(pd.to_numeric, errors='ignore')\n",
      "/scratch/lfloerl/.condaenvs/qiime2-amplicon-2024.10/lib/python3.10/site-packages/q2_types/sample_data/_deferred_setup/_transformers.py:28: FutureWarning: errors='ignore' is deprecated and will raise in a future version. Use to_numeric without passing `errors` and catch exceptions explicitly instead\n",
      "  df[cols] = df[cols].apply(pd.to_numeric, errors='ignore')\n",
      "/scratch/lfloerl/.condaenvs/qiime2-amplicon-2024.10/lib/python3.10/site-packages/q2_types/sample_data/_deferred_setup/_transformers.py:28: FutureWarning: errors='ignore' is deprecated and will raise in a future version. Use to_numeric without passing `errors` and catch exceptions explicitly instead\n",
      "  df[cols] = df[cols].apply(pd.to_numeric, errors='ignore')\n",
      "/scratch/lfloerl/.condaenvs/qiime2-amplicon-2024.10/lib/python3.10/site-packages/q2_types/sample_data/_deferred_setup/_transformers.py:28: FutureWarning: errors='ignore' is deprecated and will raise in a future version. Use to_numeric without passing `errors` and catch exceptions explicitly instead\n",
      "  df[cols] = df[cols].apply(pd.to_numeric, errors='ignore')\n",
      "/scratch/lfloerl/.condaenvs/qiime2-amplicon-2024.10/lib/python3.10/site-packages/q2_types/sample_data/_deferred_setup/_transformers.py:28: FutureWarning: errors='ignore' is deprecated and will raise in a future version. Use to_numeric without passing `errors` and catch exceptions explicitly instead\n",
      "  df[cols] = df[cols].apply(pd.to_numeric, errors='ignore')\n",
      "/scratch/lfloerl/.condaenvs/qiime2-amplicon-2024.10/lib/python3.10/site-packages/q2_types/sample_data/_deferred_setup/_transformers.py:28: FutureWarning: errors='ignore' is deprecated and will raise in a future version. Use to_numeric without passing `errors` and catch exceptions explicitly instead\n",
      "  df[cols] = df[cols].apply(pd.to_numeric, errors='ignore')\n",
      "/scratch/lfloerl/.condaenvs/qiime2-amplicon-2024.10/lib/python3.10/site-packages/q2_types/sample_data/_deferred_setup/_transformers.py:28: FutureWarning: errors='ignore' is deprecated and will raise in a future version. Use to_numeric without passing `errors` and catch exceptions explicitly instead\n",
      "  df[cols] = df[cols].apply(pd.to_numeric, errors='ignore')\n",
      "/scratch/lfloerl/.condaenvs/qiime2-amplicon-2024.10/lib/python3.10/site-packages/q2_types/sample_data/_deferred_setup/_transformers.py:28: FutureWarning: errors='ignore' is deprecated and will raise in a future version. Use to_numeric without passing `errors` and catch exceptions explicitly instead\n",
      "  df[cols] = df[cols].apply(pd.to_numeric, errors='ignore')\n",
      "/scratch/lfloerl/.condaenvs/qiime2-amplicon-2024.10/lib/python3.10/site-packages/q2_types/sample_data/_deferred_setup/_transformers.py:28: FutureWarning: errors='ignore' is deprecated and will raise in a future version. Use to_numeric without passing `errors` and catch exceptions explicitly instead\n",
      "  df[cols] = df[cols].apply(pd.to_numeric, errors='ignore')\n",
      "/scratch/lfloerl/.condaenvs/qiime2-amplicon-2024.10/lib/python3.10/site-packages/q2_types/sample_data/_deferred_setup/_transformers.py:28: FutureWarning: errors='ignore' is deprecated and will raise in a future version. Use to_numeric without passing `errors` and catch exceptions explicitly instead\n",
      "  df[cols] = df[cols].apply(pd.to_numeric, errors='ignore')\n",
      "/scratch/lfloerl/.condaenvs/qiime2-amplicon-2024.10/lib/python3.10/site-packages/q2_types/sample_data/_deferred_setup/_transformers.py:28: FutureWarning: errors='ignore' is deprecated and will raise in a future version. Use to_numeric without passing `errors` and catch exceptions explicitly instead\n",
      "  df[cols] = df[cols].apply(pd.to_numeric, errors='ignore')\n",
      "/scratch/lfloerl/.condaenvs/qiime2-amplicon-2024.10/lib/python3.10/site-packages/q2_types/sample_data/_deferred_setup/_transformers.py:28: FutureWarning: errors='ignore' is deprecated and will raise in a future version. Use to_numeric without passing `errors` and catch exceptions explicitly instead\n",
      "  df[cols] = df[cols].apply(pd.to_numeric, errors='ignore')\n",
      "/scratch/lfloerl/.condaenvs/qiime2-amplicon-2024.10/lib/python3.10/site-packages/q2_types/sample_data/_deferred_setup/_transformers.py:28: FutureWarning: errors='ignore' is deprecated and will raise in a future version. Use to_numeric without passing `errors` and catch exceptions explicitly instead\n",
      "  df[cols] = df[cols].apply(pd.to_numeric, errors='ignore')\n",
      "/scratch/lfloerl/.condaenvs/qiime2-amplicon-2024.10/lib/python3.10/site-packages/q2_types/sample_data/_deferred_setup/_transformers.py:28: FutureWarning: errors='ignore' is deprecated and will raise in a future version. Use to_numeric without passing `errors` and catch exceptions explicitly instead\n",
      "  df[cols] = df[cols].apply(pd.to_numeric, errors='ignore')\n",
      "/scratch/lfloerl/.condaenvs/qiime2-amplicon-2024.10/lib/python3.10/site-packages/q2_types/sample_data/_deferred_setup/_transformers.py:28: FutureWarning: errors='ignore' is deprecated and will raise in a future version. Use to_numeric without passing `errors` and catch exceptions explicitly instead\n",
      "  df[cols] = df[cols].apply(pd.to_numeric, errors='ignore')\n",
      "/scratch/lfloerl/.condaenvs/qiime2-amplicon-2024.10/lib/python3.10/site-packages/q2_types/sample_data/_deferred_setup/_transformers.py:28: FutureWarning: errors='ignore' is deprecated and will raise in a future version. Use to_numeric without passing `errors` and catch exceptions explicitly instead\n",
      "  df[cols] = df[cols].apply(pd.to_numeric, errors='ignore')\n"
     ]
    },
    {
     "name": "stderr",
     "output_type": "stream",
     "text": [
      "/scratch/lfloerl/.condaenvs/qiime2-amplicon-2024.10/lib/python3.10/site-packages/q2_types/sample_data/_deferred_setup/_transformers.py:28: FutureWarning: errors='ignore' is deprecated and will raise in a future version. Use to_numeric without passing `errors` and catch exceptions explicitly instead\n",
      "  df[cols] = df[cols].apply(pd.to_numeric, errors='ignore')\n",
      "/scratch/lfloerl/.condaenvs/qiime2-amplicon-2024.10/lib/python3.10/site-packages/q2_types/sample_data/_deferred_setup/_transformers.py:28: FutureWarning: errors='ignore' is deprecated and will raise in a future version. Use to_numeric without passing `errors` and catch exceptions explicitly instead\n",
      "  df[cols] = df[cols].apply(pd.to_numeric, errors='ignore')\n",
      "/scratch/lfloerl/.condaenvs/qiime2-amplicon-2024.10/lib/python3.10/site-packages/q2_types/sample_data/_deferred_setup/_transformers.py:28: FutureWarning: errors='ignore' is deprecated and will raise in a future version. Use to_numeric without passing `errors` and catch exceptions explicitly instead\n",
      "  df[cols] = df[cols].apply(pd.to_numeric, errors='ignore')\n",
      "/scratch/lfloerl/.condaenvs/qiime2-amplicon-2024.10/lib/python3.10/site-packages/q2_types/sample_data/_deferred_setup/_transformers.py:28: FutureWarning: errors='ignore' is deprecated and will raise in a future version. Use to_numeric without passing `errors` and catch exceptions explicitly instead\n",
      "  df[cols] = df[cols].apply(pd.to_numeric, errors='ignore')\n",
      "/scratch/lfloerl/.condaenvs/qiime2-amplicon-2024.10/lib/python3.10/site-packages/q2_types/sample_data/_deferred_setup/_transformers.py:28: FutureWarning: errors='ignore' is deprecated and will raise in a future version. Use to_numeric without passing `errors` and catch exceptions explicitly instead\n",
      "  df[cols] = df[cols].apply(pd.to_numeric, errors='ignore')\n",
      "/scratch/lfloerl/.condaenvs/qiime2-amplicon-2024.10/lib/python3.10/site-packages/q2_types/sample_data/_deferred_setup/_transformers.py:28: FutureWarning: errors='ignore' is deprecated and will raise in a future version. Use to_numeric without passing `errors` and catch exceptions explicitly instead\n",
      "  df[cols] = df[cols].apply(pd.to_numeric, errors='ignore')\n",
      "/scratch/lfloerl/.condaenvs/qiime2-amplicon-2024.10/lib/python3.10/site-packages/q2_types/sample_data/_deferred_setup/_transformers.py:28: FutureWarning: errors='ignore' is deprecated and will raise in a future version. Use to_numeric without passing `errors` and catch exceptions explicitly instead\n",
      "  df[cols] = df[cols].apply(pd.to_numeric, errors='ignore')\n",
      "/scratch/lfloerl/.condaenvs/qiime2-amplicon-2024.10/lib/python3.10/site-packages/q2_types/sample_data/_deferred_setup/_transformers.py:28: FutureWarning: errors='ignore' is deprecated and will raise in a future version. Use to_numeric without passing `errors` and catch exceptions explicitly instead\n",
      "  df[cols] = df[cols].apply(pd.to_numeric, errors='ignore')\n",
      "/scratch/lfloerl/.condaenvs/qiime2-amplicon-2024.10/lib/python3.10/site-packages/q2_types/sample_data/_deferred_setup/_transformers.py:28: FutureWarning: errors='ignore' is deprecated and will raise in a future version. Use to_numeric without passing `errors` and catch exceptions explicitly instead\n",
      "  df[cols] = df[cols].apply(pd.to_numeric, errors='ignore')\n",
      "/scratch/lfloerl/.condaenvs/qiime2-amplicon-2024.10/lib/python3.10/site-packages/q2_types/sample_data/_deferred_setup/_transformers.py:28: FutureWarning: errors='ignore' is deprecated and will raise in a future version. Use to_numeric without passing `errors` and catch exceptions explicitly instead\n",
      "  df[cols] = df[cols].apply(pd.to_numeric, errors='ignore')\n",
      "/scratch/lfloerl/.condaenvs/qiime2-amplicon-2024.10/lib/python3.10/site-packages/q2_types/sample_data/_deferred_setup/_transformers.py:28: FutureWarning: errors='ignore' is deprecated and will raise in a future version. Use to_numeric without passing `errors` and catch exceptions explicitly instead\n",
      "  df[cols] = df[cols].apply(pd.to_numeric, errors='ignore')\n",
      "/scratch/lfloerl/.condaenvs/qiime2-amplicon-2024.10/lib/python3.10/site-packages/q2_types/sample_data/_deferred_setup/_transformers.py:28: FutureWarning: errors='ignore' is deprecated and will raise in a future version. Use to_numeric without passing `errors` and catch exceptions explicitly instead\n",
      "  df[cols] = df[cols].apply(pd.to_numeric, errors='ignore')\n",
      "/scratch/lfloerl/.condaenvs/qiime2-amplicon-2024.10/lib/python3.10/site-packages/q2_types/sample_data/_deferred_setup/_transformers.py:28: FutureWarning: errors='ignore' is deprecated and will raise in a future version. Use to_numeric without passing `errors` and catch exceptions explicitly instead\n",
      "  df[cols] = df[cols].apply(pd.to_numeric, errors='ignore')\n",
      "/scratch/lfloerl/.condaenvs/qiime2-amplicon-2024.10/lib/python3.10/site-packages/q2_types/sample_data/_deferred_setup/_transformers.py:28: FutureWarning: errors='ignore' is deprecated and will raise in a future version. Use to_numeric without passing `errors` and catch exceptions explicitly instead\n",
      "  df[cols] = df[cols].apply(pd.to_numeric, errors='ignore')\n",
      "/scratch/lfloerl/.condaenvs/qiime2-amplicon-2024.10/lib/python3.10/site-packages/q2_types/sample_data/_deferred_setup/_transformers.py:28: FutureWarning: errors='ignore' is deprecated and will raise in a future version. Use to_numeric without passing `errors` and catch exceptions explicitly instead\n",
      "  df[cols] = df[cols].apply(pd.to_numeric, errors='ignore')\n",
      "/scratch/lfloerl/.condaenvs/qiime2-amplicon-2024.10/lib/python3.10/site-packages/q2_types/sample_data/_deferred_setup/_transformers.py:28: FutureWarning: errors='ignore' is deprecated and will raise in a future version. Use to_numeric without passing `errors` and catch exceptions explicitly instead\n",
      "  df[cols] = df[cols].apply(pd.to_numeric, errors='ignore')\n",
      "/scratch/lfloerl/.condaenvs/qiime2-amplicon-2024.10/lib/python3.10/site-packages/q2_types/sample_data/_deferred_setup/_transformers.py:28: FutureWarning: errors='ignore' is deprecated and will raise in a future version. Use to_numeric without passing `errors` and catch exceptions explicitly instead\n",
      "  df[cols] = df[cols].apply(pd.to_numeric, errors='ignore')\n",
      "/scratch/lfloerl/.condaenvs/qiime2-amplicon-2024.10/lib/python3.10/site-packages/q2_types/sample_data/_deferred_setup/_transformers.py:28: FutureWarning: errors='ignore' is deprecated and will raise in a future version. Use to_numeric without passing `errors` and catch exceptions explicitly instead\n",
      "  df[cols] = df[cols].apply(pd.to_numeric, errors='ignore')\n",
      "/scratch/lfloerl/.condaenvs/qiime2-amplicon-2024.10/lib/python3.10/site-packages/q2_types/sample_data/_deferred_setup/_transformers.py:28: FutureWarning: errors='ignore' is deprecated and will raise in a future version. Use to_numeric without passing `errors` and catch exceptions explicitly instead\n",
      "  df[cols] = df[cols].apply(pd.to_numeric, errors='ignore')\n",
      "/scratch/lfloerl/.condaenvs/qiime2-amplicon-2024.10/lib/python3.10/site-packages/q2_types/sample_data/_deferred_setup/_transformers.py:28: FutureWarning: errors='ignore' is deprecated and will raise in a future version. Use to_numeric without passing `errors` and catch exceptions explicitly instead\n",
      "  df[cols] = df[cols].apply(pd.to_numeric, errors='ignore')\n",
      "/scratch/lfloerl/.condaenvs/qiime2-amplicon-2024.10/lib/python3.10/site-packages/q2_types/sample_data/_deferred_setup/_transformers.py:28: FutureWarning: errors='ignore' is deprecated and will raise in a future version. Use to_numeric without passing `errors` and catch exceptions explicitly instead\n",
      "  df[cols] = df[cols].apply(pd.to_numeric, errors='ignore')\n",
      "/scratch/lfloerl/.condaenvs/qiime2-amplicon-2024.10/lib/python3.10/site-packages/q2_types/sample_data/_deferred_setup/_transformers.py:28: FutureWarning: errors='ignore' is deprecated and will raise in a future version. Use to_numeric without passing `errors` and catch exceptions explicitly instead\n",
      "  df[cols] = df[cols].apply(pd.to_numeric, errors='ignore')\n",
      "/scratch/lfloerl/.condaenvs/qiime2-amplicon-2024.10/lib/python3.10/site-packages/q2_types/sample_data/_deferred_setup/_transformers.py:28: FutureWarning: errors='ignore' is deprecated and will raise in a future version. Use to_numeric without passing `errors` and catch exceptions explicitly instead\n",
      "  df[cols] = df[cols].apply(pd.to_numeric, errors='ignore')\n",
      "/scratch/lfloerl/.condaenvs/qiime2-amplicon-2024.10/lib/python3.10/site-packages/q2_types/sample_data/_deferred_setup/_transformers.py:28: FutureWarning: errors='ignore' is deprecated and will raise in a future version. Use to_numeric without passing `errors` and catch exceptions explicitly instead\n",
      "  df[cols] = df[cols].apply(pd.to_numeric, errors='ignore')\n"
     ]
    },
    {
     "name": "stderr",
     "output_type": "stream",
     "text": [
      "/scratch/lfloerl/.condaenvs/qiime2-amplicon-2024.10/lib/python3.10/site-packages/q2_types/sample_data/_deferred_setup/_transformers.py:28: FutureWarning: errors='ignore' is deprecated and will raise in a future version. Use to_numeric without passing `errors` and catch exceptions explicitly instead\n",
      "  df[cols] = df[cols].apply(pd.to_numeric, errors='ignore')\n",
      "/scratch/lfloerl/.condaenvs/qiime2-amplicon-2024.10/lib/python3.10/site-packages/q2_types/sample_data/_deferred_setup/_transformers.py:28: FutureWarning: errors='ignore' is deprecated and will raise in a future version. Use to_numeric without passing `errors` and catch exceptions explicitly instead\n",
      "  df[cols] = df[cols].apply(pd.to_numeric, errors='ignore')\n",
      "/scratch/lfloerl/.condaenvs/qiime2-amplicon-2024.10/lib/python3.10/site-packages/q2_types/sample_data/_deferred_setup/_transformers.py:28: FutureWarning: errors='ignore' is deprecated and will raise in a future version. Use to_numeric without passing `errors` and catch exceptions explicitly instead\n",
      "  df[cols] = df[cols].apply(pd.to_numeric, errors='ignore')\n",
      "/scratch/lfloerl/.condaenvs/qiime2-amplicon-2024.10/lib/python3.10/site-packages/q2_types/sample_data/_deferred_setup/_transformers.py:28: FutureWarning: errors='ignore' is deprecated and will raise in a future version. Use to_numeric without passing `errors` and catch exceptions explicitly instead\n",
      "  df[cols] = df[cols].apply(pd.to_numeric, errors='ignore')\n",
      "/scratch/lfloerl/.condaenvs/qiime2-amplicon-2024.10/lib/python3.10/site-packages/q2_types/sample_data/_deferred_setup/_transformers.py:28: FutureWarning: errors='ignore' is deprecated and will raise in a future version. Use to_numeric without passing `errors` and catch exceptions explicitly instead\n",
      "  df[cols] = df[cols].apply(pd.to_numeric, errors='ignore')\n",
      "/scratch/lfloerl/.condaenvs/qiime2-amplicon-2024.10/lib/python3.10/site-packages/q2_types/sample_data/_deferred_setup/_transformers.py:28: FutureWarning: errors='ignore' is deprecated and will raise in a future version. Use to_numeric without passing `errors` and catch exceptions explicitly instead\n",
      "  df[cols] = df[cols].apply(pd.to_numeric, errors='ignore')\n",
      "/scratch/lfloerl/.condaenvs/qiime2-amplicon-2024.10/lib/python3.10/site-packages/q2_types/sample_data/_deferred_setup/_transformers.py:28: FutureWarning: errors='ignore' is deprecated and will raise in a future version. Use to_numeric without passing `errors` and catch exceptions explicitly instead\n",
      "  df[cols] = df[cols].apply(pd.to_numeric, errors='ignore')\n",
      "/scratch/lfloerl/.condaenvs/qiime2-amplicon-2024.10/lib/python3.10/site-packages/q2_types/sample_data/_deferred_setup/_transformers.py:28: FutureWarning: errors='ignore' is deprecated and will raise in a future version. Use to_numeric without passing `errors` and catch exceptions explicitly instead\n",
      "  df[cols] = df[cols].apply(pd.to_numeric, errors='ignore')\n",
      "/scratch/lfloerl/.condaenvs/qiime2-amplicon-2024.10/lib/python3.10/site-packages/q2_types/sample_data/_deferred_setup/_transformers.py:28: FutureWarning: errors='ignore' is deprecated and will raise in a future version. Use to_numeric without passing `errors` and catch exceptions explicitly instead\n",
      "  df[cols] = df[cols].apply(pd.to_numeric, errors='ignore')\n",
      "/scratch/lfloerl/.condaenvs/qiime2-amplicon-2024.10/lib/python3.10/site-packages/q2_types/sample_data/_deferred_setup/_transformers.py:28: FutureWarning: errors='ignore' is deprecated and will raise in a future version. Use to_numeric without passing `errors` and catch exceptions explicitly instead\n",
      "  df[cols] = df[cols].apply(pd.to_numeric, errors='ignore')\n",
      "/scratch/lfloerl/.condaenvs/qiime2-amplicon-2024.10/lib/python3.10/site-packages/q2_types/sample_data/_deferred_setup/_transformers.py:28: FutureWarning: errors='ignore' is deprecated and will raise in a future version. Use to_numeric without passing `errors` and catch exceptions explicitly instead\n",
      "  df[cols] = df[cols].apply(pd.to_numeric, errors='ignore')\n",
      "/scratch/lfloerl/.condaenvs/qiime2-amplicon-2024.10/lib/python3.10/site-packages/q2_types/sample_data/_deferred_setup/_transformers.py:28: FutureWarning: errors='ignore' is deprecated and will raise in a future version. Use to_numeric without passing `errors` and catch exceptions explicitly instead\n",
      "  df[cols] = df[cols].apply(pd.to_numeric, errors='ignore')\n",
      "/scratch/lfloerl/.condaenvs/qiime2-amplicon-2024.10/lib/python3.10/site-packages/q2_types/sample_data/_deferred_setup/_transformers.py:28: FutureWarning: errors='ignore' is deprecated and will raise in a future version. Use to_numeric without passing `errors` and catch exceptions explicitly instead\n",
      "  df[cols] = df[cols].apply(pd.to_numeric, errors='ignore')\n",
      "/scratch/lfloerl/.condaenvs/qiime2-amplicon-2024.10/lib/python3.10/site-packages/q2_types/sample_data/_deferred_setup/_transformers.py:28: FutureWarning: errors='ignore' is deprecated and will raise in a future version. Use to_numeric without passing `errors` and catch exceptions explicitly instead\n",
      "  df[cols] = df[cols].apply(pd.to_numeric, errors='ignore')\n",
      "/scratch/lfloerl/.condaenvs/qiime2-amplicon-2024.10/lib/python3.10/site-packages/q2_types/sample_data/_deferred_setup/_transformers.py:28: FutureWarning: errors='ignore' is deprecated and will raise in a future version. Use to_numeric without passing `errors` and catch exceptions explicitly instead\n",
      "  df[cols] = df[cols].apply(pd.to_numeric, errors='ignore')\n",
      "/scratch/lfloerl/.condaenvs/qiime2-amplicon-2024.10/lib/python3.10/site-packages/q2_types/sample_data/_deferred_setup/_transformers.py:28: FutureWarning: errors='ignore' is deprecated and will raise in a future version. Use to_numeric without passing `errors` and catch exceptions explicitly instead\n",
      "  df[cols] = df[cols].apply(pd.to_numeric, errors='ignore')\n",
      "/scratch/lfloerl/.condaenvs/qiime2-amplicon-2024.10/lib/python3.10/site-packages/q2_types/sample_data/_deferred_setup/_transformers.py:28: FutureWarning: errors='ignore' is deprecated and will raise in a future version. Use to_numeric without passing `errors` and catch exceptions explicitly instead\n",
      "  df[cols] = df[cols].apply(pd.to_numeric, errors='ignore')\n",
      "/scratch/lfloerl/.condaenvs/qiime2-amplicon-2024.10/lib/python3.10/site-packages/q2_types/sample_data/_deferred_setup/_transformers.py:28: FutureWarning: errors='ignore' is deprecated and will raise in a future version. Use to_numeric without passing `errors` and catch exceptions explicitly instead\n",
      "  df[cols] = df[cols].apply(pd.to_numeric, errors='ignore')\n",
      "/scratch/lfloerl/.condaenvs/qiime2-amplicon-2024.10/lib/python3.10/site-packages/q2_types/sample_data/_deferred_setup/_transformers.py:28: FutureWarning: errors='ignore' is deprecated and will raise in a future version. Use to_numeric without passing `errors` and catch exceptions explicitly instead\n",
      "  df[cols] = df[cols].apply(pd.to_numeric, errors='ignore')\n",
      "/scratch/lfloerl/.condaenvs/qiime2-amplicon-2024.10/lib/python3.10/site-packages/q2_types/sample_data/_deferred_setup/_transformers.py:28: FutureWarning: errors='ignore' is deprecated and will raise in a future version. Use to_numeric without passing `errors` and catch exceptions explicitly instead\n",
      "  df[cols] = df[cols].apply(pd.to_numeric, errors='ignore')\n",
      "/scratch/lfloerl/.condaenvs/qiime2-amplicon-2024.10/lib/python3.10/site-packages/q2_types/sample_data/_deferred_setup/_transformers.py:28: FutureWarning: errors='ignore' is deprecated and will raise in a future version. Use to_numeric without passing `errors` and catch exceptions explicitly instead\n",
      "  df[cols] = df[cols].apply(pd.to_numeric, errors='ignore')\n",
      "/scratch/lfloerl/.condaenvs/qiime2-amplicon-2024.10/lib/python3.10/site-packages/q2_types/sample_data/_deferred_setup/_transformers.py:28: FutureWarning: errors='ignore' is deprecated and will raise in a future version. Use to_numeric without passing `errors` and catch exceptions explicitly instead\n",
      "  df[cols] = df[cols].apply(pd.to_numeric, errors='ignore')\n",
      "/scratch/lfloerl/.condaenvs/qiime2-amplicon-2024.10/lib/python3.10/site-packages/q2_types/sample_data/_deferred_setup/_transformers.py:28: FutureWarning: errors='ignore' is deprecated and will raise in a future version. Use to_numeric without passing `errors` and catch exceptions explicitly instead\n",
      "  df[cols] = df[cols].apply(pd.to_numeric, errors='ignore')\n",
      "/scratch/lfloerl/.condaenvs/qiime2-amplicon-2024.10/lib/python3.10/site-packages/q2_types/sample_data/_deferred_setup/_transformers.py:28: FutureWarning: errors='ignore' is deprecated and will raise in a future version. Use to_numeric without passing `errors` and catch exceptions explicitly instead\n",
      "  df[cols] = df[cols].apply(pd.to_numeric, errors='ignore')\n"
     ]
    },
    {
     "name": "stderr",
     "output_type": "stream",
     "text": [
      "/scratch/lfloerl/.condaenvs/qiime2-amplicon-2024.10/lib/python3.10/site-packages/q2_types/sample_data/_deferred_setup/_transformers.py:28: FutureWarning: errors='ignore' is deprecated and will raise in a future version. Use to_numeric without passing `errors` and catch exceptions explicitly instead\n",
      "  df[cols] = df[cols].apply(pd.to_numeric, errors='ignore')\n",
      "/scratch/lfloerl/.condaenvs/qiime2-amplicon-2024.10/lib/python3.10/site-packages/q2_types/sample_data/_deferred_setup/_transformers.py:28: FutureWarning: errors='ignore' is deprecated and will raise in a future version. Use to_numeric without passing `errors` and catch exceptions explicitly instead\n",
      "  df[cols] = df[cols].apply(pd.to_numeric, errors='ignore')\n",
      "/scratch/lfloerl/.condaenvs/qiime2-amplicon-2024.10/lib/python3.10/site-packages/q2_types/sample_data/_deferred_setup/_transformers.py:28: FutureWarning: errors='ignore' is deprecated and will raise in a future version. Use to_numeric without passing `errors` and catch exceptions explicitly instead\n",
      "  df[cols] = df[cols].apply(pd.to_numeric, errors='ignore')\n",
      "/scratch/lfloerl/.condaenvs/qiime2-amplicon-2024.10/lib/python3.10/site-packages/q2_types/sample_data/_deferred_setup/_transformers.py:28: FutureWarning: errors='ignore' is deprecated and will raise in a future version. Use to_numeric without passing `errors` and catch exceptions explicitly instead\n",
      "  df[cols] = df[cols].apply(pd.to_numeric, errors='ignore')\n",
      "/scratch/lfloerl/.condaenvs/qiime2-amplicon-2024.10/lib/python3.10/site-packages/q2_types/sample_data/_deferred_setup/_transformers.py:28: FutureWarning: errors='ignore' is deprecated and will raise in a future version. Use to_numeric without passing `errors` and catch exceptions explicitly instead\n",
      "  df[cols] = df[cols].apply(pd.to_numeric, errors='ignore')\n",
      "/scratch/lfloerl/.condaenvs/qiime2-amplicon-2024.10/lib/python3.10/site-packages/q2_types/sample_data/_deferred_setup/_transformers.py:28: FutureWarning: errors='ignore' is deprecated and will raise in a future version. Use to_numeric without passing `errors` and catch exceptions explicitly instead\n",
      "  df[cols] = df[cols].apply(pd.to_numeric, errors='ignore')\n",
      "/scratch/lfloerl/.condaenvs/qiime2-amplicon-2024.10/lib/python3.10/site-packages/q2_types/sample_data/_deferred_setup/_transformers.py:28: FutureWarning: errors='ignore' is deprecated and will raise in a future version. Use to_numeric without passing `errors` and catch exceptions explicitly instead\n",
      "  df[cols] = df[cols].apply(pd.to_numeric, errors='ignore')\n",
      "/scratch/lfloerl/.condaenvs/qiime2-amplicon-2024.10/lib/python3.10/site-packages/q2_types/sample_data/_deferred_setup/_transformers.py:28: FutureWarning: errors='ignore' is deprecated and will raise in a future version. Use to_numeric without passing `errors` and catch exceptions explicitly instead\n",
      "  df[cols] = df[cols].apply(pd.to_numeric, errors='ignore')\n",
      "/scratch/lfloerl/.condaenvs/qiime2-amplicon-2024.10/lib/python3.10/site-packages/q2_types/sample_data/_deferred_setup/_transformers.py:28: FutureWarning: errors='ignore' is deprecated and will raise in a future version. Use to_numeric without passing `errors` and catch exceptions explicitly instead\n",
      "  df[cols] = df[cols].apply(pd.to_numeric, errors='ignore')\n",
      "/scratch/lfloerl/.condaenvs/qiime2-amplicon-2024.10/lib/python3.10/site-packages/q2_types/sample_data/_deferred_setup/_transformers.py:28: FutureWarning: errors='ignore' is deprecated and will raise in a future version. Use to_numeric without passing `errors` and catch exceptions explicitly instead\n",
      "  df[cols] = df[cols].apply(pd.to_numeric, errors='ignore')\n",
      "/scratch/lfloerl/.condaenvs/qiime2-amplicon-2024.10/lib/python3.10/site-packages/q2_types/sample_data/_deferred_setup/_transformers.py:28: FutureWarning: errors='ignore' is deprecated and will raise in a future version. Use to_numeric without passing `errors` and catch exceptions explicitly instead\n",
      "  df[cols] = df[cols].apply(pd.to_numeric, errors='ignore')\n",
      "/scratch/lfloerl/.condaenvs/qiime2-amplicon-2024.10/lib/python3.10/site-packages/q2_types/sample_data/_deferred_setup/_transformers.py:28: FutureWarning: errors='ignore' is deprecated and will raise in a future version. Use to_numeric without passing `errors` and catch exceptions explicitly instead\n",
      "  df[cols] = df[cols].apply(pd.to_numeric, errors='ignore')\n",
      "/scratch/lfloerl/.condaenvs/qiime2-amplicon-2024.10/lib/python3.10/site-packages/q2_types/sample_data/_deferred_setup/_transformers.py:28: FutureWarning: errors='ignore' is deprecated and will raise in a future version. Use to_numeric without passing `errors` and catch exceptions explicitly instead\n",
      "  df[cols] = df[cols].apply(pd.to_numeric, errors='ignore')\n",
      "/scratch/lfloerl/.condaenvs/qiime2-amplicon-2024.10/lib/python3.10/site-packages/q2_types/sample_data/_deferred_setup/_transformers.py:28: FutureWarning: errors='ignore' is deprecated and will raise in a future version. Use to_numeric without passing `errors` and catch exceptions explicitly instead\n",
      "  df[cols] = df[cols].apply(pd.to_numeric, errors='ignore')\n",
      "/scratch/lfloerl/.condaenvs/qiime2-amplicon-2024.10/lib/python3.10/site-packages/q2_types/sample_data/_deferred_setup/_transformers.py:28: FutureWarning: errors='ignore' is deprecated and will raise in a future version. Use to_numeric without passing `errors` and catch exceptions explicitly instead\n",
      "  df[cols] = df[cols].apply(pd.to_numeric, errors='ignore')\n",
      "/scratch/lfloerl/.condaenvs/qiime2-amplicon-2024.10/lib/python3.10/site-packages/q2_types/sample_data/_deferred_setup/_transformers.py:28: FutureWarning: errors='ignore' is deprecated and will raise in a future version. Use to_numeric without passing `errors` and catch exceptions explicitly instead\n",
      "  df[cols] = df[cols].apply(pd.to_numeric, errors='ignore')\n",
      "/scratch/lfloerl/.condaenvs/qiime2-amplicon-2024.10/lib/python3.10/site-packages/q2_types/sample_data/_deferred_setup/_transformers.py:28: FutureWarning: errors='ignore' is deprecated and will raise in a future version. Use to_numeric without passing `errors` and catch exceptions explicitly instead\n",
      "  df[cols] = df[cols].apply(pd.to_numeric, errors='ignore')\n",
      "/scratch/lfloerl/.condaenvs/qiime2-amplicon-2024.10/lib/python3.10/site-packages/q2_types/sample_data/_deferred_setup/_transformers.py:28: FutureWarning: errors='ignore' is deprecated and will raise in a future version. Use to_numeric without passing `errors` and catch exceptions explicitly instead\n",
      "  df[cols] = df[cols].apply(pd.to_numeric, errors='ignore')\n",
      "/scratch/lfloerl/.condaenvs/qiime2-amplicon-2024.10/lib/python3.10/site-packages/q2_types/sample_data/_deferred_setup/_transformers.py:28: FutureWarning: errors='ignore' is deprecated and will raise in a future version. Use to_numeric without passing `errors` and catch exceptions explicitly instead\n",
      "  df[cols] = df[cols].apply(pd.to_numeric, errors='ignore')\n",
      "/scratch/lfloerl/.condaenvs/qiime2-amplicon-2024.10/lib/python3.10/site-packages/q2_types/sample_data/_deferred_setup/_transformers.py:28: FutureWarning: errors='ignore' is deprecated and will raise in a future version. Use to_numeric without passing `errors` and catch exceptions explicitly instead\n",
      "  df[cols] = df[cols].apply(pd.to_numeric, errors='ignore')\n",
      "/scratch/lfloerl/.condaenvs/qiime2-amplicon-2024.10/lib/python3.10/site-packages/q2_types/sample_data/_deferred_setup/_transformers.py:28: FutureWarning: errors='ignore' is deprecated and will raise in a future version. Use to_numeric without passing `errors` and catch exceptions explicitly instead\n",
      "  df[cols] = df[cols].apply(pd.to_numeric, errors='ignore')\n",
      "/scratch/lfloerl/.condaenvs/qiime2-amplicon-2024.10/lib/python3.10/site-packages/q2_types/sample_data/_deferred_setup/_transformers.py:28: FutureWarning: errors='ignore' is deprecated and will raise in a future version. Use to_numeric without passing `errors` and catch exceptions explicitly instead\n",
      "  df[cols] = df[cols].apply(pd.to_numeric, errors='ignore')\n",
      "/scratch/lfloerl/.condaenvs/qiime2-amplicon-2024.10/lib/python3.10/site-packages/q2_types/sample_data/_deferred_setup/_transformers.py:28: FutureWarning: errors='ignore' is deprecated and will raise in a future version. Use to_numeric without passing `errors` and catch exceptions explicitly instead\n",
      "  df[cols] = df[cols].apply(pd.to_numeric, errors='ignore')\n",
      "/scratch/lfloerl/.condaenvs/qiime2-amplicon-2024.10/lib/python3.10/site-packages/q2_types/sample_data/_deferred_setup/_transformers.py:28: FutureWarning: errors='ignore' is deprecated and will raise in a future version. Use to_numeric without passing `errors` and catch exceptions explicitly instead\n",
      "  df[cols] = df[cols].apply(pd.to_numeric, errors='ignore')\n"
     ]
    },
    {
     "name": "stderr",
     "output_type": "stream",
     "text": [
      "/scratch/lfloerl/.condaenvs/qiime2-amplicon-2024.10/lib/python3.10/site-packages/q2_types/sample_data/_deferred_setup/_transformers.py:28: FutureWarning: errors='ignore' is deprecated and will raise in a future version. Use to_numeric without passing `errors` and catch exceptions explicitly instead\n",
      "  df[cols] = df[cols].apply(pd.to_numeric, errors='ignore')\n",
      "/scratch/lfloerl/.condaenvs/qiime2-amplicon-2024.10/lib/python3.10/site-packages/q2_types/sample_data/_deferred_setup/_transformers.py:28: FutureWarning: errors='ignore' is deprecated and will raise in a future version. Use to_numeric without passing `errors` and catch exceptions explicitly instead\n",
      "  df[cols] = df[cols].apply(pd.to_numeric, errors='ignore')\n",
      "/scratch/lfloerl/.condaenvs/qiime2-amplicon-2024.10/lib/python3.10/site-packages/q2_types/sample_data/_deferred_setup/_transformers.py:28: FutureWarning: errors='ignore' is deprecated and will raise in a future version. Use to_numeric without passing `errors` and catch exceptions explicitly instead\n",
      "  df[cols] = df[cols].apply(pd.to_numeric, errors='ignore')\n",
      "/scratch/lfloerl/.condaenvs/qiime2-amplicon-2024.10/lib/python3.10/site-packages/q2_types/sample_data/_deferred_setup/_transformers.py:28: FutureWarning: errors='ignore' is deprecated and will raise in a future version. Use to_numeric without passing `errors` and catch exceptions explicitly instead\n",
      "  df[cols] = df[cols].apply(pd.to_numeric, errors='ignore')\n",
      "/scratch/lfloerl/.condaenvs/qiime2-amplicon-2024.10/lib/python3.10/site-packages/q2_types/sample_data/_deferred_setup/_transformers.py:28: FutureWarning: errors='ignore' is deprecated and will raise in a future version. Use to_numeric without passing `errors` and catch exceptions explicitly instead\n",
      "  df[cols] = df[cols].apply(pd.to_numeric, errors='ignore')\n",
      "/scratch/lfloerl/.condaenvs/qiime2-amplicon-2024.10/lib/python3.10/site-packages/q2_types/sample_data/_deferred_setup/_transformers.py:28: FutureWarning: errors='ignore' is deprecated and will raise in a future version. Use to_numeric without passing `errors` and catch exceptions explicitly instead\n",
      "  df[cols] = df[cols].apply(pd.to_numeric, errors='ignore')\n",
      "/scratch/lfloerl/.condaenvs/qiime2-amplicon-2024.10/lib/python3.10/site-packages/q2_types/sample_data/_deferred_setup/_transformers.py:28: FutureWarning: errors='ignore' is deprecated and will raise in a future version. Use to_numeric without passing `errors` and catch exceptions explicitly instead\n",
      "  df[cols] = df[cols].apply(pd.to_numeric, errors='ignore')\n",
      "/scratch/lfloerl/.condaenvs/qiime2-amplicon-2024.10/lib/python3.10/site-packages/q2_types/sample_data/_deferred_setup/_transformers.py:28: FutureWarning: errors='ignore' is deprecated and will raise in a future version. Use to_numeric without passing `errors` and catch exceptions explicitly instead\n",
      "  df[cols] = df[cols].apply(pd.to_numeric, errors='ignore')\n",
      "/scratch/lfloerl/.condaenvs/qiime2-amplicon-2024.10/lib/python3.10/site-packages/q2_types/sample_data/_deferred_setup/_transformers.py:28: FutureWarning: errors='ignore' is deprecated and will raise in a future version. Use to_numeric without passing `errors` and catch exceptions explicitly instead\n",
      "  df[cols] = df[cols].apply(pd.to_numeric, errors='ignore')\n",
      "/scratch/lfloerl/.condaenvs/qiime2-amplicon-2024.10/lib/python3.10/site-packages/q2_types/sample_data/_deferred_setup/_transformers.py:28: FutureWarning: errors='ignore' is deprecated and will raise in a future version. Use to_numeric without passing `errors` and catch exceptions explicitly instead\n",
      "  df[cols] = df[cols].apply(pd.to_numeric, errors='ignore')\n",
      "/scratch/lfloerl/.condaenvs/qiime2-amplicon-2024.10/lib/python3.10/site-packages/q2_types/sample_data/_deferred_setup/_transformers.py:28: FutureWarning: errors='ignore' is deprecated and will raise in a future version. Use to_numeric without passing `errors` and catch exceptions explicitly instead\n",
      "  df[cols] = df[cols].apply(pd.to_numeric, errors='ignore')\n",
      "/scratch/lfloerl/.condaenvs/qiime2-amplicon-2024.10/lib/python3.10/site-packages/q2_types/sample_data/_deferred_setup/_transformers.py:28: FutureWarning: errors='ignore' is deprecated and will raise in a future version. Use to_numeric without passing `errors` and catch exceptions explicitly instead\n",
      "  df[cols] = df[cols].apply(pd.to_numeric, errors='ignore')\n",
      "/scratch/lfloerl/.condaenvs/qiime2-amplicon-2024.10/lib/python3.10/site-packages/q2_types/sample_data/_deferred_setup/_transformers.py:28: FutureWarning: errors='ignore' is deprecated and will raise in a future version. Use to_numeric without passing `errors` and catch exceptions explicitly instead\n",
      "  df[cols] = df[cols].apply(pd.to_numeric, errors='ignore')\n",
      "/scratch/lfloerl/.condaenvs/qiime2-amplicon-2024.10/lib/python3.10/site-packages/q2_types/sample_data/_deferred_setup/_transformers.py:28: FutureWarning: errors='ignore' is deprecated and will raise in a future version. Use to_numeric without passing `errors` and catch exceptions explicitly instead\n",
      "  df[cols] = df[cols].apply(pd.to_numeric, errors='ignore')\n",
      "/scratch/lfloerl/.condaenvs/qiime2-amplicon-2024.10/lib/python3.10/site-packages/q2_types/sample_data/_deferred_setup/_transformers.py:28: FutureWarning: errors='ignore' is deprecated and will raise in a future version. Use to_numeric without passing `errors` and catch exceptions explicitly instead\n",
      "  df[cols] = df[cols].apply(pd.to_numeric, errors='ignore')\n",
      "/scratch/lfloerl/.condaenvs/qiime2-amplicon-2024.10/lib/python3.10/site-packages/q2_types/sample_data/_deferred_setup/_transformers.py:28: FutureWarning: errors='ignore' is deprecated and will raise in a future version. Use to_numeric without passing `errors` and catch exceptions explicitly instead\n",
      "  df[cols] = df[cols].apply(pd.to_numeric, errors='ignore')\n",
      "/scratch/lfloerl/.condaenvs/qiime2-amplicon-2024.10/lib/python3.10/site-packages/q2_types/sample_data/_deferred_setup/_transformers.py:28: FutureWarning: errors='ignore' is deprecated and will raise in a future version. Use to_numeric without passing `errors` and catch exceptions explicitly instead\n",
      "  df[cols] = df[cols].apply(pd.to_numeric, errors='ignore')\n",
      "/scratch/lfloerl/.condaenvs/qiime2-amplicon-2024.10/lib/python3.10/site-packages/q2_types/sample_data/_deferred_setup/_transformers.py:28: FutureWarning: errors='ignore' is deprecated and will raise in a future version. Use to_numeric without passing `errors` and catch exceptions explicitly instead\n",
      "  df[cols] = df[cols].apply(pd.to_numeric, errors='ignore')\n",
      "/scratch/lfloerl/.condaenvs/qiime2-amplicon-2024.10/lib/python3.10/site-packages/q2_types/sample_data/_deferred_setup/_transformers.py:28: FutureWarning: errors='ignore' is deprecated and will raise in a future version. Use to_numeric without passing `errors` and catch exceptions explicitly instead\n",
      "  df[cols] = df[cols].apply(pd.to_numeric, errors='ignore')\n",
      "/scratch/lfloerl/.condaenvs/qiime2-amplicon-2024.10/lib/python3.10/site-packages/q2_types/sample_data/_deferred_setup/_transformers.py:28: FutureWarning: errors='ignore' is deprecated and will raise in a future version. Use to_numeric without passing `errors` and catch exceptions explicitly instead\n",
      "  df[cols] = df[cols].apply(pd.to_numeric, errors='ignore')\n",
      "/scratch/lfloerl/.condaenvs/qiime2-amplicon-2024.10/lib/python3.10/site-packages/q2_types/sample_data/_deferred_setup/_transformers.py:28: FutureWarning: errors='ignore' is deprecated and will raise in a future version. Use to_numeric without passing `errors` and catch exceptions explicitly instead\n",
      "  df[cols] = df[cols].apply(pd.to_numeric, errors='ignore')\n",
      "/scratch/lfloerl/.condaenvs/qiime2-amplicon-2024.10/lib/python3.10/site-packages/q2_types/sample_data/_deferred_setup/_transformers.py:28: FutureWarning: errors='ignore' is deprecated and will raise in a future version. Use to_numeric without passing `errors` and catch exceptions explicitly instead\n",
      "  df[cols] = df[cols].apply(pd.to_numeric, errors='ignore')\n",
      "/scratch/lfloerl/.condaenvs/qiime2-amplicon-2024.10/lib/python3.10/site-packages/q2_types/sample_data/_deferred_setup/_transformers.py:28: FutureWarning: errors='ignore' is deprecated and will raise in a future version. Use to_numeric without passing `errors` and catch exceptions explicitly instead\n",
      "  df[cols] = df[cols].apply(pd.to_numeric, errors='ignore')\n",
      "/scratch/lfloerl/.condaenvs/qiime2-amplicon-2024.10/lib/python3.10/site-packages/q2_types/sample_data/_deferred_setup/_transformers.py:28: FutureWarning: errors='ignore' is deprecated and will raise in a future version. Use to_numeric without passing `errors` and catch exceptions explicitly instead\n",
      "  df[cols] = df[cols].apply(pd.to_numeric, errors='ignore')\n"
     ]
    },
    {
     "name": "stderr",
     "output_type": "stream",
     "text": [
      "/scratch/lfloerl/.condaenvs/qiime2-amplicon-2024.10/lib/python3.10/site-packages/q2_types/sample_data/_deferred_setup/_transformers.py:28: FutureWarning: errors='ignore' is deprecated and will raise in a future version. Use to_numeric without passing `errors` and catch exceptions explicitly instead\n",
      "  df[cols] = df[cols].apply(pd.to_numeric, errors='ignore')\n",
      "/scratch/lfloerl/.condaenvs/qiime2-amplicon-2024.10/lib/python3.10/site-packages/q2_types/sample_data/_deferred_setup/_transformers.py:28: FutureWarning: errors='ignore' is deprecated and will raise in a future version. Use to_numeric without passing `errors` and catch exceptions explicitly instead\n",
      "  df[cols] = df[cols].apply(pd.to_numeric, errors='ignore')\n",
      "/scratch/lfloerl/.condaenvs/qiime2-amplicon-2024.10/lib/python3.10/site-packages/q2_types/sample_data/_deferred_setup/_transformers.py:28: FutureWarning: errors='ignore' is deprecated and will raise in a future version. Use to_numeric without passing `errors` and catch exceptions explicitly instead\n",
      "  df[cols] = df[cols].apply(pd.to_numeric, errors='ignore')\n",
      "/scratch/lfloerl/.condaenvs/qiime2-amplicon-2024.10/lib/python3.10/site-packages/q2_types/sample_data/_deferred_setup/_transformers.py:28: FutureWarning: errors='ignore' is deprecated and will raise in a future version. Use to_numeric without passing `errors` and catch exceptions explicitly instead\n",
      "  df[cols] = df[cols].apply(pd.to_numeric, errors='ignore')\n",
      "/scratch/lfloerl/.condaenvs/qiime2-amplicon-2024.10/lib/python3.10/site-packages/q2_types/sample_data/_deferred_setup/_transformers.py:28: FutureWarning: errors='ignore' is deprecated and will raise in a future version. Use to_numeric without passing `errors` and catch exceptions explicitly instead\n",
      "  df[cols] = df[cols].apply(pd.to_numeric, errors='ignore')\n",
      "/scratch/lfloerl/.condaenvs/qiime2-amplicon-2024.10/lib/python3.10/site-packages/q2_types/sample_data/_deferred_setup/_transformers.py:28: FutureWarning: errors='ignore' is deprecated and will raise in a future version. Use to_numeric without passing `errors` and catch exceptions explicitly instead\n",
      "  df[cols] = df[cols].apply(pd.to_numeric, errors='ignore')\n",
      "/scratch/lfloerl/.condaenvs/qiime2-amplicon-2024.10/lib/python3.10/site-packages/q2_types/sample_data/_deferred_setup/_transformers.py:28: FutureWarning: errors='ignore' is deprecated and will raise in a future version. Use to_numeric without passing `errors` and catch exceptions explicitly instead\n",
      "  df[cols] = df[cols].apply(pd.to_numeric, errors='ignore')\n",
      "/scratch/lfloerl/.condaenvs/qiime2-amplicon-2024.10/lib/python3.10/site-packages/q2_types/sample_data/_deferred_setup/_transformers.py:28: FutureWarning: errors='ignore' is deprecated and will raise in a future version. Use to_numeric without passing `errors` and catch exceptions explicitly instead\n",
      "  df[cols] = df[cols].apply(pd.to_numeric, errors='ignore')\n",
      "/scratch/lfloerl/.condaenvs/qiime2-amplicon-2024.10/lib/python3.10/site-packages/q2_types/sample_data/_deferred_setup/_transformers.py:28: FutureWarning: errors='ignore' is deprecated and will raise in a future version. Use to_numeric without passing `errors` and catch exceptions explicitly instead\n",
      "  df[cols] = df[cols].apply(pd.to_numeric, errors='ignore')\n",
      "/scratch/lfloerl/.condaenvs/qiime2-amplicon-2024.10/lib/python3.10/site-packages/q2_types/sample_data/_deferred_setup/_transformers.py:28: FutureWarning: errors='ignore' is deprecated and will raise in a future version. Use to_numeric without passing `errors` and catch exceptions explicitly instead\n",
      "  df[cols] = df[cols].apply(pd.to_numeric, errors='ignore')\n",
      "/scratch/lfloerl/.condaenvs/qiime2-amplicon-2024.10/lib/python3.10/site-packages/q2_types/sample_data/_deferred_setup/_transformers.py:28: FutureWarning: errors='ignore' is deprecated and will raise in a future version. Use to_numeric without passing `errors` and catch exceptions explicitly instead\n",
      "  df[cols] = df[cols].apply(pd.to_numeric, errors='ignore')\n",
      "/scratch/lfloerl/.condaenvs/qiime2-amplicon-2024.10/lib/python3.10/site-packages/q2_types/sample_data/_deferred_setup/_transformers.py:28: FutureWarning: errors='ignore' is deprecated and will raise in a future version. Use to_numeric without passing `errors` and catch exceptions explicitly instead\n",
      "  df[cols] = df[cols].apply(pd.to_numeric, errors='ignore')\n",
      "/scratch/lfloerl/.condaenvs/qiime2-amplicon-2024.10/lib/python3.10/site-packages/q2_types/sample_data/_deferred_setup/_transformers.py:28: FutureWarning: errors='ignore' is deprecated and will raise in a future version. Use to_numeric without passing `errors` and catch exceptions explicitly instead\n",
      "  df[cols] = df[cols].apply(pd.to_numeric, errors='ignore')\n",
      "/scratch/lfloerl/.condaenvs/qiime2-amplicon-2024.10/lib/python3.10/site-packages/q2_types/sample_data/_deferred_setup/_transformers.py:28: FutureWarning: errors='ignore' is deprecated and will raise in a future version. Use to_numeric without passing `errors` and catch exceptions explicitly instead\n",
      "  df[cols] = df[cols].apply(pd.to_numeric, errors='ignore')\n",
      "/scratch/lfloerl/.condaenvs/qiime2-amplicon-2024.10/lib/python3.10/site-packages/q2_types/sample_data/_deferred_setup/_transformers.py:28: FutureWarning: errors='ignore' is deprecated and will raise in a future version. Use to_numeric without passing `errors` and catch exceptions explicitly instead\n",
      "  df[cols] = df[cols].apply(pd.to_numeric, errors='ignore')\n",
      "/scratch/lfloerl/.condaenvs/qiime2-amplicon-2024.10/lib/python3.10/site-packages/q2_types/sample_data/_deferred_setup/_transformers.py:28: FutureWarning: errors='ignore' is deprecated and will raise in a future version. Use to_numeric without passing `errors` and catch exceptions explicitly instead\n",
      "  df[cols] = df[cols].apply(pd.to_numeric, errors='ignore')\n",
      "/scratch/lfloerl/.condaenvs/qiime2-amplicon-2024.10/lib/python3.10/site-packages/q2_types/sample_data/_deferred_setup/_transformers.py:28: FutureWarning: errors='ignore' is deprecated and will raise in a future version. Use to_numeric without passing `errors` and catch exceptions explicitly instead\n",
      "  df[cols] = df[cols].apply(pd.to_numeric, errors='ignore')\n",
      "/scratch/lfloerl/.condaenvs/qiime2-amplicon-2024.10/lib/python3.10/site-packages/q2_types/sample_data/_deferred_setup/_transformers.py:28: FutureWarning: errors='ignore' is deprecated and will raise in a future version. Use to_numeric without passing `errors` and catch exceptions explicitly instead\n",
      "  df[cols] = df[cols].apply(pd.to_numeric, errors='ignore')\n",
      "/scratch/lfloerl/.condaenvs/qiime2-amplicon-2024.10/lib/python3.10/site-packages/q2_types/sample_data/_deferred_setup/_transformers.py:28: FutureWarning: errors='ignore' is deprecated and will raise in a future version. Use to_numeric without passing `errors` and catch exceptions explicitly instead\n",
      "  df[cols] = df[cols].apply(pd.to_numeric, errors='ignore')\n",
      "/scratch/lfloerl/.condaenvs/qiime2-amplicon-2024.10/lib/python3.10/site-packages/q2_types/sample_data/_deferred_setup/_transformers.py:28: FutureWarning: errors='ignore' is deprecated and will raise in a future version. Use to_numeric without passing `errors` and catch exceptions explicitly instead\n",
      "  df[cols] = df[cols].apply(pd.to_numeric, errors='ignore')\n",
      "/scratch/lfloerl/.condaenvs/qiime2-amplicon-2024.10/lib/python3.10/site-packages/q2_types/sample_data/_deferred_setup/_transformers.py:28: FutureWarning: errors='ignore' is deprecated and will raise in a future version. Use to_numeric without passing `errors` and catch exceptions explicitly instead\n",
      "  df[cols] = df[cols].apply(pd.to_numeric, errors='ignore')\n",
      "/scratch/lfloerl/.condaenvs/qiime2-amplicon-2024.10/lib/python3.10/site-packages/q2_types/sample_data/_deferred_setup/_transformers.py:28: FutureWarning: errors='ignore' is deprecated and will raise in a future version. Use to_numeric without passing `errors` and catch exceptions explicitly instead\n",
      "  df[cols] = df[cols].apply(pd.to_numeric, errors='ignore')\n",
      "/scratch/lfloerl/.condaenvs/qiime2-amplicon-2024.10/lib/python3.10/site-packages/q2_types/sample_data/_deferred_setup/_transformers.py:28: FutureWarning: errors='ignore' is deprecated and will raise in a future version. Use to_numeric without passing `errors` and catch exceptions explicitly instead\n",
      "  df[cols] = df[cols].apply(pd.to_numeric, errors='ignore')\n",
      "/scratch/lfloerl/.condaenvs/qiime2-amplicon-2024.10/lib/python3.10/site-packages/q2_types/sample_data/_deferred_setup/_transformers.py:28: FutureWarning: errors='ignore' is deprecated and will raise in a future version. Use to_numeric without passing `errors` and catch exceptions explicitly instead\n",
      "  df[cols] = df[cols].apply(pd.to_numeric, errors='ignore')\n"
     ]
    },
    {
     "name": "stderr",
     "output_type": "stream",
     "text": [
      "/scratch/lfloerl/.condaenvs/qiime2-amplicon-2024.10/lib/python3.10/site-packages/q2_types/sample_data/_deferred_setup/_transformers.py:28: FutureWarning: errors='ignore' is deprecated and will raise in a future version. Use to_numeric without passing `errors` and catch exceptions explicitly instead\n",
      "  df[cols] = df[cols].apply(pd.to_numeric, errors='ignore')\n",
      "/scratch/lfloerl/.condaenvs/qiime2-amplicon-2024.10/lib/python3.10/site-packages/q2_types/sample_data/_deferred_setup/_transformers.py:28: FutureWarning: errors='ignore' is deprecated and will raise in a future version. Use to_numeric without passing `errors` and catch exceptions explicitly instead\n",
      "  df[cols] = df[cols].apply(pd.to_numeric, errors='ignore')\n",
      "/scratch/lfloerl/.condaenvs/qiime2-amplicon-2024.10/lib/python3.10/site-packages/q2_types/sample_data/_deferred_setup/_transformers.py:28: FutureWarning: errors='ignore' is deprecated and will raise in a future version. Use to_numeric without passing `errors` and catch exceptions explicitly instead\n",
      "  df[cols] = df[cols].apply(pd.to_numeric, errors='ignore')\n",
      "/scratch/lfloerl/.condaenvs/qiime2-amplicon-2024.10/lib/python3.10/site-packages/q2_types/sample_data/_deferred_setup/_transformers.py:28: FutureWarning: errors='ignore' is deprecated and will raise in a future version. Use to_numeric without passing `errors` and catch exceptions explicitly instead\n",
      "  df[cols] = df[cols].apply(pd.to_numeric, errors='ignore')\n",
      "/scratch/lfloerl/.condaenvs/qiime2-amplicon-2024.10/lib/python3.10/site-packages/q2_types/sample_data/_deferred_setup/_transformers.py:28: FutureWarning: errors='ignore' is deprecated and will raise in a future version. Use to_numeric without passing `errors` and catch exceptions explicitly instead\n",
      "  df[cols] = df[cols].apply(pd.to_numeric, errors='ignore')\n",
      "/scratch/lfloerl/.condaenvs/qiime2-amplicon-2024.10/lib/python3.10/site-packages/q2_types/sample_data/_deferred_setup/_transformers.py:28: FutureWarning: errors='ignore' is deprecated and will raise in a future version. Use to_numeric without passing `errors` and catch exceptions explicitly instead\n",
      "  df[cols] = df[cols].apply(pd.to_numeric, errors='ignore')\n",
      "/scratch/lfloerl/.condaenvs/qiime2-amplicon-2024.10/lib/python3.10/site-packages/q2_types/sample_data/_deferred_setup/_transformers.py:28: FutureWarning: errors='ignore' is deprecated and will raise in a future version. Use to_numeric without passing `errors` and catch exceptions explicitly instead\n",
      "  df[cols] = df[cols].apply(pd.to_numeric, errors='ignore')\n",
      "/scratch/lfloerl/.condaenvs/qiime2-amplicon-2024.10/lib/python3.10/site-packages/q2_types/sample_data/_deferred_setup/_transformers.py:28: FutureWarning: errors='ignore' is deprecated and will raise in a future version. Use to_numeric without passing `errors` and catch exceptions explicitly instead\n",
      "  df[cols] = df[cols].apply(pd.to_numeric, errors='ignore')\n",
      "/scratch/lfloerl/.condaenvs/qiime2-amplicon-2024.10/lib/python3.10/site-packages/q2_types/sample_data/_deferred_setup/_transformers.py:28: FutureWarning: errors='ignore' is deprecated and will raise in a future version. Use to_numeric without passing `errors` and catch exceptions explicitly instead\n",
      "  df[cols] = df[cols].apply(pd.to_numeric, errors='ignore')\n",
      "/scratch/lfloerl/.condaenvs/qiime2-amplicon-2024.10/lib/python3.10/site-packages/q2_types/sample_data/_deferred_setup/_transformers.py:28: FutureWarning: errors='ignore' is deprecated and will raise in a future version. Use to_numeric without passing `errors` and catch exceptions explicitly instead\n",
      "  df[cols] = df[cols].apply(pd.to_numeric, errors='ignore')\n",
      "/scratch/lfloerl/.condaenvs/qiime2-amplicon-2024.10/lib/python3.10/site-packages/q2_types/sample_data/_deferred_setup/_transformers.py:28: FutureWarning: errors='ignore' is deprecated and will raise in a future version. Use to_numeric without passing `errors` and catch exceptions explicitly instead\n",
      "  df[cols] = df[cols].apply(pd.to_numeric, errors='ignore')\n",
      "/scratch/lfloerl/.condaenvs/qiime2-amplicon-2024.10/lib/python3.10/site-packages/q2_types/sample_data/_deferred_setup/_transformers.py:28: FutureWarning: errors='ignore' is deprecated and will raise in a future version. Use to_numeric without passing `errors` and catch exceptions explicitly instead\n",
      "  df[cols] = df[cols].apply(pd.to_numeric, errors='ignore')\n",
      "/scratch/lfloerl/.condaenvs/qiime2-amplicon-2024.10/lib/python3.10/site-packages/q2_types/sample_data/_deferred_setup/_transformers.py:28: FutureWarning: errors='ignore' is deprecated and will raise in a future version. Use to_numeric without passing `errors` and catch exceptions explicitly instead\n",
      "  df[cols] = df[cols].apply(pd.to_numeric, errors='ignore')\n",
      "/scratch/lfloerl/.condaenvs/qiime2-amplicon-2024.10/lib/python3.10/site-packages/q2_types/sample_data/_deferred_setup/_transformers.py:28: FutureWarning: errors='ignore' is deprecated and will raise in a future version. Use to_numeric without passing `errors` and catch exceptions explicitly instead\n",
      "  df[cols] = df[cols].apply(pd.to_numeric, errors='ignore')\n",
      "/scratch/lfloerl/.condaenvs/qiime2-amplicon-2024.10/lib/python3.10/site-packages/q2_types/sample_data/_deferred_setup/_transformers.py:28: FutureWarning: errors='ignore' is deprecated and will raise in a future version. Use to_numeric without passing `errors` and catch exceptions explicitly instead\n",
      "  df[cols] = df[cols].apply(pd.to_numeric, errors='ignore')\n",
      "/scratch/lfloerl/.condaenvs/qiime2-amplicon-2024.10/lib/python3.10/site-packages/q2_types/sample_data/_deferred_setup/_transformers.py:28: FutureWarning: errors='ignore' is deprecated and will raise in a future version. Use to_numeric without passing `errors` and catch exceptions explicitly instead\n",
      "  df[cols] = df[cols].apply(pd.to_numeric, errors='ignore')\n",
      "/scratch/lfloerl/.condaenvs/qiime2-amplicon-2024.10/lib/python3.10/site-packages/q2_types/sample_data/_deferred_setup/_transformers.py:28: FutureWarning: errors='ignore' is deprecated and will raise in a future version. Use to_numeric without passing `errors` and catch exceptions explicitly instead\n",
      "  df[cols] = df[cols].apply(pd.to_numeric, errors='ignore')\n",
      "/scratch/lfloerl/.condaenvs/qiime2-amplicon-2024.10/lib/python3.10/site-packages/q2_types/sample_data/_deferred_setup/_transformers.py:28: FutureWarning: errors='ignore' is deprecated and will raise in a future version. Use to_numeric without passing `errors` and catch exceptions explicitly instead\n",
      "  df[cols] = df[cols].apply(pd.to_numeric, errors='ignore')\n",
      "/scratch/lfloerl/.condaenvs/qiime2-amplicon-2024.10/lib/python3.10/site-packages/q2_types/sample_data/_deferred_setup/_transformers.py:28: FutureWarning: errors='ignore' is deprecated and will raise in a future version. Use to_numeric without passing `errors` and catch exceptions explicitly instead\n",
      "  df[cols] = df[cols].apply(pd.to_numeric, errors='ignore')\n",
      "/scratch/lfloerl/.condaenvs/qiime2-amplicon-2024.10/lib/python3.10/site-packages/q2_types/sample_data/_deferred_setup/_transformers.py:28: FutureWarning: errors='ignore' is deprecated and will raise in a future version. Use to_numeric without passing `errors` and catch exceptions explicitly instead\n",
      "  df[cols] = df[cols].apply(pd.to_numeric, errors='ignore')\n",
      "/scratch/lfloerl/.condaenvs/qiime2-amplicon-2024.10/lib/python3.10/site-packages/q2_types/sample_data/_deferred_setup/_transformers.py:28: FutureWarning: errors='ignore' is deprecated and will raise in a future version. Use to_numeric without passing `errors` and catch exceptions explicitly instead\n",
      "  df[cols] = df[cols].apply(pd.to_numeric, errors='ignore')\n",
      "/scratch/lfloerl/.condaenvs/qiime2-amplicon-2024.10/lib/python3.10/site-packages/q2_types/sample_data/_deferred_setup/_transformers.py:28: FutureWarning: errors='ignore' is deprecated and will raise in a future version. Use to_numeric without passing `errors` and catch exceptions explicitly instead\n",
      "  df[cols] = df[cols].apply(pd.to_numeric, errors='ignore')\n",
      "/scratch/lfloerl/.condaenvs/qiime2-amplicon-2024.10/lib/python3.10/site-packages/q2_types/sample_data/_deferred_setup/_transformers.py:28: FutureWarning: errors='ignore' is deprecated and will raise in a future version. Use to_numeric without passing `errors` and catch exceptions explicitly instead\n",
      "  df[cols] = df[cols].apply(pd.to_numeric, errors='ignore')\n",
      "/scratch/lfloerl/.condaenvs/qiime2-amplicon-2024.10/lib/python3.10/site-packages/q2_types/sample_data/_deferred_setup/_transformers.py:28: FutureWarning: errors='ignore' is deprecated and will raise in a future version. Use to_numeric without passing `errors` and catch exceptions explicitly instead\n",
      "  df[cols] = df[cols].apply(pd.to_numeric, errors='ignore')\n"
     ]
    },
    {
     "name": "stderr",
     "output_type": "stream",
     "text": [
      "/scratch/lfloerl/.condaenvs/qiime2-amplicon-2024.10/lib/python3.10/site-packages/q2_types/sample_data/_deferred_setup/_transformers.py:28: FutureWarning: errors='ignore' is deprecated and will raise in a future version. Use to_numeric without passing `errors` and catch exceptions explicitly instead\n",
      "  df[cols] = df[cols].apply(pd.to_numeric, errors='ignore')\n",
      "/scratch/lfloerl/.condaenvs/qiime2-amplicon-2024.10/lib/python3.10/site-packages/q2_types/sample_data/_deferred_setup/_transformers.py:28: FutureWarning: errors='ignore' is deprecated and will raise in a future version. Use to_numeric without passing `errors` and catch exceptions explicitly instead\n",
      "  df[cols] = df[cols].apply(pd.to_numeric, errors='ignore')\n",
      "/scratch/lfloerl/.condaenvs/qiime2-amplicon-2024.10/lib/python3.10/site-packages/q2_types/sample_data/_deferred_setup/_transformers.py:28: FutureWarning: errors='ignore' is deprecated and will raise in a future version. Use to_numeric without passing `errors` and catch exceptions explicitly instead\n",
      "  df[cols] = df[cols].apply(pd.to_numeric, errors='ignore')\n",
      "/scratch/lfloerl/.condaenvs/qiime2-amplicon-2024.10/lib/python3.10/site-packages/q2_types/sample_data/_deferred_setup/_transformers.py:28: FutureWarning: errors='ignore' is deprecated and will raise in a future version. Use to_numeric without passing `errors` and catch exceptions explicitly instead\n",
      "  df[cols] = df[cols].apply(pd.to_numeric, errors='ignore')\n",
      "/scratch/lfloerl/.condaenvs/qiime2-amplicon-2024.10/lib/python3.10/site-packages/q2_types/sample_data/_deferred_setup/_transformers.py:28: FutureWarning: errors='ignore' is deprecated and will raise in a future version. Use to_numeric without passing `errors` and catch exceptions explicitly instead\n",
      "  df[cols] = df[cols].apply(pd.to_numeric, errors='ignore')\n",
      "/scratch/lfloerl/.condaenvs/qiime2-amplicon-2024.10/lib/python3.10/site-packages/q2_types/sample_data/_deferred_setup/_transformers.py:28: FutureWarning: errors='ignore' is deprecated and will raise in a future version. Use to_numeric without passing `errors` and catch exceptions explicitly instead\n",
      "  df[cols] = df[cols].apply(pd.to_numeric, errors='ignore')\n",
      "/scratch/lfloerl/.condaenvs/qiime2-amplicon-2024.10/lib/python3.10/site-packages/q2_types/sample_data/_deferred_setup/_transformers.py:28: FutureWarning: errors='ignore' is deprecated and will raise in a future version. Use to_numeric without passing `errors` and catch exceptions explicitly instead\n",
      "  df[cols] = df[cols].apply(pd.to_numeric, errors='ignore')\n",
      "/scratch/lfloerl/.condaenvs/qiime2-amplicon-2024.10/lib/python3.10/site-packages/q2_types/sample_data/_deferred_setup/_transformers.py:28: FutureWarning: errors='ignore' is deprecated and will raise in a future version. Use to_numeric without passing `errors` and catch exceptions explicitly instead\n",
      "  df[cols] = df[cols].apply(pd.to_numeric, errors='ignore')\n",
      "/scratch/lfloerl/.condaenvs/qiime2-amplicon-2024.10/lib/python3.10/site-packages/q2_types/sample_data/_deferred_setup/_transformers.py:28: FutureWarning: errors='ignore' is deprecated and will raise in a future version. Use to_numeric without passing `errors` and catch exceptions explicitly instead\n",
      "  df[cols] = df[cols].apply(pd.to_numeric, errors='ignore')\n",
      "/scratch/lfloerl/.condaenvs/qiime2-amplicon-2024.10/lib/python3.10/site-packages/q2_types/sample_data/_deferred_setup/_transformers.py:28: FutureWarning: errors='ignore' is deprecated and will raise in a future version. Use to_numeric without passing `errors` and catch exceptions explicitly instead\n",
      "  df[cols] = df[cols].apply(pd.to_numeric, errors='ignore')\n",
      "/scratch/lfloerl/.condaenvs/qiime2-amplicon-2024.10/lib/python3.10/site-packages/q2_types/sample_data/_deferred_setup/_transformers.py:28: FutureWarning: errors='ignore' is deprecated and will raise in a future version. Use to_numeric without passing `errors` and catch exceptions explicitly instead\n",
      "  df[cols] = df[cols].apply(pd.to_numeric, errors='ignore')\n",
      "/scratch/lfloerl/.condaenvs/qiime2-amplicon-2024.10/lib/python3.10/site-packages/q2_types/sample_data/_deferred_setup/_transformers.py:28: FutureWarning: errors='ignore' is deprecated and will raise in a future version. Use to_numeric without passing `errors` and catch exceptions explicitly instead\n",
      "  df[cols] = df[cols].apply(pd.to_numeric, errors='ignore')\n",
      "/scratch/lfloerl/.condaenvs/qiime2-amplicon-2024.10/lib/python3.10/site-packages/q2_types/sample_data/_deferred_setup/_transformers.py:28: FutureWarning: errors='ignore' is deprecated and will raise in a future version. Use to_numeric without passing `errors` and catch exceptions explicitly instead\n",
      "  df[cols] = df[cols].apply(pd.to_numeric, errors='ignore')\n",
      "/scratch/lfloerl/.condaenvs/qiime2-amplicon-2024.10/lib/python3.10/site-packages/q2_types/sample_data/_deferred_setup/_transformers.py:28: FutureWarning: errors='ignore' is deprecated and will raise in a future version. Use to_numeric without passing `errors` and catch exceptions explicitly instead\n",
      "  df[cols] = df[cols].apply(pd.to_numeric, errors='ignore')\n",
      "/scratch/lfloerl/.condaenvs/qiime2-amplicon-2024.10/lib/python3.10/site-packages/q2_types/sample_data/_deferred_setup/_transformers.py:28: FutureWarning: errors='ignore' is deprecated and will raise in a future version. Use to_numeric without passing `errors` and catch exceptions explicitly instead\n",
      "  df[cols] = df[cols].apply(pd.to_numeric, errors='ignore')\n",
      "/scratch/lfloerl/.condaenvs/qiime2-amplicon-2024.10/lib/python3.10/site-packages/q2_types/sample_data/_deferred_setup/_transformers.py:28: FutureWarning: errors='ignore' is deprecated and will raise in a future version. Use to_numeric without passing `errors` and catch exceptions explicitly instead\n",
      "  df[cols] = df[cols].apply(pd.to_numeric, errors='ignore')\n",
      "/scratch/lfloerl/.condaenvs/qiime2-amplicon-2024.10/lib/python3.10/site-packages/q2_types/sample_data/_deferred_setup/_transformers.py:28: FutureWarning: errors='ignore' is deprecated and will raise in a future version. Use to_numeric without passing `errors` and catch exceptions explicitly instead\n",
      "  df[cols] = df[cols].apply(pd.to_numeric, errors='ignore')\n",
      "/scratch/lfloerl/.condaenvs/qiime2-amplicon-2024.10/lib/python3.10/site-packages/q2_types/sample_data/_deferred_setup/_transformers.py:28: FutureWarning: errors='ignore' is deprecated and will raise in a future version. Use to_numeric without passing `errors` and catch exceptions explicitly instead\n",
      "  df[cols] = df[cols].apply(pd.to_numeric, errors='ignore')\n",
      "/scratch/lfloerl/.condaenvs/qiime2-amplicon-2024.10/lib/python3.10/site-packages/q2_types/sample_data/_deferred_setup/_transformers.py:28: FutureWarning: errors='ignore' is deprecated and will raise in a future version. Use to_numeric without passing `errors` and catch exceptions explicitly instead\n",
      "  df[cols] = df[cols].apply(pd.to_numeric, errors='ignore')\n",
      "/scratch/lfloerl/.condaenvs/qiime2-amplicon-2024.10/lib/python3.10/site-packages/q2_types/sample_data/_deferred_setup/_transformers.py:28: FutureWarning: errors='ignore' is deprecated and will raise in a future version. Use to_numeric without passing `errors` and catch exceptions explicitly instead\n",
      "  df[cols] = df[cols].apply(pd.to_numeric, errors='ignore')\n",
      "/scratch/lfloerl/.condaenvs/qiime2-amplicon-2024.10/lib/python3.10/site-packages/q2_types/sample_data/_deferred_setup/_transformers.py:28: FutureWarning: errors='ignore' is deprecated and will raise in a future version. Use to_numeric without passing `errors` and catch exceptions explicitly instead\n",
      "  df[cols] = df[cols].apply(pd.to_numeric, errors='ignore')\n",
      "/scratch/lfloerl/.condaenvs/qiime2-amplicon-2024.10/lib/python3.10/site-packages/q2_types/sample_data/_deferred_setup/_transformers.py:28: FutureWarning: errors='ignore' is deprecated and will raise in a future version. Use to_numeric without passing `errors` and catch exceptions explicitly instead\n",
      "  df[cols] = df[cols].apply(pd.to_numeric, errors='ignore')\n",
      "/scratch/lfloerl/.condaenvs/qiime2-amplicon-2024.10/lib/python3.10/site-packages/q2_types/sample_data/_deferred_setup/_transformers.py:28: FutureWarning: errors='ignore' is deprecated and will raise in a future version. Use to_numeric without passing `errors` and catch exceptions explicitly instead\n",
      "  df[cols] = df[cols].apply(pd.to_numeric, errors='ignore')\n",
      "/scratch/lfloerl/.condaenvs/qiime2-amplicon-2024.10/lib/python3.10/site-packages/q2_types/sample_data/_deferred_setup/_transformers.py:28: FutureWarning: errors='ignore' is deprecated and will raise in a future version. Use to_numeric without passing `errors` and catch exceptions explicitly instead\n",
      "  df[cols] = df[cols].apply(pd.to_numeric, errors='ignore')\n"
     ]
    },
    {
     "name": "stderr",
     "output_type": "stream",
     "text": [
      "/scratch/lfloerl/.condaenvs/qiime2-amplicon-2024.10/lib/python3.10/site-packages/q2_types/sample_data/_deferred_setup/_transformers.py:28: FutureWarning: errors='ignore' is deprecated and will raise in a future version. Use to_numeric without passing `errors` and catch exceptions explicitly instead\n",
      "  df[cols] = df[cols].apply(pd.to_numeric, errors='ignore')\n",
      "/scratch/lfloerl/.condaenvs/qiime2-amplicon-2024.10/lib/python3.10/site-packages/q2_types/sample_data/_deferred_setup/_transformers.py:28: FutureWarning: errors='ignore' is deprecated and will raise in a future version. Use to_numeric without passing `errors` and catch exceptions explicitly instead\n",
      "  df[cols] = df[cols].apply(pd.to_numeric, errors='ignore')\n",
      "/scratch/lfloerl/.condaenvs/qiime2-amplicon-2024.10/lib/python3.10/site-packages/q2_types/sample_data/_deferred_setup/_transformers.py:28: FutureWarning: errors='ignore' is deprecated and will raise in a future version. Use to_numeric without passing `errors` and catch exceptions explicitly instead\n",
      "  df[cols] = df[cols].apply(pd.to_numeric, errors='ignore')\n",
      "/scratch/lfloerl/.condaenvs/qiime2-amplicon-2024.10/lib/python3.10/site-packages/q2_types/sample_data/_deferred_setup/_transformers.py:28: FutureWarning: errors='ignore' is deprecated and will raise in a future version. Use to_numeric without passing `errors` and catch exceptions explicitly instead\n",
      "  df[cols] = df[cols].apply(pd.to_numeric, errors='ignore')\n",
      "/scratch/lfloerl/.condaenvs/qiime2-amplicon-2024.10/lib/python3.10/site-packages/q2_types/sample_data/_deferred_setup/_transformers.py:28: FutureWarning: errors='ignore' is deprecated and will raise in a future version. Use to_numeric without passing `errors` and catch exceptions explicitly instead\n",
      "  df[cols] = df[cols].apply(pd.to_numeric, errors='ignore')\n",
      "/scratch/lfloerl/.condaenvs/qiime2-amplicon-2024.10/lib/python3.10/site-packages/q2_types/sample_data/_deferred_setup/_transformers.py:28: FutureWarning: errors='ignore' is deprecated and will raise in a future version. Use to_numeric without passing `errors` and catch exceptions explicitly instead\n",
      "  df[cols] = df[cols].apply(pd.to_numeric, errors='ignore')\n",
      "/scratch/lfloerl/.condaenvs/qiime2-amplicon-2024.10/lib/python3.10/site-packages/q2_types/sample_data/_deferred_setup/_transformers.py:28: FutureWarning: errors='ignore' is deprecated and will raise in a future version. Use to_numeric without passing `errors` and catch exceptions explicitly instead\n",
      "  df[cols] = df[cols].apply(pd.to_numeric, errors='ignore')\n",
      "/scratch/lfloerl/.condaenvs/qiime2-amplicon-2024.10/lib/python3.10/site-packages/q2_types/sample_data/_deferred_setup/_transformers.py:28: FutureWarning: errors='ignore' is deprecated and will raise in a future version. Use to_numeric without passing `errors` and catch exceptions explicitly instead\n",
      "  df[cols] = df[cols].apply(pd.to_numeric, errors='ignore')\n",
      "/scratch/lfloerl/.condaenvs/qiime2-amplicon-2024.10/lib/python3.10/site-packages/q2_diversity/_alpha/_visualizer.py:260: FutureWarning: The previous implementation of stack is deprecated and will be removed in a future version of pandas. See the What's New notes for pandas 2.1.0 for details. Specify future_stack=True to adopt the new implementation and silence this warning.\n",
      "  summary_df = data.stack(level=0)\n",
      "/scratch/lfloerl/.condaenvs/qiime2-amplicon-2024.10/lib/python3.10/site-packages/q2_diversity/_alpha/_visualizer.py:265: FutureWarning: The previous implementation of stack is deprecated and will be removed in a future version of pandas. See the What's New notes for pandas 2.1.0 for details. Specify future_stack=True to adopt the new implementation and silence this warning.\n",
      "  stacked_counts = counts.stack(level=0)\n",
      "/scratch/lfloerl/.condaenvs/qiime2-amplicon-2024.10/lib/python3.10/site-packages/q2_diversity/_alpha/_visualizer.py:260: FutureWarning: The previous implementation of stack is deprecated and will be removed in a future version of pandas. See the What's New notes for pandas 2.1.0 for details. Specify future_stack=True to adopt the new implementation and silence this warning.\n",
      "  summary_df = data.stack(level=0)\n",
      "/scratch/lfloerl/.condaenvs/qiime2-amplicon-2024.10/lib/python3.10/site-packages/q2_diversity/_alpha/_visualizer.py:265: FutureWarning: The previous implementation of stack is deprecated and will be removed in a future version of pandas. See the What's New notes for pandas 2.1.0 for details. Specify future_stack=True to adopt the new implementation and silence this warning.\n",
      "  stacked_counts = counts.stack(level=0)\n",
      "/scratch/lfloerl/.condaenvs/qiime2-amplicon-2024.10/lib/python3.10/site-packages/q2_diversity/_alpha/_visualizer.py:260: FutureWarning: The previous implementation of stack is deprecated and will be removed in a future version of pandas. See the What's New notes for pandas 2.1.0 for details. Specify future_stack=True to adopt the new implementation and silence this warning.\n",
      "  summary_df = data.stack(level=0)\n",
      "/scratch/lfloerl/.condaenvs/qiime2-amplicon-2024.10/lib/python3.10/site-packages/q2_diversity/_alpha/_visualizer.py:265: FutureWarning: The previous implementation of stack is deprecated and will be removed in a future version of pandas. See the What's New notes for pandas 2.1.0 for details. Specify future_stack=True to adopt the new implementation and silence this warning.\n",
      "  stacked_counts = counts.stack(level=0)\n",
      "/scratch/lfloerl/.condaenvs/qiime2-amplicon-2024.10/lib/python3.10/site-packages/q2_diversity/_alpha/_visualizer.py:260: FutureWarning: The previous implementation of stack is deprecated and will be removed in a future version of pandas. See the What's New notes for pandas 2.1.0 for details. Specify future_stack=True to adopt the new implementation and silence this warning.\n",
      "  summary_df = data.stack(level=0)\n",
      "/scratch/lfloerl/.condaenvs/qiime2-amplicon-2024.10/lib/python3.10/site-packages/q2_diversity/_alpha/_visualizer.py:265: FutureWarning: The previous implementation of stack is deprecated and will be removed in a future version of pandas. See the What's New notes for pandas 2.1.0 for details. Specify future_stack=True to adopt the new implementation and silence this warning.\n",
      "  stacked_counts = counts.stack(level=0)\n",
      "/scratch/lfloerl/.condaenvs/qiime2-amplicon-2024.10/lib/python3.10/site-packages/q2_diversity/_alpha/_visualizer.py:260: FutureWarning: The previous implementation of stack is deprecated and will be removed in a future version of pandas. See the What's New notes for pandas 2.1.0 for details. Specify future_stack=True to adopt the new implementation and silence this warning.\n",
      "  summary_df = data.stack(level=0)\n",
      "/scratch/lfloerl/.condaenvs/qiime2-amplicon-2024.10/lib/python3.10/site-packages/q2_diversity/_alpha/_visualizer.py:265: FutureWarning: The previous implementation of stack is deprecated and will be removed in a future version of pandas. See the What's New notes for pandas 2.1.0 for details. Specify future_stack=True to adopt the new implementation and silence this warning.\n",
      "  stacked_counts = counts.stack(level=0)\n",
      "/scratch/lfloerl/.condaenvs/qiime2-amplicon-2024.10/lib/python3.10/site-packages/q2_diversity/_alpha/_visualizer.py:260: FutureWarning: The previous implementation of stack is deprecated and will be removed in a future version of pandas. See the What's New notes for pandas 2.1.0 for details. Specify future_stack=True to adopt the new implementation and silence this warning.\n",
      "  summary_df = data.stack(level=0)\n",
      "/scratch/lfloerl/.condaenvs/qiime2-amplicon-2024.10/lib/python3.10/site-packages/q2_diversity/_alpha/_visualizer.py:265: FutureWarning: The previous implementation of stack is deprecated and will be removed in a future version of pandas. See the What's New notes for pandas 2.1.0 for details. Specify future_stack=True to adopt the new implementation and silence this warning.\n",
      "  stacked_counts = counts.stack(level=0)\n",
      "/scratch/lfloerl/.condaenvs/qiime2-amplicon-2024.10/lib/python3.10/site-packages/q2_diversity/_alpha/_visualizer.py:260: FutureWarning: The previous implementation of stack is deprecated and will be removed in a future version of pandas. See the What's New notes for pandas 2.1.0 for details. Specify future_stack=True to adopt the new implementation and silence this warning.\n",
      "  summary_df = data.stack(level=0)\n",
      "/scratch/lfloerl/.condaenvs/qiime2-amplicon-2024.10/lib/python3.10/site-packages/q2_diversity/_alpha/_visualizer.py:265: FutureWarning: The previous implementation of stack is deprecated and will be removed in a future version of pandas. See the What's New notes for pandas 2.1.0 for details. Specify future_stack=True to adopt the new implementation and silence this warning.\n",
      "  stacked_counts = counts.stack(level=0)\n",
      "/scratch/lfloerl/.condaenvs/qiime2-amplicon-2024.10/lib/python3.10/site-packages/q2_diversity/_alpha/_visualizer.py:260: FutureWarning: The previous implementation of stack is deprecated and will be removed in a future version of pandas. See the What's New notes for pandas 2.1.0 for details. Specify future_stack=True to adopt the new implementation and silence this warning.\n",
      "  summary_df = data.stack(level=0)\n",
      "/scratch/lfloerl/.condaenvs/qiime2-amplicon-2024.10/lib/python3.10/site-packages/q2_diversity/_alpha/_visualizer.py:265: FutureWarning: The previous implementation of stack is deprecated and will be removed in a future version of pandas. See the What's New notes for pandas 2.1.0 for details. Specify future_stack=True to adopt the new implementation and silence this warning.\n",
      "  stacked_counts = counts.stack(level=0)\n",
      "/scratch/lfloerl/.condaenvs/qiime2-amplicon-2024.10/lib/python3.10/site-packages/q2_diversity/_alpha/_visualizer.py:260: FutureWarning: The previous implementation of stack is deprecated and will be removed in a future version of pandas. See the What's New notes for pandas 2.1.0 for details. Specify future_stack=True to adopt the new implementation and silence this warning.\n",
      "  summary_df = data.stack(level=0)\n",
      "/scratch/lfloerl/.condaenvs/qiime2-amplicon-2024.10/lib/python3.10/site-packages/q2_diversity/_alpha/_visualizer.py:265: FutureWarning: The previous implementation of stack is deprecated and will be removed in a future version of pandas. See the What's New notes for pandas 2.1.0 for details. Specify future_stack=True to adopt the new implementation and silence this warning.\n",
      "  stacked_counts = counts.stack(level=0)\n",
      "/scratch/lfloerl/.condaenvs/qiime2-amplicon-2024.10/lib/python3.10/site-packages/q2_diversity/_alpha/_visualizer.py:260: FutureWarning: The previous implementation of stack is deprecated and will be removed in a future version of pandas. See the What's New notes for pandas 2.1.0 for details. Specify future_stack=True to adopt the new implementation and silence this warning.\n",
      "  summary_df = data.stack(level=0)\n"
     ]
    },
    {
     "name": "stderr",
     "output_type": "stream",
     "text": [
      "/scratch/lfloerl/.condaenvs/qiime2-amplicon-2024.10/lib/python3.10/site-packages/q2_diversity/_alpha/_visualizer.py:265: FutureWarning: The previous implementation of stack is deprecated and will be removed in a future version of pandas. See the What's New notes for pandas 2.1.0 for details. Specify future_stack=True to adopt the new implementation and silence this warning.\n",
      "  stacked_counts = counts.stack(level=0)\n",
      "/scratch/lfloerl/.condaenvs/qiime2-amplicon-2024.10/lib/python3.10/site-packages/q2_diversity/_alpha/_visualizer.py:260: FutureWarning: The previous implementation of stack is deprecated and will be removed in a future version of pandas. See the What's New notes for pandas 2.1.0 for details. Specify future_stack=True to adopt the new implementation and silence this warning.\n",
      "  summary_df = data.stack(level=0)\n",
      "/scratch/lfloerl/.condaenvs/qiime2-amplicon-2024.10/lib/python3.10/site-packages/q2_diversity/_alpha/_visualizer.py:265: FutureWarning: The previous implementation of stack is deprecated and will be removed in a future version of pandas. See the What's New notes for pandas 2.1.0 for details. Specify future_stack=True to adopt the new implementation and silence this warning.\n",
      "  stacked_counts = counts.stack(level=0)\n",
      "/scratch/lfloerl/.condaenvs/qiime2-amplicon-2024.10/lib/python3.10/site-packages/q2_diversity/_alpha/_visualizer.py:260: FutureWarning: The previous implementation of stack is deprecated and will be removed in a future version of pandas. See the What's New notes for pandas 2.1.0 for details. Specify future_stack=True to adopt the new implementation and silence this warning.\n",
      "  summary_df = data.stack(level=0)\n",
      "/scratch/lfloerl/.condaenvs/qiime2-amplicon-2024.10/lib/python3.10/site-packages/q2_diversity/_alpha/_visualizer.py:265: FutureWarning: The previous implementation of stack is deprecated and will be removed in a future version of pandas. See the What's New notes for pandas 2.1.0 for details. Specify future_stack=True to adopt the new implementation and silence this warning.\n",
      "  stacked_counts = counts.stack(level=0)\n",
      "/scratch/lfloerl/.condaenvs/qiime2-amplicon-2024.10/lib/python3.10/site-packages/q2_diversity/_alpha/_visualizer.py:260: FutureWarning: The previous implementation of stack is deprecated and will be removed in a future version of pandas. See the What's New notes for pandas 2.1.0 for details. Specify future_stack=True to adopt the new implementation and silence this warning.\n",
      "  summary_df = data.stack(level=0)\n",
      "/scratch/lfloerl/.condaenvs/qiime2-amplicon-2024.10/lib/python3.10/site-packages/q2_diversity/_alpha/_visualizer.py:265: FutureWarning: The previous implementation of stack is deprecated and will be removed in a future version of pandas. See the What's New notes for pandas 2.1.0 for details. Specify future_stack=True to adopt the new implementation and silence this warning.\n",
      "  stacked_counts = counts.stack(level=0)\n",
      "/scratch/lfloerl/.condaenvs/qiime2-amplicon-2024.10/lib/python3.10/site-packages/q2_diversity/_alpha/_visualizer.py:260: FutureWarning: The previous implementation of stack is deprecated and will be removed in a future version of pandas. See the What's New notes for pandas 2.1.0 for details. Specify future_stack=True to adopt the new implementation and silence this warning.\n",
      "  summary_df = data.stack(level=0)\n",
      "/scratch/lfloerl/.condaenvs/qiime2-amplicon-2024.10/lib/python3.10/site-packages/q2_diversity/_alpha/_visualizer.py:265: FutureWarning: The previous implementation of stack is deprecated and will be removed in a future version of pandas. See the What's New notes for pandas 2.1.0 for details. Specify future_stack=True to adopt the new implementation and silence this warning.\n",
      "  stacked_counts = counts.stack(level=0)\n",
      "/scratch/lfloerl/.condaenvs/qiime2-amplicon-2024.10/lib/python3.10/site-packages/q2_diversity/_alpha/_visualizer.py:260: FutureWarning: The previous implementation of stack is deprecated and will be removed in a future version of pandas. See the What's New notes for pandas 2.1.0 for details. Specify future_stack=True to adopt the new implementation and silence this warning.\n",
      "  summary_df = data.stack(level=0)\n",
      "/scratch/lfloerl/.condaenvs/qiime2-amplicon-2024.10/lib/python3.10/site-packages/q2_diversity/_alpha/_visualizer.py:265: FutureWarning: The previous implementation of stack is deprecated and will be removed in a future version of pandas. See the What's New notes for pandas 2.1.0 for details. Specify future_stack=True to adopt the new implementation and silence this warning.\n",
      "  stacked_counts = counts.stack(level=0)\n",
      "/scratch/lfloerl/.condaenvs/qiime2-amplicon-2024.10/lib/python3.10/site-packages/q2_diversity/_alpha/_visualizer.py:260: FutureWarning: The previous implementation of stack is deprecated and will be removed in a future version of pandas. See the What's New notes for pandas 2.1.0 for details. Specify future_stack=True to adopt the new implementation and silence this warning.\n",
      "  summary_df = data.stack(level=0)\n",
      "/scratch/lfloerl/.condaenvs/qiime2-amplicon-2024.10/lib/python3.10/site-packages/q2_diversity/_alpha/_visualizer.py:265: FutureWarning: The previous implementation of stack is deprecated and will be removed in a future version of pandas. See the What's New notes for pandas 2.1.0 for details. Specify future_stack=True to adopt the new implementation and silence this warning.\n",
      "  stacked_counts = counts.stack(level=0)\n",
      "/scratch/lfloerl/.condaenvs/qiime2-amplicon-2024.10/lib/python3.10/site-packages/q2_diversity/_alpha/_visualizer.py:260: FutureWarning: The previous implementation of stack is deprecated and will be removed in a future version of pandas. See the What's New notes for pandas 2.1.0 for details. Specify future_stack=True to adopt the new implementation and silence this warning.\n",
      "  summary_df = data.stack(level=0)\n",
      "/scratch/lfloerl/.condaenvs/qiime2-amplicon-2024.10/lib/python3.10/site-packages/q2_diversity/_alpha/_visualizer.py:265: FutureWarning: The previous implementation of stack is deprecated and will be removed in a future version of pandas. See the What's New notes for pandas 2.1.0 for details. Specify future_stack=True to adopt the new implementation and silence this warning.\n",
      "  stacked_counts = counts.stack(level=0)\n",
      "/scratch/lfloerl/.condaenvs/qiime2-amplicon-2024.10/lib/python3.10/site-packages/q2_diversity/_alpha/_visualizer.py:260: FutureWarning: The previous implementation of stack is deprecated and will be removed in a future version of pandas. See the What's New notes for pandas 2.1.0 for details. Specify future_stack=True to adopt the new implementation and silence this warning.\n",
      "  summary_df = data.stack(level=0)\n",
      "/scratch/lfloerl/.condaenvs/qiime2-amplicon-2024.10/lib/python3.10/site-packages/q2_diversity/_alpha/_visualizer.py:265: FutureWarning: The previous implementation of stack is deprecated and will be removed in a future version of pandas. See the What's New notes for pandas 2.1.0 for details. Specify future_stack=True to adopt the new implementation and silence this warning.\n",
      "  stacked_counts = counts.stack(level=0)\n",
      "/scratch/lfloerl/.condaenvs/qiime2-amplicon-2024.10/lib/python3.10/site-packages/q2_diversity/_alpha/_visualizer.py:260: FutureWarning: The previous implementation of stack is deprecated and will be removed in a future version of pandas. See the What's New notes for pandas 2.1.0 for details. Specify future_stack=True to adopt the new implementation and silence this warning.\n",
      "  summary_df = data.stack(level=0)\n",
      "/scratch/lfloerl/.condaenvs/qiime2-amplicon-2024.10/lib/python3.10/site-packages/q2_diversity/_alpha/_visualizer.py:265: FutureWarning: The previous implementation of stack is deprecated and will be removed in a future version of pandas. See the What's New notes for pandas 2.1.0 for details. Specify future_stack=True to adopt the new implementation and silence this warning.\n",
      "  stacked_counts = counts.stack(level=0)\n",
      "/scratch/lfloerl/.condaenvs/qiime2-amplicon-2024.10/lib/python3.10/site-packages/q2_diversity/_alpha/_visualizer.py:260: FutureWarning: The previous implementation of stack is deprecated and will be removed in a future version of pandas. See the What's New notes for pandas 2.1.0 for details. Specify future_stack=True to adopt the new implementation and silence this warning.\n",
      "  summary_df = data.stack(level=0)\n",
      "/scratch/lfloerl/.condaenvs/qiime2-amplicon-2024.10/lib/python3.10/site-packages/q2_diversity/_alpha/_visualizer.py:265: FutureWarning: The previous implementation of stack is deprecated and will be removed in a future version of pandas. See the What's New notes for pandas 2.1.0 for details. Specify future_stack=True to adopt the new implementation and silence this warning.\n",
      "  stacked_counts = counts.stack(level=0)\n",
      "/scratch/lfloerl/.condaenvs/qiime2-amplicon-2024.10/lib/python3.10/site-packages/q2_diversity/_alpha/_visualizer.py:260: FutureWarning: The previous implementation of stack is deprecated and will be removed in a future version of pandas. See the What's New notes for pandas 2.1.0 for details. Specify future_stack=True to adopt the new implementation and silence this warning.\n",
      "  summary_df = data.stack(level=0)\n",
      "/scratch/lfloerl/.condaenvs/qiime2-amplicon-2024.10/lib/python3.10/site-packages/q2_diversity/_alpha/_visualizer.py:265: FutureWarning: The previous implementation of stack is deprecated and will be removed in a future version of pandas. See the What's New notes for pandas 2.1.0 for details. Specify future_stack=True to adopt the new implementation and silence this warning.\n",
      "  stacked_counts = counts.stack(level=0)\n",
      "/scratch/lfloerl/.condaenvs/qiime2-amplicon-2024.10/lib/python3.10/site-packages/q2_diversity/_alpha/_visualizer.py:260: FutureWarning: The previous implementation of stack is deprecated and will be removed in a future version of pandas. See the What's New notes for pandas 2.1.0 for details. Specify future_stack=True to adopt the new implementation and silence this warning.\n",
      "  summary_df = data.stack(level=0)\n",
      "/scratch/lfloerl/.condaenvs/qiime2-amplicon-2024.10/lib/python3.10/site-packages/q2_diversity/_alpha/_visualizer.py:265: FutureWarning: The previous implementation of stack is deprecated and will be removed in a future version of pandas. See the What's New notes for pandas 2.1.0 for details. Specify future_stack=True to adopt the new implementation and silence this warning.\n",
      "  stacked_counts = counts.stack(level=0)\n",
      "/scratch/lfloerl/.condaenvs/qiime2-amplicon-2024.10/lib/python3.10/site-packages/q2_diversity/_alpha/_visualizer.py:260: FutureWarning: The previous implementation of stack is deprecated and will be removed in a future version of pandas. See the What's New notes for pandas 2.1.0 for details. Specify future_stack=True to adopt the new implementation and silence this warning.\n",
      "  summary_df = data.stack(level=0)\n",
      "/scratch/lfloerl/.condaenvs/qiime2-amplicon-2024.10/lib/python3.10/site-packages/q2_diversity/_alpha/_visualizer.py:265: FutureWarning: The previous implementation of stack is deprecated and will be removed in a future version of pandas. See the What's New notes for pandas 2.1.0 for details. Specify future_stack=True to adopt the new implementation and silence this warning.\n",
      "  stacked_counts = counts.stack(level=0)\n",
      "/scratch/lfloerl/.condaenvs/qiime2-amplicon-2024.10/lib/python3.10/site-packages/q2_diversity/_alpha/_visualizer.py:260: FutureWarning: The previous implementation of stack is deprecated and will be removed in a future version of pandas. See the What's New notes for pandas 2.1.0 for details. Specify future_stack=True to adopt the new implementation and silence this warning.\n",
      "  summary_df = data.stack(level=0)\n"
     ]
    },
    {
     "name": "stderr",
     "output_type": "stream",
     "text": [
      "/scratch/lfloerl/.condaenvs/qiime2-amplicon-2024.10/lib/python3.10/site-packages/q2_diversity/_alpha/_visualizer.py:265: FutureWarning: The previous implementation of stack is deprecated and will be removed in a future version of pandas. See the What's New notes for pandas 2.1.0 for details. Specify future_stack=True to adopt the new implementation and silence this warning.\n",
      "  stacked_counts = counts.stack(level=0)\n",
      "/scratch/lfloerl/.condaenvs/qiime2-amplicon-2024.10/lib/python3.10/site-packages/q2_diversity/_alpha/_visualizer.py:260: FutureWarning: The previous implementation of stack is deprecated and will be removed in a future version of pandas. See the What's New notes for pandas 2.1.0 for details. Specify future_stack=True to adopt the new implementation and silence this warning.\n",
      "  summary_df = data.stack(level=0)\n",
      "/scratch/lfloerl/.condaenvs/qiime2-amplicon-2024.10/lib/python3.10/site-packages/q2_diversity/_alpha/_visualizer.py:265: FutureWarning: The previous implementation of stack is deprecated and will be removed in a future version of pandas. See the What's New notes for pandas 2.1.0 for details. Specify future_stack=True to adopt the new implementation and silence this warning.\n",
      "  stacked_counts = counts.stack(level=0)\n",
      "/scratch/lfloerl/.condaenvs/qiime2-amplicon-2024.10/lib/python3.10/site-packages/q2_diversity/_alpha/_visualizer.py:260: FutureWarning: The previous implementation of stack is deprecated and will be removed in a future version of pandas. See the What's New notes for pandas 2.1.0 for details. Specify future_stack=True to adopt the new implementation and silence this warning.\n",
      "  summary_df = data.stack(level=0)\n",
      "/scratch/lfloerl/.condaenvs/qiime2-amplicon-2024.10/lib/python3.10/site-packages/q2_diversity/_alpha/_visualizer.py:265: FutureWarning: The previous implementation of stack is deprecated and will be removed in a future version of pandas. See the What's New notes for pandas 2.1.0 for details. Specify future_stack=True to adopt the new implementation and silence this warning.\n",
      "  stacked_counts = counts.stack(level=0)\n",
      "/scratch/lfloerl/.condaenvs/qiime2-amplicon-2024.10/lib/python3.10/site-packages/q2_diversity/_alpha/_visualizer.py:260: FutureWarning: The previous implementation of stack is deprecated and will be removed in a future version of pandas. See the What's New notes for pandas 2.1.0 for details. Specify future_stack=True to adopt the new implementation and silence this warning.\n",
      "  summary_df = data.stack(level=0)\n",
      "/scratch/lfloerl/.condaenvs/qiime2-amplicon-2024.10/lib/python3.10/site-packages/q2_diversity/_alpha/_visualizer.py:265: FutureWarning: The previous implementation of stack is deprecated and will be removed in a future version of pandas. See the What's New notes for pandas 2.1.0 for details. Specify future_stack=True to adopt the new implementation and silence this warning.\n",
      "  stacked_counts = counts.stack(level=0)\n",
      "/scratch/lfloerl/.condaenvs/qiime2-amplicon-2024.10/lib/python3.10/site-packages/q2_diversity/_alpha/_visualizer.py:260: FutureWarning: The previous implementation of stack is deprecated and will be removed in a future version of pandas. See the What's New notes for pandas 2.1.0 for details. Specify future_stack=True to adopt the new implementation and silence this warning.\n",
      "  summary_df = data.stack(level=0)\n",
      "/scratch/lfloerl/.condaenvs/qiime2-amplicon-2024.10/lib/python3.10/site-packages/q2_diversity/_alpha/_visualizer.py:265: FutureWarning: The previous implementation of stack is deprecated and will be removed in a future version of pandas. See the What's New notes for pandas 2.1.0 for details. Specify future_stack=True to adopt the new implementation and silence this warning.\n",
      "  stacked_counts = counts.stack(level=0)\n"
     ]
    },
    {
     "data": {
      "text/plain": [
       "'leaves_comparison_alpha_rarefaction_curves.qzv'"
      ]
     },
     "execution_count": 30,
     "metadata": {},
     "output_type": "execute_result"
    }
   ],
   "source": [
    "alpha_rarefaction, = q2d.visualizers.alpha_rarefaction(table=table, \n",
    "                                                       max_depth=10000,\n",
    "                                                       metadata=md)\n",
    "alpha_rarefaction.save('leaves_comparison_alpha_rarefaction_curves.qzv')"
   ]
  },
  {
   "cell_type": "code",
   "execution_count": 31,
   "id": "d0213941",
   "metadata": {
    "scrolled": true
   },
   "outputs": [
    {
     "data": {
      "text/html": [
       "<div><img onload=\"(function(div, url){\n",
       "if (typeof require !== 'undefined') {\n",
       "    var baseURL = require.toUrl('').split('/').slice(0, -2).join('/');\n",
       "} else {\n",
       "    var baseURL = JSON.parse(\n",
       "        document.getElementById('jupyter-config-data').innerHTML\n",
       "    ).baseUrl.slice(0, -1);\n",
       "}\n",
       "url = baseURL + url;\n",
       "fetch(url).then(function(res) {\n",
       "    if (res.status === 404) {\n",
       "        div.innerHTML = 'Install QIIME 2 Jupyter extension with:<br />' +\n",
       "                        '<code>jupyter server extension enable --py qiime2' +\n",
       "                        ' --sys-prefix</code><br />then restart your server.' +\n",
       "                        '<br /><br />(Interactive output not available on ' +\n",
       "                        'static notebook viewer services like nbviewer.)';\n",
       "    } else if (res.status === 409) {\n",
       "        div.innerHTML = 'Visualization no longer in scope. Re-run this cell' +\n",
       "                        ' to see the visualization.';\n",
       "    } else if (res.ok) {\n",
       "        url = res.url;\n",
       "        div.innerHTML = '<iframe src=\\'' + url + '\\' style=\\'' +\n",
       "                        'width: 100%; height: 700px; border: 0;\\'>' +\n",
       "                        '</iframe><hr />Open in a: <a href=\\'' + url + '\\'' +\n",
       "                        ' target=\\'_blank\\'>new window</a>'\n",
       "    } else {\n",
       "        div.innerHTML = 'Something has gone wrong. Check notebook server for' +\n",
       "                        ' errors.';\n",
       "    }\n",
       "});\n",
       "})(this.parentElement, '/qiime2/redirect?location=/scratch/lfloerl/tmpdata/qiime2/lfloerl/data/db8e4948-a260-43c5-a661-99142cbc5f9d')\" src=\"data:image/gif;base64,R0lGODlhAQABAIAAAP///wAAACH5BAEAAAAALAAAAAABAAEAAAICRAEAOw==\" /></div>"
      ],
      "text/plain": [
       "<visualization: Visualization uuid: db8e4948-a260-43c5-a661-99142cbc5f9d>"
      ]
     },
     "execution_count": 31,
     "metadata": {},
     "output_type": "execute_result"
    }
   ],
   "source": [
    "Visualization.load('leaves_comparison_alpha_rarefaction_curves.qzv')"
   ]
  },
  {
   "cell_type": "code",
   "execution_count": 23,
   "id": "8d28f0e0",
   "metadata": {},
   "outputs": [
    {
     "name": "stdout",
     "output_type": "stream",
     "text": [
      "\u001b[32mSaved Visualization to: leaf_washed_filtered_table.qzv\u001b[0m\n",
      "\u001b[0m\u001b[32mSaved Visualization to: leaf_direct_filtered_table.qzv\u001b[0m\n",
      "\u001b[0m"
     ]
    }
   ],
   "source": [
    "# washed leaf samples \n",
    "washed_table, = filter_samples(table=table, metadata=md, where=\"[washed]='washed'\")\n",
    "washed_table.save('leaf_washed_filtered_table.qza')\n",
    "!qiime feature-table summarize --i-table leaf_washed_filtered_table.qza --o-visualization leaf_washed_filtered_table.qzv\n",
    "\n",
    "# direct extraction from biomass \n",
    "direct_table, = filter_samples(table=table, metadata=md, where=\"[washed]='no'\")\n",
    "direct_table.save('leaf_direct_filtered_table.qza')\n",
    "!qiime feature-table summarize --i-table leaf_direct_filtered_table.qza --o-visualization leaf_direct_filtered_table.qzv"
   ]
  },
  {
   "cell_type": "code",
   "execution_count": null,
   "id": "0fd1aabd",
   "metadata": {},
   "outputs": [],
   "source": [
    "md = Metadata.load('/home/lfloerl/microterroir/Microbiome/Metadata/ITS_lavaux.tsv')\n",
    "taxonomy = q2.Artifact.load('/home/lfloerl/cloud/lfloerl/Microterroir/artifacts/ITS/taxonomy.qza')"
   ]
  },
  {
   "cell_type": "code",
   "execution_count": 13,
   "id": "e496bf32",
   "metadata": {},
   "outputs": [
    {
     "name": "stdout",
     "output_type": "stream",
     "text": [
      "Saved Visualization to: /home/lfloerl/cloud/lfloerl/Microterroir/artifacts/ITS/lavaux/spatio-temporal/leaves/leaves_washed_taxa_barplot.qzv\n"
     ]
    }
   ],
   "source": [
    "%%bash \n",
    "\n",
    "qiime taxa barplot \\\n",
    "    --i-table leaf_washed_filtered_table.qza \\\n",
    "    --i-taxonomy /home/lfloerl/cloud/lfloerl/Microterroir/artifacts/ITS/taxonomy.qza \\\n",
    "    --m-metadata-file /home/lfloerl/microterroir/Microbiome/Metadata/ITS_lavaux.tsv \\\n",
    "    --o-visualization /home/lfloerl/cloud/lfloerl/Microterroir/artifacts/ITS/lavaux/spatio-temporal/leaves/leaves_washed_taxa_barplot.qzv"
   ]
  },
  {
   "cell_type": "code",
   "execution_count": 15,
   "id": "57995123",
   "metadata": {},
   "outputs": [
    {
     "name": "stdout",
     "output_type": "stream",
     "text": [
      "Saved Visualization to: /home/lfloerl/cloud/lfloerl/Microterroir/artifacts/ITS/lavaux/spatio-temporal/leaves/leaf_direct_taxa_barplot.qzv\n"
     ]
    }
   ],
   "source": [
    "%%bash\n",
    "\n",
    "qiime taxa barplot \\\n",
    "    --i-table leaf_direct_filtered_table.qza \\\n",
    "    --i-taxonomy /home/lfloerl/cloud/lfloerl/Microterroir/artifacts/ITS/taxonomy.qza \\\n",
    "    --m-metadata-file /home/lfloerl/microterroir/Microbiome/Metadata/ITS_lavaux.tsv \\\n",
    "    --o-visualization /home/lfloerl/cloud/lfloerl/Microterroir/artifacts/ITS/lavaux/spatio-temporal/leaves/leaf_direct_taxa_barplot.qzv"
   ]
  },
  {
   "cell_type": "code",
   "execution_count": 24,
   "id": "73147711",
   "metadata": {
    "scrolled": true
   },
   "outputs": [
    {
     "data": {
      "text/html": [
       "<div><img onload=\"(function(div, url){\n",
       "if (typeof require !== 'undefined') {\n",
       "    var baseURL = require.toUrl('').split('/').slice(0, -2).join('/');\n",
       "} else {\n",
       "    var baseURL = JSON.parse(\n",
       "        document.getElementById('jupyter-config-data').innerHTML\n",
       "    ).baseUrl.slice(0, -1);\n",
       "}\n",
       "url = baseURL + url;\n",
       "fetch(url).then(function(res) {\n",
       "    if (res.status === 404) {\n",
       "        div.innerHTML = 'Install QIIME 2 Jupyter extension with:<br />' +\n",
       "                        '<code>jupyter server extension enable --py qiime2' +\n",
       "                        ' --sys-prefix</code><br />then restart your server.' +\n",
       "                        '<br /><br />(Interactive output not available on ' +\n",
       "                        'static notebook viewer services like nbviewer.)';\n",
       "    } else if (res.status === 409) {\n",
       "        div.innerHTML = 'Visualization no longer in scope. Re-run this cell' +\n",
       "                        ' to see the visualization.';\n",
       "    } else if (res.ok) {\n",
       "        url = res.url;\n",
       "        div.innerHTML = '<iframe src=\\'' + url + '\\' style=\\'' +\n",
       "                        'width: 100%; height: 700px; border: 0;\\'>' +\n",
       "                        '</iframe><hr />Open in a: <a href=\\'' + url + '\\'' +\n",
       "                        ' target=\\'_blank\\'>new window</a>'\n",
       "    } else {\n",
       "        div.innerHTML = 'Something has gone wrong. Check notebook server for' +\n",
       "                        ' errors.';\n",
       "    }\n",
       "});\n",
       "})(this.parentElement, '/qiime2/redirect?location=/scratch/lfloerl/tmpdata/qiime2/lfloerl/data/74fed634-1071-4922-8cdf-916916415fde')\" src=\"data:image/gif;base64,R0lGODlhAQABAIAAAP///wAAACH5BAEAAAAALAAAAAABAAEAAAICRAEAOw==\" /></div>"
      ],
      "text/plain": [
       "<visualization: Visualization uuid: 74fed634-1071-4922-8cdf-916916415fde>"
      ]
     },
     "execution_count": 24,
     "metadata": {},
     "output_type": "execute_result"
    }
   ],
   "source": [
    "Visualization.load('leaf_washed_filtered_table.qzv')"
   ]
  },
  {
   "cell_type": "code",
   "execution_count": 25,
   "id": "93e88c79",
   "metadata": {
    "scrolled": true
   },
   "outputs": [
    {
     "data": {
      "text/html": [
       "<div><img onload=\"(function(div, url){\n",
       "if (typeof require !== 'undefined') {\n",
       "    var baseURL = require.toUrl('').split('/').slice(0, -2).join('/');\n",
       "} else {\n",
       "    var baseURL = JSON.parse(\n",
       "        document.getElementById('jupyter-config-data').innerHTML\n",
       "    ).baseUrl.slice(0, -1);\n",
       "}\n",
       "url = baseURL + url;\n",
       "fetch(url).then(function(res) {\n",
       "    if (res.status === 404) {\n",
       "        div.innerHTML = 'Install QIIME 2 Jupyter extension with:<br />' +\n",
       "                        '<code>jupyter server extension enable --py qiime2' +\n",
       "                        ' --sys-prefix</code><br />then restart your server.' +\n",
       "                        '<br /><br />(Interactive output not available on ' +\n",
       "                        'static notebook viewer services like nbviewer.)';\n",
       "    } else if (res.status === 409) {\n",
       "        div.innerHTML = 'Visualization no longer in scope. Re-run this cell' +\n",
       "                        ' to see the visualization.';\n",
       "    } else if (res.ok) {\n",
       "        url = res.url;\n",
       "        div.innerHTML = '<iframe src=\\'' + url + '\\' style=\\'' +\n",
       "                        'width: 100%; height: 700px; border: 0;\\'>' +\n",
       "                        '</iframe><hr />Open in a: <a href=\\'' + url + '\\'' +\n",
       "                        ' target=\\'_blank\\'>new window</a>'\n",
       "    } else {\n",
       "        div.innerHTML = 'Something has gone wrong. Check notebook server for' +\n",
       "                        ' errors.';\n",
       "    }\n",
       "});\n",
       "})(this.parentElement, '/qiime2/redirect?location=/scratch/lfloerl/tmpdata/qiime2/lfloerl/data/5cc1c71b-5b6f-4ca1-b56f-1dc3a59821be')\" src=\"data:image/gif;base64,R0lGODlhAQABAIAAAP///wAAACH5BAEAAAAALAAAAAABAAEAAAICRAEAOw==\" /></div>"
      ],
      "text/plain": [
       "<visualization: Visualization uuid: 5cc1c71b-5b6f-4ca1-b56f-1dc3a59821be>"
      ]
     },
     "execution_count": 25,
     "metadata": {},
     "output_type": "execute_result"
    }
   ],
   "source": [
    "Visualization.load('leaf_direct_filtered_table.qzv')"
   ]
  },
  {
   "cell_type": "markdown",
   "id": "2914f57c",
   "metadata": {},
   "source": [
    "# Continue with WASHED LEAVES\n",
    "# Diversity "
   ]
  },
  {
   "cell_type": "code",
   "execution_count": 6,
   "id": "e139a836",
   "metadata": {},
   "outputs": [],
   "source": [
    "#!mkdir /home/lfloerl/cloud/lfloerl/Microterroir/artifacts/ITS/lavaux/spatio-temporal/leaves"
   ]
  },
  {
   "cell_type": "code",
   "execution_count": 21,
   "id": "cd670efc",
   "metadata": {},
   "outputs": [
    {
     "name": "stdout",
     "output_type": "stream",
     "text": [
      "/home/lfloerl/cloud/lfloerl/Microterroir/artifacts/ITS/lavaux/spatio-temporal/leaves\n"
     ]
    }
   ],
   "source": [
    "workdir = '/home/lfloerl/cloud/lfloerl/Microterroir/artifacts/ITS/lavaux/spatio-temporal/leaves'\n",
    "%cd $workdir"
   ]
  },
  {
   "cell_type": "code",
   "execution_count": 5,
   "id": "03365161",
   "metadata": {},
   "outputs": [],
   "source": [
    "table = q2.Artifact.load('/home/lfloerl/cloud/lfloerl/Microterroir/artifacts/ITS/lavaux/leaf_washed_filtered_table.qza')"
   ]
  },
  {
   "cell_type": "markdown",
   "id": "32df7d95",
   "metadata": {},
   "source": [
    "depth of 5000: Retained 155’000 (23.20%) features in 31 (100.00%) samples\n",
    "\n",
    "--> could go much higher! even with 8000: Retained 224’000 (33.53%) features in 28 (90.32%) samples"
   ]
  },
  {
   "cell_type": "code",
   "execution_count": 10,
   "id": "ad617760",
   "metadata": {
    "scrolled": true
   },
   "outputs": [
    {
     "data": {
      "text/html": [
       "<div><img onload=\"(function(div, url){\n",
       "if (typeof require !== 'undefined') {\n",
       "    var baseURL = require.toUrl('').split('/').slice(0, -2).join('/');\n",
       "} else {\n",
       "    var baseURL = JSON.parse(\n",
       "        document.getElementById('jupyter-config-data').innerHTML\n",
       "    ).baseUrl.slice(0, -1);\n",
       "}\n",
       "url = baseURL + url;\n",
       "fetch(url).then(function(res) {\n",
       "    if (res.status === 404) {\n",
       "        div.innerHTML = 'Install QIIME 2 Jupyter extension with:<br />' +\n",
       "                        '<code>jupyter server extension enable --py qiime2' +\n",
       "                        ' --sys-prefix</code><br />then restart your server.' +\n",
       "                        '<br /><br />(Interactive output not available on ' +\n",
       "                        'static notebook viewer services like nbviewer.)';\n",
       "    } else if (res.status === 409) {\n",
       "        div.innerHTML = 'Visualization no longer in scope. Re-run this cell' +\n",
       "                        ' to see the visualization.';\n",
       "    } else if (res.ok) {\n",
       "        url = res.url;\n",
       "        div.innerHTML = '<iframe src=\\'' + url + '\\' style=\\'' +\n",
       "                        'width: 100%; height: 700px; border: 0;\\'>' +\n",
       "                        '</iframe><hr />Open in a: <a href=\\'' + url + '\\'' +\n",
       "                        ' target=\\'_blank\\'>new window</a>'\n",
       "    } else {\n",
       "        div.innerHTML = 'Something has gone wrong. Check notebook server for' +\n",
       "                        ' errors.';\n",
       "    }\n",
       "});\n",
       "})(this.parentElement, '/qiime2/redirect?location=/scratch/lfloerl/tmpdata/qiime2/lfloerl/data/74fed634-1071-4922-8cdf-916916415fde')\" src=\"data:image/gif;base64,R0lGODlhAQABAIAAAP///wAAACH5BAEAAAAALAAAAAABAAEAAAICRAEAOw==\" /></div>"
      ],
      "text/plain": [
       "<visualization: Visualization uuid: 74fed634-1071-4922-8cdf-916916415fde>"
      ]
     },
     "execution_count": 10,
     "metadata": {},
     "output_type": "execute_result"
    }
   ],
   "source": [
    "Visualization.load('/home/lfloerl/cloud/lfloerl/Microterroir/artifacts/ITS/lavaux/leaf_washed_filtered_table.qzv')"
   ]
  },
  {
   "cell_type": "code",
   "execution_count": 6,
   "id": "e1175bf0",
   "metadata": {},
   "outputs": [],
   "source": [
    "# just use the same rarefaction depth for all sample types\n",
    "depth = 8000 \n",
    "threads = 5"
   ]
  },
  {
   "cell_type": "code",
   "execution_count": 7,
   "id": "d91c7235",
   "metadata": {
    "scrolled": true
   },
   "outputs": [
    {
     "name": "stderr",
     "output_type": "stream",
     "text": [
      "/scratch/lfloerl/.condaenvs/qiime2-amplicon-2024.10/lib/python3.10/site-packages/qiime2/metadata/metadata.py:610: FutureWarning: Setting an item of incompatible dtype is deprecated and will raise an error in a future version of pandas. Value '[nan nan nan nan nan nan nan nan nan nan nan nan nan nan nan nan nan nan\n",
      " nan nan nan nan nan nan nan nan nan nan nan nan nan nan nan nan nan nan\n",
      " nan nan nan nan nan nan nan nan nan nan nan nan nan nan nan nan nan nan\n",
      " nan nan nan nan nan nan nan nan nan nan nan nan nan nan nan nan nan nan\n",
      " nan nan nan nan nan nan nan nan nan nan nan nan nan nan nan nan nan nan\n",
      " nan nan nan nan nan nan nan nan nan nan nan nan nan nan nan nan nan nan\n",
      " nan nan nan nan nan nan nan nan nan nan nan nan nan nan nan nan nan nan\n",
      " nan nan nan nan nan nan nan nan nan nan nan nan nan nan nan]' has dtype incompatible with float64, please explicitly cast to a compatible dtype first.\n",
      "  series[missing.index] = missing\n",
      "/scratch/lfloerl/.condaenvs/qiime2-amplicon-2024.10/lib/python3.10/site-packages/skbio/util/_warning.py:60: UserWarning: observed_otus is deprecated as of 0.6.0.\n",
      "  warn(f\"{func.__name__} is deprecated as of {ver}.\")\n",
      "/scratch/lfloerl/.condaenvs/qiime2-amplicon-2024.10/lib/python3.10/site-packages/skbio/stats/ordination/_principal_coordinate_analysis.py:146: RuntimeWarning: The result contains negative eigenvalues. Please compare their magnitude with the magnitude of some of the largest positive eigenvalues. If the negative ones are smaller, it's probably safe to ignore them, but if they are large in magnitude, the results won't be useful. See the Notes section for more details. The smallest eigenvalue is -0.05613631954233493 and the largest is 1.669726060971801.\n",
      "  warn(\n",
      "/scratch/lfloerl/.condaenvs/qiime2-amplicon-2024.10/lib/python3.10/site-packages/qiime2/metadata/metadata.py:610: FutureWarning: Setting an item of incompatible dtype is deprecated and will raise an error in a future version of pandas. Value '[nan nan nan nan nan nan nan nan nan nan nan nan nan nan nan nan nan nan\n",
      " nan nan nan nan nan nan nan nan nan nan nan nan nan nan nan nan nan nan\n",
      " nan nan nan nan nan nan nan nan nan nan nan nan nan nan nan nan nan nan\n",
      " nan nan nan nan nan nan nan nan nan nan nan nan nan nan nan nan nan nan\n",
      " nan nan nan nan nan nan nan nan nan nan nan nan nan nan nan nan nan nan\n",
      " nan nan nan nan nan nan nan nan nan nan nan nan nan nan nan nan nan nan\n",
      " nan nan nan nan nan nan nan nan nan nan nan nan nan nan nan nan nan nan\n",
      " nan nan nan nan nan nan nan nan nan nan nan nan nan nan nan]' has dtype incompatible with float64, please explicitly cast to a compatible dtype first.\n",
      "  series[missing.index] = missing\n",
      "/scratch/lfloerl/.condaenvs/qiime2-amplicon-2024.10/lib/python3.10/site-packages/qiime2/metadata/metadata.py:610: FutureWarning: Setting an item of incompatible dtype is deprecated and will raise an error in a future version of pandas. Value '[nan nan nan nan nan nan nan nan nan nan nan nan nan nan nan nan nan nan\n",
      " nan nan nan nan nan nan nan nan nan nan nan nan nan nan nan nan nan nan\n",
      " nan nan nan nan nan nan nan nan nan nan nan nan nan nan nan nan nan nan\n",
      " nan nan nan nan nan nan nan nan nan nan nan nan nan nan nan nan nan nan\n",
      " nan nan nan nan nan nan nan nan nan nan nan nan nan nan nan nan nan nan\n",
      " nan nan nan nan nan nan nan nan nan nan nan nan nan nan nan nan nan nan\n",
      " nan nan nan nan nan nan nan nan nan nan nan nan nan nan nan nan nan nan\n",
      " nan nan nan nan nan nan nan nan nan nan nan nan nan nan nan]' has dtype incompatible with float64, please explicitly cast to a compatible dtype first.\n",
      "  series[missing.index] = missing\n"
     ]
    }
   ],
   "source": [
    "core_div_dict = {}\n",
    "core_div = q2d.actions.core_metrics(table=table,\n",
    "                                    sampling_depth=depth,\n",
    "                                    metadata=md, \n",
    "                                    n_jobs=threads)\n",
    "# save outputs\n",
    "output_dir='leaf_cm{0}/'.format(depth)\n",
    "if not os.path.exists(output_dir):\n",
    "    os.makedirs(output_dir)\n",
    "for k, v in core_div.__dict__.items():\n",
    "    if k != '_fields':\n",
    "        v.save(output_dir + k)\n",
    "        core_div_dict[k] = v"
   ]
  },
  {
   "cell_type": "code",
   "execution_count": 45,
   "id": "010456c4",
   "metadata": {
    "scrolled": false
   },
   "outputs": [
    {
     "data": {
      "text/html": [
       "<div><img onload=\"(function(div, url){\n",
       "if (typeof require !== 'undefined') {\n",
       "    var baseURL = require.toUrl('').split('/').slice(0, -2).join('/');\n",
       "} else {\n",
       "    var baseURL = JSON.parse(\n",
       "        document.getElementById('jupyter-config-data').innerHTML\n",
       "    ).baseUrl.slice(0, -1);\n",
       "}\n",
       "url = baseURL + url;\n",
       "fetch(url).then(function(res) {\n",
       "    if (res.status === 404) {\n",
       "        div.innerHTML = 'Install QIIME 2 Jupyter extension with:<br />' +\n",
       "                        '<code>jupyter server extension enable --py qiime2' +\n",
       "                        ' --sys-prefix</code><br />then restart your server.' +\n",
       "                        '<br /><br />(Interactive output not available on ' +\n",
       "                        'static notebook viewer services like nbviewer.)';\n",
       "    } else if (res.status === 409) {\n",
       "        div.innerHTML = 'Visualization no longer in scope. Re-run this cell' +\n",
       "                        ' to see the visualization.';\n",
       "    } else if (res.ok) {\n",
       "        url = res.url;\n",
       "        div.innerHTML = '<iframe src=\\'' + url + '\\' style=\\'' +\n",
       "                        'width: 100%; height: 700px; border: 0;\\'>' +\n",
       "                        '</iframe><hr />Open in a: <a href=\\'' + url + '\\'' +\n",
       "                        ' target=\\'_blank\\'>new window</a>'\n",
       "    } else {\n",
       "        div.innerHTML = 'Something has gone wrong. Check notebook server for' +\n",
       "                        ' errors.';\n",
       "    }\n",
       "});\n",
       "})(this.parentElement, '/qiime2/redirect?location=/scratch/lfloerl/tmpdata/qiime2/lfloerl/data/ecff527d-f6f2-49fe-8700-f37f368e5751')\" src=\"data:image/gif;base64,R0lGODlhAQABAIAAAP///wAAACH5BAEAAAAALAAAAAABAAEAAAICRAEAOw==\" /></div>"
      ],
      "text/plain": [
       "<visualization: Visualization uuid: ecff527d-f6f2-49fe-8700-f37f368e5751>"
      ]
     },
     "execution_count": 45,
     "metadata": {},
     "output_type": "execute_result"
    }
   ],
   "source": [
    "Visualization.load(f'{workdir}/{output_dir}/bray_curtis_emperor.qzv')"
   ]
  },
  {
   "cell_type": "code",
   "execution_count": 14,
   "id": "1aff2c07",
   "metadata": {},
   "outputs": [
    {
     "data": {
      "text/html": [
       "<div><img onload=\"(function(div, url){\n",
       "if (typeof require !== 'undefined') {\n",
       "    var baseURL = require.toUrl('').split('/').slice(0, -2).join('/');\n",
       "} else {\n",
       "    var baseURL = JSON.parse(\n",
       "        document.getElementById('jupyter-config-data').innerHTML\n",
       "    ).baseUrl.slice(0, -1);\n",
       "}\n",
       "url = baseURL + url;\n",
       "fetch(url).then(function(res) {\n",
       "    if (res.status === 404) {\n",
       "        div.innerHTML = 'Install QIIME 2 Jupyter extension with:<br />' +\n",
       "                        '<code>jupyter server extension enable --py qiime2' +\n",
       "                        ' --sys-prefix</code><br />then restart your server.' +\n",
       "                        '<br /><br />(Interactive output not available on ' +\n",
       "                        'static notebook viewer services like nbviewer.)';\n",
       "    } else if (res.status === 409) {\n",
       "        div.innerHTML = 'Visualization no longer in scope. Re-run this cell' +\n",
       "                        ' to see the visualization.';\n",
       "    } else if (res.ok) {\n",
       "        url = res.url;\n",
       "        div.innerHTML = '<iframe src=\\'' + url + '\\' style=\\'' +\n",
       "                        'width: 100%; height: 700px; border: 0;\\'>' +\n",
       "                        '</iframe><hr />Open in a: <a href=\\'' + url + '\\'' +\n",
       "                        ' target=\\'_blank\\'>new window</a>'\n",
       "    } else {\n",
       "        div.innerHTML = 'Something has gone wrong. Check notebook server for' +\n",
       "                        ' errors.';\n",
       "    }\n",
       "});\n",
       "})(this.parentElement, '/qiime2/redirect?location=/scratch/lfloerl/tmpdata/qiime2/lfloerl/data/59504730-7d52-482f-be8e-c48471c5e2f9')\" src=\"data:image/gif;base64,R0lGODlhAQABAIAAAP///wAAACH5BAEAAAAALAAAAAABAAEAAAICRAEAOw==\" /></div>"
      ],
      "text/plain": [
       "<visualization: Visualization uuid: 59504730-7d52-482f-be8e-c48471c5e2f9>"
      ]
     },
     "execution_count": 14,
     "metadata": {},
     "output_type": "execute_result"
    }
   ],
   "source": [
    "Visualization.load(f'{workdir}/{output_dir}/jaccard_emperor.qzv')"
   ]
  },
  {
   "cell_type": "markdown",
   "id": "27e37ac4",
   "metadata": {},
   "source": [
    "## Kmerizer "
   ]
  },
  {
   "cell_type": "code",
   "execution_count": 29,
   "id": "449282b2",
   "metadata": {},
   "outputs": [],
   "source": [
    "#!rm -r kmer-core-metrics"
   ]
  },
  {
   "cell_type": "code",
   "execution_count": 15,
   "id": "7c480b75",
   "metadata": {},
   "outputs": [
    {
     "name": "stdout",
     "output_type": "stream",
     "text": [
      "Saved FeatureData[Sequence] to: /home/lfloerl/cloud/lfloerl/Microterroir/artifacts/ITS/lavaux/leaf_washed_filtered_rep_seqs.qza\n",
      "Saved FeatureTable[Frequency] to: leaf_kmer_cm8000/rarefied_table.qza\n",
      "Saved FeatureTable[Frequency] to: leaf_kmer_cm8000/kmer_table.qza\n",
      "Saved SampleData[AlphaDiversity] to: leaf_kmer_cm8000/observed_features_vector.qza\n",
      "Saved SampleData[AlphaDiversity] to: leaf_kmer_cm8000/shannon_vector.qza\n",
      "Saved DistanceMatrix to: leaf_kmer_cm8000/jaccard_distance_matrix.qza\n",
      "Saved DistanceMatrix to: leaf_kmer_cm8000/bray_curtis_distance_matrix.qza\n",
      "Saved PCoAResults to: leaf_kmer_cm8000/jaccard_pcoa_results.qza\n",
      "Saved PCoAResults to: leaf_kmer_cm8000/bray_curtis_pcoa_results.qza\n",
      "Saved Visualization to: leaf_kmer_cm8000/scatterplot.qzv\n"
     ]
    }
   ],
   "source": [
    "%%bash\n",
    "\n",
    "qiime feature-table filter-seqs \\\n",
    "    --i-data /home/lfloerl/cloud/lfloerl/Microterroir/artifacts/Sven-denoising-test/ITS/revcomp-trimmed-denoised/with-adjusted-parameters/ITS-revcomp-trimmed-ER-0.05-denoised-trunc-190-PFA-4.0-maxee-4.0-rep-seqs.qza \\\n",
    "    --i-table /home/lfloerl/cloud/lfloerl/Microterroir/artifacts/ITS/lavaux/leaf_washed_filtered_table.qza \\\n",
    "    --o-filtered-data /home/lfloerl/cloud/lfloerl/Microterroir/artifacts/ITS/lavaux/leaf_washed_filtered_rep_seqs.qza\n",
    "\n",
    "qiime kmerizer core-metrics \\\n",
    "    --i-sequences /home/lfloerl/cloud/lfloerl/Microterroir/artifacts/ITS/lavaux/leaf_washed_filtered_rep_seqs.qza \\\n",
    "    --i-table /home/lfloerl/cloud/lfloerl/Microterroir/artifacts/ITS/lavaux/leaf_washed_filtered_table.qza \\\n",
    "    --p-sampling-depth 8000 \\\n",
    "    --m-metadata-file /home/lfloerl/microterroir/Microbiome/Metadata/ITS_lavaux.tsv \\\n",
    "    --p-n-jobs 'auto' \\\n",
    "    --output-dir leaf_kmer_cm8000/"
   ]
  },
  {
   "cell_type": "code",
   "execution_count": 16,
   "id": "e90b9c36",
   "metadata": {},
   "outputs": [
    {
     "data": {
      "text/html": [
       "<div><img onload=\"(function(div, url){\n",
       "if (typeof require !== 'undefined') {\n",
       "    var baseURL = require.toUrl('').split('/').slice(0, -2).join('/');\n",
       "} else {\n",
       "    var baseURL = JSON.parse(\n",
       "        document.getElementById('jupyter-config-data').innerHTML\n",
       "    ).baseUrl.slice(0, -1);\n",
       "}\n",
       "url = baseURL + url;\n",
       "fetch(url).then(function(res) {\n",
       "    if (res.status === 404) {\n",
       "        div.innerHTML = 'Install QIIME 2 Jupyter extension with:<br />' +\n",
       "                        '<code>jupyter server extension enable --py qiime2' +\n",
       "                        ' --sys-prefix</code><br />then restart your server.' +\n",
       "                        '<br /><br />(Interactive output not available on ' +\n",
       "                        'static notebook viewer services like nbviewer.)';\n",
       "    } else if (res.status === 409) {\n",
       "        div.innerHTML = 'Visualization no longer in scope. Re-run this cell' +\n",
       "                        ' to see the visualization.';\n",
       "    } else if (res.ok) {\n",
       "        url = res.url;\n",
       "        div.innerHTML = '<iframe src=\\'' + url + '\\' style=\\'' +\n",
       "                        'width: 100%; height: 700px; border: 0;\\'>' +\n",
       "                        '</iframe><hr />Open in a: <a href=\\'' + url + '\\'' +\n",
       "                        ' target=\\'_blank\\'>new window</a>'\n",
       "    } else {\n",
       "        div.innerHTML = 'Something has gone wrong. Check notebook server for' +\n",
       "                        ' errors.';\n",
       "    }\n",
       "});\n",
       "})(this.parentElement, '/qiime2/redirect?location=/scratch/lfloerl/tmpdata/qiime2/lfloerl/data/f9b0d514-6508-4b39-96c4-eafc82d1acfb')\" src=\"data:image/gif;base64,R0lGODlhAQABAIAAAP///wAAACH5BAEAAAAALAAAAAABAAEAAAICRAEAOw==\" /></div>"
      ],
      "text/plain": [
       "<visualization: Visualization uuid: f9b0d514-6508-4b39-96c4-eafc82d1acfb>"
      ]
     },
     "execution_count": 16,
     "metadata": {},
     "output_type": "execute_result"
    }
   ],
   "source": [
    "Visualization.load('leaf_kmer_cm8000/scatterplot.qzv')"
   ]
  },
  {
   "cell_type": "markdown",
   "id": "575ca82f",
   "metadata": {},
   "source": [
    "## Nicer visualizations"
   ]
  },
  {
   "cell_type": "code",
   "execution_count": 22,
   "id": "0dc9564a",
   "metadata": {},
   "outputs": [
    {
     "name": "stdout",
     "output_type": "stream",
     "text": [
      "\u001b[32mExported leaf_cm8000/jaccard_pcoa_results.qza as OrdinationDirectoryFormat to directory leaf_cm8000/jaccard_pcoa_results\u001b[0m\n",
      "\u001b[0m\u001b[32mExported leaf_cm8000/bray_curtis_pcoa_results.qza as OrdinationDirectoryFormat to directory leaf_cm8000/bray_curtis_pcoa_results\u001b[0m\n",
      "\u001b[0m\u001b[32mExported leaf_kmer_cm8000/jaccard_pcoa_results.qza as OrdinationDirectoryFormat to directory leaf_kmer_cm8000/jaccard_pcoa_results\u001b[0m\n",
      "\u001b[0m\u001b[32mExported leaf_kmer_cm8000/bray_curtis_pcoa_results.qza as OrdinationDirectoryFormat to directory leaf_kmer_cm8000/bray_curtis_pcoa_results\u001b[0m\n",
      "\u001b[0m"
     ]
    }
   ],
   "source": [
    "!qiime tools export --input-path leaf_cm8000/jaccard_pcoa_results.qza --output-path leaf_cm8000/jaccard_pcoa_results\n",
    "!qiime tools export --input-path leaf_cm8000/bray_curtis_pcoa_results.qza --output-path leaf_cm8000/bray_curtis_pcoa_results\n",
    "!qiime tools export --input-path leaf_kmer_cm8000/jaccard_pcoa_results.qza --output-path leaf_kmer_cm8000/jaccard_pcoa_results\n",
    "!qiime tools export --input-path leaf_kmer_cm8000/bray_curtis_pcoa_results.qza --output-path leaf_kmer_cm8000/bray_curtis_pcoa_results"
   ]
  },
  {
   "cell_type": "code",
   "execution_count": 23,
   "id": "c7b00420",
   "metadata": {},
   "outputs": [],
   "source": [
    "# reimport \n",
    "bc_pcoa = pd.read_csv('leaf_cm8000/bray_curtis_pcoa_results/ordination.txt', sep='\\t', skiprows=9, header=None)\n",
    "jaccard_pcoa = pd.read_csv('leaf_cm8000/jaccard_pcoa_results/ordination.txt', sep='\\t', skiprows=9, header=None)\n",
    "bc_kmer_pcoa = pd.read_csv('leaf_kmer_cm8000/bray_curtis_pcoa_results/ordination.txt', sep='\\t', skiprows=9, header=None)\n",
    "jaccard__kmer_pcoa = pd.read_csv('leaf_kmer_cm8000/jaccard_pcoa_results/ordination.txt', sep='\\t', skiprows=9, header=None)\n",
    "\n",
    "\n",
    "# function to get components \n",
    "def select_components(df):\n",
    "    # Drop the last 2 rows\n",
    "    df = df.iloc[:-2]\n",
    "    # Select specific columns\n",
    "    df = df.iloc[:, [0, 1, 2]]\n",
    "    # Rename columns and set index\n",
    "    df = df.rename(columns={0: 'ID', 1: 'PC1', 2: 'PC2'}).set_index('ID')\n",
    "    return df\n",
    "\n",
    "bc_pcoa_df = select_components(bc_pcoa)\n",
    "jaccard_pcoa_df = select_components(jaccard_pcoa)\n",
    "bc_pcoa_kmer_df = select_components(bc_kmer_pcoa)\n",
    "jaccard_pcoa_kmer_df = select_components(jaccard__kmer_pcoa)\n",
    "\n",
    "md = pd.read_csv('/home/lfloerl/microterroir/Microbiome/Metadata/ITS_lavaux.tsv', sep='\\t', index_col=0)\n",
    "\n",
    "# merge with metadata\n",
    "bc_pcoa_df_merged = bc_pcoa_df.merge(md, left_on='ID', right_on='id', how='left')\n",
    "jaccard_pcoa_df_merged = jaccard_pcoa_df.merge(md, left_on='ID', right_on='id', how='left')\n",
    "bc_pcoa_kmer_df_merged = bc_pcoa_kmer_df.merge(md, left_on='ID', right_on='id', how='left')\n",
    "jaccard_pcoa_kmer_df_merged = jaccard_pcoa_kmer_df.merge(md, left_on='ID', right_on='id', how='left')"
   ]
  },
  {
   "cell_type": "code",
   "execution_count": 24,
   "id": "74678a46",
   "metadata": {},
   "outputs": [],
   "source": [
    "def draw_confidence_ellipse(x, y, ax, n_std=2.0, facecolor='none', edgecolor='black', **kwargs):\n",
    "    \"\"\"\n",
    "    Draw a covariance confidence ellipse of *x* and *y* on *ax*.\n",
    "    \"\"\"\n",
    "    if len(x) != len(y):\n",
    "        raise ValueError(\"x and y must be the same length\")\n",
    "\n",
    "    cov = np.cov(x, y)\n",
    "    mean_x = np.mean(x)\n",
    "    mean_y = np.mean(y)\n",
    "\n",
    "    # Eigen decomposition\n",
    "    vals, vecs = np.linalg.eigh(cov)\n",
    "    order = vals.argsort()[::-1]\n",
    "    vals, vecs = vals[order], vecs[:, order]\n",
    "    theta = np.degrees(np.arctan2(*vecs[:, 0][::-1]))\n",
    "\n",
    "    width, height = 2 * n_std * np.sqrt(vals)\n",
    "    ellipse = Ellipse((mean_x, mean_y), width, height, angle=theta,\n",
    "                      edgecolor=edgecolor, facecolor=facecolor, **kwargs)\n",
    "    ax.add_patch(ellipse)"
   ]
  },
  {
   "cell_type": "code",
   "execution_count": 25,
   "id": "ffb04b26",
   "metadata": {},
   "outputs": [],
   "source": [
    "unique_years = jaccard_pcoa_df_merged['Year'].unique()\n",
    "palette = sns.color_palette('viridis', n_colors=len(unique_years))\n",
    "year_color_map = dict(zip(unique_years, palette))"
   ]
  },
  {
   "cell_type": "code",
   "execution_count": 29,
   "id": "11ce6bd5",
   "metadata": {},
   "outputs": [
    {
     "data": {
      "image/png": "[encoded data removed]",
      "text/plain": [
       "<Figure size 300x300 with 1 Axes>"
      ]
     },
     "metadata": {},
     "output_type": "display_data"
    }
   ],
   "source": [
    "fig, ax = plt.subplots(figsize=(3, 3))\n",
    "\n",
    "# Scatterplot\n",
    "sns.scatterplot(\n",
    "    x='PC1', y='PC2',\n",
    "    data=jaccard_pcoa_df_merged,\n",
    "    hue='Year',\n",
    "    palette=year_color_map,\n",
    "    s=40, edgecolor='none', alpha=0.8, legend=False, ax=ax\n",
    ")\n",
    "\n",
    "# Draw ellipses with matching colors\n",
    "for year, group_data in jaccard_pcoa_df_merged.groupby('Year'):\n",
    "    color = year_color_map[year]\n",
    "    draw_confidence_ellipse(\n",
    "        group_data['PC1'].values, group_data['PC2'].values,\n",
    "        ax=ax,\n",
    "        edgecolor=color,\n",
    "        linewidth=1.5,\n",
    "        alpha=0.6\n",
    "    )\n",
    "\n",
    "plt.savefig('/home/lfloerl/cloud/lfloerl/Microterroir/Figures/PCoA_Leaves_Year_Jaccard.png', dpi=1000, bbox_inches='tight')\n",
    "plt.show()"
   ]
  },
  {
   "cell_type": "code",
   "execution_count": 30,
   "id": "308f29bc",
   "metadata": {},
   "outputs": [
    {
     "data": {
      "image/png": "[encoded data removed]",
      "text/plain": [
       "<Figure size 300x300 with 1 Axes>"
      ]
     },
     "metadata": {},
     "output_type": "display_data"
    }
   ],
   "source": [
    "fig, ax = plt.subplots(figsize=(3, 3))\n",
    "\n",
    "# Scatterplot\n",
    "sns.scatterplot(\n",
    "    x='PC1', y='PC2',\n",
    "    data=bc_pcoa_df_merged,\n",
    "    hue='Year',\n",
    "    palette=year_color_map,\n",
    "    s=40, edgecolor='none', alpha=0.8, legend=False, ax=ax\n",
    ")\n",
    "\n",
    "# Draw ellipses with matching colors\n",
    "for year, group_data in bc_pcoa_df_merged.groupby('Year'):\n",
    "    color = year_color_map[year]\n",
    "    draw_confidence_ellipse(\n",
    "        group_data['PC1'].values, group_data['PC2'].values,\n",
    "        ax=ax,\n",
    "        edgecolor=color,\n",
    "        linewidth=1.5,\n",
    "        alpha=0.6\n",
    "    )\n",
    "\n",
    "plt.savefig('/home/lfloerl/cloud/lfloerl/Microterroir/Figures/PCoA_Leaves_Year_BC.png', dpi=1000, bbox_inches='tight')\n",
    "plt.show()"
   ]
  },
  {
   "cell_type": "code",
   "execution_count": 31,
   "id": "fb7bf353",
   "metadata": {},
   "outputs": [
    {
     "data": {
      "image/png": "[encoded data removed]",
      "text/plain": [
       "<Figure size 300x300 with 1 Axes>"
      ]
     },
     "metadata": {},
     "output_type": "display_data"
    }
   ],
   "source": [
    "fig, ax = plt.subplots(figsize=(3, 3))\n",
    "\n",
    "# Scatterplot\n",
    "sns.scatterplot(\n",
    "    x='PC1', y='PC2',\n",
    "    data=bc_pcoa_kmer_df_merged,\n",
    "    hue='Year',\n",
    "    palette=year_color_map,\n",
    "    s=40, edgecolor='none', alpha=0.8, legend=False, ax=ax\n",
    ")\n",
    "\n",
    "# Draw ellipses with matching colors\n",
    "for year, group_data in bc_pcoa_kmer_df_merged.groupby('Year'):\n",
    "    color = year_color_map[year]\n",
    "    draw_confidence_ellipse(\n",
    "        group_data['PC1'].values, group_data['PC2'].values,\n",
    "        ax=ax,\n",
    "        edgecolor=color,\n",
    "        linewidth=1.5,\n",
    "        alpha=0.6\n",
    "    )\n",
    "\n",
    "plt.savefig('/home/lfloerl/cloud/lfloerl/Microterroir/Figures/PCoA_Leaves_Year_BC_kmer.png', dpi=1000, bbox_inches='tight')\n",
    "plt.show()"
   ]
  },
  {
   "cell_type": "code",
   "execution_count": 32,
   "id": "8efcd130",
   "metadata": {},
   "outputs": [
    {
     "data": {
      "image/png": "[encoded data removed]",
      "text/plain": [
       "<Figure size 370x300 with 1 Axes>"
      ]
     },
     "metadata": {},
     "output_type": "display_data"
    }
   ],
   "source": [
    "fig, ax = plt.subplots(figsize=(3.7, 3))\n",
    "\n",
    "ax = plt.gca()\n",
    "\n",
    "# Scatterplot\n",
    "sns.scatterplot(\n",
    "    x='PC1', y='PC2',\n",
    "    data=jaccard_pcoa_kmer_df_merged,\n",
    "    hue='Year',\n",
    "    palette=year_color_map,\n",
    "    s=40, edgecolor='none', alpha=0.8, legend=True, ax=ax\n",
    ")\n",
    "\n",
    "# Draw ellipses with matching colors\n",
    "for year, group_data in jaccard_pcoa_kmer_df_merged.groupby('Year'):\n",
    "    color = year_color_map[year]\n",
    "    draw_confidence_ellipse(\n",
    "        group_data['PC1'].values, group_data['PC2'].values,\n",
    "        ax=ax,\n",
    "        edgecolor=color,\n",
    "        linewidth=1.5,\n",
    "        alpha=0.6\n",
    "    )\n",
    "\n",
    "# Adjust plot position to make space for the legend\n",
    "box = ax.get_position()\n",
    "ax.set_position([box.x0, box.y0, box.width * 0.8, box.height])  # Shrink plot width\n",
    "\n",
    "# Place the legend outside\n",
    "ax.legend(loc='center left', bbox_to_anchor=(1, 0.5))\n",
    "\n",
    "plt.savefig('/home/lfloerl/cloud/lfloerl/Microterroir/Figures/PCoA_Leaves_Year_Jaccard_kmer.png', dpi=1000, bbox_inches='tight')\n",
    "plt.show()"
   ]
  },
  {
   "cell_type": "code",
   "execution_count": null,
   "id": "ccbe00aa",
   "metadata": {},
   "outputs": [],
   "source": []
  },
  {
   "cell_type": "code",
   "execution_count": null,
   "id": "18a50c81",
   "metadata": {},
   "outputs": [],
   "source": []
  },
  {
   "cell_type": "markdown",
   "id": "fb6c27ed",
   "metadata": {},
   "source": [
    "### Alpha Group Significance "
   ]
  },
  {
   "cell_type": "code",
   "execution_count": 8,
   "id": "dd8cf4d5",
   "metadata": {},
   "outputs": [
    {
     "name": "stderr",
     "output_type": "stream",
     "text": [
      "/scratch/lfloerl/.condaenvs/qiime2-amplicon-2024.10/lib/python3.10/site-packages/q2_types/sample_data/_deferred_setup/_transformers.py:28: FutureWarning: errors='ignore' is deprecated and will raise in a future version. Use to_numeric without passing `errors` and catch exceptions explicitly instead\n",
      "  df[cols] = df[cols].apply(pd.to_numeric, errors='ignore')\n",
      "/scratch/lfloerl/.condaenvs/qiime2-amplicon-2024.10/lib/python3.10/site-packages/qiime2/metadata/metadata.py:610: FutureWarning: Setting an item of incompatible dtype is deprecated and will raise an error in a future version of pandas. Value '[nan nan nan nan nan nan nan nan nan nan nan nan nan nan nan nan nan nan\n",
      " nan nan nan nan nan nan nan nan nan nan nan nan nan nan nan nan nan nan\n",
      " nan nan nan nan nan nan nan nan nan nan nan nan nan nan nan nan nan nan\n",
      " nan nan nan nan nan nan nan nan nan nan nan nan nan nan nan nan nan nan\n",
      " nan nan nan nan nan nan nan nan nan nan nan nan nan nan nan nan nan nan\n",
      " nan nan nan nan nan nan nan nan nan nan nan nan nan nan nan nan nan nan\n",
      " nan nan nan nan nan nan nan nan nan nan nan nan nan nan nan nan nan nan\n",
      " nan nan nan nan nan nan nan nan nan nan nan nan nan nan nan]' has dtype incompatible with float64, please explicitly cast to a compatible dtype first.\n",
      "  series[missing.index] = missing\n",
      "/scratch/lfloerl/.condaenvs/qiime2-amplicon-2024.10/lib/python3.10/site-packages/q2_types/sample_data/_deferred_setup/_transformers.py:28: FutureWarning: errors='ignore' is deprecated and will raise in a future version. Use to_numeric without passing `errors` and catch exceptions explicitly instead\n",
      "  df[cols] = df[cols].apply(pd.to_numeric, errors='ignore')\n",
      "/scratch/lfloerl/.condaenvs/qiime2-amplicon-2024.10/lib/python3.10/site-packages/qiime2/metadata/metadata.py:610: FutureWarning: Setting an item of incompatible dtype is deprecated and will raise an error in a future version of pandas. Value '[nan nan nan nan nan nan nan nan nan nan nan nan nan nan nan nan nan nan\n",
      " nan nan nan nan nan nan nan nan nan nan nan nan nan nan nan nan nan nan\n",
      " nan nan nan nan nan nan nan nan nan nan nan nan nan nan nan nan nan nan\n",
      " nan nan nan nan nan nan nan nan nan nan nan nan nan nan nan nan nan nan\n",
      " nan nan nan nan nan nan nan nan nan nan nan nan nan nan nan nan nan nan\n",
      " nan nan nan nan nan nan nan nan nan nan nan nan nan nan nan nan nan nan\n",
      " nan nan nan nan nan nan nan nan nan nan nan nan nan nan nan nan nan nan\n",
      " nan nan nan nan nan nan nan nan nan nan nan nan nan nan nan]' has dtype incompatible with float64, please explicitly cast to a compatible dtype first.\n",
      "  series[missing.index] = missing\n",
      "/scratch/lfloerl/.condaenvs/qiime2-amplicon-2024.10/lib/python3.10/site-packages/q2_types/sample_data/_deferred_setup/_transformers.py:28: FutureWarning: errors='ignore' is deprecated and will raise in a future version. Use to_numeric without passing `errors` and catch exceptions explicitly instead\n",
      "  df[cols] = df[cols].apply(pd.to_numeric, errors='ignore')\n",
      "/scratch/lfloerl/.condaenvs/qiime2-amplicon-2024.10/lib/python3.10/site-packages/qiime2/metadata/metadata.py:610: FutureWarning: Setting an item of incompatible dtype is deprecated and will raise an error in a future version of pandas. Value '[nan nan nan nan nan nan nan nan nan nan nan nan nan nan nan nan nan nan\n",
      " nan nan nan nan nan nan nan nan nan nan nan nan nan nan nan nan nan nan\n",
      " nan nan nan nan nan nan nan nan nan nan nan nan nan nan nan nan nan nan\n",
      " nan nan nan nan nan nan nan nan nan nan nan nan nan nan nan nan nan nan\n",
      " nan nan nan nan nan nan nan nan nan nan nan nan nan nan nan nan nan nan\n",
      " nan nan nan nan nan nan nan nan nan nan nan nan nan nan nan nan nan nan\n",
      " nan nan nan nan nan nan nan nan nan nan nan nan nan nan nan nan nan nan\n",
      " nan nan nan nan nan nan nan nan nan nan nan nan nan nan nan]' has dtype incompatible with float64, please explicitly cast to a compatible dtype first.\n",
      "  series[missing.index] = missing\n"
     ]
    }
   ],
   "source": [
    "# metrics: \n",
    "alpha_metrics = ['shannon_vector', 'observed_features_vector', 'evenness_vector']\n",
    "\n",
    "for m in alpha_metrics:\n",
    "    ags, = alpha_group_significance(alpha_diversity = core_div_dict[m],\n",
    "                               metadata = md)\n",
    "    ags.save(output_dir + 'alpha_groupSig_{0}.qzv'.format(m))"
   ]
  },
  {
   "cell_type": "code",
   "execution_count": 9,
   "id": "fd079ab6",
   "metadata": {
    "scrolled": false
   },
   "outputs": [
    {
     "data": {
      "text/html": [
       "<div><img onload=\"(function(div, url){\n",
       "if (typeof require !== 'undefined') {\n",
       "    var baseURL = require.toUrl('').split('/').slice(0, -2).join('/');\n",
       "} else {\n",
       "    var baseURL = JSON.parse(\n",
       "        document.getElementById('jupyter-config-data').innerHTML\n",
       "    ).baseUrl.slice(0, -1);\n",
       "}\n",
       "url = baseURL + url;\n",
       "fetch(url).then(function(res) {\n",
       "    if (res.status === 404) {\n",
       "        div.innerHTML = 'Install QIIME 2 Jupyter extension with:<br />' +\n",
       "                        '<code>jupyter server extension enable --py qiime2' +\n",
       "                        ' --sys-prefix</code><br />then restart your server.' +\n",
       "                        '<br /><br />(Interactive output not available on ' +\n",
       "                        'static notebook viewer services like nbviewer.)';\n",
       "    } else if (res.status === 409) {\n",
       "        div.innerHTML = 'Visualization no longer in scope. Re-run this cell' +\n",
       "                        ' to see the visualization.';\n",
       "    } else if (res.ok) {\n",
       "        url = res.url;\n",
       "        div.innerHTML = '<iframe src=\\'' + url + '\\' style=\\'' +\n",
       "                        'width: 100%; height: 700px; border: 0;\\'>' +\n",
       "                        '</iframe><hr />Open in a: <a href=\\'' + url + '\\'' +\n",
       "                        ' target=\\'_blank\\'>new window</a>'\n",
       "    } else {\n",
       "        div.innerHTML = 'Something has gone wrong. Check notebook server for' +\n",
       "                        ' errors.';\n",
       "    }\n",
       "});\n",
       "})(this.parentElement, '/qiime2/redirect?location=/scratch/lfloerl/tmpdata/qiime2/lfloerl/data/e366c647-b68b-4aee-8bcd-ae753d88048b')\" src=\"data:image/gif;base64,R0lGODlhAQABAIAAAP///wAAACH5BAEAAAAALAAAAAABAAEAAAICRAEAOw==\" /></div>"
      ],
      "text/plain": [
       "<visualization: Visualization uuid: e366c647-b68b-4aee-8bcd-ae753d88048b>"
      ]
     },
     "execution_count": 9,
     "metadata": {},
     "output_type": "execute_result"
    }
   ],
   "source": [
    "Visualization.load(f'{output_dir}/alpha_groupSig_evenness_vector.qzv')"
   ]
  },
  {
   "cell_type": "code",
   "execution_count": 10,
   "id": "a475d39b",
   "metadata": {
    "scrolled": false
   },
   "outputs": [
    {
     "data": {
      "text/html": [
       "<div><img onload=\"(function(div, url){\n",
       "if (typeof require !== 'undefined') {\n",
       "    var baseURL = require.toUrl('').split('/').slice(0, -2).join('/');\n",
       "} else {\n",
       "    var baseURL = JSON.parse(\n",
       "        document.getElementById('jupyter-config-data').innerHTML\n",
       "    ).baseUrl.slice(0, -1);\n",
       "}\n",
       "url = baseURL + url;\n",
       "fetch(url).then(function(res) {\n",
       "    if (res.status === 404) {\n",
       "        div.innerHTML = 'Install QIIME 2 Jupyter extension with:<br />' +\n",
       "                        '<code>jupyter server extension enable --py qiime2' +\n",
       "                        ' --sys-prefix</code><br />then restart your server.' +\n",
       "                        '<br /><br />(Interactive output not available on ' +\n",
       "                        'static notebook viewer services like nbviewer.)';\n",
       "    } else if (res.status === 409) {\n",
       "        div.innerHTML = 'Visualization no longer in scope. Re-run this cell' +\n",
       "                        ' to see the visualization.';\n",
       "    } else if (res.ok) {\n",
       "        url = res.url;\n",
       "        div.innerHTML = '<iframe src=\\'' + url + '\\' style=\\'' +\n",
       "                        'width: 100%; height: 700px; border: 0;\\'>' +\n",
       "                        '</iframe><hr />Open in a: <a href=\\'' + url + '\\'' +\n",
       "                        ' target=\\'_blank\\'>new window</a>'\n",
       "    } else {\n",
       "        div.innerHTML = 'Something has gone wrong. Check notebook server for' +\n",
       "                        ' errors.';\n",
       "    }\n",
       "});\n",
       "})(this.parentElement, '/qiime2/redirect?location=/scratch/lfloerl/tmpdata/qiime2/lfloerl/data/cfe0dc50-662c-43c4-a8f8-6da7a29bb675')\" src=\"data:image/gif;base64,R0lGODlhAQABAIAAAP///wAAACH5BAEAAAAALAAAAAABAAEAAAICRAEAOw==\" /></div>"
      ],
      "text/plain": [
       "<visualization: Visualization uuid: cfe0dc50-662c-43c4-a8f8-6da7a29bb675>"
      ]
     },
     "execution_count": 10,
     "metadata": {},
     "output_type": "execute_result"
    }
   ],
   "source": [
    "Visualization.load(f'{output_dir}/alpha_groupSig_observed_features_vector.qzv')"
   ]
  },
  {
   "cell_type": "code",
   "execution_count": 11,
   "id": "b9469709",
   "metadata": {},
   "outputs": [
    {
     "data": {
      "text/html": [
       "<div><img onload=\"(function(div, url){\n",
       "if (typeof require !== 'undefined') {\n",
       "    var baseURL = require.toUrl('').split('/').slice(0, -2).join('/');\n",
       "} else {\n",
       "    var baseURL = JSON.parse(\n",
       "        document.getElementById('jupyter-config-data').innerHTML\n",
       "    ).baseUrl.slice(0, -1);\n",
       "}\n",
       "url = baseURL + url;\n",
       "fetch(url).then(function(res) {\n",
       "    if (res.status === 404) {\n",
       "        div.innerHTML = 'Install QIIME 2 Jupyter extension with:<br />' +\n",
       "                        '<code>jupyter server extension enable --py qiime2' +\n",
       "                        ' --sys-prefix</code><br />then restart your server.' +\n",
       "                        '<br /><br />(Interactive output not available on ' +\n",
       "                        'static notebook viewer services like nbviewer.)';\n",
       "    } else if (res.status === 409) {\n",
       "        div.innerHTML = 'Visualization no longer in scope. Re-run this cell' +\n",
       "                        ' to see the visualization.';\n",
       "    } else if (res.ok) {\n",
       "        url = res.url;\n",
       "        div.innerHTML = '<iframe src=\\'' + url + '\\' style=\\'' +\n",
       "                        'width: 100%; height: 700px; border: 0;\\'>' +\n",
       "                        '</iframe><hr />Open in a: <a href=\\'' + url + '\\'' +\n",
       "                        ' target=\\'_blank\\'>new window</a>'\n",
       "    } else {\n",
       "        div.innerHTML = 'Something has gone wrong. Check notebook server for' +\n",
       "                        ' errors.';\n",
       "    }\n",
       "});\n",
       "})(this.parentElement, '/qiime2/redirect?location=/scratch/lfloerl/tmpdata/qiime2/lfloerl/data/7547d8df-bb73-48c5-8bea-3c9609f5e7a7')\" src=\"data:image/gif;base64,R0lGODlhAQABAIAAAP///wAAACH5BAEAAAAALAAAAAABAAEAAAICRAEAOw==\" /></div>"
      ],
      "text/plain": [
       "<visualization: Visualization uuid: 7547d8df-bb73-48c5-8bea-3c9609f5e7a7>"
      ]
     },
     "execution_count": 11,
     "metadata": {},
     "output_type": "execute_result"
    }
   ],
   "source": [
    "Visualization.load(f'{output_dir}/alpha_groupSig_shannon_vector.qzv')"
   ]
  },
  {
   "cell_type": "markdown",
   "id": "c0c19d61",
   "metadata": {},
   "source": [
    "### PERMANOVA\n",
    "\n",
    "-> note leaves was only collected once per year (veraison) "
   ]
  },
  {
   "cell_type": "code",
   "execution_count": 21,
   "id": "1239daba",
   "metadata": {
    "scrolled": true
   },
   "outputs": [
    {
     "name": "stdout",
     "output_type": "stream",
     "text": [
      "Running external command line application. This may print messages to stdout and/or stderr.\n",
      "The command being run is below. This command cannot be manually re-run as it will depend on temporary files that no longer exist.\n",
      "\n",
      "Command: run_adonis.R /scratch/lfloerl/tmpdata/tmpnwsw_924/dm.tsv /scratch/lfloerl/tmpdata/tmpnwsw_924/md.tsv  Plot_ID * Year 999 3 /scratch/lfloerl/tmpdata/qiime2-temp-qvmks2s4/adonis.tsv\n",
      "\n",
      "R version 4.3.3 (2024-02-29) \n"
     ]
    },
    {
     "name": "stderr",
     "output_type": "stream",
     "text": [
      "Lade nötiges Paket: permute\n",
      "Lade nötiges Paket: lattice\n",
      "This is vegan 2.6-8\n",
      "Warnmeldung:\n",
      "'adonis' ist veraltet.\n",
      "Benutzen Sie stattdessen 'adonis2'\n",
      "Siehe help(\"Deprecated\") und help(\"vegan-deprecated\"). \n"
     ]
    },
    {
     "name": "stdout",
     "output_type": "stream",
     "text": [
      "Running external command line application. This may print messages to stdout and/or stderr.\n",
      "The command being run is below. This command cannot be manually re-run as it will depend on temporary files that no longer exist.\n",
      "\n",
      "Command: run_adonis.R /scratch/lfloerl/tmpdata/tmpg8j2dzcp/dm.tsv /scratch/lfloerl/tmpdata/tmpg8j2dzcp/md.tsv  Plot_ID * Year 999 3 /scratch/lfloerl/tmpdata/qiime2-temp-tr1z3neu/adonis.tsv\n",
      "\n",
      "R version 4.3.3 (2024-02-29) \n"
     ]
    },
    {
     "name": "stderr",
     "output_type": "stream",
     "text": [
      "Lade nötiges Paket: permute\n",
      "Lade nötiges Paket: lattice\n",
      "This is vegan 2.6-8\n",
      "Warnmeldung:\n",
      "'adonis' ist veraltet.\n",
      "Benutzen Sie stattdessen 'adonis2'\n",
      "Siehe help(\"Deprecated\") und help(\"vegan-deprecated\"). \n"
     ]
    },
    {
     "name": "stdout",
     "output_type": "stream",
     "text": [
      "\u001b[32mSaved Visualization to: leaf_kmer_cm8000/adonis_bray_curtis.qzv\u001b[0m\n",
      "\u001b[0m\u001b[32mSaved Visualization to: leaf_kmer_cm8000/adonis_jaccard.qzv\u001b[0m\n",
      "\u001b[0m"
     ]
    }
   ],
   "source": [
    "formula = ' Plot_ID * Year'\n",
    "\n",
    "beta_metrics = ['bray_curtis', 'jaccard']\n",
    "\n",
    "# PERMANOVA with core metrics \n",
    "for m in beta_metrics:\n",
    "    adonis_res, = q2d.actions.adonis(\n",
    "        distance_matrix=core_div_dict[m + '_distance_matrix'],\n",
    "        metadata=md,\n",
    "        formula=formula,\n",
    "        n_jobs=3)\n",
    "    adonis_res.save(output_dir + 'adonis_{0}.qzv'.format(m))\n",
    "    \n",
    "\n",
    "# PERMANOVA with kmer core metrics \n",
    "kmer_dir = 'leaf_kmer_cm8000'\n",
    "    \n",
    "for m in beta_metrics:\n",
    "    !qiime diversity adonis \\\n",
    "        --i-distance-matrix \"{kmer_dir}/{m}_distance_matrix.qza\" \\\n",
    "        --m-metadata-file /home/lfloerl/microterroir/Microbiome/Metadata/ITS_lavaux.tsv \\\n",
    "        --p-formula \"{formula}\" \\\n",
    "        --p-n-jobs 5 \\\n",
    "        --o-visualization \"{kmer_dir}/adonis_{m}.qzv\""
   ]
  },
  {
   "cell_type": "code",
   "execution_count": 22,
   "id": "03924c1f",
   "metadata": {
    "scrolled": true
   },
   "outputs": [
    {
     "data": {
      "text/html": [
       "<div><img onload=\"(function(div, url){\n",
       "if (typeof require !== 'undefined') {\n",
       "    var baseURL = require.toUrl('').split('/').slice(0, -2).join('/');\n",
       "} else {\n",
       "    var baseURL = JSON.parse(\n",
       "        document.getElementById('jupyter-config-data').innerHTML\n",
       "    ).baseUrl.slice(0, -1);\n",
       "}\n",
       "url = baseURL + url;\n",
       "fetch(url).then(function(res) {\n",
       "    if (res.status === 404) {\n",
       "        div.innerHTML = 'Install QIIME 2 Jupyter extension with:<br />' +\n",
       "                        '<code>jupyter server extension enable --py qiime2' +\n",
       "                        ' --sys-prefix</code><br />then restart your server.' +\n",
       "                        '<br /><br />(Interactive output not available on ' +\n",
       "                        'static notebook viewer services like nbviewer.)';\n",
       "    } else if (res.status === 409) {\n",
       "        div.innerHTML = 'Visualization no longer in scope. Re-run this cell' +\n",
       "                        ' to see the visualization.';\n",
       "    } else if (res.ok) {\n",
       "        url = res.url;\n",
       "        div.innerHTML = '<iframe src=\\'' + url + '\\' style=\\'' +\n",
       "                        'width: 100%; height: 700px; border: 0;\\'>' +\n",
       "                        '</iframe><hr />Open in a: <a href=\\'' + url + '\\'' +\n",
       "                        ' target=\\'_blank\\'>new window</a>'\n",
       "    } else {\n",
       "        div.innerHTML = 'Something has gone wrong. Check notebook server for' +\n",
       "                        ' errors.';\n",
       "    }\n",
       "});\n",
       "})(this.parentElement, '/qiime2/redirect?location=/scratch/lfloerl/tmpdata/qiime2/lfloerl/data/0ed939ac-6c03-4308-810b-89e8978acaed')\" src=\"data:image/gif;base64,R0lGODlhAQABAIAAAP///wAAACH5BAEAAAAALAAAAAABAAEAAAICRAEAOw==\" /></div>"
      ],
      "text/plain": [
       "<visualization: Visualization uuid: 0ed939ac-6c03-4308-810b-89e8978acaed>"
      ]
     },
     "execution_count": 22,
     "metadata": {},
     "output_type": "execute_result"
    }
   ],
   "source": [
    "Visualization.load(f'{output_dir}/adonis_bray_curtis.qzv')"
   ]
  },
  {
   "cell_type": "code",
   "execution_count": 23,
   "id": "56e82da0",
   "metadata": {
    "scrolled": false
   },
   "outputs": [
    {
     "data": {
      "text/html": [
       "<div><img onload=\"(function(div, url){\n",
       "if (typeof require !== 'undefined') {\n",
       "    var baseURL = require.toUrl('').split('/').slice(0, -2).join('/');\n",
       "} else {\n",
       "    var baseURL = JSON.parse(\n",
       "        document.getElementById('jupyter-config-data').innerHTML\n",
       "    ).baseUrl.slice(0, -1);\n",
       "}\n",
       "url = baseURL + url;\n",
       "fetch(url).then(function(res) {\n",
       "    if (res.status === 404) {\n",
       "        div.innerHTML = 'Install QIIME 2 Jupyter extension with:<br />' +\n",
       "                        '<code>jupyter server extension enable --py qiime2' +\n",
       "                        ' --sys-prefix</code><br />then restart your server.' +\n",
       "                        '<br /><br />(Interactive output not available on ' +\n",
       "                        'static notebook viewer services like nbviewer.)';\n",
       "    } else if (res.status === 409) {\n",
       "        div.innerHTML = 'Visualization no longer in scope. Re-run this cell' +\n",
       "                        ' to see the visualization.';\n",
       "    } else if (res.ok) {\n",
       "        url = res.url;\n",
       "        div.innerHTML = '<iframe src=\\'' + url + '\\' style=\\'' +\n",
       "                        'width: 100%; height: 700px; border: 0;\\'>' +\n",
       "                        '</iframe><hr />Open in a: <a href=\\'' + url + '\\'' +\n",
       "                        ' target=\\'_blank\\'>new window</a>'\n",
       "    } else {\n",
       "        div.innerHTML = 'Something has gone wrong. Check notebook server for' +\n",
       "                        ' errors.';\n",
       "    }\n",
       "});\n",
       "})(this.parentElement, '/qiime2/redirect?location=/scratch/lfloerl/tmpdata/qiime2/lfloerl/data/fc9bf7f2-acee-40e4-a474-72d1eef03161')\" src=\"data:image/gif;base64,R0lGODlhAQABAIAAAP///wAAACH5BAEAAAAALAAAAAABAAEAAAICRAEAOw==\" /></div>"
      ],
      "text/plain": [
       "<visualization: Visualization uuid: fc9bf7f2-acee-40e4-a474-72d1eef03161>"
      ]
     },
     "execution_count": 23,
     "metadata": {},
     "output_type": "execute_result"
    }
   ],
   "source": [
    "Visualization.load(f'{output_dir}/adonis_jaccard.qzv')"
   ]
  },
  {
   "cell_type": "code",
   "execution_count": 24,
   "id": "6e32f2ce",
   "metadata": {
    "scrolled": false
   },
   "outputs": [
    {
     "data": {
      "text/html": [
       "<div><img onload=\"(function(div, url){\n",
       "if (typeof require !== 'undefined') {\n",
       "    var baseURL = require.toUrl('').split('/').slice(0, -2).join('/');\n",
       "} else {\n",
       "    var baseURL = JSON.parse(\n",
       "        document.getElementById('jupyter-config-data').innerHTML\n",
       "    ).baseUrl.slice(0, -1);\n",
       "}\n",
       "url = baseURL + url;\n",
       "fetch(url).then(function(res) {\n",
       "    if (res.status === 404) {\n",
       "        div.innerHTML = 'Install QIIME 2 Jupyter extension with:<br />' +\n",
       "                        '<code>jupyter server extension enable --py qiime2' +\n",
       "                        ' --sys-prefix</code><br />then restart your server.' +\n",
       "                        '<br /><br />(Interactive output not available on ' +\n",
       "                        'static notebook viewer services like nbviewer.)';\n",
       "    } else if (res.status === 409) {\n",
       "        div.innerHTML = 'Visualization no longer in scope. Re-run this cell' +\n",
       "                        ' to see the visualization.';\n",
       "    } else if (res.ok) {\n",
       "        url = res.url;\n",
       "        div.innerHTML = '<iframe src=\\'' + url + '\\' style=\\'' +\n",
       "                        'width: 100%; height: 700px; border: 0;\\'>' +\n",
       "                        '</iframe><hr />Open in a: <a href=\\'' + url + '\\'' +\n",
       "                        ' target=\\'_blank\\'>new window</a>'\n",
       "    } else {\n",
       "        div.innerHTML = 'Something has gone wrong. Check notebook server for' +\n",
       "                        ' errors.';\n",
       "    }\n",
       "});\n",
       "})(this.parentElement, '/qiime2/redirect?location=/scratch/lfloerl/tmpdata/qiime2/lfloerl/data/a7b0ef12-9680-441b-8396-89ab42ffef17')\" src=\"data:image/gif;base64,R0lGODlhAQABAIAAAP///wAAACH5BAEAAAAALAAAAAABAAEAAAICRAEAOw==\" /></div>"
      ],
      "text/plain": [
       "<visualization: Visualization uuid: a7b0ef12-9680-441b-8396-89ab42ffef17>"
      ]
     },
     "execution_count": 24,
     "metadata": {},
     "output_type": "execute_result"
    }
   ],
   "source": [
    "Visualization.load(f'{kmer_dir}/adonis_bray_curtis.qzv')"
   ]
  },
  {
   "cell_type": "code",
   "execution_count": 25,
   "id": "46ea1f80",
   "metadata": {
    "scrolled": true
   },
   "outputs": [
    {
     "data": {
      "text/html": [
       "<div><img onload=\"(function(div, url){\n",
       "if (typeof require !== 'undefined') {\n",
       "    var baseURL = require.toUrl('').split('/').slice(0, -2).join('/');\n",
       "} else {\n",
       "    var baseURL = JSON.parse(\n",
       "        document.getElementById('jupyter-config-data').innerHTML\n",
       "    ).baseUrl.slice(0, -1);\n",
       "}\n",
       "url = baseURL + url;\n",
       "fetch(url).then(function(res) {\n",
       "    if (res.status === 404) {\n",
       "        div.innerHTML = 'Install QIIME 2 Jupyter extension with:<br />' +\n",
       "                        '<code>jupyter server extension enable --py qiime2' +\n",
       "                        ' --sys-prefix</code><br />then restart your server.' +\n",
       "                        '<br /><br />(Interactive output not available on ' +\n",
       "                        'static notebook viewer services like nbviewer.)';\n",
       "    } else if (res.status === 409) {\n",
       "        div.innerHTML = 'Visualization no longer in scope. Re-run this cell' +\n",
       "                        ' to see the visualization.';\n",
       "    } else if (res.ok) {\n",
       "        url = res.url;\n",
       "        div.innerHTML = '<iframe src=\\'' + url + '\\' style=\\'' +\n",
       "                        'width: 100%; height: 700px; border: 0;\\'>' +\n",
       "                        '</iframe><hr />Open in a: <a href=\\'' + url + '\\'' +\n",
       "                        ' target=\\'_blank\\'>new window</a>'\n",
       "    } else {\n",
       "        div.innerHTML = 'Something has gone wrong. Check notebook server for' +\n",
       "                        ' errors.';\n",
       "    }\n",
       "});\n",
       "})(this.parentElement, '/qiime2/redirect?location=/scratch/lfloerl/tmpdata/qiime2/lfloerl/data/21f8fc6e-2651-4b97-bddf-45200fb5c2d7')\" src=\"data:image/gif;base64,R0lGODlhAQABAIAAAP///wAAACH5BAEAAAAALAAAAAABAAEAAAICRAEAOw==\" /></div>"
      ],
      "text/plain": [
       "<visualization: Visualization uuid: 21f8fc6e-2651-4b97-bddf-45200fb5c2d7>"
      ]
     },
     "execution_count": 25,
     "metadata": {},
     "output_type": "execute_result"
    }
   ],
   "source": [
    "Visualization.load(f'{kmer_dir}/adonis_jaccard.qzv')"
   ]
  },
  {
   "cell_type": "markdown",
   "id": "499718b9",
   "metadata": {},
   "source": [
    "## PERMDISP"
   ]
  },
  {
   "cell_type": "code",
   "execution_count": 6,
   "id": "99cfbb28",
   "metadata": {},
   "outputs": [
    {
     "name": "stdout",
     "output_type": "stream",
     "text": [
      "\u001b[32mSaved Visualization to: leaf_cm8000//permdisp_bray_curtis_Plot_ID.qzv\u001b[0m\n",
      "\u001b[0m\u001b[32mSaved Visualization to: leaf_cm8000//permdisp_bray_curtis_Year_Cat.qzv\u001b[0m\n",
      "\u001b[0m\u001b[32mSaved Visualization to: leaf_cm8000//permdisp_jaccard_Plot_ID.qzv\u001b[0m\n",
      "\u001b[0m\u001b[32mSaved Visualization to: leaf_cm8000//permdisp_jaccard_Year_Cat.qzv\u001b[0m\n",
      "\u001b[0m\u001b[32mSaved Visualization to: leaf_kmer_cm8000//permdisp_bray_curtis_Plot_ID.qzv\u001b[0m\n",
      "\u001b[0m\u001b[32mSaved Visualization to: leaf_kmer_cm8000//permdisp_bray_curtis_Year_Cat.qzv\u001b[0m\n",
      "\u001b[0m\u001b[32mSaved Visualization to: leaf_kmer_cm8000//permdisp_jaccard_Plot_ID.qzv\u001b[0m\n",
      "\u001b[0m\u001b[32mSaved Visualization to: leaf_kmer_cm8000//permdisp_jaccard_Year_Cat.qzv\u001b[0m\n",
      "\u001b[0m"
     ]
    }
   ],
   "source": [
    "output_dir = 'leaf_cm8000/'\n",
    "kmer_dir = 'leaf_kmer_cm8000/'\n",
    "\n",
    "beta_metrics = ['bray_curtis', 'jaccard']\n",
    "group_columns = ['Plot_ID', 'Year_Cat']  # note. needs category\n",
    "\n",
    "# PERMDISP with core metrics\n",
    "for m in beta_metrics:\n",
    "    for group in group_columns: \n",
    "        !qiime diversity beta-group-significance \\\n",
    "            --i-distance-matrix \"{output_dir}/{m}_distance_matrix.qza\" \\\n",
    "            --m-metadata-file /home/lfloerl/microterroir/Microbiome/Metadata/ITS_lavaux.tsv \\\n",
    "            --m-metadata-column \"{group}\" \\\n",
    "            --p-method 'permdisp' \\\n",
    "            --p-no-pairwise \\\n",
    "            --o-visualization \"{output_dir}/permdisp_{m}_{group}.qzv\"\n",
    "        \n",
    "# PERMDISP with kmer\n",
    "for m in beta_metrics:\n",
    "    for group in group_columns: \n",
    "        !qiime diversity beta-group-significance \\\n",
    "            --i-distance-matrix \"{kmer_dir}/{m}_distance_matrix.qza\" \\\n",
    "            --m-metadata-file /home/lfloerl/microterroir/Microbiome/Metadata/ITS_lavaux.tsv \\\n",
    "            --m-metadata-column \"{group}\" \\\n",
    "            --p-method 'permdisp' \\\n",
    "            --p-no-pairwise \\\n",
    "            --o-visualization \"{kmer_dir}/permdisp_{m}_{group}.qzv\""
   ]
  },
  {
   "cell_type": "code",
   "execution_count": 12,
   "id": "4b2cdfa8",
   "metadata": {},
   "outputs": [
    {
     "name": "stdout",
     "output_type": "stream",
     "text": [
      "adonis_bray_curtis.qzv\t\t mantel_results.tsv\r\n",
      "adonis_jaccard.qzv\t\t observed_features_vector.qza\r\n",
      "bray_curtis_distance_matrix\t permdisp_bray_curtis_Plot_ID.qzv\r\n",
      "bray_curtis_distance_matrix.qza  permdisp_bray_curtis_Year_Cat.qzv\r\n",
      "bray_curtis_pcoa_results.qza\t permdisp_jaccard_Plot_ID.qzv\r\n",
      "jaccard_distance_matrix\t\t permdisp_jaccard_Year_Cat.qzv\r\n",
      "jaccard_distance_matrix.qza\t rarefied_table.qza\r\n",
      "jaccard_pcoa_results.qza\t scatterplot.qzv\r\n",
      "kmer_table.qza\t\t\t shannon_vector.qza\r\n"
     ]
    }
   ],
   "source": [
    "!ls leaf_kmer_cm8000/"
   ]
  },
  {
   "cell_type": "code",
   "execution_count": 17,
   "id": "b70b111b",
   "metadata": {
    "scrolled": true
   },
   "outputs": [
    {
     "data": {
      "text/html": [
       "<div><img onload=\"(function(div, url){\n",
       "if (typeof require !== 'undefined') {\n",
       "    var baseURL = require.toUrl('').split('/').slice(0, -2).join('/');\n",
       "} else {\n",
       "    var baseURL = JSON.parse(\n",
       "        document.getElementById('jupyter-config-data').innerHTML\n",
       "    ).baseUrl.slice(0, -1);\n",
       "}\n",
       "url = baseURL + url;\n",
       "fetch(url).then(function(res) {\n",
       "    if (res.status === 404) {\n",
       "        div.innerHTML = 'Install QIIME 2 Jupyter extension with:<br />' +\n",
       "                        '<code>jupyter server extension enable --py qiime2' +\n",
       "                        ' --sys-prefix</code><br />then restart your server.' +\n",
       "                        '<br /><br />(Interactive output not available on ' +\n",
       "                        'static notebook viewer services like nbviewer.)';\n",
       "    } else if (res.status === 409) {\n",
       "        div.innerHTML = 'Visualization no longer in scope. Re-run this cell' +\n",
       "                        ' to see the visualization.';\n",
       "    } else if (res.ok) {\n",
       "        url = res.url;\n",
       "        div.innerHTML = '<iframe src=\\'' + url + '\\' style=\\'' +\n",
       "                        'width: 100%; height: 700px; border: 0;\\'>' +\n",
       "                        '</iframe><hr />Open in a: <a href=\\'' + url + '\\'' +\n",
       "                        ' target=\\'_blank\\'>new window</a>'\n",
       "    } else {\n",
       "        div.innerHTML = 'Something has gone wrong. Check notebook server for' +\n",
       "                        ' errors.';\n",
       "    }\n",
       "});\n",
       "})(this.parentElement, '/qiime2/redirect?location=/scratch/lfloerl/tmpdata/qiime2/lfloerl/data/16f18994-5bd2-494b-bab2-7b5545fed73c')\" src=\"data:image/gif;base64,R0lGODlhAQABAIAAAP///wAAACH5BAEAAAAALAAAAAABAAEAAAICRAEAOw==\" /></div>"
      ],
      "text/plain": [
       "<visualization: Visualization uuid: 16f18994-5bd2-494b-bab2-7b5545fed73c>"
      ]
     },
     "execution_count": 17,
     "metadata": {},
     "output_type": "execute_result"
    }
   ],
   "source": [
    "Visualization.load(f'{kmer_dir}/permdisp_jaccard_Year_Cat.qzv')"
   ]
  },
  {
   "cell_type": "code",
   "execution_count": null,
   "id": "cec2840c",
   "metadata": {},
   "outputs": [],
   "source": []
  },
  {
   "cell_type": "markdown",
   "id": "ab557f5c",
   "metadata": {},
   "source": [
    "## Mantel \n",
    "\n",
    "> the geodisic distance matrix was create with q2-coordinates in a qiime2021.1 environment locally "
   ]
  },
  {
   "cell_type": "code",
   "execution_count": 47,
   "id": "7d2da626",
   "metadata": {},
   "outputs": [
    {
     "name": "stdout",
     "output_type": "stream",
     "text": [
      "Exported leaf_cm8000/bray_curtis_distance_matrix.qza as DistanceMatrixDirectoryFormat to directory leaf_cm8000/bray_curtis_distance_matrix\n",
      "Exported leaf_cm8000/jaccard_distance_matrix.qza as DistanceMatrixDirectoryFormat to directory leaf_cm8000/jaccard_distance_matrix\n",
      "Exported leaf_kmer_cm8000/bray_curtis_distance_matrix.qza as DistanceMatrixDirectoryFormat to directory leaf_kmer_cm8000/bray_curtis_distance_matrix\n",
      "Exported leaf_kmer_cm8000/jaccard_distance_matrix.qza as DistanceMatrixDirectoryFormat to directory leaf_kmer_cm8000/jaccard_distance_matrix\n"
     ]
    }
   ],
   "source": [
    "%%bash \n",
    "\n",
    "div_dir='leaf_cm8000'\n",
    "kmer_dir='leaf_kmer_cm8000'\n",
    "\n",
    "# geodisic distance\n",
    "#qiime tools export --input-path /home/lfloerl/cloud/lfloerl/Microterroir/artifacts/ITS/geodesic_distance_ITS.qza --output-path geodesic_distance_ITS\n",
    "\n",
    "# distance matrices \n",
    "qiime tools export --input-path $div_dir/bray_curtis_distance_matrix.qza --output-path $div_dir/bray_curtis_distance_matrix\n",
    "qiime tools export --input-path $div_dir/jaccard_distance_matrix.qza --output-path $div_dir/jaccard_distance_matrix\n",
    "qiime tools export --input-path $kmer_dir/bray_curtis_distance_matrix.qza --output-path $kmer_dir/bray_curtis_distance_matrix\n",
    "qiime tools export --input-path $kmer_dir/jaccard_distance_matrix.qza --output-path $kmer_dir/jaccard_distance_matrix"
   ]
  },
  {
   "cell_type": "code",
   "execution_count": 12,
   "id": "617c24dc",
   "metadata": {},
   "outputs": [
    {
     "name": "stdout",
     "output_type": "stream",
     "text": [
      "                                          Test Mantel_statistic_r Significance\n",
      "1      leaf_cm8000-bray_curtis_distance_matrix        -0.15602061        0.937\n",
      "2          leaf_cm8000-jaccard_distance_matrix        -0.09620039        0.841\n",
      "3 leaf_kmer_cm8000-bray_curtis_distance_matrix        -0.14539976        0.946\n",
      "4     leaf_kmer_cm8000-jaccard_distance_matrix        -0.12150981        0.881\n"
     ]
    }
   ],
   "source": [
    "%%bash\n",
    "geodesic_path='/home/lfloerl/cloud/lfloerl/Microterroir/artifacts/ITS/lavaux/spatio-temporal/geodesic_distance_ITS/distance-matrix.tsv'\n",
    "\n",
    "folder_path_1=\"leaf_cm8000\"\n",
    "folder_path_2=\"leaf_kmer_cm8000\"\n",
    "\n",
    "# Call the R script and pass folder paths and geodesic matrix\n",
    "Rscript /home/lfloerl/microterroir/Microbiome/Other_scripts/mantel_test.R \"$folder_path_1\" \"$folder_path_2\" \"$geodesic_path\""
   ]
  },
  {
   "cell_type": "code",
   "execution_count": 13,
   "id": "e89cd9c4",
   "metadata": {},
   "outputs": [
    {
     "data": {
      "text/html": [
       "<div>\n",
       "<style scoped>\n",
       "    .dataframe tbody tr th:only-of-type {\n",
       "        vertical-align: middle;\n",
       "    }\n",
       "\n",
       "    .dataframe tbody tr th {\n",
       "        vertical-align: top;\n",
       "    }\n",
       "\n",
       "    .dataframe thead th {\n",
       "        text-align: right;\n",
       "    }\n",
       "</style>\n",
       "<table border=\"1\" class=\"dataframe\">\n",
       "  <thead>\n",
       "    <tr style=\"text-align: right;\">\n",
       "      <th></th>\n",
       "      <th>Test</th>\n",
       "      <th>Mantel_statistic_r</th>\n",
       "      <th>Significance</th>\n",
       "    </tr>\n",
       "  </thead>\n",
       "  <tbody>\n",
       "    <tr>\n",
       "      <th>0</th>\n",
       "      <td>leaf_cm8000-bray_curtis_distance_matrix</td>\n",
       "      <td>-0.156021</td>\n",
       "      <td>0.937</td>\n",
       "    </tr>\n",
       "    <tr>\n",
       "      <th>1</th>\n",
       "      <td>leaf_cm8000-jaccard_distance_matrix</td>\n",
       "      <td>-0.096200</td>\n",
       "      <td>0.841</td>\n",
       "    </tr>\n",
       "    <tr>\n",
       "      <th>2</th>\n",
       "      <td>leaf_kmer_cm8000-bray_curtis_distance_matrix</td>\n",
       "      <td>-0.145400</td>\n",
       "      <td>0.946</td>\n",
       "    </tr>\n",
       "    <tr>\n",
       "      <th>3</th>\n",
       "      <td>leaf_kmer_cm8000-jaccard_distance_matrix</td>\n",
       "      <td>-0.121510</td>\n",
       "      <td>0.881</td>\n",
       "    </tr>\n",
       "  </tbody>\n",
       "</table>\n",
       "</div>"
      ],
      "text/plain": [
       "                                           Test  Mantel_statistic_r  \\\n",
       "0       leaf_cm8000-bray_curtis_distance_matrix           -0.156021   \n",
       "1           leaf_cm8000-jaccard_distance_matrix           -0.096200   \n",
       "2  leaf_kmer_cm8000-bray_curtis_distance_matrix           -0.145400   \n",
       "3      leaf_kmer_cm8000-jaccard_distance_matrix           -0.121510   \n",
       "\n",
       "   Significance  \n",
       "0         0.937  \n",
       "1         0.841  \n",
       "2         0.946  \n",
       "3         0.881  "
      ]
     },
     "execution_count": 13,
     "metadata": {},
     "output_type": "execute_result"
    }
   ],
   "source": [
    "mantel = pd.read_csv('leaf_kmer_cm8000/mantel_results.tsv', sep='\\t')\n",
    "mantel"
   ]
  },
  {
   "cell_type": "markdown",
   "id": "08331528",
   "metadata": {},
   "source": [
    "<hr>\n",
    "\n",
    "# SUBSET TO SINGLE TIMEPOINT \n",
    "\n",
    "# Diversity "
   ]
  },
  {
   "cell_type": "code",
   "execution_count": 64,
   "id": "705e8afd",
   "metadata": {},
   "outputs": [
    {
     "name": "stdout",
     "output_type": "stream",
     "text": [
      "Saved FeatureTable[Frequency] to: /home/lfloerl/cloud/lfloerl/Microterroir/artifacts/ITS/lavaux/leaf_washed_veraison21_filtered_table.qza\n",
      "Saved FeatureData[Sequence] to: /home/lfloerl/cloud/lfloerl/Microterroir/artifacts/ITS/lavaux/leaf_washed_veraison21_filtered_rep_seqs.qza\n"
     ]
    }
   ],
   "source": [
    "%%bash \n",
    "\n",
    "# subset to only harvest samples before fitting \n",
    "qiime feature-table filter-samples \\\n",
    "  --i-table /home/lfloerl/cloud/lfloerl/Microterroir/artifacts/ITS/lavaux/leaf_washed_filtered_table.qza \\\n",
    "  --m-metadata-file /home/lfloerl/microterroir/Microbiome/Metadata/ITS_lavaux.tsv \\\n",
    "  --p-where \"[Collection_ID]='Veraison_2021'\" \\\n",
    "  --o-filtered-table /home/lfloerl/cloud/lfloerl/Microterroir/artifacts/ITS/lavaux/leaf_washed_veraison21_filtered_table.qza\n",
    "\n",
    "qiime feature-table filter-seqs \\\n",
    "    --i-data /home/lfloerl/cloud/lfloerl/Microterroir/artifacts/Sven-denoising-test/ITS/revcomp-trimmed-denoised/with-adjusted-parameters/ITS-revcomp-trimmed-ER-0.05-denoised-trunc-190-PFA-4.0-maxee-4.0-rep-seqs.qza \\\n",
    "    --i-table /home/lfloerl/cloud/lfloerl/Microterroir/artifacts/ITS/lavaux/leaf_washed_veraison21_filtered_table.qza \\\n",
    "    --o-filtered-data /home/lfloerl/cloud/lfloerl/Microterroir/artifacts/ITS/lavaux/leaf_washed_veraison21_filtered_rep_seqs.qza"
   ]
  },
  {
   "cell_type": "code",
   "execution_count": 13,
   "id": "dd645281",
   "metadata": {},
   "outputs": [
    {
     "name": "stderr",
     "output_type": "stream",
     "text": [
      "/scratch/lfloerl/.condaenvs/qiime2-amplicon-2024.10/lib/python3.10/site-packages/skbio/util/_warning.py:60: UserWarning: observed_otus is deprecated as of 0.6.0.\n",
      "  warn(f\"{func.__name__} is deprecated as of {ver}.\")\n"
     ]
    }
   ],
   "source": [
    "table = q2.Artifact.load('/home/lfloerl/cloud/lfloerl/Microterroir/artifacts/ITS/lavaux/leaf_washed_veraison21_filtered_table.qza')\n",
    "\n",
    "core_div_dict = {}\n",
    "core_div = q2d.actions.core_metrics(table=table,\n",
    "                                    sampling_depth=depth,\n",
    "                                    metadata=md, \n",
    "                                    n_jobs=threads)\n",
    "# save outputs\n",
    "output_dir='leaf_veraison21_cm{0}/'.format(depth)\n",
    "if not os.path.exists(output_dir):\n",
    "    os.makedirs(output_dir)\n",
    "for k, v in core_div.__dict__.items():\n",
    "    if k != '_fields':\n",
    "        v.save(output_dir + k)\n",
    "        core_div_dict[k] = v"
   ]
  },
  {
   "cell_type": "markdown",
   "id": "17b022b5",
   "metadata": {},
   "source": [
    "## Kmerizer "
   ]
  },
  {
   "cell_type": "code",
   "execution_count": 29,
   "id": "7a88c6fe",
   "metadata": {},
   "outputs": [],
   "source": [
    "#!rm -r kmer-core-metrics"
   ]
  },
  {
   "cell_type": "code",
   "execution_count": 18,
   "id": "786c1fc0",
   "metadata": {},
   "outputs": [
    {
     "name": "stdout",
     "output_type": "stream",
     "text": [
      "Saved FeatureTable[Frequency] to: leaf_veraison21_kmer_cm8000/rarefied_table.qza\n",
      "Saved FeatureTable[Frequency] to: leaf_veraison21_kmer_cm8000/kmer_table.qza\n",
      "Saved SampleData[AlphaDiversity] to: leaf_veraison21_kmer_cm8000/observed_features_vector.qza\n",
      "Saved SampleData[AlphaDiversity] to: leaf_veraison21_kmer_cm8000/shannon_vector.qza\n",
      "Saved DistanceMatrix to: leaf_veraison21_kmer_cm8000/jaccard_distance_matrix.qza\n",
      "Saved DistanceMatrix to: leaf_veraison21_kmer_cm8000/bray_curtis_distance_matrix.qza\n",
      "Saved PCoAResults to: leaf_veraison21_kmer_cm8000/jaccard_pcoa_results.qza\n",
      "Saved PCoAResults to: leaf_veraison21_kmer_cm8000/bray_curtis_pcoa_results.qza\n",
      "Saved Visualization to: leaf_veraison21_kmer_cm8000/scatterplot.qzv\n"
     ]
    }
   ],
   "source": [
    "%%bash\n",
    "\n",
    "qiime kmerizer core-metrics \\\n",
    "    --i-sequences /home/lfloerl/cloud/lfloerl/Microterroir/artifacts/ITS/lavaux/leaf_washed_veraison21_filtered_rep_seqs.qza \\\n",
    "    --i-table /home/lfloerl/cloud/lfloerl/Microterroir/artifacts/ITS/lavaux/leaf_washed_veraison21_filtered_table.qza \\\n",
    "    --p-sampling-depth 8000 \\\n",
    "    --m-metadata-file /home/lfloerl/microterroir/Microbiome/Metadata/ITS_lavaux.tsv \\\n",
    "    --p-n-jobs 'auto' \\\n",
    "    --output-dir leaf_veraison21_kmer_cm8000/"
   ]
  },
  {
   "cell_type": "markdown",
   "id": "10c2b00a",
   "metadata": {},
   "source": [
    "## Mantel "
   ]
  },
  {
   "cell_type": "code",
   "execution_count": 19,
   "id": "4a30677e",
   "metadata": {
    "scrolled": true
   },
   "outputs": [
    {
     "name": "stdout",
     "output_type": "stream",
     "text": [
      "Exported leaf_veraison21_cm8000/bray_curtis_distance_matrix.qza as DistanceMatrixDirectoryFormat to directory leaf_veraison21_cm8000/bray_curtis_distance_matrix\n",
      "Exported leaf_veraison21_cm8000/jaccard_distance_matrix.qza as DistanceMatrixDirectoryFormat to directory leaf_veraison21_cm8000/jaccard_distance_matrix\n",
      "Exported leaf_veraison21_kmer_cm8000/bray_curtis_distance_matrix.qza as DistanceMatrixDirectoryFormat to directory leaf_veraison21_kmer_cm8000/bray_curtis_distance_matrix\n",
      "Exported leaf_veraison21_kmer_cm8000/jaccard_distance_matrix.qza as DistanceMatrixDirectoryFormat to directory leaf_veraison21_kmer_cm8000/jaccard_distance_matrix\n"
     ]
    }
   ],
   "source": [
    "%%bash \n",
    "\n",
    "div_dir='leaf_veraison21_cm8000'\n",
    "kmer_dir='leaf_veraison21_kmer_cm8000'\n",
    "\n",
    "# geodisic distance\n",
    "#qiime tools export --input-path /home/lfloerl/cloud/lfloerl/Microterroir/artifacts/ITS/geodesic_distance_ITS.qza --output-path geodesic_distance_ITS\n",
    "\n",
    "# distance matrices \n",
    "qiime tools export --input-path $div_dir/bray_curtis_distance_matrix.qza --output-path $div_dir/bray_curtis_distance_matrix\n",
    "qiime tools export --input-path $div_dir/jaccard_distance_matrix.qza --output-path $div_dir/jaccard_distance_matrix\n",
    "qiime tools export --input-path $kmer_dir/bray_curtis_distance_matrix.qza --output-path $kmer_dir/bray_curtis_distance_matrix\n",
    "qiime tools export --input-path $kmer_dir/jaccard_distance_matrix.qza --output-path $kmer_dir/jaccard_distance_matrix"
   ]
  },
  {
   "cell_type": "code",
   "execution_count": 14,
   "id": "1eb3f329",
   "metadata": {},
   "outputs": [
    {
     "name": "stdout",
     "output_type": "stream",
     "text": [
      "                                                     Test Mantel_statistic_r\n",
      "1      leaf_veraison21_cm8000-bray_curtis_distance_matrix        -0.26916996\n",
      "2          leaf_veraison21_cm8000-jaccard_distance_matrix         0.03986295\n",
      "3 leaf_veraison21_kmer_cm8000-bray_curtis_distance_matrix        -0.27272727\n",
      "4     leaf_veraison21_kmer_cm8000-jaccard_distance_matrix        -0.16666667\n",
      "  Significance\n",
      "1        0.898\n",
      "2        0.437\n",
      "3        0.877\n",
      "4        0.878\n"
     ]
    }
   ],
   "source": [
    "%%bash\n",
    "geodesic_path='/home/lfloerl/cloud/lfloerl/Microterroir/artifacts/ITS/lavaux/spatio-temporal/geodesic_distance_ITS/distance-matrix.tsv'\n",
    "\n",
    "folder_path_1=\"leaf_veraison21_cm8000\"\n",
    "folder_path_2=\"leaf_veraison21_kmer_cm8000\"\n",
    "\n",
    "# Call the R script and pass folder paths and geodesic matrix\n",
    "Rscript /home/lfloerl/microterroir/Microbiome/Other_scripts/mantel_test.R \"$folder_path_1\" \"$folder_path_2\" \"$geodesic_path\""
   ]
  },
  {
   "cell_type": "code",
   "execution_count": 15,
   "id": "af5ee15f",
   "metadata": {},
   "outputs": [
    {
     "data": {
      "text/html": [
       "<div>\n",
       "<style scoped>\n",
       "    .dataframe tbody tr th:only-of-type {\n",
       "        vertical-align: middle;\n",
       "    }\n",
       "\n",
       "    .dataframe tbody tr th {\n",
       "        vertical-align: top;\n",
       "    }\n",
       "\n",
       "    .dataframe thead th {\n",
       "        text-align: right;\n",
       "    }\n",
       "</style>\n",
       "<table border=\"1\" class=\"dataframe\">\n",
       "  <thead>\n",
       "    <tr style=\"text-align: right;\">\n",
       "      <th></th>\n",
       "      <th>Test</th>\n",
       "      <th>Mantel_statistic_r</th>\n",
       "      <th>Significance</th>\n",
       "    </tr>\n",
       "  </thead>\n",
       "  <tbody>\n",
       "    <tr>\n",
       "      <th>0</th>\n",
       "      <td>leaf_veraison21_cm8000-bray_curtis_distance_ma...</td>\n",
       "      <td>-0.269170</td>\n",
       "      <td>0.898</td>\n",
       "    </tr>\n",
       "    <tr>\n",
       "      <th>1</th>\n",
       "      <td>leaf_veraison21_cm8000-jaccard_distance_matrix</td>\n",
       "      <td>0.039863</td>\n",
       "      <td>0.437</td>\n",
       "    </tr>\n",
       "    <tr>\n",
       "      <th>2</th>\n",
       "      <td>leaf_veraison21_kmer_cm8000-bray_curtis_distan...</td>\n",
       "      <td>-0.272727</td>\n",
       "      <td>0.877</td>\n",
       "    </tr>\n",
       "    <tr>\n",
       "      <th>3</th>\n",
       "      <td>leaf_veraison21_kmer_cm8000-jaccard_distance_m...</td>\n",
       "      <td>-0.166667</td>\n",
       "      <td>0.878</td>\n",
       "    </tr>\n",
       "  </tbody>\n",
       "</table>\n",
       "</div>"
      ],
      "text/plain": [
       "                                                Test  Mantel_statistic_r  \\\n",
       "0  leaf_veraison21_cm8000-bray_curtis_distance_ma...           -0.269170   \n",
       "1     leaf_veraison21_cm8000-jaccard_distance_matrix            0.039863   \n",
       "2  leaf_veraison21_kmer_cm8000-bray_curtis_distan...           -0.272727   \n",
       "3  leaf_veraison21_kmer_cm8000-jaccard_distance_m...           -0.166667   \n",
       "\n",
       "   Significance  \n",
       "0         0.898  \n",
       "1         0.437  \n",
       "2         0.877  \n",
       "3         0.878  "
      ]
     },
     "execution_count": 15,
     "metadata": {},
     "output_type": "execute_result"
    }
   ],
   "source": [
    "mantel = pd.read_csv('leaf_veraison21_kmer_cm8000/mantel_results.tsv', sep='\\t')\n",
    "mantel"
   ]
  },
  {
   "cell_type": "code",
   "execution_count": null,
   "id": "b36ffed7",
   "metadata": {},
   "outputs": [],
   "source": []
  }
 ],
 "metadata": {
  "kernelspec": {
   "display_name": "Python 3 (ipykernel)",
   "language": "python",
   "name": "python3"
  },
  "language_info": {
   "codemirror_mode": {
    "name": "ipython",
    "version": 3
   },
   "file_extension": ".py",
   "mimetype": "text/x-python",
   "name": "python",
   "nbconvert_exporter": "python",
   "pygments_lexer": "ipython3",
   "version": "3.10.14"
  }
 },
 "nbformat": 4,
 "nbformat_minor": 5
}
