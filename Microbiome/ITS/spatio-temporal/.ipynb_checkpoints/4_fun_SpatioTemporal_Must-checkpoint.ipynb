{
 "cells": [
  {
   "cell_type": "markdown",
   "id": "a8b92d8b",
   "metadata": {},
   "source": [
    "# 4. Spatio-temporal diversity of must "
   ]
  },
  {
   "cell_type": "code",
   "execution_count": 1,
   "id": "abc52439",
   "metadata": {},
   "outputs": [],
   "source": [
    "#!mkdir /home/lfloerl/cloud/lfloerl/Microterroir/artifacts/ITS/lavaux/spatio-temporal"
   ]
  },
  {
   "cell_type": "code",
   "execution_count": 8,
   "id": "cd670efc",
   "metadata": {},
   "outputs": [
    {
     "name": "stdout",
     "output_type": "stream",
     "text": [
      "/home/lfloerl/cloud/lfloerl/Microterroir/artifacts/ITS/lavaux/spatio-temporal\n"
     ]
    }
   ],
   "source": [
    "workdir = '/home/lfloerl/cloud/lfloerl/Microterroir/artifacts/ITS/lavaux/spatio-temporal'\n",
    "%cd $workdir"
   ]
  },
  {
   "cell_type": "code",
   "execution_count": 9,
   "id": "413c885b",
   "metadata": {},
   "outputs": [
    {
     "name": "stdout",
     "output_type": "stream",
     "text": [
      "env: TMPDIR=/scratch/lfloerl/tmpdata\n"
     ]
    }
   ],
   "source": [
    "%env TMPDIR=/scratch/lfloerl/tmpdata"
   ]
  },
  {
   "cell_type": "code",
   "execution_count": 10,
   "id": "18e20f86",
   "metadata": {},
   "outputs": [],
   "source": [
    "import qiime2 as q2\n",
    "from qiime2 import Visualization\n",
    "from qiime2 import Artifact\n",
    "from qiime2 import Metadata\n",
    "from qiime2.plugins.diversity.visualizers import alpha_group_significance\n",
    "from qiime2.plugins import diversity as q2d\n",
    "\n",
    "\n",
    "import os\n",
    "import pandas as pd\n",
    "import matplotlib.pyplot as plt\n",
    "import seaborn as sns\n",
    "import numpy as np\n",
    "from scipy.stats import spearmanr\n",
    "\n",
    "\n",
    "%matplotlib inline"
   ]
  },
  {
   "cell_type": "code",
   "execution_count": 5,
   "id": "eff46f25",
   "metadata": {
    "scrolled": true
   },
   "outputs": [],
   "source": [
    "md = Metadata.load('/home/lfloerl/microterroir/Microbiome/Metadata/ITS_lavaux.tsv')\n",
    "taxonomy = q2.Artifact.load('/home/lfloerl/cloud/lfloerl/Microterroir/artifacts/ITS/taxonomy.qza')"
   ]
  },
  {
   "cell_type": "code",
   "execution_count": 6,
   "id": "e1175bf0",
   "metadata": {},
   "outputs": [],
   "source": [
    "# just use the same rarefaction depth for all sample types\n",
    "depth = 5000 \n",
    "threads = 5"
   ]
  },
  {
   "cell_type": "markdown",
   "id": "2914f57c",
   "metadata": {},
   "source": [
    "# Diversity "
   ]
  },
  {
   "cell_type": "code",
   "execution_count": 27,
   "id": "57999d3b",
   "metadata": {},
   "outputs": [],
   "source": [
    "table = q2.Artifact.load('/home/lfloerl/cloud/lfloerl/Microterroir/artifacts/ITS/lavaux/must_filtered_table.qza')"
   ]
  },
  {
   "cell_type": "code",
   "execution_count": 8,
   "id": "ad617760",
   "metadata": {
    "scrolled": true
   },
   "outputs": [
    {
     "data": {
      "text/html": [
       "<div><img onload=\"(function(div, url){\n",
       "if (typeof require !== 'undefined') {\n",
       "    var baseURL = require.toUrl('').split('/').slice(0, -2).join('/');\n",
       "} else {\n",
       "    var baseURL = JSON.parse(\n",
       "        document.getElementById('jupyter-config-data').innerHTML\n",
       "    ).baseUrl.slice(0, -1);\n",
       "}\n",
       "url = baseURL + url;\n",
       "fetch(url).then(function(res) {\n",
       "    if (res.status === 404) {\n",
       "        div.innerHTML = 'Install QIIME 2 Jupyter extension with:<br />' +\n",
       "                        '<code>jupyter server extension enable --py qiime2' +\n",
       "                        ' --sys-prefix</code><br />then restart your server.' +\n",
       "                        '<br /><br />(Interactive output not available on ' +\n",
       "                        'static notebook viewer services like nbviewer.)';\n",
       "    } else if (res.status === 409) {\n",
       "        div.innerHTML = 'Visualization no longer in scope. Re-run this cell' +\n",
       "                        ' to see the visualization.';\n",
       "    } else if (res.ok) {\n",
       "        url = res.url;\n",
       "        div.innerHTML = '<iframe src=\\'' + url + '\\' style=\\'' +\n",
       "                        'width: 100%; height: 700px; border: 0;\\'>' +\n",
       "                        '</iframe><hr />Open in a: <a href=\\'' + url + '\\'' +\n",
       "                        ' target=\\'_blank\\'>new window</a>'\n",
       "    } else {\n",
       "        div.innerHTML = 'Something has gone wrong. Check notebook server for' +\n",
       "                        ' errors.';\n",
       "    }\n",
       "});\n",
       "})(this.parentElement, '/qiime2/redirect?location=/scratch/lfloerl/tmpdata/qiime2/lfloerl/data/3a3480e1-3ded-4aeb-9b61-6ce3afc75f11')\" src=\"data:image/gif;base64,R0lGODlhAQABAIAAAP///wAAACH5BAEAAAAALAAAAAABAAEAAAICRAEAOw==\" /></div>"
      ],
      "text/plain": [
       "<visualization: Visualization uuid: 3a3480e1-3ded-4aeb-9b61-6ce3afc75f11>"
      ]
     },
     "execution_count": 8,
     "metadata": {},
     "output_type": "execute_result"
    }
   ],
   "source": [
    "# depth of 5000: Retained 1’720’000 (13.32%) features in 344 (96.63%) samples \n",
    "Visualization.load('/home/lfloerl/cloud/lfloerl/Microterroir/artifacts/ITS/lavaux/must_filtered_table.qzv')"
   ]
  },
  {
   "cell_type": "code",
   "execution_count": 28,
   "id": "d91c7235",
   "metadata": {
    "scrolled": true
   },
   "outputs": [
    {
     "name": "stderr",
     "output_type": "stream",
     "text": [
      "/scratch/lfloerl/.condaenvs/qiime2-amplicon-2024.10/lib/python3.10/site-packages/skbio/stats/ordination/_principal_coordinate_analysis.py:146: RuntimeWarning: The result contains negative eigenvalues. Please compare their magnitude with the magnitude of some of the largest positive eigenvalues. If the negative ones are smaller, it's probably safe to ignore them, but if they are large in magnitude, the results won't be useful. See the Notes section for more details. The smallest eigenvalue is -0.49368795791578024 and the largest is 10.17870698749175.\n",
      "  warn(\n"
     ]
    }
   ],
   "source": [
    "core_div_dict = {}\n",
    "core_div = q2d.actions.core_metrics(table=table,\n",
    "                                    sampling_depth=depth,\n",
    "                                    metadata=md, \n",
    "                                    n_jobs=threads)\n",
    "# save outputs\n",
    "output_dir='must_cm{0}/'.format(depth)\n",
    "if not os.path.exists(output_dir):\n",
    "    os.makedirs(output_dir)\n",
    "for k, v in core_div.__dict__.items():\n",
    "    if k != '_fields':\n",
    "        v.save(output_dir + k)\n",
    "        core_div_dict[k] = v"
   ]
  },
  {
   "cell_type": "code",
   "execution_count": 39,
   "id": "010456c4",
   "metadata": {
    "scrolled": true
   },
   "outputs": [
    {
     "data": {
      "text/html": [
       "<div><img onload=\"(function(div, url){\n",
       "if (typeof require !== 'undefined') {\n",
       "    var baseURL = require.toUrl('').split('/').slice(0, -2).join('/');\n",
       "} else {\n",
       "    var baseURL = JSON.parse(\n",
       "        document.getElementById('jupyter-config-data').innerHTML\n",
       "    ).baseUrl.slice(0, -1);\n",
       "}\n",
       "url = baseURL + url;\n",
       "fetch(url).then(function(res) {\n",
       "    if (res.status === 404) {\n",
       "        div.innerHTML = 'Install QIIME 2 Jupyter extension with:<br />' +\n",
       "                        '<code>jupyter server extension enable --py qiime2' +\n",
       "                        ' --sys-prefix</code><br />then restart your server.' +\n",
       "                        '<br /><br />(Interactive output not available on ' +\n",
       "                        'static notebook viewer services like nbviewer.)';\n",
       "    } else if (res.status === 409) {\n",
       "        div.innerHTML = 'Visualization no longer in scope. Re-run this cell' +\n",
       "                        ' to see the visualization.';\n",
       "    } else if (res.ok) {\n",
       "        url = res.url;\n",
       "        div.innerHTML = '<iframe src=\\'' + url + '\\' style=\\'' +\n",
       "                        'width: 100%; height: 700px; border: 0;\\'>' +\n",
       "                        '</iframe><hr />Open in a: <a href=\\'' + url + '\\'' +\n",
       "                        ' target=\\'_blank\\'>new window</a>'\n",
       "    } else {\n",
       "        div.innerHTML = 'Something has gone wrong. Check notebook server for' +\n",
       "                        ' errors.';\n",
       "    }\n",
       "});\n",
       "})(this.parentElement, '/qiime2/redirect?location=/scratch/lfloerl/tmpdata/qiime2/lfloerl/data/6dbc7e52-28a4-458b-8a44-13e037ad2b74')\" src=\"data:image/gif;base64,R0lGODlhAQABAIAAAP///wAAACH5BAEAAAAALAAAAAABAAEAAAICRAEAOw==\" /></div>"
      ],
      "text/plain": [
       "<visualization: Visualization uuid: 6dbc7e52-28a4-458b-8a44-13e037ad2b74>"
      ]
     },
     "execution_count": 39,
     "metadata": {},
     "output_type": "execute_result"
    }
   ],
   "source": [
    "Visualization.load(f'{workdir}/{output_dir}/bray_curtis_emperor.qzv')"
   ]
  },
  {
   "cell_type": "code",
   "execution_count": 40,
   "id": "1aff2c07",
   "metadata": {},
   "outputs": [
    {
     "data": {
      "text/html": [
       "<div><img onload=\"(function(div, url){\n",
       "if (typeof require !== 'undefined') {\n",
       "    var baseURL = require.toUrl('').split('/').slice(0, -2).join('/');\n",
       "} else {\n",
       "    var baseURL = JSON.parse(\n",
       "        document.getElementById('jupyter-config-data').innerHTML\n",
       "    ).baseUrl.slice(0, -1);\n",
       "}\n",
       "url = baseURL + url;\n",
       "fetch(url).then(function(res) {\n",
       "    if (res.status === 404) {\n",
       "        div.innerHTML = 'Install QIIME 2 Jupyter extension with:<br />' +\n",
       "                        '<code>jupyter server extension enable --py qiime2' +\n",
       "                        ' --sys-prefix</code><br />then restart your server.' +\n",
       "                        '<br /><br />(Interactive output not available on ' +\n",
       "                        'static notebook viewer services like nbviewer.)';\n",
       "    } else if (res.status === 409) {\n",
       "        div.innerHTML = 'Visualization no longer in scope. Re-run this cell' +\n",
       "                        ' to see the visualization.';\n",
       "    } else if (res.ok) {\n",
       "        url = res.url;\n",
       "        div.innerHTML = '<iframe src=\\'' + url + '\\' style=\\'' +\n",
       "                        'width: 100%; height: 700px; border: 0;\\'>' +\n",
       "                        '</iframe><hr />Open in a: <a href=\\'' + url + '\\'' +\n",
       "                        ' target=\\'_blank\\'>new window</a>'\n",
       "    } else {\n",
       "        div.innerHTML = 'Something has gone wrong. Check notebook server for' +\n",
       "                        ' errors.';\n",
       "    }\n",
       "});\n",
       "})(this.parentElement, '/qiime2/redirect?location=/scratch/lfloerl/tmpdata/qiime2/lfloerl/data/3210bf16-89a8-45d7-8625-e3bbb89ec4dd')\" src=\"data:image/gif;base64,R0lGODlhAQABAIAAAP///wAAACH5BAEAAAAALAAAAAABAAEAAAICRAEAOw==\" /></div>"
      ],
      "text/plain": [
       "<visualization: Visualization uuid: 3210bf16-89a8-45d7-8625-e3bbb89ec4dd>"
      ]
     },
     "execution_count": 40,
     "metadata": {},
     "output_type": "execute_result"
    }
   ],
   "source": [
    "Visualization.load(f'{workdir}/{output_dir}/jaccard_emperor.qzv')"
   ]
  },
  {
   "cell_type": "markdown",
   "id": "27e37ac4",
   "metadata": {},
   "source": [
    "## Kmerizer "
   ]
  },
  {
   "cell_type": "code",
   "execution_count": 29,
   "id": "449282b2",
   "metadata": {},
   "outputs": [],
   "source": [
    "#!rm -r kmer-core-metrics"
   ]
  },
  {
   "cell_type": "code",
   "execution_count": 21,
   "id": "7c480b75",
   "metadata": {},
   "outputs": [
    {
     "name": "stdout",
     "output_type": "stream",
     "text": [
      "Saved FeatureData[Sequence] to: /home/lfloerl/cloud/lfloerl/Microterroir/artifacts/ITS/lavaux/must_filtered_rep_seqs.qza\n"
     ]
    },
    {
     "name": "stderr",
     "output_type": "stream",
     "text": [
      "Usage: qiime kmerizer core-metrics [OPTIONS]\n",
      "\n",
      "  Generate kmer counts from sequences and apply a collection of diversity\n",
      "  metrics (non-phylogenetic) to compare samples.\n",
      "\n",
      "Inputs:\n",
      "  --i-sequences ARTIFACT FeatureData[Sequence | RNASequence |\n",
      "    ProteinSequence]      Biological sequences to kmerize.          [required]\n",
      "  --i-table ARTIFACT FeatureTable[Frequency]\n",
      "                          Frequencies of sequences per sample.      [required]\n",
      "Parameters:\n",
      "  --p-sampling-depth INTEGER\n",
      "    Range(1, None)        The total frequency that each sample should be\n",
      "                          rarefied to prior to computing diversity metrics.\n",
      "                                                                    [required]\n",
      "  --m-metadata-file METADATA...\n",
      "    (multiple arguments   The sample metadata to use in the emperor plots.\n",
      "     will be merged)                                                [required]\n",
      "  --p-kmer-size INTEGER   Length of kmers to generate.           [default: 16]\n",
      "  --p-tfidf / --p-no-tfidf\n",
      "                          If True, kmers will be scored using TF-IDF and\n",
      "                          output frequencies will be weighted by scores. If\n",
      "                          False, kmers are counted without TF-IDF scores.\n",
      "                                                              [default: False]\n",
      "  --p-max-df VALUE Float % Range(0, 1, inclusive_end=True) | Int\n",
      "                          Ignore kmers that have a frequency strictly higher\n",
      "                          than the given threshold. If float, the parameter\n",
      "                          represents a proportion of sequences, if an integer\n",
      "                          it represents an absolute count.      [default: 1.0]\n",
      "  --p-min-df VALUE Float % Range(0, 1) | Int\n",
      "                          Ignore kmers that have a frequency strictly lower\n",
      "                          than the given threshold. If float, the parameter\n",
      "                          represents a proportion of sequences, if an integer\n",
      "                          it represents an absolute count.        [default: 1]\n",
      "  --p-max-features INTEGER\n",
      "                          If not None, build a vocabulary that only considers\n",
      "                          the top max-features ordered by frequency (or TF-IDF\n",
      "                          score).                                   [optional]\n",
      "  --p-with-replacement / --p-no-with-replacement\n",
      "                          Rarefy with replacement by sampling from the\n",
      "                          multinomial distribution instead of rarefying\n",
      "                          without replacement.                [default: False]\n",
      "  --p-n-jobs VALUE Int % Range(1, None) | Str % Choices('auto')\n",
      "                          [beta methods only] - The number of concurrent jobs\n",
      "                          to use in performing this calculation. May not\n",
      "                          exceed the number of available physical cores. If\n",
      "                          n-jobs = 'auto', one job will be launched for each\n",
      "                          identified CPU core on the host.        [default: 1]\n",
      "  --p-pc-dimensions INTEGER\n",
      "                          Number of principal coordinate dimensions to keep\n",
      "                          for plotting.                           [default: 3]\n",
      "  --p-color-by TEXT       Categorical measure from the input Metadata that\n",
      "                          should be used for color-coding the scatterplot.\n",
      "                                                                    [optional]\n",
      "  --p-norm TEXT Choices('None', 'l1', 'l2')\n",
      "                          Normalization procedure applied to TF-IDF scores.\n",
      "                          Ignored if tfidf=False. l2: Sum of squares of vector\n",
      "                          elements is 1. l1: Sum of absolute values of vector\n",
      "                          elements is 1.                     [default: 'None']\n",
      "Outputs:\n",
      "  --o-rarefied-table ARTIFACT FeatureTable[Frequency]\n",
      "                          The resulting rarefied feature table.     [required]\n",
      "  --o-kmer-table ARTIFACT FeatureTable[Frequency]\n",
      "                          Frequencies of kmers per sample.          [required]\n",
      "  --o-observed-features-vector ARTIFACT SampleData[AlphaDiversity]\n",
      "                          Vector of Observed Kmers values by sample.\n",
      "                                                                    [required]\n",
      "  --o-shannon-vector ARTIFACT SampleData[AlphaDiversity]\n",
      "                          Vector of Shannon diversity values by sample.\n",
      "                                                                    [required]\n",
      "  --o-jaccard-distance-matrix ARTIFACT\n",
      "    DistanceMatrix        Matrix of Jaccard distances between pairs of\n",
      "                          samples.                                  [required]\n",
      "  --o-bray-curtis-distance-matrix ARTIFACT\n",
      "    DistanceMatrix        Matrix of Bray-Curtis dissimilarities between pairs\n",
      "                          of samples.                               [required]\n",
      "  --o-jaccard-pcoa-results ARTIFACT\n",
      "    PCoAResults           PCoA matrix computed from Jaccard distances between\n",
      "                          samples.                                  [required]\n",
      "  --o-bray-curtis-pcoa-results ARTIFACT\n",
      "    PCoAResults           PCoA matrix computed from Bray-Curtis\n",
      "                          dissimilarities between samples.          [required]\n",
      "  --o-scatterplot VISUALIZATION\n",
      "                          Scatterplot of results. Axes can be selected to\n",
      "                          display alpha diversity results or PCoA coordinates\n",
      "                          computed from Jaccard or Bray-Curtis.     [required]\n",
      "Miscellaneous:\n",
      "  --output-dir PATH       Output unspecified results to a directory\n",
      "  --verbose / --quiet     Display verbose output to stdout and/or stderr\n",
      "                          during execution of this action. Or silence output\n",
      "                          if execution is successful (silence is golden).\n",
      "  --recycle-pool TEXT     Use a cache pool for pipeline resumption. QIIME 2\n",
      "                          will cache your results in this pool for reuse by\n",
      "                          future invocations. These pool are retained until\n",
      "                          deleted by the user. If not provided, QIIME 2 will\n",
      "                          create a pool which is automatically reused by\n",
      "                          invocations of the same action and removed if the\n",
      "                          action is successful. Note: these pools are local to\n",
      "                          the cache you are using.\n",
      "  --no-recycle            Do not recycle results from a previous failed\n",
      "                          pipeline run or save the results from this run for\n",
      "                          future recycling.\n",
      "  --parallel              Execute your action in parallel. This flag will use\n",
      "                          your default parallel config.\n",
      "  --parallel-config FILE  Execute your action in parallel using a config at\n",
      "                          the indicated path.\n",
      "  --example-data PATH     Write example data and exit.\n",
      "  --citations             Show citations and exit.\n",
      "  --use-cache DIRECTORY   Specify the cache to be used for the intermediate\n",
      "                          work of this action. If not provided, the default\n",
      "                          cache under $TMP/qiime2/<uname> will be used.\n",
      "                          IMPORTANT FOR HPC USERS: If you are on an HPC system\n",
      "                          and are using parallel execution it is important to\n",
      "                          set this to a location that is globally accessible\n",
      "                          to all nodes in the cluster.\n",
      "  --help                  Show this message and exit.\n",
      "\n",
      "                  There were some problems with the command:                  \n",
      " (1/10) Invalid value for '--output-dir': 'must_kmer_cm5000/' already exists,\n",
      "  will not overwrite.\n",
      " (2/10) Missing option '--o-rarefied-table'. (\"--output-dir\" may also be used)\n",
      " (3/10) Missing option '--o-kmer-table'. (\"--output-dir\" may also be used)\n",
      " (4/10) Missing option '--o-observed-features-vector'. (\"--output-dir\" may\n",
      "  also be used)\n",
      " (5/10) Missing option '--o-shannon-vector'. (\"--output-dir\" may also be used)\n",
      " (6/10) Missing option '--o-jaccard-distance-matrix'. (\"--output-dir\" may also\n",
      "  be used)\n",
      " (7/10) Missing option '--o-bray-curtis-distance-matrix'. (\"--output-dir\" may\n",
      "  also be used)\n"
     ]
    },
    {
     "name": "stderr",
     "output_type": "stream",
     "text": [
      " (8/10) Missing option '--o-jaccard-pcoa-results'. (\"--output-dir\" may also be\n",
      "  used)\n",
      " (9/10) Missing option '--o-bray-curtis-pcoa-results'. (\"--output-dir\" may\n",
      "  also be used)\n",
      " (10/10) Missing option '--o-scatterplot'. (\"--output-dir\" may also be used)\n"
     ]
    },
    {
     "ename": "CalledProcessError",
     "evalue": "Command 'b\"\\nqiime feature-table filter-seqs \\\\\\n    --i-data /home/lfloerl/cloud/lfloerl/Microterroir/artifacts/Sven-denoising-test/ITS/revcomp-trimmed-denoised/with-adjusted-parameters/ITS-revcomp-trimmed-ER-0.05-denoised-trunc-190-PFA-4.0-maxee-4.0-rep-seqs.qza \\\\\\n    --i-table /home/lfloerl/cloud/lfloerl/Microterroir/artifacts/ITS/lavaux/must_filtered_table.qza \\\\\\n    --o-filtered-data /home/lfloerl/cloud/lfloerl/Microterroir/artifacts/ITS/lavaux/must_filtered_rep_seqs.qza\\n\\nqiime kmerizer core-metrics \\\\\\n    --i-sequences /home/lfloerl/cloud/lfloerl/Microterroir/artifacts/ITS/lavaux/must_filtered_rep_seqs.qza \\\\\\n    --i-table /home/lfloerl/cloud/lfloerl/Microterroir/artifacts/ITS/lavaux/must_filtered_table.qza \\\\\\n    --p-sampling-depth 5000 \\\\\\n    --m-metadata-file /home/lfloerl/microterroir/Microbiome/Metadata/ITS_lavaux.tsv \\\\\\n    --p-n-jobs 'auto' \\\\\\n    --p-max-features 5000 \\\\\\n    --output-dir must_kmer_cm5000/\\n\"' returned non-zero exit status 1.",
     "output_type": "error",
     "traceback": [
      "\u001b[0;31m---------------------------------------------------------------------------\u001b[0m",
      "\u001b[0;31mCalledProcessError\u001b[0m                        Traceback (most recent call last)",
      "Cell \u001b[0;32mIn[21], line 1\u001b[0m\n\u001b[0;32m----> 1\u001b[0m \u001b[43mget_ipython\u001b[49m\u001b[43m(\u001b[49m\u001b[43m)\u001b[49m\u001b[38;5;241;43m.\u001b[39;49m\u001b[43mrun_cell_magic\u001b[49m\u001b[43m(\u001b[49m\u001b[38;5;124;43m'\u001b[39;49m\u001b[38;5;124;43mbash\u001b[39;49m\u001b[38;5;124;43m'\u001b[39;49m\u001b[43m,\u001b[49m\u001b[43m \u001b[49m\u001b[38;5;124;43m'\u001b[39;49m\u001b[38;5;124;43m'\u001b[39;49m\u001b[43m,\u001b[49m\u001b[43m \u001b[49m\u001b[38;5;124;43m\"\u001b[39;49m\u001b[38;5;130;43;01m\\n\u001b[39;49;00m\u001b[38;5;124;43mqiime feature-table filter-seqs \u001b[39;49m\u001b[38;5;130;43;01m\\\\\u001b[39;49;00m\u001b[38;5;130;43;01m\\n\u001b[39;49;00m\u001b[38;5;124;43m    --i-data /home/lfloerl/cloud/lfloerl/Microterroir/artifacts/Sven-denoising-test/ITS/revcomp-trimmed-denoised/with-adjusted-parameters/ITS-revcomp-trimmed-ER-0.05-denoised-trunc-190-PFA-4.0-maxee-4.0-rep-seqs.qza \u001b[39;49m\u001b[38;5;130;43;01m\\\\\u001b[39;49;00m\u001b[38;5;130;43;01m\\n\u001b[39;49;00m\u001b[38;5;124;43m    --i-table /home/lfloerl/cloud/lfloerl/Microterroir/artifacts/ITS/lavaux/must_filtered_table.qza \u001b[39;49m\u001b[38;5;130;43;01m\\\\\u001b[39;49;00m\u001b[38;5;130;43;01m\\n\u001b[39;49;00m\u001b[38;5;124;43m    --o-filtered-data /home/lfloerl/cloud/lfloerl/Microterroir/artifacts/ITS/lavaux/must_filtered_rep_seqs.qza\u001b[39;49m\u001b[38;5;130;43;01m\\n\u001b[39;49;00m\u001b[38;5;130;43;01m\\n\u001b[39;49;00m\u001b[38;5;124;43mqiime kmerizer core-metrics \u001b[39;49m\u001b[38;5;130;43;01m\\\\\u001b[39;49;00m\u001b[38;5;130;43;01m\\n\u001b[39;49;00m\u001b[38;5;124;43m    --i-sequences /home/lfloerl/cloud/lfloerl/Microterroir/artifacts/ITS/lavaux/must_filtered_rep_seqs.qza \u001b[39;49m\u001b[38;5;130;43;01m\\\\\u001b[39;49;00m\u001b[38;5;130;43;01m\\n\u001b[39;49;00m\u001b[38;5;124;43m    --i-table /home/lfloerl/cloud/lfloerl/Microterroir/artifacts/ITS/lavaux/must_filtered_table.qza \u001b[39;49m\u001b[38;5;130;43;01m\\\\\u001b[39;49;00m\u001b[38;5;130;43;01m\\n\u001b[39;49;00m\u001b[38;5;124;43m    --p-sampling-depth 5000 \u001b[39;49m\u001b[38;5;130;43;01m\\\\\u001b[39;49;00m\u001b[38;5;130;43;01m\\n\u001b[39;49;00m\u001b[38;5;124;43m    --m-metadata-file /home/lfloerl/microterroir/Microbiome/Metadata/ITS_lavaux.tsv \u001b[39;49m\u001b[38;5;130;43;01m\\\\\u001b[39;49;00m\u001b[38;5;130;43;01m\\n\u001b[39;49;00m\u001b[38;5;124;43m    --p-n-jobs \u001b[39;49m\u001b[38;5;124;43m'\u001b[39;49m\u001b[38;5;124;43mauto\u001b[39;49m\u001b[38;5;124;43m'\u001b[39;49m\u001b[38;5;124;43m \u001b[39;49m\u001b[38;5;130;43;01m\\\\\u001b[39;49;00m\u001b[38;5;130;43;01m\\n\u001b[39;49;00m\u001b[38;5;124;43m    --p-max-features 5000 \u001b[39;49m\u001b[38;5;130;43;01m\\\\\u001b[39;49;00m\u001b[38;5;130;43;01m\\n\u001b[39;49;00m\u001b[38;5;124;43m    --output-dir must_kmer_cm5000/\u001b[39;49m\u001b[38;5;130;43;01m\\n\u001b[39;49;00m\u001b[38;5;124;43m\"\u001b[39;49m\u001b[43m)\u001b[49m\n",
      "File \u001b[0;32m/scratch/lfloerl/.condaenvs/qiime2-amplicon-2024.10/lib/python3.10/site-packages/IPython/core/interactiveshell.py:2517\u001b[0m, in \u001b[0;36mInteractiveShell.run_cell_magic\u001b[0;34m(self, magic_name, line, cell)\u001b[0m\n\u001b[1;32m   2515\u001b[0m \u001b[38;5;28;01mwith\u001b[39;00m \u001b[38;5;28mself\u001b[39m\u001b[38;5;241m.\u001b[39mbuiltin_trap:\n\u001b[1;32m   2516\u001b[0m     args \u001b[38;5;241m=\u001b[39m (magic_arg_s, cell)\n\u001b[0;32m-> 2517\u001b[0m     result \u001b[38;5;241m=\u001b[39m \u001b[43mfn\u001b[49m\u001b[43m(\u001b[49m\u001b[38;5;241;43m*\u001b[39;49m\u001b[43margs\u001b[49m\u001b[43m,\u001b[49m\u001b[43m \u001b[49m\u001b[38;5;241;43m*\u001b[39;49m\u001b[38;5;241;43m*\u001b[39;49m\u001b[43mkwargs\u001b[49m\u001b[43m)\u001b[49m\n\u001b[1;32m   2519\u001b[0m \u001b[38;5;66;03m# The code below prevents the output from being displayed\u001b[39;00m\n\u001b[1;32m   2520\u001b[0m \u001b[38;5;66;03m# when using magics with decorator @output_can_be_silenced\u001b[39;00m\n\u001b[1;32m   2521\u001b[0m \u001b[38;5;66;03m# when the last Python token in the expression is a ';'.\u001b[39;00m\n\u001b[1;32m   2522\u001b[0m \u001b[38;5;28;01mif\u001b[39;00m \u001b[38;5;28mgetattr\u001b[39m(fn, magic\u001b[38;5;241m.\u001b[39mMAGIC_OUTPUT_CAN_BE_SILENCED, \u001b[38;5;28;01mFalse\u001b[39;00m):\n",
      "File \u001b[0;32m/scratch/lfloerl/.condaenvs/qiime2-amplicon-2024.10/lib/python3.10/site-packages/IPython/core/magics/script.py:154\u001b[0m, in \u001b[0;36mScriptMagics._make_script_magic.<locals>.named_script_magic\u001b[0;34m(line, cell)\u001b[0m\n\u001b[1;32m    152\u001b[0m \u001b[38;5;28;01melse\u001b[39;00m:\n\u001b[1;32m    153\u001b[0m     line \u001b[38;5;241m=\u001b[39m script\n\u001b[0;32m--> 154\u001b[0m \u001b[38;5;28;01mreturn\u001b[39;00m \u001b[38;5;28;43mself\u001b[39;49m\u001b[38;5;241;43m.\u001b[39;49m\u001b[43mshebang\u001b[49m\u001b[43m(\u001b[49m\u001b[43mline\u001b[49m\u001b[43m,\u001b[49m\u001b[43m \u001b[49m\u001b[43mcell\u001b[49m\u001b[43m)\u001b[49m\n",
      "File \u001b[0;32m/scratch/lfloerl/.condaenvs/qiime2-amplicon-2024.10/lib/python3.10/site-packages/IPython/core/magics/script.py:314\u001b[0m, in \u001b[0;36mScriptMagics.shebang\u001b[0;34m(self, line, cell)\u001b[0m\n\u001b[1;32m    309\u001b[0m \u001b[38;5;28;01mif\u001b[39;00m args\u001b[38;5;241m.\u001b[39mraise_error \u001b[38;5;129;01mand\u001b[39;00m p\u001b[38;5;241m.\u001b[39mreturncode \u001b[38;5;241m!=\u001b[39m \u001b[38;5;241m0\u001b[39m:\n\u001b[1;32m    310\u001b[0m     \u001b[38;5;66;03m# If we get here and p.returncode is still None, we must have\u001b[39;00m\n\u001b[1;32m    311\u001b[0m     \u001b[38;5;66;03m# killed it but not yet seen its return code. We don't wait for it,\u001b[39;00m\n\u001b[1;32m    312\u001b[0m     \u001b[38;5;66;03m# in case it's stuck in uninterruptible sleep. -9 = SIGKILL\u001b[39;00m\n\u001b[1;32m    313\u001b[0m     rc \u001b[38;5;241m=\u001b[39m p\u001b[38;5;241m.\u001b[39mreturncode \u001b[38;5;129;01mor\u001b[39;00m \u001b[38;5;241m-\u001b[39m\u001b[38;5;241m9\u001b[39m\n\u001b[0;32m--> 314\u001b[0m     \u001b[38;5;28;01mraise\u001b[39;00m CalledProcessError(rc, cell)\n",
      "\u001b[0;31mCalledProcessError\u001b[0m: Command 'b\"\\nqiime feature-table filter-seqs \\\\\\n    --i-data /home/lfloerl/cloud/lfloerl/Microterroir/artifacts/Sven-denoising-test/ITS/revcomp-trimmed-denoised/with-adjusted-parameters/ITS-revcomp-trimmed-ER-0.05-denoised-trunc-190-PFA-4.0-maxee-4.0-rep-seqs.qza \\\\\\n    --i-table /home/lfloerl/cloud/lfloerl/Microterroir/artifacts/ITS/lavaux/must_filtered_table.qza \\\\\\n    --o-filtered-data /home/lfloerl/cloud/lfloerl/Microterroir/artifacts/ITS/lavaux/must_filtered_rep_seqs.qza\\n\\nqiime kmerizer core-metrics \\\\\\n    --i-sequences /home/lfloerl/cloud/lfloerl/Microterroir/artifacts/ITS/lavaux/must_filtered_rep_seqs.qza \\\\\\n    --i-table /home/lfloerl/cloud/lfloerl/Microterroir/artifacts/ITS/lavaux/must_filtered_table.qza \\\\\\n    --p-sampling-depth 5000 \\\\\\n    --m-metadata-file /home/lfloerl/microterroir/Microbiome/Metadata/ITS_lavaux.tsv \\\\\\n    --p-n-jobs 'auto' \\\\\\n    --p-max-features 5000 \\\\\\n    --output-dir must_kmer_cm5000/\\n\"' returned non-zero exit status 1."
     ]
    }
   ],
   "source": [
    "%%bash\n",
    "\n",
    "qiime feature-table filter-seqs \\\n",
    "    --i-data /home/lfloerl/cloud/lfloerl/Microterroir/artifacts/Sven-denoising-test/ITS/revcomp-trimmed-denoised/with-adjusted-parameters/ITS-revcomp-trimmed-ER-0.05-denoised-trunc-190-PFA-4.0-maxee-4.0-rep-seqs.qza \\\n",
    "    --i-table /home/lfloerl/cloud/lfloerl/Microterroir/artifacts/ITS/lavaux/must_filtered_table.qza \\\n",
    "    --o-filtered-data /home/lfloerl/cloud/lfloerl/Microterroir/artifacts/ITS/lavaux/must_filtered_rep_seqs.qza\n",
    "\n",
    "qiime kmerizer core-metrics \\\n",
    "    --i-sequences /home/lfloerl/cloud/lfloerl/Microterroir/artifacts/ITS/lavaux/must_filtered_rep_seqs.qza \\\n",
    "    --i-table /home/lfloerl/cloud/lfloerl/Microterroir/artifacts/ITS/lavaux/must_filtered_table.qza \\\n",
    "    --p-sampling-depth 5000 \\\n",
    "    --m-metadata-file /home/lfloerl/microterroir/Microbiome/Metadata/ITS_lavaux.tsv \\\n",
    "    --p-n-jobs 'auto' \\\n",
    "    --p-max-features 5000 \\\n",
    "    --output-dir must_kmer_cm5000/"
   ]
  },
  {
   "cell_type": "code",
   "execution_count": null,
   "id": "e90b9c36",
   "metadata": {},
   "outputs": [],
   "source": [
    "Visualization.load('must_kmer_cm5000/scatterplot.qzv')"
   ]
  },
  {
   "cell_type": "markdown",
   "id": "fb6c27ed",
   "metadata": {},
   "source": [
    "### Alpha Group Significance "
   ]
  },
  {
   "cell_type": "code",
   "execution_count": 9,
   "id": "dd8cf4d5",
   "metadata": {},
   "outputs": [
    {
     "name": "stderr",
     "output_type": "stream",
     "text": [
      "/scratch/lfloerl/.condaenvs/qiime2-amplicon-2024.10/lib/python3.10/site-packages/q2_types/sample_data/_deferred_setup/_transformers.py:28: FutureWarning: errors='ignore' is deprecated and will raise in a future version. Use to_numeric without passing `errors` and catch exceptions explicitly instead\n",
      "  df[cols] = df[cols].apply(pd.to_numeric, errors='ignore')\n",
      "/scratch/lfloerl/.condaenvs/qiime2-amplicon-2024.10/lib/python3.10/site-packages/q2_types/sample_data/_deferred_setup/_transformers.py:28: FutureWarning: errors='ignore' is deprecated and will raise in a future version. Use to_numeric without passing `errors` and catch exceptions explicitly instead\n",
      "  df[cols] = df[cols].apply(pd.to_numeric, errors='ignore')\n",
      "/scratch/lfloerl/.condaenvs/qiime2-amplicon-2024.10/lib/python3.10/site-packages/q2_types/sample_data/_deferred_setup/_transformers.py:28: FutureWarning: errors='ignore' is deprecated and will raise in a future version. Use to_numeric without passing `errors` and catch exceptions explicitly instead\n",
      "  df[cols] = df[cols].apply(pd.to_numeric, errors='ignore')\n"
     ]
    }
   ],
   "source": [
    "# metrics: \n",
    "alpha_metrics = ['shannon_vector', 'observed_features_vector', 'evenness_vector']\n",
    "\n",
    "for m in alpha_metrics:\n",
    "    ags, = alpha_group_significance(alpha_diversity = core_div_dict[m],\n",
    "                               metadata = md)\n",
    "    ags.save(output_dir + 'alpha_groupSig_{0}.qzv'.format(m))"
   ]
  },
  {
   "cell_type": "code",
   "execution_count": 10,
   "id": "fd079ab6",
   "metadata": {
    "scrolled": false
   },
   "outputs": [
    {
     "data": {
      "text/html": [
       "<div><img onload=\"(function(div, url){\n",
       "if (typeof require !== 'undefined') {\n",
       "    var baseURL = require.toUrl('').split('/').slice(0, -2).join('/');\n",
       "} else {\n",
       "    var baseURL = JSON.parse(\n",
       "        document.getElementById('jupyter-config-data').innerHTML\n",
       "    ).baseUrl.slice(0, -1);\n",
       "}\n",
       "url = baseURL + url;\n",
       "fetch(url).then(function(res) {\n",
       "    if (res.status === 404) {\n",
       "        div.innerHTML = 'Install QIIME 2 Jupyter extension with:<br />' +\n",
       "                        '<code>jupyter server extension enable --py qiime2' +\n",
       "                        ' --sys-prefix</code><br />then restart your server.' +\n",
       "                        '<br /><br />(Interactive output not available on ' +\n",
       "                        'static notebook viewer services like nbviewer.)';\n",
       "    } else if (res.status === 409) {\n",
       "        div.innerHTML = 'Visualization no longer in scope. Re-run this cell' +\n",
       "                        ' to see the visualization.';\n",
       "    } else if (res.ok) {\n",
       "        url = res.url;\n",
       "        div.innerHTML = '<iframe src=\\'' + url + '\\' style=\\'' +\n",
       "                        'width: 100%; height: 700px; border: 0;\\'>' +\n",
       "                        '</iframe><hr />Open in a: <a href=\\'' + url + '\\'' +\n",
       "                        ' target=\\'_blank\\'>new window</a>'\n",
       "    } else {\n",
       "        div.innerHTML = 'Something has gone wrong. Check notebook server for' +\n",
       "                        ' errors.';\n",
       "    }\n",
       "});\n",
       "})(this.parentElement, '/qiime2/redirect?location=/scratch/lfloerl/tmpdata/qiime2/lfloerl/data/930b7318-1df1-47bd-8fea-b9f859f8839c')\" src=\"data:image/gif;base64,R0lGODlhAQABAIAAAP///wAAACH5BAEAAAAALAAAAAABAAEAAAICRAEAOw==\" /></div>"
      ],
      "text/plain": [
       "<visualization: Visualization uuid: 930b7318-1df1-47bd-8fea-b9f859f8839c>"
      ]
     },
     "execution_count": 10,
     "metadata": {},
     "output_type": "execute_result"
    }
   ],
   "source": [
    "Visualization.load(f'{output_dir}/alpha_groupSig_evenness_vector.qzv')"
   ]
  },
  {
   "cell_type": "code",
   "execution_count": 11,
   "id": "a475d39b",
   "metadata": {
    "scrolled": false
   },
   "outputs": [
    {
     "data": {
      "text/html": [
       "<div><img onload=\"(function(div, url){\n",
       "if (typeof require !== 'undefined') {\n",
       "    var baseURL = require.toUrl('').split('/').slice(0, -2).join('/');\n",
       "} else {\n",
       "    var baseURL = JSON.parse(\n",
       "        document.getElementById('jupyter-config-data').innerHTML\n",
       "    ).baseUrl.slice(0, -1);\n",
       "}\n",
       "url = baseURL + url;\n",
       "fetch(url).then(function(res) {\n",
       "    if (res.status === 404) {\n",
       "        div.innerHTML = 'Install QIIME 2 Jupyter extension with:<br />' +\n",
       "                        '<code>jupyter server extension enable --py qiime2' +\n",
       "                        ' --sys-prefix</code><br />then restart your server.' +\n",
       "                        '<br /><br />(Interactive output not available on ' +\n",
       "                        'static notebook viewer services like nbviewer.)';\n",
       "    } else if (res.status === 409) {\n",
       "        div.innerHTML = 'Visualization no longer in scope. Re-run this cell' +\n",
       "                        ' to see the visualization.';\n",
       "    } else if (res.ok) {\n",
       "        url = res.url;\n",
       "        div.innerHTML = '<iframe src=\\'' + url + '\\' style=\\'' +\n",
       "                        'width: 100%; height: 700px; border: 0;\\'>' +\n",
       "                        '</iframe><hr />Open in a: <a href=\\'' + url + '\\'' +\n",
       "                        ' target=\\'_blank\\'>new window</a>'\n",
       "    } else {\n",
       "        div.innerHTML = 'Something has gone wrong. Check notebook server for' +\n",
       "                        ' errors.';\n",
       "    }\n",
       "});\n",
       "})(this.parentElement, '/qiime2/redirect?location=/scratch/lfloerl/tmpdata/qiime2/lfloerl/data/b2be5758-90c4-4287-a2ff-565f4061d244')\" src=\"data:image/gif;base64,R0lGODlhAQABAIAAAP///wAAACH5BAEAAAAALAAAAAABAAEAAAICRAEAOw==\" /></div>"
      ],
      "text/plain": [
       "<visualization: Visualization uuid: b2be5758-90c4-4287-a2ff-565f4061d244>"
      ]
     },
     "execution_count": 11,
     "metadata": {},
     "output_type": "execute_result"
    }
   ],
   "source": [
    "Visualization.load(f'{output_dir}/alpha_groupSig_observed_features_vector.qzv')"
   ]
  },
  {
   "cell_type": "code",
   "execution_count": 12,
   "id": "b9469709",
   "metadata": {},
   "outputs": [
    {
     "data": {
      "text/html": [
       "<div><img onload=\"(function(div, url){\n",
       "if (typeof require !== 'undefined') {\n",
       "    var baseURL = require.toUrl('').split('/').slice(0, -2).join('/');\n",
       "} else {\n",
       "    var baseURL = JSON.parse(\n",
       "        document.getElementById('jupyter-config-data').innerHTML\n",
       "    ).baseUrl.slice(0, -1);\n",
       "}\n",
       "url = baseURL + url;\n",
       "fetch(url).then(function(res) {\n",
       "    if (res.status === 404) {\n",
       "        div.innerHTML = 'Install QIIME 2 Jupyter extension with:<br />' +\n",
       "                        '<code>jupyter server extension enable --py qiime2' +\n",
       "                        ' --sys-prefix</code><br />then restart your server.' +\n",
       "                        '<br /><br />(Interactive output not available on ' +\n",
       "                        'static notebook viewer services like nbviewer.)';\n",
       "    } else if (res.status === 409) {\n",
       "        div.innerHTML = 'Visualization no longer in scope. Re-run this cell' +\n",
       "                        ' to see the visualization.';\n",
       "    } else if (res.ok) {\n",
       "        url = res.url;\n",
       "        div.innerHTML = '<iframe src=\\'' + url + '\\' style=\\'' +\n",
       "                        'width: 100%; height: 700px; border: 0;\\'>' +\n",
       "                        '</iframe><hr />Open in a: <a href=\\'' + url + '\\'' +\n",
       "                        ' target=\\'_blank\\'>new window</a>'\n",
       "    } else {\n",
       "        div.innerHTML = 'Something has gone wrong. Check notebook server for' +\n",
       "                        ' errors.';\n",
       "    }\n",
       "});\n",
       "})(this.parentElement, '/qiime2/redirect?location=/scratch/lfloerl/tmpdata/qiime2/lfloerl/data/498c61b1-6c41-442c-8866-72333b61f30a')\" src=\"data:image/gif;base64,R0lGODlhAQABAIAAAP///wAAACH5BAEAAAAALAAAAAABAAEAAAICRAEAOw==\" /></div>"
      ],
      "text/plain": [
       "<visualization: Visualization uuid: 498c61b1-6c41-442c-8866-72333b61f30a>"
      ]
     },
     "execution_count": 12,
     "metadata": {},
     "output_type": "execute_result"
    }
   ],
   "source": [
    "Visualization.load(f'{output_dir}/alpha_groupSig_shannon_vector.qzv')"
   ]
  },
  {
   "cell_type": "markdown",
   "id": "c0c19d61",
   "metadata": {},
   "source": [
    "### PERMANOVA"
   ]
  },
  {
   "cell_type": "code",
   "execution_count": 34,
   "id": "1239daba",
   "metadata": {
    "scrolled": true
   },
   "outputs": [
    {
     "name": "stdout",
     "output_type": "stream",
     "text": [
      "Running external command line application. This may print messages to stdout and/or stderr.\n",
      "The command being run is below. This command cannot be manually re-run as it will depend on temporary files that no longer exist.\n",
      "\n",
      "Command: run_adonis.R /scratch/lfloerl/tmpdata/tmp_uvo6bdt/dm.tsv /scratch/lfloerl/tmpdata/tmp_uvo6bdt/md.tsv Plot_ID + Year + Time_point + Plot_ID:Year + Plot_ID:Time_point + Year:Time_point 999 3 /scratch/lfloerl/tmpdata/qiime2-temp-78kvy5vc/adonis.tsv\n",
      "\n",
      "R version 4.3.3 (2024-02-29) \n"
     ]
    },
    {
     "name": "stderr",
     "output_type": "stream",
     "text": [
      "Lade nötiges Paket: permute\n",
      "Lade nötiges Paket: lattice\n",
      "This is vegan 2.6-8\n",
      "Warnmeldung:\n",
      "'adonis' ist veraltet.\n",
      "Benutzen Sie stattdessen 'adonis2'\n",
      "Siehe help(\"Deprecated\") und help(\"vegan-deprecated\"). \n"
     ]
    },
    {
     "name": "stdout",
     "output_type": "stream",
     "text": [
      "Running external command line application. This may print messages to stdout and/or stderr.\n",
      "The command being run is below. This command cannot be manually re-run as it will depend on temporary files that no longer exist.\n",
      "\n",
      "Command: run_adonis.R /scratch/lfloerl/tmpdata/tmpv1dx145h/dm.tsv /scratch/lfloerl/tmpdata/tmpv1dx145h/md.tsv Plot_ID + Year + Time_point + Plot_ID:Year + Plot_ID:Time_point + Year:Time_point 999 3 /scratch/lfloerl/tmpdata/qiime2-temp-ub4wjt9g/adonis.tsv\n",
      "\n",
      "R version 4.3.3 (2024-02-29) \n"
     ]
    },
    {
     "name": "stderr",
     "output_type": "stream",
     "text": [
      "Lade nötiges Paket: permute\n",
      "Lade nötiges Paket: lattice\n",
      "This is vegan 2.6-8\n",
      "Warnmeldung:\n",
      "'adonis' ist veraltet.\n",
      "Benutzen Sie stattdessen 'adonis2'\n",
      "Siehe help(\"Deprecated\") und help(\"vegan-deprecated\"). \n"
     ]
    },
    {
     "name": "stdout",
     "output_type": "stream",
     "text": [
      "\u001b[32mSaved Visualization to: must_kmer_cm5000/adonis_bray_curtis.qzv\u001b[0m\n",
      "\u001b[0m\u001b[32mSaved Visualization to: must_kmer_cm5000/adonis_jaccard.qzv\u001b[0m\n",
      "\u001b[0m"
     ]
    }
   ],
   "source": [
    "formula = 'Plot_ID + Year + Time_point + Plot_ID:Year + Plot_ID:Time_point + Year:Time_point'\n",
    "\n",
    "beta_metrics = ['bray_curtis', 'jaccard']\n",
    "\n",
    "# PERMANOVA with core metrics \n",
    "for m in beta_metrics:\n",
    "    adonis_res, = q2d.actions.adonis(\n",
    "        distance_matrix=core_div_dict[m + '_distance_matrix'],\n",
    "        metadata=md,\n",
    "        formula=formula,\n",
    "        n_jobs=3)\n",
    "    adonis_res.save(output_dir + 'adonis_{0}.qzv'.format(m))\n",
    "    \n",
    "\n",
    "# PERMANOVA with kmer core metrics \n",
    "kmer_dir = 'must_kmer_cm5000'\n",
    "    \n",
    "for m in beta_metrics:\n",
    "    !qiime diversity adonis \\\n",
    "        --i-distance-matrix \"{kmer_dir}/{m}_distance_matrix.qza\" \\\n",
    "        --m-metadata-file /home/lfloerl/microterroir/Microbiome/Metadata/ITS_lavaux.tsv \\\n",
    "        --p-formula \"{formula}\" \\\n",
    "        --p-n-jobs 5 \\\n",
    "        --o-visualization \"{kmer_dir}/adonis_{m}.qzv\""
   ]
  },
  {
   "cell_type": "code",
   "execution_count": 35,
   "id": "03924c1f",
   "metadata": {
    "scrolled": true
   },
   "outputs": [
    {
     "data": {
      "text/html": [
       "<div><img onload=\"(function(div, url){\n",
       "if (typeof require !== 'undefined') {\n",
       "    var baseURL = require.toUrl('').split('/').slice(0, -2).join('/');\n",
       "} else {\n",
       "    var baseURL = JSON.parse(\n",
       "        document.getElementById('jupyter-config-data').innerHTML\n",
       "    ).baseUrl.slice(0, -1);\n",
       "}\n",
       "url = baseURL + url;\n",
       "fetch(url).then(function(res) {\n",
       "    if (res.status === 404) {\n",
       "        div.innerHTML = 'Install QIIME 2 Jupyter extension with:<br />' +\n",
       "                        '<code>jupyter server extension enable --py qiime2' +\n",
       "                        ' --sys-prefix</code><br />then restart your server.' +\n",
       "                        '<br /><br />(Interactive output not available on ' +\n",
       "                        'static notebook viewer services like nbviewer.)';\n",
       "    } else if (res.status === 409) {\n",
       "        div.innerHTML = 'Visualization no longer in scope. Re-run this cell' +\n",
       "                        ' to see the visualization.';\n",
       "    } else if (res.ok) {\n",
       "        url = res.url;\n",
       "        div.innerHTML = '<iframe src=\\'' + url + '\\' style=\\'' +\n",
       "                        'width: 100%; height: 700px; border: 0;\\'>' +\n",
       "                        '</iframe><hr />Open in a: <a href=\\'' + url + '\\'' +\n",
       "                        ' target=\\'_blank\\'>new window</a>'\n",
       "    } else {\n",
       "        div.innerHTML = 'Something has gone wrong. Check notebook server for' +\n",
       "                        ' errors.';\n",
       "    }\n",
       "});\n",
       "})(this.parentElement, '/qiime2/redirect?location=/scratch/lfloerl/tmpdata/qiime2/lfloerl/data/05eede28-bf69-433d-82c6-f9dbacf44eaa')\" src=\"data:image/gif;base64,R0lGODlhAQABAIAAAP///wAAACH5BAEAAAAALAAAAAABAAEAAAICRAEAOw==\" /></div>"
      ],
      "text/plain": [
       "<visualization: Visualization uuid: 05eede28-bf69-433d-82c6-f9dbacf44eaa>"
      ]
     },
     "execution_count": 35,
     "metadata": {},
     "output_type": "execute_result"
    }
   ],
   "source": [
    "Visualization.load(f'{output_dir}/adonis_bray_curtis.qzv')"
   ]
  },
  {
   "cell_type": "code",
   "execution_count": 36,
   "id": "56e82da0",
   "metadata": {
    "scrolled": false
   },
   "outputs": [
    {
     "data": {
      "text/html": [
       "<div><img onload=\"(function(div, url){\n",
       "if (typeof require !== 'undefined') {\n",
       "    var baseURL = require.toUrl('').split('/').slice(0, -2).join('/');\n",
       "} else {\n",
       "    var baseURL = JSON.parse(\n",
       "        document.getElementById('jupyter-config-data').innerHTML\n",
       "    ).baseUrl.slice(0, -1);\n",
       "}\n",
       "url = baseURL + url;\n",
       "fetch(url).then(function(res) {\n",
       "    if (res.status === 404) {\n",
       "        div.innerHTML = 'Install QIIME 2 Jupyter extension with:<br />' +\n",
       "                        '<code>jupyter server extension enable --py qiime2' +\n",
       "                        ' --sys-prefix</code><br />then restart your server.' +\n",
       "                        '<br /><br />(Interactive output not available on ' +\n",
       "                        'static notebook viewer services like nbviewer.)';\n",
       "    } else if (res.status === 409) {\n",
       "        div.innerHTML = 'Visualization no longer in scope. Re-run this cell' +\n",
       "                        ' to see the visualization.';\n",
       "    } else if (res.ok) {\n",
       "        url = res.url;\n",
       "        div.innerHTML = '<iframe src=\\'' + url + '\\' style=\\'' +\n",
       "                        'width: 100%; height: 700px; border: 0;\\'>' +\n",
       "                        '</iframe><hr />Open in a: <a href=\\'' + url + '\\'' +\n",
       "                        ' target=\\'_blank\\'>new window</a>'\n",
       "    } else {\n",
       "        div.innerHTML = 'Something has gone wrong. Check notebook server for' +\n",
       "                        ' errors.';\n",
       "    }\n",
       "});\n",
       "})(this.parentElement, '/qiime2/redirect?location=/scratch/lfloerl/tmpdata/qiime2/lfloerl/data/06320223-e8e8-43c4-b4ac-679fcffffc82')\" src=\"data:image/gif;base64,R0lGODlhAQABAIAAAP///wAAACH5BAEAAAAALAAAAAABAAEAAAICRAEAOw==\" /></div>"
      ],
      "text/plain": [
       "<visualization: Visualization uuid: 06320223-e8e8-43c4-b4ac-679fcffffc82>"
      ]
     },
     "execution_count": 36,
     "metadata": {},
     "output_type": "execute_result"
    }
   ],
   "source": [
    "Visualization.load(f'{output_dir}/adonis_jaccard.qzv')"
   ]
  },
  {
   "cell_type": "code",
   "execution_count": 37,
   "id": "6e32f2ce",
   "metadata": {
    "scrolled": false
   },
   "outputs": [
    {
     "data": {
      "text/html": [
       "<div><img onload=\"(function(div, url){\n",
       "if (typeof require !== 'undefined') {\n",
       "    var baseURL = require.toUrl('').split('/').slice(0, -2).join('/');\n",
       "} else {\n",
       "    var baseURL = JSON.parse(\n",
       "        document.getElementById('jupyter-config-data').innerHTML\n",
       "    ).baseUrl.slice(0, -1);\n",
       "}\n",
       "url = baseURL + url;\n",
       "fetch(url).then(function(res) {\n",
       "    if (res.status === 404) {\n",
       "        div.innerHTML = 'Install QIIME 2 Jupyter extension with:<br />' +\n",
       "                        '<code>jupyter server extension enable --py qiime2' +\n",
       "                        ' --sys-prefix</code><br />then restart your server.' +\n",
       "                        '<br /><br />(Interactive output not available on ' +\n",
       "                        'static notebook viewer services like nbviewer.)';\n",
       "    } else if (res.status === 409) {\n",
       "        div.innerHTML = 'Visualization no longer in scope. Re-run this cell' +\n",
       "                        ' to see the visualization.';\n",
       "    } else if (res.ok) {\n",
       "        url = res.url;\n",
       "        div.innerHTML = '<iframe src=\\'' + url + '\\' style=\\'' +\n",
       "                        'width: 100%; height: 700px; border: 0;\\'>' +\n",
       "                        '</iframe><hr />Open in a: <a href=\\'' + url + '\\'' +\n",
       "                        ' target=\\'_blank\\'>new window</a>'\n",
       "    } else {\n",
       "        div.innerHTML = 'Something has gone wrong. Check notebook server for' +\n",
       "                        ' errors.';\n",
       "    }\n",
       "});\n",
       "})(this.parentElement, '/qiime2/redirect?location=/scratch/lfloerl/tmpdata/qiime2/lfloerl/data/0ece9504-6910-4312-a27e-602d672ba009')\" src=\"data:image/gif;base64,R0lGODlhAQABAIAAAP///wAAACH5BAEAAAAALAAAAAABAAEAAAICRAEAOw==\" /></div>"
      ],
      "text/plain": [
       "<visualization: Visualization uuid: 0ece9504-6910-4312-a27e-602d672ba009>"
      ]
     },
     "execution_count": 37,
     "metadata": {},
     "output_type": "execute_result"
    }
   ],
   "source": [
    "Visualization.load(f'{kmer_dir}/adonis_bray_curtis.qzv')"
   ]
  },
  {
   "cell_type": "code",
   "execution_count": 38,
   "id": "46ea1f80",
   "metadata": {
    "scrolled": true
   },
   "outputs": [
    {
     "data": {
      "text/html": [
       "<div><img onload=\"(function(div, url){\n",
       "if (typeof require !== 'undefined') {\n",
       "    var baseURL = require.toUrl('').split('/').slice(0, -2).join('/');\n",
       "} else {\n",
       "    var baseURL = JSON.parse(\n",
       "        document.getElementById('jupyter-config-data').innerHTML\n",
       "    ).baseUrl.slice(0, -1);\n",
       "}\n",
       "url = baseURL + url;\n",
       "fetch(url).then(function(res) {\n",
       "    if (res.status === 404) {\n",
       "        div.innerHTML = 'Install QIIME 2 Jupyter extension with:<br />' +\n",
       "                        '<code>jupyter server extension enable --py qiime2' +\n",
       "                        ' --sys-prefix</code><br />then restart your server.' +\n",
       "                        '<br /><br />(Interactive output not available on ' +\n",
       "                        'static notebook viewer services like nbviewer.)';\n",
       "    } else if (res.status === 409) {\n",
       "        div.innerHTML = 'Visualization no longer in scope. Re-run this cell' +\n",
       "                        ' to see the visualization.';\n",
       "    } else if (res.ok) {\n",
       "        url = res.url;\n",
       "        div.innerHTML = '<iframe src=\\'' + url + '\\' style=\\'' +\n",
       "                        'width: 100%; height: 700px; border: 0;\\'>' +\n",
       "                        '</iframe><hr />Open in a: <a href=\\'' + url + '\\'' +\n",
       "                        ' target=\\'_blank\\'>new window</a>'\n",
       "    } else {\n",
       "        div.innerHTML = 'Something has gone wrong. Check notebook server for' +\n",
       "                        ' errors.';\n",
       "    }\n",
       "});\n",
       "})(this.parentElement, '/qiime2/redirect?location=/scratch/lfloerl/tmpdata/qiime2/lfloerl/data/934d653c-b679-4be2-be3f-1ba96566dcf8')\" src=\"data:image/gif;base64,R0lGODlhAQABAIAAAP///wAAACH5BAEAAAAALAAAAAABAAEAAAICRAEAOw==\" /></div>"
      ],
      "text/plain": [
       "<visualization: Visualization uuid: 934d653c-b679-4be2-be3f-1ba96566dcf8>"
      ]
     },
     "execution_count": 38,
     "metadata": {},
     "output_type": "execute_result"
    }
   ],
   "source": [
    "Visualization.load(f'{kmer_dir}/adonis_jaccard.qzv')"
   ]
  },
  {
   "cell_type": "markdown",
   "id": "ab557f5c",
   "metadata": {},
   "source": [
    "## Mantel "
   ]
  },
  {
   "cell_type": "code",
   "execution_count": 22,
   "id": "5e9b3635",
   "metadata": {},
   "outputs": [
    {
     "name": "stdout",
     "output_type": "stream",
     "text": [
      "Saved Visualization to: must_mantel/bray_curtis_mantel.qzv\n",
      "Saved Visualization to: must_mantel/jaccard_mantel.qzv\n",
      "Saved Visualization to: must_mantel/bray_curtis_kmer_mantel.qzv\n",
      "Saved Visualization to: must_mantel/jaccard_kmer_mantel.qzv\n"
     ]
    }
   ],
   "source": [
    "%%bash \n",
    "\n",
    "div_dir='must_cm5000'\n",
    "kmer_dir='must_kmer_cm5000'\n",
    "output_dir=\"must_mantel\"\n",
    "\n",
    "mkdir -p $output_dir\n",
    "\n",
    "qiime diversity mantel \\\n",
    "    --i-dm1 /home/lfloerl/cloud/lfloerl/Microterroir/artifacts/ITS/geodesic_distance_ITS.qza \\\n",
    "    --i-dm2 $div_dir/bray_curtis_distance_matrix.qza \\\n",
    "    --p-intersect-ids \\\n",
    "    --o-visualization $output_dir/bray_curtis_mantel.qzv\n",
    "    \n",
    "qiime diversity mantel \\\n",
    "    --i-dm1 /home/lfloerl/cloud/lfloerl/Microterroir/artifacts/ITS/geodesic_distance_ITS.qza \\\n",
    "    --i-dm2 $div_dir/jaccard_distance_matrix.qza \\\n",
    "    --p-intersect-ids \\\n",
    "    --o-visualization $output_dir/jaccard_mantel.qzv\n",
    "    \n",
    "qiime diversity mantel \\\n",
    "    --i-dm1 /home/lfloerl/cloud/lfloerl/Microterroir/artifacts/ITS/geodesic_distance_ITS.qza \\\n",
    "    --i-dm2 $kmer_dir/bray_curtis_distance_matrix.qza \\\n",
    "    --p-intersect-ids \\\n",
    "    --o-visualization $output_dir/bray_curtis_kmer_mantel.qzv\n",
    "    \n",
    "qiime diversity mantel \\\n",
    "    --i-dm1 /home/lfloerl/cloud/lfloerl/Microterroir/artifacts/ITS/geodesic_distance_ITS.qza \\\n",
    "    --i-dm2 $kmer_dir/jaccard_distance_matrix.qza \\\n",
    "    --p-intersect-ids \\\n",
    "    --o-visualization $output_dir/jaccard_kmer_mantel.qzv"
   ]
  },
  {
   "cell_type": "code",
   "execution_count": 41,
   "id": "7e1e390c",
   "metadata": {
    "scrolled": false
   },
   "outputs": [
    {
     "data": {
      "text/html": [
       "<div><img onload=\"(function(div, url){\n",
       "if (typeof require !== 'undefined') {\n",
       "    var baseURL = require.toUrl('').split('/').slice(0, -2).join('/');\n",
       "} else {\n",
       "    var baseURL = JSON.parse(\n",
       "        document.getElementById('jupyter-config-data').innerHTML\n",
       "    ).baseUrl.slice(0, -1);\n",
       "}\n",
       "url = baseURL + url;\n",
       "fetch(url).then(function(res) {\n",
       "    if (res.status === 404) {\n",
       "        div.innerHTML = 'Install QIIME 2 Jupyter extension with:<br />' +\n",
       "                        '<code>jupyter server extension enable --py qiime2' +\n",
       "                        ' --sys-prefix</code><br />then restart your server.' +\n",
       "                        '<br /><br />(Interactive output not available on ' +\n",
       "                        'static notebook viewer services like nbviewer.)';\n",
       "    } else if (res.status === 409) {\n",
       "        div.innerHTML = 'Visualization no longer in scope. Re-run this cell' +\n",
       "                        ' to see the visualization.';\n",
       "    } else if (res.ok) {\n",
       "        url = res.url;\n",
       "        div.innerHTML = '<iframe src=\\'' + url + '\\' style=\\'' +\n",
       "                        'width: 100%; height: 700px; border: 0;\\'>' +\n",
       "                        '</iframe><hr />Open in a: <a href=\\'' + url + '\\'' +\n",
       "                        ' target=\\'_blank\\'>new window</a>'\n",
       "    } else {\n",
       "        div.innerHTML = 'Something has gone wrong. Check notebook server for' +\n",
       "                        ' errors.';\n",
       "    }\n",
       "});\n",
       "})(this.parentElement, '/qiime2/redirect?location=/scratch/lfloerl/tmpdata/qiime2/lfloerl/data/a43ad935-0ce3-46b5-a080-63ed139699e6')\" src=\"data:image/gif;base64,R0lGODlhAQABAIAAAP///wAAACH5BAEAAAAALAAAAAABAAEAAAICRAEAOw==\" /></div>"
      ],
      "text/plain": [
       "<visualization: Visualization uuid: a43ad935-0ce3-46b5-a080-63ed139699e6>"
      ]
     },
     "execution_count": 41,
     "metadata": {},
     "output_type": "execute_result"
    }
   ],
   "source": [
    "Visualization.load('must_mantel/bray_curtis_mantel.qzv')"
   ]
  },
  {
   "cell_type": "code",
   "execution_count": 42,
   "id": "1907843d",
   "metadata": {},
   "outputs": [
    {
     "data": {
      "text/html": [
       "<div><img onload=\"(function(div, url){\n",
       "if (typeof require !== 'undefined') {\n",
       "    var baseURL = require.toUrl('').split('/').slice(0, -2).join('/');\n",
       "} else {\n",
       "    var baseURL = JSON.parse(\n",
       "        document.getElementById('jupyter-config-data').innerHTML\n",
       "    ).baseUrl.slice(0, -1);\n",
       "}\n",
       "url = baseURL + url;\n",
       "fetch(url).then(function(res) {\n",
       "    if (res.status === 404) {\n",
       "        div.innerHTML = 'Install QIIME 2 Jupyter extension with:<br />' +\n",
       "                        '<code>jupyter server extension enable --py qiime2' +\n",
       "                        ' --sys-prefix</code><br />then restart your server.' +\n",
       "                        '<br /><br />(Interactive output not available on ' +\n",
       "                        'static notebook viewer services like nbviewer.)';\n",
       "    } else if (res.status === 409) {\n",
       "        div.innerHTML = 'Visualization no longer in scope. Re-run this cell' +\n",
       "                        ' to see the visualization.';\n",
       "    } else if (res.ok) {\n",
       "        url = res.url;\n",
       "        div.innerHTML = '<iframe src=\\'' + url + '\\' style=\\'' +\n",
       "                        'width: 100%; height: 700px; border: 0;\\'>' +\n",
       "                        '</iframe><hr />Open in a: <a href=\\'' + url + '\\'' +\n",
       "                        ' target=\\'_blank\\'>new window</a>'\n",
       "    } else {\n",
       "        div.innerHTML = 'Something has gone wrong. Check notebook server for' +\n",
       "                        ' errors.';\n",
       "    }\n",
       "});\n",
       "})(this.parentElement, '/qiime2/redirect?location=/scratch/lfloerl/tmpdata/qiime2/lfloerl/data/84619478-fb62-4766-a0ad-92b67ca9589c')\" src=\"data:image/gif;base64,R0lGODlhAQABAIAAAP///wAAACH5BAEAAAAALAAAAAABAAEAAAICRAEAOw==\" /></div>"
      ],
      "text/plain": [
       "<visualization: Visualization uuid: 84619478-fb62-4766-a0ad-92b67ca9589c>"
      ]
     },
     "execution_count": 42,
     "metadata": {},
     "output_type": "execute_result"
    }
   ],
   "source": [
    "Visualization.load('must_mantel/jaccard_mantel.qzv')"
   ]
  },
  {
   "cell_type": "code",
   "execution_count": 43,
   "id": "0c91e1ea",
   "metadata": {},
   "outputs": [
    {
     "data": {
      "text/html": [
       "<div><img onload=\"(function(div, url){\n",
       "if (typeof require !== 'undefined') {\n",
       "    var baseURL = require.toUrl('').split('/').slice(0, -2).join('/');\n",
       "} else {\n",
       "    var baseURL = JSON.parse(\n",
       "        document.getElementById('jupyter-config-data').innerHTML\n",
       "    ).baseUrl.slice(0, -1);\n",
       "}\n",
       "url = baseURL + url;\n",
       "fetch(url).then(function(res) {\n",
       "    if (res.status === 404) {\n",
       "        div.innerHTML = 'Install QIIME 2 Jupyter extension with:<br />' +\n",
       "                        '<code>jupyter server extension enable --py qiime2' +\n",
       "                        ' --sys-prefix</code><br />then restart your server.' +\n",
       "                        '<br /><br />(Interactive output not available on ' +\n",
       "                        'static notebook viewer services like nbviewer.)';\n",
       "    } else if (res.status === 409) {\n",
       "        div.innerHTML = 'Visualization no longer in scope. Re-run this cell' +\n",
       "                        ' to see the visualization.';\n",
       "    } else if (res.ok) {\n",
       "        url = res.url;\n",
       "        div.innerHTML = '<iframe src=\\'' + url + '\\' style=\\'' +\n",
       "                        'width: 100%; height: 700px; border: 0;\\'>' +\n",
       "                        '</iframe><hr />Open in a: <a href=\\'' + url + '\\'' +\n",
       "                        ' target=\\'_blank\\'>new window</a>'\n",
       "    } else {\n",
       "        div.innerHTML = 'Something has gone wrong. Check notebook server for' +\n",
       "                        ' errors.';\n",
       "    }\n",
       "});\n",
       "})(this.parentElement, '/qiime2/redirect?location=/scratch/lfloerl/tmpdata/qiime2/lfloerl/data/aebe0b3e-828c-42ef-8853-4c81221077ef')\" src=\"data:image/gif;base64,R0lGODlhAQABAIAAAP///wAAACH5BAEAAAAALAAAAAABAAEAAAICRAEAOw==\" /></div>"
      ],
      "text/plain": [
       "<visualization: Visualization uuid: aebe0b3e-828c-42ef-8853-4c81221077ef>"
      ]
     },
     "execution_count": 43,
     "metadata": {},
     "output_type": "execute_result"
    }
   ],
   "source": [
    "Visualization.load('must_mantel/bray_curtis_kmer_mantel.qzv')"
   ]
  },
  {
   "cell_type": "code",
   "execution_count": 44,
   "id": "7abdd1f0",
   "metadata": {
    "scrolled": true
   },
   "outputs": [
    {
     "data": {
      "text/html": [
       "<div><img onload=\"(function(div, url){\n",
       "if (typeof require !== 'undefined') {\n",
       "    var baseURL = require.toUrl('').split('/').slice(0, -2).join('/');\n",
       "} else {\n",
       "    var baseURL = JSON.parse(\n",
       "        document.getElementById('jupyter-config-data').innerHTML\n",
       "    ).baseUrl.slice(0, -1);\n",
       "}\n",
       "url = baseURL + url;\n",
       "fetch(url).then(function(res) {\n",
       "    if (res.status === 404) {\n",
       "        div.innerHTML = 'Install QIIME 2 Jupyter extension with:<br />' +\n",
       "                        '<code>jupyter server extension enable --py qiime2' +\n",
       "                        ' --sys-prefix</code><br />then restart your server.' +\n",
       "                        '<br /><br />(Interactive output not available on ' +\n",
       "                        'static notebook viewer services like nbviewer.)';\n",
       "    } else if (res.status === 409) {\n",
       "        div.innerHTML = 'Visualization no longer in scope. Re-run this cell' +\n",
       "                        ' to see the visualization.';\n",
       "    } else if (res.ok) {\n",
       "        url = res.url;\n",
       "        div.innerHTML = '<iframe src=\\'' + url + '\\' style=\\'' +\n",
       "                        'width: 100%; height: 700px; border: 0;\\'>' +\n",
       "                        '</iframe><hr />Open in a: <a href=\\'' + url + '\\'' +\n",
       "                        ' target=\\'_blank\\'>new window</a>'\n",
       "    } else {\n",
       "        div.innerHTML = 'Something has gone wrong. Check notebook server for' +\n",
       "                        ' errors.';\n",
       "    }\n",
       "});\n",
       "})(this.parentElement, '/qiime2/redirect?location=/scratch/lfloerl/tmpdata/qiime2/lfloerl/data/454efe15-c736-40f5-8444-7a265115c946')\" src=\"data:image/gif;base64,R0lGODlhAQABAIAAAP///wAAACH5BAEAAAAALAAAAAABAAEAAAICRAEAOw==\" /></div>"
      ],
      "text/plain": [
       "<visualization: Visualization uuid: 454efe15-c736-40f5-8444-7a265115c946>"
      ]
     },
     "execution_count": 44,
     "metadata": {},
     "output_type": "execute_result"
    }
   ],
   "source": [
    "Visualization.load('must_mantel/jaccard_kmer_mantel.qzv')"
   ]
  },
  {
   "cell_type": "markdown",
   "id": "dabd1af7",
   "metadata": {},
   "source": [
    "<hr>\n",
    "\n",
    "# DENSE SAMPLING: SUBSET TO SINGLE PLOT IN HARVEST 2021  \n",
    "\n",
    "-> calculate the Mantel test for every single densely sampled plot "
   ]
  },
  {
   "cell_type": "code",
   "execution_count": 11,
   "id": "5ecef7c3",
   "metadata": {},
   "outputs": [],
   "source": [
    "#!mkdir /home/lfloerl/cloud/lfloerl/Microterroir/artifacts/ITS/lavaux/spatio-temporal/Berries_2021_dense_sampling"
   ]
  },
  {
   "cell_type": "code",
   "execution_count": 55,
   "id": "519ca429",
   "metadata": {},
   "outputs": [
    {
     "name": "stdout",
     "output_type": "stream",
     "text": [
      "/home/lfloerl/cloud/lfloerl/Microterroir/artifacts/ITS/lavaux/spatio-temporal/Berries_2021_dense_sampling\n"
     ]
    }
   ],
   "source": [
    "workdir = '/home/lfloerl/cloud/lfloerl/Microterroir/artifacts/ITS/lavaux/spatio-temporal/Berries_2021_dense_sampling'\n",
    "%cd $workdir"
   ]
  },
  {
   "cell_type": "code",
   "execution_count": 14,
   "id": "1779317d",
   "metadata": {
    "scrolled": true
   },
   "outputs": [
    {
     "data": {
      "text/plain": [
       "array(['Lavaux_Plot_4', 'Lavaux_Plot_5', 'Lavaux_Plot_9',\n",
       "       'Lavaux_Plot_11', 'Lavaux_Plot_12', 'Lavaux_Plot_13',\n",
       "       'Lavaux_Plot_14', 'Lavaux_Plot_15', 'Lavaux_Plot_18',\n",
       "       'Lavaux_Plot_19', 'Lavaux_Plot_20', 'Lavaux_Plot_17'], dtype=object)"
      ]
     },
     "execution_count": 14,
     "metadata": {},
     "output_type": "execute_result"
    }
   ],
   "source": [
    "md_df = md.to_dataframe()\n",
    "md_df['Plot_ID'].unique()"
   ]
  },
  {
   "cell_type": "code",
   "execution_count": 18,
   "id": "705e8afd",
   "metadata": {
    "scrolled": true
   },
   "outputs": [
    {
     "name": "stdout",
     "output_type": "stream",
     "text": [
      "Processing Lavaux_Plot_4\n",
      "Saved FeatureTable[Frequency] to: must_harvest21_Lavaux_Plot_4_filtered_table.qza\n",
      "Saved FeatureData[Sequence] to: must_harvest21_Lavaux_Plot_4_filtered_rep_seqs.qza\n",
      "Saved FeatureTable[Frequency] to: cm5000/rarefied_table.qza\n",
      "Saved SampleData[AlphaDiversity] to: cm5000/observed_features_vector.qza\n",
      "Saved SampleData[AlphaDiversity] to: cm5000/shannon_vector.qza\n",
      "Saved SampleData[AlphaDiversity] to: cm5000/evenness_vector.qza\n",
      "Saved DistanceMatrix to: cm5000/jaccard_distance_matrix.qza\n",
      "Saved DistanceMatrix to: cm5000/bray_curtis_distance_matrix.qza\n",
      "Saved PCoAResults to: cm5000/jaccard_pcoa_results.qza\n",
      "Saved PCoAResults to: cm5000/bray_curtis_pcoa_results.qza\n",
      "Saved Visualization to: cm5000/jaccard_emperor.qzv\n",
      "Saved Visualization to: cm5000/bray_curtis_emperor.qzv\n",
      "Saved FeatureTable[Frequency] to: kmer_cm5000/rarefied_table.qza\n",
      "Saved FeatureTable[Frequency] to: kmer_cm5000/kmer_table.qza\n",
      "Saved SampleData[AlphaDiversity] to: kmer_cm5000/observed_features_vector.qza\n",
      "Saved SampleData[AlphaDiversity] to: kmer_cm5000/shannon_vector.qza\n",
      "Saved DistanceMatrix to: kmer_cm5000/jaccard_distance_matrix.qza\n",
      "Saved DistanceMatrix to: kmer_cm5000/bray_curtis_distance_matrix.qza\n",
      "Saved PCoAResults to: kmer_cm5000/jaccard_pcoa_results.qza\n",
      "Saved PCoAResults to: kmer_cm5000/bray_curtis_pcoa_results.qza\n",
      "Saved Visualization to: kmer_cm5000/scatterplot.qzv\n",
      "Saved Visualization to: mantel/bray_curtis_mantel.qzv\n",
      "Saved Visualization to: mantel/jaccard_mantel.qzv\n",
      "Saved Visualization to: mantel/bray_curtis_kmer_mantel.qzv\n",
      "Saved Visualization to: mantel/jaccard_kmer_mantel.qzv\n",
      "Processing Lavaux_Plot_5\n",
      "Saved FeatureTable[Frequency] to: must_harvest21_Lavaux_Plot_5_filtered_table.qza\n",
      "Saved FeatureData[Sequence] to: must_harvest21_Lavaux_Plot_5_filtered_rep_seqs.qza\n",
      "Saved FeatureTable[Frequency] to: cm5000/rarefied_table.qza\n",
      "Saved SampleData[AlphaDiversity] to: cm5000/observed_features_vector.qza\n",
      "Saved SampleData[AlphaDiversity] to: cm5000/shannon_vector.qza\n",
      "Saved SampleData[AlphaDiversity] to: cm5000/evenness_vector.qza\n",
      "Saved DistanceMatrix to: cm5000/jaccard_distance_matrix.qza\n",
      "Saved DistanceMatrix to: cm5000/bray_curtis_distance_matrix.qza\n",
      "Saved PCoAResults to: cm5000/jaccard_pcoa_results.qza\n",
      "Saved PCoAResults to: cm5000/bray_curtis_pcoa_results.qza\n",
      "Saved Visualization to: cm5000/jaccard_emperor.qzv\n",
      "Saved Visualization to: cm5000/bray_curtis_emperor.qzv\n",
      "Saved FeatureTable[Frequency] to: kmer_cm5000/rarefied_table.qza\n",
      "Saved FeatureTable[Frequency] to: kmer_cm5000/kmer_table.qza\n",
      "Saved SampleData[AlphaDiversity] to: kmer_cm5000/observed_features_vector.qza\n",
      "Saved SampleData[AlphaDiversity] to: kmer_cm5000/shannon_vector.qza\n",
      "Saved DistanceMatrix to: kmer_cm5000/jaccard_distance_matrix.qza\n",
      "Saved DistanceMatrix to: kmer_cm5000/bray_curtis_distance_matrix.qza\n",
      "Saved PCoAResults to: kmer_cm5000/jaccard_pcoa_results.qza\n",
      "Saved PCoAResults to: kmer_cm5000/bray_curtis_pcoa_results.qza\n",
      "Saved Visualization to: kmer_cm5000/scatterplot.qzv\n",
      "Saved Visualization to: mantel/bray_curtis_mantel.qzv\n",
      "Saved Visualization to: mantel/jaccard_mantel.qzv\n",
      "Saved Visualization to: mantel/bray_curtis_kmer_mantel.qzv\n",
      "Saved Visualization to: mantel/jaccard_kmer_mantel.qzv\n",
      "Processing Lavaux_Plot_9\n",
      "Saved FeatureTable[Frequency] to: must_harvest21_Lavaux_Plot_9_filtered_table.qza\n",
      "Saved FeatureData[Sequence] to: must_harvest21_Lavaux_Plot_9_filtered_rep_seqs.qza\n",
      "Saved FeatureTable[Frequency] to: cm5000/rarefied_table.qza\n",
      "Saved SampleData[AlphaDiversity] to: cm5000/observed_features_vector.qza\n",
      "Saved SampleData[AlphaDiversity] to: cm5000/shannon_vector.qza\n",
      "Saved SampleData[AlphaDiversity] to: cm5000/evenness_vector.qza\n",
      "Saved DistanceMatrix to: cm5000/jaccard_distance_matrix.qza\n",
      "Saved DistanceMatrix to: cm5000/bray_curtis_distance_matrix.qza\n",
      "Saved PCoAResults to: cm5000/jaccard_pcoa_results.qza\n",
      "Saved PCoAResults to: cm5000/bray_curtis_pcoa_results.qza\n",
      "Saved Visualization to: cm5000/jaccard_emperor.qzv\n",
      "Saved Visualization to: cm5000/bray_curtis_emperor.qzv\n",
      "Saved FeatureTable[Frequency] to: kmer_cm5000/rarefied_table.qza\n",
      "Saved FeatureTable[Frequency] to: kmer_cm5000/kmer_table.qza\n",
      "Saved SampleData[AlphaDiversity] to: kmer_cm5000/observed_features_vector.qza\n",
      "Saved SampleData[AlphaDiversity] to: kmer_cm5000/shannon_vector.qza\n",
      "Saved DistanceMatrix to: kmer_cm5000/jaccard_distance_matrix.qza\n",
      "Saved DistanceMatrix to: kmer_cm5000/bray_curtis_distance_matrix.qza\n",
      "Saved PCoAResults to: kmer_cm5000/jaccard_pcoa_results.qza\n",
      "Saved PCoAResults to: kmer_cm5000/bray_curtis_pcoa_results.qza\n",
      "Saved Visualization to: kmer_cm5000/scatterplot.qzv\n",
      "Saved Visualization to: mantel/bray_curtis_mantel.qzv\n",
      "Saved Visualization to: mantel/jaccard_mantel.qzv\n",
      "Saved Visualization to: mantel/bray_curtis_kmer_mantel.qzv\n",
      "Saved Visualization to: mantel/jaccard_kmer_mantel.qzv\n",
      "Processing Lavaux_Plot_11\n",
      "Saved FeatureTable[Frequency] to: must_harvest21_Lavaux_Plot_11_filtered_table.qza\n",
      "Saved FeatureData[Sequence] to: must_harvest21_Lavaux_Plot_11_filtered_rep_seqs.qza\n",
      "Saved FeatureTable[Frequency] to: cm5000/rarefied_table.qza\n",
      "Saved SampleData[AlphaDiversity] to: cm5000/observed_features_vector.qza\n",
      "Saved SampleData[AlphaDiversity] to: cm5000/shannon_vector.qza\n",
      "Saved SampleData[AlphaDiversity] to: cm5000/evenness_vector.qza\n",
      "Saved DistanceMatrix to: cm5000/jaccard_distance_matrix.qza\n",
      "Saved DistanceMatrix to: cm5000/bray_curtis_distance_matrix.qza\n",
      "Saved PCoAResults to: cm5000/jaccard_pcoa_results.qza\n",
      "Saved PCoAResults to: cm5000/bray_curtis_pcoa_results.qza\n",
      "Saved Visualization to: cm5000/jaccard_emperor.qzv\n",
      "Saved Visualization to: cm5000/bray_curtis_emperor.qzv\n",
      "Saved FeatureTable[Frequency] to: kmer_cm5000/rarefied_table.qza\n",
      "Saved FeatureTable[Frequency] to: kmer_cm5000/kmer_table.qza\n",
      "Saved SampleData[AlphaDiversity] to: kmer_cm5000/observed_features_vector.qza\n",
      "Saved SampleData[AlphaDiversity] to: kmer_cm5000/shannon_vector.qza\n",
      "Saved DistanceMatrix to: kmer_cm5000/jaccard_distance_matrix.qza\n",
      "Saved DistanceMatrix to: kmer_cm5000/bray_curtis_distance_matrix.qza\n",
      "Saved PCoAResults to: kmer_cm5000/jaccard_pcoa_results.qza\n",
      "Saved PCoAResults to: kmer_cm5000/bray_curtis_pcoa_results.qza\n",
      "Saved Visualization to: kmer_cm5000/scatterplot.qzv\n",
      "Saved Visualization to: mantel/bray_curtis_mantel.qzv\n",
      "Saved Visualization to: mantel/jaccard_mantel.qzv\n",
      "Saved Visualization to: mantel/bray_curtis_kmer_mantel.qzv\n",
      "Saved Visualization to: mantel/jaccard_kmer_mantel.qzv\n",
      "Processing Lavaux_Plot_12\n",
      "Saved FeatureTable[Frequency] to: must_harvest21_Lavaux_Plot_12_filtered_table.qza\n",
      "Saved FeatureData[Sequence] to: must_harvest21_Lavaux_Plot_12_filtered_rep_seqs.qza\n",
      "Saved FeatureTable[Frequency] to: cm5000/rarefied_table.qza\n",
      "Saved SampleData[AlphaDiversity] to: cm5000/observed_features_vector.qza\n",
      "Saved SampleData[AlphaDiversity] to: cm5000/shannon_vector.qza\n",
      "Saved SampleData[AlphaDiversity] to: cm5000/evenness_vector.qza\n",
      "Saved DistanceMatrix to: cm5000/jaccard_distance_matrix.qza\n",
      "Saved DistanceMatrix to: cm5000/bray_curtis_distance_matrix.qza\n",
      "Saved PCoAResults to: cm5000/jaccard_pcoa_results.qza\n",
      "Saved PCoAResults to: cm5000/bray_curtis_pcoa_results.qza\n",
      "Saved Visualization to: cm5000/jaccard_emperor.qzv\n",
      "Saved Visualization to: cm5000/bray_curtis_emperor.qzv\n",
      "Saved FeatureTable[Frequency] to: kmer_cm5000/rarefied_table.qza\n",
      "Saved FeatureTable[Frequency] to: kmer_cm5000/kmer_table.qza\n",
      "Saved SampleData[AlphaDiversity] to: kmer_cm5000/observed_features_vector.qza\n",
      "Saved SampleData[AlphaDiversity] to: kmer_cm5000/shannon_vector.qza\n",
      "Saved DistanceMatrix to: kmer_cm5000/jaccard_distance_matrix.qza\n",
      "Saved DistanceMatrix to: kmer_cm5000/bray_curtis_distance_matrix.qza\n",
      "Saved PCoAResults to: kmer_cm5000/jaccard_pcoa_results.qza\n",
      "Saved PCoAResults to: kmer_cm5000/bray_curtis_pcoa_results.qza\n",
      "Saved Visualization to: kmer_cm5000/scatterplot.qzv\n",
      "Saved Visualization to: mantel/bray_curtis_mantel.qzv\n",
      "Saved Visualization to: mantel/jaccard_mantel.qzv\n",
      "Saved Visualization to: mantel/bray_curtis_kmer_mantel.qzv\n",
      "Saved Visualization to: mantel/jaccard_kmer_mantel.qzv\n",
      "Processing Lavaux_Plot_13\n",
      "Saved FeatureTable[Frequency] to: must_harvest21_Lavaux_Plot_13_filtered_table.qza\n",
      "Saved FeatureData[Sequence] to: must_harvest21_Lavaux_Plot_13_filtered_rep_seqs.qza\n",
      "Saved FeatureTable[Frequency] to: cm5000/rarefied_table.qza\n"
     ]
    },
    {
     "name": "stdout",
     "output_type": "stream",
     "text": [
      "Saved SampleData[AlphaDiversity] to: cm5000/observed_features_vector.qza\n",
      "Saved SampleData[AlphaDiversity] to: cm5000/shannon_vector.qza\n",
      "Saved SampleData[AlphaDiversity] to: cm5000/evenness_vector.qza\n",
      "Saved DistanceMatrix to: cm5000/jaccard_distance_matrix.qza\n",
      "Saved DistanceMatrix to: cm5000/bray_curtis_distance_matrix.qza\n",
      "Saved PCoAResults to: cm5000/jaccard_pcoa_results.qza\n",
      "Saved PCoAResults to: cm5000/bray_curtis_pcoa_results.qza\n",
      "Saved Visualization to: cm5000/jaccard_emperor.qzv\n",
      "Saved Visualization to: cm5000/bray_curtis_emperor.qzv\n",
      "Saved FeatureTable[Frequency] to: kmer_cm5000/rarefied_table.qza\n",
      "Saved FeatureTable[Frequency] to: kmer_cm5000/kmer_table.qza\n",
      "Saved SampleData[AlphaDiversity] to: kmer_cm5000/observed_features_vector.qza\n",
      "Saved SampleData[AlphaDiversity] to: kmer_cm5000/shannon_vector.qza\n",
      "Saved DistanceMatrix to: kmer_cm5000/jaccard_distance_matrix.qza\n",
      "Saved DistanceMatrix to: kmer_cm5000/bray_curtis_distance_matrix.qza\n",
      "Saved PCoAResults to: kmer_cm5000/jaccard_pcoa_results.qza\n",
      "Saved PCoAResults to: kmer_cm5000/bray_curtis_pcoa_results.qza\n",
      "Saved Visualization to: kmer_cm5000/scatterplot.qzv\n",
      "Saved Visualization to: mantel/bray_curtis_mantel.qzv\n",
      "Saved Visualization to: mantel/jaccard_mantel.qzv\n",
      "Saved Visualization to: mantel/bray_curtis_kmer_mantel.qzv\n",
      "Saved Visualization to: mantel/jaccard_kmer_mantel.qzv\n",
      "Processing Lavaux_Plot_14\n",
      "Saved FeatureTable[Frequency] to: must_harvest21_Lavaux_Plot_14_filtered_table.qza\n",
      "Saved FeatureData[Sequence] to: must_harvest21_Lavaux_Plot_14_filtered_rep_seqs.qza\n",
      "Saved FeatureTable[Frequency] to: cm5000/rarefied_table.qza\n",
      "Saved SampleData[AlphaDiversity] to: cm5000/observed_features_vector.qza\n",
      "Saved SampleData[AlphaDiversity] to: cm5000/shannon_vector.qza\n",
      "Saved SampleData[AlphaDiversity] to: cm5000/evenness_vector.qza\n",
      "Saved DistanceMatrix to: cm5000/jaccard_distance_matrix.qza\n",
      "Saved DistanceMatrix to: cm5000/bray_curtis_distance_matrix.qza\n",
      "Saved PCoAResults to: cm5000/jaccard_pcoa_results.qza\n",
      "Saved PCoAResults to: cm5000/bray_curtis_pcoa_results.qza\n",
      "Saved Visualization to: cm5000/jaccard_emperor.qzv\n",
      "Saved Visualization to: cm5000/bray_curtis_emperor.qzv\n",
      "Saved FeatureTable[Frequency] to: kmer_cm5000/rarefied_table.qza\n",
      "Saved FeatureTable[Frequency] to: kmer_cm5000/kmer_table.qza\n",
      "Saved SampleData[AlphaDiversity] to: kmer_cm5000/observed_features_vector.qza\n",
      "Saved SampleData[AlphaDiversity] to: kmer_cm5000/shannon_vector.qza\n",
      "Saved DistanceMatrix to: kmer_cm5000/jaccard_distance_matrix.qza\n",
      "Saved DistanceMatrix to: kmer_cm5000/bray_curtis_distance_matrix.qza\n",
      "Saved PCoAResults to: kmer_cm5000/jaccard_pcoa_results.qza\n",
      "Saved PCoAResults to: kmer_cm5000/bray_curtis_pcoa_results.qza\n",
      "Saved Visualization to: kmer_cm5000/scatterplot.qzv\n",
      "Saved Visualization to: mantel/bray_curtis_mantel.qzv\n",
      "Saved Visualization to: mantel/jaccard_mantel.qzv\n",
      "Saved Visualization to: mantel/bray_curtis_kmer_mantel.qzv\n",
      "Saved Visualization to: mantel/jaccard_kmer_mantel.qzv\n",
      "Processing Lavaux_Plot_15\n",
      "Saved FeatureTable[Frequency] to: must_harvest21_Lavaux_Plot_15_filtered_table.qza\n",
      "Saved FeatureData[Sequence] to: must_harvest21_Lavaux_Plot_15_filtered_rep_seqs.qza\n",
      "Saved FeatureTable[Frequency] to: cm5000/rarefied_table.qza\n",
      "Saved SampleData[AlphaDiversity] to: cm5000/observed_features_vector.qza\n",
      "Saved SampleData[AlphaDiversity] to: cm5000/shannon_vector.qza\n",
      "Saved SampleData[AlphaDiversity] to: cm5000/evenness_vector.qza\n",
      "Saved DistanceMatrix to: cm5000/jaccard_distance_matrix.qza\n",
      "Saved DistanceMatrix to: cm5000/bray_curtis_distance_matrix.qza\n",
      "Saved PCoAResults to: cm5000/jaccard_pcoa_results.qza\n",
      "Saved PCoAResults to: cm5000/bray_curtis_pcoa_results.qza\n",
      "Saved Visualization to: cm5000/jaccard_emperor.qzv\n",
      "Saved Visualization to: cm5000/bray_curtis_emperor.qzv\n",
      "Saved FeatureTable[Frequency] to: kmer_cm5000/rarefied_table.qza\n",
      "Saved FeatureTable[Frequency] to: kmer_cm5000/kmer_table.qza\n",
      "Saved SampleData[AlphaDiversity] to: kmer_cm5000/observed_features_vector.qza\n",
      "Saved SampleData[AlphaDiversity] to: kmer_cm5000/shannon_vector.qza\n",
      "Saved DistanceMatrix to: kmer_cm5000/jaccard_distance_matrix.qza\n",
      "Saved DistanceMatrix to: kmer_cm5000/bray_curtis_distance_matrix.qza\n",
      "Saved PCoAResults to: kmer_cm5000/jaccard_pcoa_results.qza\n",
      "Saved PCoAResults to: kmer_cm5000/bray_curtis_pcoa_results.qza\n",
      "Saved Visualization to: kmer_cm5000/scatterplot.qzv\n",
      "Saved Visualization to: mantel/bray_curtis_mantel.qzv\n",
      "Saved Visualization to: mantel/jaccard_mantel.qzv\n",
      "Saved Visualization to: mantel/bray_curtis_kmer_mantel.qzv\n",
      "Saved Visualization to: mantel/jaccard_kmer_mantel.qzv\n",
      "Processing Lavaux_Plot_18\n",
      "Saved FeatureTable[Frequency] to: must_harvest21_Lavaux_Plot_18_filtered_table.qza\n",
      "Saved FeatureData[Sequence] to: must_harvest21_Lavaux_Plot_18_filtered_rep_seqs.qza\n",
      "Saved FeatureTable[Frequency] to: cm5000/rarefied_table.qza\n",
      "Saved SampleData[AlphaDiversity] to: cm5000/observed_features_vector.qza\n",
      "Saved SampleData[AlphaDiversity] to: cm5000/shannon_vector.qza\n",
      "Saved SampleData[AlphaDiversity] to: cm5000/evenness_vector.qza\n",
      "Saved DistanceMatrix to: cm5000/jaccard_distance_matrix.qza\n",
      "Saved DistanceMatrix to: cm5000/bray_curtis_distance_matrix.qza\n",
      "Saved PCoAResults to: cm5000/jaccard_pcoa_results.qza\n",
      "Saved PCoAResults to: cm5000/bray_curtis_pcoa_results.qza\n",
      "Saved Visualization to: cm5000/jaccard_emperor.qzv\n",
      "Saved Visualization to: cm5000/bray_curtis_emperor.qzv\n",
      "Saved FeatureTable[Frequency] to: kmer_cm5000/rarefied_table.qza\n",
      "Saved FeatureTable[Frequency] to: kmer_cm5000/kmer_table.qza\n",
      "Saved SampleData[AlphaDiversity] to: kmer_cm5000/observed_features_vector.qza\n",
      "Saved SampleData[AlphaDiversity] to: kmer_cm5000/shannon_vector.qza\n",
      "Saved DistanceMatrix to: kmer_cm5000/jaccard_distance_matrix.qza\n",
      "Saved DistanceMatrix to: kmer_cm5000/bray_curtis_distance_matrix.qza\n",
      "Saved PCoAResults to: kmer_cm5000/jaccard_pcoa_results.qza\n",
      "Saved PCoAResults to: kmer_cm5000/bray_curtis_pcoa_results.qza\n",
      "Saved Visualization to: kmer_cm5000/scatterplot.qzv\n",
      "Saved Visualization to: mantel/bray_curtis_mantel.qzv\n",
      "Saved Visualization to: mantel/jaccard_mantel.qzv\n",
      "Saved Visualization to: mantel/bray_curtis_kmer_mantel.qzv\n",
      "Saved Visualization to: mantel/jaccard_kmer_mantel.qzv\n",
      "Processing Lavaux_Plot_19\n",
      "Saved FeatureTable[Frequency] to: must_harvest21_Lavaux_Plot_19_filtered_table.qza\n",
      "Saved FeatureData[Sequence] to: must_harvest21_Lavaux_Plot_19_filtered_rep_seqs.qza\n",
      "Saved FeatureTable[Frequency] to: cm5000/rarefied_table.qza\n",
      "Saved SampleData[AlphaDiversity] to: cm5000/observed_features_vector.qza\n",
      "Saved SampleData[AlphaDiversity] to: cm5000/shannon_vector.qza\n",
      "Saved SampleData[AlphaDiversity] to: cm5000/evenness_vector.qza\n",
      "Saved DistanceMatrix to: cm5000/jaccard_distance_matrix.qza\n",
      "Saved DistanceMatrix to: cm5000/bray_curtis_distance_matrix.qza\n",
      "Saved PCoAResults to: cm5000/jaccard_pcoa_results.qza\n",
      "Saved PCoAResults to: cm5000/bray_curtis_pcoa_results.qza\n",
      "Saved Visualization to: cm5000/jaccard_emperor.qzv\n",
      "Saved Visualization to: cm5000/bray_curtis_emperor.qzv\n",
      "Saved FeatureTable[Frequency] to: kmer_cm5000/rarefied_table.qza\n",
      "Saved FeatureTable[Frequency] to: kmer_cm5000/kmer_table.qza\n",
      "Saved SampleData[AlphaDiversity] to: kmer_cm5000/observed_features_vector.qza\n",
      "Saved SampleData[AlphaDiversity] to: kmer_cm5000/shannon_vector.qza\n",
      "Saved DistanceMatrix to: kmer_cm5000/jaccard_distance_matrix.qza\n",
      "Saved DistanceMatrix to: kmer_cm5000/bray_curtis_distance_matrix.qza\n",
      "Saved PCoAResults to: kmer_cm5000/jaccard_pcoa_results.qza\n",
      "Saved PCoAResults to: kmer_cm5000/bray_curtis_pcoa_results.qza\n",
      "Saved Visualization to: kmer_cm5000/scatterplot.qzv\n",
      "Saved Visualization to: mantel/bray_curtis_mantel.qzv\n",
      "Saved Visualization to: mantel/jaccard_mantel.qzv\n",
      "Saved Visualization to: mantel/bray_curtis_kmer_mantel.qzv\n",
      "Saved Visualization to: mantel/jaccard_kmer_mantel.qzv\n",
      "Processing Lavaux_Plot_20\n",
      "Saved FeatureTable[Frequency] to: must_harvest21_Lavaux_Plot_20_filtered_table.qza\n",
      "Saved FeatureData[Sequence] to: must_harvest21_Lavaux_Plot_20_filtered_rep_seqs.qza\n",
      "Saved FeatureTable[Frequency] to: cm5000/rarefied_table.qza\n",
      "Saved SampleData[AlphaDiversity] to: cm5000/observed_features_vector.qza\n",
      "Saved SampleData[AlphaDiversity] to: cm5000/shannon_vector.qza\n",
      "Saved SampleData[AlphaDiversity] to: cm5000/evenness_vector.qza\n",
      "Saved DistanceMatrix to: cm5000/jaccard_distance_matrix.qza\n"
     ]
    },
    {
     "name": "stdout",
     "output_type": "stream",
     "text": [
      "Saved DistanceMatrix to: cm5000/bray_curtis_distance_matrix.qza\n",
      "Saved PCoAResults to: cm5000/jaccard_pcoa_results.qza\n",
      "Saved PCoAResults to: cm5000/bray_curtis_pcoa_results.qza\n",
      "Saved Visualization to: cm5000/jaccard_emperor.qzv\n",
      "Saved Visualization to: cm5000/bray_curtis_emperor.qzv\n",
      "Saved FeatureTable[Frequency] to: kmer_cm5000/rarefied_table.qza\n",
      "Saved FeatureTable[Frequency] to: kmer_cm5000/kmer_table.qza\n",
      "Saved SampleData[AlphaDiversity] to: kmer_cm5000/observed_features_vector.qza\n",
      "Saved SampleData[AlphaDiversity] to: kmer_cm5000/shannon_vector.qza\n",
      "Saved DistanceMatrix to: kmer_cm5000/jaccard_distance_matrix.qza\n",
      "Saved DistanceMatrix to: kmer_cm5000/bray_curtis_distance_matrix.qza\n",
      "Saved PCoAResults to: kmer_cm5000/jaccard_pcoa_results.qza\n",
      "Saved PCoAResults to: kmer_cm5000/bray_curtis_pcoa_results.qza\n",
      "Saved Visualization to: kmer_cm5000/scatterplot.qzv\n",
      "Saved Visualization to: mantel/bray_curtis_mantel.qzv\n",
      "Saved Visualization to: mantel/jaccard_mantel.qzv\n",
      "Saved Visualization to: mantel/bray_curtis_kmer_mantel.qzv\n",
      "Saved Visualization to: mantel/jaccard_kmer_mantel.qzv\n",
      "Processing Lavaux_Plot_17\n",
      "Saved FeatureTable[Frequency] to: must_harvest21_Lavaux_Plot_17_filtered_table.qza\n",
      "Saved FeatureData[Sequence] to: must_harvest21_Lavaux_Plot_17_filtered_rep_seqs.qza\n",
      "Saved FeatureTable[Frequency] to: cm5000/rarefied_table.qza\n",
      "Saved SampleData[AlphaDiversity] to: cm5000/observed_features_vector.qza\n",
      "Saved SampleData[AlphaDiversity] to: cm5000/shannon_vector.qza\n",
      "Saved SampleData[AlphaDiversity] to: cm5000/evenness_vector.qza\n",
      "Saved DistanceMatrix to: cm5000/jaccard_distance_matrix.qza\n",
      "Saved DistanceMatrix to: cm5000/bray_curtis_distance_matrix.qza\n",
      "Saved PCoAResults to: cm5000/jaccard_pcoa_results.qza\n",
      "Saved PCoAResults to: cm5000/bray_curtis_pcoa_results.qza\n",
      "Saved Visualization to: cm5000/jaccard_emperor.qzv\n",
      "Saved Visualization to: cm5000/bray_curtis_emperor.qzv\n",
      "Saved FeatureTable[Frequency] to: kmer_cm5000/rarefied_table.qza\n",
      "Saved FeatureTable[Frequency] to: kmer_cm5000/kmer_table.qza\n",
      "Saved SampleData[AlphaDiversity] to: kmer_cm5000/observed_features_vector.qza\n",
      "Saved SampleData[AlphaDiversity] to: kmer_cm5000/shannon_vector.qza\n",
      "Saved DistanceMatrix to: kmer_cm5000/jaccard_distance_matrix.qza\n",
      "Saved DistanceMatrix to: kmer_cm5000/bray_curtis_distance_matrix.qza\n",
      "Saved PCoAResults to: kmer_cm5000/jaccard_pcoa_results.qza\n",
      "Saved PCoAResults to: kmer_cm5000/bray_curtis_pcoa_results.qza\n",
      "Saved Visualization to: kmer_cm5000/scatterplot.qzv\n",
      "Saved Visualization to: mantel/bray_curtis_mantel.qzv\n",
      "Saved Visualization to: mantel/jaccard_mantel.qzv\n",
      "Saved Visualization to: mantel/bray_curtis_kmer_mantel.qzv\n",
      "Saved Visualization to: mantel/jaccard_kmer_mantel.qzv\n"
     ]
    }
   ],
   "source": [
    "%%bash \n",
    "\n",
    "# Define the list of plots\n",
    "plots=('Lavaux_Plot_4' 'Lavaux_Plot_5' 'Lavaux_Plot_9' \n",
    "       'Lavaux_Plot_11' 'Lavaux_Plot_12' 'Lavaux_Plot_13' \n",
    "       'Lavaux_Plot_14' 'Lavaux_Plot_15' 'Lavaux_Plot_18' \n",
    "       'Lavaux_Plot_19' 'Lavaux_Plot_20' 'Lavaux_Plot_17')\n",
    "\n",
    "# Loop through each plot\n",
    "for plot in \"${plots[@]}\"\n",
    "do \n",
    "    echo \"Processing $plot\"\n",
    "    \n",
    "    # Create directory for the plot and navigate into it\n",
    "    mkdir -p \"./$plot\"\n",
    "    pushd \"./$plot\" > /dev/null\n",
    "\n",
    "    # Filter table and rep seqs\n",
    "    qiime feature-table filter-samples \\\n",
    "      --i-table /home/lfloerl/cloud/lfloerl/Microterroir/artifacts/ITS/lavaux/must_harvest21_filtered_table.qza \\\n",
    "      --m-metadata-file /home/lfloerl/microterroir/Microbiome/Metadata/ITS_lavaux.tsv \\\n",
    "      --p-where \"[Plot_ID]='$plot'\" \\\n",
    "      --o-filtered-table must_harvest21_${plot}_filtered_table.qza\n",
    "\n",
    "    qiime feature-table filter-seqs \\\n",
    "        --i-data /home/lfloerl/cloud/lfloerl/Microterroir/artifacts/Sven-denoising-test/ITS/revcomp-trimmed-denoised/with-adjusted-parameters/ITS-revcomp-trimmed-ER-0.05-denoised-trunc-190-PFA-4.0-maxee-4.0-rep-seqs.qza \\\n",
    "        --i-table must_harvest21_${plot}_filtered_table.qza \\\n",
    "        --o-filtered-data must_harvest21_${plot}_filtered_rep_seqs.qza\n",
    "\n",
    "    # Core diversity metrics\n",
    "    qiime diversity core-metrics \\\n",
    "        --i-table must_harvest21_${plot}_filtered_table.qza \\\n",
    "        --p-sampling-depth 5000 \\\n",
    "        --m-metadata-file /home/lfloerl/microterroir/Microbiome/Metadata/ITS_lavaux_Harvest21.tsv \\\n",
    "        --p-n-jobs 5 \\\n",
    "        --output-dir cm5000/\n",
    "\n",
    "    # Kmer diversity\n",
    "    qiime kmerizer core-metrics \\\n",
    "        --i-sequences must_harvest21_${plot}_filtered_rep_seqs.qza \\\n",
    "        --i-table must_harvest21_${plot}_filtered_table.qza \\\n",
    "        --p-sampling-depth 5000 \\\n",
    "        --m-metadata-file /home/lfloerl/microterroir/Microbiome/Metadata/ITS_lavaux_Harvest21.tsv \\\n",
    "        --p-n-jobs auto \\\n",
    "        --p-max-features 5000 \\\n",
    "        --output-dir kmer_cm5000/\n",
    "\n",
    "    # Perform Mantel tests and create mantel directory\n",
    "    mkdir -p mantel\n",
    "\n",
    "    qiime diversity mantel \\\n",
    "        --i-dm1 /home/lfloerl/cloud/lfloerl/Microterroir/artifacts/ITS/geodesic_distance_ITS-HR.qza \\\n",
    "        --i-dm2 cm5000/bray_curtis_distance_matrix.qza \\\n",
    "        --p-intersect-ids \\\n",
    "        --o-visualization mantel/bray_curtis_mantel.qzv\n",
    "\n",
    "    qiime diversity mantel \\\n",
    "        --i-dm1 /home/lfloerl/cloud/lfloerl/Microterroir/artifacts/ITS/geodesic_distance_ITS-HR.qza \\\n",
    "        --i-dm2 cm5000/jaccard_distance_matrix.qza \\\n",
    "        --p-intersect-ids \\\n",
    "        --o-visualization mantel/jaccard_mantel.qzv\n",
    "\n",
    "    qiime diversity mantel \\\n",
    "        --i-dm1 /home/lfloerl/cloud/lfloerl/Microterroir/artifacts/ITS/geodesic_distance_ITS-HR.qza \\\n",
    "        --i-dm2 kmer_cm5000/bray_curtis_distance_matrix.qza \\\n",
    "        --p-intersect-ids \\\n",
    "        --o-visualization mantel/bray_curtis_kmer_mantel.qzv\n",
    "\n",
    "    qiime diversity mantel \\\n",
    "        --i-dm1 /home/lfloerl/cloud/lfloerl/Microterroir/artifacts/ITS/geodesic_distance_ITS-HR.qza \\\n",
    "        --i-dm2 kmer_cm5000/jaccard_distance_matrix.qza \\\n",
    "        --p-intersect-ids \\\n",
    "        --o-visualization mantel/jaccard_kmer_mantel.qzv\n",
    "\n",
    "    # Return to the parent directory\n",
    "    popd > /dev/null\n",
    "done\n"
   ]
  },
  {
   "cell_type": "markdown",
   "id": "c3eb4599",
   "metadata": {},
   "source": [
    "#### Check out the Mantel tests "
   ]
  },
  {
   "cell_type": "code",
   "execution_count": 56,
   "id": "35f3f272",
   "metadata": {},
   "outputs": [],
   "source": [
    "# 'Lavaux_Plot_4', 'Lavaux_Plot_5', 'Lavaux_Plot_9', 'Lavaux_Plot_11', 'Lavaux_Plot_12', 'Lavaux_Plot_13',\n",
    "# 'Lavaux_Plot_14', 'Lavaux_Plot_15', 'Lavaux_Plot_18', 'Lavaux_Plot_19', 'Lavaux_Plot_20', 'Lavaux_Plot_17'\n",
    "\n",
    "plot = 'Lavaux_Plot_14'"
   ]
  },
  {
   "cell_type": "code",
   "execution_count": 57,
   "id": "e5b7460e",
   "metadata": {
    "scrolled": false
   },
   "outputs": [
    {
     "data": {
      "text/html": [
       "<div><img onload=\"(function(div, url){\n",
       "if (typeof require !== 'undefined') {\n",
       "    var baseURL = require.toUrl('').split('/').slice(0, -2).join('/');\n",
       "} else {\n",
       "    var baseURL = JSON.parse(\n",
       "        document.getElementById('jupyter-config-data').innerHTML\n",
       "    ).baseUrl.slice(0, -1);\n",
       "}\n",
       "url = baseURL + url;\n",
       "fetch(url).then(function(res) {\n",
       "    if (res.status === 404) {\n",
       "        div.innerHTML = 'Install QIIME 2 Jupyter extension with:<br />' +\n",
       "                        '<code>jupyter server extension enable --py qiime2' +\n",
       "                        ' --sys-prefix</code><br />then restart your server.' +\n",
       "                        '<br /><br />(Interactive output not available on ' +\n",
       "                        'static notebook viewer services like nbviewer.)';\n",
       "    } else if (res.status === 409) {\n",
       "        div.innerHTML = 'Visualization no longer in scope. Re-run this cell' +\n",
       "                        ' to see the visualization.';\n",
       "    } else if (res.ok) {\n",
       "        url = res.url;\n",
       "        div.innerHTML = '<iframe src=\\'' + url + '\\' style=\\'' +\n",
       "                        'width: 100%; height: 700px; border: 0;\\'>' +\n",
       "                        '</iframe><hr />Open in a: <a href=\\'' + url + '\\'' +\n",
       "                        ' target=\\'_blank\\'>new window</a>'\n",
       "    } else {\n",
       "        div.innerHTML = 'Something has gone wrong. Check notebook server for' +\n",
       "                        ' errors.';\n",
       "    }\n",
       "});\n",
       "})(this.parentElement, '/qiime2/redirect?location=/scratch/lfloerl/tmpdata/qiime2/lfloerl/data/7a1ddd99-e8bb-480a-8c2e-f449d3dfdcc2')\" src=\"data:image/gif;base64,R0lGODlhAQABAIAAAP///wAAACH5BAEAAAAALAAAAAABAAEAAAICRAEAOw==\" /></div>"
      ],
      "text/plain": [
       "<visualization: Visualization uuid: 7a1ddd99-e8bb-480a-8c2e-f449d3dfdcc2>"
      ]
     },
     "execution_count": 57,
     "metadata": {},
     "output_type": "execute_result"
    }
   ],
   "source": [
    "Visualization.load(f'{plot}/mantel/bray_curtis_mantel.qzv')"
   ]
  },
  {
   "cell_type": "code",
   "execution_count": 58,
   "id": "fe5a2b92",
   "metadata": {},
   "outputs": [
    {
     "data": {
      "text/html": [
       "<div><img onload=\"(function(div, url){\n",
       "if (typeof require !== 'undefined') {\n",
       "    var baseURL = require.toUrl('').split('/').slice(0, -2).join('/');\n",
       "} else {\n",
       "    var baseURL = JSON.parse(\n",
       "        document.getElementById('jupyter-config-data').innerHTML\n",
       "    ).baseUrl.slice(0, -1);\n",
       "}\n",
       "url = baseURL + url;\n",
       "fetch(url).then(function(res) {\n",
       "    if (res.status === 404) {\n",
       "        div.innerHTML = 'Install QIIME 2 Jupyter extension with:<br />' +\n",
       "                        '<code>jupyter server extension enable --py qiime2' +\n",
       "                        ' --sys-prefix</code><br />then restart your server.' +\n",
       "                        '<br /><br />(Interactive output not available on ' +\n",
       "                        'static notebook viewer services like nbviewer.)';\n",
       "    } else if (res.status === 409) {\n",
       "        div.innerHTML = 'Visualization no longer in scope. Re-run this cell' +\n",
       "                        ' to see the visualization.';\n",
       "    } else if (res.ok) {\n",
       "        url = res.url;\n",
       "        div.innerHTML = '<iframe src=\\'' + url + '\\' style=\\'' +\n",
       "                        'width: 100%; height: 700px; border: 0;\\'>' +\n",
       "                        '</iframe><hr />Open in a: <a href=\\'' + url + '\\'' +\n",
       "                        ' target=\\'_blank\\'>new window</a>'\n",
       "    } else {\n",
       "        div.innerHTML = 'Something has gone wrong. Check notebook server for' +\n",
       "                        ' errors.';\n",
       "    }\n",
       "});\n",
       "})(this.parentElement, '/qiime2/redirect?location=/scratch/lfloerl/tmpdata/qiime2/lfloerl/data/f817a802-3899-474f-9635-3b1311c672f0')\" src=\"data:image/gif;base64,R0lGODlhAQABAIAAAP///wAAACH5BAEAAAAALAAAAAABAAEAAAICRAEAOw==\" /></div>"
      ],
      "text/plain": [
       "<visualization: Visualization uuid: f817a802-3899-474f-9635-3b1311c672f0>"
      ]
     },
     "execution_count": 58,
     "metadata": {},
     "output_type": "execute_result"
    }
   ],
   "source": [
    "Visualization.load(f'{plot}/mantel/jaccard_mantel.qzv')"
   ]
  },
  {
   "cell_type": "code",
   "execution_count": 59,
   "id": "fe208684",
   "metadata": {},
   "outputs": [
    {
     "data": {
      "text/html": [
       "<div><img onload=\"(function(div, url){\n",
       "if (typeof require !== 'undefined') {\n",
       "    var baseURL = require.toUrl('').split('/').slice(0, -2).join('/');\n",
       "} else {\n",
       "    var baseURL = JSON.parse(\n",
       "        document.getElementById('jupyter-config-data').innerHTML\n",
       "    ).baseUrl.slice(0, -1);\n",
       "}\n",
       "url = baseURL + url;\n",
       "fetch(url).then(function(res) {\n",
       "    if (res.status === 404) {\n",
       "        div.innerHTML = 'Install QIIME 2 Jupyter extension with:<br />' +\n",
       "                        '<code>jupyter server extension enable --py qiime2' +\n",
       "                        ' --sys-prefix</code><br />then restart your server.' +\n",
       "                        '<br /><br />(Interactive output not available on ' +\n",
       "                        'static notebook viewer services like nbviewer.)';\n",
       "    } else if (res.status === 409) {\n",
       "        div.innerHTML = 'Visualization no longer in scope. Re-run this cell' +\n",
       "                        ' to see the visualization.';\n",
       "    } else if (res.ok) {\n",
       "        url = res.url;\n",
       "        div.innerHTML = '<iframe src=\\'' + url + '\\' style=\\'' +\n",
       "                        'width: 100%; height: 700px; border: 0;\\'>' +\n",
       "                        '</iframe><hr />Open in a: <a href=\\'' + url + '\\'' +\n",
       "                        ' target=\\'_blank\\'>new window</a>'\n",
       "    } else {\n",
       "        div.innerHTML = 'Something has gone wrong. Check notebook server for' +\n",
       "                        ' errors.';\n",
       "    }\n",
       "});\n",
       "})(this.parentElement, '/qiime2/redirect?location=/scratch/lfloerl/tmpdata/qiime2/lfloerl/data/26029706-e02d-4eed-b6c9-879ae973b42e')\" src=\"data:image/gif;base64,R0lGODlhAQABAIAAAP///wAAACH5BAEAAAAALAAAAAABAAEAAAICRAEAOw==\" /></div>"
      ],
      "text/plain": [
       "<visualization: Visualization uuid: 26029706-e02d-4eed-b6c9-879ae973b42e>"
      ]
     },
     "execution_count": 59,
     "metadata": {},
     "output_type": "execute_result"
    }
   ],
   "source": [
    "Visualization.load(f'{plot}/mantel/bray_curtis_kmer_mantel.qzv')"
   ]
  },
  {
   "cell_type": "code",
   "execution_count": 60,
   "id": "5acd8561",
   "metadata": {
    "scrolled": true
   },
   "outputs": [
    {
     "data": {
      "text/html": [
       "<div><img onload=\"(function(div, url){\n",
       "if (typeof require !== 'undefined') {\n",
       "    var baseURL = require.toUrl('').split('/').slice(0, -2).join('/');\n",
       "} else {\n",
       "    var baseURL = JSON.parse(\n",
       "        document.getElementById('jupyter-config-data').innerHTML\n",
       "    ).baseUrl.slice(0, -1);\n",
       "}\n",
       "url = baseURL + url;\n",
       "fetch(url).then(function(res) {\n",
       "    if (res.status === 404) {\n",
       "        div.innerHTML = 'Install QIIME 2 Jupyter extension with:<br />' +\n",
       "                        '<code>jupyter server extension enable --py qiime2' +\n",
       "                        ' --sys-prefix</code><br />then restart your server.' +\n",
       "                        '<br /><br />(Interactive output not available on ' +\n",
       "                        'static notebook viewer services like nbviewer.)';\n",
       "    } else if (res.status === 409) {\n",
       "        div.innerHTML = 'Visualization no longer in scope. Re-run this cell' +\n",
       "                        ' to see the visualization.';\n",
       "    } else if (res.ok) {\n",
       "        url = res.url;\n",
       "        div.innerHTML = '<iframe src=\\'' + url + '\\' style=\\'' +\n",
       "                        'width: 100%; height: 700px; border: 0;\\'>' +\n",
       "                        '</iframe><hr />Open in a: <a href=\\'' + url + '\\'' +\n",
       "                        ' target=\\'_blank\\'>new window</a>'\n",
       "    } else {\n",
       "        div.innerHTML = 'Something has gone wrong. Check notebook server for' +\n",
       "                        ' errors.';\n",
       "    }\n",
       "});\n",
       "})(this.parentElement, '/qiime2/redirect?location=/scratch/lfloerl/tmpdata/qiime2/lfloerl/data/bbf89e11-8a9d-4bf1-9e1b-139206831178')\" src=\"data:image/gif;base64,R0lGODlhAQABAIAAAP///wAAACH5BAEAAAAALAAAAAABAAEAAAICRAEAOw==\" /></div>"
      ],
      "text/plain": [
       "<visualization: Visualization uuid: bbf89e11-8a9d-4bf1-9e1b-139206831178>"
      ]
     },
     "execution_count": 60,
     "metadata": {},
     "output_type": "execute_result"
    }
   ],
   "source": [
    "Visualization.load(f'{plot}/mantel/jaccard_kmer_mantel.qzv')"
   ]
  },
  {
   "cell_type": "markdown",
   "id": "446b1bf8",
   "metadata": {},
   "source": [
    "## Must Harvest 2021 Mantel "
   ]
  },
  {
   "cell_type": "code",
   "execution_count": 50,
   "id": "0a1b0cf5",
   "metadata": {
    "scrolled": false
   },
   "outputs": [
    {
     "data": {
      "text/html": [
       "<div><img onload=\"(function(div, url){\n",
       "if (typeof require !== 'undefined') {\n",
       "    var baseURL = require.toUrl('').split('/').slice(0, -2).join('/');\n",
       "} else {\n",
       "    var baseURL = JSON.parse(\n",
       "        document.getElementById('jupyter-config-data').innerHTML\n",
       "    ).baseUrl.slice(0, -1);\n",
       "}\n",
       "url = baseURL + url;\n",
       "fetch(url).then(function(res) {\n",
       "    if (res.status === 404) {\n",
       "        div.innerHTML = 'Install QIIME 2 Jupyter extension with:<br />' +\n",
       "                        '<code>jupyter server extension enable --py qiime2' +\n",
       "                        ' --sys-prefix</code><br />then restart your server.' +\n",
       "                        '<br /><br />(Interactive output not available on ' +\n",
       "                        'static notebook viewer services like nbviewer.)';\n",
       "    } else if (res.status === 409) {\n",
       "        div.innerHTML = 'Visualization no longer in scope. Re-run this cell' +\n",
       "                        ' to see the visualization.';\n",
       "    } else if (res.ok) {\n",
       "        url = res.url;\n",
       "        div.innerHTML = '<iframe src=\\'' + url + '\\' style=\\'' +\n",
       "                        'width: 100%; height: 700px; border: 0;\\'>' +\n",
       "                        '</iframe><hr />Open in a: <a href=\\'' + url + '\\'' +\n",
       "                        ' target=\\'_blank\\'>new window</a>'\n",
       "    } else {\n",
       "        div.innerHTML = 'Something has gone wrong. Check notebook server for' +\n",
       "                        ' errors.';\n",
       "    }\n",
       "});\n",
       "})(this.parentElement, '/qiime2/redirect?location=/scratch/lfloerl/tmpdata/qiime2/lfloerl/data/0e90b084-bd88-4393-9041-dc30797c9945')\" src=\"data:image/gif;base64,R0lGODlhAQABAIAAAP///wAAACH5BAEAAAAALAAAAAABAAEAAAICRAEAOw==\" /></div>"
      ],
      "text/plain": [
       "<visualization: Visualization uuid: 0e90b084-bd88-4393-9041-dc30797c9945>"
      ]
     },
     "execution_count": 50,
     "metadata": {},
     "output_type": "execute_result"
    }
   ],
   "source": [
    "Visualization.load('must_harvest21_mantel/bray_curtis_mantel.qzv')"
   ]
  },
  {
   "cell_type": "code",
   "execution_count": 48,
   "id": "36919086",
   "metadata": {},
   "outputs": [
    {
     "data": {
      "text/html": [
       "<div><img onload=\"(function(div, url){\n",
       "if (typeof require !== 'undefined') {\n",
       "    var baseURL = require.toUrl('').split('/').slice(0, -2).join('/');\n",
       "} else {\n",
       "    var baseURL = JSON.parse(\n",
       "        document.getElementById('jupyter-config-data').innerHTML\n",
       "    ).baseUrl.slice(0, -1);\n",
       "}\n",
       "url = baseURL + url;\n",
       "fetch(url).then(function(res) {\n",
       "    if (res.status === 404) {\n",
       "        div.innerHTML = 'Install QIIME 2 Jupyter extension with:<br />' +\n",
       "                        '<code>jupyter server extension enable --py qiime2' +\n",
       "                        ' --sys-prefix</code><br />then restart your server.' +\n",
       "                        '<br /><br />(Interactive output not available on ' +\n",
       "                        'static notebook viewer services like nbviewer.)';\n",
       "    } else if (res.status === 409) {\n",
       "        div.innerHTML = 'Visualization no longer in scope. Re-run this cell' +\n",
       "                        ' to see the visualization.';\n",
       "    } else if (res.ok) {\n",
       "        url = res.url;\n",
       "        div.innerHTML = '<iframe src=\\'' + url + '\\' style=\\'' +\n",
       "                        'width: 100%; height: 700px; border: 0;\\'>' +\n",
       "                        '</iframe><hr />Open in a: <a href=\\'' + url + '\\'' +\n",
       "                        ' target=\\'_blank\\'>new window</a>'\n",
       "    } else {\n",
       "        div.innerHTML = 'Something has gone wrong. Check notebook server for' +\n",
       "                        ' errors.';\n",
       "    }\n",
       "});\n",
       "})(this.parentElement, '/qiime2/redirect?location=/scratch/lfloerl/tmpdata/qiime2/lfloerl/data/b634ca0e-7288-428c-ad1b-aa08d1f4e4fb')\" src=\"data:image/gif;base64,R0lGODlhAQABAIAAAP///wAAACH5BAEAAAAALAAAAAABAAEAAAICRAEAOw==\" /></div>"
      ],
      "text/plain": [
       "<visualization: Visualization uuid: b634ca0e-7288-428c-ad1b-aa08d1f4e4fb>"
      ]
     },
     "execution_count": 48,
     "metadata": {},
     "output_type": "execute_result"
    }
   ],
   "source": [
    "Visualization.load('must_harvest21_mantel/jaccard_mantel.qzv')"
   ]
  },
  {
   "cell_type": "code",
   "execution_count": 49,
   "id": "e28c3c11",
   "metadata": {},
   "outputs": [
    {
     "data": {
      "text/html": [
       "<div><img onload=\"(function(div, url){\n",
       "if (typeof require !== 'undefined') {\n",
       "    var baseURL = require.toUrl('').split('/').slice(0, -2).join('/');\n",
       "} else {\n",
       "    var baseURL = JSON.parse(\n",
       "        document.getElementById('jupyter-config-data').innerHTML\n",
       "    ).baseUrl.slice(0, -1);\n",
       "}\n",
       "url = baseURL + url;\n",
       "fetch(url).then(function(res) {\n",
       "    if (res.status === 404) {\n",
       "        div.innerHTML = 'Install QIIME 2 Jupyter extension with:<br />' +\n",
       "                        '<code>jupyter server extension enable --py qiime2' +\n",
       "                        ' --sys-prefix</code><br />then restart your server.' +\n",
       "                        '<br /><br />(Interactive output not available on ' +\n",
       "                        'static notebook viewer services like nbviewer.)';\n",
       "    } else if (res.status === 409) {\n",
       "        div.innerHTML = 'Visualization no longer in scope. Re-run this cell' +\n",
       "                        ' to see the visualization.';\n",
       "    } else if (res.ok) {\n",
       "        url = res.url;\n",
       "        div.innerHTML = '<iframe src=\\'' + url + '\\' style=\\'' +\n",
       "                        'width: 100%; height: 700px; border: 0;\\'>' +\n",
       "                        '</iframe><hr />Open in a: <a href=\\'' + url + '\\'' +\n",
       "                        ' target=\\'_blank\\'>new window</a>'\n",
       "    } else {\n",
       "        div.innerHTML = 'Something has gone wrong. Check notebook server for' +\n",
       "                        ' errors.';\n",
       "    }\n",
       "});\n",
       "})(this.parentElement, '/qiime2/redirect?location=/scratch/lfloerl/tmpdata/qiime2/lfloerl/data/ad9cfb60-20f9-41eb-bc30-2163573f4848')\" src=\"data:image/gif;base64,R0lGODlhAQABAIAAAP///wAAACH5BAEAAAAALAAAAAABAAEAAAICRAEAOw==\" /></div>"
      ],
      "text/plain": [
       "<visualization: Visualization uuid: ad9cfb60-20f9-41eb-bc30-2163573f4848>"
      ]
     },
     "execution_count": 49,
     "metadata": {},
     "output_type": "execute_result"
    }
   ],
   "source": [
    "Visualization.load('must_harvest21_mantel/bray_curtis_kmer_mantel.qzv')"
   ]
  },
  {
   "cell_type": "code",
   "execution_count": 51,
   "id": "ffb271f6",
   "metadata": {
    "scrolled": true
   },
   "outputs": [
    {
     "data": {
      "text/html": [
       "<div><img onload=\"(function(div, url){\n",
       "if (typeof require !== 'undefined') {\n",
       "    var baseURL = require.toUrl('').split('/').slice(0, -2).join('/');\n",
       "} else {\n",
       "    var baseURL = JSON.parse(\n",
       "        document.getElementById('jupyter-config-data').innerHTML\n",
       "    ).baseUrl.slice(0, -1);\n",
       "}\n",
       "url = baseURL + url;\n",
       "fetch(url).then(function(res) {\n",
       "    if (res.status === 404) {\n",
       "        div.innerHTML = 'Install QIIME 2 Jupyter extension with:<br />' +\n",
       "                        '<code>jupyter server extension enable --py qiime2' +\n",
       "                        ' --sys-prefix</code><br />then restart your server.' +\n",
       "                        '<br /><br />(Interactive output not available on ' +\n",
       "                        'static notebook viewer services like nbviewer.)';\n",
       "    } else if (res.status === 409) {\n",
       "        div.innerHTML = 'Visualization no longer in scope. Re-run this cell' +\n",
       "                        ' to see the visualization.';\n",
       "    } else if (res.ok) {\n",
       "        url = res.url;\n",
       "        div.innerHTML = '<iframe src=\\'' + url + '\\' style=\\'' +\n",
       "                        'width: 100%; height: 700px; border: 0;\\'>' +\n",
       "                        '</iframe><hr />Open in a: <a href=\\'' + url + '\\'' +\n",
       "                        ' target=\\'_blank\\'>new window</a>'\n",
       "    } else {\n",
       "        div.innerHTML = 'Something has gone wrong. Check notebook server for' +\n",
       "                        ' errors.';\n",
       "    }\n",
       "});\n",
       "})(this.parentElement, '/qiime2/redirect?location=/scratch/lfloerl/tmpdata/qiime2/lfloerl/data/79b9f573-59bb-48c0-9deb-af4f1ba53c8c')\" src=\"data:image/gif;base64,R0lGODlhAQABAIAAAP///wAAACH5BAEAAAAALAAAAAABAAEAAAICRAEAOw==\" /></div>"
      ],
      "text/plain": [
       "<visualization: Visualization uuid: 79b9f573-59bb-48c0-9deb-af4f1ba53c8c>"
      ]
     },
     "execution_count": 51,
     "metadata": {},
     "output_type": "execute_result"
    }
   ],
   "source": [
    "Visualization.load('must_harvest21_mantel/jaccard_kmer_mantel.qzv')"
   ]
  },
  {
   "cell_type": "code",
   "execution_count": null,
   "id": "26dc2714",
   "metadata": {},
   "outputs": [],
   "source": []
  },
  {
   "cell_type": "markdown",
   "id": "3a7aa173",
   "metadata": {},
   "source": [
    "# New Mantel"
   ]
  },
  {
   "cell_type": "code",
   "execution_count": 14,
   "id": "00aeb181",
   "metadata": {},
   "outputs": [
    {
     "name": "stdout",
     "output_type": "stream",
     "text": [
      "bark_cm5000\t\t\t    mv_cm5000\r\n",
      "bark_kmer_cm5000\t\t    mv_kmer_cm5000\r\n",
      "bark_mantel\t\t\t    mv_mantel\r\n",
      "bark_veraison21_cm5000\t\t    mv_must_2023_cm5000\r\n",
      "bark_veraison21_kmer_cm5000\t    mv_must_2023_kmer_cm5000\r\n",
      "bark_veraison21_mantel\t\t    mv_must_2023_mantel\r\n",
      "Berries_2021_dense_sampling\t    mv_must_cm5000\r\n",
      "geodesic_distance_ITS\t\t    mv_must_kmer_cm5000\r\n",
      "leaf_cm5000\t\t\t    mv_must_mantel\r\n",
      "leaf_kmer_cm5000\t\t    mv_postMLF_cm5000\r\n",
      "leaf_mantel\t\t\t    mv_postMLF_kmer_cm5000\r\n",
      "leaf_veraison21_cm5000\t\t    mv_postMLF_mantel\r\n",
      "leaf_washed_veraison21_kmer_cm5000  soil_cm5000\r\n",
      "leaf_washed_veraison21_mantel\t    soil_kmer_cm5000\r\n",
      "must_cm5000\t\t\t    soil_mantel\r\n",
      "must-harvest21classify-NCV-plot     soil_veraison21_cm5000\r\n",
      "must-harvest21classify-plot\t    soil_veraison21_kmer_cm5000\r\n",
      "must_harvest21_cm5000\t\t    soil_veraison21_mantel\r\n",
      "must_harvest21_kmer_cm5000\t    Valais_Chasselas\r\n",
      "must_harvest21_mantel\t\t    Valais-classify-Region\r\n",
      "must-harvest-classify-plot\t    Valais-classify-Variety\r\n",
      "must_kmer_cm5000\t\t    Valais_cm5000\r\n",
      "must_mantel\t\t\t    valais_kmer_cm5000\r\n",
      "mv_2023_cm5000\t\t\t    valais_mantel\r\n",
      "mv_2023_kmer_cm5000\t\t    valais_water_stress_cm5000\r\n",
      "mv_2023_mantel\t\t\t    valais_water_stress_kmer_cm5000\r\n"
     ]
    }
   ],
   "source": [
    "!ls"
   ]
  },
  {
   "cell_type": "code",
   "execution_count": 12,
   "id": "4857cedb",
   "metadata": {},
   "outputs": [
    {
     "name": "stdout",
     "output_type": "stream",
     "text": [
      "Exported /home/lfloerl/cloud/lfloerl/Microterroir/artifacts/ITS/geodesic_distance_ITS.qza as DistanceMatrixDirectoryFormat to directory geodesic_distance_ITS\n",
      "Exported must_cm5000/bray_curtis_distance_matrix.qza as DistanceMatrixDirectoryFormat to directory must_cm5000/bray_curtis_distance_matrix\n",
      "Exported must_cm5000/jaccard_distance_matrix.qza as DistanceMatrixDirectoryFormat to directory must_cm5000/jaccard_distance_matrix\n",
      "Exported must_kmer_cm5000/bray_curtis_distance_matrix.qza as DistanceMatrixDirectoryFormat to directory must_kmer_cm5000/bray_curtis_distance_matrix\n",
      "Exported must_kmer_cm5000/jaccard_distance_matrix.qza as DistanceMatrixDirectoryFormat to directory must_kmer_cm5000/jaccard_distance_matrix\n"
     ]
    }
   ],
   "source": [
    "%%bash \n",
    "\n",
    "div_dir='must_cm5000'\n",
    "kmer_dir='must_kmer_cm5000'\n",
    "\n",
    "# geodisic distance\n",
    "qiime tools export --input-path /home/lfloerl/cloud/lfloerl/Microterroir/artifacts/ITS/geodesic_distance_ITS.qza --output-path geodesic_distance_ITS\n",
    "\n",
    "# distance matrices \n",
    "qiime tools export --input-path $div_dir/bray_curtis_distance_matrix.qza --output-path $div_dir/bray_curtis_distance_matrix\n",
    "qiime tools export --input-path $div_dir/jaccard_distance_matrix.qza --output-path $div_dir/jaccard_distance_matrix\n",
    "qiime tools export --input-path $kmer_dir/bray_curtis_distance_matrix.qza --output-path $kmer_dir/bray_curtis_distance_matrix\n",
    "qiime tools export --input-path $kmer_dir/jaccard_distance_matrix.qza --output-path $kmer_dir/jaccard_distance_matrix\n"
   ]
  },
  {
   "cell_type": "code",
   "execution_count": 20,
   "id": "84ee377b",
   "metadata": {},
   "outputs": [],
   "source": [
    "def mantel_test_and_plot(dm_geodesic_path, dm_other_path, output_plot_path, \n",
    "                         x_label='Geodesic Distance', y_label='Diversity Distance'):\n",
    "    \"\"\"\n",
    "    Perform a Mantel test between two distance matrices and create a scatter plot.\n",
    "    \n",
    "    Parameters:\n",
    "        dm_geodesic_path (str): File path to the geodesic distance matrix (TSV).\n",
    "        dm_other_path (str): File path to the other diversity distance matrix (TSV).\n",
    "        output_plot_path (str): File path to save the scatter plot image.\n",
    "        x_label (str): Label for the x-axis of the scatter plot.\n",
    "        y_label (str): Label for the y-axis of the scatter plot.\n",
    "    \n",
    "    Returns:\n",
    "        tuple: Spearman's rho and p-value of the Mantel test.\n",
    "    \"\"\"\n",
    "    # Step 2: Import the distance matrices\n",
    "    dm1 = pd.read_csv(dm_geodesic_path, sep='\\t', index_col=0)\n",
    "    dm2 = pd.read_csv(dm_other_path, sep='\\t', index_col=0)\n",
    "\n",
    "    # Ensure the matrices are aligned\n",
    "    common_ids = dm1.index.intersection(dm2.index)\n",
    "    dm1 = dm1.loc[common_ids, common_ids]\n",
    "    dm2 = dm2.loc[common_ids, common_ids]\n",
    "\n",
    "    # Flatten the matrices into 1D arrays (excluding diagonal)\n",
    "    dm1_flat = dm1.where(np.triu(np.ones(dm1.shape), k=1).astype(bool)).stack()\n",
    "    dm2_flat = dm2.where(np.triu(np.ones(dm2.shape), k=1).astype(bool)).stack()\n",
    "\n",
    "    # Step 3: Perform Mantel test (using Spearman correlation as an approximation)\n",
    "    rho, p_value = spearmanr(dm1_flat, dm2_flat)\n",
    "\n",
    "    # Step 4: Create scatter plot with regression line\n",
    "    plt.figure(figsize=(8, 6))\n",
    "    sns.regplot(x=dm1_flat, y=dm2_flat, scatter_kws={'s': 10}, line_kws={'color': 'red'})\n",
    "    plt.xlabel(x_label)\n",
    "    plt.ylabel(y_label)\n",
    "\n",
    "    # Add a box with rho and p-value\n",
    "    textstr = f\"$\\\\rho$ = {rho:.3f}\\n$p$ = {p_value:.3e}\"\n",
    "    props = dict(boxstyle='round', facecolor='white', alpha=0.8)\n",
    "    plt.text(0.05, 0.95, textstr, transform=plt.gca().transAxes, fontsize=12,\n",
    "             verticalalignment='top', bbox=props)\n",
    "\n",
    "    # Finalize and save the plot\n",
    "    plt.grid(True)\n",
    "    plt.tight_layout()\n",
    "    plt.savefig(output_plot_path)\n",
    "    plt.show()\n",
    "\n",
    "    # Step 5: Return Mantel test results\n",
    "    return rho, p_value"
   ]
  },
  {
   "cell_type": "code",
   "execution_count": 21,
   "id": "68aa1f73",
   "metadata": {},
   "outputs": [
    {
     "data": {
      "image/png": "[encoded data removed]",
      "text/plain": [
       "<Figure size 800x600 with 1 Axes>"
      ]
     },
     "metadata": {},
     "output_type": "display_data"
    },
    {
     "data": {
      "image/png": "[encoded data removed]",
      "text/plain": [
       "<Figure size 800x600 with 1 Axes>"
      ]
     },
     "metadata": {},
     "output_type": "display_data"
    },
    {
     "name": "stdout",
     "output_type": "stream",
     "text": [
      "Bray-Curtis Mantel Test: rho = 0.193, p = 0.000e+00\n",
      "Jaccard Mantel Test: rho = 0.177, p = 0.000e+00\n"
     ]
    }
   ],
   "source": [
    "# Paths to distance matrices\n",
    "geodesic_path = 'geodesic_distance_ITS/distance-matrix.tsv'\n",
    "bray_curtis_path = 'must_cm5000/bray_curtis_distance_matrix/distance-matrix.tsv'\n",
    "jaccard_path = 'must_cm5000/jaccard_distance_matrix/distance-matrix.tsv'\n",
    "\n",
    "# Run Mantel test and create scatter plot for Bray-Curtis\n",
    "rho_bray, p_bray = mantel_test_and_plot(\n",
    "    dm_geodesic_path=geodesic_path,\n",
    "    dm_other_path=bray_curtis_path,\n",
    "    output_plot_path='mantel_bray_curtis_scatterplot.png',\n",
    "    x_label='Geodesic Distance (ITS)',\n",
    "    y_label='Bray-Curtis Distance'\n",
    ")\n",
    "\n",
    "# Run Mantel test and create scatter plot for Jaccard\n",
    "rho_jaccard, p_jaccard = mantel_test_and_plot(\n",
    "    dm_geodesic_path=geodesic_path,\n",
    "    dm_other_path=jaccard_path,\n",
    "    output_plot_path='mantel_jaccard_scatterplot.png',\n",
    "    x_label='Geodesic Distance (ITS)',\n",
    "    y_label='Jaccard Distance'\n",
    ")\n",
    "\n",
    "# Print results\n",
    "print(f\"Bray-Curtis Mantel Test: rho = {rho_bray:.3f}, p = {p_bray:.3e}\")\n",
    "print(f\"Jaccard Mantel Test: rho = {rho_jaccard:.3f}, p = {p_jaccard:.3e}\")\n"
   ]
  },
  {
   "cell_type": "code",
   "execution_count": null,
   "id": "c000fa86",
   "metadata": {},
   "outputs": [],
   "source": []
  },
  {
   "cell_type": "code",
   "execution_count": null,
   "id": "81d45a1e",
   "metadata": {},
   "outputs": [],
   "source": []
  }
 ],
 "metadata": {
  "kernelspec": {
   "display_name": "Python 3 (ipykernel)",
   "language": "python",
   "name": "python3"
  },
  "language_info": {
   "codemirror_mode": {
    "name": "ipython",
    "version": 3
   },
   "file_extension": ".py",
   "mimetype": "text/x-python",
   "name": "python",
   "nbconvert_exporter": "python",
   "pygments_lexer": "ipython3",
   "version": "3.10.14"
  }
 },
 "nbformat": 4,
 "nbformat_minor": 5
}
