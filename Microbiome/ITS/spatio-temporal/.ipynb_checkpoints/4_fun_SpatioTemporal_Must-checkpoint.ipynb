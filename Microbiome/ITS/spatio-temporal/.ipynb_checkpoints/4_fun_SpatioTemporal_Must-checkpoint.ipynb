{
 "cells": [
  {
   "cell_type": "markdown",
   "id": "a8b92d8b",
   "metadata": {},
   "source": [
    "# 4. Spatio-temporal diversity of must "
   ]
  },
  {
   "cell_type": "code",
   "execution_count": 1,
   "id": "abc52439",
   "metadata": {},
   "outputs": [],
   "source": [
    "#!mkdir /home/lfloerl/cloud/lfloerl/Microterroir/artifacts/ITS/lavaux/spatio-temporal/berries"
   ]
  },
  {
   "cell_type": "code",
   "execution_count": 2,
   "id": "cd670efc",
   "metadata": {},
   "outputs": [
    {
     "name": "stdout",
     "output_type": "stream",
     "text": [
      "/home/lfloerl/cloud/lfloerl/Microterroir/artifacts/ITS/lavaux/spatio-temporal/berries\n"
     ]
    }
   ],
   "source": [
    "workdir = '/home/lfloerl/cloud/lfloerl/Microterroir/artifacts/ITS/lavaux/spatio-temporal/berries'\n",
    "%cd $workdir"
   ]
  },
  {
   "cell_type": "code",
   "execution_count": 3,
   "id": "413c885b",
   "metadata": {},
   "outputs": [
    {
     "name": "stdout",
     "output_type": "stream",
     "text": [
      "env: TMPDIR=/scratch/lfloerl/tmpdata\n"
     ]
    }
   ],
   "source": [
    "%env TMPDIR=/scratch/lfloerl/tmpdata"
   ]
  },
  {
   "cell_type": "code",
   "execution_count": 4,
   "id": "18e20f86",
   "metadata": {},
   "outputs": [],
   "source": [
    "import qiime2 as q2\n",
    "from qiime2 import Visualization\n",
    "from qiime2 import Artifact\n",
    "from qiime2 import Metadata\n",
    "from qiime2.plugins.diversity.visualizers import alpha_group_significance\n",
    "from qiime2.plugins import diversity as q2d\n",
    "\n",
    "\n",
    "import os\n",
    "import pandas as pd\n",
    "import matplotlib.pyplot as plt\n",
    "import seaborn as sns\n",
    "import numpy as np\n",
    "from scipy.stats import spearmanr\n",
    "\n",
    "\n",
    "%matplotlib inline"
   ]
  },
  {
   "cell_type": "code",
   "execution_count": 5,
   "id": "eff46f25",
   "metadata": {
    "scrolled": true
   },
   "outputs": [],
   "source": [
    "md = Metadata.load('/home/lfloerl/microterroir/Microbiome/Metadata/ITS_lavaux.tsv')\n",
    "taxonomy = q2.Artifact.load('/home/lfloerl/cloud/lfloerl/Microterroir/artifacts/ITS/taxonomy.qza')"
   ]
  },
  {
   "cell_type": "markdown",
   "id": "2914f57c",
   "metadata": {},
   "source": [
    "# Diversity "
   ]
  },
  {
   "cell_type": "code",
   "execution_count": 6,
   "id": "57999d3b",
   "metadata": {},
   "outputs": [],
   "source": [
    "table = q2.Artifact.load('/home/lfloerl/cloud/lfloerl/Microterroir/artifacts/ITS/lavaux/must_filtered_table.qza')"
   ]
  },
  {
   "cell_type": "markdown",
   "id": "adc33f33",
   "metadata": {},
   "source": [
    "* 10'000: Retained 3’400’000 (26.33%) features in 340 (95.51%) samples\n",
    "\n",
    "* **15'000**: Retained 4’845’000 (37.51%) features in 323 (90.73%) samples"
   ]
  },
  {
   "cell_type": "code",
   "execution_count": 7,
   "id": "ad617760",
   "metadata": {
    "scrolled": true
   },
   "outputs": [
    {
     "data": {
      "text/html": [
       "<div><img onload=\"(function(div, url){\n",
       "if (typeof require !== 'undefined') {\n",
       "    var baseURL = require.toUrl('').split('/').slice(0, -2).join('/');\n",
       "} else {\n",
       "    var baseURL = JSON.parse(\n",
       "        document.getElementById('jupyter-config-data').innerHTML\n",
       "    ).baseUrl.slice(0, -1);\n",
       "}\n",
       "url = baseURL + url;\n",
       "fetch(url).then(function(res) {\n",
       "    if (res.status === 404) {\n",
       "        div.innerHTML = 'Install QIIME 2 Jupyter extension with:<br />' +\n",
       "                        '<code>jupyter server extension enable --py qiime2' +\n",
       "                        ' --sys-prefix</code><br />then restart your server.' +\n",
       "                        '<br /><br />(Interactive output not available on ' +\n",
       "                        'static notebook viewer services like nbviewer.)';\n",
       "    } else if (res.status === 409) {\n",
       "        div.innerHTML = 'Visualization no longer in scope. Re-run this cell' +\n",
       "                        ' to see the visualization.';\n",
       "    } else if (res.ok) {\n",
       "        url = res.url;\n",
       "        div.innerHTML = '<iframe src=\\'' + url + '\\' style=\\'' +\n",
       "                        'width: 100%; height: 700px; border: 0;\\'>' +\n",
       "                        '</iframe><hr />Open in a: <a href=\\'' + url + '\\'' +\n",
       "                        ' target=\\'_blank\\'>new window</a>'\n",
       "    } else {\n",
       "        div.innerHTML = 'Something has gone wrong. Check notebook server for' +\n",
       "                        ' errors.';\n",
       "    }\n",
       "});\n",
       "})(this.parentElement, '/qiime2/redirect?location=/scratch/lfloerl/tmpdata/qiime2/lfloerl/data/3a3480e1-3ded-4aeb-9b61-6ce3afc75f11')\" src=\"data:image/gif;base64,R0lGODlhAQABAIAAAP///wAAACH5BAEAAAAALAAAAAABAAEAAAICRAEAOw==\" /></div>"
      ],
      "text/plain": [
       "<visualization: Visualization uuid: 3a3480e1-3ded-4aeb-9b61-6ce3afc75f11>"
      ]
     },
     "execution_count": 7,
     "metadata": {},
     "output_type": "execute_result"
    }
   ],
   "source": [
    "Visualization.load('/home/lfloerl/cloud/lfloerl/Microterroir/artifacts/ITS/lavaux/must_filtered_table.qzv')"
   ]
  },
  {
   "cell_type": "code",
   "execution_count": 8,
   "id": "e1175bf0",
   "metadata": {},
   "outputs": [],
   "source": [
    "depth = 10000 \n",
    "threads = 5"
   ]
  },
  {
   "cell_type": "code",
   "execution_count": 9,
   "id": "d91c7235",
   "metadata": {
    "scrolled": true
   },
   "outputs": [
    {
     "name": "stderr",
     "output_type": "stream",
     "text": [
      "/scratch/lfloerl/.condaenvs/qiime2-amplicon-2024.10/lib/python3.10/site-packages/skbio/util/_warning.py:60: UserWarning: observed_otus is deprecated as of 0.6.0.\n",
      "  warn(f\"{func.__name__} is deprecated as of {ver}.\")\n",
      "/scratch/lfloerl/.condaenvs/qiime2-amplicon-2024.10/lib/python3.10/site-packages/skbio/stats/ordination/_principal_coordinate_analysis.py:146: RuntimeWarning: The result contains negative eigenvalues. Please compare their magnitude with the magnitude of some of the largest positive eigenvalues. If the negative ones are smaller, it's probably safe to ignore them, but if they are large in magnitude, the results won't be useful. See the Notes section for more details. The smallest eigenvalue is -0.4922440231911884 and the largest is 10.101415922711556.\n",
      "  warn(\n"
     ]
    }
   ],
   "source": [
    "core_div_dict = {}\n",
    "core_div = q2d.actions.core_metrics(table=table,\n",
    "                                    sampling_depth=depth,\n",
    "                                    metadata=md, \n",
    "                                    n_jobs=threads)\n",
    "# save outputs\n",
    "output_dir='must_cm{0}/'.format(depth)\n",
    "if not os.path.exists(output_dir):\n",
    "    os.makedirs(output_dir)\n",
    "for k, v in core_div.__dict__.items():\n",
    "    if k != '_fields':\n",
    "        v.save(output_dir + k)\n",
    "        core_div_dict[k] = v"
   ]
  },
  {
   "cell_type": "code",
   "execution_count": 10,
   "id": "010456c4",
   "metadata": {
    "scrolled": true
   },
   "outputs": [
    {
     "data": {
      "text/html": [
       "<div><img onload=\"(function(div, url){\n",
       "if (typeof require !== 'undefined') {\n",
       "    var baseURL = require.toUrl('').split('/').slice(0, -2).join('/');\n",
       "} else {\n",
       "    var baseURL = JSON.parse(\n",
       "        document.getElementById('jupyter-config-data').innerHTML\n",
       "    ).baseUrl.slice(0, -1);\n",
       "}\n",
       "url = baseURL + url;\n",
       "fetch(url).then(function(res) {\n",
       "    if (res.status === 404) {\n",
       "        div.innerHTML = 'Install QIIME 2 Jupyter extension with:<br />' +\n",
       "                        '<code>jupyter server extension enable --py qiime2' +\n",
       "                        ' --sys-prefix</code><br />then restart your server.' +\n",
       "                        '<br /><br />(Interactive output not available on ' +\n",
       "                        'static notebook viewer services like nbviewer.)';\n",
       "    } else if (res.status === 409) {\n",
       "        div.innerHTML = 'Visualization no longer in scope. Re-run this cell' +\n",
       "                        ' to see the visualization.';\n",
       "    } else if (res.ok) {\n",
       "        url = res.url;\n",
       "        div.innerHTML = '<iframe src=\\'' + url + '\\' style=\\'' +\n",
       "                        'width: 100%; height: 700px; border: 0;\\'>' +\n",
       "                        '</iframe><hr />Open in a: <a href=\\'' + url + '\\'' +\n",
       "                        ' target=\\'_blank\\'>new window</a>'\n",
       "    } else {\n",
       "        div.innerHTML = 'Something has gone wrong. Check notebook server for' +\n",
       "                        ' errors.';\n",
       "    }\n",
       "});\n",
       "})(this.parentElement, '/qiime2/redirect?location=/scratch/lfloerl/tmpdata/qiime2/lfloerl/data/b2d874c4-5f55-4711-a672-723dbf2d1861')\" src=\"data:image/gif;base64,R0lGODlhAQABAIAAAP///wAAACH5BAEAAAAALAAAAAABAAEAAAICRAEAOw==\" /></div>"
      ],
      "text/plain": [
       "<visualization: Visualization uuid: b2d874c4-5f55-4711-a672-723dbf2d1861>"
      ]
     },
     "execution_count": 10,
     "metadata": {},
     "output_type": "execute_result"
    }
   ],
   "source": [
    "Visualization.load(f'{workdir}/{output_dir}/bray_curtis_emperor.qzv')"
   ]
  },
  {
   "cell_type": "code",
   "execution_count": 11,
   "id": "1aff2c07",
   "metadata": {},
   "outputs": [
    {
     "data": {
      "text/html": [
       "<div><img onload=\"(function(div, url){\n",
       "if (typeof require !== 'undefined') {\n",
       "    var baseURL = require.toUrl('').split('/').slice(0, -2).join('/');\n",
       "} else {\n",
       "    var baseURL = JSON.parse(\n",
       "        document.getElementById('jupyter-config-data').innerHTML\n",
       "    ).baseUrl.slice(0, -1);\n",
       "}\n",
       "url = baseURL + url;\n",
       "fetch(url).then(function(res) {\n",
       "    if (res.status === 404) {\n",
       "        div.innerHTML = 'Install QIIME 2 Jupyter extension with:<br />' +\n",
       "                        '<code>jupyter server extension enable --py qiime2' +\n",
       "                        ' --sys-prefix</code><br />then restart your server.' +\n",
       "                        '<br /><br />(Interactive output not available on ' +\n",
       "                        'static notebook viewer services like nbviewer.)';\n",
       "    } else if (res.status === 409) {\n",
       "        div.innerHTML = 'Visualization no longer in scope. Re-run this cell' +\n",
       "                        ' to see the visualization.';\n",
       "    } else if (res.ok) {\n",
       "        url = res.url;\n",
       "        div.innerHTML = '<iframe src=\\'' + url + '\\' style=\\'' +\n",
       "                        'width: 100%; height: 700px; border: 0;\\'>' +\n",
       "                        '</iframe><hr />Open in a: <a href=\\'' + url + '\\'' +\n",
       "                        ' target=\\'_blank\\'>new window</a>'\n",
       "    } else {\n",
       "        div.innerHTML = 'Something has gone wrong. Check notebook server for' +\n",
       "                        ' errors.';\n",
       "    }\n",
       "});\n",
       "})(this.parentElement, '/qiime2/redirect?location=/scratch/lfloerl/tmpdata/qiime2/lfloerl/data/f23a0465-4c0c-4e3b-a30a-d7b85cd6867d')\" src=\"data:image/gif;base64,R0lGODlhAQABAIAAAP///wAAACH5BAEAAAAALAAAAAABAAEAAAICRAEAOw==\" /></div>"
      ],
      "text/plain": [
       "<visualization: Visualization uuid: f23a0465-4c0c-4e3b-a30a-d7b85cd6867d>"
      ]
     },
     "execution_count": 11,
     "metadata": {},
     "output_type": "execute_result"
    }
   ],
   "source": [
    "Visualization.load(f'{workdir}/{output_dir}/jaccard_emperor.qzv')"
   ]
  },
  {
   "cell_type": "markdown",
   "id": "27e37ac4",
   "metadata": {},
   "source": [
    "## Kmerizer "
   ]
  },
  {
   "cell_type": "code",
   "execution_count": 29,
   "id": "449282b2",
   "metadata": {},
   "outputs": [],
   "source": [
    "#!rm -r kmer-core-metrics"
   ]
  },
  {
   "cell_type": "code",
   "execution_count": 92,
   "id": "7c480b75",
   "metadata": {},
   "outputs": [
    {
     "name": "stdout",
     "output_type": "stream",
     "text": [
      "Saved FeatureData[Sequence] to: /home/lfloerl/cloud/lfloerl/Microterroir/artifacts/ITS/lavaux/must_filtered_rep_seqs.qza\n",
      "Saved FeatureTable[Frequency] to: must_kmer_cm10000/rarefied_table.qza\n",
      "Saved FeatureTable[Frequency] to: must_kmer_cm10000/kmer_table.qza\n",
      "Saved SampleData[AlphaDiversity] to: must_kmer_cm10000/observed_features_vector.qza\n",
      "Saved SampleData[AlphaDiversity] to: must_kmer_cm10000/shannon_vector.qza\n",
      "Saved DistanceMatrix to: must_kmer_cm10000/jaccard_distance_matrix.qza\n",
      "Saved DistanceMatrix to: must_kmer_cm10000/bray_curtis_distance_matrix.qza\n",
      "Saved PCoAResults to: must_kmer_cm10000/jaccard_pcoa_results.qza\n",
      "Saved PCoAResults to: must_kmer_cm10000/bray_curtis_pcoa_results.qza\n",
      "Saved Visualization to: must_kmer_cm10000/scatterplot.qzv\n"
     ]
    }
   ],
   "source": [
    "%%bash\n",
    "\n",
    "qiime feature-table filter-seqs \\\n",
    "    --i-data /home/lfloerl/cloud/lfloerl/Microterroir/artifacts/Sven-denoising-test/ITS/revcomp-trimmed-denoised/with-adjusted-parameters/ITS-revcomp-trimmed-ER-0.05-denoised-trunc-190-PFA-4.0-maxee-4.0-rep-seqs.qza \\\n",
    "    --i-table /home/lfloerl/cloud/lfloerl/Microterroir/artifacts/ITS/lavaux/must_filtered_table.qza \\\n",
    "    --o-filtered-data /home/lfloerl/cloud/lfloerl/Microterroir/artifacts/ITS/lavaux/must_filtered_rep_seqs.qza\n",
    "\n",
    "qiime kmerizer core-metrics \\\n",
    "    --i-sequences /home/lfloerl/cloud/lfloerl/Microterroir/artifacts/ITS/lavaux/must_filtered_rep_seqs.qza \\\n",
    "    --i-table /home/lfloerl/cloud/lfloerl/Microterroir/artifacts/ITS/lavaux/must_filtered_table.qza \\\n",
    "    --p-sampling-depth 10000 \\\n",
    "    --m-metadata-file /home/lfloerl/microterroir/Microbiome/Metadata/ITS_lavaux.tsv \\\n",
    "    --p-n-jobs 'auto' \\\n",
    "    --output-dir must_kmer_cm10000/"
   ]
  },
  {
   "cell_type": "code",
   "execution_count": 12,
   "id": "e90b9c36",
   "metadata": {},
   "outputs": [
    {
     "data": {
      "text/html": [
       "<div><img onload=\"(function(div, url){\n",
       "if (typeof require !== 'undefined') {\n",
       "    var baseURL = require.toUrl('').split('/').slice(0, -2).join('/');\n",
       "} else {\n",
       "    var baseURL = JSON.parse(\n",
       "        document.getElementById('jupyter-config-data').innerHTML\n",
       "    ).baseUrl.slice(0, -1);\n",
       "}\n",
       "url = baseURL + url;\n",
       "fetch(url).then(function(res) {\n",
       "    if (res.status === 404) {\n",
       "        div.innerHTML = 'Install QIIME 2 Jupyter extension with:<br />' +\n",
       "                        '<code>jupyter server extension enable --py qiime2' +\n",
       "                        ' --sys-prefix</code><br />then restart your server.' +\n",
       "                        '<br /><br />(Interactive output not available on ' +\n",
       "                        'static notebook viewer services like nbviewer.)';\n",
       "    } else if (res.status === 409) {\n",
       "        div.innerHTML = 'Visualization no longer in scope. Re-run this cell' +\n",
       "                        ' to see the visualization.';\n",
       "    } else if (res.ok) {\n",
       "        url = res.url;\n",
       "        div.innerHTML = '<iframe src=\\'' + url + '\\' style=\\'' +\n",
       "                        'width: 100%; height: 700px; border: 0;\\'>' +\n",
       "                        '</iframe><hr />Open in a: <a href=\\'' + url + '\\'' +\n",
       "                        ' target=\\'_blank\\'>new window</a>'\n",
       "    } else {\n",
       "        div.innerHTML = 'Something has gone wrong. Check notebook server for' +\n",
       "                        ' errors.';\n",
       "    }\n",
       "});\n",
       "})(this.parentElement, '/qiime2/redirect?location=/scratch/lfloerl/tmpdata/qiime2/lfloerl/data/99a278e0-ba4c-4122-8647-5b83bd81dd1f')\" src=\"data:image/gif;base64,R0lGODlhAQABAIAAAP///wAAACH5BAEAAAAALAAAAAABAAEAAAICRAEAOw==\" /></div>"
      ],
      "text/plain": [
       "<visualization: Visualization uuid: 99a278e0-ba4c-4122-8647-5b83bd81dd1f>"
      ]
     },
     "execution_count": 12,
     "metadata": {},
     "output_type": "execute_result"
    }
   ],
   "source": [
    "Visualization.load('must_kmer_cm10000/scatterplot.qzv')"
   ]
  },
  {
   "cell_type": "markdown",
   "id": "fb6c27ed",
   "metadata": {},
   "source": [
    "### Alpha Group Significance "
   ]
  },
  {
   "cell_type": "code",
   "execution_count": 22,
   "id": "dd8cf4d5",
   "metadata": {},
   "outputs": [
    {
     "name": "stderr",
     "output_type": "stream",
     "text": [
      "/scratch/lfloerl/.condaenvs/qiime2-amplicon-2024.10/lib/python3.10/site-packages/q2_types/sample_data/_deferred_setup/_transformers.py:28: FutureWarning: errors='ignore' is deprecated and will raise in a future version. Use to_numeric without passing `errors` and catch exceptions explicitly instead\n",
      "  df[cols] = df[cols].apply(pd.to_numeric, errors='ignore')\n",
      "/scratch/lfloerl/.condaenvs/qiime2-amplicon-2024.10/lib/python3.10/site-packages/q2_types/sample_data/_deferred_setup/_transformers.py:28: FutureWarning: errors='ignore' is deprecated and will raise in a future version. Use to_numeric without passing `errors` and catch exceptions explicitly instead\n",
      "  df[cols] = df[cols].apply(pd.to_numeric, errors='ignore')\n",
      "/scratch/lfloerl/.condaenvs/qiime2-amplicon-2024.10/lib/python3.10/site-packages/q2_types/sample_data/_deferred_setup/_transformers.py:28: FutureWarning: errors='ignore' is deprecated and will raise in a future version. Use to_numeric without passing `errors` and catch exceptions explicitly instead\n",
      "  df[cols] = df[cols].apply(pd.to_numeric, errors='ignore')\n"
     ]
    }
   ],
   "source": [
    "# metrics: \n",
    "alpha_metrics = ['shannon_vector', 'observed_features_vector', 'evenness_vector']\n",
    "\n",
    "for m in alpha_metrics:\n",
    "    ags, = alpha_group_significance(alpha_diversity = core_div_dict[m],\n",
    "                               metadata = md)\n",
    "    ags.save(output_dir + 'alpha_groupSig_{0}.qzv'.format(m))"
   ]
  },
  {
   "cell_type": "code",
   "execution_count": 23,
   "id": "fd079ab6",
   "metadata": {
    "scrolled": false
   },
   "outputs": [
    {
     "data": {
      "text/html": [
       "<div><img onload=\"(function(div, url){\n",
       "if (typeof require !== 'undefined') {\n",
       "    var baseURL = require.toUrl('').split('/').slice(0, -2).join('/');\n",
       "} else {\n",
       "    var baseURL = JSON.parse(\n",
       "        document.getElementById('jupyter-config-data').innerHTML\n",
       "    ).baseUrl.slice(0, -1);\n",
       "}\n",
       "url = baseURL + url;\n",
       "fetch(url).then(function(res) {\n",
       "    if (res.status === 404) {\n",
       "        div.innerHTML = 'Install QIIME 2 Jupyter extension with:<br />' +\n",
       "                        '<code>jupyter server extension enable --py qiime2' +\n",
       "                        ' --sys-prefix</code><br />then restart your server.' +\n",
       "                        '<br /><br />(Interactive output not available on ' +\n",
       "                        'static notebook viewer services like nbviewer.)';\n",
       "    } else if (res.status === 409) {\n",
       "        div.innerHTML = 'Visualization no longer in scope. Re-run this cell' +\n",
       "                        ' to see the visualization.';\n",
       "    } else if (res.ok) {\n",
       "        url = res.url;\n",
       "        div.innerHTML = '<iframe src=\\'' + url + '\\' style=\\'' +\n",
       "                        'width: 100%; height: 700px; border: 0;\\'>' +\n",
       "                        '</iframe><hr />Open in a: <a href=\\'' + url + '\\'' +\n",
       "                        ' target=\\'_blank\\'>new window</a>'\n",
       "    } else {\n",
       "        div.innerHTML = 'Something has gone wrong. Check notebook server for' +\n",
       "                        ' errors.';\n",
       "    }\n",
       "});\n",
       "})(this.parentElement, '/qiime2/redirect?location=/scratch/lfloerl/tmpdata/qiime2/lfloerl/data/4a90a9e7-e822-4199-86bc-667575f25597')\" src=\"data:image/gif;base64,R0lGODlhAQABAIAAAP///wAAACH5BAEAAAAALAAAAAABAAEAAAICRAEAOw==\" /></div>"
      ],
      "text/plain": [
       "<visualization: Visualization uuid: 4a90a9e7-e822-4199-86bc-667575f25597>"
      ]
     },
     "execution_count": 23,
     "metadata": {},
     "output_type": "execute_result"
    }
   ],
   "source": [
    "Visualization.load(f'{output_dir}/alpha_groupSig_evenness_vector.qzv')"
   ]
  },
  {
   "cell_type": "code",
   "execution_count": 24,
   "id": "a475d39b",
   "metadata": {
    "scrolled": false
   },
   "outputs": [
    {
     "data": {
      "text/html": [
       "<div><img onload=\"(function(div, url){\n",
       "if (typeof require !== 'undefined') {\n",
       "    var baseURL = require.toUrl('').split('/').slice(0, -2).join('/');\n",
       "} else {\n",
       "    var baseURL = JSON.parse(\n",
       "        document.getElementById('jupyter-config-data').innerHTML\n",
       "    ).baseUrl.slice(0, -1);\n",
       "}\n",
       "url = baseURL + url;\n",
       "fetch(url).then(function(res) {\n",
       "    if (res.status === 404) {\n",
       "        div.innerHTML = 'Install QIIME 2 Jupyter extension with:<br />' +\n",
       "                        '<code>jupyter server extension enable --py qiime2' +\n",
       "                        ' --sys-prefix</code><br />then restart your server.' +\n",
       "                        '<br /><br />(Interactive output not available on ' +\n",
       "                        'static notebook viewer services like nbviewer.)';\n",
       "    } else if (res.status === 409) {\n",
       "        div.innerHTML = 'Visualization no longer in scope. Re-run this cell' +\n",
       "                        ' to see the visualization.';\n",
       "    } else if (res.ok) {\n",
       "        url = res.url;\n",
       "        div.innerHTML = '<iframe src=\\'' + url + '\\' style=\\'' +\n",
       "                        'width: 100%; height: 700px; border: 0;\\'>' +\n",
       "                        '</iframe><hr />Open in a: <a href=\\'' + url + '\\'' +\n",
       "                        ' target=\\'_blank\\'>new window</a>'\n",
       "    } else {\n",
       "        div.innerHTML = 'Something has gone wrong. Check notebook server for' +\n",
       "                        ' errors.';\n",
       "    }\n",
       "});\n",
       "})(this.parentElement, '/qiime2/redirect?location=/scratch/lfloerl/tmpdata/qiime2/lfloerl/data/e9b699af-3089-41a9-9c46-a831182757b7')\" src=\"data:image/gif;base64,R0lGODlhAQABAIAAAP///wAAACH5BAEAAAAALAAAAAABAAEAAAICRAEAOw==\" /></div>"
      ],
      "text/plain": [
       "<visualization: Visualization uuid: e9b699af-3089-41a9-9c46-a831182757b7>"
      ]
     },
     "execution_count": 24,
     "metadata": {},
     "output_type": "execute_result"
    }
   ],
   "source": [
    "Visualization.load(f'{output_dir}/alpha_groupSig_observed_features_vector.qzv')"
   ]
  },
  {
   "cell_type": "code",
   "execution_count": 25,
   "id": "b9469709",
   "metadata": {},
   "outputs": [
    {
     "data": {
      "text/html": [
       "<div><img onload=\"(function(div, url){\n",
       "if (typeof require !== 'undefined') {\n",
       "    var baseURL = require.toUrl('').split('/').slice(0, -2).join('/');\n",
       "} else {\n",
       "    var baseURL = JSON.parse(\n",
       "        document.getElementById('jupyter-config-data').innerHTML\n",
       "    ).baseUrl.slice(0, -1);\n",
       "}\n",
       "url = baseURL + url;\n",
       "fetch(url).then(function(res) {\n",
       "    if (res.status === 404) {\n",
       "        div.innerHTML = 'Install QIIME 2 Jupyter extension with:<br />' +\n",
       "                        '<code>jupyter server extension enable --py qiime2' +\n",
       "                        ' --sys-prefix</code><br />then restart your server.' +\n",
       "                        '<br /><br />(Interactive output not available on ' +\n",
       "                        'static notebook viewer services like nbviewer.)';\n",
       "    } else if (res.status === 409) {\n",
       "        div.innerHTML = 'Visualization no longer in scope. Re-run this cell' +\n",
       "                        ' to see the visualization.';\n",
       "    } else if (res.ok) {\n",
       "        url = res.url;\n",
       "        div.innerHTML = '<iframe src=\\'' + url + '\\' style=\\'' +\n",
       "                        'width: 100%; height: 700px; border: 0;\\'>' +\n",
       "                        '</iframe><hr />Open in a: <a href=\\'' + url + '\\'' +\n",
       "                        ' target=\\'_blank\\'>new window</a>'\n",
       "    } else {\n",
       "        div.innerHTML = 'Something has gone wrong. Check notebook server for' +\n",
       "                        ' errors.';\n",
       "    }\n",
       "});\n",
       "})(this.parentElement, '/qiime2/redirect?location=/scratch/lfloerl/tmpdata/qiime2/lfloerl/data/c45b7be7-6a7d-4c9e-8499-964acfb01e51')\" src=\"data:image/gif;base64,R0lGODlhAQABAIAAAP///wAAACH5BAEAAAAALAAAAAABAAEAAAICRAEAOw==\" /></div>"
      ],
      "text/plain": [
       "<visualization: Visualization uuid: c45b7be7-6a7d-4c9e-8499-964acfb01e51>"
      ]
     },
     "execution_count": 25,
     "metadata": {},
     "output_type": "execute_result"
    }
   ],
   "source": [
    "Visualization.load(f'{output_dir}/alpha_groupSig_shannon_vector.qzv')"
   ]
  },
  {
   "cell_type": "markdown",
   "id": "c0c19d61",
   "metadata": {},
   "source": [
    "### PERMANOVA"
   ]
  },
  {
   "cell_type": "code",
   "execution_count": 94,
   "id": "1239daba",
   "metadata": {
    "scrolled": true
   },
   "outputs": [
    {
     "name": "stdout",
     "output_type": "stream",
     "text": [
      "Running external command line application. This may print messages to stdout and/or stderr.\n",
      "The command being run is below. This command cannot be manually re-run as it will depend on temporary files that no longer exist.\n",
      "\n",
      "Command: run_adonis.R /scratch/lfloerl/tmpdata/tmpl7vjr_d1/dm.tsv /scratch/lfloerl/tmpdata/tmpl7vjr_d1/md.tsv Plot_ID + Year + Time_point + Plot_ID:Year + Plot_ID:Time_point + Year:Time_point 999 3 /scratch/lfloerl/tmpdata/qiime2-temp-crpchujp/adonis.tsv\n",
      "\n",
      "R version 4.3.3 (2024-02-29) \n"
     ]
    },
    {
     "name": "stderr",
     "output_type": "stream",
     "text": [
      "Lade nötiges Paket: permute\n",
      "Lade nötiges Paket: lattice\n",
      "This is vegan 2.6-8\n",
      "Warnmeldung:\n",
      "'adonis' ist veraltet.\n",
      "Benutzen Sie stattdessen 'adonis2'\n",
      "Siehe help(\"Deprecated\") und help(\"vegan-deprecated\"). \n"
     ]
    },
    {
     "name": "stdout",
     "output_type": "stream",
     "text": [
      "Running external command line application. This may print messages to stdout and/or stderr.\n",
      "The command being run is below. This command cannot be manually re-run as it will depend on temporary files that no longer exist.\n",
      "\n",
      "Command: run_adonis.R /scratch/lfloerl/tmpdata/tmp6_2a70wr/dm.tsv /scratch/lfloerl/tmpdata/tmp6_2a70wr/md.tsv Plot_ID + Year + Time_point + Plot_ID:Year + Plot_ID:Time_point + Year:Time_point 999 3 /scratch/lfloerl/tmpdata/qiime2-temp-2gx_1mvp/adonis.tsv\n",
      "\n",
      "R version 4.3.3 (2024-02-29) \n"
     ]
    },
    {
     "name": "stderr",
     "output_type": "stream",
     "text": [
      "Lade nötiges Paket: permute\n",
      "Lade nötiges Paket: lattice\n",
      "This is vegan 2.6-8\n",
      "Warnmeldung:\n",
      "'adonis' ist veraltet.\n",
      "Benutzen Sie stattdessen 'adonis2'\n",
      "Siehe help(\"Deprecated\") und help(\"vegan-deprecated\"). \n"
     ]
    },
    {
     "name": "stdout",
     "output_type": "stream",
     "text": [
      "\u001b[32mSaved Visualization to: must_kmer_cm10000/adonis_bray_curtis.qzv\u001b[0m\n",
      "\u001b[0m\u001b[32mSaved Visualization to: must_kmer_cm10000/adonis_jaccard.qzv\u001b[0m\n",
      "\u001b[0m"
     ]
    }
   ],
   "source": [
    "formula = 'Plot_ID + Year + Time_point + Plot_ID:Year + Plot_ID:Time_point + Year:Time_point'\n",
    "\n",
    "beta_metrics = ['bray_curtis', 'jaccard']\n",
    "\n",
    "# PERMANOVA with core metrics \n",
    "for m in beta_metrics:\n",
    "    adonis_res, = q2d.actions.adonis(\n",
    "        distance_matrix=core_div_dict[m + '_distance_matrix'],\n",
    "        metadata=md,\n",
    "        formula=formula,\n",
    "        n_jobs=3)\n",
    "    adonis_res.save(output_dir + 'adonis_{0}.qzv'.format(m))\n",
    "    \n",
    "\n",
    "# PERMANOVA with kmer core metrics \n",
    "kmer_dir = 'must_kmer_cm10000'\n",
    "    \n",
    "for m in beta_metrics:\n",
    "    !qiime diversity adonis \\\n",
    "        --i-distance-matrix \"{kmer_dir}/{m}_distance_matrix.qza\" \\\n",
    "        --m-metadata-file /home/lfloerl/microterroir/Microbiome/Metadata/ITS_lavaux.tsv \\\n",
    "        --p-formula \"{formula}\" \\\n",
    "        --p-n-jobs 5 \\\n",
    "        --o-visualization \"{kmer_dir}/adonis_{m}.qzv\""
   ]
  },
  {
   "cell_type": "code",
   "execution_count": 95,
   "id": "03924c1f",
   "metadata": {
    "scrolled": true
   },
   "outputs": [
    {
     "data": {
      "text/html": [
       "<div><img onload=\"(function(div, url){\n",
       "if (typeof require !== 'undefined') {\n",
       "    var baseURL = require.toUrl('').split('/').slice(0, -2).join('/');\n",
       "} else {\n",
       "    var baseURL = JSON.parse(\n",
       "        document.getElementById('jupyter-config-data').innerHTML\n",
       "    ).baseUrl.slice(0, -1);\n",
       "}\n",
       "url = baseURL + url;\n",
       "fetch(url).then(function(res) {\n",
       "    if (res.status === 404) {\n",
       "        div.innerHTML = 'Install QIIME 2 Jupyter extension with:<br />' +\n",
       "                        '<code>jupyter server extension enable --py qiime2' +\n",
       "                        ' --sys-prefix</code><br />then restart your server.' +\n",
       "                        '<br /><br />(Interactive output not available on ' +\n",
       "                        'static notebook viewer services like nbviewer.)';\n",
       "    } else if (res.status === 409) {\n",
       "        div.innerHTML = 'Visualization no longer in scope. Re-run this cell' +\n",
       "                        ' to see the visualization.';\n",
       "    } else if (res.ok) {\n",
       "        url = res.url;\n",
       "        div.innerHTML = '<iframe src=\\'' + url + '\\' style=\\'' +\n",
       "                        'width: 100%; height: 700px; border: 0;\\'>' +\n",
       "                        '</iframe><hr />Open in a: <a href=\\'' + url + '\\'' +\n",
       "                        ' target=\\'_blank\\'>new window</a>'\n",
       "    } else {\n",
       "        div.innerHTML = 'Something has gone wrong. Check notebook server for' +\n",
       "                        ' errors.';\n",
       "    }\n",
       "});\n",
       "})(this.parentElement, '/qiime2/redirect?location=/scratch/lfloerl/tmpdata/qiime2/lfloerl/data/60a20862-78d4-4602-8709-4e722bb2287c')\" src=\"data:image/gif;base64,R0lGODlhAQABAIAAAP///wAAACH5BAEAAAAALAAAAAABAAEAAAICRAEAOw==\" /></div>"
      ],
      "text/plain": [
       "<visualization: Visualization uuid: 60a20862-78d4-4602-8709-4e722bb2287c>"
      ]
     },
     "execution_count": 95,
     "metadata": {},
     "output_type": "execute_result"
    }
   ],
   "source": [
    "Visualization.load(f'{output_dir}/adonis_bray_curtis.qzv')"
   ]
  },
  {
   "cell_type": "code",
   "execution_count": 96,
   "id": "56e82da0",
   "metadata": {
    "scrolled": false
   },
   "outputs": [
    {
     "data": {
      "text/html": [
       "<div><img onload=\"(function(div, url){\n",
       "if (typeof require !== 'undefined') {\n",
       "    var baseURL = require.toUrl('').split('/').slice(0, -2).join('/');\n",
       "} else {\n",
       "    var baseURL = JSON.parse(\n",
       "        document.getElementById('jupyter-config-data').innerHTML\n",
       "    ).baseUrl.slice(0, -1);\n",
       "}\n",
       "url = baseURL + url;\n",
       "fetch(url).then(function(res) {\n",
       "    if (res.status === 404) {\n",
       "        div.innerHTML = 'Install QIIME 2 Jupyter extension with:<br />' +\n",
       "                        '<code>jupyter server extension enable --py qiime2' +\n",
       "                        ' --sys-prefix</code><br />then restart your server.' +\n",
       "                        '<br /><br />(Interactive output not available on ' +\n",
       "                        'static notebook viewer services like nbviewer.)';\n",
       "    } else if (res.status === 409) {\n",
       "        div.innerHTML = 'Visualization no longer in scope. Re-run this cell' +\n",
       "                        ' to see the visualization.';\n",
       "    } else if (res.ok) {\n",
       "        url = res.url;\n",
       "        div.innerHTML = '<iframe src=\\'' + url + '\\' style=\\'' +\n",
       "                        'width: 100%; height: 700px; border: 0;\\'>' +\n",
       "                        '</iframe><hr />Open in a: <a href=\\'' + url + '\\'' +\n",
       "                        ' target=\\'_blank\\'>new window</a>'\n",
       "    } else {\n",
       "        div.innerHTML = 'Something has gone wrong. Check notebook server for' +\n",
       "                        ' errors.';\n",
       "    }\n",
       "});\n",
       "})(this.parentElement, '/qiime2/redirect?location=/scratch/lfloerl/tmpdata/qiime2/lfloerl/data/d595c452-e20a-4453-9f5f-763ec5f2cc0b')\" src=\"data:image/gif;base64,R0lGODlhAQABAIAAAP///wAAACH5BAEAAAAALAAAAAABAAEAAAICRAEAOw==\" /></div>"
      ],
      "text/plain": [
       "<visualization: Visualization uuid: d595c452-e20a-4453-9f5f-763ec5f2cc0b>"
      ]
     },
     "execution_count": 96,
     "metadata": {},
     "output_type": "execute_result"
    }
   ],
   "source": [
    "Visualization.load(f'{output_dir}/adonis_jaccard.qzv')"
   ]
  },
  {
   "cell_type": "code",
   "execution_count": 97,
   "id": "6e32f2ce",
   "metadata": {
    "scrolled": false
   },
   "outputs": [
    {
     "data": {
      "text/html": [
       "<div><img onload=\"(function(div, url){\n",
       "if (typeof require !== 'undefined') {\n",
       "    var baseURL = require.toUrl('').split('/').slice(0, -2).join('/');\n",
       "} else {\n",
       "    var baseURL = JSON.parse(\n",
       "        document.getElementById('jupyter-config-data').innerHTML\n",
       "    ).baseUrl.slice(0, -1);\n",
       "}\n",
       "url = baseURL + url;\n",
       "fetch(url).then(function(res) {\n",
       "    if (res.status === 404) {\n",
       "        div.innerHTML = 'Install QIIME 2 Jupyter extension with:<br />' +\n",
       "                        '<code>jupyter server extension enable --py qiime2' +\n",
       "                        ' --sys-prefix</code><br />then restart your server.' +\n",
       "                        '<br /><br />(Interactive output not available on ' +\n",
       "                        'static notebook viewer services like nbviewer.)';\n",
       "    } else if (res.status === 409) {\n",
       "        div.innerHTML = 'Visualization no longer in scope. Re-run this cell' +\n",
       "                        ' to see the visualization.';\n",
       "    } else if (res.ok) {\n",
       "        url = res.url;\n",
       "        div.innerHTML = '<iframe src=\\'' + url + '\\' style=\\'' +\n",
       "                        'width: 100%; height: 700px; border: 0;\\'>' +\n",
       "                        '</iframe><hr />Open in a: <a href=\\'' + url + '\\'' +\n",
       "                        ' target=\\'_blank\\'>new window</a>'\n",
       "    } else {\n",
       "        div.innerHTML = 'Something has gone wrong. Check notebook server for' +\n",
       "                        ' errors.';\n",
       "    }\n",
       "});\n",
       "})(this.parentElement, '/qiime2/redirect?location=/scratch/lfloerl/tmpdata/qiime2/lfloerl/data/8066ea2c-c9fc-4fc6-81c3-b114d0f58667')\" src=\"data:image/gif;base64,R0lGODlhAQABAIAAAP///wAAACH5BAEAAAAALAAAAAABAAEAAAICRAEAOw==\" /></div>"
      ],
      "text/plain": [
       "<visualization: Visualization uuid: 8066ea2c-c9fc-4fc6-81c3-b114d0f58667>"
      ]
     },
     "execution_count": 97,
     "metadata": {},
     "output_type": "execute_result"
    }
   ],
   "source": [
    "Visualization.load(f'{kmer_dir}/adonis_bray_curtis.qzv')"
   ]
  },
  {
   "cell_type": "code",
   "execution_count": 98,
   "id": "46ea1f80",
   "metadata": {
    "scrolled": false
   },
   "outputs": [
    {
     "data": {
      "text/html": [
       "<div><img onload=\"(function(div, url){\n",
       "if (typeof require !== 'undefined') {\n",
       "    var baseURL = require.toUrl('').split('/').slice(0, -2).join('/');\n",
       "} else {\n",
       "    var baseURL = JSON.parse(\n",
       "        document.getElementById('jupyter-config-data').innerHTML\n",
       "    ).baseUrl.slice(0, -1);\n",
       "}\n",
       "url = baseURL + url;\n",
       "fetch(url).then(function(res) {\n",
       "    if (res.status === 404) {\n",
       "        div.innerHTML = 'Install QIIME 2 Jupyter extension with:<br />' +\n",
       "                        '<code>jupyter server extension enable --py qiime2' +\n",
       "                        ' --sys-prefix</code><br />then restart your server.' +\n",
       "                        '<br /><br />(Interactive output not available on ' +\n",
       "                        'static notebook viewer services like nbviewer.)';\n",
       "    } else if (res.status === 409) {\n",
       "        div.innerHTML = 'Visualization no longer in scope. Re-run this cell' +\n",
       "                        ' to see the visualization.';\n",
       "    } else if (res.ok) {\n",
       "        url = res.url;\n",
       "        div.innerHTML = '<iframe src=\\'' + url + '\\' style=\\'' +\n",
       "                        'width: 100%; height: 700px; border: 0;\\'>' +\n",
       "                        '</iframe><hr />Open in a: <a href=\\'' + url + '\\'' +\n",
       "                        ' target=\\'_blank\\'>new window</a>'\n",
       "    } else {\n",
       "        div.innerHTML = 'Something has gone wrong. Check notebook server for' +\n",
       "                        ' errors.';\n",
       "    }\n",
       "});\n",
       "})(this.parentElement, '/qiime2/redirect?location=/scratch/lfloerl/tmpdata/qiime2/lfloerl/data/927e6eef-64e8-4014-9a7f-a190563a39ca')\" src=\"data:image/gif;base64,R0lGODlhAQABAIAAAP///wAAACH5BAEAAAAALAAAAAABAAEAAAICRAEAOw==\" /></div>"
      ],
      "text/plain": [
       "<visualization: Visualization uuid: 927e6eef-64e8-4014-9a7f-a190563a39ca>"
      ]
     },
     "execution_count": 98,
     "metadata": {},
     "output_type": "execute_result"
    }
   ],
   "source": [
    "Visualization.load(f'{kmer_dir}/adonis_jaccard.qzv')"
   ]
  },
  {
   "cell_type": "markdown",
   "id": "ab557f5c",
   "metadata": {},
   "source": [
    "## Mantel "
   ]
  },
  {
   "cell_type": "code",
   "execution_count": 100,
   "id": "7d2da626",
   "metadata": {},
   "outputs": [
    {
     "name": "stdout",
     "output_type": "stream",
     "text": [
      "Exported must_cm10000/bray_curtis_distance_matrix.qza as DistanceMatrixDirectoryFormat to directory must_cm10000/bray_curtis_distance_matrix\n",
      "Exported must_cm10000/jaccard_distance_matrix.qza as DistanceMatrixDirectoryFormat to directory must_cm10000/jaccard_distance_matrix\n",
      "Exported must_kmer_cm10000/bray_curtis_distance_matrix.qza as DistanceMatrixDirectoryFormat to directory must_kmer_cm10000/bray_curtis_distance_matrix\n",
      "Exported must_kmer_cm10000/jaccard_distance_matrix.qza as DistanceMatrixDirectoryFormat to directory must_kmer_cm10000/jaccard_distance_matrix\n"
     ]
    }
   ],
   "source": [
    "%%bash \n",
    "\n",
    "div_dir='must_cm10000'\n",
    "kmer_dir='must_kmer_cm10000'\n",
    "\n",
    "# geodisic distance\n",
    "#qiime tools export --input-path /home/lfloerl/cloud/lfloerl/Microterroir/artifacts/ITS/geodesic_distance_ITS.qza --output-path geodesic_distance_ITS\n",
    "\n",
    "# distance matrices \n",
    "qiime tools export --input-path $div_dir/bray_curtis_distance_matrix.qza --output-path $div_dir/bray_curtis_distance_matrix\n",
    "qiime tools export --input-path $div_dir/jaccard_distance_matrix.qza --output-path $div_dir/jaccard_distance_matrix\n",
    "qiime tools export --input-path $kmer_dir/bray_curtis_distance_matrix.qza --output-path $kmer_dir/bray_curtis_distance_matrix\n",
    "qiime tools export --input-path $kmer_dir/jaccard_distance_matrix.qza --output-path $kmer_dir/jaccard_distance_matrix"
   ]
  },
  {
   "cell_type": "code",
   "execution_count": 10,
   "id": "617c24dc",
   "metadata": {},
   "outputs": [
    {
     "name": "stdout",
     "output_type": "stream",
     "text": [
      "                                           Test Mantel_statistic_r Significance\n",
      "1      must_cm10000-bray_curtis_distance_matrix         0.19513182        0.001\n",
      "2          must_cm10000-jaccard_distance_matrix         0.17554377        0.001\n",
      "3 must_kmer_cm10000-bray_curtis_distance_matrix         0.18935425        0.001\n",
      "4     must_kmer_cm10000-jaccard_distance_matrix         0.05381511        0.019\n"
     ]
    }
   ],
   "source": [
    "%%bash\n",
    "geodesic_path='/home/lfloerl/cloud/lfloerl/Microterroir/artifacts/ITS/lavaux/spatio-temporal/geodesic_distance_ITS/distance-matrix.tsv'\n",
    "\n",
    "folder_path_1=\"must_cm10000\"\n",
    "folder_path_2=\"must_kmer_cm10000\"\n",
    "\n",
    "# Call the R script and pass folder paths and geodesic matrix\n",
    "Rscript /home/lfloerl/microterroir/Microbiome/Other_scripts/mantel_test.R \"$folder_path_1\" \"$folder_path_2\" \"$geodesic_path\""
   ]
  },
  {
   "cell_type": "code",
   "execution_count": 11,
   "id": "e89cd9c4",
   "metadata": {},
   "outputs": [
    {
     "data": {
      "text/html": [
       "<div>\n",
       "<style scoped>\n",
       "    .dataframe tbody tr th:only-of-type {\n",
       "        vertical-align: middle;\n",
       "    }\n",
       "\n",
       "    .dataframe tbody tr th {\n",
       "        vertical-align: top;\n",
       "    }\n",
       "\n",
       "    .dataframe thead th {\n",
       "        text-align: right;\n",
       "    }\n",
       "</style>\n",
       "<table border=\"1\" class=\"dataframe\">\n",
       "  <thead>\n",
       "    <tr style=\"text-align: right;\">\n",
       "      <th></th>\n",
       "      <th>Test</th>\n",
       "      <th>Mantel_statistic_r</th>\n",
       "      <th>Significance</th>\n",
       "    </tr>\n",
       "  </thead>\n",
       "  <tbody>\n",
       "    <tr>\n",
       "      <th>0</th>\n",
       "      <td>must_cm10000-bray_curtis_distance_matrix</td>\n",
       "      <td>0.195132</td>\n",
       "      <td>0.001</td>\n",
       "    </tr>\n",
       "    <tr>\n",
       "      <th>1</th>\n",
       "      <td>must_cm10000-jaccard_distance_matrix</td>\n",
       "      <td>0.175544</td>\n",
       "      <td>0.001</td>\n",
       "    </tr>\n",
       "    <tr>\n",
       "      <th>2</th>\n",
       "      <td>must_kmer_cm10000-bray_curtis_distance_matrix</td>\n",
       "      <td>0.189354</td>\n",
       "      <td>0.001</td>\n",
       "    </tr>\n",
       "    <tr>\n",
       "      <th>3</th>\n",
       "      <td>must_kmer_cm10000-jaccard_distance_matrix</td>\n",
       "      <td>0.053815</td>\n",
       "      <td>0.019</td>\n",
       "    </tr>\n",
       "  </tbody>\n",
       "</table>\n",
       "</div>"
      ],
      "text/plain": [
       "                                            Test  Mantel_statistic_r  \\\n",
       "0       must_cm10000-bray_curtis_distance_matrix            0.195132   \n",
       "1           must_cm10000-jaccard_distance_matrix            0.175544   \n",
       "2  must_kmer_cm10000-bray_curtis_distance_matrix            0.189354   \n",
       "3      must_kmer_cm10000-jaccard_distance_matrix            0.053815   \n",
       "\n",
       "   Significance  \n",
       "0         0.001  \n",
       "1         0.001  \n",
       "2         0.001  \n",
       "3         0.019  "
      ]
     },
     "execution_count": 11,
     "metadata": {},
     "output_type": "execute_result"
    }
   ],
   "source": [
    "mantel = pd.read_csv('must_kmer_cm10000/mantel_results.tsv', sep='\\t')\n",
    "mantel"
   ]
  },
  {
   "cell_type": "markdown",
   "id": "24395fac",
   "metadata": {},
   "source": [
    "<hr>\n",
    "\n",
    "# SUBSET TO SINGLE YEAR \n",
    "\n",
    "# Diversity "
   ]
  },
  {
   "cell_type": "code",
   "execution_count": 103,
   "id": "5ecef7c3",
   "metadata": {},
   "outputs": [],
   "source": [
    "#!mkdir /home/lfloerl/cloud/lfloerl/Microterroir/artifacts/ITS/lavaux/spatio-temporal/berries/2021"
   ]
  },
  {
   "cell_type": "code",
   "execution_count": 12,
   "id": "519ca429",
   "metadata": {},
   "outputs": [
    {
     "name": "stdout",
     "output_type": "stream",
     "text": [
      "/home/lfloerl/cloud/lfloerl/Microterroir/artifacts/ITS/lavaux/spatio-temporal/berries/2021\n"
     ]
    }
   ],
   "source": [
    "workdir = '/home/lfloerl/cloud/lfloerl/Microterroir/artifacts/ITS/lavaux/spatio-temporal/berries/2021'\n",
    "%cd $workdir"
   ]
  },
  {
   "cell_type": "code",
   "execution_count": 73,
   "id": "33561db1",
   "metadata": {},
   "outputs": [
    {
     "name": "stdout",
     "output_type": "stream",
     "text": [
      "Saved FeatureTable[Frequency] to: must_21_filtered_table.qza\n",
      "Saved FeatureData[Sequence] to: must_21_filtered_rep_seqs.qza\n"
     ]
    }
   ],
   "source": [
    "%%bash \n",
    "\n",
    "# subset to only harvest samples before fitting \n",
    "qiime feature-table filter-samples \\\n",
    "  --i-table /home/lfloerl/cloud/lfloerl/Microterroir/artifacts/ITS/lavaux/must_filtered_table.qza \\\n",
    "  --m-metadata-file /home/lfloerl/microterroir/Microbiome/Metadata/ITS_lavaux.tsv \\\n",
    "  --p-where \"[Collection_ID]='Harvest_2021'\" \\\n",
    "  --o-filtered-table must_21_filtered_table.qza\n",
    "\n",
    "qiime feature-table filter-seqs \\\n",
    "    --i-data /home/lfloerl/cloud/lfloerl/Microterroir/artifacts/Sven-denoising-test/ITS/revcomp-trimmed-denoised/with-adjusted-parameters/ITS-revcomp-trimmed-ER-0.05-denoised-trunc-190-PFA-4.0-maxee-4.0-rep-seqs.qza \\\n",
    "    --i-table must_21_filtered_table.qza \\\n",
    "    --o-filtered-data must_21_filtered_rep_seqs.qza"
   ]
  },
  {
   "cell_type": "code",
   "execution_count": 105,
   "id": "5eb27202",
   "metadata": {},
   "outputs": [
    {
     "name": "stderr",
     "output_type": "stream",
     "text": [
      "/scratch/lfloerl/.condaenvs/qiime2-amplicon-2024.10/lib/python3.10/site-packages/skbio/stats/ordination/_principal_coordinate_analysis.py:146: RuntimeWarning: The result contains negative eigenvalues. Please compare their magnitude with the magnitude of some of the largest positive eigenvalues. If the negative ones are smaller, it's probably safe to ignore them, but if they are large in magnitude, the results won't be useful. See the Notes section for more details. The smallest eigenvalue is -0.18900461277761615 and the largest is 7.02508077461974.\n",
      "  warn(\n"
     ]
    }
   ],
   "source": [
    "table = q2.Artifact.load('must_21_filtered_table.qza')\n",
    "\n",
    "core_div_dict = {}\n",
    "core_div = q2d.actions.core_metrics(table=table,\n",
    "                                    sampling_depth=depth,\n",
    "                                    metadata=md, \n",
    "                                    n_jobs=threads)\n",
    "# save outputs\n",
    "output_dir='must_21_cm{0}/'.format(depth)\n",
    "if not os.path.exists(output_dir):\n",
    "    os.makedirs(output_dir)\n",
    "for k, v in core_div.__dict__.items():\n",
    "    if k != '_fields':\n",
    "        v.save(output_dir + k)\n",
    "        core_div_dict[k] = v"
   ]
  },
  {
   "cell_type": "markdown",
   "id": "dc23940d",
   "metadata": {},
   "source": [
    "## Kmerizer "
   ]
  },
  {
   "cell_type": "code",
   "execution_count": 106,
   "id": "9ac1a97a",
   "metadata": {},
   "outputs": [
    {
     "name": "stdout",
     "output_type": "stream",
     "text": [
      "Saved FeatureTable[Frequency] to: must_21_kmer_cm10000/rarefied_table.qza\n",
      "Saved FeatureTable[Frequency] to: must_21_kmer_cm10000/kmer_table.qza\n",
      "Saved SampleData[AlphaDiversity] to: must_21_kmer_cm10000/observed_features_vector.qza\n",
      "Saved SampleData[AlphaDiversity] to: must_21_kmer_cm10000/shannon_vector.qza\n",
      "Saved DistanceMatrix to: must_21_kmer_cm10000/jaccard_distance_matrix.qza\n",
      "Saved DistanceMatrix to: must_21_kmer_cm10000/bray_curtis_distance_matrix.qza\n",
      "Saved PCoAResults to: must_21_kmer_cm10000/jaccard_pcoa_results.qza\n",
      "Saved PCoAResults to: must_21_kmer_cm10000/bray_curtis_pcoa_results.qza\n",
      "Saved Visualization to: must_21_kmer_cm10000/scatterplot.qzv\n"
     ]
    }
   ],
   "source": [
    "%%bash\n",
    "\n",
    "qiime kmerizer core-metrics \\\n",
    "    --i-sequences must_21_filtered_rep_seqs.qza \\\n",
    "    --i-table must_21_filtered_table.qza \\\n",
    "    --p-sampling-depth 10000 \\\n",
    "    --m-metadata-file /home/lfloerl/microterroir/Microbiome/Metadata/ITS_lavaux.tsv \\\n",
    "    --p-n-jobs 'auto' \\\n",
    "    --output-dir must_21_kmer_cm10000/"
   ]
  },
  {
   "cell_type": "markdown",
   "id": "1b5b1b57",
   "metadata": {},
   "source": [
    "## Mantel "
   ]
  },
  {
   "cell_type": "code",
   "execution_count": 107,
   "id": "48c99dba",
   "metadata": {
    "scrolled": true
   },
   "outputs": [
    {
     "name": "stdout",
     "output_type": "stream",
     "text": [
      "Exported must_21_cm10000/bray_curtis_distance_matrix.qza as DistanceMatrixDirectoryFormat to directory must_21_cm10000/bray_curtis_distance_matrix\n",
      "Exported must_21_cm10000/jaccard_distance_matrix.qza as DistanceMatrixDirectoryFormat to directory must_21_cm10000/jaccard_distance_matrix\n",
      "Exported must_21_kmer_cm10000/bray_curtis_distance_matrix.qza as DistanceMatrixDirectoryFormat to directory must_21_kmer_cm10000/bray_curtis_distance_matrix\n",
      "Exported must_21_kmer_cm10000/jaccard_distance_matrix.qza as DistanceMatrixDirectoryFormat to directory must_21_kmer_cm10000/jaccard_distance_matrix\n"
     ]
    }
   ],
   "source": [
    "%%bash \n",
    "\n",
    "div_dir='must_21_cm10000'\n",
    "kmer_dir='must_21_kmer_cm10000'\n",
    "\n",
    "# geodisic distance\n",
    "#qiime tools export --input-path /home/lfloerl/cloud/lfloerl/Microterroir/artifacts/ITS/geodesic_distance_ITS.qza --output-path geodesic_distance_ITS\n",
    "\n",
    "# distance matrices \n",
    "qiime tools export --input-path $div_dir/bray_curtis_distance_matrix.qza --output-path $div_dir/bray_curtis_distance_matrix\n",
    "qiime tools export --input-path $div_dir/jaccard_distance_matrix.qza --output-path $div_dir/jaccard_distance_matrix\n",
    "qiime tools export --input-path $kmer_dir/bray_curtis_distance_matrix.qza --output-path $kmer_dir/bray_curtis_distance_matrix\n",
    "qiime tools export --input-path $kmer_dir/jaccard_distance_matrix.qza --output-path $kmer_dir/jaccard_distance_matrix"
   ]
  },
  {
   "cell_type": "code",
   "execution_count": 13,
   "id": "243df3f5",
   "metadata": {},
   "outputs": [
    {
     "name": "stdout",
     "output_type": "stream",
     "text": [
      "                                              Test Mantel_statistic_r\n",
      "1      must_21_cm10000-bray_curtis_distance_matrix          0.2789328\n",
      "2          must_21_cm10000-jaccard_distance_matrix          0.2124133\n",
      "3 must_21_kmer_cm10000-bray_curtis_distance_matrix          0.2699840\n",
      "4     must_21_kmer_cm10000-jaccard_distance_matrix          0.1017025\n",
      "  Significance\n",
      "1        0.001\n",
      "2        0.001\n",
      "3        0.001\n",
      "4        0.002\n"
     ]
    }
   ],
   "source": [
    "%%bash\n",
    "geodesic_path='/home/lfloerl/cloud/lfloerl/Microterroir/artifacts/ITS/lavaux/spatio-temporal/geodesic_distance_ITS/distance-matrix.tsv'\n",
    "\n",
    "folder_path_1=\"must_21_cm10000\"\n",
    "folder_path_2=\"must_21_kmer_cm10000\"\n",
    "\n",
    "# Call the R script and pass folder paths and geodesic matrix\n",
    "Rscript /home/lfloerl/microterroir/Microbiome/Other_scripts/mantel_test.R \"$folder_path_1\" \"$folder_path_2\" \"$geodesic_path\""
   ]
  },
  {
   "cell_type": "code",
   "execution_count": 14,
   "id": "feb380fa",
   "metadata": {},
   "outputs": [
    {
     "data": {
      "text/html": [
       "<div>\n",
       "<style scoped>\n",
       "    .dataframe tbody tr th:only-of-type {\n",
       "        vertical-align: middle;\n",
       "    }\n",
       "\n",
       "    .dataframe tbody tr th {\n",
       "        vertical-align: top;\n",
       "    }\n",
       "\n",
       "    .dataframe thead th {\n",
       "        text-align: right;\n",
       "    }\n",
       "</style>\n",
       "<table border=\"1\" class=\"dataframe\">\n",
       "  <thead>\n",
       "    <tr style=\"text-align: right;\">\n",
       "      <th></th>\n",
       "      <th>Test</th>\n",
       "      <th>Mantel_statistic_r</th>\n",
       "      <th>Significance</th>\n",
       "    </tr>\n",
       "  </thead>\n",
       "  <tbody>\n",
       "    <tr>\n",
       "      <th>0</th>\n",
       "      <td>must_21_cm10000-bray_curtis_distance_matrix</td>\n",
       "      <td>0.278933</td>\n",
       "      <td>0.001</td>\n",
       "    </tr>\n",
       "    <tr>\n",
       "      <th>1</th>\n",
       "      <td>must_21_cm10000-jaccard_distance_matrix</td>\n",
       "      <td>0.212413</td>\n",
       "      <td>0.001</td>\n",
       "    </tr>\n",
       "    <tr>\n",
       "      <th>2</th>\n",
       "      <td>must_21_kmer_cm10000-bray_curtis_distance_matrix</td>\n",
       "      <td>0.269984</td>\n",
       "      <td>0.001</td>\n",
       "    </tr>\n",
       "    <tr>\n",
       "      <th>3</th>\n",
       "      <td>must_21_kmer_cm10000-jaccard_distance_matrix</td>\n",
       "      <td>0.101702</td>\n",
       "      <td>0.002</td>\n",
       "    </tr>\n",
       "  </tbody>\n",
       "</table>\n",
       "</div>"
      ],
      "text/plain": [
       "                                               Test  Mantel_statistic_r  \\\n",
       "0       must_21_cm10000-bray_curtis_distance_matrix            0.278933   \n",
       "1           must_21_cm10000-jaccard_distance_matrix            0.212413   \n",
       "2  must_21_kmer_cm10000-bray_curtis_distance_matrix            0.269984   \n",
       "3      must_21_kmer_cm10000-jaccard_distance_matrix            0.101702   \n",
       "\n",
       "   Significance  \n",
       "0         0.001  \n",
       "1         0.001  \n",
       "2         0.001  \n",
       "3         0.002  "
      ]
     },
     "execution_count": 14,
     "metadata": {},
     "output_type": "execute_result"
    }
   ],
   "source": [
    "mantel = pd.read_csv('must_21_kmer_cm10000/mantel_results.tsv', sep='\\t')\n",
    "mantel"
   ]
  },
  {
   "cell_type": "markdown",
   "id": "dabd1af7",
   "metadata": {},
   "source": [
    "<hr>\n",
    "\n",
    "# DENSE SAMPLING: SUBSET TO SINGLE PLOT IN HARVEST 2021  \n",
    "\n",
    "-> calculate the Mantel test for every single densely sampled plot "
   ]
  },
  {
   "cell_type": "code",
   "execution_count": 35,
   "id": "338e4994",
   "metadata": {},
   "outputs": [],
   "source": [
    "#!mkdir /home/lfloerl/cloud/lfloerl/Microterroir/artifacts/ITS/lavaux/spatio-temporal/berries/berries_2021_dense_sampling"
   ]
  },
  {
   "cell_type": "code",
   "execution_count": 16,
   "id": "09813e2b",
   "metadata": {},
   "outputs": [
    {
     "name": "stdout",
     "output_type": "stream",
     "text": [
      "/home/lfloerl/cloud/lfloerl/Microterroir/artifacts/ITS/lavaux/spatio-temporal/berries/berries_2021_dense_sampling\n"
     ]
    }
   ],
   "source": [
    "workdir = '/home/lfloerl/cloud/lfloerl/Microterroir/artifacts/ITS/lavaux/spatio-temporal/berries/berries_2021_dense_sampling'\n",
    "%cd $workdir"
   ]
  },
  {
   "cell_type": "code",
   "execution_count": 111,
   "id": "1779317d",
   "metadata": {
    "scrolled": true
   },
   "outputs": [
    {
     "data": {
      "text/plain": [
       "array(['Lavaux_Plot_4', 'Lavaux_Plot_5', 'Lavaux_Plot_9',\n",
       "       'Lavaux_Plot_11', 'Lavaux_Plot_12', 'Lavaux_Plot_13',\n",
       "       'Lavaux_Plot_14', 'Lavaux_Plot_15', 'Lavaux_Plot_18',\n",
       "       'Lavaux_Plot_19', 'Lavaux_Plot_20', 'Lavaux_Plot_17'], dtype=object)"
      ]
     },
     "execution_count": 111,
     "metadata": {},
     "output_type": "execute_result"
    }
   ],
   "source": [
    "md_df = md.to_dataframe()\n",
    "md_df['Plot_ID'].unique()"
   ]
  },
  {
   "cell_type": "code",
   "execution_count": 112,
   "id": "705e8afd",
   "metadata": {},
   "outputs": [
    {
     "name": "stdout",
     "output_type": "stream",
     "text": [
      "Processing Lavaux_Plot_4\n",
      "Saved FeatureTable[Frequency] to: must_harvest21_Lavaux_Plot_4_filtered_table.qza\n",
      "Saved FeatureData[Sequence] to: must_harvest21_Lavaux_Plot_4_filtered_rep_seqs.qza\n",
      "Saved FeatureTable[Frequency] to: cm10000/rarefied_table.qza\n",
      "Saved SampleData[AlphaDiversity] to: cm10000/observed_features_vector.qza\n",
      "Saved SampleData[AlphaDiversity] to: cm10000/shannon_vector.qza\n",
      "Saved SampleData[AlphaDiversity] to: cm10000/evenness_vector.qza\n",
      "Saved DistanceMatrix to: cm10000/jaccard_distance_matrix.qza\n",
      "Saved DistanceMatrix to: cm10000/bray_curtis_distance_matrix.qza\n",
      "Saved PCoAResults to: cm10000/jaccard_pcoa_results.qza\n",
      "Saved PCoAResults to: cm10000/bray_curtis_pcoa_results.qza\n",
      "Saved Visualization to: cm10000/jaccard_emperor.qzv\n",
      "Saved Visualization to: cm10000/bray_curtis_emperor.qzv\n",
      "Saved FeatureTable[Frequency] to: kmer_cm10000/rarefied_table.qza\n",
      "Saved FeatureTable[Frequency] to: kmer_cm10000/kmer_table.qza\n",
      "Saved SampleData[AlphaDiversity] to: kmer_cm10000/observed_features_vector.qza\n",
      "Saved SampleData[AlphaDiversity] to: kmer_cm10000/shannon_vector.qza\n",
      "Saved DistanceMatrix to: kmer_cm10000/jaccard_distance_matrix.qza\n",
      "Saved DistanceMatrix to: kmer_cm10000/bray_curtis_distance_matrix.qza\n",
      "Saved PCoAResults to: kmer_cm10000/jaccard_pcoa_results.qza\n",
      "Saved PCoAResults to: kmer_cm10000/bray_curtis_pcoa_results.qza\n",
      "Saved Visualization to: kmer_cm10000/scatterplot.qzv\n",
      "Exported cm10000/bray_curtis_distance_matrix.qza as DistanceMatrixDirectoryFormat to directory cm10000/bray_curtis_distance_matrix\n",
      "Exported cm10000/jaccard_distance_matrix.qza as DistanceMatrixDirectoryFormat to directory cm10000/jaccard_distance_matrix\n",
      "Exported kmer_cm10000/bray_curtis_distance_matrix.qza as DistanceMatrixDirectoryFormat to directory kmer_cm10000/bray_curtis_distance_matrix\n",
      "Exported kmer_cm10000/jaccard_distance_matrix.qza as DistanceMatrixDirectoryFormat to directory kmer_cm10000/jaccard_distance_matrix\n",
      "Processing Lavaux_Plot_5\n",
      "Saved FeatureTable[Frequency] to: must_harvest21_Lavaux_Plot_5_filtered_table.qza\n",
      "Saved FeatureData[Sequence] to: must_harvest21_Lavaux_Plot_5_filtered_rep_seqs.qza\n",
      "Saved FeatureTable[Frequency] to: cm10000/rarefied_table.qza\n",
      "Saved SampleData[AlphaDiversity] to: cm10000/observed_features_vector.qza\n",
      "Saved SampleData[AlphaDiversity] to: cm10000/shannon_vector.qza\n",
      "Saved SampleData[AlphaDiversity] to: cm10000/evenness_vector.qza\n",
      "Saved DistanceMatrix to: cm10000/jaccard_distance_matrix.qza\n",
      "Saved DistanceMatrix to: cm10000/bray_curtis_distance_matrix.qza\n",
      "Saved PCoAResults to: cm10000/jaccard_pcoa_results.qza\n",
      "Saved PCoAResults to: cm10000/bray_curtis_pcoa_results.qza\n",
      "Saved Visualization to: cm10000/jaccard_emperor.qzv\n",
      "Saved Visualization to: cm10000/bray_curtis_emperor.qzv\n",
      "Saved FeatureTable[Frequency] to: kmer_cm10000/rarefied_table.qza\n",
      "Saved FeatureTable[Frequency] to: kmer_cm10000/kmer_table.qza\n",
      "Saved SampleData[AlphaDiversity] to: kmer_cm10000/observed_features_vector.qza\n",
      "Saved SampleData[AlphaDiversity] to: kmer_cm10000/shannon_vector.qza\n",
      "Saved DistanceMatrix to: kmer_cm10000/jaccard_distance_matrix.qza\n",
      "Saved DistanceMatrix to: kmer_cm10000/bray_curtis_distance_matrix.qza\n",
      "Saved PCoAResults to: kmer_cm10000/jaccard_pcoa_results.qza\n",
      "Saved PCoAResults to: kmer_cm10000/bray_curtis_pcoa_results.qza\n",
      "Saved Visualization to: kmer_cm10000/scatterplot.qzv\n",
      "Exported cm10000/bray_curtis_distance_matrix.qza as DistanceMatrixDirectoryFormat to directory cm10000/bray_curtis_distance_matrix\n",
      "Exported cm10000/jaccard_distance_matrix.qza as DistanceMatrixDirectoryFormat to directory cm10000/jaccard_distance_matrix\n",
      "Exported kmer_cm10000/bray_curtis_distance_matrix.qza as DistanceMatrixDirectoryFormat to directory kmer_cm10000/bray_curtis_distance_matrix\n",
      "Exported kmer_cm10000/jaccard_distance_matrix.qza as DistanceMatrixDirectoryFormat to directory kmer_cm10000/jaccard_distance_matrix\n",
      "Processing Lavaux_Plot_9\n",
      "Saved FeatureTable[Frequency] to: must_harvest21_Lavaux_Plot_9_filtered_table.qza\n",
      "Saved FeatureData[Sequence] to: must_harvest21_Lavaux_Plot_9_filtered_rep_seqs.qza\n",
      "Saved FeatureTable[Frequency] to: cm10000/rarefied_table.qza\n",
      "Saved SampleData[AlphaDiversity] to: cm10000/observed_features_vector.qza\n",
      "Saved SampleData[AlphaDiversity] to: cm10000/shannon_vector.qza\n",
      "Saved SampleData[AlphaDiversity] to: cm10000/evenness_vector.qza\n",
      "Saved DistanceMatrix to: cm10000/jaccard_distance_matrix.qza\n",
      "Saved DistanceMatrix to: cm10000/bray_curtis_distance_matrix.qza\n",
      "Saved PCoAResults to: cm10000/jaccard_pcoa_results.qza\n",
      "Saved PCoAResults to: cm10000/bray_curtis_pcoa_results.qza\n",
      "Saved Visualization to: cm10000/jaccard_emperor.qzv\n",
      "Saved Visualization to: cm10000/bray_curtis_emperor.qzv\n",
      "Saved FeatureTable[Frequency] to: kmer_cm10000/rarefied_table.qza\n",
      "Saved FeatureTable[Frequency] to: kmer_cm10000/kmer_table.qza\n",
      "Saved SampleData[AlphaDiversity] to: kmer_cm10000/observed_features_vector.qza\n",
      "Saved SampleData[AlphaDiversity] to: kmer_cm10000/shannon_vector.qza\n",
      "Saved DistanceMatrix to: kmer_cm10000/jaccard_distance_matrix.qza\n",
      "Saved DistanceMatrix to: kmer_cm10000/bray_curtis_distance_matrix.qza\n",
      "Saved PCoAResults to: kmer_cm10000/jaccard_pcoa_results.qza\n",
      "Saved PCoAResults to: kmer_cm10000/bray_curtis_pcoa_results.qza\n",
      "Saved Visualization to: kmer_cm10000/scatterplot.qzv\n",
      "Exported cm10000/bray_curtis_distance_matrix.qza as DistanceMatrixDirectoryFormat to directory cm10000/bray_curtis_distance_matrix\n",
      "Exported cm10000/jaccard_distance_matrix.qza as DistanceMatrixDirectoryFormat to directory cm10000/jaccard_distance_matrix\n",
      "Exported kmer_cm10000/bray_curtis_distance_matrix.qza as DistanceMatrixDirectoryFormat to directory kmer_cm10000/bray_curtis_distance_matrix\n",
      "Exported kmer_cm10000/jaccard_distance_matrix.qza as DistanceMatrixDirectoryFormat to directory kmer_cm10000/jaccard_distance_matrix\n",
      "Processing Lavaux_Plot_11\n",
      "Saved FeatureTable[Frequency] to: must_harvest21_Lavaux_Plot_11_filtered_table.qza\n",
      "Saved FeatureData[Sequence] to: must_harvest21_Lavaux_Plot_11_filtered_rep_seqs.qza\n",
      "Saved FeatureTable[Frequency] to: cm10000/rarefied_table.qza\n",
      "Saved SampleData[AlphaDiversity] to: cm10000/observed_features_vector.qza\n",
      "Saved SampleData[AlphaDiversity] to: cm10000/shannon_vector.qza\n",
      "Saved SampleData[AlphaDiversity] to: cm10000/evenness_vector.qza\n",
      "Saved DistanceMatrix to: cm10000/jaccard_distance_matrix.qza\n",
      "Saved DistanceMatrix to: cm10000/bray_curtis_distance_matrix.qza\n",
      "Saved PCoAResults to: cm10000/jaccard_pcoa_results.qza\n",
      "Saved PCoAResults to: cm10000/bray_curtis_pcoa_results.qza\n",
      "Saved Visualization to: cm10000/jaccard_emperor.qzv\n",
      "Saved Visualization to: cm10000/bray_curtis_emperor.qzv\n",
      "Saved FeatureTable[Frequency] to: kmer_cm10000/rarefied_table.qza\n",
      "Saved FeatureTable[Frequency] to: kmer_cm10000/kmer_table.qza\n",
      "Saved SampleData[AlphaDiversity] to: kmer_cm10000/observed_features_vector.qza\n",
      "Saved SampleData[AlphaDiversity] to: kmer_cm10000/shannon_vector.qza\n",
      "Saved DistanceMatrix to: kmer_cm10000/jaccard_distance_matrix.qza\n",
      "Saved DistanceMatrix to: kmer_cm10000/bray_curtis_distance_matrix.qza\n",
      "Saved PCoAResults to: kmer_cm10000/jaccard_pcoa_results.qza\n",
      "Saved PCoAResults to: kmer_cm10000/bray_curtis_pcoa_results.qza\n",
      "Saved Visualization to: kmer_cm10000/scatterplot.qzv\n",
      "Exported cm10000/bray_curtis_distance_matrix.qza as DistanceMatrixDirectoryFormat to directory cm10000/bray_curtis_distance_matrix\n",
      "Exported cm10000/jaccard_distance_matrix.qza as DistanceMatrixDirectoryFormat to directory cm10000/jaccard_distance_matrix\n",
      "Exported kmer_cm10000/bray_curtis_distance_matrix.qza as DistanceMatrixDirectoryFormat to directory kmer_cm10000/bray_curtis_distance_matrix\n",
      "Exported kmer_cm10000/jaccard_distance_matrix.qza as DistanceMatrixDirectoryFormat to directory kmer_cm10000/jaccard_distance_matrix\n",
      "Processing Lavaux_Plot_12\n",
      "Saved FeatureTable[Frequency] to: must_harvest21_Lavaux_Plot_12_filtered_table.qza\n",
      "Saved FeatureData[Sequence] to: must_harvest21_Lavaux_Plot_12_filtered_rep_seqs.qza\n",
      "Saved FeatureTable[Frequency] to: cm10000/rarefied_table.qza\n",
      "Saved SampleData[AlphaDiversity] to: cm10000/observed_features_vector.qza\n",
      "Saved SampleData[AlphaDiversity] to: cm10000/shannon_vector.qza\n",
      "Saved SampleData[AlphaDiversity] to: cm10000/evenness_vector.qza\n",
      "Saved DistanceMatrix to: cm10000/jaccard_distance_matrix.qza\n"
     ]
    },
    {
     "name": "stdout",
     "output_type": "stream",
     "text": [
      "Saved DistanceMatrix to: cm10000/bray_curtis_distance_matrix.qza\n",
      "Saved PCoAResults to: cm10000/jaccard_pcoa_results.qza\n",
      "Saved PCoAResults to: cm10000/bray_curtis_pcoa_results.qza\n",
      "Saved Visualization to: cm10000/jaccard_emperor.qzv\n",
      "Saved Visualization to: cm10000/bray_curtis_emperor.qzv\n",
      "Saved FeatureTable[Frequency] to: kmer_cm10000/rarefied_table.qza\n",
      "Saved FeatureTable[Frequency] to: kmer_cm10000/kmer_table.qza\n",
      "Saved SampleData[AlphaDiversity] to: kmer_cm10000/observed_features_vector.qza\n",
      "Saved SampleData[AlphaDiversity] to: kmer_cm10000/shannon_vector.qza\n",
      "Saved DistanceMatrix to: kmer_cm10000/jaccard_distance_matrix.qza\n",
      "Saved DistanceMatrix to: kmer_cm10000/bray_curtis_distance_matrix.qza\n",
      "Saved PCoAResults to: kmer_cm10000/jaccard_pcoa_results.qza\n",
      "Saved PCoAResults to: kmer_cm10000/bray_curtis_pcoa_results.qza\n",
      "Saved Visualization to: kmer_cm10000/scatterplot.qzv\n",
      "Exported cm10000/bray_curtis_distance_matrix.qza as DistanceMatrixDirectoryFormat to directory cm10000/bray_curtis_distance_matrix\n",
      "Exported cm10000/jaccard_distance_matrix.qza as DistanceMatrixDirectoryFormat to directory cm10000/jaccard_distance_matrix\n",
      "Exported kmer_cm10000/bray_curtis_distance_matrix.qza as DistanceMatrixDirectoryFormat to directory kmer_cm10000/bray_curtis_distance_matrix\n",
      "Exported kmer_cm10000/jaccard_distance_matrix.qza as DistanceMatrixDirectoryFormat to directory kmer_cm10000/jaccard_distance_matrix\n",
      "Processing Lavaux_Plot_13\n",
      "Saved FeatureTable[Frequency] to: must_harvest21_Lavaux_Plot_13_filtered_table.qza\n",
      "Saved FeatureData[Sequence] to: must_harvest21_Lavaux_Plot_13_filtered_rep_seqs.qza\n",
      "Saved FeatureTable[Frequency] to: cm10000/rarefied_table.qza\n",
      "Saved SampleData[AlphaDiversity] to: cm10000/observed_features_vector.qza\n",
      "Saved SampleData[AlphaDiversity] to: cm10000/shannon_vector.qza\n",
      "Saved SampleData[AlphaDiversity] to: cm10000/evenness_vector.qza\n",
      "Saved DistanceMatrix to: cm10000/jaccard_distance_matrix.qza\n",
      "Saved DistanceMatrix to: cm10000/bray_curtis_distance_matrix.qza\n",
      "Saved PCoAResults to: cm10000/jaccard_pcoa_results.qza\n",
      "Saved PCoAResults to: cm10000/bray_curtis_pcoa_results.qza\n",
      "Saved Visualization to: cm10000/jaccard_emperor.qzv\n",
      "Saved Visualization to: cm10000/bray_curtis_emperor.qzv\n",
      "Saved FeatureTable[Frequency] to: kmer_cm10000/rarefied_table.qza\n",
      "Saved FeatureTable[Frequency] to: kmer_cm10000/kmer_table.qza\n",
      "Saved SampleData[AlphaDiversity] to: kmer_cm10000/observed_features_vector.qza\n",
      "Saved SampleData[AlphaDiversity] to: kmer_cm10000/shannon_vector.qza\n",
      "Saved DistanceMatrix to: kmer_cm10000/jaccard_distance_matrix.qza\n",
      "Saved DistanceMatrix to: kmer_cm10000/bray_curtis_distance_matrix.qza\n",
      "Saved PCoAResults to: kmer_cm10000/jaccard_pcoa_results.qza\n",
      "Saved PCoAResults to: kmer_cm10000/bray_curtis_pcoa_results.qza\n",
      "Saved Visualization to: kmer_cm10000/scatterplot.qzv\n",
      "Exported cm10000/bray_curtis_distance_matrix.qza as DistanceMatrixDirectoryFormat to directory cm10000/bray_curtis_distance_matrix\n",
      "Exported cm10000/jaccard_distance_matrix.qza as DistanceMatrixDirectoryFormat to directory cm10000/jaccard_distance_matrix\n",
      "Exported kmer_cm10000/bray_curtis_distance_matrix.qza as DistanceMatrixDirectoryFormat to directory kmer_cm10000/bray_curtis_distance_matrix\n",
      "Exported kmer_cm10000/jaccard_distance_matrix.qza as DistanceMatrixDirectoryFormat to directory kmer_cm10000/jaccard_distance_matrix\n",
      "Processing Lavaux_Plot_14\n",
      "Saved FeatureTable[Frequency] to: must_harvest21_Lavaux_Plot_14_filtered_table.qza\n",
      "Saved FeatureData[Sequence] to: must_harvest21_Lavaux_Plot_14_filtered_rep_seqs.qza\n",
      "Saved FeatureTable[Frequency] to: cm10000/rarefied_table.qza\n",
      "Saved SampleData[AlphaDiversity] to: cm10000/observed_features_vector.qza\n",
      "Saved SampleData[AlphaDiversity] to: cm10000/shannon_vector.qza\n",
      "Saved SampleData[AlphaDiversity] to: cm10000/evenness_vector.qza\n",
      "Saved DistanceMatrix to: cm10000/jaccard_distance_matrix.qza\n",
      "Saved DistanceMatrix to: cm10000/bray_curtis_distance_matrix.qza\n",
      "Saved PCoAResults to: cm10000/jaccard_pcoa_results.qza\n",
      "Saved PCoAResults to: cm10000/bray_curtis_pcoa_results.qza\n",
      "Saved Visualization to: cm10000/jaccard_emperor.qzv\n",
      "Saved Visualization to: cm10000/bray_curtis_emperor.qzv\n",
      "Saved FeatureTable[Frequency] to: kmer_cm10000/rarefied_table.qza\n",
      "Saved FeatureTable[Frequency] to: kmer_cm10000/kmer_table.qza\n",
      "Saved SampleData[AlphaDiversity] to: kmer_cm10000/observed_features_vector.qza\n",
      "Saved SampleData[AlphaDiversity] to: kmer_cm10000/shannon_vector.qza\n",
      "Saved DistanceMatrix to: kmer_cm10000/jaccard_distance_matrix.qza\n",
      "Saved DistanceMatrix to: kmer_cm10000/bray_curtis_distance_matrix.qza\n",
      "Saved PCoAResults to: kmer_cm10000/jaccard_pcoa_results.qza\n",
      "Saved PCoAResults to: kmer_cm10000/bray_curtis_pcoa_results.qza\n",
      "Saved Visualization to: kmer_cm10000/scatterplot.qzv\n",
      "Exported cm10000/bray_curtis_distance_matrix.qza as DistanceMatrixDirectoryFormat to directory cm10000/bray_curtis_distance_matrix\n",
      "Exported cm10000/jaccard_distance_matrix.qza as DistanceMatrixDirectoryFormat to directory cm10000/jaccard_distance_matrix\n",
      "Exported kmer_cm10000/bray_curtis_distance_matrix.qza as DistanceMatrixDirectoryFormat to directory kmer_cm10000/bray_curtis_distance_matrix\n",
      "Exported kmer_cm10000/jaccard_distance_matrix.qza as DistanceMatrixDirectoryFormat to directory kmer_cm10000/jaccard_distance_matrix\n",
      "Processing Lavaux_Plot_15\n",
      "Saved FeatureTable[Frequency] to: must_harvest21_Lavaux_Plot_15_filtered_table.qza\n",
      "Saved FeatureData[Sequence] to: must_harvest21_Lavaux_Plot_15_filtered_rep_seqs.qza\n",
      "Saved FeatureTable[Frequency] to: cm10000/rarefied_table.qza\n",
      "Saved SampleData[AlphaDiversity] to: cm10000/observed_features_vector.qza\n",
      "Saved SampleData[AlphaDiversity] to: cm10000/shannon_vector.qza\n",
      "Saved SampleData[AlphaDiversity] to: cm10000/evenness_vector.qza\n",
      "Saved DistanceMatrix to: cm10000/jaccard_distance_matrix.qza\n",
      "Saved DistanceMatrix to: cm10000/bray_curtis_distance_matrix.qza\n",
      "Saved PCoAResults to: cm10000/jaccard_pcoa_results.qza\n",
      "Saved PCoAResults to: cm10000/bray_curtis_pcoa_results.qza\n",
      "Saved Visualization to: cm10000/jaccard_emperor.qzv\n",
      "Saved Visualization to: cm10000/bray_curtis_emperor.qzv\n",
      "Saved FeatureTable[Frequency] to: kmer_cm10000/rarefied_table.qza\n",
      "Saved FeatureTable[Frequency] to: kmer_cm10000/kmer_table.qza\n",
      "Saved SampleData[AlphaDiversity] to: kmer_cm10000/observed_features_vector.qza\n",
      "Saved SampleData[AlphaDiversity] to: kmer_cm10000/shannon_vector.qza\n",
      "Saved DistanceMatrix to: kmer_cm10000/jaccard_distance_matrix.qza\n",
      "Saved DistanceMatrix to: kmer_cm10000/bray_curtis_distance_matrix.qza\n",
      "Saved PCoAResults to: kmer_cm10000/jaccard_pcoa_results.qza\n",
      "Saved PCoAResults to: kmer_cm10000/bray_curtis_pcoa_results.qza\n",
      "Saved Visualization to: kmer_cm10000/scatterplot.qzv\n",
      "Exported cm10000/bray_curtis_distance_matrix.qza as DistanceMatrixDirectoryFormat to directory cm10000/bray_curtis_distance_matrix\n",
      "Exported cm10000/jaccard_distance_matrix.qza as DistanceMatrixDirectoryFormat to directory cm10000/jaccard_distance_matrix\n",
      "Exported kmer_cm10000/bray_curtis_distance_matrix.qza as DistanceMatrixDirectoryFormat to directory kmer_cm10000/bray_curtis_distance_matrix\n",
      "Exported kmer_cm10000/jaccard_distance_matrix.qza as DistanceMatrixDirectoryFormat to directory kmer_cm10000/jaccard_distance_matrix\n",
      "Processing Lavaux_Plot_18\n",
      "Saved FeatureTable[Frequency] to: must_harvest21_Lavaux_Plot_18_filtered_table.qza\n",
      "Saved FeatureData[Sequence] to: must_harvest21_Lavaux_Plot_18_filtered_rep_seqs.qza\n",
      "Saved FeatureTable[Frequency] to: cm10000/rarefied_table.qza\n",
      "Saved SampleData[AlphaDiversity] to: cm10000/observed_features_vector.qza\n",
      "Saved SampleData[AlphaDiversity] to: cm10000/shannon_vector.qza\n",
      "Saved SampleData[AlphaDiversity] to: cm10000/evenness_vector.qza\n",
      "Saved DistanceMatrix to: cm10000/jaccard_distance_matrix.qza\n",
      "Saved DistanceMatrix to: cm10000/bray_curtis_distance_matrix.qza\n",
      "Saved PCoAResults to: cm10000/jaccard_pcoa_results.qza\n",
      "Saved PCoAResults to: cm10000/bray_curtis_pcoa_results.qza\n",
      "Saved Visualization to: cm10000/jaccard_emperor.qzv\n",
      "Saved Visualization to: cm10000/bray_curtis_emperor.qzv\n",
      "Saved FeatureTable[Frequency] to: kmer_cm10000/rarefied_table.qza\n",
      "Saved FeatureTable[Frequency] to: kmer_cm10000/kmer_table.qza\n",
      "Saved SampleData[AlphaDiversity] to: kmer_cm10000/observed_features_vector.qza\n",
      "Saved SampleData[AlphaDiversity] to: kmer_cm10000/shannon_vector.qza\n"
     ]
    },
    {
     "name": "stdout",
     "output_type": "stream",
     "text": [
      "Saved DistanceMatrix to: kmer_cm10000/jaccard_distance_matrix.qza\n",
      "Saved DistanceMatrix to: kmer_cm10000/bray_curtis_distance_matrix.qza\n",
      "Saved PCoAResults to: kmer_cm10000/jaccard_pcoa_results.qza\n",
      "Saved PCoAResults to: kmer_cm10000/bray_curtis_pcoa_results.qza\n",
      "Saved Visualization to: kmer_cm10000/scatterplot.qzv\n",
      "Exported cm10000/bray_curtis_distance_matrix.qza as DistanceMatrixDirectoryFormat to directory cm10000/bray_curtis_distance_matrix\n",
      "Exported cm10000/jaccard_distance_matrix.qza as DistanceMatrixDirectoryFormat to directory cm10000/jaccard_distance_matrix\n",
      "Exported kmer_cm10000/bray_curtis_distance_matrix.qza as DistanceMatrixDirectoryFormat to directory kmer_cm10000/bray_curtis_distance_matrix\n",
      "Exported kmer_cm10000/jaccard_distance_matrix.qza as DistanceMatrixDirectoryFormat to directory kmer_cm10000/jaccard_distance_matrix\n",
      "Processing Lavaux_Plot_19\n",
      "Saved FeatureTable[Frequency] to: must_harvest21_Lavaux_Plot_19_filtered_table.qza\n",
      "Saved FeatureData[Sequence] to: must_harvest21_Lavaux_Plot_19_filtered_rep_seqs.qza\n",
      "Saved FeatureTable[Frequency] to: cm10000/rarefied_table.qza\n",
      "Saved SampleData[AlphaDiversity] to: cm10000/observed_features_vector.qza\n",
      "Saved SampleData[AlphaDiversity] to: cm10000/shannon_vector.qza\n",
      "Saved SampleData[AlphaDiversity] to: cm10000/evenness_vector.qza\n",
      "Saved DistanceMatrix to: cm10000/jaccard_distance_matrix.qza\n",
      "Saved DistanceMatrix to: cm10000/bray_curtis_distance_matrix.qza\n",
      "Saved PCoAResults to: cm10000/jaccard_pcoa_results.qza\n",
      "Saved PCoAResults to: cm10000/bray_curtis_pcoa_results.qza\n",
      "Saved Visualization to: cm10000/jaccard_emperor.qzv\n",
      "Saved Visualization to: cm10000/bray_curtis_emperor.qzv\n",
      "Saved FeatureTable[Frequency] to: kmer_cm10000/rarefied_table.qza\n",
      "Saved FeatureTable[Frequency] to: kmer_cm10000/kmer_table.qza\n",
      "Saved SampleData[AlphaDiversity] to: kmer_cm10000/observed_features_vector.qza\n",
      "Saved SampleData[AlphaDiversity] to: kmer_cm10000/shannon_vector.qza\n",
      "Saved DistanceMatrix to: kmer_cm10000/jaccard_distance_matrix.qza\n",
      "Saved DistanceMatrix to: kmer_cm10000/bray_curtis_distance_matrix.qza\n",
      "Saved PCoAResults to: kmer_cm10000/jaccard_pcoa_results.qza\n",
      "Saved PCoAResults to: kmer_cm10000/bray_curtis_pcoa_results.qza\n",
      "Saved Visualization to: kmer_cm10000/scatterplot.qzv\n",
      "Exported cm10000/bray_curtis_distance_matrix.qza as DistanceMatrixDirectoryFormat to directory cm10000/bray_curtis_distance_matrix\n",
      "Exported cm10000/jaccard_distance_matrix.qza as DistanceMatrixDirectoryFormat to directory cm10000/jaccard_distance_matrix\n",
      "Exported kmer_cm10000/bray_curtis_distance_matrix.qza as DistanceMatrixDirectoryFormat to directory kmer_cm10000/bray_curtis_distance_matrix\n",
      "Exported kmer_cm10000/jaccard_distance_matrix.qza as DistanceMatrixDirectoryFormat to directory kmer_cm10000/jaccard_distance_matrix\n",
      "Processing Lavaux_Plot_20\n",
      "Saved FeatureTable[Frequency] to: must_harvest21_Lavaux_Plot_20_filtered_table.qza\n",
      "Saved FeatureData[Sequence] to: must_harvest21_Lavaux_Plot_20_filtered_rep_seqs.qza\n",
      "Saved FeatureTable[Frequency] to: cm10000/rarefied_table.qza\n",
      "Saved SampleData[AlphaDiversity] to: cm10000/observed_features_vector.qza\n",
      "Saved SampleData[AlphaDiversity] to: cm10000/shannon_vector.qza\n",
      "Saved SampleData[AlphaDiversity] to: cm10000/evenness_vector.qza\n",
      "Saved DistanceMatrix to: cm10000/jaccard_distance_matrix.qza\n",
      "Saved DistanceMatrix to: cm10000/bray_curtis_distance_matrix.qza\n",
      "Saved PCoAResults to: cm10000/jaccard_pcoa_results.qza\n",
      "Saved PCoAResults to: cm10000/bray_curtis_pcoa_results.qza\n",
      "Saved Visualization to: cm10000/jaccard_emperor.qzv\n",
      "Saved Visualization to: cm10000/bray_curtis_emperor.qzv\n",
      "Saved FeatureTable[Frequency] to: kmer_cm10000/rarefied_table.qza\n",
      "Saved FeatureTable[Frequency] to: kmer_cm10000/kmer_table.qza\n",
      "Saved SampleData[AlphaDiversity] to: kmer_cm10000/observed_features_vector.qza\n",
      "Saved SampleData[AlphaDiversity] to: kmer_cm10000/shannon_vector.qza\n",
      "Saved DistanceMatrix to: kmer_cm10000/jaccard_distance_matrix.qza\n",
      "Saved DistanceMatrix to: kmer_cm10000/bray_curtis_distance_matrix.qza\n",
      "Saved PCoAResults to: kmer_cm10000/jaccard_pcoa_results.qza\n",
      "Saved PCoAResults to: kmer_cm10000/bray_curtis_pcoa_results.qza\n",
      "Saved Visualization to: kmer_cm10000/scatterplot.qzv\n",
      "Exported cm10000/bray_curtis_distance_matrix.qza as DistanceMatrixDirectoryFormat to directory cm10000/bray_curtis_distance_matrix\n",
      "Exported cm10000/jaccard_distance_matrix.qza as DistanceMatrixDirectoryFormat to directory cm10000/jaccard_distance_matrix\n",
      "Exported kmer_cm10000/bray_curtis_distance_matrix.qza as DistanceMatrixDirectoryFormat to directory kmer_cm10000/bray_curtis_distance_matrix\n",
      "Exported kmer_cm10000/jaccard_distance_matrix.qza as DistanceMatrixDirectoryFormat to directory kmer_cm10000/jaccard_distance_matrix\n",
      "Processing Lavaux_Plot_17\n",
      "Saved FeatureTable[Frequency] to: must_harvest21_Lavaux_Plot_17_filtered_table.qza\n",
      "Saved FeatureData[Sequence] to: must_harvest21_Lavaux_Plot_17_filtered_rep_seqs.qza\n",
      "Saved FeatureTable[Frequency] to: cm10000/rarefied_table.qza\n",
      "Saved SampleData[AlphaDiversity] to: cm10000/observed_features_vector.qza\n",
      "Saved SampleData[AlphaDiversity] to: cm10000/shannon_vector.qza\n",
      "Saved SampleData[AlphaDiversity] to: cm10000/evenness_vector.qza\n",
      "Saved DistanceMatrix to: cm10000/jaccard_distance_matrix.qza\n",
      "Saved DistanceMatrix to: cm10000/bray_curtis_distance_matrix.qza\n",
      "Saved PCoAResults to: cm10000/jaccard_pcoa_results.qza\n",
      "Saved PCoAResults to: cm10000/bray_curtis_pcoa_results.qza\n",
      "Saved Visualization to: cm10000/jaccard_emperor.qzv\n",
      "Saved Visualization to: cm10000/bray_curtis_emperor.qzv\n",
      "Saved FeatureTable[Frequency] to: kmer_cm10000/rarefied_table.qza\n",
      "Saved FeatureTable[Frequency] to: kmer_cm10000/kmer_table.qza\n",
      "Saved SampleData[AlphaDiversity] to: kmer_cm10000/observed_features_vector.qza\n",
      "Saved SampleData[AlphaDiversity] to: kmer_cm10000/shannon_vector.qza\n",
      "Saved DistanceMatrix to: kmer_cm10000/jaccard_distance_matrix.qza\n",
      "Saved DistanceMatrix to: kmer_cm10000/bray_curtis_distance_matrix.qza\n",
      "Saved PCoAResults to: kmer_cm10000/jaccard_pcoa_results.qza\n",
      "Saved PCoAResults to: kmer_cm10000/bray_curtis_pcoa_results.qza\n",
      "Saved Visualization to: kmer_cm10000/scatterplot.qzv\n",
      "Exported cm10000/bray_curtis_distance_matrix.qza as DistanceMatrixDirectoryFormat to directory cm10000/bray_curtis_distance_matrix\n",
      "Exported cm10000/jaccard_distance_matrix.qza as DistanceMatrixDirectoryFormat to directory cm10000/jaccard_distance_matrix\n",
      "Exported kmer_cm10000/bray_curtis_distance_matrix.qza as DistanceMatrixDirectoryFormat to directory kmer_cm10000/bray_curtis_distance_matrix\n",
      "Exported kmer_cm10000/jaccard_distance_matrix.qza as DistanceMatrixDirectoryFormat to directory kmer_cm10000/jaccard_distance_matrix\n"
     ]
    }
   ],
   "source": [
    "%%bash \n",
    "\n",
    "# Define the list of plots\n",
    "plots=('Lavaux_Plot_4' 'Lavaux_Plot_5' 'Lavaux_Plot_9' \n",
    "       'Lavaux_Plot_11' 'Lavaux_Plot_12' 'Lavaux_Plot_13' \n",
    "       'Lavaux_Plot_14' 'Lavaux_Plot_15' 'Lavaux_Plot_18' \n",
    "       'Lavaux_Plot_19' 'Lavaux_Plot_20' 'Lavaux_Plot_17')\n",
    "\n",
    "# Loop through each plot\n",
    "for plot in \"${plots[@]}\"\n",
    "do \n",
    "    echo \"Processing $plot\"\n",
    "    \n",
    "    # Create directory for the plot and navigate into it\n",
    "    mkdir -p \"./$plot\"\n",
    "    pushd \"./$plot\" > /dev/null\n",
    "\n",
    "    # Filter table and rep seqs\n",
    "    qiime feature-table filter-samples \\\n",
    "      --i-table /home/lfloerl/cloud/lfloerl/Microterroir/artifacts/ITS/lavaux/must_harvest21_filtered_table.qza \\\n",
    "      --m-metadata-file /home/lfloerl/microterroir/Microbiome/Metadata/ITS_lavaux.tsv \\\n",
    "      --p-where \"[Plot_ID]='$plot'\" \\\n",
    "      --o-filtered-table must_harvest21_${plot}_filtered_table.qza\n",
    "\n",
    "    qiime feature-table filter-seqs \\\n",
    "        --i-data /home/lfloerl/cloud/lfloerl/Microterroir/artifacts/Sven-denoising-test/ITS/revcomp-trimmed-denoised/with-adjusted-parameters/ITS-revcomp-trimmed-ER-0.05-denoised-trunc-190-PFA-4.0-maxee-4.0-rep-seqs.qza \\\n",
    "        --i-table must_harvest21_${plot}_filtered_table.qza \\\n",
    "        --o-filtered-data must_harvest21_${plot}_filtered_rep_seqs.qza\n",
    "\n",
    "    # Core diversity metrics\n",
    "    qiime diversity core-metrics \\\n",
    "        --i-table must_harvest21_${plot}_filtered_table.qza \\\n",
    "        --p-sampling-depth 10000 \\\n",
    "        --m-metadata-file /home/lfloerl/microterroir/Microbiome/Metadata/ITS_lavaux_Harvest21.tsv \\\n",
    "        --p-n-jobs 10 \\\n",
    "        --output-dir cm10000/\n",
    "\n",
    "    # Kmer diversity\n",
    "    qiime kmerizer core-metrics \\\n",
    "        --i-sequences must_harvest21_${plot}_filtered_rep_seqs.qza \\\n",
    "        --i-table must_harvest21_${plot}_filtered_table.qza \\\n",
    "        --p-sampling-depth 10000 \\\n",
    "        --m-metadata-file /home/lfloerl/microterroir/Microbiome/Metadata/ITS_lavaux_Harvest21.tsv \\\n",
    "        --p-n-jobs auto \\\n",
    "        --output-dir kmer_cm10000/\n",
    "\n",
    "    # Export all distance matrics for Mantel \n",
    "    qiime tools export --input-path cm10000/bray_curtis_distance_matrix.qza --output-path cm10000/bray_curtis_distance_matrix\n",
    "    qiime tools export --input-path cm10000/jaccard_distance_matrix.qza --output-path cm10000/jaccard_distance_matrix\n",
    "    qiime tools export --input-path kmer_cm10000/bray_curtis_distance_matrix.qza --output-path kmer_cm10000/bray_curtis_distance_matrix\n",
    "    qiime tools export --input-path kmer_cm10000/jaccard_distance_matrix.qza --output-path kmer_cm10000/jaccard_distance_matrix\n",
    "\n",
    "    # Return to the parent directory\n",
    "    popd > /dev/null\n",
    "done\n"
   ]
  },
  {
   "cell_type": "markdown",
   "id": "c3eb4599",
   "metadata": {},
   "source": [
    "###  Mantel tests "
   ]
  },
  {
   "cell_type": "code",
   "execution_count": 20,
   "id": "4fb650e7",
   "metadata": {},
   "outputs": [
    {
     "name": "stdout",
     "output_type": "stream",
     "text": [
      "distance-matrix.tsv\r\n"
     ]
    }
   ],
   "source": [
    "!ls geodesic_distance_ITS_HR/"
   ]
  },
  {
   "cell_type": "code",
   "execution_count": 21,
   "id": "8a75210e",
   "metadata": {
    "scrolled": true
   },
   "outputs": [
    {
     "name": "stdout",
     "output_type": "stream",
     "text": [
      "                                                    Test Mantel_statistic_r\n",
      "1      Lavaux_Plot_4/cm10000-bray_curtis_distance_matrix        -0.01461738\n",
      "2          Lavaux_Plot_4/cm10000-jaccard_distance_matrix        -0.03875348\n",
      "3 Lavaux_Plot_4/kmer_cm10000-bray_curtis_distance_matrix        -0.01852599\n",
      "4     Lavaux_Plot_4/kmer_cm10000-jaccard_distance_matrix        -0.08090353\n",
      "  Significance\n",
      "1        0.531\n",
      "2        0.712\n",
      "3        0.559\n",
      "4        0.837\n",
      "                                                    Test Mantel_statistic_r\n",
      "1      Lavaux_Plot_5/cm10000-bray_curtis_distance_matrix         0.03276169\n",
      "2          Lavaux_Plot_5/cm10000-jaccard_distance_matrix        -0.16853754\n",
      "3 Lavaux_Plot_5/kmer_cm10000-bray_curtis_distance_matrix         0.07452180\n",
      "4     Lavaux_Plot_5/kmer_cm10000-jaccard_distance_matrix        -0.24078233\n",
      "  Significance\n",
      "1        0.378\n",
      "2        0.916\n",
      "3        0.262\n",
      "4        0.999\n",
      "                                                    Test Mantel_statistic_r\n",
      "1      Lavaux_Plot_9/cm10000-bray_curtis_distance_matrix         0.11736117\n",
      "2          Lavaux_Plot_9/cm10000-jaccard_distance_matrix         0.02995167\n",
      "3 Lavaux_Plot_9/kmer_cm10000-bray_curtis_distance_matrix         0.03137523\n",
      "4     Lavaux_Plot_9/kmer_cm10000-jaccard_distance_matrix        -0.08308204\n",
      "  Significance\n",
      "1        0.101\n",
      "2        0.378\n",
      "3        0.338\n",
      "4        0.836\n",
      "                                                     Test Mantel_statistic_r\n",
      "1      Lavaux_Plot_11/cm10000-bray_curtis_distance_matrix        -0.10503521\n",
      "2          Lavaux_Plot_11/cm10000-jaccard_distance_matrix        -0.19135816\n",
      "3 Lavaux_Plot_11/kmer_cm10000-bray_curtis_distance_matrix        -0.05663810\n",
      "4     Lavaux_Plot_11/kmer_cm10000-jaccard_distance_matrix        -0.01767858\n",
      "  Significance\n",
      "1        0.900\n",
      "2        0.994\n",
      "3        0.736\n",
      "4        0.571\n",
      "                                                     Test Mantel_statistic_r\n",
      "1      Lavaux_Plot_12/cm10000-bray_curtis_distance_matrix       -0.044695070\n",
      "2          Lavaux_Plot_12/cm10000-jaccard_distance_matrix       -0.056076639\n",
      "3 Lavaux_Plot_12/kmer_cm10000-bray_curtis_distance_matrix       -0.009326845\n",
      "4     Lavaux_Plot_12/kmer_cm10000-jaccard_distance_matrix       -0.076007824\n",
      "  Significance\n",
      "1        0.647\n",
      "2        0.672\n",
      "3        0.493\n",
      "4        0.705\n",
      "                                                     Test Mantel_statistic_r\n",
      "1      Lavaux_Plot_13/cm10000-bray_curtis_distance_matrix         0.11299871\n",
      "2          Lavaux_Plot_13/cm10000-jaccard_distance_matrix         0.27172094\n",
      "3 Lavaux_Plot_13/kmer_cm10000-bray_curtis_distance_matrix         0.23629344\n",
      "4     Lavaux_Plot_13/kmer_cm10000-jaccard_distance_matrix         0.07284427\n",
      "  Significance\n",
      "1        0.263\n",
      "2        0.055\n",
      "3        0.075\n",
      "4        0.334\n",
      "                                                     Test Mantel_statistic_r\n",
      "1      Lavaux_Plot_14/cm10000-bray_curtis_distance_matrix          0.3450739\n",
      "2          Lavaux_Plot_14/cm10000-jaccard_distance_matrix          0.2222222\n",
      "3 Lavaux_Plot_14/kmer_cm10000-bray_curtis_distance_matrix          0.3084204\n",
      "4     Lavaux_Plot_14/kmer_cm10000-jaccard_distance_matrix          0.0526931\n",
      "  Significance\n",
      "1        0.001\n",
      "2        0.027\n",
      "3        0.010\n",
      "4        0.285\n",
      "                                                     Test Mantel_statistic_r\n",
      "1      Lavaux_Plot_15/cm10000-bray_curtis_distance_matrix        -0.05989031\n",
      "2          Lavaux_Plot_15/cm10000-jaccard_distance_matrix         0.05183447\n",
      "3 Lavaux_Plot_15/kmer_cm10000-bray_curtis_distance_matrix        -0.01202279\n",
      "4     Lavaux_Plot_15/kmer_cm10000-jaccard_distance_matrix         0.10184109\n",
      "  Significance\n",
      "1        0.769\n",
      "2        0.216\n",
      "3        0.536\n",
      "4        0.075\n",
      "                                                     Test Mantel_statistic_r\n",
      "1      Lavaux_Plot_18/cm10000-bray_curtis_distance_matrix        -0.19835256\n",
      "2          Lavaux_Plot_18/cm10000-jaccard_distance_matrix        -0.06945177\n",
      "3 Lavaux_Plot_18/kmer_cm10000-bray_curtis_distance_matrix        -0.16455863\n",
      "4     Lavaux_Plot_18/kmer_cm10000-jaccard_distance_matrix        -0.13056653\n",
      "  Significance\n",
      "1        0.836\n",
      "2        0.623\n",
      "3        0.785\n",
      "4        0.756\n"
     ]
    },
    {
     "name": "stderr",
     "output_type": "stream",
     "text": [
      "'nperm' >= set of all permutations: complete enumeration.\n",
      "Set of permutations < 'minperm'. Generating entire set.\n",
      "'nperm' >= set of all permutations: complete enumeration.\n",
      "Set of permutations < 'minperm'. Generating entire set.\n",
      "'nperm' >= set of all permutations: complete enumeration.\n",
      "Set of permutations < 'minperm'. Generating entire set.\n",
      "'nperm' >= set of all permutations: complete enumeration.\n",
      "Set of permutations < 'minperm'. Generating entire set.\n"
     ]
    },
    {
     "name": "stdout",
     "output_type": "stream",
     "text": [
      "                                                     Test Mantel_statistic_r\n",
      "1      Lavaux_Plot_19/cm10000-bray_curtis_distance_matrix          0.4857143\n",
      "2          Lavaux_Plot_19/cm10000-jaccard_distance_matrix         -0.7142857\n",
      "3 Lavaux_Plot_19/kmer_cm10000-bray_curtis_distance_matrix          0.4857143\n",
      "4     Lavaux_Plot_19/kmer_cm10000-jaccard_distance_matrix          0.1428571\n",
      "  Significance\n",
      "1    0.1666667\n",
      "2    1.0000000\n",
      "3    0.1666667\n",
      "4    0.5000000\n",
      "                                                     Test Mantel_statistic_r\n",
      "1      Lavaux_Plot_20/cm10000-bray_curtis_distance_matrix        0.035579552\n",
      "2          Lavaux_Plot_20/cm10000-jaccard_distance_matrix        0.009441774\n",
      "3 Lavaux_Plot_20/kmer_cm10000-bray_curtis_distance_matrix       -0.085800015\n",
      "4     Lavaux_Plot_20/kmer_cm10000-jaccard_distance_matrix        0.137162277\n",
      "  Significance\n",
      "1        0.383\n",
      "2        0.469\n",
      "3        0.789\n",
      "4        0.101\n",
      "                                                     Test Mantel_statistic_r\n",
      "1      Lavaux_Plot_17/cm10000-bray_curtis_distance_matrix         0.06494321\n",
      "2          Lavaux_Plot_17/cm10000-jaccard_distance_matrix         0.05799289\n",
      "3 Lavaux_Plot_17/kmer_cm10000-bray_curtis_distance_matrix         0.09096130\n",
      "4     Lavaux_Plot_17/kmer_cm10000-jaccard_distance_matrix         0.11596041\n",
      "  Significance\n",
      "1        0.105\n",
      "2        0.142\n",
      "3        0.060\n",
      "4        0.031\n"
     ]
    }
   ],
   "source": [
    "%%bash\n",
    "folders=('Lavaux_Plot_4' 'Lavaux_Plot_5' 'Lavaux_Plot_9' \n",
    "       'Lavaux_Plot_11' 'Lavaux_Plot_12' 'Lavaux_Plot_13' \n",
    "       'Lavaux_Plot_14' 'Lavaux_Plot_15' 'Lavaux_Plot_18' \n",
    "       'Lavaux_Plot_19' 'Lavaux_Plot_20' 'Lavaux_Plot_17')\n",
    "\n",
    "geodesic_path='geodesic_distance_ITS_HR/distance-matrix.tsv'\n",
    "\n",
    "for folder in \"${folders[@]}\"\n",
    "do\n",
    "    folder_path_1=\"$folder/cm10000\"\n",
    "    folder_path_2=\"$folder/kmer_cm10000\"\n",
    "\n",
    "    # Call the R script and pass folder paths and geodesic matrix\n",
    "    Rscript /home/lfloerl/microterroir/Microbiome/Other_scripts/mantel_test.R \"$folder_path_1\" \"$folder_path_2\" \"$geodesic_path\"\n",
    "done"
   ]
  },
  {
   "cell_type": "code",
   "execution_count": 24,
   "id": "d976e467",
   "metadata": {},
   "outputs": [
    {
     "data": {
      "text/html": [
       "<div>\n",
       "<style scoped>\n",
       "    .dataframe tbody tr th:only-of-type {\n",
       "        vertical-align: middle;\n",
       "    }\n",
       "\n",
       "    .dataframe tbody tr th {\n",
       "        vertical-align: top;\n",
       "    }\n",
       "\n",
       "    .dataframe thead th {\n",
       "        text-align: right;\n",
       "    }\n",
       "</style>\n",
       "<table border=\"1\" class=\"dataframe\">\n",
       "  <thead>\n",
       "    <tr style=\"text-align: right;\">\n",
       "      <th></th>\n",
       "      <th>Main_Folder</th>\n",
       "      <th>Subfolder</th>\n",
       "      <th>Distance_Matrix</th>\n",
       "      <th>Mantel_statistic_r</th>\n",
       "      <th>Significance</th>\n",
       "    </tr>\n",
       "  </thead>\n",
       "  <tbody>\n",
       "    <tr>\n",
       "      <th>0</th>\n",
       "      <td>Lavaux_Plot_4</td>\n",
       "      <td>kmer_cm10000</td>\n",
       "      <td>jaccard_distance_matrix</td>\n",
       "      <td>-0.014617</td>\n",
       "      <td>0.531000</td>\n",
       "    </tr>\n",
       "    <tr>\n",
       "      <th>1</th>\n",
       "      <td>Lavaux_Plot_4</td>\n",
       "      <td>kmer_cm10000</td>\n",
       "      <td>jaccard_distance_matrix</td>\n",
       "      <td>-0.038753</td>\n",
       "      <td>0.712000</td>\n",
       "    </tr>\n",
       "    <tr>\n",
       "      <th>2</th>\n",
       "      <td>Lavaux_Plot_4</td>\n",
       "      <td>kmer_cm10000</td>\n",
       "      <td>jaccard_distance_matrix</td>\n",
       "      <td>-0.018526</td>\n",
       "      <td>0.559000</td>\n",
       "    </tr>\n",
       "    <tr>\n",
       "      <th>3</th>\n",
       "      <td>Lavaux_Plot_4</td>\n",
       "      <td>kmer_cm10000</td>\n",
       "      <td>jaccard_distance_matrix</td>\n",
       "      <td>-0.080904</td>\n",
       "      <td>0.837000</td>\n",
       "    </tr>\n",
       "    <tr>\n",
       "      <th>4</th>\n",
       "      <td>Lavaux_Plot_5</td>\n",
       "      <td>kmer_cm10000</td>\n",
       "      <td>jaccard_distance_matrix</td>\n",
       "      <td>0.032762</td>\n",
       "      <td>0.378000</td>\n",
       "    </tr>\n",
       "    <tr>\n",
       "      <th>5</th>\n",
       "      <td>Lavaux_Plot_5</td>\n",
       "      <td>kmer_cm10000</td>\n",
       "      <td>jaccard_distance_matrix</td>\n",
       "      <td>-0.168538</td>\n",
       "      <td>0.916000</td>\n",
       "    </tr>\n",
       "    <tr>\n",
       "      <th>6</th>\n",
       "      <td>Lavaux_Plot_5</td>\n",
       "      <td>kmer_cm10000</td>\n",
       "      <td>jaccard_distance_matrix</td>\n",
       "      <td>0.074522</td>\n",
       "      <td>0.262000</td>\n",
       "    </tr>\n",
       "    <tr>\n",
       "      <th>7</th>\n",
       "      <td>Lavaux_Plot_5</td>\n",
       "      <td>kmer_cm10000</td>\n",
       "      <td>jaccard_distance_matrix</td>\n",
       "      <td>-0.240782</td>\n",
       "      <td>0.999000</td>\n",
       "    </tr>\n",
       "    <tr>\n",
       "      <th>8</th>\n",
       "      <td>Lavaux_Plot_9</td>\n",
       "      <td>kmer_cm10000</td>\n",
       "      <td>jaccard_distance_matrix</td>\n",
       "      <td>0.117361</td>\n",
       "      <td>0.101000</td>\n",
       "    </tr>\n",
       "    <tr>\n",
       "      <th>9</th>\n",
       "      <td>Lavaux_Plot_9</td>\n",
       "      <td>kmer_cm10000</td>\n",
       "      <td>jaccard_distance_matrix</td>\n",
       "      <td>0.029952</td>\n",
       "      <td>0.378000</td>\n",
       "    </tr>\n",
       "    <tr>\n",
       "      <th>10</th>\n",
       "      <td>Lavaux_Plot_9</td>\n",
       "      <td>kmer_cm10000</td>\n",
       "      <td>jaccard_distance_matrix</td>\n",
       "      <td>0.031375</td>\n",
       "      <td>0.338000</td>\n",
       "    </tr>\n",
       "    <tr>\n",
       "      <th>11</th>\n",
       "      <td>Lavaux_Plot_9</td>\n",
       "      <td>kmer_cm10000</td>\n",
       "      <td>jaccard_distance_matrix</td>\n",
       "      <td>-0.083082</td>\n",
       "      <td>0.836000</td>\n",
       "    </tr>\n",
       "    <tr>\n",
       "      <th>12</th>\n",
       "      <td>Lavaux_Plot_11</td>\n",
       "      <td>kmer_cm10000</td>\n",
       "      <td>jaccard_distance_matrix</td>\n",
       "      <td>-0.105035</td>\n",
       "      <td>0.900000</td>\n",
       "    </tr>\n",
       "    <tr>\n",
       "      <th>13</th>\n",
       "      <td>Lavaux_Plot_11</td>\n",
       "      <td>kmer_cm10000</td>\n",
       "      <td>jaccard_distance_matrix</td>\n",
       "      <td>-0.191358</td>\n",
       "      <td>0.994000</td>\n",
       "    </tr>\n",
       "    <tr>\n",
       "      <th>14</th>\n",
       "      <td>Lavaux_Plot_11</td>\n",
       "      <td>kmer_cm10000</td>\n",
       "      <td>jaccard_distance_matrix</td>\n",
       "      <td>-0.056638</td>\n",
       "      <td>0.736000</td>\n",
       "    </tr>\n",
       "    <tr>\n",
       "      <th>15</th>\n",
       "      <td>Lavaux_Plot_11</td>\n",
       "      <td>kmer_cm10000</td>\n",
       "      <td>jaccard_distance_matrix</td>\n",
       "      <td>-0.017679</td>\n",
       "      <td>0.571000</td>\n",
       "    </tr>\n",
       "    <tr>\n",
       "      <th>16</th>\n",
       "      <td>Lavaux_Plot_12</td>\n",
       "      <td>kmer_cm10000</td>\n",
       "      <td>jaccard_distance_matrix</td>\n",
       "      <td>-0.044695</td>\n",
       "      <td>0.647000</td>\n",
       "    </tr>\n",
       "    <tr>\n",
       "      <th>17</th>\n",
       "      <td>Lavaux_Plot_12</td>\n",
       "      <td>kmer_cm10000</td>\n",
       "      <td>jaccard_distance_matrix</td>\n",
       "      <td>-0.056077</td>\n",
       "      <td>0.672000</td>\n",
       "    </tr>\n",
       "    <tr>\n",
       "      <th>18</th>\n",
       "      <td>Lavaux_Plot_12</td>\n",
       "      <td>kmer_cm10000</td>\n",
       "      <td>jaccard_distance_matrix</td>\n",
       "      <td>-0.009327</td>\n",
       "      <td>0.493000</td>\n",
       "    </tr>\n",
       "    <tr>\n",
       "      <th>19</th>\n",
       "      <td>Lavaux_Plot_12</td>\n",
       "      <td>kmer_cm10000</td>\n",
       "      <td>jaccard_distance_matrix</td>\n",
       "      <td>-0.076008</td>\n",
       "      <td>0.705000</td>\n",
       "    </tr>\n",
       "    <tr>\n",
       "      <th>20</th>\n",
       "      <td>Lavaux_Plot_13</td>\n",
       "      <td>kmer_cm10000</td>\n",
       "      <td>jaccard_distance_matrix</td>\n",
       "      <td>0.112999</td>\n",
       "      <td>0.263000</td>\n",
       "    </tr>\n",
       "    <tr>\n",
       "      <th>21</th>\n",
       "      <td>Lavaux_Plot_13</td>\n",
       "      <td>kmer_cm10000</td>\n",
       "      <td>jaccard_distance_matrix</td>\n",
       "      <td>0.271721</td>\n",
       "      <td>0.055000</td>\n",
       "    </tr>\n",
       "    <tr>\n",
       "      <th>22</th>\n",
       "      <td>Lavaux_Plot_13</td>\n",
       "      <td>kmer_cm10000</td>\n",
       "      <td>jaccard_distance_matrix</td>\n",
       "      <td>0.236293</td>\n",
       "      <td>0.075000</td>\n",
       "    </tr>\n",
       "    <tr>\n",
       "      <th>23</th>\n",
       "      <td>Lavaux_Plot_13</td>\n",
       "      <td>kmer_cm10000</td>\n",
       "      <td>jaccard_distance_matrix</td>\n",
       "      <td>0.072844</td>\n",
       "      <td>0.334000</td>\n",
       "    </tr>\n",
       "    <tr>\n",
       "      <th>24</th>\n",
       "      <td>Lavaux_Plot_14</td>\n",
       "      <td>kmer_cm10000</td>\n",
       "      <td>jaccard_distance_matrix</td>\n",
       "      <td>0.345074</td>\n",
       "      <td>0.001000</td>\n",
       "    </tr>\n",
       "    <tr>\n",
       "      <th>25</th>\n",
       "      <td>Lavaux_Plot_14</td>\n",
       "      <td>kmer_cm10000</td>\n",
       "      <td>jaccard_distance_matrix</td>\n",
       "      <td>0.222222</td>\n",
       "      <td>0.027000</td>\n",
       "    </tr>\n",
       "    <tr>\n",
       "      <th>26</th>\n",
       "      <td>Lavaux_Plot_14</td>\n",
       "      <td>kmer_cm10000</td>\n",
       "      <td>jaccard_distance_matrix</td>\n",
       "      <td>0.308420</td>\n",
       "      <td>0.010000</td>\n",
       "    </tr>\n",
       "    <tr>\n",
       "      <th>27</th>\n",
       "      <td>Lavaux_Plot_14</td>\n",
       "      <td>kmer_cm10000</td>\n",
       "      <td>jaccard_distance_matrix</td>\n",
       "      <td>0.052693</td>\n",
       "      <td>0.285000</td>\n",
       "    </tr>\n",
       "    <tr>\n",
       "      <th>28</th>\n",
       "      <td>Lavaux_Plot_15</td>\n",
       "      <td>kmer_cm10000</td>\n",
       "      <td>jaccard_distance_matrix</td>\n",
       "      <td>-0.059890</td>\n",
       "      <td>0.769000</td>\n",
       "    </tr>\n",
       "    <tr>\n",
       "      <th>29</th>\n",
       "      <td>Lavaux_Plot_15</td>\n",
       "      <td>kmer_cm10000</td>\n",
       "      <td>jaccard_distance_matrix</td>\n",
       "      <td>0.051834</td>\n",
       "      <td>0.216000</td>\n",
       "    </tr>\n",
       "    <tr>\n",
       "      <th>30</th>\n",
       "      <td>Lavaux_Plot_15</td>\n",
       "      <td>kmer_cm10000</td>\n",
       "      <td>jaccard_distance_matrix</td>\n",
       "      <td>-0.012023</td>\n",
       "      <td>0.536000</td>\n",
       "    </tr>\n",
       "    <tr>\n",
       "      <th>31</th>\n",
       "      <td>Lavaux_Plot_15</td>\n",
       "      <td>kmer_cm10000</td>\n",
       "      <td>jaccard_distance_matrix</td>\n",
       "      <td>0.101841</td>\n",
       "      <td>0.075000</td>\n",
       "    </tr>\n",
       "    <tr>\n",
       "      <th>32</th>\n",
       "      <td>Lavaux_Plot_18</td>\n",
       "      <td>kmer_cm10000</td>\n",
       "      <td>jaccard_distance_matrix</td>\n",
       "      <td>-0.198353</td>\n",
       "      <td>0.836000</td>\n",
       "    </tr>\n",
       "    <tr>\n",
       "      <th>33</th>\n",
       "      <td>Lavaux_Plot_18</td>\n",
       "      <td>kmer_cm10000</td>\n",
       "      <td>jaccard_distance_matrix</td>\n",
       "      <td>-0.069452</td>\n",
       "      <td>0.623000</td>\n",
       "    </tr>\n",
       "    <tr>\n",
       "      <th>34</th>\n",
       "      <td>Lavaux_Plot_18</td>\n",
       "      <td>kmer_cm10000</td>\n",
       "      <td>jaccard_distance_matrix</td>\n",
       "      <td>-0.164559</td>\n",
       "      <td>0.785000</td>\n",
       "    </tr>\n",
       "    <tr>\n",
       "      <th>35</th>\n",
       "      <td>Lavaux_Plot_18</td>\n",
       "      <td>kmer_cm10000</td>\n",
       "      <td>jaccard_distance_matrix</td>\n",
       "      <td>-0.130567</td>\n",
       "      <td>0.756000</td>\n",
       "    </tr>\n",
       "    <tr>\n",
       "      <th>36</th>\n",
       "      <td>Lavaux_Plot_19</td>\n",
       "      <td>kmer_cm10000</td>\n",
       "      <td>jaccard_distance_matrix</td>\n",
       "      <td>0.485714</td>\n",
       "      <td>0.166667</td>\n",
       "    </tr>\n",
       "    <tr>\n",
       "      <th>37</th>\n",
       "      <td>Lavaux_Plot_19</td>\n",
       "      <td>kmer_cm10000</td>\n",
       "      <td>jaccard_distance_matrix</td>\n",
       "      <td>-0.714286</td>\n",
       "      <td>1.000000</td>\n",
       "    </tr>\n",
       "    <tr>\n",
       "      <th>38</th>\n",
       "      <td>Lavaux_Plot_19</td>\n",
       "      <td>kmer_cm10000</td>\n",
       "      <td>jaccard_distance_matrix</td>\n",
       "      <td>0.485714</td>\n",
       "      <td>0.166667</td>\n",
       "    </tr>\n",
       "    <tr>\n",
       "      <th>39</th>\n",
       "      <td>Lavaux_Plot_19</td>\n",
       "      <td>kmer_cm10000</td>\n",
       "      <td>jaccard_distance_matrix</td>\n",
       "      <td>0.142857</td>\n",
       "      <td>0.500000</td>\n",
       "    </tr>\n",
       "    <tr>\n",
       "      <th>40</th>\n",
       "      <td>Lavaux_Plot_20</td>\n",
       "      <td>kmer_cm10000</td>\n",
       "      <td>jaccard_distance_matrix</td>\n",
       "      <td>0.035580</td>\n",
       "      <td>0.383000</td>\n",
       "    </tr>\n",
       "    <tr>\n",
       "      <th>41</th>\n",
       "      <td>Lavaux_Plot_20</td>\n",
       "      <td>kmer_cm10000</td>\n",
       "      <td>jaccard_distance_matrix</td>\n",
       "      <td>0.009442</td>\n",
       "      <td>0.469000</td>\n",
       "    </tr>\n",
       "    <tr>\n",
       "      <th>42</th>\n",
       "      <td>Lavaux_Plot_20</td>\n",
       "      <td>kmer_cm10000</td>\n",
       "      <td>jaccard_distance_matrix</td>\n",
       "      <td>-0.085800</td>\n",
       "      <td>0.789000</td>\n",
       "    </tr>\n",
       "    <tr>\n",
       "      <th>43</th>\n",
       "      <td>Lavaux_Plot_20</td>\n",
       "      <td>kmer_cm10000</td>\n",
       "      <td>jaccard_distance_matrix</td>\n",
       "      <td>0.137162</td>\n",
       "      <td>0.101000</td>\n",
       "    </tr>\n",
       "    <tr>\n",
       "      <th>44</th>\n",
       "      <td>Lavaux_Plot_17</td>\n",
       "      <td>kmer_cm10000</td>\n",
       "      <td>jaccard_distance_matrix</td>\n",
       "      <td>0.064943</td>\n",
       "      <td>0.105000</td>\n",
       "    </tr>\n",
       "    <tr>\n",
       "      <th>45</th>\n",
       "      <td>Lavaux_Plot_17</td>\n",
       "      <td>kmer_cm10000</td>\n",
       "      <td>jaccard_distance_matrix</td>\n",
       "      <td>0.057993</td>\n",
       "      <td>0.142000</td>\n",
       "    </tr>\n",
       "    <tr>\n",
       "      <th>46</th>\n",
       "      <td>Lavaux_Plot_17</td>\n",
       "      <td>kmer_cm10000</td>\n",
       "      <td>jaccard_distance_matrix</td>\n",
       "      <td>0.090961</td>\n",
       "      <td>0.060000</td>\n",
       "    </tr>\n",
       "    <tr>\n",
       "      <th>47</th>\n",
       "      <td>Lavaux_Plot_17</td>\n",
       "      <td>kmer_cm10000</td>\n",
       "      <td>jaccard_distance_matrix</td>\n",
       "      <td>0.115960</td>\n",
       "      <td>0.031000</td>\n",
       "    </tr>\n",
       "  </tbody>\n",
       "</table>\n",
       "</div>"
      ],
      "text/plain": [
       "       Main_Folder     Subfolder          Distance_Matrix  Mantel_statistic_r  \\\n",
       "0    Lavaux_Plot_4  kmer_cm10000  jaccard_distance_matrix           -0.014617   \n",
       "1    Lavaux_Plot_4  kmer_cm10000  jaccard_distance_matrix           -0.038753   \n",
       "2    Lavaux_Plot_4  kmer_cm10000  jaccard_distance_matrix           -0.018526   \n",
       "3    Lavaux_Plot_4  kmer_cm10000  jaccard_distance_matrix           -0.080904   \n",
       "4    Lavaux_Plot_5  kmer_cm10000  jaccard_distance_matrix            0.032762   \n",
       "5    Lavaux_Plot_5  kmer_cm10000  jaccard_distance_matrix           -0.168538   \n",
       "6    Lavaux_Plot_5  kmer_cm10000  jaccard_distance_matrix            0.074522   \n",
       "7    Lavaux_Plot_5  kmer_cm10000  jaccard_distance_matrix           -0.240782   \n",
       "8    Lavaux_Plot_9  kmer_cm10000  jaccard_distance_matrix            0.117361   \n",
       "9    Lavaux_Plot_9  kmer_cm10000  jaccard_distance_matrix            0.029952   \n",
       "10   Lavaux_Plot_9  kmer_cm10000  jaccard_distance_matrix            0.031375   \n",
       "11   Lavaux_Plot_9  kmer_cm10000  jaccard_distance_matrix           -0.083082   \n",
       "12  Lavaux_Plot_11  kmer_cm10000  jaccard_distance_matrix           -0.105035   \n",
       "13  Lavaux_Plot_11  kmer_cm10000  jaccard_distance_matrix           -0.191358   \n",
       "14  Lavaux_Plot_11  kmer_cm10000  jaccard_distance_matrix           -0.056638   \n",
       "15  Lavaux_Plot_11  kmer_cm10000  jaccard_distance_matrix           -0.017679   \n",
       "16  Lavaux_Plot_12  kmer_cm10000  jaccard_distance_matrix           -0.044695   \n",
       "17  Lavaux_Plot_12  kmer_cm10000  jaccard_distance_matrix           -0.056077   \n",
       "18  Lavaux_Plot_12  kmer_cm10000  jaccard_distance_matrix           -0.009327   \n",
       "19  Lavaux_Plot_12  kmer_cm10000  jaccard_distance_matrix           -0.076008   \n",
       "20  Lavaux_Plot_13  kmer_cm10000  jaccard_distance_matrix            0.112999   \n",
       "21  Lavaux_Plot_13  kmer_cm10000  jaccard_distance_matrix            0.271721   \n",
       "22  Lavaux_Plot_13  kmer_cm10000  jaccard_distance_matrix            0.236293   \n",
       "23  Lavaux_Plot_13  kmer_cm10000  jaccard_distance_matrix            0.072844   \n",
       "24  Lavaux_Plot_14  kmer_cm10000  jaccard_distance_matrix            0.345074   \n",
       "25  Lavaux_Plot_14  kmer_cm10000  jaccard_distance_matrix            0.222222   \n",
       "26  Lavaux_Plot_14  kmer_cm10000  jaccard_distance_matrix            0.308420   \n",
       "27  Lavaux_Plot_14  kmer_cm10000  jaccard_distance_matrix            0.052693   \n",
       "28  Lavaux_Plot_15  kmer_cm10000  jaccard_distance_matrix           -0.059890   \n",
       "29  Lavaux_Plot_15  kmer_cm10000  jaccard_distance_matrix            0.051834   \n",
       "30  Lavaux_Plot_15  kmer_cm10000  jaccard_distance_matrix           -0.012023   \n",
       "31  Lavaux_Plot_15  kmer_cm10000  jaccard_distance_matrix            0.101841   \n",
       "32  Lavaux_Plot_18  kmer_cm10000  jaccard_distance_matrix           -0.198353   \n",
       "33  Lavaux_Plot_18  kmer_cm10000  jaccard_distance_matrix           -0.069452   \n",
       "34  Lavaux_Plot_18  kmer_cm10000  jaccard_distance_matrix           -0.164559   \n",
       "35  Lavaux_Plot_18  kmer_cm10000  jaccard_distance_matrix           -0.130567   \n",
       "36  Lavaux_Plot_19  kmer_cm10000  jaccard_distance_matrix            0.485714   \n",
       "37  Lavaux_Plot_19  kmer_cm10000  jaccard_distance_matrix           -0.714286   \n",
       "38  Lavaux_Plot_19  kmer_cm10000  jaccard_distance_matrix            0.485714   \n",
       "39  Lavaux_Plot_19  kmer_cm10000  jaccard_distance_matrix            0.142857   \n",
       "40  Lavaux_Plot_20  kmer_cm10000  jaccard_distance_matrix            0.035580   \n",
       "41  Lavaux_Plot_20  kmer_cm10000  jaccard_distance_matrix            0.009442   \n",
       "42  Lavaux_Plot_20  kmer_cm10000  jaccard_distance_matrix           -0.085800   \n",
       "43  Lavaux_Plot_20  kmer_cm10000  jaccard_distance_matrix            0.137162   \n",
       "44  Lavaux_Plot_17  kmer_cm10000  jaccard_distance_matrix            0.064943   \n",
       "45  Lavaux_Plot_17  kmer_cm10000  jaccard_distance_matrix            0.057993   \n",
       "46  Lavaux_Plot_17  kmer_cm10000  jaccard_distance_matrix            0.090961   \n",
       "47  Lavaux_Plot_17  kmer_cm10000  jaccard_distance_matrix            0.115960   \n",
       "\n",
       "    Significance  \n",
       "0       0.531000  \n",
       "1       0.712000  \n",
       "2       0.559000  \n",
       "3       0.837000  \n",
       "4       0.378000  \n",
       "5       0.916000  \n",
       "6       0.262000  \n",
       "7       0.999000  \n",
       "8       0.101000  \n",
       "9       0.378000  \n",
       "10      0.338000  \n",
       "11      0.836000  \n",
       "12      0.900000  \n",
       "13      0.994000  \n",
       "14      0.736000  \n",
       "15      0.571000  \n",
       "16      0.647000  \n",
       "17      0.672000  \n",
       "18      0.493000  \n",
       "19      0.705000  \n",
       "20      0.263000  \n",
       "21      0.055000  \n",
       "22      0.075000  \n",
       "23      0.334000  \n",
       "24      0.001000  \n",
       "25      0.027000  \n",
       "26      0.010000  \n",
       "27      0.285000  \n",
       "28      0.769000  \n",
       "29      0.216000  \n",
       "30      0.536000  \n",
       "31      0.075000  \n",
       "32      0.836000  \n",
       "33      0.623000  \n",
       "34      0.785000  \n",
       "35      0.756000  \n",
       "36      0.166667  \n",
       "37      1.000000  \n",
       "38      0.166667  \n",
       "39      0.500000  \n",
       "40      0.383000  \n",
       "41      0.469000  \n",
       "42      0.789000  \n",
       "43      0.101000  \n",
       "44      0.105000  \n",
       "45      0.142000  \n",
       "46      0.060000  \n",
       "47      0.031000  "
      ]
     },
     "execution_count": 24,
     "metadata": {},
     "output_type": "execute_result"
    }
   ],
   "source": [
    "# List of folders to loop through\n",
    "folders = ['Lavaux_Plot_4', 'Lavaux_Plot_5', 'Lavaux_Plot_9', \n",
    "           'Lavaux_Plot_11', 'Lavaux_Plot_12', 'Lavaux_Plot_13', \n",
    "           'Lavaux_Plot_14', 'Lavaux_Plot_15', 'Lavaux_Plot_18', \n",
    "           'Lavaux_Plot_19', 'Lavaux_Plot_20', 'Lavaux_Plot_17']\n",
    "\n",
    "# Initialize an empty list to store the results\n",
    "all_results = []\n",
    "\n",
    "# Loop through each folder and process the results\n",
    "for folder in folders:\n",
    "    folder_path_2 = os.path.join(folder, \"kmer_cm10000\")\n",
    "    mantel_path_2 = os.path.join(folder_path_2, \"mantel_results.tsv\")\n",
    "    \n",
    "    # Check if the mantel results file exists\n",
    "    if os.path.exists(mantel_path_2):\n",
    "        df_2 = pd.read_csv(mantel_path_2, sep=\"\\t\")\n",
    "\n",
    "        # Add metadata columns\n",
    "        df_2['Main_Folder'] = folder\n",
    "        df_2['Subfolder'] = 'kmer_cm10000'\n",
    "        df_2['Distance_Matrix'] = 'bray_curtis_distance_matrix' if 'bray_curtis' in mantel_path_2 else 'jaccard_distance_matrix'\n",
    "\n",
    "        all_results.append(df_2)\n",
    "\n",
    "# Concatenate all the results into a single dataframe\n",
    "if all_results:\n",
    "    final_results = pd.concat(all_results, ignore_index=True)\n",
    "    final_results = final_results[['Main_Folder', 'Subfolder', 'Distance_Matrix', 'Mantel_statistic_r', 'Significance']]\n",
    "else:\n",
    "    final_results = pd.DataFrame(columns=['Main_Folder', 'Subfolder', 'Distance_Matrix', 'Mantel_statistic_r', 'Significance'])\n",
    "\n",
    "# Display final results\n",
    "final_results\n"
   ]
  },
  {
   "cell_type": "code",
   "execution_count": null,
   "id": "6f582c0a",
   "metadata": {},
   "outputs": [],
   "source": []
  },
  {
   "cell_type": "code",
   "execution_count": null,
   "id": "973f1f93",
   "metadata": {},
   "outputs": [],
   "source": []
  }
 ],
 "metadata": {
  "kernelspec": {
   "display_name": "Python 3 (ipykernel)",
   "language": "python",
   "name": "python3"
  },
  "language_info": {
   "codemirror_mode": {
    "name": "ipython",
    "version": 3
   },
   "file_extension": ".py",
   "mimetype": "text/x-python",
   "name": "python",
   "nbconvert_exporter": "python",
   "pygments_lexer": "ipython3",
   "version": "3.10.14"
  }
 },
 "nbformat": 4,
 "nbformat_minor": 5
}
