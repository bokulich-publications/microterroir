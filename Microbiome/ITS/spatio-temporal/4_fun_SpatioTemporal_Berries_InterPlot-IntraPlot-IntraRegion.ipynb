{
 "cells": [
  {
   "cell_type": "markdown",
   "id": "69de4ed4",
   "metadata": {},
   "source": [
    "# Compare inter-plot / intra-plot / intra-region \n",
    "\n",
    "> note within a single year!\n",
    "\n",
    "* inter-plot (2021) \n",
    "* intra-plot (202?)\n",
    "* intra-region (2023) "
   ]
  },
  {
   "cell_type": "code",
   "execution_count": 163,
   "id": "abc52439",
   "metadata": {},
   "outputs": [],
   "source": [
    "#!mkdir /home/lfloerl/cloud/lfloerl/Microterroir/artifacts/ITS/lavaux/spatio-temporal/InterIntra"
   ]
  },
  {
   "cell_type": "code",
   "execution_count": 248,
   "id": "cd670efc",
   "metadata": {},
   "outputs": [
    {
     "name": "stdout",
     "output_type": "stream",
     "text": [
      "/home/lfloerl/cloud/lfloerl/Microterroir/artifacts/ITS/lavaux/spatio-temporal/InterIntra\n"
     ]
    }
   ],
   "source": [
    "workdir = '/home/lfloerl/cloud/lfloerl/Microterroir/artifacts/ITS/lavaux/spatio-temporal/InterIntra'\n",
    "%cd $workdir"
   ]
  },
  {
   "cell_type": "code",
   "execution_count": 249,
   "id": "413c885b",
   "metadata": {},
   "outputs": [
    {
     "name": "stdout",
     "output_type": "stream",
     "text": [
      "env: TMPDIR=/scratch/lfloerl/tmpdata\n"
     ]
    }
   ],
   "source": [
    "%env TMPDIR=/scratch/lfloerl/tmpdata"
   ]
  },
  {
   "cell_type": "code",
   "execution_count": 250,
   "id": "18e20f86",
   "metadata": {},
   "outputs": [],
   "source": [
    "import qiime2 as q2\n",
    "from qiime2 import Visualization\n",
    "from qiime2 import Artifact\n",
    "from qiime2 import Metadata\n",
    "from qiime2.plugins.diversity.methods import filter_distance_matrix\n",
    "\n",
    "from skbio import DistanceMatrix\n",
    "from scipy import stats\n",
    "from scipy.stats import mannwhitneyu, normaltest, ttest_ind, describe, kruskal\n",
    "from itertools import combinations\n",
    "\n",
    "import os\n",
    "import pandas as pd\n",
    "import numpy as np\n",
    "import matplotlib.pyplot as plt\n",
    "import seaborn as sns\n",
    "import re\n",
    "import matplotlib.patches as mpatches\n",
    "\n",
    "import functools\n",
    "import operator\n",
    "\n",
    "%matplotlib inline"
   ]
  },
  {
   "cell_type": "markdown",
   "id": "01a86938",
   "metadata": {},
   "source": [
    "# Create the distance matrices"
   ]
  },
  {
   "cell_type": "code",
   "execution_count": 167,
   "id": "a30eb76d",
   "metadata": {},
   "outputs": [],
   "source": [
    "#%%bash \n",
    "\n",
    "#qiime feature-table merge \\\n",
    "#  --i-tables /home/lfloerl/cloud/lfloerl/Microterroir/artifacts/ITS/projects/Valais_filtered_table.qza /home/lfloerl/cloud/lfloerl/Microterroir/artifacts/ITS/lavaux/must_filtered_table.qza \\\n",
    "#  --o-merged-table ValaisLavaux_must_merged_table.qza\n",
    "\n",
    "#qiime feature-table filter-seqs \\\n",
    "#    --i-data /home/lfloerl/cloud/lfloerl/Microterroir/artifacts/Sven-denoising-test/ITS/revcomp-trimmed-denoised/with-adjusted-parameters/ITS-revcomp-trimmed-ER-0.05-denoised-trunc-190-PFA-4.0-maxee-4.0-rep-seqs.qza \\\n",
    "#    --i-table ValaisLavaux_must_merged_table.qza \\\n",
    "#    --o-filtered-data ValaisLavaux_must_merged_rep_seqs.qza"
   ]
  },
  {
   "cell_type": "code",
   "execution_count": 168,
   "id": "2f407a55",
   "metadata": {},
   "outputs": [],
   "source": [
    "#%%bash \n",
    "\n",
    "# Core diversity metrics\n",
    "#qiime diversity core-metrics \\\n",
    "#  --i-table ValaisLavaux_must_merged_table.qza \\\n",
    "#  --p-sampling-depth 10000 \\\n",
    "#  --m-metadata-file /home/lfloerl/microterroir/Microbiome/Metadata/ITS_md.tsv \\\n",
    "#  --p-n-jobs 5 \\\n",
    "#  --output-dir cm10000/\n",
    "\n",
    "# Kmer diversity\n",
    "#qiime kmerizer core-metrics \\\n",
    "#  --i-sequences ValaisLavaux_must_merged_rep_seqs.qza \\\n",
    "#  --i-table ValaisLavaux_must_merged_table.qza \\\n",
    "#  --p-sampling-depth 10000 \\\n",
    "#  --m-metadata-file /home/lfloerl/microterroir/Microbiome/Metadata/ITS_md.tsv \\\n",
    "#  --p-n-jobs auto \\\n",
    "#  --output-dir kmer_cm10000/"
   ]
  },
  {
   "cell_type": "code",
   "execution_count": 169,
   "id": "acaeabce",
   "metadata": {},
   "outputs": [],
   "source": [
    "# Load the matrices\n",
    "load_matrix_jaccard = 'cm10000/jaccard_distance_matrix.qza'\n",
    "load_matrix_BC = 'cm10000/bray_curtis_distance_matrix.qza'\n",
    "load_matrix_jaccard_kmer = 'kmer_cm10000/jaccard_distance_matrix.qza'\n",
    "load_matrix_BC_kmer = 'kmer_cm10000/bray_curtis_distance_matrix.qza'\n",
    "\n",
    "# Process the jaccard matrix\n",
    "matrix_jaccard = q2.Artifact.load(load_matrix_jaccard).view(DistanceMatrix)\n",
    "matrix_df_jaccard = matrix_jaccard.to_data_frame()\n",
    "\n",
    "# Process the Bray-Curtis matrix\n",
    "matrix_BC = q2.Artifact.load(load_matrix_BC).view(DistanceMatrix)\n",
    "matrix_df_BC = matrix_BC.to_data_frame()\n",
    "\n",
    "# Process the jaccard kmer matrix\n",
    "matrix_jaccard_kmer = q2.Artifact.load(load_matrix_jaccard_kmer).view(DistanceMatrix)\n",
    "matrix_df_jaccard_kmer = matrix_jaccard_kmer.to_data_frame()\n",
    "\n",
    "# Process the Bray-Curtis kmer matrix\n",
    "matrix_BC_kmer = q2.Artifact.load(load_matrix_BC_kmer).view(DistanceMatrix)\n",
    "matrix_df_BC_kmer = matrix_BC_kmer.to_data_frame()"
   ]
  },
  {
   "cell_type": "code",
   "execution_count": 170,
   "id": "59a7e933",
   "metadata": {},
   "outputs": [
    {
     "data": {
      "text/html": [
       "<div>\n",
       "<style scoped>\n",
       "    .dataframe tbody tr th:only-of-type {\n",
       "        vertical-align: middle;\n",
       "    }\n",
       "\n",
       "    .dataframe tbody tr th {\n",
       "        vertical-align: top;\n",
       "    }\n",
       "\n",
       "    .dataframe thead th {\n",
       "        text-align: right;\n",
       "    }\n",
       "</style>\n",
       "<table border=\"1\" class=\"dataframe\">\n",
       "  <thead>\n",
       "    <tr style=\"text-align: right;\">\n",
       "      <th></th>\n",
       "      <th>Plot</th>\n",
       "      <th>Year</th>\n",
       "      <th>Variety</th>\n",
       "      <th>Region</th>\n",
       "    </tr>\n",
       "    <tr>\n",
       "      <th>id</th>\n",
       "      <th></th>\n",
       "      <th></th>\n",
       "      <th></th>\n",
       "      <th></th>\n",
       "    </tr>\n",
       "  </thead>\n",
       "  <tbody>\n",
       "    <tr>\n",
       "      <th>364525_001-LP3-ITS-0001</th>\n",
       "      <td>4</td>\n",
       "      <td>2021</td>\n",
       "      <td>Chasselas</td>\n",
       "      <td>Lavaux</td>\n",
       "    </tr>\n",
       "    <tr>\n",
       "      <th>364525_002-LP3-ITS-0002</th>\n",
       "      <td>15</td>\n",
       "      <td>2021</td>\n",
       "      <td>Chasselas</td>\n",
       "      <td>Lavaux</td>\n",
       "    </tr>\n",
       "    <tr>\n",
       "      <th>364525_003-LP3-ITS-0003</th>\n",
       "      <td>17</td>\n",
       "      <td>2021</td>\n",
       "      <td>Chasselas</td>\n",
       "      <td>Lavaux</td>\n",
       "    </tr>\n",
       "    <tr>\n",
       "      <th>364525_004-LP3-ITS-0004</th>\n",
       "      <td>5</td>\n",
       "      <td>2021</td>\n",
       "      <td>Chasselas</td>\n",
       "      <td>Lavaux</td>\n",
       "    </tr>\n",
       "    <tr>\n",
       "      <th>364525_005-LP3-ITS-0005</th>\n",
       "      <td>11</td>\n",
       "      <td>2021</td>\n",
       "      <td>Chasselas</td>\n",
       "      <td>Lavaux</td>\n",
       "    </tr>\n",
       "  </tbody>\n",
       "</table>\n",
       "</div>"
      ],
      "text/plain": [
       "                        Plot  Year    Variety  Region\n",
       "id                                                   \n",
       "364525_001-LP3-ITS-0001    4  2021  Chasselas  Lavaux\n",
       "364525_002-LP3-ITS-0002   15  2021  Chasselas  Lavaux\n",
       "364525_003-LP3-ITS-0003   17  2021  Chasselas  Lavaux\n",
       "364525_004-LP3-ITS-0004    5  2021  Chasselas  Lavaux\n",
       "364525_005-LP3-ITS-0005   11  2021  Chasselas  Lavaux"
      ]
     },
     "execution_count": 170,
     "metadata": {},
     "output_type": "execute_result"
    }
   ],
   "source": [
    "# merge metadata\n",
    "md_lavaux = pd.read_csv('/home/lfloerl/microterroir/Microbiome/Metadata/ITS_lavaux.tsv', sep='\\t', index_col=0)\n",
    "md_lavaux_subset = md_lavaux[['Plot','Year']].copy()\n",
    "md_lavaux_subset['Variety'] = 'Chasselas'\n",
    "md_lavaux_subset['Region'] = 'Lavaux'\n",
    "\n",
    "md_lavaux_subset['Plot'] = md_lavaux_subset['Plot'].astype(str)\n",
    "\n",
    "md_valais = pd.read_csv('/home/lfloerl/microterroir/Microbiome/Metadata/ITS_Valais_and_Lavaux23.tsv', sep='\\t', index_col=0)\n",
    "md_valais_subset = md_valais[['Plot', 'Region', 'Year', 'Variety']]\n",
    "\n",
    "md_df = md_lavaux_subset.merge(md_valais_subset, on=('id', 'Year', 'Plot', 'Region','Variety'), how='outer')\n",
    "\n",
    "md_df.head()"
   ]
  },
  {
   "cell_type": "markdown",
   "id": "2bc6bde4",
   "metadata": {},
   "source": [
    "# Choose your matrix"
   ]
  },
  {
   "cell_type": "code",
   "execution_count": 195,
   "id": "4ba53da5",
   "metadata": {},
   "outputs": [
    {
     "data": {
      "text/plain": [
       "(417, 417)"
      ]
     },
     "execution_count": 195,
     "metadata": {},
     "output_type": "execute_result"
    }
   ],
   "source": [
    "matrix_type = 'jaccard'  # Change this to 'jaccard', 'BC', 'jaccard_kmer', or 'BC_kmer'\n",
    "\n",
    "matrix_dict = {\n",
    "    'BC': matrix_df_BC,\n",
    "    'jaccard': matrix_df_jaccard,\n",
    "    'jaccard_kmer': matrix_df_jaccard_kmer,\n",
    "    'BC_kmer': matrix_df_BC_kmer}\n",
    "matrix_df = matrix_dict.get(matrix_type, None)\n",
    "\n",
    "matrix_df.shape"
   ]
  },
  {
   "cell_type": "markdown",
   "id": "11a63899",
   "metadata": {},
   "source": [
    "# Extract distances\n"
   ]
  },
  {
   "cell_type": "code",
   "execution_count": 196,
   "id": "4544b3a2",
   "metadata": {
    "scrolled": false
   },
   "outputs": [
    {
     "data": {
      "text/plain": [
       "(367, 367)"
      ]
     },
     "execution_count": 196,
     "metadata": {},
     "output_type": "execute_result"
    }
   ],
   "source": [
    "# subset to Chasselas samples\n",
    "md_df_filtered = md_df.loc[md_df.index.intersection(matrix_df.index)].copy()\n",
    "subset_ids = md_df_filtered[md_df_filtered['Variety'] == 'Chasselas'].index.tolist()\n",
    "matrix_chasselas = matrix_df.loc[subset_ids, subset_ids]\n",
    "matrix_chasselas.shape"
   ]
  },
  {
   "cell_type": "code",
   "execution_count": 197,
   "id": "6449df1a",
   "metadata": {},
   "outputs": [
    {
     "name": "stdout",
     "output_type": "stream",
     "text": [
      "Number of within-plot distances: 5263\n",
      "Number of between-plot (same region) distances: 52718\n",
      "Number of between-region distances: 9180\n"
     ]
    }
   ],
   "source": [
    "# Extract metadata for the filtered subset\n",
    "plots = md_df_filtered.loc[subset_ids, 'Plot']\n",
    "regions = md_df_filtered.loc[subset_ids, 'Region']\n",
    "\n",
    "# Initialize distance lists\n",
    "within_plot_distances = []\n",
    "between_plot_same_region_distances = []\n",
    "between_region_distances = []\n",
    "\n",
    "# Iterate over sample pairs (ensuring correct matching)\n",
    "for i, sample_i in enumerate(subset_ids):\n",
    "    for j, sample_j in enumerate(subset_ids):\n",
    "        if i < j:  # Ensure each pair is only considered once\n",
    "            distance = matrix_chasselas.loc[sample_i, sample_j]  # Extract distance\n",
    "            \n",
    "            if plots[sample_i] == plots[sample_j]:  # Within plot\n",
    "                within_plot_distances.append(distance)\n",
    "            elif regions[sample_i] == regions[sample_j]:  # Between plots (same region)\n",
    "                between_plot_same_region_distances.append(distance)\n",
    "            else:  # Between different regions\n",
    "                between_region_distances.append(distance)\n",
    "\n",
    "# Convert to numpy arrays\n",
    "vector_within_plots = np.array(within_plot_distances)\n",
    "vector_between_plots_same_region = np.array(between_plot_same_region_distances)\n",
    "vector_between_regions = np.array(between_region_distances)\n",
    "\n",
    "print(f\"Number of within-plot distances: {len(vector_within_plots)}\")\n",
    "print(f\"Number of between-plot (same region) distances: {len(vector_between_plots_same_region)}\")\n",
    "print(f\"Number of between-region distances: {len(vector_between_regions)}\")"
   ]
  },
  {
   "cell_type": "markdown",
   "id": "50201675",
   "metadata": {},
   "source": [
    "# Statistical testing"
   ]
  },
  {
   "cell_type": "code",
   "execution_count": 198,
   "id": "abbda533",
   "metadata": {},
   "outputs": [
    {
     "name": "stdout",
     "output_type": "stream",
     "text": [
      "Kruskal-Wallis H-statistic: 169.84676887850017\n",
      "Kruskal-Wallis p-value: 1.3129335720327782e-37\n",
      "\n",
      "Pairwise Mann-Whitney U test results:\n",
      "           Group 1        Group 2    Statistic       p-value\n",
      "0  Between Regions  Between Plots  230757307.5  1.244704e-12\n",
      "1  Between Regions   Within Plots   25526011.0  1.376487e-08\n",
      "2    Between Plots   Within Plots  152178510.0  3.363557e-31\n"
     ]
    }
   ],
   "source": [
    "def pairwise_mann_whitney(vectors, names):\n",
    "    results = []\n",
    "    for (name1, vec1), (name2, vec2) in combinations(zip(names, vectors), 2):\n",
    "        statistic, p_value = stats.mannwhitneyu(vec1, vec2, alternative='two-sided')\n",
    "        results.append({\n",
    "            'Group 1': name1,\n",
    "            'Group 2': name2,\n",
    "            'Statistic': statistic,\n",
    "            'p-value': p_value })\n",
    "    return pd.DataFrame(results)\n",
    "\n",
    "vectors = [vector_between_regions, vector_between_plots_same_region, vector_within_plots]\n",
    "names = ['Between Regions', 'Between Plots', 'Within Plots']\n",
    "\n",
    "# Kruskal-Wallis test\n",
    "h_statistic, kw_p_value = stats.kruskal(*vectors)\n",
    "\n",
    "print(f\"Kruskal-Wallis H-statistic: {h_statistic}\")\n",
    "print(f\"Kruskal-Wallis p-value: {kw_p_value}\")\n",
    "\n",
    "# pairwise Mann-Whitney U tests\n",
    "pairwise_results = pairwise_mann_whitney(vectors, names)\n",
    "\n",
    "print(\"\\nPairwise Mann-Whitney U test results:\")\n",
    "print(pairwise_results)"
   ]
  },
  {
   "cell_type": "code",
   "execution_count": 199,
   "id": "4cb3fe6c",
   "metadata": {},
   "outputs": [
    {
     "data": {
      "image/png": "[encoded data removed]",
      "text/plain": [
       "<Figure size 400x400 with 1 Axes>"
      ]
     },
     "metadata": {},
     "output_type": "display_data"
    }
   ],
   "source": [
    "# Set the style\n",
    "sns.set_style(\"white\")\n",
    "sns.set_context(\"talk\")\n",
    "\n",
    "# Define colors (reversed order to match the new data order)\n",
    "colors = [\"#22A884FF\", \"#2A788EFF\", \"#414487FF\"]\n",
    "\n",
    "# Create the boxplot with reordered data\n",
    "fig, ax = plt.subplots(figsize=(4,4))\n",
    "boxplot = sns.boxplot(data=[vector_within_plots, vector_between_plots_same_region, vector_between_regions],\n",
    "                      palette=colors, showfliers=False, ax=ax)\n",
    "\n",
    "# Remove x-axis labels and ticks\n",
    "boxplot.set(xticklabels=[])\n",
    "boxplot.tick_params(bottom=False)\n",
    "\n",
    "# Add legend (reordered)\n",
    "orange_patch = mpatches.Patch(color='#22A884FF', label='Within plots')\n",
    "green_patch = mpatches.Patch(color='#2A788EFF', label='Between plots')\n",
    "blue_patch = mpatches.Patch(color='#414487FF', label='Between regions')\n",
    "\n",
    "#plt.legend(handles=[orange_patch, green_patch, blue_patch],\n",
    "#           loc='upper center', bbox_to_anchor=(0.5, -0.01), ncol=3, prop={'size': 11})\n",
    "\n",
    "# Add median values (reordered)\n",
    "medians = [np.median(vector_within_plots).round(3),\n",
    "           np.median(vector_between_plots_same_region).round(3),\n",
    "           np.median(vector_between_regions).round(3)]\n",
    "\n",
    "for i, median in enumerate(medians):\n",
    "    boxplot.annotate(f\"{median:.3f}\", \n",
    "                     xy=(i, median),\n",
    "                     horizontalalignment='center',\n",
    "                     verticalalignment='center',\n",
    "                     color='white',\n",
    "                     fontweight='bold'\n",
    "                    )\n",
    "\n",
    "plt.savefig(f\"{matrix_type}_boxplot.png\", dpi=1000, bbox_inches='tight')\n",
    "plt.show()"
   ]
  },
  {
   "cell_type": "markdown",
   "id": "77286a23",
   "metadata": {},
   "source": [
    "<hr>\n",
    "\n",
    "# Single Year\n"
   ]
  },
  {
   "cell_type": "code",
   "execution_count": 263,
   "id": "c2007144",
   "metadata": {},
   "outputs": [
    {
     "data": {
      "text/plain": [
       "(78, 78)"
      ]
     },
     "execution_count": 263,
     "metadata": {},
     "output_type": "execute_result"
    }
   ],
   "source": [
    "year = 2023\n",
    "matrix_type = 'BC_kmer'  # Change this to 'jaccard', 'BC', 'jaccard_kmer', or 'BC_kmer'\n",
    "\n",
    "matrix_dict = {\n",
    "    'BC': matrix_df_BC,\n",
    "    'jaccard': matrix_df_jaccard,\n",
    "    'jaccard_kmer': matrix_df_jaccard_kmer,\n",
    "    'BC_kmer': matrix_df_BC_kmer}\n",
    "matrix_df = matrix_dict.get(matrix_type, None)\n",
    "\n",
    "# Subset the matrix to a single year\n",
    "md_df_filtered = md_df.loc[md_df.index.intersection(matrix_df.index)].copy()\n",
    "subset_ids = md_df_filtered[(md_df_filtered['Variety'] == 'Chasselas') & (md_df_filtered['Year'] == year)].index.tolist()\n",
    "matrix_year = matrix_df.loc[subset_ids, subset_ids]\n",
    "matrix_year.shape"
   ]
  },
  {
   "cell_type": "code",
   "execution_count": 264,
   "id": "a3bfb978",
   "metadata": {},
   "outputs": [
    {
     "name": "stdout",
     "output_type": "stream",
     "text": [
      "Number of within-plot distances: 107\n",
      "Number of between-plot (same region) distances: 1519\n",
      "Number of between-region distances: 1377\n"
     ]
    }
   ],
   "source": [
    "# Extract metadata for the filtered subset\n",
    "plots = md_df_filtered.loc[subset_ids, 'Plot']\n",
    "regions = md_df_filtered.loc[subset_ids, 'Region']\n",
    "\n",
    "# Initialize distance lists\n",
    "within_plot_distances = []\n",
    "between_plot_same_region_distances = []\n",
    "between_region_distances = []\n",
    "\n",
    "# Iterate over sample pairs (ensuring correct matching)\n",
    "for i, sample_i in enumerate(subset_ids):\n",
    "    for j, sample_j in enumerate(subset_ids):\n",
    "        if i < j:  # Ensure each pair is only considered once\n",
    "            distance = matrix_year.loc[sample_i, sample_j]  # Extract distance\n",
    "            \n",
    "            if plots[sample_i] == plots[sample_j]:  # Within plot\n",
    "                within_plot_distances.append(distance)\n",
    "            elif regions[sample_i] == regions[sample_j]:  # Between plots (same region)\n",
    "                between_plot_same_region_distances.append(distance)\n",
    "            else:  # Between different regions\n",
    "                between_region_distances.append(distance)\n",
    "\n",
    "# Convert to numpy arrays\n",
    "vector_within_plots = np.array(within_plot_distances)\n",
    "vector_between_plots_same_region = np.array(between_plot_same_region_distances)\n",
    "vector_between_regions = np.array(between_region_distances)\n",
    "\n",
    "print(f\"Number of within-plot distances: {len(vector_within_plots)}\")\n",
    "print(f\"Number of between-plot (same region) distances: {len(vector_between_plots_same_region)}\")\n",
    "print(f\"Number of between-region distances: {len(vector_between_regions)}\")"
   ]
  },
  {
   "cell_type": "markdown",
   "id": "a625c2c6",
   "metadata": {},
   "source": [
    "# Statistical testing"
   ]
  },
  {
   "cell_type": "code",
   "execution_count": 265,
   "id": "627ae88a",
   "metadata": {},
   "outputs": [
    {
     "name": "stdout",
     "output_type": "stream",
     "text": [
      "Kruskal-Wallis H-statistic: 796.7407546137916\n",
      "Kruskal-Wallis p-value: 9.77109828801826e-174\n",
      "\n",
      "Pairwise Mann-Whitney U test results:\n"
     ]
    },
    {
     "data": {
      "text/html": [
       "<div>\n",
       "<style scoped>\n",
       "    .dataframe tbody tr th:only-of-type {\n",
       "        vertical-align: middle;\n",
       "    }\n",
       "\n",
       "    .dataframe tbody tr th {\n",
       "        vertical-align: top;\n",
       "    }\n",
       "\n",
       "    .dataframe thead th {\n",
       "        text-align: right;\n",
       "    }\n",
       "</style>\n",
       "<table border=\"1\" class=\"dataframe\">\n",
       "  <thead>\n",
       "    <tr style=\"text-align: right;\">\n",
       "      <th></th>\n",
       "      <th>Group 1</th>\n",
       "      <th>Group 2</th>\n",
       "      <th>Statistic</th>\n",
       "      <th>p-value</th>\n",
       "    </tr>\n",
       "  </thead>\n",
       "  <tbody>\n",
       "    <tr>\n",
       "      <th>0</th>\n",
       "      <td>Between Regions</td>\n",
       "      <td>Between Plots</td>\n",
       "      <td>1654536.5</td>\n",
       "      <td>1.363337e-161</td>\n",
       "    </tr>\n",
       "    <tr>\n",
       "      <th>1</th>\n",
       "      <td>Between Regions</td>\n",
       "      <td>Within Plots</td>\n",
       "      <td>128275.0</td>\n",
       "      <td>1.914563e-37</td>\n",
       "    </tr>\n",
       "    <tr>\n",
       "      <th>2</th>\n",
       "      <td>Between Plots</td>\n",
       "      <td>Within Plots</td>\n",
       "      <td>100034.0</td>\n",
       "      <td>6.393428e-05</td>\n",
       "    </tr>\n",
       "  </tbody>\n",
       "</table>\n",
       "</div>"
      ],
      "text/plain": [
       "           Group 1        Group 2  Statistic        p-value\n",
       "0  Between Regions  Between Plots  1654536.5  1.363337e-161\n",
       "1  Between Regions   Within Plots   128275.0   1.914563e-37\n",
       "2    Between Plots   Within Plots   100034.0   6.393428e-05"
      ]
     },
     "execution_count": 265,
     "metadata": {},
     "output_type": "execute_result"
    }
   ],
   "source": [
    "def pairwise_mann_whitney(vectors, names):\n",
    "    results = []\n",
    "    for (name1, vec1), (name2, vec2) in combinations(zip(names, vectors), 2):\n",
    "        statistic, p_value = stats.mannwhitneyu(vec1, vec2, alternative='two-sided')\n",
    "        results.append({\n",
    "            'Group 1': name1,\n",
    "            'Group 2': name2,\n",
    "            'Statistic': statistic,\n",
    "            'p-value': p_value })\n",
    "    return pd.DataFrame(results)\n",
    "\n",
    "vectors = [vector_between_regions, vector_between_plots_same_region, vector_within_plots]\n",
    "names = ['Between Regions', 'Between Plots', 'Within Plots']\n",
    "\n",
    "# Kruskal-Wallis test\n",
    "h_statistic, kw_p_value = stats.kruskal(*vectors)\n",
    "\n",
    "print(f\"Kruskal-Wallis H-statistic: {h_statistic}\")\n",
    "print(f\"Kruskal-Wallis p-value: {kw_p_value}\")\n",
    "\n",
    "# pairwise Mann-Whitney U tests\n",
    "pairwise_results = pairwise_mann_whitney(vectors, names)\n",
    "\n",
    "print(\"\\nPairwise Mann-Whitney U test results:\")\n",
    "pairwise_results"
   ]
  },
  {
   "cell_type": "code",
   "execution_count": 247,
   "id": "150481fc",
   "metadata": {},
   "outputs": [
    {
     "data": {
      "image/png": "[encoded data removed]",
      "text/plain": [
       "<Figure size 400x400 with 1 Axes>"
      ]
     },
     "metadata": {},
     "output_type": "display_data"
    }
   ],
   "source": [
    "# Define colors (matching potential data order)\n",
    "colors = [\"#22A884FF\", \"#2A788EFF\", \"#414487FF\"]\n",
    "labels = ['Within plots', 'Between plots', 'Between regions']\n",
    "\n",
    "# Filter out empty vectors and corresponding colors/labels\n",
    "vectors = [vector_within_plots, vector_between_plots_same_region, vector_between_regions]\n",
    "valid_indices = [i for i, v in enumerate(vectors) if len(v) > 0]\n",
    "filtered_vectors = [vectors[i] for i in valid_indices]\n",
    "filtered_colors = [colors[i] for i in valid_indices]\n",
    "filtered_labels = [labels[i] for i in valid_indices]\n",
    "\n",
    "# Create the boxplot only if there's data\n",
    "if filtered_vectors:\n",
    "    fig, ax = plt.subplots(figsize=(4,4))\n",
    "    boxplot = sns.boxplot(data=filtered_vectors, palette=filtered_colors, showfliers=False, ax=ax)\n",
    "\n",
    "    # Remove x-axis labels and ticks\n",
    "    boxplot.set(xticklabels=[])\n",
    "    boxplot.tick_params(bottom=False)\n",
    "\n",
    "    # Add legend dynamically\n",
    "    patches = [mpatches.Patch(color=filtered_colors[i], label=filtered_labels[i]) for i in range(len(filtered_colors))]\n",
    "    #plt.legend(handles=patches, loc='upper center', bbox_to_anchor=(0.5, -0.01), ncol=len(patches), prop={'size': 11})\n",
    "\n",
    "    # Add median values only for non-empty vectors\n",
    "    medians = [np.median(filtered_vectors[i]).round(3) for i in range(len(filtered_vectors))]\n",
    "\n",
    "    for i, median in enumerate(medians):\n",
    "        boxplot.annotate(f\"{median:.3f}\", \n",
    "                         xy=(i, median),\n",
    "                         horizontalalignment='center',\n",
    "                         verticalalignment='center',\n",
    "                         color='white',\n",
    "                         fontweight='bold')\n",
    "        \n",
    "    plt.savefig(f\"{matrix_type}_{year}_boxplot.png\", dpi=1000, bbox_inches='tight')\n",
    "    plt.show()"
   ]
  },
  {
   "cell_type": "code",
   "execution_count": null,
   "id": "628f443b",
   "metadata": {},
   "outputs": [],
   "source": []
  },
  {
   "cell_type": "code",
   "execution_count": null,
   "id": "c0b80908",
   "metadata": {},
   "outputs": [],
   "source": []
  },
  {
   "cell_type": "code",
   "execution_count": null,
   "id": "11f0e6bb",
   "metadata": {},
   "outputs": [],
   "source": []
  },
  {
   "cell_type": "code",
   "execution_count": null,
   "id": "faa7597a",
   "metadata": {},
   "outputs": [],
   "source": []
  }
 ],
 "metadata": {
  "kernelspec": {
   "display_name": "Python 3 (ipykernel)",
   "language": "python",
   "name": "python3"
  },
  "language_info": {
   "codemirror_mode": {
    "name": "ipython",
    "version": 3
   },
   "file_extension": ".py",
   "mimetype": "text/x-python",
   "name": "python",
   "nbconvert_exporter": "python",
   "pygments_lexer": "ipython3",
   "version": "3.10.14"
  }
 },
 "nbformat": 4,
 "nbformat_minor": 5
}
