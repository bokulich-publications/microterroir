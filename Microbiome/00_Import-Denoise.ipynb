{
 "cells": [
  {
   "cell_type": "markdown",
   "metadata": {},
   "source": [
    "# Importing and Denoising LP3\n",
    "\n",
    "> downloaded the demultiplexed files from FGCZ \n",
    "\n",
    "\n",
    "## 1. File Preprocessing for Import\n",
    "\n",
    "To import files to QIIME2 with Casava1.8 format we first have to add the Lane number (since it's a full flow cell this is not specified)"
   ]
  },
  {
   "cell_type": "code",
   "execution_count": null,
   "metadata": {},
   "outputs": [],
   "source": [
    "%%bash \n",
    "\n",
    "## add lane number \n",
    "cd /home/lfloerl/cloud/lfloerl/Microterroir/o36452_NextSeq_241102_NS2k-400 \n",
    "\n",
    "# Loop through all fastq.gz files in the directory\n",
    "for file in *.fastq.gz; \n",
    "do \n",
    "  # Extract the parts of the filename\n",
    "  base_name=$(echo \"$file\" | sed -E 's/(.*)(_R[12]_001\\.fastq\\.gz)/\\1_L001\\2/')\n",
    "  \n",
    "  # Rename the file\n",
    "  mv \"$file\" \"$base_name\"\n",
    "done"
   ]
  },
  {
   "cell_type": "markdown",
   "metadata": {},
   "source": [
    "## 2. Move the 16S and ITS reads respective folders\n",
    "\n",
    "FGCZ assigned new IDs, so we have to move the files to import fungal and bacterial data seperately."
   ]
  },
  {
   "cell_type": "code",
   "execution_count": null,
   "metadata": {},
   "outputs": [],
   "source": [
    "%%bash\n",
    "\n",
    "## split by 16S & ITS reads\n",
    "mkdir -p ITS\n",
    "mkdir -p 16S\n",
    "\n",
    "# Loop through all fastq.gz files in the current directory\n",
    "for file in *.fastq.gz; do\n",
    "  # Check if the filename contains 'ITS'\n",
    "  if [[ \"$file\" == *ITS* ]]; then\n",
    "    mv \"$file\" ITS/\n",
    "  elif [[ \"$file\" == *16S* ]]; then\n",
    "    mv \"$file\" 16S/\n",
    "  fi\n",
    "done"
   ]
  },
  {
   "cell_type": "markdown",
   "metadata": {},
   "source": [
    "## 3. Import files to QIIME2 "
   ]
  },
  {
   "cell_type": "code",
   "execution_count": null,
   "metadata": {},
   "outputs": [],
   "source": [
    "%%bash \n",
    "\n",
    "mkdir /home/lfloerl/cloud/lfloerl/Microterroir/artifacts\n",
    "cd /home/lfloerl/cloud/lfloerl/Microterroir/artifacts \n",
    "\n",
    "mkdir -p ITS\n",
    "mkdir -p 16S\n",
    "\n",
    "time qiime tools import \\\n",
    "  --type 'SampleData[PairedEndSequencesWithQuality]' \\\n",
    "  --input-path /home/lfloerl/cloud/lfloerl/Microterroir/o36452_NextSeq_241102_NS2k-400/16S \\\n",
    "  --input-format CasavaOneEightSingleLanePerSampleDirFmt \\\n",
    "  --output-path 16S/16S-demux-paired-end.qza\n",
    "\n",
    "qiime demux summarize --i-data 16S/16S-demux-paired-end.qza --o-visualization 16S/16S-demux-paired-end.qzv\n",
    "\n",
    "time qiime tools import \\\n",
    "  --type 'SampleData[PairedEndSequencesWithQuality]' \\\n",
    "  --input-path /home/lfloerl/cloud/lfloerl/Microterroir/o36452_NextSeq_241102_NS2k-400/ITS \\\n",
    "  --input-format CasavaOneEightSingleLanePerSampleDirFmt \\\n",
    "  --output-path ITS/ITS-demux-paired-end.qza\n",
    "\n",
    "qiime demux summarize --i-data ITS/ITS-demux-paired-end.qza --o-visualization ITS/ITS-demux-paired-end.qzv"
   ]
  },
  {
   "cell_type": "markdown",
   "metadata": {},
   "source": [
    "## 4. Denoise \n",
    "\n",
    "### 4.1. Denoise 16S paired end "
   ]
  },
  {
   "cell_type": "code",
   "execution_count": null,
   "metadata": {},
   "outputs": [],
   "source": [
    "%%bash \n",
    "\n",
    "cd /home/lfloerl/cloud/lfloerl/Microterroir/artifacts \n",
    "\n",
    "mkdir 16S/bac-dada2\n",
    "\n",
    "time qiime dada2 denoise-paired \\\n",
    "    --i-demultiplexed-seqs 16S/16S-demux-paired-end.qza \\\n",
    "    --p-trunc-len-f 190 \\\n",
    "    --p-trunc-len-r 165 \\\n",
    "    --p-n-threads 5 \\\n",
    "    --o-representative-sequences 16S/bac-dada2/dada-rep-seqs.qza \\\n",
    "    --o-table 16S/bac-dada2/dada-table.qza \\\n",
    "    --o-denoising-stats 16S/bac-dada2/dada-stats.qza"
   ]
  }
 ],
 "metadata": {
  "kernelspec": {
   "display_name": "qiime2-amplicon-2024.2",
   "language": "python",
   "name": "python3"
  },
  "language_info": {
   "name": "python",
   "version": "3.8.18"
  }
 },
 "nbformat": 4,
 "nbformat_minor": 2
}
