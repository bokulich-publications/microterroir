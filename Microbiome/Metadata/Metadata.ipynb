{
 "cells": [
  {
   "cell_type": "markdown",
   "metadata": {},
   "source": [
    "# Metadata Microterroir "
   ]
  },
  {
   "cell_type": "code",
   "execution_count": 37,
   "metadata": {},
   "outputs": [
    {
     "name": "stdout",
     "output_type": "stream",
     "text": [
      "/home/lfloerl/microterroir/Microbiome/Metadata\n"
     ]
    }
   ],
   "source": [
    "wd = '/home/lfloerl/microterroir/Microbiome/Metadata'\n",
    "%cd $wd "
   ]
  },
  {
   "cell_type": "code",
   "execution_count": 38,
   "metadata": {},
   "outputs": [],
   "source": [
    "import pandas as pd\n",
    "import biom\n",
    "import re\n",
    "import numpy as np\n",
    "from qiime2 import Metadata\n",
    "from sklearn.cluster import KMeans\n",
    "from sklearn.preprocessing import StandardScaler\n",
    "import matplotlib.pyplot as plt\n",
    "from collections import defaultdict\n",
    "\n",
    "%matplotlib inline"
   ]
  },
  {
   "cell_type": "markdown",
   "metadata": {},
   "source": [
    "## Import raw metadata files"
   ]
  },
  {
   "cell_type": "code",
   "execution_count": 39,
   "metadata": {},
   "outputs": [],
   "source": [
    "# FGCZ metadata \n",
    "md_pooling = pd.read_csv('RawMD-Demux.csv')\n",
    "md_pooling['Library_ID'] = md_pooling['Name'].str.split('-').str[-2] + '-' + md_pooling['Name'].str.split('-').str[-1]\n",
    "\n",
    "# our own sample file \n",
    "md_samples = pd.read_csv('RawMD-LibraryPrep-LP3.csv')\n",
    "md_samples['Library_ID_16S'] = md_samples['unique_16S_ID'].str.split('-').str[-2] + '-' + md_samples['unique_16S_ID'].str.split('-').str[-1]\n",
    "md_samples['Library_ID_ITS'] = md_samples['unique_ITS_ID'].str.split('-').str[-2] + '-' + md_samples['unique_ITS_ID'].str.split('-').str[-1]"
   ]
  },
  {
   "cell_type": "markdown",
   "metadata": {},
   "source": [
    "# Make basic 16S / ITS metadata files "
   ]
  },
  {
   "cell_type": "code",
   "execution_count": 40,
   "metadata": {},
   "outputs": [],
   "source": [
    "# 16S \n",
    "md_16S = pd.merge(md_pooling, md_samples, left_on='Library_ID', right_on='Library_ID_16S')\n",
    "md_16S = md_16S[['Name', 'SAMPLE_NAME', 'CTRL', 'Project', 'DNA_extraction_plate', 'Plate', 'Bacterial conc. (ng/uL)']]\n",
    "md_16S['Bacterial conc. (ng/uL)'] = md_16S['Bacterial conc. (ng/uL)'].apply(lambda x: 0.001 if x <= 0 else x)\n",
    "md_16S.set_index('Name', inplace=True)\n",
    "md_16S.index.name = 'id'\n",
    "md_16S.to_csv('16S_md.tsv', sep='\\t')\n",
    "\n",
    "# ITS \n",
    "md_ITS = pd.merge(md_pooling, md_samples, left_on='Library_ID', right_on='Library_ID_ITS')\n",
    "md_ITS = md_ITS[['Name', 'SAMPLE_NAME', 'CTRL', 'Project', 'DNA_extraction_plate', 'Plate', 'Fungal conc. (ng/uL)']]\n",
    "md_ITS['Fungal conc. (ng/uL)'] = md_ITS['Fungal conc. (ng/uL)'].apply(lambda x: 0.001 if x <= 0 else x)\n",
    "md_ITS.set_index('Name', inplace=True)\n",
    "md_ITS.index.name = 'id'\n",
    "md_ITS.to_csv('ITS_md.tsv', sep='\\t')"
   ]
  },
  {
   "cell_type": "code",
   "execution_count": 41,
   "metadata": {},
   "outputs": [
    {
     "data": {
      "text/html": [
       "<div>\n",
       "<style scoped>\n",
       "    .dataframe tbody tr th:only-of-type {\n",
       "        vertical-align: middle;\n",
       "    }\n",
       "\n",
       "    .dataframe tbody tr th {\n",
       "        vertical-align: top;\n",
       "    }\n",
       "\n",
       "    .dataframe thead th {\n",
       "        text-align: right;\n",
       "    }\n",
       "</style>\n",
       "<table border=\"1\" class=\"dataframe\">\n",
       "  <thead>\n",
       "    <tr style=\"text-align: right;\">\n",
       "      <th></th>\n",
       "      <th>SAMPLE_NAME</th>\n",
       "      <th>CTRL</th>\n",
       "      <th>Project</th>\n",
       "      <th>DNA_extraction_plate</th>\n",
       "      <th>Plate</th>\n",
       "      <th>Fungal conc. (ng/uL)</th>\n",
       "    </tr>\n",
       "    <tr>\n",
       "      <th>id</th>\n",
       "      <th></th>\n",
       "      <th></th>\n",
       "      <th></th>\n",
       "      <th></th>\n",
       "      <th></th>\n",
       "      <th></th>\n",
       "    </tr>\n",
       "  </thead>\n",
       "  <tbody>\n",
       "    <tr>\n",
       "      <th>364526_478-LP3-ITS-1054</th>\n",
       "      <td>DNA24_negCtrl_2</td>\n",
       "      <td>NegCtrl</td>\n",
       "      <td>BotrytizedWine</td>\n",
       "      <td>DNA41</td>\n",
       "      <td>P11</td>\n",
       "      <td>3.0</td>\n",
       "    </tr>\n",
       "    <tr>\n",
       "      <th>364526_357-LP3-ITS-0933</th>\n",
       "      <td>MV_Post-AF_Plot4_2023-10-11</td>\n",
       "      <td>Sample</td>\n",
       "      <td>Lavaux</td>\n",
       "      <td>DNA42</td>\n",
       "      <td>P10</td>\n",
       "      <td>0.7</td>\n",
       "    </tr>\n",
       "    <tr>\n",
       "      <th>364526_236-LP3-ITS-0812</th>\n",
       "      <td>Lavaux_2023-09-20_must_Plot14_RepE</td>\n",
       "      <td>Sample</td>\n",
       "      <td>Lavaux</td>\n",
       "      <td>DNA40</td>\n",
       "      <td>P9</td>\n",
       "      <td>3.5</td>\n",
       "    </tr>\n",
       "    <tr>\n",
       "      <th>364526_479-LP3-ITS-1055</th>\n",
       "      <td>DNA41_negCtrl_2</td>\n",
       "      <td>NegCtrl</td>\n",
       "      <td>BotrytizedWine</td>\n",
       "      <td>DNA41</td>\n",
       "      <td>P11</td>\n",
       "      <td>15.3</td>\n",
       "    </tr>\n",
       "    <tr>\n",
       "      <th>364526_358-LP3-ITS-0934</th>\n",
       "      <td>MV_Must_Plot9_2023-09-23</td>\n",
       "      <td>Sample</td>\n",
       "      <td>Lavaux</td>\n",
       "      <td>DNA42</td>\n",
       "      <td>P10</td>\n",
       "      <td>7.8</td>\n",
       "    </tr>\n",
       "  </tbody>\n",
       "</table>\n",
       "</div>"
      ],
      "text/plain": [
       "                                                SAMPLE_NAME     CTRL  \\\n",
       "id                                                                     \n",
       "364526_478-LP3-ITS-1054                     DNA24_negCtrl_2  NegCtrl   \n",
       "364526_357-LP3-ITS-0933         MV_Post-AF_Plot4_2023-10-11   Sample   \n",
       "364526_236-LP3-ITS-0812  Lavaux_2023-09-20_must_Plot14_RepE   Sample   \n",
       "364526_479-LP3-ITS-1055                     DNA41_negCtrl_2  NegCtrl   \n",
       "364526_358-LP3-ITS-0934            MV_Must_Plot9_2023-09-23   Sample   \n",
       "\n",
       "                                Project DNA_extraction_plate Plate  \\\n",
       "id                                                                   \n",
       "364526_478-LP3-ITS-1054  BotrytizedWine                DNA41   P11   \n",
       "364526_357-LP3-ITS-0933          Lavaux                DNA42   P10   \n",
       "364526_236-LP3-ITS-0812          Lavaux                DNA40    P9   \n",
       "364526_479-LP3-ITS-1055  BotrytizedWine                DNA41   P11   \n",
       "364526_358-LP3-ITS-0934          Lavaux                DNA42   P10   \n",
       "\n",
       "                         Fungal conc. (ng/uL)  \n",
       "id                                             \n",
       "364526_478-LP3-ITS-1054                   3.0  \n",
       "364526_357-LP3-ITS-0933                   0.7  \n",
       "364526_236-LP3-ITS-0812                   3.5  \n",
       "364526_479-LP3-ITS-1055                  15.3  \n",
       "364526_358-LP3-ITS-0934                   7.8  "
      ]
     },
     "execution_count": 41,
     "metadata": {},
     "output_type": "execute_result"
    }
   ],
   "source": [
    "md_ITS.head()"
   ]
  },
  {
   "cell_type": "markdown",
   "metadata": {},
   "source": [
    "# Make Lavaux Metadata files "
   ]
  },
  {
   "cell_type": "code",
   "execution_count": 42,
   "metadata": {
    "scrolled": true
   },
   "outputs": [],
   "source": [
    "# Lavaux metadata \n",
    "md_lavaux = pd.read_csv('RawMD-LavauxSamples.csv')\n",
    "md_lavaux = md_lavaux.dropna(how='all')\n",
    "\n",
    "# split \n",
    "md_lavaux[['Time_point', 'Year']] = md_lavaux['Collection_ID'].str.split('_', expand=True)\n",
    "# drop unnecessary columns \n",
    "md_lavaux = md_lavaux.drop(columns=[\"DNAextraction_plate\", 'Row #', \"Lat.\",  \"Long.\", 'Plot #', 'Collected by ', 'Vine #', 'id_sampling', \"DNAextraction_well\", \"openBIS identifier\", \"Comment\"])\n",
    "# set col types \n",
    "md_lavaux['LOCATION_ID'] = md_lavaux['LOCATION_ID'].astype('category')\n",
    "md_lavaux['Time_point'] = md_lavaux['Time_point'].astype('category')\n",
    "md_lavaux['Year_Cat'] = 'Year' + md_lavaux['Year']\n",
    "md_lavaux['Year'] = md_lavaux['Year'].astype('int64')  \n",
    "# rename the columns for the dense sampling in 2021 \n",
    "md_lavaux = md_lavaux.rename(columns={\"LOCATION_ID\": \"Plot_ID\", \"sample type\":\"sample_type\"})"
   ]
  },
  {
   "cell_type": "markdown",
   "metadata": {},
   "source": [
    "### Add a column with the fermentation time points"
   ]
  },
  {
   "cell_type": "code",
   "execution_count": 43,
   "metadata": {},
   "outputs": [],
   "source": [
    "# Mapping dictionary for sample_type to Fermentation_Timepoint\n",
    "timepoint_mapping = {\n",
    "    'must': 0,\n",
    "    'MV-must': 1,\n",
    "    'Post-MLF': 3,\n",
    "    'Post-AF': 2}\n",
    "\n",
    "# Create the new 'Fermentation_Timepoint' column based on the sample_type column\n",
    "md_lavaux['Fermentation_Timepoint'] = md_lavaux['sample_type'].map(timepoint_mapping)\n"
   ]
  },
  {
   "cell_type": "markdown",
   "metadata": {},
   "source": [
    "### Add a column to match the Microvinification Metabolomics \n",
    "--> The PostAF 2022 sample is considered a PostMLF sample "
   ]
  },
  {
   "cell_type": "code",
   "execution_count": 44,
   "metadata": {},
   "outputs": [],
   "source": [
    "md_lavaux.loc[(md_lavaux['Collection_ID'] == 'Microvinification_2022') & \n",
    "    (md_lavaux['sample_type'] == 'Post-AF'), \n",
    "    'sample_type'] = 'Post-MLF'"
   ]
  },
  {
   "cell_type": "markdown",
   "metadata": {},
   "source": [
    "## Add geospatial clusters"
   ]
  },
  {
   "cell_type": "code",
   "execution_count": 45,
   "metadata": {},
   "outputs": [],
   "source": [
    "# plots metadata\n",
    "md_plot_raw = pd.read_csv('RawMD-Lavaux_plots.csv')"
   ]
  },
  {
   "cell_type": "markdown",
   "metadata": {},
   "source": [
    "### Quadrant "
   ]
  },
  {
   "cell_type": "code",
   "execution_count": 46,
   "metadata": {},
   "outputs": [],
   "source": [
    "# Extract the longitude, latitude, and sample ID columns\n",
    "longitude = md_plot_raw['Longitude'].values\n",
    "latitude = md_plot_raw['Latitude'].values\n",
    "sample_ids = md_plot_raw.index\n",
    "\n",
    "# Define the bounds for the Quadtree\n",
    "x_bounds = (longitude.min(), longitude.max())\n",
    "y_bounds = (latitude.min(), latitude.max())\n",
    "\n",
    "# Initialize the Quadtree structure\n",
    "threshold = 4  # Set the threshold for splitting, change this as per your clustering scheme\n",
    "quadtree = defaultdict(list)\n",
    "\n",
    "# Function to determine the quadrant based on the coordinate\n",
    "def get_quadrant(x, y):\n",
    "    x_mid = (x_bounds[0] + x_bounds[1]) / 2\n",
    "    y_mid = (y_bounds[0] + y_bounds[1]) / 2\n",
    "    \n",
    "    if x < x_mid:\n",
    "        if y < y_mid:\n",
    "            return \"SW\"  # South-West\n",
    "        else:\n",
    "            return \"NW\"  # North-West\n",
    "    else:\n",
    "        if y < y_mid:\n",
    "            return \"SE\"  # South-East\n",
    "        else:\n",
    "            return \"NE\"  # North-East\n",
    "\n",
    "# Insert each sample into the quadtree based on its coordinates\n",
    "for sample_id, x, y in zip(sample_ids, longitude, latitude):\n",
    "    quadrant = get_quadrant(x, y)\n",
    "    quadtree[quadrant].append((sample_id, x, y))\n",
    "\n",
    "# Collect the clustered points into a DataFrame\n",
    "clustered_samples = []\n",
    "for quadrant, points in quadtree.items():\n",
    "    for sample_id, x, y in points:\n",
    "        clustered_samples.append([sample_id, x, y, quadrant])\n",
    "\n",
    "# Convert the clustered points into a DataFrame using pd.concat\n",
    "cluster_df = pd.DataFrame(clustered_samples, columns=['SampleID', 'Longitude', 'Latitude', 'Quadrant'])\n",
    "\n",
    "# Add the 'Quadrant' column to the original md_plots DataFrame\n",
    "md_plot_raw['Quadrant'] = md_plot_raw.index.map(lambda x: next(quadrant for quadrant, points in quadtree.items() if any(s[0] == x for s in points)))"
   ]
  },
  {
   "cell_type": "markdown",
   "metadata": {},
   "source": [
    "### K-Means"
   ]
  },
  {
   "cell_type": "code",
   "execution_count": 47,
   "metadata": {},
   "outputs": [
    {
     "data": {
      "image/png": "[encoded data removed]",
      "text/plain": [
       "<Figure size 500x300 with 1 Axes>"
      ]
     },
     "metadata": {},
     "output_type": "display_data"
    }
   ],
   "source": [
    "# Assuming md_plots contains 'latitude' and 'longitude' columns\n",
    "latitude = md_plot_raw['Latitude'].values\n",
    "longitude = md_plot_raw['Longitude'].values\n",
    "sample_ids = md_plot_raw.index\n",
    "\n",
    "# Step 1: Create a DataFrame with coordinates\n",
    "coords = np.vstack([latitude, longitude]).T\n",
    "\n",
    "# Step 2: Scale the data (optional, but sometimes helpful for numerical stability)\n",
    "scaler = StandardScaler()\n",
    "scaled_coords = scaler.fit_transform(coords)\n",
    "\n",
    "# Step 3: Use the Elbow Method to determine the optimal number of clusters (K)\n",
    "# Elbow Method: Find the point where the inertia (within-cluster sum of squared distances) stops decreasing significantly\n",
    "inertia = []\n",
    "K_range = range(1, 11)  # Test K from 1 to 10\n",
    "\n",
    "for k in K_range:\n",
    "    kmeans = KMeans(n_clusters=k, random_state=42)\n",
    "    kmeans.fit(scaled_coords)\n",
    "    inertia.append(kmeans.inertia_)\n",
    "\n",
    "# Plot the elbow graph\n",
    "plt.figure(figsize=(5, 3))\n",
    "plt.plot(K_range, inertia, marker='o')\n",
    "plt.title('Elbow for Optimal K')\n",
    "plt.xlabel('Number of Clusters (K)')\n",
    "plt.ylabel('Inertia')\n",
    "plt.show()"
   ]
  },
  {
   "cell_type": "code",
   "execution_count": 48,
   "metadata": {},
   "outputs": [
    {
     "data": {
      "image/png": "[encoded data removed]",
      "text/plain": [
       "<Figure size 600x400 with 2 Axes>"
      ]
     },
     "metadata": {},
     "output_type": "display_data"
    }
   ],
   "source": [
    "# Step 4: Apply K-Means clustering (let's assume K=3 based on the elbow method)\n",
    "optimal_k = 3  # You can set this based on the elbow plot\n",
    "kmeans = KMeans(n_clusters=optimal_k, random_state=42)\n",
    "md_plot_raw['Cluster'] = kmeans.fit_predict(scaled_coords)\n",
    "# Convert the cluster labels into the 'Cluster1', 'Cluster2', ... format\n",
    "md_plot_raw['Cluster'] = md_plot_raw['Cluster'].apply(lambda x: f'Cluster{x + 1}')\n",
    "\n",
    "# Step 5: Visualize the clusters on a scatter plot with discrete colors for clusters\n",
    "plt.figure(figsize=(6, 4))\n",
    "scatter = plt.scatter(md_plot_raw['Longitude'], md_plot_raw['Latitude'], c=md_plot_raw['Cluster'].astype('category').cat.codes, cmap='viridis', marker='o')\n",
    "\n",
    "# Adding a colorbar with discrete ticks\n",
    "cbar = plt.colorbar(scatter, label='')\n",
    "cbar.set_ticks(np.arange(optimal_k))  # Set the ticks to match the number of clusters\n",
    "cbar.set_ticklabels([f'Cluster {i + 1}' for i in range(optimal_k)]) \n",
    "plt.title(f'K-Means Clustering of Plots (K={optimal_k})')\n",
    "plt.xlabel('Longitude')\n",
    "plt.ylabel('Latitude')\n",
    "plt.show()"
   ]
  },
  {
   "cell_type": "markdown",
   "metadata": {},
   "source": [
    "### Plot Properties PCA K-Means Cluster\n",
    "> note, this csv is generated in the Plots_PCA notebook "
   ]
  },
  {
   "cell_type": "code",
   "execution_count": 49,
   "metadata": {},
   "outputs": [],
   "source": [
    "md_plot_clusters = pd.read_csv('Plot_Clusters.csv')\n",
    "md_plots = pd.merge(md_plot_raw, md_plot_clusters, on='Plot', how='inner')"
   ]
  },
  {
   "cell_type": "markdown",
   "metadata": {},
   "source": [
    "### Merge w Metadata"
   ]
  },
  {
   "cell_type": "code",
   "execution_count": 50,
   "metadata": {
    "scrolled": true
   },
   "outputs": [],
   "source": [
    "# 16S \n",
    "md_16S = md_16S.reset_index(names='id')\n",
    "# merge with Lavaux metadata\n",
    "merged_16S = pd.merge(md_16S[['id', 'SAMPLE_NAME', 'Bacterial conc. (ng/uL)']], \n",
    "    md_lavaux, on='SAMPLE_NAME', how='right')\n",
    "# merge plot metadata \n",
    "merged_16S['Plot'] = merged_16S['Plot_ID'].str.extract(r'(\\d+)$').astype(int)\n",
    "merged_16S = pd.merge(merged_16S, md_plots, left_on='Plot', right_on='Plot', how='left')\n",
    "# add washed column \n",
    "merged_16S['washed'] = merged_16S['SAMPLE_NAME'].apply(lambda x: 'washed' if 'washed' in str(x).lower() else 'no')\n",
    "# set inex again \n",
    "merged_16S = merged_16S.set_index('id')\n",
    "merged_16S = merged_16S[~merged_16S.index.isnull()]\n",
    "# drop duplicate indices \n",
    "merged_16S = merged_16S.loc[~merged_16S.index.duplicated(keep='first')]\n",
    "merged_16S.to_csv('16S_lavaux.tsv', sep='\\t')\n",
    "\n",
    "# ITS \n",
    "md_ITS = md_ITS.reset_index(names='id')\n",
    "merged_ITS = pd.merge(md_ITS[['id', 'SAMPLE_NAME', 'Fungal conc. (ng/uL)']], \n",
    "    md_lavaux, on='SAMPLE_NAME', how='right')\n",
    "merged_ITS['Plot'] = merged_ITS['Plot_ID'].str.extract(r'(\\d+)$').astype(int)\n",
    "merged_ITS = pd.merge(merged_ITS, md_plots, left_on='Plot', right_on='Plot', how='left')\n",
    "merged_ITS['washed'] = merged_ITS['SAMPLE_NAME'].apply(lambda x: 'washed' if 'washed' in str(x).lower() else 'no')\n",
    "merged_ITS = merged_ITS.set_index('id')\n",
    "merged_ITS = merged_ITS[~merged_ITS.index.isnull()]\n",
    "merged_ITS = merged_ITS.loc[~merged_ITS.index.duplicated(keep='first')]\n",
    "merged_ITS.to_csv('ITS_lavaux.tsv', sep='\\t')"
   ]
  },
  {
   "cell_type": "code",
   "execution_count": 51,
   "metadata": {},
   "outputs": [],
   "source": [
    "# check if it imports\n",
    "md = Metadata.load('/home/lfloerl/microterroir/Microbiome/Metadata/ITS_lavaux.tsv')"
   ]
  },
  {
   "cell_type": "markdown",
   "metadata": {},
   "source": [
    "### Lavaux dense berry sampling harvest 2021 \n",
    "add new coordinates"
   ]
  },
  {
   "cell_type": "code",
   "execution_count": 52,
   "metadata": {
    "scrolled": true
   },
   "outputs": [
    {
     "data": {
      "text/html": [
       "<div>\n",
       "<style scoped>\n",
       "    .dataframe tbody tr th:only-of-type {\n",
       "        vertical-align: middle;\n",
       "    }\n",
       "\n",
       "    .dataframe tbody tr th {\n",
       "        vertical-align: top;\n",
       "    }\n",
       "\n",
       "    .dataframe thead th {\n",
       "        text-align: right;\n",
       "    }\n",
       "</style>\n",
       "<table border=\"1\" class=\"dataframe\">\n",
       "  <thead>\n",
       "    <tr style=\"text-align: right;\">\n",
       "      <th></th>\n",
       "      <th>SAMPLE_NAME</th>\n",
       "      <th>plot</th>\n",
       "      <th>row</th>\n",
       "      <th>vine</th>\n",
       "      <th>Lat</th>\n",
       "      <th>Long</th>\n",
       "    </tr>\n",
       "    <tr>\n",
       "      <th>id</th>\n",
       "      <th></th>\n",
       "      <th></th>\n",
       "      <th></th>\n",
       "      <th></th>\n",
       "      <th></th>\n",
       "      <th></th>\n",
       "    </tr>\n",
       "  </thead>\n",
       "  <tbody>\n",
       "    <tr>\n",
       "      <th>364527_027-LP3-16S-0027</th>\n",
       "      <td>Lavaux_2021-09-30_must_Plot4_Row6/Vine10_ID1</td>\n",
       "      <td>4</td>\n",
       "      <td>6</td>\n",
       "      <td>10</td>\n",
       "      <td>46.498412</td>\n",
       "      <td>6.708026</td>\n",
       "    </tr>\n",
       "    <tr>\n",
       "      <th>364527_048-LP3-16S-0048</th>\n",
       "      <td>Lavaux_2021-09-30_must_Plot4_Row6/Vine30_ID2</td>\n",
       "      <td>4</td>\n",
       "      <td>6</td>\n",
       "      <td>30</td>\n",
       "      <td>46.498521</td>\n",
       "      <td>6.708104</td>\n",
       "    </tr>\n",
       "    <tr>\n",
       "      <th>364527_166-LP3-16S-0166</th>\n",
       "      <td>Lavaux_2021-09-30_must_Plot4_Row7/Vine20_ID3</td>\n",
       "      <td>4</td>\n",
       "      <td>7</td>\n",
       "      <td>20</td>\n",
       "      <td>46.498458</td>\n",
       "      <td>6.708079</td>\n",
       "    </tr>\n",
       "    <tr>\n",
       "      <th>364527_019-LP3-16S-0019</th>\n",
       "      <td>Lavaux_2021-09-30_must_Plot4_Row8/Vine10_ID4</td>\n",
       "      <td>4</td>\n",
       "      <td>8</td>\n",
       "      <td>10</td>\n",
       "      <td>46.498383</td>\n",
       "      <td>6.708045</td>\n",
       "    </tr>\n",
       "    <tr>\n",
       "      <th>364527_075-LP3-16S-0075</th>\n",
       "      <td>Lavaux_2021-09-30_must_Plot4_Row8/Vine30_ID5</td>\n",
       "      <td>4</td>\n",
       "      <td>8</td>\n",
       "      <td>30</td>\n",
       "      <td>46.498503</td>\n",
       "      <td>6.708129</td>\n",
       "    </tr>\n",
       "  </tbody>\n",
       "</table>\n",
       "</div>"
      ],
      "text/plain": [
       "                                                          SAMPLE_NAME  plot  \\\n",
       "id                                                                            \n",
       "364527_027-LP3-16S-0027  Lavaux_2021-09-30_must_Plot4_Row6/Vine10_ID1     4   \n",
       "364527_048-LP3-16S-0048  Lavaux_2021-09-30_must_Plot4_Row6/Vine30_ID2     4   \n",
       "364527_166-LP3-16S-0166  Lavaux_2021-09-30_must_Plot4_Row7/Vine20_ID3     4   \n",
       "364527_019-LP3-16S-0019  Lavaux_2021-09-30_must_Plot4_Row8/Vine10_ID4     4   \n",
       "364527_075-LP3-16S-0075  Lavaux_2021-09-30_must_Plot4_Row8/Vine30_ID5     4   \n",
       "\n",
       "                         row  vine        Lat      Long  \n",
       "id                                                       \n",
       "364527_027-LP3-16S-0027    6    10  46.498412  6.708026  \n",
       "364527_048-LP3-16S-0048    6    30  46.498521  6.708104  \n",
       "364527_166-LP3-16S-0166    7    20  46.498458  6.708079  \n",
       "364527_019-LP3-16S-0019    8    10  46.498383  6.708045  \n",
       "364527_075-LP3-16S-0075    8    30  46.498503  6.708129  "
      ]
     },
     "execution_count": 52,
     "metadata": {},
     "output_type": "execute_result"
    }
   ],
   "source": [
    "# Lavaux metadata \n",
    "md_lavaux = pd.read_csv('RawMD-LavauxSamples.csv')\n",
    "md_lavaux = md_lavaux.dropna(how='all')\n",
    "\n",
    "# new coordinates file \n",
    "md_coordinates = pd.read_csv('RawMD-Lavaux-DenseSampling2021-coordinates.tsv', sep='\\t')\n",
    "\n",
    "\n",
    "# 16S \n",
    "merged_16S_21 = pd.merge(md_16S[['id', 'SAMPLE_NAME']], \n",
    "    md_lavaux, on='SAMPLE_NAME', how='right')\n",
    "# subset to samples from harvest 2021 \n",
    "harvest21_16S = merged_16S_21[merged_16S_21['Collection_ID'] == 'Harvest_2021']\n",
    "# merge! \n",
    "merged_harvest21_16S = harvest21_16S.merge(\n",
    "    md_coordinates,\n",
    "    left_on=['Plot #', 'Row #', 'Vine #'],\n",
    "    right_on=['plot', 'row', 'vine'],\n",
    "    how='left')\n",
    "# drop some columns \n",
    "merged_harvest21_16S = merged_harvest21_16S.drop(columns=['Collection_ID', 'sample type', 'DNAextraction_plate',\n",
    "       'DNAextraction_well', 'LOCATION_ID', 'openBIS identifier',\n",
    "       'Collected by ', 'COLLECTION_DATE', 'Comment', 'id_sampling', 'Plot #',\n",
    "       'Row #', 'Vine #', 'Lat.', 'Long.', 'Replicate', 'id '])\n",
    "# set index and save \n",
    "merged_harvest21_16S = merged_harvest21_16S.set_index('id')\n",
    "merged_harvest21_16S = merged_harvest21_16S[~merged_harvest21_16S.index.isnull()]\n",
    "merged_harvest21_16S = merged_harvest21_16S.loc[~merged_harvest21_16S.index.duplicated(keep='first')]\n",
    "merged_harvest21_16S.to_csv('16S_lavaux_Harvest21.tsv', sep='\\t')\n",
    "\n",
    "\n",
    "# same for ITS\n",
    "merged_ITS_21 = pd.merge(md_ITS[['id', 'SAMPLE_NAME']], md_lavaux, on='SAMPLE_NAME', how='right')\n",
    "harvest21_ITS = merged_ITS_21[merged_ITS_21['Collection_ID'] == 'Harvest_2021']\n",
    "merged_harvest21_ITS = harvest21_ITS.merge( md_coordinates,left_on=['Plot #', 'Row #', 'Vine #'],\n",
    "                                           right_on=['plot', 'row', 'vine'], how='left')\n",
    "merged_harvest21_ITS = merged_harvest21_ITS.drop(columns=['Collection_ID', 'sample type', 'DNAextraction_plate',\n",
    "       'DNAextraction_well', 'LOCATION_ID', 'openBIS identifier',\n",
    "       'Collected by ', 'COLLECTION_DATE', 'Comment', 'id_sampling', 'Plot #',\n",
    "       'Row #', 'Vine #', 'Lat.', 'Long.', 'Replicate', 'id '])\n",
    "merged_harvest21_ITS = merged_harvest21_ITS.set_index('id')\n",
    "merged_harvest21_ITS = merged_harvest21_ITS[~merged_harvest21_ITS.index.isnull()]\n",
    "merged_harvest21_ITS = merged_harvest21_ITS.loc[~merged_harvest21_ITS.index.duplicated(keep='first')]\n",
    "merged_harvest21_ITS.to_csv('ITS_lavaux_Harvest21.tsv', sep='\\t')\n",
    "\n",
    "merged_harvest21_16S.head()"
   ]
  },
  {
   "cell_type": "markdown",
   "metadata": {},
   "source": [
    "# Valais metadata"
   ]
  },
  {
   "cell_type": "code",
   "execution_count": 53,
   "metadata": {
    "scrolled": true
   },
   "outputs": [],
   "source": [
    "# raw valais data on plots etc\n",
    "md_valais = pd.read_csv('RawMD-Valais.csv')\n",
    "\n",
    "# raw valais agronomical data\n",
    "md_valais_ag = pd.read_csv('RawMD-Valais-agronomical_data.csv')\n",
    "md_valais_ag = md_valais_ag.drop(columns=['Variety'])\n",
    "\n",
    "merged_valais = pd.merge(md_valais_ag, md_valais, on='Plot', how='outer')\n",
    "\n",
    "# convert the longitude and latitude\n",
    "merged_valais['Latitude'] = merged_valais['N_deg'] + merged_valais['N_min'] / 60 + md_valais['N_sec'] / 3600\n",
    "merged_valais['Longitude'] = merged_valais['E_deg'] + merged_valais['E_min'] / 60 + md_valais['E_sec'] / 3600\n",
    "# drop some cols \n",
    "merged_valais = merged_valais.drop(columns=['N_deg', 'N_min', 'N_sec', 'E_deg', 'E_min', 'E_sec','GEOL_Desc'])\n",
    "merged_valais['Year'] = '2023'\n",
    "merged_valais['Variety'] = merged_valais['Variety'].str.replace('Pinot Noir', 'PinotNoir')\n",
    "\n",
    "merged_valais['CC_Cat'] = 'CC_' + merged_valais['Cover_Cropping'].astype(str)\n",
    "\n",
    "# make water stress categories\n",
    "def categorize_water_stress(value):\n",
    "    if value >= 7000:\n",
    "        return 'Low Water Stress'\n",
    "    elif 4000 <= value < 7000:\n",
    "        return 'Moderate Water Stress'\n",
    "    elif value < 4000:\n",
    "        return 'High Water Stress'\n",
    "    else:\n",
    "        return 'Unknown'  # For any unexpected values\n",
    "\n",
    "merged_valais['Water_Stress_Cat'] = merged_valais['Water_Stress'].apply(categorize_water_stress)"
   ]
  },
  {
   "cell_type": "code",
   "execution_count": 54,
   "metadata": {},
   "outputs": [
    {
     "name": "stderr",
     "output_type": "stream",
     "text": [
      "/scratch/lfloerl/tmpdata/ipykernel_3304184/1052241.py:6: SettingWithCopyWarning: \n",
      "A value is trying to be set on a copy of a slice from a DataFrame.\n",
      "Try using .loc[row_indexer,col_indexer] = value instead\n",
      "\n",
      "See the caveats in the documentation: https://pandas.pydata.org/pandas-docs/stable/user_guide/indexing.html#returning-a-view-versus-a-copy\n",
      "  md_16S_valais['Num'] = md_16S_valais['SAMPLE_NAME'].str.extract(r'_(\\d+)$')\n"
     ]
    }
   ],
   "source": [
    "# VALAIS metadata: merge with seq id \n",
    "# Filter md_16S for 'Project' = 'Valais'\n",
    "md_16S_valais = md_16S[md_16S['Project'] == 'Valais']\n",
    "# Extract numeric part from 'SAMPLE_NAME' and create a new column for merging\n",
    "# Extract numeric part from 'SAMPLE_NAME'\n",
    "md_16S_valais['Num'] = md_16S_valais['SAMPLE_NAME'].str.extract(r'_(\\d+)$')\n",
    "# Drop rows where 'Num' is NaN\n",
    "md_16S_valais = md_16S_valais.dropna(subset=['Num'])\n",
    "# Convert 'Num' to integers\n",
    "md_16S_valais['Num'] = md_16S_valais['Num'].astype(int)\n",
    "merged_16S_valais = md_16S_valais.merge(merged_valais, on='Num', how='inner')\n",
    "merged_16S_valais = merged_16S_valais.drop(columns=['CTRL', 'Porte_geffe', 'DNA_extraction_plate', 'Plate','Project', 'Bacterial conc. (ng/uL)','Num'])\n",
    "\n",
    "\n",
    "# NOW: merge with Lavaux must 2023 samples \n",
    "merged_16S_must23 = merged_16S[(merged_16S['Collection_ID'] == 'Harvest_2023') & \n",
    "                               (merged_16S['sample_type'] == 'must')]\n",
    "merged_16S_must23 = merged_16S_must23.reset_index(names='id')\n",
    "merged_16S_must23 = merged_16S_must23.drop(columns=['Bacterial conc. (ng/uL)', 'sample_type', 'Altitude', 'Average_slope', 'Exposition',\n",
    "       'Min_radiation', 'Time_point', 'Max_radiation', 'Collection_ID', 'COLLECTION_DATE','Replicate', 'Average_radiation', 'Soil_thickness','Plot_ID', 'Coordinates', 'washed', 'Hydromorphie', 'Hydromorphie_code', 'Geology'])\n",
    "merged_16S_must23['Variety'] ='Chasselas'\n",
    "# Concatenate the two dataframes, aligning on column names\n",
    "merged_16S_valais = pd.concat([merged_16S_valais, merged_16S_must23], join='outer', ignore_index=True)\n",
    "\n",
    "merged_16S_valais = merged_16S_valais.set_index('id')\n",
    "merged_16S_valais.to_csv('16S_Valais_and_Lavaux23.tsv', sep='\\t')"
   ]
  },
  {
   "cell_type": "code",
   "execution_count": 55,
   "metadata": {},
   "outputs": [
    {
     "name": "stderr",
     "output_type": "stream",
     "text": [
      "/scratch/lfloerl/tmpdata/ipykernel_3304184/1900799564.py:4: SettingWithCopyWarning: \n",
      "A value is trying to be set on a copy of a slice from a DataFrame.\n",
      "Try using .loc[row_indexer,col_indexer] = value instead\n",
      "\n",
      "See the caveats in the documentation: https://pandas.pydata.org/pandas-docs/stable/user_guide/indexing.html#returning-a-view-versus-a-copy\n",
      "  md_ITS_valais['Num'] = md_ITS_valais['SAMPLE_NAME'].str.extract(r'_(\\d+)$')\n"
     ]
    }
   ],
   "source": [
    "# VALAIS metadata: merge with seq id \n",
    "# Filter md_ITS for 'Project' = 'Valais'\n",
    "md_ITS_valais = md_ITS[md_ITS['Project'] == 'Valais']\n",
    "md_ITS_valais['Num'] = md_ITS_valais['SAMPLE_NAME'].str.extract(r'_(\\d+)$')\n",
    "md_ITS_valais = md_ITS_valais.dropna(subset=['Num'])\n",
    "md_ITS_valais['Num'] = md_ITS_valais['Num'].astype(int)\n",
    "merged_ITS_valais = md_ITS_valais.merge(merged_valais, on='Num', how='inner')\n",
    "merged_ITS_valais = merged_ITS_valais.drop(columns=[\n",
    "    'CTRL', 'Porte_geffe', 'DNA_extraction_plate', 'Plate', 'Project', \n",
    "    'Fungal conc. (ng/uL)', 'Num'])\n",
    "\n",
    "# NOW: merge with Lavaux must 2023 samples \n",
    "merged_ITS_must23 = merged_ITS[\n",
    "    (merged_ITS['Collection_ID'] == 'Harvest_2023') & \n",
    "    (merged_ITS['sample_type'] == 'must')]\n",
    "\n",
    "merged_ITS_must23 = merged_ITS_must23.reset_index(names='id')\n",
    "merged_ITS_must23.rename(columns={'Plot_ID': 'Location'}, inplace=True)\n",
    "merged_ITS_must23 = merged_ITS_must23.drop(columns=[\n",
    "    'Fungal conc. (ng/uL)', 'sample_type', 'Altitude', 'Average_slope', \n",
    "    'Exposition', 'Min_radiation', 'Time_point', 'Max_radiation', \n",
    "    'Collection_ID', 'COLLECTION_DATE', 'Replicate', 'Average_radiation', \n",
    "    'Soil_thickness', 'Coordinates', 'washed', 'Hydromorphie', \n",
    "    'Hydromorphie_code', 'Geology'])\n",
    "\n",
    "merged_ITS_must23['Variety'] = 'Chasselas'\n",
    "merged_ITS_must23['Region'] = 'Lavaux'\n",
    "merged_ITS_valais['Region'] = 'Valais'\n",
    "\n",
    "merged_ITS_valais = pd.concat([merged_ITS_valais, merged_ITS_must23], join='outer', ignore_index=True)\n",
    "\n",
    "merged_ITS_valais = merged_ITS_valais.set_index('id')\n",
    "merged_ITS_valais.to_csv('ITS_Valais_and_Lavaux23.tsv', sep='\\t')"
   ]
  },
  {
   "cell_type": "markdown",
   "metadata": {},
   "source": [
    "# Berry Chemistry Metadata\n",
    "\n",
    "do not compare across Lavaux and Valais because different methods to measure! \n",
    "\n",
    "## Lavaux"
   ]
  },
  {
   "cell_type": "code",
   "execution_count": 56,
   "metadata": {
    "scrolled": true
   },
   "outputs": [
    {
     "name": "stderr",
     "output_type": "stream",
     "text": [
      "/scratch/lfloerl/tmpdata/ipykernel_3304184/3667198990.py:5: SettingWithCopyWarning: \n",
      "A value is trying to be set on a copy of a slice from a DataFrame.\n",
      "Try using .loc[row_indexer,col_indexer] = value instead\n",
      "\n",
      "See the caveats in the documentation: https://pandas.pydata.org/pandas-docs/stable/user_guide/indexing.html#returning-a-view-versus-a-copy\n",
      "  berries_lavaux['Plot_Rep'] = berries_lavaux.apply(\n"
     ]
    }
   ],
   "source": [
    "# ITS lavaux berry samples \n",
    "ITS_lavaux = pd.read_csv('ITS_lavaux.tsv', sep='\\t')\n",
    "berries_lavaux = ITS_lavaux[ITS_lavaux['sample_type'] == 'must']\n",
    "# add a column for plot & replicates - note in 2022 we collected replicate samples but measured pooled samples  \n",
    "berries_lavaux['Plot_Rep'] = berries_lavaux.apply(\n",
    "    lambda row: str(row['Plot']) if row['Year'] == 2022 else str(row['Plot']) + (str(row['Replicate']) if pd.notna(row['Replicate']) else ''),\n",
    "    axis=1)\n",
    "# drop some \n",
    "berries_lavaux = berries_lavaux.drop(columns=['Altitude', 'Average_slope', 'Exposition',\n",
    "       'Min_radiation', 'Max_radiation', 'Average_radiation', 'Soil_thickness','sample_type',\n",
    "       'Soil_type', 'Soil_depth', 'Hydromorphie', 'Hydromorphie_code','Fungal conc. (ng/uL)',\n",
    "       'Geology', 'Coordinates', 'Latitude', 'Longitude', 'washed', 'Replicate', 'Plot'])\n",
    "\n",
    "# berry chemistry data \n",
    "md_BC_lavaux = pd.read_csv('RawMD-Lavaux_berry_chemistry.csv')\n",
    "md_BC_lavaux = md_BC_lavaux.drop(columns=['Comments', 'Month', 'Day', 'ID'])\n",
    "md_BC_lavaux.rename(columns={'Pheno_Stage': 'Time_point'}, inplace=True)\n",
    "\n",
    "# merge!\n",
    "merged_BC_ITS = pd.merge(berries_lavaux, md_BC_lavaux, on=['Plot_Rep', 'Year', 'Time_point'], how='left')\n",
    "\n",
    "merged_BC_ITS = merged_BC_ITS.set_index('id')\n",
    "merged_BC_ITS.to_csv('ITS_Lavaux_BerryChemistry.tsv', sep='\\t')"
   ]
  },
  {
   "cell_type": "markdown",
   "metadata": {},
   "source": [
    "# Soil properties "
   ]
  },
  {
   "cell_type": "code",
   "execution_count": 57,
   "metadata": {},
   "outputs": [],
   "source": [
    "# Soil pH \n",
    "md_soil_pH = pd.read_csv('RawMD-Soil-pH.csv')\n",
    "md_soil_pH = md_soil_pH.dropna(axis=0, how='all').dropna(axis=1, how='all')\n",
    "\n",
    "# Soil Properties\n",
    "md_soil_properties = pd.read_csv('RawMD-Soil_properties.csv')\n",
    "md_soil_properties = md_soil_properties.dropna(axis=1, how='all')\n",
    "md_soil_properties['Plot_ID'] = 'Lavaux_' + md_soil_properties['Plot']"
   ]
  },
  {
   "cell_type": "code",
   "execution_count": 58,
   "metadata": {},
   "outputs": [],
   "source": [
    "# Lavaux ITS soil metadata \n",
    "soil_lavaux = ITS_lavaux[ITS_lavaux['sample_type'] == 'soil']\n",
    "soil_lavaux = soil_lavaux.drop(columns=['Coordinates', 'Latitude', 'Longitude', 'washed', \n",
    "                                        'Fungal conc. (ng/uL)', 'Collection_ID',\n",
    "                                       'Replicate', 'Time_point'])\n",
    "\n",
    "# merge with soil properties from SoilConseil \n",
    "merged_ITS_soil = pd.merge(soil_lavaux, md_soil_properties, on=['Plot_ID'], how='left')\n",
    "# merge with soil pH \n",
    "merged_ITS_soil_all = pd.merge(merged_ITS_soil, md_soil_pH, on=['SAMPLE_NAME'], how='left')\n",
    "\n",
    "\n",
    "merged_ITS_soil_all = merged_ITS_soil_all.set_index('id')\n",
    "merged_ITS_soil_all.to_csv('ITS_Lavaux_Soil.tsv', sep='\\t')"
   ]
  },
  {
   "cell_type": "code",
   "execution_count": 59,
   "metadata": {},
   "outputs": [],
   "source": [
    "# Lavaux 16S soil metadata \n",
    "merged_16S = merged_16S.reset_index(names='id')\n",
    "soil_lavaux = merged_16S[merged_16S['sample_type'] == 'soil']\n",
    "soil_lavaux = soil_lavaux.drop(columns=['Coordinates', 'Latitude', 'Longitude', 'washed', \n",
    "                                        'Bacterial conc. (ng/uL)', 'Collection_ID',\n",
    "                                       'Replicate', 'Time_point'])\n",
    "\n",
    "# merge with soil pH \n",
    "merged_16S_soil = pd.merge(soil_lavaux, md_soil_pH, on=['SAMPLE_NAME'], how='left')\n",
    "# merge with soil properties from SoilConseil \n",
    "merged_16S_soil_all = pd.merge(merged_16S_soil, md_soil_properties, on=['Plot_ID'], how='left')\n",
    "\n",
    "merged_16S_soil_all = merged_16S_soil_all.set_index('id')\n",
    "merged_16S_soil_all.to_csv('16S_Lavaux_Soil.tsv', sep='\\t')"
   ]
  },
  {
   "cell_type": "markdown",
   "metadata": {},
   "source": [
    "# Vineyard management and Physiology "
   ]
  },
  {
   "cell_type": "code",
   "execution_count": 60,
   "metadata": {},
   "outputs": [],
   "source": [
    "md_management = pd.read_csv('Raw-MD_Vineyard_MV_data.csv')\n",
    "\n",
    "# only keep relevant columns \n",
    "md_management = md_management.drop(columns=['Must_Oechsle', 'Wine_Tartatic_Acid',\n",
    "                                            'Wine_Malic_Acid', 'Wine_Glucose','Wine_Fructose', \n",
    "                                            'Wine_Lactic_Acid', 'Wien_Glycerol', 'Wine_Acetic_Acid'])\n",
    "\n",
    "# Lavaux ITS soil metadata \n",
    "ITS_lavaux_small = ITS_lavaux.drop(columns=['Coordinates', 'Latitude', 'Longitude', 'washed', \n",
    "                                        'Fungal conc. (ng/uL)', 'Collection_ID',\n",
    "                                       'Replicate', 'Time_point'])\n",
    "\n",
    "# merge \n",
    "ITS_management = pd.merge(ITS_lavaux_small, md_management, on=['Plot', 'Year'], how='left')\n",
    "\n",
    "ITS_management = ITS_management.set_index('id')\n",
    "ITS_management.to_csv('ITS_Lavaux_Management.tsv', sep='\\t')"
   ]
  },
  {
   "cell_type": "markdown",
   "metadata": {},
   "source": [
    "# Microvinification chemistry"
   ]
  },
  {
   "cell_type": "code",
   "execution_count": 61,
   "metadata": {},
   "outputs": [],
   "source": [
    "md_management = pd.read_csv('Raw-MD_Vineyard_MV_data.csv')\n",
    "\n",
    "# only keep relevant columns \n",
    "md_management = md_management[['Plot', 'Year', 'Must_Oechsle', 'Wine_Tartatic_Acid', \n",
    "                                'Wine_Malic_Acid', 'Wine_Glucose', 'Wine_Fructose', \n",
    "                                'Wine_Lactic_Acid', 'Wien_Glycerol', 'Wine_Acetic_Acid']]\n",
    "\n",
    "# Lavaux ITS soil metadata \n",
    "ITS_lavaux_mv = ITS_lavaux[ITS_lavaux['sample_type'].isin(['MV-must', 'Post-AF', 'Post-MLF'])]\n",
    "ITS_lavaux_mv = ITS_lavaux_mv.drop(columns=['Coordinates', 'Latitude', 'Longitude', 'washed', \n",
    "                                        'Fungal conc. (ng/uL)', 'Collection_ID',\n",
    "                                       'Replicate', 'Time_point'])\n",
    "\n",
    "# merge \n",
    "ITS_mv = pd.merge(ITS_lavaux_small, md_management, on=['Plot', 'Year'], how='left')\n",
    "\n",
    "ITS_mv = ITS_mv.set_index('id')\n",
    "ITS_mv.to_csv('ITS_Lavaux_MV_Chemistry.tsv', sep='\\t')"
   ]
  },
  {
   "cell_type": "markdown",
   "metadata": {},
   "source": [
    "# Climate"
   ]
  },
  {
   "cell_type": "code",
   "execution_count": 62,
   "metadata": {},
   "outputs": [],
   "source": [
    "md_climate = pd.read_csv('RawMD-Lavaux-Climate.csv')\n",
    "md_climate['Plot'] = md_climate['Plot'].str.replace('Plot_', '').astype(int)\n",
    "\n",
    "# ITS \n",
    "ITS_lavaux_climate = ITS_lavaux.copy()\n",
    "ITS_lavaux_climate = ITS_lavaux_climate.drop(columns=['Coordinates', 'Latitude', 'Longitude', 'washed', \n",
    "                                        'Fungal conc. (ng/uL)', 'Collection_ID',\n",
    "                                       'Replicate', 'Time_point'])\n",
    "# merge \n",
    "ITS_lavaux_climate_2 = pd.merge(ITS_lavaux_climate, md_climate, on=['Plot', 'Year'], how='left')\n",
    "ITS_lavaux_climate_2 = ITS_lavaux_climate_2.set_index('id')\n",
    "ITS_lavaux_climate_2.to_csv('ITS_Lavaux_Climate.tsv', sep='\\t')\n",
    "                                             \n",
    "# 16S\n",
    "bac_lavaux_climate = merged_16S.copy()\n",
    "bac_lavaux_climate = bac_lavaux_climate.drop(columns=['Coordinates', 'Latitude', 'Longitude', 'washed', \n",
    "                                        'Bacterial conc. (ng/uL)', 'Collection_ID',\n",
    "                                       'Replicate', 'Time_point'])\n",
    "# merge \n",
    "bac_lavaux_climate_2 = pd.merge(bac_lavaux_climate, md_climate, on=['Plot', 'Year'], how='left')\n",
    "bac_lavaux_climate_2 = bac_lavaux_climate_2.set_index('id')\n",
    "bac_lavaux_climate_2.to_csv('16S_Lavaux_Climate.tsv', sep='\\t')"
   ]
  },
  {
   "cell_type": "code",
   "execution_count": null,
   "metadata": {},
   "outputs": [],
   "source": []
  }
 ],
 "metadata": {
  "kernelspec": {
   "display_name": "Python 3 (ipykernel)",
   "language": "python",
   "name": "python3"
  },
  "language_info": {
   "codemirror_mode": {
    "name": "ipython",
    "version": 3
   },
   "file_extension": ".py",
   "mimetype": "text/x-python",
   "name": "python",
   "nbconvert_exporter": "python",
   "pygments_lexer": "ipython3",
   "version": "3.10.14"
  }
 },
 "nbformat": 4,
 "nbformat_minor": 2
}
