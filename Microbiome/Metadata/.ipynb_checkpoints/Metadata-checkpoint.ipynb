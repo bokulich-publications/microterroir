{
 "cells": [
  {
   "cell_type": "markdown",
   "metadata": {},
   "source": [
    "# Metadata Microterroir "
   ]
  },
  {
   "cell_type": "code",
   "execution_count": 1,
   "metadata": {},
   "outputs": [
    {
     "name": "stdout",
     "output_type": "stream",
     "text": [
      "/home/lfloerl/microterroir/Microbiome/Metadata\n"
     ]
    }
   ],
   "source": [
    "wd = '/home/lfloerl/microterroir/Microbiome/Metadata'\n",
    "%cd $wd "
   ]
  },
  {
   "cell_type": "code",
   "execution_count": 2,
   "metadata": {},
   "outputs": [],
   "source": [
    "import pandas as pd\n",
    "import biom\n",
    "import re\n",
    "import numpy as np"
   ]
  },
  {
   "cell_type": "markdown",
   "metadata": {},
   "source": [
    "## Import raw metadata files"
   ]
  },
  {
   "cell_type": "code",
   "execution_count": 3,
   "metadata": {},
   "outputs": [],
   "source": [
    "# FGCZ metadata \n",
    "md_pooling = pd.read_csv('RawMD-Demux.csv')\n",
    "md_pooling['Library_ID'] = md_pooling['Name'].str.split('-').str[-2] + '-' + md_pooling['Name'].str.split('-').str[-1]\n",
    "\n",
    "# our own sample file \n",
    "md_samples = pd.read_csv('RawMD-LibraryPrep-LP3.csv')\n",
    "md_samples['Library_ID_16S'] = md_samples['unique_16S_ID'].str.split('-').str[-2] + '-' + md_samples['unique_16S_ID'].str.split('-').str[-1]\n",
    "md_samples['Library_ID_ITS'] = md_samples['unique_ITS_ID'].str.split('-').str[-2] + '-' + md_samples['unique_ITS_ID'].str.split('-').str[-1]"
   ]
  },
  {
   "cell_type": "markdown",
   "metadata": {},
   "source": [
    "# Make basic 16S / ITS metadata files "
   ]
  },
  {
   "cell_type": "code",
   "execution_count": 4,
   "metadata": {},
   "outputs": [],
   "source": [
    "# 16S \n",
    "md_16S = pd.merge(md_pooling, md_samples, left_on='Library_ID', right_on='Library_ID_16S')\n",
    "md_16S = md_16S[['Name', 'SAMPLE_NAME', 'CTRL', 'Project', 'DNA_extraction_plate', 'Plate', 'Bacterial conc. (ng/uL)']]\n",
    "md_16S['Bacterial conc. (ng/uL)'] = md_16S['Bacterial conc. (ng/uL)'].apply(lambda x: 0.001 if x <= 0 else x)\n",
    "md_16S.set_index('Name', inplace=True)\n",
    "md_16S.index.name = 'id'\n",
    "md_16S.to_csv('16S_md.tsv', sep='\\t')\n",
    "\n",
    "# ITS \n",
    "md_ITS = pd.merge(md_pooling, md_samples, left_on='Library_ID', right_on='Library_ID_ITS')\n",
    "md_ITS = md_ITS[['Name', 'SAMPLE_NAME', 'CTRL', 'Project', 'DNA_extraction_plate', 'Plate', 'Fungal conc. (ng/uL)']]\n",
    "md_ITS['Fungal conc. (ng/uL)'] = md_ITS['Fungal conc. (ng/uL)'].apply(lambda x: 0.001 if x <= 0 else x)\n",
    "md_ITS.set_index('Name', inplace=True)\n",
    "md_ITS.index.name = 'id'\n",
    "md_ITS.to_csv('ITS_md.tsv', sep='\\t')"
   ]
  },
  {
   "cell_type": "code",
   "execution_count": 5,
   "metadata": {},
   "outputs": [
    {
     "data": {
      "text/plain": [
       "array(['SoilColonialization', 'BotrytizedWine', 'NOT-USE', 'WINE',\n",
       "       'Lavaux', 'PNA-test', 'SamplingBenchmarking', 'Valais'],\n",
       "      dtype=object)"
      ]
     },
     "execution_count": 5,
     "metadata": {},
     "output_type": "execute_result"
    }
   ],
   "source": [
    "md_16S['Project'].unique()"
   ]
  },
  {
   "cell_type": "code",
   "execution_count": null,
   "metadata": {},
   "outputs": [],
   "source": []
  },
  {
   "cell_type": "code",
   "execution_count": null,
   "metadata": {},
   "outputs": [],
   "source": []
  },
  {
   "cell_type": "code",
   "execution_count": null,
   "metadata": {},
   "outputs": [],
   "source": []
  },
  {
   "cell_type": "code",
   "execution_count": null,
   "metadata": {},
   "outputs": [],
   "source": []
  },
  {
   "cell_type": "code",
   "execution_count": null,
   "metadata": {},
   "outputs": [],
   "source": []
  },
  {
   "cell_type": "code",
   "execution_count": null,
   "metadata": {},
   "outputs": [],
   "source": []
  },
  {
   "cell_type": "markdown",
   "metadata": {},
   "source": [
    "## check sample ID and frequency   "
   ]
  },
  {
   "cell_type": "code",
   "execution_count": 1,
   "metadata": {},
   "outputs": [
    {
     "name": "stdout",
     "output_type": "stream",
     "text": [
      "/home/lfloerl/microterroir/Microbiome/Metadata\n"
     ]
    }
   ],
   "source": [
    "!pwd"
   ]
  },
  {
   "cell_type": "code",
   "execution_count": 4,
   "metadata": {},
   "outputs": [
    {
     "name": "stdout",
     "output_type": "stream",
     "text": [
      "\u001b[32mExported /home/lfloerl/cloud/lfloerl/Microterroir/artifacts/16S/bac-dada2/dada-table-220-120-ee4-fa4.qza as BIOMV210DirFmt to directory /home/lfloerl/cloud/lfloerl/Microterroir/artifacts/16S/bac-dada2/dada-table-220-120-ee4-fa4\u001b[0m\n",
      "\u001b[0m"
     ]
    }
   ],
   "source": [
    "!qiime tools export --input-path /home/lfloerl/cloud/lfloerl/Microterroir/artifacts/16S/bac-dada2/dada-table-220-120-ee4-fa4.qza  --output-path /home/lfloerl/cloud/lfloerl/Microterroir/artifacts/16S/bac-dada2/dada-table-220-120-ee4-fa4"
   ]
  },
  {
   "cell_type": "code",
   "execution_count": 5,
   "metadata": {},
   "outputs": [
    {
     "name": "stdout",
     "output_type": "stream",
     "text": [
      "feature-table.biom\n"
     ]
    }
   ],
   "source": [
    "!ls /home/lfloerl/cloud/lfloerl/Microterroir/artifacts/16S/bac-dada2/dada-table-220-120-ee4-fa4"
   ]
  },
  {
   "cell_type": "code",
   "execution_count": 9,
   "metadata": {},
   "outputs": [],
   "source": [
    "# Load the feature table\n",
    "feature_table = biom.load_table(\"/home/lfloerl/cloud/lfloerl/Microterroir/artifacts/16S/bac-dada2/dada-table-220-120-ee4-fa4/feature-table.biom\")\n",
    "feature_df = pd.DataFrame(feature_table.to_dataframe().transpose())\n",
    "\n",
    "# Load the metadata\n",
    "metadata = pd.read_csv(\"/home/lfloerl/microterroir/Microbiome/Metadata/16S_md.tsv\", sep=\"\\t\", index_col=\"id\")\n",
    "\n",
    "# Merge feature table with metadata\n",
    "merged_df = feature_df.join(metadata[\"SAMPLE_NAME\"])\n",
    "\n",
    "# Set SAMPLE_NAME as index\n",
    "merged_df = merged_df.set_index(\"SAMPLE_NAME\")\n",
    "\n",
    "# Calculate frequency per sample\n",
    "merged_df['Frequency'] = merged_df.sum(axis=1)\n",
    "\n",
    "# Keep only the Frequency column\n",
    "frequency_df = merged_df[['Frequency']]\n",
    "\n",
    "# Sort by frequency in descending order\n",
    "frequency_df = frequency_df.sort_values('Frequency', ascending=False)\n",
    "\n",
    "# Export as CSV\n",
    "frequency_df.to_csv(\"16S_denoised-220-120-realxed-samples_frequency.csv\")"
   ]
  },
  {
   "cell_type": "code",
   "execution_count": 35,
   "metadata": {},
   "outputs": [
    {
     "data": {
      "text/html": [
       "<div>\n",
       "<style scoped>\n",
       "    .dataframe tbody tr th:only-of-type {\n",
       "        vertical-align: middle;\n",
       "    }\n",
       "\n",
       "    .dataframe tbody tr th {\n",
       "        vertical-align: top;\n",
       "    }\n",
       "\n",
       "    .dataframe thead th {\n",
       "        text-align: right;\n",
       "    }\n",
       "</style>\n",
       "<table border=\"1\" class=\"dataframe\">\n",
       "  <thead>\n",
       "    <tr style=\"text-align: right;\">\n",
       "      <th></th>\n",
       "      <th>Frequency</th>\n",
       "    </tr>\n",
       "    <tr>\n",
       "      <th>SAMPLE_NAME</th>\n",
       "      <th></th>\n",
       "    </tr>\n",
       "  </thead>\n",
       "  <tbody>\n",
       "    <tr>\n",
       "      <th>Grenchen_2021-06-11_soil_1A_ref</th>\n",
       "      <td>1584272.0</td>\n",
       "    </tr>\n",
       "    <tr>\n",
       "      <th>Grenchen_2021-07-21_soil_1A</th>\n",
       "      <td>1156457.0</td>\n",
       "    </tr>\n",
       "    <tr>\n",
       "      <th>Grenchen_2021-07-21_soil_1C</th>\n",
       "      <td>1009814.0</td>\n",
       "    </tr>\n",
       "    <tr>\n",
       "      <th>Grenchen_2022-03-08_1A</th>\n",
       "      <td>735721.0</td>\n",
       "    </tr>\n",
       "    <tr>\n",
       "      <th>Erlenbach_2022-10-20_3</th>\n",
       "      <td>722455.0</td>\n",
       "    </tr>\n",
       "    <tr>\n",
       "      <th>...</th>\n",
       "      <td>...</td>\n",
       "    </tr>\n",
       "    <tr>\n",
       "      <th>21DL05S_2751_wine</th>\n",
       "      <td>0</td>\n",
       "    </tr>\n",
       "    <tr>\n",
       "      <th>Lavaux_2023-09-20_must_Plot12_RepC</th>\n",
       "      <td>0</td>\n",
       "    </tr>\n",
       "    <tr>\n",
       "      <th>Lavaux_2023-08-24_leaf_Plot5_washed</th>\n",
       "      <td>0</td>\n",
       "    </tr>\n",
       "    <tr>\n",
       "      <th>Lavaux_2021-09-30_must_Plot20_Row13/Vine20_ID215</th>\n",
       "      <td>0</td>\n",
       "    </tr>\n",
       "    <tr>\n",
       "      <th>Lavaux_2021-09-30_must_Plot13_Row5/Vine10_ID100</th>\n",
       "      <td>0</td>\n",
       "    </tr>\n",
       "  </tbody>\n",
       "</table>\n",
       "<p>1148 rows × 1 columns</p>\n",
       "</div>"
      ],
      "text/plain": [
       "                                                  Frequency\n",
       "SAMPLE_NAME                                                \n",
       "Grenchen_2021-06-11_soil_1A_ref                   1584272.0\n",
       "Grenchen_2021-07-21_soil_1A                       1156457.0\n",
       "Grenchen_2021-07-21_soil_1C                       1009814.0\n",
       "Grenchen_2022-03-08_1A                             735721.0\n",
       "Erlenbach_2022-10-20_3                             722455.0\n",
       "...                                                     ...\n",
       "21DL05S_2751_wine                                         0\n",
       "Lavaux_2023-09-20_must_Plot12_RepC                        0\n",
       "Lavaux_2023-08-24_leaf_Plot5_washed                       0\n",
       "Lavaux_2021-09-30_must_Plot20_Row13/Vine20_ID215          0\n",
       "Lavaux_2021-09-30_must_Plot13_Row5/Vine10_ID100           0\n",
       "\n",
       "[1148 rows x 1 columns]"
      ]
     },
     "execution_count": 35,
     "metadata": {},
     "output_type": "execute_result"
    }
   ],
   "source": [
    "frequency_df"
   ]
  },
  {
   "cell_type": "code",
   "execution_count": 29,
   "metadata": {},
   "outputs": [
    {
     "name": "stdout",
     "output_type": "stream",
     "text": [
      "Total overall frequency: 25447899.0\n"
     ]
    }
   ],
   "source": [
    "# Calculate and print the total overall frequency\n",
    "total_frequency = frequency_df['Frequency'].sum()\n",
    "print(f\"Total overall frequency: {total_frequency}\")"
   ]
  },
  {
   "cell_type": "code",
   "execution_count": null,
   "metadata": {},
   "outputs": [],
   "source": []
  },
  {
   "cell_type": "code",
   "execution_count": null,
   "metadata": {},
   "outputs": [],
   "source": []
  }
 ],
 "metadata": {
  "kernelspec": {
   "display_name": "Python 3 (ipykernel)",
   "language": "python",
   "name": "python3"
  },
  "language_info": {
   "codemirror_mode": {
    "name": "ipython",
    "version": 3
   },
   "file_extension": ".py",
   "mimetype": "text/x-python",
   "name": "python",
   "nbconvert_exporter": "python",
   "pygments_lexer": "ipython3",
   "version": "3.10.14"
  }
 },
 "nbformat": 4,
 "nbformat_minor": 2
}
