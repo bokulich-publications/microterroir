{
 "cells": [
  {
   "cell_type": "markdown",
   "metadata": {},
   "source": [
    "# Metadata Microterroir "
   ]
  },
  {
   "cell_type": "code",
   "execution_count": 122,
   "metadata": {},
   "outputs": [
    {
     "name": "stdout",
     "output_type": "stream",
     "text": [
      "/home/lfloerl/microterroir/Microbiome/Metadata\n"
     ]
    }
   ],
   "source": [
    "wd = '/home/lfloerl/microterroir/Microbiome/Metadata'\n",
    "%cd $wd "
   ]
  },
  {
   "cell_type": "code",
   "execution_count": 123,
   "metadata": {},
   "outputs": [],
   "source": [
    "import pandas as pd\n",
    "import biom\n",
    "import re\n",
    "import numpy as np"
   ]
  },
  {
   "cell_type": "markdown",
   "metadata": {},
   "source": [
    "## Import raw metadata files"
   ]
  },
  {
   "cell_type": "code",
   "execution_count": 124,
   "metadata": {},
   "outputs": [],
   "source": [
    "# FGCZ metadata \n",
    "md_pooling = pd.read_csv('RawMD-Demux.csv')\n",
    "md_pooling['Library_ID'] = md_pooling['Name'].str.split('-').str[-2] + '-' + md_pooling['Name'].str.split('-').str[-1]\n",
    "\n",
    "# our own sample file \n",
    "md_samples = pd.read_csv('RawMD-LibraryPrep-LP3.csv')\n",
    "md_samples['Library_ID_16S'] = md_samples['unique_16S_ID'].str.split('-').str[-2] + '-' + md_samples['unique_16S_ID'].str.split('-').str[-1]\n",
    "md_samples['Library_ID_ITS'] = md_samples['unique_ITS_ID'].str.split('-').str[-2] + '-' + md_samples['unique_ITS_ID'].str.split('-').str[-1]"
   ]
  },
  {
   "cell_type": "markdown",
   "metadata": {},
   "source": [
    "# Make basic 16S / ITS metadata files "
   ]
  },
  {
   "cell_type": "code",
   "execution_count": 125,
   "metadata": {},
   "outputs": [],
   "source": [
    "# 16S \n",
    "md_16S = pd.merge(md_pooling, md_samples, left_on='Library_ID', right_on='Library_ID_16S')\n",
    "md_16S = md_16S[['Name', 'SAMPLE_NAME', 'CTRL', 'Project', 'DNA_extraction_plate', 'Plate', 'Bacterial conc. (ng/uL)']]\n",
    "md_16S['Bacterial conc. (ng/uL)'] = md_16S['Bacterial conc. (ng/uL)'].apply(lambda x: 0.001 if x <= 0 else x)\n",
    "md_16S.set_index('Name', inplace=True)\n",
    "md_16S.index.name = 'id'\n",
    "md_16S.to_csv('16S_md.tsv', sep='\\t')\n",
    "\n",
    "# ITS \n",
    "md_ITS = pd.merge(md_pooling, md_samples, left_on='Library_ID', right_on='Library_ID_ITS')\n",
    "md_ITS = md_ITS[['Name', 'SAMPLE_NAME', 'CTRL', 'Project', 'DNA_extraction_plate', 'Plate', 'Fungal conc. (ng/uL)']]\n",
    "md_ITS['Fungal conc. (ng/uL)'] = md_ITS['Fungal conc. (ng/uL)'].apply(lambda x: 0.001 if x <= 0 else x)\n",
    "md_ITS.set_index('Name', inplace=True)\n",
    "md_ITS.index.name = 'id'\n",
    "md_ITS.to_csv('ITS_md.tsv', sep='\\t')"
   ]
  },
  {
   "cell_type": "code",
   "execution_count": 126,
   "metadata": {},
   "outputs": [
    {
     "data": {
      "text/plain": [
       "array(['SoilColonialization', 'BotrytizedWine', 'NOT-USE', 'WINE',\n",
       "       'Lavaux', 'PNA-test', 'SamplingBenchmarking', 'Valais'],\n",
       "      dtype=object)"
      ]
     },
     "execution_count": 126,
     "metadata": {},
     "output_type": "execute_result"
    }
   ],
   "source": [
    "md_16S['Project'].unique()"
   ]
  },
  {
   "cell_type": "code",
   "execution_count": 127,
   "metadata": {},
   "outputs": [
    {
     "data": {
      "text/plain": [
       "(595, 6)"
      ]
     },
     "execution_count": 127,
     "metadata": {},
     "output_type": "execute_result"
    }
   ],
   "source": [
    "md_16S_subset = md_16S[(md_16S['Project'] == 'Lavaux') & (md_16S['CTRL'] == 'Sample')]\n",
    "md_16S_subset.shape"
   ]
  },
  {
   "cell_type": "markdown",
   "metadata": {},
   "source": [
    "# Make Lavaux Metadata files "
   ]
  },
  {
   "cell_type": "code",
   "execution_count": 128,
   "metadata": {
    "scrolled": true
   },
   "outputs": [],
   "source": [
    "# Lavaux metadata \n",
    "md_lavaux = pd.read_csv('RawMD-LavauxSamples.csv')\n",
    "md_lavaux = md_lavaux.dropna(how='all')"
   ]
  },
  {
   "cell_type": "code",
   "execution_count": 129,
   "metadata": {},
   "outputs": [],
   "source": [
    "# 16S \n",
    "md_16S = md_16S.reset_index(names='id')\n",
    "merged_16S = pd.merge(md_16S[['id', 'SAMPLE_NAME', 'Bacterial conc. (ng/uL)']], \n",
    "    md_lavaux, on='SAMPLE_NAME', how='right')\n",
    "merged_16S = merged_16S.set_index('id')\n",
    "merged_16S = merged_16S[~merged_16S.index.isnull()]\n",
    "merged_16S.to_csv('16S_lavaux.tsv', sep='\\t')\n",
    "\n",
    "# ITS \n",
    "md_ITS = md_ITS.reset_index(names='id')\n",
    "merged_ITS = pd.merge(md_ITS[['id', 'SAMPLE_NAME', 'Fungal conc. (ng/uL)']], \n",
    "    md_lavaux, on='SAMPLE_NAME', how='right')\n",
    "merged_ITS = merged_ITS.set_index('id')\n",
    "merged_ITS = merged_ITS[~merged_ITS.index.isnull()]\n",
    "merged_ITS.to_csv('ITS_lavaux.tsv', sep='\\t')"
   ]
  },
  {
   "cell_type": "code",
   "execution_count": 116,
   "metadata": {},
   "outputs": [
    {
     "data": {
      "text/plain": [
       "(586, 23)"
      ]
     },
     "execution_count": 116,
     "metadata": {},
     "output_type": "execute_result"
    }
   ],
   "source": [
    "merged_16S.shape"
   ]
  },
  {
   "cell_type": "code",
   "execution_count": null,
   "metadata": {},
   "outputs": [],
   "source": []
  }
 ],
 "metadata": {
  "kernelspec": {
   "display_name": "Python 3 (ipykernel)",
   "language": "python",
   "name": "python3"
  },
  "language_info": {
   "codemirror_mode": {
    "name": "ipython",
    "version": 3
   },
   "file_extension": ".py",
   "mimetype": "text/x-python",
   "name": "python",
   "nbconvert_exporter": "python",
   "pygments_lexer": "ipython3",
   "version": "3.10.14"
  }
 },
 "nbformat": 4,
 "nbformat_minor": 2
}
