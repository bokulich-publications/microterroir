{
 "cells": [
  {
   "cell_type": "markdown",
   "metadata": {},
   "source": [
    "# Curate the table for publication from the DIABLO model\n"
   ]
  },
  {
   "cell_type": "code",
   "execution_count": 5,
   "metadata": {},
   "outputs": [],
   "source": [
    "import pandas as pd\n",
    "import re\n",
    "\n",
    "%matplotlib inline"
   ]
  },
  {
   "cell_type": "code",
   "execution_count": 7,
   "metadata": {},
   "outputs": [
    {
     "name": "stdout",
     "output_type": "stream",
     "text": [
      "/Users/lfloerl/Desktop/MICROTERROIR/Data/Metabolomics/Multiomics_preparedData/PostMLF_MicrobiomeMetabolome\n"
     ]
    }
   ],
   "source": [
    "workdir = '/Users/lfloerl/Desktop/MICROTERROIR/Data/Metabolomics/Multiomics_preparedData/PostMLF_MicrobiomeMetabolome'\n",
    "%cd $workdir"
   ]
  },
  {
   "cell_type": "code",
   "execution_count": 14,
   "metadata": {},
   "outputs": [
    {
     "data": {
      "text/html": [
       "<div>\n",
       "<style scoped>\n",
       "    .dataframe tbody tr th:only-of-type {\n",
       "        vertical-align: middle;\n",
       "    }\n",
       "\n",
       "    .dataframe tbody tr th {\n",
       "        vertical-align: top;\n",
       "    }\n",
       "\n",
       "    .dataframe thead th {\n",
       "        text-align: right;\n",
       "    }\n",
       "</style>\n",
       "<table border=\"1\" class=\"dataframe\">\n",
       "  <thead>\n",
       "    <tr style=\"text-align: right;\">\n",
       "      <th></th>\n",
       "      <th>Row</th>\n",
       "      <th>Col</th>\n",
       "      <th>Similarity</th>\n",
       "      <th>Pair</th>\n",
       "    </tr>\n",
       "  </thead>\n",
       "  <tbody>\n",
       "    <tr>\n",
       "      <th>0</th>\n",
       "      <td>Galangin_LCMS</td>\n",
       "      <td>X2.2.difluoro.N..2.methyl.6..trifluoromethyl.p...</td>\n",
       "      <td>0.919339</td>\n",
       "      <td>Galangin_LCMS_X2.2.difluoro.N..2.methyl.6..tri...</td>\n",
       "    </tr>\n",
       "    <tr>\n",
       "      <th>1</th>\n",
       "      <td>Digalacturonic.acid_LCMS</td>\n",
       "      <td>X2.2.difluoro.N..2.methyl.6..trifluoromethyl.p...</td>\n",
       "      <td>-0.928225</td>\n",
       "      <td>Digalacturonic.acid_LCMS_X2.2.difluoro.N..2.me...</td>\n",
       "    </tr>\n",
       "    <tr>\n",
       "      <th>2</th>\n",
       "      <td>Benzaldehyde..2.4.dimethyl..</td>\n",
       "      <td>X2.2.difluoro.N..2.methyl.6..trifluoromethyl.p...</td>\n",
       "      <td>0.914367</td>\n",
       "      <td>Benzaldehyde..2.4.dimethyl.._X2.2.difluoro.N.....</td>\n",
       "    </tr>\n",
       "    <tr>\n",
       "      <th>3</th>\n",
       "      <td>Diethyl.succinate</td>\n",
       "      <td>X2.2.difluoro.N..2.methyl.6..trifluoromethyl.p...</td>\n",
       "      <td>0.914275</td>\n",
       "      <td>Diethyl.succinate_X2.2.difluoro.N..2.methyl.6....</td>\n",
       "    </tr>\n",
       "    <tr>\n",
       "      <th>4</th>\n",
       "      <td>N..2..1.5.dimethyl.4.nitro.1H.pyrazol.3.yl.vin...</td>\n",
       "      <td>X3.phenyl.5..1.2.3.thiadiazol.4.yl..1.2.4.oxad...</td>\n",
       "      <td>0.915649</td>\n",
       "      <td>N..2..1.5.dimethyl.4.nitro.1H.pyrazol.3.yl.vin...</td>\n",
       "    </tr>\n",
       "  </tbody>\n",
       "</table>\n",
       "</div>"
      ],
      "text/plain": [
       "                                                 Row  \\\n",
       "0                                      Galangin_LCMS   \n",
       "1                           Digalacturonic.acid_LCMS   \n",
       "2                       Benzaldehyde..2.4.dimethyl..   \n",
       "3                                  Diethyl.succinate   \n",
       "4  N..2..1.5.dimethyl.4.nitro.1H.pyrazol.3.yl.vin...   \n",
       "\n",
       "                                                 Col  Similarity  \\\n",
       "0  X2.2.difluoro.N..2.methyl.6..trifluoromethyl.p...    0.919339   \n",
       "1  X2.2.difluoro.N..2.methyl.6..trifluoromethyl.p...   -0.928225   \n",
       "2  X2.2.difluoro.N..2.methyl.6..trifluoromethyl.p...    0.914367   \n",
       "3  X2.2.difluoro.N..2.methyl.6..trifluoromethyl.p...    0.914275   \n",
       "4  X3.phenyl.5..1.2.3.thiadiazol.4.yl..1.2.4.oxad...    0.915649   \n",
       "\n",
       "                                                Pair  \n",
       "0  Galangin_LCMS_X2.2.difluoro.N..2.methyl.6..tri...  \n",
       "1  Digalacturonic.acid_LCMS_X2.2.difluoro.N..2.me...  \n",
       "2  Benzaldehyde..2.4.dimethyl.._X2.2.difluoro.N.....  \n",
       "3  Diethyl.succinate_X2.2.difluoro.N..2.methyl.6....  \n",
       "4  N..2..1.5.dimethyl.4.nitro.1H.pyrazol.3.yl.vin...  "
      ]
     },
     "execution_count": 14,
     "metadata": {},
     "output_type": "execute_result"
    }
   ],
   "source": [
    "df = pd.read_csv('Top_correlations_circos.csv')\n",
    "df.head()"
   ]
  },
  {
   "cell_type": "code",
   "execution_count": 15,
   "metadata": {},
   "outputs": [
    {
     "data": {
      "text/html": [
       "<div>\n",
       "<style scoped>\n",
       "    .dataframe tbody tr th:only-of-type {\n",
       "        vertical-align: middle;\n",
       "    }\n",
       "\n",
       "    .dataframe tbody tr th {\n",
       "        vertical-align: top;\n",
       "    }\n",
       "\n",
       "    .dataframe thead th {\n",
       "        text-align: right;\n",
       "    }\n",
       "</style>\n",
       "<table border=\"1\" class=\"dataframe\">\n",
       "  <thead>\n",
       "    <tr style=\"text-align: right;\">\n",
       "      <th></th>\n",
       "      <th>Feature 1</th>\n",
       "      <th>Feature 2</th>\n",
       "      <th>Correlation Strength</th>\n",
       "    </tr>\n",
       "  </thead>\n",
       "  <tbody>\n",
       "    <tr>\n",
       "      <th>0</th>\n",
       "      <td>Galangin</td>\n",
       "      <td>X2-2-difluoro-N&lt;2-methyl-6&gt;trifluoromethyl-pyr...</td>\n",
       "      <td>0.919</td>\n",
       "    </tr>\n",
       "    <tr>\n",
       "      <th>1</th>\n",
       "      <td>Digalacturonic-acid</td>\n",
       "      <td>X2-2-difluoro-N&lt;2-methyl-6&gt;trifluoromethyl-pyr...</td>\n",
       "      <td>-0.928</td>\n",
       "    </tr>\n",
       "    <tr>\n",
       "      <th>2</th>\n",
       "      <td>Benzaldehyde&lt;2-4-dimethyl&gt;</td>\n",
       "      <td>X2-2-difluoro-N&lt;2-methyl-6&gt;trifluoromethyl-pyr...</td>\n",
       "      <td>0.914</td>\n",
       "    </tr>\n",
       "    <tr>\n",
       "      <th>3</th>\n",
       "      <td>Diethyl-succinate</td>\n",
       "      <td>X2-2-difluoro-N&lt;2-methyl-6&gt;trifluoromethyl-pyr...</td>\n",
       "      <td>0.914</td>\n",
       "    </tr>\n",
       "    <tr>\n",
       "      <th>4</th>\n",
       "      <td>N&lt;2&gt;1-5-dimethyl-4-nitro-1H-pyrazol-3-yl-vinyl...</td>\n",
       "      <td>X3-phenyl-5&lt;1-2-3-thiadiazol-4-yl&gt;1-2-4-oxadia...</td>\n",
       "      <td>0.916</td>\n",
       "    </tr>\n",
       "  </tbody>\n",
       "</table>\n",
       "</div>"
      ],
      "text/plain": [
       "                                           Feature 1  \\\n",
       "0                                           Galangin   \n",
       "1                                Digalacturonic-acid   \n",
       "2                         Benzaldehyde<2-4-dimethyl>   \n",
       "3                                  Diethyl-succinate   \n",
       "4  N<2>1-5-dimethyl-4-nitro-1H-pyrazol-3-yl-vinyl...   \n",
       "\n",
       "                                           Feature 2 Correlation Strength  \n",
       "0  X2-2-difluoro-N<2-methyl-6>trifluoromethyl-pyr...                0.919  \n",
       "1  X2-2-difluoro-N<2-methyl-6>trifluoromethyl-pyr...               -0.928  \n",
       "2  X2-2-difluoro-N<2-methyl-6>trifluoromethyl-pyr...                0.914  \n",
       "3  X2-2-difluoro-N<2-methyl-6>trifluoromethyl-pyr...                0.914  \n",
       "4  X3-phenyl-5<1-2-3-thiadiazol-4-yl>1-2-4-oxadia...                0.916  "
      ]
     },
     "execution_count": 15,
     "metadata": {},
     "output_type": "execute_result"
    }
   ],
   "source": [
    "# 1. Drop the 'Pair' column\n",
    "df.drop(columns=[\"Pair\"], inplace=True)\n",
    "\n",
    "# 2. Rename columns\n",
    "df.rename(columns={\"Row\": \"Feature 1\", \"Col\": \"Feature 2\", \"Similarity\": \"Correlation Strength\"}, inplace=True)\n",
    "\n",
    "# Function to clean strings\n",
    "def clean_string(s):\n",
    "    # Remove \"_LCMS\"\n",
    "    s = s.replace(\"_LCMS\", \"\")\n",
    "    # Replace single dots with hyphens\n",
    "    s = re.sub(r'(?<!\\.)\\.(?!\\.)', '-', s)\n",
    "    # Replace \"..XX..\" with \"<XX>\"\n",
    "    s = re.sub(r'\\.\\.(.*?)\\.\\.', r'<\\1>', s)\n",
    "    return s\n",
    "\n",
    "# 3 & 4. Apply transformations to Feature 1 and Feature 2\n",
    "df[\"Feature 1\"] = df[\"Feature 1\"].apply(clean_string)\n",
    "df[\"Feature 2\"] = df[\"Feature 2\"].apply(clean_string)\n",
    "\n",
    "# Sort by Feature 1\n",
    "df_sorted = df.sort_values(by=\"Feature 1\")\n",
    "\n",
    "df[\"Correlation Strength\"] = df[\"Correlation Strength\"].apply(lambda x: f\"{x:.3f}\")\n",
    "\n",
    "# Save to CSV\n",
    "df_sorted.to_csv(\"Top_correlations_circos_curated.csv\", index=False)\n",
    "\n",
    "# Print final dataframe\n",
    "df.head()"
   ]
  },
  {
   "cell_type": "code",
   "execution_count": null,
   "metadata": {},
   "outputs": [],
   "source": []
  }
 ],
 "metadata": {
  "kernelspec": {
   "display_name": "qiime2-amplicon-2024.10",
   "language": "python",
   "name": "python3"
  },
  "language_info": {
   "codemirror_mode": {
    "name": "ipython",
    "version": 3
   },
   "file_extension": ".py",
   "mimetype": "text/x-python",
   "name": "python",
   "nbconvert_exporter": "python",
   "pygments_lexer": "ipython3",
   "version": "3.10.14"
  }
 },
 "nbformat": 4,
 "nbformat_minor": 2
}
