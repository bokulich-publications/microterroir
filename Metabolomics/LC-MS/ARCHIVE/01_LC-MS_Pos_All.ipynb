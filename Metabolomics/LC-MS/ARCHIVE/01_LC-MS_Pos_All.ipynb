{
 "cells": [
  {
   "cell_type": "markdown",
   "metadata": {},
   "source": [
    "# LC-MS: All Features Pos \n"
   ]
  },
  {
   "cell_type": "code",
   "execution_count": 54,
   "metadata": {},
   "outputs": [],
   "source": [
    "import pandas as pd\n",
    "import numpy as np\n",
    "import os\n",
    "import openpyxl\n",
    "\n",
    "# Visualizations \n",
    "import seaborn as sns\n",
    "import matplotlib.pyplot as plt\n",
    "\n",
    "from sklearn.decomposition import PCA\n",
    "from scipy.stats import zscore, entropy, f_oneway\n",
    "from sklearn.preprocessing import StandardScaler\n",
    "import numpy as np\n",
    "\n",
    "from sklearn.ensemble import IsolationForest\n",
    "\n",
    "%matplotlib inline"
   ]
  },
  {
   "cell_type": "code",
   "execution_count": 55,
   "metadata": {},
   "outputs": [],
   "source": [
    "# set the directory \n",
    "os.chdir('/home/lfloerl/cloud/lfloerl/Microterroir/LC-MS_data/Results')"
   ]
  },
  {
   "cell_type": "code",
   "execution_count": 56,
   "metadata": {},
   "outputs": [],
   "source": [
    "# Define the color palette for the sample types\n",
    "sample_type_palette = {'Must': '#482677FF', 'PostAF': '#238A8DFF','PostMLF': '#74D055FF'}\n",
    "\n",
    "# set SNS style\n",
    "sns.set_style(style=\"whitegrid\")"
   ]
  },
  {
   "cell_type": "markdown",
   "metadata": {},
   "source": [
    "# 1. Load data"
   ]
  },
  {
   "cell_type": "code",
   "execution_count": 57,
   "metadata": {},
   "outputs": [
    {
     "data": {
      "text/html": [
       "<div>\n",
       "<style scoped>\n",
       "    .dataframe tbody tr th:only-of-type {\n",
       "        vertical-align: middle;\n",
       "    }\n",
       "\n",
       "    .dataframe tbody tr th {\n",
       "        vertical-align: top;\n",
       "    }\n",
       "\n",
       "    .dataframe thead th {\n",
       "        text-align: right;\n",
       "    }\n",
       "</style>\n",
       "<table border=\"1\" class=\"dataframe\">\n",
       "  <thead>\n",
       "    <tr style=\"text-align: right;\">\n",
       "      <th></th>\n",
       "      <th>Sample Name</th>\n",
       "      <th>sample_type</th>\n",
       "      <th>year</th>\n",
       "      <th>plot</th>\n",
       "    </tr>\n",
       "  </thead>\n",
       "  <tbody>\n",
       "    <tr>\n",
       "      <th>0</th>\n",
       "      <td>PostMLF_2021_Plot14</td>\n",
       "      <td>PostMLF</td>\n",
       "      <td>2021</td>\n",
       "      <td>Plot14</td>\n",
       "    </tr>\n",
       "    <tr>\n",
       "      <th>1</th>\n",
       "      <td>PostMLF_2021_Plot9</td>\n",
       "      <td>PostMLF</td>\n",
       "      <td>2021</td>\n",
       "      <td>Plot9</td>\n",
       "    </tr>\n",
       "    <tr>\n",
       "      <th>2</th>\n",
       "      <td>PostMLF_2021_Plot15</td>\n",
       "      <td>PostMLF</td>\n",
       "      <td>2021</td>\n",
       "      <td>Plot15</td>\n",
       "    </tr>\n",
       "    <tr>\n",
       "      <th>3</th>\n",
       "      <td>PostMLF_2021_Plot12</td>\n",
       "      <td>PostMLF</td>\n",
       "      <td>2021</td>\n",
       "      <td>Plot12</td>\n",
       "    </tr>\n",
       "    <tr>\n",
       "      <th>4</th>\n",
       "      <td>PostMLF_2021_Plot17</td>\n",
       "      <td>PostMLF</td>\n",
       "      <td>2021</td>\n",
       "      <td>Plot17</td>\n",
       "    </tr>\n",
       "  </tbody>\n",
       "</table>\n",
       "</div>"
      ],
      "text/plain": [
       "           Sample Name sample_type  year    plot\n",
       "0  PostMLF_2021_Plot14     PostMLF  2021  Plot14\n",
       "1   PostMLF_2021_Plot9     PostMLF  2021   Plot9\n",
       "2  PostMLF_2021_Plot15     PostMLF  2021  Plot15\n",
       "3  PostMLF_2021_Plot12     PostMLF  2021  Plot12\n",
       "4  PostMLF_2021_Plot17     PostMLF  2021  Plot17"
      ]
     },
     "execution_count": 57,
     "metadata": {},
     "output_type": "execute_result"
    }
   ],
   "source": [
    "# order\n",
    "samples = pd.read_csv('/home/lfloerl/cloud/lfloerl/Microterroir/LC-MS_data/FGCZ data/Order_34707_orderitem.csv')\n",
    "\n",
    "# Extract the list of sample names\n",
    "sample_names = samples['Sample Name'].tolist()\n",
    "\n",
    "# Create a new dataframe 'sample_md' with selected column\n",
    "sample_md = samples[['Sample Name']].copy()\n",
    "# Split 'Sample Name' into new columns\n",
    "sample_md[['sample_type', 'year', 'plot']] = sample_md['Sample Name'].str.split('_', expand=True)\n",
    "sample_md.head()"
   ]
  },
  {
   "cell_type": "code",
   "execution_count": 58,
   "metadata": {},
   "outputs": [],
   "source": [
    "# Get the raw data\n",
    "file_path = \"/home/lfloerl/cloud/lfloerl/Microterroir/LC-MS_data/FGCZ data/p32837_o34707_Lena_RPMetabolomics_ALL_features_POS.xlsx\"\n",
    "\n",
    "# Read only the 'Area_Stats' sheet\n",
    "df = pd.read_excel(file_path, sheet_name=\"Area_Stats\")"
   ]
  },
  {
   "cell_type": "code",
   "execution_count": 59,
   "metadata": {},
   "outputs": [
    {
     "name": "stdout",
     "output_type": "stream",
     "text": [
      "Total Features: 6205\n",
      "Uniquely annotated features: 1942\n"
     ]
    }
   ],
   "source": [
    "print('Total Features: ' + str(df.shape[0]))\n",
    "print('Uniquely annotated features: ' + str(df['Name'].notna().sum()))"
   ]
  },
  {
   "cell_type": "code",
   "execution_count": 60,
   "metadata": {},
   "outputs": [
    {
     "data": {
      "text/html": [
       "<div>\n",
       "<style scoped>\n",
       "    .dataframe tbody tr th:only-of-type {\n",
       "        vertical-align: middle;\n",
       "    }\n",
       "\n",
       "    .dataframe tbody tr th {\n",
       "        vertical-align: top;\n",
       "    }\n",
       "\n",
       "    .dataframe thead th {\n",
       "        text-align: right;\n",
       "    }\n",
       "</style>\n",
       "<table border=\"1\" class=\"dataframe\">\n",
       "  <thead>\n",
       "    <tr style=\"text-align: right;\">\n",
       "      <th></th>\n",
       "      <th>Must_2023_Plot20</th>\n",
       "      <th>Must_2023_Plot19</th>\n",
       "      <th>Must_2023_Plot14</th>\n",
       "      <th>Must_2023_Plot17</th>\n",
       "      <th>Must_2023_Plot4</th>\n",
       "      <th>Must_2023_Plot9</th>\n",
       "      <th>Must_2023_Plot5</th>\n",
       "      <th>Must_2023_Plot12</th>\n",
       "      <th>Must_2023_Plot13</th>\n",
       "      <th>Must_2023_Plot15</th>\n",
       "      <th>...</th>\n",
       "      <th>PostMLF_2023_Plot4</th>\n",
       "      <th>PostMLF_2023_Plot15</th>\n",
       "      <th>PostMLF_2023_Plot5</th>\n",
       "      <th>PostMLF_2023_Plot20</th>\n",
       "      <th>PostMLF_2023_Plot17</th>\n",
       "      <th>PostMLF_2023_Plot13</th>\n",
       "      <th>PostMLF_2023_Plot14</th>\n",
       "      <th>PostMLF_2023_Plot19</th>\n",
       "      <th>PostMLF_2023_Plot9</th>\n",
       "      <th>PostMLF_2023_Plot12</th>\n",
       "    </tr>\n",
       "    <tr>\n",
       "      <th>Name</th>\n",
       "      <th></th>\n",
       "      <th></th>\n",
       "      <th></th>\n",
       "      <th></th>\n",
       "      <th></th>\n",
       "      <th></th>\n",
       "      <th></th>\n",
       "      <th></th>\n",
       "      <th></th>\n",
       "      <th></th>\n",
       "      <th></th>\n",
       "      <th></th>\n",
       "      <th></th>\n",
       "      <th></th>\n",
       "      <th></th>\n",
       "      <th></th>\n",
       "      <th></th>\n",
       "      <th></th>\n",
       "      <th></th>\n",
       "      <th></th>\n",
       "      <th></th>\n",
       "    </tr>\n",
       "  </thead>\n",
       "  <tbody>\n",
       "    <tr>\n",
       "      <th>mz151.0351_RT0.10</th>\n",
       "      <td>1.032177e+09</td>\n",
       "      <td>9.918709e+08</td>\n",
       "      <td>1.060552e+09</td>\n",
       "      <td>1.204106e+09</td>\n",
       "      <td>1.029715e+09</td>\n",
       "      <td>1.129264e+09</td>\n",
       "      <td>1.106011e+08</td>\n",
       "      <td>9.912120e+08</td>\n",
       "      <td>1.100597e+09</td>\n",
       "      <td>1.248476e+09</td>\n",
       "      <td>...</td>\n",
       "      <td>4.817876e+08</td>\n",
       "      <td>3.935938e+08</td>\n",
       "      <td>5.168420e+08</td>\n",
       "      <td>4.489065e+08</td>\n",
       "      <td>3.986494e+08</td>\n",
       "      <td>4.132504e+08</td>\n",
       "      <td>6.061189e+08</td>\n",
       "      <td>3.952914e+08</td>\n",
       "      <td>5.593264e+08</td>\n",
       "      <td>4.315676e+08</td>\n",
       "    </tr>\n",
       "    <tr>\n",
       "      <th>mz169.0456_RT0.10</th>\n",
       "      <td>3.499537e+08</td>\n",
       "      <td>3.062710e+08</td>\n",
       "      <td>3.658447e+08</td>\n",
       "      <td>3.529944e+08</td>\n",
       "      <td>3.087450e+08</td>\n",
       "      <td>3.246923e+08</td>\n",
       "      <td>4.885965e+07</td>\n",
       "      <td>3.281794e+08</td>\n",
       "      <td>3.651248e+08</td>\n",
       "      <td>3.946032e+08</td>\n",
       "      <td>...</td>\n",
       "      <td>1.577158e+08</td>\n",
       "      <td>1.282894e+08</td>\n",
       "      <td>1.641127e+08</td>\n",
       "      <td>1.597561e+08</td>\n",
       "      <td>1.417255e+08</td>\n",
       "      <td>1.467779e+08</td>\n",
       "      <td>2.168822e+06</td>\n",
       "      <td>1.448849e+08</td>\n",
       "      <td>1.951365e+08</td>\n",
       "      <td>1.461857e+08</td>\n",
       "    </tr>\n",
       "    <tr>\n",
       "      <th>mz219.0262_RT0.12</th>\n",
       "      <td>7.880012e+08</td>\n",
       "      <td>1.071865e+09</td>\n",
       "      <td>6.907342e+08</td>\n",
       "      <td>7.146140e+08</td>\n",
       "      <td>8.834882e+08</td>\n",
       "      <td>9.503769e+08</td>\n",
       "      <td>2.365683e+08</td>\n",
       "      <td>7.313591e+08</td>\n",
       "      <td>9.342148e+08</td>\n",
       "      <td>7.208672e+08</td>\n",
       "      <td>...</td>\n",
       "      <td>4.208066e+07</td>\n",
       "      <td>8.653881e+07</td>\n",
       "      <td>6.236946e+07</td>\n",
       "      <td>6.914756e+07</td>\n",
       "      <td>1.254820e+08</td>\n",
       "      <td>2.180300e+07</td>\n",
       "      <td>1.085393e+08</td>\n",
       "      <td>2.981520e+07</td>\n",
       "      <td>7.898615e+07</td>\n",
       "      <td>4.153041e+07</td>\n",
       "    </tr>\n",
       "    <tr>\n",
       "      <th>mz141.0126_RT0.12</th>\n",
       "      <td>7.001248e+05</td>\n",
       "      <td>8.390605e+05</td>\n",
       "      <td>6.225802e+05</td>\n",
       "      <td>4.170462e+05</td>\n",
       "      <td>4.343865e+05</td>\n",
       "      <td>4.278065e+05</td>\n",
       "      <td>4.275882e+05</td>\n",
       "      <td>7.512533e+05</td>\n",
       "      <td>8.356320e+05</td>\n",
       "      <td>9.136924e+05</td>\n",
       "      <td>...</td>\n",
       "      <td>1.982150e+06</td>\n",
       "      <td>1.290139e+06</td>\n",
       "      <td>3.421547e+06</td>\n",
       "      <td>1.954598e+06</td>\n",
       "      <td>5.319129e+05</td>\n",
       "      <td>1.034943e+06</td>\n",
       "      <td>5.792018e+05</td>\n",
       "      <td>1.119744e+06</td>\n",
       "      <td>5.680902e+05</td>\n",
       "      <td>1.061720e+06</td>\n",
       "    </tr>\n",
       "    <tr>\n",
       "      <th>mz190.9791_RT7.19</th>\n",
       "      <td>2.242764e+09</td>\n",
       "      <td>2.140571e+09</td>\n",
       "      <td>1.950499e+09</td>\n",
       "      <td>2.115791e+09</td>\n",
       "      <td>2.180337e+09</td>\n",
       "      <td>2.404078e+09</td>\n",
       "      <td>2.746355e+09</td>\n",
       "      <td>2.366003e+09</td>\n",
       "      <td>1.904476e+09</td>\n",
       "      <td>2.143585e+09</td>\n",
       "      <td>...</td>\n",
       "      <td>9.095932e+08</td>\n",
       "      <td>8.094849e+08</td>\n",
       "      <td>1.011924e+09</td>\n",
       "      <td>7.908102e+08</td>\n",
       "      <td>7.169030e+08</td>\n",
       "      <td>8.348489e+08</td>\n",
       "      <td>1.087321e+09</td>\n",
       "      <td>7.907046e+08</td>\n",
       "      <td>1.048445e+09</td>\n",
       "      <td>8.918962e+08</td>\n",
       "    </tr>\n",
       "  </tbody>\n",
       "</table>\n",
       "<p>5 rows × 52 columns</p>\n",
       "</div>"
      ],
      "text/plain": [
       "                   Must_2023_Plot20  Must_2023_Plot19  Must_2023_Plot14  \\\n",
       "Name                                                                      \n",
       "mz151.0351_RT0.10      1.032177e+09      9.918709e+08      1.060552e+09   \n",
       "mz169.0456_RT0.10      3.499537e+08      3.062710e+08      3.658447e+08   \n",
       "mz219.0262_RT0.12      7.880012e+08      1.071865e+09      6.907342e+08   \n",
       "mz141.0126_RT0.12      7.001248e+05      8.390605e+05      6.225802e+05   \n",
       "mz190.9791_RT7.19      2.242764e+09      2.140571e+09      1.950499e+09   \n",
       "\n",
       "                   Must_2023_Plot17  Must_2023_Plot4  Must_2023_Plot9  \\\n",
       "Name                                                                    \n",
       "mz151.0351_RT0.10      1.204106e+09     1.029715e+09     1.129264e+09   \n",
       "mz169.0456_RT0.10      3.529944e+08     3.087450e+08     3.246923e+08   \n",
       "mz219.0262_RT0.12      7.146140e+08     8.834882e+08     9.503769e+08   \n",
       "mz141.0126_RT0.12      4.170462e+05     4.343865e+05     4.278065e+05   \n",
       "mz190.9791_RT7.19      2.115791e+09     2.180337e+09     2.404078e+09   \n",
       "\n",
       "                   Must_2023_Plot5  Must_2023_Plot12  Must_2023_Plot13  \\\n",
       "Name                                                                     \n",
       "mz151.0351_RT0.10     1.106011e+08      9.912120e+08      1.100597e+09   \n",
       "mz169.0456_RT0.10     4.885965e+07      3.281794e+08      3.651248e+08   \n",
       "mz219.0262_RT0.12     2.365683e+08      7.313591e+08      9.342148e+08   \n",
       "mz141.0126_RT0.12     4.275882e+05      7.512533e+05      8.356320e+05   \n",
       "mz190.9791_RT7.19     2.746355e+09      2.366003e+09      1.904476e+09   \n",
       "\n",
       "                   Must_2023_Plot15  ...  PostMLF_2023_Plot4  \\\n",
       "Name                                 ...                       \n",
       "mz151.0351_RT0.10      1.248476e+09  ...        4.817876e+08   \n",
       "mz169.0456_RT0.10      3.946032e+08  ...        1.577158e+08   \n",
       "mz219.0262_RT0.12      7.208672e+08  ...        4.208066e+07   \n",
       "mz141.0126_RT0.12      9.136924e+05  ...        1.982150e+06   \n",
       "mz190.9791_RT7.19      2.143585e+09  ...        9.095932e+08   \n",
       "\n",
       "                   PostMLF_2023_Plot15  PostMLF_2023_Plot5  \\\n",
       "Name                                                         \n",
       "mz151.0351_RT0.10         3.935938e+08        5.168420e+08   \n",
       "mz169.0456_RT0.10         1.282894e+08        1.641127e+08   \n",
       "mz219.0262_RT0.12         8.653881e+07        6.236946e+07   \n",
       "mz141.0126_RT0.12         1.290139e+06        3.421547e+06   \n",
       "mz190.9791_RT7.19         8.094849e+08        1.011924e+09   \n",
       "\n",
       "                   PostMLF_2023_Plot20  PostMLF_2023_Plot17  \\\n",
       "Name                                                          \n",
       "mz151.0351_RT0.10         4.489065e+08         3.986494e+08   \n",
       "mz169.0456_RT0.10         1.597561e+08         1.417255e+08   \n",
       "mz219.0262_RT0.12         6.914756e+07         1.254820e+08   \n",
       "mz141.0126_RT0.12         1.954598e+06         5.319129e+05   \n",
       "mz190.9791_RT7.19         7.908102e+08         7.169030e+08   \n",
       "\n",
       "                   PostMLF_2023_Plot13  PostMLF_2023_Plot14  \\\n",
       "Name                                                          \n",
       "mz151.0351_RT0.10         4.132504e+08         6.061189e+08   \n",
       "mz169.0456_RT0.10         1.467779e+08         2.168822e+06   \n",
       "mz219.0262_RT0.12         2.180300e+07         1.085393e+08   \n",
       "mz141.0126_RT0.12         1.034943e+06         5.792018e+05   \n",
       "mz190.9791_RT7.19         8.348489e+08         1.087321e+09   \n",
       "\n",
       "                   PostMLF_2023_Plot19  PostMLF_2023_Plot9  \\\n",
       "Name                                                         \n",
       "mz151.0351_RT0.10         3.952914e+08        5.593264e+08   \n",
       "mz169.0456_RT0.10         1.448849e+08        1.951365e+08   \n",
       "mz219.0262_RT0.12         2.981520e+07        7.898615e+07   \n",
       "mz141.0126_RT0.12         1.119744e+06        5.680902e+05   \n",
       "mz190.9791_RT7.19         7.907046e+08        1.048445e+09   \n",
       "\n",
       "                   PostMLF_2023_Plot12  \n",
       "Name                                    \n",
       "mz151.0351_RT0.10         4.315676e+08  \n",
       "mz169.0456_RT0.10         1.461857e+08  \n",
       "mz219.0262_RT0.12         4.153041e+07  \n",
       "mz141.0126_RT0.12         1.061720e+06  \n",
       "mz190.9791_RT7.19         8.918962e+08  \n",
       "\n",
       "[5 rows x 52 columns]"
      ]
     },
     "execution_count": 60,
     "metadata": {},
     "output_type": "execute_result"
    }
   ],
   "source": [
    "# Fill empty 'Name' values with 'MW_' + corresponding 'Calc. MW' value\n",
    "df['Name'] = df['Name'].fillna(df.apply(lambda row: f\"mz{row['m/z']:.4f}_RT{row['RT [min]']:.2f}\" if pd.notna(row['m/z']) and pd.notna(row['RT [min]']) else \"Unknown\", axis=1))\n",
    "\n",
    "## SUBSET TO NORMMALIZED SAMPLES \n",
    "# Identify 'Norm. Area' columns that correspond to samples in the list\n",
    "matching_columns = [\n",
    "    col for col in df.columns\n",
    "    if any(sample in col for sample in sample_names) and col.startswith('Norm. Area')]# Create a mapping to rename columns by extracting only the sample name\n",
    "rename_dict = {col: next(sample for sample in sample_names if sample in col) for col in matching_columns}\n",
    "# Select relevant columns and rename them\n",
    "df = df[['Name'] + matching_columns].rename(columns=rename_dict)\n",
    "\n",
    "# Set 'Name' as the index\n",
    "df.set_index('Name', inplace=True)\n",
    "\n",
    "df.head()"
   ]
  },
  {
   "cell_type": "code",
   "execution_count": 61,
   "metadata": {},
   "outputs": [
    {
     "data": {
      "text/html": [
       "<div>\n",
       "<style scoped>\n",
       "    .dataframe tbody tr th:only-of-type {\n",
       "        vertical-align: middle;\n",
       "    }\n",
       "\n",
       "    .dataframe tbody tr th {\n",
       "        vertical-align: top;\n",
       "    }\n",
       "\n",
       "    .dataframe thead th {\n",
       "        text-align: right;\n",
       "    }\n",
       "</style>\n",
       "<table border=\"1\" class=\"dataframe\">\n",
       "  <thead>\n",
       "    <tr style=\"text-align: right;\">\n",
       "      <th></th>\n",
       "      <th>Sample Name</th>\n",
       "      <th>sample_type</th>\n",
       "      <th>year</th>\n",
       "      <th>plot</th>\n",
       "      <th>mz151.0351_RT0.10</th>\n",
       "      <th>mz169.0456_RT0.10</th>\n",
       "      <th>mz219.0262_RT0.12</th>\n",
       "      <th>mz141.0126_RT0.12</th>\n",
       "      <th>mz190.9791_RT7.19</th>\n",
       "      <th>mz149.9526_RT7.19</th>\n",
       "      <th>...</th>\n",
       "      <th>α-Aspartylphenylalanine</th>\n",
       "      <th>α-Aspartylphenylalanine</th>\n",
       "      <th>α-Dehydrobiotin</th>\n",
       "      <th>α-Lactose</th>\n",
       "      <th>α-Methylbiotin</th>\n",
       "      <th>γ-L-glutaminyl-4-hydroxybenzene</th>\n",
       "      <th>γ-L-glutaminyl-4-hydroxybenzene</th>\n",
       "      <th>γ-L-glutamyl-L-leucine</th>\n",
       "      <th>γ-L-glutamyl-L-leucine</th>\n",
       "      <th>γ-Linolenic acid ethyl ester</th>\n",
       "    </tr>\n",
       "  </thead>\n",
       "  <tbody>\n",
       "    <tr>\n",
       "      <th>0</th>\n",
       "      <td>PostMLF_2021_Plot14</td>\n",
       "      <td>PostMLF</td>\n",
       "      <td>2021</td>\n",
       "      <td>Plot14</td>\n",
       "      <td>4.733217e+08</td>\n",
       "      <td>1.458016e+08</td>\n",
       "      <td>1.342342e+07</td>\n",
       "      <td>1.564931e+06</td>\n",
       "      <td>1.034697e+09</td>\n",
       "      <td>1.927616e+08</td>\n",
       "      <td>...</td>\n",
       "      <td>3.477252e+05</td>\n",
       "      <td>2.307151e+06</td>\n",
       "      <td>5.185013e+05</td>\n",
       "      <td>2.296109e+07</td>\n",
       "      <td>266586.780980</td>\n",
       "      <td>251072.362101</td>\n",
       "      <td>4.410323e+05</td>\n",
       "      <td>4.263337e+06</td>\n",
       "      <td>1.322909e+06</td>\n",
       "      <td>4.173555e+05</td>\n",
       "    </tr>\n",
       "    <tr>\n",
       "      <th>1</th>\n",
       "      <td>PostMLF_2021_Plot9</td>\n",
       "      <td>PostMLF</td>\n",
       "      <td>2021</td>\n",
       "      <td>Plot9</td>\n",
       "      <td>5.048350e+08</td>\n",
       "      <td>1.425690e+08</td>\n",
       "      <td>8.127907e+06</td>\n",
       "      <td>1.474838e+06</td>\n",
       "      <td>1.020352e+09</td>\n",
       "      <td>1.869808e+08</td>\n",
       "      <td>...</td>\n",
       "      <td>3.858248e+05</td>\n",
       "      <td>1.483529e+06</td>\n",
       "      <td>3.972452e+05</td>\n",
       "      <td>1.512257e+07</td>\n",
       "      <td>247323.219520</td>\n",
       "      <td>398778.250662</td>\n",
       "      <td>7.931905e+05</td>\n",
       "      <td>6.183243e+06</td>\n",
       "      <td>1.323540e+06</td>\n",
       "      <td>3.993300e+05</td>\n",
       "    </tr>\n",
       "    <tr>\n",
       "      <th>2</th>\n",
       "      <td>PostMLF_2021_Plot15</td>\n",
       "      <td>PostMLF</td>\n",
       "      <td>2021</td>\n",
       "      <td>Plot15</td>\n",
       "      <td>4.450788e+08</td>\n",
       "      <td>1.287349e+08</td>\n",
       "      <td>1.806459e+07</td>\n",
       "      <td>2.360508e+06</td>\n",
       "      <td>9.307549e+08</td>\n",
       "      <td>1.717203e+08</td>\n",
       "      <td>...</td>\n",
       "      <td>2.608673e+05</td>\n",
       "      <td>1.218210e+06</td>\n",
       "      <td>4.567842e+05</td>\n",
       "      <td>1.592785e+07</td>\n",
       "      <td>225365.199301</td>\n",
       "      <td>230675.566115</td>\n",
       "      <td>3.620907e+05</td>\n",
       "      <td>4.230207e+06</td>\n",
       "      <td>1.438127e+07</td>\n",
       "      <td>4.055137e+05</td>\n",
       "    </tr>\n",
       "    <tr>\n",
       "      <th>3</th>\n",
       "      <td>PostMLF_2021_Plot12</td>\n",
       "      <td>PostMLF</td>\n",
       "      <td>2021</td>\n",
       "      <td>Plot12</td>\n",
       "      <td>4.304416e+07</td>\n",
       "      <td>2.246791e+07</td>\n",
       "      <td>3.174929e+05</td>\n",
       "      <td>5.482286e+05</td>\n",
       "      <td>3.310569e+09</td>\n",
       "      <td>6.080512e+08</td>\n",
       "      <td>...</td>\n",
       "      <td>7.083360e+05</td>\n",
       "      <td>9.720946e+05</td>\n",
       "      <td>1.386647e+06</td>\n",
       "      <td>1.368166e+06</td>\n",
       "      <td>806934.139860</td>\n",
       "      <td>234766.960041</td>\n",
       "      <td>8.525567e+05</td>\n",
       "      <td>2.969781e+05</td>\n",
       "      <td>3.918385e+05</td>\n",
       "      <td>1.172564e+06</td>\n",
       "    </tr>\n",
       "    <tr>\n",
       "      <th>4</th>\n",
       "      <td>PostMLF_2021_Plot17</td>\n",
       "      <td>PostMLF</td>\n",
       "      <td>2021</td>\n",
       "      <td>Plot17</td>\n",
       "      <td>4.381626e+08</td>\n",
       "      <td>1.209767e+08</td>\n",
       "      <td>5.714480e+06</td>\n",
       "      <td>9.778156e+05</td>\n",
       "      <td>8.204838e+08</td>\n",
       "      <td>1.628189e+08</td>\n",
       "      <td>...</td>\n",
       "      <td>2.356091e+06</td>\n",
       "      <td>2.163101e+06</td>\n",
       "      <td>3.984899e+05</td>\n",
       "      <td>1.621637e+07</td>\n",
       "      <td>231598.531579</td>\n",
       "      <td>502487.358990</td>\n",
       "      <td>1.201365e+06</td>\n",
       "      <td>7.555596e+06</td>\n",
       "      <td>1.314372e+06</td>\n",
       "      <td>3.369838e+05</td>\n",
       "    </tr>\n",
       "  </tbody>\n",
       "</table>\n",
       "<p>5 rows × 6209 columns</p>\n",
       "</div>"
      ],
      "text/plain": [
       "           Sample Name sample_type  year    plot  mz151.0351_RT0.10  \\\n",
       "0  PostMLF_2021_Plot14     PostMLF  2021  Plot14       4.733217e+08   \n",
       "1   PostMLF_2021_Plot9     PostMLF  2021   Plot9       5.048350e+08   \n",
       "2  PostMLF_2021_Plot15     PostMLF  2021  Plot15       4.450788e+08   \n",
       "3  PostMLF_2021_Plot12     PostMLF  2021  Plot12       4.304416e+07   \n",
       "4  PostMLF_2021_Plot17     PostMLF  2021  Plot17       4.381626e+08   \n",
       "\n",
       "   mz169.0456_RT0.10  mz219.0262_RT0.12  mz141.0126_RT0.12  mz190.9791_RT7.19  \\\n",
       "0       1.458016e+08       1.342342e+07       1.564931e+06       1.034697e+09   \n",
       "1       1.425690e+08       8.127907e+06       1.474838e+06       1.020352e+09   \n",
       "2       1.287349e+08       1.806459e+07       2.360508e+06       9.307549e+08   \n",
       "3       2.246791e+07       3.174929e+05       5.482286e+05       3.310569e+09   \n",
       "4       1.209767e+08       5.714480e+06       9.778156e+05       8.204838e+08   \n",
       "\n",
       "   mz149.9526_RT7.19  ...  α-Aspartylphenylalanine  α-Aspartylphenylalanine  \\\n",
       "0       1.927616e+08  ...             3.477252e+05             2.307151e+06   \n",
       "1       1.869808e+08  ...             3.858248e+05             1.483529e+06   \n",
       "2       1.717203e+08  ...             2.608673e+05             1.218210e+06   \n",
       "3       6.080512e+08  ...             7.083360e+05             9.720946e+05   \n",
       "4       1.628189e+08  ...             2.356091e+06             2.163101e+06   \n",
       "\n",
       "   α-Dehydrobiotin     α-Lactose  α-Methylbiotin  \\\n",
       "0     5.185013e+05  2.296109e+07   266586.780980   \n",
       "1     3.972452e+05  1.512257e+07   247323.219520   \n",
       "2     4.567842e+05  1.592785e+07   225365.199301   \n",
       "3     1.386647e+06  1.368166e+06   806934.139860   \n",
       "4     3.984899e+05  1.621637e+07   231598.531579   \n",
       "\n",
       "   γ-L-glutaminyl-4-hydroxybenzene  γ-L-glutaminyl-4-hydroxybenzene  \\\n",
       "0                    251072.362101                     4.410323e+05   \n",
       "1                    398778.250662                     7.931905e+05   \n",
       "2                    230675.566115                     3.620907e+05   \n",
       "3                    234766.960041                     8.525567e+05   \n",
       "4                    502487.358990                     1.201365e+06   \n",
       "\n",
       "   γ-L-glutamyl-L-leucine  γ-L-glutamyl-L-leucine  \\\n",
       "0            4.263337e+06            1.322909e+06   \n",
       "1            6.183243e+06            1.323540e+06   \n",
       "2            4.230207e+06            1.438127e+07   \n",
       "3            2.969781e+05            3.918385e+05   \n",
       "4            7.555596e+06            1.314372e+06   \n",
       "\n",
       "   γ-Linolenic acid ethyl ester  \n",
       "0                  4.173555e+05  \n",
       "1                  3.993300e+05  \n",
       "2                  4.055137e+05  \n",
       "3                  1.172564e+06  \n",
       "4                  3.369838e+05  \n",
       "\n",
       "[5 rows x 6209 columns]"
      ]
     },
     "execution_count": 61,
     "metadata": {},
     "output_type": "execute_result"
    }
   ],
   "source": [
    "## MERGE samples with metadata\n",
    "df = df.T  # Transpose so samples are rows, features are columns\n",
    "df.index.name = 'Sample Name'\n",
    "\n",
    "# Merge metadata with metabolomics data\n",
    "df_wMetadata = sample_md.merge(df, on='Sample Name')\n",
    "\n",
    "df_wMetadata.head()"
   ]
  },
  {
   "cell_type": "code",
   "execution_count": 62,
   "metadata": {},
   "outputs": [
    {
     "data": {
      "text/plain": [
       "(52, 6209)"
      ]
     },
     "execution_count": 62,
     "metadata": {},
     "output_type": "execute_result"
    }
   ],
   "source": [
    "df_wMetadata.shape"
   ]
  },
  {
   "cell_type": "code",
   "execution_count": 63,
   "metadata": {},
   "outputs": [
    {
     "name": "stderr",
     "output_type": "stream",
     "text": [
      "/scratch/lfloerl/tmpdata/ipykernel_2448502/1636856459.py:9: FutureWarning: DataFrame.groupby with axis=1 is deprecated. Do `frame.T.groupby(...)` without axis instead.\n",
      "  data_summed = data.groupby(data.columns, axis=1).sum()\n"
     ]
    },
    {
     "data": {
      "text/plain": [
       "(52, 5773)"
      ]
     },
     "execution_count": 63,
     "metadata": {},
     "output_type": "execute_result"
    }
   ],
   "source": [
    "# Sum up duplicated Columns: features with the same mz/RT\n",
    "metadata_columns = ['Sample Name', 'sample_type', 'year', 'plot']\n",
    "\n",
    "# Separate metadata and data columns\n",
    "metadata = df_wMetadata[metadata_columns]\n",
    "data = df_wMetadata.drop(columns=metadata_columns)\n",
    "\n",
    "# Sum up duplicate columns in the data part\n",
    "data_summed = data.groupby(data.columns, axis=1).sum()\n",
    "\n",
    "# Combine metadata and summed data\n",
    "df_wMetadata = pd.concat([metadata, data_summed], axis=1)\n",
    "\n",
    "df_wMetadata.shape"
   ]
  },
  {
   "cell_type": "markdown",
   "metadata": {},
   "source": [
    "### Alpha Diversity \n",
    "> check before normalizing \n",
    "\n",
    "#### Shannon Entropy"
   ]
  },
  {
   "cell_type": "code",
   "execution_count": 64,
   "metadata": {},
   "outputs": [],
   "source": [
    "# Shannon entropy calculation\n",
    "def shannon_entropy(values):\n",
    "    \"\"\"Calculate Shannon entropy for a given array of values.\"\"\"\n",
    "    # Normalize the values to get probabilities\n",
    "    value_counts = values.value_counts(normalize=True)\n",
    "    return entropy(value_counts)\n",
    "\n",
    "# Function to apply Shannon entropy to the dataframe\n",
    "def shannon_diversity_df(df):\n",
    "    \"\"\"Calculate Shannon Diversity for each column in a DataFrame.\"\"\"\n",
    "    shannon_diversity_values = {}\n",
    "    for column in df.columns:\n",
    "        shannon_diversity_values[column] = shannon_entropy(df[column])\n",
    "    return pd.Series(shannon_diversity_values)"
   ]
  },
  {
   "cell_type": "code",
   "execution_count": 65,
   "metadata": {},
   "outputs": [],
   "source": [
    " # Apply Shannon entropy calculation to the collapsed data\n",
    "shannon_diversity_results = df_wMetadata.apply(shannon_entropy, axis=1)\n",
    "\n",
    "# Add the Shannon diversity values to a new dataframe with 'Sample Type' and 'Year'\n",
    "shannon_diversity_df = pd.DataFrame({\n",
    "    'Sample Type': df_wMetadata['sample_type'],  # Assuming 'sample_type' is a column\n",
    "    'Year': df_wMetadata['year'],  # Assuming 'year' is a column\n",
    "    'Shannon Diversity': shannon_diversity_results\n",
    "})"
   ]
  },
  {
   "cell_type": "code",
   "execution_count": 66,
   "metadata": {},
   "outputs": [
    {
     "name": "stdout",
     "output_type": "stream",
     "text": [
      "SHANNON postMLF ANOVAS\n",
      "ANOVA 2023 vs 2022 p-value: 0.050758608405154865\n",
      "ANOVA 2023 vs 2021 p-value: 0.24062870289716015\n",
      "ANOVA 2022 vs 2021 p-value: 0.44495660924613\n"
     ]
    }
   ],
   "source": [
    "# Group by 'Year' and 'Sample Type' for Shannon index\n",
    "shannon_grouped = shannon_diversity_df.groupby(['Year', 'Sample Type'])['Shannon Diversity']\n",
    "\n",
    "# Extract values for each group\n",
    "group_postMLF_2023_shannon = shannon_grouped.get_group(('2023', 'PostMLF'))\n",
    "group_postMLF_2022_shannon = shannon_grouped.get_group(('2022', 'PostMLF'))\n",
    "group_postMLF_2021_shannon = shannon_grouped.get_group(('2021', 'PostMLF'))\n",
    "\n",
    "# Perform ANOVA tests\n",
    "print('SHANNON postMLF ANOVAS')\n",
    "anova_result = f_oneway(group_postMLF_2023_shannon, group_postMLF_2022_shannon)\n",
    "print(\"ANOVA 2023 vs 2022 p-value:\", anova_result.pvalue)\n",
    "\n",
    "anova_result = f_oneway(group_postMLF_2023_shannon, group_postMLF_2021_shannon)\n",
    "print(\"ANOVA 2023 vs 2021 p-value:\", anova_result.pvalue)\n",
    "\n",
    "anova_result = f_oneway(group_postMLF_2022_shannon, group_postMLF_2021_shannon)\n",
    "print(\"ANOVA 2022 vs 2021 p-value:\", anova_result.pvalue)"
   ]
  },
  {
   "cell_type": "code",
   "execution_count": 67,
   "metadata": {},
   "outputs": [
    {
     "data": {
      "image/png": "[encoded data removed]",
      "text/plain": [
       "<Figure size 400x300 with 1 Axes>"
      ]
     },
     "metadata": {},
     "output_type": "display_data"
    }
   ],
   "source": [
    "# Plot box plots\n",
    "plt.figure(figsize=(4, 3))\n",
    "sns.boxplot(data=shannon_diversity_df, x='Sample Type', y='Shannon Diversity', hue='Year', dodge=True, palette=\"viridis\")\n",
    "plt.title('')\n",
    "plt.xlabel('')\n",
    "plt.ylabel('Shannon Diversity')\n",
    "plt.legend(title='Year')\n",
    "plt.tight_layout() \n",
    "plt.show()"
   ]
  },
  {
   "cell_type": "markdown",
   "metadata": {},
   "source": [
    "#### Richness"
   ]
  },
  {
   "cell_type": "code",
   "execution_count": 68,
   "metadata": {},
   "outputs": [],
   "source": [
    "def richness(df):\n",
    "    \"\"\"Calculate richness (number of unique values) for each row in the DataFrame.\"\"\"\n",
    "    return df.apply(lambda x: x.nunique(), axis=1)"
   ]
  },
  {
   "cell_type": "code",
   "execution_count": 69,
   "metadata": {},
   "outputs": [],
   "source": [
    "# Calculate richness for each sample (row)\n",
    "richness_values = richness(df_wMetadata.iloc[:, 3:])\n",
    "\n",
    "# Create a DataFrame with richness values\n",
    "richness_df = pd.DataFrame(richness_values, columns=['Richness']).reset_index()\n",
    "\n",
    "# Extract 'Sample Type' and 'Year' from the index or metadata columns\n",
    "richness_df['Sample Type'] = df_wMetadata['sample_type'].values\n",
    "richness_df['Year'] = df_wMetadata['year'].values"
   ]
  },
  {
   "cell_type": "code",
   "execution_count": 70,
   "metadata": {},
   "outputs": [
    {
     "name": "stdout",
     "output_type": "stream",
     "text": [
      "RICHNESS postMLF ANOVAS\n",
      "ANOVA 2023 vs 2022 p-value: 0.026414310231402453\n",
      "ANOVA 2023 vs 2021 p-value: 0.24920527856917432\n",
      "ANOVA 2022 vs 2021 p-value: 0.4852760409533142\n"
     ]
    }
   ],
   "source": [
    "richness_grouped = richness_df.groupby(['Year', 'Sample Type'])['Richness']\n",
    "\n",
    "# Extract values for each group\n",
    "group_postMLF_2023_values = richness_grouped.get_group(('2023', 'PostMLF'))\n",
    "group_postMLF_2022_values = richness_grouped.get_group(('2022', 'PostMLF'))\n",
    "group_postMLF_2021_values = richness_grouped.get_group(('2021', 'PostMLF'))\n",
    "\n",
    "# Perform ANOVA tests\n",
    "print('RICHNESS postMLF ANOVAS')\n",
    "anova_result = f_oneway(group_postMLF_2023_values, group_postMLF_2022_values)\n",
    "print(\"ANOVA 2023 vs 2022 p-value:\", anova_result.pvalue)\n",
    "anova_result = f_oneway(group_postMLF_2023_values, group_postMLF_2021_values)\n",
    "print(\"ANOVA 2023 vs 2021 p-value:\", anova_result.pvalue)\n",
    "anova_result = f_oneway(group_postMLF_2022_values, group_postMLF_2021_values)\n",
    "print(\"ANOVA 2022 vs 2021 p-value:\", anova_result.pvalue)"
   ]
  },
  {
   "cell_type": "code",
   "execution_count": 71,
   "metadata": {},
   "outputs": [
    {
     "data": {
      "image/png": "[encoded data removed]",
      "text/plain": [
       "<Figure size 400x300 with 1 Axes>"
      ]
     },
     "metadata": {},
     "output_type": "display_data"
    }
   ],
   "source": [
    "# Plot box plots\n",
    "plt.figure(figsize=(4, 3))\n",
    "sns.boxplot(data=richness_df, x='Sample Type', y='Richness', hue='Year', dodge=True, palette=\"viridis\")\n",
    "plt.title('')\n",
    "plt.xlabel('')\n",
    "plt.ylabel('Richness')\n",
    "plt.legend(title='Year')\n",
    "plt.tight_layout()\n",
    "plt.show()"
   ]
  },
  {
   "cell_type": "markdown",
   "metadata": {},
   "source": [
    "### Normalize & Transform Data\n",
    "\n",
    "1. Log Transformation to reduce skewness.\n",
    "2. Pareto/Auto-scaling (Z-score normalization) for better comparison."
   ]
  },
  {
   "cell_type": "code",
   "execution_count": 72,
   "metadata": {},
   "outputs": [],
   "source": [
    "df_wMetadata.iloc[:, 4:] = np.log1p(df_wMetadata.iloc[:, 4:])  # Log transform\n",
    "scaler = StandardScaler()\n",
    "df_wMetadata.iloc[:, 4:] = scaler.fit_transform(df_wMetadata.iloc[:, 4:])\n",
    "\n",
    "df_wMetadata.set_index('Sample Name', inplace=True)"
   ]
  },
  {
   "cell_type": "code",
   "execution_count": 73,
   "metadata": {},
   "outputs": [
    {
     "data": {
      "text/plain": [
       "(52, 5772)"
      ]
     },
     "execution_count": 73,
     "metadata": {},
     "output_type": "execute_result"
    }
   ],
   "source": [
    "df_wMetadata.shape"
   ]
  },
  {
   "cell_type": "markdown",
   "metadata": {},
   "source": [
    "### Remove outliers"
   ]
  },
  {
   "cell_type": "code",
   "execution_count": 74,
   "metadata": {},
   "outputs": [
    {
     "data": {
      "image/png": "[encoded data removed]",
      "text/plain": [
       "<Figure size 600x500 with 1 Axes>"
      ]
     },
     "metadata": {},
     "output_type": "display_data"
    }
   ],
   "source": [
    "pca = PCA(n_components=2)\n",
    "pca_scores = pca.fit_transform(df_wMetadata.iloc[:, 3:])\n",
    "\n",
    "df_pca = df_wMetadata[['sample_type', 'year', 'plot']].copy()\n",
    "df_pca['PC1'], df_pca['PC2'] = pca_scores[:, 0], pca_scores[:, 1]\n",
    "\n",
    "sample_type_palette = {'Must': '#482677FF', 'PostAF': '#238A8DFF','PostMLF': '#74D055FF'}\n",
    "\n",
    "plt.figure(figsize=(6,5))\n",
    "sns.scatterplot(data=df_pca, x='PC1', y='PC2', hue='sample_type', style='year', palette=sample_type_palette)\n",
    "plt.title('PCA: normalized data')\n",
    "plt.show()\n"
   ]
  },
  {
   "cell_type": "markdown",
   "metadata": {},
   "source": [
    "The Post-MLF 2021 samples appear to be outliers - we apply an Isolation Forest to clear this up\n",
    "\n",
    "> Alternative: Apply Isolation Forest on PCA Scores? "
   ]
  },
  {
   "cell_type": "code",
   "execution_count": 75,
   "metadata": {},
   "outputs": [
    {
     "data": {
      "text/plain": [
       "(49, 5772)"
      ]
     },
     "execution_count": 75,
     "metadata": {},
     "output_type": "execute_result"
    }
   ],
   "source": [
    "iso_forest = IsolationForest(contamination=0.05, random_state=42)\n",
    "outlier_labels = iso_forest.fit_predict(df_wMetadata.iloc[:, 4:])  # Fit on normalized data\n",
    "\n",
    "# Remove outliers (label = -1)\n",
    "df_wMetadata_cleaned = df_wMetadata[outlier_labels == 1]\n",
    "df_wMetadata_cleaned.shape"
   ]
  },
  {
   "cell_type": "code",
   "execution_count": 76,
   "metadata": {},
   "outputs": [
    {
     "data": {
      "image/png": "[encoded data removed]",
      "text/plain": [
       "<Figure size 600x500 with 1 Axes>"
      ]
     },
     "metadata": {},
     "output_type": "display_data"
    }
   ],
   "source": [
    "pca = PCA(n_components=2)\n",
    "pca_scores = pca.fit_transform(df_wMetadata_cleaned.iloc[:, 3:])\n",
    "\n",
    "df_pca = df_wMetadata_cleaned[['sample_type', 'year', 'plot']].copy()\n",
    "df_pca['PC1'], df_pca['PC2'] = pca_scores[:, 0], pca_scores[:, 1]\n",
    "\n",
    "plt.figure(figsize=(6,5))\n",
    "sns.scatterplot(data=df_pca, x='PC1', y='PC2', hue='sample_type', style='year', palette = sample_type_palette)\n",
    "plt.title('PCA: normalized data, outliers removed')\n",
    "plt.show()\n"
   ]
  },
  {
   "cell_type": "code",
   "execution_count": 77,
   "metadata": {},
   "outputs": [],
   "source": [
    "# save\n",
    "df_wMetadata_cleaned.to_csv('Pos_All_OutlierRemoved.csv')"
   ]
  }
 ],
 "metadata": {
  "kernelspec": {
   "display_name": "qiime2-amplicon-2024.10",
   "language": "python",
   "name": "python3"
  },
  "language_info": {
   "codemirror_mode": {
    "name": "ipython",
    "version": 3
   },
   "file_extension": ".py",
   "mimetype": "text/x-python",
   "name": "python",
   "nbconvert_exporter": "python",
   "pygments_lexer": "ipython3",
   "version": "3.10.14"
  }
 },
 "nbformat": 4,
 "nbformat_minor": 2
}
